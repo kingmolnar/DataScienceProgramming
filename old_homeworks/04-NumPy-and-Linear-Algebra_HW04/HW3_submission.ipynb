{
 "cells": [
  {
   "cell_type": "code",
   "execution_count": null,
   "metadata": {
    "collapsed": true
   },
   "outputs": [],
   "source": [
    "%%sh\n",
    "cat << EOF > hw3_answers.py\n",
    "\n",
    "import numpy as np\n",
    "import math as ma\n",
    "\n",
    "EOF"
   ]
  },
  {
   "cell_type": "code",
   "execution_count": 2,
   "metadata": {
    "ExecuteTime": {
     "end_time": "2017-08-28T18:26:00.295216",
     "start_time": "2017-08-28T18:26:00.280577"
    },
    "collapsed": true
   },
   "outputs": [],
   "source": [
    "%%sh\n",
    "cat << EOF >> hw3_answers.py\n",
    "\n",
    "def load_data(): # add your arguments!\n",
    "    pass # replace this line with your code for question 1\n",
    "\n",
    "EOF"
   ]
  },
  {
   "cell_type": "code",
   "execution_count": 3,
   "metadata": {
    "ExecuteTime": {
     "end_time": "2017-08-28T18:26:00.356641",
     "start_time": "2017-08-28T18:26:00.343858"
    },
    "collapsed": true
   },
   "outputs": [],
   "source": [
    "%%sh\n",
    "cat << EOF >> hw3_answers.py\n",
    "\n",
    "def count_new(): # add your arguments!\n",
    "    pass # replace this line with your code for question 2\n",
    "\n",
    "EOF"
   ]
  },
  {
   "cell_type": "code",
   "execution_count": 4,
   "metadata": {
    "ExecuteTime": {
     "end_time": "2017-08-28T18:26:00.356641",
     "start_time": "2017-08-28T18:26:00.343858"
    },
    "collapsed": true
   },
   "outputs": [],
   "source": [
    "%%sh\n",
    "cat << EOF >> hw3_answers.py\n",
    "\n",
    "def get_heaviest_new(): # add your arguments!\n",
    "    pass # replace this line with your code for question 3\n",
    "\n",
    "EOF"
   ]
  },
  {
   "cell_type": "code",
   "execution_count": 5,
   "metadata": {
    "ExecuteTime": {
     "end_time": "2017-08-28T18:26:00.356641",
     "start_time": "2017-08-28T18:26:00.343858"
    },
    "collapsed": true
   },
   "outputs": [],
   "source": [
    "%%sh\n",
    "cat << EOF >> hw3_answers.py\n",
    "\n",
    "def price_summary_new(): # add your arguments!\n",
    "    pass # replace this line with your code for question 4\n",
    "\n",
    "EOF"
   ]
  },
  {
   "cell_type": "code",
   "execution_count": 6,
   "metadata": {
    "ExecuteTime": {
     "end_time": "2017-08-28T18:26:00.356641",
     "start_time": "2017-08-28T18:26:00.343858"
    },
    "collapsed": true
   },
   "outputs": [],
   "source": [
    "%%sh\n",
    "cat << EOF >> hw3_answers.py\n",
    "\n",
    "def bad_resolution(): # add your arguments!\n",
    "    pass # replace this line with your code for question 5\n",
    "\n",
    "EOF"
   ]
  },
  {
   "cell_type": "code",
   "execution_count": null,
   "metadata": {
    "collapsed": true
   },
   "outputs": [],
   "source": [
    "%%sh\n",
    "cat << EOF >> hw3_answers.py\n",
    "\n",
    "def resolution_fit(): # add your arguments!\n",
    "    pass # replace this line with your code for question 6\n",
    "\n",
    "EOF"
   ]
  }
 ],
 "metadata": {
  "kernelspec": {
   "display_name": "Python 2",
   "language": "python",
   "name": "python2"
  },
  "language_info": {
   "codemirror_mode": {
    "name": "ipython",
    "version": 2
   },
   "file_extension": ".py",
   "mimetype": "text/x-python",
   "name": "python",
   "nbconvert_exporter": "python",
   "pygments_lexer": "ipython2",
   "version": "2.7.5"
  },
  "toc": {
   "nav_menu": {
    "height": "12px",
    "width": "252px"
   },
   "navigate_menu": true,
   "number_sections": true,
   "sideBar": true,
   "threshold": 4,
   "toc_cell": false,
   "toc_section_display": "block",
   "toc_window_display": false
  }
 },
 "nbformat": 4,
 "nbformat_minor": 0
}
