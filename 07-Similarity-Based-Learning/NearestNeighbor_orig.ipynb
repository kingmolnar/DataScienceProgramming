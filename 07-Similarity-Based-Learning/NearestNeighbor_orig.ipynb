{
 "cells": [
  {
   "cell_type": "markdown",
   "id": "9a52b227-b461-4a02-99bb-cf97ba1ec1f4",
   "metadata": {},
   "source": [
    "# Similaritity-based Learning - *k*-Nearest-Neighbor"
   ]
  },
  {
   "cell_type": "code",
   "execution_count": null,
   "id": "9b00779f-fca0-47bd-840a-703566071bbc",
   "metadata": {},
   "outputs": [],
   "source": [
    "%reload_ext autoreload\n",
    "%autoreload 2"
   ]
  },
  {
   "cell_type": "code",
   "execution_count": 7,
   "id": "ee362bad-d9cd-4c0c-a4e7-1006afb86205",
   "metadata": {},
   "outputs": [],
   "source": [
    "import os\n",
    "import sys\n",
    "import pandas as pd\n",
    "import numpy as np\n",
    "import matplotlib.pyplot as plt\n",
    "from sklearn import datasets\n",
    "from sklearn.model_selection import train_test_split\n",
    "from sklearn.preprocessing import StandardScaler\n",
    "import seaborn as sn # For data sets"
   ]
  },
  {
   "cell_type": "code",
   "execution_count": null,
   "id": "ea9b7f87-bf8c-462a-854b-6db5b2eca601",
   "metadata": {},
   "outputs": [],
   "source": []
  },
  {
   "cell_type": "markdown",
   "id": "1b2dba1e-3244-4068-92a8-d1aad11fd2c8",
   "metadata": {},
   "source": [
    "# Create a K-Nearest Neighbors Algorithm from Scratch in Python\n",
    "\n",
    "- https://towardsdatascience.com/create-your-own-k-nearest-neighbors-algorithm-in-python-eb7093fc6339\n",
    "- https://github.com/turnerluke/ML-algos/blob/main/knn/knn.py\n"
   ]
  },
  {
   "cell_type": "markdown",
   "id": "d49b07ef-524d-492d-a532-37b3312bed5c",
   "metadata": {},
   "source": [
    "Define functions and a Python class for the ML model"
   ]
  },
  {
   "cell_type": "code",
   "execution_count": 3,
   "id": "5a8c6430-bcd4-43db-b492-098af8397464",
   "metadata": {},
   "outputs": [],
   "source": [
    "def most_common(lst):\n",
    "    return max(set(lst), key=lst.count)\n",
    "\n",
    "\n",
    "def euclidean(point, data):\n",
    "    # Euclidean distance between points a & data\n",
    "    return np.sqrt(np.sum((point - data)**2, axis=1))\n",
    "\n",
    "\n",
    "class KNeighborsClassifier():\n",
    "    def __init__(self, k=5, dist_metric=euclidean):\n",
    "        self.k = k\n",
    "        self.dist_metric = dist_metric\n",
    "\n",
    "    def fit(self, X_train, y_train):\n",
    "        self.X_train = X_train\n",
    "        self.y_train = y_train\n",
    "\n",
    "    def predict(self, X_test):\n",
    "        neighbors = []\n",
    "        for x in X_test:\n",
    "            distances = self.dist_metric(x, self.X_train)\n",
    "            y_sorted = [y for _, y in sorted(zip(distances, self.y_train))]\n",
    "            neighbors.append(y_sorted[:self.k])\n",
    "\n",
    "        return list(map(most_common, neighbors))\n",
    "\n",
    "    def evaluate(self, X_test, y_test):\n",
    "        y_pred = self.predict(X_test)\n",
    "        accuracy = sum(y_pred == y_test) / len(y_test)\n",
    "        return accuracy"
   ]
  },
  {
   "cell_type": "markdown",
   "id": "8c03fee5-9da8-4cad-8416-d599b44d9c77",
   "metadata": {},
   "source": [
    "## Example with IRIS data set"
   ]
  },
  {
   "cell_type": "code",
   "execution_count": null,
   "id": "a59711bd-cb4e-4b50-8aba-c020a5e1795e",
   "metadata": {},
   "outputs": [],
   "source": [
    "# Unpack the iris dataset, from UCI Machine Learning Repository\n",
    "iris = datasets.load_iris()\n",
    "X = iris['data']\n",
    "y = iris['target']\n",
    "\n",
    "# Split data into train & test sets\n",
    "X_train, X_test, y_train, y_test = train_test_split(X, y, test_size=0.2)\n",
    "\n",
    "# Preprocess data\n",
    "ss = StandardScaler().fit(X_train)\n",
    "X_train, X_test = ss.transform(X_train), ss.transform(X_test)\n",
    "\n",
    "# Test knn model across varying ks\n",
    "accuracies = []\n",
    "ks = range(1, 101)\n",
    "for k in ks:\n",
    "    knn = KNeighborsClassifier(k=k)\n",
    "    knn.fit(X_train, y_train)\n",
    "    accuracy = knn.evaluate(X_test, y_test)\n",
    "    accuracies.append(accuracy)\n",
    "\n",
    "# Visualize accuracy vs. k\n",
    "fig, ax = plt.subplots()\n",
    "ax.plot(ks, accuracies)\n",
    "ax.set(xlabel=\"k\",\n",
    "       ylabel=\"Accuracy\",\n",
    "       title=\"Performance of knn\")\n",
    "plt.show()"
   ]
  },
  {
   "cell_type": "markdown",
   "id": "cadd8770-b651-467e-86f2-2d55eda915b5",
   "metadata": {},
   "source": [
    "## Penguins"
   ]
  },
  {
   "cell_type": "code",
   "execution_count": 6,
   "id": "35ae7310-0eaa-4f07-801f-7eeed4f7e38d",
   "metadata": {},
   "outputs": [
    {
     "name": "stdout",
     "output_type": "stream",
     "text": [
      "(344, 7)\n"
     ]
    }
   ],
   "source": [
    "penguins = sn.load_dataset('penguins')\n",
    "print(penguins.shape)"
   ]
  },
  {
   "cell_type": "code",
   "execution_count": 15,
   "id": "9f3f9370-9966-4734-bffb-7a7c0763ad69",
   "metadata": {},
   "outputs": [
    {
     "data": {
      "text/html": [
       "<div>\n",
       "<style scoped>\n",
       "    .dataframe tbody tr th:only-of-type {\n",
       "        vertical-align: middle;\n",
       "    }\n",
       "\n",
       "    .dataframe tbody tr th {\n",
       "        vertical-align: top;\n",
       "    }\n",
       "\n",
       "    .dataframe thead th {\n",
       "        text-align: right;\n",
       "    }\n",
       "</style>\n",
       "<table border=\"1\" class=\"dataframe\">\n",
       "  <thead>\n",
       "    <tr style=\"text-align: right;\">\n",
       "      <th></th>\n",
       "      <th>species</th>\n",
       "      <th>island</th>\n",
       "      <th>sex</th>\n",
       "      <th>N</th>\n",
       "    </tr>\n",
       "  </thead>\n",
       "  <tbody>\n",
       "    <tr>\n",
       "      <th>0</th>\n",
       "      <td>Adelie</td>\n",
       "      <td>Biscoe</td>\n",
       "      <td>Female</td>\n",
       "      <td>22</td>\n",
       "    </tr>\n",
       "    <tr>\n",
       "      <th>1</th>\n",
       "      <td>Adelie</td>\n",
       "      <td>Biscoe</td>\n",
       "      <td>Male</td>\n",
       "      <td>22</td>\n",
       "    </tr>\n",
       "    <tr>\n",
       "      <th>2</th>\n",
       "      <td>Adelie</td>\n",
       "      <td>Dream</td>\n",
       "      <td>Female</td>\n",
       "      <td>27</td>\n",
       "    </tr>\n",
       "    <tr>\n",
       "      <th>3</th>\n",
       "      <td>Adelie</td>\n",
       "      <td>Dream</td>\n",
       "      <td>Male</td>\n",
       "      <td>28</td>\n",
       "    </tr>\n",
       "    <tr>\n",
       "      <th>4</th>\n",
       "      <td>Adelie</td>\n",
       "      <td>Torgersen</td>\n",
       "      <td>Female</td>\n",
       "      <td>24</td>\n",
       "    </tr>\n",
       "    <tr>\n",
       "      <th>5</th>\n",
       "      <td>Adelie</td>\n",
       "      <td>Torgersen</td>\n",
       "      <td>Male</td>\n",
       "      <td>23</td>\n",
       "    </tr>\n",
       "    <tr>\n",
       "      <th>6</th>\n",
       "      <td>Chinstrap</td>\n",
       "      <td>Dream</td>\n",
       "      <td>Female</td>\n",
       "      <td>34</td>\n",
       "    </tr>\n",
       "    <tr>\n",
       "      <th>7</th>\n",
       "      <td>Chinstrap</td>\n",
       "      <td>Dream</td>\n",
       "      <td>Male</td>\n",
       "      <td>34</td>\n",
       "    </tr>\n",
       "    <tr>\n",
       "      <th>8</th>\n",
       "      <td>Gentoo</td>\n",
       "      <td>Biscoe</td>\n",
       "      <td>Female</td>\n",
       "      <td>58</td>\n",
       "    </tr>\n",
       "    <tr>\n",
       "      <th>9</th>\n",
       "      <td>Gentoo</td>\n",
       "      <td>Biscoe</td>\n",
       "      <td>Male</td>\n",
       "      <td>61</td>\n",
       "    </tr>\n",
       "  </tbody>\n",
       "</table>\n",
       "</div>"
      ],
      "text/plain": [
       "     species     island     sex   N\n",
       "0     Adelie     Biscoe  Female  22\n",
       "1     Adelie     Biscoe    Male  22\n",
       "2     Adelie      Dream  Female  27\n",
       "3     Adelie      Dream    Male  28\n",
       "4     Adelie  Torgersen  Female  24\n",
       "5     Adelie  Torgersen    Male  23\n",
       "6  Chinstrap      Dream  Female  34\n",
       "7  Chinstrap      Dream    Male  34\n",
       "8     Gentoo     Biscoe  Female  58\n",
       "9     Gentoo     Biscoe    Male  61"
      ]
     },
     "execution_count": 15,
     "metadata": {},
     "output_type": "execute_result"
    }
   ],
   "source": [
    "penguins.groupby(['species', 'island', 'sex'])['body_mass_g'] \\\n",
    "    .count() \\\n",
    "    .reset_index() \\\n",
    "    .rename({'body_mass_g': 'N'}, axis=1)"
   ]
  },
  {
   "cell_type": "code",
   "execution_count": null,
   "id": "34ab4b6c-5a79-4fe6-910b-7e283629007d",
   "metadata": {},
   "outputs": [],
   "source": []
  },
  {
   "cell_type": "markdown",
   "id": "14ee8bcb-a61b-4516-b456-771510d200d0",
   "metadata": {},
   "source": [
    "# Text embedding - Vector Database"
   ]
  },
  {
   "cell_type": "code",
   "execution_count": 16,
   "id": "374f9dc8-452f-44fa-b89e-b1c386dc5709",
   "metadata": {},
   "outputs": [
    {
     "name": "stdout",
     "output_type": "stream",
     "text": [
      "/data/IFI8410/sess01/sentiment_labelled_sentences/amazon_cells_labelled.txt\n",
      "/data/IFI8410/sess01/sentiment_labelled_sentences/imdb_labelled.txt\n",
      "/data/IFI8410/sess01/sentiment_labelled_sentences/yelp_labelled.txt\n"
     ]
    }
   ],
   "source": [
    "! ls /data/IFI8410/sess01/sentiment_labelled_sentences/*labelled.txt"
   ]
  },
  {
   "cell_type": "code",
   "execution_count": 20,
   "id": "b2a02879-a886-43ff-aafb-f975724f6728",
   "metadata": {},
   "outputs": [
    {
     "name": "stdout",
     "output_type": "stream",
     "text": [
      "Number of records: 1000\n"
     ]
    }
   ],
   "source": [
    "reviews =  pd.read_csv('/data/IFI8410/sess01/sentiment_labelled_sentences/yelp_labelled.txt', delimiter='\\t', header=None)\n",
    "reviews.columns = ['text', 'sentiment']\n",
    "print(f\"Number of records: {reviews.shape[0]:1}\")"
   ]
  },
  {
   "cell_type": "code",
   "execution_count": 21,
   "id": "219a0668-7545-4a8b-abea-b514cb4e7b9a",
   "metadata": {},
   "outputs": [
    {
     "data": {
      "text/html": [
       "<div>\n",
       "<style scoped>\n",
       "    .dataframe tbody tr th:only-of-type {\n",
       "        vertical-align: middle;\n",
       "    }\n",
       "\n",
       "    .dataframe tbody tr th {\n",
       "        vertical-align: top;\n",
       "    }\n",
       "\n",
       "    .dataframe thead th {\n",
       "        text-align: right;\n",
       "    }\n",
       "</style>\n",
       "<table border=\"1\" class=\"dataframe\">\n",
       "  <thead>\n",
       "    <tr style=\"text-align: right;\">\n",
       "      <th></th>\n",
       "      <th>text</th>\n",
       "      <th>sentiment</th>\n",
       "    </tr>\n",
       "  </thead>\n",
       "  <tbody>\n",
       "    <tr>\n",
       "      <th>0</th>\n",
       "      <td>Wow... Loved this place.</td>\n",
       "      <td>1</td>\n",
       "    </tr>\n",
       "    <tr>\n",
       "      <th>1</th>\n",
       "      <td>Crust is not good.</td>\n",
       "      <td>0</td>\n",
       "    </tr>\n",
       "    <tr>\n",
       "      <th>2</th>\n",
       "      <td>Not tasty and the texture was just nasty.</td>\n",
       "      <td>0</td>\n",
       "    </tr>\n",
       "    <tr>\n",
       "      <th>3</th>\n",
       "      <td>Stopped by during the late May bank holiday of...</td>\n",
       "      <td>1</td>\n",
       "    </tr>\n",
       "    <tr>\n",
       "      <th>4</th>\n",
       "      <td>The selection on the menu was great and so wer...</td>\n",
       "      <td>1</td>\n",
       "    </tr>\n",
       "  </tbody>\n",
       "</table>\n",
       "</div>"
      ],
      "text/plain": [
       "                                                text  sentiment\n",
       "0                           Wow... Loved this place.          1\n",
       "1                                 Crust is not good.          0\n",
       "2          Not tasty and the texture was just nasty.          0\n",
       "3  Stopped by during the late May bank holiday of...          1\n",
       "4  The selection on the menu was great and so wer...          1"
      ]
     },
     "execution_count": 21,
     "metadata": {},
     "output_type": "execute_result"
    }
   ],
   "source": [
    "reviews.head()"
   ]
  },
  {
   "cell_type": "markdown",
   "id": "9bf39a44-e10b-4431-ba57-bd2493fe32ec",
   "metadata": {},
   "source": [
    "## OpenAI\n",
    "Using OpenAI API for Embedding\n",
    "\n",
    "https://platform.openai.com/docs/guides/embeddings/what-are-embeddings"
   ]
  },
  {
   "cell_type": "code",
   "execution_count": 22,
   "id": "9d84efad-4554-46fe-8e69-e5c7586dda0a",
   "metadata": {},
   "outputs": [],
   "source": [
    "! mkdir -p output"
   ]
  },
  {
   "cell_type": "code",
   "execution_count": 37,
   "id": "c89451dc-1c9b-4bfb-8788-96a019f67529",
   "metadata": {},
   "outputs": [],
   "source": [
    "# Load your OpenAI API key from a secure location\n",
    "API_KEY = open('/home/pmolnar/.secrets/openai_pmolnar_gsu_edu.apikey', 'r').read().strip()\n",
    "os.environ['OPENAI_API_KEY'] = API_KEY\n",
    "\n",
    "from openai import OpenAI\n",
    "client = OpenAI()\n",
    "\n",
    "def get_embedding(text, model=\"text-embedding-3-small\"):\n",
    "   text = text.replace(\"\\n\", \" \")\n",
    "   return client.embeddings.create(input = [text], model=model).data[0].embedding\n",
    "\n",
    "# Do not execute accidentillay\n",
    "if False and not os.path.isfile('output/embedded_reviews.csv'):\n",
    "    reviews['ada_embedding'] = reviews.text.apply(lambda x: get_embedding(x, model='text-embedding-3-small'))\n",
    "    reviews.to_csv('output/embedded_reviews.csv', index=False)"
   ]
  },
  {
   "cell_type": "code",
   "execution_count": 31,
   "id": "9f254664-3c6f-4e51-90b4-8fb7a6e0a520",
   "metadata": {
    "scrolled": true
   },
   "outputs": [
    {
     "data": {
      "text/html": [
       "<div>\n",
       "<style scoped>\n",
       "    .dataframe tbody tr th:only-of-type {\n",
       "        vertical-align: middle;\n",
       "    }\n",
       "\n",
       "    .dataframe tbody tr th {\n",
       "        vertical-align: top;\n",
       "    }\n",
       "\n",
       "    .dataframe thead th {\n",
       "        text-align: right;\n",
       "    }\n",
       "</style>\n",
       "<table border=\"1\" class=\"dataframe\">\n",
       "  <thead>\n",
       "    <tr style=\"text-align: right;\">\n",
       "      <th></th>\n",
       "      <th>text</th>\n",
       "      <th>sentiment</th>\n",
       "      <th>ada_embedding</th>\n",
       "    </tr>\n",
       "  </thead>\n",
       "  <tbody>\n",
       "    <tr>\n",
       "      <th>0</th>\n",
       "      <td>Wow... Loved this place.</td>\n",
       "      <td>1</td>\n",
       "      <td>[0.019262049347162247, -0.0041028293780982494,...</td>\n",
       "    </tr>\n",
       "    <tr>\n",
       "      <th>1</th>\n",
       "      <td>Crust is not good.</td>\n",
       "      <td>0</td>\n",
       "      <td>[-0.00298229418694973, 0.07532791048288345, -0...</td>\n",
       "    </tr>\n",
       "    <tr>\n",
       "      <th>2</th>\n",
       "      <td>Not tasty and the texture was just nasty.</td>\n",
       "      <td>0</td>\n",
       "      <td>[-0.02595783770084381, -0.025650784373283386, ...</td>\n",
       "    </tr>\n",
       "    <tr>\n",
       "      <th>3</th>\n",
       "      <td>Stopped by during the late May bank holiday of...</td>\n",
       "      <td>1</td>\n",
       "      <td>[-0.018199104815721512, 0.020299501717090607, ...</td>\n",
       "    </tr>\n",
       "    <tr>\n",
       "      <th>4</th>\n",
       "      <td>The selection on the menu was great and so wer...</td>\n",
       "      <td>1</td>\n",
       "      <td>[-0.024915141984820366, -0.04568932577967644, ...</td>\n",
       "    </tr>\n",
       "  </tbody>\n",
       "</table>\n",
       "</div>"
      ],
      "text/plain": [
       "                                                text  sentiment  \\\n",
       "0                           Wow... Loved this place.          1   \n",
       "1                                 Crust is not good.          0   \n",
       "2          Not tasty and the texture was just nasty.          0   \n",
       "3  Stopped by during the late May bank holiday of...          1   \n",
       "4  The selection on the menu was great and so wer...          1   \n",
       "\n",
       "                                       ada_embedding  \n",
       "0  [0.019262049347162247, -0.0041028293780982494,...  \n",
       "1  [-0.00298229418694973, 0.07532791048288345, -0...  \n",
       "2  [-0.02595783770084381, -0.025650784373283386, ...  \n",
       "3  [-0.018199104815721512, 0.020299501717090607, ...  \n",
       "4  [-0.024915141984820366, -0.04568932577967644, ...  "
      ]
     },
     "execution_count": 31,
     "metadata": {},
     "output_type": "execute_result"
    }
   ],
   "source": [
    "reviews.head()"
   ]
  },
  {
   "cell_type": "markdown",
   "id": "49e21f4f-cec7-4737-9e49-5e03ff743e4d",
   "metadata": {},
   "source": [
    "### Load embedded reviews"
   ]
  },
  {
   "cell_type": "code",
   "execution_count": 33,
   "id": "3d5678ce-1573-424d-a68b-972bb0fbadab",
   "metadata": {},
   "outputs": [
    {
     "data": {
      "text/plain": [
       "text             object\n",
       "sentiment         int64\n",
       "ada_embedding    object\n",
       "dtype: object"
      ]
     },
     "execution_count": 33,
     "metadata": {},
     "output_type": "execute_result"
    }
   ],
   "source": [
    "reviews2 = pd.read_csv('output/embedded_reviews.csv')\n",
    "reviews2.dtypes"
   ]
  },
  {
   "cell_type": "code",
   "execution_count": 36,
   "id": "0306915d-8fb2-45fe-af98-8ca95ea35faa",
   "metadata": {},
   "outputs": [],
   "source": [
    "reviews2['ada_embedding'] = reviews2.ada_embedding.apply(eval).apply(np.array)"
   ]
  },
  {
   "cell_type": "code",
   "execution_count": null,
   "id": "9a9f8ce5-60da-483d-ad75-5773cb1e232f",
   "metadata": {},
   "outputs": [],
   "source": []
  },
  {
   "cell_type": "markdown",
   "id": "541535d4-6d89-4516-a43a-bcb7962267ac",
   "metadata": {},
   "source": [
    "## Faiss: A library for efficient similarity search\n",
    "\n",
    "https://engineering.fb.com/2017/03/29/data-infrastructure/faiss-a-library-for-efficient-similarity-search/"
   ]
  },
  {
   "cell_type": "code",
   "execution_count": 39,
   "id": "36ccee55-b1f1-49a2-81a3-5b82d8a50c32",
   "metadata": {},
   "outputs": [
    {
     "name": "stdout",
     "output_type": "stream",
     "text": [
      "Dimension: 1,536\n"
     ]
    }
   ],
   "source": [
    "v = reviews2.iloc[0].ada_embedding\n",
    "d = len(v)\n",
    "print(f\"Dimension: {d:,}\")"
   ]
  },
  {
   "cell_type": "code",
   "execution_count": 40,
   "id": "9514e408-9182-4a9c-b037-d2bde8dd0b17",
   "metadata": {},
   "outputs": [],
   "source": [
    "import faiss                   # make faiss available\n",
    "index = faiss.IndexFlatL2(d)   # build the index, d=size of vectors "
   ]
  },
  {
   "cell_type": "code",
   "execution_count": 43,
   "id": "28892d95-5417-43a3-b4b9-240e9df671c5",
   "metadata": {},
   "outputs": [
    {
     "name": "stdout",
     "output_type": "stream",
     "text": [
      "(1000, 1536)\n"
     ]
    }
   ],
   "source": [
    "xb = np.stack(reviews2.ada_embedding, axis=0)\n",
    "print(xb.shape)"
   ]
  },
  {
   "cell_type": "code",
   "execution_count": 45,
   "id": "8ff90720-224e-49cb-b7b7-eca3ed6847a6",
   "metadata": {},
   "outputs": [
    {
     "data": {
      "text/plain": [
       "array([[ 0.01926205, -0.00410283, -0.04877627, -0.02298892, -0.02950114],\n",
       "       [-0.00298229,  0.07532791, -0.00329729,  0.04522384,  0.008786  ],\n",
       "       [-0.02595784, -0.02565078, -0.07444868, -0.01161489, -0.05682853],\n",
       "       [-0.0181991 ,  0.0202995 , -0.04493026, -0.01291549, -0.01913841],\n",
       "       [-0.02491514, -0.04568933, -0.01470155, -0.05348543,  0.03756935],\n",
       "       [-0.01708727,  0.00289076, -0.09161158, -0.00512742,  0.00657823],\n",
       "       [-0.03490983,  0.01276999, -0.1040806 ,  0.04228112,  0.04812106],\n",
       "       [-0.00908457, -0.02693639, -0.06004231, -0.0040995 , -0.01300326],\n",
       "       [-0.03598801, -0.03383813, -0.10865826, -0.02821711,  0.02165551],\n",
       "       [ 0.01682344, -0.00691282, -0.07248396,  0.02368406, -0.02353491]])"
      ]
     },
     "execution_count": 45,
     "metadata": {},
     "output_type": "execute_result"
    }
   ],
   "source": [
    "xb[:10, :5]"
   ]
  },
  {
   "cell_type": "code",
   "execution_count": 46,
   "id": "51a4a68d-133e-474d-9e4d-4b371b8de82e",
   "metadata": {},
   "outputs": [
    {
     "name": "stdout",
     "output_type": "stream",
     "text": [
      "Number of records: 1,000\n"
     ]
    }
   ],
   "source": [
    "# here we assume xb contains a n-by-d numpy matrix of type float32\n",
    "index.add(xb)                  # add vectors to the index\n",
    "print(f\"Number of records: {index.ntotal:,}\")"
   ]
  },
  {
   "cell_type": "code",
   "execution_count": 47,
   "id": "7dba2129-3c7d-4041-be49-cf05d2a24d12",
   "metadata": {},
   "outputs": [
    {
     "data": {
      "text/plain": [
       "'Waitress was a little slow in service.'"
      ]
     },
     "execution_count": 47,
     "metadata": {},
     "output_type": "execute_result"
    }
   ],
   "source": [
    "reviews2.iloc[17].text"
   ]
  },
  {
   "cell_type": "code",
   "execution_count": 51,
   "id": "63f16622-2df2-4715-816e-7f054ca29a47",
   "metadata": {},
   "outputs": [
    {
     "name": "stdout",
     "output_type": "stream",
     "text": [
      "[[ 17 147 695 679]]\n",
      "[[0.         0.45153064 0.6156649  0.6577745 ]]\n"
     ]
    }
   ],
   "source": [
    "k = 4                          # we want 4 similar vectors\n",
    "\n",
    "xq = np.stack([reviews2.iloc[17].ada_embedding])\n",
    "D, I = index.search(xq, k)     # actual search\n",
    "print(I)\n",
    "print(D)\n"
   ]
  },
  {
   "cell_type": "code",
   "execution_count": 55,
   "id": "eaf45606-684d-4c2a-aeb4-481062fcf4b3",
   "metadata": {},
   "outputs": [
    {
     "name": "stdout",
     "output_type": "stream",
     "text": [
      "Waitress was a little slow in service.\n",
      "The service was a little slow , considering that were served by 3 people servers so the food was coming in a slow pace.\n",
      "Went for lunch - service was slow.\n",
      "Service was slow and not attentive.\n"
     ]
    }
   ],
   "source": [
    "for idx in I[0]:\n",
    "    print(f\"{reviews2.iloc[idx].text}\")"
   ]
  },
  {
   "cell_type": "markdown",
   "id": "d8edc8d9-dc36-47e1-9339-0a939165f83d",
   "metadata": {},
   "source": [
    "### Ask questions"
   ]
  },
  {
   "cell_type": "code",
   "execution_count": 58,
   "id": "d8a19f02-483f-40a9-bb47-1da9b6dc7f8a",
   "metadata": {},
   "outputs": [
    {
     "name": "stdout",
     "output_type": "stream",
     "text": [
      "This is some seriously good pizza and I'm an expert/connisseur on the topic.\n",
      "The pizza selections are good.\n",
      "I loved the grilled pizza, reminded me of legit Italian pizza.\n",
      "Great Pizza and Salads!\n"
     ]
    }
   ],
   "source": [
    "q_text = \"How is the pizza?\"\n",
    "q_vec = get_embedding(q_text)\n",
    "\n",
    "xq = np.stack([q_vec])\n",
    "D, I = index.search(xq, k)     # actual search\n",
    "\n",
    "for idx in I[0]:\n",
    "    print(f\"{reviews2.iloc[idx].text}\")"
   ]
  },
  {
   "cell_type": "markdown",
   "id": "d236774a-7aa5-4bc5-a40c-4059feb125b1",
   "metadata": {},
   "source": [
    "### Sentiment Anlysis"
   ]
  },
  {
   "cell_type": "code",
   "execution_count": 76,
   "id": "80f0de06-07bd-4d0e-a105-3a3567932fb0",
   "metadata": {},
   "outputs": [
    {
     "data": {
      "text/html": [
       "<div>\n",
       "<style scoped>\n",
       "    .dataframe tbody tr th:only-of-type {\n",
       "        vertical-align: middle;\n",
       "    }\n",
       "\n",
       "    .dataframe tbody tr th {\n",
       "        vertical-align: top;\n",
       "    }\n",
       "\n",
       "    .dataframe thead th {\n",
       "        text-align: right;\n",
       "    }\n",
       "</style>\n",
       "<table border=\"1\" class=\"dataframe\">\n",
       "  <thead>\n",
       "    <tr style=\"text-align: right;\">\n",
       "      <th></th>\n",
       "      <th>text</th>\n",
       "      <th>sentiment</th>\n",
       "      <th>distance</th>\n",
       "      <th>weight</th>\n",
       "    </tr>\n",
       "  </thead>\n",
       "  <tbody>\n",
       "    <tr>\n",
       "      <th>684</th>\n",
       "      <td>Damn good steak.</td>\n",
       "      <td>1</td>\n",
       "      <td>0.817347</td>\n",
       "      <td>0.183486</td>\n",
       "    </tr>\n",
       "    <tr>\n",
       "      <th>449</th>\n",
       "      <td>My ribeye steak was cooked perfectly and had g...</td>\n",
       "      <td>1</td>\n",
       "      <td>0.923988</td>\n",
       "      <td>0.201000</td>\n",
       "    </tr>\n",
       "    <tr>\n",
       "      <th>118</th>\n",
       "      <td>Kind of hard to mess up a steak but they did.</td>\n",
       "      <td>0</td>\n",
       "      <td>0.932445</td>\n",
       "      <td>0.202347</td>\n",
       "    </tr>\n",
       "    <tr>\n",
       "      <th>701</th>\n",
       "      <td>I wasn't really impressed with Strip Steak.</td>\n",
       "      <td>0</td>\n",
       "      <td>0.944687</td>\n",
       "      <td>0.204287</td>\n",
       "    </tr>\n",
       "    <tr>\n",
       "      <th>688</th>\n",
       "      <td>The steak was amazing...rge fillet relleno was...</td>\n",
       "      <td>1</td>\n",
       "      <td>0.973982</td>\n",
       "      <td>0.208880</td>\n",
       "    </tr>\n",
       "  </tbody>\n",
       "</table>\n",
       "</div>"
      ],
      "text/plain": [
       "                                                  text  sentiment  distance  \\\n",
       "684                                   Damn good steak.          1  0.817347   \n",
       "449  My ribeye steak was cooked perfectly and had g...          1  0.923988   \n",
       "118      Kind of hard to mess up a steak but they did.          0  0.932445   \n",
       "701        I wasn't really impressed with Strip Steak.          0  0.944687   \n",
       "688  The steak was amazing...rge fillet relleno was...          1  0.973982   \n",
       "\n",
       "       weight  \n",
       "684  0.183486  \n",
       "449  0.201000  \n",
       "118  0.202347  \n",
       "701  0.204287  \n",
       "688  0.208880  "
      ]
     },
     "metadata": {},
     "output_type": "display_data"
    },
    {
     "name": "stdout",
     "output_type": "stream",
     "text": [
      "Sentiment: 0.5933655351400375\n"
     ]
    }
   ],
   "source": [
    "input_text = \"The steak was raw\"\n",
    "input_vec = get_embedding(input_text)\n",
    "\n",
    "k = 5 \n",
    "D, I = index.search(np.stack([input_vec]), k)     # actual search\n",
    "matches = reviews2.iloc[I[0]][['text', 'sentiment']].copy()\n",
    "matches['distance'] = D[0]\n",
    "weights = np.log(1+D[0])\n",
    "matches['weight'] = weights/weights.sum()\n",
    "display(matches)\n",
    "sentiment = np.sum(matches.sentiment * matches.weight)\n",
    "print(f\"Sentiment: {sentiment}\")"
   ]
  },
  {
   "cell_type": "code",
   "execution_count": 79,
   "id": "752d567c-171f-40f1-86d9-945c399028b1",
   "metadata": {},
   "outputs": [
    {
     "name": "stdout",
     "output_type": "stream",
     "text": [
      "\n",
      "\n",
      "Enter review:\n"
     ]
    },
    {
     "name": "stdin",
     "output_type": "stream",
     "text": [
      " the steak was raw and the potatoes were cold\n"
     ]
    },
    {
     "data": {
      "text/html": [
       "<div>\n",
       "<style scoped>\n",
       "    .dataframe tbody tr th:only-of-type {\n",
       "        vertical-align: middle;\n",
       "    }\n",
       "\n",
       "    .dataframe tbody tr th {\n",
       "        vertical-align: top;\n",
       "    }\n",
       "\n",
       "    .dataframe thead th {\n",
       "        text-align: right;\n",
       "    }\n",
       "</style>\n",
       "<table border=\"1\" class=\"dataframe\">\n",
       "  <thead>\n",
       "    <tr style=\"text-align: right;\">\n",
       "      <th></th>\n",
       "      <th>text</th>\n",
       "      <th>sentiment</th>\n",
       "      <th>distance</th>\n",
       "      <th>weight</th>\n",
       "    </tr>\n",
       "  </thead>\n",
       "  <tbody>\n",
       "    <tr>\n",
       "      <th>7</th>\n",
       "      <td>The potatoes were like rubber and you could te...</td>\n",
       "      <td>0</td>\n",
       "      <td>0.947317</td>\n",
       "      <td>0.191136</td>\n",
       "    </tr>\n",
       "    <tr>\n",
       "      <th>954</th>\n",
       "      <td>The fries were not hot, and neither was my bur...</td>\n",
       "      <td>0</td>\n",
       "      <td>0.973955</td>\n",
       "      <td>0.195033</td>\n",
       "    </tr>\n",
       "    <tr>\n",
       "      <th>987</th>\n",
       "      <td>It lacked flavor, seemed undercooked, and dry.</td>\n",
       "      <td>0</td>\n",
       "      <td>1.013973</td>\n",
       "      <td>0.200789</td>\n",
       "    </tr>\n",
       "    <tr>\n",
       "      <th>612</th>\n",
       "      <td>The chicken I got was definitely reheated and ...</td>\n",
       "      <td>0</td>\n",
       "      <td>1.048057</td>\n",
       "      <td>0.205602</td>\n",
       "    </tr>\n",
       "    <tr>\n",
       "      <th>475</th>\n",
       "      <td>Third, the cheese on my friend's burger was cold.</td>\n",
       "      <td>0</td>\n",
       "      <td>1.061219</td>\n",
       "      <td>0.207439</td>\n",
       "    </tr>\n",
       "  </tbody>\n",
       "</table>\n",
       "</div>"
      ],
      "text/plain": [
       "                                                  text  sentiment  distance  \\\n",
       "7    The potatoes were like rubber and you could te...          0  0.947317   \n",
       "954  The fries were not hot, and neither was my bur...          0  0.973955   \n",
       "987     It lacked flavor, seemed undercooked, and dry.          0  1.013973   \n",
       "612  The chicken I got was definitely reheated and ...          0  1.048057   \n",
       "475  Third, the cheese on my friend's burger was cold.          0  1.061219   \n",
       "\n",
       "       weight  \n",
       "7    0.191136  \n",
       "954  0.195033  \n",
       "987  0.200789  \n",
       "612  0.205602  \n",
       "475  0.207439  "
      ]
     },
     "metadata": {},
     "output_type": "display_data"
    },
    {
     "name": "stdout",
     "output_type": "stream",
     "text": [
      "Sentiment for: 'the steak was raw and the potatoes were cold                ' is 0.0\n",
      "\n",
      "\n",
      "Enter review:\n"
     ]
    },
    {
     "name": "stdin",
     "output_type": "stream",
     "text": [
      " the steak was steaming hot and raw\n"
     ]
    },
    {
     "data": {
      "text/html": [
       "<div>\n",
       "<style scoped>\n",
       "    .dataframe tbody tr th:only-of-type {\n",
       "        vertical-align: middle;\n",
       "    }\n",
       "\n",
       "    .dataframe tbody tr th {\n",
       "        vertical-align: top;\n",
       "    }\n",
       "\n",
       "    .dataframe thead th {\n",
       "        text-align: right;\n",
       "    }\n",
       "</style>\n",
       "<table border=\"1\" class=\"dataframe\">\n",
       "  <thead>\n",
       "    <tr style=\"text-align: right;\">\n",
       "      <th></th>\n",
       "      <th>text</th>\n",
       "      <th>sentiment</th>\n",
       "      <th>distance</th>\n",
       "      <th>weight</th>\n",
       "    </tr>\n",
       "  </thead>\n",
       "  <tbody>\n",
       "    <tr>\n",
       "      <th>684</th>\n",
       "      <td>Damn good steak.</td>\n",
       "      <td>1</td>\n",
       "      <td>0.847871</td>\n",
       "      <td>0.184574</td>\n",
       "    </tr>\n",
       "    <tr>\n",
       "      <th>449</th>\n",
       "      <td>My ribeye steak was cooked perfectly and had g...</td>\n",
       "      <td>1</td>\n",
       "      <td>0.936364</td>\n",
       "      <td>0.198635</td>\n",
       "    </tr>\n",
       "    <tr>\n",
       "      <th>477</th>\n",
       "      <td>The steaks are all well trimmed and also perfe...</td>\n",
       "      <td>1</td>\n",
       "      <td>0.946857</td>\n",
       "      <td>0.200260</td>\n",
       "    </tr>\n",
       "    <tr>\n",
       "      <th>118</th>\n",
       "      <td>Kind of hard to mess up a steak but they did.</td>\n",
       "      <td>0</td>\n",
       "      <td>0.994700</td>\n",
       "      <td>0.207557</td>\n",
       "    </tr>\n",
       "    <tr>\n",
       "      <th>688</th>\n",
       "      <td>The steak was amazing...rge fillet relleno was...</td>\n",
       "      <td>1</td>\n",
       "      <td>1.004128</td>\n",
       "      <td>0.208975</td>\n",
       "    </tr>\n",
       "  </tbody>\n",
       "</table>\n",
       "</div>"
      ],
      "text/plain": [
       "                                                  text  sentiment  distance  \\\n",
       "684                                   Damn good steak.          1  0.847871   \n",
       "449  My ribeye steak was cooked perfectly and had g...          1  0.936364   \n",
       "477  The steaks are all well trimmed and also perfe...          1  0.946857   \n",
       "118      Kind of hard to mess up a steak but they did.          0  0.994700   \n",
       "688  The steak was amazing...rge fillet relleno was...          1  1.004128   \n",
       "\n",
       "       weight  \n",
       "684  0.184574  \n",
       "449  0.198635  \n",
       "477  0.200260  \n",
       "118  0.207557  \n",
       "688  0.208975  "
      ]
     },
     "metadata": {},
     "output_type": "display_data"
    },
    {
     "name": "stdout",
     "output_type": "stream",
     "text": [
      "Sentiment for: 'the steak was steaming hot and raw                          ' is 0.8\n",
      "\n",
      "\n",
      "Enter review:\n"
     ]
    },
    {
     "name": "stdin",
     "output_type": "stream",
     "text": [
      " \n"
     ]
    }
   ],
   "source": [
    "k = 5 \n",
    "\n",
    "while True:\n",
    "    print(\"\\n\\nEnter review: (Hit <Enter> to quit)\")\n",
    "    q_text = input()\n",
    "    if len(q_text.strip()) == 0:\n",
    "        break\n",
    "\n",
    "    q_vec = get_embedding(q_text)\n",
    "    D, I = index.search(np.stack([q_vec]), k)     # actual search\n",
    "    \n",
    "    matches = reviews2.iloc[I[0]][['text', 'sentiment']].copy()\n",
    "    matches['distance'] = D[0]\n",
    "    weights = np.log(1+D[0])\n",
    "    matches['weight'] = weights/weights.sum()\n",
    "    display(matches)\n",
    "    \n",
    "    sentiment = np.sum(matches.sentiment * matches.weight)\n",
    "    print(f\"Sentiment for: '{q_text:60}' is {sentiment:.1f}\")"
   ]
  },
  {
   "cell_type": "code",
   "execution_count": null,
   "id": "4a3a3283-f908-48e4-ad67-8c22ad4cf75d",
   "metadata": {},
   "outputs": [],
   "source": []
  },
  {
   "cell_type": "code",
   "execution_count": null,
   "id": "8801c15c-e4d6-4342-b2bd-8c8d7de2d7d7",
   "metadata": {},
   "outputs": [],
   "source": []
  },
  {
   "cell_type": "code",
   "execution_count": null,
   "id": "021118a4-100e-473f-872a-53dd022e196b",
   "metadata": {},
   "outputs": [],
   "source": []
  },
  {
   "cell_type": "code",
   "execution_count": null,
   "id": "e9a73c7e-075e-4828-a094-79d97f8a54b3",
   "metadata": {},
   "outputs": [],
   "source": []
  },
  {
   "cell_type": "code",
   "execution_count": null,
   "id": "25d4e947-b5f7-44a4-a00b-1ff80550b474",
   "metadata": {},
   "outputs": [],
   "source": []
  },
  {
   "cell_type": "code",
   "execution_count": null,
   "id": "9481992d-a816-4d76-9faa-f176a90e0544",
   "metadata": {},
   "outputs": [],
   "source": []
  },
  {
   "cell_type": "code",
   "execution_count": null,
   "id": "e1991280-99a4-4b09-8dfc-9b4d522652d7",
   "metadata": {},
   "outputs": [],
   "source": []
  }
 ],
 "metadata": {
  "kernelspec": {
   "display_name": "Python 3 (ipykernel)",
   "language": "python",
   "name": "python3"
  },
  "language_info": {
   "codemirror_mode": {
    "name": "ipython",
    "version": 3
   },
   "file_extension": ".py",
   "mimetype": "text/x-python",
   "name": "python",
   "nbconvert_exporter": "python",
   "pygments_lexer": "ipython3",
   "version": "3.8.6"
  }
 },
 "nbformat": 4,
 "nbformat_minor": 5
}
