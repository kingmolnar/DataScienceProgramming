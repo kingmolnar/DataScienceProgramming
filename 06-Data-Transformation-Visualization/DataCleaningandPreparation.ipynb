{
 "cells": [
  {
   "cell_type": "code",
   "id": "initial_id",
   "metadata": {
    "collapsed": true,
    "ExecuteTime": {
     "end_time": "2024-09-22T22:30:34.119640Z",
     "start_time": "2024-09-22T22:30:34.116456Z"
    }
   },
   "source": [
    ""
   ],
   "outputs": [],
   "execution_count": null
  },
  {
   "metadata": {},
   "cell_type": "markdown",
   "source": "# Data Cleaning and Preparation",
   "id": "915e3e87db93d2ed"
  },
  {
   "metadata": {
    "ExecuteTime": {
     "end_time": "2024-09-22T22:30:34.189327Z",
     "start_time": "2024-09-22T22:30:34.147212Z"
    }
   },
   "cell_type": "code",
   "source": [
    "# %load nbheader.py\n",
    "%reload_ext autoreload\n",
    "%autoreload 2"
   ],
   "id": "3ac0618fd8100faf",
   "outputs": [],
   "execution_count": 1
  },
  {
   "metadata": {
    "ExecuteTime": {
     "end_time": "2024-09-22T22:30:34.562060Z",
     "start_time": "2024-09-22T22:30:34.536957Z"
    }
   },
   "cell_type": "code",
   "source": [
    "import re\n",
    "import os\n",
    "import numpy as np\n",
    "import pandas as pd\n",
    "from datetime import datetime"
   ],
   "id": "1ec9fcd72009b20f",
   "outputs": [],
   "execution_count": 2
  },
  {
   "metadata": {},
   "cell_type": "markdown",
   "source": "## 7.1 Handling Missing Data",
   "id": "5a3f21806942fac"
  },
  {
   "metadata": {},
   "cell_type": "markdown",
   "source": [
    "### General Introduction\n",
    "\n",
    "- Missing data referred as **NA** or **None** in Python \n",
    "- In statistics applications, NA data may either be data that does not exist or that exists but was not observed \n",
    "\n",
    "**Table 7.1: NA handling object methods**\n",
    "\n",
    "**Method**\t|Description\n",
    "\n",
    "**dropna**\t|Filter axis labels based on whether values for each label have missing data, with varying thresholds for how much missing data to tolerate.\n",
    "\n",
    "**fillna**\t|Fill in missing data with some value or using an interpolation method such as \"ffill\" or \"bfill\".\n",
    "\n",
    "**isna**\t|Return Boolean values indicating which values are missing/NA.\n",
    "\n",
    "**notna**\t|Negation of isna, returns True for non-NA values and False for NA values.\n"
   ],
   "id": "66ac80cedbe0ffad"
  },
  {
   "metadata": {
    "ExecuteTime": {
     "end_time": "2024-09-22T22:30:34.603773Z",
     "start_time": "2024-09-22T22:30:34.571654Z"
    }
   },
   "cell_type": "code",
   "source": [
    "string_data = pd.Series([\"aardvark\", np.nan, None, \"avocado\"])\n",
    "print(string_data)\n",
    "string_data.isna()"
   ],
   "id": "d1c6c90d3c82f4d8",
   "outputs": [
    {
     "name": "stdout",
     "output_type": "stream",
     "text": [
      "0    aardvark\n",
      "1         NaN\n",
      "2        None\n",
      "3     avocado\n",
      "dtype: object\n"
     ]
    },
    {
     "data": {
      "text/plain": [
       "0    False\n",
       "1     True\n",
       "2     True\n",
       "3    False\n",
       "dtype: bool"
      ]
     },
     "execution_count": 3,
     "metadata": {},
     "output_type": "execute_result"
    }
   ],
   "execution_count": 3
  },
  {
   "metadata": {
    "ExecuteTime": {
     "end_time": "2024-09-22T22:30:34.804883Z",
     "start_time": "2024-09-22T22:30:34.763107Z"
    }
   },
   "cell_type": "code",
   "source": [
    "float_data = pd.Series([1, 2, None], dtype='float64')\n",
    "print(float_data)\n",
    "float_data.isna()"
   ],
   "id": "798866bdab4ac985",
   "outputs": [
    {
     "name": "stdout",
     "output_type": "stream",
     "text": [
      "0    1.0\n",
      "1    2.0\n",
      "2    NaN\n",
      "dtype: float64\n"
     ]
    },
    {
     "data": {
      "text/plain": [
       "0    False\n",
       "1    False\n",
       "2     True\n",
       "dtype: bool"
      ]
     },
     "execution_count": 4,
     "metadata": {},
     "output_type": "execute_result"
    }
   ],
   "execution_count": 4
  },
  {
   "metadata": {
    "ExecuteTime": {
     "end_time": "2024-09-22T22:30:34.978957Z",
     "start_time": "2024-09-22T22:30:34.975510Z"
    }
   },
   "cell_type": "code",
   "source": "",
   "id": "c0d20655c988bfb4",
   "outputs": [],
   "execution_count": null
  },
  {
   "metadata": {},
   "cell_type": "markdown",
   "source": "### Filtering Out Missing Data",
   "id": "637d9f630a20db23"
  },
  {
   "metadata": {
    "ExecuteTime": {
     "end_time": "2024-09-22T22:30:35.089650Z",
     "start_time": "2024-09-22T22:30:35.060363Z"
    }
   },
   "cell_type": "code",
   "source": [
    "data = pd.DataFrame([[1., 6.5, 3.], [1., np.nan, np.nan],\n",
    "                     [np.nan, np.nan, np.nan], [np.nan, 6.5, 3.]])\n",
    "data"
   ],
   "id": "e2cd31489d78ca3b",
   "outputs": [
    {
     "data": {
      "text/plain": [
       "     0    1    2\n",
       "0  1.0  6.5  3.0\n",
       "1  1.0  NaN  NaN\n",
       "2  NaN  NaN  NaN\n",
       "3  NaN  6.5  3.0"
      ],
      "text/html": [
       "<div>\n",
       "<style scoped>\n",
       "    .dataframe tbody tr th:only-of-type {\n",
       "        vertical-align: middle;\n",
       "    }\n",
       "\n",
       "    .dataframe tbody tr th {\n",
       "        vertical-align: top;\n",
       "    }\n",
       "\n",
       "    .dataframe thead th {\n",
       "        text-align: right;\n",
       "    }\n",
       "</style>\n",
       "<table border=\"1\" class=\"dataframe\">\n",
       "  <thead>\n",
       "    <tr style=\"text-align: right;\">\n",
       "      <th></th>\n",
       "      <th>0</th>\n",
       "      <th>1</th>\n",
       "      <th>2</th>\n",
       "    </tr>\n",
       "  </thead>\n",
       "  <tbody>\n",
       "    <tr>\n",
       "      <th>0</th>\n",
       "      <td>1.0</td>\n",
       "      <td>6.5</td>\n",
       "      <td>3.0</td>\n",
       "    </tr>\n",
       "    <tr>\n",
       "      <th>1</th>\n",
       "      <td>1.0</td>\n",
       "      <td>NaN</td>\n",
       "      <td>NaN</td>\n",
       "    </tr>\n",
       "    <tr>\n",
       "      <th>2</th>\n",
       "      <td>NaN</td>\n",
       "      <td>NaN</td>\n",
       "      <td>NaN</td>\n",
       "    </tr>\n",
       "    <tr>\n",
       "      <th>3</th>\n",
       "      <td>NaN</td>\n",
       "      <td>6.5</td>\n",
       "      <td>3.0</td>\n",
       "    </tr>\n",
       "  </tbody>\n",
       "</table>\n",
       "</div>"
      ]
     },
     "execution_count": 5,
     "metadata": {},
     "output_type": "execute_result"
    }
   ],
   "execution_count": 5
  },
  {
   "metadata": {
    "ExecuteTime": {
     "end_time": "2024-09-22T22:30:35.292848Z",
     "start_time": "2024-09-22T22:30:35.250081Z"
    }
   },
   "cell_type": "code",
   "source": "data.dropna()",
   "id": "2e4d64dfa7b6640f",
   "outputs": [
    {
     "data": {
      "text/plain": [
       "     0    1    2\n",
       "0  1.0  6.5  3.0"
      ],
      "text/html": [
       "<div>\n",
       "<style scoped>\n",
       "    .dataframe tbody tr th:only-of-type {\n",
       "        vertical-align: middle;\n",
       "    }\n",
       "\n",
       "    .dataframe tbody tr th {\n",
       "        vertical-align: top;\n",
       "    }\n",
       "\n",
       "    .dataframe thead th {\n",
       "        text-align: right;\n",
       "    }\n",
       "</style>\n",
       "<table border=\"1\" class=\"dataframe\">\n",
       "  <thead>\n",
       "    <tr style=\"text-align: right;\">\n",
       "      <th></th>\n",
       "      <th>0</th>\n",
       "      <th>1</th>\n",
       "      <th>2</th>\n",
       "    </tr>\n",
       "  </thead>\n",
       "  <tbody>\n",
       "    <tr>\n",
       "      <th>0</th>\n",
       "      <td>1.0</td>\n",
       "      <td>6.5</td>\n",
       "      <td>3.0</td>\n",
       "    </tr>\n",
       "  </tbody>\n",
       "</table>\n",
       "</div>"
      ]
     },
     "execution_count": 6,
     "metadata": {},
     "output_type": "execute_result"
    }
   ],
   "execution_count": 6
  },
  {
   "metadata": {
    "ExecuteTime": {
     "end_time": "2024-09-22T22:30:35.453683Z",
     "start_time": "2024-09-22T22:30:35.417441Z"
    }
   },
   "cell_type": "code",
   "source": "data.dropna(how=\"all\")",
   "id": "c58efde7602ebafc",
   "outputs": [
    {
     "data": {
      "text/plain": [
       "     0    1    2\n",
       "0  1.0  6.5  3.0\n",
       "1  1.0  NaN  NaN\n",
       "3  NaN  6.5  3.0"
      ],
      "text/html": [
       "<div>\n",
       "<style scoped>\n",
       "    .dataframe tbody tr th:only-of-type {\n",
       "        vertical-align: middle;\n",
       "    }\n",
       "\n",
       "    .dataframe tbody tr th {\n",
       "        vertical-align: top;\n",
       "    }\n",
       "\n",
       "    .dataframe thead th {\n",
       "        text-align: right;\n",
       "    }\n",
       "</style>\n",
       "<table border=\"1\" class=\"dataframe\">\n",
       "  <thead>\n",
       "    <tr style=\"text-align: right;\">\n",
       "      <th></th>\n",
       "      <th>0</th>\n",
       "      <th>1</th>\n",
       "      <th>2</th>\n",
       "    </tr>\n",
       "  </thead>\n",
       "  <tbody>\n",
       "    <tr>\n",
       "      <th>0</th>\n",
       "      <td>1.0</td>\n",
       "      <td>6.5</td>\n",
       "      <td>3.0</td>\n",
       "    </tr>\n",
       "    <tr>\n",
       "      <th>1</th>\n",
       "      <td>1.0</td>\n",
       "      <td>NaN</td>\n",
       "      <td>NaN</td>\n",
       "    </tr>\n",
       "    <tr>\n",
       "      <th>3</th>\n",
       "      <td>NaN</td>\n",
       "      <td>6.5</td>\n",
       "      <td>3.0</td>\n",
       "    </tr>\n",
       "  </tbody>\n",
       "</table>\n",
       "</div>"
      ]
     },
     "execution_count": 7,
     "metadata": {},
     "output_type": "execute_result"
    }
   ],
   "execution_count": 7
  },
  {
   "metadata": {
    "ExecuteTime": {
     "end_time": "2024-09-22T22:30:35.628349Z",
     "start_time": "2024-09-22T22:30:35.594530Z"
    }
   },
   "cell_type": "code",
   "source": [
    "data[4] = np.nan\n",
    "data.dropna(axis=\"columns\", how=\"all\")"
   ],
   "id": "bf087f80bd9307db",
   "outputs": [
    {
     "data": {
      "text/plain": [
       "     0    1    2\n",
       "0  1.0  6.5  3.0\n",
       "1  1.0  NaN  NaN\n",
       "2  NaN  NaN  NaN\n",
       "3  NaN  6.5  3.0"
      ],
      "text/html": [
       "<div>\n",
       "<style scoped>\n",
       "    .dataframe tbody tr th:only-of-type {\n",
       "        vertical-align: middle;\n",
       "    }\n",
       "\n",
       "    .dataframe tbody tr th {\n",
       "        vertical-align: top;\n",
       "    }\n",
       "\n",
       "    .dataframe thead th {\n",
       "        text-align: right;\n",
       "    }\n",
       "</style>\n",
       "<table border=\"1\" class=\"dataframe\">\n",
       "  <thead>\n",
       "    <tr style=\"text-align: right;\">\n",
       "      <th></th>\n",
       "      <th>0</th>\n",
       "      <th>1</th>\n",
       "      <th>2</th>\n",
       "    </tr>\n",
       "  </thead>\n",
       "  <tbody>\n",
       "    <tr>\n",
       "      <th>0</th>\n",
       "      <td>1.0</td>\n",
       "      <td>6.5</td>\n",
       "      <td>3.0</td>\n",
       "    </tr>\n",
       "    <tr>\n",
       "      <th>1</th>\n",
       "      <td>1.0</td>\n",
       "      <td>NaN</td>\n",
       "      <td>NaN</td>\n",
       "    </tr>\n",
       "    <tr>\n",
       "      <th>2</th>\n",
       "      <td>NaN</td>\n",
       "      <td>NaN</td>\n",
       "      <td>NaN</td>\n",
       "    </tr>\n",
       "    <tr>\n",
       "      <th>3</th>\n",
       "      <td>NaN</td>\n",
       "      <td>6.5</td>\n",
       "      <td>3.0</td>\n",
       "    </tr>\n",
       "  </tbody>\n",
       "</table>\n",
       "</div>"
      ]
     },
     "execution_count": 8,
     "metadata": {},
     "output_type": "execute_result"
    }
   ],
   "execution_count": 8
  },
  {
   "metadata": {
    "ExecuteTime": {
     "end_time": "2024-09-22T22:30:35.922608Z",
     "start_time": "2024-09-22T22:30:35.918586Z"
    }
   },
   "cell_type": "code",
   "source": "",
   "id": "5aa9d498dc11d50d",
   "outputs": [],
   "execution_count": null
  },
  {
   "metadata": {
    "ExecuteTime": {
     "end_time": "2024-09-22T22:30:36.205856Z",
     "start_time": "2024-09-22T22:30:36.176220Z"
    }
   },
   "cell_type": "code",
   "source": [
    "df = pd.DataFrame(np.random.standard_normal((7, 3)))\n",
    "df.iloc[:4, 1] = np.nan\n",
    "df.iloc[:2, 2] = np.nan\n",
    "df"
   ],
   "id": "784eae0cfba48488",
   "outputs": [
    {
     "data": {
      "text/plain": [
       "          0         1         2\n",
       "0 -0.448018       NaN       NaN\n",
       "1 -0.484652       NaN       NaN\n",
       "2  0.430686       NaN  1.761646\n",
       "3  1.212015       NaN -0.596720\n",
       "4 -0.366866 -1.193390 -1.301488\n",
       "5 -1.476050  0.007802 -1.042865\n",
       "6  0.346808 -0.299920 -1.043567"
      ],
      "text/html": [
       "<div>\n",
       "<style scoped>\n",
       "    .dataframe tbody tr th:only-of-type {\n",
       "        vertical-align: middle;\n",
       "    }\n",
       "\n",
       "    .dataframe tbody tr th {\n",
       "        vertical-align: top;\n",
       "    }\n",
       "\n",
       "    .dataframe thead th {\n",
       "        text-align: right;\n",
       "    }\n",
       "</style>\n",
       "<table border=\"1\" class=\"dataframe\">\n",
       "  <thead>\n",
       "    <tr style=\"text-align: right;\">\n",
       "      <th></th>\n",
       "      <th>0</th>\n",
       "      <th>1</th>\n",
       "      <th>2</th>\n",
       "    </tr>\n",
       "  </thead>\n",
       "  <tbody>\n",
       "    <tr>\n",
       "      <th>0</th>\n",
       "      <td>-0.448018</td>\n",
       "      <td>NaN</td>\n",
       "      <td>NaN</td>\n",
       "    </tr>\n",
       "    <tr>\n",
       "      <th>1</th>\n",
       "      <td>-0.484652</td>\n",
       "      <td>NaN</td>\n",
       "      <td>NaN</td>\n",
       "    </tr>\n",
       "    <tr>\n",
       "      <th>2</th>\n",
       "      <td>0.430686</td>\n",
       "      <td>NaN</td>\n",
       "      <td>1.761646</td>\n",
       "    </tr>\n",
       "    <tr>\n",
       "      <th>3</th>\n",
       "      <td>1.212015</td>\n",
       "      <td>NaN</td>\n",
       "      <td>-0.596720</td>\n",
       "    </tr>\n",
       "    <tr>\n",
       "      <th>4</th>\n",
       "      <td>-0.366866</td>\n",
       "      <td>-1.193390</td>\n",
       "      <td>-1.301488</td>\n",
       "    </tr>\n",
       "    <tr>\n",
       "      <th>5</th>\n",
       "      <td>-1.476050</td>\n",
       "      <td>0.007802</td>\n",
       "      <td>-1.042865</td>\n",
       "    </tr>\n",
       "    <tr>\n",
       "      <th>6</th>\n",
       "      <td>0.346808</td>\n",
       "      <td>-0.299920</td>\n",
       "      <td>-1.043567</td>\n",
       "    </tr>\n",
       "  </tbody>\n",
       "</table>\n",
       "</div>"
      ]
     },
     "execution_count": 9,
     "metadata": {},
     "output_type": "execute_result"
    }
   ],
   "execution_count": 9
  },
  {
   "metadata": {
    "ExecuteTime": {
     "end_time": "2024-09-22T22:30:36.516517Z",
     "start_time": "2024-09-22T22:30:36.472368Z"
    }
   },
   "cell_type": "code",
   "source": "df.dropna()",
   "id": "c3864a2d72a153b7",
   "outputs": [
    {
     "data": {
      "text/plain": [
       "          0         1         2\n",
       "4 -0.366866 -1.193390 -1.301488\n",
       "5 -1.476050  0.007802 -1.042865\n",
       "6  0.346808 -0.299920 -1.043567"
      ],
      "text/html": [
       "<div>\n",
       "<style scoped>\n",
       "    .dataframe tbody tr th:only-of-type {\n",
       "        vertical-align: middle;\n",
       "    }\n",
       "\n",
       "    .dataframe tbody tr th {\n",
       "        vertical-align: top;\n",
       "    }\n",
       "\n",
       "    .dataframe thead th {\n",
       "        text-align: right;\n",
       "    }\n",
       "</style>\n",
       "<table border=\"1\" class=\"dataframe\">\n",
       "  <thead>\n",
       "    <tr style=\"text-align: right;\">\n",
       "      <th></th>\n",
       "      <th>0</th>\n",
       "      <th>1</th>\n",
       "      <th>2</th>\n",
       "    </tr>\n",
       "  </thead>\n",
       "  <tbody>\n",
       "    <tr>\n",
       "      <th>4</th>\n",
       "      <td>-0.366866</td>\n",
       "      <td>-1.193390</td>\n",
       "      <td>-1.301488</td>\n",
       "    </tr>\n",
       "    <tr>\n",
       "      <th>5</th>\n",
       "      <td>-1.476050</td>\n",
       "      <td>0.007802</td>\n",
       "      <td>-1.042865</td>\n",
       "    </tr>\n",
       "    <tr>\n",
       "      <th>6</th>\n",
       "      <td>0.346808</td>\n",
       "      <td>-0.299920</td>\n",
       "      <td>-1.043567</td>\n",
       "    </tr>\n",
       "  </tbody>\n",
       "</table>\n",
       "</div>"
      ]
     },
     "execution_count": 10,
     "metadata": {},
     "output_type": "execute_result"
    }
   ],
   "execution_count": 10
  },
  {
   "metadata": {
    "ExecuteTime": {
     "end_time": "2024-09-22T22:30:36.700849Z",
     "start_time": "2024-09-22T22:30:36.665295Z"
    }
   },
   "cell_type": "code",
   "source": "df.dropna(thresh=2)",
   "id": "a2712e59bef4f1a5",
   "outputs": [
    {
     "data": {
      "text/plain": [
       "          0         1         2\n",
       "2  0.430686       NaN  1.761646\n",
       "3  1.212015       NaN -0.596720\n",
       "4 -0.366866 -1.193390 -1.301488\n",
       "5 -1.476050  0.007802 -1.042865\n",
       "6  0.346808 -0.299920 -1.043567"
      ],
      "text/html": [
       "<div>\n",
       "<style scoped>\n",
       "    .dataframe tbody tr th:only-of-type {\n",
       "        vertical-align: middle;\n",
       "    }\n",
       "\n",
       "    .dataframe tbody tr th {\n",
       "        vertical-align: top;\n",
       "    }\n",
       "\n",
       "    .dataframe thead th {\n",
       "        text-align: right;\n",
       "    }\n",
       "</style>\n",
       "<table border=\"1\" class=\"dataframe\">\n",
       "  <thead>\n",
       "    <tr style=\"text-align: right;\">\n",
       "      <th></th>\n",
       "      <th>0</th>\n",
       "      <th>1</th>\n",
       "      <th>2</th>\n",
       "    </tr>\n",
       "  </thead>\n",
       "  <tbody>\n",
       "    <tr>\n",
       "      <th>2</th>\n",
       "      <td>0.430686</td>\n",
       "      <td>NaN</td>\n",
       "      <td>1.761646</td>\n",
       "    </tr>\n",
       "    <tr>\n",
       "      <th>3</th>\n",
       "      <td>1.212015</td>\n",
       "      <td>NaN</td>\n",
       "      <td>-0.596720</td>\n",
       "    </tr>\n",
       "    <tr>\n",
       "      <th>4</th>\n",
       "      <td>-0.366866</td>\n",
       "      <td>-1.193390</td>\n",
       "      <td>-1.301488</td>\n",
       "    </tr>\n",
       "    <tr>\n",
       "      <th>5</th>\n",
       "      <td>-1.476050</td>\n",
       "      <td>0.007802</td>\n",
       "      <td>-1.042865</td>\n",
       "    </tr>\n",
       "    <tr>\n",
       "      <th>6</th>\n",
       "      <td>0.346808</td>\n",
       "      <td>-0.299920</td>\n",
       "      <td>-1.043567</td>\n",
       "    </tr>\n",
       "  </tbody>\n",
       "</table>\n",
       "</div>"
      ]
     },
     "execution_count": 11,
     "metadata": {},
     "output_type": "execute_result"
    }
   ],
   "execution_count": 11
  },
  {
   "metadata": {
    "ExecuteTime": {
     "end_time": "2024-09-22T22:30:36.960836Z",
     "start_time": "2024-09-22T22:30:36.956737Z"
    }
   },
   "cell_type": "code",
   "source": "",
   "id": "bc72aab94dfc3193",
   "outputs": [],
   "execution_count": null
  },
  {
   "metadata": {},
   "cell_type": "markdown",
   "source": [
    "### Filling In Missing Data\n",
    "\n",
    "**Table 7.2: fillna function arguments**\n",
    "\n",
    "**Argument**|\t**Description**\n",
    "\n",
    "**value**|\tScalar value or dictionary-like object to use to fill missing values\n",
    "\n",
    "**method**|\tInterpolation method: one of \"bfill\" (backward fill) or \"ffill\" (forward fill); default is None\n",
    "\n",
    "**axis**|\tAxis to fill on (\"index\" or \"columns\"); default is axis=\"index\"\n",
    "\n",
    "**limit**|\tFor forward and backward filling, maximum number of consecutive periods to fill\n"
   ],
   "id": "a2edff8ee1c5e03"
  },
  {
   "metadata": {
    "ExecuteTime": {
     "end_time": "2024-09-22T22:30:37.221453Z",
     "start_time": "2024-09-22T22:30:37.169963Z"
    }
   },
   "cell_type": "code",
   "source": "df.fillna(0)",
   "id": "3c93488c4ba41d5b",
   "outputs": [
    {
     "data": {
      "text/plain": [
       "          0         1         2\n",
       "0 -0.448018  0.000000  0.000000\n",
       "1 -0.484652  0.000000  0.000000\n",
       "2  0.430686  0.000000  1.761646\n",
       "3  1.212015  0.000000 -0.596720\n",
       "4 -0.366866 -1.193390 -1.301488\n",
       "5 -1.476050  0.007802 -1.042865\n",
       "6  0.346808 -0.299920 -1.043567"
      ],
      "text/html": [
       "<div>\n",
       "<style scoped>\n",
       "    .dataframe tbody tr th:only-of-type {\n",
       "        vertical-align: middle;\n",
       "    }\n",
       "\n",
       "    .dataframe tbody tr th {\n",
       "        vertical-align: top;\n",
       "    }\n",
       "\n",
       "    .dataframe thead th {\n",
       "        text-align: right;\n",
       "    }\n",
       "</style>\n",
       "<table border=\"1\" class=\"dataframe\">\n",
       "  <thead>\n",
       "    <tr style=\"text-align: right;\">\n",
       "      <th></th>\n",
       "      <th>0</th>\n",
       "      <th>1</th>\n",
       "      <th>2</th>\n",
       "    </tr>\n",
       "  </thead>\n",
       "  <tbody>\n",
       "    <tr>\n",
       "      <th>0</th>\n",
       "      <td>-0.448018</td>\n",
       "      <td>0.000000</td>\n",
       "      <td>0.000000</td>\n",
       "    </tr>\n",
       "    <tr>\n",
       "      <th>1</th>\n",
       "      <td>-0.484652</td>\n",
       "      <td>0.000000</td>\n",
       "      <td>0.000000</td>\n",
       "    </tr>\n",
       "    <tr>\n",
       "      <th>2</th>\n",
       "      <td>0.430686</td>\n",
       "      <td>0.000000</td>\n",
       "      <td>1.761646</td>\n",
       "    </tr>\n",
       "    <tr>\n",
       "      <th>3</th>\n",
       "      <td>1.212015</td>\n",
       "      <td>0.000000</td>\n",
       "      <td>-0.596720</td>\n",
       "    </tr>\n",
       "    <tr>\n",
       "      <th>4</th>\n",
       "      <td>-0.366866</td>\n",
       "      <td>-1.193390</td>\n",
       "      <td>-1.301488</td>\n",
       "    </tr>\n",
       "    <tr>\n",
       "      <th>5</th>\n",
       "      <td>-1.476050</td>\n",
       "      <td>0.007802</td>\n",
       "      <td>-1.042865</td>\n",
       "    </tr>\n",
       "    <tr>\n",
       "      <th>6</th>\n",
       "      <td>0.346808</td>\n",
       "      <td>-0.299920</td>\n",
       "      <td>-1.043567</td>\n",
       "    </tr>\n",
       "  </tbody>\n",
       "</table>\n",
       "</div>"
      ]
     },
     "execution_count": 12,
     "metadata": {},
     "output_type": "execute_result"
    }
   ],
   "execution_count": 12
  },
  {
   "metadata": {
    "ExecuteTime": {
     "end_time": "2024-09-22T22:30:37.502249Z",
     "start_time": "2024-09-22T22:30:37.469491Z"
    }
   },
   "cell_type": "code",
   "source": "df.fillna({1: 0.5, 2: 0})",
   "id": "3bdbae056116456f",
   "outputs": [
    {
     "data": {
      "text/plain": [
       "          0         1         2\n",
       "0 -0.448018  0.500000  0.000000\n",
       "1 -0.484652  0.500000  0.000000\n",
       "2  0.430686  0.500000  1.761646\n",
       "3  1.212015  0.500000 -0.596720\n",
       "4 -0.366866 -1.193390 -1.301488\n",
       "5 -1.476050  0.007802 -1.042865\n",
       "6  0.346808 -0.299920 -1.043567"
      ],
      "text/html": [
       "<div>\n",
       "<style scoped>\n",
       "    .dataframe tbody tr th:only-of-type {\n",
       "        vertical-align: middle;\n",
       "    }\n",
       "\n",
       "    .dataframe tbody tr th {\n",
       "        vertical-align: top;\n",
       "    }\n",
       "\n",
       "    .dataframe thead th {\n",
       "        text-align: right;\n",
       "    }\n",
       "</style>\n",
       "<table border=\"1\" class=\"dataframe\">\n",
       "  <thead>\n",
       "    <tr style=\"text-align: right;\">\n",
       "      <th></th>\n",
       "      <th>0</th>\n",
       "      <th>1</th>\n",
       "      <th>2</th>\n",
       "    </tr>\n",
       "  </thead>\n",
       "  <tbody>\n",
       "    <tr>\n",
       "      <th>0</th>\n",
       "      <td>-0.448018</td>\n",
       "      <td>0.500000</td>\n",
       "      <td>0.000000</td>\n",
       "    </tr>\n",
       "    <tr>\n",
       "      <th>1</th>\n",
       "      <td>-0.484652</td>\n",
       "      <td>0.500000</td>\n",
       "      <td>0.000000</td>\n",
       "    </tr>\n",
       "    <tr>\n",
       "      <th>2</th>\n",
       "      <td>0.430686</td>\n",
       "      <td>0.500000</td>\n",
       "      <td>1.761646</td>\n",
       "    </tr>\n",
       "    <tr>\n",
       "      <th>3</th>\n",
       "      <td>1.212015</td>\n",
       "      <td>0.500000</td>\n",
       "      <td>-0.596720</td>\n",
       "    </tr>\n",
       "    <tr>\n",
       "      <th>4</th>\n",
       "      <td>-0.366866</td>\n",
       "      <td>-1.193390</td>\n",
       "      <td>-1.301488</td>\n",
       "    </tr>\n",
       "    <tr>\n",
       "      <th>5</th>\n",
       "      <td>-1.476050</td>\n",
       "      <td>0.007802</td>\n",
       "      <td>-1.042865</td>\n",
       "    </tr>\n",
       "    <tr>\n",
       "      <th>6</th>\n",
       "      <td>0.346808</td>\n",
       "      <td>-0.299920</td>\n",
       "      <td>-1.043567</td>\n",
       "    </tr>\n",
       "  </tbody>\n",
       "</table>\n",
       "</div>"
      ]
     },
     "execution_count": 13,
     "metadata": {},
     "output_type": "execute_result"
    }
   ],
   "execution_count": 13
  },
  {
   "metadata": {
    "ExecuteTime": {
     "end_time": "2024-09-22T22:30:37.616364Z",
     "start_time": "2024-09-22T22:30:37.582635Z"
    }
   },
   "cell_type": "code",
   "source": [
    "df = pd.DataFrame(np.random.standard_normal((6, 3)))\n",
    "df.iloc[2:, 1] = np.nan\n",
    "df.iloc[4:, 2] = np.nan\n",
    "df"
   ],
   "id": "bc80cab4d5a08fc8",
   "outputs": [
    {
     "data": {
      "text/plain": [
       "          0         1         2\n",
       "0  0.173701  0.440177 -0.976099\n",
       "1 -1.287002 -0.166779  1.232086\n",
       "2 -0.201447       NaN -0.194500\n",
       "3 -3.135314       NaN  0.397302\n",
       "4 -0.828791       NaN       NaN\n",
       "5 -0.061246       NaN       NaN"
      ],
      "text/html": [
       "<div>\n",
       "<style scoped>\n",
       "    .dataframe tbody tr th:only-of-type {\n",
       "        vertical-align: middle;\n",
       "    }\n",
       "\n",
       "    .dataframe tbody tr th {\n",
       "        vertical-align: top;\n",
       "    }\n",
       "\n",
       "    .dataframe thead th {\n",
       "        text-align: right;\n",
       "    }\n",
       "</style>\n",
       "<table border=\"1\" class=\"dataframe\">\n",
       "  <thead>\n",
       "    <tr style=\"text-align: right;\">\n",
       "      <th></th>\n",
       "      <th>0</th>\n",
       "      <th>1</th>\n",
       "      <th>2</th>\n",
       "    </tr>\n",
       "  </thead>\n",
       "  <tbody>\n",
       "    <tr>\n",
       "      <th>0</th>\n",
       "      <td>0.173701</td>\n",
       "      <td>0.440177</td>\n",
       "      <td>-0.976099</td>\n",
       "    </tr>\n",
       "    <tr>\n",
       "      <th>1</th>\n",
       "      <td>-1.287002</td>\n",
       "      <td>-0.166779</td>\n",
       "      <td>1.232086</td>\n",
       "    </tr>\n",
       "    <tr>\n",
       "      <th>2</th>\n",
       "      <td>-0.201447</td>\n",
       "      <td>NaN</td>\n",
       "      <td>-0.194500</td>\n",
       "    </tr>\n",
       "    <tr>\n",
       "      <th>3</th>\n",
       "      <td>-3.135314</td>\n",
       "      <td>NaN</td>\n",
       "      <td>0.397302</td>\n",
       "    </tr>\n",
       "    <tr>\n",
       "      <th>4</th>\n",
       "      <td>-0.828791</td>\n",
       "      <td>NaN</td>\n",
       "      <td>NaN</td>\n",
       "    </tr>\n",
       "    <tr>\n",
       "      <th>5</th>\n",
       "      <td>-0.061246</td>\n",
       "      <td>NaN</td>\n",
       "      <td>NaN</td>\n",
       "    </tr>\n",
       "  </tbody>\n",
       "</table>\n",
       "</div>"
      ]
     },
     "execution_count": 14,
     "metadata": {},
     "output_type": "execute_result"
    }
   ],
   "execution_count": 14
  },
  {
   "metadata": {
    "ExecuteTime": {
     "end_time": "2024-09-22T22:30:37.931313Z",
     "start_time": "2024-09-22T22:30:37.892875Z"
    }
   },
   "cell_type": "code",
   "source": "df.fillna(method=\"ffill\")",
   "id": "53f994a687a070bc",
   "outputs": [
    {
     "name": "stderr",
     "output_type": "stream",
     "text": [
      "/var/folders/wy/wgb54ckn2g13mvl5wtsq0nr40000gn/T/ipykernel_27527/4105657595.py:1: FutureWarning: DataFrame.fillna with 'method' is deprecated and will raise in a future version. Use obj.ffill() or obj.bfill() instead.\n",
      "  df.fillna(method=\"ffill\")\n"
     ]
    },
    {
     "data": {
      "text/plain": [
       "          0         1         2\n",
       "0  0.173701  0.440177 -0.976099\n",
       "1 -1.287002 -0.166779  1.232086\n",
       "2 -0.201447 -0.166779 -0.194500\n",
       "3 -3.135314 -0.166779  0.397302\n",
       "4 -0.828791 -0.166779  0.397302\n",
       "5 -0.061246 -0.166779  0.397302"
      ],
      "text/html": [
       "<div>\n",
       "<style scoped>\n",
       "    .dataframe tbody tr th:only-of-type {\n",
       "        vertical-align: middle;\n",
       "    }\n",
       "\n",
       "    .dataframe tbody tr th {\n",
       "        vertical-align: top;\n",
       "    }\n",
       "\n",
       "    .dataframe thead th {\n",
       "        text-align: right;\n",
       "    }\n",
       "</style>\n",
       "<table border=\"1\" class=\"dataframe\">\n",
       "  <thead>\n",
       "    <tr style=\"text-align: right;\">\n",
       "      <th></th>\n",
       "      <th>0</th>\n",
       "      <th>1</th>\n",
       "      <th>2</th>\n",
       "    </tr>\n",
       "  </thead>\n",
       "  <tbody>\n",
       "    <tr>\n",
       "      <th>0</th>\n",
       "      <td>0.173701</td>\n",
       "      <td>0.440177</td>\n",
       "      <td>-0.976099</td>\n",
       "    </tr>\n",
       "    <tr>\n",
       "      <th>1</th>\n",
       "      <td>-1.287002</td>\n",
       "      <td>-0.166779</td>\n",
       "      <td>1.232086</td>\n",
       "    </tr>\n",
       "    <tr>\n",
       "      <th>2</th>\n",
       "      <td>-0.201447</td>\n",
       "      <td>-0.166779</td>\n",
       "      <td>-0.194500</td>\n",
       "    </tr>\n",
       "    <tr>\n",
       "      <th>3</th>\n",
       "      <td>-3.135314</td>\n",
       "      <td>-0.166779</td>\n",
       "      <td>0.397302</td>\n",
       "    </tr>\n",
       "    <tr>\n",
       "      <th>4</th>\n",
       "      <td>-0.828791</td>\n",
       "      <td>-0.166779</td>\n",
       "      <td>0.397302</td>\n",
       "    </tr>\n",
       "    <tr>\n",
       "      <th>5</th>\n",
       "      <td>-0.061246</td>\n",
       "      <td>-0.166779</td>\n",
       "      <td>0.397302</td>\n",
       "    </tr>\n",
       "  </tbody>\n",
       "</table>\n",
       "</div>"
      ]
     },
     "execution_count": 15,
     "metadata": {},
     "output_type": "execute_result"
    }
   ],
   "execution_count": 15
  },
  {
   "metadata": {
    "ExecuteTime": {
     "end_time": "2024-09-22T22:30:38.300636Z",
     "start_time": "2024-09-22T22:30:38.264671Z"
    }
   },
   "cell_type": "code",
   "source": "df.fillna(method=\"ffill\", limit=2)",
   "id": "c556261d58f234f1",
   "outputs": [
    {
     "name": "stderr",
     "output_type": "stream",
     "text": [
      "/var/folders/wy/wgb54ckn2g13mvl5wtsq0nr40000gn/T/ipykernel_27527/3889071623.py:1: FutureWarning: DataFrame.fillna with 'method' is deprecated and will raise in a future version. Use obj.ffill() or obj.bfill() instead.\n",
      "  df.fillna(method=\"ffill\", limit=2)\n"
     ]
    },
    {
     "data": {
      "text/plain": [
       "          0         1         2\n",
       "0  0.173701  0.440177 -0.976099\n",
       "1 -1.287002 -0.166779  1.232086\n",
       "2 -0.201447 -0.166779 -0.194500\n",
       "3 -3.135314 -0.166779  0.397302\n",
       "4 -0.828791       NaN  0.397302\n",
       "5 -0.061246       NaN  0.397302"
      ],
      "text/html": [
       "<div>\n",
       "<style scoped>\n",
       "    .dataframe tbody tr th:only-of-type {\n",
       "        vertical-align: middle;\n",
       "    }\n",
       "\n",
       "    .dataframe tbody tr th {\n",
       "        vertical-align: top;\n",
       "    }\n",
       "\n",
       "    .dataframe thead th {\n",
       "        text-align: right;\n",
       "    }\n",
       "</style>\n",
       "<table border=\"1\" class=\"dataframe\">\n",
       "  <thead>\n",
       "    <tr style=\"text-align: right;\">\n",
       "      <th></th>\n",
       "      <th>0</th>\n",
       "      <th>1</th>\n",
       "      <th>2</th>\n",
       "    </tr>\n",
       "  </thead>\n",
       "  <tbody>\n",
       "    <tr>\n",
       "      <th>0</th>\n",
       "      <td>0.173701</td>\n",
       "      <td>0.440177</td>\n",
       "      <td>-0.976099</td>\n",
       "    </tr>\n",
       "    <tr>\n",
       "      <th>1</th>\n",
       "      <td>-1.287002</td>\n",
       "      <td>-0.166779</td>\n",
       "      <td>1.232086</td>\n",
       "    </tr>\n",
       "    <tr>\n",
       "      <th>2</th>\n",
       "      <td>-0.201447</td>\n",
       "      <td>-0.166779</td>\n",
       "      <td>-0.194500</td>\n",
       "    </tr>\n",
       "    <tr>\n",
       "      <th>3</th>\n",
       "      <td>-3.135314</td>\n",
       "      <td>-0.166779</td>\n",
       "      <td>0.397302</td>\n",
       "    </tr>\n",
       "    <tr>\n",
       "      <th>4</th>\n",
       "      <td>-0.828791</td>\n",
       "      <td>NaN</td>\n",
       "      <td>0.397302</td>\n",
       "    </tr>\n",
       "    <tr>\n",
       "      <th>5</th>\n",
       "      <td>-0.061246</td>\n",
       "      <td>NaN</td>\n",
       "      <td>0.397302</td>\n",
       "    </tr>\n",
       "  </tbody>\n",
       "</table>\n",
       "</div>"
      ]
     },
     "execution_count": 16,
     "metadata": {},
     "output_type": "execute_result"
    }
   ],
   "execution_count": 16
  },
  {
   "metadata": {
    "ExecuteTime": {
     "end_time": "2024-09-22T22:30:38.745520Z",
     "start_time": "2024-09-22T22:30:38.742239Z"
    }
   },
   "cell_type": "code",
   "source": "",
   "id": "fc98eb0dc7cbb48b",
   "outputs": [],
   "execution_count": null
  },
  {
   "metadata": {},
   "cell_type": "markdown",
   "source": "## 7.2 Data Transformation",
   "id": "15936469a8437526"
  },
  {
   "metadata": {},
   "cell_type": "markdown",
   "source": "### Removing Duplicates",
   "id": "fc207443ff17ec26"
  },
  {
   "metadata": {
    "ExecuteTime": {
     "end_time": "2024-09-22T22:30:38.999055Z",
     "start_time": "2024-09-22T22:30:38.964506Z"
    }
   },
   "cell_type": "code",
   "source": [
    "data = pd.DataFrame({\"k1\": [\"one\", \"two\"] * 3 + [\"two\"],\n",
    "                     \"k2\": [1, 1, 2, 3, 3, 4, 4]})\n",
    "data"
   ],
   "id": "45744b9e4700d94c",
   "outputs": [
    {
     "data": {
      "text/plain": [
       "    k1  k2\n",
       "0  one   1\n",
       "1  two   1\n",
       "2  one   2\n",
       "3  two   3\n",
       "4  one   3\n",
       "5  two   4\n",
       "6  two   4"
      ],
      "text/html": [
       "<div>\n",
       "<style scoped>\n",
       "    .dataframe tbody tr th:only-of-type {\n",
       "        vertical-align: middle;\n",
       "    }\n",
       "\n",
       "    .dataframe tbody tr th {\n",
       "        vertical-align: top;\n",
       "    }\n",
       "\n",
       "    .dataframe thead th {\n",
       "        text-align: right;\n",
       "    }\n",
       "</style>\n",
       "<table border=\"1\" class=\"dataframe\">\n",
       "  <thead>\n",
       "    <tr style=\"text-align: right;\">\n",
       "      <th></th>\n",
       "      <th>k1</th>\n",
       "      <th>k2</th>\n",
       "    </tr>\n",
       "  </thead>\n",
       "  <tbody>\n",
       "    <tr>\n",
       "      <th>0</th>\n",
       "      <td>one</td>\n",
       "      <td>1</td>\n",
       "    </tr>\n",
       "    <tr>\n",
       "      <th>1</th>\n",
       "      <td>two</td>\n",
       "      <td>1</td>\n",
       "    </tr>\n",
       "    <tr>\n",
       "      <th>2</th>\n",
       "      <td>one</td>\n",
       "      <td>2</td>\n",
       "    </tr>\n",
       "    <tr>\n",
       "      <th>3</th>\n",
       "      <td>two</td>\n",
       "      <td>3</td>\n",
       "    </tr>\n",
       "    <tr>\n",
       "      <th>4</th>\n",
       "      <td>one</td>\n",
       "      <td>3</td>\n",
       "    </tr>\n",
       "    <tr>\n",
       "      <th>5</th>\n",
       "      <td>two</td>\n",
       "      <td>4</td>\n",
       "    </tr>\n",
       "    <tr>\n",
       "      <th>6</th>\n",
       "      <td>two</td>\n",
       "      <td>4</td>\n",
       "    </tr>\n",
       "  </tbody>\n",
       "</table>\n",
       "</div>"
      ]
     },
     "execution_count": 17,
     "metadata": {},
     "output_type": "execute_result"
    }
   ],
   "execution_count": 17
  },
  {
   "metadata": {},
   "cell_type": "markdown",
   "source": "Find duplicated rows - create Boolean Series indicating a duplicated row or not:",
   "id": "c8690be1a1d2cc36"
  },
  {
   "metadata": {
    "ExecuteTime": {
     "end_time": "2024-09-22T22:30:39.402973Z",
     "start_time": "2024-09-22T22:30:39.369961Z"
    }
   },
   "cell_type": "code",
   "source": "data.duplicated()",
   "id": "577cebef29d87645",
   "outputs": [
    {
     "data": {
      "text/plain": [
       "0    False\n",
       "1    False\n",
       "2    False\n",
       "3    False\n",
       "4    False\n",
       "5    False\n",
       "6     True\n",
       "dtype: bool"
      ]
     },
     "execution_count": 18,
     "metadata": {},
     "output_type": "execute_result"
    }
   ],
   "execution_count": 18
  },
  {
   "metadata": {},
   "cell_type": "markdown",
   "source": "Filter out and remove duplicated rows with **drop_duplicates** method. Keep the first row and remove all other duplicates:",
   "id": "156af607e475bff0"
  },
  {
   "metadata": {
    "ExecuteTime": {
     "end_time": "2024-09-22T22:30:39.877899Z",
     "start_time": "2024-09-22T22:30:39.849266Z"
    }
   },
   "cell_type": "code",
   "source": "data.drop_duplicates()",
   "id": "74929d6ad1b0393e",
   "outputs": [
    {
     "data": {
      "text/plain": [
       "    k1  k2\n",
       "0  one   1\n",
       "1  two   1\n",
       "2  one   2\n",
       "3  two   3\n",
       "4  one   3\n",
       "5  two   4"
      ],
      "text/html": [
       "<div>\n",
       "<style scoped>\n",
       "    .dataframe tbody tr th:only-of-type {\n",
       "        vertical-align: middle;\n",
       "    }\n",
       "\n",
       "    .dataframe tbody tr th {\n",
       "        vertical-align: top;\n",
       "    }\n",
       "\n",
       "    .dataframe thead th {\n",
       "        text-align: right;\n",
       "    }\n",
       "</style>\n",
       "<table border=\"1\" class=\"dataframe\">\n",
       "  <thead>\n",
       "    <tr style=\"text-align: right;\">\n",
       "      <th></th>\n",
       "      <th>k1</th>\n",
       "      <th>k2</th>\n",
       "    </tr>\n",
       "  </thead>\n",
       "  <tbody>\n",
       "    <tr>\n",
       "      <th>0</th>\n",
       "      <td>one</td>\n",
       "      <td>1</td>\n",
       "    </tr>\n",
       "    <tr>\n",
       "      <th>1</th>\n",
       "      <td>two</td>\n",
       "      <td>1</td>\n",
       "    </tr>\n",
       "    <tr>\n",
       "      <th>2</th>\n",
       "      <td>one</td>\n",
       "      <td>2</td>\n",
       "    </tr>\n",
       "    <tr>\n",
       "      <th>3</th>\n",
       "      <td>two</td>\n",
       "      <td>3</td>\n",
       "    </tr>\n",
       "    <tr>\n",
       "      <th>4</th>\n",
       "      <td>one</td>\n",
       "      <td>3</td>\n",
       "    </tr>\n",
       "    <tr>\n",
       "      <th>5</th>\n",
       "      <td>two</td>\n",
       "      <td>4</td>\n",
       "    </tr>\n",
       "  </tbody>\n",
       "</table>\n",
       "</div>"
      ]
     },
     "execution_count": 19,
     "metadata": {},
     "output_type": "execute_result"
    }
   ],
   "execution_count": 19
  },
  {
   "metadata": {},
   "cell_type": "markdown",
   "source": "Filter duplicate row values in a subset of columns. Keep last occurrence of duplicated rows: ",
   "id": "618115c11a5bb807"
  },
  {
   "metadata": {
    "ExecuteTime": {
     "end_time": "2024-09-22T22:30:40.395154Z",
     "start_time": "2024-09-22T22:30:40.358146Z"
    }
   },
   "cell_type": "code",
   "source": [
    "data[\"v1\"] = range(7)\n",
    "data"
   ],
   "id": "313f7ac85dc56d45",
   "outputs": [
    {
     "data": {
      "text/plain": [
       "    k1  k2  v1\n",
       "0  one   1   0\n",
       "1  two   1   1\n",
       "2  one   2   2\n",
       "3  two   3   3\n",
       "4  one   3   4\n",
       "5  two   4   5\n",
       "6  two   4   6"
      ],
      "text/html": [
       "<div>\n",
       "<style scoped>\n",
       "    .dataframe tbody tr th:only-of-type {\n",
       "        vertical-align: middle;\n",
       "    }\n",
       "\n",
       "    .dataframe tbody tr th {\n",
       "        vertical-align: top;\n",
       "    }\n",
       "\n",
       "    .dataframe thead th {\n",
       "        text-align: right;\n",
       "    }\n",
       "</style>\n",
       "<table border=\"1\" class=\"dataframe\">\n",
       "  <thead>\n",
       "    <tr style=\"text-align: right;\">\n",
       "      <th></th>\n",
       "      <th>k1</th>\n",
       "      <th>k2</th>\n",
       "      <th>v1</th>\n",
       "    </tr>\n",
       "  </thead>\n",
       "  <tbody>\n",
       "    <tr>\n",
       "      <th>0</th>\n",
       "      <td>one</td>\n",
       "      <td>1</td>\n",
       "      <td>0</td>\n",
       "    </tr>\n",
       "    <tr>\n",
       "      <th>1</th>\n",
       "      <td>two</td>\n",
       "      <td>1</td>\n",
       "      <td>1</td>\n",
       "    </tr>\n",
       "    <tr>\n",
       "      <th>2</th>\n",
       "      <td>one</td>\n",
       "      <td>2</td>\n",
       "      <td>2</td>\n",
       "    </tr>\n",
       "    <tr>\n",
       "      <th>3</th>\n",
       "      <td>two</td>\n",
       "      <td>3</td>\n",
       "      <td>3</td>\n",
       "    </tr>\n",
       "    <tr>\n",
       "      <th>4</th>\n",
       "      <td>one</td>\n",
       "      <td>3</td>\n",
       "      <td>4</td>\n",
       "    </tr>\n",
       "    <tr>\n",
       "      <th>5</th>\n",
       "      <td>two</td>\n",
       "      <td>4</td>\n",
       "      <td>5</td>\n",
       "    </tr>\n",
       "    <tr>\n",
       "      <th>6</th>\n",
       "      <td>two</td>\n",
       "      <td>4</td>\n",
       "      <td>6</td>\n",
       "    </tr>\n",
       "  </tbody>\n",
       "</table>\n",
       "</div>"
      ]
     },
     "execution_count": 20,
     "metadata": {},
     "output_type": "execute_result"
    }
   ],
   "execution_count": 20
  },
  {
   "metadata": {
    "ExecuteTime": {
     "end_time": "2024-09-22T22:30:40.902199Z",
     "start_time": "2024-09-22T22:30:40.870936Z"
    }
   },
   "cell_type": "code",
   "source": "data.drop_duplicates([\"k1\", \"k2\"], keep=\"last\")",
   "id": "a9de5ec92e0dd28c",
   "outputs": [
    {
     "data": {
      "text/plain": [
       "    k1  k2  v1\n",
       "0  one   1   0\n",
       "1  two   1   1\n",
       "2  one   2   2\n",
       "3  two   3   3\n",
       "4  one   3   4\n",
       "6  two   4   6"
      ],
      "text/html": [
       "<div>\n",
       "<style scoped>\n",
       "    .dataframe tbody tr th:only-of-type {\n",
       "        vertical-align: middle;\n",
       "    }\n",
       "\n",
       "    .dataframe tbody tr th {\n",
       "        vertical-align: top;\n",
       "    }\n",
       "\n",
       "    .dataframe thead th {\n",
       "        text-align: right;\n",
       "    }\n",
       "</style>\n",
       "<table border=\"1\" class=\"dataframe\">\n",
       "  <thead>\n",
       "    <tr style=\"text-align: right;\">\n",
       "      <th></th>\n",
       "      <th>k1</th>\n",
       "      <th>k2</th>\n",
       "      <th>v1</th>\n",
       "    </tr>\n",
       "  </thead>\n",
       "  <tbody>\n",
       "    <tr>\n",
       "      <th>0</th>\n",
       "      <td>one</td>\n",
       "      <td>1</td>\n",
       "      <td>0</td>\n",
       "    </tr>\n",
       "    <tr>\n",
       "      <th>1</th>\n",
       "      <td>two</td>\n",
       "      <td>1</td>\n",
       "      <td>1</td>\n",
       "    </tr>\n",
       "    <tr>\n",
       "      <th>2</th>\n",
       "      <td>one</td>\n",
       "      <td>2</td>\n",
       "      <td>2</td>\n",
       "    </tr>\n",
       "    <tr>\n",
       "      <th>3</th>\n",
       "      <td>two</td>\n",
       "      <td>3</td>\n",
       "      <td>3</td>\n",
       "    </tr>\n",
       "    <tr>\n",
       "      <th>4</th>\n",
       "      <td>one</td>\n",
       "      <td>3</td>\n",
       "      <td>4</td>\n",
       "    </tr>\n",
       "    <tr>\n",
       "      <th>6</th>\n",
       "      <td>two</td>\n",
       "      <td>4</td>\n",
       "      <td>6</td>\n",
       "    </tr>\n",
       "  </tbody>\n",
       "</table>\n",
       "</div>"
      ]
     },
     "execution_count": 21,
     "metadata": {},
     "output_type": "execute_result"
    }
   ],
   "execution_count": 21
  },
  {
   "metadata": {
    "ExecuteTime": {
     "end_time": "2024-09-22T22:30:41.584006Z",
     "start_time": "2024-09-22T22:30:41.581381Z"
    }
   },
   "cell_type": "code",
   "source": "",
   "id": "6da4e30a02fb2734",
   "outputs": [],
   "execution_count": null
  },
  {
   "metadata": {},
   "cell_type": "markdown",
   "source": "### Transforming Data Using a Function or Mapping ",
   "id": "d8fe259d730b906"
  },
  {
   "metadata": {
    "ExecuteTime": {
     "end_time": "2024-09-22T22:30:42.117594Z",
     "start_time": "2024-09-22T22:30:42.084703Z"
    }
   },
   "cell_type": "code",
   "source": [
    "data = pd.DataFrame({\"food\": [\"bacon\", \"pulled pork\", \"bacon\",\n",
    "                              \"pastrami\", \"corned beef\", \"bacon\",\n",
    "                              \"pastrami\", \"honey ham\", \"nova lox\"],\n",
    "                     \"ounces\": [4, 3, 12, 6, 7.5, 8, 3, 5, 6]})\n",
    "data"
   ],
   "id": "8bd8ff8b57c208d",
   "outputs": [
    {
     "data": {
      "text/plain": [
       "          food  ounces\n",
       "0        bacon     4.0\n",
       "1  pulled pork     3.0\n",
       "2        bacon    12.0\n",
       "3     pastrami     6.0\n",
       "4  corned beef     7.5\n",
       "5        bacon     8.0\n",
       "6     pastrami     3.0\n",
       "7    honey ham     5.0\n",
       "8     nova lox     6.0"
      ],
      "text/html": [
       "<div>\n",
       "<style scoped>\n",
       "    .dataframe tbody tr th:only-of-type {\n",
       "        vertical-align: middle;\n",
       "    }\n",
       "\n",
       "    .dataframe tbody tr th {\n",
       "        vertical-align: top;\n",
       "    }\n",
       "\n",
       "    .dataframe thead th {\n",
       "        text-align: right;\n",
       "    }\n",
       "</style>\n",
       "<table border=\"1\" class=\"dataframe\">\n",
       "  <thead>\n",
       "    <tr style=\"text-align: right;\">\n",
       "      <th></th>\n",
       "      <th>food</th>\n",
       "      <th>ounces</th>\n",
       "    </tr>\n",
       "  </thead>\n",
       "  <tbody>\n",
       "    <tr>\n",
       "      <th>0</th>\n",
       "      <td>bacon</td>\n",
       "      <td>4.0</td>\n",
       "    </tr>\n",
       "    <tr>\n",
       "      <th>1</th>\n",
       "      <td>pulled pork</td>\n",
       "      <td>3.0</td>\n",
       "    </tr>\n",
       "    <tr>\n",
       "      <th>2</th>\n",
       "      <td>bacon</td>\n",
       "      <td>12.0</td>\n",
       "    </tr>\n",
       "    <tr>\n",
       "      <th>3</th>\n",
       "      <td>pastrami</td>\n",
       "      <td>6.0</td>\n",
       "    </tr>\n",
       "    <tr>\n",
       "      <th>4</th>\n",
       "      <td>corned beef</td>\n",
       "      <td>7.5</td>\n",
       "    </tr>\n",
       "    <tr>\n",
       "      <th>5</th>\n",
       "      <td>bacon</td>\n",
       "      <td>8.0</td>\n",
       "    </tr>\n",
       "    <tr>\n",
       "      <th>6</th>\n",
       "      <td>pastrami</td>\n",
       "      <td>3.0</td>\n",
       "    </tr>\n",
       "    <tr>\n",
       "      <th>7</th>\n",
       "      <td>honey ham</td>\n",
       "      <td>5.0</td>\n",
       "    </tr>\n",
       "    <tr>\n",
       "      <th>8</th>\n",
       "      <td>nova lox</td>\n",
       "      <td>6.0</td>\n",
       "    </tr>\n",
       "  </tbody>\n",
       "</table>\n",
       "</div>"
      ]
     },
     "execution_count": 22,
     "metadata": {},
     "output_type": "execute_result"
    }
   ],
   "execution_count": 22
  },
  {
   "metadata": {
    "ExecuteTime": {
     "end_time": "2024-09-22T22:30:42.526822Z",
     "start_time": "2024-09-22T22:30:42.491988Z"
    }
   },
   "cell_type": "code",
   "source": [
    "meat_to_animal = {\n",
    "  \"bacon\": \"pig\",\n",
    "  \"pulled pork\": \"pig\",\n",
    "  \"pastrami\": \"cow\",\n",
    "  \"corned beef\": \"cow\",\n",
    "  \"honey ham\": \"pig\",\n",
    "  \"nova lox\": \"salmon\"\n",
    "}"
   ],
   "id": "7c5237333c491d27",
   "outputs": [],
   "execution_count": 23
  },
  {
   "metadata": {
    "ExecuteTime": {
     "end_time": "2024-09-22T22:30:42.828451Z",
     "start_time": "2024-09-22T22:30:42.781249Z"
    }
   },
   "cell_type": "code",
   "source": [
    "data[\"animal\"] = data[\"food\"].map(meat_to_animal)\n",
    "data"
   ],
   "id": "249b7ced70f766ec",
   "outputs": [
    {
     "data": {
      "text/plain": [
       "          food  ounces  animal\n",
       "0        bacon     4.0     pig\n",
       "1  pulled pork     3.0     pig\n",
       "2        bacon    12.0     pig\n",
       "3     pastrami     6.0     cow\n",
       "4  corned beef     7.5     cow\n",
       "5        bacon     8.0     pig\n",
       "6     pastrami     3.0     cow\n",
       "7    honey ham     5.0     pig\n",
       "8     nova lox     6.0  salmon"
      ],
      "text/html": [
       "<div>\n",
       "<style scoped>\n",
       "    .dataframe tbody tr th:only-of-type {\n",
       "        vertical-align: middle;\n",
       "    }\n",
       "\n",
       "    .dataframe tbody tr th {\n",
       "        vertical-align: top;\n",
       "    }\n",
       "\n",
       "    .dataframe thead th {\n",
       "        text-align: right;\n",
       "    }\n",
       "</style>\n",
       "<table border=\"1\" class=\"dataframe\">\n",
       "  <thead>\n",
       "    <tr style=\"text-align: right;\">\n",
       "      <th></th>\n",
       "      <th>food</th>\n",
       "      <th>ounces</th>\n",
       "      <th>animal</th>\n",
       "    </tr>\n",
       "  </thead>\n",
       "  <tbody>\n",
       "    <tr>\n",
       "      <th>0</th>\n",
       "      <td>bacon</td>\n",
       "      <td>4.0</td>\n",
       "      <td>pig</td>\n",
       "    </tr>\n",
       "    <tr>\n",
       "      <th>1</th>\n",
       "      <td>pulled pork</td>\n",
       "      <td>3.0</td>\n",
       "      <td>pig</td>\n",
       "    </tr>\n",
       "    <tr>\n",
       "      <th>2</th>\n",
       "      <td>bacon</td>\n",
       "      <td>12.0</td>\n",
       "      <td>pig</td>\n",
       "    </tr>\n",
       "    <tr>\n",
       "      <th>3</th>\n",
       "      <td>pastrami</td>\n",
       "      <td>6.0</td>\n",
       "      <td>cow</td>\n",
       "    </tr>\n",
       "    <tr>\n",
       "      <th>4</th>\n",
       "      <td>corned beef</td>\n",
       "      <td>7.5</td>\n",
       "      <td>cow</td>\n",
       "    </tr>\n",
       "    <tr>\n",
       "      <th>5</th>\n",
       "      <td>bacon</td>\n",
       "      <td>8.0</td>\n",
       "      <td>pig</td>\n",
       "    </tr>\n",
       "    <tr>\n",
       "      <th>6</th>\n",
       "      <td>pastrami</td>\n",
       "      <td>3.0</td>\n",
       "      <td>cow</td>\n",
       "    </tr>\n",
       "    <tr>\n",
       "      <th>7</th>\n",
       "      <td>honey ham</td>\n",
       "      <td>5.0</td>\n",
       "      <td>pig</td>\n",
       "    </tr>\n",
       "    <tr>\n",
       "      <th>8</th>\n",
       "      <td>nova lox</td>\n",
       "      <td>6.0</td>\n",
       "      <td>salmon</td>\n",
       "    </tr>\n",
       "  </tbody>\n",
       "</table>\n",
       "</div>"
      ]
     },
     "execution_count": 24,
     "metadata": {},
     "output_type": "execute_result"
    }
   ],
   "execution_count": 24
  },
  {
   "metadata": {
    "ExecuteTime": {
     "end_time": "2024-09-22T22:30:43.137273Z",
     "start_time": "2024-09-22T22:30:43.097500Z"
    }
   },
   "cell_type": "code",
   "source": [
    "def get_animal(x):\n",
    "    return meat_to_animal[x]\n",
    "\n",
    "data[\"food\"].map(get_animal)"
   ],
   "id": "50598adf7421680b",
   "outputs": [
    {
     "data": {
      "text/plain": [
       "0       pig\n",
       "1       pig\n",
       "2       pig\n",
       "3       cow\n",
       "4       cow\n",
       "5       pig\n",
       "6       cow\n",
       "7       pig\n",
       "8    salmon\n",
       "Name: food, dtype: object"
      ]
     },
     "execution_count": 25,
     "metadata": {},
     "output_type": "execute_result"
    }
   ],
   "execution_count": 25
  },
  {
   "metadata": {
    "ExecuteTime": {
     "end_time": "2024-09-22T22:30:43.517143Z",
     "start_time": "2024-09-22T22:30:43.513981Z"
    }
   },
   "cell_type": "code",
   "source": "",
   "id": "39ec2642ef256f35",
   "outputs": [],
   "execution_count": null
  },
  {
   "metadata": {},
   "cell_type": "markdown",
   "source": [
    "### Replacing Values and Renaming Axis Indexes\n",
    "\n",
    "Filling in missing data with the **.fillna()** method:"
   ],
   "id": "46583bc2a5b49272"
  },
  {
   "metadata": {
    "ExecuteTime": {
     "end_time": "2024-09-22T22:30:43.747372Z",
     "start_time": "2024-09-22T22:30:43.711712Z"
    }
   },
   "cell_type": "code",
   "source": [
    "data = pd.Series([1., -999., 2., -999., -1000., 3.])\n",
    "data"
   ],
   "id": "c46900814341065d",
   "outputs": [
    {
     "data": {
      "text/plain": [
       "0       1.0\n",
       "1    -999.0\n",
       "2       2.0\n",
       "3    -999.0\n",
       "4   -1000.0\n",
       "5       3.0\n",
       "dtype: float64"
      ]
     },
     "execution_count": 26,
     "metadata": {},
     "output_type": "execute_result"
    }
   ],
   "execution_count": 26
  },
  {
   "metadata": {
    "ExecuteTime": {
     "end_time": "2024-09-22T22:30:43.957190Z",
     "start_time": "2024-09-22T22:30:43.923729Z"
    }
   },
   "cell_type": "code",
   "source": "data.replace([-999, -1000], [np.nan, 0])",
   "id": "8c717fe2285f891d",
   "outputs": [
    {
     "data": {
      "text/plain": [
       "0    1.0\n",
       "1    NaN\n",
       "2    2.0\n",
       "3    NaN\n",
       "4    0.0\n",
       "5    3.0\n",
       "dtype: float64"
      ]
     },
     "execution_count": 27,
     "metadata": {},
     "output_type": "execute_result"
    }
   ],
   "execution_count": 27
  },
  {
   "metadata": {
    "ExecuteTime": {
     "end_time": "2024-09-22T22:30:44.191255Z",
     "start_time": "2024-09-22T22:30:44.157962Z"
    }
   },
   "cell_type": "code",
   "source": "data.replace({-999: np.nan, -1000: 0})",
   "id": "3178a9900077ad2d",
   "outputs": [
    {
     "data": {
      "text/plain": [
       "0    1.0\n",
       "1    NaN\n",
       "2    2.0\n",
       "3    NaN\n",
       "4    0.0\n",
       "5    3.0\n",
       "dtype: float64"
      ]
     },
     "execution_count": 28,
     "metadata": {},
     "output_type": "execute_result"
    }
   ],
   "execution_count": 28
  },
  {
   "metadata": {},
   "cell_type": "markdown",
   "source": "Renaming Axis Indexes:",
   "id": "93e39e7b28703c7f"
  },
  {
   "metadata": {
    "ExecuteTime": {
     "end_time": "2024-09-22T22:30:44.528811Z",
     "start_time": "2024-09-22T22:30:44.498226Z"
    }
   },
   "cell_type": "code",
   "source": [
    "data = pd.DataFrame(np.arange(12).reshape((3, 4)),\n",
    "                    index=[\"Ohio\", \"Colorado\", \"New York\"],\n",
    "                    columns=[\"one\", \"two\", \"three\", \"four\"])"
   ],
   "id": "c34179a701433abf",
   "outputs": [],
   "execution_count": 29
  },
  {
   "metadata": {
    "ExecuteTime": {
     "end_time": "2024-09-22T22:30:44.753958Z",
     "start_time": "2024-09-22T22:30:44.692453Z"
    }
   },
   "cell_type": "code",
   "source": [
    "def transform(x):\n",
    "    return x[:4].upper()\n",
    "\n",
    "data.index.map(transform)"
   ],
   "id": "32e27ffc2384de91",
   "outputs": [
    {
     "data": {
      "text/plain": [
       "Index(['OHIO', 'COLO', 'NEW '], dtype='object')"
      ]
     },
     "execution_count": 30,
     "metadata": {},
     "output_type": "execute_result"
    }
   ],
   "execution_count": 30
  },
  {
   "metadata": {
    "ExecuteTime": {
     "end_time": "2024-09-22T22:30:45.135906Z",
     "start_time": "2024-09-22T22:30:45.077898Z"
    }
   },
   "cell_type": "code",
   "source": [
    "data.index = data.index.map(transform)\n",
    "data"
   ],
   "id": "8b9ac92e5d34d78d",
   "outputs": [
    {
     "data": {
      "text/plain": [
       "      one  two  three  four\n",
       "OHIO    0    1      2     3\n",
       "COLO    4    5      6     7\n",
       "NEW     8    9     10    11"
      ],
      "text/html": [
       "<div>\n",
       "<style scoped>\n",
       "    .dataframe tbody tr th:only-of-type {\n",
       "        vertical-align: middle;\n",
       "    }\n",
       "\n",
       "    .dataframe tbody tr th {\n",
       "        vertical-align: top;\n",
       "    }\n",
       "\n",
       "    .dataframe thead th {\n",
       "        text-align: right;\n",
       "    }\n",
       "</style>\n",
       "<table border=\"1\" class=\"dataframe\">\n",
       "  <thead>\n",
       "    <tr style=\"text-align: right;\">\n",
       "      <th></th>\n",
       "      <th>one</th>\n",
       "      <th>two</th>\n",
       "      <th>three</th>\n",
       "      <th>four</th>\n",
       "    </tr>\n",
       "  </thead>\n",
       "  <tbody>\n",
       "    <tr>\n",
       "      <th>OHIO</th>\n",
       "      <td>0</td>\n",
       "      <td>1</td>\n",
       "      <td>2</td>\n",
       "      <td>3</td>\n",
       "    </tr>\n",
       "    <tr>\n",
       "      <th>COLO</th>\n",
       "      <td>4</td>\n",
       "      <td>5</td>\n",
       "      <td>6</td>\n",
       "      <td>7</td>\n",
       "    </tr>\n",
       "    <tr>\n",
       "      <th>NEW</th>\n",
       "      <td>8</td>\n",
       "      <td>9</td>\n",
       "      <td>10</td>\n",
       "      <td>11</td>\n",
       "    </tr>\n",
       "  </tbody>\n",
       "</table>\n",
       "</div>"
      ]
     },
     "execution_count": 31,
     "metadata": {},
     "output_type": "execute_result"
    }
   ],
   "execution_count": 31
  },
  {
   "metadata": {
    "ExecuteTime": {
     "end_time": "2024-09-22T22:30:45.351442Z",
     "start_time": "2024-09-22T22:30:45.292139Z"
    }
   },
   "cell_type": "code",
   "source": [
    "data.rename(index={\"OHIO\": \"INDIANA\"},\n",
    "            columns={\"three\": \"peekaboo\"})"
   ],
   "id": "40b61449a2f9b810",
   "outputs": [
    {
     "data": {
      "text/plain": [
       "         one  two  peekaboo  four\n",
       "INDIANA    0    1         2     3\n",
       "COLO       4    5         6     7\n",
       "NEW        8    9        10    11"
      ],
      "text/html": [
       "<div>\n",
       "<style scoped>\n",
       "    .dataframe tbody tr th:only-of-type {\n",
       "        vertical-align: middle;\n",
       "    }\n",
       "\n",
       "    .dataframe tbody tr th {\n",
       "        vertical-align: top;\n",
       "    }\n",
       "\n",
       "    .dataframe thead th {\n",
       "        text-align: right;\n",
       "    }\n",
       "</style>\n",
       "<table border=\"1\" class=\"dataframe\">\n",
       "  <thead>\n",
       "    <tr style=\"text-align: right;\">\n",
       "      <th></th>\n",
       "      <th>one</th>\n",
       "      <th>two</th>\n",
       "      <th>peekaboo</th>\n",
       "      <th>four</th>\n",
       "    </tr>\n",
       "  </thead>\n",
       "  <tbody>\n",
       "    <tr>\n",
       "      <th>INDIANA</th>\n",
       "      <td>0</td>\n",
       "      <td>1</td>\n",
       "      <td>2</td>\n",
       "      <td>3</td>\n",
       "    </tr>\n",
       "    <tr>\n",
       "      <th>COLO</th>\n",
       "      <td>4</td>\n",
       "      <td>5</td>\n",
       "      <td>6</td>\n",
       "      <td>7</td>\n",
       "    </tr>\n",
       "    <tr>\n",
       "      <th>NEW</th>\n",
       "      <td>8</td>\n",
       "      <td>9</td>\n",
       "      <td>10</td>\n",
       "      <td>11</td>\n",
       "    </tr>\n",
       "  </tbody>\n",
       "</table>\n",
       "</div>"
      ]
     },
     "execution_count": 32,
     "metadata": {},
     "output_type": "execute_result"
    }
   ],
   "execution_count": 32
  },
  {
   "metadata": {
    "ExecuteTime": {
     "end_time": "2024-09-22T22:30:45.687295Z",
     "start_time": "2024-09-22T22:30:45.676354Z"
    }
   },
   "cell_type": "code",
   "source": "",
   "id": "d304a52468d45f0c",
   "outputs": [],
   "execution_count": null
  },
  {
   "metadata": {},
   "cell_type": "markdown",
   "source": [
    "### Detecting and Filtering Outliers \n",
    "\n",
    "\n"
   ],
   "id": "e856d8eb99652518"
  },
  {
   "metadata": {
    "ExecuteTime": {
     "end_time": "2024-09-22T22:30:46.305107Z",
     "start_time": "2024-09-22T22:30:46.154344Z"
    }
   },
   "cell_type": "code",
   "source": [
    "data = pd.DataFrame(np.random.standard_normal((1000, 4)))\n",
    "data.describe()"
   ],
   "id": "68310b242cf53044",
   "outputs": [
    {
     "data": {
      "text/plain": [
       "                 0            1            2            3\n",
       "count  1000.000000  1000.000000  1000.000000  1000.000000\n",
       "mean      0.015358    -0.042278    -0.004721    -0.029233\n",
       "std       0.999109     1.026366     0.942871     1.027145\n",
       "min      -3.308178    -3.322973    -2.912168    -3.070020\n",
       "25%      -0.648336    -0.738615    -0.608397    -0.793201\n",
       "50%       0.002264    -0.085495     0.019990    -0.030466\n",
       "75%       0.719440     0.660783     0.609754     0.694640\n",
       "max       3.550452     3.896942     2.701694     3.188416"
      ],
      "text/html": [
       "<div>\n",
       "<style scoped>\n",
       "    .dataframe tbody tr th:only-of-type {\n",
       "        vertical-align: middle;\n",
       "    }\n",
       "\n",
       "    .dataframe tbody tr th {\n",
       "        vertical-align: top;\n",
       "    }\n",
       "\n",
       "    .dataframe thead th {\n",
       "        text-align: right;\n",
       "    }\n",
       "</style>\n",
       "<table border=\"1\" class=\"dataframe\">\n",
       "  <thead>\n",
       "    <tr style=\"text-align: right;\">\n",
       "      <th></th>\n",
       "      <th>0</th>\n",
       "      <th>1</th>\n",
       "      <th>2</th>\n",
       "      <th>3</th>\n",
       "    </tr>\n",
       "  </thead>\n",
       "  <tbody>\n",
       "    <tr>\n",
       "      <th>count</th>\n",
       "      <td>1000.000000</td>\n",
       "      <td>1000.000000</td>\n",
       "      <td>1000.000000</td>\n",
       "      <td>1000.000000</td>\n",
       "    </tr>\n",
       "    <tr>\n",
       "      <th>mean</th>\n",
       "      <td>0.015358</td>\n",
       "      <td>-0.042278</td>\n",
       "      <td>-0.004721</td>\n",
       "      <td>-0.029233</td>\n",
       "    </tr>\n",
       "    <tr>\n",
       "      <th>std</th>\n",
       "      <td>0.999109</td>\n",
       "      <td>1.026366</td>\n",
       "      <td>0.942871</td>\n",
       "      <td>1.027145</td>\n",
       "    </tr>\n",
       "    <tr>\n",
       "      <th>min</th>\n",
       "      <td>-3.308178</td>\n",
       "      <td>-3.322973</td>\n",
       "      <td>-2.912168</td>\n",
       "      <td>-3.070020</td>\n",
       "    </tr>\n",
       "    <tr>\n",
       "      <th>25%</th>\n",
       "      <td>-0.648336</td>\n",
       "      <td>-0.738615</td>\n",
       "      <td>-0.608397</td>\n",
       "      <td>-0.793201</td>\n",
       "    </tr>\n",
       "    <tr>\n",
       "      <th>50%</th>\n",
       "      <td>0.002264</td>\n",
       "      <td>-0.085495</td>\n",
       "      <td>0.019990</td>\n",
       "      <td>-0.030466</td>\n",
       "    </tr>\n",
       "    <tr>\n",
       "      <th>75%</th>\n",
       "      <td>0.719440</td>\n",
       "      <td>0.660783</td>\n",
       "      <td>0.609754</td>\n",
       "      <td>0.694640</td>\n",
       "    </tr>\n",
       "    <tr>\n",
       "      <th>max</th>\n",
       "      <td>3.550452</td>\n",
       "      <td>3.896942</td>\n",
       "      <td>2.701694</td>\n",
       "      <td>3.188416</td>\n",
       "    </tr>\n",
       "  </tbody>\n",
       "</table>\n",
       "</div>"
      ]
     },
     "execution_count": 33,
     "metadata": {},
     "output_type": "execute_result"
    }
   ],
   "execution_count": 33
  },
  {
   "metadata": {},
   "cell_type": "markdown",
   "source": "Select all rows having a value exceeding 3 or –3, use the **any** method on a Boolean DataFrame:",
   "id": "1ade468c6808aeec"
  },
  {
   "metadata": {
    "ExecuteTime": {
     "end_time": "2024-09-22T22:30:46.783428Z",
     "start_time": "2024-09-22T22:30:46.698231Z"
    }
   },
   "cell_type": "code",
   "source": "data[(data.abs() > 3).any(axis=\"columns\")]",
   "id": "7cc3b4aea56c7665",
   "outputs": [
    {
     "data": {
      "text/plain": [
       "            0         1         2         3\n",
       "31  -0.070603 -3.248475  0.020411 -1.190478\n",
       "65  -0.985728  3.896942  0.124875 -0.310974\n",
       "223 -0.702728 -3.310425 -0.529013 -1.070876\n",
       "279 -1.501543 -3.322973 -0.550701  0.679729\n",
       "457 -3.308178 -1.439958 -0.637497  1.019623\n",
       "483  0.773020  0.017844  0.440322  3.188416\n",
       "507 -3.046169 -0.948939 -0.800483  1.176218\n",
       "549  3.048777 -0.518991  0.152208  0.396135\n",
       "791  0.940219  1.136673 -0.172422 -3.070020\n",
       "795  1.107096  3.114501  0.524139 -2.165481\n",
       "841  3.550452 -0.580044 -0.248916 -0.949124\n",
       "887  3.457919 -1.299166  0.903089  0.902912"
      ],
      "text/html": [
       "<div>\n",
       "<style scoped>\n",
       "    .dataframe tbody tr th:only-of-type {\n",
       "        vertical-align: middle;\n",
       "    }\n",
       "\n",
       "    .dataframe tbody tr th {\n",
       "        vertical-align: top;\n",
       "    }\n",
       "\n",
       "    .dataframe thead th {\n",
       "        text-align: right;\n",
       "    }\n",
       "</style>\n",
       "<table border=\"1\" class=\"dataframe\">\n",
       "  <thead>\n",
       "    <tr style=\"text-align: right;\">\n",
       "      <th></th>\n",
       "      <th>0</th>\n",
       "      <th>1</th>\n",
       "      <th>2</th>\n",
       "      <th>3</th>\n",
       "    </tr>\n",
       "  </thead>\n",
       "  <tbody>\n",
       "    <tr>\n",
       "      <th>31</th>\n",
       "      <td>-0.070603</td>\n",
       "      <td>-3.248475</td>\n",
       "      <td>0.020411</td>\n",
       "      <td>-1.190478</td>\n",
       "    </tr>\n",
       "    <tr>\n",
       "      <th>65</th>\n",
       "      <td>-0.985728</td>\n",
       "      <td>3.896942</td>\n",
       "      <td>0.124875</td>\n",
       "      <td>-0.310974</td>\n",
       "    </tr>\n",
       "    <tr>\n",
       "      <th>223</th>\n",
       "      <td>-0.702728</td>\n",
       "      <td>-3.310425</td>\n",
       "      <td>-0.529013</td>\n",
       "      <td>-1.070876</td>\n",
       "    </tr>\n",
       "    <tr>\n",
       "      <th>279</th>\n",
       "      <td>-1.501543</td>\n",
       "      <td>-3.322973</td>\n",
       "      <td>-0.550701</td>\n",
       "      <td>0.679729</td>\n",
       "    </tr>\n",
       "    <tr>\n",
       "      <th>457</th>\n",
       "      <td>-3.308178</td>\n",
       "      <td>-1.439958</td>\n",
       "      <td>-0.637497</td>\n",
       "      <td>1.019623</td>\n",
       "    </tr>\n",
       "    <tr>\n",
       "      <th>483</th>\n",
       "      <td>0.773020</td>\n",
       "      <td>0.017844</td>\n",
       "      <td>0.440322</td>\n",
       "      <td>3.188416</td>\n",
       "    </tr>\n",
       "    <tr>\n",
       "      <th>507</th>\n",
       "      <td>-3.046169</td>\n",
       "      <td>-0.948939</td>\n",
       "      <td>-0.800483</td>\n",
       "      <td>1.176218</td>\n",
       "    </tr>\n",
       "    <tr>\n",
       "      <th>549</th>\n",
       "      <td>3.048777</td>\n",
       "      <td>-0.518991</td>\n",
       "      <td>0.152208</td>\n",
       "      <td>0.396135</td>\n",
       "    </tr>\n",
       "    <tr>\n",
       "      <th>791</th>\n",
       "      <td>0.940219</td>\n",
       "      <td>1.136673</td>\n",
       "      <td>-0.172422</td>\n",
       "      <td>-3.070020</td>\n",
       "    </tr>\n",
       "    <tr>\n",
       "      <th>795</th>\n",
       "      <td>1.107096</td>\n",
       "      <td>3.114501</td>\n",
       "      <td>0.524139</td>\n",
       "      <td>-2.165481</td>\n",
       "    </tr>\n",
       "    <tr>\n",
       "      <th>841</th>\n",
       "      <td>3.550452</td>\n",
       "      <td>-0.580044</td>\n",
       "      <td>-0.248916</td>\n",
       "      <td>-0.949124</td>\n",
       "    </tr>\n",
       "    <tr>\n",
       "      <th>887</th>\n",
       "      <td>3.457919</td>\n",
       "      <td>-1.299166</td>\n",
       "      <td>0.903089</td>\n",
       "      <td>0.902912</td>\n",
       "    </tr>\n",
       "  </tbody>\n",
       "</table>\n",
       "</div>"
      ]
     },
     "execution_count": 34,
     "metadata": {},
     "output_type": "execute_result"
    }
   ],
   "execution_count": 34
  },
  {
   "metadata": {},
   "cell_type": "markdown",
   "source": "Set values based on these criteria:",
   "id": "19c640c85ee85491"
  },
  {
   "metadata": {
    "ExecuteTime": {
     "end_time": "2024-09-22T22:30:47.150804Z",
     "start_time": "2024-09-22T22:30:47.079483Z"
    }
   },
   "cell_type": "code",
   "source": [
    "data[data.abs() > 3] = np.sign(data) * 3\n",
    "data.describe()"
   ],
   "id": "169f7a9a5e72bdf6",
   "outputs": [
    {
     "data": {
      "text/plain": [
       "                 0            1            2            3\n",
       "count  1000.000000  1000.000000  1000.000000  1000.000000\n",
       "mean      0.014655    -0.042408    -0.004721    -0.029352\n",
       "std       0.994560     1.020276     0.942871     1.026366\n",
       "min      -3.000000    -3.000000    -2.912168    -3.000000\n",
       "25%      -0.648336    -0.738615    -0.608397    -0.793201\n",
       "50%       0.002264    -0.085495     0.019990    -0.030466\n",
       "75%       0.719440     0.660783     0.609754     0.694640\n",
       "max       3.000000     3.000000     2.701694     3.000000"
      ],
      "text/html": [
       "<div>\n",
       "<style scoped>\n",
       "    .dataframe tbody tr th:only-of-type {\n",
       "        vertical-align: middle;\n",
       "    }\n",
       "\n",
       "    .dataframe tbody tr th {\n",
       "        vertical-align: top;\n",
       "    }\n",
       "\n",
       "    .dataframe thead th {\n",
       "        text-align: right;\n",
       "    }\n",
       "</style>\n",
       "<table border=\"1\" class=\"dataframe\">\n",
       "  <thead>\n",
       "    <tr style=\"text-align: right;\">\n",
       "      <th></th>\n",
       "      <th>0</th>\n",
       "      <th>1</th>\n",
       "      <th>2</th>\n",
       "      <th>3</th>\n",
       "    </tr>\n",
       "  </thead>\n",
       "  <tbody>\n",
       "    <tr>\n",
       "      <th>count</th>\n",
       "      <td>1000.000000</td>\n",
       "      <td>1000.000000</td>\n",
       "      <td>1000.000000</td>\n",
       "      <td>1000.000000</td>\n",
       "    </tr>\n",
       "    <tr>\n",
       "      <th>mean</th>\n",
       "      <td>0.014655</td>\n",
       "      <td>-0.042408</td>\n",
       "      <td>-0.004721</td>\n",
       "      <td>-0.029352</td>\n",
       "    </tr>\n",
       "    <tr>\n",
       "      <th>std</th>\n",
       "      <td>0.994560</td>\n",
       "      <td>1.020276</td>\n",
       "      <td>0.942871</td>\n",
       "      <td>1.026366</td>\n",
       "    </tr>\n",
       "    <tr>\n",
       "      <th>min</th>\n",
       "      <td>-3.000000</td>\n",
       "      <td>-3.000000</td>\n",
       "      <td>-2.912168</td>\n",
       "      <td>-3.000000</td>\n",
       "    </tr>\n",
       "    <tr>\n",
       "      <th>25%</th>\n",
       "      <td>-0.648336</td>\n",
       "      <td>-0.738615</td>\n",
       "      <td>-0.608397</td>\n",
       "      <td>-0.793201</td>\n",
       "    </tr>\n",
       "    <tr>\n",
       "      <th>50%</th>\n",
       "      <td>0.002264</td>\n",
       "      <td>-0.085495</td>\n",
       "      <td>0.019990</td>\n",
       "      <td>-0.030466</td>\n",
       "    </tr>\n",
       "    <tr>\n",
       "      <th>75%</th>\n",
       "      <td>0.719440</td>\n",
       "      <td>0.660783</td>\n",
       "      <td>0.609754</td>\n",
       "      <td>0.694640</td>\n",
       "    </tr>\n",
       "    <tr>\n",
       "      <th>max</th>\n",
       "      <td>3.000000</td>\n",
       "      <td>3.000000</td>\n",
       "      <td>2.701694</td>\n",
       "      <td>3.000000</td>\n",
       "    </tr>\n",
       "  </tbody>\n",
       "</table>\n",
       "</div>"
      ]
     },
     "execution_count": 35,
     "metadata": {},
     "output_type": "execute_result"
    }
   ],
   "execution_count": 35
  },
  {
   "metadata": {
    "ExecuteTime": {
     "end_time": "2024-09-22T22:30:47.417428Z",
     "start_time": "2024-09-22T22:30:47.413916Z"
    }
   },
   "cell_type": "code",
   "source": "",
   "id": "ebd2469e9c32355a",
   "outputs": [],
   "execution_count": null
  },
  {
   "metadata": {},
   "cell_type": "markdown",
   "source": [
    "### Permutation and Random Sampling \n",
    "\n",
    "Permuting (randomly reordering) a Series or the rows in a DataFrame using the **numpy.random.permutation** function:"
   ],
   "id": "89fa3cfb40469a0a"
  },
  {
   "metadata": {
    "ExecuteTime": {
     "end_time": "2024-09-22T22:30:47.889116Z",
     "start_time": "2024-09-22T22:30:47.853874Z"
    }
   },
   "cell_type": "code",
   "source": [
    "df = pd.DataFrame(np.arange(5 * 7).reshape((5, 7)))\n",
    "df"
   ],
   "id": "91a5ae76cdffd985",
   "outputs": [
    {
     "data": {
      "text/plain": [
       "    0   1   2   3   4   5   6\n",
       "0   0   1   2   3   4   5   6\n",
       "1   7   8   9  10  11  12  13\n",
       "2  14  15  16  17  18  19  20\n",
       "3  21  22  23  24  25  26  27\n",
       "4  28  29  30  31  32  33  34"
      ],
      "text/html": [
       "<div>\n",
       "<style scoped>\n",
       "    .dataframe tbody tr th:only-of-type {\n",
       "        vertical-align: middle;\n",
       "    }\n",
       "\n",
       "    .dataframe tbody tr th {\n",
       "        vertical-align: top;\n",
       "    }\n",
       "\n",
       "    .dataframe thead th {\n",
       "        text-align: right;\n",
       "    }\n",
       "</style>\n",
       "<table border=\"1\" class=\"dataframe\">\n",
       "  <thead>\n",
       "    <tr style=\"text-align: right;\">\n",
       "      <th></th>\n",
       "      <th>0</th>\n",
       "      <th>1</th>\n",
       "      <th>2</th>\n",
       "      <th>3</th>\n",
       "      <th>4</th>\n",
       "      <th>5</th>\n",
       "      <th>6</th>\n",
       "    </tr>\n",
       "  </thead>\n",
       "  <tbody>\n",
       "    <tr>\n",
       "      <th>0</th>\n",
       "      <td>0</td>\n",
       "      <td>1</td>\n",
       "      <td>2</td>\n",
       "      <td>3</td>\n",
       "      <td>4</td>\n",
       "      <td>5</td>\n",
       "      <td>6</td>\n",
       "    </tr>\n",
       "    <tr>\n",
       "      <th>1</th>\n",
       "      <td>7</td>\n",
       "      <td>8</td>\n",
       "      <td>9</td>\n",
       "      <td>10</td>\n",
       "      <td>11</td>\n",
       "      <td>12</td>\n",
       "      <td>13</td>\n",
       "    </tr>\n",
       "    <tr>\n",
       "      <th>2</th>\n",
       "      <td>14</td>\n",
       "      <td>15</td>\n",
       "      <td>16</td>\n",
       "      <td>17</td>\n",
       "      <td>18</td>\n",
       "      <td>19</td>\n",
       "      <td>20</td>\n",
       "    </tr>\n",
       "    <tr>\n",
       "      <th>3</th>\n",
       "      <td>21</td>\n",
       "      <td>22</td>\n",
       "      <td>23</td>\n",
       "      <td>24</td>\n",
       "      <td>25</td>\n",
       "      <td>26</td>\n",
       "      <td>27</td>\n",
       "    </tr>\n",
       "    <tr>\n",
       "      <th>4</th>\n",
       "      <td>28</td>\n",
       "      <td>29</td>\n",
       "      <td>30</td>\n",
       "      <td>31</td>\n",
       "      <td>32</td>\n",
       "      <td>33</td>\n",
       "      <td>34</td>\n",
       "    </tr>\n",
       "  </tbody>\n",
       "</table>\n",
       "</div>"
      ]
     },
     "execution_count": 36,
     "metadata": {},
     "output_type": "execute_result"
    }
   ],
   "execution_count": 36
  },
  {
   "metadata": {
    "ExecuteTime": {
     "end_time": "2024-09-22T22:30:48.179862Z",
     "start_time": "2024-09-22T22:30:48.138039Z"
    }
   },
   "cell_type": "code",
   "source": [
    "sampler = np.random.permutation(5)\n",
    "sampler"
   ],
   "id": "8c1e70205b54ef49",
   "outputs": [
    {
     "data": {
      "text/plain": [
       "array([4, 0, 1, 3, 2])"
      ]
     },
     "execution_count": 37,
     "metadata": {},
     "output_type": "execute_result"
    }
   ],
   "execution_count": 37
  },
  {
   "metadata": {
    "ExecuteTime": {
     "end_time": "2024-09-22T22:30:48.417790Z",
     "start_time": "2024-09-22T22:30:48.379267Z"
    }
   },
   "cell_type": "code",
   "source": "df.take(sampler)",
   "id": "25d0406e861c717f",
   "outputs": [
    {
     "data": {
      "text/plain": [
       "    0   1   2   3   4   5   6\n",
       "4  28  29  30  31  32  33  34\n",
       "0   0   1   2   3   4   5   6\n",
       "1   7   8   9  10  11  12  13\n",
       "3  21  22  23  24  25  26  27\n",
       "2  14  15  16  17  18  19  20"
      ],
      "text/html": [
       "<div>\n",
       "<style scoped>\n",
       "    .dataframe tbody tr th:only-of-type {\n",
       "        vertical-align: middle;\n",
       "    }\n",
       "\n",
       "    .dataframe tbody tr th {\n",
       "        vertical-align: top;\n",
       "    }\n",
       "\n",
       "    .dataframe thead th {\n",
       "        text-align: right;\n",
       "    }\n",
       "</style>\n",
       "<table border=\"1\" class=\"dataframe\">\n",
       "  <thead>\n",
       "    <tr style=\"text-align: right;\">\n",
       "      <th></th>\n",
       "      <th>0</th>\n",
       "      <th>1</th>\n",
       "      <th>2</th>\n",
       "      <th>3</th>\n",
       "      <th>4</th>\n",
       "      <th>5</th>\n",
       "      <th>6</th>\n",
       "    </tr>\n",
       "  </thead>\n",
       "  <tbody>\n",
       "    <tr>\n",
       "      <th>4</th>\n",
       "      <td>28</td>\n",
       "      <td>29</td>\n",
       "      <td>30</td>\n",
       "      <td>31</td>\n",
       "      <td>32</td>\n",
       "      <td>33</td>\n",
       "      <td>34</td>\n",
       "    </tr>\n",
       "    <tr>\n",
       "      <th>0</th>\n",
       "      <td>0</td>\n",
       "      <td>1</td>\n",
       "      <td>2</td>\n",
       "      <td>3</td>\n",
       "      <td>4</td>\n",
       "      <td>5</td>\n",
       "      <td>6</td>\n",
       "    </tr>\n",
       "    <tr>\n",
       "      <th>1</th>\n",
       "      <td>7</td>\n",
       "      <td>8</td>\n",
       "      <td>9</td>\n",
       "      <td>10</td>\n",
       "      <td>11</td>\n",
       "      <td>12</td>\n",
       "      <td>13</td>\n",
       "    </tr>\n",
       "    <tr>\n",
       "      <th>3</th>\n",
       "      <td>21</td>\n",
       "      <td>22</td>\n",
       "      <td>23</td>\n",
       "      <td>24</td>\n",
       "      <td>25</td>\n",
       "      <td>26</td>\n",
       "      <td>27</td>\n",
       "    </tr>\n",
       "    <tr>\n",
       "      <th>2</th>\n",
       "      <td>14</td>\n",
       "      <td>15</td>\n",
       "      <td>16</td>\n",
       "      <td>17</td>\n",
       "      <td>18</td>\n",
       "      <td>19</td>\n",
       "      <td>20</td>\n",
       "    </tr>\n",
       "  </tbody>\n",
       "</table>\n",
       "</div>"
      ]
     },
     "execution_count": 38,
     "metadata": {},
     "output_type": "execute_result"
    }
   ],
   "execution_count": 38
  },
  {
   "metadata": {
    "ExecuteTime": {
     "end_time": "2024-09-22T22:30:48.901233Z",
     "start_time": "2024-09-22T22:30:48.851540Z"
    }
   },
   "cell_type": "code",
   "source": "df.iloc[sampler]",
   "id": "d8f50c6df1d156aa",
   "outputs": [
    {
     "data": {
      "text/plain": [
       "    0   1   2   3   4   5   6\n",
       "4  28  29  30  31  32  33  34\n",
       "0   0   1   2   3   4   5   6\n",
       "1   7   8   9  10  11  12  13\n",
       "3  21  22  23  24  25  26  27\n",
       "2  14  15  16  17  18  19  20"
      ],
      "text/html": [
       "<div>\n",
       "<style scoped>\n",
       "    .dataframe tbody tr th:only-of-type {\n",
       "        vertical-align: middle;\n",
       "    }\n",
       "\n",
       "    .dataframe tbody tr th {\n",
       "        vertical-align: top;\n",
       "    }\n",
       "\n",
       "    .dataframe thead th {\n",
       "        text-align: right;\n",
       "    }\n",
       "</style>\n",
       "<table border=\"1\" class=\"dataframe\">\n",
       "  <thead>\n",
       "    <tr style=\"text-align: right;\">\n",
       "      <th></th>\n",
       "      <th>0</th>\n",
       "      <th>1</th>\n",
       "      <th>2</th>\n",
       "      <th>3</th>\n",
       "      <th>4</th>\n",
       "      <th>5</th>\n",
       "      <th>6</th>\n",
       "    </tr>\n",
       "  </thead>\n",
       "  <tbody>\n",
       "    <tr>\n",
       "      <th>4</th>\n",
       "      <td>28</td>\n",
       "      <td>29</td>\n",
       "      <td>30</td>\n",
       "      <td>31</td>\n",
       "      <td>32</td>\n",
       "      <td>33</td>\n",
       "      <td>34</td>\n",
       "    </tr>\n",
       "    <tr>\n",
       "      <th>0</th>\n",
       "      <td>0</td>\n",
       "      <td>1</td>\n",
       "      <td>2</td>\n",
       "      <td>3</td>\n",
       "      <td>4</td>\n",
       "      <td>5</td>\n",
       "      <td>6</td>\n",
       "    </tr>\n",
       "    <tr>\n",
       "      <th>1</th>\n",
       "      <td>7</td>\n",
       "      <td>8</td>\n",
       "      <td>9</td>\n",
       "      <td>10</td>\n",
       "      <td>11</td>\n",
       "      <td>12</td>\n",
       "      <td>13</td>\n",
       "    </tr>\n",
       "    <tr>\n",
       "      <th>3</th>\n",
       "      <td>21</td>\n",
       "      <td>22</td>\n",
       "      <td>23</td>\n",
       "      <td>24</td>\n",
       "      <td>25</td>\n",
       "      <td>26</td>\n",
       "      <td>27</td>\n",
       "    </tr>\n",
       "    <tr>\n",
       "      <th>2</th>\n",
       "      <td>14</td>\n",
       "      <td>15</td>\n",
       "      <td>16</td>\n",
       "      <td>17</td>\n",
       "      <td>18</td>\n",
       "      <td>19</td>\n",
       "      <td>20</td>\n",
       "    </tr>\n",
       "  </tbody>\n",
       "</table>\n",
       "</div>"
      ]
     },
     "execution_count": 39,
     "metadata": {},
     "output_type": "execute_result"
    }
   ],
   "execution_count": 39
  },
  {
   "metadata": {},
   "cell_type": "markdown",
   "source": "Permutation of the columns with **axis=\"columns\"** flag in **.take()** method:",
   "id": "8a4f25585de7cf29"
  },
  {
   "metadata": {
    "ExecuteTime": {
     "end_time": "2024-09-22T22:30:49.182549Z",
     "start_time": "2024-09-22T22:30:49.142218Z"
    }
   },
   "cell_type": "code",
   "source": [
    "column_sampler = np.random.permutation(7)\n",
    "column_sampler"
   ],
   "id": "4e3d3aadaef20892",
   "outputs": [
    {
     "data": {
      "text/plain": [
       "array([1, 2, 6, 5, 4, 3, 0])"
      ]
     },
     "execution_count": 40,
     "metadata": {},
     "output_type": "execute_result"
    }
   ],
   "execution_count": 40
  },
  {
   "metadata": {
    "ExecuteTime": {
     "end_time": "2024-09-22T22:30:49.737253Z",
     "start_time": "2024-09-22T22:30:49.698402Z"
    }
   },
   "cell_type": "code",
   "source": "df.take(column_sampler, axis=\"columns\")",
   "id": "add6558a7fd49107",
   "outputs": [
    {
     "data": {
      "text/plain": [
       "    1   2   6   5   4   3   0\n",
       "0   1   2   6   5   4   3   0\n",
       "1   8   9  13  12  11  10   7\n",
       "2  15  16  20  19  18  17  14\n",
       "3  22  23  27  26  25  24  21\n",
       "4  29  30  34  33  32  31  28"
      ],
      "text/html": [
       "<div>\n",
       "<style scoped>\n",
       "    .dataframe tbody tr th:only-of-type {\n",
       "        vertical-align: middle;\n",
       "    }\n",
       "\n",
       "    .dataframe tbody tr th {\n",
       "        vertical-align: top;\n",
       "    }\n",
       "\n",
       "    .dataframe thead th {\n",
       "        text-align: right;\n",
       "    }\n",
       "</style>\n",
       "<table border=\"1\" class=\"dataframe\">\n",
       "  <thead>\n",
       "    <tr style=\"text-align: right;\">\n",
       "      <th></th>\n",
       "      <th>1</th>\n",
       "      <th>2</th>\n",
       "      <th>6</th>\n",
       "      <th>5</th>\n",
       "      <th>4</th>\n",
       "      <th>3</th>\n",
       "      <th>0</th>\n",
       "    </tr>\n",
       "  </thead>\n",
       "  <tbody>\n",
       "    <tr>\n",
       "      <th>0</th>\n",
       "      <td>1</td>\n",
       "      <td>2</td>\n",
       "      <td>6</td>\n",
       "      <td>5</td>\n",
       "      <td>4</td>\n",
       "      <td>3</td>\n",
       "      <td>0</td>\n",
       "    </tr>\n",
       "    <tr>\n",
       "      <th>1</th>\n",
       "      <td>8</td>\n",
       "      <td>9</td>\n",
       "      <td>13</td>\n",
       "      <td>12</td>\n",
       "      <td>11</td>\n",
       "      <td>10</td>\n",
       "      <td>7</td>\n",
       "    </tr>\n",
       "    <tr>\n",
       "      <th>2</th>\n",
       "      <td>15</td>\n",
       "      <td>16</td>\n",
       "      <td>20</td>\n",
       "      <td>19</td>\n",
       "      <td>18</td>\n",
       "      <td>17</td>\n",
       "      <td>14</td>\n",
       "    </tr>\n",
       "    <tr>\n",
       "      <th>3</th>\n",
       "      <td>22</td>\n",
       "      <td>23</td>\n",
       "      <td>27</td>\n",
       "      <td>26</td>\n",
       "      <td>25</td>\n",
       "      <td>24</td>\n",
       "      <td>21</td>\n",
       "    </tr>\n",
       "    <tr>\n",
       "      <th>4</th>\n",
       "      <td>29</td>\n",
       "      <td>30</td>\n",
       "      <td>34</td>\n",
       "      <td>33</td>\n",
       "      <td>32</td>\n",
       "      <td>31</td>\n",
       "      <td>28</td>\n",
       "    </tr>\n",
       "  </tbody>\n",
       "</table>\n",
       "</div>"
      ]
     },
     "execution_count": 41,
     "metadata": {},
     "output_type": "execute_result"
    }
   ],
   "execution_count": 41
  },
  {
   "metadata": {},
   "cell_type": "markdown",
   "source": " Select a random subset without replacement:",
   "id": "d3594e6244fabef8"
  },
  {
   "metadata": {
    "ExecuteTime": {
     "end_time": "2024-09-22T22:30:49.954516Z",
     "start_time": "2024-09-22T22:30:49.921376Z"
    }
   },
   "cell_type": "code",
   "source": "df.sample(n=3)",
   "id": "4ab2e84d6fa0da90",
   "outputs": [
    {
     "data": {
      "text/plain": [
       "    0   1   2   3   4   5   6\n",
       "2  14  15  16  17  18  19  20\n",
       "1   7   8   9  10  11  12  13\n",
       "0   0   1   2   3   4   5   6"
      ],
      "text/html": [
       "<div>\n",
       "<style scoped>\n",
       "    .dataframe tbody tr th:only-of-type {\n",
       "        vertical-align: middle;\n",
       "    }\n",
       "\n",
       "    .dataframe tbody tr th {\n",
       "        vertical-align: top;\n",
       "    }\n",
       "\n",
       "    .dataframe thead th {\n",
       "        text-align: right;\n",
       "    }\n",
       "</style>\n",
       "<table border=\"1\" class=\"dataframe\">\n",
       "  <thead>\n",
       "    <tr style=\"text-align: right;\">\n",
       "      <th></th>\n",
       "      <th>0</th>\n",
       "      <th>1</th>\n",
       "      <th>2</th>\n",
       "      <th>3</th>\n",
       "      <th>4</th>\n",
       "      <th>5</th>\n",
       "      <th>6</th>\n",
       "    </tr>\n",
       "  </thead>\n",
       "  <tbody>\n",
       "    <tr>\n",
       "      <th>2</th>\n",
       "      <td>14</td>\n",
       "      <td>15</td>\n",
       "      <td>16</td>\n",
       "      <td>17</td>\n",
       "      <td>18</td>\n",
       "      <td>19</td>\n",
       "      <td>20</td>\n",
       "    </tr>\n",
       "    <tr>\n",
       "      <th>1</th>\n",
       "      <td>7</td>\n",
       "      <td>8</td>\n",
       "      <td>9</td>\n",
       "      <td>10</td>\n",
       "      <td>11</td>\n",
       "      <td>12</td>\n",
       "      <td>13</td>\n",
       "    </tr>\n",
       "    <tr>\n",
       "      <th>0</th>\n",
       "      <td>0</td>\n",
       "      <td>1</td>\n",
       "      <td>2</td>\n",
       "      <td>3</td>\n",
       "      <td>4</td>\n",
       "      <td>5</td>\n",
       "      <td>6</td>\n",
       "    </tr>\n",
       "  </tbody>\n",
       "</table>\n",
       "</div>"
      ]
     },
     "execution_count": 42,
     "metadata": {},
     "output_type": "execute_result"
    }
   ],
   "execution_count": 42
  },
  {
   "metadata": {},
   "cell_type": "markdown",
   "source": "Generate a sample with replacement (to allow repeat choices):",
   "id": "d4fdb10cfef2dfdc"
  },
  {
   "metadata": {
    "ExecuteTime": {
     "end_time": "2024-09-22T22:30:50.450379Z",
     "start_time": "2024-09-22T22:30:50.411105Z"
    }
   },
   "cell_type": "code",
   "source": [
    "choices = pd.Series([5, 7, -1, 6, 4])\n",
    "choices.sample(n=10, replace=True)"
   ],
   "id": "24782aa5d9195d34",
   "outputs": [
    {
     "data": {
      "text/plain": [
       "4    4\n",
       "3    6\n",
       "4    4\n",
       "2   -1\n",
       "1    7\n",
       "2   -1\n",
       "0    5\n",
       "3    6\n",
       "2   -1\n",
       "3    6\n",
       "dtype: int64"
      ]
     },
     "execution_count": 43,
     "metadata": {},
     "output_type": "execute_result"
    }
   ],
   "execution_count": 43
  },
  {
   "metadata": {
    "ExecuteTime": {
     "end_time": "2024-09-22T22:30:51.051257Z",
     "start_time": "2024-09-22T22:30:51.047404Z"
    }
   },
   "cell_type": "code",
   "source": "",
   "id": "ceba3130a414435c",
   "outputs": [],
   "execution_count": null
  },
  {
   "metadata": {},
   "cell_type": "markdown",
   "source": "### Computing Indicator/Dummy Variables",
   "id": "486e627feb14945e"
  },
  {
   "metadata": {
    "ExecuteTime": {
     "end_time": "2024-09-22T22:30:51.755194Z",
     "start_time": "2024-09-22T22:30:51.606406Z"
    }
   },
   "cell_type": "code",
   "source": [
    "mnames = [\"movie_id\", \"title\", \"genres\"]\n",
    "movies = pd.read_table(\"./DataScienceProgramming/06-Data-Transformation-Visualization/movies.dat\", sep=\"::\",\n",
    "                       header=None, names=mnames, engine=\"python\")\n",
    "movies[:10]"
   ],
   "id": "746b4457883287c5",
   "outputs": [
    {
     "data": {
      "text/plain": [
       "   movie_id                               title                        genres\n",
       "0         1                    Toy Story (1995)   Animation|Children's|Comedy\n",
       "1         2                      Jumanji (1995)  Adventure|Children's|Fantasy\n",
       "2         3             Grumpier Old Men (1995)                Comedy|Romance\n",
       "3         4            Waiting to Exhale (1995)                  Comedy|Drama\n",
       "4         5  Father of the Bride Part II (1995)                        Comedy\n",
       "5         6                         Heat (1995)         Action|Crime|Thriller\n",
       "6         7                      Sabrina (1995)                Comedy|Romance\n",
       "7         8                 Tom and Huck (1995)          Adventure|Children's\n",
       "8         9                 Sudden Death (1995)                        Action\n",
       "9        10                    GoldenEye (1995)     Action|Adventure|Thriller"
      ],
      "text/html": [
       "<div>\n",
       "<style scoped>\n",
       "    .dataframe tbody tr th:only-of-type {\n",
       "        vertical-align: middle;\n",
       "    }\n",
       "\n",
       "    .dataframe tbody tr th {\n",
       "        vertical-align: top;\n",
       "    }\n",
       "\n",
       "    .dataframe thead th {\n",
       "        text-align: right;\n",
       "    }\n",
       "</style>\n",
       "<table border=\"1\" class=\"dataframe\">\n",
       "  <thead>\n",
       "    <tr style=\"text-align: right;\">\n",
       "      <th></th>\n",
       "      <th>movie_id</th>\n",
       "      <th>title</th>\n",
       "      <th>genres</th>\n",
       "    </tr>\n",
       "  </thead>\n",
       "  <tbody>\n",
       "    <tr>\n",
       "      <th>0</th>\n",
       "      <td>1</td>\n",
       "      <td>Toy Story (1995)</td>\n",
       "      <td>Animation|Children's|Comedy</td>\n",
       "    </tr>\n",
       "    <tr>\n",
       "      <th>1</th>\n",
       "      <td>2</td>\n",
       "      <td>Jumanji (1995)</td>\n",
       "      <td>Adventure|Children's|Fantasy</td>\n",
       "    </tr>\n",
       "    <tr>\n",
       "      <th>2</th>\n",
       "      <td>3</td>\n",
       "      <td>Grumpier Old Men (1995)</td>\n",
       "      <td>Comedy|Romance</td>\n",
       "    </tr>\n",
       "    <tr>\n",
       "      <th>3</th>\n",
       "      <td>4</td>\n",
       "      <td>Waiting to Exhale (1995)</td>\n",
       "      <td>Comedy|Drama</td>\n",
       "    </tr>\n",
       "    <tr>\n",
       "      <th>4</th>\n",
       "      <td>5</td>\n",
       "      <td>Father of the Bride Part II (1995)</td>\n",
       "      <td>Comedy</td>\n",
       "    </tr>\n",
       "    <tr>\n",
       "      <th>5</th>\n",
       "      <td>6</td>\n",
       "      <td>Heat (1995)</td>\n",
       "      <td>Action|Crime|Thriller</td>\n",
       "    </tr>\n",
       "    <tr>\n",
       "      <th>6</th>\n",
       "      <td>7</td>\n",
       "      <td>Sabrina (1995)</td>\n",
       "      <td>Comedy|Romance</td>\n",
       "    </tr>\n",
       "    <tr>\n",
       "      <th>7</th>\n",
       "      <td>8</td>\n",
       "      <td>Tom and Huck (1995)</td>\n",
       "      <td>Adventure|Children's</td>\n",
       "    </tr>\n",
       "    <tr>\n",
       "      <th>8</th>\n",
       "      <td>9</td>\n",
       "      <td>Sudden Death (1995)</td>\n",
       "      <td>Action</td>\n",
       "    </tr>\n",
       "    <tr>\n",
       "      <th>9</th>\n",
       "      <td>10</td>\n",
       "      <td>GoldenEye (1995)</td>\n",
       "      <td>Action|Adventure|Thriller</td>\n",
       "    </tr>\n",
       "  </tbody>\n",
       "</table>\n",
       "</div>"
      ]
     },
     "execution_count": 44,
     "metadata": {},
     "output_type": "execute_result"
    }
   ],
   "execution_count": 44
  },
  {
   "metadata": {
    "ExecuteTime": {
     "end_time": "2024-09-22T22:30:52.812204Z",
     "start_time": "2024-09-22T22:30:52.606862Z"
    }
   },
   "cell_type": "code",
   "source": [
    "dummies = movies[\"genres\"].str.get_dummies(\"|\")\n",
    "dummies.iloc[:10, :6]"
   ],
   "id": "5f33bfe2a112052",
   "outputs": [
    {
     "data": {
      "text/plain": [
       "   Action  Adventure  Animation  Children's  Comedy  Crime\n",
       "0       0          0          1           1       1      0\n",
       "1       0          1          0           1       0      0\n",
       "2       0          0          0           0       1      0\n",
       "3       0          0          0           0       1      0\n",
       "4       0          0          0           0       1      0\n",
       "5       1          0          0           0       0      1\n",
       "6       0          0          0           0       1      0\n",
       "7       0          1          0           1       0      0\n",
       "8       1          0          0           0       0      0\n",
       "9       1          1          0           0       0      0"
      ],
      "text/html": [
       "<div>\n",
       "<style scoped>\n",
       "    .dataframe tbody tr th:only-of-type {\n",
       "        vertical-align: middle;\n",
       "    }\n",
       "\n",
       "    .dataframe tbody tr th {\n",
       "        vertical-align: top;\n",
       "    }\n",
       "\n",
       "    .dataframe thead th {\n",
       "        text-align: right;\n",
       "    }\n",
       "</style>\n",
       "<table border=\"1\" class=\"dataframe\">\n",
       "  <thead>\n",
       "    <tr style=\"text-align: right;\">\n",
       "      <th></th>\n",
       "      <th>Action</th>\n",
       "      <th>Adventure</th>\n",
       "      <th>Animation</th>\n",
       "      <th>Children's</th>\n",
       "      <th>Comedy</th>\n",
       "      <th>Crime</th>\n",
       "    </tr>\n",
       "  </thead>\n",
       "  <tbody>\n",
       "    <tr>\n",
       "      <th>0</th>\n",
       "      <td>0</td>\n",
       "      <td>0</td>\n",
       "      <td>1</td>\n",
       "      <td>1</td>\n",
       "      <td>1</td>\n",
       "      <td>0</td>\n",
       "    </tr>\n",
       "    <tr>\n",
       "      <th>1</th>\n",
       "      <td>0</td>\n",
       "      <td>1</td>\n",
       "      <td>0</td>\n",
       "      <td>1</td>\n",
       "      <td>0</td>\n",
       "      <td>0</td>\n",
       "    </tr>\n",
       "    <tr>\n",
       "      <th>2</th>\n",
       "      <td>0</td>\n",
       "      <td>0</td>\n",
       "      <td>0</td>\n",
       "      <td>0</td>\n",
       "      <td>1</td>\n",
       "      <td>0</td>\n",
       "    </tr>\n",
       "    <tr>\n",
       "      <th>3</th>\n",
       "      <td>0</td>\n",
       "      <td>0</td>\n",
       "      <td>0</td>\n",
       "      <td>0</td>\n",
       "      <td>1</td>\n",
       "      <td>0</td>\n",
       "    </tr>\n",
       "    <tr>\n",
       "      <th>4</th>\n",
       "      <td>0</td>\n",
       "      <td>0</td>\n",
       "      <td>0</td>\n",
       "      <td>0</td>\n",
       "      <td>1</td>\n",
       "      <td>0</td>\n",
       "    </tr>\n",
       "    <tr>\n",
       "      <th>5</th>\n",
       "      <td>1</td>\n",
       "      <td>0</td>\n",
       "      <td>0</td>\n",
       "      <td>0</td>\n",
       "      <td>0</td>\n",
       "      <td>1</td>\n",
       "    </tr>\n",
       "    <tr>\n",
       "      <th>6</th>\n",
       "      <td>0</td>\n",
       "      <td>0</td>\n",
       "      <td>0</td>\n",
       "      <td>0</td>\n",
       "      <td>1</td>\n",
       "      <td>0</td>\n",
       "    </tr>\n",
       "    <tr>\n",
       "      <th>7</th>\n",
       "      <td>0</td>\n",
       "      <td>1</td>\n",
       "      <td>0</td>\n",
       "      <td>1</td>\n",
       "      <td>0</td>\n",
       "      <td>0</td>\n",
       "    </tr>\n",
       "    <tr>\n",
       "      <th>8</th>\n",
       "      <td>1</td>\n",
       "      <td>0</td>\n",
       "      <td>0</td>\n",
       "      <td>0</td>\n",
       "      <td>0</td>\n",
       "      <td>0</td>\n",
       "    </tr>\n",
       "    <tr>\n",
       "      <th>9</th>\n",
       "      <td>1</td>\n",
       "      <td>1</td>\n",
       "      <td>0</td>\n",
       "      <td>0</td>\n",
       "      <td>0</td>\n",
       "      <td>0</td>\n",
       "    </tr>\n",
       "  </tbody>\n",
       "</table>\n",
       "</div>"
      ]
     },
     "execution_count": 45,
     "metadata": {},
     "output_type": "execute_result"
    }
   ],
   "execution_count": 45
  },
  {
   "metadata": {
    "ExecuteTime": {
     "end_time": "2024-09-22T22:30:53.205431Z",
     "start_time": "2024-09-22T22:30:53.202638Z"
    }
   },
   "cell_type": "code",
   "source": "",
   "id": "56f537041c7553ac",
   "outputs": [],
   "execution_count": null
  },
  {
   "metadata": {},
   "cell_type": "markdown",
   "source": [
    "## 7.4 String Manipulation\n",
    "\n",
    "- Python as popular raw data manipulation language in part due to its ease of use for string and text processing.\n",
    "\n",
    "- Text operations made simple with the string object’s built-in methods.\n",
    "\n",
    "- Regular expressions necessary for more complex pattern matching and text manipulations.\n",
    "\n",
    "- Apply string and regular expressions concisely on whole arrays of data, while also handling missing data."
   ],
   "id": "e9b51b84a3e8168"
  },
  {
   "metadata": {},
   "cell_type": "markdown",
   "source": [
    "### Python Built-In String Object Methods\n",
    "\n",
    "**Table 7.4: Python built-in string methods**\n",
    "\n",
    "**Method**|\t**Description**\n",
    "\n",
    "**count**|\tReturn the number of nonoverlapping occurrences of substring in the string\n",
    "\n",
    "**endswith**|\tReturn True if string ends with suffix\n",
    "\n",
    "**startswith**|\tReturn True if string starts with prefix\n",
    "\n",
    "**join**|\tUse string as delimiter for concatenating a sequence of other strings\n",
    "\n",
    "**index**|\tReturn starting index of the first occurrence of passed substring if found in the string; otherwise, raises ValueError if not found\n",
    "\n",
    "**find**|\tReturn position of first character of first occurrence of substring in the string; like index, but returns –1 if not found\n",
    "\n",
    "**rfind**|\tReturn position of first character of last occurrence of substring in the string; returns –1 if not found\n",
    "\n",
    "**replace**|\tReplace occurrences of string with another string\n",
    "\n",
    "**strip, rstrip, lstrip**|  Trim whitespace, including newlines on both sides, on the right side, or on the left side, respectively\n",
    "\n",
    "**split**|\tBreak string into list of substrings using passed delimiter\n",
    "\n",
    "**lower**|\tConvert alphabet characters to lowercase\n",
    "\n",
    "**upper**|\tConvert alphabet characters to uppercase\n",
    "\n",
    "**casefold**|\tConvert characters to lowercase, and convert any region-specific variable character combinations to a common comparable form\n",
    "\n",
    "**ljust, rjust**|\tLeft justify or right justify, respectively; pad opposite side of string with spaces (or some other fill character) to return a string with a minimum width"
   ],
   "id": "dca81a37047714ee"
  },
  {
   "metadata": {
    "ExecuteTime": {
     "end_time": "2024-09-22T22:30:54.004475Z",
     "start_time": "2024-09-22T22:30:53.954723Z"
    }
   },
   "cell_type": "code",
   "source": [
    "val = \"a,b,  guido\"\n",
    "val.split(\",\")"
   ],
   "id": "b8a654a5450a8f81",
   "outputs": [
    {
     "data": {
      "text/plain": [
       "['a', 'b', '  guido']"
      ]
     },
     "execution_count": 46,
     "metadata": {},
     "output_type": "execute_result"
    }
   ],
   "execution_count": 46
  },
  {
   "metadata": {
    "ExecuteTime": {
     "end_time": "2024-09-22T22:30:54.572029Z",
     "start_time": "2024-09-22T22:30:54.474789Z"
    }
   },
   "cell_type": "code",
   "source": [
    "pieces = [x.strip() for x in val.split(\",\")]\n",
    "pieces"
   ],
   "id": "79fbac70d45182ef",
   "outputs": [
    {
     "data": {
      "text/plain": [
       "['a', 'b', 'guido']"
      ]
     },
     "execution_count": 47,
     "metadata": {},
     "output_type": "execute_result"
    }
   ],
   "execution_count": 47
  },
  {
   "metadata": {
    "ExecuteTime": {
     "end_time": "2024-09-22T22:30:54.860405Z",
     "start_time": "2024-09-22T22:30:54.818975Z"
    }
   },
   "cell_type": "code",
   "source": [
    "first, second, third = pieces\n",
    "first + \"::\" + second + \"::\" + third"
   ],
   "id": "8c358f4bc8b5ecd0",
   "outputs": [
    {
     "data": {
      "text/plain": [
       "'a::b::guido'"
      ]
     },
     "execution_count": 48,
     "metadata": {},
     "output_type": "execute_result"
    }
   ],
   "execution_count": 48
  },
  {
   "metadata": {
    "ExecuteTime": {
     "end_time": "2024-09-22T22:30:55.016757Z",
     "start_time": "2024-09-22T22:30:54.970641Z"
    }
   },
   "cell_type": "code",
   "source": "\"::\".join(pieces)",
   "id": "752eaa5d909262da",
   "outputs": [
    {
     "data": {
      "text/plain": [
       "'a::b::guido'"
      ]
     },
     "execution_count": 49,
     "metadata": {},
     "output_type": "execute_result"
    }
   ],
   "execution_count": 49
  },
  {
   "metadata": {
    "ExecuteTime": {
     "end_time": "2024-09-22T22:30:55.169186Z",
     "start_time": "2024-09-22T22:30:55.113132Z"
    }
   },
   "cell_type": "code",
   "source": "\"guido\" in val",
   "id": "dd7da9139be4c447",
   "outputs": [
    {
     "data": {
      "text/plain": [
       "True"
      ]
     },
     "execution_count": 50,
     "metadata": {},
     "output_type": "execute_result"
    }
   ],
   "execution_count": 50
  },
  {
   "metadata": {
    "ExecuteTime": {
     "end_time": "2024-09-22T22:30:55.306979Z",
     "start_time": "2024-09-22T22:30:55.262974Z"
    }
   },
   "cell_type": "code",
   "source": "val.index(\",\")",
   "id": "98250589d239dabf",
   "outputs": [
    {
     "data": {
      "text/plain": [
       "1"
      ]
     },
     "execution_count": 51,
     "metadata": {},
     "output_type": "execute_result"
    }
   ],
   "execution_count": 51
  },
  {
   "metadata": {
    "ExecuteTime": {
     "end_time": "2024-09-22T22:30:55.416144Z",
     "start_time": "2024-09-22T22:30:55.381668Z"
    }
   },
   "cell_type": "code",
   "source": "val.find(\":\")",
   "id": "1bd69c9d90dd65b6",
   "outputs": [
    {
     "data": {
      "text/plain": [
       "-1"
      ]
     },
     "execution_count": 52,
     "metadata": {},
     "output_type": "execute_result"
    }
   ],
   "execution_count": 52
  },
  {
   "metadata": {
    "ExecuteTime": {
     "end_time": "2024-09-22T22:30:55.510866Z",
     "start_time": "2024-09-22T22:30:55.480352Z"
    }
   },
   "cell_type": "code",
   "source": "val.count(\",\")",
   "id": "ba6eb1765e367e71",
   "outputs": [
    {
     "data": {
      "text/plain": [
       "2"
      ]
     },
     "execution_count": 53,
     "metadata": {},
     "output_type": "execute_result"
    }
   ],
   "execution_count": 53
  },
  {
   "metadata": {
    "ExecuteTime": {
     "end_time": "2024-09-22T22:30:55.624501Z",
     "start_time": "2024-09-22T22:30:55.583400Z"
    }
   },
   "cell_type": "code",
   "source": "val.replace(\",\", \"::\")",
   "id": "31b73db4391cff5c",
   "outputs": [
    {
     "data": {
      "text/plain": [
       "'a::b::  guido'"
      ]
     },
     "execution_count": 54,
     "metadata": {},
     "output_type": "execute_result"
    }
   ],
   "execution_count": 54
  },
  {
   "metadata": {
    "ExecuteTime": {
     "end_time": "2024-09-22T22:30:55.762886Z",
     "start_time": "2024-09-22T22:30:55.715027Z"
    }
   },
   "cell_type": "code",
   "source": "val.replace(\",\", \"\")",
   "id": "8006c9593d95a1e",
   "outputs": [
    {
     "data": {
      "text/plain": [
       "'ab  guido'"
      ]
     },
     "execution_count": 55,
     "metadata": {},
     "output_type": "execute_result"
    }
   ],
   "execution_count": 55
  },
  {
   "metadata": {
    "ExecuteTime": {
     "end_time": "2024-09-22T22:30:55.952103Z",
     "start_time": "2024-09-22T22:30:55.948596Z"
    }
   },
   "cell_type": "code",
   "source": "",
   "id": "537ec19bbf1b537",
   "outputs": [],
   "execution_count": null
  },
  {
   "metadata": {},
   "cell_type": "markdown",
   "source": [
    "### Regular Expressions\n",
    "\n",
    "- Regular expressions provide a flexible way to search or match (often more complex) string patterns in text. \n",
    "\n",
    "- A single expression, commonly called a regex, is a string formed according to the regular expression language. \n",
    "\n",
    "- Python’s built-in re module is responsible for applying regular expressions to strings.\n",
    "\n",
    "\n",
    "**Table 7.5: Regular expression methods**\n",
    "\n",
    "**Method**|\t**Description**\n",
    "\n",
    "**Mfindall**|\tReturn all nonoverlapping matching patterns in a string as a list.\n",
    "\n",
    "**Mfinditer**|\tLike findall, but returns an iterator.\n",
    "\n",
    "**Mmatch**|\tMatch pattern at start of string and optionally segment pattern components into groups; if the pattern matches, return a match object, and otherwise None.\n",
    "\n",
    "**Msearch**|\tScan string for match to pattern, returning a match object if so; unlike match, the match can be anywhere in the string as opposed to only at the beginning.\n",
    "\n",
    "**Msplit**|\tBreak string into pieces at each occurrence of pattern.\n",
    "\n",
    "**Msub, subn**|\tReplace all (sub) or first n occurrences (subn) of pattern in string with replacement expression; use symbols **\\1**, **\\2**, ... to refer to match group elements in the replacement string.\n"
   ],
   "id": "4913b20db6447ca5"
  },
  {
   "metadata": {},
   "cell_type": "markdown",
   "source": "The regex describing one or more whitespace characters is **\\s+**:",
   "id": "c924a9fbe53e1c55"
  },
  {
   "metadata": {
    "ExecuteTime": {
     "end_time": "2024-09-22T22:30:56.093290Z",
     "start_time": "2024-09-22T22:30:56.052772Z"
    }
   },
   "cell_type": "code",
   "source": [
    "import re\n",
    "text = \"foo    bar\\t baz  \\tqux\"\n",
    "re.split(r\"\\s+\", text)"
   ],
   "id": "d1b5bc4a4e400aa4",
   "outputs": [
    {
     "data": {
      "text/plain": [
       "['foo', 'bar', 'baz', 'qux']"
      ]
     },
     "execution_count": 56,
     "metadata": {},
     "output_type": "execute_result"
    }
   ],
   "execution_count": 56
  },
  {
   "metadata": {},
   "cell_type": "markdown",
   "source": "Alternatively, the regular expression is first compiled, and then its **split** method is called on the passed text:",
   "id": "e969c879710ee138"
  },
  {
   "metadata": {
    "ExecuteTime": {
     "end_time": "2024-09-22T22:30:56.226659Z",
     "start_time": "2024-09-22T22:30:56.191751Z"
    }
   },
   "cell_type": "code",
   "source": [
    "regex = re.compile(r\"\\s+\")\n",
    "regex.split(text)"
   ],
   "id": "36152abc25c23883",
   "outputs": [
    {
     "data": {
      "text/plain": [
       "['foo', 'bar', 'baz', 'qux']"
      ]
     },
     "execution_count": 57,
     "metadata": {},
     "output_type": "execute_result"
    }
   ],
   "execution_count": 57
  },
  {
   "metadata": {
    "ExecuteTime": {
     "end_time": "2024-09-22T22:30:56.328411Z",
     "start_time": "2024-09-22T22:30:56.300613Z"
    }
   },
   "cell_type": "code",
   "source": "regex.findall(text)",
   "id": "a2f92fe27652149b",
   "outputs": [
    {
     "data": {
      "text/plain": [
       "['    ', '\\t ', '  \\t']"
      ]
     },
     "execution_count": 58,
     "metadata": {},
     "output_type": "execute_result"
    }
   ],
   "execution_count": 58
  },
  {
   "metadata": {},
   "cell_type": "markdown",
   "source": [
    "**match** and **search** are closely related to **findall**:\n",
    "\n",
    "- **findall** returns all matches in a string.\n",
    "\n",
    "- **search** returns only the first match. \n",
    "\n",
    "- **match** only matches at the beginning of the string."
   ],
   "id": "c6ae593f8c9174d0"
  },
  {
   "metadata": {
    "ExecuteTime": {
     "end_time": "2024-09-22T22:30:56.485425Z",
     "start_time": "2024-09-22T22:30:56.453704Z"
    }
   },
   "cell_type": "code",
   "source": [
    "text = \"\"\"Dave dave@google.com\n",
    "Steve steve@gmail.com\n",
    "Rob rob@gmail.com\n",
    "Ryan ryan@yahoo.com\"\"\"\n",
    "pattern = r\"[A-Z0-9._%+-]+@[A-Z0-9.-]+\\.[A-Z]{2,4}\"\n",
    "\n",
    "# re.IGNORECASE makes the regex case insensitive\n",
    "regex = re.compile(pattern, flags=re.IGNORECASE)"
   ],
   "id": "85a8ec29f2e20680",
   "outputs": [],
   "execution_count": 59
  },
  {
   "metadata": {
    "ExecuteTime": {
     "end_time": "2024-09-22T22:30:56.597421Z",
     "start_time": "2024-09-22T22:30:56.560610Z"
    }
   },
   "cell_type": "code",
   "source": "regex.findall(text)",
   "id": "edecf4b22aaa907e",
   "outputs": [
    {
     "data": {
      "text/plain": [
       "['dave@google.com', 'steve@gmail.com', 'rob@gmail.com', 'ryan@yahoo.com']"
      ]
     },
     "execution_count": 60,
     "metadata": {},
     "output_type": "execute_result"
    }
   ],
   "execution_count": 60
  },
  {
   "metadata": {
    "ExecuteTime": {
     "end_time": "2024-09-22T22:30:56.682803Z",
     "start_time": "2024-09-22T22:30:56.646523Z"
    }
   },
   "cell_type": "code",
   "source": [
    "m = regex.search(text)\n",
    "m"
   ],
   "id": "2aefa86def14a10b",
   "outputs": [
    {
     "data": {
      "text/plain": [
       "<re.Match object; span=(5, 20), match='dave@google.com'>"
      ]
     },
     "execution_count": 61,
     "metadata": {},
     "output_type": "execute_result"
    }
   ],
   "execution_count": 61
  },
  {
   "metadata": {
    "ExecuteTime": {
     "end_time": "2024-09-22T22:30:56.798887Z",
     "start_time": "2024-09-22T22:30:56.762524Z"
    }
   },
   "cell_type": "code",
   "source": "text[m.start():m.end()]",
   "id": "b62531c4e12aeca6",
   "outputs": [
    {
     "data": {
      "text/plain": [
       "'dave@google.com'"
      ]
     },
     "execution_count": 62,
     "metadata": {},
     "output_type": "execute_result"
    }
   ],
   "execution_count": 62
  },
  {
   "metadata": {
    "ExecuteTime": {
     "end_time": "2024-09-22T22:30:56.891718Z",
     "start_time": "2024-09-22T22:30:56.858899Z"
    }
   },
   "cell_type": "code",
   "source": [
    "print(regex.match(text))\n",
    "print(regex.sub(\"REDACTED\", text))"
   ],
   "id": "8d80aa055a7fb7c1",
   "outputs": [
    {
     "name": "stdout",
     "output_type": "stream",
     "text": [
      "None\n",
      "Dave REDACTED\n",
      "Steve REDACTED\n",
      "Rob REDACTED\n",
      "Ryan REDACTED\n"
     ]
    }
   ],
   "execution_count": 63
  },
  {
   "metadata": {},
   "cell_type": "markdown",
   "source": "Put parentheses around the parts of the pattern you want to segment:",
   "id": "23e4d40e7c3ef7da"
  },
  {
   "metadata": {
    "ExecuteTime": {
     "end_time": "2024-09-22T22:30:57.265705Z",
     "start_time": "2024-09-22T22:30:57.228181Z"
    }
   },
   "cell_type": "code",
   "source": [
    "pattern = r\"([A-Z0-9._%+-]+)@([A-Z0-9.-]+)\\.([A-Z]{2,4})\"\n",
    "regex = re.compile(pattern, flags=re.IGNORECASE)"
   ],
   "id": "9041865e63dee60f",
   "outputs": [],
   "execution_count": 64
  },
  {
   "metadata": {},
   "cell_type": "markdown",
   "source": "A match object produced by this modified regex returns a tuple of the pattern components with its groups method:",
   "id": "272b377807f1fd20"
  },
  {
   "metadata": {
    "ExecuteTime": {
     "end_time": "2024-09-22T22:30:57.688354Z",
     "start_time": "2024-09-22T22:30:57.659526Z"
    }
   },
   "cell_type": "code",
   "source": [
    "m = regex.match(\"wesm@bright.net\")\n",
    "m.groups()"
   ],
   "id": "47866410e10db6c1",
   "outputs": [
    {
     "data": {
      "text/plain": [
       "('wesm', 'bright', 'net')"
      ]
     },
     "execution_count": 65,
     "metadata": {},
     "output_type": "execute_result"
    }
   ],
   "execution_count": 65
  },
  {
   "metadata": {
    "ExecuteTime": {
     "end_time": "2024-09-22T22:30:57.841219Z",
     "start_time": "2024-09-22T22:30:57.809683Z"
    }
   },
   "cell_type": "code",
   "source": "regex.findall(text)",
   "id": "a70d98359f5fb418",
   "outputs": [
    {
     "data": {
      "text/plain": [
       "[('dave', 'google', 'com'),\n",
       " ('steve', 'gmail', 'com'),\n",
       " ('rob', 'gmail', 'com'),\n",
       " ('ryan', 'yahoo', 'com')]"
      ]
     },
     "execution_count": 66,
     "metadata": {},
     "output_type": "execute_result"
    }
   ],
   "execution_count": 66
  },
  {
   "metadata": {},
   "cell_type": "markdown",
   "source": "**sub** also has access to groups in each match using special symbols like **\\1** and **\\2**.",
   "id": "28d3b8716236016f"
  },
  {
   "metadata": {
    "ExecuteTime": {
     "end_time": "2024-09-22T22:30:57.915196Z",
     "start_time": "2024-09-22T22:30:57.885681Z"
    }
   },
   "cell_type": "code",
   "source": "print(regex.sub(r\"Username: \\1, Domain: \\2, Suffix: \\3\", text))",
   "id": "b508f3dd391d7eca",
   "outputs": [
    {
     "name": "stdout",
     "output_type": "stream",
     "text": [
      "Dave Username: dave, Domain: google, Suffix: com\n",
      "Steve Username: steve, Domain: gmail, Suffix: com\n",
      "Rob Username: rob, Domain: gmail, Suffix: com\n",
      "Ryan Username: ryan, Domain: yahoo, Suffix: com\n"
     ]
    }
   ],
   "execution_count": 67
  },
  {
   "metadata": {
    "ExecuteTime": {
     "end_time": "2024-09-22T22:30:57.971917Z",
     "start_time": "2024-09-22T22:30:57.968744Z"
    }
   },
   "cell_type": "code",
   "source": "",
   "id": "75370433b0ea129c",
   "outputs": [],
   "execution_count": null
  },
  {
   "metadata": {},
   "cell_type": "markdown",
   "source": [
    "### String Functions in pandas\n",
    "\n",
    "Series has array-oriented methods for string operations that skip over and propagate NA values. \n",
    "\n",
    "\n",
    "**Table 7.6: Partial listing of Series string methods**\n",
    "\n",
    "**Method**\t**Description**\n",
    "\n",
    "cat\tConcatenate strings element-wise with optional delimiter\n",
    "\n",
    "contains\tReturn Boolean array if each string contains pattern/regex\n",
    "\n",
    "count\tCount occurrences of pattern\n",
    "\n",
    "extract\tUse a regular expression with groups to extract one or more strings from a Series of strings; the result will be a DataFrame with one column per group\n",
    "\n",
    "endswith\tEquivalent to x.endswith(pattern) for each element\n",
    "\n",
    "startswith\tEquivalent to x.startswith(pattern) for each element\n",
    "\n",
    "findall\tCompute list of all occurrences of pattern/regex for each string\n",
    "\n",
    "get\tIndex into each element (retrieve i-th element)\n",
    "\n",
    "isalnum\tEquivalent to built-in str.alnum\n",
    "\n",
    "isalpha\tEquivalent to built-in str.isalpha\n",
    "\n",
    "isdecimal\tEquivalent to built-in str.isdecimal\n",
    "\n",
    "isdigit\tEquivalent to built-in str.isdigit\n",
    "\n",
    "islower\tEquivalent to built-in str.islower\n",
    "\n",
    "isnumeric\tEquivalent to built-in str.isnumeric\n",
    "\n",
    "isupper\tEquivalent to built-in str.isupper\n",
    "\n",
    "join\tJoin strings in each element of the Series with passed separator\n",
    "\n",
    "len\tCompute length of each string\n",
    "\n",
    "lower, upper\tConvert cases; equivalent to x.lower() or x.upper() for each element\n",
    "\n",
    "match\tUse re.match with the passed regular expression on each element, returning True or False whether it matches\n",
    "\n",
    "pad\tAdd whitespace to left, right, or both sides of strings\n",
    "\n",
    "center\tEquivalent to pad(side=\"both\")\n",
    "\n",
    "repeat\tDuplicate values (e.g., s.str.repeat(3) is equivalent to x * 3 for each string)\n",
    "\n",
    "replace\tReplace occurrences of pattern/regex with some other string\n",
    "\n",
    "slice\tSlice each string in the Series\n",
    "\n",
    "split\tSplit strings on delimiter or regular expression\n",
    "\n",
    "strip\tTrim whitespace from both sides, including newlines\n",
    "\n",
    "rstrip\tTrim whitespace on right side\n",
    "\n",
    "lstrip\tTrim whitespace on left side"
   ],
   "id": "c34e62c3c56a1297"
  },
  {
   "metadata": {
    "ExecuteTime": {
     "end_time": "2024-09-22T22:30:58.098220Z",
     "start_time": "2024-09-22T22:30:58.062126Z"
    }
   },
   "cell_type": "code",
   "source": [
    "data = {\"Dave\": \"dave@google.com\", \"Steve\": \"steve@gmail.com\",\n",
    "        \"Rob\": \"rob@gmail.com\", \"Wes\": np.nan}\n",
    "data = pd.Series(data)\n",
    "data"
   ],
   "id": "d264de3b71b7c35",
   "outputs": [
    {
     "data": {
      "text/plain": [
       "Dave     dave@google.com\n",
       "Steve    steve@gmail.com\n",
       "Rob        rob@gmail.com\n",
       "Wes                  NaN\n",
       "dtype: object"
      ]
     },
     "execution_count": 68,
     "metadata": {},
     "output_type": "execute_result"
    }
   ],
   "execution_count": 68
  },
  {
   "metadata": {
    "ExecuteTime": {
     "end_time": "2024-09-22T22:30:58.267529Z",
     "start_time": "2024-09-22T22:30:58.226892Z"
    }
   },
   "cell_type": "code",
   "source": "data.isna()",
   "id": "d6de6b09d9fe4336",
   "outputs": [
    {
     "data": {
      "text/plain": [
       "Dave     False\n",
       "Steve    False\n",
       "Rob      False\n",
       "Wes       True\n",
       "dtype: bool"
      ]
     },
     "execution_count": 69,
     "metadata": {},
     "output_type": "execute_result"
    }
   ],
   "execution_count": 69
  },
  {
   "metadata": {
    "ExecuteTime": {
     "end_time": "2024-09-22T22:30:58.511963Z",
     "start_time": "2024-09-22T22:30:58.469078Z"
    }
   },
   "cell_type": "code",
   "source": "data.str.contains(\"gmail\")",
   "id": "473682413e088471",
   "outputs": [
    {
     "data": {
      "text/plain": [
       "Dave     False\n",
       "Steve     True\n",
       "Rob       True\n",
       "Wes        NaN\n",
       "dtype: object"
      ]
     },
     "execution_count": 70,
     "metadata": {},
     "output_type": "execute_result"
    }
   ],
   "execution_count": 70
  },
  {
   "metadata": {
    "ExecuteTime": {
     "end_time": "2024-09-22T22:30:58.785894Z",
     "start_time": "2024-09-22T22:30:58.782577Z"
    }
   },
   "cell_type": "code",
   "source": "",
   "id": "7c0f9b1f2d629317",
   "outputs": [],
   "execution_count": null
  },
  {
   "metadata": {
    "ExecuteTime": {
     "end_time": "2024-09-22T22:30:59.051139Z",
     "start_time": "2024-09-22T22:30:59.018938Z"
    }
   },
   "cell_type": "code",
   "source": [
    "data_as_string_ext = data.astype('string')\n",
    "data_as_string_ext"
   ],
   "id": "c3ba2725bcebbc5a",
   "outputs": [
    {
     "data": {
      "text/plain": [
       "Dave     dave@google.com\n",
       "Steve    steve@gmail.com\n",
       "Rob        rob@gmail.com\n",
       "Wes                 <NA>\n",
       "dtype: string"
      ]
     },
     "execution_count": 71,
     "metadata": {},
     "output_type": "execute_result"
    }
   ],
   "execution_count": 71
  },
  {
   "metadata": {
    "ExecuteTime": {
     "end_time": "2024-09-22T22:30:59.459345Z",
     "start_time": "2024-09-22T22:30:59.426463Z"
    }
   },
   "cell_type": "code",
   "source": "data_as_string_ext.str.contains(\"gmail\")",
   "id": "b56167ef03ccd537",
   "outputs": [
    {
     "data": {
      "text/plain": [
       "Dave     False\n",
       "Steve     True\n",
       "Rob       True\n",
       "Wes       <NA>\n",
       "dtype: boolean"
      ]
     },
     "execution_count": 72,
     "metadata": {},
     "output_type": "execute_result"
    }
   ],
   "execution_count": 72
  },
  {
   "metadata": {
    "ExecuteTime": {
     "end_time": "2024-09-22T22:30:59.972024Z",
     "start_time": "2024-09-22T22:30:59.967983Z"
    }
   },
   "cell_type": "code",
   "source": "",
   "id": "197cc30b2d3b28e6",
   "outputs": [],
   "execution_count": null
  },
  {
   "metadata": {},
   "cell_type": "markdown",
   "source": "Regular expressions can be used, too, along with any re options like **IGNORECASE**:",
   "id": "12993d61f7e06418"
  },
  {
   "metadata": {
    "ExecuteTime": {
     "end_time": "2024-09-22T22:31:00.611948Z",
     "start_time": "2024-09-22T22:31:00.583303Z"
    }
   },
   "cell_type": "code",
   "source": [
    "pattern = r\"([A-Z0-9._%+-]+)@([A-Z0-9.-]+)\\.([A-Z]{2,4})\"\n",
    "data.str.findall(pattern, flags=re.IGNORECASE)"
   ],
   "id": "14ae80c7d7074a31",
   "outputs": [
    {
     "data": {
      "text/plain": [
       "Dave     [(dave, google, com)]\n",
       "Steve    [(steve, gmail, com)]\n",
       "Rob        [(rob, gmail, com)]\n",
       "Wes                        NaN\n",
       "dtype: object"
      ]
     },
     "execution_count": 73,
     "metadata": {},
     "output_type": "execute_result"
    }
   ],
   "execution_count": 73
  },
  {
   "metadata": {
    "ExecuteTime": {
     "end_time": "2024-09-22T22:31:00.898493Z",
     "start_time": "2024-09-22T22:31:00.867426Z"
    }
   },
   "cell_type": "code",
   "source": "matches = data.str.findall(pattern, flags=re.IGNORECASE).str[0]",
   "id": "ec0f459865f99933",
   "outputs": [],
   "execution_count": 74
  },
  {
   "metadata": {
    "ExecuteTime": {
     "end_time": "2024-09-22T22:31:01.088680Z",
     "start_time": "2024-09-22T22:31:01.058556Z"
    }
   },
   "cell_type": "code",
   "source": "matches.str.get(1)",
   "id": "6b5085afe2ef1608",
   "outputs": [
    {
     "data": {
      "text/plain": [
       "Dave     google\n",
       "Steve     gmail\n",
       "Rob       gmail\n",
       "Wes         NaN\n",
       "dtype: object"
      ]
     },
     "execution_count": 75,
     "metadata": {},
     "output_type": "execute_result"
    }
   ],
   "execution_count": 75
  },
  {
   "metadata": {},
   "cell_type": "markdown",
   "source": "The str.extract method will return the captured groups of a regular expression as a DataFrame:",
   "id": "dcecab32ef549399"
  },
  {
   "metadata": {
    "ExecuteTime": {
     "end_time": "2024-09-22T22:31:01.360179Z",
     "start_time": "2024-09-22T22:31:01.328507Z"
    }
   },
   "cell_type": "code",
   "source": "data.str.extract(pattern, flags=re.IGNORECASE)",
   "id": "5a24af8bcb664d33",
   "outputs": [
    {
     "data": {
      "text/plain": [
       "           0       1    2\n",
       "Dave    dave  google  com\n",
       "Steve  steve   gmail  com\n",
       "Rob      rob   gmail  com\n",
       "Wes      NaN     NaN  NaN"
      ],
      "text/html": [
       "<div>\n",
       "<style scoped>\n",
       "    .dataframe tbody tr th:only-of-type {\n",
       "        vertical-align: middle;\n",
       "    }\n",
       "\n",
       "    .dataframe tbody tr th {\n",
       "        vertical-align: top;\n",
       "    }\n",
       "\n",
       "    .dataframe thead th {\n",
       "        text-align: right;\n",
       "    }\n",
       "</style>\n",
       "<table border=\"1\" class=\"dataframe\">\n",
       "  <thead>\n",
       "    <tr style=\"text-align: right;\">\n",
       "      <th></th>\n",
       "      <th>0</th>\n",
       "      <th>1</th>\n",
       "      <th>2</th>\n",
       "    </tr>\n",
       "  </thead>\n",
       "  <tbody>\n",
       "    <tr>\n",
       "      <th>Dave</th>\n",
       "      <td>dave</td>\n",
       "      <td>google</td>\n",
       "      <td>com</td>\n",
       "    </tr>\n",
       "    <tr>\n",
       "      <th>Steve</th>\n",
       "      <td>steve</td>\n",
       "      <td>gmail</td>\n",
       "      <td>com</td>\n",
       "    </tr>\n",
       "    <tr>\n",
       "      <th>Rob</th>\n",
       "      <td>rob</td>\n",
       "      <td>gmail</td>\n",
       "      <td>com</td>\n",
       "    </tr>\n",
       "    <tr>\n",
       "      <th>Wes</th>\n",
       "      <td>NaN</td>\n",
       "      <td>NaN</td>\n",
       "      <td>NaN</td>\n",
       "    </tr>\n",
       "  </tbody>\n",
       "</table>\n",
       "</div>"
      ]
     },
     "execution_count": 76,
     "metadata": {},
     "output_type": "execute_result"
    }
   ],
   "execution_count": 76
  },
  {
   "metadata": {
    "ExecuteTime": {
     "end_time": "2024-09-22T22:31:01.608127Z",
     "start_time": "2024-09-22T22:31:01.604425Z"
    }
   },
   "cell_type": "code",
   "source": "",
   "id": "19a59ca08b36f2a2",
   "outputs": [],
   "execution_count": null
  },
  {
   "metadata": {},
   "cell_type": "markdown",
   "source": "## 7.5 Categorical Data",
   "id": "6c74edc671cb1bf8"
  },
  {
   "metadata": {
    "ExecuteTime": {
     "end_time": "2024-09-22T22:31:02.107669Z",
     "start_time": "2024-09-22T22:31:02.070487Z"
    }
   },
   "cell_type": "code",
   "source": [
    "fruits = ['apple', 'orange', 'apple', 'apple'] * 2\n",
    "N = len(fruits)\n",
    "rng = np.random.default_rng(seed=12345)\n",
    "\n",
    "df = pd.DataFrame({'fruit': fruits,\n",
    "                   'basket_id': np.arange(N),\n",
    "                   'count': rng.integers(3, 15, size=N),\n",
    "                   'weight': rng.uniform(0, 4, size=N)},\n",
    "                  columns=['basket_id', 'fruit', 'count', 'weight'])\n",
    "df"
   ],
   "id": "5e0ae2b1a8b4535c",
   "outputs": [
    {
     "data": {
      "text/plain": [
       "   basket_id   fruit  count    weight\n",
       "0          0   apple     11  1.564438\n",
       "1          1  orange      5  1.331256\n",
       "2          2   apple     12  2.393235\n",
       "3          3   apple      6  0.746937\n",
       "4          4   apple      5  2.691024\n",
       "5          5  orange     12  3.767211\n",
       "6          6   apple     10  0.992983\n",
       "7          7   apple     11  3.795525"
      ],
      "text/html": [
       "<div>\n",
       "<style scoped>\n",
       "    .dataframe tbody tr th:only-of-type {\n",
       "        vertical-align: middle;\n",
       "    }\n",
       "\n",
       "    .dataframe tbody tr th {\n",
       "        vertical-align: top;\n",
       "    }\n",
       "\n",
       "    .dataframe thead th {\n",
       "        text-align: right;\n",
       "    }\n",
       "</style>\n",
       "<table border=\"1\" class=\"dataframe\">\n",
       "  <thead>\n",
       "    <tr style=\"text-align: right;\">\n",
       "      <th></th>\n",
       "      <th>basket_id</th>\n",
       "      <th>fruit</th>\n",
       "      <th>count</th>\n",
       "      <th>weight</th>\n",
       "    </tr>\n",
       "  </thead>\n",
       "  <tbody>\n",
       "    <tr>\n",
       "      <th>0</th>\n",
       "      <td>0</td>\n",
       "      <td>apple</td>\n",
       "      <td>11</td>\n",
       "      <td>1.564438</td>\n",
       "    </tr>\n",
       "    <tr>\n",
       "      <th>1</th>\n",
       "      <td>1</td>\n",
       "      <td>orange</td>\n",
       "      <td>5</td>\n",
       "      <td>1.331256</td>\n",
       "    </tr>\n",
       "    <tr>\n",
       "      <th>2</th>\n",
       "      <td>2</td>\n",
       "      <td>apple</td>\n",
       "      <td>12</td>\n",
       "      <td>2.393235</td>\n",
       "    </tr>\n",
       "    <tr>\n",
       "      <th>3</th>\n",
       "      <td>3</td>\n",
       "      <td>apple</td>\n",
       "      <td>6</td>\n",
       "      <td>0.746937</td>\n",
       "    </tr>\n",
       "    <tr>\n",
       "      <th>4</th>\n",
       "      <td>4</td>\n",
       "      <td>apple</td>\n",
       "      <td>5</td>\n",
       "      <td>2.691024</td>\n",
       "    </tr>\n",
       "    <tr>\n",
       "      <th>5</th>\n",
       "      <td>5</td>\n",
       "      <td>orange</td>\n",
       "      <td>12</td>\n",
       "      <td>3.767211</td>\n",
       "    </tr>\n",
       "    <tr>\n",
       "      <th>6</th>\n",
       "      <td>6</td>\n",
       "      <td>apple</td>\n",
       "      <td>10</td>\n",
       "      <td>0.992983</td>\n",
       "    </tr>\n",
       "    <tr>\n",
       "      <th>7</th>\n",
       "      <td>7</td>\n",
       "      <td>apple</td>\n",
       "      <td>11</td>\n",
       "      <td>3.795525</td>\n",
       "    </tr>\n",
       "  </tbody>\n",
       "</table>\n",
       "</div>"
      ]
     },
     "execution_count": 77,
     "metadata": {},
     "output_type": "execute_result"
    }
   ],
   "execution_count": 77
  },
  {
   "metadata": {
    "ExecuteTime": {
     "end_time": "2024-09-22T22:31:02.412911Z",
     "start_time": "2024-09-22T22:31:02.378071Z"
    }
   },
   "cell_type": "code",
   "source": [
    "fruit_cat = df['fruit'].astype('category')\n",
    "fruit_cat"
   ],
   "id": "b01abcc3905245b2",
   "outputs": [
    {
     "data": {
      "text/plain": [
       "0     apple\n",
       "1    orange\n",
       "2     apple\n",
       "3     apple\n",
       "4     apple\n",
       "5    orange\n",
       "6     apple\n",
       "7     apple\n",
       "Name: fruit, dtype: category\n",
       "Categories (2, object): ['apple', 'orange']"
      ]
     },
     "execution_count": 78,
     "metadata": {},
     "output_type": "execute_result"
    }
   ],
   "execution_count": 78
  },
  {
   "metadata": {
    "ExecuteTime": {
     "end_time": "2024-09-22T22:31:02.721535Z",
     "start_time": "2024-09-22T22:31:02.689868Z"
    }
   },
   "cell_type": "code",
   "source": [
    "c = fruit_cat.array\n",
    "type(c)"
   ],
   "id": "2ebc47b0be7fec08",
   "outputs": [
    {
     "data": {
      "text/plain": [
       "pandas.core.arrays.categorical.Categorical"
      ]
     },
     "execution_count": 79,
     "metadata": {},
     "output_type": "execute_result"
    }
   ],
   "execution_count": 79
  },
  {
   "metadata": {
    "ExecuteTime": {
     "end_time": "2024-09-22T22:31:02.894369Z",
     "start_time": "2024-09-22T22:31:02.869449Z"
    }
   },
   "cell_type": "code",
   "source": "c.categories",
   "id": "ef20e01a14443e91",
   "outputs": [
    {
     "data": {
      "text/plain": [
       "Index(['apple', 'orange'], dtype='object')"
      ]
     },
     "execution_count": 80,
     "metadata": {},
     "output_type": "execute_result"
    }
   ],
   "execution_count": 80
  },
  {
   "metadata": {
    "ExecuteTime": {
     "end_time": "2024-09-22T22:31:03.305910Z",
     "start_time": "2024-09-22T22:31:03.272857Z"
    }
   },
   "cell_type": "code",
   "source": "c.codes",
   "id": "f831ffd72ce7fe82",
   "outputs": [
    {
     "data": {
      "text/plain": [
       "array([0, 1, 0, 0, 0, 1, 0, 0], dtype=int8)"
      ]
     },
     "execution_count": 81,
     "metadata": {},
     "output_type": "execute_result"
    }
   ],
   "execution_count": 81
  },
  {
   "metadata": {
    "ExecuteTime": {
     "end_time": "2024-09-22T22:31:03.525896Z",
     "start_time": "2024-09-22T22:31:03.496697Z"
    }
   },
   "cell_type": "code",
   "source": "dict(enumerate(c.categories))",
   "id": "4bd653f7d7f96980",
   "outputs": [
    {
     "data": {
      "text/plain": [
       "{0: 'apple', 1: 'orange'}"
      ]
     },
     "execution_count": 82,
     "metadata": {},
     "output_type": "execute_result"
    }
   ],
   "execution_count": 82
  },
  {
   "metadata": {
    "ExecuteTime": {
     "end_time": "2024-09-22T22:31:03.705194Z",
     "start_time": "2024-09-22T22:31:03.669688Z"
    }
   },
   "cell_type": "code",
   "source": [
    "df['fruit'] = df['fruit'].astype('category')\n",
    "df['fruit']"
   ],
   "id": "f1f78551f8801c96",
   "outputs": [
    {
     "data": {
      "text/plain": [
       "0     apple\n",
       "1    orange\n",
       "2     apple\n",
       "3     apple\n",
       "4     apple\n",
       "5    orange\n",
       "6     apple\n",
       "7     apple\n",
       "Name: fruit, dtype: category\n",
       "Categories (2, object): ['apple', 'orange']"
      ]
     },
     "execution_count": 83,
     "metadata": {},
     "output_type": "execute_result"
    }
   ],
   "execution_count": 83
  },
  {
   "metadata": {
    "ExecuteTime": {
     "end_time": "2024-09-22T22:31:03.798976Z",
     "start_time": "2024-09-22T22:31:03.795182Z"
    }
   },
   "cell_type": "code",
   "source": "",
   "id": "4c68b7b0c64acb61",
   "outputs": [],
   "execution_count": null
  }
 ],
 "metadata": {
  "kernelspec": {
   "display_name": "Python 3",
   "language": "python",
   "name": "python3"
  },
  "language_info": {
   "codemirror_mode": {
    "name": "ipython",
    "version": 2
   },
   "file_extension": ".py",
   "mimetype": "text/x-python",
   "name": "python",
   "nbconvert_exporter": "python",
   "pygments_lexer": "ipython2",
   "version": "2.7.6"
  }
 },
 "nbformat": 4,
 "nbformat_minor": 5
}
