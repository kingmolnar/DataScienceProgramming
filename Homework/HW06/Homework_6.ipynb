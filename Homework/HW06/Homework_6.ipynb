{
 "cells": [
  {
   "cell_type": "markdown",
   "metadata": {
    "id": "DvDJJwxUzUCU"
   },
   "source": [
    "\n",
    "\n",
    "# **IFI8410: Programming for Business**\n",
    "\n"
   ]
  },
  {
   "cell_type": "markdown",
   "metadata": {
    "id": "XKAsLR0C2DE8"
   },
   "source": [
    "## **Assignment 06**\n",
    "\n"
   ]
  },
  {
   "cell_type": "code",
   "execution_count": null,
   "metadata": {
    "id": "ilcJOwFSvnX-"
   },
   "outputs": [],
   "source": [
    "# Do not change the content of this cell. Execute this cell first, and everytime after you restarted the kernel.\n",
    "%reload_ext autoreload\n",
    "%autoreload 2"
   ]
  },
  {
   "cell_type": "code",
   "execution_count": null,
   "metadata": {},
   "outputs": [],
   "source": [
    "!pwd"
   ]
  },
  {
   "cell_type": "markdown",
   "metadata": {},
   "source": [
    "## Chapter 7 Problem Sets"
   ]
  },
  {
   "cell_type": "markdown",
   "metadata": {
    "id": "iCNcXQNw2WsW"
   },
   "source": [
    "### 6.1 Transform financial data in a pandas DataFrame\n",
    "\n",
    "Question:\n",
    "\n",
    "You are given a pandas DataFrame containing data about financial transactions. Implement the following function `transform_financial_data`:\n",
    "\n",
    "- This function takes a pandas DataFrame as input and transforms three columns: 'Revenue', 'Profit', and 'Expenses'. \n",
    "\n",
    "- The function uses a second function `categorize_value` to map numerical values into categorical data (e.g., 'High', 'Medium', 'Low') based on a given threshold for each column.\n",
    "\n",
    "Hint:\n",
    "- Use the `.apply()` method to apply a custom transformation function to multiple columns.\n",
    "\n",
    "- You can define thresholds for the categorization (e.g., revenue above 500,000 is 'High', below 200,000 is 'Low', etc.).\n"
   ]
  },
  {
   "cell_type": "code",
   "execution_count": null,
   "metadata": {
    "id": "66YZxVQG8gMG"
   },
   "outputs": [],
   "source": [
    "import pandas as pd\n",
    "\n",
    "# Define the mapping and transformation functions:\n",
    "\n",
    "def categorize_value(value, thresholds):\n",
    "\n",
    "    # Write your code here\n",
    "\n",
    "\n",
    "\n",
    "def transform_financial_data(df3):\n",
    "\n",
    "    # Write your code here\n",
    "\n"
   ]
  },
  {
   "cell_type": "code",
   "execution_count": null,
   "metadata": {
    "colab": {
     "base_uri": "https://localhost:8080/"
    },
    "id": "QjpJhAOvJT9z",
    "outputId": "9b997005-2088-4a6b-f924-cb2d22cc7ec6"
   },
   "outputs": [],
   "source": [
    "# Try your function here:\n",
    "\n",
    "# Define sample financial data\n",
    "data = {\n",
    "    'Company': ['Company A', 'Company B', 'Company C', 'Company D'],\n",
    "    'Revenue': [600000, 300000, 100000, 800000],\n",
    "    'Profit': [100000, 50000, 15000, 200000],\n",
    "    'Expenses': [200000, 150000, 85000, 300000]\n",
    "}\n",
    "\n",
    "# Create DataFrame\n",
    "df3 = pd.DataFrame(data)\n",
    "\n",
    "# Apply the function\n",
    "df_transformed = transform_financial_data(df3)\n",
    "print(df_transformed)"
   ]
  },
  {
   "cell_type": "markdown",
   "metadata": {
    "id": "QeANFfzl8gMG"
   },
   "source": [
    "#### Save your solution to a file ..."
   ]
  },
  {
   "cell_type": "code",
   "execution_count": null,
   "metadata": {
    "colab": {
     "base_uri": "https://localhost:8080/"
    },
    "id": "5w0JuPjG8gMG",
    "outputId": "805c07c9-90b9-4db0-d2e2-90361dce680e"
   },
   "outputs": [],
   "source": [
    "%%writefile solution_6_1.py\n",
    "\n",
    "import pandas as pd\n",
    "\n",
    "def categorize_value(value, thresholds):\n",
    "\n",
    "    # Write your code here\n",
    "\n",
    "def transform_financial_data(df3):\n",
    "\n",
    "    # Write your code here\n"
   ]
  },
  {
   "cell_type": "markdown",
   "metadata": {
    "id": "0VsB4vev8gMG"
   },
   "source": [
    "#### Test 6.1 Execute the cell below to test your solution..."
   ]
  },
  {
   "cell_type": "code",
   "execution_count": null,
   "metadata": {
    "id": "uVYil_xz8gMG",
    "outputId": "54d6fb94-404a-40d1-f121-7ec18d43d3b8"
   },
   "outputs": [],
   "source": [
    "! test/run_test.sh 1"
   ]
  },
  {
   "cell_type": "code",
   "execution_count": null,
   "metadata": {
    "id": "B_foRQ_e8gMG"
   },
   "outputs": [],
   "source": []
  },
  {
   "cell_type": "markdown",
   "metadata": {
    "id": "d2vDc3u12Wuj"
   },
   "source": [
    "### 6.2 Replace values and rename axes in a DataFrame\n",
    "\n",
    "Question:\n",
    "\n",
    "You are given a pandas DataFrame containing financial data. Implement the following function `replace_values_and_rename_axes`: \n",
    "\n",
    "- This function takes a pandas DataFrame and does two things:\n",
    "\n",
    "- Replace specific values in the 'Sector' column using a dictionary (e.g., replacing 'Tech' with 'Technology' and 'Health' with 'Healthcare').\n",
    "\n",
    "- Rename the labels on the row index (which represent company names) to lowercase and rename the column labels to uppercase. The input DataFrame can be assumed to already have been prepared with such a row index with string labels.\n",
    "\n",
    "Hint:\n",
    "\n",
    "- Use the `.replace()` method to replace specific values in a column.\n",
    "\n",
    "- Use the `.rename()` method with index and columns arguments to rename labels in the row index and column labels.\n"
   ]
  },
  {
   "cell_type": "code",
   "execution_count": null,
   "metadata": {
    "id": "3mRS-mcDKjkW"
   },
   "outputs": [],
   "source": [
    "import pandas as pd\n",
    "\n",
    "def replace_values_and_rename_axes(df4, replacements_dict):\n",
    "\n",
    "    # Write your code here\n"
   ]
  },
  {
   "cell_type": "code",
   "execution_count": null,
   "metadata": {
    "colab": {
     "base_uri": "https://localhost:8080/"
    },
    "id": "QGjVjDyn8gMH",
    "outputId": "f8a796d4-3ef5-4eda-d64e-347221616b75"
   },
   "outputs": [],
   "source": [
    "# Define sample financial data\n",
    "data = {\n",
    "    'Company': ['Apple', 'Google', 'Pfizer', 'Tesla'],\n",
    "    'Revenue': [260000, 160000, 52000, 24000],\n",
    "    'Profit': [55000, 34000, 10000, 1000],\n",
    "    'Sector': ['Tech', 'Tech', 'Health', 'Auto']\n",
    "}\n",
    "\n",
    "# Create DataFrame with company names as row index\n",
    "df4 = pd.DataFrame(data)\n",
    "df4.set_index('Company', inplace=True)\n",
    "\n",
    "# Create dictionary with replacements for the Sector column\n",
    "replacements_dict = {'Tech': 'Technology', 'Health': 'Healthcare'}\n",
    "\n",
    "# Apply the function\n",
    "df_transformed = replace_values_and_rename_axes(df4, replacements_dict)\n",
    "print(df_transformed)"
   ]
  },
  {
   "cell_type": "markdown",
   "metadata": {
    "id": "SjHpCmXD8gMH"
   },
   "source": [
    "#### Save your solution to a file ..."
   ]
  },
  {
   "cell_type": "code",
   "execution_count": null,
   "metadata": {
    "colab": {
     "base_uri": "https://localhost:8080/"
    },
    "id": "NMrkXhto8gMH",
    "outputId": "f6d95e0f-c2ba-43b5-dda4-640197eb15e0"
   },
   "outputs": [],
   "source": [
    "%%writefile solution_6_2.py\n",
    "\n",
    "import pandas as pd\n",
    "\n",
    "def replace_values_and_rename_axes(df4, replacements_dict):\n",
    "\n",
    "    # Write your code here\n"
   ]
  },
  {
   "cell_type": "markdown",
   "metadata": {
    "id": "NzdC4L-r8gMH"
   },
   "source": [
    "#### Test 6.2 Execute the cell below to test your solution..."
   ]
  },
  {
   "cell_type": "code",
   "execution_count": null,
   "metadata": {
    "id": "fSN0nNiG8gMH",
    "outputId": "75e8e8ad-df49-400d-f3d8-124d5b7080c0"
   },
   "outputs": [],
   "source": [
    "! test/run_test.sh 2"
   ]
  },
  {
   "cell_type": "code",
   "execution_count": null,
   "metadata": {
    "id": "KJLA4D0N8gMH"
   },
   "outputs": [],
   "source": []
  },
  {
   "cell_type": "markdown",
   "metadata": {
    "id": "LGSZ98Op44Lq"
   },
   "source": [
    "### 6.3 Detect and filter outliers in a DataFrame\n",
    "\n",
    "Question:\n",
    "\n",
    "You are given a pandas DataFrame with some numerical data. Implement the following function `detect_and_filter_outliers`: This function takes a pandas DataFrame and performs the following:\n",
    "\n",
    "- Detects outliers in two columns 'Revenue' and 'Profit' using the interquartile range (IQR) method.\n",
    "\n",
    "- Filters out rows with outliers, both by applying the outlier condition to each column individually and by applying it across both columns at once using `.any(axis=\"columns\")`.\n",
    "\n",
    "- Return both dataframes after filtering and removing outliers without and with using `.any(axis=\"columns\")`. \n",
    "\n",
    "Hint:\n",
    "- The interquartile range (IQR) can be calculated as the difference between the 75th percentile (Q3) and the 25th percentile (Q1). Use the `.quantile` method.\n",
    "  \n",
    "- Outliers are typically defined as values below **Q1 - 1.5 * IQR** or above **Q3 + 1.5 * IQR**.\n",
    "\n",
    "- Use `.any(axis=\"columns\")` to filter rows where an outlier is detected in any column.\n"
   ]
  },
  {
   "cell_type": "code",
   "execution_count": null,
   "metadata": {
    "id": "WSOYroD_8gMH"
   },
   "outputs": [],
   "source": [
    "import pandas as pd\n",
    "\n",
    "def detect_and_filter_outliers(df5):\n",
    "    \n",
    "    # Write your code here\n",
    "\n",
    "    # Calculate Q1 (25th percentile) and Q3 (75th percentile)\n",
    "    Q1_revenue = df5['Revenue'].quantile(0.25)\n",
    "    Q3_revenue = df5['Revenue'].quantile(0.75)\n",
    "    IQR_revenue = Q3_revenue - Q1_revenue\n",
    "\n",
    "    # Write your code here\n",
    "\n",
    "    return df_no_outliers, df_no_outliers_any\n"
   ]
  },
  {
   "cell_type": "code",
   "execution_count": null,
   "metadata": {
    "colab": {
     "base_uri": "https://localhost:8080/"
    },
    "id": "fhP-I7oVMakm",
    "outputId": "d5581b1a-adb4-4561-bdb6-dc4597cdace8"
   },
   "outputs": [],
   "source": [
    "# Define sample data with potential outliers\n",
    "data = {\n",
    "    'Company': ['Company A', 'Company B', 'Company C', 'Company D', 'Company E'],\n",
    "    'Revenue': [100000, 200000, 3000000, 250000, 500000],\n",
    "    'Profit': [10000, 15000, 200000, 50000, 600000]\n",
    "}\n",
    "\n",
    "# Create DataFrame\n",
    "df5 = pd.DataFrame(data)\n",
    "\n",
    "# Apply the function\n",
    "df_no_outliers, df_no_outliers_any = detect_and_filter_outliers(df5)\n",
    "\n",
    "print(\"Without using .any(axis=1):\")\n",
    "print(df_no_outliers)\n",
    "\n",
    "print(\"\\nWith using .any(axis=1):\")\n",
    "print(df_no_outliers_any)"
   ]
  },
  {
   "cell_type": "markdown",
   "metadata": {
    "id": "jj0wDqqo8gMH"
   },
   "source": [
    "#### Save your solution to a file ..."
   ]
  },
  {
   "cell_type": "code",
   "execution_count": null,
   "metadata": {
    "colab": {
     "base_uri": "https://localhost:8080/"
    },
    "id": "Eo-Fv4gn8gMH",
    "outputId": "b7265e73-b653-45e6-e61d-0dd33fd08440"
   },
   "outputs": [],
   "source": [
    "%%writefile solution_6_3.py\n",
    "\n",
    "import pandas as pd\n",
    "\n",
    "def detect_and_filter_outliers(df5):\n",
    "\n",
    "    # Write your code here\n",
    "\n",
    "    return df_no_outliers, df_no_outliers_any\n"
   ]
  },
  {
   "cell_type": "markdown",
   "metadata": {
    "id": "0mm5h5Gw8gMH"
   },
   "source": [
    "#### Test 6.3 Execute the cell below to test your solution..."
   ]
  },
  {
   "cell_type": "code",
   "execution_count": null,
   "metadata": {
    "colab": {
     "base_uri": "https://localhost:8080/"
    },
    "id": "t6BXlvbM8gMH",
    "outputId": "907370f6-7f82-4768-f0c4-1946618fddaf"
   },
   "outputs": [],
   "source": [
    "! test/run_test.sh 3"
   ]
  },
  {
   "cell_type": "code",
   "execution_count": null,
   "metadata": {
    "id": "myL7M-NI8gMI"
   },
   "outputs": [],
   "source": []
  },
  {
   "cell_type": "markdown",
   "metadata": {
    "id": "8XjQBTPM8gMI"
   },
   "source": [
    "### 6.4 Detect and filter outliers in a DataFrame\n",
    "\n",
    "Question:\n",
    "\n",
    "You are given a pandas DataFrame containing athlete performance data. Implement the following function `detect_and_filter_athlete_outliers`: \n",
    "\n",
    "This function takes a pandas DataFrame and performs the following:\n",
    "\n",
    "- Detects outliers in two columns 'Score' and 'Speed' using the interquartile range (IQR) method.\n",
    "\n",
    "- Filters out rows with outliers, both by applying the outlier condition to each column individually and by applying it across both columns at once using `.any(axis=\"columns\")`.\n",
    "\n",
    "- Return both dataframes after filtering and removing outliers without and with using `.any(axis=\"columns\")`. \n",
    "\n",
    "Hint:\n",
    "- The interquartile range (IQR) can be calculated as the difference between the 75th percentile (Q3) and the 25th percentile (Q1).\n",
    "  \n",
    "- Outliers are typically defined as values below Q1 - 1.5 * IQR or above Q3 + 1.5 * IQR.\n",
    "\n",
    "- Use `.any(axis=\"columns\")` to filter rows where an outlier is detected in any column.\n"
   ]
  },
  {
   "cell_type": "code",
   "execution_count": null,
   "metadata": {
    "id": "EiR_0DFwN-2t"
   },
   "outputs": [],
   "source": [
    "import pandas as pd\n",
    "\n",
    "def detect_and_filter_athlete_outliers(df):\n",
    "    \n",
    "    #Write your code here\n",
    "\n",
    "    return df_no_outliers, df_no_outliers_any\n"
   ]
  },
  {
   "cell_type": "code",
   "execution_count": null,
   "metadata": {
    "colab": {
     "base_uri": "https://localhost:8080/"
    },
    "id": "1uWevYI38gMI",
    "outputId": "c37ff309-6606-4838-fd2f-eeae6b2e3318"
   },
   "outputs": [],
   "source": [
    "# Define sample athlete data with potential outliers\n",
    "data = {\n",
    "    'Athlete': ['Athlete A', 'Athlete B', 'Athlete C', 'Athlete D', 'Athlete E'],\n",
    "    'Score': [90, 85, 300, 92, 88],  # Potential outlier in 'Score'\n",
    "    'Speed': [22.5, 21.8, 18.3, 25.5, 60.0]  # Potential outlier in 'Speed'\n",
    "}\n",
    "\n",
    "# Create DataFrame\n",
    "df6 = pd.DataFrame(data)\n",
    "\n",
    "# Apply the function\n",
    "df_no_outliers, df_no_outliers_any = detect_and_filter_athlete_outliers(df6)\n",
    "\n",
    "print(\"Without using .any(axis=1):\")\n",
    "print(df_no_outliers)\n",
    "\n",
    "print(\"\\nWith using .any(axis=1):\")\n",
    "print(df_no_outliers_any)"
   ]
  },
  {
   "cell_type": "markdown",
   "metadata": {
    "id": "fOptNzOl8gMI"
   },
   "source": [
    "#### Save your solution to a file ..."
   ]
  },
  {
   "cell_type": "code",
   "execution_count": null,
   "metadata": {
    "colab": {
     "base_uri": "https://localhost:8080/"
    },
    "id": "JbjKbPyM8gMI",
    "outputId": "9d5d35fb-6c5d-4e7f-c086-22be7af107f7"
   },
   "outputs": [],
   "source": [
    "%%writefile solution_6_4.py\n",
    "\n",
    "import pandas as pd\n",
    "\n",
    "def detect_and_filter_athlete_outliers(df):\n",
    "\n",
    "    # Write your code here\n",
    "\n",
    "    return df_no_outliers, df_no_outliers_any\n"
   ]
  },
  {
   "cell_type": "markdown",
   "metadata": {
    "id": "ISFBcmXl8gMI"
   },
   "source": [
    "#### Test 6.4 Execute the cell below to test your solution..."
   ]
  },
  {
   "cell_type": "code",
   "execution_count": null,
   "metadata": {
    "colab": {
     "base_uri": "https://localhost:8080/"
    },
    "id": "p9mUv13a8gMI",
    "outputId": "005de684-881a-4e72-a96e-e68512ecfe62"
   },
   "outputs": [],
   "source": [
    "! test/run_test.sh 4"
   ]
  },
  {
   "cell_type": "code",
   "execution_count": null,
   "metadata": {
    "id": "j_wwfnI-8gMI"
   },
   "outputs": [],
   "source": []
  },
  {
   "cell_type": "markdown",
   "metadata": {
    "id": "TPF_uKhr8gMI"
   },
   "source": [
    "### 6.5 Permuting rows in a DataFrame\n",
    "\n",
    "Question:\n",
    "\n",
    "You are given a pandas DataFrame containing data on movies. Implement the following function `permute_rows_with_replacement`: \n",
    "\n",
    "- This function takes a pandas DataFrame as input and returns a new DataFrame where the rows are permuted (shuffled) with replacement. \n",
    "\n",
    "- This means that some rows can appear more than once, and some may not appear at all in the new DataFrame.\n",
    "\n"
   ]
  },
  {
   "cell_type": "code",
   "execution_count": null,
   "metadata": {
    "id": "VGaBTHmOOvxf"
   },
   "outputs": [],
   "source": [
    "import pandas as pd\n",
    "\n",
    "def permute_rows_with_replacement(df7):\n",
    "\n",
    "    #write your code here\n",
    "    "
   ]
  },
  {
   "cell_type": "code",
   "execution_count": null,
   "metadata": {
    "colab": {
     "base_uri": "https://localhost:8080/"
    },
    "id": "UIhEZ0Jz8gMI",
    "outputId": "3bd6a155-b645-47a3-cd9b-4d4aa915de13"
   },
   "outputs": [],
   "source": [
    "# Define sample movie data\n",
    "data = {\n",
    "    'Movie': ['Inception', 'Titanic', 'The Matrix', 'Avengers', 'Gladiator'],\n",
    "    'Rating': [8.8, 7.8, 8.7, 8.4, 8.5],\n",
    "    'Year': [2010, 1997, 1999, 2012, 2000]\n",
    "}\n",
    "\n",
    "# Create DataFrame\n",
    "df7 = pd.DataFrame(data)\n",
    "\n",
    "# Apply the function\n",
    "df_permuted = permute_rows_with_replacement(df7)\n",
    "print(df_permuted)\n"
   ]
  },
  {
   "cell_type": "markdown",
   "metadata": {
    "id": "7TkeSjfG8gMI"
   },
   "source": [
    "#### Save your solution to a file ..."
   ]
  },
  {
   "cell_type": "code",
   "execution_count": null,
   "metadata": {
    "colab": {
     "base_uri": "https://localhost:8080/"
    },
    "id": "cgfJSi6Z8gMJ",
    "outputId": "71f1bfde-ff91-453e-a192-18ba9e123094"
   },
   "outputs": [],
   "source": [
    "%%writefile solution_6_5.py\n",
    "\n",
    "import pandas as pd\n",
    "\n",
    "def permute_rows_with_replacement(df7):\n",
    "    \n",
    "    # Write your code here\n"
   ]
  },
  {
   "cell_type": "markdown",
   "metadata": {
    "id": "yJG6w29F8gMJ"
   },
   "source": [
    "#### Test 6.5 Execute the cell below to test your solution..."
   ]
  },
  {
   "cell_type": "code",
   "execution_count": null,
   "metadata": {
    "id": "W8uih4Pp8gMJ",
    "outputId": "63507138-b792-4ec2-f218-f0e88af88f36"
   },
   "outputs": [],
   "source": [
    "! test/run_test.sh 5"
   ]
  },
  {
   "cell_type": "code",
   "execution_count": null,
   "metadata": {
    "id": "bxk_pbd0PWK_"
   },
   "outputs": [],
   "source": []
  },
  {
   "cell_type": "markdown",
   "metadata": {
    "id": "Wz4R6WPB8gMJ"
   },
   "source": [
    "### 6.6 Cleaning a string\n",
    "\n",
    "Question:\n",
    "\n",
    "You are given a long string that contains extra spaces, inconsistent capitalization, and some unwanted characters. Implement the following function `clean_up_string`: \n",
    "\n",
    "This function takes a long, messy string as input and returns a cleaned-up string using the following string methods:\n",
    "\n",
    "- Use `.replace()` to remove or replace unwanted characters (i.e., replace hyphens with white space).\n",
    "- \n",
    "- Use `.split()` to break the string into individual words.\n",
    "\n",
    "- Use `.strip()` to remove leading and trailing spaces from each word.\n",
    "\n",
    "- Use `.join()` to combine the cleaned words into a new, well-formed string.\n"
   ]
  },
  {
   "cell_type": "code",
   "execution_count": null,
   "metadata": {
    "id": "DAfISBrs8gMJ"
   },
   "outputs": [],
   "source": [
    "import pandas as pd\n",
    "\n",
    "def clean_up_string(s):\n",
    "\n",
    "    # Write your code here\n",
    "    \n",
    "\n"
   ]
  },
  {
   "cell_type": "code",
   "execution_count": null,
   "metadata": {
    "colab": {
     "base_uri": "https://localhost:8080/"
    },
    "id": "--I84aGT8gMJ",
    "outputId": "86ef15d6-a639-4191-e7f7-81d19e034cf6"
   },
   "outputs": [],
   "source": [
    "# Example string\n",
    "messy_string = \"Python---for programming- in  - data---science example!!\"\n",
    "\n",
    "# Apply the function\n",
    "cleaned_string = clean_up_string(messy_string)\n",
    "print(cleaned_string)"
   ]
  },
  {
   "cell_type": "markdown",
   "metadata": {
    "id": "n8JPkuLj8gMJ"
   },
   "source": [
    "#### Save your solution to a file ..."
   ]
  },
  {
   "cell_type": "code",
   "execution_count": null,
   "metadata": {
    "colab": {
     "base_uri": "https://localhost:8080/"
    },
    "id": "bknOLnCB8gMJ",
    "outputId": "d573257c-101e-4638-b006-4d1b960603e3"
   },
   "outputs": [],
   "source": [
    "%%writefile solution_6_6.py\n",
    "\n",
    "def clean_up_string(s):\n",
    "    \n",
    "    # Write your code here\n"
   ]
  },
  {
   "cell_type": "markdown",
   "metadata": {
    "id": "C6uJSja38gMJ"
   },
   "source": [
    "#### Test 6.6 Execute the cell below to test your solution..."
   ]
  },
  {
   "cell_type": "code",
   "execution_count": null,
   "metadata": {
    "id": "6MpZsdrw8gMJ",
    "outputId": "db579f5d-4cfd-4bf9-d441-3c0f9103750a"
   },
   "outputs": [],
   "source": [
    "! test/run_test.sh 6"
   ]
  },
  {
   "cell_type": "code",
   "execution_count": null,
   "metadata": {
    "id": "c-Yt3g6b8gMJ"
   },
   "outputs": [],
   "source": []
  },
  {
   "cell_type": "markdown",
   "metadata": {
    "id": "YwVkfBPj8gMJ"
   },
   "source": [
    "### 6.7 Count substring occurrences in a string\n",
    "\n",
    "Question:\n",
    "\n",
    "You are given a long string that contains extra spaces, inconsistent capitalization, and some unwanted characters. \n",
    "\n",
    "Implement the following function `count_substring_occurrences`: \n",
    "\n",
    "This function takes a long, messy string **s** and a **target** substring as input. It cleans up the string performing following tasks:\n",
    "\n",
    "- Remove leading white spaces using `.lstrip()`\n",
    "\n",
    "- Remove trailing white spaces using `.rstrip()`\n",
    "\n",
    "- Convert all characters to lowercase using `.lower()`\n",
    "\n",
    "- Split the string into individual words using `.split()`\n",
    "\n",
    "- Count the number of occurrences of the **target** substring in the cleaned string using `.count()` (lower or upper case lettering in the **target** should not matter).\n"
   ]
  },
  {
   "cell_type": "code",
   "execution_count": null,
   "metadata": {
    "id": "wloUgtnp8gMJ"
   },
   "outputs": [],
   "source": [
    "import pandas as pd\n",
    "\n",
    "def count_substring_occurrences(s, target):\n",
    "    \n",
    "    # Write your code here\n",
    "    \n",
    "    "
   ]
  },
  {
   "cell_type": "code",
   "execution_count": null,
   "metadata": {
    "colab": {
     "base_uri": "https://localhost:8080/"
    },
    "id": "8aE_NawR8gMJ",
    "outputId": "c705f151-7afc-4603-9e6b-d2ca2198a5bc"
   },
   "outputs": [],
   "source": [
    "# Example string and target substring\n",
    "messy_string = \"  This is a simple string---with many SIMPLE and Simple occurrences!  \"\n",
    "target_substring = \"simple\"\n",
    "\n",
    "# Apply the function\n",
    "count = count_substring_occurrences(messy_string, target_substring)\n",
    "print(f\"Number of occurrences of '{target_substring}': {count}\")\n"
   ]
  },
  {
   "cell_type": "markdown",
   "metadata": {
    "id": "J6UvbGcq8gMK"
   },
   "source": [
    "#### Save your solution to a file ..."
   ]
  },
  {
   "cell_type": "code",
   "execution_count": null,
   "metadata": {
    "colab": {
     "base_uri": "https://localhost:8080/"
    },
    "id": "3UDQqFB18gMK",
    "outputId": "24947ef2-92fa-4a8f-d422-ad0794b78ccb"
   },
   "outputs": [],
   "source": [
    "%%writefile solution_6_7.py\n",
    "\n",
    "def count_substring_occurrences(s, target):\n",
    "    \n",
    "    # Write your code here\n"
   ]
  },
  {
   "cell_type": "markdown",
   "metadata": {
    "id": "_lfGiC888gMK"
   },
   "source": [
    "#### Test 6.7 Execute the cell below to test your solution..."
   ]
  },
  {
   "cell_type": "code",
   "execution_count": null,
   "metadata": {
    "id": "Yalx5Yjf8gMK",
    "outputId": "a355c479-6ce8-46a9-ef08-9d11f151ba9d"
   },
   "outputs": [],
   "source": [
    "! test/run_test.sh 7"
   ]
  },
  {
   "cell_type": "code",
   "execution_count": null,
   "metadata": {
    "id": "iRKqEj6P8gMK"
   },
   "outputs": [],
   "source": []
  },
  {
   "cell_type": "markdown",
   "metadata": {
    "id": "BLt4fj2I8gMK"
   },
   "source": [
    "### 6.8 Regular expressoion matching and searching\n",
    "\n",
    "Question:\n",
    "\n",
    "You are given a string and a regular expression pattern. Implement the following function `regex_match_and_search`: \n",
    "\n",
    "This function takes a string **s** and a regular expression **pattern** as input. It performs two operations:\n",
    "\n",
    "- `.match()`: Attempts to match the pattern at the beginning of the string.\n",
    "\n",
    "- `.search()`: Searches the entire string for the first occurrence of the pattern.\n",
    "\n",
    "- The function should return a tuple of two outputs, the results of `.match()` and `.search()`.\n"
   ]
  },
  {
   "cell_type": "code",
   "execution_count": null,
   "metadata": {
    "id": "LbqL1nTn8gMK"
   },
   "outputs": [],
   "source": [
    "import re\n",
    "\n",
    "def regex_match_and_search(s, pattern):\n",
    "    \n",
    "    # Write your code here\n",
    "    \n"
   ]
  },
  {
   "cell_type": "code",
   "execution_count": null,
   "metadata": {
    "colab": {
     "base_uri": "https://localhost:8080/"
    },
    "id": "O-pS53VF8gMK",
    "outputId": "e8221249-fb2e-43a2-d18d-4c610cefdaf7"
   },
   "outputs": [],
   "source": [
    "# Example string and pattern\n",
    "example_string = \"Hello, welcome to the world of Python.\"\n",
    "pattern = r\"world\"\n",
    "\n",
    "# Apply the function\n",
    "match_output, search_output = regex_match_and_search(example_string, pattern)\n",
    "\n",
    "# Display results\n",
    "print(f\"Match result: {match_output}\")\n",
    "print(f\"Search result: {search_output}\")\n"
   ]
  },
  {
   "cell_type": "markdown",
   "metadata": {
    "id": "cNt3T3q68gMK"
   },
   "source": [
    "#### Save your solution to a file ..."
   ]
  },
  {
   "cell_type": "code",
   "execution_count": null,
   "metadata": {
    "colab": {
     "base_uri": "https://localhost:8080/"
    },
    "id": "_JFG-1JC8gMK",
    "outputId": "b4a4f4f6-ba52-49ec-e11c-cec096a39b08"
   },
   "outputs": [],
   "source": [
    "%%writefile solution_6_8.py\n",
    "\n",
    "import re\n",
    "\n",
    "def regex_match_and_search(s, pattern):\n",
    "    \n",
    "    # Write your code here\n"
   ]
  },
  {
   "cell_type": "markdown",
   "metadata": {
    "id": "1d68kWaW8gMK"
   },
   "source": [
    "#### Test 6.8 Execute the cell below to test your solution..."
   ]
  },
  {
   "cell_type": "code",
   "execution_count": null,
   "metadata": {
    "id": "SBx8jhj28gMK",
    "outputId": "264ecc4a-fd00-4897-d216-8ae682719b6e"
   },
   "outputs": [],
   "source": [
    "! test/run_test.sh 8"
   ]
  },
  {
   "cell_type": "code",
   "execution_count": null,
   "metadata": {
    "id": "iAVxSFVn8gMK"
   },
   "outputs": [],
   "source": []
  },
  {
   "cell_type": "markdown",
   "metadata": {
    "id": "IMm9yhn18gML"
   },
   "source": [
    "### 6.9 Clean book titles in a DataFrame\n",
    "\n",
    "Question:\n",
    "\n",
    "You are given a pandas DataFrame containing data on book titles. Implement the following function `filter_books_by_title`: \n",
    "\n",
    "This function takes a DataFrame with a column 'Title' and performs the following operations:\n",
    "\n",
    "- Convert all book titles to lowercase using `.str.lower()`.\n",
    "\n",
    "- Filter the DataFrame to include only titles that start with a specific letter using `.str.startswith()`.\n",
    "\n",
    "- Further filter the DataFrame to include only titles that contain a specific word using `.str.contains()`.\n",
    "\n",
    "- The function takes three imnput areguments - the original DataFrame, the starting letter **start_letter** of the title and the specific **keyword** to be imcluded in the title.\n",
    "\n",
    "- The function should return the filtered DataFrame.\n",
    "\n",
    "Hint:\n",
    "- Use `.str.lower()` to convert all strings in the 'Title' column to lowercase.\n",
    "\n",
    "- Use `.str.startswith()` to filter rows where the book title starts with a specific letter.\n",
    "\n",
    "- Use `.str.contains()` to filter rows that contain a specific word in the title.\n"
   ]
  },
  {
   "cell_type": "code",
   "execution_count": null,
   "metadata": {
    "id": "gT-JLe6k8gML"
   },
   "outputs": [],
   "source": [
    "import pandas as pd\n",
    "\n",
    "def filter_books_by_title(df14, start_letter, keyword):\n",
    "    \n",
    "    # Write your code here\n",
    "    "
   ]
  },
  {
   "cell_type": "code",
   "execution_count": null,
   "metadata": {
    "colab": {
     "base_uri": "https://localhost:8080/"
    },
    "id": "N-biPebB8gML",
    "outputId": "c1cb0650-a8d0-4c5b-e6b0-e19f4406c06e"
   },
   "outputs": [],
   "source": [
    "# Example DataFrame\n",
    "data = {\n",
    "    'Title': ['The Great Gatsby', 'Moby Dick', 'To Kill a Mockingbird', 'The Catcher in the Rye', 'Gone with the Wind'],\n",
    "    'Author': ['F. Scott Fitzgerald', 'Herman Melville', 'Harper Lee', 'J.D. Salinger', 'Margaret Mitchell']\n",
    "}\n",
    "\n",
    "df14 = pd.DataFrame(data)\n",
    "\n",
    "# Apply the function\n",
    "filtered_books = filter_books_by_title(df14, start_letter='t', keyword='the')\n",
    "print(filtered_books)\n"
   ]
  },
  {
   "cell_type": "markdown",
   "metadata": {
    "id": "BZcLruXe8gML"
   },
   "source": [
    "#### Save your solution to a file ..."
   ]
  },
  {
   "cell_type": "code",
   "execution_count": null,
   "metadata": {
    "colab": {
     "base_uri": "https://localhost:8080/"
    },
    "id": "FLvRMYQ_8gML",
    "outputId": "3638ed06-bba4-4655-ca51-4dfeb11be674"
   },
   "outputs": [],
   "source": [
    "%%writefile solution_6_9.py\n",
    "\n",
    "def filter_books_by_title(df14, start_letter, keyword):\n",
    "    \n",
    "    # Write your code here\n",
    "\n"
   ]
  },
  {
   "cell_type": "markdown",
   "metadata": {
    "id": "aEMjHw6j8gML"
   },
   "source": [
    "#### Test 6.9 Execute the cell below to test your solution..."
   ]
  },
  {
   "cell_type": "code",
   "execution_count": null,
   "metadata": {
    "id": "MWpG2nxS8gML",
    "outputId": "e49ea0a5-0e52-44ab-ac9d-e77ebeba13a9"
   },
   "outputs": [],
   "source": [
    "! test/run_test.sh 9"
   ]
  },
  {
   "cell_type": "code",
   "execution_count": null,
   "metadata": {
    "id": "evxaDVWQ8gML"
   },
   "outputs": [],
   "source": []
  },
  {
   "cell_type": "markdown",
   "metadata": {
    "id": "cw3cSP4D8gML"
   },
   "source": [
    "### 6.10 Categorical data\n",
    "\n",
    "Question:\n",
    "\n",
    "You are given a pandas DataFrame with a column that contains the names of different types of animals. Implement the following function `convert_to_category`: \n",
    "\n",
    "This function takes a pandas DataFrame and:\n",
    "\n",
    "- Converts the 'Animal' column to a categorical type.\n",
    "\n",
    "- Returns the categories in the form of a dictionary.\n",
    "\n",
    "- Returns the number of occurrences of each category using the `.value_counts()` method. Return that result also as a dictionary.\n",
    "\n",
    "- Final output of the function is a tuple of the two dictionaries outlined above.\n"
   ]
  },
  {
   "cell_type": "code",
   "execution_count": null,
   "metadata": {
    "id": "bJkQnEHO8gML"
   },
   "outputs": [],
   "source": [
    "import pandas as pd\n",
    "import numpy as np\n",
    "\n",
    "def convert_to_category(df15):\n",
    "    \n",
    "    # Write your code here\n",
    "    \n"
   ]
  },
  {
   "cell_type": "code",
   "execution_count": null,
   "metadata": {
    "colab": {
     "base_uri": "https://localhost:8080/"
    },
    "id": "KAw86U2q8gML",
    "outputId": "a78d735f-3cc2-49b5-e018-dc974b07aab3"
   },
   "outputs": [],
   "source": [
    "# Example DataFrame\n",
    "animals = ['cat', 'dog', 'elephant', 'dog', 'elephant', 'cat', 'lion', 'tiger', 'lion', 'dog']\n",
    "df15 = pd.DataFrame({\n",
    "    'Animal': animals,\n",
    "    'Age': np.random.randint(1, 15, size=len(animals)),\n",
    "    'Weight': np.random.uniform(5, 100, size=len(animals))\n",
    "})\n",
    "\n",
    "# Apply the function\n",
    "categories_dict, category_counts = convert_to_category(df15)\n",
    "print(\"Categories Dictionary:\", categories_dict)\n",
    "print(\"\\nCategory Counts:\\n\", category_counts)"
   ]
  },
  {
   "cell_type": "markdown",
   "metadata": {
    "id": "j3Hjq_B98gML"
   },
   "source": [
    "#### Save your solution to a file ..."
   ]
  },
  {
   "cell_type": "code",
   "execution_count": null,
   "metadata": {
    "colab": {
     "base_uri": "https://localhost:8080/"
    },
    "id": "mRZzbG5d8gML",
    "outputId": "d19f0105-2f9f-42f2-9c92-e406d9c66f9d"
   },
   "outputs": [],
   "source": [
    "%%writefile solution_6_10.py\n",
    "\n",
    "import pandas as pd\n",
    "import numpy as np\n",
    "\n",
    "def convert_to_category(df10):\n",
    "    \n",
    "    # Write your code here\n"
   ]
  },
  {
   "cell_type": "markdown",
   "metadata": {
    "id": "aWeLb73C8gML"
   },
   "source": [
    "#### Test 6.10 Execute the cell below to test your solution..."
   ]
  },
  {
   "cell_type": "code",
   "execution_count": null,
   "metadata": {
    "id": "VJ2sAOpX8gML",
    "outputId": "0b732fa2-79da-4bab-f987-0d1fd4f70c72"
   },
   "outputs": [],
   "source": [
    "! test/run_test.sh 10"
   ]
  },
  {
   "cell_type": "code",
   "execution_count": null,
   "metadata": {
    "id": "T7_2Ma-Y8gMM"
   },
   "outputs": [],
   "source": []
  },
  {
   "cell_type": "markdown",
   "metadata": {},
   "source": [
    "## Chapter 9 Examples"
   ]
  },
  {
   "cell_type": "markdown",
   "metadata": {},
   "source": [
    "### 6.11 A Brief Matplotlib API Primer\n",
    "\n",
    "Question:\n",
    "\n",
    "Using the provided penguins.csv dataset, write a Python script to generate a `2x2` grid of histograms for two variables: **\"bill_length_mm\"** and **\"bill_depth_mm\"**. Each variable should be represented in two histograms with different bin sizes. Save the plots to a .bmp file.\n",
    "\n",
    "Hint:\n",
    "\n",
    "- First, load the dataset using pandas. Then, create subplots using `plt.subplots()`.\n",
    "\n",
    "- For each variable, generate histograms with different numbers of bins in each subplot. You can use 20 bins for the first histogram and 50 bins for the second. Ensure that the histograms are appropriately labeled and that both x and y axes are shared among the subplots. Finally, use `fig.savefig()` to save your figure in PNG format."
   ]
  },
  {
   "cell_type": "code",
   "execution_count": null,
   "metadata": {},
   "outputs": [],
   "source": [
    "import pandas as pd\n",
    "import matplotlib.pyplot as plt\n",
    "\n",
    "# Load the dataset\n",
    "df = pd.read_csv('/data/IFI8410/sess06/penguins.csv')\n",
    "\n",
    "# Create a 2x2 grid of subplots\n",
    "fig, axes = plt.subplots(2, 2, figsize=(10, 10), sharex='col', sharey='row')\n",
    "\n",
    "# Variables to plot\n",
    "variables = ['bill_length_mm', 'bill_depth_mm']\n",
    "bin_settings = [20, 50]  # Different numbers of bins\n",
    "\n",
    "# Plotting histograms\n",
    "for i in range(2):\n",
    "    for j in range(2):\n",
    "        ax = axes[i][j]\n",
    "        var = variables[i]\n",
    "        bins = bin_settings[j]\n",
    "        ax.hist(df[var].dropna(), bins=bins, color='black', alpha=0.5)\n",
    "        ax.set_title(f'{var} with {bins} bins')\n",
    "\n",
    "# Adjust spacing to prevent overlap\n",
    "fig.subplots_adjust(wspace=0.5, hspace=0.5)\n",
    "\n",
    "# Add a general title\n",
    "fig.suptitle('2x2 Grid of Histograms for Penguin Bill Measurements')\n",
    "\n",
    "# Show the plot\n",
    "plt.show()"
   ]
  },
  {
   "cell_type": "code",
   "execution_count": null,
   "metadata": {},
   "outputs": [],
   "source": []
  },
  {
   "cell_type": "markdown",
   "metadata": {},
   "source": [
    "#### Save your plot to a .png file with the name plot_6_11.png ..."
   ]
  },
  {
   "cell_type": "code",
   "execution_count": null,
   "metadata": {},
   "outputs": [],
   "source": [
    "# Add your code here:\n",
    "\n"
   ]
  },
  {
   "cell_type": "markdown",
   "metadata": {},
   "source": [
    "#### Test 6.11 Execute the cell below to test that your file exists ..."
   ]
  },
  {
   "cell_type": "code",
   "execution_count": null,
   "metadata": {},
   "outputs": [],
   "source": [
    "! test/run_test.sh 11"
   ]
  },
  {
   "cell_type": "code",
   "execution_count": null,
   "metadata": {},
   "outputs": [],
   "source": []
  },
  {
   "cell_type": "markdown",
   "metadata": {},
   "source": [
    "### 6.12 Colors, Markers, and Line Styles\n",
    "\n",
    "Question:\n",
    "\n",
    "Using the provided penguins dataset, write a Python script to generate a `2x2` grid of subplots. Each subplot should contain two line plots representing **bill_length_mm** and **bill_depth_mm**. Use different colors and markers for the lines in each subplot. Save the plot as **'line_plots_grid.bmp'** and ensure that there is sufficient space between subplots to add custom ticks and labels in a later task.\n",
    "\n",
    "Hint:\n",
    "\n",
    "Initialize a `2x2` grid of subplots using plt.subplots(), load the penguins dataset, then **plot bill_length_mm** and **bill_depth_mm** with distinct colors and markers in each subplot, adjust spacing between subplots using `fig.subplots_adjust()`, and save the figure with `plt.savefig()` in .bmp format."
   ]
  },
  {
   "cell_type": "code",
   "execution_count": null,
   "metadata": {},
   "outputs": [],
   "source": [
    "import pandas as pd\n",
    "import matplotlib.pyplot as plt\n",
    "\n",
    "# Load the dataset\n",
    "df = pd.read_csv('/data/IFI8410/sess06/penguins.csv')\n",
    "\n",
    "# Create a figure and a 2x2 grid of subplots\n",
    "fig, axes = plt.subplots(2, 2, figsize=(10, 8), sharex=True, sharey=True)\n",
    "colors = ['red', 'blue', 'green', 'purple']\n",
    "markers = ['o', '^', 's', 'p']\n",
    "titles = ['Subplot 1', 'Subplot 2', 'Subplot 3', 'Subplot 4']\n",
    "\n",
    "# Iterate over axes and create line plots\n",
    "for i, ax in enumerate(axes.flatten()):\n",
    "    ax.plot(df['bill_length_mm'], color=colors[i], marker=markers[i], linestyle='-', label='Bill Length')\n",
    "    ax.plot(df['bill_depth_mm'], color=colors[(i+1) % 4], marker=markers[(i+1) % 4], linestyle='--', label='Bill Depth')\n",
    "    ax.set_title(titles[i])\n",
    "    # ax.legend()\n",
    "\n",
    "# Adjust layout\n",
    "fig.subplots_adjust(hspace=0.4, wspace=0.4)\n",
    "\n",
    "# Save the figure in PNG format\n",
    "plt.show()"
   ]
  },
  {
   "cell_type": "code",
   "execution_count": null,
   "metadata": {},
   "outputs": [],
   "source": []
  },
  {
   "cell_type": "markdown",
   "metadata": {},
   "source": [
    "#### Save your plot to a .png file with the name plot_6_12.png ..."
   ]
  },
  {
   "cell_type": "code",
   "execution_count": null,
   "metadata": {},
   "outputs": [],
   "source": [
    "# Add your code here:\n",
    "\n"
   ]
  },
  {
   "cell_type": "markdown",
   "metadata": {},
   "source": [
    "#### Test 6.12 Execute the cell below to test that your file exists ..."
   ]
  },
  {
   "cell_type": "code",
   "execution_count": null,
   "metadata": {},
   "outputs": [],
   "source": [
    "! test/run_test.sh 12"
   ]
  },
  {
   "cell_type": "code",
   "execution_count": null,
   "metadata": {},
   "outputs": [],
   "source": []
  },
  {
   "cell_type": "markdown",
   "metadata": {},
   "source": [
    "### 6.13 Ticks and Labels\n",
    "\n",
    "Question:\n",
    "\n",
    "Using the previously developed `2x2` grid of line plots, enhance each subplot by adding custom ticks and labels for the x and y axes. Rotate the x-axis labels by 45 degrees to improve readability. Save the updated plot as **'line_plots_with_labels.png'**.\n",
    "\n",
    "Hint:\n",
    "\n",
    "After plotting the lines in each subplot, use `set_xticks()`, `set_yticks()`, `set_xticklabels()`, and `set_yticklabels()` to define custom tick positions and labels for both axes. Use `plt.xticks(rotation=45)` within each subplot to rotate the x-axis labels. Finally, save the plot as a PNG file using `plt.savefig()`."
   ]
  },
  {
   "cell_type": "code",
   "execution_count": null,
   "metadata": {},
   "outputs": [],
   "source": [
    "import pandas as pd\n",
    "import matplotlib.pyplot as plt\n",
    "\n",
    "# Load the dataset\n",
    "df = pd.read_csv('/data/IFI8410/sess06/penguins.csv')\n",
    "\n",
    "# Create a figure and a 2x2 grid of subplots\n",
    "fig, axes = plt.subplots(2, 2, figsize=(10, 8), sharex=True, sharey=True)\n",
    "colors = ['red', 'blue', 'green', 'purple']\n",
    "markers = ['o', '^', 's', 'p']\n",
    "titles = ['Subplot 1', 'Subplot 2', 'Subplot 3', 'Subplot 4']\n",
    "\n",
    "# Define custom ticks and labels\n",
    "custom_ticks = range(0, len(df), 50)\n",
    "custom_labels = [str(i) for i in custom_ticks]\n",
    "\n",
    "# Iterate over axes and create line plots with custom ticks and labels\n",
    "for i, ax in enumerate(axes.flatten()):\n",
    "    ax.plot(df['bill_length_mm'], color=colors[i], marker=markers[i], linestyle='-', label='Bill Length')\n",
    "    ax.plot(df['bill_depth_mm'], color=colors[(i+1) % 4], marker=markers[(i+1) % 4], linestyle='--', label='Bill Depth')\n",
    "    ax.set_title(titles[i])\n",
    "    ax.set_xlabel('Index')\n",
    "    ax.set_ylabel('Measurement (mm)')\n",
    "    ax.set_xticks(custom_ticks)\n",
    "    ax.set_xticklabels(custom_labels, rotation=45)\n",
    "    ax.set_yticks(custom_ticks)\n",
    "    ax.set_yticklabels(custom_labels)\n",
    "    # ax.legend()\n",
    "\n",
    "# Adjust layout\n",
    "fig.subplots_adjust(hspace=0.4, wspace=0.4)\n",
    "\n",
    "plt.show()"
   ]
  },
  {
   "cell_type": "code",
   "execution_count": null,
   "metadata": {},
   "outputs": [],
   "source": []
  },
  {
   "cell_type": "markdown",
   "metadata": {},
   "source": [
    "#### Save your plot to a .png file with the name plot_6_13.png ..."
   ]
  },
  {
   "cell_type": "code",
   "execution_count": null,
   "metadata": {},
   "outputs": [],
   "source": [
    "# Add your code here:\n",
    "\n"
   ]
  },
  {
   "cell_type": "markdown",
   "metadata": {},
   "source": [
    "#### Test 6.13 Execute the cell below to test that your file exists ..."
   ]
  },
  {
   "cell_type": "code",
   "execution_count": null,
   "metadata": {},
   "outputs": [],
   "source": [
    "! test/run_test.sh 13"
   ]
  },
  {
   "cell_type": "code",
   "execution_count": null,
   "metadata": {},
   "outputs": [],
   "source": []
  },
  {
   "cell_type": "markdown",
   "metadata": {},
   "source": [
    "### 6.14 Add Legend\n",
    "\n",
    "Question:\n",
    "\n",
    "Enhance the line plots from the previous task by adding a legend to each subplot to identify **bill_length_mm** and **bill_depth_mm**. Save the final visualization as **'line_plots_with_legends.png'**\n",
    "\n",
    "Hint:\n",
    "\n",
    "Use the `legend()` method in each subplot to add a legend. This function should be called after plotting the lines. Customize the legend's location within each subplot to ensure it does not obscure the data."
   ]
  },
  {
   "cell_type": "code",
   "execution_count": null,
   "metadata": {},
   "outputs": [],
   "source": [
    "import pandas as pd\n",
    "import matplotlib.pyplot as plt\n",
    "\n",
    "# Load the dataset\n",
    "df = pd.read_csv('/data/IFI8410/sess06/penguins.csv')\n",
    "    \n",
    "# Create a figure and a 2x2 grid of subplots\n",
    "fig, axes = plt.subplots(2, 2, figsize=(10, 8), sharex=True, sharey=True)\n",
    "colors = ['red', 'blue', 'green', 'purple']\n",
    "markers = ['o', '^', 's', 'p']\n",
    "titles = ['Subplot 1', 'Subplot 2', 'Subplot 3', 'Subplot 4']\n",
    "\n",
    "# Define custom ticks and labels\n",
    "custom_ticks = range(0, len(df), 50)\n",
    "custom_labels = [str(i) for i in custom_ticks]\n",
    "\n",
    "# Iterate over axes and create line plots with custom ticks and labels\n",
    "for i, ax in enumerate(axes.flatten()):\n",
    "    ax.plot(df['bill_length_mm'], color=colors[i], marker=markers[i], linestyle='-', label='Bill Length')\n",
    "    ax.plot(df['bill_depth_mm'], color=colors[(i+1) % 4], marker=markers[(i+1) % 4], linestyle='--', label='Bill Depth')\n",
    "    ax.set_title(titles[i])\n",
    "    ax.set_xlabel('Index')\n",
    "    ax.set_ylabel('Measurement (mm)')\n",
    "    ax.set_xticks(custom_ticks)\n",
    "    ax.set_xticklabels(custom_labels, rotation=45)\n",
    "    ax.set_yticks(custom_ticks)\n",
    "    ax.set_yticklabels(custom_labels)\n",
    "\n",
    "    # Adding a legend to each subplot\n",
    "    ax.legend(loc='best')  # Automatically chooses a best location\n",
    "\n",
    "# Adjust layout\n",
    "fig.subplots_adjust(hspace=0.4, wspace=0.4)\n",
    "\n",
    "plt.show()"
   ]
  },
  {
   "cell_type": "code",
   "execution_count": null,
   "metadata": {},
   "outputs": [],
   "source": []
  },
  {
   "cell_type": "markdown",
   "metadata": {},
   "source": [
    "#### Save your plot to a .png file with the name plot_6_14.png ..."
   ]
  },
  {
   "cell_type": "code",
   "execution_count": null,
   "metadata": {},
   "outputs": [],
   "source": [
    "# Add your code here:\n",
    "\n"
   ]
  },
  {
   "cell_type": "markdown",
   "metadata": {},
   "source": [
    "#### Test 6.14 Execute the cell below to test that your file exists ..."
   ]
  },
  {
   "cell_type": "code",
   "execution_count": null,
   "metadata": {},
   "outputs": [],
   "source": [
    "! test/run_test.sh 14"
   ]
  },
  {
   "cell_type": "code",
   "execution_count": null,
   "metadata": {},
   "outputs": [],
   "source": []
  },
  {
   "cell_type": "markdown",
   "metadata": {},
   "source": [
    "### 6.15 Annotations and Drawing on a subplot\n",
    "\n",
    "Question:\n",
    "\n",
    "Modify the `2x2` grid of line plots by adding an annotation to one of the subplots to highlight a specific feature or point. Choose an interesting data point in the **bill_length_mm** or **bill_depth_mm** series to annotate. Save the updated visualization as **'line_plots_with_annotations.png'**.\n",
    "\n",
    "Hint:\n",
    "\n",
    "Identify a significant or interesting data point in one of the datasets to annotate. Use the `annotate()` method of the subplot object, specifying the text and the xy-coordinate of the data point you wish to highlight, as well as the xy-coordinate for the text placement to ensure the annotation is clear and does not overlap significantly with other plot elements."
   ]
  },
  {
   "cell_type": "code",
   "execution_count": null,
   "metadata": {},
   "outputs": [],
   "source": [
    "import pandas as pd\n",
    "import matplotlib.pyplot as plt\n",
    "\n",
    "# Load the dataset\n",
    "df = pd.read_csv('/data/IFI8410/sess06/penguins.csv')\n",
    "\n",
    "# Create a figure and a 2x2 grid of subplots\n",
    "fig, axes = plt.subplots(2, 2, figsize=(10, 8), sharex=True, sharey=True)\n",
    "colors = ['red', 'blue', 'green', 'purple']\n",
    "markers = ['o', '^', 's', 'p']\n",
    "titles = ['Subplot 1', 'Subplot 2', 'Subplot 3', 'Subplot 4']\n",
    "\n",
    "# Define custom ticks and labels\n",
    "custom_ticks = range(0, len(df), 50)\n",
    "custom_labels = [str(i) for i in custom_ticks]\n",
    "\n",
    "# Iterate over axes and create line plots with custom ticks, labels, and a legend\n",
    "for i, ax in enumerate(axes.flatten()):\n",
    "    ax.plot(df['bill_length_mm'], color=colors[i], marker=markers[i], linestyle='-', label='Bill Length')\n",
    "    ax.plot(df['bill_depth_mm'], color=colors[(i+1) % 4], marker=markers[(i+1) % 4], linestyle='--', label='Bill Depth')\n",
    "    ax.set_title(titles[i])\n",
    "    ax.set_xlabel('Index')\n",
    "    ax.set_ylabel('Measurement (mm)')\n",
    "    ax.set_xticks(custom_ticks)\n",
    "    ax.set_xticklabels(custom_labels, rotation=45)\n",
    "    ax.set_yticks(custom_ticks)\n",
    "    ax.set_yticklabels(custom_labels)\n",
    "    ax.legend(loc='best')\n",
    "\n",
    "    # Add an annotation to the first subplot\n",
    "    if i == 0:  # Choose subplot 1 for the annotation\n",
    "        target_index = 125  # Example index\n",
    "        target_value = df['bill_length_mm'].iloc[target_index]\n",
    "        ax.annotate('Highlight Point', xy=(target_index, target_value), xytext=(target_index + 10, target_value + 5),\n",
    "                    textcoords='offset points', arrowprops=dict(arrowstyle='->', connectionstyle='arc3,rad=.5'))\n",
    "\n",
    "# Adjust layout\n",
    "fig.subplots_adjust(hspace=0.4, wspace=0.4)\n",
    "\n",
    "plt.show()"
   ]
  },
  {
   "cell_type": "code",
   "execution_count": null,
   "metadata": {},
   "outputs": [],
   "source": []
  },
  {
   "cell_type": "markdown",
   "metadata": {},
   "source": [
    "#### Save your plot to a .png file with the name plot_6_15.png ..."
   ]
  },
  {
   "cell_type": "code",
   "execution_count": null,
   "metadata": {},
   "outputs": [],
   "source": [
    "# Add your code here:\n",
    "\n"
   ]
  },
  {
   "cell_type": "markdown",
   "metadata": {},
   "source": [
    "#### Test 6.15 Execute the cell below to test that your file exists ..."
   ]
  },
  {
   "cell_type": "code",
   "execution_count": null,
   "metadata": {},
   "outputs": [],
   "source": [
    "! test/run_test.sh 15"
   ]
  },
  {
   "cell_type": "code",
   "execution_count": null,
   "metadata": {},
   "outputs": [],
   "source": []
  },
  {
   "cell_type": "markdown",
   "metadata": {},
   "source": [
    "### 6.16 Plotting with pandas and seaborn\n",
    "\n",
    "Question:\n",
    "\n",
    "Using the penguin dataset, generate a vertical stacked bar plot that shows the percentage distribution of penguin species (as 'party sizes') for each island (interpreted as 'days of the week'). Each bar in the plot should represent 100% of the penguins observed on each island, segmented by species.\n",
    "\n",
    "Hint:\n",
    "\n",
    "First, group the data by **'island'** and **'species'** and count the occurrences. Then, normalize these counts by the total number of penguins on each island to convert these counts into percentages. Use `DataFrame.plot.bar(stacked=True)` to create your stacked bar plot, illustrating the relative frequencies of penguin species by island."
   ]
  },
  {
   "cell_type": "code",
   "execution_count": null,
   "metadata": {},
   "outputs": [],
   "source": [
    "import pandas as pd\n",
    "import matplotlib.pyplot as plt\n",
    "\n",
    "# Load the dataset\n",
    "df = pd.read_csv('/data/IFI8410/sess06/penguins.csv')\n",
    "\n",
    "# Group by 'island' and 'species' and count the number of occurrences\n",
    "party_counts = df.groupby(['island', 'species']).size().unstack(fill_value=0)\n",
    "\n",
    "# Normalize to sum to 1 (convert counts to percentages)\n",
    "party_pcts = party_counts.div(party_counts.sum(axis=1), axis=0)\n",
    "\n",
    "# Plotting the data\n",
    "fig, ax = plt.subplots()\n",
    "party_pcts.plot(kind='bar', stacked=True, ax=ax)\n",
    "ax.set_ylabel('Percentage')\n",
    "ax.set_title('Percentage Distribution of Penguin Species by Island')\n",
    "\n",
    "# Customize the plot to display better\n",
    "plt.xticks(rotation=0)  # Rotate labels to horizontal for better readability\n",
    "plt.tight_layout()\n",
    "\n",
    "plt.show()"
   ]
  },
  {
   "cell_type": "code",
   "execution_count": null,
   "metadata": {},
   "outputs": [],
   "source": []
  },
  {
   "cell_type": "markdown",
   "metadata": {},
   "source": [
    "#### Save your plot to a .png file with the name plot_6_16.png ..."
   ]
  },
  {
   "cell_type": "code",
   "execution_count": null,
   "metadata": {},
   "outputs": [],
   "source": [
    "# Add your code here:\n",
    "\n"
   ]
  },
  {
   "cell_type": "markdown",
   "metadata": {},
   "source": [
    "#### Test 6.16 Execute the cell below to test that your file exists ..."
   ]
  },
  {
   "cell_type": "code",
   "execution_count": null,
   "metadata": {},
   "outputs": [],
   "source": [
    "! test/run_test.sh 16"
   ]
  },
  {
   "cell_type": "code",
   "execution_count": null,
   "metadata": {},
   "outputs": [],
   "source": []
  },
  {
   "cell_type": "markdown",
   "metadata": {},
   "source": [
    "### 6.17 Scatter or Point Plots\n",
    "\n",
    "Question:\n",
    "\n",
    "Using the penguin dataset, create a seaborn scatter plot that displays the relationship between **'bill_length_mm'** and **'body_mass_g'**. Include a regression line, different colors for data points, and customize the regression line and error bar colors. Add an appropriate title to the plot.\n",
    "\n",
    "Hint:\n",
    "\n",
    "Use `sns.regplot()` to plot **'bill_length_mm'** as **x** and **'body_mass_g'** as **y**. Customize the scatter and line colors using the **scatter_kws** and **line_kws** parameters. Set the plot title using `ax.set_title()`."
   ]
  },
  {
   "cell_type": "code",
   "execution_count": null,
   "metadata": {},
   "outputs": [],
   "source": [
    "import pandas as pd\n",
    "import seaborn as sns\n",
    "import matplotlib.pyplot as plt\n",
    "\n",
    "# Load the dataset\n",
    "df = pd.read_csv('/data/IFI8410/sess06/penguins.csv')\n",
    "\n",
    "# Create a scatter plot with a regression line\n",
    "plt.figure(figsize=(10, 6))\n",
    "ax = sns.regplot(x='bill_length_mm', y='body_mass_g', data=df,\n",
    "                 scatter_kws={'color': 'blue'}, line_kws={'color': 'red'})\n",
    "ax.set_title('Relationship between Bill Length and Body Mass in Penguins')\n",
    "\n",
    "# Display the plot\n",
    "plt.show()"
   ]
  },
  {
   "cell_type": "code",
   "execution_count": null,
   "metadata": {},
   "outputs": [],
   "source": []
  },
  {
   "cell_type": "markdown",
   "metadata": {},
   "source": [
    "#### Save your plot to a .png file with the name plot_6_17.png ..."
   ]
  },
  {
   "cell_type": "code",
   "execution_count": null,
   "metadata": {},
   "outputs": [],
   "source": [
    "# Add your code here:\n",
    "\n"
   ]
  },
  {
   "cell_type": "markdown",
   "metadata": {},
   "source": [
    "#### Test 6.17 Execute the cell below to test that your file exists ..."
   ]
  },
  {
   "cell_type": "code",
   "execution_count": null,
   "metadata": {},
   "outputs": [],
   "source": [
    "! test/run_test.sh 17"
   ]
  },
  {
   "cell_type": "code",
   "execution_count": null,
   "metadata": {},
   "outputs": [],
   "source": []
  },
  {
   "cell_type": "markdown",
   "metadata": {},
   "source": [
    "### 6.18 seaborn pairplot\n",
    "\n",
    "Question:\n",
    "\n",
    "Using the penguin dataset, generate a Seaborn pair plot to explore the relationships and distributions among five selected measurements: **bill_length_mm**, **bill_depth_mm**, **flipper_length_mm**, **body_mass_g**, and **island** encoded numerically. Ensure the diagonal shows density plots instead of histograms, and make the data points in the scatter plots semi-transparent.\n",
    "\n",
    "Hint:\n",
    "\n",
    "Convert categorical data (if included) into numerical form if necessary, use `sns.pairplot()` from Seaborn with the **diag_kind** parameter set to **'kde'** to show density plots on the diagonal. Use the **plot_kws** attribute to make scatter plot points semi-transparent by setting **'alpha'** to 0.2."
   ]
  },
  {
   "cell_type": "code",
   "execution_count": null,
   "metadata": {},
   "outputs": [],
   "source": [
    "import pandas as pd\n",
    "import seaborn as sns\n",
    "import matplotlib.pyplot as plt\n",
    "\n",
    "# Load the dataset\n",
    "df = pd.read_csv('/data/IFI8410/sess06/penguins.csv')\n",
    "\n",
    "# Drop rows with missing values to avoid issues in pairplot\n",
    "df = df.dropna()\n",
    "\n",
    "# Convert 'island' to a numeric form for plotting purposes\n",
    "df['island'] = df['island'].astype('category').cat.codes\n",
    "\n",
    "# Select columns for the pairplot\n",
    "selected_columns = ['bill_length_mm', 'bill_depth_mm', 'flipper_length_mm', 'body_mass_g', 'island']\n",
    "df_selected = df[selected_columns]\n",
    "\n",
    "# Create a pairplot with KDE plots along the diagonal\n",
    "sns.pairplot(df_selected, diag_kind='kde', plot_kws={'alpha': 0.2}, height=2.5)\n",
    "\n",
    "# Display the plot\n",
    "plt.show()"
   ]
  },
  {
   "cell_type": "code",
   "execution_count": null,
   "metadata": {},
   "outputs": [],
   "source": []
  },
  {
   "cell_type": "markdown",
   "metadata": {},
   "source": [
    "#### Save your plot to a .png file with the name plot_6_18.png ..."
   ]
  },
  {
   "cell_type": "code",
   "execution_count": null,
   "metadata": {},
   "outputs": [],
   "source": [
    "# Add your code here:\n",
    "\n"
   ]
  },
  {
   "cell_type": "markdown",
   "metadata": {},
   "source": [
    "#### Test 6.18 Execute the cell below to test that your file exists ..."
   ]
  },
  {
   "cell_type": "code",
   "execution_count": null,
   "metadata": {},
   "outputs": [],
   "source": [
    "! test/run_test.sh 18"
   ]
  },
  {
   "cell_type": "code",
   "execution_count": null,
   "metadata": {},
   "outputs": [],
   "source": []
  },
  {
   "cell_type": "markdown",
   "metadata": {},
   "source": [
    "### 6.19 Facet Grids\n",
    "\n",
    "Question:\n",
    "\n",
    "Using a dataset of restaurant tips, generate a facet grid of bar plots using Seaborn's `catplot()`. The grid should display the relationship between **day** and **tip percentage**, with separate rows for different times ('Lunch', 'Dinner') and columns for **smoker** ('Yes', 'No'). Filter the data to include only tips less than 100% before plotting. Save the plot as **facet_grid_tips.bmp**.\n",
    "\n",
    "Hint:\n",
    "\n",
    "First, filter the dataset to remove entries where **tip_pct** is 100% or more. Use `sns.catplot()` with **x='day'**, **y='tip_pct'**, **row='time'**, **col='smoker'**, and **kind='bar'** to create the facet grid. Set the data parameter to the filtered dataset. To save the plot as a .bmp file, use the `savefig()` method on the figure object returned by `catplot()`."
   ]
  },
  {
   "cell_type": "code",
   "execution_count": null,
   "metadata": {},
   "outputs": [],
   "source": [
    "import pandas as pd\n",
    "import seaborn as sns\n",
    "import matplotlib.pyplot as plt\n",
    "\n",
    "# Load your CSV file\n",
    "df = pd.read_csv('/data/IFI8410/sess06/restaurant_tips.csv')\n",
    "\n",
    "# Filter data where tip percentage is less than 100%\n",
    "df_filtered = df[df['tip_pct'] < 1]\n",
    "\n",
    "# Create a facet grid categorical plot\n",
    "g = sns.catplot(x=\"day\", y=\"tip_pct\", row=\"time\", col=\"smoker\",\n",
    "                kind=\"bar\", data=df_filtered, height=4, aspect=1)\n",
    "\n",
    "# Adjust the plot to fine-tune and save as PNG\n",
    "plt.subplots_adjust(top=0.9)\n",
    "g.fig.suptitle('Facet Grid: Tip Percentage by Day, Time, and Smoker Status')\n",
    "g.set_axis_labels(\"Day of Week\", \"Tip Percentage\")\n",
    "\n",
    "plt.show()"
   ]
  },
  {
   "cell_type": "code",
   "execution_count": null,
   "metadata": {},
   "outputs": [],
   "source": []
  },
  {
   "cell_type": "markdown",
   "metadata": {},
   "source": [
    "#### Save your plot to a .png file with the name plot_6_19.png ..."
   ]
  },
  {
   "cell_type": "code",
   "execution_count": null,
   "metadata": {},
   "outputs": [],
   "source": [
    "# Add your code here:\n",
    "\n"
   ]
  },
  {
   "cell_type": "markdown",
   "metadata": {},
   "source": [
    "#### Test 6.19 Execute the cell below to test that your file exists ..."
   ]
  },
  {
   "cell_type": "code",
   "execution_count": null,
   "metadata": {},
   "outputs": [],
   "source": [
    "! test/run_test.sh 19"
   ]
  },
  {
   "cell_type": "code",
   "execution_count": null,
   "metadata": {},
   "outputs": [],
   "source": []
  },
  {
   "cell_type": "markdown",
   "metadata": {},
   "source": [
    "### 6.20 Categorical Box Plot Using Seaborn\n",
    "\n",
    "Question:\n",
    "\n",
    "Using the **restaurant_tips.csv** dataset, create a Seaborn categorical plot that visualizes the distribution of tip percentages (**tip_pct**) across different days (day). Ensure the box plots represent tip percentages less than 50%. Save the resulting plot as a **.bmp** file named **box_plot_tips.bmp**.\n",
    "\n",
    "Hint :\n",
    "\n",
    "Use `sns.catplot()` to generate a categorical plot with **kind='box'** and set **x='tip_pct'** and **y='day'**. Filter the data to include only **tip_pct** values less than 0.5 (or 50%) before plotting. Save the plot as a .bmp file using `plt.savefig()`."
   ]
  },
  {
   "cell_type": "code",
   "execution_count": null,
   "metadata": {},
   "outputs": [],
   "source": [
    "import pandas as pd\n",
    "import seaborn as sns\n",
    "import matplotlib.pyplot as plt\n",
    "\n",
    "# Load the dataset\n",
    "df = pd.read_csv('/data/IFI8410/sess06/restaurant_tips.csv')\n",
    "\n",
    "# Filter the dataset where tip_pct is less than 50%\n",
    "df_filtered = df[df['tip_pct'] < 0.5]\n",
    "\n",
    "# Create the box plot using Seaborn\n",
    "plt.figure(figsize=(8, 6))\n",
    "g = sns.catplot(x=\"tip_pct\", y=\"day\", kind=\"box\", data=df_filtered)\n",
    "\n",
    "# Set the title and adjust layout\n",
    "plt.title(\"Box Plot of Tip Percentages Across Days (Less than 50%)\")\n",
    "plt.tight_layout()\n",
    "\n",
    "# Display the plot\n",
    "plt.show()"
   ]
  },
  {
   "cell_type": "code",
   "execution_count": null,
   "metadata": {},
   "outputs": [],
   "source": []
  },
  {
   "cell_type": "markdown",
   "metadata": {},
   "source": [
    "#### Save your plot to a .png file with the name plot_6_20.png ..."
   ]
  },
  {
   "cell_type": "code",
   "execution_count": null,
   "metadata": {},
   "outputs": [],
   "source": [
    "# Add your code here:\n",
    "\n"
   ]
  },
  {
   "cell_type": "markdown",
   "metadata": {},
   "source": [
    "#### Test 6.20 Execute the cell below to test that your file exists ..."
   ]
  },
  {
   "cell_type": "code",
   "execution_count": null,
   "metadata": {},
   "outputs": [],
   "source": [
    "! test/run_test.sh 20"
   ]
  },
  {
   "cell_type": "code",
   "execution_count": null,
   "metadata": {
    "id": "l49eKWcy8gMO"
   },
   "outputs": [],
   "source": []
  },
  {
   "cell_type": "markdown",
   "metadata": {
    "id": "fSPOji7J8gMO"
   },
   "source": [
    "# Run all the tests again ..."
   ]
  },
  {
   "cell_type": "code",
   "execution_count": null,
   "metadata": {
    "id": "EdZ1x35U8gMO",
    "outputId": "48ef2e2d-9a91-459b-fd47-3c00a0f5724a"
   },
   "outputs": [],
   "source": [
    "! ./test/run_test.sh"
   ]
  },
  {
   "cell_type": "markdown",
   "metadata": {
    "id": "ZX9fVXbu8gMO"
   },
   "source": [
    "# Homework Submission\n",
    "- This homework is due by **2024-10-23, 6:00 PM (EDT)**.\n",
    "- Make sure that all your programs and output files are in the exact folder as specified in the instructions.\n",
    "- All file names on this system are case sensitive. Verify if you copy your work from a local computer to your home directory on ARC.\n",
    "- **Execute the cell below to submit your assignment**"
   ]
  },
  {
   "cell_type": "code",
   "execution_count": null,
   "metadata": {
    "id": "AwUJlcI78gMO",
    "outputId": "6886fcbd-7a07-4d5b-b578-b8916ebe9288"
   },
   "outputs": [],
   "source": [
    "! ./submit.sh -y"
   ]
  },
  {
   "cell_type": "code",
   "execution_count": null,
   "metadata": {
    "id": "8iR4RT208gMO"
   },
   "outputs": [],
   "source": []
  }
 ],
 "metadata": {
  "colab": {
   "provenance": []
  },
  "kernelspec": {
   "display_name": "Python 3 (ipykernel)",
   "language": "python",
   "name": "python3"
  },
  "language_info": {
   "codemirror_mode": {
    "name": "ipython",
    "version": 3
   },
   "file_extension": ".py",
   "mimetype": "text/x-python",
   "name": "python",
   "nbconvert_exporter": "python",
   "pygments_lexer": "ipython3",
   "version": "3.8.6"
  }
 },
 "nbformat": 4,
 "nbformat_minor": 4
}
