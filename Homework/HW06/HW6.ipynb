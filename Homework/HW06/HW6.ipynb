{
 "cells": [
  {
   "cell_type": "code",
   "execution_count": null,
   "metadata": {},
   "outputs": [],
   "source": [
    "%reload_ext autoreload\n",
    "%autoreload 2"
   ]
  },
  {
   "cell_type": "markdown",
   "metadata": {
    "id": "bo6nF_8kBduo"
   },
   "source": [
    "# Homework 6"
   ]
  },
  {
   "cell_type": "markdown",
   "metadata": {
    "id": "z7yMW-CABduq"
   },
   "source": [
    "## Data Clearning and Data Wrangling\n",
    "\n",
    "Review Chapters [7 Data Cleaning and Preparation](https://wesmckinney.com/book/data-cleaning) and\n",
    "[8 Data Wrangling: Join, Combine, and Reshape](https://wesmckinney.com/book/data-wrangling) of the [Python book](https://wesmckinney.com/book/).\n",
    "\n",
    "These exercises make use of the following Python packages:\n",
    "- [NumPy](https://numpy.org/doc/stable/)\n",
    "- [pandas](https://pandas.pydata.org/docs/index.html)\n",
    "\n",
    "The following data sources are used:\n",
    "\n",
    "1. `olympics/athlete_events.csv`: https://www.kaggle.com/datasets/heesoo37/120-years-of-olympic-history-athletes-and-res\n",
    "ults/\n",
    "2. `netflix/netflix1.csv`: https://www.kaggle.com/datasets/ariyoomotade/netflix-data-cleaning-analysis-and-visualization\n",
    "3. `churn_data.csv`, `customer_data.csv` & `internet_data.csv`: https://www.kaggle.com/code/manishpuraswani/telecom-data\n",
    "-lr/input\n",
    "Questions 23-25:\n",
    "4.  `sales.csv`: https://www.kaggle.com/datasets/rohitsahoo/sales-forecasting\n"
   ]
  },
  {
   "cell_type": "code",
   "execution_count": null,
   "metadata": {
    "id": "s7sd20v7Bdur"
   },
   "outputs": [],
   "source": [
    "import pandas as pd\n",
    "! mkdir -p test"
   ]
  },
  {
   "cell_type": "markdown",
   "metadata": {
    "id": "aw8DVU37Bdur"
   },
   "source": [
    "### 6.1 Finding null values\n",
    "Instructions\n",
    "1. Please load the olympics dataset which is present in the main data folder.\n",
    "2. The directory for this csv file is `/data/IFI8410/olympics/athlete_events.csv`\n",
    "2. Write a function which loads this csv `athlete_events.csv` into a dataframe using `pandas.DataFrame` function and the above directory.\n",
    "3. Return the missing values in the data frame as a list.\n",
    "\n",
    "Note: The list your return should be of same length as the number of columns (Check with that). \\\n",
    "       You can use `to_list()` function for this purpose"
   ]
  },
  {
   "cell_type": "markdown",
   "metadata": {
    "id": "MOctRhB7Bdus"
   },
   "source": [
    "Save your solution to `solution_6_1.py`"
   ]
  },
  {
   "cell_type": "code",
   "execution_count": null,
   "metadata": {
    "id": "RV70a6NZBdus"
   },
   "outputs": [],
   "source": [
    "\n",
    "import pandas as pd\n",
    "\n",
    "def find_missingvalues():\n",
    "    # Dont change anything above this comment\n",
    "    # Write your code here\n",
    "   "
   ]
  },
  {
   "cell_type": "code",
   "execution_count": null,
   "metadata": {},
   "outputs": [],
   "source": [
    "%%writefile solution_6_1.py\n",
    "import pandas as pd\n",
    "\n",
    "def find_missingvalues():\n",
    "    # Dont change anything above this comment\n",
    "    # Write your code here\n",
    "   "
   ]
  },
  {
   "cell_type": "code",
   "execution_count": null,
   "metadata": {
    "id": "uCXXPSigBdus"
   },
   "outputs": [],
   "source": [
    "# Try your code\n",
    "from solution_6_1 import *\n",
    "\n",
    "find_missingvalues()"
   ]
  },
  {
   "cell_type": "markdown",
   "metadata": {
    "id": "l1IXbSNWBduu"
   },
   "source": [
    "### 6.2 Filling null values\n",
    "One method to deal with missing data is to fill them with certain values like 0, mean or median depending on the column type, its importance etc.\n",
    "\n",
    "Instructions\n",
    "1. Load the csv `/data/IFI8410/olympics/athlete_events.csv` into a dataframe.\n",
    "2. Fill the missing values of column `Medal` with 0.\n",
    "3. Save the dataframe into a new csv file called `athlete_events_6_2.csv` (When saving the dataframce, make sure to set the index to false).\n",
    "4. Make sure you do not change/overwrite the original file.\n",
    "\n",
    "Note: The column names are case sensitive. There is no need to create a function for this."
   ]
  },
  {
   "cell_type": "code",
   "execution_count": null,
   "metadata": {
    "id": "hvVReD1kBduu"
   },
   "outputs": [],
   "source": []
  },
  {
   "cell_type": "markdown",
   "metadata": {
    "id": "lZD8GcTDBduu"
   },
   "source": [
    "Save your solution to `solution_6_2.py`"
   ]
  },
  {
   "cell_type": "code",
   "execution_count": null,
   "metadata": {
    "id": "YT3oL5Y7Bduu"
   },
   "outputs": [],
   "source": [
    "%%writefile solution_6_2.py\n",
    "import pandas as pd\n",
    "### your code here\n"
   ]
  },
  {
   "cell_type": "code",
   "execution_count": null,
   "metadata": {
    "id": "Nw8Hx0S7Bduv"
   },
   "outputs": [],
   "source": [
    "# Try your code\n",
    "import pandas as pd\n",
    "from solution_6_2 import *\n",
    "\n"
   ]
  },
  {
   "cell_type": "markdown",
   "metadata": {
    "id": "sSWYOZqoBduv"
   },
   "source": [
    "### 6.3 Filtering out null values\n",
    "Another method to deal with missing data is to drop those rows or columns which have null values.\n",
    "\n",
    "Instructions\n",
    "1. Load the csv `/data/IFI8410/olympics/athlete_events.csv` into a dataframe.\n",
    "2. Filter out (drop) all the columns which have any null values. (In other words you need to set the axis to columns)\n",
    "3. At the end of it, you should have 11 columns instead of 15.\n",
    "3. Save the dataframe into a new csv file called `athlete_events_6_3.csv` (Make sure to set the index to false).\n",
    "4. Make sure you do not change/overwrite the original file."
   ]
  },
  {
   "cell_type": "code",
   "execution_count": null,
   "metadata": {
    "id": "dlCdqb1nBduw"
   },
   "outputs": [],
   "source": []
  },
  {
   "cell_type": "markdown",
   "metadata": {
    "id": "lhrOC5kVBduw"
   },
   "source": [
    "Save your solution to `solution_6_3.py`"
   ]
  },
  {
   "cell_type": "code",
   "execution_count": null,
   "metadata": {
    "id": "HvuhAR3NBduw"
   },
   "outputs": [],
   "source": [
    "# Write your code here\n",
    "\n",
    "\n"
   ]
  },
  {
   "cell_type": "code",
   "execution_count": null,
   "metadata": {
    "id": "rTV94aD7Bdux"
   },
   "outputs": [],
   "source": [
    "# Try your code\n",
    "df_temp = pd.read_csv('athlete_events_6_3.csv')\n",
    "df_temp.shape"
   ]
  },
  {
   "cell_type": "markdown",
   "metadata": {
    "id": "5n0PDnVwBduy"
   },
   "source": [
    "### 6.4 Getting the number of duplicated rows.\n",
    "\n",
    "Instructions\n",
    "1. Create a function to get the number of duplicated rows in a dataset.\n",
    "2. Load the csv `athlete_events.csv` into a dataframe.\n",
    "3. Use the duplicated() function to get Boolean Series indicating whether each row is a duplicate or not. Then you can use sum() to get the number of duplicated rows (counts all the True values in the series)\n",
    "4. Return the number from the function."
   ]
  },
  {
   "cell_type": "code",
   "execution_count": null,
   "metadata": {
    "id": "bgOaM5gqBduy"
   },
   "outputs": [],
   "source": []
  },
  {
   "cell_type": "markdown",
   "metadata": {
    "id": "20PzItLsBduz"
   },
   "source": [
    "Save your solution to `solution_6_4.py`"
   ]
  },
  {
   "cell_type": "code",
   "execution_count": null,
   "metadata": {
    "id": "ERZV1DCvBduz"
   },
   "outputs": [],
   "source": [
    "%%writefile solution_6_4.py\n",
    "import pandas as pd\n",
    "\n",
    "def find_duplicatedrows():\n",
    "    # Dont change anything above this comment\n",
    "    # Write your code here\n",
    "    \n",
    "    \n",
    "    "
   ]
  },
  {
   "cell_type": "code",
   "execution_count": null,
   "metadata": {
    "id": "EU9OVq2kBduz"
   },
   "outputs": [],
   "source": [
    "# Try your code\n",
    "from solution_6_4 import find_duplicatedrows\n",
    "find_duplicatedrows()"
   ]
  },
  {
   "cell_type": "markdown",
   "metadata": {
    "id": "cVgIuai1Bdu0"
   },
   "source": [
    "### 6.5 Getting statistics\n",
    "\n",
    "Instructions\n",
    "1. Write a function where you load the csv `/data/IFI8410/olympics/athlete_events.csv` into a dataframe.\n",
    "2. Return a dictionary where you calculate the mean, median, max, min values of the column `Age`\n",
    "3. Round the value for mean to 2 decimal points.\n",
    "\n",
    "Example:\n",
    "- Output: { 'mean' : , 'median': , 'max': , 'min':  }"
   ]
  },
  {
   "cell_type": "code",
   "execution_count": null,
   "metadata": {
    "id": "eEaaAxDkBdu0"
   },
   "outputs": [],
   "source": []
  },
  {
   "cell_type": "markdown",
   "metadata": {
    "id": "FmNWNre6Bdu0"
   },
   "source": [
    "Save your solution to `solution_6_5.py`"
   ]
  },
  {
   "cell_type": "code",
   "execution_count": null,
   "metadata": {
    "id": "YobUUzR3Bdu0"
   },
   "outputs": [],
   "source": [
    "%%writefile solution_6_5.py\n",
    "import pandas as pd\n",
    "\n",
    "def find_statistics():\n",
    "    # Dont change anything above this comment\n",
    "    # Write your code here\n",
    "    \n",
    "    \n",
    "    \n",
    "    \n",
    "    "
   ]
  },
  {
   "cell_type": "code",
   "execution_count": null,
   "metadata": {
    "id": "S6JOshboBdu1"
   },
   "outputs": [],
   "source": [
    "# Try your code\n",
    "from solution_6_5 import *\n",
    "find_statistics()"
   ]
  },
  {
   "cell_type": "markdown",
   "metadata": {
    "id": "7sxckILFBdu1"
   },
   "source": [
    "### 6.6 Discretization and Binning\n",
    "\n",
    "Instructions\n",
    "1. Write a function where you load the csv `/data/IFI8410/olympics/athlete_events.csv` into a dataframe.\n",
    "2. Divide the `Age` column using bins. Please use bins with following ages `18, 24, 35, 50, 65, 80, 100`\n",
    "3. You can use `pandas.cut` function for this.\n",
    "4. Use `pd.value_counts()` to get a series on the binned age categories to get unique value counts\n",
    "3. Return the above series as a list."
   ]
  },
  {
   "cell_type": "code",
   "execution_count": null,
   "metadata": {
    "id": "pKzoEtq4Bdu2"
   },
   "outputs": [],
   "source": []
  },
  {
   "cell_type": "markdown",
   "metadata": {
    "id": "bQC2fVAeBdu2"
   },
   "source": [
    "Save your solution to `solution_6_6.py`"
   ]
  },
  {
   "cell_type": "code",
   "execution_count": null,
   "metadata": {
    "id": "dFpafthRBdu2"
   },
   "outputs": [],
   "source": [
    "%%writefile solution_6_6.py\n",
    "\n",
    "import pandas as pd\n",
    "\n",
    "def binning():\n",
    "    # Dont change anything above this comment\n",
    "    # Write your code here\n",
    "    \n",
    "    \n",
    "    \n",
    "    \n",
    "    "
   ]
  },
  {
   "cell_type": "code",
   "execution_count": null,
   "metadata": {
    "id": "mKq09DGFBdu2"
   },
   "outputs": [],
   "source": [
    "# Try your code\n",
    "from solution_6_6 import *\n",
    "binning()"
   ]
  },
  {
   "cell_type": "markdown",
   "metadata": {
    "id": "2nP63tbeBdu2"
   },
   "source": [
    "### 6.7 Filtering or detecting outliers\n",
    "\n",
    "Instructions\n",
    "1. Load the csv `athlete_events.csv` into a dataframe.\n",
    "2. Drop all null values in the column `Age`. (Make sure you use `inplace=True`)\n",
    "3. Calculate the mean of age.  \n",
    "4. Select (detect) all the rows with age greater than 3 times mean and save into a new dataframe. (age > 3\\*mean)\n",
    "5. Save the dataframe into a new csv file called `athlete_events_6_7.csv` (Make sure to set the index to false).\n",
    "6. Make sure you do not change/overwrite the original file."
   ]
  },
  {
   "cell_type": "code",
   "execution_count": null,
   "metadata": {
    "id": "KCx6QADwBdu2"
   },
   "outputs": [],
   "source": []
  },
  {
   "cell_type": "markdown",
   "metadata": {
    "id": "iw1nWAhaBdu3"
   },
   "source": [
    "Save your solution to `solution_6_7.py`"
   ]
  },
  {
   "cell_type": "code",
   "execution_count": null,
   "metadata": {
    "id": "2C5dYWN5Bdu3"
   },
   "outputs": [],
   "source": [
    "#%%writefile solution_6_7.py\n",
    "\n",
    "### your code here\n",
    "\n",
    "\n",
    "\n",
    "\n",
    "\n",
    "\n"
   ]
  },
  {
   "cell_type": "code",
   "execution_count": null,
   "metadata": {
    "id": "EFNZ1DMmBdu3"
   },
   "outputs": [],
   "source": [
    "# Try your code\n",
    "df_temp = pd.read_csv('athlete_events_6_7.csv')\n",
    "df_temp.shape"
   ]
  },
  {
   "cell_type": "markdown",
   "metadata": {
    "id": "bf0sNJ2lBdu3"
   },
   "source": [
    "### 6.8 Get dummies\n",
    "\n",
    "Instructions\n",
    "1. Load the csv `/data/IFI8410/olympics/athlete_events.csv` into a dataframe.\n",
    "2. Use `pandas.get_dummies` to get dummy variables for the column `Year`. (Make sure to use prefix as Year and dtype to be int)\n",
    "3. Save the dataframe into a new csv file called `athlete_events_6_8.csv` (Make sure to set the index to false).\n",
    "4. Make sure you do not change/overwrite the original file."
   ]
  },
  {
   "cell_type": "code",
   "execution_count": null,
   "metadata": {
    "id": "Ry6p_aJIBdu3"
   },
   "outputs": [],
   "source": []
  },
  {
   "cell_type": "code",
   "execution_count": null,
   "metadata": {
    "id": "oNKRQw8uBdu3"
   },
   "outputs": [],
   "source": [
    "#%%writefile solution_6_8.py\n",
    "\n",
    "### your code here\n",
    "\n",
    "\n",
    "\n",
    "\n",
    "\n"
   ]
  },
  {
   "cell_type": "code",
   "execution_count": null,
   "metadata": {
    "id": "xp2KmaWBBdu4"
   },
   "outputs": [],
   "source": [
    "# Try your code\n",
    "df_temp = pd.read_csv('athlete_events_6_8.csv')\n",
    "df_temp.shape"
   ]
  },
  {
   "cell_type": "markdown",
   "metadata": {
    "id": "b_lOAMqUBdu4"
   },
   "source": [
    "### 6.9 String functions\n",
    "\n",
    "Instructions\n",
    "1. Write a function where you load the csv `/data/IFI8410/olympics/athlete_events.csv` into a dataframe.\n",
    "2. Use string function in pandas `contains` to get the number of rows in column `Event` which has `Women` in it and also ` Men` in it.\n",
    "3. Return the tuple with these two values. (Women, Men)\n",
    "\n",
    "Note: When you use `contains` it gives you a series of Boolean, with which you can use `sum()` function to get the count."
   ]
  },
  {
   "cell_type": "code",
   "execution_count": null,
   "metadata": {
    "id": "-EQFuu41Bdu4"
   },
   "outputs": [],
   "source": []
  },
  {
   "cell_type": "markdown",
   "metadata": {
    "id": "avFa2DDwBdu4"
   },
   "source": [
    "Save your solution to `solution_6_9.py`"
   ]
  },
  {
   "cell_type": "code",
   "execution_count": null,
   "metadata": {
    "id": "9afpywk-Bdu4"
   },
   "outputs": [],
   "source": [
    "%%writefile solution_6_9.py\n",
    "import pandas as pd\n",
    "\n",
    "def contains():\n",
    "    # Dont change anything above this comment\n",
    "    # Write your code here\n",
    "   \n",
    "\n",
    "\n",
    "\n"
   ]
  },
  {
   "cell_type": "code",
   "execution_count": null,
   "metadata": {
    "id": "21k1xRZZBdu4"
   },
   "outputs": [],
   "source": [
    "# Try your code\n",
    "from solution_6_9 import *\n",
    "contains()"
   ]
  },
  {
   "cell_type": "markdown",
   "metadata": {
    "id": "5hRF7BgHBdu5"
   },
   "source": [
    "### 6.10 New column creation\n",
    "\n",
    "Instructions\n",
    "1. Load the csv `/data/IFI8410/olympics/athlete_events.csv` into a dataframe.\n",
    "2. Create a new column called as `Olympics`, which should have value as `Season Olympics, City`\n",
    "3. Save the dataframe into a new csv file called athlete_events_6_10.csv (Make sure to set the index to false).\n",
    "4. Make sure you do not change/overwrite the original file.\n",
    "\n",
    "Example:\n",
    "Lets say if the value of Season is `Summer`, and city as `Barcelona`, the value for the new column should be `Summer Olympics, Barcelona`"
   ]
  },
  {
   "cell_type": "code",
   "execution_count": null,
   "metadata": {
    "id": "LdcwBRA1Bdu5"
   },
   "outputs": [],
   "source": []
  },
  {
   "cell_type": "code",
   "execution_count": null,
   "metadata": {
    "id": "R4p2vvaYBdu5"
   },
   "outputs": [],
   "source": [
    "\n",
    "\n",
    "\n"
   ]
  },
  {
   "cell_type": "code",
   "execution_count": null,
   "metadata": {
    "id": "PHmNBEHrBdu5"
   },
   "outputs": [],
   "source": [
    "# Try your code\n",
    "df_temp = pd.read_csv('athlete_events_6_10.csv')\n",
    "df_temp.Olympics"
   ]
  },
  {
   "cell_type": "markdown",
   "metadata": {
    "id": "zLt8XYHcBdu6"
   },
   "source": [
    "### 6.11 Get dummies\n",
    "\n",
    "Instructions\n",
    "1. Please load the netflix dataset which is present in the main data folder.\n",
    "2. The directory for this csv file is `/data/IFI8410/netflix/netflix1.csv`\n",
    "3. Load the csv `netflix1.csv` into a dataframe.\n",
    "4. Use `str.get_dummies` to get dummy variables for the column `Listed_in` and save it into a new dataframe. (Make sure to use the correct delimiter with respect to data)\n",
    "5. Add new column called title to the new dataset which should have data of title column for main dataset.\n",
    "6. Save the new dataframe into a new csv file called `netflix_6_11.csv` (Make sure to set the index to false).\n",
    "7. Make sure you do not change/overwrite the original file."
   ]
  },
  {
   "cell_type": "code",
   "execution_count": null,
   "metadata": {
    "id": "PMobmqeaBdu6"
   },
   "outputs": [],
   "source": []
  },
  {
   "cell_type": "code",
   "execution_count": null,
   "metadata": {
    "id": "u_u2BYO6Bdu6"
   },
   "outputs": [],
   "source": [
    "\n",
    "### your code here\n",
    "\n",
    "\n"
   ]
  },
  {
   "cell_type": "code",
   "execution_count": null,
   "metadata": {
    "id": "GzcVIOqUBdu6"
   },
   "outputs": [],
   "source": [
    "# Try your code\n",
    "df_temp = pd.read_csv('netflix_6_11.csv')\n",
    "df_temp.head(2)"
   ]
  },
  {
   "cell_type": "markdown",
   "metadata": {
    "id": "3GWpiW0qBdu7"
   },
   "source": [
    "### 6.12 Find the movie titles\n",
    "\n",
    "Instructions\n",
    "1. Write a function where you load the csv `/data/IFI8410/netflix/netflix1.csv` into a dataframe.\n",
    "2. The function should return a list of titles following the below conditions\n",
    "- It should be of type `movie`, from `Brazil`, release year as `2013` and rating as `PG`.\n",
    "3. Return the titles as list (you can use to_list() for this)"
   ]
  },
  {
   "cell_type": "code",
   "execution_count": null,
   "metadata": {
    "id": "Ho_I5czlBdu7"
   },
   "outputs": [],
   "source": []
  },
  {
   "cell_type": "markdown",
   "metadata": {
    "id": "XsF58-o-Bdu7"
   },
   "source": [
    "Save your solution to `solution_6_12.py`"
   ]
  },
  {
   "cell_type": "code",
   "execution_count": null,
   "metadata": {
    "id": "6DfjIMp2Bdu7"
   },
   "outputs": [],
   "source": [
    "%%writefile solution_6_12.py\n",
    "import pandas as pd\n",
    "\n",
    "def find_movie():\n",
    "    # Dont change anything above this comment\n",
    "    # Write your code here\n",
    "   \n",
    "\n",
    "\n",
    "\n",
    "\n",
    "\n"
   ]
  },
  {
   "cell_type": "code",
   "execution_count": null,
   "metadata": {
    "id": "LZqOVgQ2Bdu7"
   },
   "outputs": [],
   "source": [
    "# Try your code\n",
    "from solution_6_12 import *\n",
    "find_movie()"
   ]
  },
  {
   "cell_type": "markdown",
   "metadata": {
    "id": "8nWb9422Bdu7"
   },
   "source": [
    "### 6.13 Find the average of movie duration\n",
    "\n",
    "Instructions\n",
    "1. Write a function where you load the csv `/data/IFI8410/netflix/netflix1.csv` into a dataframe.\n",
    "2. Filter all the rows which has `movie` in `type` column and save it into a new dataframe.\n",
    "3. There is a column called `duration` which has values like `90 min` for example. Create a new series `duration_mins` with just the numeric value of the duration (in minutes). Perform split operation to get only the `90` value to store in this new column. Convert the data type of this column to `int`. (You can use regex patter, or str.split(), str.get() and astype(int).\n",
    "3. Return the value of **mean** of `duration_mins` series **rounded to two decimal points**."
   ]
  },
  {
   "cell_type": "code",
   "execution_count": null,
   "metadata": {
    "id": "LzJiXS1RBdu7"
   },
   "outputs": [],
   "source": []
  },
  {
   "cell_type": "markdown",
   "metadata": {
    "id": "QsKvMAw4Bdu8"
   },
   "source": [
    "Save your solution to `solution_6_13.py`"
   ]
  },
  {
   "cell_type": "code",
   "execution_count": null,
   "metadata": {
    "id": "rd8rf4uIBdu8"
   },
   "outputs": [],
   "source": [
    "%%writefile solution_6_13.py\n",
    "import pandas as pd\n",
    "\n",
    "def find_meanduration():\n",
    "    # Dont change anything above this comment\n",
    "    # Write your code here\n",
    "    \n",
    "    \n",
    "    \n",
    "    \n",
    "    "
   ]
  },
  {
   "cell_type": "code",
   "execution_count": null,
   "metadata": {
    "id": "PCjXqzCfBdu8"
   },
   "outputs": [],
   "source": [
    "# Try your code\n",
    "from solution_6_13 import *\n",
    "find_meanduration()"
   ]
  },
  {
   "cell_type": "markdown",
   "metadata": {
    "id": "O3CtU8TRBdu8"
   },
   "source": [
    "### 6.14 Find the country with most releases\n",
    "\n",
    "Instructions\n",
    "1. Write a function where you load the csv `/data/IFI8410/netflix//netflix1.csv` into a dataframe.\n",
    "2. Count the number of rows for each country. You can use `value_counts` for that. After performing this you should have two columns, one is `index` which is country name and other is `country` with counts.\n",
    "3. Sort the values of `country` in descending order.\n",
    "4. Return a tuple of the first row with first value being country name having highest number. So, it would be first index and next country. You can use `.iloc` for this.\n",
    "\n",
    "Example for output: ('United States', 3240)"
   ]
  },
  {
   "cell_type": "markdown",
   "metadata": {
    "id": "EGl7xX1HBdu8"
   },
   "source": [
    "Save your solution to `solution_6_14.py`"
   ]
  },
  {
   "cell_type": "code",
   "execution_count": null,
   "metadata": {
    "id": "nsBMGIvNBdu8"
   },
   "outputs": [],
   "source": [
    "%%writefile solution_6_14.py\n",
    "import pandas as pd\n",
    "\n",
    "def find_mostcountry():\n",
    "    # Dont change anything above this comment\n",
    "    # Write your code here\n",
    "    \n",
    "    \n",
    "    \n",
    "    \n",
    "    "
   ]
  },
  {
   "cell_type": "code",
   "execution_count": null,
   "metadata": {
    "id": "kQchrIy7Bdu8"
   },
   "outputs": [],
   "source": [
    "# Try your code\n",
    "from solution_6_14 import *\n",
    "find_mostcountry()"
   ]
  },
  {
   "cell_type": "markdown",
   "metadata": {
    "id": "Il64Cxi_Bdu9"
   },
   "source": [
    "### 6.15 Join Tables\n",
    "Instructions\n",
    "Write a function \"join_dataframes\" where you:\n",
    "1. Load the following three csv files as dataframes: `/data/IFI8410/churn_data.csv`, `/data/IFI8410/customer_data.csv` and `/data/IFI8410/internet_data.csv`\n",
    "2. Join the three tables and store the result in a dataframe\n",
    "3. Return the newly created dataframe\n",
    "3. Find the shape of the resulting dataframe and store it in df_shape\n"
   ]
  },
  {
   "cell_type": "markdown",
   "metadata": {
    "id": "_SGLsf4vBdu9"
   },
   "source": [
    "Save your solution to `solution_6_15.py`"
   ]
  },
  {
   "cell_type": "code",
   "execution_count": null,
   "metadata": {
    "colab": {
     "base_uri": "https://localhost:8080/"
    },
    "id": "SHN-8j-1Bdu9",
    "outputId": "9788a4d7-0dbe-4404-fc2e-edc999e72421"
   },
   "outputs": [],
   "source": [
    "%%writefile solution_6_15.py\n",
    "### your code here\n",
    "\n",
    "\n",
    "    \n",
    "    \n",
    "    "
   ]
  },
  {
   "cell_type": "code",
   "execution_count": null,
   "metadata": {
    "colab": {
     "base_uri": "https://localhost:8080/",
     "height": 592
    },
    "id": "zZ5eHhVKBdu9",
    "outputId": "ca55f889-ef33-404e-bb3e-f491ad5c3fae"
   },
   "outputs": [],
   "source": [
    "# Try your code\n",
    "from solution_6_15 import *\n",
    "join_dataframes()"
   ]
  },
  {
   "cell_type": "markdown",
   "metadata": {
    "id": "BG72OpcPBdu-"
   },
   "source": [
    "### 6.16 Calculate average monthly charges using pivot table\n",
    "Instructions\n",
    "\n",
    "Write a function `calculate_avgcharges()` where you:\n",
    "\n",
    "1. Create a pivot table using the merged DataFrame from the previous excercise. Set 'gender' as index, 'InternetService' as columns, and 'MonthlyCharges' as values. Calculate the mean MonthlyCharges for each combination.\n",
    "2. Store the resulting dataframe and return it"
   ]
  },
  {
   "cell_type": "markdown",
   "metadata": {
    "id": "VbABgi5KBdu-"
   },
   "source": [
    "Save your solution to `solution_6_16.py`"
   ]
  },
  {
   "cell_type": "code",
   "execution_count": null,
   "metadata": {
    "colab": {
     "base_uri": "https://localhost:8080/"
    },
    "id": "GwmEN2w_Bdu-",
    "outputId": "f7db832c-cd47-490b-de05-b15ca92b70a9"
   },
   "outputs": [],
   "source": [
    "%%writefile solution_6_16.py\n",
    "### your code here\n",
    "from solution_6_15 import *\n",
    "import pandas as pd\n",
    "\n",
    "\n"
   ]
  },
  {
   "cell_type": "code",
   "execution_count": null,
   "metadata": {
    "colab": {
     "base_uri": "https://localhost:8080/",
     "height": 142
    },
    "id": "Jf2yFnWQBdu-",
    "outputId": "f76f21d5-1f61-4501-ffd2-55b1a833073a"
   },
   "outputs": [],
   "source": [
    "# Try your code\n",
    "from solution_6_16 import *\n",
    "calculate_avgcharges()"
   ]
  },
  {
   "cell_type": "markdown",
   "metadata": {
    "id": "6-XOmJprBdu-"
   },
   "source": [
    "### 6.17 Calculate average monthly charges using group by\n",
    "Instructions\n",
    "Create a function `calculate_monthlycharges()` where you:\n",
    "1. Group the merged DataFrame resulting from problem 6.15 by 'InternetService'\n",
    "2. calculate the average 'MonthlyCharges' for each group.\n"
   ]
  },
  {
   "cell_type": "markdown",
   "metadata": {
    "id": "wZvUwTXkBdu_"
   },
   "source": [
    "Save your solution to `solution_6_17.py`"
   ]
  },
  {
   "cell_type": "code",
   "execution_count": null,
   "metadata": {
    "colab": {
     "base_uri": "https://localhost:8080/"
    },
    "id": "RnRKbhIzBdu_",
    "outputId": "749bb265-275c-41ee-9c70-7e11df1b4ee6"
   },
   "outputs": [],
   "source": [
    "%%writefile solution_6_17.py\n",
    "from solution_6_15 import *\n",
    "\n",
    "### your code here\n",
    "\n",
    "\n",
    "\n"
   ]
  },
  {
   "cell_type": "code",
   "execution_count": null,
   "metadata": {
    "colab": {
     "base_uri": "https://localhost:8080/"
    },
    "id": "tiIrm8J0Bdu_",
    "outputId": "2f4d04a3-e843-4a84-9951-b15bb576e2dc"
   },
   "outputs": [],
   "source": [
    "# Try your code\n",
    "from solution_6_17 import *\n",
    "calculate_monthlycharges()\n",
    "\n"
   ]
  },
  {
   "cell_type": "markdown",
   "metadata": {
    "id": "M0DEhoxVBdu_"
   },
   "source": [
    "### 6.18 Create new feature\n",
    "Instructions\n",
    "Write a function `create_ChargeRatio()` where you:\n",
    "1. Using the merged dataframe resulting from problem 6.15, create a new column in the merged DataFrame that represents the ratio of 'TotalCharges' to 'MonthlyCharges' and name it 'ChargeRatio'.\n",
    "2. Replace any missing values in the 'ChargeRatio' column with the mean of the column.\n",
    "3. Return the new dataframe\n"
   ]
  },
  {
   "cell_type": "markdown",
   "metadata": {
    "id": "2WvYMzOJBdu_"
   },
   "source": [
    "Save your solution to `solution_6_18.py`"
   ]
  },
  {
   "cell_type": "code",
   "execution_count": null,
   "metadata": {
    "colab": {
     "base_uri": "https://localhost:8080/"
    },
    "id": "6g09cF5tBdu_",
    "outputId": "373767a1-d9a9-4097-e601-7839c4090fd6"
   },
   "outputs": [],
   "source": [
    "%%writefile solution_6_18.py\n",
    "from solution_6_15 import *\n",
    "import pandas as pd\n",
    "\n",
    "### your code here\n",
    "\n",
    "\n",
    "\n",
    "\n",
    "\n",
    "\n"
   ]
  },
  {
   "cell_type": "code",
   "execution_count": null,
   "metadata": {
    "colab": {
     "base_uri": "https://localhost:8080/",
     "height": 592
    },
    "id": "xmcO4pT2Bdu_",
    "outputId": "56530657-89bd-4d04-cabe-9b3fa2f9aed2"
   },
   "outputs": [],
   "source": [
    "# Try your code\n",
    "from solution_6_18 import *\n",
    "\n",
    "create_ChargeRatio()\n"
   ]
  },
  {
   "cell_type": "markdown",
   "metadata": {
    "id": "cE4yK4gQBdvA"
   },
   "source": [
    "### 6.19 Melt dataframe\n",
    "Instructions\n",
    "Write a function `melt_data()` where you:\n",
    "1. Melt the merged DataFrame resulting from problem 6.15 by keeping 'customerID' as the ID variable and all other columns as value variables.\n",
    "2. Stack the melted DataFrame to create a multi-level indexed Series.\n",
    "3. Return the stacked melted dataframe"
   ]
  },
  {
   "cell_type": "markdown",
   "metadata": {
    "id": "j18V-h-lBdvA"
   },
   "source": [
    "Save your solution to `solution_6_19.py`"
   ]
  },
  {
   "cell_type": "code",
   "execution_count": null,
   "metadata": {
    "colab": {
     "base_uri": "https://localhost:8080/"
    },
    "id": "RZsuqBAnBdvA",
    "outputId": "a5286193-04d3-4537-db04-1d677028dad5"
   },
   "outputs": [],
   "source": [
    "%%writefile solution_6_19.py\n",
    "### your code here\n",
    "from solution_6_15 import *\n",
    "\n",
    "\n"
   ]
  },
  {
   "cell_type": "code",
   "execution_count": null,
   "metadata": {
    "colab": {
     "base_uri": "https://localhost:8080/",
     "height": 204
    },
    "id": "0RbEfCwYBdvA",
    "outputId": "4ecc2431-6067-4688-fee5-d7d91fe3d3d0"
   },
   "outputs": [],
   "source": [
    "# Try your code\n",
    "from solution_6_19 import *\n",
    "melt_data()"
   ]
  },
  {
   "cell_type": "markdown",
   "metadata": {
    "id": "9jqpWhndBdvA"
   },
   "source": [
    "### 6.20 Grouping and Aggregating\n",
    "Instructions\n",
    "Write a function `calculate_charges()` where you:\n",
    "1. Group the merged_data DataFrame resulting form problem 6.15 by both 'Contract' and 'Churn'.\n",
    "2. Calculate the average 'MonthlyCharges' and the median 'TotalCharges' for each combination of 'Contract' and 'Churn'.\n",
    "3. Return the new dataframe"
   ]
  },
  {
   "cell_type": "markdown",
   "metadata": {
    "id": "tNT7qv6dBdvB"
   },
   "source": [
    "Save your solution to `solution_6_20.py`"
   ]
  },
  {
   "cell_type": "code",
   "execution_count": null,
   "metadata": {
    "colab": {
     "base_uri": "https://localhost:8080/"
    },
    "id": "L4wwYiCbBdvB",
    "outputId": "e44b05f0-41a6-4e5f-fd15-20b24fbc2a78"
   },
   "outputs": [],
   "source": [
    "%%writefile solution_6_20.py\n",
    "from solution_6_15 import *\n",
    "import pandas as pd\n",
    "\n",
    "### your code here\n",
    "\n",
    "\n",
    "\n",
    "\n",
    "\n",
    "\n"
   ]
  },
  {
   "cell_type": "code",
   "execution_count": null,
   "metadata": {
    "colab": {
     "base_uri": "https://localhost:8080/",
     "height": 266
    },
    "id": "x7AcB58OBdvB",
    "outputId": "17ac582e-3c99-453f-83a3-7e2660c02fcc"
   },
   "outputs": [],
   "source": [
    "# Try your code\n",
    "from solution_6_20 import *\n",
    "calculate_charges()"
   ]
  },
  {
   "cell_type": "markdown",
   "metadata": {
    "id": "Jq1deM8BBdvB"
   },
   "source": [
    "### 6.21 Calculate percentage  of customers per payment method\n",
    "Instructions\n",
    "\n",
    "Write a function `payment_percentage()` where you:\n",
    "1. For every payment method, find the percentage of the total customers that are using that method (use the merged dataframe resulting from problem 6.15)\n",
    "2. Store you result as a dataframe and return it"
   ]
  },
  {
   "cell_type": "markdown",
   "metadata": {
    "id": "27GgYBG5BdvB"
   },
   "source": [
    "Save your solution to `solution_6_21.py`"
   ]
  },
  {
   "cell_type": "code",
   "execution_count": null,
   "metadata": {
    "colab": {
     "base_uri": "https://localhost:8080/"
    },
    "id": "ldd3Ix2cBdvB",
    "outputId": "57690c12-8a75-4c84-bb06-c4f26a78b3d4"
   },
   "outputs": [],
   "source": [
    "%%writefile solution_6_21.py\n",
    "from solution_6_15 import *\n",
    "import pandas as pd\n",
    "\n",
    "### your code here\n",
    "\n",
    "\n",
    "\n",
    "\n"
   ]
  },
  {
   "cell_type": "code",
   "execution_count": null,
   "metadata": {
    "colab": {
     "base_uri": "https://localhost:8080/",
     "height": 173
    },
    "id": "V_tSdXv2BdvB",
    "outputId": "fead8fbe-dee4-4b3d-9c3f-dc4d06ab12a7"
   },
   "outputs": [],
   "source": [
    "# Try your code\n",
    "from solution_6_21 import *\n",
    "\n",
    "payment_percentage()\n"
   ]
  },
  {
   "cell_type": "markdown",
   "metadata": {
    "id": "j_klt_hpBdvC"
   },
   "source": [
    "### 6.22 Calculate customer percentage for churn per payment method\n",
    "Instructions\n",
    "\n",
    "Write a function `percentage_churn()` where you:\n",
    "\n",
    "1. For every PaymentMethod find the precentage  of the total customers that churn or don't churn (using the merged resulting dataframe from problem 6.15)\n",
    "2. Return a dataframe with 3 Columns [PaymentMethod,No,Yes ] which values are the payment method name, the precentage of the customers that don't churn and the percentange of the customers that churn"
   ]
  },
  {
   "cell_type": "markdown",
   "metadata": {
    "id": "BIAS0oiuBdvC"
   },
   "source": [
    "Save your solution to `solution_6_22.py`"
   ]
  },
  {
   "cell_type": "code",
   "execution_count": null,
   "metadata": {
    "colab": {
     "base_uri": "https://localhost:8080/"
    },
    "id": "PwAyVp7fBdvC",
    "outputId": "305bddfd-fb66-44d0-9884-e7ee084248bd"
   },
   "outputs": [],
   "source": [
    "%%writefile solution_6_22.py\n",
    "from solution_6_15 import *\n",
    "\n",
    "### your code here\n",
    "\n",
    "\n",
    "\n",
    "\n",
    "\n",
    "\n",
    "\n"
   ]
  },
  {
   "cell_type": "code",
   "execution_count": null,
   "metadata": {
    "colab": {
     "base_uri": "https://localhost:8080/",
     "height": 173
    },
    "id": "nV0BxLCbBdvC",
    "outputId": "9706abd6-b0a4-4a51-d9a9-cb0641d5212c"
   },
   "outputs": [],
   "source": [
    "# Try your code\n",
    "from solution_6_22 import *\n",
    "\n",
    "percentage_churn()\n"
   ]
  },
  {
   "cell_type": "markdown",
   "metadata": {
    "id": "s92C_DV1BdvC"
   },
   "source": [
    "### 6.23 Find monthly sales\n",
    "Instructions\n",
    "\n",
    "Write a function `get_monthlysales()` where you:\n",
    "1. Load the `/data/IFI8410/sales.csv` file as dataframe\n",
    "2. Convert the Order Date column to a datetime object. (Hint: the dates in this file are in the format DAY/MONTH/YEAR; use `pd.to_datetime()` with the optional argument `dayfirst=True`)\n",
    "3. Set 'Order Date' as the index and resample by month, summing the 'Sales' values\n",
    "4. Sort the result by date in ascending order (hint: use `sort_index()`)\n",
    "3. Return the first five rows\n"
   ]
  },
  {
   "cell_type": "markdown",
   "metadata": {
    "id": "wRafKdg9BdvC"
   },
   "source": [
    "Save your solution to `solution_6_23.py`"
   ]
  },
  {
   "cell_type": "code",
   "execution_count": null,
   "metadata": {
    "colab": {
     "base_uri": "https://localhost:8080/"
    },
    "id": "LjZH0Ss5BdvD",
    "outputId": "1015f797-df00-4a5f-ec92-b2c4683acd07"
   },
   "outputs": [],
   "source": [
    "%%writefile solution_6_23.py\n",
    "import pandas as pd\n",
    "\n",
    "### your code here\n",
    "\n",
    "\n",
    "\n",
    "\n",
    "\n",
    "\n",
    "\n",
    "\n"
   ]
  },
  {
   "cell_type": "code",
   "execution_count": null,
   "metadata": {
    "colab": {
     "base_uri": "https://localhost:8080/"
    },
    "id": "S7_j9jnABdvD",
    "outputId": "804070c6-e3ef-4e77-e203-ec8753b1ed3b"
   },
   "outputs": [],
   "source": [
    "# Try your code\n",
    "from solution_6_23 import *\n",
    "\n",
    "get_monthlysales()"
   ]
  },
  {
   "cell_type": "markdown",
   "metadata": {
    "id": "XkEjLLE9BdvD"
   },
   "source": [
    "### 6.24 Calculate total sales per region and category\n",
    "Instructions\n",
    "\n",
    "Write a function `calculate_totalsales()` where you:\n",
    "1. Load the sales.csv file as dataframe\n",
    "2. Group the data so that for every region, you calculate the total sales per category\n",
    "2. Store the result as a dataframe and return it"
   ]
  },
  {
   "cell_type": "markdown",
   "metadata": {
    "id": "qmFX5_vIBdvD"
   },
   "source": [
    "Save your solution to `solution_6_24.py`"
   ]
  },
  {
   "cell_type": "code",
   "execution_count": null,
   "metadata": {
    "colab": {
     "base_uri": "https://localhost:8080/"
    },
    "id": "0Dt4m4htBdvD",
    "outputId": "768e9dab-5fb4-4d6b-ce13-29ebb25b9eb9"
   },
   "outputs": [],
   "source": [
    "%%writefile solution_6_24.py\n",
    "import pandas as pd\n",
    "\n",
    "### your code here\n",
    "\n",
    "\n",
    "\n",
    "\n",
    "\n"
   ]
  },
  {
   "cell_type": "code",
   "execution_count": null,
   "metadata": {
    "colab": {
     "base_uri": "https://localhost:8080/"
    },
    "id": "CpUuX1MvBdvD",
    "outputId": "f4d3d343-af25-46f3-a362-81574dae4373"
   },
   "outputs": [],
   "source": [
    "# Try your code\n",
    "from solution_6_24 import *\n",
    "\n",
    "calculate_totalsales()\n"
   ]
  },
  {
   "cell_type": "markdown",
   "metadata": {
    "id": "j8iO3AxEBdvE"
   },
   "source": [
    "### 6.25 Quarterly frequency of customers\n",
    "Instructions\n",
    "\n",
    "Write a function `count_quarterlyCustomer()` where you:\n",
    "1. Load the sales.csv file as dataframe\n",
    "2. Convert the Order Date column to a datetime object (hint: use pd.to_datetime())\n",
    "3. Find the number of customers per quarter by:\n",
    "\n",
    "    *   setting the 'Order Date' as the index\n",
    "    *   resampling by quarter ('Q')\n",
    "    *   counting the number of unique customers for each quarter\n",
    "4. Sort the result by date in ascending order (hint: use sort_index())\n",
    "5. Return the first 5 rows of the result\n"
   ]
  },
  {
   "cell_type": "markdown",
   "metadata": {
    "id": "mPUCmqR1BdvE"
   },
   "source": [
    "Save your solution to `solution_6_25.py`"
   ]
  },
  {
   "cell_type": "code",
   "execution_count": null,
   "metadata": {
    "colab": {
     "base_uri": "https://localhost:8080/"
    },
    "id": "N5R6_SRlBdvE",
    "outputId": "31eae549-e1b7-4a42-80f6-d6d5fd0e5415"
   },
   "outputs": [],
   "source": [
    "%%writefile solution_6_25.py\n",
    "import pandas as pd\n",
    "\n",
    "### your code here\n",
    "\n",
    "\n",
    "\n",
    "\n",
    "\n",
    "\n",
    "\n"
   ]
  },
  {
   "cell_type": "code",
   "execution_count": null,
   "metadata": {
    "colab": {
     "base_uri": "https://localhost:8080/"
    },
    "id": "4_2SUHqABdvE",
    "outputId": "ce5c2405-abdd-4fe4-a276-fb2e973f65be"
   },
   "outputs": [],
   "source": [
    "# Try your code\n",
    "from solution_6_25 import *\n",
    "count_quarterlyCustomer()"
   ]
  },
  {
   "cell_type": "markdown",
   "metadata": {
    "id": "Whtk4NHQBdvE"
   },
   "source": [
    "# Testing\n",
    "\n",
    "Execute the cell below to run self-tests on your solutions. "
   ]
  },
  {
   "cell_type": "code",
   "execution_count": null,
   "metadata": {
    "colab": {
     "base_uri": "https://localhost:8080/"
    },
    "id": "Aazfl1gMBdvE",
    "outputId": "1ec1cabf-8703-49af-90d5-32efa642eec4"
   },
   "outputs": [],
   "source": [
    "! ./test/run_test.sh"
   ]
  },
  {
   "cell_type": "markdown",
   "metadata": {
    "id": "giEJPnKABdvE"
   },
   "source": [
    "# Homework Submission\n",
    "- This homework is due by 2023-11-15, 5:30PM (EDT)\n",
    "- Make sure that all your programs and output files are in the exact folder as specified in the instructions.\n",
    "- All file names on this system are case sensitive. Verify if you copy your work from a local computer to your home directory on ARC.\n",
    "- No further action is need to submit your assignment."
   ]
  },
  {
   "cell_type": "code",
   "execution_count": null,
   "metadata": {
    "id": "x5InQN0WBdvE"
   },
   "outputs": [],
   "source": []
  }
 ],
 "metadata": {
  "colab": {
   "provenance": []
  },
  "kernelspec": {
   "display_name": "Python 3",
   "language": "python",
   "name": "python3"
  },
  "language_info": {
   "codemirror_mode": {
    "name": "ipython",
    "version": 3
   },
   "file_extension": ".py",
   "mimetype": "text/x-python",
   "name": "python",
   "nbconvert_exporter": "python",
   "pygments_lexer": "ipython3",
   "version": "3.8.6"
  }
 },
 "nbformat": 4,
 "nbformat_minor": 4
}
