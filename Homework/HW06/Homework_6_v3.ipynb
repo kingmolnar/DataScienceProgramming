{
  "cells": [
    {
      "cell_type": "markdown",
      "metadata": {
        "id": "bo6nF_8kBduo"
      },
      "source": [
        "# Homework 6"
      ]
    },
    {
      "cell_type": "markdown",
      "metadata": {
        "id": "z7yMW-CABduq"
      },
      "source": [
        "## Data Clearning and Data Wrangling\n",
        "\n",
        "Review Chapters [7 Data Cleaning and Preparation](https://wesmckinney.com/book/data-cleaning) and\n",
        "[8 Data Wrangling: Join, Combine, and Reshape](https://wesmckinney.com/book/data-wrangling) of the [Python book](https://wesmckinney.com/book/).\n",
        "\n",
        "These exercises make use of the following Python packages:\n",
        "- [NumPy](https://numpy.org/doc/stable/)\n",
        "- [pandas](https://pandas.pydata.org/docs/index.html)\n",
        "\n",
        "The following data sources are used:\n",
        "\n",
        "|Name|Path on ARC|Original source|\n",
        "|----|-----------|---------------|\n",
        "||||\n",
        "||||"
      ]
    },
    {
      "cell_type": "code",
      "execution_count": null,
      "metadata": {
        "id": "s7sd20v7Bdur"
      },
      "outputs": [],
      "source": [
        "import pandas as pd"
      ]
    },
    {
      "cell_type": "markdown",
      "metadata": {
        "id": "aw8DVU37Bdur"
      },
      "source": [
        "### 6.1 Finding null values\n",
        "Instructions\n",
        "1. Please load the olympics dataset which is present in the main data folder.\n",
        "2. The directory for this csv file is `/data/IFI84010/olympics/athlete_events.csv`\n",
        "2. Write a function which loads this csv `athlete_events.csv` into a dataframe using `pandas.DataFrame` function and the above directory.\n",
        "3. Return the missing values in the data frame as a list.\n",
        "\n",
        "Note: The list your return should be of same length as the number of columns (Check with that). \\\n",
        "       You can use `to_list()` function for this purpose"
      ]
    },
    {
      "cell_type": "code",
      "execution_count": null,
      "metadata": {
        "id": "Mt2aKyZfBdus"
      },
      "outputs": [],
      "source": []
    },
    {
      "cell_type": "markdown",
      "metadata": {
        "id": "MOctRhB7Bdus"
      },
      "source": [
        "Save your solution to `solution_6_1.py`"
      ]
    },
    {
      "cell_type": "code",
      "execution_count": null,
      "metadata": {
        "id": "RV70a6NZBdus"
      },
      "outputs": [],
      "source": [
        "\n",
        "import pandas as pd\n",
        "\n",
        "def find_missingvalues():\n",
        "    # Dont change anything above this comment\n",
        "    # Write your code here\n",
        "    df = pd.read_csv('athlete_events.csv')\n",
        "    return df.isnull().sum().to_list()"
      ]
    },
    {
      "cell_type": "code",
      "execution_count": null,
      "metadata": {
        "id": "uCXXPSigBdus"
      },
      "outputs": [],
      "source": [
        "# Try your code\n",
        "from solution_6_1 import *\n",
        "\n",
        "find_missingvalues()"
      ]
    },
    {
      "cell_type": "markdown",
      "metadata": {
        "id": "KF3BnYofBdut"
      },
      "source": [
        "#### Test 6.1"
      ]
    },
    {
      "cell_type": "code",
      "execution_count": null,
      "metadata": {
        "id": "FBMjv0lUBdut",
        "outputId": "9f697031-6f36-4fdd-a210-dbc1e270c11c"
      },
      "outputs": [
        {
          "name": "stdout",
          "output_type": "stream",
          "text": [
            "Writing test/test_6_1.py\n"
          ]
        }
      ],
      "source": [
        "%%writefile test/test_6_1.py\n",
        "from solution_6_1 import *\n",
        "\n",
        "def test_6_1():\n",
        "    result = find_missingvalues()\n",
        "    assert len(result) == 15, 'The lenght of list provided is incorrect'\n",
        "    expected_result = [0, 0, 0, 9474, 60171, 62875, 0, 0, 0, 0, 0, 0, 0, 0, 231333]\n",
        "    assert result == expected_result, 'The output provided is incorrect'"
      ]
    },
    {
      "cell_type": "markdown",
      "metadata": {
        "id": "l1IXbSNWBduu"
      },
      "source": [
        "### 6.2 Filling null values\n",
        "One method to deal with missing data is to fill them with certain values like 0, mean or median depending on the column type, its importance etc.\n",
        "\n",
        "Instructions\n",
        "1. Load the csv `/data/IFI84010/olympics/athlete_events.csv` into a dataframe.\n",
        "2. Fill the missing values of column `Medal` with 0.\n",
        "3. Save the dataframe into a new csv file called `athlete_events_6_2.csv` (When saving the dataframce, make sure to set the index to false).\n",
        "4. Make sure you do not change/overwrite the original file.\n",
        "\n",
        "Note: The column names are case sensitive. There is no need to create a function for this."
      ]
    },
    {
      "cell_type": "code",
      "execution_count": null,
      "metadata": {
        "id": "hvVReD1kBduu"
      },
      "outputs": [],
      "source": []
    },
    {
      "cell_type": "markdown",
      "metadata": {
        "id": "lZD8GcTDBduu"
      },
      "source": [
        "Save your solution to `solution_6_2.py`"
      ]
    },
    {
      "cell_type": "code",
      "execution_count": null,
      "metadata": {
        "id": "YT3oL5Y7Bduu"
      },
      "outputs": [],
      "source": [
        "#%%writefile solution_6_2.py\n",
        "\n",
        "### your code here\n",
        "df = pd.read_csv('athlete_events.csv')\n",
        "df.Medal.fillna(0, inplace = True)\n",
        "\n",
        "df.to_csv('athlete_events_6_2.csv', index = False)"
      ]
    },
    {
      "cell_type": "code",
      "execution_count": null,
      "metadata": {
        "id": "Nw8Hx0S7Bduv"
      },
      "outputs": [],
      "source": [
        "# Try your code\n",
        "# from solution_6_2 import *\n",
        "\n",
        "df_temp = pd.read_csv('athlete_events_6_2.csv')\n",
        "df_temp.Medal.isnull().sum()"
      ]
    },
    {
      "cell_type": "markdown",
      "metadata": {
        "id": "ZrUQeoZTBduv"
      },
      "source": [
        "#### Test 6.2"
      ]
    },
    {
      "cell_type": "code",
      "execution_count": null,
      "metadata": {
        "id": "22CSKJq1Bduv",
        "outputId": "2d18f776-d6d9-42f8-fa56-921a6f6d7dc7"
      },
      "outputs": [
        {
          "name": "stdout",
          "output_type": "stream",
          "text": [
            "Writing test/test_6_2.py\n"
          ]
        }
      ],
      "source": [
        "%%writefile test/test_6_2.py\n",
        "#from solution_6_2 import *\n",
        "import pandas as pd\n",
        "\n",
        "def test_6_2():\n",
        "    df = pd.read_csv('athlete_events_6_2.csv')\n",
        "    assert df.Medal.isnull().sum() == 0, 'There are still missing values in that column'"
      ]
    },
    {
      "cell_type": "markdown",
      "metadata": {
        "id": "sSWYOZqoBduv"
      },
      "source": [
        "### 6.3 Filtering out null values\n",
        "Another method to deal with missing data is to drop those rows or columns which have null values.\n",
        "\n",
        "Instructions\n",
        "1. Load the csv `athlete_events.csv` into a dataframe.\n",
        "2. Filter out (drop) all the columns which have only null values. (In other words you need to set the axis to columns and how as all)\n",
        "3. At the end of it, you should have 11 columns instead of 15.\n",
        "3. Save the dataframe into a new csv file called `athlete_events_6_3.csv` (Make sure to set the index to false).\n",
        "4. Make sure you do not change/overwrite the original file."
      ]
    },
    {
      "cell_type": "code",
      "execution_count": null,
      "metadata": {
        "id": "dlCdqb1nBduw"
      },
      "outputs": [],
      "source": []
    },
    {
      "cell_type": "markdown",
      "metadata": {
        "id": "lhrOC5kVBduw"
      },
      "source": [
        "Save your solution to `solution_6_3.py`"
      ]
    },
    {
      "cell_type": "code",
      "execution_count": null,
      "metadata": {
        "id": "HvuhAR3NBduw"
      },
      "outputs": [],
      "source": [
        "# Write your code here\n",
        "df = pd.read_csv('athlete_events.csv')\n",
        "df.dropna(axis=\"columns\", inplace=True)\n",
        "\n",
        "df.to_csv('athlete_events_6_3.csv', index = False)"
      ]
    },
    {
      "cell_type": "code",
      "execution_count": null,
      "metadata": {
        "id": "rTV94aD7Bdux"
      },
      "outputs": [],
      "source": [
        "# Try your code\n",
        "df_temp = pd.read_csv('athlete_events_6_3.csv')\n",
        "df_temp.shape"
      ]
    },
    {
      "cell_type": "markdown",
      "metadata": {
        "id": "zxfFAdzeBdux"
      },
      "source": [
        "#### Test 6.3"
      ]
    },
    {
      "cell_type": "code",
      "execution_count": null,
      "metadata": {
        "id": "2YPPufS-Bdux",
        "outputId": "c8a998c4-6672-4b2f-c668-5387639b186f"
      },
      "outputs": [
        {
          "name": "stdout",
          "output_type": "stream",
          "text": [
            "Writing test/test_6_3.py\n"
          ]
        }
      ],
      "source": [
        "%%writefile test/test_6_3.py\n",
        "import pandas as pd\n",
        "\n",
        "def test_6_3():\n",
        "    df = pd.read_csv('athlete_events_6_3.csv')\n",
        "    assert df.shape == (271116, 11), 'The shape of the new dataframe is incorrect.'"
      ]
    },
    {
      "cell_type": "markdown",
      "metadata": {
        "id": "5n0PDnVwBduy"
      },
      "source": [
        "### 6.4 Getting the number of duplicated rows.\n",
        "\n",
        "Instructions\n",
        "1. Create a function to get the number of duplicated rows in a dataset.\n",
        "2. Load the csv `athlete_events.csv` into a dataframe.\n",
        "3. Use the duplicated() function to get Boolean Series indicating whether each row is a duplicate or not. Then you can use sum() to get the number of duplicated rows (counts all the True values in the series)\n",
        "4. Return the number from the function."
      ]
    },
    {
      "cell_type": "code",
      "execution_count": null,
      "metadata": {
        "id": "bgOaM5gqBduy"
      },
      "outputs": [],
      "source": []
    },
    {
      "cell_type": "markdown",
      "metadata": {
        "id": "20PzItLsBduz"
      },
      "source": [
        "Save your solution to `solution_6_4.py`"
      ]
    },
    {
      "cell_type": "code",
      "execution_count": null,
      "metadata": {
        "id": "ERZV1DCvBduz"
      },
      "outputs": [],
      "source": [
        "%%writefile solution_6_4.py\n",
        "import pandas as pd\n",
        "\n",
        "def find_duplicatedrows():\n",
        "    # Dont change anything above this comment\n",
        "    # Write your code here\n",
        "    df = pd.read_csv('athlete_events.csv')\n",
        "    return df.duplicated().sum()"
      ]
    },
    {
      "cell_type": "code",
      "execution_count": null,
      "metadata": {
        "id": "EU9OVq2kBduz"
      },
      "outputs": [],
      "source": [
        "# Try your code\n",
        "from solution_6_4 import find_duplicatedrows\n",
        "find_duplicatedrows()"
      ]
    },
    {
      "cell_type": "markdown",
      "metadata": {
        "id": "KQ5rBL-DBdu0"
      },
      "source": [
        "#### Test 6.4"
      ]
    },
    {
      "cell_type": "code",
      "execution_count": null,
      "metadata": {
        "id": "5KVbVJVJBdu0",
        "outputId": "022fc633-157e-456f-d46a-ed3b8dc49df0"
      },
      "outputs": [
        {
          "name": "stdout",
          "output_type": "stream",
          "text": [
            "Writing test/test_6_4.py\n"
          ]
        }
      ],
      "source": [
        "%%writefile test/test_6_4.py\n",
        "from solution_6_4 import find_duplicatedrows\n",
        "\n",
        "def test_6_4():\n",
        "    result = find_duplicatedrows()\n",
        "    assert result == 1385, 'The output from the function is incorrect'"
      ]
    },
    {
      "cell_type": "markdown",
      "metadata": {
        "id": "cVgIuai1Bdu0"
      },
      "source": [
        "### 6.5 Getting statistics\n",
        "\n",
        "Instructions\n",
        "1. Write a function where you load the csv `athlete_events.csv` into a dataframe.\n",
        "2. Return a dictionary where you calculate the mean, median, max, min values of the column `Age`\n",
        "3. Round the value for mean to 2 decimal points.\n",
        "\n",
        "Example:\n",
        "- Output: { 'mean' : , 'median': , 'max': , 'min':  }"
      ]
    },
    {
      "cell_type": "code",
      "execution_count": null,
      "metadata": {
        "id": "eEaaAxDkBdu0"
      },
      "outputs": [],
      "source": []
    },
    {
      "cell_type": "markdown",
      "metadata": {
        "id": "FmNWNre6Bdu0"
      },
      "source": [
        "Save your solution to `solution_6_5.py`"
      ]
    },
    {
      "cell_type": "code",
      "execution_count": null,
      "metadata": {
        "id": "YobUUzR3Bdu0"
      },
      "outputs": [],
      "source": [
        "%%writefile solution_6_5.py\n",
        "import pandas as pd\n",
        "\n",
        "def find_statistics():\n",
        "    # Dont change anything above this comment\n",
        "    # Write your code here\n",
        "    df = pd.read_csv('athlete_events.csv')\n",
        "    return { 'mean' : round(df.Age.mean(),2), 'median': df.Age.median() , 'max': df.Age.max(), 'min': df.Age.min()}"
      ]
    },
    {
      "cell_type": "code",
      "execution_count": null,
      "metadata": {
        "id": "S6JOshboBdu1"
      },
      "outputs": [],
      "source": [
        "# Try your code\n",
        "from solution_6_5 import *\n",
        "find_statistics()"
      ]
    },
    {
      "cell_type": "markdown",
      "metadata": {
        "id": "5rendp5QBdu1"
      },
      "source": [
        "#### Test 6.5"
      ]
    },
    {
      "cell_type": "code",
      "execution_count": null,
      "metadata": {
        "id": "1shwaliWBdu1",
        "outputId": "a6c69420-16e7-45d0-b4e2-80ce9c5c469c"
      },
      "outputs": [
        {
          "name": "stdout",
          "output_type": "stream",
          "text": [
            "Writing test/test_6_5.py\n"
          ]
        }
      ],
      "source": [
        "%%writefile test/test_6_5.py\n",
        "from solution_6_5 import find_statistics\n",
        "\n",
        "def test_6_5():\n",
        "    result = find_statistics()\n",
        "    assert result['mean'] == 25.56, 'Mean is incorrect'\n",
        "    assert result['median'] == 24.0, 'Median is incorrect'\n",
        "    assert result['max'] == 97.0, 'Max is incorrect'\n",
        "    assert result['min'] == 10.0, 'Min is incorrect'"
      ]
    },
    {
      "cell_type": "markdown",
      "metadata": {
        "id": "7sxckILFBdu1"
      },
      "source": [
        "### 6.6 Discretization and Binning\n",
        "\n",
        "Instructions\n",
        "1. Write a function where you load the csv `athlete_events.csv` into a dataframe.\n",
        "2. Divide the `Age` column using bins. Please use bins with following ages `18, 24, 35, 50, 65, 80, 100`\n",
        "3. You can use `pandas.cut` function for this.\n",
        "4. Use `pd.value_counts()` to get a series on the binned age categories to get unique value counts\n",
        "3. Return the above series as a list."
      ]
    },
    {
      "cell_type": "code",
      "execution_count": null,
      "metadata": {
        "id": "pKzoEtq4Bdu2"
      },
      "outputs": [],
      "source": []
    },
    {
      "cell_type": "markdown",
      "metadata": {
        "id": "bQC2fVAeBdu2"
      },
      "source": [
        "Save your solution to `solution_6_6.py`"
      ]
    },
    {
      "cell_type": "code",
      "execution_count": null,
      "metadata": {
        "id": "dFpafthRBdu2"
      },
      "outputs": [],
      "source": [
        "%%writefile solution_6_6.py\n",
        "\n",
        "import pandas as pd\n",
        "\n",
        "def binning():\n",
        "    # Dont change anything above this comment\n",
        "    # Write your code here\n",
        "    df = pd.read_csv('athlete_events.csv')\n",
        "    bins = [18, 24, 35, 50, 65, 80, 100]\n",
        "    age_categories = pd.cut(df.Age, bins)\n",
        "    s = pd.value_counts(age_categories)\n",
        "    return s.to_list()"
      ]
    },
    {
      "cell_type": "code",
      "execution_count": null,
      "metadata": {
        "id": "mKq09DGFBdu2"
      },
      "outputs": [],
      "source": [
        "# Try your code\n",
        "from solution_6_6 import *\n",
        "binning()"
      ]
    },
    {
      "cell_type": "markdown",
      "metadata": {
        "id": "8BZ5aImFBdu2"
      },
      "source": [
        "#### Test 6.6"
      ]
    },
    {
      "cell_type": "code",
      "execution_count": null,
      "metadata": {
        "id": "6eRiXGZfBdu2",
        "outputId": "66f71670-d510-4a09-a0b9-edd4d01c1a51"
      },
      "outputs": [
        {
          "name": "stdout",
          "output_type": "stream",
          "text": [
            "Writing test/test_6_6.py\n"
          ]
        }
      ],
      "source": [
        "%%writefile test/test_6_6.py\n",
        "from solution_6_6 import *\n",
        "\n",
        "def test_6_6():\n",
        "    result = binning()\n",
        "    assert result == [114124, 110474, 14446, 1668, 262, 8] , 'The list is incorrect'"
      ]
    },
    {
      "cell_type": "markdown",
      "metadata": {
        "id": "2nP63tbeBdu2"
      },
      "source": [
        "### 6.7 Filtering or detecting outliers\n",
        "\n",
        "Instructions\n",
        "1. Load the csv `athlete_events.csv` into a dataframe.\n",
        "2. Drop all null values in the column `Age`. (Make sure you use `inplace=True`)\n",
        "3. Calculate the mean of age.  \n",
        "4. Select (detect) all the rows with age greater than 3 times mean and save into a new dataframe. (age > 3\\*mean)\n",
        "5. Save the dataframe into a new csv file called `athlete_events_6_7.csv` (Make sure to set the index to false).\n",
        "6. Make sure you do not change/overwrite the original file."
      ]
    },
    {
      "cell_type": "code",
      "execution_count": null,
      "metadata": {
        "id": "KCx6QADwBdu2"
      },
      "outputs": [],
      "source": []
    },
    {
      "cell_type": "markdown",
      "metadata": {
        "id": "iw1nWAhaBdu3"
      },
      "source": [
        "Save your solution to `solution_6_7.py`"
      ]
    },
    {
      "cell_type": "code",
      "execution_count": null,
      "metadata": {
        "id": "2C5dYWN5Bdu3"
      },
      "outputs": [],
      "source": [
        "#%%writefile solution_6_7.py\n",
        "\n",
        "### your code here\n",
        "df = pd.read_csv('athlete_events.csv')\n",
        "df = df.dropna(subset=['Age'])\n",
        "df.dropna(subset=['Age'], inplace=True)\n",
        "mean = df.Age.mean()\n",
        "df1 = df[df.Age > 3*mean]\n",
        "\n",
        "df1.to_csv('athlete_events_6_7.csv', index = False)"
      ]
    },
    {
      "cell_type": "code",
      "execution_count": null,
      "metadata": {
        "id": "EFNZ1DMmBdu3"
      },
      "outputs": [],
      "source": [
        "# Try your code\n",
        "df_temp = pd.read_csv('athlete_events_6_7.csv')\n",
        "df_temp.shape"
      ]
    },
    {
      "cell_type": "markdown",
      "metadata": {
        "id": "nw2gijS7Bdu3"
      },
      "source": [
        "#### Test 6.7"
      ]
    },
    {
      "cell_type": "code",
      "execution_count": null,
      "metadata": {
        "id": "sJlc3VkNBdu3",
        "outputId": "73b7912b-4c99-4a65-96f2-0396100e3e9b"
      },
      "outputs": [
        {
          "name": "stdout",
          "output_type": "stream",
          "text": [
            "Writing test/test_6_7.py\n"
          ]
        }
      ],
      "source": [
        "%%writefile test/test_6_7.py\n",
        "import pandas as pd\n",
        "\n",
        "def test_6_7():\n",
        "    df = pd.read_csv('athlete_events_6_7.csv')\n",
        "    assert df.shape == (13, 15), 'The shape of the new dataframe is incorrect.'\n",
        "    assert round(df.Age.mean(), 2) == 84.38, 'The data inside the dataframe is incorrect'"
      ]
    },
    {
      "cell_type": "markdown",
      "metadata": {
        "id": "bf0sNJ2lBdu3"
      },
      "source": [
        "### 6.8 Get dummies\n",
        "\n",
        "Instructions\n",
        "1. Load the csv `athlete_events.csv` into a dataframe.\n",
        "2. Use `pandas.get_dummies` to get dummy variables for the column `Year`. (Make sure to use prefix as Year and dtype to be int)\n",
        "3. Save the dataframe into a new csv file called `athlete_events_6_8.csv` (Make sure to set the index to false).\n",
        "4. Make sure you do not change/overwrite the original file."
      ]
    },
    {
      "cell_type": "code",
      "execution_count": null,
      "metadata": {
        "id": "Ry6p_aJIBdu3"
      },
      "outputs": [],
      "source": []
    },
    {
      "cell_type": "code",
      "execution_count": null,
      "metadata": {
        "id": "oNKRQw8uBdu3"
      },
      "outputs": [],
      "source": [
        "#%%writefile solution_6_8.py\n",
        "\n",
        "### your code here\n",
        "df = pd.read_csv('athlete_events.csv')\n",
        "df1 = pd.get_dummies(df[\"Year\"], prefix=\"Year\", dtype=int)\n",
        "\n",
        "df1.to_csv('athlete_events_6_8.csv', index = False)"
      ]
    },
    {
      "cell_type": "code",
      "execution_count": null,
      "metadata": {
        "id": "xp2KmaWBBdu4"
      },
      "outputs": [],
      "source": [
        "# Try your code\n",
        "df_temp = pd.read_csv('athlete_events_6_8.csv')\n",
        "df_temp.shape"
      ]
    },
    {
      "cell_type": "markdown",
      "metadata": {
        "id": "YvDd9XeIBdu4"
      },
      "source": [
        "#### Test 6.8"
      ]
    },
    {
      "cell_type": "code",
      "execution_count": null,
      "metadata": {
        "id": "2c_01cTgBdu4",
        "outputId": "45f66e27-8056-48bf-cea6-54e696b048b8"
      },
      "outputs": [
        {
          "name": "stdout",
          "output_type": "stream",
          "text": [
            "Writing test/test_6_8.py\n"
          ]
        }
      ],
      "source": [
        "%%writefile test/test_6_8.py\n",
        "import pandas as pd\n",
        "\n",
        "def test_6_8():\n",
        "    df = pd.read_csv('athlete_events_6_8.csv')\n",
        "    assert df.shape == (271116, 35), 'The shape of the new dataframe is incorrect.'"
      ]
    },
    {
      "cell_type": "markdown",
      "metadata": {
        "id": "b_lOAMqUBdu4"
      },
      "source": [
        "### 6.9 String functions\n",
        "\n",
        "Instructions\n",
        "1. Write a function where you load the csv `athlete_events.csv` into a dataframe.\n",
        "2. Use string function in pandas `contains` to get the number of rows in column `Event` which has `Women` in it and also ` Men` in it.\n",
        "3. Return the tuple with these two values. (Women, Men)\n",
        "\n",
        "Note: When you use `contains` it gives you a series of Boolean, with which you can use `sum()` function to get the count."
      ]
    },
    {
      "cell_type": "code",
      "execution_count": null,
      "metadata": {
        "id": "-EQFuu41Bdu4"
      },
      "outputs": [],
      "source": []
    },
    {
      "cell_type": "markdown",
      "metadata": {
        "id": "avFa2DDwBdu4"
      },
      "source": [
        "Save your solution to `solution_6_9.py`"
      ]
    },
    {
      "cell_type": "code",
      "execution_count": null,
      "metadata": {
        "id": "9afpywk-Bdu4"
      },
      "outputs": [],
      "source": [
        "%%writefile solution_6_9.py\n",
        "import pandas as pd\n",
        "\n",
        "def contains():\n",
        "    # Dont change anything above this comment\n",
        "    # Write your code here\n",
        "    df = pd.read_csv('athlete_events.csv')\n",
        "    return df.Event.str.contains(\"Women\").sum(), df.Event.str.contains(\"Men\").sum()"
      ]
    },
    {
      "cell_type": "code",
      "execution_count": null,
      "metadata": {
        "id": "21k1xRZZBdu4"
      },
      "outputs": [],
      "source": [
        "# Try your code\n",
        "from solution_6_9 import *\n",
        "contains()"
      ]
    },
    {
      "cell_type": "markdown",
      "metadata": {
        "id": "DPPqA4pYBdu5"
      },
      "source": [
        "#### Test 6.9"
      ]
    },
    {
      "cell_type": "code",
      "execution_count": null,
      "metadata": {
        "id": "XT_9gV_XBdu5",
        "outputId": "2e4e4ceb-fec3-4591-b3a9-eace45da06af"
      },
      "outputs": [
        {
          "name": "stdout",
          "output_type": "stream",
          "text": [
            "Writing test/test_6_9.py\n"
          ]
        }
      ],
      "source": [
        "%%writefile test/test_6_9.py\n",
        "from solution_6_9 import *\n",
        "\n",
        "def test_6_9():\n",
        "    result = contains()\n",
        "    assert result == (71916, 182786) , 'Incorrect count'"
      ]
    },
    {
      "cell_type": "markdown",
      "metadata": {
        "id": "5hRF7BgHBdu5"
      },
      "source": [
        "### 6.10 New column creation\n",
        "\n",
        "Instructions\n",
        "1. Load the csv `athlete_events.csv` into a dataframe.\n",
        "2. Create a new column called as `Olympics`, which should have value as `Season Olympics, City`\n",
        "3. Save the dataframe into a new csv file called athlete_events_6_10.csv (Make sure to set the index to false).\n",
        "4. Make sure you do not change/overwrite the original file.\n",
        "\n",
        "Example:\n",
        "Lets say if the value of Season is `Summer`, and city as `Barcelona`, the value for the new column should be `Summer Olympics, Barcelona`"
      ]
    },
    {
      "cell_type": "code",
      "execution_count": null,
      "metadata": {
        "id": "LdcwBRA1Bdu5"
      },
      "outputs": [],
      "source": []
    },
    {
      "cell_type": "code",
      "execution_count": null,
      "metadata": {
        "id": "R4p2vvaYBdu5"
      },
      "outputs": [],
      "source": [
        "df = pd.read_csv('athlete_events.csv')\n",
        "df['Olympics'] = df.Season + ' Olympics' + ', ' + df.City\n",
        "\n",
        "df.to_csv('athlete_events_6_10.csv', index = False)"
      ]
    },
    {
      "cell_type": "code",
      "execution_count": null,
      "metadata": {
        "id": "PHmNBEHrBdu5"
      },
      "outputs": [],
      "source": [
        "# Try your code\n",
        "df_temp = pd.read_csv('athlete_events_6_10.csv')\n",
        "df_temp.Olympics"
      ]
    },
    {
      "cell_type": "markdown",
      "metadata": {
        "id": "BjHjoA31Bdu6"
      },
      "source": [
        "#### Test 6.10"
      ]
    },
    {
      "cell_type": "code",
      "execution_count": null,
      "metadata": {
        "id": "qPYyqTXIBdu6",
        "outputId": "4445934c-8567-4e80-fe98-8aa43ef28f59"
      },
      "outputs": [
        {
          "name": "stdout",
          "output_type": "stream",
          "text": [
            "Writing test/test_6_10.py\n"
          ]
        }
      ],
      "source": [
        "%%writefile test/test_6_10.py\n",
        "import pandas as pd\n",
        "\n",
        "def test_6_10():\n",
        "    df = pd.read_csv('athlete_events_6_10.csv')\n",
        "    assert df.shape == (271116, 16), 'The shape of the new dataframe is incorrect.'\n",
        "    assert len(df.Olympics[0].split()) == 3 or len(df.Olympics[0].split()) == 4, 'The new column created has incorrect values'"
      ]
    },
    {
      "cell_type": "markdown",
      "metadata": {
        "id": "zLt8XYHcBdu6"
      },
      "source": [
        "### 6.11 Get dummies\n",
        "\n",
        "Instructions\n",
        "1. Please load the netflix dataset which is present in the main data folder.\n",
        "2. The directory for this csv file is `/data/IFI84010/netflix/netflix1.csv`\n",
        "3. Load the csv `netflix1.csv` into a dataframe.\n",
        "4. Use `str.get_dummies` to get dummy variables for the column `Listed_in` and save it into a new dataframe. (Make sure to use the correct delimiter with respect to data)\n",
        "5. Add new column called title to the new dataset which should have data of title column for main dataset.\n",
        "6. Save the new dataframe into a new csv file called `netflix_6_11.csv` (Make sure to set the index to false).\n",
        "7. Make sure you do not change/overwrite the original file."
      ]
    },
    {
      "cell_type": "code",
      "execution_count": null,
      "metadata": {
        "id": "PMobmqeaBdu6"
      },
      "outputs": [],
      "source": []
    },
    {
      "cell_type": "code",
      "execution_count": null,
      "metadata": {
        "id": "u_u2BYO6Bdu6"
      },
      "outputs": [],
      "source": [
        "\n",
        "### your code here\n",
        "df = pd.read_csv('netflix1.csv')\n",
        "k = df.listed_in.str.get_dummies(\",\")\n",
        "k['title'] = df.title\n",
        "\n",
        "k.to_csv('netflix_6_11.csv', index = False)"
      ]
    },
    {
      "cell_type": "code",
      "execution_count": null,
      "metadata": {
        "id": "GzcVIOqUBdu6"
      },
      "outputs": [],
      "source": [
        "# Try your code\n",
        "from solution_6_11 import *\n",
        "df_temp = pd.read_csv('netflix_6_11.csv')\n",
        "df_temp.head(2)"
      ]
    },
    {
      "cell_type": "markdown",
      "metadata": {
        "id": "BorIExcSBdu6"
      },
      "source": [
        "#### Test 6.11"
      ]
    },
    {
      "cell_type": "code",
      "execution_count": null,
      "metadata": {
        "id": "awWEw4D4Bdu6",
        "outputId": "78e993fd-f7bc-4beb-9c4d-c904b1ac8c8a"
      },
      "outputs": [
        {
          "name": "stdout",
          "output_type": "stream",
          "text": [
            "Writing test/test_6_11.py\n"
          ]
        }
      ],
      "source": [
        "%%writefile test/test_6_11.py\n",
        "import pandas as pd\n",
        "\n",
        "def test_6_11():\n",
        "    df = pd.read_csv('netflix_6_11.csv')\n",
        "    assert df.shape == (8790, 74), 'The shape of the new dataframe is incorrect.'\n",
        "    assert df['title'][0] == 'Dick Johnson Is Dead', 'The title column has incorrect first row'"
      ]
    },
    {
      "cell_type": "markdown",
      "metadata": {
        "id": "3GWpiW0qBdu7"
      },
      "source": [
        "### 6.12 Find the movie titles\n",
        "\n",
        "Instructions\n",
        "1. Write a function where you load the csv `netflix1.csv` into a dataframe.\n",
        "2. The function should return a list of titles following the below conditions\n",
        "- It should be of type `movie`, from `Brazil`, release year as `2013` and rating as `PG`.\n",
        "3. Return the titles as list (you can use to_list() for this)"
      ]
    },
    {
      "cell_type": "code",
      "execution_count": null,
      "metadata": {
        "id": "Ho_I5czlBdu7"
      },
      "outputs": [],
      "source": []
    },
    {
      "cell_type": "markdown",
      "metadata": {
        "id": "XsF58-o-Bdu7"
      },
      "source": [
        "Save your solution to `solution_6_12.py`"
      ]
    },
    {
      "cell_type": "code",
      "execution_count": null,
      "metadata": {
        "id": "6DfjIMp2Bdu7"
      },
      "outputs": [],
      "source": [
        "%%writefile solution_6_12.py\n",
        "import pandas as pd\n",
        "\n",
        "def find_movie():\n",
        "    # Dont change anything above this comment\n",
        "    # Write your code here\n",
        "    df = pd.read_csv('netflix1.csv')\n",
        "    return df[(df.type == 'Movie') & (df.country == 'Brazil') & (df.release_year == 2013) & (df.rating == 'PG')]['title'].to_list()"
      ]
    },
    {
      "cell_type": "code",
      "execution_count": null,
      "metadata": {
        "id": "LZqOVgQ2Bdu7"
      },
      "outputs": [],
      "source": [
        "# Try your code\n",
        "from solution_6_12 import *\n",
        "find_movie()"
      ]
    },
    {
      "cell_type": "markdown",
      "metadata": {
        "id": "S34tvivpBdu7"
      },
      "source": [
        "#### Test 6.12"
      ]
    },
    {
      "cell_type": "code",
      "execution_count": null,
      "metadata": {
        "id": "-Hh7WTpLBdu7",
        "outputId": "2b7602c1-8319-4911-e481-90d722affd18"
      },
      "outputs": [
        {
          "name": "stdout",
          "output_type": "stream",
          "text": [
            "Writing test/test_6_12.py\n"
          ]
        }
      ],
      "source": [
        "%%writefile test/test_6_12.py\n",
        "from solution_6_12 import *\n",
        "\n",
        "def test_6_12():\n",
        "    result = find_movie()\n",
        "    assert len(result) == 1, 'Incorrect lenght of list'\n",
        "    assert result[0] == 'Boy and the World' , 'Incorrect answer'"
      ]
    },
    {
      "cell_type": "markdown",
      "metadata": {
        "id": "8nWb9422Bdu7"
      },
      "source": [
        "### 6.13 Find the average of movie duration\n",
        "\n",
        "Instructions\n",
        "1. Write a function where you load the csv `netflix1.csv` into a dataframe.\n",
        "2. Filter all the rows which has `movie` in `type` column and save it into a new dataframe.\n",
        "3. There is a column called `duration` which has values like `90 min` for example. Create a new column called `duration_mins`. Perform split operation to get only the `90` value to store in this new column. Convert the data type of this column to `int`. (You can use regex patter, or str.split(), str.get() and astype(int).\n",
        "3. Return the value of mean of `duration_mins` column rounded to two decimal points."
      ]
    },
    {
      "cell_type": "code",
      "execution_count": null,
      "metadata": {
        "id": "LzJiXS1RBdu7"
      },
      "outputs": [],
      "source": []
    },
    {
      "cell_type": "markdown",
      "metadata": {
        "id": "QsKvMAw4Bdu8"
      },
      "source": [
        "Save your solution to `solution_6_13.py`"
      ]
    },
    {
      "cell_type": "code",
      "execution_count": null,
      "metadata": {
        "id": "rd8rf4uIBdu8"
      },
      "outputs": [],
      "source": [
        "%%writefile solution_6_13.py\n",
        "import pandas as pd\n",
        "\n",
        "def find_meanduration():\n",
        "    # Dont change anything above this comment\n",
        "    # Write your code here\n",
        "    df = pd.read_csv('netflix1.csv')\n",
        "    df_movies = df[df.type == 'Movie']\n",
        "    df_movies['duration_mins'] = df_movies['duration'].str.split().str.get(0).astype(int)\n",
        "    return round(df_movies.duration_mins.mean(), 2)"
      ]
    },
    {
      "cell_type": "code",
      "execution_count": null,
      "metadata": {
        "id": "PCjXqzCfBdu8"
      },
      "outputs": [],
      "source": [
        "# Try your code\n",
        "from solution_6_13 import *\n",
        "find_meanduration()"
      ]
    },
    {
      "cell_type": "markdown",
      "metadata": {
        "id": "tYcKhQWqBdu8"
      },
      "source": [
        "#### Test 6.13"
      ]
    },
    {
      "cell_type": "code",
      "execution_count": null,
      "metadata": {
        "id": "nC2pPWdYBdu8",
        "outputId": "e08da463-9ad9-44b6-f4dd-804fd0b225d1"
      },
      "outputs": [
        {
          "name": "stdout",
          "output_type": "stream",
          "text": [
            "Writing test/test_6_13.py\n"
          ]
        }
      ],
      "source": [
        "%%writefile test/test_6_13.py\n",
        "from solution_6_13 import *\n",
        "\n",
        "def test_6_13():\n",
        "    result = find_meanduration()\n",
        "    assert result == 99.58, 'Incorrect value'"
      ]
    },
    {
      "cell_type": "markdown",
      "metadata": {
        "id": "O3CtU8TRBdu8"
      },
      "source": [
        "### 6.14 Find the country with most releases\n",
        "\n",
        "Instructions\n",
        "1. Write a function where you load the csv `netflix1.csv` into a dataframe.\n",
        "2. Count the number of rows for each country. You can use `value_counts` for that. After performing this you should have two columns, one is `index` which is country name and other is `country` with counts.\n",
        "3. Sort the values of `country` in descending order.\n",
        "4. Return a tuple of the first row with first value being country name having highest number. So, it would be first index and next country. You can use `.iloc` for this.\n",
        "\n",
        "Example for output: ('United States', 3240)"
      ]
    },
    {
      "cell_type": "markdown",
      "metadata": {
        "id": "EGl7xX1HBdu8"
      },
      "source": [
        "Save your solution to `solution_6_14.py`"
      ]
    },
    {
      "cell_type": "code",
      "execution_count": null,
      "metadata": {
        "id": "nsBMGIvNBdu8"
      },
      "outputs": [],
      "source": [
        "%%writefile solution_6_14.py\n",
        "import pandas as pd\n",
        "\n",
        "def find_mostcountry():\n",
        "    # Dont change anything above this comment\n",
        "    # Write your code here\n",
        "    df = pd.read_csv('netflix1.csv')\n",
        "    result = df['country'].value_counts().reset_index()\n",
        "    result = result.sort_values(by='country', ascending=False)\n",
        "    return result.iloc[0,0], result.iloc[0,1]"
      ]
    },
    {
      "cell_type": "code",
      "execution_count": null,
      "metadata": {
        "id": "kQchrIy7Bdu8"
      },
      "outputs": [],
      "source": [
        "# Try your code\n",
        "from solution_6_14 import *\n",
        "find_mostcountry()"
      ]
    },
    {
      "cell_type": "markdown",
      "metadata": {
        "id": "xLzScn_cBdu9"
      },
      "source": [
        "#### Test 6.14"
      ]
    },
    {
      "cell_type": "code",
      "execution_count": null,
      "metadata": {
        "id": "CBw9J6hrBdu9",
        "outputId": "e1b32a5a-98e0-4916-897a-c08f450b37c1"
      },
      "outputs": [
        {
          "name": "stdout",
          "output_type": "stream",
          "text": [
            "Writing test/test_6_14.py\n"
          ]
        }
      ],
      "source": [
        "%%writefile test/test_6_14.py\n",
        "from solution_6_14 import *\n",
        "\n",
        "def test_6_14():\n",
        "    result = find_mostcountry()\n",
        "    assert result == ('United States', 3240), 'Incorrect values'"
      ]
    },
    {
      "cell_type": "markdown",
      "metadata": {
        "id": "Il64Cxi_Bdu9"
      },
      "source": [
        "### 6.15 Join Tables\n",
        "Instructions\n",
        "Write a function \"join_dataframes\" where you:\n",
        "1. Load the following three csv files as dataframes: churn_data.csv, customer_data.csv and internet_data.csv\n",
        "2. Join the three tables and store the result in a dataframe\n",
        "3. Return the newly created dataframe\n",
        "3. Find the shape of the resulting dataframe and store it in df_shape\n"
      ]
    },
    {
      "cell_type": "markdown",
      "metadata": {
        "id": "_SGLsf4vBdu9"
      },
      "source": [
        "Save your solution to `solution_6_15.py`"
      ]
    },
    {
      "cell_type": "code",
      "execution_count": null,
      "metadata": {
        "colab": {
          "base_uri": "https://localhost:8080/"
        },
        "id": "SHN-8j-1Bdu9",
        "outputId": "9788a4d7-0dbe-4404-fc2e-edc999e72421"
      },
      "outputs": [
        {
          "output_type": "stream",
          "name": "stdout",
          "text": [
            "Overwriting solution_6_15.py\n"
          ]
        }
      ],
      "source": [
        "%%writefile solution_6_15.py\n",
        "### your code here\n",
        "\n",
        "import pandas as pd\n",
        "def join_dataframes():\n",
        "  df_churn=pd.read_csv(\"/data/IFI8410/churn_data.csv\")\n",
        "  df_customer=pd.read_csv(\"/data/IFI8410/customer_data.csv\")\n",
        "  df_internet=pd.read_csv(\"/data/IFI8410/internet_data.csv\")\n",
        "\n",
        "  merged_data = pd.merge(df_churn, df_customer, on='customerID', how='inner')\n",
        "  merged_data = pd.merge(merged_data, df_internet, on='customerID', how='inner')\n",
        "  return merged_data\n"
      ]
    },
    {
      "cell_type": "code",
      "execution_count": null,
      "metadata": {
        "colab": {
          "base_uri": "https://localhost:8080/",
          "height": 592
        },
        "id": "zZ5eHhVKBdu9",
        "outputId": "ca55f889-ef33-404e-bb3e-f491ad5c3fae"
      },
      "outputs": [
        {
          "output_type": "execute_result",
          "data": {
            "text/plain": [
              "      customerID  tenure PhoneService        Contract PaperlessBilling  \\\n",
              "0     7590-VHVEG       1           No  Month-to-month              Yes   \n",
              "1     5575-GNVDE      34          Yes        One year               No   \n",
              "2     3668-QPYBK       2          Yes  Month-to-month              Yes   \n",
              "3     7795-CFOCW      45           No        One year               No   \n",
              "4     9237-HQITU       2          Yes  Month-to-month              Yes   \n",
              "...          ...     ...          ...             ...              ...   \n",
              "7037  2569-WGERO      72          Yes        Two year              Yes   \n",
              "7038  6840-RESVB      24          Yes        One year              Yes   \n",
              "7039  2234-XADUH      72          Yes        One year              Yes   \n",
              "7040  4801-JZAZL      11           No  Month-to-month              Yes   \n",
              "7041  8361-LTMKD       4          Yes  Month-to-month              Yes   \n",
              "\n",
              "                  PaymentMethod  MonthlyCharges TotalCharges Churn  gender  \\\n",
              "0              Electronic check           29.85        29.85    No  Female   \n",
              "1                  Mailed check           56.95       1889.5    No    Male   \n",
              "2                  Mailed check           53.85       108.15   Yes    Male   \n",
              "3     Bank transfer (automatic)           42.30      1840.75    No    Male   \n",
              "4              Electronic check           70.70       151.65   Yes  Female   \n",
              "...                         ...             ...          ...   ...     ...   \n",
              "7037  Bank transfer (automatic)           21.15       1419.4    No  Female   \n",
              "7038               Mailed check           84.80       1990.5    No    Male   \n",
              "7039    Credit card (automatic)          103.20       7362.9    No  Female   \n",
              "7040           Electronic check           29.60       346.45    No  Female   \n",
              "7041               Mailed check           74.40        306.6   Yes    Male   \n",
              "\n",
              "      ...  Partner Dependents     MultipleLines InternetService  \\\n",
              "0     ...      Yes         No  No phone service             DSL   \n",
              "1     ...       No         No                No             DSL   \n",
              "2     ...       No         No                No             DSL   \n",
              "3     ...       No         No  No phone service             DSL   \n",
              "4     ...       No         No                No     Fiber optic   \n",
              "...   ...      ...        ...               ...             ...   \n",
              "7037  ...       No         No                No              No   \n",
              "7038  ...      Yes        Yes               Yes             DSL   \n",
              "7039  ...      Yes        Yes               Yes     Fiber optic   \n",
              "7040  ...      Yes        Yes  No phone service             DSL   \n",
              "7041  ...      Yes         No               Yes     Fiber optic   \n",
              "\n",
              "           OnlineSecurity         OnlineBackup     DeviceProtection  \\\n",
              "0                      No                  Yes                   No   \n",
              "1                     Yes                   No                  Yes   \n",
              "2                     Yes                  Yes                   No   \n",
              "3                     Yes                   No                  Yes   \n",
              "4                      No                   No                   No   \n",
              "...                   ...                  ...                  ...   \n",
              "7037  No internet service  No internet service  No internet service   \n",
              "7038                  Yes                   No                  Yes   \n",
              "7039                   No                  Yes                  Yes   \n",
              "7040                  Yes                   No                   No   \n",
              "7041                   No                   No                   No   \n",
              "\n",
              "              TechSupport          StreamingTV      StreamingMovies  \n",
              "0                      No                   No                   No  \n",
              "1                      No                   No                   No  \n",
              "2                      No                   No                   No  \n",
              "3                     Yes                   No                   No  \n",
              "4                      No                   No                   No  \n",
              "...                   ...                  ...                  ...  \n",
              "7037  No internet service  No internet service  No internet service  \n",
              "7038                  Yes                  Yes                  Yes  \n",
              "7039                   No                  Yes                  Yes  \n",
              "7040                   No                   No                   No  \n",
              "7041                   No                   No                   No  \n",
              "\n",
              "[7042 rows x 21 columns]"
            ],
            "text/html": [
              "\n",
              "  <div id=\"df-0c6d501a-ed46-4788-9dfd-7a5842bca1a9\" class=\"colab-df-container\">\n",
              "    <div>\n",
              "<style scoped>\n",
              "    .dataframe tbody tr th:only-of-type {\n",
              "        vertical-align: middle;\n",
              "    }\n",
              "\n",
              "    .dataframe tbody tr th {\n",
              "        vertical-align: top;\n",
              "    }\n",
              "\n",
              "    .dataframe thead th {\n",
              "        text-align: right;\n",
              "    }\n",
              "</style>\n",
              "<table border=\"1\" class=\"dataframe\">\n",
              "  <thead>\n",
              "    <tr style=\"text-align: right;\">\n",
              "      <th></th>\n",
              "      <th>customerID</th>\n",
              "      <th>tenure</th>\n",
              "      <th>PhoneService</th>\n",
              "      <th>Contract</th>\n",
              "      <th>PaperlessBilling</th>\n",
              "      <th>PaymentMethod</th>\n",
              "      <th>MonthlyCharges</th>\n",
              "      <th>TotalCharges</th>\n",
              "      <th>Churn</th>\n",
              "      <th>gender</th>\n",
              "      <th>...</th>\n",
              "      <th>Partner</th>\n",
              "      <th>Dependents</th>\n",
              "      <th>MultipleLines</th>\n",
              "      <th>InternetService</th>\n",
              "      <th>OnlineSecurity</th>\n",
              "      <th>OnlineBackup</th>\n",
              "      <th>DeviceProtection</th>\n",
              "      <th>TechSupport</th>\n",
              "      <th>StreamingTV</th>\n",
              "      <th>StreamingMovies</th>\n",
              "    </tr>\n",
              "  </thead>\n",
              "  <tbody>\n",
              "    <tr>\n",
              "      <th>0</th>\n",
              "      <td>7590-VHVEG</td>\n",
              "      <td>1</td>\n",
              "      <td>No</td>\n",
              "      <td>Month-to-month</td>\n",
              "      <td>Yes</td>\n",
              "      <td>Electronic check</td>\n",
              "      <td>29.85</td>\n",
              "      <td>29.85</td>\n",
              "      <td>No</td>\n",
              "      <td>Female</td>\n",
              "      <td>...</td>\n",
              "      <td>Yes</td>\n",
              "      <td>No</td>\n",
              "      <td>No phone service</td>\n",
              "      <td>DSL</td>\n",
              "      <td>No</td>\n",
              "      <td>Yes</td>\n",
              "      <td>No</td>\n",
              "      <td>No</td>\n",
              "      <td>No</td>\n",
              "      <td>No</td>\n",
              "    </tr>\n",
              "    <tr>\n",
              "      <th>1</th>\n",
              "      <td>5575-GNVDE</td>\n",
              "      <td>34</td>\n",
              "      <td>Yes</td>\n",
              "      <td>One year</td>\n",
              "      <td>No</td>\n",
              "      <td>Mailed check</td>\n",
              "      <td>56.95</td>\n",
              "      <td>1889.5</td>\n",
              "      <td>No</td>\n",
              "      <td>Male</td>\n",
              "      <td>...</td>\n",
              "      <td>No</td>\n",
              "      <td>No</td>\n",
              "      <td>No</td>\n",
              "      <td>DSL</td>\n",
              "      <td>Yes</td>\n",
              "      <td>No</td>\n",
              "      <td>Yes</td>\n",
              "      <td>No</td>\n",
              "      <td>No</td>\n",
              "      <td>No</td>\n",
              "    </tr>\n",
              "    <tr>\n",
              "      <th>2</th>\n",
              "      <td>3668-QPYBK</td>\n",
              "      <td>2</td>\n",
              "      <td>Yes</td>\n",
              "      <td>Month-to-month</td>\n",
              "      <td>Yes</td>\n",
              "      <td>Mailed check</td>\n",
              "      <td>53.85</td>\n",
              "      <td>108.15</td>\n",
              "      <td>Yes</td>\n",
              "      <td>Male</td>\n",
              "      <td>...</td>\n",
              "      <td>No</td>\n",
              "      <td>No</td>\n",
              "      <td>No</td>\n",
              "      <td>DSL</td>\n",
              "      <td>Yes</td>\n",
              "      <td>Yes</td>\n",
              "      <td>No</td>\n",
              "      <td>No</td>\n",
              "      <td>No</td>\n",
              "      <td>No</td>\n",
              "    </tr>\n",
              "    <tr>\n",
              "      <th>3</th>\n",
              "      <td>7795-CFOCW</td>\n",
              "      <td>45</td>\n",
              "      <td>No</td>\n",
              "      <td>One year</td>\n",
              "      <td>No</td>\n",
              "      <td>Bank transfer (automatic)</td>\n",
              "      <td>42.30</td>\n",
              "      <td>1840.75</td>\n",
              "      <td>No</td>\n",
              "      <td>Male</td>\n",
              "      <td>...</td>\n",
              "      <td>No</td>\n",
              "      <td>No</td>\n",
              "      <td>No phone service</td>\n",
              "      <td>DSL</td>\n",
              "      <td>Yes</td>\n",
              "      <td>No</td>\n",
              "      <td>Yes</td>\n",
              "      <td>Yes</td>\n",
              "      <td>No</td>\n",
              "      <td>No</td>\n",
              "    </tr>\n",
              "    <tr>\n",
              "      <th>4</th>\n",
              "      <td>9237-HQITU</td>\n",
              "      <td>2</td>\n",
              "      <td>Yes</td>\n",
              "      <td>Month-to-month</td>\n",
              "      <td>Yes</td>\n",
              "      <td>Electronic check</td>\n",
              "      <td>70.70</td>\n",
              "      <td>151.65</td>\n",
              "      <td>Yes</td>\n",
              "      <td>Female</td>\n",
              "      <td>...</td>\n",
              "      <td>No</td>\n",
              "      <td>No</td>\n",
              "      <td>No</td>\n",
              "      <td>Fiber optic</td>\n",
              "      <td>No</td>\n",
              "      <td>No</td>\n",
              "      <td>No</td>\n",
              "      <td>No</td>\n",
              "      <td>No</td>\n",
              "      <td>No</td>\n",
              "    </tr>\n",
              "    <tr>\n",
              "      <th>...</th>\n",
              "      <td>...</td>\n",
              "      <td>...</td>\n",
              "      <td>...</td>\n",
              "      <td>...</td>\n",
              "      <td>...</td>\n",
              "      <td>...</td>\n",
              "      <td>...</td>\n",
              "      <td>...</td>\n",
              "      <td>...</td>\n",
              "      <td>...</td>\n",
              "      <td>...</td>\n",
              "      <td>...</td>\n",
              "      <td>...</td>\n",
              "      <td>...</td>\n",
              "      <td>...</td>\n",
              "      <td>...</td>\n",
              "      <td>...</td>\n",
              "      <td>...</td>\n",
              "      <td>...</td>\n",
              "      <td>...</td>\n",
              "      <td>...</td>\n",
              "    </tr>\n",
              "    <tr>\n",
              "      <th>7037</th>\n",
              "      <td>2569-WGERO</td>\n",
              "      <td>72</td>\n",
              "      <td>Yes</td>\n",
              "      <td>Two year</td>\n",
              "      <td>Yes</td>\n",
              "      <td>Bank transfer (automatic)</td>\n",
              "      <td>21.15</td>\n",
              "      <td>1419.4</td>\n",
              "      <td>No</td>\n",
              "      <td>Female</td>\n",
              "      <td>...</td>\n",
              "      <td>No</td>\n",
              "      <td>No</td>\n",
              "      <td>No</td>\n",
              "      <td>No</td>\n",
              "      <td>No internet service</td>\n",
              "      <td>No internet service</td>\n",
              "      <td>No internet service</td>\n",
              "      <td>No internet service</td>\n",
              "      <td>No internet service</td>\n",
              "      <td>No internet service</td>\n",
              "    </tr>\n",
              "    <tr>\n",
              "      <th>7038</th>\n",
              "      <td>6840-RESVB</td>\n",
              "      <td>24</td>\n",
              "      <td>Yes</td>\n",
              "      <td>One year</td>\n",
              "      <td>Yes</td>\n",
              "      <td>Mailed check</td>\n",
              "      <td>84.80</td>\n",
              "      <td>1990.5</td>\n",
              "      <td>No</td>\n",
              "      <td>Male</td>\n",
              "      <td>...</td>\n",
              "      <td>Yes</td>\n",
              "      <td>Yes</td>\n",
              "      <td>Yes</td>\n",
              "      <td>DSL</td>\n",
              "      <td>Yes</td>\n",
              "      <td>No</td>\n",
              "      <td>Yes</td>\n",
              "      <td>Yes</td>\n",
              "      <td>Yes</td>\n",
              "      <td>Yes</td>\n",
              "    </tr>\n",
              "    <tr>\n",
              "      <th>7039</th>\n",
              "      <td>2234-XADUH</td>\n",
              "      <td>72</td>\n",
              "      <td>Yes</td>\n",
              "      <td>One year</td>\n",
              "      <td>Yes</td>\n",
              "      <td>Credit card (automatic)</td>\n",
              "      <td>103.20</td>\n",
              "      <td>7362.9</td>\n",
              "      <td>No</td>\n",
              "      <td>Female</td>\n",
              "      <td>...</td>\n",
              "      <td>Yes</td>\n",
              "      <td>Yes</td>\n",
              "      <td>Yes</td>\n",
              "      <td>Fiber optic</td>\n",
              "      <td>No</td>\n",
              "      <td>Yes</td>\n",
              "      <td>Yes</td>\n",
              "      <td>No</td>\n",
              "      <td>Yes</td>\n",
              "      <td>Yes</td>\n",
              "    </tr>\n",
              "    <tr>\n",
              "      <th>7040</th>\n",
              "      <td>4801-JZAZL</td>\n",
              "      <td>11</td>\n",
              "      <td>No</td>\n",
              "      <td>Month-to-month</td>\n",
              "      <td>Yes</td>\n",
              "      <td>Electronic check</td>\n",
              "      <td>29.60</td>\n",
              "      <td>346.45</td>\n",
              "      <td>No</td>\n",
              "      <td>Female</td>\n",
              "      <td>...</td>\n",
              "      <td>Yes</td>\n",
              "      <td>Yes</td>\n",
              "      <td>No phone service</td>\n",
              "      <td>DSL</td>\n",
              "      <td>Yes</td>\n",
              "      <td>No</td>\n",
              "      <td>No</td>\n",
              "      <td>No</td>\n",
              "      <td>No</td>\n",
              "      <td>No</td>\n",
              "    </tr>\n",
              "    <tr>\n",
              "      <th>7041</th>\n",
              "      <td>8361-LTMKD</td>\n",
              "      <td>4</td>\n",
              "      <td>Yes</td>\n",
              "      <td>Month-to-month</td>\n",
              "      <td>Yes</td>\n",
              "      <td>Mailed check</td>\n",
              "      <td>74.40</td>\n",
              "      <td>306.6</td>\n",
              "      <td>Yes</td>\n",
              "      <td>Male</td>\n",
              "      <td>...</td>\n",
              "      <td>Yes</td>\n",
              "      <td>No</td>\n",
              "      <td>Yes</td>\n",
              "      <td>Fiber optic</td>\n",
              "      <td>No</td>\n",
              "      <td>No</td>\n",
              "      <td>No</td>\n",
              "      <td>No</td>\n",
              "      <td>No</td>\n",
              "      <td>No</td>\n",
              "    </tr>\n",
              "  </tbody>\n",
              "</table>\n",
              "<p>7042 rows × 21 columns</p>\n",
              "</div>\n",
              "    <div class=\"colab-df-buttons\">\n",
              "\n",
              "  <div class=\"colab-df-container\">\n",
              "    <button class=\"colab-df-convert\" onclick=\"convertToInteractive('df-0c6d501a-ed46-4788-9dfd-7a5842bca1a9')\"\n",
              "            title=\"Convert this dataframe to an interactive table.\"\n",
              "            style=\"display:none;\">\n",
              "\n",
              "  <svg xmlns=\"http://www.w3.org/2000/svg\" height=\"24px\" viewBox=\"0 -960 960 960\">\n",
              "    <path d=\"M120-120v-720h720v720H120Zm60-500h600v-160H180v160Zm220 220h160v-160H400v160Zm0 220h160v-160H400v160ZM180-400h160v-160H180v160Zm440 0h160v-160H620v160ZM180-180h160v-160H180v160Zm440 0h160v-160H620v160Z\"/>\n",
              "  </svg>\n",
              "    </button>\n",
              "\n",
              "  <style>\n",
              "    .colab-df-container {\n",
              "      display:flex;\n",
              "      gap: 12px;\n",
              "    }\n",
              "\n",
              "    .colab-df-convert {\n",
              "      background-color: #E8F0FE;\n",
              "      border: none;\n",
              "      border-radius: 50%;\n",
              "      cursor: pointer;\n",
              "      display: none;\n",
              "      fill: #1967D2;\n",
              "      height: 32px;\n",
              "      padding: 0 0 0 0;\n",
              "      width: 32px;\n",
              "    }\n",
              "\n",
              "    .colab-df-convert:hover {\n",
              "      background-color: #E2EBFA;\n",
              "      box-shadow: 0px 1px 2px rgba(60, 64, 67, 0.3), 0px 1px 3px 1px rgba(60, 64, 67, 0.15);\n",
              "      fill: #174EA6;\n",
              "    }\n",
              "\n",
              "    .colab-df-buttons div {\n",
              "      margin-bottom: 4px;\n",
              "    }\n",
              "\n",
              "    [theme=dark] .colab-df-convert {\n",
              "      background-color: #3B4455;\n",
              "      fill: #D2E3FC;\n",
              "    }\n",
              "\n",
              "    [theme=dark] .colab-df-convert:hover {\n",
              "      background-color: #434B5C;\n",
              "      box-shadow: 0px 1px 3px 1px rgba(0, 0, 0, 0.15);\n",
              "      filter: drop-shadow(0px 1px 2px rgba(0, 0, 0, 0.3));\n",
              "      fill: #FFFFFF;\n",
              "    }\n",
              "  </style>\n",
              "\n",
              "    <script>\n",
              "      const buttonEl =\n",
              "        document.querySelector('#df-0c6d501a-ed46-4788-9dfd-7a5842bca1a9 button.colab-df-convert');\n",
              "      buttonEl.style.display =\n",
              "        google.colab.kernel.accessAllowed ? 'block' : 'none';\n",
              "\n",
              "      async function convertToInteractive(key) {\n",
              "        const element = document.querySelector('#df-0c6d501a-ed46-4788-9dfd-7a5842bca1a9');\n",
              "        const dataTable =\n",
              "          await google.colab.kernel.invokeFunction('convertToInteractive',\n",
              "                                                    [key], {});\n",
              "        if (!dataTable) return;\n",
              "\n",
              "        const docLinkHtml = 'Like what you see? Visit the ' +\n",
              "          '<a target=\"_blank\" href=https://colab.research.google.com/notebooks/data_table.ipynb>data table notebook</a>'\n",
              "          + ' to learn more about interactive tables.';\n",
              "        element.innerHTML = '';\n",
              "        dataTable['output_type'] = 'display_data';\n",
              "        await google.colab.output.renderOutput(dataTable, element);\n",
              "        const docLink = document.createElement('div');\n",
              "        docLink.innerHTML = docLinkHtml;\n",
              "        element.appendChild(docLink);\n",
              "      }\n",
              "    </script>\n",
              "  </div>\n",
              "\n",
              "\n",
              "<div id=\"df-b4c9d500-fb2f-42a1-88c1-52fa8a66de8b\">\n",
              "  <button class=\"colab-df-quickchart\" onclick=\"quickchart('df-b4c9d500-fb2f-42a1-88c1-52fa8a66de8b')\"\n",
              "            title=\"Suggest charts.\"\n",
              "            style=\"display:none;\">\n",
              "\n",
              "<svg xmlns=\"http://www.w3.org/2000/svg\" height=\"24px\"viewBox=\"0 0 24 24\"\n",
              "     width=\"24px\">\n",
              "    <g>\n",
              "        <path d=\"M19 3H5c-1.1 0-2 .9-2 2v14c0 1.1.9 2 2 2h14c1.1 0 2-.9 2-2V5c0-1.1-.9-2-2-2zM9 17H7v-7h2v7zm4 0h-2V7h2v10zm4 0h-2v-4h2v4z\"/>\n",
              "    </g>\n",
              "</svg>\n",
              "  </button>\n",
              "\n",
              "<style>\n",
              "  .colab-df-quickchart {\n",
              "      --bg-color: #E8F0FE;\n",
              "      --fill-color: #1967D2;\n",
              "      --hover-bg-color: #E2EBFA;\n",
              "      --hover-fill-color: #174EA6;\n",
              "      --disabled-fill-color: #AAA;\n",
              "      --disabled-bg-color: #DDD;\n",
              "  }\n",
              "\n",
              "  [theme=dark] .colab-df-quickchart {\n",
              "      --bg-color: #3B4455;\n",
              "      --fill-color: #D2E3FC;\n",
              "      --hover-bg-color: #434B5C;\n",
              "      --hover-fill-color: #FFFFFF;\n",
              "      --disabled-bg-color: #3B4455;\n",
              "      --disabled-fill-color: #666;\n",
              "  }\n",
              "\n",
              "  .colab-df-quickchart {\n",
              "    background-color: var(--bg-color);\n",
              "    border: none;\n",
              "    border-radius: 50%;\n",
              "    cursor: pointer;\n",
              "    display: none;\n",
              "    fill: var(--fill-color);\n",
              "    height: 32px;\n",
              "    padding: 0;\n",
              "    width: 32px;\n",
              "  }\n",
              "\n",
              "  .colab-df-quickchart:hover {\n",
              "    background-color: var(--hover-bg-color);\n",
              "    box-shadow: 0 1px 2px rgba(60, 64, 67, 0.3), 0 1px 3px 1px rgba(60, 64, 67, 0.15);\n",
              "    fill: var(--button-hover-fill-color);\n",
              "  }\n",
              "\n",
              "  .colab-df-quickchart-complete:disabled,\n",
              "  .colab-df-quickchart-complete:disabled:hover {\n",
              "    background-color: var(--disabled-bg-color);\n",
              "    fill: var(--disabled-fill-color);\n",
              "    box-shadow: none;\n",
              "  }\n",
              "\n",
              "  .colab-df-spinner {\n",
              "    border: 2px solid var(--fill-color);\n",
              "    border-color: transparent;\n",
              "    border-bottom-color: var(--fill-color);\n",
              "    animation:\n",
              "      spin 1s steps(1) infinite;\n",
              "  }\n",
              "\n",
              "  @keyframes spin {\n",
              "    0% {\n",
              "      border-color: transparent;\n",
              "      border-bottom-color: var(--fill-color);\n",
              "      border-left-color: var(--fill-color);\n",
              "    }\n",
              "    20% {\n",
              "      border-color: transparent;\n",
              "      border-left-color: var(--fill-color);\n",
              "      border-top-color: var(--fill-color);\n",
              "    }\n",
              "    30% {\n",
              "      border-color: transparent;\n",
              "      border-left-color: var(--fill-color);\n",
              "      border-top-color: var(--fill-color);\n",
              "      border-right-color: var(--fill-color);\n",
              "    }\n",
              "    40% {\n",
              "      border-color: transparent;\n",
              "      border-right-color: var(--fill-color);\n",
              "      border-top-color: var(--fill-color);\n",
              "    }\n",
              "    60% {\n",
              "      border-color: transparent;\n",
              "      border-right-color: var(--fill-color);\n",
              "    }\n",
              "    80% {\n",
              "      border-color: transparent;\n",
              "      border-right-color: var(--fill-color);\n",
              "      border-bottom-color: var(--fill-color);\n",
              "    }\n",
              "    90% {\n",
              "      border-color: transparent;\n",
              "      border-bottom-color: var(--fill-color);\n",
              "    }\n",
              "  }\n",
              "</style>\n",
              "\n",
              "  <script>\n",
              "    async function quickchart(key) {\n",
              "      const quickchartButtonEl =\n",
              "        document.querySelector('#' + key + ' button');\n",
              "      quickchartButtonEl.disabled = true;  // To prevent multiple clicks.\n",
              "      quickchartButtonEl.classList.add('colab-df-spinner');\n",
              "      try {\n",
              "        const charts = await google.colab.kernel.invokeFunction(\n",
              "            'suggestCharts', [key], {});\n",
              "      } catch (error) {\n",
              "        console.error('Error during call to suggestCharts:', error);\n",
              "      }\n",
              "      quickchartButtonEl.classList.remove('colab-df-spinner');\n",
              "      quickchartButtonEl.classList.add('colab-df-quickchart-complete');\n",
              "    }\n",
              "    (() => {\n",
              "      let quickchartButtonEl =\n",
              "        document.querySelector('#df-b4c9d500-fb2f-42a1-88c1-52fa8a66de8b button');\n",
              "      quickchartButtonEl.style.display =\n",
              "        google.colab.kernel.accessAllowed ? 'block' : 'none';\n",
              "    })();\n",
              "  </script>\n",
              "</div>\n",
              "\n",
              "    </div>\n",
              "  </div>\n"
            ]
          },
          "metadata": {},
          "execution_count": 2
        }
      ],
      "source": [
        "# Try your code\n",
        "from solution_6_15 import *\n",
        "join_dataframes()"
      ]
    },
    {
      "cell_type": "markdown",
      "metadata": {
        "id": "AOr0BvF1Bdu9"
      },
      "source": [
        "#### Test 6.15"
      ]
    },
    {
      "cell_type": "code",
      "execution_count": null,
      "metadata": {
        "colab": {
          "base_uri": "https://localhost:8080/"
        },
        "id": "dpbKyLtSBdu9",
        "outputId": "df5570b4-1843-4e5e-fde7-9d2336d144ed"
      },
      "outputs": [
        {
          "output_type": "stream",
          "name": "stdout",
          "text": [
            "Overwriting test/test_6_15.py\n"
          ]
        }
      ],
      "source": [
        "%%writefile test/test_6_15.py\n",
        "from solution_6_15 import *\n",
        "\n",
        "def test_6_15():\n",
        "    result = join_dataframes()\n",
        "    assert result.shape == (7042, 21), 'Incorrect resulting shape'"
      ]
    },
    {
      "cell_type": "markdown",
      "metadata": {
        "id": "BG72OpcPBdu-"
      },
      "source": [
        "### 6.16 Calculate average monthly charges using pivot table\n",
        "Instructions\n",
        "Write a function calculate_avgcharges() where you:\n",
        "\n",
        "1. Create a pivot table using the merged DataFrame from the previous excercise. Set 'gender' as index, 'InternetService' as columns, and 'MonthlyCharges' as values. Calculate the mean MonthlyCharges for each combination.\n",
        "2. Store the resulting dataframe and return it"
      ]
    },
    {
      "cell_type": "markdown",
      "metadata": {
        "id": "VbABgi5KBdu-"
      },
      "source": [
        "Save your solution to `solution_6_16.py`"
      ]
    },
    {
      "cell_type": "code",
      "execution_count": null,
      "metadata": {
        "colab": {
          "base_uri": "https://localhost:8080/"
        },
        "id": "GwmEN2w_Bdu-",
        "outputId": "f7db832c-cd47-490b-de05-b15ca92b70a9"
      },
      "outputs": [
        {
          "output_type": "stream",
          "name": "stdout",
          "text": [
            "Overwriting solution_6_16.py\n"
          ]
        }
      ],
      "source": [
        "%%writefile solution_6_16.py\n",
        "### your code here\n",
        "from solution_6_15 import *\n",
        "import pandas as pd\n",
        "\n",
        "def calculate_avgcharges():\n",
        "  merged_data = join_dataframes()\n",
        "  pivot_table1 = pd.pivot_table(merged_data, values='MonthlyCharges', index='gender', columns='InternetService', aggfunc='mean')\n",
        "  return pivot_table1\n"
      ]
    },
    {
      "cell_type": "code",
      "execution_count": null,
      "metadata": {
        "colab": {
          "base_uri": "https://localhost:8080/",
          "height": 142
        },
        "id": "Jf2yFnWQBdu-",
        "outputId": "f76f21d5-1f61-4501-ffd2-55b1a833073a"
      },
      "outputs": [
        {
          "output_type": "execute_result",
          "data": {
            "text/plain": [
              "InternetService        DSL  Fiber optic         No\n",
              "gender                                            \n",
              "Female           58.590741    91.472569  21.110710\n",
              "Male             57.631427    91.518709  21.048973"
            ],
            "text/html": [
              "\n",
              "  <div id=\"df-acd70a89-6582-4615-bb14-affb7b6fc868\" class=\"colab-df-container\">\n",
              "    <div>\n",
              "<style scoped>\n",
              "    .dataframe tbody tr th:only-of-type {\n",
              "        vertical-align: middle;\n",
              "    }\n",
              "\n",
              "    .dataframe tbody tr th {\n",
              "        vertical-align: top;\n",
              "    }\n",
              "\n",
              "    .dataframe thead th {\n",
              "        text-align: right;\n",
              "    }\n",
              "</style>\n",
              "<table border=\"1\" class=\"dataframe\">\n",
              "  <thead>\n",
              "    <tr style=\"text-align: right;\">\n",
              "      <th>InternetService</th>\n",
              "      <th>DSL</th>\n",
              "      <th>Fiber optic</th>\n",
              "      <th>No</th>\n",
              "    </tr>\n",
              "    <tr>\n",
              "      <th>gender</th>\n",
              "      <th></th>\n",
              "      <th></th>\n",
              "      <th></th>\n",
              "    </tr>\n",
              "  </thead>\n",
              "  <tbody>\n",
              "    <tr>\n",
              "      <th>Female</th>\n",
              "      <td>58.590741</td>\n",
              "      <td>91.472569</td>\n",
              "      <td>21.110710</td>\n",
              "    </tr>\n",
              "    <tr>\n",
              "      <th>Male</th>\n",
              "      <td>57.631427</td>\n",
              "      <td>91.518709</td>\n",
              "      <td>21.048973</td>\n",
              "    </tr>\n",
              "  </tbody>\n",
              "</table>\n",
              "</div>\n",
              "    <div class=\"colab-df-buttons\">\n",
              "\n",
              "  <div class=\"colab-df-container\">\n",
              "    <button class=\"colab-df-convert\" onclick=\"convertToInteractive('df-acd70a89-6582-4615-bb14-affb7b6fc868')\"\n",
              "            title=\"Convert this dataframe to an interactive table.\"\n",
              "            style=\"display:none;\">\n",
              "\n",
              "  <svg xmlns=\"http://www.w3.org/2000/svg\" height=\"24px\" viewBox=\"0 -960 960 960\">\n",
              "    <path d=\"M120-120v-720h720v720H120Zm60-500h600v-160H180v160Zm220 220h160v-160H400v160Zm0 220h160v-160H400v160ZM180-400h160v-160H180v160Zm440 0h160v-160H620v160ZM180-180h160v-160H180v160Zm440 0h160v-160H620v160Z\"/>\n",
              "  </svg>\n",
              "    </button>\n",
              "\n",
              "  <style>\n",
              "    .colab-df-container {\n",
              "      display:flex;\n",
              "      gap: 12px;\n",
              "    }\n",
              "\n",
              "    .colab-df-convert {\n",
              "      background-color: #E8F0FE;\n",
              "      border: none;\n",
              "      border-radius: 50%;\n",
              "      cursor: pointer;\n",
              "      display: none;\n",
              "      fill: #1967D2;\n",
              "      height: 32px;\n",
              "      padding: 0 0 0 0;\n",
              "      width: 32px;\n",
              "    }\n",
              "\n",
              "    .colab-df-convert:hover {\n",
              "      background-color: #E2EBFA;\n",
              "      box-shadow: 0px 1px 2px rgba(60, 64, 67, 0.3), 0px 1px 3px 1px rgba(60, 64, 67, 0.15);\n",
              "      fill: #174EA6;\n",
              "    }\n",
              "\n",
              "    .colab-df-buttons div {\n",
              "      margin-bottom: 4px;\n",
              "    }\n",
              "\n",
              "    [theme=dark] .colab-df-convert {\n",
              "      background-color: #3B4455;\n",
              "      fill: #D2E3FC;\n",
              "    }\n",
              "\n",
              "    [theme=dark] .colab-df-convert:hover {\n",
              "      background-color: #434B5C;\n",
              "      box-shadow: 0px 1px 3px 1px rgba(0, 0, 0, 0.15);\n",
              "      filter: drop-shadow(0px 1px 2px rgba(0, 0, 0, 0.3));\n",
              "      fill: #FFFFFF;\n",
              "    }\n",
              "  </style>\n",
              "\n",
              "    <script>\n",
              "      const buttonEl =\n",
              "        document.querySelector('#df-acd70a89-6582-4615-bb14-affb7b6fc868 button.colab-df-convert');\n",
              "      buttonEl.style.display =\n",
              "        google.colab.kernel.accessAllowed ? 'block' : 'none';\n",
              "\n",
              "      async function convertToInteractive(key) {\n",
              "        const element = document.querySelector('#df-acd70a89-6582-4615-bb14-affb7b6fc868');\n",
              "        const dataTable =\n",
              "          await google.colab.kernel.invokeFunction('convertToInteractive',\n",
              "                                                    [key], {});\n",
              "        if (!dataTable) return;\n",
              "\n",
              "        const docLinkHtml = 'Like what you see? Visit the ' +\n",
              "          '<a target=\"_blank\" href=https://colab.research.google.com/notebooks/data_table.ipynb>data table notebook</a>'\n",
              "          + ' to learn more about interactive tables.';\n",
              "        element.innerHTML = '';\n",
              "        dataTable['output_type'] = 'display_data';\n",
              "        await google.colab.output.renderOutput(dataTable, element);\n",
              "        const docLink = document.createElement('div');\n",
              "        docLink.innerHTML = docLinkHtml;\n",
              "        element.appendChild(docLink);\n",
              "      }\n",
              "    </script>\n",
              "  </div>\n",
              "\n",
              "\n",
              "<div id=\"df-9b54902f-ace3-4226-9376-9f88cf658535\">\n",
              "  <button class=\"colab-df-quickchart\" onclick=\"quickchart('df-9b54902f-ace3-4226-9376-9f88cf658535')\"\n",
              "            title=\"Suggest charts.\"\n",
              "            style=\"display:none;\">\n",
              "\n",
              "<svg xmlns=\"http://www.w3.org/2000/svg\" height=\"24px\"viewBox=\"0 0 24 24\"\n",
              "     width=\"24px\">\n",
              "    <g>\n",
              "        <path d=\"M19 3H5c-1.1 0-2 .9-2 2v14c0 1.1.9 2 2 2h14c1.1 0 2-.9 2-2V5c0-1.1-.9-2-2-2zM9 17H7v-7h2v7zm4 0h-2V7h2v10zm4 0h-2v-4h2v4z\"/>\n",
              "    </g>\n",
              "</svg>\n",
              "  </button>\n",
              "\n",
              "<style>\n",
              "  .colab-df-quickchart {\n",
              "      --bg-color: #E8F0FE;\n",
              "      --fill-color: #1967D2;\n",
              "      --hover-bg-color: #E2EBFA;\n",
              "      --hover-fill-color: #174EA6;\n",
              "      --disabled-fill-color: #AAA;\n",
              "      --disabled-bg-color: #DDD;\n",
              "  }\n",
              "\n",
              "  [theme=dark] .colab-df-quickchart {\n",
              "      --bg-color: #3B4455;\n",
              "      --fill-color: #D2E3FC;\n",
              "      --hover-bg-color: #434B5C;\n",
              "      --hover-fill-color: #FFFFFF;\n",
              "      --disabled-bg-color: #3B4455;\n",
              "      --disabled-fill-color: #666;\n",
              "  }\n",
              "\n",
              "  .colab-df-quickchart {\n",
              "    background-color: var(--bg-color);\n",
              "    border: none;\n",
              "    border-radius: 50%;\n",
              "    cursor: pointer;\n",
              "    display: none;\n",
              "    fill: var(--fill-color);\n",
              "    height: 32px;\n",
              "    padding: 0;\n",
              "    width: 32px;\n",
              "  }\n",
              "\n",
              "  .colab-df-quickchart:hover {\n",
              "    background-color: var(--hover-bg-color);\n",
              "    box-shadow: 0 1px 2px rgba(60, 64, 67, 0.3), 0 1px 3px 1px rgba(60, 64, 67, 0.15);\n",
              "    fill: var(--button-hover-fill-color);\n",
              "  }\n",
              "\n",
              "  .colab-df-quickchart-complete:disabled,\n",
              "  .colab-df-quickchart-complete:disabled:hover {\n",
              "    background-color: var(--disabled-bg-color);\n",
              "    fill: var(--disabled-fill-color);\n",
              "    box-shadow: none;\n",
              "  }\n",
              "\n",
              "  .colab-df-spinner {\n",
              "    border: 2px solid var(--fill-color);\n",
              "    border-color: transparent;\n",
              "    border-bottom-color: var(--fill-color);\n",
              "    animation:\n",
              "      spin 1s steps(1) infinite;\n",
              "  }\n",
              "\n",
              "  @keyframes spin {\n",
              "    0% {\n",
              "      border-color: transparent;\n",
              "      border-bottom-color: var(--fill-color);\n",
              "      border-left-color: var(--fill-color);\n",
              "    }\n",
              "    20% {\n",
              "      border-color: transparent;\n",
              "      border-left-color: var(--fill-color);\n",
              "      border-top-color: var(--fill-color);\n",
              "    }\n",
              "    30% {\n",
              "      border-color: transparent;\n",
              "      border-left-color: var(--fill-color);\n",
              "      border-top-color: var(--fill-color);\n",
              "      border-right-color: var(--fill-color);\n",
              "    }\n",
              "    40% {\n",
              "      border-color: transparent;\n",
              "      border-right-color: var(--fill-color);\n",
              "      border-top-color: var(--fill-color);\n",
              "    }\n",
              "    60% {\n",
              "      border-color: transparent;\n",
              "      border-right-color: var(--fill-color);\n",
              "    }\n",
              "    80% {\n",
              "      border-color: transparent;\n",
              "      border-right-color: var(--fill-color);\n",
              "      border-bottom-color: var(--fill-color);\n",
              "    }\n",
              "    90% {\n",
              "      border-color: transparent;\n",
              "      border-bottom-color: var(--fill-color);\n",
              "    }\n",
              "  }\n",
              "</style>\n",
              "\n",
              "  <script>\n",
              "    async function quickchart(key) {\n",
              "      const quickchartButtonEl =\n",
              "        document.querySelector('#' + key + ' button');\n",
              "      quickchartButtonEl.disabled = true;  // To prevent multiple clicks.\n",
              "      quickchartButtonEl.classList.add('colab-df-spinner');\n",
              "      try {\n",
              "        const charts = await google.colab.kernel.invokeFunction(\n",
              "            'suggestCharts', [key], {});\n",
              "      } catch (error) {\n",
              "        console.error('Error during call to suggestCharts:', error);\n",
              "      }\n",
              "      quickchartButtonEl.classList.remove('colab-df-spinner');\n",
              "      quickchartButtonEl.classList.add('colab-df-quickchart-complete');\n",
              "    }\n",
              "    (() => {\n",
              "      let quickchartButtonEl =\n",
              "        document.querySelector('#df-9b54902f-ace3-4226-9376-9f88cf658535 button');\n",
              "      quickchartButtonEl.style.display =\n",
              "        google.colab.kernel.accessAllowed ? 'block' : 'none';\n",
              "    })();\n",
              "  </script>\n",
              "</div>\n",
              "\n",
              "    </div>\n",
              "  </div>\n"
            ]
          },
          "metadata": {},
          "execution_count": 5
        }
      ],
      "source": [
        "# Try your code\n",
        "from solution_6_16 import *\n",
        "calculate_avgcharges()"
      ]
    },
    {
      "cell_type": "markdown",
      "metadata": {
        "id": "eYIWHea3Bdu-"
      },
      "source": [
        "#### Test 6.16"
      ]
    },
    {
      "cell_type": "code",
      "execution_count": null,
      "metadata": {
        "colab": {
          "base_uri": "https://localhost:8080/"
        },
        "id": "Dqo-n8Y9Bdu-",
        "outputId": "485cd261-62fb-4416-91c5-14ca1170279e"
      },
      "outputs": [
        {
          "output_type": "stream",
          "name": "stdout",
          "text": [
            "Overwriting test/test_6_16.py\n"
          ]
        }
      ],
      "source": [
        "%%writefile test/test_6_16.py\n",
        "from solution_6_16 import *\n",
        "import pandas as pd\n",
        "\n",
        "def test_6_16():\n",
        "    df_churn=pd.read_csv(\"/data/IFI8410/churn_data.csv\")\n",
        "    df_customer=pd.read_csv(\"/data/IFI8410/customer_data.csv\")\n",
        "    df_internet=pd.read_csv(\"/data/IFI8410/internet_data.csv\")\n",
        "\n",
        "    merged_data = pd.merge(df_churn, df_customer, on='customerID', how='inner')\n",
        "    merged_data = pd.merge(merged_data, df_internet, on='customerID', how='inner')\n",
        "    expected_result = pd.pivot_table(merged_data, values='MonthlyCharges', index='gender', columns='InternetService', aggfunc='mean')\n",
        "    result = calculate_avgcharges()\n",
        "    assert result.equals(expected_result), \"Incorrect result\""
      ]
    },
    {
      "cell_type": "markdown",
      "metadata": {
        "id": "6-XOmJprBdu-"
      },
      "source": [
        "### 6.17 Calculate average monthly charges using group by\n",
        "Instructions\n",
        "Create a function calculate_monthlycharges() where you:\n",
        "1. Group the merged DataFrame resulting from problem 6.15 by 'InternetService'\n",
        "2. calculate the average 'MonthlyCharges' for each group.\n"
      ]
    },
    {
      "cell_type": "markdown",
      "metadata": {
        "id": "wZvUwTXkBdu_"
      },
      "source": [
        "Save your solution to `solution_6_17.py`"
      ]
    },
    {
      "cell_type": "code",
      "execution_count": null,
      "metadata": {
        "colab": {
          "base_uri": "https://localhost:8080/"
        },
        "id": "RnRKbhIzBdu_",
        "outputId": "749bb265-275c-41ee-9c70-7e11df1b4ee6"
      },
      "outputs": [
        {
          "output_type": "stream",
          "name": "stdout",
          "text": [
            "Overwriting solution_6_17.py\n"
          ]
        }
      ],
      "source": [
        "%%writefile solution_6_17.py\n",
        "from solution_6_15 import *\n",
        "\n",
        "### your code here\n",
        "def calculate_monthlycharges():\n",
        "  merged_data = join_dataframes()\n",
        "  grouped_data1 = merged_data.groupby('InternetService')['MonthlyCharges'].mean()\n",
        "  return grouped_data1\n"
      ]
    },
    {
      "cell_type": "code",
      "execution_count": null,
      "metadata": {
        "colab": {
          "base_uri": "https://localhost:8080/"
        },
        "id": "tiIrm8J0Bdu_",
        "outputId": "2f4d04a3-e843-4a84-9951-b15bb576e2dc"
      },
      "outputs": [
        {
          "output_type": "execute_result",
          "data": {
            "text/plain": [
              "InternetService\n",
              "DSL            58.102169\n",
              "Fiber optic    91.495557\n",
              "No             21.079194\n",
              "Name: MonthlyCharges, dtype: float64"
            ]
          },
          "metadata": {},
          "execution_count": 8
        }
      ],
      "source": [
        "# Try your code\n",
        "from solution_6_17 import *\n",
        "calculate_monthlycharges()\n",
        "\n"
      ]
    },
    {
      "cell_type": "markdown",
      "metadata": {
        "id": "Fe4I-2pfBdu_"
      },
      "source": [
        "#### Test 6.17"
      ]
    },
    {
      "cell_type": "code",
      "execution_count": null,
      "metadata": {
        "colab": {
          "base_uri": "https://localhost:8080/"
        },
        "id": "1mIuRT56Bdu_",
        "outputId": "58909a18-b93d-4d0f-e53a-dac11ac02486"
      },
      "outputs": [
        {
          "output_type": "stream",
          "name": "stdout",
          "text": [
            "Overwriting test/test_6_17.py\n"
          ]
        }
      ],
      "source": [
        "%%writefile test/test_6_17.py\n",
        "from solution_6_17 import *\n",
        "import pandas as pd\n",
        "\n",
        "def test_6_17():\n",
        "    df_churn=pd.read_csv(\"/data/IFI8410/churn_data.csv\")\n",
        "    df_customer=pd.read_csv(\"/data/IFI8410/customer_data.csv\")\n",
        "    df_internet=pd.read_csv(\"/data/IFI8410/internet_data.csv\")\n",
        "\n",
        "    merged_data = pd.merge(df_churn, df_customer, on='customerID', how='inner')\n",
        "    merged_data = pd.merge(merged_data, df_internet, on='customerID', how='inner')\n",
        "\n",
        "    result = calculate_monthlycharges()\n",
        "    assert result.equals(merged_data.groupby('InternetService')['MonthlyCharges'].mean()), \"Incorrect result\""
      ]
    },
    {
      "cell_type": "markdown",
      "metadata": {
        "id": "M0DEhoxVBdu_"
      },
      "source": [
        "### 6.18 Create new feature\n",
        "Instructions\n",
        "Write a function create_ChargeRatio() where you:\n",
        "1. Using the merged dataframe resulting from problem 6.15, create a new column in the merged DataFrame that represents the ratio of 'TotalCharges' to 'MonthlyCharges' and name it 'ChargeRatio'.\n",
        "2. Replace any missing values in the 'ChargeRatio' column with the mean of the column.\n",
        "3. Return the new dataframe\n"
      ]
    },
    {
      "cell_type": "markdown",
      "metadata": {
        "id": "2WvYMzOJBdu_"
      },
      "source": [
        "Save your solution to `solution_6_18.py`"
      ]
    },
    {
      "cell_type": "code",
      "execution_count": null,
      "metadata": {
        "colab": {
          "base_uri": "https://localhost:8080/"
        },
        "id": "6g09cF5tBdu_",
        "outputId": "373767a1-d9a9-4097-e601-7839c4090fd6"
      },
      "outputs": [
        {
          "output_type": "stream",
          "name": "stdout",
          "text": [
            "Overwriting solution_6_18.py\n"
          ]
        }
      ],
      "source": [
        "%%writefile solution_6_18.py\n",
        "from solution_6_15 import *\n",
        "import pandas as pd\n",
        "\n",
        "### your code here\n",
        "def create_ChargeRatio():\n",
        "  merged_data = join_dataframes()\n",
        "  merged_data['TotalCharges'] = pd.to_numeric(merged_data['TotalCharges'], errors='coerce')\n",
        "  merged_data['ChargeRatio'] = merged_data['TotalCharges'] / merged_data['MonthlyCharges']\n",
        "  mean_ratio = merged_data['ChargeRatio'].mean()\n",
        "  merged_data['ChargeRatio'].fillna(mean_ratio, inplace=True)\n",
        "  return merged_data\n"
      ]
    },
    {
      "cell_type": "code",
      "execution_count": null,
      "metadata": {
        "colab": {
          "base_uri": "https://localhost:8080/",
          "height": 592
        },
        "id": "xmcO4pT2Bdu_",
        "outputId": "56530657-89bd-4d04-cabe-9b3fa2f9aed2"
      },
      "outputs": [
        {
          "output_type": "execute_result",
          "data": {
            "text/plain": [
              "      customerID  tenure PhoneService        Contract PaperlessBilling  \\\n",
              "0     7590-VHVEG       1           No  Month-to-month              Yes   \n",
              "1     5575-GNVDE      34          Yes        One year               No   \n",
              "2     3668-QPYBK       2          Yes  Month-to-month              Yes   \n",
              "3     7795-CFOCW      45           No        One year               No   \n",
              "4     9237-HQITU       2          Yes  Month-to-month              Yes   \n",
              "...          ...     ...          ...             ...              ...   \n",
              "7037  2569-WGERO      72          Yes        Two year              Yes   \n",
              "7038  6840-RESVB      24          Yes        One year              Yes   \n",
              "7039  2234-XADUH      72          Yes        One year              Yes   \n",
              "7040  4801-JZAZL      11           No  Month-to-month              Yes   \n",
              "7041  8361-LTMKD       4          Yes  Month-to-month              Yes   \n",
              "\n",
              "                  PaymentMethod  MonthlyCharges  TotalCharges Churn  gender  \\\n",
              "0              Electronic check           29.85         29.85    No  Female   \n",
              "1                  Mailed check           56.95       1889.50    No    Male   \n",
              "2                  Mailed check           53.85        108.15   Yes    Male   \n",
              "3     Bank transfer (automatic)           42.30       1840.75    No    Male   \n",
              "4              Electronic check           70.70        151.65   Yes  Female   \n",
              "...                         ...             ...           ...   ...     ...   \n",
              "7037  Bank transfer (automatic)           21.15       1419.40    No  Female   \n",
              "7038               Mailed check           84.80       1990.50    No    Male   \n",
              "7039    Credit card (automatic)          103.20       7362.90    No  Female   \n",
              "7040           Electronic check           29.60        346.45    No  Female   \n",
              "7041               Mailed check           74.40        306.60   Yes    Male   \n",
              "\n",
              "      ...  Dependents     MultipleLines InternetService       OnlineSecurity  \\\n",
              "0     ...          No  No phone service             DSL                   No   \n",
              "1     ...          No                No             DSL                  Yes   \n",
              "2     ...          No                No             DSL                  Yes   \n",
              "3     ...          No  No phone service             DSL                  Yes   \n",
              "4     ...          No                No     Fiber optic                   No   \n",
              "...   ...         ...               ...             ...                  ...   \n",
              "7037  ...          No                No              No  No internet service   \n",
              "7038  ...         Yes               Yes             DSL                  Yes   \n",
              "7039  ...         Yes               Yes     Fiber optic                   No   \n",
              "7040  ...         Yes  No phone service             DSL                  Yes   \n",
              "7041  ...          No               Yes     Fiber optic                   No   \n",
              "\n",
              "             OnlineBackup     DeviceProtection          TechSupport  \\\n",
              "0                     Yes                   No                   No   \n",
              "1                      No                  Yes                   No   \n",
              "2                     Yes                   No                   No   \n",
              "3                      No                  Yes                  Yes   \n",
              "4                      No                   No                   No   \n",
              "...                   ...                  ...                  ...   \n",
              "7037  No internet service  No internet service  No internet service   \n",
              "7038                   No                  Yes                  Yes   \n",
              "7039                  Yes                  Yes                   No   \n",
              "7040                   No                   No                   No   \n",
              "7041                   No                   No                   No   \n",
              "\n",
              "              StreamingTV      StreamingMovies ChargeRatio  \n",
              "0                      No                   No    1.000000  \n",
              "1                      No                   No   33.178227  \n",
              "2                      No                   No    2.008357  \n",
              "3                      No                   No   43.516548  \n",
              "4                      No                   No    2.144979  \n",
              "...                   ...                  ...         ...  \n",
              "7037  No internet service  No internet service   67.111111  \n",
              "7038                  Yes                  Yes   23.472877  \n",
              "7039                  Yes                  Yes   71.345930  \n",
              "7040                   No                   No   11.704392  \n",
              "7041                   No                   No    4.120968  \n",
              "\n",
              "[7042 rows x 22 columns]"
            ],
            "text/html": [
              "\n",
              "  <div id=\"df-7bc8fce7-8528-434b-9063-58118aec538a\" class=\"colab-df-container\">\n",
              "    <div>\n",
              "<style scoped>\n",
              "    .dataframe tbody tr th:only-of-type {\n",
              "        vertical-align: middle;\n",
              "    }\n",
              "\n",
              "    .dataframe tbody tr th {\n",
              "        vertical-align: top;\n",
              "    }\n",
              "\n",
              "    .dataframe thead th {\n",
              "        text-align: right;\n",
              "    }\n",
              "</style>\n",
              "<table border=\"1\" class=\"dataframe\">\n",
              "  <thead>\n",
              "    <tr style=\"text-align: right;\">\n",
              "      <th></th>\n",
              "      <th>customerID</th>\n",
              "      <th>tenure</th>\n",
              "      <th>PhoneService</th>\n",
              "      <th>Contract</th>\n",
              "      <th>PaperlessBilling</th>\n",
              "      <th>PaymentMethod</th>\n",
              "      <th>MonthlyCharges</th>\n",
              "      <th>TotalCharges</th>\n",
              "      <th>Churn</th>\n",
              "      <th>gender</th>\n",
              "      <th>...</th>\n",
              "      <th>Dependents</th>\n",
              "      <th>MultipleLines</th>\n",
              "      <th>InternetService</th>\n",
              "      <th>OnlineSecurity</th>\n",
              "      <th>OnlineBackup</th>\n",
              "      <th>DeviceProtection</th>\n",
              "      <th>TechSupport</th>\n",
              "      <th>StreamingTV</th>\n",
              "      <th>StreamingMovies</th>\n",
              "      <th>ChargeRatio</th>\n",
              "    </tr>\n",
              "  </thead>\n",
              "  <tbody>\n",
              "    <tr>\n",
              "      <th>0</th>\n",
              "      <td>7590-VHVEG</td>\n",
              "      <td>1</td>\n",
              "      <td>No</td>\n",
              "      <td>Month-to-month</td>\n",
              "      <td>Yes</td>\n",
              "      <td>Electronic check</td>\n",
              "      <td>29.85</td>\n",
              "      <td>29.85</td>\n",
              "      <td>No</td>\n",
              "      <td>Female</td>\n",
              "      <td>...</td>\n",
              "      <td>No</td>\n",
              "      <td>No phone service</td>\n",
              "      <td>DSL</td>\n",
              "      <td>No</td>\n",
              "      <td>Yes</td>\n",
              "      <td>No</td>\n",
              "      <td>No</td>\n",
              "      <td>No</td>\n",
              "      <td>No</td>\n",
              "      <td>1.000000</td>\n",
              "    </tr>\n",
              "    <tr>\n",
              "      <th>1</th>\n",
              "      <td>5575-GNVDE</td>\n",
              "      <td>34</td>\n",
              "      <td>Yes</td>\n",
              "      <td>One year</td>\n",
              "      <td>No</td>\n",
              "      <td>Mailed check</td>\n",
              "      <td>56.95</td>\n",
              "      <td>1889.50</td>\n",
              "      <td>No</td>\n",
              "      <td>Male</td>\n",
              "      <td>...</td>\n",
              "      <td>No</td>\n",
              "      <td>No</td>\n",
              "      <td>DSL</td>\n",
              "      <td>Yes</td>\n",
              "      <td>No</td>\n",
              "      <td>Yes</td>\n",
              "      <td>No</td>\n",
              "      <td>No</td>\n",
              "      <td>No</td>\n",
              "      <td>33.178227</td>\n",
              "    </tr>\n",
              "    <tr>\n",
              "      <th>2</th>\n",
              "      <td>3668-QPYBK</td>\n",
              "      <td>2</td>\n",
              "      <td>Yes</td>\n",
              "      <td>Month-to-month</td>\n",
              "      <td>Yes</td>\n",
              "      <td>Mailed check</td>\n",
              "      <td>53.85</td>\n",
              "      <td>108.15</td>\n",
              "      <td>Yes</td>\n",
              "      <td>Male</td>\n",
              "      <td>...</td>\n",
              "      <td>No</td>\n",
              "      <td>No</td>\n",
              "      <td>DSL</td>\n",
              "      <td>Yes</td>\n",
              "      <td>Yes</td>\n",
              "      <td>No</td>\n",
              "      <td>No</td>\n",
              "      <td>No</td>\n",
              "      <td>No</td>\n",
              "      <td>2.008357</td>\n",
              "    </tr>\n",
              "    <tr>\n",
              "      <th>3</th>\n",
              "      <td>7795-CFOCW</td>\n",
              "      <td>45</td>\n",
              "      <td>No</td>\n",
              "      <td>One year</td>\n",
              "      <td>No</td>\n",
              "      <td>Bank transfer (automatic)</td>\n",
              "      <td>42.30</td>\n",
              "      <td>1840.75</td>\n",
              "      <td>No</td>\n",
              "      <td>Male</td>\n",
              "      <td>...</td>\n",
              "      <td>No</td>\n",
              "      <td>No phone service</td>\n",
              "      <td>DSL</td>\n",
              "      <td>Yes</td>\n",
              "      <td>No</td>\n",
              "      <td>Yes</td>\n",
              "      <td>Yes</td>\n",
              "      <td>No</td>\n",
              "      <td>No</td>\n",
              "      <td>43.516548</td>\n",
              "    </tr>\n",
              "    <tr>\n",
              "      <th>4</th>\n",
              "      <td>9237-HQITU</td>\n",
              "      <td>2</td>\n",
              "      <td>Yes</td>\n",
              "      <td>Month-to-month</td>\n",
              "      <td>Yes</td>\n",
              "      <td>Electronic check</td>\n",
              "      <td>70.70</td>\n",
              "      <td>151.65</td>\n",
              "      <td>Yes</td>\n",
              "      <td>Female</td>\n",
              "      <td>...</td>\n",
              "      <td>No</td>\n",
              "      <td>No</td>\n",
              "      <td>Fiber optic</td>\n",
              "      <td>No</td>\n",
              "      <td>No</td>\n",
              "      <td>No</td>\n",
              "      <td>No</td>\n",
              "      <td>No</td>\n",
              "      <td>No</td>\n",
              "      <td>2.144979</td>\n",
              "    </tr>\n",
              "    <tr>\n",
              "      <th>...</th>\n",
              "      <td>...</td>\n",
              "      <td>...</td>\n",
              "      <td>...</td>\n",
              "      <td>...</td>\n",
              "      <td>...</td>\n",
              "      <td>...</td>\n",
              "      <td>...</td>\n",
              "      <td>...</td>\n",
              "      <td>...</td>\n",
              "      <td>...</td>\n",
              "      <td>...</td>\n",
              "      <td>...</td>\n",
              "      <td>...</td>\n",
              "      <td>...</td>\n",
              "      <td>...</td>\n",
              "      <td>...</td>\n",
              "      <td>...</td>\n",
              "      <td>...</td>\n",
              "      <td>...</td>\n",
              "      <td>...</td>\n",
              "      <td>...</td>\n",
              "    </tr>\n",
              "    <tr>\n",
              "      <th>7037</th>\n",
              "      <td>2569-WGERO</td>\n",
              "      <td>72</td>\n",
              "      <td>Yes</td>\n",
              "      <td>Two year</td>\n",
              "      <td>Yes</td>\n",
              "      <td>Bank transfer (automatic)</td>\n",
              "      <td>21.15</td>\n",
              "      <td>1419.40</td>\n",
              "      <td>No</td>\n",
              "      <td>Female</td>\n",
              "      <td>...</td>\n",
              "      <td>No</td>\n",
              "      <td>No</td>\n",
              "      <td>No</td>\n",
              "      <td>No internet service</td>\n",
              "      <td>No internet service</td>\n",
              "      <td>No internet service</td>\n",
              "      <td>No internet service</td>\n",
              "      <td>No internet service</td>\n",
              "      <td>No internet service</td>\n",
              "      <td>67.111111</td>\n",
              "    </tr>\n",
              "    <tr>\n",
              "      <th>7038</th>\n",
              "      <td>6840-RESVB</td>\n",
              "      <td>24</td>\n",
              "      <td>Yes</td>\n",
              "      <td>One year</td>\n",
              "      <td>Yes</td>\n",
              "      <td>Mailed check</td>\n",
              "      <td>84.80</td>\n",
              "      <td>1990.50</td>\n",
              "      <td>No</td>\n",
              "      <td>Male</td>\n",
              "      <td>...</td>\n",
              "      <td>Yes</td>\n",
              "      <td>Yes</td>\n",
              "      <td>DSL</td>\n",
              "      <td>Yes</td>\n",
              "      <td>No</td>\n",
              "      <td>Yes</td>\n",
              "      <td>Yes</td>\n",
              "      <td>Yes</td>\n",
              "      <td>Yes</td>\n",
              "      <td>23.472877</td>\n",
              "    </tr>\n",
              "    <tr>\n",
              "      <th>7039</th>\n",
              "      <td>2234-XADUH</td>\n",
              "      <td>72</td>\n",
              "      <td>Yes</td>\n",
              "      <td>One year</td>\n",
              "      <td>Yes</td>\n",
              "      <td>Credit card (automatic)</td>\n",
              "      <td>103.20</td>\n",
              "      <td>7362.90</td>\n",
              "      <td>No</td>\n",
              "      <td>Female</td>\n",
              "      <td>...</td>\n",
              "      <td>Yes</td>\n",
              "      <td>Yes</td>\n",
              "      <td>Fiber optic</td>\n",
              "      <td>No</td>\n",
              "      <td>Yes</td>\n",
              "      <td>Yes</td>\n",
              "      <td>No</td>\n",
              "      <td>Yes</td>\n",
              "      <td>Yes</td>\n",
              "      <td>71.345930</td>\n",
              "    </tr>\n",
              "    <tr>\n",
              "      <th>7040</th>\n",
              "      <td>4801-JZAZL</td>\n",
              "      <td>11</td>\n",
              "      <td>No</td>\n",
              "      <td>Month-to-month</td>\n",
              "      <td>Yes</td>\n",
              "      <td>Electronic check</td>\n",
              "      <td>29.60</td>\n",
              "      <td>346.45</td>\n",
              "      <td>No</td>\n",
              "      <td>Female</td>\n",
              "      <td>...</td>\n",
              "      <td>Yes</td>\n",
              "      <td>No phone service</td>\n",
              "      <td>DSL</td>\n",
              "      <td>Yes</td>\n",
              "      <td>No</td>\n",
              "      <td>No</td>\n",
              "      <td>No</td>\n",
              "      <td>No</td>\n",
              "      <td>No</td>\n",
              "      <td>11.704392</td>\n",
              "    </tr>\n",
              "    <tr>\n",
              "      <th>7041</th>\n",
              "      <td>8361-LTMKD</td>\n",
              "      <td>4</td>\n",
              "      <td>Yes</td>\n",
              "      <td>Month-to-month</td>\n",
              "      <td>Yes</td>\n",
              "      <td>Mailed check</td>\n",
              "      <td>74.40</td>\n",
              "      <td>306.60</td>\n",
              "      <td>Yes</td>\n",
              "      <td>Male</td>\n",
              "      <td>...</td>\n",
              "      <td>No</td>\n",
              "      <td>Yes</td>\n",
              "      <td>Fiber optic</td>\n",
              "      <td>No</td>\n",
              "      <td>No</td>\n",
              "      <td>No</td>\n",
              "      <td>No</td>\n",
              "      <td>No</td>\n",
              "      <td>No</td>\n",
              "      <td>4.120968</td>\n",
              "    </tr>\n",
              "  </tbody>\n",
              "</table>\n",
              "<p>7042 rows × 22 columns</p>\n",
              "</div>\n",
              "    <div class=\"colab-df-buttons\">\n",
              "\n",
              "  <div class=\"colab-df-container\">\n",
              "    <button class=\"colab-df-convert\" onclick=\"convertToInteractive('df-7bc8fce7-8528-434b-9063-58118aec538a')\"\n",
              "            title=\"Convert this dataframe to an interactive table.\"\n",
              "            style=\"display:none;\">\n",
              "\n",
              "  <svg xmlns=\"http://www.w3.org/2000/svg\" height=\"24px\" viewBox=\"0 -960 960 960\">\n",
              "    <path d=\"M120-120v-720h720v720H120Zm60-500h600v-160H180v160Zm220 220h160v-160H400v160Zm0 220h160v-160H400v160ZM180-400h160v-160H180v160Zm440 0h160v-160H620v160ZM180-180h160v-160H180v160Zm440 0h160v-160H620v160Z\"/>\n",
              "  </svg>\n",
              "    </button>\n",
              "\n",
              "  <style>\n",
              "    .colab-df-container {\n",
              "      display:flex;\n",
              "      gap: 12px;\n",
              "    }\n",
              "\n",
              "    .colab-df-convert {\n",
              "      background-color: #E8F0FE;\n",
              "      border: none;\n",
              "      border-radius: 50%;\n",
              "      cursor: pointer;\n",
              "      display: none;\n",
              "      fill: #1967D2;\n",
              "      height: 32px;\n",
              "      padding: 0 0 0 0;\n",
              "      width: 32px;\n",
              "    }\n",
              "\n",
              "    .colab-df-convert:hover {\n",
              "      background-color: #E2EBFA;\n",
              "      box-shadow: 0px 1px 2px rgba(60, 64, 67, 0.3), 0px 1px 3px 1px rgba(60, 64, 67, 0.15);\n",
              "      fill: #174EA6;\n",
              "    }\n",
              "\n",
              "    .colab-df-buttons div {\n",
              "      margin-bottom: 4px;\n",
              "    }\n",
              "\n",
              "    [theme=dark] .colab-df-convert {\n",
              "      background-color: #3B4455;\n",
              "      fill: #D2E3FC;\n",
              "    }\n",
              "\n",
              "    [theme=dark] .colab-df-convert:hover {\n",
              "      background-color: #434B5C;\n",
              "      box-shadow: 0px 1px 3px 1px rgba(0, 0, 0, 0.15);\n",
              "      filter: drop-shadow(0px 1px 2px rgba(0, 0, 0, 0.3));\n",
              "      fill: #FFFFFF;\n",
              "    }\n",
              "  </style>\n",
              "\n",
              "    <script>\n",
              "      const buttonEl =\n",
              "        document.querySelector('#df-7bc8fce7-8528-434b-9063-58118aec538a button.colab-df-convert');\n",
              "      buttonEl.style.display =\n",
              "        google.colab.kernel.accessAllowed ? 'block' : 'none';\n",
              "\n",
              "      async function convertToInteractive(key) {\n",
              "        const element = document.querySelector('#df-7bc8fce7-8528-434b-9063-58118aec538a');\n",
              "        const dataTable =\n",
              "          await google.colab.kernel.invokeFunction('convertToInteractive',\n",
              "                                                    [key], {});\n",
              "        if (!dataTable) return;\n",
              "\n",
              "        const docLinkHtml = 'Like what you see? Visit the ' +\n",
              "          '<a target=\"_blank\" href=https://colab.research.google.com/notebooks/data_table.ipynb>data table notebook</a>'\n",
              "          + ' to learn more about interactive tables.';\n",
              "        element.innerHTML = '';\n",
              "        dataTable['output_type'] = 'display_data';\n",
              "        await google.colab.output.renderOutput(dataTable, element);\n",
              "        const docLink = document.createElement('div');\n",
              "        docLink.innerHTML = docLinkHtml;\n",
              "        element.appendChild(docLink);\n",
              "      }\n",
              "    </script>\n",
              "  </div>\n",
              "\n",
              "\n",
              "<div id=\"df-85123a36-8107-41cd-8339-10e1d3de0a5c\">\n",
              "  <button class=\"colab-df-quickchart\" onclick=\"quickchart('df-85123a36-8107-41cd-8339-10e1d3de0a5c')\"\n",
              "            title=\"Suggest charts.\"\n",
              "            style=\"display:none;\">\n",
              "\n",
              "<svg xmlns=\"http://www.w3.org/2000/svg\" height=\"24px\"viewBox=\"0 0 24 24\"\n",
              "     width=\"24px\">\n",
              "    <g>\n",
              "        <path d=\"M19 3H5c-1.1 0-2 .9-2 2v14c0 1.1.9 2 2 2h14c1.1 0 2-.9 2-2V5c0-1.1-.9-2-2-2zM9 17H7v-7h2v7zm4 0h-2V7h2v10zm4 0h-2v-4h2v4z\"/>\n",
              "    </g>\n",
              "</svg>\n",
              "  </button>\n",
              "\n",
              "<style>\n",
              "  .colab-df-quickchart {\n",
              "      --bg-color: #E8F0FE;\n",
              "      --fill-color: #1967D2;\n",
              "      --hover-bg-color: #E2EBFA;\n",
              "      --hover-fill-color: #174EA6;\n",
              "      --disabled-fill-color: #AAA;\n",
              "      --disabled-bg-color: #DDD;\n",
              "  }\n",
              "\n",
              "  [theme=dark] .colab-df-quickchart {\n",
              "      --bg-color: #3B4455;\n",
              "      --fill-color: #D2E3FC;\n",
              "      --hover-bg-color: #434B5C;\n",
              "      --hover-fill-color: #FFFFFF;\n",
              "      --disabled-bg-color: #3B4455;\n",
              "      --disabled-fill-color: #666;\n",
              "  }\n",
              "\n",
              "  .colab-df-quickchart {\n",
              "    background-color: var(--bg-color);\n",
              "    border: none;\n",
              "    border-radius: 50%;\n",
              "    cursor: pointer;\n",
              "    display: none;\n",
              "    fill: var(--fill-color);\n",
              "    height: 32px;\n",
              "    padding: 0;\n",
              "    width: 32px;\n",
              "  }\n",
              "\n",
              "  .colab-df-quickchart:hover {\n",
              "    background-color: var(--hover-bg-color);\n",
              "    box-shadow: 0 1px 2px rgba(60, 64, 67, 0.3), 0 1px 3px 1px rgba(60, 64, 67, 0.15);\n",
              "    fill: var(--button-hover-fill-color);\n",
              "  }\n",
              "\n",
              "  .colab-df-quickchart-complete:disabled,\n",
              "  .colab-df-quickchart-complete:disabled:hover {\n",
              "    background-color: var(--disabled-bg-color);\n",
              "    fill: var(--disabled-fill-color);\n",
              "    box-shadow: none;\n",
              "  }\n",
              "\n",
              "  .colab-df-spinner {\n",
              "    border: 2px solid var(--fill-color);\n",
              "    border-color: transparent;\n",
              "    border-bottom-color: var(--fill-color);\n",
              "    animation:\n",
              "      spin 1s steps(1) infinite;\n",
              "  }\n",
              "\n",
              "  @keyframes spin {\n",
              "    0% {\n",
              "      border-color: transparent;\n",
              "      border-bottom-color: var(--fill-color);\n",
              "      border-left-color: var(--fill-color);\n",
              "    }\n",
              "    20% {\n",
              "      border-color: transparent;\n",
              "      border-left-color: var(--fill-color);\n",
              "      border-top-color: var(--fill-color);\n",
              "    }\n",
              "    30% {\n",
              "      border-color: transparent;\n",
              "      border-left-color: var(--fill-color);\n",
              "      border-top-color: var(--fill-color);\n",
              "      border-right-color: var(--fill-color);\n",
              "    }\n",
              "    40% {\n",
              "      border-color: transparent;\n",
              "      border-right-color: var(--fill-color);\n",
              "      border-top-color: var(--fill-color);\n",
              "    }\n",
              "    60% {\n",
              "      border-color: transparent;\n",
              "      border-right-color: var(--fill-color);\n",
              "    }\n",
              "    80% {\n",
              "      border-color: transparent;\n",
              "      border-right-color: var(--fill-color);\n",
              "      border-bottom-color: var(--fill-color);\n",
              "    }\n",
              "    90% {\n",
              "      border-color: transparent;\n",
              "      border-bottom-color: var(--fill-color);\n",
              "    }\n",
              "  }\n",
              "</style>\n",
              "\n",
              "  <script>\n",
              "    async function quickchart(key) {\n",
              "      const quickchartButtonEl =\n",
              "        document.querySelector('#' + key + ' button');\n",
              "      quickchartButtonEl.disabled = true;  // To prevent multiple clicks.\n",
              "      quickchartButtonEl.classList.add('colab-df-spinner');\n",
              "      try {\n",
              "        const charts = await google.colab.kernel.invokeFunction(\n",
              "            'suggestCharts', [key], {});\n",
              "      } catch (error) {\n",
              "        console.error('Error during call to suggestCharts:', error);\n",
              "      }\n",
              "      quickchartButtonEl.classList.remove('colab-df-spinner');\n",
              "      quickchartButtonEl.classList.add('colab-df-quickchart-complete');\n",
              "    }\n",
              "    (() => {\n",
              "      let quickchartButtonEl =\n",
              "        document.querySelector('#df-85123a36-8107-41cd-8339-10e1d3de0a5c button');\n",
              "      quickchartButtonEl.style.display =\n",
              "        google.colab.kernel.accessAllowed ? 'block' : 'none';\n",
              "    })();\n",
              "  </script>\n",
              "</div>\n",
              "\n",
              "    </div>\n",
              "  </div>\n"
            ]
          },
          "metadata": {},
          "execution_count": 11
        }
      ],
      "source": [
        "# Try your code\n",
        "from solution_6_18 import *\n",
        "\n",
        "create_ChargeRatio()\n"
      ]
    },
    {
      "cell_type": "markdown",
      "metadata": {
        "id": "KmzEIUfrBdu_"
      },
      "source": [
        "#### Test 6.18"
      ]
    },
    {
      "cell_type": "code",
      "execution_count": null,
      "metadata": {
        "colab": {
          "base_uri": "https://localhost:8080/"
        },
        "id": "-Cewi7vrBdvA",
        "outputId": "323ea5ba-e085-48eb-9ee4-ef9b95bb8420"
      },
      "outputs": [
        {
          "output_type": "stream",
          "name": "stdout",
          "text": [
            "Overwriting test/test_6_18.py\n"
          ]
        }
      ],
      "source": [
        "%%writefile test/test_6_18.py\n",
        "from solution_6_18 import *\n",
        "import pandas as pd\n",
        "\n",
        "def test_6_18():\n",
        "    df_churn=pd.read_csv(\"/data/IFI8410/churn_data.csv\")\n",
        "    df_customer=pd.read_csv(\"/data/IFI8410/customer_data.csv\")\n",
        "    df_internet=pd.read_csv(\"/data/IFI8410/internet_data.csv\")\n",
        "\n",
        "    merged_data = pd.merge(df_churn, df_customer, on='customerID', how='inner')\n",
        "    merged_data = pd.merge(merged_data, df_internet, on='customerID', how='inner')\n",
        "    merged_data['TotalCharges'] = pd.to_numeric(merged_data['TotalCharges'], errors='coerce')\n",
        "    merged_data['ChargeRatio'] = merged_data['TotalCharges'] / merged_data['MonthlyCharges']\n",
        "    mean_ratio = merged_data['ChargeRatio'].mean()\n",
        "    merged_data['ChargeRatio'].fillna(mean_ratio, inplace=True)\n",
        "    result = create_ChargeRatio()\n",
        "    assert result.equals(merged_data), \"Incorrect result\""
      ]
    },
    {
      "cell_type": "markdown",
      "metadata": {
        "id": "cE4yK4gQBdvA"
      },
      "source": [
        "### 6.19 Melt dataframe\n",
        "Instructions\n",
        "Write a function melt_data() where you:\n",
        "1. Melt the merged DataFrame resulting from problem 6.15 by keeping 'customerID' as the ID variable and all other columns as value variables.\n",
        "2. Stack the melted DataFrame to create a multi-level indexed Series.\n",
        "3. Return the stacked melted dataframe"
      ]
    },
    {
      "cell_type": "markdown",
      "metadata": {
        "id": "j18V-h-lBdvA"
      },
      "source": [
        "Save your solution to `solution_6_19.py`"
      ]
    },
    {
      "cell_type": "code",
      "execution_count": null,
      "metadata": {
        "colab": {
          "base_uri": "https://localhost:8080/"
        },
        "id": "RZsuqBAnBdvA",
        "outputId": "a5286193-04d3-4537-db04-1d677028dad5"
      },
      "outputs": [
        {
          "output_type": "stream",
          "name": "stdout",
          "text": [
            "Overwriting solution_6_19.py\n"
          ]
        }
      ],
      "source": [
        "%%writefile solution_6_19.py\n",
        "### your code here\n",
        "from solution_6_15 import *\n",
        "\n",
        "def melt_data():\n",
        "  merged_data = join_dataframes()\n",
        "  grouped_data = merged_data.groupby('Contract').agg({'MonthlyCharges': [\"mean\", \"median\"] })\n",
        "  return grouped_data"
      ]
    },
    {
      "cell_type": "code",
      "execution_count": null,
      "metadata": {
        "colab": {
          "base_uri": "https://localhost:8080/",
          "height": 204
        },
        "id": "0RbEfCwYBdvA",
        "outputId": "4ecc2431-6067-4688-fee5-d7d91fe3d3d0"
      },
      "outputs": [
        {
          "output_type": "execute_result",
          "data": {
            "text/plain": [
              "               MonthlyCharges       \n",
              "                         mean median\n",
              "Contract                            \n",
              "Month-to-month      66.398490  73.25\n",
              "One year            65.048608  68.75\n",
              "Two year            60.743920  64.30"
            ],
            "text/html": [
              "\n",
              "  <div id=\"df-15e77d9c-f399-401f-b31c-cd60c471b9d0\" class=\"colab-df-container\">\n",
              "    <div>\n",
              "<style scoped>\n",
              "    .dataframe tbody tr th:only-of-type {\n",
              "        vertical-align: middle;\n",
              "    }\n",
              "\n",
              "    .dataframe tbody tr th {\n",
              "        vertical-align: top;\n",
              "    }\n",
              "\n",
              "    .dataframe thead tr th {\n",
              "        text-align: left;\n",
              "    }\n",
              "\n",
              "    .dataframe thead tr:last-of-type th {\n",
              "        text-align: right;\n",
              "    }\n",
              "</style>\n",
              "<table border=\"1\" class=\"dataframe\">\n",
              "  <thead>\n",
              "    <tr>\n",
              "      <th></th>\n",
              "      <th colspan=\"2\" halign=\"left\">MonthlyCharges</th>\n",
              "    </tr>\n",
              "    <tr>\n",
              "      <th></th>\n",
              "      <th>mean</th>\n",
              "      <th>median</th>\n",
              "    </tr>\n",
              "    <tr>\n",
              "      <th>Contract</th>\n",
              "      <th></th>\n",
              "      <th></th>\n",
              "    </tr>\n",
              "  </thead>\n",
              "  <tbody>\n",
              "    <tr>\n",
              "      <th>Month-to-month</th>\n",
              "      <td>66.398490</td>\n",
              "      <td>73.25</td>\n",
              "    </tr>\n",
              "    <tr>\n",
              "      <th>One year</th>\n",
              "      <td>65.048608</td>\n",
              "      <td>68.75</td>\n",
              "    </tr>\n",
              "    <tr>\n",
              "      <th>Two year</th>\n",
              "      <td>60.743920</td>\n",
              "      <td>64.30</td>\n",
              "    </tr>\n",
              "  </tbody>\n",
              "</table>\n",
              "</div>\n",
              "    <div class=\"colab-df-buttons\">\n",
              "\n",
              "  <div class=\"colab-df-container\">\n",
              "    <button class=\"colab-df-convert\" onclick=\"convertToInteractive('df-15e77d9c-f399-401f-b31c-cd60c471b9d0')\"\n",
              "            title=\"Convert this dataframe to an interactive table.\"\n",
              "            style=\"display:none;\">\n",
              "\n",
              "  <svg xmlns=\"http://www.w3.org/2000/svg\" height=\"24px\" viewBox=\"0 -960 960 960\">\n",
              "    <path d=\"M120-120v-720h720v720H120Zm60-500h600v-160H180v160Zm220 220h160v-160H400v160Zm0 220h160v-160H400v160ZM180-400h160v-160H180v160Zm440 0h160v-160H620v160ZM180-180h160v-160H180v160Zm440 0h160v-160H620v160Z\"/>\n",
              "  </svg>\n",
              "    </button>\n",
              "\n",
              "  <style>\n",
              "    .colab-df-container {\n",
              "      display:flex;\n",
              "      gap: 12px;\n",
              "    }\n",
              "\n",
              "    .colab-df-convert {\n",
              "      background-color: #E8F0FE;\n",
              "      border: none;\n",
              "      border-radius: 50%;\n",
              "      cursor: pointer;\n",
              "      display: none;\n",
              "      fill: #1967D2;\n",
              "      height: 32px;\n",
              "      padding: 0 0 0 0;\n",
              "      width: 32px;\n",
              "    }\n",
              "\n",
              "    .colab-df-convert:hover {\n",
              "      background-color: #E2EBFA;\n",
              "      box-shadow: 0px 1px 2px rgba(60, 64, 67, 0.3), 0px 1px 3px 1px rgba(60, 64, 67, 0.15);\n",
              "      fill: #174EA6;\n",
              "    }\n",
              "\n",
              "    .colab-df-buttons div {\n",
              "      margin-bottom: 4px;\n",
              "    }\n",
              "\n",
              "    [theme=dark] .colab-df-convert {\n",
              "      background-color: #3B4455;\n",
              "      fill: #D2E3FC;\n",
              "    }\n",
              "\n",
              "    [theme=dark] .colab-df-convert:hover {\n",
              "      background-color: #434B5C;\n",
              "      box-shadow: 0px 1px 3px 1px rgba(0, 0, 0, 0.15);\n",
              "      filter: drop-shadow(0px 1px 2px rgba(0, 0, 0, 0.3));\n",
              "      fill: #FFFFFF;\n",
              "    }\n",
              "  </style>\n",
              "\n",
              "    <script>\n",
              "      const buttonEl =\n",
              "        document.querySelector('#df-15e77d9c-f399-401f-b31c-cd60c471b9d0 button.colab-df-convert');\n",
              "      buttonEl.style.display =\n",
              "        google.colab.kernel.accessAllowed ? 'block' : 'none';\n",
              "\n",
              "      async function convertToInteractive(key) {\n",
              "        const element = document.querySelector('#df-15e77d9c-f399-401f-b31c-cd60c471b9d0');\n",
              "        const dataTable =\n",
              "          await google.colab.kernel.invokeFunction('convertToInteractive',\n",
              "                                                    [key], {});\n",
              "        if (!dataTable) return;\n",
              "\n",
              "        const docLinkHtml = 'Like what you see? Visit the ' +\n",
              "          '<a target=\"_blank\" href=https://colab.research.google.com/notebooks/data_table.ipynb>data table notebook</a>'\n",
              "          + ' to learn more about interactive tables.';\n",
              "        element.innerHTML = '';\n",
              "        dataTable['output_type'] = 'display_data';\n",
              "        await google.colab.output.renderOutput(dataTable, element);\n",
              "        const docLink = document.createElement('div');\n",
              "        docLink.innerHTML = docLinkHtml;\n",
              "        element.appendChild(docLink);\n",
              "      }\n",
              "    </script>\n",
              "  </div>\n",
              "\n",
              "\n",
              "<div id=\"df-9eea4b87-acdf-4a7e-acbf-77d05e931b6c\">\n",
              "  <button class=\"colab-df-quickchart\" onclick=\"quickchart('df-9eea4b87-acdf-4a7e-acbf-77d05e931b6c')\"\n",
              "            title=\"Suggest charts.\"\n",
              "            style=\"display:none;\">\n",
              "\n",
              "<svg xmlns=\"http://www.w3.org/2000/svg\" height=\"24px\"viewBox=\"0 0 24 24\"\n",
              "     width=\"24px\">\n",
              "    <g>\n",
              "        <path d=\"M19 3H5c-1.1 0-2 .9-2 2v14c0 1.1.9 2 2 2h14c1.1 0 2-.9 2-2V5c0-1.1-.9-2-2-2zM9 17H7v-7h2v7zm4 0h-2V7h2v10zm4 0h-2v-4h2v4z\"/>\n",
              "    </g>\n",
              "</svg>\n",
              "  </button>\n",
              "\n",
              "<style>\n",
              "  .colab-df-quickchart {\n",
              "      --bg-color: #E8F0FE;\n",
              "      --fill-color: #1967D2;\n",
              "      --hover-bg-color: #E2EBFA;\n",
              "      --hover-fill-color: #174EA6;\n",
              "      --disabled-fill-color: #AAA;\n",
              "      --disabled-bg-color: #DDD;\n",
              "  }\n",
              "\n",
              "  [theme=dark] .colab-df-quickchart {\n",
              "      --bg-color: #3B4455;\n",
              "      --fill-color: #D2E3FC;\n",
              "      --hover-bg-color: #434B5C;\n",
              "      --hover-fill-color: #FFFFFF;\n",
              "      --disabled-bg-color: #3B4455;\n",
              "      --disabled-fill-color: #666;\n",
              "  }\n",
              "\n",
              "  .colab-df-quickchart {\n",
              "    background-color: var(--bg-color);\n",
              "    border: none;\n",
              "    border-radius: 50%;\n",
              "    cursor: pointer;\n",
              "    display: none;\n",
              "    fill: var(--fill-color);\n",
              "    height: 32px;\n",
              "    padding: 0;\n",
              "    width: 32px;\n",
              "  }\n",
              "\n",
              "  .colab-df-quickchart:hover {\n",
              "    background-color: var(--hover-bg-color);\n",
              "    box-shadow: 0 1px 2px rgba(60, 64, 67, 0.3), 0 1px 3px 1px rgba(60, 64, 67, 0.15);\n",
              "    fill: var(--button-hover-fill-color);\n",
              "  }\n",
              "\n",
              "  .colab-df-quickchart-complete:disabled,\n",
              "  .colab-df-quickchart-complete:disabled:hover {\n",
              "    background-color: var(--disabled-bg-color);\n",
              "    fill: var(--disabled-fill-color);\n",
              "    box-shadow: none;\n",
              "  }\n",
              "\n",
              "  .colab-df-spinner {\n",
              "    border: 2px solid var(--fill-color);\n",
              "    border-color: transparent;\n",
              "    border-bottom-color: var(--fill-color);\n",
              "    animation:\n",
              "      spin 1s steps(1) infinite;\n",
              "  }\n",
              "\n",
              "  @keyframes spin {\n",
              "    0% {\n",
              "      border-color: transparent;\n",
              "      border-bottom-color: var(--fill-color);\n",
              "      border-left-color: var(--fill-color);\n",
              "    }\n",
              "    20% {\n",
              "      border-color: transparent;\n",
              "      border-left-color: var(--fill-color);\n",
              "      border-top-color: var(--fill-color);\n",
              "    }\n",
              "    30% {\n",
              "      border-color: transparent;\n",
              "      border-left-color: var(--fill-color);\n",
              "      border-top-color: var(--fill-color);\n",
              "      border-right-color: var(--fill-color);\n",
              "    }\n",
              "    40% {\n",
              "      border-color: transparent;\n",
              "      border-right-color: var(--fill-color);\n",
              "      border-top-color: var(--fill-color);\n",
              "    }\n",
              "    60% {\n",
              "      border-color: transparent;\n",
              "      border-right-color: var(--fill-color);\n",
              "    }\n",
              "    80% {\n",
              "      border-color: transparent;\n",
              "      border-right-color: var(--fill-color);\n",
              "      border-bottom-color: var(--fill-color);\n",
              "    }\n",
              "    90% {\n",
              "      border-color: transparent;\n",
              "      border-bottom-color: var(--fill-color);\n",
              "    }\n",
              "  }\n",
              "</style>\n",
              "\n",
              "  <script>\n",
              "    async function quickchart(key) {\n",
              "      const quickchartButtonEl =\n",
              "        document.querySelector('#' + key + ' button');\n",
              "      quickchartButtonEl.disabled = true;  // To prevent multiple clicks.\n",
              "      quickchartButtonEl.classList.add('colab-df-spinner');\n",
              "      try {\n",
              "        const charts = await google.colab.kernel.invokeFunction(\n",
              "            'suggestCharts', [key], {});\n",
              "      } catch (error) {\n",
              "        console.error('Error during call to suggestCharts:', error);\n",
              "      }\n",
              "      quickchartButtonEl.classList.remove('colab-df-spinner');\n",
              "      quickchartButtonEl.classList.add('colab-df-quickchart-complete');\n",
              "    }\n",
              "    (() => {\n",
              "      let quickchartButtonEl =\n",
              "        document.querySelector('#df-9eea4b87-acdf-4a7e-acbf-77d05e931b6c button');\n",
              "      quickchartButtonEl.style.display =\n",
              "        google.colab.kernel.accessAllowed ? 'block' : 'none';\n",
              "    })();\n",
              "  </script>\n",
              "</div>\n",
              "\n",
              "    </div>\n",
              "  </div>\n"
            ]
          },
          "metadata": {},
          "execution_count": 14
        }
      ],
      "source": [
        "# Try your code\n",
        "from solution_6_19 import *\n",
        "melt_data()"
      ]
    },
    {
      "cell_type": "markdown",
      "metadata": {
        "id": "ncCOq7raBdvA"
      },
      "source": [
        "#### Test 6.19"
      ]
    },
    {
      "cell_type": "code",
      "execution_count": null,
      "metadata": {
        "colab": {
          "base_uri": "https://localhost:8080/"
        },
        "id": "-lXU4xS_BdvA",
        "outputId": "05e8a2f5-3a14-49ca-a9f2-8e47b88235fb"
      },
      "outputs": [
        {
          "output_type": "stream",
          "name": "stdout",
          "text": [
            "Overwriting test/test_6_19.py\n"
          ]
        }
      ],
      "source": [
        "%%writefile test/test_6_19.py\n",
        "from solution_6_19 import *\n",
        "import pandas as pd\n",
        "\n",
        "def test_6_19():\n",
        "    df_churn=pd.read_csv(\"/data/IFI8410/churn_data.csv\")\n",
        "    df_customer=pd.read_csv(\"/data/IFI8410/customer_data.csv\")\n",
        "    df_internet=pd.read_csv(\"/data/IFI8410/internet_data.csv\")\n",
        "\n",
        "    merged_data = pd.merge(df_churn, df_customer, on='customerID', how='inner')\n",
        "    merged_data = pd.merge(merged_data, df_internet, on='customerID', how='inner')\n",
        "\n",
        "    result = melt_data()\n",
        "    assert result.equals(merged_data.groupby('Contract').agg({'MonthlyCharges': [\"mean\", \"median\"] })), \"Incorrect result\""
      ]
    },
    {
      "cell_type": "markdown",
      "metadata": {
        "id": "9jqpWhndBdvA"
      },
      "source": [
        "### 6.20 Grouping and Aggregating\n",
        "Instructions\n",
        "Write a function calculate_charges() where you:\n",
        "1. Group the merged_data DataFrame resulting form problem 6.15 by both 'Contract' and 'Churn'.\n",
        "2. Calculate the average 'MonthlyCharges' and the median 'TotalCharges' for each combination of 'Contract' and 'Churn'.\n",
        "3. Return the new dataframe"
      ]
    },
    {
      "cell_type": "markdown",
      "metadata": {
        "id": "tNT7qv6dBdvB"
      },
      "source": [
        "Save your solution to `solution_6_20.py`"
      ]
    },
    {
      "cell_type": "code",
      "execution_count": null,
      "metadata": {
        "colab": {
          "base_uri": "https://localhost:8080/"
        },
        "id": "L4wwYiCbBdvB",
        "outputId": "e44b05f0-41a6-4e5f-fd15-20b24fbc2a78"
      },
      "outputs": [
        {
          "output_type": "stream",
          "name": "stdout",
          "text": [
            "Overwriting solution_6_20.py\n"
          ]
        }
      ],
      "source": [
        "%%writefile solution_6_20.py\n",
        "from solution_6_15 import *\n",
        "import pandas as pd\n",
        "\n",
        "### your code here\n",
        "def calculate_charges():\n",
        "  merged_data = join_dataframes()\n",
        "  merged_data['TotalCharges'] = pd.to_numeric(merged_data['TotalCharges'], errors='coerce')\n",
        "  grouped_data = merged_data.groupby(['Contract', 'Churn']).agg({'MonthlyCharges': 'mean', 'TotalCharges': 'median'})\n",
        "  return grouped_data\n"
      ]
    },
    {
      "cell_type": "code",
      "execution_count": null,
      "metadata": {
        "colab": {
          "base_uri": "https://localhost:8080/",
          "height": 266
        },
        "id": "x7AcB58OBdvB",
        "outputId": "17ac582e-3c99-453f-83a3-7e2660c02fcc"
      },
      "outputs": [
        {
          "output_type": "execute_result",
          "data": {
            "text/plain": [
              "                      MonthlyCharges  TotalCharges\n",
              "Contract       Churn                              \n",
              "Month-to-month No          61.462635       830.525\n",
              "               Yes         73.019396       514.000\n",
              "One year       No          62.508148      2477.300\n",
              "               Yes         85.050904      4098.525\n",
              "Two year       No          59.984751      3524.825\n",
              "               Yes         86.777083      5874.250"
            ],
            "text/html": [
              "\n",
              "  <div id=\"df-40fceb7d-e499-4bf3-a08e-46e826add8a8\" class=\"colab-df-container\">\n",
              "    <div>\n",
              "<style scoped>\n",
              "    .dataframe tbody tr th:only-of-type {\n",
              "        vertical-align: middle;\n",
              "    }\n",
              "\n",
              "    .dataframe tbody tr th {\n",
              "        vertical-align: top;\n",
              "    }\n",
              "\n",
              "    .dataframe thead th {\n",
              "        text-align: right;\n",
              "    }\n",
              "</style>\n",
              "<table border=\"1\" class=\"dataframe\">\n",
              "  <thead>\n",
              "    <tr style=\"text-align: right;\">\n",
              "      <th></th>\n",
              "      <th></th>\n",
              "      <th>MonthlyCharges</th>\n",
              "      <th>TotalCharges</th>\n",
              "    </tr>\n",
              "    <tr>\n",
              "      <th>Contract</th>\n",
              "      <th>Churn</th>\n",
              "      <th></th>\n",
              "      <th></th>\n",
              "    </tr>\n",
              "  </thead>\n",
              "  <tbody>\n",
              "    <tr>\n",
              "      <th rowspan=\"2\" valign=\"top\">Month-to-month</th>\n",
              "      <th>No</th>\n",
              "      <td>61.462635</td>\n",
              "      <td>830.525</td>\n",
              "    </tr>\n",
              "    <tr>\n",
              "      <th>Yes</th>\n",
              "      <td>73.019396</td>\n",
              "      <td>514.000</td>\n",
              "    </tr>\n",
              "    <tr>\n",
              "      <th rowspan=\"2\" valign=\"top\">One year</th>\n",
              "      <th>No</th>\n",
              "      <td>62.508148</td>\n",
              "      <td>2477.300</td>\n",
              "    </tr>\n",
              "    <tr>\n",
              "      <th>Yes</th>\n",
              "      <td>85.050904</td>\n",
              "      <td>4098.525</td>\n",
              "    </tr>\n",
              "    <tr>\n",
              "      <th rowspan=\"2\" valign=\"top\">Two year</th>\n",
              "      <th>No</th>\n",
              "      <td>59.984751</td>\n",
              "      <td>3524.825</td>\n",
              "    </tr>\n",
              "    <tr>\n",
              "      <th>Yes</th>\n",
              "      <td>86.777083</td>\n",
              "      <td>5874.250</td>\n",
              "    </tr>\n",
              "  </tbody>\n",
              "</table>\n",
              "</div>\n",
              "    <div class=\"colab-df-buttons\">\n",
              "\n",
              "  <div class=\"colab-df-container\">\n",
              "    <button class=\"colab-df-convert\" onclick=\"convertToInteractive('df-40fceb7d-e499-4bf3-a08e-46e826add8a8')\"\n",
              "            title=\"Convert this dataframe to an interactive table.\"\n",
              "            style=\"display:none;\">\n",
              "\n",
              "  <svg xmlns=\"http://www.w3.org/2000/svg\" height=\"24px\" viewBox=\"0 -960 960 960\">\n",
              "    <path d=\"M120-120v-720h720v720H120Zm60-500h600v-160H180v160Zm220 220h160v-160H400v160Zm0 220h160v-160H400v160ZM180-400h160v-160H180v160Zm440 0h160v-160H620v160ZM180-180h160v-160H180v160Zm440 0h160v-160H620v160Z\"/>\n",
              "  </svg>\n",
              "    </button>\n",
              "\n",
              "  <style>\n",
              "    .colab-df-container {\n",
              "      display:flex;\n",
              "      gap: 12px;\n",
              "    }\n",
              "\n",
              "    .colab-df-convert {\n",
              "      background-color: #E8F0FE;\n",
              "      border: none;\n",
              "      border-radius: 50%;\n",
              "      cursor: pointer;\n",
              "      display: none;\n",
              "      fill: #1967D2;\n",
              "      height: 32px;\n",
              "      padding: 0 0 0 0;\n",
              "      width: 32px;\n",
              "    }\n",
              "\n",
              "    .colab-df-convert:hover {\n",
              "      background-color: #E2EBFA;\n",
              "      box-shadow: 0px 1px 2px rgba(60, 64, 67, 0.3), 0px 1px 3px 1px rgba(60, 64, 67, 0.15);\n",
              "      fill: #174EA6;\n",
              "    }\n",
              "\n",
              "    .colab-df-buttons div {\n",
              "      margin-bottom: 4px;\n",
              "    }\n",
              "\n",
              "    [theme=dark] .colab-df-convert {\n",
              "      background-color: #3B4455;\n",
              "      fill: #D2E3FC;\n",
              "    }\n",
              "\n",
              "    [theme=dark] .colab-df-convert:hover {\n",
              "      background-color: #434B5C;\n",
              "      box-shadow: 0px 1px 3px 1px rgba(0, 0, 0, 0.15);\n",
              "      filter: drop-shadow(0px 1px 2px rgba(0, 0, 0, 0.3));\n",
              "      fill: #FFFFFF;\n",
              "    }\n",
              "  </style>\n",
              "\n",
              "    <script>\n",
              "      const buttonEl =\n",
              "        document.querySelector('#df-40fceb7d-e499-4bf3-a08e-46e826add8a8 button.colab-df-convert');\n",
              "      buttonEl.style.display =\n",
              "        google.colab.kernel.accessAllowed ? 'block' : 'none';\n",
              "\n",
              "      async function convertToInteractive(key) {\n",
              "        const element = document.querySelector('#df-40fceb7d-e499-4bf3-a08e-46e826add8a8');\n",
              "        const dataTable =\n",
              "          await google.colab.kernel.invokeFunction('convertToInteractive',\n",
              "                                                    [key], {});\n",
              "        if (!dataTable) return;\n",
              "\n",
              "        const docLinkHtml = 'Like what you see? Visit the ' +\n",
              "          '<a target=\"_blank\" href=https://colab.research.google.com/notebooks/data_table.ipynb>data table notebook</a>'\n",
              "          + ' to learn more about interactive tables.';\n",
              "        element.innerHTML = '';\n",
              "        dataTable['output_type'] = 'display_data';\n",
              "        await google.colab.output.renderOutput(dataTable, element);\n",
              "        const docLink = document.createElement('div');\n",
              "        docLink.innerHTML = docLinkHtml;\n",
              "        element.appendChild(docLink);\n",
              "      }\n",
              "    </script>\n",
              "  </div>\n",
              "\n",
              "\n",
              "<div id=\"df-5176da4e-dd92-4ddd-b93b-7b2f26833e73\">\n",
              "  <button class=\"colab-df-quickchart\" onclick=\"quickchart('df-5176da4e-dd92-4ddd-b93b-7b2f26833e73')\"\n",
              "            title=\"Suggest charts.\"\n",
              "            style=\"display:none;\">\n",
              "\n",
              "<svg xmlns=\"http://www.w3.org/2000/svg\" height=\"24px\"viewBox=\"0 0 24 24\"\n",
              "     width=\"24px\">\n",
              "    <g>\n",
              "        <path d=\"M19 3H5c-1.1 0-2 .9-2 2v14c0 1.1.9 2 2 2h14c1.1 0 2-.9 2-2V5c0-1.1-.9-2-2-2zM9 17H7v-7h2v7zm4 0h-2V7h2v10zm4 0h-2v-4h2v4z\"/>\n",
              "    </g>\n",
              "</svg>\n",
              "  </button>\n",
              "\n",
              "<style>\n",
              "  .colab-df-quickchart {\n",
              "      --bg-color: #E8F0FE;\n",
              "      --fill-color: #1967D2;\n",
              "      --hover-bg-color: #E2EBFA;\n",
              "      --hover-fill-color: #174EA6;\n",
              "      --disabled-fill-color: #AAA;\n",
              "      --disabled-bg-color: #DDD;\n",
              "  }\n",
              "\n",
              "  [theme=dark] .colab-df-quickchart {\n",
              "      --bg-color: #3B4455;\n",
              "      --fill-color: #D2E3FC;\n",
              "      --hover-bg-color: #434B5C;\n",
              "      --hover-fill-color: #FFFFFF;\n",
              "      --disabled-bg-color: #3B4455;\n",
              "      --disabled-fill-color: #666;\n",
              "  }\n",
              "\n",
              "  .colab-df-quickchart {\n",
              "    background-color: var(--bg-color);\n",
              "    border: none;\n",
              "    border-radius: 50%;\n",
              "    cursor: pointer;\n",
              "    display: none;\n",
              "    fill: var(--fill-color);\n",
              "    height: 32px;\n",
              "    padding: 0;\n",
              "    width: 32px;\n",
              "  }\n",
              "\n",
              "  .colab-df-quickchart:hover {\n",
              "    background-color: var(--hover-bg-color);\n",
              "    box-shadow: 0 1px 2px rgba(60, 64, 67, 0.3), 0 1px 3px 1px rgba(60, 64, 67, 0.15);\n",
              "    fill: var(--button-hover-fill-color);\n",
              "  }\n",
              "\n",
              "  .colab-df-quickchart-complete:disabled,\n",
              "  .colab-df-quickchart-complete:disabled:hover {\n",
              "    background-color: var(--disabled-bg-color);\n",
              "    fill: var(--disabled-fill-color);\n",
              "    box-shadow: none;\n",
              "  }\n",
              "\n",
              "  .colab-df-spinner {\n",
              "    border: 2px solid var(--fill-color);\n",
              "    border-color: transparent;\n",
              "    border-bottom-color: var(--fill-color);\n",
              "    animation:\n",
              "      spin 1s steps(1) infinite;\n",
              "  }\n",
              "\n",
              "  @keyframes spin {\n",
              "    0% {\n",
              "      border-color: transparent;\n",
              "      border-bottom-color: var(--fill-color);\n",
              "      border-left-color: var(--fill-color);\n",
              "    }\n",
              "    20% {\n",
              "      border-color: transparent;\n",
              "      border-left-color: var(--fill-color);\n",
              "      border-top-color: var(--fill-color);\n",
              "    }\n",
              "    30% {\n",
              "      border-color: transparent;\n",
              "      border-left-color: var(--fill-color);\n",
              "      border-top-color: var(--fill-color);\n",
              "      border-right-color: var(--fill-color);\n",
              "    }\n",
              "    40% {\n",
              "      border-color: transparent;\n",
              "      border-right-color: var(--fill-color);\n",
              "      border-top-color: var(--fill-color);\n",
              "    }\n",
              "    60% {\n",
              "      border-color: transparent;\n",
              "      border-right-color: var(--fill-color);\n",
              "    }\n",
              "    80% {\n",
              "      border-color: transparent;\n",
              "      border-right-color: var(--fill-color);\n",
              "      border-bottom-color: var(--fill-color);\n",
              "    }\n",
              "    90% {\n",
              "      border-color: transparent;\n",
              "      border-bottom-color: var(--fill-color);\n",
              "    }\n",
              "  }\n",
              "</style>\n",
              "\n",
              "  <script>\n",
              "    async function quickchart(key) {\n",
              "      const quickchartButtonEl =\n",
              "        document.querySelector('#' + key + ' button');\n",
              "      quickchartButtonEl.disabled = true;  // To prevent multiple clicks.\n",
              "      quickchartButtonEl.classList.add('colab-df-spinner');\n",
              "      try {\n",
              "        const charts = await google.colab.kernel.invokeFunction(\n",
              "            'suggestCharts', [key], {});\n",
              "      } catch (error) {\n",
              "        console.error('Error during call to suggestCharts:', error);\n",
              "      }\n",
              "      quickchartButtonEl.classList.remove('colab-df-spinner');\n",
              "      quickchartButtonEl.classList.add('colab-df-quickchart-complete');\n",
              "    }\n",
              "    (() => {\n",
              "      let quickchartButtonEl =\n",
              "        document.querySelector('#df-5176da4e-dd92-4ddd-b93b-7b2f26833e73 button');\n",
              "      quickchartButtonEl.style.display =\n",
              "        google.colab.kernel.accessAllowed ? 'block' : 'none';\n",
              "    })();\n",
              "  </script>\n",
              "</div>\n",
              "\n",
              "    </div>\n",
              "  </div>\n"
            ]
          },
          "metadata": {},
          "execution_count": 17
        }
      ],
      "source": [
        "# Try your code\n",
        "from solution_6_20 import *\n",
        "calculate_charges()"
      ]
    },
    {
      "cell_type": "markdown",
      "metadata": {
        "id": "VDmJFcQfBdvB"
      },
      "source": [
        "#### Test 6.20"
      ]
    },
    {
      "cell_type": "code",
      "execution_count": null,
      "metadata": {
        "colab": {
          "base_uri": "https://localhost:8080/"
        },
        "id": "LJazbNFXBdvB",
        "outputId": "4ef89e36-679c-47f2-d38a-0c924852e2ab"
      },
      "outputs": [
        {
          "output_type": "stream",
          "name": "stdout",
          "text": [
            "Overwriting test/test_6_20.py\n"
          ]
        }
      ],
      "source": [
        "%%writefile test/test_6_20.py\n",
        "from solution_6_20 import *\n",
        "import pandas as pd\n",
        "\n",
        "def test_6_20():\n",
        "    df_churn=pd.read_csv(\"/data/IFI8410/churn_data.csv\")\n",
        "    df_customer=pd.read_csv(\"/data/IFI8410/customer_data.csv\")\n",
        "    df_internet=pd.read_csv(\"/data/IFI8410/internet_data.csv\")\n",
        "\n",
        "    merged_data = pd.merge(df_churn, df_customer, on='customerID', how='inner')\n",
        "    merged_data = pd.merge(merged_data, df_internet, on='customerID', how='inner')\n",
        "    merged_data['TotalCharges'] = pd.to_numeric(merged_data['TotalCharges'], errors='coerce')\n",
        "\n",
        "    result = calculate_charges()\n",
        "    assert result.equals(merged_data.groupby(['Contract', 'Churn']).agg({'MonthlyCharges': 'mean', 'TotalCharges': 'median'})), \"Incorrect result\""
      ]
    },
    {
      "cell_type": "markdown",
      "metadata": {
        "id": "Jq1deM8BBdvB"
      },
      "source": [
        "### 6.21 Calculate percentage  of customers per payment method\n",
        "Instructions\n",
        "\n",
        "Write a function payment_percentage() where you:\n",
        "1. For every payment method, find the percentage of the total customers that are using that method (use the merged dataframe resulting from problem 6.15)\n",
        "2. Store you result as a dataframe and return it"
      ]
    },
    {
      "cell_type": "markdown",
      "metadata": {
        "id": "27GgYBG5BdvB"
      },
      "source": [
        "Save your solution to `solution_6_21.py`"
      ]
    },
    {
      "cell_type": "code",
      "execution_count": null,
      "metadata": {
        "colab": {
          "base_uri": "https://localhost:8080/"
        },
        "id": "ldd3Ix2cBdvB",
        "outputId": "57690c12-8a75-4c84-bb06-c4f26a78b3d4"
      },
      "outputs": [
        {
          "output_type": "stream",
          "name": "stdout",
          "text": [
            "Overwriting solution_6_21.py\n"
          ]
        }
      ],
      "source": [
        "%%writefile solution_6_21.py\n",
        "from solution_6_15 import *\n",
        "import pandas as pd\n",
        "\n",
        "### your code here\n",
        "def payment_percentage():\n",
        "  merged_data = join_dataframes()\n",
        "  payment_method_counts = merged_data['PaymentMethod'].value_counts()\n",
        "  total_customers = len(merged_data)\n",
        "  percentage_customers = (payment_method_counts / total_customers) * 100\n",
        "  result_df = pd.DataFrame({'PaymentMethod': percentage_customers.index, 'PercentageOfCustomers': percentage_customers.values})\n",
        "  return result_df\n"
      ]
    },
    {
      "cell_type": "code",
      "execution_count": null,
      "metadata": {
        "colab": {
          "base_uri": "https://localhost:8080/",
          "height": 173
        },
        "id": "V_tSdXv2BdvB",
        "outputId": "fead8fbe-dee4-4b3d-9c3f-dc4d06ab12a7"
      },
      "outputs": [
        {
          "output_type": "execute_result",
          "data": {
            "text/plain": [
              "               PaymentMethod  PercentageOfCustomers\n",
              "0           Electronic check              33.584209\n",
              "1               Mailed check              22.891224\n",
              "2  Bank transfer (automatic)              21.911389\n",
              "3    Credit card (automatic)              21.613178"
            ],
            "text/html": [
              "\n",
              "  <div id=\"df-e85b23b6-a331-4d6a-8d7b-db2e9e6dafc0\" class=\"colab-df-container\">\n",
              "    <div>\n",
              "<style scoped>\n",
              "    .dataframe tbody tr th:only-of-type {\n",
              "        vertical-align: middle;\n",
              "    }\n",
              "\n",
              "    .dataframe tbody tr th {\n",
              "        vertical-align: top;\n",
              "    }\n",
              "\n",
              "    .dataframe thead th {\n",
              "        text-align: right;\n",
              "    }\n",
              "</style>\n",
              "<table border=\"1\" class=\"dataframe\">\n",
              "  <thead>\n",
              "    <tr style=\"text-align: right;\">\n",
              "      <th></th>\n",
              "      <th>PaymentMethod</th>\n",
              "      <th>PercentageOfCustomers</th>\n",
              "    </tr>\n",
              "  </thead>\n",
              "  <tbody>\n",
              "    <tr>\n",
              "      <th>0</th>\n",
              "      <td>Electronic check</td>\n",
              "      <td>33.584209</td>\n",
              "    </tr>\n",
              "    <tr>\n",
              "      <th>1</th>\n",
              "      <td>Mailed check</td>\n",
              "      <td>22.891224</td>\n",
              "    </tr>\n",
              "    <tr>\n",
              "      <th>2</th>\n",
              "      <td>Bank transfer (automatic)</td>\n",
              "      <td>21.911389</td>\n",
              "    </tr>\n",
              "    <tr>\n",
              "      <th>3</th>\n",
              "      <td>Credit card (automatic)</td>\n",
              "      <td>21.613178</td>\n",
              "    </tr>\n",
              "  </tbody>\n",
              "</table>\n",
              "</div>\n",
              "    <div class=\"colab-df-buttons\">\n",
              "\n",
              "  <div class=\"colab-df-container\">\n",
              "    <button class=\"colab-df-convert\" onclick=\"convertToInteractive('df-e85b23b6-a331-4d6a-8d7b-db2e9e6dafc0')\"\n",
              "            title=\"Convert this dataframe to an interactive table.\"\n",
              "            style=\"display:none;\">\n",
              "\n",
              "  <svg xmlns=\"http://www.w3.org/2000/svg\" height=\"24px\" viewBox=\"0 -960 960 960\">\n",
              "    <path d=\"M120-120v-720h720v720H120Zm60-500h600v-160H180v160Zm220 220h160v-160H400v160Zm0 220h160v-160H400v160ZM180-400h160v-160H180v160Zm440 0h160v-160H620v160ZM180-180h160v-160H180v160Zm440 0h160v-160H620v160Z\"/>\n",
              "  </svg>\n",
              "    </button>\n",
              "\n",
              "  <style>\n",
              "    .colab-df-container {\n",
              "      display:flex;\n",
              "      gap: 12px;\n",
              "    }\n",
              "\n",
              "    .colab-df-convert {\n",
              "      background-color: #E8F0FE;\n",
              "      border: none;\n",
              "      border-radius: 50%;\n",
              "      cursor: pointer;\n",
              "      display: none;\n",
              "      fill: #1967D2;\n",
              "      height: 32px;\n",
              "      padding: 0 0 0 0;\n",
              "      width: 32px;\n",
              "    }\n",
              "\n",
              "    .colab-df-convert:hover {\n",
              "      background-color: #E2EBFA;\n",
              "      box-shadow: 0px 1px 2px rgba(60, 64, 67, 0.3), 0px 1px 3px 1px rgba(60, 64, 67, 0.15);\n",
              "      fill: #174EA6;\n",
              "    }\n",
              "\n",
              "    .colab-df-buttons div {\n",
              "      margin-bottom: 4px;\n",
              "    }\n",
              "\n",
              "    [theme=dark] .colab-df-convert {\n",
              "      background-color: #3B4455;\n",
              "      fill: #D2E3FC;\n",
              "    }\n",
              "\n",
              "    [theme=dark] .colab-df-convert:hover {\n",
              "      background-color: #434B5C;\n",
              "      box-shadow: 0px 1px 3px 1px rgba(0, 0, 0, 0.15);\n",
              "      filter: drop-shadow(0px 1px 2px rgba(0, 0, 0, 0.3));\n",
              "      fill: #FFFFFF;\n",
              "    }\n",
              "  </style>\n",
              "\n",
              "    <script>\n",
              "      const buttonEl =\n",
              "        document.querySelector('#df-e85b23b6-a331-4d6a-8d7b-db2e9e6dafc0 button.colab-df-convert');\n",
              "      buttonEl.style.display =\n",
              "        google.colab.kernel.accessAllowed ? 'block' : 'none';\n",
              "\n",
              "      async function convertToInteractive(key) {\n",
              "        const element = document.querySelector('#df-e85b23b6-a331-4d6a-8d7b-db2e9e6dafc0');\n",
              "        const dataTable =\n",
              "          await google.colab.kernel.invokeFunction('convertToInteractive',\n",
              "                                                    [key], {});\n",
              "        if (!dataTable) return;\n",
              "\n",
              "        const docLinkHtml = 'Like what you see? Visit the ' +\n",
              "          '<a target=\"_blank\" href=https://colab.research.google.com/notebooks/data_table.ipynb>data table notebook</a>'\n",
              "          + ' to learn more about interactive tables.';\n",
              "        element.innerHTML = '';\n",
              "        dataTable['output_type'] = 'display_data';\n",
              "        await google.colab.output.renderOutput(dataTable, element);\n",
              "        const docLink = document.createElement('div');\n",
              "        docLink.innerHTML = docLinkHtml;\n",
              "        element.appendChild(docLink);\n",
              "      }\n",
              "    </script>\n",
              "  </div>\n",
              "\n",
              "\n",
              "<div id=\"df-764d28c9-19ec-43cd-8c6e-172307ca0585\">\n",
              "  <button class=\"colab-df-quickchart\" onclick=\"quickchart('df-764d28c9-19ec-43cd-8c6e-172307ca0585')\"\n",
              "            title=\"Suggest charts.\"\n",
              "            style=\"display:none;\">\n",
              "\n",
              "<svg xmlns=\"http://www.w3.org/2000/svg\" height=\"24px\"viewBox=\"0 0 24 24\"\n",
              "     width=\"24px\">\n",
              "    <g>\n",
              "        <path d=\"M19 3H5c-1.1 0-2 .9-2 2v14c0 1.1.9 2 2 2h14c1.1 0 2-.9 2-2V5c0-1.1-.9-2-2-2zM9 17H7v-7h2v7zm4 0h-2V7h2v10zm4 0h-2v-4h2v4z\"/>\n",
              "    </g>\n",
              "</svg>\n",
              "  </button>\n",
              "\n",
              "<style>\n",
              "  .colab-df-quickchart {\n",
              "      --bg-color: #E8F0FE;\n",
              "      --fill-color: #1967D2;\n",
              "      --hover-bg-color: #E2EBFA;\n",
              "      --hover-fill-color: #174EA6;\n",
              "      --disabled-fill-color: #AAA;\n",
              "      --disabled-bg-color: #DDD;\n",
              "  }\n",
              "\n",
              "  [theme=dark] .colab-df-quickchart {\n",
              "      --bg-color: #3B4455;\n",
              "      --fill-color: #D2E3FC;\n",
              "      --hover-bg-color: #434B5C;\n",
              "      --hover-fill-color: #FFFFFF;\n",
              "      --disabled-bg-color: #3B4455;\n",
              "      --disabled-fill-color: #666;\n",
              "  }\n",
              "\n",
              "  .colab-df-quickchart {\n",
              "    background-color: var(--bg-color);\n",
              "    border: none;\n",
              "    border-radius: 50%;\n",
              "    cursor: pointer;\n",
              "    display: none;\n",
              "    fill: var(--fill-color);\n",
              "    height: 32px;\n",
              "    padding: 0;\n",
              "    width: 32px;\n",
              "  }\n",
              "\n",
              "  .colab-df-quickchart:hover {\n",
              "    background-color: var(--hover-bg-color);\n",
              "    box-shadow: 0 1px 2px rgba(60, 64, 67, 0.3), 0 1px 3px 1px rgba(60, 64, 67, 0.15);\n",
              "    fill: var(--button-hover-fill-color);\n",
              "  }\n",
              "\n",
              "  .colab-df-quickchart-complete:disabled,\n",
              "  .colab-df-quickchart-complete:disabled:hover {\n",
              "    background-color: var(--disabled-bg-color);\n",
              "    fill: var(--disabled-fill-color);\n",
              "    box-shadow: none;\n",
              "  }\n",
              "\n",
              "  .colab-df-spinner {\n",
              "    border: 2px solid var(--fill-color);\n",
              "    border-color: transparent;\n",
              "    border-bottom-color: var(--fill-color);\n",
              "    animation:\n",
              "      spin 1s steps(1) infinite;\n",
              "  }\n",
              "\n",
              "  @keyframes spin {\n",
              "    0% {\n",
              "      border-color: transparent;\n",
              "      border-bottom-color: var(--fill-color);\n",
              "      border-left-color: var(--fill-color);\n",
              "    }\n",
              "    20% {\n",
              "      border-color: transparent;\n",
              "      border-left-color: var(--fill-color);\n",
              "      border-top-color: var(--fill-color);\n",
              "    }\n",
              "    30% {\n",
              "      border-color: transparent;\n",
              "      border-left-color: var(--fill-color);\n",
              "      border-top-color: var(--fill-color);\n",
              "      border-right-color: var(--fill-color);\n",
              "    }\n",
              "    40% {\n",
              "      border-color: transparent;\n",
              "      border-right-color: var(--fill-color);\n",
              "      border-top-color: var(--fill-color);\n",
              "    }\n",
              "    60% {\n",
              "      border-color: transparent;\n",
              "      border-right-color: var(--fill-color);\n",
              "    }\n",
              "    80% {\n",
              "      border-color: transparent;\n",
              "      border-right-color: var(--fill-color);\n",
              "      border-bottom-color: var(--fill-color);\n",
              "    }\n",
              "    90% {\n",
              "      border-color: transparent;\n",
              "      border-bottom-color: var(--fill-color);\n",
              "    }\n",
              "  }\n",
              "</style>\n",
              "\n",
              "  <script>\n",
              "    async function quickchart(key) {\n",
              "      const quickchartButtonEl =\n",
              "        document.querySelector('#' + key + ' button');\n",
              "      quickchartButtonEl.disabled = true;  // To prevent multiple clicks.\n",
              "      quickchartButtonEl.classList.add('colab-df-spinner');\n",
              "      try {\n",
              "        const charts = await google.colab.kernel.invokeFunction(\n",
              "            'suggestCharts', [key], {});\n",
              "      } catch (error) {\n",
              "        console.error('Error during call to suggestCharts:', error);\n",
              "      }\n",
              "      quickchartButtonEl.classList.remove('colab-df-spinner');\n",
              "      quickchartButtonEl.classList.add('colab-df-quickchart-complete');\n",
              "    }\n",
              "    (() => {\n",
              "      let quickchartButtonEl =\n",
              "        document.querySelector('#df-764d28c9-19ec-43cd-8c6e-172307ca0585 button');\n",
              "      quickchartButtonEl.style.display =\n",
              "        google.colab.kernel.accessAllowed ? 'block' : 'none';\n",
              "    })();\n",
              "  </script>\n",
              "</div>\n",
              "\n",
              "    </div>\n",
              "  </div>\n"
            ]
          },
          "metadata": {},
          "execution_count": 20
        }
      ],
      "source": [
        "# Try your code\n",
        "from solution_6_21 import *\n",
        "\n",
        "payment_percentage()\n"
      ]
    },
    {
      "cell_type": "markdown",
      "metadata": {
        "id": "aJeJZj9oBdvB"
      },
      "source": [
        "#### Test 6.21"
      ]
    },
    {
      "cell_type": "code",
      "execution_count": null,
      "metadata": {
        "colab": {
          "base_uri": "https://localhost:8080/"
        },
        "id": "DkmJU5U3BdvB",
        "outputId": "f48a6880-686d-4906-b058-0bb3ef7b5c38"
      },
      "outputs": [
        {
          "output_type": "stream",
          "name": "stdout",
          "text": [
            "Overwriting test/test_6_21.py\n"
          ]
        }
      ],
      "source": [
        "%%writefile test/test_6_21.py\n",
        "from solution_6_21 import *\n",
        "import pandas as pd\n",
        "\n",
        "def test_6_21():\n",
        "    df_churn=pd.read_csv(\"/data/IFI8410/churn_data.csv\")\n",
        "    df_customer=pd.read_csv(\"/data/IFI8410/customer_data.csv\")\n",
        "    df_internet=pd.read_csv(\"/data/IFI8410/internet_data.csv\")\n",
        "\n",
        "    merged_data = pd.merge(df_churn, df_customer, on='customerID', how='inner')\n",
        "    merged_data = pd.merge(merged_data, df_internet, on='customerID', how='inner')\n",
        "\n",
        "    payment_method_counts = merged_data['PaymentMethod'].value_counts()\n",
        "    total_customers = len(merged_data)\n",
        "    percentage_customers = (payment_method_counts / total_customers) * 100\n",
        "    result_df = pd.DataFrame({'PaymentMethod': percentage_customers.index, 'PercentageOfCustomers': percentage_customers.values})\n",
        "\n",
        "    result = payment_percentage()\n",
        "    assert result.equals(result_df), \"Result is incorrect\""
      ]
    },
    {
      "cell_type": "markdown",
      "metadata": {
        "id": "j_klt_hpBdvC"
      },
      "source": [
        "### 6.22 Calculate customer percentage for churn per payment method\n",
        "Instructions\n",
        "\n",
        "Write a function percentage_churn() where you:\n",
        "\n",
        "1. For every PaymentMethod find the precentage  of the total customers that churn or don't churn (using the merged resulting dataframe from problem 6.15)\n",
        "2. Return a dataframe with 3 Columns [PaymentMethod,No,Yes ] which values are the payment method name, the precentage of the customers that don't churn and the percentange of the customers that churn"
      ]
    },
    {
      "cell_type": "markdown",
      "metadata": {
        "id": "BIAS0oiuBdvC"
      },
      "source": [
        "Save your solution to `solution_6_22.py`"
      ]
    },
    {
      "cell_type": "code",
      "execution_count": null,
      "metadata": {
        "colab": {
          "base_uri": "https://localhost:8080/"
        },
        "id": "PwAyVp7fBdvC",
        "outputId": "305bddfd-fb66-44d0-9884-e7ee084248bd"
      },
      "outputs": [
        {
          "output_type": "stream",
          "name": "stdout",
          "text": [
            "Overwriting solution_6_22.py\n"
          ]
        }
      ],
      "source": [
        "%%writefile solution_6_22.py\n",
        "from solution_6_15 import *\n",
        "\n",
        "### your code here\n",
        "def percentage_churn():\n",
        "    merged_data = join_dataframes()\n",
        "    grouped_data = merged_data.groupby(['PaymentMethod', 'Churn']).size().unstack(fill_value=0)\n",
        "    total_customers = len(merged_data)\n",
        "    percentage_customers = (grouped_data / total_customers) * 100\n",
        "    pivot_table = percentage_customers.reset_index()\n",
        "    pivot_table = pivot_table.rename_axis(None, axis=1)\n",
        "    return pivot_table"
      ]
    },
    {
      "cell_type": "code",
      "execution_count": null,
      "metadata": {
        "colab": {
          "base_uri": "https://localhost:8080/",
          "height": 173
        },
        "id": "nV0BxLCbBdvC",
        "outputId": "9706abd6-b0a4-4a51-d9a9-cb0641d5212c"
      },
      "outputs": [
        {
          "output_type": "execute_result",
          "data": {
            "text/plain": [
              "               PaymentMethod         No        Yes\n",
              "0  Bank transfer (automatic)  18.247657   3.663732\n",
              "1    Credit card (automatic)  18.318659   3.294519\n",
              "2           Electronic check  18.375462  15.208748\n",
              "3               Mailed check  18.517467   4.373757"
            ],
            "text/html": [
              "\n",
              "  <div id=\"df-06b0da7c-568d-40ac-8827-6e51ea8eceaa\" class=\"colab-df-container\">\n",
              "    <div>\n",
              "<style scoped>\n",
              "    .dataframe tbody tr th:only-of-type {\n",
              "        vertical-align: middle;\n",
              "    }\n",
              "\n",
              "    .dataframe tbody tr th {\n",
              "        vertical-align: top;\n",
              "    }\n",
              "\n",
              "    .dataframe thead th {\n",
              "        text-align: right;\n",
              "    }\n",
              "</style>\n",
              "<table border=\"1\" class=\"dataframe\">\n",
              "  <thead>\n",
              "    <tr style=\"text-align: right;\">\n",
              "      <th></th>\n",
              "      <th>PaymentMethod</th>\n",
              "      <th>No</th>\n",
              "      <th>Yes</th>\n",
              "    </tr>\n",
              "  </thead>\n",
              "  <tbody>\n",
              "    <tr>\n",
              "      <th>0</th>\n",
              "      <td>Bank transfer (automatic)</td>\n",
              "      <td>18.247657</td>\n",
              "      <td>3.663732</td>\n",
              "    </tr>\n",
              "    <tr>\n",
              "      <th>1</th>\n",
              "      <td>Credit card (automatic)</td>\n",
              "      <td>18.318659</td>\n",
              "      <td>3.294519</td>\n",
              "    </tr>\n",
              "    <tr>\n",
              "      <th>2</th>\n",
              "      <td>Electronic check</td>\n",
              "      <td>18.375462</td>\n",
              "      <td>15.208748</td>\n",
              "    </tr>\n",
              "    <tr>\n",
              "      <th>3</th>\n",
              "      <td>Mailed check</td>\n",
              "      <td>18.517467</td>\n",
              "      <td>4.373757</td>\n",
              "    </tr>\n",
              "  </tbody>\n",
              "</table>\n",
              "</div>\n",
              "    <div class=\"colab-df-buttons\">\n",
              "\n",
              "  <div class=\"colab-df-container\">\n",
              "    <button class=\"colab-df-convert\" onclick=\"convertToInteractive('df-06b0da7c-568d-40ac-8827-6e51ea8eceaa')\"\n",
              "            title=\"Convert this dataframe to an interactive table.\"\n",
              "            style=\"display:none;\">\n",
              "\n",
              "  <svg xmlns=\"http://www.w3.org/2000/svg\" height=\"24px\" viewBox=\"0 -960 960 960\">\n",
              "    <path d=\"M120-120v-720h720v720H120Zm60-500h600v-160H180v160Zm220 220h160v-160H400v160Zm0 220h160v-160H400v160ZM180-400h160v-160H180v160Zm440 0h160v-160H620v160ZM180-180h160v-160H180v160Zm440 0h160v-160H620v160Z\"/>\n",
              "  </svg>\n",
              "    </button>\n",
              "\n",
              "  <style>\n",
              "    .colab-df-container {\n",
              "      display:flex;\n",
              "      gap: 12px;\n",
              "    }\n",
              "\n",
              "    .colab-df-convert {\n",
              "      background-color: #E8F0FE;\n",
              "      border: none;\n",
              "      border-radius: 50%;\n",
              "      cursor: pointer;\n",
              "      display: none;\n",
              "      fill: #1967D2;\n",
              "      height: 32px;\n",
              "      padding: 0 0 0 0;\n",
              "      width: 32px;\n",
              "    }\n",
              "\n",
              "    .colab-df-convert:hover {\n",
              "      background-color: #E2EBFA;\n",
              "      box-shadow: 0px 1px 2px rgba(60, 64, 67, 0.3), 0px 1px 3px 1px rgba(60, 64, 67, 0.15);\n",
              "      fill: #174EA6;\n",
              "    }\n",
              "\n",
              "    .colab-df-buttons div {\n",
              "      margin-bottom: 4px;\n",
              "    }\n",
              "\n",
              "    [theme=dark] .colab-df-convert {\n",
              "      background-color: #3B4455;\n",
              "      fill: #D2E3FC;\n",
              "    }\n",
              "\n",
              "    [theme=dark] .colab-df-convert:hover {\n",
              "      background-color: #434B5C;\n",
              "      box-shadow: 0px 1px 3px 1px rgba(0, 0, 0, 0.15);\n",
              "      filter: drop-shadow(0px 1px 2px rgba(0, 0, 0, 0.3));\n",
              "      fill: #FFFFFF;\n",
              "    }\n",
              "  </style>\n",
              "\n",
              "    <script>\n",
              "      const buttonEl =\n",
              "        document.querySelector('#df-06b0da7c-568d-40ac-8827-6e51ea8eceaa button.colab-df-convert');\n",
              "      buttonEl.style.display =\n",
              "        google.colab.kernel.accessAllowed ? 'block' : 'none';\n",
              "\n",
              "      async function convertToInteractive(key) {\n",
              "        const element = document.querySelector('#df-06b0da7c-568d-40ac-8827-6e51ea8eceaa');\n",
              "        const dataTable =\n",
              "          await google.colab.kernel.invokeFunction('convertToInteractive',\n",
              "                                                    [key], {});\n",
              "        if (!dataTable) return;\n",
              "\n",
              "        const docLinkHtml = 'Like what you see? Visit the ' +\n",
              "          '<a target=\"_blank\" href=https://colab.research.google.com/notebooks/data_table.ipynb>data table notebook</a>'\n",
              "          + ' to learn more about interactive tables.';\n",
              "        element.innerHTML = '';\n",
              "        dataTable['output_type'] = 'display_data';\n",
              "        await google.colab.output.renderOutput(dataTable, element);\n",
              "        const docLink = document.createElement('div');\n",
              "        docLink.innerHTML = docLinkHtml;\n",
              "        element.appendChild(docLink);\n",
              "      }\n",
              "    </script>\n",
              "  </div>\n",
              "\n",
              "\n",
              "<div id=\"df-708d9bc9-fd60-4b49-a138-e60d410dc2de\">\n",
              "  <button class=\"colab-df-quickchart\" onclick=\"quickchart('df-708d9bc9-fd60-4b49-a138-e60d410dc2de')\"\n",
              "            title=\"Suggest charts.\"\n",
              "            style=\"display:none;\">\n",
              "\n",
              "<svg xmlns=\"http://www.w3.org/2000/svg\" height=\"24px\"viewBox=\"0 0 24 24\"\n",
              "     width=\"24px\">\n",
              "    <g>\n",
              "        <path d=\"M19 3H5c-1.1 0-2 .9-2 2v14c0 1.1.9 2 2 2h14c1.1 0 2-.9 2-2V5c0-1.1-.9-2-2-2zM9 17H7v-7h2v7zm4 0h-2V7h2v10zm4 0h-2v-4h2v4z\"/>\n",
              "    </g>\n",
              "</svg>\n",
              "  </button>\n",
              "\n",
              "<style>\n",
              "  .colab-df-quickchart {\n",
              "      --bg-color: #E8F0FE;\n",
              "      --fill-color: #1967D2;\n",
              "      --hover-bg-color: #E2EBFA;\n",
              "      --hover-fill-color: #174EA6;\n",
              "      --disabled-fill-color: #AAA;\n",
              "      --disabled-bg-color: #DDD;\n",
              "  }\n",
              "\n",
              "  [theme=dark] .colab-df-quickchart {\n",
              "      --bg-color: #3B4455;\n",
              "      --fill-color: #D2E3FC;\n",
              "      --hover-bg-color: #434B5C;\n",
              "      --hover-fill-color: #FFFFFF;\n",
              "      --disabled-bg-color: #3B4455;\n",
              "      --disabled-fill-color: #666;\n",
              "  }\n",
              "\n",
              "  .colab-df-quickchart {\n",
              "    background-color: var(--bg-color);\n",
              "    border: none;\n",
              "    border-radius: 50%;\n",
              "    cursor: pointer;\n",
              "    display: none;\n",
              "    fill: var(--fill-color);\n",
              "    height: 32px;\n",
              "    padding: 0;\n",
              "    width: 32px;\n",
              "  }\n",
              "\n",
              "  .colab-df-quickchart:hover {\n",
              "    background-color: var(--hover-bg-color);\n",
              "    box-shadow: 0 1px 2px rgba(60, 64, 67, 0.3), 0 1px 3px 1px rgba(60, 64, 67, 0.15);\n",
              "    fill: var(--button-hover-fill-color);\n",
              "  }\n",
              "\n",
              "  .colab-df-quickchart-complete:disabled,\n",
              "  .colab-df-quickchart-complete:disabled:hover {\n",
              "    background-color: var(--disabled-bg-color);\n",
              "    fill: var(--disabled-fill-color);\n",
              "    box-shadow: none;\n",
              "  }\n",
              "\n",
              "  .colab-df-spinner {\n",
              "    border: 2px solid var(--fill-color);\n",
              "    border-color: transparent;\n",
              "    border-bottom-color: var(--fill-color);\n",
              "    animation:\n",
              "      spin 1s steps(1) infinite;\n",
              "  }\n",
              "\n",
              "  @keyframes spin {\n",
              "    0% {\n",
              "      border-color: transparent;\n",
              "      border-bottom-color: var(--fill-color);\n",
              "      border-left-color: var(--fill-color);\n",
              "    }\n",
              "    20% {\n",
              "      border-color: transparent;\n",
              "      border-left-color: var(--fill-color);\n",
              "      border-top-color: var(--fill-color);\n",
              "    }\n",
              "    30% {\n",
              "      border-color: transparent;\n",
              "      border-left-color: var(--fill-color);\n",
              "      border-top-color: var(--fill-color);\n",
              "      border-right-color: var(--fill-color);\n",
              "    }\n",
              "    40% {\n",
              "      border-color: transparent;\n",
              "      border-right-color: var(--fill-color);\n",
              "      border-top-color: var(--fill-color);\n",
              "    }\n",
              "    60% {\n",
              "      border-color: transparent;\n",
              "      border-right-color: var(--fill-color);\n",
              "    }\n",
              "    80% {\n",
              "      border-color: transparent;\n",
              "      border-right-color: var(--fill-color);\n",
              "      border-bottom-color: var(--fill-color);\n",
              "    }\n",
              "    90% {\n",
              "      border-color: transparent;\n",
              "      border-bottom-color: var(--fill-color);\n",
              "    }\n",
              "  }\n",
              "</style>\n",
              "\n",
              "  <script>\n",
              "    async function quickchart(key) {\n",
              "      const quickchartButtonEl =\n",
              "        document.querySelector('#' + key + ' button');\n",
              "      quickchartButtonEl.disabled = true;  // To prevent multiple clicks.\n",
              "      quickchartButtonEl.classList.add('colab-df-spinner');\n",
              "      try {\n",
              "        const charts = await google.colab.kernel.invokeFunction(\n",
              "            'suggestCharts', [key], {});\n",
              "      } catch (error) {\n",
              "        console.error('Error during call to suggestCharts:', error);\n",
              "      }\n",
              "      quickchartButtonEl.classList.remove('colab-df-spinner');\n",
              "      quickchartButtonEl.classList.add('colab-df-quickchart-complete');\n",
              "    }\n",
              "    (() => {\n",
              "      let quickchartButtonEl =\n",
              "        document.querySelector('#df-708d9bc9-fd60-4b49-a138-e60d410dc2de button');\n",
              "      quickchartButtonEl.style.display =\n",
              "        google.colab.kernel.accessAllowed ? 'block' : 'none';\n",
              "    })();\n",
              "  </script>\n",
              "</div>\n",
              "\n",
              "    </div>\n",
              "  </div>\n"
            ]
          },
          "metadata": {},
          "execution_count": 23
        }
      ],
      "source": [
        "# Try your code\n",
        "from solution_6_22 import *\n",
        "\n",
        "percentage_churn()\n"
      ]
    },
    {
      "cell_type": "markdown",
      "metadata": {
        "id": "CxU4VuHiBdvC"
      },
      "source": [
        "#### Test 6.22"
      ]
    },
    {
      "cell_type": "code",
      "execution_count": null,
      "metadata": {
        "colab": {
          "base_uri": "https://localhost:8080/"
        },
        "id": "yKmC3wTwBdvC",
        "outputId": "d9c37aa2-6e15-42bd-c1a1-3bf76330eb24"
      },
      "outputs": [
        {
          "output_type": "stream",
          "name": "stdout",
          "text": [
            "Overwriting test/test_6_22.py\n"
          ]
        }
      ],
      "source": [
        "%%writefile test/test_6_22.py\n",
        "from solution_6_22 import *\n",
        "import pandas as pd\n",
        "\n",
        "def test_6_22():\n",
        "    df_churn=pd.read_csv(\"/data/IFI8410/churn_data.csv\")\n",
        "    df_customer=pd.read_csv(\"/data/IFI8410/customer_data.csv\")\n",
        "    df_internet=pd.read_csv(\"/data/IFI8410/internet_data.csv\")\n",
        "\n",
        "    merged_data = pd.merge(df_churn, df_customer, on='customerID', how='inner')\n",
        "    merged_data = pd.merge(merged_data, df_internet, on='customerID', how='inner')\n",
        "\n",
        "    result = percentage_churn()\n",
        "    percentage_customers = ((merged_data.groupby(['PaymentMethod', 'Churn']).size().unstack(fill_value=0)) / (len(merged_data))) * 100\n",
        "    pivot_table = percentage_customers.reset_index().rename_axis(None, axis=1)\n",
        "    assert result.equals(pivot_table), \"Reuslt is incorrect\""
      ]
    },
    {
      "cell_type": "markdown",
      "metadata": {
        "id": "s92C_DV1BdvC"
      },
      "source": [
        "### 6.23 Find monthly sales\n",
        "Instructions\n",
        "\n",
        "Write a function get_monthlysales() where you:\n",
        "1. Load the sales.csv file as dataframe\n",
        "2. Convert the Order Date column to a datetime object (hint: use pd.to_datetime())\n",
        "3. Set 'Order Date' as the index and resample by month, summing the 'Sales' values\n",
        "4. Sort the result by date in ascending order (hint: use sort_index())\n",
        "3. Return the first five rows\n"
      ]
    },
    {
      "cell_type": "markdown",
      "metadata": {
        "id": "wRafKdg9BdvC"
      },
      "source": [
        "Save your solution to `solution_6_23.py`"
      ]
    },
    {
      "cell_type": "code",
      "execution_count": null,
      "metadata": {
        "colab": {
          "base_uri": "https://localhost:8080/"
        },
        "id": "LjZH0Ss5BdvD",
        "outputId": "1015f797-df00-4a5f-ec92-b2c4683acd07"
      },
      "outputs": [
        {
          "output_type": "stream",
          "name": "stdout",
          "text": [
            "Overwriting solution_6_23.py\n"
          ]
        }
      ],
      "source": [
        "%%writefile solution_6_23.py\n",
        "import pandas as pd\n",
        "\n",
        "### your code here\n",
        "def get_monthlysales():\n",
        "    sales=pd.read_csv(\"/data/IFI8410/sales.csv\")\n",
        "    sales[\"Order Date\"] = pd.to_datetime(sales[\"Order Date\"])\n",
        "    monthly_sales = sales.set_index('Order Date')['Sales'].resample('M').sum()\n",
        "    monthly_sales_sorted = monthly_sales.sort_index()\n",
        "\n",
        "    return monthly_sales_sorted.head(5)\n"
      ]
    },
    {
      "cell_type": "code",
      "execution_count": null,
      "metadata": {
        "colab": {
          "base_uri": "https://localhost:8080/"
        },
        "id": "S7_j9jnABdvD",
        "outputId": "804070c6-e3ef-4e77-e203-ec8753b1ed3b"
      },
      "outputs": [
        {
          "output_type": "stream",
          "name": "stderr",
          "text": [
            "/content/solution_6_23.py:6: UserWarning: Parsing dates in DD/MM/YYYY format when dayfirst=False (the default) was specified. This may lead to inconsistently parsed dates! Specify a format to ensure consistent parsing.\n",
            "  sales[\"Order Date\"] = pd.to_datetime(sales[\"Order Date\"])\n"
          ]
        },
        {
          "output_type": "execute_result",
          "data": {
            "text/plain": [
              "Order Date\n",
              "2015-01-31    28828.254\n",
              "2015-02-28    12588.484\n",
              "2015-03-31    54027.692\n",
              "2015-04-30    24710.016\n",
              "2015-05-31    29520.490\n",
              "Freq: M, Name: Sales, dtype: float64"
            ]
          },
          "metadata": {},
          "execution_count": 26
        }
      ],
      "source": [
        "# Try your code\n",
        "from solution_6_23 import *\n",
        "\n",
        "get_monthlysales()\n"
      ]
    },
    {
      "cell_type": "markdown",
      "metadata": {
        "id": "OeE1RROZBdvD"
      },
      "source": [
        "#### Test 6.23"
      ]
    },
    {
      "cell_type": "code",
      "execution_count": null,
      "metadata": {
        "colab": {
          "base_uri": "https://localhost:8080/"
        },
        "id": "DLz9g-LSBdvD",
        "outputId": "ebbf5e89-a1ff-487a-ea54-832b8e5f0ea0"
      },
      "outputs": [
        {
          "output_type": "stream",
          "name": "stdout",
          "text": [
            "Overwriting test/test_6_23.py\n"
          ]
        }
      ],
      "source": [
        "%%writefile test/test_6_23.py\n",
        "from solution_6_23 import *\n",
        "import pandas as pd\n",
        "\n",
        "def test_6_23():\n",
        "    result = get_monthlysales()\n",
        "    sales=pd.read_csv(\"/data/IFI8410/sales.csv\")\n",
        "    sales[\"Order Date\"] = pd.to_datetime(sales[\"Order Date\"])\n",
        "    monthly_sales = sales.set_index('Order Date')['Sales'].resample('M').sum().sort_index()\n",
        "\n",
        "    assert result.equals(monthly_sales.head(5)), \"Incorrect result\""
      ]
    },
    {
      "cell_type": "markdown",
      "metadata": {
        "id": "XkEjLLE9BdvD"
      },
      "source": [
        "### 6.24 Calculate total sales per region and category\n",
        "Instructions\n",
        "\n",
        "Write a function calculate_totalsales() where you:\n",
        "1. Load the sales.csv file as dataframe\n",
        "2. Group the data so that for every region, you calculate the total sales per category\n",
        "2. Store the result as a dataframe and return it"
      ]
    },
    {
      "cell_type": "markdown",
      "metadata": {
        "id": "qmFX5_vIBdvD"
      },
      "source": [
        "Save your solution to `solution_6_24.py`"
      ]
    },
    {
      "cell_type": "code",
      "execution_count": null,
      "metadata": {
        "colab": {
          "base_uri": "https://localhost:8080/"
        },
        "id": "0Dt4m4htBdvD",
        "outputId": "768e9dab-5fb4-4d6b-ce13-29ebb25b9eb9"
      },
      "outputs": [
        {
          "output_type": "stream",
          "name": "stdout",
          "text": [
            "Overwriting solution_6_24.py\n"
          ]
        }
      ],
      "source": [
        "%%writefile solution_6_24.py\n",
        "import pandas as pd\n",
        "\n",
        "### your code here\n",
        "def calculate_totalsales():\n",
        "  sales=pd.read_csv(\"/data/IFI8410/sales.csv\")\n",
        "  grouped_data = sales.groupby(['Region', 'Category'])['Sales'].sum()\n",
        "  return grouped_data\n"
      ]
    },
    {
      "cell_type": "code",
      "execution_count": null,
      "metadata": {
        "colab": {
          "base_uri": "https://localhost:8080/"
        },
        "id": "CpUuX1MvBdvD",
        "outputId": "f4d3d343-af25-46f3-a362-81574dae4373"
      },
      "outputs": [
        {
          "output_type": "execute_result",
          "data": {
            "text/plain": [
              "Region   Category       \n",
              "Central  Furniture          160317.4622\n",
              "         Office Supplies    163590.2430\n",
              "         Technology         168739.2080\n",
              "East     Furniture          206461.3880\n",
              "         Office Supplies    199940.8110\n",
              "         Technology         263116.5270\n",
              "South    Furniture          116531.4800\n",
              "         Office Supplies    124424.7710\n",
              "         Technology         148195.2080\n",
              "West     Furniture          245348.2455\n",
              "         Office Supplies    217466.5090\n",
              "         Technology         247404.9300\n",
              "Name: Sales, dtype: float64"
            ]
          },
          "metadata": {},
          "execution_count": 29
        }
      ],
      "source": [
        "# Try your code\n",
        "from solution_6_24 import *\n",
        "\n",
        "calculate_totalsales()\n"
      ]
    },
    {
      "cell_type": "markdown",
      "metadata": {
        "id": "bGJnbwhjBdvD"
      },
      "source": [
        "#### Test 6.24"
      ]
    },
    {
      "cell_type": "code",
      "execution_count": null,
      "metadata": {
        "colab": {
          "base_uri": "https://localhost:8080/"
        },
        "id": "9dNOQGakBdvD",
        "outputId": "8f668bb4-e9f6-4341-ff6e-e9a81f638a57"
      },
      "outputs": [
        {
          "output_type": "stream",
          "name": "stdout",
          "text": [
            "Overwriting test/test_6_24.py\n"
          ]
        }
      ],
      "source": [
        "%%writefile test/test_6_24.py\n",
        "from solution_6_24 import *\n",
        "import pandas as pd\n",
        "\n",
        "def test_6_24():\n",
        "    result = calculate_totalsales()\n",
        "    sales=pd.read_csv(\"/data/IFI8410/sales.csv\")\n",
        "    grouped_data = sales.groupby(['Region', 'Category'])['Sales'].sum()\n",
        "    assert result.equals(grouped_data), \"Incorrect result\""
      ]
    },
    {
      "cell_type": "markdown",
      "metadata": {
        "id": "j8iO3AxEBdvE"
      },
      "source": [
        "### 6.25 Quarterly frequency of customers\n",
        "Instructions\n",
        "\n",
        "Write a function count_quarterlyCustomer() where you:\n",
        "1. Load the sales.csv file as dataframe\n",
        "2. Convert the Order Date column to a datetime object (hint: use pd.to_datetime())\n",
        "3. Find the number of customers per quarter by:\n",
        "\n",
        "    *   setting the 'Order Date' as the index\n",
        "    *   resampling by quarter ('Q')\n",
        "    *   counting the number of unique customers for each quarter\n",
        "4. Sort the result by date in ascending order (hint: use sort_index())\n",
        "5. Return the first 5 rows of the result\n"
      ]
    },
    {
      "cell_type": "markdown",
      "metadata": {
        "id": "mPUCmqR1BdvE"
      },
      "source": [
        "Save your solution to `solution_6_25.py`"
      ]
    },
    {
      "cell_type": "code",
      "execution_count": null,
      "metadata": {
        "colab": {
          "base_uri": "https://localhost:8080/"
        },
        "id": "N5R6_SRlBdvE",
        "outputId": "31eae549-e1b7-4a42-80f6-d6d5fd0e5415"
      },
      "outputs": [
        {
          "output_type": "stream",
          "name": "stdout",
          "text": [
            "Overwriting solution_6_25.py\n"
          ]
        }
      ],
      "source": [
        "%%writefile solution_6_25.py\n",
        "import pandas as pd\n",
        "\n",
        "### your code here\n",
        "def count_quarterlyCustomer():\n",
        "    sales=pd.read_csv(\"/data/IFI8410/sales.csv\")\n",
        "    sales[\"Order Date\"] = pd.to_datetime(sales[\"Order Date\"])\n",
        "    quarterly_customer_count = sales.set_index('Order Date').resample('Q')['Customer ID'].nunique()\n",
        "    quarterly_customer_count = quarterly_customer_count.sort_index()\n",
        "    return quarterly_customer_count.head(5)"
      ]
    },
    {
      "cell_type": "code",
      "execution_count": null,
      "metadata": {
        "colab": {
          "base_uri": "https://localhost:8080/"
        },
        "id": "4_2SUHqABdvE",
        "outputId": "ce5c2405-abdd-4fe4-a276-fb2e973f65be"
      },
      "outputs": [
        {
          "output_type": "stream",
          "name": "stderr",
          "text": [
            "/content/solution_6_25.py:6: UserWarning: Parsing dates in DD/MM/YYYY format when dayfirst=False (the default) was specified. This may lead to inconsistently parsed dates! Specify a format to ensure consistent parsing.\n",
            "  sales[\"Order Date\"] = pd.to_datetime(sales[\"Order Date\"])\n"
          ]
        },
        {
          "output_type": "execute_result",
          "data": {
            "text/plain": [
              "Order Date\n",
              "2015-03-31    163\n",
              "2015-06-30    190\n",
              "2015-09-30    214\n",
              "2015-12-31    264\n",
              "2016-03-31    158\n",
              "Freq: Q-DEC, Name: Customer ID, dtype: int64"
            ]
          },
          "metadata": {},
          "execution_count": 3
        }
      ],
      "source": [
        "# Try your code\n",
        "from solution_6_25 import *\n",
        "count_quarterlyCustomer()\n",
        "\n"
      ]
    },
    {
      "cell_type": "markdown",
      "metadata": {
        "id": "axbK6Y-nBdvE"
      },
      "source": [
        "#### Test 6.25"
      ]
    },
    {
      "cell_type": "code",
      "execution_count": null,
      "metadata": {
        "colab": {
          "base_uri": "https://localhost:8080/"
        },
        "id": "Yc4h4RemBdvE",
        "outputId": "3a5c12be-3bac-4dbf-f6bc-814adf451ce2"
      },
      "outputs": [
        {
          "output_type": "stream",
          "name": "stdout",
          "text": [
            "Overwriting test/test_6_25.py\n"
          ]
        }
      ],
      "source": [
        "%%writefile test/test_6_25.py\n",
        "from solution_6_25 import *\n",
        "import pandas as pd\n",
        "\n",
        "def test_6_25():\n",
        "    result = count_quarterlyCustomer()\n",
        "    sales=pd.read_csv(\"/data/IFI8410/sales.csv\")\n",
        "    sales[\"Order Date\"] = pd.to_datetime(sales[\"Order Date\"])\n",
        "    quarterly_customer_count = sales.set_index('Order Date').resample('Q')['Customer ID'].nunique()\n",
        "    quarterly_customer_count = quarterly_customer_count.sort_index()\n",
        "    assert result.equals(quarterly_customer_count.head(5)), \"Incorrect result\""
      ]
    },
    {
      "cell_type": "markdown",
      "metadata": {
        "id": "Whtk4NHQBdvE"
      },
      "source": [
        "# Testing"
      ]
    },
    {
      "cell_type": "code",
      "execution_count": null,
      "metadata": {
        "colab": {
          "base_uri": "https://localhost:8080/"
        },
        "id": "Aazfl1gMBdvE",
        "outputId": "1ec1cabf-8703-49af-90d5-32efa642eec4"
      },
      "outputs": [
        {
          "output_type": "stream",
          "name": "stdout",
          "text": [
            "======================================= test session starts ========================================\n",
            "platform linux -- Python 3.10.12, pytest-7.4.2, pluggy-1.3.0\n",
            "rootdir: /content\n",
            "plugins: anyio-3.7.1\n",
            "collected 11 items\n",
            "\n",
            "test/test_6_15.py .                                                                          [  9%]\n",
            "test/test_6_16.py .                                                                          [ 18%]\n",
            "test/test_6_17.py .                                                                          [ 27%]\n",
            "test/test_6_18.py .                                                                          [ 36%]\n",
            "test/test_6_19.py .                                                                          [ 45%]\n",
            "test/test_6_20.py .                                                                          [ 54%]\n",
            "test/test_6_21.py .                                                                          [ 63%]\n",
            "test/test_6_22.py .                                                                          [ 72%]\n",
            "test/test_6_23.py .                                                                          [ 81%]\n",
            "test/test_6_24.py .                                                                          [ 90%]\n",
            "test/test_6_25.py .                                                                          [100%]\n",
            "\n",
            "========================================= warnings summary =========================================\n",
            "test/test_6_23.py::test_6_23\n",
            "  /content/solution_6_23.py:6: UserWarning: Parsing dates in DD/MM/YYYY format when dayfirst=False (the default) was specified. This may lead to inconsistently parsed dates! Specify a format to ensure consistent parsing.\n",
            "    sales[\"Order Date\"] = pd.to_datetime(sales[\"Order Date\"])\n",
            "\n",
            "test/test_6_23.py::test_6_23\n",
            "  /content/test/test_6_23.py:7: UserWarning: Parsing dates in DD/MM/YYYY format when dayfirst=False (the default) was specified. This may lead to inconsistently parsed dates! Specify a format to ensure consistent parsing.\n",
            "    sales[\"Order Date\"] = pd.to_datetime(sales[\"Order Date\"])\n",
            "\n",
            "test/test_6_25.py::test_6_25\n",
            "  /content/solution_6_25.py:6: UserWarning: Parsing dates in DD/MM/YYYY format when dayfirst=False (the default) was specified. This may lead to inconsistently parsed dates! Specify a format to ensure consistent parsing.\n",
            "    sales[\"Order Date\"] = pd.to_datetime(sales[\"Order Date\"])\n",
            "\n",
            "test/test_6_25.py::test_6_25\n",
            "  /content/test/test_6_25.py:7: UserWarning: Parsing dates in DD/MM/YYYY format when dayfirst=False (the default) was specified. This may lead to inconsistently parsed dates! Specify a format to ensure consistent parsing.\n",
            "    sales[\"Order Date\"] = pd.to_datetime(sales[\"Order Date\"])\n",
            "\n",
            "-- Docs: https://docs.pytest.org/en/stable/how-to/capture-warnings.html\n",
            "================================== 11 passed, 4 warnings in 1.80s ==================================\n"
          ]
        }
      ],
      "source": [
        "%%sh\n",
        "python3 -m pytest"
      ]
    },
    {
      "cell_type": "markdown",
      "metadata": {
        "id": "giEJPnKABdvE"
      },
      "source": [
        "# Homework Submission\n",
        "- This homework is due by 2023-11-15, 5:30PM (EDT)\n",
        "- Make sure that all your programs and output files are in the exact folder as specified in the instructions.\n",
        "- All file names on this system are case sensitive. Verify if you copy your work from a local computer to your home directory on ARC.\n",
        "- No further action is need to submit your assignment."
      ]
    },
    {
      "cell_type": "code",
      "execution_count": null,
      "metadata": {
        "id": "x5InQN0WBdvE"
      },
      "outputs": [],
      "source": []
    }
  ],
  "metadata": {
    "kernelspec": {
      "display_name": "Python 3 (ipykernel)",
      "language": "python",
      "name": "python3"
    },
    "language_info": {
      "codemirror_mode": {
        "name": "ipython",
        "version": 3
      },
      "file_extension": ".py",
      "mimetype": "text/x-python",
      "name": "python",
      "nbconvert_exporter": "python",
      "pygments_lexer": "ipython3",
      "version": "3.10.7"
    },
    "colab": {
      "provenance": []
    }
  },
  "nbformat": 4,
  "nbformat_minor": 0
}