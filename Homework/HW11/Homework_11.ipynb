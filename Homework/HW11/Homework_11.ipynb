{
 "cells": [
  {
   "cell_type": "markdown",
   "metadata": {
    "id": "DvDJJwxUzUCU"
   },
   "source": [
    "\n",
    "\n",
    "# **IFI8410: Programming for Business**\n",
    "\n"
   ]
  },
  {
   "cell_type": "markdown",
   "metadata": {
    "id": "XKAsLR0C2DE8"
   },
   "source": [
    "## **Assignment 11**"
   ]
  },
  {
   "cell_type": "code",
   "execution_count": null,
   "metadata": {
    "ExecuteTime": {
     "end_time": "2024-09-30T18:29:21.173007Z",
     "start_time": "2024-09-30T18:29:20.975777Z"
    },
    "id": "ilcJOwFSvnX-"
   },
   "outputs": [],
   "source": [
    "# Do not change the content of this cell. Execute this cell first, and everytime after you restarted the kernel.\n",
    "%reload_ext autoreload\n",
    "%autoreload 2"
   ]
  },
  {
   "cell_type": "markdown",
   "metadata": {
    "id": "Yc_uhMTpiKZU"
   },
   "source": [
    "\n",
    "\n",
    "\n",
    "##  Multiple linear regression model."
   ]
  },
  {
   "cell_type": "markdown",
   "metadata": {
    "id": "GiXz48oz2NhW"
   },
   "source": [
    "# Problem 11.1: K-Means Clustering with Elbow Method\n",
    "\n",
    "**Problem Statement:**\n",
    "\n",
    "You are tasked to cluster data points into groups using the K-Means clustering algorithm. Your implementation should also identify the optimal number of clusters using the Elbow Method, and return the optimal k along with the coordinates of one of the centroids.\n",
    "\n",
    "\n",
    "**We generate a data set for clustering:**\n",
    "\n",
    "Use `sklearn.datasets.make_blobs` to generate a synthetic dataset:\n",
    "\n",
    "- n_samples=300 (300 data points).\n",
    "\n",
    "- n_features=2 (2 features).\n",
    "\n",
    "- centers=5 (5 distinct cluster centers).\n",
    "\n",
    "- cluster_std=1.0 (standard deviation for clusters).\n",
    "\n",
    "- random_state=42 (seed for reproducibility).\n",
    "\n",
    "\n",
    "**Tasks:**\n",
    "\n",
    "**1.Apply the K-Means Algorithm**:\n",
    "\n",
    "- Use K-Means clustering from sklearn.cluster.KMeans to group the data.\n",
    "\n",
    "- Train the model for k values ranging from 1 to 10 and record the Within-Cluster Sum of Squares (WCSS) for each k.\n",
    "\n",
    "- Use n_init=1.\n",
    "\n",
    "- Use random_state=42 (fixed seed for reproducibility).\n",
    "\n",
    "\n",
    "**2.Determine the Optimal Number of Clusters**:\n",
    "\n",
    "- Plot the WCSS against k values to find the \"elbow point,\" which indicates the optimal k.\n",
    "\n",
    "- Select the value of k where the WCSS stops decreasing significantly.\n",
    "\n",
    "**3.Return Results**:\n",
    "\n",
    "- Train the K-Means model using the optimal k.\n",
    "\n",
    "- Return the optimal k and the coordinates of the centroid for one of the clusters (e.g., Cluster 0).\n",
    "\n",
    "\n",
    "**Output**: The function should return:\n",
    "\n",
    "- The optimal number of clusters (k).\n",
    "  \n",
    "- The coordinates of the centroid for Cluster 0."
   ]
  },
  {
   "cell_type": "code",
   "execution_count": null,
   "metadata": {},
   "outputs": [],
   "source": [
    "# Generate synthetic dataset\n",
    "from sklearn.datasets import make_blobs\n",
    "X, _ = make_blobs(n_samples=300, centers=5, cluster_std=1.0, random_state=42)"
   ]
  },
  {
   "cell_type": "code",
   "execution_count": null,
   "metadata": {
    "ExecuteTime": {
     "end_time": "2024-09-30T18:29:21.280692Z",
     "start_time": "2024-09-30T18:29:21.186714Z"
    },
    "id": "R7-4vnbIzp-o"
   },
   "outputs": [],
   "source": [
    "import numpy as np\n",
    "import matplotlib.pyplot as plt\n",
    "from sklearn.cluster import KMeans\n",
    "\n",
    "def kmeans_with_elbow_method(X):\n",
    "    \n",
    "    # Write your code here\n",
    "\n",
    "\n",
    "\n"
   ]
  },
  {
   "cell_type": "code",
   "execution_count": null,
   "metadata": {
    "colab": {
     "base_uri": "https://localhost:8080/",
     "height": 522
    },
    "id": "DZWGO7ewZiOn",
    "outputId": "e2a4ac47-3f28-4839-b62a-4750ccdeadbd"
   },
   "outputs": [],
   "source": [
    "# Example usage\n",
    "optimal_k, centroid = kmeans_with_elbow_method(X)\n",
    "print(f\"Optimal k: {optimal_k}\")\n",
    "print(f\"Centroid (Cluster 0): {centroid}\")"
   ]
  },
  {
   "cell_type": "markdown",
   "metadata": {
    "id": "w8laWEoeZiOn"
   },
   "source": [
    "#### Save your solution to a file ..."
   ]
  },
  {
   "cell_type": "code",
   "execution_count": null,
   "metadata": {
    "ExecuteTime": {
     "end_time": "2024-09-30T18:29:21.651471Z",
     "start_time": "2024-09-30T18:29:21.545780Z"
    },
    "colab": {
     "base_uri": "https://localhost:8080/"
    },
    "id": "SajRmT5AZiOn",
    "outputId": "4c48be0c-9dfe-48a2-bcab-742f93c7c9de"
   },
   "outputs": [],
   "source": [
    "%%writefile solution_11_1.py\n",
    "\n",
    "import numpy as np\n",
    "import matplotlib.pyplot as plt\n",
    "from sklearn.cluster import KMeans\n",
    "\n",
    "def kmeans_with_elbow_method(X):\n",
    "\n",
    "\n",
    "\n",
    "    \n"
   ]
  },
  {
   "cell_type": "markdown",
   "metadata": {
    "id": "ZNknpBBrZiOn"
   },
   "source": [
    "#### Test 11.1 Execute the cell below to test your solution..."
   ]
  },
  {
   "cell_type": "code",
   "execution_count": null,
   "metadata": {
    "ExecuteTime": {
     "end_time": "2024-09-30T18:29:21.951769Z",
     "start_time": "2024-09-30T18:29:21.720115Z"
    },
    "colab": {
     "base_uri": "https://localhost:8080/"
    },
    "id": "YusNec-oZiOn",
    "outputId": "3a584ff1-c4f7-4676-e6d4-c1af224d029b"
   },
   "outputs": [],
   "source": [
    "! test/run_test.sh 1"
   ]
  },
  {
   "cell_type": "code",
   "execution_count": null,
   "metadata": {
    "ExecuteTime": {
     "end_time": "2024-09-30T18:29:22.022361Z",
     "start_time": "2024-09-30T18:29:22.019044Z"
    },
    "id": "vQl3ctAXZiOn"
   },
   "outputs": [],
   "source": []
  },
  {
   "cell_type": "markdown",
   "metadata": {
    "id": "4Qfed3KE2Wh9"
   },
   "source": [
    "### Problem 11.2: K-Means vs. K-Means++ Clustering Comparison\n",
    "\n",
    "**Problem Statement:**\n",
    "\n",
    "Your task is to implement clustering on a synthetic dataset using both K-Means and K-Means++ initialization methods. The dataset will consist of distinct clusters generated using sklearn.datasets.make_blobs. Perform multiple runs to highlight the differences in centroid positions due to initialization randomness.\n",
    "\n",
    "\n",
    "**We generate a data set for clustering:**\n",
    "\n",
    "Use `sklearn.datasets.make_blobs` to create a dataset with:\n",
    "\n",
    "- n_samples=300 (300 data points).\n",
    "\n",
    "- n_features=2 (2 features).\n",
    "\n",
    "- centers=5 (5 distinct cluster centers).\n",
    "\n",
    "- cluster_std=1.0 (standard deviation for clusters).\n",
    "\n",
    "- random_state=42 (fixed seed for reproducibility).\n",
    "\n",
    "\n",
    "**Tasks:**\n",
    "\n",
    "**1.Apply K-Means Clustering:**\n",
    "\n",
    "- Train the K-Means algorithm using two different initialization methods:\n",
    "\n",
    "- random: Random initialization for centroids.\n",
    "\n",
    "- k-means++: Smart centroid initialization.\n",
    "\n",
    "- Fix the number of clusters (k=5).\n",
    "\n",
    "- Perform multiple runs (e.g., 10 runs) for each method to observe variations in centroid positions.\n",
    "\n",
    "- Use n_init=1.\n",
    "\n",
    "- Use random_state=42 (fixed seed for reproducibility).\n",
    "\n",
    "**2.Compare Centroid Convergence:**\n",
    "\n",
    "- Record the positions of centroids after each run for both methods.\n",
    "\n",
    "- Identify if centroids consistently converge to the same positions with k-means++.\n",
    "\n",
    "**3.Output Results:**\n",
    "\n",
    "- Return the final centroid positions for one specific run for both methods.\n",
    "\n",
    "- Highlight the differences in convergence patterns between random and k-means++.\n",
    "\n",
    "\n",
    "**Output**:\n",
    "\n",
    "- Centroid positions for both K-Means (random) and K-Means++ (k-means++) for a specific run.\n",
    "\n",
    "- Visualization of centroid positions across multiple runs for both methods.\n"
   ]
  },
  {
   "cell_type": "code",
   "execution_count": null,
   "metadata": {},
   "outputs": [],
   "source": [
    "# Generate synthetic dataset\n",
    "from sklearn.datasets import make_blobs\n",
    "X, _ = make_blobs(n_samples=300, centers=5, cluster_std=1.0, random_state=42)"
   ]
  },
  {
   "cell_type": "code",
   "execution_count": null,
   "metadata": {
    "ExecuteTime": {
     "end_time": "2024-09-30T18:29:22.226699Z",
     "start_time": "2024-09-30T18:29:22.124362Z"
    },
    "id": "4cjZCE_Q2hN1"
   },
   "outputs": [],
   "source": [
    "import numpy as np\n",
    "import matplotlib.pyplot as plt\n",
    "from sklearn.cluster import KMeans\n",
    "\n",
    "def kmeans_vs_kmeanspp(X):\n",
    "\n",
    "    # Write your code here\n",
    "\n",
    "\n"
   ]
  },
  {
   "cell_type": "code",
   "execution_count": null,
   "metadata": {
    "colab": {
     "base_uri": "https://localhost:8080/",
     "height": 738
    },
    "id": "v8_Sh6VFZiOo",
    "outputId": "0a1bc90a-0c00-439e-d763-b4c108c5b005"
   },
   "outputs": [],
   "source": [
    "# Example usage\n",
    "random_centroids, kmeanspp_centroids = kmeans_vs_kmeanspp(X)\n",
    "print(f\"Random Initialization Centroids (Run 1): {random_centroids}\")\n",
    "print(f\"K-Means++ Initialization Centroids (Run 1): {kmeanspp_centroids}\")"
   ]
  },
  {
   "cell_type": "markdown",
   "metadata": {
    "id": "dlsMD8zXZiOo"
   },
   "source": [
    "#### Save your solution to a file ..."
   ]
  },
  {
   "cell_type": "code",
   "execution_count": null,
   "metadata": {
    "ExecuteTime": {
     "end_time": "2024-09-30T18:29:22.551198Z",
     "start_time": "2024-09-30T18:29:22.451243Z"
    },
    "colab": {
     "base_uri": "https://localhost:8080/"
    },
    "id": "I3WoLmN_ZiOo",
    "outputId": "c66786cd-c68b-4f0d-ce0c-bfe9f423e6fc"
   },
   "outputs": [],
   "source": [
    "%%writefile solution_11_2.py\n",
    "\n",
    "import numpy as np\n",
    "import matplotlib.pyplot as plt\n",
    "from sklearn.cluster import KMeans\n",
    "\n",
    "def kmeans_vs_kmeanspp(X):\n",
    "\n",
    "\n",
    "\n"
   ]
  },
  {
   "cell_type": "markdown",
   "metadata": {
    "id": "-6Zay9KIZiOo"
   },
   "source": [
    "#### Test 11.2 Execute the cell below to test your solution..."
   ]
  },
  {
   "cell_type": "code",
   "execution_count": null,
   "metadata": {
    "ExecuteTime": {
     "end_time": "2024-09-30T18:29:22.844763Z",
     "start_time": "2024-09-30T18:29:22.606809Z"
    },
    "colab": {
     "base_uri": "https://localhost:8080/"
    },
    "id": "50Vqcn6oZiOo",
    "outputId": "9b1d7038-004f-4a60-ebfc-ec9091b422b1"
   },
   "outputs": [],
   "source": [
    "! test/run_test.sh 2"
   ]
  },
  {
   "cell_type": "code",
   "execution_count": null,
   "metadata": {
    "id": "2AUT5bJTiKZW"
   },
   "outputs": [],
   "source": []
  },
  {
   "cell_type": "markdown",
   "metadata": {
    "id": "UguNN8jDZiOo"
   },
   "source": [
    "### Problem 11.3: Agglomerative Hierarchical Clustering (AHC) on Concentric Rings\n",
    "\n",
    "**Description**:\n",
    "\n",
    "Cluster data arranged in concentric rings using Agglomerative Hierarchical Clustering (AHC) with three linkage methods. Visualize and save the resulting clusters as .png images for comparison.\n",
    "\n",
    "\n",
    "**We generate a data set for clustering:**\n",
    "\n",
    "Generate a dataset with concentric rings using `sklearn.datasets.make_circles`:\n",
    "\n",
    "- n_samples=500: 500 points.\n",
    "\n",
    "- noise=0.05: Adds slight noise.\n",
    "\n",
    "- factor=0.5: Distance between inner and outer circles.\n",
    "\n",
    "\n",
    "**Tasks:**\n",
    "\n",
    "Perform AHC using `sklearn.cluster.AgglomerativeClustering` with the following linkage methods:\n",
    "\n",
    "- Single Linkage\n",
    "\n",
    "- Complete Linkage\n",
    "\n",
    "- Average Linkage\n",
    "\n",
    "For each linkage method:\n",
    "\n",
    "- Plot and label the clusters.\n",
    "\n",
    "- Save the plot as **.png** file.\n",
    "\n",
    "\n",
    "**Submission**:\n",
    "\n",
    "Submit the **.png** images (**ahc_single.png, ahc_complete.png, ahc_average.png**) showcasing the clusters for each linkage method."
   ]
  },
  {
   "cell_type": "code",
   "execution_count": null,
   "metadata": {},
   "outputs": [],
   "source": [
    "# Generate concentric rings dataset\n",
    "from sklearn.datasets import make_circles\n",
    "X, _ = make_circles(n_samples=500, noise=0.05, factor=0.5, random_state=42)"
   ]
  },
  {
   "cell_type": "code",
   "execution_count": null,
   "metadata": {
    "colab": {
     "base_uri": "https://localhost:8080/",
     "height": 1000
    },
    "id": "vTVwGNd_ZiOo",
    "outputId": "09b93832-27cf-4366-b630-5415b3b60d7e"
   },
   "outputs": [],
   "source": [
    "import numpy as np\n",
    "import matplotlib.pyplot as plt\n",
    "from sklearn.cluster import AgglomerativeClustering\n",
    "\n",
    "def plot_ahc_clustering(X):\n",
    "    \n",
    "    # Write your code here\n",
    "\n",
    "\n",
    "\n"
   ]
  },
  {
   "cell_type": "code",
   "execution_count": null,
   "metadata": {},
   "outputs": [],
   "source": [
    "# Example usage\n",
    "plot_ahc_clustering(X)"
   ]
  },
  {
   "cell_type": "markdown",
   "metadata": {
    "id": "V_In_ItuZiOo"
   },
   "source": [
    "#### Save your solution to a file ..."
   ]
  },
  {
   "cell_type": "code",
   "execution_count": null,
   "metadata": {
    "colab": {
     "base_uri": "https://localhost:8080/"
    },
    "id": "faaGepf2ZiOp",
    "outputId": "6dd22c41-1294-4b4c-84f5-db3507fc215d"
   },
   "outputs": [],
   "source": [
    "%%writefile solution_11_3.py\n",
    "\n",
    "import numpy as np\n",
    "import matplotlib.pyplot as plt\n",
    "from sklearn.cluster import AgglomerativeClustering\n",
    "\n",
    "def plot_ahc_clustering(X):\n",
    "\n",
    "\n",
    "\n"
   ]
  },
  {
   "cell_type": "markdown",
   "metadata": {
    "id": "6rjDbFLWZiOp"
   },
   "source": [
    "#### Test 11.3 Execute the cell below to test your solution..."
   ]
  },
  {
   "cell_type": "code",
   "execution_count": null,
   "metadata": {
    "colab": {
     "base_uri": "https://localhost:8080/"
    },
    "id": "TBnZK_-EZiOp",
    "outputId": "7b5c7440-3278-457b-8dcc-c0a9a51771b1"
   },
   "outputs": [],
   "source": [
    "! test/run_test.sh 3"
   ]
  },
  {
   "cell_type": "code",
   "execution_count": null,
   "metadata": {
    "id": "HEpDl9Np5boK"
   },
   "outputs": [],
   "source": []
  },
  {
   "cell_type": "markdown",
   "metadata": {
    "id": "vPZu6cQpiKZX"
   },
   "source": [
    "### 11.4 DBSCAN Clustering with Blobs and Rings\n",
    "\n",
    "**Problem Statement:**\n",
    "\n",
    "You are tasked to cluster data points using the DBSCAN clustering algorithm. Your implementation should apply DBSCAN to two different datasets and visualize the results.\n",
    "\n",
    "\n",
    "**We generate a data set for clustering:**\n",
    "\n",
    "Dataset 1: Random blobs (clusters of varying densities).\n",
    "\n",
    "- Use `make_blobs` to create 3 clusters with varying densities.\n",
    "\n",
    "- Parameters:\n",
    "\n",
    "    * n_samples=500 (500 data points)\n",
    "\n",
    "    * centers=3 (3 distinct cluster centers)\n",
    "\n",
    "    * cluster_std=[1.0, 2.5, 0.5] (standard deviations for clusters)\n",
    "\n",
    "    * random_state=42 (for reproducibility)\n",
    "\n",
    "Dataset 2: Concentric rings.\n",
    "\n",
    "- Use make_circles to generate two concentric rings.\n",
    "  \n",
    "- Parameters:\n",
    "    * n_samples=500 (500 data points)\n",
    "      \n",
    "    * factor=0.5 (controls the spacing between rings)\n",
    "      \n",
    "    * noise=0.05 (adds noise to the data)\n",
    "\n",
    "\n",
    "**Tasks:**\n",
    "\n",
    "1. Apply the **DBSCAN** Algorithm:\n",
    "   \n",
    "- Use DBSCAN from `sklearn.cluster.DBSCAN` for clustering.\n",
    "- Train DBSCAN on each dataset with different values for eps and min_samples:\n",
    "    * eps: The maximum distance between two points to consider them neighbors.\n",
    "    * min_samples: The minimum number of points required to form a dense cluster.\n",
    "\n",
    "2. Visualize the Results:\n",
    "   \n",
    "- Plot the clustering results for both datasets in a 2x1 grid.\n",
    "- Save the plot as a **.png** image.\n"
   ]
  },
  {
   "cell_type": "code",
   "execution_count": null,
   "metadata": {},
   "outputs": [],
   "source": [
    "from sklearn.datasets import make_blobs, make_circles\n",
    "\n",
    "# Dataset 1: Random blobs\n",
    "X_blobs, _ = make_blobs(n_samples=500, centers=3, cluster_std=[1.0, 2.5, 0.5], random_state=42)\n",
    "\n",
    "# Dataset 2: Concentric rings\n",
    "X_circles, _ = make_circles(n_samples=500, factor=0.5, noise=0.05)\n",
    "\n",
    "datasets = {\"Blobs\": X_blobs, \"Rings\": X_circles}"
   ]
  },
  {
   "cell_type": "code",
   "execution_count": null,
   "metadata": {
    "id": "uJRnlEBNZiOp"
   },
   "outputs": [],
   "source": [
    "import numpy as np\n",
    "import matplotlib.pyplot as plt\n",
    "from sklearn.cluster import DBSCAN\n",
    "\n",
    "def apply_dbscan_and_plot(datasets):\n",
    "\n",
    "    # Write your code here\n",
    "\n",
    "    \n",
    "\n",
    "    "
   ]
  },
  {
   "cell_type": "code",
   "execution_count": null,
   "metadata": {},
   "outputs": [],
   "source": [
    "# Apply DBSCAN and plot results\n",
    "apply_dbscan_and_plot(datasets)"
   ]
  },
  {
   "cell_type": "markdown",
   "metadata": {
    "id": "uR5K1qq9iKZX"
   },
   "source": [
    "#### Save your solution to a file ..."
   ]
  },
  {
   "cell_type": "code",
   "execution_count": null,
   "metadata": {
    "colab": {
     "base_uri": "https://localhost:8080/"
    },
    "id": "9vuPVQ0ciKZX",
    "outputId": "e391e543-21a1-4a44-cc56-3dffc1002d92"
   },
   "outputs": [],
   "source": [
    "%%writefile solution_11_4.py\n",
    "\n",
    "import numpy as np\n",
    "import matplotlib.pyplot as plt\n",
    "from sklearn.cluster import DBSCAN\n",
    "\n",
    "def apply_dbscan_and_plot(datasets):\n",
    "\n",
    "\n",
    "\n"
   ]
  },
  {
   "cell_type": "markdown",
   "metadata": {
    "id": "3WQfm49WiKZX"
   },
   "source": [
    "#### Test 11.4 Execute the cell below to test your solution..."
   ]
  },
  {
   "cell_type": "code",
   "execution_count": null,
   "metadata": {
    "colab": {
     "base_uri": "https://localhost:8080/"
    },
    "id": "j0oHM-9JiKZX",
    "outputId": "6095f1f4-52b8-4921-ce86-a3e2ecf2cd6c"
   },
   "outputs": [],
   "source": [
    "! test/run_test.sh 4"
   ]
  },
  {
   "cell_type": "code",
   "execution_count": null,
   "metadata": {
    "id": "049thGnAiKZb"
   },
   "outputs": [],
   "source": []
  },
  {
   "cell_type": "markdown",
   "metadata": {
    "id": "o3F103HXZiOp"
   },
   "source": [
    "### 11.5: Comparison of Clustering Techniques on Complex Data\n",
    "\n",
    "**Problem Statement:**\n",
    "\n",
    "You are tasked to compare six different clustering techniques on a complex dataset that includes ring or half-moon shapes. The goal is to understand how each method performs on non-linear data and visualize the clustering results.\n",
    "\n",
    "\n",
    "**We generate a data set for clustering:**\n",
    "\n",
    "- Use `make_moons` from `sklearn.datasets` to generate a dataset with two interleaved half-moon shapes.\n",
    "\n",
    "- Dataset Parameters:\n",
    "\n",
    "    * n_samples=500 (500 data points)\n",
    "\n",
    "    * noise=0.05 (introduce noise for complexity)\n",
    "\n",
    "    * random_state=42 (ensure reproducibility)\n",
    "\n",
    "\n",
    "**Tasks**\n",
    "\n",
    "1. Apply Clustering Techniques:\n",
    "\n",
    "Apply the following six clustering algorithms to the dataset:\n",
    "\n",
    "**KMeans++:** \n",
    "\n",
    "- Use **KMeans** from sklearn.cluster.\n",
    "- Initialization method: k-means++.\n",
    "- Number of clusters: 2.\n",
    "\n",
    "**Agglomerative Hierarchical Clustering (AHC):**\n",
    "\n",
    "- Use **AgglomerativeClustering** from sklearn.cluster.\n",
    "- Number of clusters: 2.\n",
    "\n",
    "**DBSCAN:**\n",
    "\n",
    "- Use **DBSCAN** from sklearn.cluster.\n",
    "- eps=0.2 (radius of neighborhood).\n",
    "- min_samples=5 (minimum number of points in a neighborhood to form a cluster).\n",
    "\n",
    "**Spectral Clustering:**\n",
    "\n",
    "- Use **SpectralClustering** from sklearn.cluster.\n",
    "- Number of clusters: 2.\n",
    "- affinity='nearest_neighbors'.\n",
    "\n",
    "**Gaussian Mixture Model (GMM):**\n",
    "\n",
    "- Use **GaussianMixture** from sklearn.mixture.\n",
    "- Number of components: 2.\n",
    "\n",
    "**BIRCH:**\n",
    "\n",
    "- Use **Birch** from sklearn.cluster.\n",
    "- Number of clusters: 2.\n",
    "\n",
    "2. Visualize Clustering Results: For each clustering method:\n",
    "\n",
    "- Plot the data points colored by their assigned cluster.\n",
    "- Display all six clustering results side by side in a 2x3 grid for comparison.\n",
    "- Save the visualization as **comparison_of_clustering_techniques.png**.\n"
   ]
  },
  {
   "cell_type": "code",
   "execution_count": null,
   "metadata": {},
   "outputs": [],
   "source": [
    "# Create a dataset with half-moon shapes\n",
    "from sklearn.datasets import make_moons\n",
    "X, _ = make_moons(n_samples=500, noise=0.05, random_state=42)"
   ]
  },
  {
   "cell_type": "code",
   "execution_count": null,
   "metadata": {
    "id": "K4bsfwWbZiOp",
    "scrolled": true
   },
   "outputs": [],
   "source": [
    "import numpy as np\n",
    "import matplotlib.pyplot as plt\n",
    "from sklearn.cluster import KMeans, AgglomerativeClustering, DBSCAN, SpectralClustering, Birch\n",
    "from sklearn.mixture import GaussianMixture\n",
    "\n",
    "def apply_clustering_methods(X):\n",
    "\n",
    "    # Write your code here\n",
    "\n",
    "    \n",
    "    \n",
    "    return results\n",
    "\n",
    "\n",
    "def plot_clustering_results(X, clustering_results):\n",
    "\n",
    "    # Write your code here\n",
    "\n",
    "\n"
   ]
  },
  {
   "cell_type": "code",
   "execution_count": null,
   "metadata": {},
   "outputs": [],
   "source": [
    "# Apply clustering methods\n",
    "clustering_results = apply_clustering_methods(X)\n",
    "\n",
    "# Plot and save results\n",
    "plot_clustering_results(X, clustering_results)"
   ]
  },
  {
   "cell_type": "markdown",
   "metadata": {
    "id": "K0Ltf0x9iKZb"
   },
   "source": [
    "#### Save your solution to a file ..."
   ]
  },
  {
   "cell_type": "code",
   "execution_count": null,
   "metadata": {
    "colab": {
     "base_uri": "https://localhost:8080/"
    },
    "id": "aqxRRIuKiKZb",
    "outputId": "f421c89d-0b0d-4ef2-b894-ade75cf25588"
   },
   "outputs": [],
   "source": [
    "%%writefile solution_11_5.py\n",
    "import numpy as np\n",
    "import matplotlib.pyplot as plt\n",
    "from sklearn.cluster import KMeans, AgglomerativeClustering, DBSCAN, SpectralClustering, Birch\n",
    "from sklearn.mixture import GaussianMixture\n",
    "\n",
    "def apply_clustering_methods(X):\n",
    "\n",
    "\n",
    "    \n",
    "    \n",
    "    return results\n",
    "\n",
    "\n",
    "def plot_clustering_results(X, clustering_results):\n",
    "\n",
    "\n",
    "\n",
    "\n"
   ]
  },
  {
   "cell_type": "markdown",
   "metadata": {
    "id": "tnWVfOb3ZiOp"
   },
   "source": [
    "#### Test 11.5 Execute the cell below to test your solution..."
   ]
  },
  {
   "cell_type": "code",
   "execution_count": null,
   "metadata": {
    "colab": {
     "base_uri": "https://localhost:8080/"
    },
    "id": "jEFhdc_7dGff",
    "outputId": "9c7fb75a-51c4-44f6-f111-c332b22f1e2c"
   },
   "outputs": [],
   "source": [
    "! test/run_test.sh 5"
   ]
  },
  {
   "cell_type": "code",
   "execution_count": null,
   "metadata": {
    "id": "FHlYhXH11dsJ"
   },
   "outputs": [],
   "source": []
  },
  {
   "cell_type": "markdown",
   "metadata": {
    "id": "RHS2zsUfARtv"
   },
   "source": [
    "# Run all the tests again ..."
   ]
  },
  {
   "cell_type": "code",
   "execution_count": null,
   "metadata": {
    "id": "hPxwUHEd1dul",
    "outputId": "711bd0ba-a354-4749-8cbc-1a2369e3d470"
   },
   "outputs": [],
   "source": [
    "! ./test/run_test.sh"
   ]
  },
  {
   "cell_type": "code",
   "execution_count": null,
   "metadata": {
    "id": "lXV85d2wAVx1"
   },
   "outputs": [],
   "source": []
  },
  {
   "cell_type": "markdown",
   "metadata": {
    "id": "ml-HgeLbAYpq"
   },
   "source": [
    "# Homework Submission\n",
    "\n",
    "- This homework is due by **2024-12-04, 6:00 PM (EDT)**.\n",
    "\n",
    "- Make sure that all your programs and output files are in the exact folder as specified in the instructions.\n",
    "\n",
    "- All file names on this system are case sensitive. Verify if you copy your work from a local computer to your home directory on ARC.\n",
    "\n",
    "**Execute the cell below to submit your assignment**"
   ]
  },
  {
   "cell_type": "code",
   "execution_count": null,
   "metadata": {
    "id": "SwZl5dXMZiOp",
    "outputId": "2b39074e-7488-4143-a5a2-b0541420acd7"
   },
   "outputs": [],
   "source": [
    "! ./submit.sh -y"
   ]
  },
  {
   "cell_type": "code",
   "execution_count": null,
   "metadata": {
    "id": "YKrOeGexZiOp"
   },
   "outputs": [],
   "source": []
  },
  {
   "cell_type": "code",
   "execution_count": null,
   "metadata": {
    "id": "dKcp_rsZZiOq"
   },
   "outputs": [],
   "source": []
  }
 ],
 "metadata": {
  "colab": {
   "provenance": []
  },
  "kernelspec": {
   "display_name": "Python 3 (ipykernel)",
   "language": "python",
   "name": "python3"
  },
  "language_info": {
   "codemirror_mode": {
    "name": "ipython",
    "version": 3
   },
   "file_extension": ".py",
   "mimetype": "text/x-python",
   "name": "python",
   "nbconvert_exporter": "python",
   "pygments_lexer": "ipython3",
   "version": "3.8.6"
  }
 },
 "nbformat": 4,
 "nbformat_minor": 4
}
