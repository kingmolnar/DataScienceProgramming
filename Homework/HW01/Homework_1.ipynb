{
 "cells": [
  {
   "cell_type": "markdown",
   "metadata": {},
   "source": [
    "# Homework 1"
   ]
  },
  {
   "cell_type": "markdown",
   "metadata": {},
   "source": [
    "# File System\n",
    "Review UNIX file system and commands to navigate https://homepages.uc.edu/~thomam/Intro_Unix_Text/File_System.html"
   ]
  },
  {
   "cell_type": "markdown",
   "metadata": {},
   "source": [
    "## 1.1 Check directory for this assignment\n",
    "\n",
    "You are going to use the \"shell-magic\" marker in your Python notebook to execute UNIX commands. \n",
    "\n",
    "Code cells that start with the line \n",
    "```\n",
    "%%sh\n",
    "```\n",
    "execute all following lines are UNIX shell commands. \n",
    "\n",
    "For every shell-magic cell the working directory is the directory of the notebook.\n",
    "\n",
    "1. Check if that your working directory is `~/IFI8410F23/DataScienceProgramming/01-Intro-UNIX/HW01`) using the `pwd` command. **This is your assignment directory**, you need to create all files for this assignment in this directory.\n",
    "2. Create sub-directory named `data` using the `mkdir` command.\n"
   ]
  },
  {
   "cell_type": "code",
   "execution_count": null,
   "metadata": {},
   "outputs": [],
   "source": [
    "%%sh\n"
   ]
  },
  {
   "cell_type": "markdown",
   "metadata": {},
   "source": [
    "### Test 1.1\n",
    "- the directory exists"
   ]
  },
  {
   "cell_type": "markdown",
   "metadata": {},
   "source": [
    "## 1.2 List all files in your home directory, including hidden files\n",
    "\n",
    "Review the concept pipes and redirection from the notebook `Introduction_orig.ipynb`\n",
    "\n",
    "Read more about it [here](https://homepages.uc.edu/~thomam/Intro_Unix_Text/IO_Redir_Pipes.html)\n",
    "\n",
    "1. Apply the `ls` command with the apprpriate option to show *hidden files* on your **home** directory\n",
    "2. Direct the output to a file named `output_1_2.txt` in your **assignment directory**\n",
    "\n",
    "Note: Your home directoy is different from your assignment directory. "
   ]
  },
  {
   "cell_type": "code",
   "execution_count": null,
   "metadata": {},
   "outputs": [],
   "source": [
    "%%sh\n"
   ]
  },
  {
   "cell_type": "markdown",
   "metadata": {},
   "source": [
    "### Test 1.2\n",
    "- checking content of the output file"
   ]
  },
  {
   "cell_type": "markdown",
   "metadata": {},
   "source": [
    "## 1.3 List the files and subdirectories in the `/data/IFI8410/` directory\n",
    "1. Use the *recursive* option and the *long* option of the `ls` command to list all the files in the `/data/IFI8410/` folder. You don't need to include hidden files.\n",
    "2. Most of the data for this class will be in this directory. You have only read access to these files.\n",
    "3. Direct the output to a file named `output_1_3.txt` in your assignment directory"
   ]
  },
  {
   "cell_type": "code",
   "execution_count": null,
   "metadata": {},
   "outputs": [],
   "source": [
    "%%sh\n"
   ]
  },
  {
   "cell_type": "markdown",
   "metadata": {},
   "source": [
    "### Test 1.3\n",
    "- checking content of the output file"
   ]
  },
  {
   "cell_type": "markdown",
   "metadata": {},
   "source": [
    "## 1.4 List the data files with for sentiment analysis in the **data directory**\n",
    "1. There are three text files with labeled sentences for sentiment analysis in the data directory `/data/IFI8410`.\n",
    "2. Find where they are and list those files with their full path, date and file size in **human friendly** form.\n",
    "3. You can use the `-l` option for long format. (Hint: another option is required for human friendly output)\n",
    "4. Only list those three files. Don't include the 'read-me' file.\n",
    "5. Direct the output to a file named `output_1_4.txt` in your assignment directory\n",
    "\n",
    "Hint: Use wildcards in the file name \n",
    "- https://tldp.org/LDP/GNU-Linux-Tools-Summary/html/x11655.htm\n",
    "- https://www.tecmint.com/use-wildcards-to-match-filenames-in-linux/"
   ]
  },
  {
   "cell_type": "code",
   "execution_count": null,
   "metadata": {},
   "outputs": [],
   "source": [
    "%%sh\n"
   ]
  },
  {
   "cell_type": "markdown",
   "metadata": {},
   "source": [
    "### Test 1.4\n",
    "- checking content of the output file `output_1_4.txt`."
   ]
  },
  {
   "cell_type": "markdown",
   "metadata": {},
   "source": [
    "# Head, Tail, Counting\n",
    "Review the commands\n",
    "- [cat](https://man7.org/linux/man-pages/man1/cat.1.html) to add the content of one ore more files into the STDOUT stream; also used to \"concatenate\" files.\n",
    "- [head](https://man7.org/linux/man-pages/man1/head.1.html) to show the first *N* lines of the stream.\n",
    "- [tail](https://man7.org/linux/man-pages/man1/tail.1.html) to show the last *N* lines of the stream.\n",
    "-[wc](https://man7.org/linux/man-pages/man1/wc.1.html) to count the number of characters, words, and lines.\n"
   ]
  },
  {
   "cell_type": "markdown",
   "metadata": {},
   "source": [
    "## 1.5 List the first 20 lines of the data file \n",
    "1. List the first 20 lines of the data file `/data/IFI8410/sess01/sentiment_labelled_sentences/amazon_cells_labelled.txt`\n",
    "2. Direct the output to a file named `output_1_5.txt` in your assignment directory"
   ]
  },
  {
   "cell_type": "code",
   "execution_count": null,
   "metadata": {},
   "outputs": [],
   "source": [
    "%%sh\n"
   ]
  },
  {
   "cell_type": "markdown",
   "metadata": {},
   "source": [
    "### Test 1.5\n",
    "- Checking content of `output_1_5.txt`"
   ]
  },
  {
   "cell_type": "markdown",
   "metadata": {},
   "source": [
    "## 1.6 List the last 20 lines of the data file\n",
    "1. List the last 20 lines of the data file `/data/IFI8410/sess01/sentiment_labelled_sentences/amazon_cells_labelled.txt`\n",
    "2. Direct the output to a file named `output_1_6.txt` in your assignment directory"
   ]
  },
  {
   "cell_type": "code",
   "execution_count": null,
   "metadata": {},
   "outputs": [],
   "source": [
    "%%sh\n"
   ]
  },
  {
   "cell_type": "markdown",
   "metadata": {},
   "source": [
    "### Test 1.6\n",
    "- Checking content of `output_1_6.txt`"
   ]
  },
  {
   "cell_type": "markdown",
   "metadata": {},
   "source": [
    "## 1.7 Count lines, words, and characters of each of the three sentiment data files\n",
    "\n",
    "1. Instructions\n",
    "2. Direct the output to a file named `output_1_7.txt` in your assignment directory\n",
    "\n",
    "(Hint: you may have to execute multiple commands; use the *append* operator to add the output to an existing file.)"
   ]
  },
  {
   "cell_type": "code",
   "execution_count": null,
   "metadata": {},
   "outputs": [],
   "source": [
    "%%sh\n"
   ]
  },
  {
   "cell_type": "markdown",
   "metadata": {},
   "source": [
    "### Test 1.7\n",
    "- Checking content of `output_1_7.txt`"
   ]
  },
  {
   "cell_type": "markdown",
   "metadata": {},
   "source": [
    "## 1.8 Create a combined file for to analyze sentiment data\n",
    "1. Combine the three data file (Amazon, IDMB, Yelp) into a single stream, and\n",
    "2. Direct the output to a file named `sentiment.tsv` in thew `data` directory that you created earlier. The `data` is a subdirectory of your assignment directory."
   ]
  },
  {
   "cell_type": "code",
   "execution_count": null,
   "metadata": {},
   "outputs": [],
   "source": [
    "%%sh\n"
   ]
  },
  {
   "cell_type": "markdown",
   "metadata": {},
   "source": [
    "### Test 1.8\n",
    "The output file is a TSV (Tab Seperated Values) file. You can view it as a datatable in Jupyter Lab. Just double-click on the file in your file browser.\n",
    "\n",
    "- Checking content of `sentiment.tsv`"
   ]
  },
  {
   "cell_type": "markdown",
   "metadata": {},
   "source": [
    "# Character Transformations\n",
    "\n",
    "The [tr](https://man7.org/linux/man-pages/man1/tr.1.html) \n",
    "is used to translate, squeeze, and/or delete characters from standard input, writing to standard output.\n",
    "\n",
    "References: \n",
    "- https://shapeshed.com/unix-tr/\n",
    "- https://man7.org/linux/man-pages/man1/tr.1.html"
   ]
  },
  {
   "cell_type": "markdown",
   "metadata": {},
   "source": [
    "## 1.9 Convert TSV file to PSV\n",
    "Replace the TAB chacter `\\t` with the \"Pipe\" character '|'. (Data tables may use different characters to separate values with a row. \n",
    "   The \"Pipe\" symbol is a popular alternative to the comma ','. Files that use the pipe symbol often use the file extension `.psv`, pipe-seperated values.)\n",
    "1. Apply the transformation on your `sentiment.tsv` in your `data` subdirectory. You may either use the STDIN redirect symbol `<`, or `cat` to bring the content of the input file into the stream. \n",
    "2. Use the `tr` command to convert any TAB character `\\t` with the pipe character `|`\n",
    "2. Direct the output to a file named `sentiment.psv` in your `data` directory"
   ]
  },
  {
   "cell_type": "code",
   "execution_count": null,
   "metadata": {},
   "outputs": [],
   "source": [
    "%%sh\n"
   ]
  },
  {
   "cell_type": "markdown",
   "metadata": {},
   "source": [
    "### Test 1.9\n",
    "- Checking content of `sentiment.psv`"
   ]
  },
  {
   "cell_type": "markdown",
   "metadata": {},
   "source": [
    "## 1.10 Convert text to all lower case\n",
    "1. Apply the `tr` command to convert the content from the data file `sentiment.psv` to all lower case. Special characters should not be changed.\n",
    "2. Direct the output to a file named `sentiment_lower.psv` in your `data` directory"
   ]
  },
  {
   "cell_type": "code",
   "execution_count": null,
   "metadata": {},
   "outputs": [],
   "source": [
    "%%sh\n"
   ]
  },
  {
   "cell_type": "markdown",
   "metadata": {},
   "source": [
    "### Test 1.10\n",
    "- Checking content of `sentiment_lower.psv`"
   ]
  },
  {
   "cell_type": "markdown",
   "metadata": {},
   "source": [
    "# Line Filter, Sorting, Uniqueness\n",
    "Review the commands\n",
    "\n",
    "- [grep](https://man7.org/linux/man-pages/man1/grep.1.html) to search for patterns in files\n",
    "- [cut](https://man7.org/linux/man-pages/man1/cut.1.html) to split lines by delimiting characters\n",
    "- [sort](https://man7.org/linux/man-pages/man1/sort.1.html) for sorting\n",
    "- [uniq](https://man7.org/linux/man-pages/man1/uniq.1.html) to remove duplicates, but also count lines with same content"
   ]
  },
  {
   "cell_type": "markdown",
   "metadata": {},
   "source": [
    "## 1.11 Split sentiment data into positive and negative: extract positive\n",
    "The sentiment data have two columns: the text in the first column, and value 0 and 1 in the second column. In PSV files the values are separated by the pipe symbol `|`. \n",
    "1. Apply the `grep` command to filter out all **positive** records (the ones labeled \"1\")\n",
    "2. Direct the output to a file named `sentiment_lower_positive.psv` in your `data` directory"
   ]
  },
  {
   "cell_type": "code",
   "execution_count": null,
   "metadata": {},
   "outputs": [],
   "source": [
    "%%sh\n"
   ]
  },
  {
   "cell_type": "markdown",
   "metadata": {},
   "source": [
    "### Test 1.11\n",
    "- Checking content of `sentiment_lower_positive.psv`"
   ]
  },
  {
   "cell_type": "markdown",
   "metadata": {},
   "source": [
    "## 1.12 Extract negative\n",
    "Now do the same to get **negative** records\n",
    "1. Apply the `grep` command to filter out all **negative** records (the ones labeled \"0\")\n",
    "2. Direct the output to a file named `sentiment_lower_negative.psv` in your `data` directory"
   ]
  },
  {
   "cell_type": "code",
   "execution_count": null,
   "metadata": {},
   "outputs": [],
   "source": [
    "%%sh\n"
   ]
  },
  {
   "cell_type": "markdown",
   "metadata": {},
   "source": [
    "### Test 1.12\n",
    "- Checking content of `sentiment_lower_negative.psv`"
   ]
  },
  {
   "cell_type": "markdown",
   "metadata": {},
   "source": [
    "## 1.13 Extract first column of data files (positive)\n",
    "Now that we have two separate files for positive and negative sentiments, we can get rid of the second column.\n",
    "1. Apply the `cut` command to the `sentiment_lower_positive.psv` file\n",
    "2. The separator is the pipe sysmbol. To distinguish this from \"pipe\" between UNIX commands, you have to enclose the symbol in quotes: `cat -d'|'`\n",
    "2. Direct the output to a file named `sentiment_positive.txt` in your `data` directory"
   ]
  },
  {
   "cell_type": "code",
   "execution_count": null,
   "metadata": {},
   "outputs": [],
   "source": [
    "%%sh\n"
   ]
  },
  {
   "cell_type": "markdown",
   "metadata": {},
   "source": [
    "### Test 1.13\n",
    "- Checking content of `sentiment_positive.txt`"
   ]
  },
  {
   "cell_type": "markdown",
   "metadata": {},
   "source": [
    "## 1.14 Extract first column of data files (negative)\n",
    "Do the same thing for negative sentiments\n",
    "1. Apply the `cut` command to the `sentiment_lower_nagative.psv` file\n",
    "2. Direct the output to a file named `sentiment_negative.txt` in your `data` directory"
   ]
  },
  {
   "cell_type": "code",
   "execution_count": null,
   "metadata": {},
   "outputs": [],
   "source": [
    "%%sh\n"
   ]
  },
  {
   "cell_type": "markdown",
   "metadata": {},
   "source": [
    "### Test 1.14\n",
    "- Checking content of `sentiment_negative.txt`"
   ]
  },
  {
   "cell_type": "markdown",
   "metadata": {},
   "source": [
    "## 1.15 Split text lines into single word lines\n",
    "Create a file with a single words per line by replacing each blank `' '` with a new-line character `'\\n'`. \n",
    "1. Apply the `tr` command to replace blanks with new-lines to each of the files `sentiment_positive.txt` and `sentiment_negative.txt`\n",
    "2. Direct the outputs into their respective files `sentiment_positive_tokens.txt` and `sentiment_negative_tokens.txt` in your `data` directory"
   ]
  },
  {
   "cell_type": "code",
   "execution_count": null,
   "metadata": {},
   "outputs": [],
   "source": [
    "%%sh\n"
   ]
  },
  {
   "cell_type": "markdown",
   "metadata": {},
   "source": [
    "### Test 1.15\n",
    "- Checking content of `sentiment_positive_tokens.txt` and `sentiment_negative_tokens.txt`"
   ]
  },
  {
   "cell_type": "markdown",
   "metadata": {},
   "source": [
    "## 1.16 Clean up by removing special characters\n",
    "You see special characters like `.!?\"` in the data files.\n",
    "1. Use the `tr` command to remove special characters. You can either specify the characters that you want to remove, or those that you want to keep. (You need to keep the newline characters in the file.)\n",
    "2. Apply the transformation for your data files `sentiment_positive_tokens.txt` and `sentiment_negative_tokens.txt`\n",
    "2. Direct the output to the respective files `sentiment_positive_words.txt` and `sentiment_negative_word.txt` in your `data` directory"
   ]
  },
  {
   "cell_type": "code",
   "execution_count": null,
   "metadata": {},
   "outputs": [],
   "source": [
    "%%sh\n"
   ]
  },
  {
   "cell_type": "markdown",
   "metadata": {},
   "source": [
    "### Test 1.16\n",
    "- Checking content of `sentiment_positive_words.txt` and `sentiment_negative_words.txt`"
   ]
  },
  {
   "cell_type": "markdown",
   "metadata": {},
   "source": [
    "## 1.17 List the top 20 positive words from the sentiment data\n",
    "In order to count the frequencey of words in your lists you can sort, \"count\" with `uniq`, and then sort the outputs  \n",
    "1. Apply `sort` and `uniq` commands to create a ranking of the 20 most frequent words in the positive sentiments.\n",
    "3. Produce the output that shows the frequency and the word perline. The list shold be ordered by frequency, with the most frequent word on top.\n",
    "2. Direct the output to a file named `output_1_17.txt` in your assignment directory"
   ]
  },
  {
   "cell_type": "code",
   "execution_count": null,
   "metadata": {},
   "outputs": [],
   "source": [
    "%%sh\n"
   ]
  },
  {
   "cell_type": "markdown",
   "metadata": {},
   "source": [
    "### Test 1.17\n",
    "- Checking content of `output_1_17.txt`"
   ]
  },
  {
   "cell_type": "markdown",
   "metadata": {},
   "source": [
    "## 1.18 List the top 20 negative words from the sentiment data\n",
    "1. Apply `sort` and `uniq` commands to create a ranking of the 20 most frequent words in the negative sentiments.\n",
    "3. Produce the output that shows the frequency and the word perline. The list shold be ordered by frequency, with the most frequent word on top.\n",
    "2. Direct the output to a file named `output_1_18.txt` in your assignment directory"
   ]
  },
  {
   "cell_type": "code",
   "execution_count": null,
   "metadata": {},
   "outputs": [],
   "source": [
    "%%sh\n"
   ]
  },
  {
   "cell_type": "markdown",
   "metadata": {},
   "source": [
    "### Test 1.18\n",
    "- Checking content of `output_1_18.txt`"
   ]
  },
  {
   "cell_type": "markdown",
   "metadata": {},
   "source": [
    "## 1.19 Remove blank lines\n",
    "You may have noticed that our word lists include blank lines which are copunted as teh most frequent word. To fix that you need to filter out blank lines before computing the frequencies.\n",
    "1. Modify your previous solutions of listing the postive and negatrive words with their frequencies to account for blank lines.\n",
    "3. Include all words, not only the top 10\n",
    "3. Use the same output format per line: *Frequency* *Word*\n",
    "3. The lists shold be ordered by frequency, with the most frequent word on top.\n",
    "2. Direct the respective outputs to file named `posivite_words.lst` and `negative_words.lst` in your `data` directory"
   ]
  },
  {
   "cell_type": "code",
   "execution_count": null,
   "metadata": {},
   "outputs": [],
   "source": [
    "%%sh\n"
   ]
  },
  {
   "cell_type": "markdown",
   "metadata": {},
   "source": [
    "### Test 1.19\n",
    "- Checking content of `posivite_words.lst` and `negative_words.ls`"
   ]
  },
  {
   "cell_type": "markdown",
   "metadata": {},
   "source": [
    "# Python\n",
    "\n",
    "Review [Chapter 2 if the Python Book](https://wesmckinney.com/book/python-basics)\n",
    "\n",
    "For the following steps you are going to use another magic `%%writefile` and some cells without any \"magic\". The latter are actually executed by the Python kernel.\n",
    "\n",
    "You are going to write a very simple Python program. First you test your code in the nobeook, then you save the code to a file and make it executable.\n",
    "\n",
    "This example program calculates the area of a cricle for a given radius."
   ]
  },
  {
   "cell_type": "markdown",
   "metadata": {},
   "source": [
    "## 1.20 The constant π\n",
    "The Python module `math` include a defintion of π\n",
    "1. Execute the cell below to see the value of π\n",
    "2. It's shown with only 3 digits after the decimal point. Change it to show 48 digits"
   ]
  },
  {
   "cell_type": "code",
   "execution_count": null,
   "metadata": {},
   "outputs": [],
   "source": [
    "from math import pi\n",
    "print(\"This program calculates the area of a cricle for a given radius.\")\n",
    "print(f\"π is defined as {pi:.4}.\")"
   ]
  },
  {
   "cell_type": "markdown",
   "metadata": {},
   "source": [
    "## 1.21 User input\n",
    "1. Now we use the `input` function to get the user input\n",
    "3. Add Python commands to print the value and data type of the user input\n"
   ]
  },
  {
   "cell_type": "code",
   "execution_count": null,
   "metadata": {},
   "outputs": [],
   "source": [
    "from math import pi\n",
    "print(\"This program calculates the area of a cricle for a given radius.\")\n",
    "print(f\"π is defined as {pi:.4}.\")\n",
    "ans = input(\"Enter the radius: \")\n",
    "\n",
    "### your code below\n"
   ]
  },
  {
   "cell_type": "markdown",
   "metadata": {},
   "source": [
    "## 1.22 Convert user input to numerical value\n",
    "1. The user input is a string characters even if the user only enters numbers.\n",
    "2. Convert the user input `ans` to a numeric value. There are several, which one would be best?\n",
    "2. Assign the numeric value of the user input to a variable `radius`\n",
    "3. print the radius and it's datatype"
   ]
  },
  {
   "cell_type": "code",
   "execution_count": null,
   "metadata": {},
   "outputs": [],
   "source": [
    "from math import pi\n",
    "print(\"This program calculates the area of a cricle for a given radius.\")\n",
    "print(f\"π is defined as {pi:.4}.\")\n",
    "ans = input(\"Enter the radius: \")\n",
    "## complete the code \n",
    "radius = \n",
    "\n",
    "### show the value and datatype\n"
   ]
  },
  {
   "cell_type": "markdown",
   "metadata": {},
   "source": [
    "## 1.23 Calculate the area of the circle\n",
    "1. Add the calculation of the area of the circle, assign the value to the variable `area`\n",
    "2. Print the result in a nicely formatted message"
   ]
  },
  {
   "cell_type": "code",
   "execution_count": null,
   "metadata": {},
   "outputs": [],
   "source": [
    "from math import pi\n",
    "\n",
    "print(\"This program calculates the area of a cricle for a given radius.\")\n",
    "print(f\"π is defined as {pi:.4}.\")\n",
    "ans = input(\"Enter the radius: \")\n",
    "\n",
    "### the rest of your code here\n",
    "\n",
    "### at last, print the result\n",
    "print(f\"The area of the circle is: {area:.3f}\")"
   ]
  },
  {
   "cell_type": "markdown",
   "metadata": {},
   "source": [
    "## 1.24 Putting everything together ans save it as a program file\n",
    "1. Use the `%%writefile` magic to create a file. When you execute the cell it writes the conents of the cell into the given file.\n",
    "2. Alternatively, you can create file and edit it with the Jupyter Lab program editor.\n",
    "3. The line `#!/usr/bin/env python3` must be the first line of the file.\n",
    "2. Add your Python code between the lines \n",
    "```\n",
    "### the rest of your code here\n",
    "```\n",
    "and\n",
    "```\n",
    "### at last, print the result\n",
    "```"
   ]
  },
  {
   "cell_type": "code",
   "execution_count": null,
   "metadata": {},
   "outputs": [],
   "source": [
    "%%writefile circle_area.py\n",
    "#!/usr/bin/env python3\n",
    "from math import pi\n",
    "\n",
    "print(\"This program calculates the area of a cricle for a given radius.\")\n",
    "print(f\"π is defined as {pi:.4}.\")\n",
    "ans = input(\"Enter the radius: \")\n",
    "\n",
    "### the rest of your code here\n",
    "\n",
    "### at last, print the result\n",
    "print(f\"The area of the circle is: {area:.3f}\")"
   ]
  },
  {
   "cell_type": "markdown",
   "metadata": {},
   "source": [
    "### Test 1.24\n",
    "- Checking content of `circle_area.py`"
   ]
  },
  {
   "cell_type": "markdown",
   "metadata": {},
   "source": [
    "## 1.25 Make exmaple program executable\n",
    "Review the [chmod](https://man7.org/linux/man-pages/man1/chmod.1.html) command to set file permissions\n",
    "1. Apply the command `chmod` on the Python script from above, and make it executable. (Hint use the `a+x` option.)\n",
    "2. Test it out either from the terminal with\n",
    "```\n",
    "./circle_area.py\n",
    "```\n",
    "or in the notebook with\n",
    "```\n",
    "%%sh\n",
    "echo \"5\" | ./circle_area.py\n",
    "```"
   ]
  },
  {
   "cell_type": "code",
   "execution_count": null,
   "metadata": {},
   "outputs": [],
   "source": [
    "%%sh\n"
   ]
  },
  {
   "cell_type": "markdown",
   "metadata": {},
   "source": [
    "### Test 1.25\n",
    "- Checking *permissions* of `circle_area.py`"
   ]
  },
  {
   "cell_type": "markdown",
   "metadata": {},
   "source": [
    "Try this:"
   ]
  },
  {
   "cell_type": "code",
   "execution_count": null,
   "metadata": {},
   "outputs": [],
   "source": [
    "%%sh\n",
    "echo \"5\" | ./circle_area.py"
   ]
  },
  {
   "cell_type": "raw",
   "metadata": {},
   "source": [
    "This program calculates the area of a cricle for a given radius.\n",
    "π is defined as 3.14159265358979311599796346854418516159057617188.\n",
    "Enter the radius: The area of the circle is: 78.540"
   ]
  },
  {
   "cell_type": "markdown",
   "metadata": {},
   "source": [
    "# Testing (TBD)\n",
    "- Instructions on how to check your homework prior to grading will be posted soon\n",
    "\n",
    "# Homework Submission\n",
    "- This homework is due by August 30, 5:30PM (EDT)\n",
    "- Make sure that all your programs and output files are in the exact folder as specified in the instructions.\n",
    "- All file names on this system are case sensitive. Verify if you copy your work from a local computer to your home directory on ARC.\n",
    "- No further action is need to submit your assignment.\n"
   ]
  }
 ],
 "metadata": {
  "kernelspec": {
   "display_name": "Python 3",
   "language": "python",
   "name": "python3"
  },
  "language_info": {
   "codemirror_mode": {
    "name": "ipython",
    "version": 3
   },
   "file_extension": ".py",
   "mimetype": "text/x-python",
   "name": "python",
   "nbconvert_exporter": "python",
   "pygments_lexer": "ipython3",
   "version": "3.8.6"
  }
 },
 "nbformat": 4,
 "nbformat_minor": 4
}
