{
 "cells": [
  {
   "attachments": {},
   "cell_type": "markdown",
   "metadata": {},
   "source": [
    "<p style=\"text-align:center;color:red;font-weight:bold;font-size:12pt;padding-bottom:20px\">Please, copy this notebook before editing!</p>\n",
    "\n",
    "# Homework 9\n",
    "\n",
    "The assignment uses an online retail data set for cluster analysis.\n",
    "\n",
    "The data set is available on ARC at `/data/IFI8410/online_retail/online_retail.xlsx`. (You don't need to download the data set.)\n",
    "\n",
    "## Cluster Analysis\n",
    "\n",
    "Review:\n",
    "- Unsupervised Learning: ML Book\n",
    "- Scikit Learn Clustering <https://scikit-learn.org/stable/modules/clustering.html>\n",
    "- T-distributed Stochastic Neighbor Embedding (t-SNE) <https://scikit-learn.org/stable/modules/generated/sklearn.manifold.TSNE.html>\n",
    "- One-hot Encoding <https://scikit-learn.org/stable/modules/generated/sklearn.preprocessing.OneHotEncoder.html>\n",
    "- Numpy [`reshape`](https://numpy.org/doc/stable/reference/generated/numpy.reshape.html) and [`stack`](https://numpy.org/doc/stable/reference/generated/numpy.stack.html) <https://hausetutorials.netlify.app/posts/2019-12-20-numpy-reshape/>\n",
    "\n",
    "## Exploratory Data Analysis\n"
   ]
  },
  {
   "cell_type": "markdown",
   "metadata": {},
   "source": [
    "### 9.1 Analyse Invoices\n",
    "\n",
    "Create a function `analyse_invoices` that calculates the metrics shown below from the data frame and resturns them as a dictionary of the following entries:\n",
    "| Key | Type of Value| Desctiption |\n",
    "|-----|-------------------|-------------|\n",
    "| `NumberOfInvoices` | int | Number of distinct invoices |            |\n",
    "| `TotalAmount` | int | Total amnount of orders, need to calculate from quantity and unit price, rounded to full \\$             |\n",
    "| `NumberOfCancelledInvoices` | int |  Number of cancelled orders |  \n",
    "| `CancelledAmount` | int |  Total amnount of cancelled orders, need to calculate from quantity and unit price, rounded to full \\$  |\n",
    "| `NumberWithoutCustomer` | int | Number of orders without customer |\n",
    "| `NoCustomerAmount` | int | Total amnount of orders with no customer, need to calculate from quantity and unit price, rounded to full \\$ |"
   ]
  },
  {
   "cell_type": "code",
   "execution_count": null,
   "metadata": {},
   "outputs": [],
   "source": [
    "%%writefile solution_9_1.py\n",
    "\n",
    "from typing import Dict, List, Tuple, Set, Any\n",
    "import pandas as pd\n",
    "\n",
    "def analyse_invoices(df: pd.DataFrame) -> Dict[str, int]:\n",
    "    ### your code here ...\n",
    "    \n",
    "\n",
    "    ### keep this, define the variables shown here or replace with the required expressions\n",
    "    return {\n",
    "        \"NumberOfInvoices\": num_invoice,\n",
    "        \"TotalAmount\": round(total_amount),\n",
    "        \"NumberOfCancelledInvoices\": num_cancelled,\n",
    "        \"CancelledAmount\": round(cancelled_amount),\n",
    "        \"NumberWithoutCustomer\": num_no_customer,\n",
    "        \"NoCustomerAmount\": round(no_customer_amount),\n",
    "    }\n",
    "    "
   ]
  },
  {
   "cell_type": "code",
   "execution_count": null,
   "metadata": {},
   "outputs": [],
   "source": [
    "# Try your code\n",
    "from solution_9_1 import analyse_invoices\n",
    "import pandas as pd\n",
    "df = pd.read_excel('/data/IFI8410/online_retail/online_retail.xlsx')\n",
    "res = analyse_invoices(df)\n",
    "display(res)"
   ]
  },
  {
   "cell_type": "markdown",
   "metadata": {},
   "source": [
    "#### Test 9.1 Execute the cell below to test your solution..."
   ]
  },
  {
   "cell_type": "code",
   "execution_count": null,
   "metadata": {},
   "outputs": [],
   "source": [
    "! test/run_test.sh 1"
   ]
  },
  {
   "cell_type": "markdown",
   "metadata": {},
   "source": [
    "### 9.2 Analyse Customers\n",
    "\n",
    "Write a function that produces a table with `CustomerID` and `TotalSpent`, which is the total amount the customer has spent all their orders. The table needs to be sorted by `TotalSpent` with the highest amount first.\n"
   ]
  },
  {
   "cell_type": "markdown",
   "metadata": {},
   "source": [
    "Save your solution to `solution_9_2.py`"
   ]
  },
  {
   "cell_type": "code",
   "execution_count": null,
   "metadata": {},
   "outputs": [],
   "source": [
    "%%writefile solution_9_2.py\n",
    "\n",
    "import pandas as pd\n",
    "\n",
    "def customer_spending(df: pd.DataFrame) -> pd.DataFrame:\n",
    "    ### your code here\n",
    "    \n",
    "    \n",
    "\n"
   ]
  },
  {
   "cell_type": "code",
   "execution_count": null,
   "metadata": {},
   "outputs": [],
   "source": [
    "# Try your code\n",
    "from solution_9_2 import customer_spending\n",
    "import pandas as pd\n",
    "df = pd.read_excel('/data/IFI8410/online_retail/online_retail.xlsx')\n",
    "spening_df = customer_spending(df)\n",
    "display(spening_df.head())"
   ]
  },
  {
   "cell_type": "markdown",
   "metadata": {},
   "source": [
    "#### Test 9.2 Execute the cell below to test your solution..."
   ]
  },
  {
   "cell_type": "code",
   "execution_count": null,
   "metadata": {},
   "outputs": [],
   "source": [
    "! test/run_test.sh 2"
   ]
  },
  {
   "cell_type": "markdown",
   "metadata": {},
   "source": [
    "### 9.3 Number of distinct customers per product\n",
    "\n",
    "Create a function `rank_products_by_customer` that productes a table of with `StockCode` and `NumCustomer`, the distinct number of customers who ordered this product. The output table has the columns `StockCode` and `NumCustomer`, and is order by `NumCustomer` in descending order. If the parameter"
   ]
  },
  {
   "cell_type": "code",
   "execution_count": null,
   "metadata": {},
   "outputs": [],
   "source": []
  },
  {
   "cell_type": "code",
   "execution_count": null,
   "metadata": {},
   "outputs": [],
   "source": [
    "%%writefile solution_9_3.py\n",
    "import pandas as pd\n",
    "\n",
    "def rank_products_by_customer(df: pd.DataFrame, min_customer: int = 0) -> pd.DataFrame:\n",
    "    stock_code_frequency = ### your code here\n",
    "\n",
    "\n",
    "\n",
    "\n",
    "    \n",
    "    ### Leave this code as is\n",
    "    if min_customer>0:\n",
    "        return stock_code_frequency[stock_code_frequency.NumCustomer>=min_customer]\n",
    "    else:\n",
    "        return stock_code_frequency\n",
    "\n"
   ]
  },
  {
   "cell_type": "code",
   "execution_count": null,
   "metadata": {},
   "outputs": [],
   "source": [
    "# Try your code\n",
    "from solution_9_3 import rank_products_by_customer\n",
    "import pandas as pd\n",
    "\n",
    "df = pd.read_excel('/data/IFI8410/online_retail/online_retail.xlsx')\n",
    "filtered_products = rank_products_by_customer(df, min_customer=500)\n",
    "print(f\"Number of records: {filtered_products.shape[0]:,}\")\n",
    "display(filtered_products.head())"
   ]
  },
  {
   "cell_type": "markdown",
   "metadata": {},
   "source": [
    "Save your filtered products to `output_9_3.csv`"
   ]
  },
  {
   "cell_type": "markdown",
   "metadata": {},
   "source": [
    "#### Test 9.3 Execute the cell below to test your solution..."
   ]
  },
  {
   "cell_type": "code",
   "execution_count": null,
   "metadata": {},
   "outputs": [],
   "source": [
    "! test/run_test.sh 3"
   ]
  },
  {
   "cell_type": "markdown",
   "metadata": {},
   "source": [
    "### 9.4 One-Hot-Encoding\n",
    "\n",
    "There are 16 products that are sold to 500 or more customers. Create a on-hot-encoded vector representation of the `StockCode` and then sum the vectors for each customer. The result is a 16-dimensional vector that represents the aggregated purchasing history of each customer. \n",
    "\n",
    "There are couple of steps that need to be done:\n",
    "1. create a vectorization function `product_vector` that converts the `StockCode` into a 16-dimentional one-hot-encoded vector, and\n",
    "2. create a function `aggregate_customer_products` that calculates the sum of the product vectors for each customer."
   ]
  },
  {
   "cell_type": "code",
   "execution_count": null,
   "metadata": {},
   "outputs": [],
   "source": [
    "import pandas as pd\n",
    "\n",
    "filtered_products = pd.read_csv('output_9_3.csv')\n",
    "print(f\"Number of records: {filtered_products.shape[0]:,}\")\n",
    "display(filtered_products)"
   ]
  },
  {
   "cell_type": "markdown",
   "metadata": {},
   "source": [
    "Load the data set"
   ]
  },
  {
   "cell_type": "code",
   "execution_count": null,
   "metadata": {},
   "outputs": [],
   "source": [
    "df = pd.read_excel('/data/IFI8410/online_retail/online_retail.xlsx')\n",
    "df['StockCode'] = df.StockCode.map(str)\n",
    "print(f\"Number of records: {df.shape[0]:,}\")"
   ]
  },
  {
   "cell_type": "markdown",
   "metadata": {},
   "source": [
    "Next, join the data set with the table of filtered products to only keep transactions related to the 16 products. Also exclude any transactions where without customer."
   ]
  },
  {
   "cell_type": "code",
   "execution_count": null,
   "metadata": {},
   "outputs": [],
   "source": [
    "filtered_df = pd.merge(df[pd.notnull(df.CustomerID)], filtered_products, on='StockCode')\n",
    "print(f\"Number of records: {filtered_df.shape[0]:,}\")"
   ]
  },
  {
   "cell_type": "markdown",
   "metadata": {},
   "source": [
    "Create a data frame with only customer and product. This is a new DataFrame object."
   ]
  },
  {
   "cell_type": "code",
   "execution_count": null,
   "metadata": {},
   "outputs": [],
   "source": [
    "customer_df = pd.DataFrame({'CustomerID': filtered_df.CustomerID, 'StockCode': filtered_df.StockCode})\n",
    "display(customer_df.head())"
   ]
  },
  {
   "cell_type": "code",
   "execution_count": null,
   "metadata": {},
   "outputs": [],
   "source": [
    "# X = jdf.StockCode.values.reshape(-1,1)\n",
    "# print(X.tolist())"
   ]
  },
  {
   "cell_type": "code",
   "execution_count": null,
   "metadata": {},
   "outputs": [],
   "source": [
    "# X = jdf.StockCode.values.reshape(-1,1)\n",
    "# X_transformed = enc.transform(X)"
   ]
  },
  {
   "cell_type": "code",
   "execution_count": null,
   "metadata": {},
   "outputs": [],
   "source": [
    "# from sklearn.preprocessing import OneHotEncoder\n",
    "# import pandas as pd\n",
    "# import numpy as np\n",
    "\n",
    "# def vectorize_product(customer_df: pd.DataFrame, product_col: str = 'StockCode') -> pd.DataFrame:\n",
    "#     enc = OneHotEncoder(sparse_output=False)\n",
    "#     enc.fit(customer_df[product_col].values.reshape(-1,1))\n",
    "#     customer_df[f'{product_col}Vec'] = customer_df[product_col].map(lambda c: enc.transform([[c]])[0])\n",
    "#     return customer_df\n",
    "\n",
    "\n",
    "# def aggregate_customer_products(customer_df: pd.DataFrame, customer_col: str = 'CustomerID',\n",
    "#                                 product_vect_col: str = 'StockCodeVec') -> pd.DataFrame:\n",
    "#     cdf = customer_df.groupby(customer_col) \\\n",
    "#         .agg({\n",
    "#             product_vect_col: 'sum',\n",
    "#         }) \\\n",
    "#         .reset_index()\n",
    "#     return cdf\n",
    "        "
   ]
  },
  {
   "cell_type": "markdown",
   "metadata": {},
   "source": [
    "Save your solution to `solution_9_4.py`"
   ]
  },
  {
   "cell_type": "code",
   "execution_count": null,
   "metadata": {},
   "outputs": [],
   "source": [
    "%%writefile solution_9_4.py\n",
    "\n",
    "from sklearn.preprocessing import OneHotEncoder\n",
    "import pandas as pd\n",
    "import numpy as np\n",
    "\n",
    "def vectorize_product(customer_df: pd.DataFrame, product_col: str = 'StockCode') -> pd.DataFrame:\n",
    "    enc = OneHotEncoder(sparse_output=False)\n",
    "    enc.fit(customer_df[product_col].values.reshape(-1,1))\n",
    "    customer_df[f'{product_col}Vec'] = customer_df[product_col].map(lambda c: enc.transform([[c]])[0])\n",
    "    return customer_df\n",
    "\n",
    "\n",
    "def aggregate_customer_products(customer_df: pd.DataFrame, customer_col: str = 'CustomerID',\n",
    "                                product_vect_col: str = 'StockCodeVec') -> pd.DataFrame:\n",
    "    cdf = customer_df.groupby(customer_col) \\\n",
    "        .agg({\n",
    "            product_vect_col: ### your code here\n",
    "        }) \\\n",
    "        .reset_index()\n",
    "    return cdf\n"
   ]
  },
  {
   "cell_type": "code",
   "execution_count": null,
   "metadata": {},
   "outputs": [],
   "source": [
    "# Try your code\n",
    "from solution_9_4 import (\n",
    "    vectorize_product,\n",
    "    aggregate_customer_products\n",
    ")\n",
    "import pandas as pd\n",
    "\n",
    "customer_df = pd.read_csv('/data/IFI8410/online_retail/customer_product_transactions.csv')\n",
    "print(f\"Number of transactions: {customer_df.shape[0]:,}\")\n",
    "\n",
    "\n",
    "# Vectorize\n",
    "customer_df = vectorize_product(customer_df)\n",
    "display(customer_df.head())\n",
    "\n",
    "# Aggregate\n",
    "customer_profile_df = aggregate_customer_products(customer_df)\n",
    "print(f\"Number of records: {customer_profile_df.shape[0]:,}\")\n",
    "\n",
    "# Save as Parquet file (this file-type allows to store complex structures like arrays)\n",
    "customer_profile_df.to_parquet('output_9_4.parquet', index=None)"
   ]
  },
  {
   "cell_type": "markdown",
   "metadata": {
    "scrolled": true
   },
   "source": [
    "Visualize how customers are distributed in the 16-dimensional vector space. Since we cannot plot 16 dimensions, project the vector space to a 2-dimensional space using t-SNE."
   ]
  },
  {
   "cell_type": "code",
   "execution_count": null,
   "metadata": {},
   "outputs": [],
   "source": [
    "from sklearn.manifold import TSNE\n",
    "import matplotlib.pyplot as plt\n",
    "import numpy as np\n",
    "tsne = TSNE(n_components=2)\n",
    "\n",
    "# pack vector data of all customers into a profile matrix\n",
    "X = np.stack(customer_profile_df.StockCodeVec.values)\n",
    "X2 = tsne.fit_transform(X)\n",
    "fig = plt.figure(figsize=(10,10))\n",
    "plt.plot(X2[:,0], X2[:,1], '.', alpha=0.1)\n",
    "plt.xlabel('t-SNE Dimension 1')\n",
    "plt.ylabel('t-SNE Dimension 2')\n",
    "plt.show()\n",
    "plt.close()"
   ]
  },
  {
   "cell_type": "markdown",
   "metadata": {},
   "source": [
    "#### Test 9.4 Execute the cell below to test your solution..."
   ]
  },
  {
   "cell_type": "code",
   "execution_count": null,
   "metadata": {},
   "outputs": [],
   "source": [
    "! test/run_test.sh 4"
   ]
  },
  {
   "cell_type": "markdown",
   "metadata": {},
   "source": [
    "### 9.5 Cluster Analysis \n",
    "\n",
    "Plotting the customer profile vectors shows several clusters. Use cluster analysis to identify groups of customers with very similar purchasing profile. Experiment with different parameters or use other clustering algorithms.\n",
    "\n",
    "**Execute the cells below. They should work. Though, feel free to explore and experiment**"
   ]
  },
  {
   "cell_type": "code",
   "execution_count": null,
   "metadata": {},
   "outputs": [],
   "source": [
    "import pandas as pd\n",
    "customer_profile_df = pd.read_parquet('/data/IFI8410/online_retail/customer_pofile.parquet')\n",
    "print(f\"Number of records: {customer_profile_df.shape[0]:,}\")"
   ]
  },
  {
   "cell_type": "code",
   "execution_count": null,
   "metadata": {},
   "outputs": [],
   "source": [
    "from sklearn.manifold import TSNE\n",
    "from sklearn.cluster import DBSCAN\n",
    "import matplotlib.pyplot as plt\n",
    "import numpy as np\n",
    "tsne = TSNE(n_components=2)\n",
    "\n",
    "# Convert into Matrix\n",
    "X = np.stack(customer_profile_df.StockCodeVec.values)\n",
    "print(f\"Shape of profile matrix: {X.shape}\")\n",
    "\n",
    "# Run DBSCAN clustering\n",
    "db = DBSCAN(eps=.1, min_samples=10)\n",
    "\n",
    "# Assign cluster IDs to customers\n",
    "y = db.fit_predict(X)"
   ]
  },
  {
   "cell_type": "markdown",
   "metadata": {},
   "source": [
    "Resulting clusters and number of customers in each. Cluster -1 means that those customers don't belong to any."
   ]
  },
  {
   "cell_type": "code",
   "execution_count": null,
   "metadata": {},
   "outputs": [],
   "source": [
    "pd.set_option('display.max_columns', None)\n",
    "pd.DataFrame({'cluster': y, 'n': 1}) \\\n",
    "    .groupby('cluster').agg({'n': 'sum'}) \\\n",
    "    .reset_index() \\\n",
    "    .sort_values('cluster').T"
   ]
  },
  {
   "cell_type": "markdown",
   "metadata": {},
   "source": [
    "Plot customers by cluster"
   ]
  },
  {
   "cell_type": "code",
   "execution_count": null,
   "metadata": {},
   "outputs": [],
   "source": [
    "fig = plt.figure(figsize=(10,10))\n",
    "X2 = tsne.fit_transform(X)\n",
    "\n",
    "for c in range(-1, y.max()+1):\n",
    "    X2_sub = X2[y==c]\n",
    "    plt.plot(X2_sub[:,0], X2_sub[:,1], '.', alpha=0.7, label=f\"Cluster {c}\" if c >=0 else 'No Cluster')\n",
    "plt.xlabel('t-SNE Dimension 1')\n",
    "plt.ylabel('t-SNE Dimension 2')\n",
    "plt.legend()\n",
    "plt.savefig('output_9_5.png')\n",
    "plt.show()\n",
    "plt.close()"
   ]
  },
  {
   "cell_type": "markdown",
   "metadata": {},
   "source": [
    "#### Test 9.5 Execute the cell below to test your solution..."
   ]
  },
  {
   "cell_type": "code",
   "execution_count": null,
   "metadata": {},
   "outputs": [],
   "source": [
    "! test/run_test.sh 5"
   ]
  },
  {
   "cell_type": "code",
   "execution_count": null,
   "metadata": {},
   "outputs": [],
   "source": [
    "%%writefile test/test_9_5.py\n",
    "import os\n",
    "\n",
    "def test_9_5():\n",
    "    assert os.path.isfile('output_9_5.png'), \"Missing plot file\""
   ]
  },
  {
   "cell_type": "markdown",
   "metadata": {},
   "source": [
    "# TestingExecute the cell below to run all tests..."
   ]
  },
  {
   "cell_type": "code",
   "execution_count": null,
   "metadata": {},
   "outputs": [],
   "source": [
    "! test/run_test.sh"
   ]
  },
  {
   "cell_type": "markdown",
   "metadata": {},
   "source": [
    "# Homework Submission\n",
    "- This homework is due by 2024-04-26, 5:30PM (EDT)\n",
    "- Make sure that all your programs and output files are in the exact folder as specified in the instructions.\n",
    "- All file names on this system are case sensitive. Verify if you copy your work from a local computer to your home directory on ARC.\n",
    "\n",
    "**Run the cell below to submit your work.**\n",
    "\n",
    "- You may submit your work multipe times up to the deadline of the assignment.\n",
    "- Please note that any files that you previously submitted will\n",
    "be overwritten by your current files."
   ]
  },
  {
   "cell_type": "code",
   "execution_count": null,
   "metadata": {},
   "outputs": [],
   "source": [
    "! ./submit.sh -y"
   ]
  }
 ],
 "metadata": {
  "kernelspec": {
   "display_name": "Python 3 (ipykernel)",
   "language": "python",
   "name": "python3"
  },
  "language_info": {
   "codemirror_mode": {
    "name": "ipython",
    "version": 3
   },
   "file_extension": ".py",
   "mimetype": "text/x-python",
   "name": "python",
   "nbconvert_exporter": "python",
   "pygments_lexer": "ipython3",
   "version": "3.8.6"
  }
 },
 "nbformat": 4,
 "nbformat_minor": 4
}
