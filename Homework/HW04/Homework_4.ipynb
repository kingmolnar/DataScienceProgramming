{
 "cells": [
  {
   "cell_type": "markdown",
   "metadata": {},
   "source": [
    "# Homework 4"
   ]
  },
  {
   "cell_type": "markdown",
   "metadata": {},
   "source": [
    "## Data Aggregation and Group Operations\n",
    "\n",
    "Review Chapter [10 Data Aggregation and Group Operations](https://wesmckinney.com/book/data-aggregation)\n",
    "of the [Python book](https://wesmckinney.com/book/).\n",
    "\n",
    "These exercises make use of the following Python packages:\n",
    "- [NumPy](https://numpy.org/doc/stable/)\n",
    "- [pandas](https://pandas.pydata.org/docs/index.html)\n",
    "\n",
    "The following data sources are used:\n",
    "1. `students_data.csv` [ https://www.kaggle.com/datasets/larsen0966/student-performance-data-set]( https://www.kaggle.com/datasets/larsen0966/student-performance-data-set) \n",
    "2. The other datasets used are the inbuilt datasets from scikit learn library"
   ]
  },
  {
   "cell_type": "code",
   "execution_count": null,
   "metadata": {},
   "outputs": [],
   "source": [
    "import pandas as pd\n",
    "import numpy as np\n",
    "import hashlib\n",
    "import seaborn as sns"
   ]
  },
  {
   "cell_type": "markdown",
   "metadata": {},
   "source": [
    "### 4.1 Groupby\n",
    "\n",
    "Instructions:\n",
    "\n",
    "1. Please load the students dataset which is present in the main data folder.\n",
    "2. The directory for this csv file is `/data/IFI8410/homework7/student_data.csv`\n",
    "2. Write a function which loads this csv `student_data.csv` into a dataframe using `pandas.DataFrame` function from the above directory.\n",
    "3. Group the dataframe into groups based on column `sex` and save into new object.\n",
    "4. Return the type of the new object."
   ]
  },
  {
   "cell_type": "markdown",
   "metadata": {},
   "source": [
    "Save your solution to `solution_4_1.py`"
   ]
  },
  {
   "cell_type": "code",
   "execution_count": null,
   "metadata": {},
   "outputs": [],
   "source": [
    "%%writefile solution_4_1.py\n",
    "\n",
    "import pandas as pd\n",
    "\n",
    "def groupby_object():\n",
    "    # Dont change anything above this comment\n",
    "    # Write your code here\n",
    "\n",
    "\n",
    "\n",
    "\n",
    "\n",
    "    "
   ]
  },
  {
   "cell_type": "code",
   "execution_count": null,
   "metadata": {},
   "outputs": [],
   "source": [
    "# Try your code\n",
    "from solution_4_1 import groupby_object\n",
    "groupby_object()"
   ]
  },
  {
   "cell_type": "code",
   "execution_count": null,
   "metadata": {},
   "outputs": [],
   "source": []
  },
  {
   "cell_type": "markdown",
   "metadata": {},
   "source": [
    "#### Test 4.1 "
   ]
  },
  {
   "cell_type": "code",
   "execution_count": null,
   "metadata": {},
   "outputs": [],
   "source": [
    "! test/run_test.sh 1"
   ]
  },
  {
   "cell_type": "markdown",
   "metadata": {},
   "source": [
    "### 4.2 Group by single aggregation\n",
    "Instructions\n",
    "1. Load the `student_data.csv` into a pandas dataframe.\n",
    "2. The directory for this csv file is `/data/IFI8410/homework7/student_data.csv`\n",
    "3. Perform groupby on column `Mjob` and method as `size()` (Make sure you have `as_index=False`).\n",
    "4. Sort the values of new dataset using `size` column and ascending.\n",
    "5. Save this new object as a csv file called `student_data_4_2.csv` (Make sure to set the index to `False`)\n",
    "\n",
    "Note: Your final data fram should have 2 columns, [Mjob, size]"
   ]
  },
  {
   "cell_type": "code",
   "execution_count": null,
   "metadata": {},
   "outputs": [],
   "source": [
    "### your code here\n",
    "\n",
    "\n",
    "\n",
    "\n",
    "\n",
    "\n",
    "\n"
   ]
  },
  {
   "cell_type": "code",
   "execution_count": null,
   "metadata": {},
   "outputs": [],
   "source": [
    "# Try your code\n",
    "df = pd.read_csv('student_data_4_2.csv')\n",
    "df"
   ]
  },
  {
   "cell_type": "markdown",
   "metadata": {},
   "source": [
    "#### Test 4.2 "
   ]
  },
  {
   "cell_type": "code",
   "execution_count": null,
   "metadata": {},
   "outputs": [],
   "source": [
    "! test/run_test.sh 2"
   ]
  },
  {
   "cell_type": "markdown",
   "metadata": {},
   "source": [
    "### 4.3 Group by with aggregation\n",
    "Instructions\n",
    "1. Load the `student_data.csv` into a pandas dataframe.\n",
    "2. The directory for this csv file is `/data/IFI8410/homework7/student_data.csv`\n",
    "3. Perform groupby on `sex` and select `age` column and store it into a new object.\n",
    "4. Now perform `mean, min, max`aggregated functions together and store it into a new object.\n",
    "5. Save this new object as a csv file called `student_data_4_3.csv` (Make sure to set the index to `True`)\n",
    "\n",
    "Note: Your final data fram should have 4 columns, [sex, mean, min and max] (After loading the saved csv file)"
   ]
  },
  {
   "cell_type": "code",
   "execution_count": null,
   "metadata": {},
   "outputs": [],
   "source": []
  },
  {
   "cell_type": "code",
   "execution_count": null,
   "metadata": {},
   "outputs": [],
   "source": [
    "### your code here\n",
    "\n",
    "\n",
    "\n",
    "\n",
    "\n",
    "\n",
    "\n",
    "\n"
   ]
  },
  {
   "cell_type": "code",
   "execution_count": null,
   "metadata": {},
   "outputs": [],
   "source": [
    "# Try your code\n",
    "df = pd.read_csv('student_data_4_3.csv')\n",
    "df"
   ]
  },
  {
   "cell_type": "markdown",
   "metadata": {},
   "source": [
    "#### Test 4.3"
   ]
  },
  {
   "cell_type": "code",
   "execution_count": null,
   "metadata": {},
   "outputs": [],
   "source": [
    "! test/run_test.sh 3"
   ]
  },
  {
   "cell_type": "markdown",
   "metadata": {},
   "source": [
    "### 4.4 Group by multiple columns with aggregation\n",
    "Instructions\n",
    "1. Load the `student_data.csv` into a pandas dataframe.\n",
    "2. The directory for this csv file is `/data/IFI8410/homework7/student_data.csv`\n",
    "3. Perform groupby on two columns `school` and `sex` (Make sure you have `as_index=False`). Select `age` column and store it into a new object and perform aggreation function as `mean`.\n",
    "5. Save this as a csv file called `student_data_4_4.csv` (Make sure to set the index to `False`)\n",
    "\n",
    "Note: Your final data fram should have 3 columns ['school', 'sex', 'age'] and four rows."
   ]
  },
  {
   "cell_type": "code",
   "execution_count": null,
   "metadata": {},
   "outputs": [],
   "source": []
  },
  {
   "cell_type": "code",
   "execution_count": null,
   "metadata": {},
   "outputs": [],
   "source": [
    "### your code here\n",
    "\n",
    "\n",
    "\n",
    "\n",
    "\n",
    "\n"
   ]
  },
  {
   "cell_type": "code",
   "execution_count": null,
   "metadata": {},
   "outputs": [],
   "source": [
    "# Try your code\n",
    "df = pd.read_csv('student_data_4_4.csv')\n",
    "df"
   ]
  },
  {
   "cell_type": "markdown",
   "metadata": {},
   "source": [
    "#### Test 4.4"
   ]
  },
  {
   "cell_type": "code",
   "execution_count": null,
   "metadata": {},
   "outputs": [],
   "source": [
    "! test/run_test.sh 4"
   ]
  },
  {
   "cell_type": "markdown",
   "metadata": {},
   "source": [
    "### 4.5 Group by multiple aggregations on same column\n",
    "Instructions\n",
    "1. Load the `student_data.csv` into a pandas dataframe.\n",
    "2. The directory for this csv file is `/data/IFI8410/homework7/student_data.csv`\n",
    "3. Perform groupby on `Fjob` (Make sure you have `as_index=False` in  this). Select `absences` column and store it into a new object.\n",
    "4. You need to perform three aggregation on this column including min, max and defining a custom function called `peak_diff`.\n",
    " - The function should return difference betwen max and min value. Look for the example in the reading notes - chapter 10.\n",
    " - Make sure you perform the order of aggregations as follows: `min`, `max`, `peak_diff`\n",
    " - The column names should be `Fjob`, `mins`, `maxs`, `diff`\n",
    "5. Save this as a csv file called `student_data_4_5.csv` (Make sure to set the index to `False`)\n",
    "\n",
    "Note:\n",
    "- There are mutliple ways to perform multiple aggregation on same column.\n",
    "- One syntax for performing multiple aggregation on same column is a little differet. It is as follows\n",
    "- df.groupby('col1').agg(newcol_name = ('col2', function1), newcol_name2 = ('col2', function2))\n",
    "- The functions above can be `np.min`, `np.max`, custom functions, etc."
   ]
  },
  {
   "cell_type": "code",
   "execution_count": null,
   "metadata": {},
   "outputs": [],
   "source": []
  },
  {
   "cell_type": "code",
   "execution_count": null,
   "metadata": {},
   "outputs": [],
   "source": [
    "### your code here\n",
    "\n",
    "\n",
    "\n",
    "\n",
    "\n",
    "\n",
    "\n"
   ]
  },
  {
   "cell_type": "code",
   "execution_count": null,
   "metadata": {},
   "outputs": [],
   "source": [
    "# Try your code\n",
    "df = pd.read_csv('student_data_4_5.csv')\n",
    "df"
   ]
  },
  {
   "cell_type": "markdown",
   "metadata": {},
   "source": [
    "#### Test 4.5 "
   ]
  },
  {
   "cell_type": "code",
   "execution_count": null,
   "metadata": {},
   "outputs": [],
   "source": [
    "! test/run_test.sh 5"
   ]
  },
  {
   "cell_type": "markdown",
   "metadata": {},
   "source": [
    "### 4.6 Function with groupby\n",
    "Instructions\n",
    "1. Create a function called `grouping`, which takes 3 arguments [df, n, column]\n",
    "2. The function should groupby the dataframe `df`, using column in the input argument (Make sure you have `as_index=False`). The aggregation function should return the count of unique values in that group. (`nunique`)\n",
    "3. The function should return the above with all the rows and first `n` columns."
   ]
  },
  {
   "cell_type": "code",
   "execution_count": null,
   "metadata": {},
   "outputs": [],
   "source": []
  },
  {
   "cell_type": "markdown",
   "metadata": {},
   "source": [
    "Save your solution to `solution_4_6.py`"
   ]
  },
  {
   "cell_type": "code",
   "execution_count": null,
   "metadata": {},
   "outputs": [],
   "source": [
    "%%writefile solution_4_6.py\n",
    "import pandas as pd\n",
    "\n",
    "def grouping(df, n, column):\n",
    "### your code here\n",
    "  \n",
    "\n",
    "\n",
    "\n",
    "\n",
    "    "
   ]
  },
  {
   "cell_type": "code",
   "execution_count": null,
   "metadata": {},
   "outputs": [],
   "source": [
    "# Try your code\n",
    "from solution_4_6 import grouping\n",
    "\n",
    "df = pd.read_csv('/data/IFI8410/homework7/student_data.csv')\n",
    "grouping(df, 4, 'age')"
   ]
  },
  {
   "cell_type": "markdown",
   "metadata": {},
   "source": [
    "#### Test 4.6 "
   ]
  },
  {
   "cell_type": "code",
   "execution_count": null,
   "metadata": {},
   "outputs": [],
   "source": [
    "! test/run_test.sh 6"
   ]
  },
  {
   "cell_type": "markdown",
   "metadata": {},
   "source": [
    "### 4.7 Weighted Average\n",
    "Instructions\n",
    "1. Load the `student_data.csv` into a pandas dataframe.\n",
    "2. The directory for this csv file is `/data/IFI8410/homework7/student_data.csv`3.\n",
    "3. Groupby column `sex` (Make sure you have as_index=False).\n",
    "4. Calculate the weighted average in the group for `absences` and weights as `health`.\n",
    "5. Save this as a csv file called `student_data_4_7.csv` (Make sure to set the index to `False`)\n",
    "\n",
    "Note: You can create a custom function and apply it on the group. `np.average` can be used to calculate weighted average."
   ]
  },
  {
   "cell_type": "code",
   "execution_count": null,
   "metadata": {},
   "outputs": [],
   "source": []
  },
  {
   "cell_type": "code",
   "execution_count": null,
   "metadata": {},
   "outputs": [],
   "source": [
    "### your code here\n",
    "\n",
    "\n",
    "\n",
    "\n",
    "\n",
    "\n",
    "\n",
    "\n"
   ]
  },
  {
   "cell_type": "code",
   "execution_count": null,
   "metadata": {},
   "outputs": [],
   "source": [
    "# Try your code\n",
    "df = pd.read_csv('student_data_4_7.csv')\n",
    "df"
   ]
  },
  {
   "cell_type": "markdown",
   "metadata": {},
   "source": [
    "#### Test 4.7 "
   ]
  },
  {
   "cell_type": "code",
   "execution_count": null,
   "metadata": {},
   "outputs": [],
   "source": [
    "! test/run_test.sh 7"
   ]
  },
  {
   "cell_type": "markdown",
   "metadata": {},
   "source": [
    "### 4.8 Pivot table\n",
    "Instructions\n",
    "1. Load the `student_data.csv` into a pandas dataframe.\n",
    "2. The directory for this csv file is `/data/IFI8410/homework7/student_data.csv`\n",
    "3. Create a pivot table with two index as `[\"school\", \"sex\"]` and values `[\"age\", \"absences\", \"G1\"]`. Use `mean` for aggregation.\n",
    "4. Reset the index of the table.\n",
    "5. Save this as a csv file called `student_data_4_8.csv` (Make sure to set the index to False)"
   ]
  },
  {
   "cell_type": "code",
   "execution_count": null,
   "metadata": {},
   "outputs": [],
   "source": []
  },
  {
   "cell_type": "code",
   "execution_count": null,
   "metadata": {},
   "outputs": [],
   "source": [
    "### your code here\n",
    "\n",
    "\n",
    "\n",
    "\n",
    "\n"
   ]
  },
  {
   "cell_type": "code",
   "execution_count": null,
   "metadata": {},
   "outputs": [],
   "source": [
    "df = pd.read_csv('student_data_4_8.csv')\n",
    "df"
   ]
  },
  {
   "cell_type": "markdown",
   "metadata": {},
   "source": [
    "#### Test 4.8 "
   ]
  },
  {
   "cell_type": "code",
   "execution_count": null,
   "metadata": {},
   "outputs": [],
   "source": [
    "! test/run_test.sh 8"
   ]
  },
  {
   "cell_type": "markdown",
   "metadata": {},
   "source": [
    "### 4.9 Crosstab\n",
    "Instructions\n",
    "1. Load the `student_data.csv` into a pandas dataframe.\n",
    "2. The directory for this csv file is `/data/IFI8410/homework7/student_data.csv`\n",
    "3. Compute group frequencies using cross tabulation for columns `school`, `sex`. Make sure you display the total value. (`marrgins`)\n",
    "4. Reset the index of the table.\n",
    "5. Save this as a csv file called `student_data_4_9.csv` (Make sure to set the index to False)"
   ]
  },
  {
   "cell_type": "code",
   "execution_count": null,
   "metadata": {},
   "outputs": [],
   "source": []
  },
  {
   "cell_type": "code",
   "execution_count": null,
   "metadata": {},
   "outputs": [],
   "source": [
    "### your code here\n",
    "\n",
    "\n",
    "\n",
    "\n",
    "\n",
    "\n",
    "\n"
   ]
  },
  {
   "cell_type": "code",
   "execution_count": null,
   "metadata": {},
   "outputs": [],
   "source": [
    "# Try your code\n",
    "df = pd.read_csv('student_data_4_9.csv')\n",
    "df"
   ]
  },
  {
   "cell_type": "markdown",
   "metadata": {},
   "source": [
    "#### Test 4.9 "
   ]
  },
  {
   "cell_type": "code",
   "execution_count": null,
   "metadata": {},
   "outputs": [],
   "source": [
    "! test/run_test.sh 9"
   ]
  },
  {
   "cell_type": "markdown",
   "metadata": {},
   "source": [
    "### 4.10 Groupby and list\n",
    "Instructions\n",
    "1. Load the `student_data.csv` into a pandas dataframe.\n",
    "2. The directory for this csv file is `/data/IFI8410/homework7/student_data.csv`\n",
    "3. Groupby the dataframe using `Mjob` (Make sure you have as_index=False) and select the `age` column.\n",
    "4. The agg function should result in a list of unique ages in that particular group.\n",
    "5. Save this as a csv file called `student_data_4_10.csv` (Make sure to set the index to False)\n",
    "\n",
    "Note:\n",
    "- The final dataframe should have two columns. `Mjob` and `age`\n",
    "- You can use `lambda`, `unique`, `to_list`\n",
    "\n",
    "Example of a row in the final dataframe:\n",
    "\n",
    "|Mjob|age|\n",
    "|----|---|\n",
    "|at_home|[18, 17, 15, 16, 19, 20, 21]|\n"
   ]
  },
  {
   "cell_type": "code",
   "execution_count": null,
   "metadata": {},
   "outputs": [],
   "source": []
  },
  {
   "cell_type": "code",
   "execution_count": null,
   "metadata": {},
   "outputs": [],
   "source": [
    "### your code here\n",
    "\n",
    "\n",
    "\n",
    "\n",
    "\n",
    "\n"
   ]
  },
  {
   "cell_type": "code",
   "execution_count": null,
   "metadata": {},
   "outputs": [],
   "source": [
    "# Try your code\n",
    "df = pd.read_csv('student_data_4_10.csv')\n",
    "df"
   ]
  },
  {
   "cell_type": "markdown",
   "metadata": {},
   "source": [
    "#### Test 4.10 "
   ]
  },
  {
   "cell_type": "code",
   "execution_count": null,
   "metadata": {},
   "outputs": [],
   "source": [
    "! test/run_test.sh 10"
   ]
  },
  {
   "cell_type": "markdown",
   "metadata": {},
   "source": [
    "# Testing"
   ]
  },
  {
   "cell_type": "code",
   "execution_count": null,
   "metadata": {},
   "outputs": [],
   "source": [
    "! test/run_test.sh"
   ]
  },
  {
   "cell_type": "markdown",
   "metadata": {},
   "source": [
    "# Homework Submission\n",
    "- This homework is due by 2024-02-21, 5:30PM (EDT)\n",
    "- Make sure that all your programs and output files are in the exact folder as specified in the instructions.\n",
    "- All file names on this system are case sensitive. Verify if you copy your work from a local computer to your home directory on ARC.\n",
    "- No further action is need to submit your assignment."
   ]
  },
  {
   "cell_type": "code",
   "execution_count": null,
   "metadata": {},
   "outputs": [],
   "source": [
    "! ./submit.sh -y"
   ]
  }
 ],
 "metadata": {
  "kernelspec": {
   "display_name": "Python 3 (ipykernel)",
   "language": "python",
   "name": "python3"
  },
  "language_info": {
   "codemirror_mode": {
    "name": "ipython",
    "version": 3
   },
   "file_extension": ".py",
   "mimetype": "text/x-python",
   "name": "python",
   "nbconvert_exporter": "python",
   "pygments_lexer": "ipython3",
   "version": "3.8.6"
  }
 },
 "nbformat": 4,
 "nbformat_minor": 4
}
