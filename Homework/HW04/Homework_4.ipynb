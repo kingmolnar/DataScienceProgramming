{
 "cells": [
  {
   "cell_type": "markdown",
   "metadata": {
    "id": "DvDJJwxUzUCU"
   },
   "source": [
    "\n",
    "\n",
    "# **IFI8410: Programming for Business**\n",
    "\n"
   ]
  },
  {
   "cell_type": "markdown",
   "metadata": {
    "id": "XKAsLR0C2DE8"
   },
   "source": [
    "## **Assignment 04**\n",
    "\n",
    "### **The NumPy ndarray: A Multidimensional Array Object**"
   ]
  },
  {
   "cell_type": "code",
   "metadata": {
    "id": "ilcJOwFSvnX-"
   },
   "source": [
    "# Do not change the content of this cell. Execute this cell first, and everytime after you restarted the kernel.\n",
    "%reload_ext autoreload\n",
    "%autoreload 2"
   ],
   "outputs": [],
   "execution_count": null
  },
  {
   "cell_type": "code",
   "metadata": {},
   "source": [
    "#!cd /Users/markjack/GSU_Fall2024/IFI8410/IFI8410-Development/Fall2024/HW04"
   ],
   "outputs": [],
   "execution_count": null
  },
  {
   "cell_type": "code",
   "metadata": {},
   "source": [
    "!pwd"
   ],
   "outputs": [],
   "execution_count": null
  },
  {
   "cell_type": "markdown",
   "metadata": {
    "id": "GiXz48oz2NhW"
   },
   "source": [
    "### 4.1 Creating ndarrays\n",
    "\n",
    "Create a function **create_ndarray** that initializes a NumPy array filled with zeros. The array should have a shape of (3, 4). Return this array.\n"
   ]
  },
  {
   "cell_type": "code",
   "metadata": {
    "colab": {
     "base_uri": "https://localhost:8080/"
    },
    "id": "nsGl_obEW1pJ",
    "outputId": "1ba45073-0b4d-4b7c-ad32-e89ac1da9bcf"
   },
   "source": [
    "import numpy as np\n",
    "\n",
    "def create_ndarray():\n",
    "    # Add your code here\n"
   ],
   "outputs": [],
   "execution_count": null
  },
  {
   "cell_type": "code",
   "metadata": {},
   "source": [
    "# Call the function and print the result\n",
    "print(create_ndarray())"
   ],
   "outputs": [],
   "execution_count": null
  },
  {
   "cell_type": "markdown",
   "metadata": {
    "id": "RZWOhn8Z-3KM"
   },
   "source": [
    "#### Save your solution to a file ..."
   ]
  },
  {
   "cell_type": "code",
   "metadata": {
    "colab": {
     "base_uri": "https://localhost:8080/"
    },
    "id": "jkdw0NPu-3KM",
    "outputId": "064e47a6-f8c3-40c6-d804-3e331a357e53"
   },
   "source": [
    "%%writefile solution_4_1.py\n",
    "\n",
    "import numpy as np\n",
    "\n",
    "def create_ndarray():\n",
    "    # Add your code here\n"
   ],
   "outputs": [],
   "execution_count": null
  },
  {
   "cell_type": "markdown",
   "metadata": {
    "id": "B4_qWLWN-3KM"
   },
   "source": [
    "#### Test 4.1 Execute the cell below to test your solution..."
   ]
  },
  {
   "cell_type": "code",
   "metadata": {
    "colab": {
     "base_uri": "https://localhost:8080/"
    },
    "id": "85rX_RMV-3KN",
    "outputId": "187b1f67-f739-44bd-eb7b-52f06cb1051f"
   },
   "source": [
    "! test/run_test.sh 1"
   ],
   "outputs": [],
   "execution_count": null
  },
  {
   "cell_type": "code",
   "metadata": {
    "id": "AWmeeKPi-3KN"
   },
   "source": [],
   "outputs": [],
   "execution_count": null
  },
  {
   "cell_type": "markdown",
   "metadata": {
    "id": "4Qfed3KE2Wh9"
   },
   "source": [
    "### 4.2 Data Types for ndarrays\n",
    "\n",
    "Define a function **array_with_dtype** that creates a 2x2 NumPy array of floating point numbers, explicitly setting its data type to float. Initialize the array with the values [[1, 2], [3, 4]] and return it."
   ]
  },
  {
   "cell_type": "code",
   "metadata": {
    "colab": {
     "base_uri": "https://localhost:8080/"
    },
    "id": "4cjZCE_Q2hN1",
    "outputId": "38caf425-8f17-4f3d-8d47-44f5a76f0e69"
   },
   "source": [
    "import numpy as np\n",
    "\n",
    "def array_with_dtype():\n",
    "    # Add your code here\n"
   ],
   "outputs": [],
   "execution_count": null
  },
  {
   "cell_type": "code",
   "metadata": {},
   "source": [
    "# Call the function and print the result\n",
    "print(array_with_dtype())"
   ],
   "outputs": [],
   "execution_count": null
  },
  {
   "cell_type": "markdown",
   "metadata": {
    "id": "b5B4efhD-3KN"
   },
   "source": [
    "#### Save your solution to a file ..."
   ]
  },
  {
   "cell_type": "markdown",
   "metadata": {
    "id": "7jVClwWc-3KN"
   },
   "source": []
  },
  {
   "cell_type": "code",
   "metadata": {
    "colab": {
     "base_uri": "https://localhost:8080/"
    },
    "id": "zFeB9tsw-3KN",
    "outputId": "3c08ffbe-8b94-45b2-89d9-f8ff27d3fddc"
   },
   "source": [
    "%%writefile solution_4_2.py\n",
    "\n",
    "import numpy as np\n",
    "\n",
    "def array_with_dtype():\n",
    "    # Add your code here\n"
   ],
   "outputs": [],
   "execution_count": null
  },
  {
   "cell_type": "markdown",
   "metadata": {
    "id": "UzP3TXvM-3KN"
   },
   "source": [
    "#### Test 4.2 Execute the cell below to test your solution..."
   ]
  },
  {
   "cell_type": "code",
   "metadata": {
    "colab": {
     "base_uri": "https://localhost:8080/"
    },
    "id": "kJyVZ1rS-3KN",
    "outputId": "1d19926a-340e-406f-b7ea-b3bbbaf8bcd7"
   },
   "source": [
    "! test/run_test.sh 2"
   ],
   "outputs": [],
   "execution_count": null
  },
  {
   "cell_type": "code",
   "metadata": {
    "id": "IweYFeax-3KN"
   },
   "source": [],
   "outputs": [],
   "execution_count": null
  },
  {
   "cell_type": "markdown",
   "metadata": {
    "id": "6JjH4QS72Wku"
   },
   "source": [
    "### 4.3 Arithmetic with NumPy Arrays - Addition\n",
    "\n",
    "Write a function **add_arrays** that takes two NumPy arrays **a** and **b**, adds them element-wise, and returns the result. Assume both arrays are of the same shape."
   ]
  },
  {
   "cell_type": "code",
   "metadata": {
    "colab": {
     "base_uri": "https://localhost:8080/"
    },
    "id": "Tpe03U6n4NQU",
    "outputId": "db71539f-fbe7-419c-c9f1-5fe3499348f4"
   },
   "source": [
    "import numpy as np\n",
    "\n",
    "def add_arrays(a, b):\n",
    "    # Add your code here\n",
    "\n"
   ],
   "outputs": [],
   "execution_count": null
  },
  {
   "cell_type": "code",
   "metadata": {},
   "source": [
    "# Call the function and print the result\n",
    "a = np.array([1, 2, 3])\n",
    "b = np.array([4, 5, 6])\n",
    "print(add_arrays(a, b))"
   ],
   "outputs": [],
   "execution_count": null
  },
  {
   "cell_type": "markdown",
   "metadata": {
    "id": "tM7BCa1E-3KO"
   },
   "source": [
    "#### Save your solution to a file ..."
   ]
  },
  {
   "cell_type": "code",
   "metadata": {
    "colab": {
     "base_uri": "https://localhost:8080/"
    },
    "id": "lZXokQqK-3KO",
    "outputId": "92cf1885-e373-4e82-83ff-4de47564c055"
   },
   "source": [
    "%%writefile solution_4_3.py\n",
    "\n",
    "import numpy as np\n",
    "\n",
    "def add_arrays(a, b):\n",
    "    # Add your code here\n"
   ],
   "outputs": [],
   "execution_count": null
  },
  {
   "cell_type": "markdown",
   "metadata": {
    "id": "atV0i5k0-3KO"
   },
   "source": [
    "#### Test 4.3 Execute the cell below to test your solution..."
   ]
  },
  {
   "cell_type": "code",
   "metadata": {
    "colab": {
     "base_uri": "https://localhost:8080/"
    },
    "id": "-TcrOae3-3KO",
    "outputId": "2e3481d1-7db2-4bc2-e05c-7cdd60e238c7"
   },
   "source": [
    "! test/run_test.sh 3"
   ],
   "outputs": [],
   "execution_count": null
  },
  {
   "cell_type": "code",
   "metadata": {
    "id": "LIE8fRB4-3KO"
   },
   "source": [],
   "outputs": [],
   "execution_count": null
  },
  {
   "cell_type": "markdown",
   "metadata": {
    "id": "5_Y1Kwit2WnP"
   },
   "source": [
    "### 4.4 Arithmetic with NumPy Arrays - Multiplication\n",
    "\n",
    "Create a function **multiply_elementwise** that takes two NumPy arrays **a** and **b**, multiplies them element-wise, and returns the result. Assume both arrays are of the same shape."
   ]
  },
  {
   "cell_type": "code",
   "metadata": {
    "colab": {
     "base_uri": "https://localhost:8080/"
    },
    "id": "SDd0D0CV4gGu",
    "outputId": "af37f1e4-a55f-4e2a-d42e-7600035b54d0"
   },
   "source": [
    "import numpy as np\n",
    "\n",
    "def multiply_elementwise(a, b):\n",
    "    # Add your code here\n"
   ],
   "outputs": [],
   "execution_count": null
  },
  {
   "cell_type": "code",
   "metadata": {},
   "source": [
    "# Call the function and print the result\n",
    "a = np.array([1, 2, 3])\n",
    "b = np.array([4, 5, 6])\n",
    "print(multiply_elementwise(a, b))"
   ],
   "outputs": [],
   "execution_count": null
  },
  {
   "cell_type": "markdown",
   "metadata": {
    "id": "rZli8_V8-3KO"
   },
   "source": [
    "#### Save your solution to a file ..."
   ]
  },
  {
   "cell_type": "code",
   "metadata": {
    "colab": {
     "base_uri": "https://localhost:8080/"
    },
    "id": "ECVMo7qD-3KO",
    "outputId": "6dfd3ca4-df5d-4ec8-d13d-027a4c13f793"
   },
   "source": [
    "%%writefile solution_4_4.py\n",
    "\n",
    "import numpy as np\n",
    "\n",
    "def multiply_elementwise(a, b):\n",
    "    # Add your code here\n"
   ],
   "outputs": [],
   "execution_count": null
  },
  {
   "cell_type": "code",
   "metadata": {
    "id": "4vRZYQHa-3KO"
   },
   "source": [],
   "outputs": [],
   "execution_count": null
  },
  {
   "cell_type": "markdown",
   "metadata": {
    "id": "StB1RWEINNET"
   },
   "source": [
    "#### Test 4.4 Execute the cell below to test your solution..."
   ]
  },
  {
   "cell_type": "code",
   "metadata": {
    "colab": {
     "base_uri": "https://localhost:8080/"
    },
    "id": "0-uq-2eK-3KS",
    "outputId": "e89ca66d-da79-4dbb-8fe3-b80e5305b6bb"
   },
   "source": [
    "! test/run_test.sh 4"
   ],
   "outputs": [],
   "execution_count": null
  },
  {
   "cell_type": "code",
   "metadata": {
    "id": "mcLcfwI4-3KS"
   },
   "source": [],
   "outputs": [],
   "execution_count": null
  },
  {
   "cell_type": "markdown",
   "metadata": {
    "id": "eTVhhltY2Wpk"
   },
   "source": [
    "### 4.5 Basic Indexing and Slicing\n",
    "\n",
    "Write a function **slice_array** that takes a NumPy array and returns a 2x2 slice from the top-left corner of the array.\n",
    "\n",
    "\n",
    "Hint: Use slicing to select specific parts of the array.\n"
   ]
  },
  {
   "cell_type": "code",
   "metadata": {
    "id": "xQpREqa84lOw"
   },
   "source": [
    "import numpy as np\n",
    "\n",
    "def slice_array(arr):\n",
    "    # Add your code here\n"
   ],
   "outputs": [],
   "execution_count": null
  },
  {
   "cell_type": "code",
   "metadata": {},
   "source": [
    "# Call the function and print the result\n",
    "arr = np.array([[1, 2, 3], [4, 5, 6], [7, 8, 9]])\n",
    "print(slice_array(arr))"
   ],
   "outputs": [],
   "execution_count": null
  },
  {
   "cell_type": "markdown",
   "metadata": {
    "id": "PH1huOAX-3KS"
   },
   "source": [
    "#### Save your solution to a file ..."
   ]
  },
  {
   "cell_type": "code",
   "metadata": {
    "colab": {
     "base_uri": "https://localhost:8080/"
    },
    "id": "eHdwU83l-3KS",
    "outputId": "0e41d212-4f16-4f76-9b05-481eb0665074"
   },
   "source": [
    "%%writefile solution_4_5.py\n",
    "\n",
    "import numpy as np\n",
    "\n",
    "def slice_array(arr):\n",
    "    # Add your code here\n"
   ],
   "outputs": [],
   "execution_count": null
  },
  {
   "cell_type": "code",
   "metadata": {
    "id": "mcObdByF-3KS"
   },
   "source": [],
   "outputs": [],
   "execution_count": null
  },
  {
   "cell_type": "markdown",
   "metadata": {
    "id": "mx1SEuRw-3KS"
   },
   "source": [
    "#### Test 4.5 Execute the cell below to test your solution..."
   ]
  },
  {
   "cell_type": "code",
   "metadata": {
    "colab": {
     "base_uri": "https://localhost:8080/"
    },
    "id": "LIGHavxK-3KT",
    "outputId": "9531e85f-753c-4d4f-a0ba-871b10037340"
   },
   "source": [
    "! test/run_test.sh 5"
   ],
   "outputs": [],
   "execution_count": null
  },
  {
   "cell_type": "code",
   "metadata": {},
   "source": [],
   "outputs": [],
   "execution_count": null
  },
  {
   "cell_type": "markdown",
   "metadata": {
    "id": "iCNcXQNw2WsW"
   },
   "source": [
    "### 4.6 Filtering in Numpy Arrays\n",
    "\n",
    "Define a function **select_second_column** that extracts the second column from a 2-dimensional NumPy array and returns it.\n",
    "\n",
    "\n",
    "Hint: Index the second column using the column index in the array."
   ]
  },
  {
   "cell_type": "code",
   "metadata": {
    "id": "jkD_TLvEzqNQ"
   },
   "source": [
    "import numpy as np\n",
    "\n",
    "def select_second_column(arr):\n",
    "    # Add your code here\n"
   ],
   "outputs": [],
   "execution_count": null
  },
  {
   "cell_type": "code",
   "metadata": {},
   "source": [
    "# Call the function and print the result\n",
    "arr = np.array([[1, 2, 3], [4, 5, 6], [7, 8, 9]])\n",
    "print(select_second_column(arr))"
   ],
   "outputs": [],
   "execution_count": null
  },
  {
   "cell_type": "markdown",
   "metadata": {
    "id": "PkN_MihM-3KT"
   },
   "source": [
    "#### Save your solution to a file ..."
   ]
  },
  {
   "cell_type": "code",
   "metadata": {
    "colab": {
     "base_uri": "https://localhost:8080/"
    },
    "id": "RPINHeY5-3KT",
    "outputId": "c654b14c-a317-4efb-beef-79183d35adf5"
   },
   "source": [
    "%%writefile solution_4_6.py\n",
    "\n",
    "import numpy as np\n",
    "\n",
    "def select_second_column(arr):\n",
    "    # Add your code here\n"
   ],
   "outputs": [],
   "execution_count": null
  },
  {
   "cell_type": "code",
   "metadata": {
    "id": "3ED_yIyq-3KT"
   },
   "source": [],
   "outputs": [],
   "execution_count": null
  },
  {
   "cell_type": "markdown",
   "metadata": {
    "id": "AgrwAbXhPyP9"
   },
   "source": [
    "#### Test 4.6 Execute the cell below to test your solution..."
   ]
  },
  {
   "cell_type": "code",
   "metadata": {
    "colab": {
     "base_uri": "https://localhost:8080/"
    },
    "id": "XufXC7PJ-3KT",
    "outputId": "e9ccc120-678c-4a9f-fd71-23af937e9c17"
   },
   "source": [
    "! test/run_test.sh 6"
   ],
   "outputs": [],
   "execution_count": null
  },
  {
   "cell_type": "markdown",
   "metadata": {
    "id": "d2vDc3u12Wuj"
   },
   "source": [
    "### 4.7 Boolean Indexing\n",
    "\n",
    "Write a function **positive_elements** that takes a NumPy array **arr** and returns an array containing only the positive elements of **arr**.\n",
    "\n",
    "\n",
    "Hint: Use boolean indexing to filter out non-positive elements from the array."
   ]
  },
  {
   "cell_type": "code",
   "metadata": {
    "id": "5Bi4EdFRzqPk"
   },
   "source": [
    "import numpy as np\n",
    "\n",
    "def positive_elements(arr):\n",
    "    # Add your code here\n"
   ],
   "outputs": [],
   "execution_count": null
  },
  {
   "cell_type": "code",
   "metadata": {},
   "source": [
    "# Call the function and print the result\n",
    "arr = np.array([1, -1, 2, -2, 3, -3])\n",
    "print(positive_elements(arr))"
   ],
   "outputs": [],
   "execution_count": null
  },
  {
   "cell_type": "markdown",
   "metadata": {
    "id": "hARDq2gy-3KT"
   },
   "source": [
    "#### Save your solution to a file ..."
   ]
  },
  {
   "cell_type": "code",
   "metadata": {
    "colab": {
     "base_uri": "https://localhost:8080/"
    },
    "id": "FnbssGfj-3KT",
    "outputId": "09ef1671-e43b-433f-9b85-01df5e2c0f67"
   },
   "source": [
    "%%writefile solution_4_7.py\n",
    "\n",
    "import numpy as np\n",
    "\n",
    "def positive_elements(arr):\n",
    "    # Add your code here\n"
   ],
   "outputs": [],
   "execution_count": null
  },
  {
   "cell_type": "code",
   "metadata": {
    "id": "aBqe1Hij-3KT"
   },
   "source": [],
   "outputs": [],
   "execution_count": null
  },
  {
   "cell_type": "markdown",
   "metadata": {
    "id": "s6mO-Skw-3KT"
   },
   "source": [
    "#### Test 4.7 Execute the cell below to test your solution..."
   ]
  },
  {
   "cell_type": "code",
   "metadata": {
    "colab": {
     "base_uri": "https://localhost:8080/"
    },
    "id": "VuTRRRA1-3KT",
    "outputId": "db90033b-adff-4051-8b90-f207f31e65ad"
   },
   "source": [
    "! test/run_test.sh 7"
   ],
   "outputs": [],
   "execution_count": null
  },
  {
   "cell_type": "code",
   "metadata": {
    "id": "OcTKcePW-3KU"
   },
   "source": [],
   "outputs": [],
   "execution_count": null
  },
  {
   "cell_type": "markdown",
   "metadata": {
    "id": "LGSZ98Op44Lq"
   },
   "source": [
    "### 4.8 Transposing Arrays and Swapping Axes\n",
    "\n",
    "Create a function **transpose_and_swap** that first takes a 3-dimensional array and performs a transpose where we transpose the three axes 0, 1, and 2 like this: '0->1, 1->2, 2->0'. This should be followed by swapping the first and last axes, i.e. swapping axes 0 and 2. Return the resulting array.\n",
    "\n",
    "Hint: \n",
    "- Use the **transpose()** function or the **.T** method. You need to include a tuple as additional argument that specifies the above new sequence of axes to be selected.\n",
    "- Then swap axes using the **swapaxes()** method.\n"
   ]
  },
  {
   "cell_type": "code",
   "metadata": {
    "colab": {
     "base_uri": "https://localhost:8080/"
    },
    "id": "r4AEGfbRzqSB",
    "outputId": "9ef6b680-b78c-4fff-8fe5-2b858956ed58"
   },
   "source": [
    "import numpy as np\n",
    "\n",
    "def transpose_and_swap(arr):\n",
    "    # Add your code here\n"
   ],
   "outputs": [],
   "execution_count": null
  },
  {
   "cell_type": "code",
   "metadata": {},
   "source": [
    "# Call the function and print the result\n",
    "arr = np.array([[[1, 2], [3, 4]], [[5, 6], [7, 8]]])\n",
    "print(transpose_and_swap(arr))"
   ],
   "outputs": [],
   "execution_count": null
  },
  {
   "cell_type": "markdown",
   "metadata": {
    "id": "Tboyeggj-3KU"
   },
   "source": [
    "#### Save your solution to a file ..."
   ]
  },
  {
   "cell_type": "code",
   "metadata": {
    "colab": {
     "base_uri": "https://localhost:8080/"
    },
    "id": "OZnr_sHq-3KU",
    "outputId": "c5e5a09f-fdfe-4dff-efa4-5e96f401c1fc"
   },
   "source": [
    "%%writefile solution_4_8.py\n",
    "\n",
    "import numpy as np\n",
    "\n",
    "def transpose_and_swap(arr):\n",
    "    # Add your code here\n"
   ],
   "outputs": [],
   "execution_count": null
  },
  {
   "cell_type": "code",
   "metadata": {
    "id": "UI-OV3Rh-3KU"
   },
   "source": [],
   "outputs": [],
   "execution_count": null
  },
  {
   "cell_type": "markdown",
   "metadata": {
    "id": "ZEVtu3Ir-3KU"
   },
   "source": [
    "#### Test 4.8 Execute the cell below to test your solution..."
   ]
  },
  {
   "cell_type": "code",
   "metadata": {
    "colab": {
     "base_uri": "https://localhost:8080/"
    },
    "id": "xNw-aUcT-3KU",
    "outputId": "a3be144a-c7ff-4380-b21a-f39812fe385b"
   },
   "source": [
    "! test/run_test.sh 8"
   ],
   "outputs": [],
   "execution_count": null
  },
  {
   "cell_type": "code",
   "metadata": {
    "id": "9BUkJpeW-3KU"
   },
   "source": [],
   "outputs": [],
   "execution_count": null
  },
  {
   "cell_type": "markdown",
   "metadata": {
    "id": "xm6GH3vFVPwP"
   },
   "source": [
    "### 4.9 Pseudorandom Number Generation\n",
    "\n",
    "Write a function **generate_random_array** that generates a 3x3 array of random numbers drawn from **a standard normal distribution (mean = 0, standard deviation = 1)**. Return this array.\n",
    "\n",
    "Hint: Use the **numpy.random.randn()** function which returns samples from the standard normal distribution."
   ]
  },
  {
   "cell_type": "code",
   "metadata": {
    "colab": {
     "base_uri": "https://localhost:8080/"
    },
    "id": "TPL9n_5qVPwP",
    "outputId": "e998e529-b37e-4575-c441-040d8780b0b1"
   },
   "source": [
    "import numpy as np\n",
    "\n",
    "def generate_random_array():\n",
    "    # Add your code here\n"
   ],
   "outputs": [],
   "execution_count": null
  },
  {
   "cell_type": "code",
   "metadata": {},
   "source": [
    "# Call the function and print the result\n",
    "print(generate_random_array())"
   ],
   "outputs": [],
   "execution_count": null
  },
  {
   "cell_type": "markdown",
   "metadata": {
    "id": "fWZi7pWk-3KU"
   },
   "source": [
    "#### Save your solution to a file ..."
   ]
  },
  {
   "cell_type": "code",
   "metadata": {
    "colab": {
     "base_uri": "https://localhost:8080/"
    },
    "id": "GXsswFXl-3KU",
    "outputId": "96c0d5ff-8b47-4923-c8a0-0716e030a315"
   },
   "source": [
    "%%writefile solution_4_9.py\n",
    "\n",
    "import numpy as np\n",
    "\n",
    "def generate_random_array():\n",
    "    # Add your code here\n"
   ],
   "outputs": [],
   "execution_count": null
  },
  {
   "cell_type": "code",
   "metadata": {
    "id": "yDcoRrWp-3KU"
   },
   "source": [],
   "outputs": [],
   "execution_count": null
  },
  {
   "cell_type": "markdown",
   "metadata": {
    "id": "QZmybh6P-3KU"
   },
   "source": [
    "#### Test 4.9 Execute the cell below to test your solution..."
   ]
  },
  {
   "cell_type": "code",
   "metadata": {
    "colab": {
     "base_uri": "https://localhost:8080/"
    },
    "id": "D1QFPfra-3KU",
    "outputId": "9d658172-e7a0-42d4-844f-0903dcc3cb1e"
   },
   "source": [
    "! test/run_test.sh 9"
   ],
   "outputs": [],
   "execution_count": null
  },
  {
   "cell_type": "code",
   "metadata": {
    "id": "GrCObHk9-3KV"
   },
   "source": [],
   "outputs": [],
   "execution_count": null
  },
  {
   "cell_type": "markdown",
   "metadata": {
    "id": "KGeZp89EVPwQ"
   },
   "source": [
    "### 4.10 Universal Functions: Fast Element-Wise Array Functions\n",
    "\n",
    "Write a function **sqrt_and_square** that takes an array arr of numbers, computes the square root and the square of each element, and returns both results in a tuple **(sqrt_array, square_array)**.\n",
    "\n",
    "Hint: Use **np.sqrt** for square roots and **np.square** for squares. These functions apply operations element-wise across the array."
   ]
  },
  {
   "cell_type": "code",
   "metadata": {
    "colab": {
     "base_uri": "https://localhost:8080/"
    },
    "id": "-NGwkHCeVPwQ",
    "outputId": "dd550bc3-b787-4795-ae8c-0b5203711b17"
   },
   "source": [
    "import numpy as np\n",
    "\n",
    "def sqrt_and_square(arr):\n",
    "    # Add your code here\n"
   ],
   "outputs": [],
   "execution_count": null
  },
  {
   "cell_type": "code",
   "metadata": {},
   "source": [
    "# Call the function and print the result\n",
    "arr = np.array([1, 4, 9, 16])\n",
    "print(sqrt_and_square(arr))"
   ],
   "outputs": [],
   "execution_count": null
  },
  {
   "cell_type": "markdown",
   "metadata": {
    "id": "L70OpEoq-3KV"
   },
   "source": [
    "#### Save your solution to a file ..."
   ]
  },
  {
   "cell_type": "code",
   "metadata": {
    "colab": {
     "base_uri": "https://localhost:8080/"
    },
    "id": "l8Shz3L5-3KV",
    "outputId": "c90c92b0-60d5-43cb-e4a2-2119fee878c2"
   },
   "source": [
    "%%writefile solution_4_10.py\n",
    "\n",
    "import numpy as np\n",
    "\n",
    "def sqrt_and_square(arr):\n",
    "    # Add your code here\n"
   ],
   "outputs": [],
   "execution_count": null
  },
  {
   "cell_type": "code",
   "metadata": {
    "id": "4tKQns_2-3KV"
   },
   "source": [],
   "outputs": [],
   "execution_count": null
  },
  {
   "cell_type": "markdown",
   "metadata": {
    "id": "cKYkg-Oc-3KV"
   },
   "source": [
    "#### Test 4.10 Execute the cell below to test your solution..."
   ]
  },
  {
   "cell_type": "code",
   "metadata": {
    "colab": {
     "base_uri": "https://localhost:8080/"
    },
    "id": "UIYcWeA0-3KV",
    "outputId": "ff3d8fb1-78d5-4310-ebb4-397f3490a8af"
   },
   "source": [
    "! test/run_test.sh 10"
   ],
   "outputs": [],
   "execution_count": null
  },
  {
   "cell_type": "code",
   "metadata": {
    "id": "cjEOjlys-3KV"
   },
   "source": [],
   "outputs": [],
   "execution_count": null
  },
  {
   "cell_type": "markdown",
   "metadata": {
    "id": "riuUrO72VPwQ"
   },
   "source": [
    "\n",
    "\n",
    "### 4.11 Element-wise adding and multiplying of two numpy arrays\n",
    "\n",
    "Create a function **add_and_multiply** that takes two arrays a and b, adds them and multiplies them element-wise, then returns both results in a tuple **(added_array, multiplied_array)**.\n",
    "\n",
    "\n",
    "Hint: Use **np.add** for addition and **np.multiply** for multiplication. These functions handle element-wise operations across arrays.\n",
    "\n"
   ]
  },
  {
   "cell_type": "code",
   "metadata": {
    "colab": {
     "base_uri": "https://localhost:8080/"
    },
    "id": "wIVZH885VPwQ",
    "outputId": "6c7f8663-74a9-4392-b2da-b390cc0b8f11"
   },
   "source": [
    "import numpy as np\n",
    "\n",
    "def add_and_multiply(a, b):\n",
    "    # Add your code here\n"
   ],
   "outputs": [],
   "execution_count": null
  },
  {
   "cell_type": "code",
   "metadata": {
    "id": "8v1GOAko-3KV",
    "outputId": "59c83ea9-2074-45ea-9cb0-9a4452ad33f8"
   },
   "source": [
    "# Call the function and print the result\n",
    "a = np.array([1, 2, 3])\n",
    "b = np.array([4, 5, 6])\n",
    "print(add_and_multiply(a, b))"
   ],
   "outputs": [],
   "execution_count": null
  },
  {
   "cell_type": "markdown",
   "metadata": {
    "id": "qcRC2lJn-3KV"
   },
   "source": [
    "#### Save your solution to a file ..."
   ]
  },
  {
   "cell_type": "code",
   "metadata": {
    "colab": {
     "base_uri": "https://localhost:8080/"
    },
    "id": "bgtENsXX-3KV",
    "outputId": "d6b62ec1-8ec1-4edf-96b2-2f6f2caeb398"
   },
   "source": [
    "%%writefile solution_4_11.py\n",
    "\n",
    "import numpy as np\n",
    "\n",
    "def add_and_multiply(a, b):\n",
    "    # Add your code here\n"
   ],
   "outputs": [],
   "execution_count": null
  },
  {
   "cell_type": "code",
   "metadata": {
    "id": "CIOIJDm5-3KV"
   },
   "source": [],
   "outputs": [],
   "execution_count": null
  },
  {
   "cell_type": "markdown",
   "metadata": {
    "id": "I-pd8h8B-3KV"
   },
   "source": [
    "#### Test 4.11 Execute the cell below to test your solution..."
   ]
  },
  {
   "cell_type": "code",
   "metadata": {
    "colab": {
     "base_uri": "https://localhost:8080/"
    },
    "id": "bsfnslef-3KV",
    "outputId": "909b0615-49c1-46b7-c2ee-6de69c274a2d"
   },
   "source": [
    "! test/run_test.sh 11"
   ],
   "outputs": [],
   "execution_count": null
  },
  {
   "cell_type": "code",
   "metadata": {
    "id": "D4ZWn3o--3KV"
   },
   "source": [],
   "outputs": [],
   "execution_count": null
  },
  {
   "cell_type": "markdown",
   "metadata": {
    "id": "dJIcFZEkVPwQ"
   },
   "source": [
    "### 4.12 Array-Oriented Programming with Arrays\n",
    "\n",
    "Write a function **apply_conditions** that takes three arrays **a**, **cond**, and **b** with **cond** being a Boolian array. All three arrays shall have the same shape. The function should return an array where each element is taken from **a** if the corresponding element in **cond** is True, and from **b** otherwise.\n",
    "\n",
    "\n",
    "Hint: Use the **np.where** function to choose values from **a** or **b** based on the condition cond."
   ]
  },
  {
   "cell_type": "code",
   "metadata": {
    "id": "GVaVxpvWVPwQ"
   },
   "source": [
    "import numpy as np\n",
    "\n",
    "def apply_conditions(a, cond, b):\n",
    "    # Add your code here\n"
   ],
   "outputs": [],
   "execution_count": null
  },
  {
   "cell_type": "code",
   "metadata": {},
   "source": [
    "# Call the function and print the result\n",
    "a = np.array([1, 2, 3, 4, 5])\n",
    "cond = np.array([True, False, True, False, True])\n",
    "b = np.array([5, 4, 3, 2, 1])\n",
    "print(apply_conditions(a, cond, b))"
   ],
   "outputs": [],
   "execution_count": null
  },
  {
   "cell_type": "markdown",
   "metadata": {
    "id": "BcsqSR2z-3KW"
   },
   "source": [
    "#### Save your solution to a file ..."
   ]
  },
  {
   "cell_type": "code",
   "metadata": {
    "id": "p-C_ZN8T-3KW",
    "outputId": "576bcf99-7ec7-4eee-9b6b-fa63fd430ee2"
   },
   "source": [
    "%%writefile solution_4_12.py\n",
    "\n",
    "import numpy as np\n",
    "\n",
    "def apply_conditions(a, cond, b):\n",
    "    # Add your code here\n"
   ],
   "outputs": [],
   "execution_count": null
  },
  {
   "cell_type": "code",
   "metadata": {
    "id": "4ft-nMva-3KW"
   },
   "source": [],
   "outputs": [],
   "execution_count": null
  },
  {
   "cell_type": "markdown",
   "metadata": {
    "id": "AzNKdEor-3KW"
   },
   "source": [
    "#### Test 4.12 Execute the cell below to test your solution...\n",
    "\n"
   ]
  },
  {
   "cell_type": "code",
   "metadata": {
    "id": "_Y9Ct6lh-3KW",
    "outputId": "209bef23-6207-4420-cdc0-ce5a6e035f51"
   },
   "source": [
    "! test/run_test.sh 12"
   ],
   "outputs": [],
   "execution_count": null
  },
  {
   "cell_type": "code",
   "metadata": {
    "id": "vtdlWoZo-3KW"
   },
   "source": [],
   "outputs": [],
   "execution_count": null
  },
  {
   "cell_type": "markdown",
   "metadata": {
    "id": "J8jA8DytVPwQ"
   },
   "source": [
    "### 4.13 Applying Statistical Methods on Arrays\n",
    "\n",
    "Write a function **calculate_stats** that takes an array **arr** and returns a tuple containing the **mean, standard deviation,** and **sum** of the elements in the array.\n",
    "\n",
    "\n",
    "Hint: Use **np.mean, np.std,** and **np.sum** to compute these statistics. These functions provide a way to quickly compute these common statistical measures across an entire array or along specific axes of the array."
   ]
  },
  {
   "cell_type": "code",
   "metadata": {
    "colab": {
     "base_uri": "https://localhost:8080/"
    },
    "id": "RJOTvGGDVPwQ",
    "outputId": "dce88f96-8d27-4021-fdcd-2bd05ba6c7b0"
   },
   "source": [
    "import numpy as np\n",
    "\n",
    "def calculate_stats(arr):\n",
    "    # Add your code here\n"
   ],
   "outputs": [],
   "execution_count": null
  },
  {
   "cell_type": "code",
   "metadata": {},
   "source": [
    "# Call the function and print the result\n",
    "arr = np.array([1, 2, 3, 4, 5, 6])\n",
    "print(calculate_stats(arr))"
   ],
   "outputs": [],
   "execution_count": null
  },
  {
   "cell_type": "markdown",
   "metadata": {
    "id": "_UwsKw0j-3KW"
   },
   "source": [
    "#### Save your solution to a file ..."
   ]
  },
  {
   "cell_type": "code",
   "metadata": {
    "colab": {
     "base_uri": "https://localhost:8080/"
    },
    "id": "kBi9kCer-3KW",
    "outputId": "e06f5c71-3b33-4c06-9963-be01017a0675"
   },
   "source": [
    "%%writefile solution_4_13.py\n",
    "\n",
    "import numpy as np\n",
    "\n",
    "def calculate_stats(arr):\n",
    "    # Add your code here\n"
   ],
   "outputs": [],
   "execution_count": null
  },
  {
   "cell_type": "code",
   "metadata": {
    "id": "9BvxUDPD-3KW"
   },
   "source": [],
   "outputs": [],
   "execution_count": null
  },
  {
   "cell_type": "markdown",
   "metadata": {
    "id": "op9AZksF-3KW"
   },
   "source": [
    "#### Test 4_13 Execute the cell below to test your solution..."
   ]
  },
  {
   "cell_type": "code",
   "metadata": {
    "id": "kNPIZiFb-3KW"
   },
   "source": [
    "! test/run_test.sh 13"
   ],
   "outputs": [],
   "execution_count": null
  },
  {
   "cell_type": "code",
   "metadata": {
    "id": "iN817Mpd-3KW"
   },
   "source": [],
   "outputs": [],
   "execution_count": null
  },
  {
   "cell_type": "markdown",
   "metadata": {
    "id": "3h2gmX45VPwQ"
   },
   "source": [
    "### 4.14 Analyzing Boolean Arrays\n",
    "\n",
    "Write a function **analyze_boolean_array** that takes a Boolean array **arr** and returns a tuple containing the total number of True values in **arr**, whether any value is True, and whether all values are True.\n",
    "\n",
    "\n",
    "Hint: Use **np.sum** to count True values, **np.any** to check if any value is True, and **np.all** to check if all values are True. These functions are ideal for aggregating Boolean arrays."
   ]
  },
  {
   "cell_type": "code",
   "metadata": {
    "id": "fxoizm8dVPwQ"
   },
   "source": [
    "import numpy as np\n",
    "\n",
    "def analyze_boolean_array(arr):\n",
    "    # Add your code here\n"
   ],
   "outputs": [],
   "execution_count": null
  },
  {
   "cell_type": "code",
   "metadata": {},
   "source": [
    "# Call the function and print the result\n",
    "arr = np.array([True, False, True, False, True])\n",
    "print(analyze_boolean_array(arr))"
   ],
   "outputs": [],
   "execution_count": null
  },
  {
   "cell_type": "markdown",
   "metadata": {
    "id": "h_GfDcDm-3KW"
   },
   "source": [
    "#### Save your solution to a file ..."
   ]
  },
  {
   "cell_type": "code",
   "metadata": {
    "colab": {
     "base_uri": "https://localhost:8080/"
    },
    "id": "27LR0ICH-3KW",
    "outputId": "edfd1498-b7f2-44a1-fe60-7b12801a2ecb"
   },
   "source": [
    "%%writefile solution_4_14.py\n",
    "\n",
    "import numpy as np\n",
    "\n",
    "def analyze_boolean_array(arr):\n",
    "    # Add your code here\n"
   ],
   "outputs": [],
   "execution_count": null
  },
  {
   "cell_type": "code",
   "metadata": {
    "id": "4es7t_ni-3KW"
   },
   "source": [],
   "outputs": [],
   "execution_count": null
  },
  {
   "cell_type": "markdown",
   "metadata": {
    "id": "ygSMY5I9-3KW"
   },
   "source": [
    "#### Test 4.14 Execute the cell below to test your solution..."
   ]
  },
  {
   "cell_type": "code",
   "metadata": {
    "id": "XMcnwcT8-3KX"
   },
   "source": [
    "! test/run_test.sh 14"
   ],
   "outputs": [],
   "execution_count": null
  },
  {
   "cell_type": "code",
   "metadata": {
    "id": "am11U8b_-3KX"
   },
   "source": [],
   "outputs": [],
   "execution_count": null
  },
  {
   "cell_type": "markdown",
   "metadata": {
    "id": "81QHEzGG-3KX"
   },
   "source": [
    "### 4.15 Sorting Arrays\n",
    "\n",
    "Write a function **sort_array** that takes a numeric array **arr** and an optional boolean parameter named **ascending**. The function should return the array sorted in ascending order if **ascending** is True, and in descending order if **ascending** is False.\n",
    "\n",
    "\n",
    "Hint: Use **np.sort** to sort the array, and apply slicing techniques to reverse the order if necessary. The ascending parameter should default to True."
   ]
  },
  {
   "cell_type": "code",
   "metadata": {
    "id": "LqgmExfp-3KX"
   },
   "source": [],
   "outputs": [],
   "execution_count": null
  },
  {
   "cell_type": "code",
   "metadata": {
    "id": "w0gOvN2c-3KX"
   },
   "source": [
    "import numpy as np\n",
    "\n",
    "def sort_array(arr, ascending=True):\n",
    "    # Add your code here\n"
   ],
   "outputs": [],
   "execution_count": null
  },
  {
   "cell_type": "code",
   "metadata": {},
   "source": [
    "# Call the function and print the result\n",
    "arr = np.array([3, 1, 4, 1, 5, 9, 2, 6, 5, 3, 5])\n",
    "print(\"Ascending:\", sort_array(arr))\n",
    "print(\"Descending:\", sort_array(arr, ascending=False))\n"
   ],
   "outputs": [],
   "execution_count": null
  },
  {
   "cell_type": "markdown",
   "metadata": {
    "id": "bEjf8RjAj5w6"
   },
   "source": [
    "### Save your solution to a file ..."
   ]
  },
  {
   "cell_type": "code",
   "metadata": {
    "colab": {
     "base_uri": "https://localhost:8080/"
    },
    "id": "SLpAz_fr-3KX",
    "outputId": "be79e0c8-909e-48da-b08e-f36137f42736"
   },
   "source": [
    "%%writefile solution_4_15.py\n",
    "\n",
    "import numpy as np\n",
    "\n",
    "def sort_array(arr, ascending=True):\n",
    "    # Add your code here\n"
   ],
   "outputs": [],
   "execution_count": null
  },
  {
   "cell_type": "markdown",
   "metadata": {},
   "source": [
    "#### Test 4.15 Execute the cell below to test your solution..."
   ]
  },
  {
   "cell_type": "code",
   "metadata": {
    "id": "KXFfya0caz0k"
   },
   "source": [
    "! test/run_test.sh 15"
   ],
   "outputs": [],
   "execution_count": null
  },
  {
   "cell_type": "code",
   "metadata": {},
   "source": [],
   "outputs": [],
   "execution_count": null
  },
  {
   "cell_type": "markdown",
   "metadata": {
    "id": "sdwWKAGi-3KX"
   },
   "source": [
    "### 4.16 Linear Algebra: Matrix Multiplication\n",
    "\n",
    "Write a function **matrix_multiplication** that takes two 2D NumPy arrays **A** and **B** as input and returns their matrix product. Assume that the matrices are compatible for multiplication (i.e., the number of columns in **A** equals the number of rows in **B**).\n",
    "\n",
    "\n",
    "Hint: Use the **np.dot** function or the **@** operator to perform matrix multiplication, which computes the dot product of two arrays."
   ]
  },
  {
   "cell_type": "code",
   "metadata": {},
   "source": [],
   "outputs": [],
   "execution_count": null
  },
  {
   "cell_type": "code",
   "metadata": {
    "colab": {
     "base_uri": "https://localhost:8080/"
    },
    "id": "KTTyt-d1-3KX",
    "outputId": "67b53589-5b78-41af-b17b-3f2e4e97d3d5"
   },
   "source": [
    "import numpy as np\n",
    "\n",
    "def matrix_multiplication(A, B):\n",
    "    # Add your code here\n"
   ],
   "outputs": [],
   "execution_count": null
  },
  {
   "cell_type": "code",
   "metadata": {},
   "source": [
    "# Call the function and print the result\n",
    "A = np.array([[1, 2], [3, 4]])\n",
    "B = np.array([[2, 0], [1, 2]])\n",
    "print(matrix_multiplication(A, B))"
   ],
   "outputs": [],
   "execution_count": null
  },
  {
   "cell_type": "markdown",
   "metadata": {
    "id": "axGyUM5O-3KX"
   },
   "source": [
    "#### Save your solution to a file ..."
   ]
  },
  {
   "cell_type": "code",
   "metadata": {
    "colab": {
     "base_uri": "https://localhost:8080/"
    },
    "id": "BdM2oWa4-3KX",
    "outputId": "ebe200c7-5554-42f3-a72c-8a2fdda9e892"
   },
   "source": [
    "%%writefile solution_4_16.py\n",
    "\n",
    "import numpy as np\n",
    "\n",
    "def matrix_multiplication(A, B):\n",
    "    # Add your code here\n"
   ],
   "outputs": [],
   "execution_count": null
  },
  {
   "cell_type": "markdown",
   "metadata": {
    "id": "ExsAIUkC-3KX"
   },
   "source": [
    "#### Test 4.16 Execute the cell below to test your solution..."
   ]
  },
  {
   "cell_type": "code",
   "metadata": {
    "id": "Az0nSZJX-3KX",
    "outputId": "ef9b7764-f939-43fe-c11a-dc2f3153545f"
   },
   "source": [
    "! test/run_test.sh 16"
   ],
   "outputs": [],
   "execution_count": null
  },
  {
   "cell_type": "code",
   "metadata": {
    "id": "NGDz0_5Taz0k"
   },
   "source": [],
   "outputs": [],
   "execution_count": null
  },
  {
   "cell_type": "markdown",
   "metadata": {},
   "source": [
    "### 4.17 Array Operations\n",
    "\n",
    "Create a function that creates two NumPy arrays, array1 [10, 20, 30, 40, 50] and array2 [2, 4, 6, 8, 10]. \n",
    "\n",
    "Perform element-wise addition, subtraction, multiplication, and division between these arrays."
   ]
  },
  {
   "cell_type": "code",
   "metadata": {},
   "source": [
    "import numpy as np\n",
    "\n",
    "def matrix_arithmatic():\n",
    "    # Add your code here\n",
    "    \n",
    "\n",
    "    \n",
    "    return addition_result, subtraction_result, multiplication_result, division_result"
   ],
   "outputs": [],
   "execution_count": null
  },
  {
   "cell_type": "code",
   "metadata": {},
   "source": [
    "addition_result, subtraction_result, multiplication_result, division_result = matrix_arithmatic()\n",
    "print(\n",
    "    f\"addition = {addition_result}, {type(addition_result)}\\nsubstraction = {subtraction_result}, {type(subtraction_result)}\\nmultiplication = {multiplication_result}, {type(multiplication_result)}\\ndivision = {division_result}, {type(division_result)}\")"
   ],
   "outputs": [],
   "execution_count": null
  },
  {
   "cell_type": "code",
   "metadata": {},
   "source": [],
   "outputs": [],
   "execution_count": null
  },
  {
   "cell_type": "markdown",
   "metadata": {},
   "source": [
    "#### Save your solution to a file ..."
   ]
  },
  {
   "cell_type": "code",
   "metadata": {},
   "source": [
    "%%writefile solution_4_17.py\n",
    "import numpy as np\n",
    "\n",
    "def matrix_arithmatic():\n",
    "    # Add your code here\n",
    "    \n",
    "\n",
    "    \n",
    "    return addition_result, subtraction_result, multiplication_result, division_result"
   ],
   "outputs": [],
   "execution_count": null
  },
  {
   "cell_type": "markdown",
   "metadata": {},
   "source": [
    "#### Test 4.17 Execute the cell below to test your solution..."
   ]
  },
  {
   "cell_type": "code",
   "metadata": {},
   "source": [
    "! test/run_test.sh 17"
   ],
   "outputs": [],
   "execution_count": null
  },
  {
   "cell_type": "code",
   "metadata": {},
   "source": [],
   "outputs": [],
   "execution_count": null
  },
  {
   "cell_type": "markdown",
   "metadata": {},
   "source": [
    "### 4.18 Matrix Row and Column Operations\n",
    "\n",
    "Instructions:\n",
    "\n",
    "1. Create a function **swap_rows_and_columns** that takes a matrix (NumPy array) and two integers i and j as input.\n",
    "2. The function should swap the i-th row and j-th row of the matrix and also swap the i-th column and j-th column.\n",
    "3. Return the modified matrix."
   ]
  },
  {
   "cell_type": "code",
   "metadata": {},
   "source": [
    "import numpy as np\n",
    "\n",
    "def swap_rows_and_columns(matrix: np.ndarray, i: int, j: int) -> np.ndarray:\n",
    "    # Add your code here\n"
   ],
   "outputs": [],
   "execution_count": null
  },
  {
   "cell_type": "code",
   "metadata": {},
   "source": [
    "# Try your code\n",
    "import numpy as np\n",
    "from pprint import pprint \n",
    "\n",
    "matrix = np.array([[1, 2, 3],\n",
    "                   [4, 5, 6],\n",
    "                   [7, 8, 9]])\n",
    "res = swap_rows_and_columns(matrix, 1, 2)\n",
    "\n",
    "pprint(res)"
   ],
   "outputs": [],
   "execution_count": null
  },
  {
   "cell_type": "markdown",
   "metadata": {},
   "source": [
    "#### Save your solution to a file ..."
   ]
  },
  {
   "cell_type": "code",
   "metadata": {},
   "source": [
    "%%writefile solution_4_18.py\n",
    "\n",
    "import numpy as np\n",
    "\n",
    "def swap_rows_and_columns(matrix: np.ndarray, i: int, j: int) -> np.ndarray:\n",
    "    # Add your code here\n"
   ],
   "outputs": [],
   "execution_count": null
  },
  {
   "cell_type": "markdown",
   "metadata": {},
   "source": [
    "#### Test 4.18 Execute the cell below to test your solution..."
   ]
  },
  {
   "cell_type": "code",
   "metadata": {},
   "source": [
    "! test/run_test.sh 18"
   ],
   "outputs": [],
   "execution_count": null
  },
  {
   "cell_type": "code",
   "metadata": {},
   "source": [],
   "outputs": [],
   "execution_count": null
  },
  {
   "cell_type": "markdown",
   "metadata": {},
   "source": [
    "### 4.19 Matrix Concatenation\n",
    "\n",
    "Instructions:\n",
    "\n",
    "1. Create a  function `concatenate_matrices` that takes two matrices (NumPy arrays) as input\n",
    "2. The function should concatenate them horizontally if they have the same number of rows or vertically if they have the same number of columns.\n",
    "3. Return the modified matrix.\n",
    "4. If concatenation is not possible, return the following message: \"Concatenation not possible: Dimensions do not match.\"\n"
   ]
  },
  {
   "cell_type": "code",
   "metadata": {},
   "source": [
    "import numpy as np\n",
    "\n",
    "def concatenate_matrices(matrix1: np.ndarray, matrix2: np.ndarray) -> np.ndarray:\n",
    "\n",
    "    ### Add your code here\n",
    "\n"
   ],
   "outputs": [],
   "execution_count": null
  },
  {
   "cell_type": "code",
   "metadata": {},
   "source": [
    "# Try your code\n",
    "from pprint import pprint\n",
    "\n",
    "matrix1 = np.array([[5, 6],\n",
    "                    [7, 8]])\n",
    "\n",
    "matrix2 = np.array([[9, 10, 11],\n",
    "                  [12, 13, 14]])\n",
    "\n",
    "matrix3 = concatenate_matrices(matrix1, matrix2)\n",
    "pprint(matrix3)"
   ],
   "outputs": [],
   "execution_count": null
  },
  {
   "cell_type": "code",
   "metadata": {},
   "source": [],
   "outputs": [],
   "execution_count": null
  },
  {
   "cell_type": "markdown",
   "metadata": {},
   "source": [
    "#### Save your solution to a file ..."
   ]
  },
  {
   "cell_type": "code",
   "metadata": {},
   "source": [
    "%%writefile solution_4_19.py\n",
    "\n",
    "import numpy as np\n",
    "\n",
    "def concatenate_matrices(matrix1: np.ndarray, matrix2: np.ndarray) -> np.ndarray:\n",
    "\n",
    "    ### Add your code here\n",
    "\n"
   ],
   "outputs": [],
   "execution_count": null
  },
  {
   "cell_type": "code",
   "metadata": {},
   "source": [],
   "outputs": [],
   "execution_count": null
  },
  {
   "cell_type": "markdown",
   "metadata": {},
   "source": [
    "#### Test 4.19 Execute the cell below to test your solution..."
   ]
  },
  {
   "cell_type": "code",
   "metadata": {},
   "source": [
    "! test/run_test.sh 19"
   ],
   "outputs": [],
   "execution_count": null
  },
  {
   "cell_type": "code",
   "metadata": {},
   "source": [],
   "outputs": [],
   "execution_count": null
  },
  {
   "cell_type": "markdown",
   "metadata": {},
   "source": [
    "### 4.20 Analyzing Student Exam Scores\n",
    "\n",
    "Instructions:\n",
    "\n",
    "1. Create a function which takes 2D NumPy array where each row represents a student, and each column represents an exam score.\n",
    "2. Return two different lists, one list is for average scores of a student and the other list has the average scores of each exam of all student.\n",
    "\n",
    "Hint: Think about using the axis option when calculating mean."
   ]
  },
  {
   "cell_type": "code",
   "metadata": {},
   "source": [
    "from typing import Tuple\n",
    "import numpy as np\n",
    "\n",
    "def exam_analyze(exam_scores: np.ndarray) -> Tuple[np.ndarray]:\n",
    "\n",
    "    ### Add your code here\n",
    "    \n",
    "\n",
    "\n",
    "    return average_scores_per_exam, average_scores_per_student"
   ],
   "outputs": [],
   "execution_count": null
  },
  {
   "cell_type": "code",
   "metadata": {},
   "source": [
    "# Try your code\n",
    "exam_scores = np.array([\n",
    "    [83, 90, 88],\n",
    "    [91, 92, 94],\n",
    "    [86, 84, 89],\n",
    "    [78, 92, 72],\n",
    "    [88, 75, 78]\n",
    "    ])\n",
    "\n",
    "average_scores_per_exam, average_scores_per_student = exam_analyze(exam_scores)\n",
    "\n",
    "print(\"Average Scores per Exam:     {}\".format(', '.join([\"%5.2f\" % score for score in average_scores_per_exam])))\n",
    "print(\"fAverage Scores per Student: {}\".format(', '.join([\"%5.2f\" % score for score in average_scores_per_student])))"
   ],
   "outputs": [],
   "execution_count": null
  },
  {
   "cell_type": "markdown",
   "metadata": {},
   "source": [
    "#### Save your solution to a file ..."
   ]
  },
  {
   "cell_type": "code",
   "metadata": {},
   "source": [
    "%%writefile solution_4_20.py\n",
    "\n",
    "from typing import Tuple\n",
    "import numpy as np\n",
    "\n",
    "def exam_analyze(exam_scores: np.ndarray) -> Tuple[np.ndarray]:\n",
    "\n",
    "    ### Add your code here\n",
    " \n",
    "\n",
    "\n",
    "    return average_scores_per_exam, average_scores_per_student"
   ],
   "outputs": [],
   "execution_count": null
  },
  {
   "cell_type": "markdown",
   "metadata": {},
   "source": [
    "#### Test 4.20 Execute the cell below to test your solution..."
   ]
  },
  {
   "cell_type": "code",
   "metadata": {},
   "source": [
    "! test/run_test.sh 20"
   ],
   "outputs": [],
   "execution_count": null
  },
  {
   "cell_type": "code",
   "metadata": {},
   "source": [],
   "outputs": [],
   "execution_count": null
  },
  {
   "cell_type": "markdown",
   "metadata": {},
   "source": [
    "## Run All Tests One More Time ..."
   ]
  },
  {
   "cell_type": "code",
   "metadata": {},
   "source": [
    "! test/run_test.sh"
   ],
   "outputs": [],
   "execution_count": null
  },
  {
   "cell_type": "markdown",
   "metadata": {},
   "source": [
    "# Homework Submission\n",
    "\n",
    "- This homework is due by September 15, 2024, 6:30PM (EDT)\n",
    "- Make sure that all your programs and output files are in the exact folder as specified in the instructions.\n",
    "- All file names on this system are case sensitive. Verify if you copy your work from a local computer to your home directory on ARC.\n",
    "\n",
    "**Run the cell below to submit your work.**\n",
    "\n",
    "- You may submit your work multiple times up to the deadline of the assignment.\n",
    "- Please note that any files that you previously submitted will\n",
    "be overwritten by your current files.\n",
    "- ! ./submit.sh -y"
   ]
  },
  {
   "cell_type": "code",
   "metadata": {},
   "source": [
    "! ./submit.sh -y"
   ],
   "outputs": [],
   "execution_count": null
  },
  {
   "cell_type": "code",
   "metadata": {},
   "source": [],
   "outputs": [],
   "execution_count": null
  }
 ],
 "metadata": {
  "colab": {
   "provenance": []
  },
  "kernelspec": {
   "display_name": "Python 3 (ipykernel)",
   "language": "python",
   "name": "python3"
  },
  "language_info": {
   "codemirror_mode": {
    "name": "ipython",
    "version": 3
   },
   "file_extension": ".py",
   "mimetype": "text/x-python",
   "name": "python",
   "nbconvert_exporter": "python",
   "pygments_lexer": "ipython3",
   "version": "3.11.9"
  }
 },
 "nbformat": 4,
 "nbformat_minor": 4
}
