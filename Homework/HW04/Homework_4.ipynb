{
 "cells": [
  {
   "cell_type": "markdown",
   "metadata": {
    "id": "e3ycyjPOV8Ci"
   },
   "source": [
    "# Homework 4"
   ]
  },
  {
   "cell_type": "code",
   "execution_count": null,
   "metadata": {
    "id": "07nqro_KnCxP"
   },
   "outputs": [],
   "source": [
    "# Execute first, don't change\n",
    "%reload_ext autoreload\n",
    "%autoreload 2"
   ]
  },
  {
   "cell_type": "code",
   "execution_count": null,
   "metadata": {},
   "outputs": [],
   "source": [
    "import numpy as np\n",
    "import pandas as pd \n",
    "import matplotlib.pyplot as plt"
   ]
  },
  {
   "cell_type": "markdown",
   "metadata": {
    "id": "whZUUuBTV8C5"
   },
   "source": [
    "## Topic - 3 Python data structures and Functions\n",
    "Review"
   ]
  },
  {
   "cell_type": "markdown",
   "metadata": {
    "id": "dhFLPCtRV8C6"
   },
   "source": [
    "### 4.1 Find the most popular programming language among your friends\n",
    "Instructions\n",
    "1. Write a function that finds the most popular programming language among your friends.\n",
    "2. The input is a list of dictionaries representing a friend and their favorite programming language.\n",
    "3. The function should return a tuple with the most popular programming language and the number of friends who chose it.\n",
    "\n",
    "Example:\n",
    "- Input = [{'name': 'John', 'language': 'Python'}, {'name': 'Jane', 'language': 'Python'}, {'name': 'Mike', 'language': 'JavaScript'}]\n",
    "- Output = ('Python', 2)"
   ]
  },
  {
   "cell_type": "code",
   "execution_count": null,
   "metadata": {
    "id": "EwDvCFg3V8C6"
   },
   "outputs": [],
   "source": []
  },
  {
   "cell_type": "markdown",
   "metadata": {
    "id": "an42AxCPV8C6"
   },
   "source": [
    "Save your solution to `solution_4_1.py`"
   ]
  },
  {
   "cell_type": "code",
   "execution_count": null,
   "metadata": {
    "id": "1VETf_E8V8C6"
   },
   "outputs": [],
   "source": [
    "%%writefile solution_4_1.py\n",
    "\n",
    "def most_popular_language(friends):\n",
    "\n",
    "    ### your code here\n",
    "    \n",
    "\n",
    "    return (most_popular, count)\n"
   ]
  },
  {
   "cell_type": "markdown",
   "metadata": {
    "id": "lH9I0H6jV8C8"
   },
   "source": [
    "### 4.2 Find the most frequent word in a sentence\n",
    "Instructions\n",
    "1. Write a function that finds the most frequent word in a sentence\n",
    "2. The input to the function is a string.\n",
    "3. The function should return a tuple with the most frequent word and the number of times it appears in the sentence\n",
    "\n",
    "Example:\n",
    "- Input - \"The quick brown fox jumps over the lazy dog\"\n",
    "- Output - ('the', 2)"
   ]
  },
  {
   "cell_type": "code",
   "execution_count": null,
   "metadata": {
    "id": "dSM95v5cV8C8"
   },
   "outputs": [],
   "source": []
  },
  {
   "cell_type": "markdown",
   "metadata": {
    "id": "R77auDATV8C8"
   },
   "source": [
    "Save your solution to `solution_4_2.py`\n"
   ]
  },
  {
   "cell_type": "code",
   "execution_count": null,
   "metadata": {
    "id": "GU5OOPgsV8C9"
   },
   "outputs": [],
   "source": [
    "%%writefile solution_4_2.py\n",
    "\n",
    "def find_most_frequent_word(sentence):\n",
    "\n",
    "    ### your code here\n",
    "    \n",
    "\n",
    "    return (most_frequent_word, count)"
   ]
  },
  {
   "cell_type": "code",
   "execution_count": null,
   "metadata": {
    "id": "i_hUf7LLV8C9"
   },
   "outputs": [],
   "source": []
  },
  {
   "cell_type": "markdown",
   "metadata": {
    "id": "HYGzCp57V8C9"
   },
   "source": [
    "### 4.3 Compound Interest\n",
    "Instructions\n",
    "1. Write a function that calculates the compound interest on an investment over a period of time.\n",
    "2. The function should take the initial investment amount, the annual interest rate, and the number of years as input and return the total amount of money in the investment account after the specified time period."
   ]
  },
  {
   "cell_type": "code",
   "execution_count": null,
   "metadata": {
    "id": "LbzCOuJ-V8C-"
   },
   "outputs": [],
   "source": []
  },
  {
   "cell_type": "markdown",
   "metadata": {
    "id": "kMICH4kQV8C-"
   },
   "source": [
    "Save your solution to `solution_4_3.py`\n",
    "\n"
   ]
  },
  {
   "cell_type": "code",
   "execution_count": null,
   "metadata": {
    "id": "vUpnbqXJV8C-"
   },
   "outputs": [],
   "source": [
    "%%writefile solution_4_3.py\n",
    "\n",
    "def total_amount(principal, interest_rate, years):\n",
    "\n",
    "    # your code here\n",
    "    \n",
    "    "
   ]
  },
  {
   "cell_type": "markdown",
   "metadata": {
    "id": "DIvcmRrKV8C-"
   },
   "source": [
    "### 4.4 Energy output of the solar panel system\n",
    "Instructions\n",
    "1. Create a function to calculate the potential energy output of a solar panel system in KWh.\n",
    "2. Calculate the maximum potential energy output by multiplying the area of the panels, the efficiency (as a decimal), and the solar irradiance.\n",
    "3. Convert the energy output from watts to kilowatts (1 kW = 1000 W).\n",
    "4. Assume that the sun is shining for 6 hours a day to estimate the daily energy production."
   ]
  },
  {
   "cell_type": "code",
   "execution_count": null,
   "metadata": {
    "id": "Zth0wZhdV8C_"
   },
   "outputs": [],
   "source": []
  },
  {
   "cell_type": "markdown",
   "metadata": {
    "id": "h2ZOkoz7V8C_"
   },
   "source": [
    "Save your solution to `solution_4_4.py`"
   ]
  },
  {
   "cell_type": "code",
   "execution_count": null,
   "metadata": {
    "id": "rOZ1AOVFV8C_"
   },
   "outputs": [],
   "source": [
    "%%writefile solution_4_4.py\n",
    "\n",
    "def solar_power_calculator( area, efficiency, solar_irradiance):\n",
    "\n",
    "    # your code here\n",
    "    \n",
    "    "
   ]
  },
  {
   "cell_type": "markdown",
   "metadata": {
    "id": "xzFhVOt5V8C_"
   },
   "source": [
    "### 4.5  Automating a Garden Watering System\n",
    "Instructions\n",
    "1. Create a function which determines whether a plant should be monitored or not depending on the moisture level of soil of the plant.\n",
    "2. The garden as a list of dictionaries, where each dictionary represents a plant with keys as \"name,\" \"moisture_level,\" and \"threshold_level.\"\n",
    "3. Each plant has a moisture level, which is a value between 0 (completely dry) and 100 (fully saturated).\n",
    "4. The program should check the plants moisture level to the threshold_level and water it (If moisture level is less than, threshold, then it should be watered)\n",
    "5. The output should be a dictionary with name of plant as keys and values are if the pant should be watered then the concerned value should be true else it should be false."
   ]
  },
  {
   "cell_type": "code",
   "execution_count": null,
   "metadata": {
    "id": "suk7wffEV8C_"
   },
   "outputs": [],
   "source": []
  },
  {
   "cell_type": "markdown",
   "metadata": {
    "id": "-578Pr3nV8C_"
   },
   "source": [
    "Save your solution to `solution_4_5.py`"
   ]
  },
  {
   "cell_type": "code",
   "execution_count": null,
   "metadata": {
    "id": "puBMP9bDV8C_"
   },
   "outputs": [],
   "source": [
    "%%writefile solution_4_5.py\n",
    "\n",
    "def garden_watering(garden):\n",
    "\n",
    "    # your code here\n",
    "    \n",
    "    \n",
    "    "
   ]
  },
  {
   "cell_type": "markdown",
   "metadata": {
    "id": "OGCxLewIV8DA"
   },
   "source": [
    "### 4.6 Dot Product of Vectors\n",
    "Instructions\n",
    "1. Create two NumPy arrays `vector1` and `vector2` representing vectors.\n",
    "2. Calculate their dot product, and put the result in a variable named `dot_product`"
   ]
  },
  {
   "cell_type": "code",
   "execution_count": null,
   "metadata": {
    "id": "4SrmqumtV8DA"
   },
   "outputs": [],
   "source": []
  },
  {
   "cell_type": "code",
   "execution_count": null,
   "metadata": {
    "colab": {
     "base_uri": "https://localhost:8080/"
    },
    "id": "dgcA52RlV8DA",
    "outputId": "4ac65813-1c86-46cf-a9de-5ff2eb9e07b3"
   },
   "outputs": [],
   "source": [
    "%%writefile solution_4_6.py\n",
    "\n",
    "### your code here\n",
    "import numpy as np\n",
    "\n",
    "# Create NumPy arrays for vectors\n",
    "\n",
    "\n",
    "# Calculate the dot product\n",
    "dot_product = \n"
   ]
  },
  {
   "cell_type": "markdown",
   "metadata": {
    "id": "_nmOuCwZV8DB"
   },
   "source": [
    "### 4.7 Matrix Multiplication\n",
    "Instructions\n",
    "1. Create two NumPy matrices `matrix1` and `matrix2` representing matrices. Calculate their matrix product.\n",
    "2. Assign the product to the variable `matrix_product`"
   ]
  },
  {
   "cell_type": "code",
   "execution_count": null,
   "metadata": {
    "id": "RZMP1AhWV8DB"
   },
   "outputs": [],
   "source": []
  },
  {
   "cell_type": "code",
   "execution_count": null,
   "metadata": {
    "colab": {
     "base_uri": "https://localhost:8080/"
    },
    "id": "K4zfMq1xV8DB",
    "outputId": "c71ad509-fe75-4aa2-922a-545aa2792acd"
   },
   "outputs": [],
   "source": [
    "%%writefile solution_4_7.py\n",
    "import numpy as np\n",
    "### your code here\n",
    "\n"
   ]
  },
  {
   "cell_type": "markdown",
   "metadata": {
    "id": "5SxSAInYV8DB"
   },
   "source": [
    "### 4.8 Matrix Operations\n",
    "Instructions\n",
    "1. Create a NumPy matrix `matrix3` representing a square matrix.\n",
    "2. Calculate its eigenvalues and eigenvectors and store it in variables named `eigenvalues` and `eigenvectors`\n",
    "3. Calculate its determinant and store it in a variable named `determinant`\n",
    "4. Calculate its transpose and store it in a variable named `transpose`\n",
    "\n"
   ]
  },
  {
   "cell_type": "code",
   "execution_count": null,
   "metadata": {
    "colab": {
     "base_uri": "https://localhost:8080/"
    },
    "id": "FQvOdjAuV8DB",
    "outputId": "ad843fec-92e9-474c-98eb-cf89e3b5d8ab"
   },
   "outputs": [],
   "source": [
    "%%writefile solution_4_8.py\n",
    "\n",
    "### your code here\n",
    "import numpy as np\n",
    "\n",
    "# Create a NumPy square matrix\n",
    "matrix3 = np.array([[4, -2], [1, 1]])\n",
    "\n"
   ]
  },
  {
   "cell_type": "code",
   "execution_count": null,
   "metadata": {
    "id": "jRyzAFAhrdgK"
   },
   "outputs": [],
   "source": []
  },
  {
   "cell_type": "markdown",
   "metadata": {
    "id": "noBc5BpeV8DC"
   },
   "source": [
    "### 4.9 Matrix Inversion\n",
    "Instructions\n",
    "1. Create a NumPy matrix `matrix4`\n",
    "2. Check if the matrix is invertible (hint: you can use ***try:*** ... ***except np.linalg.LinAlgError:***)\n",
    "3. Calculate its inverse matrix if it is invertible; otherwise, print the following message \"Matrix is not invertible.\"\n",
    "4. Store the inverse matrix in the variable `inverse_matrix`\n"
   ]
  },
  {
   "cell_type": "code",
   "execution_count": null,
   "metadata": {
    "id": "f07J6V8-V8DC"
   },
   "outputs": [],
   "source": []
  },
  {
   "cell_type": "code",
   "execution_count": null,
   "metadata": {
    "colab": {
     "base_uri": "https://localhost:8080/"
    },
    "id": "pTgg2NLgV8DC",
    "outputId": "b92752b3-922d-4a6b-f334-4824cfb1ae91"
   },
   "outputs": [],
   "source": [
    "%%writefile solution_4_9.py\n",
    "\n",
    "### your code here\n",
    "\n"
   ]
  },
  {
   "cell_type": "markdown",
   "metadata": {
    "id": "MRUNiykFV8DD"
   },
   "source": [
    "### 4.10 Solving Linear System with Numpy\n",
    "Instructions\n",
    "1. Given a system of linear equations represented as matrices `A` and `B`, solve for the vector `X`."
   ]
  },
  {
   "cell_type": "code",
   "execution_count": null,
   "metadata": {
    "id": "4C7vAty5V8DD"
   },
   "outputs": [],
   "source": []
  },
  {
   "cell_type": "code",
   "execution_count": null,
   "metadata": {
    "colab": {
     "base_uri": "https://localhost:8080/"
    },
    "id": "25ZyrOTMV8DD",
    "outputId": "91e4bd2d-ae64-46e3-b287-20b37d91f2a2"
   },
   "outputs": [],
   "source": [
    "%%writefile solution_4_10.py\n",
    "\n",
    "### your code here\n",
    "\n",
    "\n"
   ]
  },
  {
   "cell_type": "markdown",
   "metadata": {
    "id": "YQlIsfS_V8DH"
   },
   "source": [
    "### 4.11 Matrix Row and Column Operations\n",
    "Instructions\n",
    "1. Create a function **swap_rows_and_columns** that takes a matrix (NumPy array) and two integers i and j as input.\n",
    "2. The function should swap the i-th row and j-th row of the matrix and also swap the i-th column and j-th column.\n",
    "3. Return the modified matrix."
   ]
  },
  {
   "cell_type": "code",
   "execution_count": null,
   "metadata": {
    "colab": {
     "base_uri": "https://localhost:8080/"
    },
    "id": "yS5frISZV8DH",
    "outputId": "22baad8e-ebf1-49f1-f694-79e4b0741fce"
   },
   "outputs": [],
   "source": [
    "%%writefile solution_4_11.py\n",
    "import numpy as np\n",
    "\n",
    "### your code here\n",
    "\n"
   ]
  },
  {
   "cell_type": "markdown",
   "metadata": {
    "id": "pMv5zOOgt-ZR"
   },
   "source": [
    "### 4.12 Matrix Concatenation\n",
    "Instructions\n",
    "1. Create a  function `concatenate_matrices` that takes two matrices (NumPy arrays) as input\n",
    "2. The function should concatenate them horizontally if they have the same number of rows or vertically if they have the same number of columns.\n",
    "3. Return the modified matrix.\n",
    "4. If concatenation is not possible, return the following message: \"Concatenation not possible: Dimensions do not match.\""
   ]
  },
  {
   "cell_type": "code",
   "execution_count": null,
   "metadata": {
    "colab": {
     "base_uri": "https://localhost:8080/"
    },
    "id": "WbBmdHlXuA8d",
    "outputId": "2fc31ad8-52f1-4d47-ad9a-0c8afa303da8"
   },
   "outputs": [],
   "source": [
    "%%writefile solution_4_12.py\n",
    "import numpy as np\n",
    "\n",
    "### your code here\n",
    "\n"
   ]
  },
  {
   "cell_type": "markdown",
   "metadata": {
    "id": "0dbCiSU7uM-N"
   },
   "source": [
    "### 4.13 Scale Matrix Row\n",
    "Instructions\n",
    "1. Write a function **scale_row** that takes a matrix (NumPy array) ,  an integer i and an integer scalar as input.\n",
    "2. The function should check if the specified row index (i) is within the valid range\n",
    "3. If i is valid, the function should scale the i-th row of the matrix by a given scalar value and return the modified matrix.\n",
    "4. If the row i is not valid, print \"Row not valid.\""
   ]
  },
  {
   "cell_type": "code",
   "execution_count": null,
   "metadata": {
    "colab": {
     "base_uri": "https://localhost:8080/"
    },
    "id": "U9MPloHhuQBK",
    "outputId": "d7441364-9be2-4def-d505-126a6a211e72"
   },
   "outputs": [],
   "source": [
    "%%writefile solution_4_13.py\n",
    "import numpy as np\n",
    "\n",
    "### your code here\n",
    "\n",
    "\n"
   ]
  },
  {
   "cell_type": "markdown",
   "metadata": {
    "id": "Ztwb-0kuuaW2"
   },
   "source": [
    "### 4.14 Solving a System of Linear Equations\n",
    "Instructions\n",
    "Given the following system of linear equations:\n",
    "\n",
    "        2x -y + 3z = 5\n",
    "        x + 2y + z = 4\n",
    "        3x + 3y + 5z = 12\n",
    "\n",
    "1. Write the coefficient matrix 'A' and the column vector 'B' in python using numpy\n",
    "2. Solve the system of equations Ax = B, and store it in a variable named 'x'\n",
    "\n",
    "3. Determine whether the system is solvable using **try:** ... **except np.linalg.LinAlgError:** . If it is unsolvable print \"The system is unsolvable.\""
   ]
  },
  {
   "cell_type": "code",
   "execution_count": null,
   "metadata": {
    "colab": {
     "base_uri": "https://localhost:8080/"
    },
    "id": "P576bt2Auj5p",
    "outputId": "a8fdbad5-e191-4bfd-863b-18b86bc53d7d"
   },
   "outputs": [],
   "source": [
    "%%writefile solution_4_14.py\n",
    "import numpy as np\n",
    "\n",
    "### your code here\n",
    "\n"
   ]
  },
  {
   "cell_type": "markdown",
   "metadata": {
    "id": "stendEHMub5v"
   },
   "source": [
    "### 4.15 Sales Projection\n",
    "Instructions\n",
    "\n",
    "A retail company wants to project its monthly sales for the next quarter based on the following historical sales data:\n",
    "        \n",
    "         [250, 280, 300, 320, 350, 380, 400, 420, 450, 480, 500, 520]\n",
    "\n",
    "\n",
    "and the following set of sales growth factors for the next quarter:\n",
    "         \n",
    "          [1.05, 1.08, 1.12]\n",
    "\n",
    "1. Calculate the project sales for the next quarter by taking the last three months of historical sales data and multiplying them by the corresponding growth factors for the next three months.\n",
    "\n",
    "You should the following variables defined: `historical_sales`, `growth_factors`, `projected_sales`"
   ]
  },
  {
   "cell_type": "code",
   "execution_count": null,
   "metadata": {
    "colab": {
     "base_uri": "https://localhost:8080/"
    },
    "id": "SZ7l74pkuliN",
    "outputId": "849cb3cb-8303-44bb-e9b3-d69dbfe3185c"
   },
   "outputs": [],
   "source": [
    "%%writefile solution_4_15.py\n",
    "import numpy as np\n",
    "\n",
    "### your code here\n"
   ]
  },
  {
   "cell_type": "markdown",
   "metadata": {
    "id": "N8FAB6iyV8DI"
   },
   "source": [
    "### 4.16 Analyzing Student Exam Scores\n",
    "Instructions\n",
    "1. Create a function which takes 2D NumPy array where each row represents a student, and each column represents an exam score.\n",
    "2. Return two different lists, one list is for average scores of a student and the other list has the average scores of each exam of all student.\n",
    "\n",
    "Hint: Think about using the axis option which calculating mean"
   ]
  },
  {
   "cell_type": "markdown",
   "metadata": {
    "id": "H_YN9LsbV8DI"
   },
   "source": [
    "Save your solution to `solution_4_16.py`\n",
    "\n",
    "\n",
    "\n"
   ]
  },
  {
   "cell_type": "code",
   "execution_count": null,
   "metadata": {
    "id": "CGL5SJayV8DI"
   },
   "outputs": [],
   "source": [
    "%%writefile solution_4_16.py\n",
    "\n",
    "import numpy as np\n",
    "\n",
    "def exam_analyze(exam_scores):\n",
    "\n",
    "    # your code here\n",
    "    \n",
    "    "
   ]
  },
  {
   "cell_type": "markdown",
   "metadata": {},
   "source": [
    "Try it out:"
   ]
  },
  {
   "cell_type": "code",
   "execution_count": null,
   "metadata": {},
   "outputs": [],
   "source": [
    "from solution_4_16 import exam_analyze\n",
    "import numpy as np\n",
    "exam_scores = np.array([\n",
    "    [83, 90, 88],\n",
    "    [91, 92, 94],\n",
    "    [86, 84, 89],\n",
    "    [78, 92, 72],\n",
    "    [88, 75, 78]\n",
    "    ])\n",
    "average_scores_per_exam, average_scores_per_student = exam_analyze(exam_scores)\n",
    "print(\"Average Scores per Exam\")\n",
    "display(average_scores_per_exam)\n",
    "print(\"Average Scores per Student\")\n",
    "display(average_scores_per_student)"
   ]
  },
  {
   "cell_type": "code",
   "execution_count": null,
   "metadata": {},
   "outputs": [],
   "source": []
  },
  {
   "cell_type": "markdown",
   "metadata": {
    "id": "6lbEN-FZV8DI"
   },
   "source": [
    "### 4.17 Color to Grayscale Image Conversion\n",
    "Instructions\n",
    "1. Create a function which takes a 3D numpy array as input. Generally an image is stored in 3 dimensions (height, width, 3) where 3 represents the R,G,B channels.\n",
    "2. The function should return this colored image array into a grayscale image array. Grayscale image array will contain only one channel, so it is a 2D array of shape (height, width)\n",
    "3. This conversion can be done in many ways. One way is to just average the R, G, B values. For this homework, use the luminosity method which is:\n",
    "\n",
    "- grayscale_value = 0.21 * R + 0.72 * G + 0.07 * B"
   ]
  },
  {
   "cell_type": "markdown",
   "metadata": {
    "id": "euU17_iYV8DI"
   },
   "source": [
    "Save your solution to `solution_4_17.py`"
   ]
  },
  {
   "cell_type": "code",
   "execution_count": null,
   "metadata": {
    "id": "I2gkeq77V8DI"
   },
   "outputs": [],
   "source": [
    "%%writefile solution_4_17.py\n",
    "import numpy as np\n",
    "\n",
    "def color_to_grayscale(colored_image):\n",
    "\n",
    "    #your code here\n",
    "    \n",
    "    \n",
    "    "
   ]
  },
  {
   "cell_type": "code",
   "execution_count": null,
   "metadata": {
    "id": "fHVA1je2xkRw"
   },
   "outputs": [],
   "source": [
    "## To check the function, first plot the image before conversion\n",
    "colored_image = np.array([\n",
    "    [[255, 0, 0], [0, 255, 0], [0, 0, 255], [255, 255, 0], [0, 255, 255]],\n",
    "    [[128, 128, 128], [255, 128, 0], [0, 255, 128], [128, 0, 255], [64, 64, 0]],\n",
    "    [[192, 192, 192], [255, 0, 128], [128, 255, 0], [0, 128, 255], [192, 192, 0]],\n",
    "    [[64, 0, 0], [0, 64, 0], [0, 0, 64], [64, 64, 64], [0, 0, 0]],\n",
    "    [[255, 255, 255], [128, 128, 0], [0, 128, 128], [128, 0, 128], [0, 0, 128]]\n",
    "], dtype=np.uint8)\n",
    "\n",
    "plt.imshow(colored_image, cmap='gray', vmin=0, vmax=255)\n",
    "plt.show()"
   ]
  },
  {
   "cell_type": "code",
   "execution_count": null,
   "metadata": {
    "id": "1zoIjQntV8DI"
   },
   "outputs": [],
   "source": [
    "## To see if the conversion, converted into gray scale or not\n",
    "from solution_4_17 import color_to_grayscale\n",
    "\n",
    "plt.imshow(color_to_grayscale(colored_image), cmap='gray', vmin=0, vmax=255)\n",
    "plt.show()"
   ]
  },
  {
   "cell_type": "markdown",
   "metadata": {
    "id": "7jVe3izEV8DJ"
   },
   "source": [
    "### 4.18 Analyzing Online Store Sales Data\n",
    "Instructions\n",
    "1. Create two functions which takes a 2D numpy array. The structure of the array is like below:\n",
    "\n",
    "    [\n",
    "        ['Jan', 50000, 4500, 20000],\n",
    "        ['Feb', 52000, 4600, 21000] \n",
    "    ]  \n",
    "2. The 3 values represent revenue data from 3 different business categories.\n",
    "3. First function find_total_sales should return an array of total sales values (all categories combined).  \n",
    "4. The second find_best_month function should return a tuple of best month for revenue (all categories combined) and the total amount of the best month"
   ]
  },
  {
   "cell_type": "markdown",
   "metadata": {
    "id": "-gzm2IvkV8DJ"
   },
   "source": [
    "Save your solution to `solution_4_18.py`\n"
   ]
  },
  {
   "cell_type": "code",
   "execution_count": null,
   "metadata": {
    "id": "preZQhoiV8DJ"
   },
   "outputs": [],
   "source": [
    "%%writefile solution_4_18.py\n",
    "import numpy as np\n",
    "\n",
    "def find_total_sales(sales_data):\n",
    "    ### your code here\n",
    "\n",
    "def find_best_month(sales_data):\n",
    "\n",
    "    ### your code here\n",
    "   \n",
    "    return best_month, best_month_revenue"
   ]
  },
  {
   "cell_type": "code",
   "execution_count": null,
   "metadata": {
    "id": "l1Gh-Io7V8DJ"
   },
   "outputs": [],
   "source": []
  },
  {
   "cell_type": "markdown",
   "metadata": {
    "id": "HpmgKUQ6V8DJ"
   },
   "source": [
    "### 4.19 Analyzing Online Store Sales Data\n",
    "Instructions\n",
    "1. This is a continuition to the previous question.\n",
    "2. Write a function which takes the same input numpy array and then returns the monthly revenue growth rate as a percentage.\n",
    "3. The growth rate is calculated as follows:\n",
    "- Growth Rate (%) = ((Current Month Revenue - Previous Month Revenue) / Previous Month Revenue) * 100\n",
    "4. You can use the find_total_sales from solution_4_18.py to directly get the total sales. You can do it using \"from solution_4_18 import find_total_sales\""
   ]
  },
  {
   "cell_type": "markdown",
   "metadata": {
    "id": "f8H5QaJIV8DJ"
   },
   "source": [
    "Save your solution to `solution_4_19.py`"
   ]
  },
  {
   "cell_type": "code",
   "execution_count": null,
   "metadata": {
    "id": "jAPt7jbuV8DK"
   },
   "outputs": [],
   "source": [
    "%%writefile solution_4_19.py\n",
    "import numpy as np\n",
    "from solution_4_18 import find_total_sales\n",
    "\n",
    "def find_growth_rate(sales_data):\n",
    "    ### your code here\n",
    "    "
   ]
  },
  {
   "cell_type": "markdown",
   "metadata": {
    "id": "OqA1xzXFV8DK"
   },
   "source": [
    "### 4.20 Generating and Saving a numpy array\n",
    "Instructions\n",
    "1. Create a NumPy array of shape (10, 10), drawing random samples from a normal (Gaussian) distribution. \"numpy.random.normal\" can be used for this\n",
    "2. Use the mean (loc) to be 10 and standard deviation (scale) as 5.\n",
    "3. Save the numpy array to \"numpy_data.npy\""
   ]
  },
  {
   "cell_type": "code",
   "execution_count": null,
   "metadata": {
    "id": "pqkhy08sV8DK"
   },
   "outputs": [],
   "source": [
    "### %%writefile solution_4_20.py\n",
    "\n",
    "import numpy as np\n",
    "seed_value = 42\n",
    "np.random.seed(seed_value)\n",
    "\n",
    "### your code here\n",
    "arr = np.random.normal(10,5,size=(10,10))\n",
    "np.save('numpy_data.npy', arr)"
   ]
  },
  {
   "cell_type": "markdown",
   "metadata": {
    "id": "opGZ4YV9V8DK"
   },
   "source": [
    "#### Test 4.20"
   ]
  },
  {
   "cell_type": "code",
   "execution_count": null,
   "metadata": {
    "id": "6Ex_VaPOV8DK",
    "outputId": "6e41cfad-597e-49ca-fd10-9022484dc4c1"
   },
   "outputs": [],
   "source": [
    "%%writefile test/test_4_20.py\n",
    "import numpy as np\n",
    "\n",
    "def test_4_20():\n",
    "    loaded_data = np.load('numpy_data.npy')\n",
    "    assert loaded_data.shape == (10, 10), \"The shape of the array is incorrected\"\n",
    "    assert abs(10 - np.mean(loaded_data)) < 2, \"The mean value used for the array is incorrect\"\n",
    "    assert abs(5 - np.std(loaded_data, ddof=1)) < 2, \"The standard deviation value used for the array is incorrect\""
   ]
  },
  {
   "cell_type": "markdown",
   "metadata": {
    "id": "BoQFWvckV8DK"
   },
   "source": [
    "### 4.21 Creating Dataframe\n",
    "Instructions\n",
    "1. Import the Pandas library and create a simple DataFrame 'df' with two columns, 'Name' and 'Age', containing information about three people."
   ]
  },
  {
   "cell_type": "markdown",
   "metadata": {
    "id": "-JkMjAmZV8DK"
   },
   "source": [
    "Save your solution to `solution_4_21.py`\n",
    "\n"
   ]
  },
  {
   "cell_type": "code",
   "execution_count": null,
   "metadata": {
    "colab": {
     "base_uri": "https://localhost:8080/"
    },
    "id": "8AM6i5nzV8DL",
    "outputId": "fac41213-bda3-47f1-e955-5de580eeefe8"
   },
   "outputs": [],
   "source": [
    "%%writefile solution_4_21.py\n",
    "\n",
    "### your code here\n",
    "import pandas as pd\n",
    "\n",
    "# Create a DataFrame\n",
    "data = {'Name': ['Alice', 'Bob', 'Charlie'],\n",
    "        'Age': [25, 30, 35]}\n",
    "\n",
    "df = pd.DataFrame(data)\n"
   ]
  },
  {
   "cell_type": "markdown",
   "metadata": {
    "id": "XAKWcwUjV8DL"
   },
   "source": [
    "#### Test 4.21"
   ]
  },
  {
   "cell_type": "code",
   "execution_count": null,
   "metadata": {
    "colab": {
     "base_uri": "https://localhost:8080/"
    },
    "id": "Y7gKqCPgV8DL",
    "outputId": "01945763-4b8c-45f1-9d4f-8b56bf3e6d18"
   },
   "outputs": [],
   "source": [
    "%%writefile test/test_4_21.py\n",
    "import os\n",
    "import pandas as pd\n",
    "import solution_4_21\n",
    "\n",
    "def test_4_21():\n",
    "    assert 'df' in dir(solution_4_21), \"`df` is not defined\"\n",
    "    df = solution_4_21.df\n",
    "    assert str(type(df)) == \"<class 'pandas.core.frame.DataFrame'>\", \"Incorrect type df\"\n",
    "    assert str(df.columns) == \"Index(['Name', 'Age'], dtype='object')\", \"Incorrect columns\"\n",
    "    assert str(len(df['Name'])) == \"3\", \"Incorrect number of Name\"\n",
    "    assert str(len(df['Age'])) == \"3\", \"Incorrect number of Age\"\n"
   ]
  },
  {
   "cell_type": "markdown",
   "metadata": {
    "id": "rhxdP69gV8DL"
   },
   "source": [
    "### 4.22 Basic Dataframe Operation\n",
    "Instructions\n",
    "1. Given a DataFrame df from the previous exercise (you can copy paste it), add a new column 'City' with values 'New York', 'San Francisco', and 'Los Angeles'."
   ]
  },
  {
   "cell_type": "code",
   "execution_count": null,
   "metadata": {
    "id": "toC1_jYkV8DL"
   },
   "outputs": [],
   "source": []
  },
  {
   "cell_type": "markdown",
   "metadata": {
    "id": "iJhullkrV8DL"
   },
   "source": [
    "Save your solution to `solution_4_22.py`"
   ]
  },
  {
   "cell_type": "code",
   "execution_count": null,
   "metadata": {
    "colab": {
     "base_uri": "https://localhost:8080/"
    },
    "id": "jIW_LmEKV8DL",
    "outputId": "66948cce-03a8-4834-dd41-5862da297fc4"
   },
   "outputs": [],
   "source": [
    "%%writefile solution_4_22.py\n",
    "\n",
    "### your code here\n"
   ]
  },
  {
   "cell_type": "markdown",
   "metadata": {
    "id": "zZqYUIXDV8DL"
   },
   "source": [
    "### 4.23 Data Filtering\n",
    "Instructions\n",
    "1. Given a DataFrame df from Exercise 4.22, filter the rows where the 'Age' is greater than or equal to 30 and put them in a variable named 'filtered_df'"
   ]
  },
  {
   "cell_type": "markdown",
   "metadata": {
    "id": "rYCPfI9rV8DM"
   },
   "source": [
    "Save your solution to `solution_4_23.py`"
   ]
  },
  {
   "cell_type": "code",
   "execution_count": null,
   "metadata": {
    "colab": {
     "base_uri": "https://localhost:8080/"
    },
    "id": "PPNHeVnuV8DM",
    "outputId": "d6129f62-fc5d-47bb-df21-ae4a96e5a07e"
   },
   "outputs": [],
   "source": [
    "%%writefile solution_4_23.py\n",
    "\n",
    "### your code here\n",
    "\n"
   ]
  },
  {
   "cell_type": "markdown",
   "metadata": {
    "id": "mBBrAtslV8DM"
   },
   "source": [
    "### 4.24 Data Aggregation\n",
    "Instructions\n",
    "1. Given a DataFrame df from Exercise 4.22, calculate the average age of the individuals in the DataFrame and store it in a variable named 'average_age'"
   ]
  },
  {
   "cell_type": "code",
   "execution_count": null,
   "metadata": {
    "id": "Up3Et0B2V8DM"
   },
   "outputs": [],
   "source": []
  },
  {
   "cell_type": "markdown",
   "metadata": {
    "id": "9xHZAssCV8DM"
   },
   "source": [
    "Save your solution to `solution_4_24.py`"
   ]
  },
  {
   "cell_type": "code",
   "execution_count": null,
   "metadata": {
    "colab": {
     "base_uri": "https://localhost:8080/"
    },
    "id": "kpYlgA-0V8DM",
    "outputId": "6875a5ba-3058-4005-9a22-a5158d4beada"
   },
   "outputs": [],
   "source": [
    "%%writefile solution_4_24.py\n",
    "\n",
    "### your code here\n",
    "\n",
    "\n"
   ]
  },
  {
   "cell_type": "markdown",
   "metadata": {
    "id": "N6xEIZtJV8DM"
   },
   "source": [
    "### 4.25 Sorting Data\n",
    "Instructions\n",
    "1. Given a DataFrame df from Exercise 13, sort the DataFrame by 'Age' in descending order and store it in a variable named 'sorted_df'"
   ]
  },
  {
   "cell_type": "code",
   "execution_count": null,
   "metadata": {
    "id": "-rMcQ3UxV8DM"
   },
   "outputs": [],
   "source": []
  },
  {
   "cell_type": "code",
   "execution_count": null,
   "metadata": {
    "colab": {
     "base_uri": "https://localhost:8080/"
    },
    "id": "lYpveUX5V8DN",
    "outputId": "8fc23539-c5b2-43b1-fdb2-223b07797eaa"
   },
   "outputs": [],
   "source": [
    "%%writefile solution_4_25.py\n",
    "\n",
    "### your code here\n",
    "\n"
   ]
  },
  {
   "cell_type": "markdown",
   "metadata": {
    "id": "UXjSCT5EV8DN"
   },
   "source": [
    "# Testing"
   ]
  },
  {
   "cell_type": "code",
   "execution_count": null,
   "metadata": {
    "id": "w_voAES1V8DN"
   },
   "outputs": [],
   "source": [
    "%%sh\n",
    "python3 -m pytest"
   ]
  },
  {
   "cell_type": "markdown",
   "metadata": {
    "id": "ujXg1gHcV8DN"
   },
   "source": [
    "# Homework Submission\n",
    "- This homework is due by Sept 27, 2023, 5:30PM (EDT)\n",
    "- Make sure that all your programs and output files are in the exact folder as specified in the instructions.\n",
    "- All file names on this system are case sensitive. Verify if you copy your work from a local computer to your home directory on ARC.\n",
    "- No further action is need to submit your assignment."
   ]
  },
  {
   "cell_type": "code",
   "execution_count": null,
   "metadata": {
    "id": "YyTwGSyYV8DN"
   },
   "outputs": [],
   "source": []
  }
 ],
 "metadata": {
  "colab": {
   "collapsed_sections": [
    "dhFLPCtRV8C6",
    "lH9I0H6jV8C8",
    "HYGzCp57V8C9",
    "DIvcmRrKV8C-",
    "xzFhVOt5V8C_",
    "OGCxLewIV8DA",
    "_nmOuCwZV8DB",
    "5SxSAInYV8DB",
    "noBc5BpeV8DC",
    "MRUNiykFV8DD",
    "YQlIsfS_V8DH",
    "pMv5zOOgt-ZR",
    "Ztwb-0kuuaW2",
    "stendEHMub5v",
    "N8FAB6iyV8DI",
    "6lbEN-FZV8DI",
    "7jVe3izEV8DJ",
    "HpmgKUQ6V8DJ",
    "OqA1xzXFV8DK",
    "BoQFWvckV8DK",
    "rhxdP69gV8DL",
    "zZqYUIXDV8DL",
    "mBBrAtslV8DM",
    "N6xEIZtJV8DM"
   ],
   "provenance": []
  },
  "kernelspec": {
   "display_name": "Python 3",
   "language": "python",
   "name": "python3"
  },
  "language_info": {
   "codemirror_mode": {
    "name": "ipython",
    "version": 3
   },
   "file_extension": ".py",
   "mimetype": "text/x-python",
   "name": "python",
   "nbconvert_exporter": "python",
   "pygments_lexer": "ipython3",
   "version": "3.8.6"
  }
 },
 "nbformat": 4,
 "nbformat_minor": 4
}
