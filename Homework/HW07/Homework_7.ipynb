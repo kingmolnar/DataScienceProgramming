{
 "cells": [
  {
   "cell_type": "markdown",
   "metadata": {
    "id": "DvDJJwxUzUCU"
   },
   "source": [
    "\n",
    "\n",
    "# **IFI8410: Programming for Business**\n",
    "\n"
   ]
  },
  {
   "cell_type": "markdown",
   "metadata": {
    "id": "XKAsLR0C2DE8"
   },
   "source": [
    "## **Assignment 07**"
   ]
  },
  {
   "cell_type": "code",
   "metadata": {
    "id": "ilcJOwFSvnX-",
    "jupyter": {
     "is_executing": true
    }
   },
   "source": [
    "# Do not change the content of this cell. Execute this cell first, and everytime after you restarted the kernel.\n",
    "%reload_ext autoreload\n",
    "%autoreload 2"
   ],
   "outputs": [],
   "execution_count": null
  },
  {
   "cell_type": "markdown",
   "metadata": {
    "id": "GiXz48oz2NhW"
   },
   "source": [
    "### 7.1. A Brief Matplotlib API Primer\n",
    "\n",
    "Question:\n",
    "\n",
    "You are given a CSV file **sample_sales_data_new.csv** containing the following columns:\n",
    "\n",
    "- Region: The region where the sale occurred.\n",
    "- Salesperson: The name of the salesperson.\n",
    "- Product: The product that was sold.\n",
    "- Quantity: The quantity of the product sold.\n",
    "- SalesAmount: The total sales amount for the sale.\n",
    "- Write a function that takes a DataFrame and groups the data by Region and Product, returning the total Quantity sold and the total SalesAmount for each combination.\n",
    "\n",
    "Hint:\n",
    "\n",
    "- Use the `groupby()` function to group the data by Region and Product.\n",
    "- Use the `agg()` function to apply aggregation operations (sum) on Quantity and SalesAmount."
   ]
  },
  {
   "cell_type": "code",
   "metadata": {
    "id": "R7-4vnbIzp-o"
   },
   "source": [
    "import pandas as pd\n",
    "\n",
    "def group_and_aggregate_sales(df: pd.DataFrame) -> pd.DataFrame:\n",
    "    \n",
    "    # Write your code here\n",
    "    \n"
   ],
   "outputs": [],
   "execution_count": null
  },
  {
   "cell_type": "code",
   "metadata": {},
   "source": [
    "#EXAMPLE USAGE\n",
    "df = pd.read_csv('/data/IFI8410/sess07/sample_sales_data_new.csv')\n",
    "\n",
    "grouped_sales = group_and_aggregate_sales(df)\n",
    "\n",
    "print(grouped_sales)"
   ],
   "outputs": [],
   "execution_count": null
  },
  {
   "cell_type": "markdown",
   "metadata": {},
   "source": [
    "#### Save your solution to a file ..."
   ]
  },
  {
   "cell_type": "code",
   "metadata": {},
   "source": [
    "%%writefile solution_7_1.py\n",
    "\n",
    "import pandas as pd\n",
    "\n",
    "def group_and_aggregate_sales(df: pd.DataFrame) -> pd.DataFrame:\n",
    "\n"
   ],
   "outputs": [],
   "execution_count": null
  },
  {
   "cell_type": "markdown",
   "metadata": {},
   "source": [
    "#### Test 7.1 Execute the cell below to test your solution..."
   ]
  },
  {
   "cell_type": "code",
   "metadata": {},
   "source": [
    "! test/run_test.sh 1"
   ],
   "outputs": [],
   "execution_count": null
  },
  {
   "cell_type": "code",
   "metadata": {},
   "source": [],
   "outputs": [],
   "execution_count": null
  },
  {
   "cell_type": "markdown",
   "metadata": {
    "id": "4Qfed3KE2Wh9"
   },
   "source": [
    "### 7.2 Iterating over Groups\n",
    "\n",
    "Question:\n",
    "\n",
    "Using **samples_sales_data.csv** write a function that iterates over the groups in the DataFrame grouped by Region and returns a dictionary where each key is a region and the value is the DataFrame corresponding to that region.\n",
    "\n",
    "Hint:\n",
    "\n",
    "- Use the `groupby()` function to group the data by Region.\n",
    "- Iterate over the grouped object using a for loop to get both the group name and the DataFrame.\n"
   ]
  },
  {
   "cell_type": "code",
   "metadata": {
    "id": "4cjZCE_Q2hN1"
   },
   "source": [
    "import pandas as pd\n",
    "\n",
    "def iterate_over_groups(df: pd.DataFrame) -> dict:\n",
    "    \n",
    "    # Write your code here\n",
    "    \n"
   ],
   "outputs": [],
   "execution_count": null
  },
  {
   "cell_type": "code",
   "metadata": {},
   "source": [
    "# Example Usage\n",
    "# Load the CSV file into a DataFrame\n",
    "df = pd.read_csv('/data/IFI8410/sess07/sample_sales_data_new.csv')\n",
    "\n",
    "# Call the function\n",
    "grouped_sales = iterate_over_groups(df)\n",
    "\n",
    "#Print the result for each group\n",
    "for region, group_df in grouped_sales.items():\n",
    "    print(f\"\\nRegion: {region}\")\n",
    "    print(group_df)"
   ],
   "outputs": [],
   "execution_count": null
  },
  {
   "cell_type": "markdown",
   "metadata": {},
   "source": [
    "#### Save your solution to a file ..."
   ]
  },
  {
   "cell_type": "code",
   "metadata": {},
   "source": [
    "%%writefile solution_7_2.py\n",
    "\n",
    "import pandas as pd\n",
    "\n",
    "def iterate_over_groups(df: pd.DataFrame) -> dict:\n",
    "\n"
   ],
   "outputs": [],
   "execution_count": null
  },
  {
   "cell_type": "markdown",
   "metadata": {},
   "source": [
    "#### Test 7.2 Execute the cell below to test your solution..."
   ]
  },
  {
   "cell_type": "code",
   "metadata": {},
   "source": [
    "! test/run_test.sh 2"
   ],
   "outputs": [],
   "execution_count": null
  },
  {
   "cell_type": "markdown",
   "metadata": {},
   "source": [
    "### 7.3 Grouping with Dictionaries and Series\n",
    "\n",
    "You are provided with a region mapping dictionary that groups several regions into broader zones. \n",
    "Your task is to group the data by these zones and calculate the total **Quantity** sold and the total **SalesAmount** for each zone.\n",
    "\n",
    "- region_mapping = {\n",
    "    'North': 'Zone 1',\n",
    "    'South': 'Zone 2',\n",
    "    'East': 'Zone 1',\n",
    "    'West': 'Zone 2'\n",
    "}"
   ]
  },
  {
   "cell_type": "markdown",
   "metadata": {},
   "source": [
    "Question:\n",
    "\n",
    "Write a function that takes a DataFrame and a region mapping dictionary as inputs, replaces the Region column values with the corresponding zone, and returns the aggregated **Quantity** and **SalesAmount** for each zone.\n",
    "\n",
    "Let the solution function return a DataFrame with columns **Zone**, **Quantity**, **SalesAmount** with **Quantity**, **SalesAmount** containing the aggregated totals for each region.\n",
    "\n",
    "Hint:\n",
    "\n",
    "- Use `replace()` to map the regions to zones.\n",
    "- Use `groupby()` to group by the new zone column."
   ]
  },
  {
   "cell_type": "code",
   "metadata": {},
   "source": [
    "import pandas as pd\n",
    "\n",
    "def group_by_zone(df: pd.DataFrame, region_mapping: dict) -> pd.DataFrame:\n",
    "    \n",
    "    # Write your code here\n",
    "    \n"
   ],
   "outputs": [],
   "execution_count": null
  },
  {
   "cell_type": "code",
   "metadata": {},
   "source": [
    "# Example Usage\n",
    "\n",
    "df = pd.read_csv('/data/IFI8410/sess07/sample_sales_data_new.csv')\n",
    "\n",
    "region_mapping = {\n",
    "    'North': 'Zone 1',\n",
    "    'South': 'Zone 2',\n",
    "    'East': 'Zone 1',\n",
    "    'West': 'Zone 2'\n",
    "}\n",
    "\n",
    "# Call the function\n",
    "zone_sales = group_by_zone(df, region_mapping)\n",
    "\n",
    "print(zone_sales)\n"
   ],
   "outputs": [],
   "execution_count": null
  },
  {
   "cell_type": "markdown",
   "metadata": {},
   "source": [
    "#### Save your solution to a file ..."
   ]
  },
  {
   "cell_type": "code",
   "metadata": {},
   "source": [
    "%%writefile solution_7_3.py\n",
    "\n",
    "import pandas as pd\n",
    "\n",
    "def group_by_zone(df: pd.DataFrame, region_mapping: dict) -> pd.DataFrame:\n",
    "\n",
    "\n"
   ],
   "outputs": [],
   "execution_count": null
  },
  {
   "cell_type": "markdown",
   "metadata": {},
   "source": [
    "#### Test 7.3 Execute the cell below to test your solution..."
   ]
  },
  {
   "cell_type": "code",
   "metadata": {},
   "source": [
    "! test/run_test.sh 3"
   ],
   "outputs": [],
   "execution_count": null
  },
  {
   "cell_type": "markdown",
   "metadata": {},
   "source": [
    "### 7.4 Grouping with Functions\n",
    "\n",
    "Question:\n",
    "\n",
    "Write a function that groups the sales data based (see problems above) on a custom grouping function, which groups the rows by their Quantity:\n",
    "\n",
    "- If the Quantity is less than 5, it belongs to the group `Low`.\n",
    "\n",
    "- If the Quantity is between 5 and 10, it belongs to the group `Medium`.\n",
    "\n",
    "- If the Quantity is greater than 10, it belongs to the group `High`.\n",
    "\n",
    "- Your task is to group the data based on this custom logic and calculate the total \n",
    "\n",
    "- SalesAmount for each of the custom quantity groups: \"Low\", \"Medium\", and \"High\".\n",
    "\n",
    "Return as result a DataFrame with columns **Quantity**, **QuantityGroup**, and **SalesAmount**.\n",
    "\n",
    "Hint:\n",
    "\n",
    "- Use the `groupby()` function in Pandas, and pass a custom function `categorize_quantity()` to group by conditions based on the Quantity column.\n",
    "\n",
    "- You can define a function `categorize_quantity` that categorizes the Quantity values and use it inside the `groupby()` function."
   ]
  },
  {
   "cell_type": "code",
   "metadata": {},
   "source": [
    "import pandas as pd\n",
    "\n",
    "def group_by_quantity_custom(df: pd.DataFrame) -> pd.DataFrame:\n",
    "    \n",
    "    # Write your code here\n",
    "    \n",
    "\n"
   ],
   "outputs": [],
   "execution_count": null
  },
  {
   "cell_type": "code",
   "metadata": {},
   "source": [
    "#EXAMPLE USAGE\n",
    "df = pd.read_csv('/data/IFI8410/sess07/sample_sales_data_new.csv')\n",
    "\n",
    "# Call the function\n",
    "grouped_sales = group_by_quantity_custom(df)\n",
    "\n",
    "print(grouped_sales)\n"
   ],
   "outputs": [],
   "execution_count": null
  },
  {
   "cell_type": "markdown",
   "metadata": {},
   "source": [
    "#### Save your solution to a file ..."
   ]
  },
  {
   "cell_type": "code",
   "metadata": {},
   "source": [
    "%%writefile solution_7_4.py\n",
    "import pandas as pd\n",
    "\n",
    "def group_by_quantity_custom(df: pd.DataFrame) -> pd.DataFrame:\n",
    "    \n",
    "    # Write your code here\n",
    "    \n",
    "\n"
   ],
   "outputs": [],
   "execution_count": null
  },
  {
   "cell_type": "markdown",
   "metadata": {},
   "source": [
    "#### Test 7.4 Execute the cell below to test your solution..."
   ]
  },
  {
   "cell_type": "code",
   "metadata": {},
   "source": [
    "! test/run_test.sh 4"
   ],
   "outputs": [],
   "execution_count": null
  },
  {
   "cell_type": "markdown",
   "metadata": {},
   "source": [
    "### 7.5 Grouping with Functions\n",
    "\n",
    "Question:\n",
    "\n",
    "Write a function that groups the sales data by Region, and for each region, apply a custom function to calculate the total revenue (SalesAmount) per Quantity. \n",
    "\n",
    "The custom function should calculate the **revenue per item sold** which is defined as **SalesAmount / Quantity** for each region.\n",
    "\n",
    "Hint:\n",
    "- Use the `groupby()` function to group the data by Region.\n",
    "- Use the `.apply()` function to apply a custom function to each group.\n",
    "- In the custom function, calculate the revenue per item for each region."
   ]
  },
  {
   "cell_type": "code",
   "metadata": {},
   "source": [
    "import pandas as pd\n",
    "\n",
    "def calculate_revenue_per_item(df: pd.DataFrame) -> pd.DataFrame:\n",
    "\n",
    "\n"
   ],
   "outputs": [],
   "execution_count": null
  },
  {
   "cell_type": "code",
   "metadata": {},
   "source": [
    "# EXAMPLE USAGE\n",
    "df = pd.read_csv('/data/IFI8410/sess07/sample_sales_data_new.csv')\n",
    "\n",
    "grouped_sales = calculate_revenue_per_item(df)\n",
    "\n",
    "print(grouped_sales)\n"
   ],
   "outputs": [],
   "execution_count": null
  },
  {
   "cell_type": "markdown",
   "metadata": {},
   "source": [
    "#### Save your solution to a file ..."
   ]
  },
  {
   "cell_type": "code",
   "metadata": {},
   "source": [
    "%%writefile solution_7_5.py\n",
    "\n",
    "import pandas as pd\n",
    "\n",
    "def calculate_revenue_per_item(df: pd.DataFrame) -> pd.DataFrame:\n",
    "\n"
   ],
   "outputs": [],
   "execution_count": null
  },
  {
   "cell_type": "markdown",
   "metadata": {},
   "source": [
    "#### Test 7.5 Execute the cell below to test your solution..."
   ]
  },
  {
   "cell_type": "code",
   "metadata": {},
   "source": [
    "! test/run_test.sh 5"
   ],
   "outputs": [],
   "execution_count": null
  },
  {
   "cell_type": "markdown",
   "metadata": {},
   "source": [
    "### 7.6 Calculating Range of Sales per Region Using apply()\n",
    "\n",
    "Problem: \n",
    "\n",
    "You are given the same CSV file **sample_sales_data_new.csv**. \n",
    "Write a function that groups the data by Region and calculates the range of SalesAmount for each region (i.e., the difference between the **maximum and minimum SalesAmount**).\n",
    "\n",
    "Return a DataFrame with columns **Region** and **SalesRange**.\n",
    "\n",
    "Hint:\n",
    "\n",
    "- Use the `groupby()` function to group the data by Region.\n",
    "- Use the `.apply()` function with a custom function to calculate the range (max - min) of SalesAmount for each region.\n"
   ]
  },
  {
   "cell_type": "code",
   "metadata": {},
   "source": [
    "import pandas as pd\n",
    "\n",
    "def calculate_sales_range(df: pd.DataFrame) -> pd.DataFrame:\n",
    "    \n",
    "    # Write your code here\n",
    "    \n",
    "\n"
   ],
   "outputs": [],
   "execution_count": null
  },
  {
   "cell_type": "code",
   "metadata": {},
   "source": [
    "##EXAMPLE USAGE\n",
    "\n",
    "import pandas as pd\n",
    "\n",
    "# Load the CSV file into a DataFrame\n",
    "df = pd.read_csv('/data/IFI8410/sess07/sample_sales_data_new.csv')\n",
    "\n",
    "# Call the function to calculate the range of sales\n",
    "sales_range = calculate_sales_range(df)\n",
    "\n",
    "# Print the result\n",
    "print(sales_range)\n"
   ],
   "outputs": [],
   "execution_count": null
  },
  {
   "cell_type": "markdown",
   "metadata": {},
   "source": [
    "#### Save your solution to a file "
   ]
  },
  {
   "cell_type": "code",
   "metadata": {},
   "source": [
    "%%writefile solution_7_6.py\n",
    "\n",
    "import pandas as pd\n",
    "\n",
    "def calculate_sales_range(df: pd.DataFrame) -> pd.DataFrame:\n",
    "\n",
    "\n"
   ],
   "outputs": [],
   "execution_count": null
  },
  {
   "cell_type": "markdown",
   "metadata": {},
   "source": [
    "#### Test 7.6 Execute the cell below to test your solution..."
   ]
  },
  {
   "cell_type": "code",
   "metadata": {},
   "source": [
    "! test/run_test.sh 6"
   ],
   "outputs": [],
   "execution_count": null
  },
  {
   "cell_type": "markdown",
   "metadata": {},
   "source": [
    "### 7.7 Column-Wise and Multiple Function Application on Multiple Columns\n",
    "\n",
    "Question:\n",
    "\n",
    "Write a function that groups the sales data by Region and applies multiple aggregation functions on the **Quantity** and **SalesAmount** columns. \n",
    "\n",
    "Return a DataFrame with columns **'Region'**, **'TotalQuantity'**, **'MeanQuantity'**, **'TotalSales'**, **'MaxSales'**.\n",
    "\n",
    "Specifically:\n",
    "\n",
    "- For the **Quantity** column, calculate the sum and mean.\n",
    "- For the **SalesAmount column**, calculate the sum and max.\n",
    "\n",
    "Hint:\n",
    "\n",
    "- Use the `groupby()` function to group the data by Region.\n",
    "- Use the `agg()` function to apply multiple aggregation functions to different columns.\n",
    "\n"
   ]
  },
  {
   "cell_type": "code",
   "metadata": {},
   "source": [
    "import pandas as pd\n",
    "\n",
    "def aggregate_region_data(df: pd.DataFrame) -> pd.DataFrame:\n",
    "\n",
    "    # Write your code here\n",
    "    \n",
    "\n"
   ],
   "outputs": [],
   "execution_count": null
  },
  {
   "cell_type": "code",
   "metadata": {},
   "source": [
    "#EXAMPLE USAGE \n",
    "# Load the CSV file into a DataFrame\n",
    "df = pd.read_csv('/data/IFI8410/sess07/sample_sales_data_new.csv')\n",
    "\n",
    "aggregated_sales = aggregate_region_data(df)\n",
    "\n",
    "print(aggregated_sales)\n"
   ],
   "outputs": [],
   "execution_count": null
  },
  {
   "cell_type": "markdown",
   "metadata": {},
   "source": [
    "#### Save your solution to a file ..."
   ]
  },
  {
   "cell_type": "code",
   "metadata": {},
   "source": [
    "%%writefile solution_7_7.py\n",
    "\n",
    "import pandas as pd\n",
    "\n",
    "def aggregate_region_data(df: pd.DataFrame) -> pd.DataFrame:\n",
    "\n",
    "\n"
   ],
   "outputs": [],
   "execution_count": null
  },
  {
   "cell_type": "markdown",
   "metadata": {},
   "source": [
    "#### Test 7.7 Execute the cell below to test your solution..."
   ]
  },
  {
   "cell_type": "code",
   "metadata": {},
   "source": [
    "! test/run_test.sh 7"
   ],
   "outputs": [],
   "execution_count": null
  },
  {
   "cell_type": "markdown",
   "metadata": {},
   "source": [
    "### 7.8 Apply: General split-apply-combine\n",
    "\n",
    "Question:\n",
    "\n",
    "Write a function that groups the data by Region and applies a user-defined function to calculate a custom score for each region \n",
    "based on both Quantity and SalesAmount. The custom score is calculated as:\n",
    "\n",
    "`Score = (Total SalesAmount/Total Quantity) × (Number of Sales)`\n",
    "\n",
    "Your task is to group the data by Region, apply this user-defined function, and return the score for each region\n",
    "\n",
    "Return as result a DataFrame with columns **Region** and **Score**.\n",
    "\n",
    "Hint:\n",
    "\n",
    "- Use the `groupby()` function to group the data by Region.\n",
    "- Define a custom function to calculate the score based on the aggregation of Quantity and SalesAmount.\n",
    "- Use `apply()` to apply the user-defined function on each group.\n",
    "- Avoid division by zero, i.e. if the value for **Total Quantity** is returned as zero, set the value for **Score** also to zero."
   ]
  },
  {
   "cell_type": "code",
   "metadata": {},
   "source": [
    "import pandas as pd\n",
    "\n",
    "def calculate_region_score(df: pd.DataFrame) -> pd.DataFrame:\n",
    "\n",
    "    # Write your code here\n",
    "    \n",
    "\n"
   ],
   "outputs": [],
   "execution_count": null
  },
  {
   "cell_type": "code",
   "metadata": {},
   "source": [
    "#EXAMPLE USAGE\n",
    "# Load the CSV file into a DataFrame\n",
    "df = pd.read_csv('/data/IFI8410/sess07/sample_sales_data_new.csv')\n",
    "\n",
    "region_scores = calculate_region_score(df)\n",
    "\n",
    "print(region_scores)\n"
   ],
   "outputs": [],
   "execution_count": null
  },
  {
   "cell_type": "markdown",
   "metadata": {},
   "source": [
    "#### Save your solution to a file ..."
   ]
  },
  {
   "cell_type": "code",
   "metadata": {},
   "source": [
    "%%writefile solution_7_8.py\n",
    "\n",
    "import pandas as pd\n",
    "\n",
    "def calculate_region_score(df: pd.DataFrame) -> pd.DataFrame:\n",
    "\n",
    "\n"
   ],
   "outputs": [],
   "execution_count": null
  },
  {
   "cell_type": "markdown",
   "metadata": {},
   "source": [
    "#### Test 7.8 Execute the cell below to test your solution..."
   ]
  },
  {
   "cell_type": "code",
   "metadata": {},
   "source": [
    "! test/run_test.sh 8"
   ],
   "outputs": [],
   "execution_count": null
  },
  {
   "cell_type": "markdown",
   "metadata": {},
   "source": [
    "### 7.9 Using the .transform() Method for Group-Wise Transformations\n",
    "\n",
    "Question:\n",
    "\n",
    "Write a function that groups the data by Region and uses the `.transform()` method to calculate the total sales for each region.\n",
    "\n",
    "But instead of returning the aggregated value, assign the total sales back to each row in the group (i.e. 'unwrap' the aggregation results)\n",
    "\n",
    "The final DataFrame should have the original columns with an additional column called **TotalSalesByRegion**, which will contain the total sales amount for the respective region.\n",
    "\n",
    " Hint:\n",
    " \n",
    "- Use the `groupby()` function to group the data by Region.\n",
    "- Use the `.transform()` method to calculate the total SalesAmount for each region.\n",
    "- The `.transform()` method will 'broadcast' the total sales back to each row in the group.\n",
    "                                                                                                            "
   ]
  },
  {
   "cell_type": "code",
   "metadata": {},
   "source": [
    "import pandas as pd\n",
    "\n",
    "def add_total_sales_by_region(df: pd.DataFrame) -> pd.DataFrame:\n",
    "    \n",
    "    # Write your code here\n",
    "\n"
   ],
   "outputs": [],
   "execution_count": null
  },
  {
   "cell_type": "code",
   "metadata": {},
   "source": [
    "# EXAMPLE USAGE\n",
    "\n",
    "df = pd.read_csv('/data/IFI8410/sess07/sample_sales_data_new.csv')\n",
    "\n",
    "df_with_totals = add_total_sales_by_region(df)\n",
    "\n",
    "print(df_with_totals)\n"
   ],
   "outputs": [],
   "execution_count": null
  },
  {
   "cell_type": "markdown",
   "metadata": {},
   "source": [
    "#### Save your solution to a file ..."
   ]
  },
  {
   "cell_type": "code",
   "metadata": {},
   "source": [
    "%%writefile solution_7_9.py\n",
    "\n",
    "import pandas as pd\n",
    "\n",
    "def add_total_sales_by_region(df: pd.DataFrame) -> pd.DataFrame:\n",
    "\n"
   ],
   "outputs": [],
   "execution_count": null
  },
  {
   "cell_type": "markdown",
   "metadata": {},
   "source": [
    "#### Test 7.9 Execute the cell below to test your solution..."
   ]
  },
  {
   "cell_type": "code",
   "metadata": {},
   "source": [
    "! test/run_test.sh 9"
   ],
   "outputs": [],
   "execution_count": null
  },
  {
   "cell_type": "code",
   "metadata": {},
   "source": [],
   "outputs": [],
   "execution_count": null
  },
  {
   "cell_type": "markdown",
   "metadata": {},
   "source": [
    "### 7.10 Creating Pivot Tables with the .pivot_table() Method\n",
    "\n",
    "Question\n",
    "\n",
    "Write a function that uses the `.pivot_table()` method to create a pivot table where:\n",
    "\n",
    "- The rows represent **Region**.\n",
    "- The columns represent **Product**.\n",
    "- The values represent the sum of **SalesAmount**.\n",
    "- Any missing values should be filled with 0.\n",
    "\n",
    "Hint:\n",
    "\n",
    "- Use the `.pivot_table()` method in Pandas.\n",
    "- Use the index parameter to specify the rows and columns parameter to specify the columns of the pivot table.\n",
    "- Use the argument **'aggfunc=sum'** to aggregate the SalesAmount and use fill_value=0 to handle missing values.\n"
   ]
  },
  {
   "cell_type": "code",
   "metadata": {},
   "source": [
    "import pandas as pd\n",
    "\n",
    "def create_sales_pivot_table(df: pd.DataFrame) -> pd.DataFrame:\n",
    "\n",
    "    # Write your code here\n",
    "    \n",
    "\n"
   ],
   "outputs": [],
   "execution_count": null
  },
  {
   "cell_type": "markdown",
   "metadata": {},
   "source": [
    "#### Example usage:"
   ]
  },
  {
   "cell_type": "code",
   "metadata": {},
   "source": [
    "# Load the CSV file into a DataFrame\n",
    "df = pd.read_csv('/data/IFI8410/sess07/sample_sales_data_new.csv')\n",
    "\n",
    "sales_pivot_table = create_sales_pivot_table(df)\n",
    "\n",
    "print(sales_pivot_table)\n"
   ],
   "outputs": [],
   "execution_count": null
  },
  {
   "cell_type": "markdown",
   "metadata": {},
   "source": [
    "#### Save your solution to a file ..."
   ]
  },
  {
   "cell_type": "code",
   "metadata": {},
   "source": [
    "%%writefile solution_7_10.py\n",
    "\n",
    "import pandas as pd\n",
    "\n",
    "def create_sales_pivot_table(df: pd.DataFrame) -> pd.DataFrame:\n",
    "\n"
   ],
   "outputs": [],
   "execution_count": null
  },
  {
   "cell_type": "markdown",
   "metadata": {},
   "source": [
    "#### Test 7.10 Execute the cell below to test your solution...\n"
   ]
  },
  {
   "cell_type": "code",
   "metadata": {},
   "source": [
    "! test/run_test.sh 10"
   ],
   "outputs": [],
   "execution_count": null
  },
  {
   "cell_type": "code",
   "metadata": {},
   "source": [],
   "outputs": [],
   "execution_count": null
  },
  {
   "cell_type": "markdown",
   "metadata": {},
   "source": [
    "## Regular Expressions and Text Analysis\n",
    "\n",
    "### 7.11 Count word occurrences in a text\n",
    "\n",
    "Problem:\n",
    "\n",
    "You are given a paragraph and a target word. Implement the following function `count_word_occurrences_advanced`: \n",
    "\n",
    "This function takes a paragraph (string) and a target word (string) as input. \n",
    "\n",
    "It should:\n",
    "\n",
    "- Find the number of occurrences of the target word in the paragraph using `re.findall()` with case insensitivity.\n",
    "\n",
    "- Ensure that the target word matches as a whole word only (not part of other words).\n",
    "\n",
    "- Allow for punctuation and special characters (like commas, periods, or exclamation marks) immediately following or preceding the target word without affecting the count.\n",
    "\n",
    "Hint:\n",
    "\n",
    "- Use word boundaries (\\b) around the target word and use `re.IGNORECASE` for case insensitivity."
   ]
  },
  {
   "cell_type": "code",
   "metadata": {},
   "source": [
    "import re\n",
    "\n",
    "def count_word_occurrences_advanced(paragraph, word):\n",
    "    \n",
    "    # Write your code here\n",
    "\n"
   ],
   "outputs": [],
   "execution_count": null
  },
  {
   "cell_type": "markdown",
   "metadata": {},
   "source": [
    "#### Example usage:"
   ]
  },
  {
   "cell_type": "code",
   "metadata": {},
   "source": [
    "# Example sentence and target word\n",
    "sentence = \"Python is great! python developers love Python programming.\"\n",
    "target_word = \"python\"\n",
    "\n",
    "# Apply the function\n",
    "count = count_word_occurrences_advanced(sentence, target_word)\n",
    "print(f\"The word '{target_word}' appears {count} times in the sentence.\")"
   ],
   "outputs": [],
   "execution_count": null
  },
  {
   "cell_type": "markdown",
   "metadata": {},
   "source": [
    "#### Save your solution to a file ..."
   ]
  },
  {
   "cell_type": "code",
   "metadata": {},
   "source": [
    "%%writefile solution_7_11.py\n",
    "\n",
    "import re\n",
    "\n",
    "def count_word_occurrences_advanced(paragraph, word):\n",
    "\n"
   ],
   "outputs": [],
   "execution_count": null
  },
  {
   "cell_type": "code",
   "metadata": {},
   "source": [],
   "outputs": [],
   "execution_count": null
  },
  {
   "cell_type": "markdown",
   "metadata": {},
   "source": [
    "#### Test 7.11 Execute the cell below to test your solution..."
   ]
  },
  {
   "cell_type": "code",
   "metadata": {},
   "source": [
    "! test/run_test.sh 11"
   ],
   "outputs": [],
   "execution_count": null
  },
  {
   "cell_type": "code",
   "metadata": {},
   "source": [],
   "outputs": [],
   "execution_count": null
  },
  {
   "cell_type": "markdown",
   "metadata": {},
   "source": [
    "### 7.12 Replace a substring in a sentence (longer string)\n",
    "\n",
    "Question:\n",
    "\n",
    "You are given a sentence and a target substring. Implement the following function `replace_substring`: \n",
    "\n",
    "This function takes three parameters as input arguments - a sentence (string), a target substring (string), and a replacement string. \n",
    "\n",
    "It should:\n",
    "\n",
    "- Replace all occurrences of the target substring in the sentence with the replacement string, using `re.sub()`.\n",
    "\n",
    "- Perform the replacement in a case-insensitive manner.\n",
    "\n",
    "- Return the modified sentence.\n",
    "\n",
    "Hint:\n",
    "\n",
    "- Use `re.sub()` with the `re.IGNORECASE` flag to replace the target substring regardless of case."
   ]
  },
  {
   "cell_type": "code",
   "metadata": {},
   "source": [
    "import re\n",
    "\n",
    "def replace_substring(sentence, target, replacement):\n",
    "\n",
    "    # Write your code here\n",
    "\n",
    "\n"
   ],
   "outputs": [],
   "execution_count": null
  },
  {
   "cell_type": "markdown",
   "metadata": {},
   "source": [
    "#### Example usage:"
   ]
  },
  {
   "cell_type": "code",
   "metadata": {},
   "source": [
    "# Example sentence, target substring, and replacement string\n",
    "sentence = \"The cat sat on the Cat's mat and scared another cat.\"\n",
    "target_substring = \"cat\"\n",
    "replacement = \"dog\"\n",
    "\n",
    "# Apply the function\n",
    "modified_sentence = replace_substring(sentence, target_substring, replacement)\n",
    "print(modified_sentence)"
   ],
   "outputs": [],
   "execution_count": null
  },
  {
   "cell_type": "markdown",
   "metadata": {},
   "source": [
    "#### Save your solution to a file ..."
   ]
  },
  {
   "cell_type": "code",
   "metadata": {},
   "source": [
    "%%writefile solution_7_12.py\n",
    "\n",
    "import re\n",
    "\n",
    "def replace_substring(sentence, target, replacement):\n",
    "\n",
    "\n"
   ],
   "outputs": [],
   "execution_count": null
  },
  {
   "cell_type": "code",
   "metadata": {},
   "source": [],
   "outputs": [],
   "execution_count": null
  },
  {
   "cell_type": "markdown",
   "metadata": {},
   "source": [
    "#### Test 7.12 Execute the cell below to test your solution..."
   ]
  },
  {
   "cell_type": "code",
   "metadata": {},
   "source": [
    "! test/run_test.sh 12"
   ],
   "outputs": [],
   "execution_count": null
  },
  {
   "cell_type": "code",
   "metadata": {},
   "source": [],
   "outputs": [],
   "execution_count": null
  },
  {
   "cell_type": "markdown",
   "metadata": {},
   "source": [
    "### 7.13 Find words of a specific length in a text\n",
    "\n",
    "Problem:\n",
    "\n",
    "You are given a sentence and a target word length. Implement the following function `find_words_with_length`: \n",
    "\n",
    "This function takes two parameters - a sentence (string) and a target length (integer). \n",
    "\n",
    "It should:\n",
    "\n",
    "- Find all words in the sentence that have the exact number of characters specified by the target length.\n",
    "  \n",
    "- Return the list of these words.\n",
    "\n",
    "Hint:\n",
    "\n",
    "- Use `re.findall()` to match words of the given length, and ensure it excludes punctuation marks."
   ]
  },
  {
   "cell_type": "code",
   "metadata": {},
   "source": [
    "import re\n",
    "\n",
    "def find_words_with_length(sentence, length):\n",
    "    \n",
    "    # Write your code here\n",
    "\n"
   ],
   "outputs": [],
   "execution_count": null
  },
  {
   "cell_type": "markdown",
   "metadata": {},
   "source": [
    "#### Example usage:"
   ]
  },
  {
   "cell_type": "code",
   "metadata": {},
   "source": [
    "# Example sentence and target length\n",
    "sentence = \"Python is amazing and fun! I enjoy coding in Python every day.\"\n",
    "target_length = 5\n",
    "\n",
    "# Apply the function\n",
    "words_with_length = find_words_with_length(sentence, target_length)\n",
    "print(words_with_length)"
   ],
   "outputs": [],
   "execution_count": null
  },
  {
   "cell_type": "code",
   "metadata": {},
   "source": [],
   "outputs": [],
   "execution_count": null
  },
  {
   "cell_type": "markdown",
   "metadata": {},
   "source": [
    "#### Save your solution to a file ..."
   ]
  },
  {
   "cell_type": "code",
   "metadata": {},
   "source": [
    "%%writefile solution_7_13.py\n",
    "\n",
    "import re\n",
    "\n",
    "def find_words_with_length(sentence, length):\n",
    "\n"
   ],
   "outputs": [],
   "execution_count": null
  },
  {
   "cell_type": "code",
   "metadata": {},
   "source": [],
   "outputs": [],
   "execution_count": null
  },
  {
   "cell_type": "markdown",
   "metadata": {},
   "source": [
    "#### Test 7.13 Execute the cell below to test your solution..."
   ]
  },
  {
   "cell_type": "code",
   "metadata": {},
   "source": [
    "! test/run_test.sh 13"
   ],
   "outputs": [],
   "execution_count": null
  },
  {
   "cell_type": "code",
   "metadata": {},
   "source": [],
   "outputs": [],
   "execution_count": null
  },
  {
   "cell_type": "markdown",
   "metadata": {},
   "source": [
    "### 7.14 Find words in a text start and end with specific letters\n",
    "\n",
    "Problem:\n",
    "\n",
    "You are given a sentence and two letters - a starting letter and an ending letter. Implement the following function `find_words_start_end()`: \n",
    "\n",
    "This function takes three parameters - a sentence (string), a start letter (string), and an end letter (string). \n",
    "\n",
    "It should:\n",
    "\n",
    "- Find all words in the sentence that start with a specified start letter and end with a specified end letter.\n",
    "\n",
    "- Perform the search in a case-insensitive manner.\n",
    "\n",
    "- Return the list of words that match the criteria.\n",
    "\n",
    "Hint:\n",
    "\n",
    "- Use `re.findall()` with a regex pattern that includes the start and end letters as variables."
   ]
  },
  {
   "cell_type": "code",
   "metadata": {},
   "source": [
    "import re\n",
    "\n",
    "def find_words_start_end(sentence, start_letter, end_letter):\n",
    "    \n",
    "    # Write your code here\n",
    "\n"
   ],
   "outputs": [],
   "execution_count": null
  },
  {
   "cell_type": "markdown",
   "metadata": {},
   "source": [
    "#### Example usage:"
   ]
  },
  {
   "cell_type": "code",
   "metadata": {},
   "source": [
    "# Example sentence, start letter, and end letter\n",
    "sentence = \"Snakes slither silently in the shadows and swiftly strike.\"\n",
    "start_letter = \"s\"\n",
    "end_letter = \"y\"\n",
    "\n",
    "# Apply the function\n",
    "matching_words = find_words_start_end(sentence, start_letter, end_letter)\n",
    "print(matching_words)"
   ],
   "outputs": [],
   "execution_count": null
  },
  {
   "cell_type": "markdown",
   "metadata": {},
   "source": [
    "#### Save your solution to a file ..."
   ]
  },
  {
   "cell_type": "code",
   "metadata": {},
   "source": [
    "%%writefile solution_7_14.py\n",
    "\n",
    "import re\n",
    "\n",
    "def find_words_start_end(sentence, start_letter, end_letter):\n",
    "\n"
   ],
   "outputs": [],
   "execution_count": null
  },
  {
   "cell_type": "markdown",
   "metadata": {},
   "source": [
    "#### Test 7.14 Execute the cell below to test your solution..."
   ]
  },
  {
   "cell_type": "code",
   "metadata": {},
   "source": [
    "! test/run_test.sh 14"
   ],
   "outputs": [],
   "execution_count": null
  },
  {
   "cell_type": "code",
   "metadata": {},
   "source": [],
   "outputs": [],
   "execution_count": null
  },
  {
   "cell_type": "markdown",
   "metadata": {},
   "source": [
    "### 7.15 Transform a text file\n",
    "\n",
    "Problem:\n",
    "\n",
    "You are given a text file (**RE_Text.txt**) containing a paragraph about regular expressions. \n",
    "\n",
    "Implement the following function `transform_text()`:\n",
    "\n",
    "This function takes the file path (string) as input, reads the text from the file, and applies the following transformations:\n",
    "\n",
    "- Replace all occurrences of the substring \"regex\" with \"regular expressions\".\n",
    "\n",
    "- Find and return words of a specific length, storing them in a list.\n",
    "\n",
    "- Find and return words that start with one letter and end with another, storing them in another list.\n",
    "\n",
    "The function should return the modified text (as a string) and the two lists as a tuple.\n",
    "\n",
    "Additionally, the function should take extra parameters for:\n",
    "\n",
    "- The word length for finding specific-length words.\n",
    "\n",
    "- The start and end letters for the letter-based search."
   ]
  },
  {
   "cell_type": "code",
   "metadata": {},
   "source": [
    "import re\n",
    "\n",
    "def transform_text(file_path, word_length, start_letter, end_letter):\n",
    "  \n",
    "    # Write your code here\n",
    "\n"
   ],
   "outputs": [],
   "execution_count": null
  },
  {
   "cell_type": "markdown",
   "metadata": {},
   "source": [
    "#### Example usage:"
   ]
  },
  {
   "cell_type": "code",
   "metadata": {},
   "source": [
    "# Example usage after modifying the function\n",
    "file_path = \"/data/IFI8410/sess07/RE_Text.txt\"\n",
    "word_length = 5\n",
    "start_letter = \"r\"\n",
    "end_letter = \"s\"\n",
    "\n",
    "# Apply the function\n",
    "modified_text, length_words, start_end_words = transform_text(file_path, word_length, start_letter, end_letter)\n",
    "\n",
    "# Display results\n",
    "print(\"Modified Text:\", modified_text)\n",
    "print(\"Words of specific length:\", length_words)\n",
    "print(\"Words that start with 'r' and end with 's':\", start_end_words)"
   ],
   "outputs": [],
   "execution_count": null
  },
  {
   "cell_type": "markdown",
   "metadata": {},
   "source": [
    "#### Save your solution to a file ..."
   ]
  },
  {
   "cell_type": "code",
   "metadata": {},
   "source": [
    "%%writefile solution_7_15.py\n",
    "\n",
    "import re\n",
    "\n",
    "def transform_text(file_path, word_length, start_letter, end_letter):\n",
    "\n"
   ],
   "outputs": [],
   "execution_count": null
  },
  {
   "cell_type": "markdown",
   "metadata": {},
   "source": [
    "#### Test 7.15 Execute the cell below to test your solution..."
   ]
  },
  {
   "cell_type": "code",
   "metadata": {},
   "source": [
    "! test/run_test.sh 15"
   ],
   "outputs": [],
   "execution_count": null
  },
  {
   "cell_type": "code",
   "metadata": {},
   "source": [],
   "outputs": [],
   "execution_count": null
  },
  {
   "cell_type": "markdown",
   "metadata": {},
   "source": [
    "### 7.16 Find the first word in a textr that follows a specific pattern\n",
    "\n",
    "Problem:\n",
    "\n",
    "Define a function `find_word_with_pattern()` that uses `re.search()` to find the first occurrence of a word in a sentence that starts with a specific letter and ends with another letter.\n",
    "\n",
    "This function takes the following parameters:\n",
    "\n",
    "- A sentence (string)\n",
    "\n",
    "- A start_letter (string)\n",
    "\n",
    "- An end_letter (string)\n",
    "\n",
    "It should return the first word that starts with the specified **start_letter** and ends with the specified **end_letter**. If no such word is found, it should return None.\n",
    "\n",
    "Hint:\n",
    "\n",
    "- Use `re.findall()` to find all matching words.\n",
    "- Dynamically generate the regex pattern using the start and end letters.\n",
    "- If multiple matches are found, return the longest match using the max() function."
   ]
  },
  {
   "cell_type": "code",
   "metadata": {},
   "source": [
    "import re\n",
    "\n",
    "def find_word_with_pattern(sentence, start_letter, end_letter):\n",
    "    \n",
    "    # Write your code here\n",
    "    \n"
   ],
   "outputs": [],
   "execution_count": null
  },
  {
   "cell_type": "markdown",
   "metadata": {},
   "source": [
    "#### Example usage:"
   ]
  },
  {
   "cell_type": "code",
   "metadata": {},
   "source": [
    "# Example usage:\n",
    "sentence = \"Rabbits are running fast and reach their goals.\"\n",
    "start_letter = \"r\"\n",
    "end_letter = \"s\"\n",
    "\n",
    "result = find_word_with_pattern(sentence, start_letter, end_letter)"
   ],
   "outputs": [],
   "execution_count": null
  },
  {
   "cell_type": "code",
   "metadata": {},
   "source": [
    "# Example usage block for students:\n",
    "\n",
    "# Example 1: Simple case where the word starts with 'r' and ends with 's'\n",
    "sentence = \"Rabbits are running fast and reach their goals.\"\n",
    "start_letter = \"r\"\n",
    "end_letter = \"s\"\n",
    "print(find_word_with_pattern(sentence, start_letter, end_letter))  # Expected output: \"Rabbits\"\n",
    "\n",
    "# Example 2: Case where multiple words match but only the longest should be returned\n",
    "sentence = \"I love programming in python.\"\n",
    "start_letter = \"p\"\n",
    "end_letter = \"g\"\n",
    "print(find_word_with_pattern(sentence, start_letter, end_letter))  # Expected output: \"programming\"\n",
    "\n",
    "# Example 3: Case where no match is found\n",
    "sentence = \"There are no such words here.\"\n",
    "start_letter = \"x\"\n",
    "end_letter = \"z\"\n",
    "print(find_word_with_pattern(sentence, start_letter, end_letter))  # Expected output: None\n",
    "\n",
    "# Example 4: Case insensitivity check\n",
    "sentence = \"Red roses bloom every spring.\"\n",
    "start_letter = \"r\"\n",
    "end_letter = \"s\"\n",
    "print(find_word_with_pattern(sentence, start_letter, end_letter))  # Expected output: \"roses\""
   ],
   "outputs": [],
   "execution_count": null
  },
  {
   "cell_type": "markdown",
   "metadata": {},
   "source": [
    "#### Save your solution to a file ..."
   ]
  },
  {
   "cell_type": "code",
   "metadata": {},
   "source": [
    "%%writefile solution_7_16.py\n",
    "\n",
    "import re\n",
    "\n",
    "def find_word_with_pattern(sentence, start_letter, end_letter):\n",
    "\n"
   ],
   "outputs": [],
   "execution_count": null
  },
  {
   "cell_type": "markdown",
   "metadata": {},
   "source": [
    "#### Test 7.16 Execute the cell below to test your solution..."
   ]
  },
  {
   "cell_type": "code",
   "metadata": {},
   "source": [
    "! test/run_test.sh 16"
   ],
   "outputs": [],
   "execution_count": null
  },
  {
   "cell_type": "code",
   "metadata": {},
   "source": [],
   "outputs": [],
   "execution_count": null
  },
  {
   "cell_type": "markdown",
   "metadata": {},
   "source": [
    "### 7.17 Check whether a sentence starts with a specific word\n",
    "\n",
    "Problem:\n",
    "\n",
    "Use `re.match()` to check if a sentence starts with a certain word.\n",
    "\n",
    "The user-defined function `check_start_word()` shall take the following input variables:\n",
    "\n",
    "- A sentence (string)\n",
    "\n",
    "- A word (string)\n",
    "\n",
    "It should return **True** if the sentence starts with the given word, otherwise return **False**.\n",
    "\n",
    "Hint:\n",
    "\n",
    "- Use `re.match()` to check if the word appears at the start of the sentence.\n",
    "\n",
    "- Create a regex pattern that matches the word at the beginning of the sentence using the ^ symbol.\n"
   ]
  },
  {
   "cell_type": "code",
   "metadata": {},
   "source": [
    "import re\n",
    "\n",
    "def check_start_word(sentence, word):\n",
    "    \n",
    "    # Write your code here\n",
    "\n",
    "\n"
   ],
   "outputs": [],
   "execution_count": null
  },
  {
   "cell_type": "markdown",
   "metadata": {},
   "source": [
    "#### Example usage:"
   ]
  },
  {
   "cell_type": "code",
   "metadata": {},
   "source": [
    "# Example usage:\n",
    "sentence = \"Python is a great language.\"\n",
    "word = \"Python\"\n",
    "\n",
    "result = check_start_word(sentence, word)"
   ],
   "outputs": [],
   "execution_count": null
  },
  {
   "cell_type": "code",
   "metadata": {},
   "source": [
    "# Test case 1\n",
    "sentence = \"Python is a great language.\"\n",
    "word = \"Python\"\n",
    "result = check_start_word(sentence, word)\n",
    "print(result)  # Expected Output: True\n",
    "\n",
    "# Test case 2\n",
    "sentence = \"Java is widely used.\"\n",
    "word = \"Python\"\n",
    "result = check_start_word(sentence, word)\n",
    "print(result)  # Expected Output: False\n",
    "\n",
    "# Test case 3\n",
    "sentence = \"JavaScript frameworks are popular.\"\n",
    "word = \"javascript\"\n",
    "result = check_start_word(sentence, word)\n",
    "print(result)  # Expected Output: True (case-insensitive)"
   ],
   "outputs": [],
   "execution_count": null
  },
  {
   "cell_type": "markdown",
   "metadata": {},
   "source": [
    "#### Save your solution to a file ..."
   ]
  },
  {
   "cell_type": "code",
   "metadata": {},
   "source": [
    "%%writefile solution_7_17.py\n",
    "\n",
    "import re\n",
    "\n",
    "def check_start_word(sentence, word):\n",
    "\n"
   ],
   "outputs": [],
   "execution_count": null
  },
  {
   "cell_type": "markdown",
   "metadata": {},
   "source": [
    "#### Test 7.17 Execute the cell below to test your solution..."
   ]
  },
  {
   "cell_type": "code",
   "metadata": {},
   "source": [
    "! test/run_test.sh 17"
   ],
   "outputs": [],
   "execution_count": null
  },
  {
   "cell_type": "code",
   "metadata": {},
   "source": [],
   "outputs": [],
   "execution_count": null
  },
  {
   "cell_type": "markdown",
   "metadata": {},
   "source": [
    "### 7.18 Extract emails from a text\n",
    "\n",
    "Problem:\n",
    "\n",
    "Use `re.compile()` to compile a regular expression pattern that matches email addresses.\n",
    "\n",
    "The function `extract_emails()` shall take the following parameter:\n",
    "\n",
    "- A list of strings (containing potential email addresses)\n",
    "\n",
    "- It should return a list of all valid email addresses using the compiled regular expression pattern.\n",
    "\n",
    "Hint:\n",
    "\n",
    "- Use `re.compile()` to compile a regex pattern for matching email addresses.\n",
    "\n",
    "- Iterate through the list of strings and apply `findall()` to extract all matches.\n",
    "\n",
    "- Ensure the pattern allows for common email formats, including letters, numbers, dots, and hyphens.\n",
    "\n",
    "- Consult the recent lecture notebooks in class to construct the regex pattern."
   ]
  },
  {
   "cell_type": "code",
   "metadata": {},
   "source": [
    "import re\n",
    "\n",
    "def extract_emails(strings):\n",
    "    \n",
    "    # Write your code here\n",
    "    \n"
   ],
   "outputs": [],
   "execution_count": null
  },
  {
   "cell_type": "markdown",
   "metadata": {},
   "source": [
    "#### Example usage:"
   ]
  },
  {
   "cell_type": "code",
   "metadata": {},
   "source": [
    "# Example usage:\n",
    "strings = [\n",
    "    \"Contact us at support@example.com\",\n",
    "    \"This is not an email address\",\n",
    "    \"Send your queries to info@mydomain.org or feedback@company.net\",\n",
    "    \"random_text_with_no_email\"\n",
    "]\n",
    "\n",
    "result = extract_emails(strings)\n",
    "print(result)  # Output: ['support@example.com', 'info@mydomain.org', 'feedback@company.net']"
   ],
   "outputs": [],
   "execution_count": null
  },
  {
   "cell_type": "code",
   "metadata": {},
   "source": [
    "# Test case 1\n",
    "strings = [\n",
    "    \"Contact us at support@example.com\",\n",
    "    \"This is not an email address\",\n",
    "    \"Send your queries to info@mydomain.org or feedback@company.net\",\n",
    "    \"random_text_with_no_email\"\n",
    "]\n",
    "result = extract_emails(strings)\n",
    "print(result)  # Expected Output: ['support@example.com', 'info@mydomain.org', 'feedback@company.net']\n",
    "\n",
    "# Test case 2\n",
    "strings = [\"noemails@here\", \"randomstring\", \"valid_email@domain.com\"]\n",
    "result = extract_emails(strings)\n",
    "print(result)  # Expected Output: ['valid_email@domain.com']\n",
    "\n",
    "# Test case 3\n",
    "strings = [\"not_an_email@domain\", \"test@domain.co.uk\"]\n",
    "result = extract_emails(strings)\n",
    "print(result)  # Expected Output: ['test@domain.co.uk']"
   ],
   "outputs": [],
   "execution_count": null
  },
  {
   "cell_type": "markdown",
   "metadata": {},
   "source": [
    "#### Save your solution to a file ..."
   ]
  },
  {
   "cell_type": "code",
   "metadata": {},
   "source": [
    "%%writefile solution_7_18.py\n",
    "\n",
    "import re\n",
    "\n",
    "def extract_emails(strings):\n",
    "\n",
    "\n"
   ],
   "outputs": [],
   "execution_count": null
  },
  {
   "cell_type": "code",
   "metadata": {},
   "source": [],
   "outputs": [],
   "execution_count": null
  },
  {
   "cell_type": "markdown",
   "metadata": {},
   "source": [
    "#### Test 7.18 Execute the cell below to test your solution..."
   ]
  },
  {
   "cell_type": "code",
   "metadata": {},
   "source": [
    "! test/run_test.sh 18"
   ],
   "outputs": [],
   "execution_count": null
  },
  {
   "cell_type": "code",
   "metadata": {},
   "source": [],
   "outputs": [],
   "execution_count": null
  },
  {
   "cell_type": "markdown",
   "metadata": {},
   "source": [
    "### 7.19 Match strings that begin with a specific sequence of characters followed by any two digits\n",
    "\n",
    "Problem:\n",
    "\n",
    "Write a function `match_sequence_at_start` that matches strings that begin with a specific sequence of characters followed by any two digits.\n",
    "\n",
    "This function takes the following parameters:\n",
    "\n",
    "- A list of strings (strings to be matched)\n",
    "\n",
    "- A start_sequence (specific sequence of characters)\n",
    "\n",
    "It should return a list of strings that match the pattern, where the pattern starts with the given sequence and is followed by exactly two digits (\\d\\d).\n",
    "\n",
    "Hint:\n",
    "\n",
    "- Use `re.compile()` to compile a regex pattern starting with the given sequence followed by two digits.\n",
    "\n",
    "- Use `^` to anchor the match to the start of the string.\n",
    "\n",
    "- Iterate through the list and use `match()` to check each string against the compiled pattern."
   ]
  },
  {
   "cell_type": "code",
   "metadata": {},
   "source": [
    "import re\n",
    "\n",
    "def match_sequence_at_start(strings, start_sequence):\n",
    "    \n",
    "    # Write your code here\n",
    "\n",
    "\n"
   ],
   "outputs": [],
   "execution_count": null
  },
  {
   "cell_type": "markdown",
   "metadata": {},
   "source": [
    "#### Example usage:"
   ]
  },
  {
   "cell_type": "code",
   "metadata": {},
   "source": [
    "# Example usage:\n",
    "strings = [\"AB12\", \"XY34\", \"AB56\", \"A123\", \"AB78\", \"XY90\"]\n",
    "start_sequence = \"AB\"\n",
    "\n",
    "result = match_sequence_at_start(strings, start_sequence)"
   ],
   "outputs": [],
   "execution_count": null
  },
  {
   "cell_type": "code",
   "metadata": {},
   "source": [
    "# Test case 1\n",
    "strings = [\"AB12\", \"XY34\", \"AB56\", \"A123\", \"AB78\", \"XY90\"]\n",
    "start_sequence = \"AB\"\n",
    "result = match_sequence_at_start(strings, start_sequence)\n",
    "print(result)  # Expected Output: ['AB12', 'AB56', 'AB78']\n",
    "\n",
    "# Test case 2\n",
    "strings = [\"XY12\", \"XY34\", \"XY56\", \"AB78\", \"XY90\"]\n",
    "start_sequence = \"XY\"\n",
    "result = match_sequence_at_start(strings, start_sequence)\n",
    "print(result)  # Expected Output: ['XY12', 'XY34', 'XY56', 'XY90']\n",
    "\n",
    "# Test case 3\n",
    "strings = [\"AB12\", \"AB1234\", \"XYZ78\", \"XY45\"]\n",
    "start_sequence = \"AB\"\n",
    "result = match_sequence_at_start(strings, start_sequence)\n",
    "print(result)  # Expected Output: ['AB12']"
   ],
   "outputs": [],
   "execution_count": null
  },
  {
   "cell_type": "markdown",
   "metadata": {},
   "source": [
    "#### Save your solution to a file ..."
   ]
  },
  {
   "cell_type": "code",
   "metadata": {},
   "source": [
    "%%writefile solution_7_19.py\n",
    "\n",
    "import re\n",
    "\n",
    "def match_sequence_at_start(strings, start_sequence):\n",
    "\n"
   ],
   "outputs": [],
   "execution_count": null
  },
  {
   "cell_type": "markdown",
   "metadata": {},
   "source": [
    "#### Test 7.19 Execute the cell below to test your solution..."
   ]
  },
  {
   "cell_type": "code",
   "metadata": {},
   "source": [
    "! test/run_test.sh 19"
   ],
   "outputs": [],
   "execution_count": null
  },
  {
   "cell_type": "code",
   "metadata": {},
   "source": [],
   "outputs": [],
   "execution_count": null
  },
  {
   "cell_type": "markdown",
   "metadata": {},
   "source": [
    "### 7.20 Match strings that end with a specific sequence of characters followed by any two digits\n",
    "\n",
    "\n",
    "Problem:\n",
    "\n",
    "Write a function `match_sequence_at_end` that matches strings that end with a specific sequence of characters followed by any two digits.\n",
    "\n",
    "This function takes the following parameters:\n",
    "\n",
    "- A list of strings (strings to be matched)\n",
    "\n",
    "- An end_sequence (specific sequence of characters)\n",
    "\n",
    "It should return a list of strings that match the pattern, where the pattern ends with the given sequence and is preceded by exactly two digits (\\d\\d).\n",
    "\n",
    "Hint:\n",
    "\n",
    "- Use `re.compile()` to create a regex pattern that ends with the given sequence, preceded by two digits.\n",
    "\n",
    "- Use `$` to anchor the match to the end of the string.\n",
    "\n",
    "- Iterate through the list and use search() to check each string against the compiled pattern."
   ]
  },
  {
   "cell_type": "code",
   "metadata": {},
   "source": [
    "import re\n",
    "\n",
    "def match_sequence_at_end(strings, end_sequence):\n",
    "    \n",
    "    # Write your code here\n",
    "\n"
   ],
   "outputs": [],
   "execution_count": null
  },
  {
   "cell_type": "markdown",
   "metadata": {},
   "source": [
    "#### Example usage:"
   ]
  },
  {
   "cell_type": "code",
   "metadata": {},
   "source": [
    "# Example usage:\n",
    "strings = [\"12AB\", \"34XY\", \"56AB\", \"123A\", \"78AB\", \"90XY\"]\n",
    "end_sequence = \"AB\"\n",
    "\n",
    "result = match_sequence_at_end(strings, end_sequence)"
   ],
   "outputs": [],
   "execution_count": null
  },
  {
   "cell_type": "code",
   "metadata": {},
   "source": [
    "# Test case 1\n",
    "strings = [\"12AB\", \"34XY\", \"56AB\", \"123A\", \"78AB\", \"90XY\"]\n",
    "end_sequence = \"AB\"\n",
    "result = match_sequence_at_end(strings, end_sequence)\n",
    "print(result)  # Expected Output: ['12AB', '56AB', '78AB']\n",
    "\n",
    "# Test case 2\n",
    "strings = [\"12XY\", \"34XY\", \"56XY\", \"12AB\", \"78XY\", \"90XY\"]\n",
    "end_sequence = \"XY\"\n",
    "result = match_sequence_at_end(strings, end_sequence)\n",
    "print(result)  # Expected Output: ['12XY', '34XY', '56XY', '78XY', '90XY']\n",
    "\n",
    "# Test case 3\n",
    "strings = [\"AB12\", \"12XY34\", \"XY56AB\", \"AB78\"]\n",
    "end_sequence = \"XY56\"\n",
    "result = match_sequence_at_end(strings, end_sequence)\n",
    "print(result)  # Expected Output: ['56AB']"
   ],
   "outputs": [],
   "execution_count": null
  },
  {
   "cell_type": "markdown",
   "metadata": {},
   "source": [
    "#### Save your solution to a file ..."
   ]
  },
  {
   "cell_type": "code",
   "metadata": {},
   "source": [
    "%%writefile solution_7_20.py\n",
    "\n",
    "import re\n",
    "\n",
    "def match_sequence_at_end(strings, end_sequence):\n",
    "\n"
   ],
   "outputs": [],
   "execution_count": null
  },
  {
   "cell_type": "markdown",
   "metadata": {},
   "source": [
    "#### Test 7.20 Execute the cell below to test your solution..."
   ]
  },
  {
   "cell_type": "code",
   "metadata": {},
   "source": [
    "! test/run_test.sh 20"
   ],
   "outputs": [],
   "execution_count": null
  },
  {
   "cell_type": "code",
   "metadata": {},
   "source": [],
   "outputs": [],
   "execution_count": null
  },
  {
   "cell_type": "markdown",
   "metadata": {},
   "source": [
    "# Run all the tests again ..."
   ]
  },
  {
   "cell_type": "code",
   "metadata": {},
   "source": [
    "! ./test/run_test.sh"
   ],
   "outputs": [],
   "execution_count": null
  },
  {
   "cell_type": "markdown",
   "metadata": {},
   "source": [
    "# Homework Submission\n",
    "- This homework is due by **2024-10-30, 6:00 PM (EDT)**.\n",
    "- Make sure that all your programs and output files are in the exact folder as specified in the instructions.\n",
    "- All file names on this system are case sensitive. Verify if you copy your work from a local computer to your home directory on ARC.\n",
    "- **Execute the cell below to submit your assignment**"
   ]
  },
  {
   "cell_type": "code",
   "metadata": {},
   "source": [
    "! ./submit.sh -y"
   ],
   "outputs": [],
   "execution_count": null
  },
  {
   "cell_type": "code",
   "metadata": {},
   "source": [],
   "outputs": [],
   "execution_count": null
  },
  {
   "cell_type": "code",
   "metadata": {},
   "source": [],
   "outputs": [],
   "execution_count": null
  }
 ],
 "metadata": {
  "colab": {
   "provenance": []
  },
  "kernelspec": {
   "display_name": "Python 3 (ipykernel)",
   "language": "python",
   "name": "python3"
  },
  "language_info": {
   "codemirror_mode": {
    "name": "ipython",
    "version": 3
   },
   "file_extension": ".py",
   "mimetype": "text/x-python",
   "name": "python",
   "nbconvert_exporter": "python",
   "pygments_lexer": "ipython3",
   "version": "3.8.6"
  }
 },
 "nbformat": 4,
 "nbformat_minor": 4
}
