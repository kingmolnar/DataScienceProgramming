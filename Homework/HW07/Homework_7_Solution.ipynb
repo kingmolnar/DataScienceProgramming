{
 "cells": [
  {
   "cell_type": "markdown",
   "metadata": {
    "id": "DvDJJwxUzUCU"
   },
   "source": [
    "\n",
    "\n",
    "# **IFI8410: Programming for Business**\n",
    "\n"
   ]
  },
  {
   "cell_type": "markdown",
   "metadata": {
    "id": "XKAsLR0C2DE8"
   },
   "source": [
    "## **Assignment 07**"
   ]
  },
  {
   "cell_type": "code",
   "execution_count": 1,
   "metadata": {
    "id": "ilcJOwFSvnX-",
    "jupyter": {
     "is_executing": true
    }
   },
   "outputs": [],
   "source": [
    "# Do not change the content of this cell. Execute this cell first, and everytime after you restarted the kernel.\n",
    "%reload_ext autoreload\n",
    "%autoreload 2"
   ]
  },
  {
   "cell_type": "markdown",
   "metadata": {
    "id": "GiXz48oz2NhW"
   },
   "source": [
    "### 7.1. A Brief Matplotlib API Primer\n",
    "\n",
    "Question:\n",
    "\n",
    "You are given a CSV file **sample_sales_data_new.csv** containing the following columns:\n",
    "\n",
    "- Region: The region where the sale occurred.\n",
    "- Salesperson: The name of the salesperson.\n",
    "- Product: The product that was sold.\n",
    "- Quantity: The quantity of the product sold.\n",
    "- SalesAmount: The total sales amount for the sale.\n",
    "- Write a function that takes a DataFrame and groups the data by Region and Product, returning the total Quantity sold and the total SalesAmount for each combination.\n",
    "\n",
    "Hint:\n",
    "\n",
    "- Use the `groupby()` function to group the data by Region and Product.\n",
    "- Use the `agg()` function to apply aggregation operations (sum) on Quantity and SalesAmount."
   ]
  },
  {
   "cell_type": "code",
   "execution_count": 2,
   "metadata": {
    "ExecuteTime": {
     "end_time": "2024-09-30T18:29:21.280692Z",
     "start_time": "2024-09-30T18:29:21.186714Z"
    },
    "id": "R7-4vnbIzp-o"
   },
   "outputs": [],
   "source": [
    "import pandas as pd\n",
    "\n",
    "def group_and_aggregate_sales(df: pd.DataFrame) -> pd.DataFrame:\n",
    "    \n",
    "    # Write your code here\n",
    "    \n",
    "    result = df.groupby(['Region', 'Product']).agg({\n",
    "        'Quantity': 'sum',\n",
    "        'SalesAmount': 'sum'\n",
    "    }).reset_index()\n",
    "\n",
    "    return result"
   ]
  },
  {
   "cell_type": "code",
   "execution_count": 3,
   "metadata": {},
   "outputs": [
    {
     "name": "stdout",
     "output_type": "stream",
     "text": [
      "  Region Product  Quantity  SalesAmount\n",
      "0   East       A         6           60\n",
      "1   East       B         7           70\n",
      "2  North       A        18          180\n",
      "3  North       B         3           30\n",
      "4  North       C         9           90\n",
      "5  South       B         5           50\n",
      "6  South       C        23          230\n",
      "7   West       A        10          100\n",
      "8   West       B         6           60\n",
      "9   West       C         8           80\n"
     ]
    }
   ],
   "source": [
    "#EXAMPLE USAGE\n",
    "df = pd.read_csv('/data/IFI8410/sess07/sample_sales_data_new.csv')\n",
    "\n",
    "grouped_sales = group_and_aggregate_sales(df)\n",
    "\n",
    "print(grouped_sales)"
   ]
  },
  {
   "cell_type": "markdown",
   "metadata": {},
   "source": [
    "#### Save your solution to a file ..."
   ]
  },
  {
   "cell_type": "code",
   "execution_count": 4,
   "metadata": {
    "ExecuteTime": {
     "end_time": "2024-09-30T18:29:21.651471Z",
     "start_time": "2024-09-30T18:29:21.545780Z"
    }
   },
   "outputs": [
    {
     "name": "stdout",
     "output_type": "stream",
     "text": [
      "Overwriting solution_7_1.py\n"
     ]
    }
   ],
   "source": [
    "%%writefile solution_7_1.py\n",
    "\n",
    "import pandas as pd\n",
    "\n",
    "def group_and_aggregate_sales(df: pd.DataFrame) -> pd.DataFrame:\n",
    "    result = df.groupby(['Region', 'Product']).agg({\n",
    "        'Quantity': 'sum',\n",
    "        'SalesAmount': 'sum'\n",
    "    }).reset_index()\n",
    "    return result"
   ]
  },
  {
   "cell_type": "markdown",
   "metadata": {},
   "source": [
    "#### Test 7.1 Execute the cell below to test your solution..."
   ]
  },
  {
   "cell_type": "code",
   "execution_count": 5,
   "metadata": {
    "ExecuteTime": {
     "end_time": "2024-09-30T18:29:21.951769Z",
     "start_time": "2024-09-30T18:29:21.720115Z"
    }
   },
   "outputs": [
    {
     "name": "stdout",
     "output_type": "stream",
     "text": [
      "\u001b[1m============================= test session starts ==============================\u001b[0m\n",
      "platform linux -- Python 3.8.6, pytest-6.2.2, py-1.10.0, pluggy-0.13.1\n",
      "rootdir: /home/mjack6/IFI8410_class/IFI8410F24/IFI8410-Development/Fall2024/HW07\n",
      "plugins: anyio-4.2.0\n",
      "collected 1 item                                                               \u001b[0m\n",
      "\n",
      "test/test_hw07_01.py \u001b[32m.\u001b[0m\u001b[32m                                                   [100%]\u001b[0m\n",
      "\n",
      "\u001b[32m============================== \u001b[32m\u001b[1m1 passed\u001b[0m\u001b[32m in 0.40s\u001b[0m\u001b[32m ===============================\u001b[0m\n",
      "Testing completed.\n"
     ]
    }
   ],
   "source": [
    "! test/run_test.sh 1"
   ]
  },
  {
   "cell_type": "code",
   "execution_count": 6,
   "metadata": {
    "ExecuteTime": {
     "end_time": "2024-09-30T18:29:21.987336Z",
     "start_time": "2024-09-30T18:29:21.983769Z"
    }
   },
   "outputs": [
    {
     "name": "stdout",
     "output_type": "stream",
     "text": [
      "Overwriting test/test_hw07_01.py\n"
     ]
    }
   ],
   "source": [
    "%%writefile test/test_hw07_01.py\n",
    "\n",
    "from solution_7_1 import group_and_aggregate_sales  # Assuming the function is in 'solution_7_1.py'\n",
    "import unittest\n",
    "import pandas as pd\n",
    "\n",
    "class TestHW0701(unittest.TestCase):\n",
    "    def test_group_and_aggregate_sales(self):\n",
    "        # Load the CSV file into a DataFrame\n",
    "        df = pd.read_csv('/data/IFI8410/sess07/sample_sales_data_new.csv')\n",
    "\n",
    "        # Call the function\n",
    "        result = group_and_aggregate_sales(df)\n",
    "        \n",
    "        # Expected output\n",
    "        expected_data = {\n",
    "            'Region': ['East', 'East', 'North', 'North', 'North', 'South', 'South', 'West', 'West', 'West'],\n",
    "            'Product': ['A', 'B', 'A', 'B', 'C', 'B', 'C', 'A', 'B', 'C'],\n",
    "            'Quantity': [6, 7, 18, 3, 9, 5, 23, 10, 6, 8],\n",
    "            'SalesAmount': [60, 70, 180, 30, 90, 50, 230, 100, 60, 80]\n",
    "        }\n",
    "        expected_df = pd.DataFrame(expected_data)\n",
    "\n",
    "        # Ensure the result matches the expected DataFrame\n",
    "        pd.testing.assert_frame_equal(result, expected_df)"
   ]
  },
  {
   "cell_type": "code",
   "execution_count": null,
   "metadata": {
    "ExecuteTime": {
     "end_time": "2024-09-30T18:29:22.022361Z",
     "start_time": "2024-09-30T18:29:22.019044Z"
    }
   },
   "outputs": [],
   "source": []
  },
  {
   "cell_type": "markdown",
   "metadata": {
    "id": "4Qfed3KE2Wh9"
   },
   "source": [
    "### 7.2 Iterating over Groups\n",
    "\n",
    "Question:\n",
    "\n",
    "Using **samples_sales_data.csv** write a function that iterates over the groups in the DataFrame grouped by Region and returns a dictionary where each key is a region and the value is the DataFrame corresponding to that region.\n",
    "\n",
    "Hint:\n",
    "\n",
    "- Use the `groupby()` function to group the data by Region.\n",
    "- Iterate over the grouped object using a for loop to get both the group name and the DataFrame.\n"
   ]
  },
  {
   "cell_type": "code",
   "execution_count": 7,
   "metadata": {
    "ExecuteTime": {
     "end_time": "2024-09-30T18:29:22.226699Z",
     "start_time": "2024-09-30T18:29:22.124362Z"
    },
    "id": "4cjZCE_Q2hN1"
   },
   "outputs": [],
   "source": [
    "import pandas as pd\n",
    "\n",
    "def iterate_over_groups(df: pd.DataFrame) -> dict:\n",
    "    \n",
    "    # Write your code here\n",
    "    \n",
    "    grouped = df.groupby('Region')  # Group the data by Region\n",
    "    groups_dict = {}  # Initialize an empty dictionary to store the results\n",
    "    \n",
    "    # Iterate over each group\n",
    "    for region, group in grouped:\n",
    "        groups_dict[region] = group  # Store the DataFrame of the group in the dictionary\n",
    "    \n",
    "    return groups_dict"
   ]
  },
  {
   "cell_type": "code",
   "execution_count": 8,
   "metadata": {},
   "outputs": [
    {
     "name": "stdout",
     "output_type": "stream",
     "text": [
      "\n",
      "Region: East\n",
      "   Region Salesperson Product  Quantity  SalesAmount\n",
      "3    East       Linda       B         7           70\n",
      "7    East        Emma       A         4           40\n",
      "11   East       Linda       A         2           20\n",
      "\n",
      "Region: North\n",
      "   Region Salesperson Product  Quantity  SalesAmount\n",
      "0   North        John       A        10          100\n",
      "2   North        Mike       A         8           80\n",
      "6   North      Robert       C         9           90\n",
      "10  North        John       B         3           30\n",
      "\n",
      "Region: South\n",
      "  Region Salesperson Product  Quantity  SalesAmount\n",
      "1  South        Sara       B         5           50\n",
      "5  South        Anna       C        12          120\n",
      "9  South      Sophia       C        11          110\n",
      "\n",
      "Region: West\n",
      "   Region Salesperson Product  Quantity  SalesAmount\n",
      "4    West         Tom       A        10          100\n",
      "8    West       Chris       B         6           60\n",
      "12   West         Tom       C         8           80\n"
     ]
    }
   ],
   "source": [
    "# Example Usage\n",
    "# Load the CSV file into a DataFrame\n",
    "df = pd.read_csv('/data/IFI8410/sess07/sample_sales_data_new.csv')\n",
    "\n",
    "# Call the function\n",
    "grouped_sales = iterate_over_groups(df)\n",
    "\n",
    "#Print the result for each group\n",
    "for region, group_df in grouped_sales.items():\n",
    "    print(f\"\\nRegion: {region}\")\n",
    "    print(group_df)"
   ]
  },
  {
   "cell_type": "markdown",
   "metadata": {},
   "source": [
    "#### Save your solution to a file ..."
   ]
  },
  {
   "cell_type": "code",
   "execution_count": 9,
   "metadata": {
    "ExecuteTime": {
     "end_time": "2024-09-30T18:29:22.551198Z",
     "start_time": "2024-09-30T18:29:22.451243Z"
    }
   },
   "outputs": [
    {
     "name": "stdout",
     "output_type": "stream",
     "text": [
      "Overwriting solution_7_2.py\n"
     ]
    }
   ],
   "source": [
    "%%writefile solution_7_2.py\n",
    "\n",
    "import pandas as pd\n",
    "\n",
    "def iterate_over_groups(df: pd.DataFrame) -> dict:\n",
    "    grouped = df.groupby('Region')  # Group the data by Region\n",
    "    groups_dict = {}  # Initialize an empty dictionary to store the results\n",
    "    \n",
    "    # Iterate over each group\n",
    "    for region, group in grouped:\n",
    "        groups_dict[region] = group  # Store the DataFrame of the group in the dictionary\n",
    "    \n",
    "    return groups_dict"
   ]
  },
  {
   "cell_type": "markdown",
   "metadata": {},
   "source": [
    "#### Test 7.2 Execute the cell below to test your solution..."
   ]
  },
  {
   "cell_type": "code",
   "execution_count": 10,
   "metadata": {
    "ExecuteTime": {
     "end_time": "2024-09-30T18:29:22.844763Z",
     "start_time": "2024-09-30T18:29:22.606809Z"
    }
   },
   "outputs": [
    {
     "name": "stdout",
     "output_type": "stream",
     "text": [
      "\u001b[1m============================= test session starts ==============================\u001b[0m\n",
      "platform linux -- Python 3.8.6, pytest-6.2.2, py-1.10.0, pluggy-0.13.1\n",
      "rootdir: /home/mjack6/IFI8410_class/IFI8410F24/IFI8410-Development/Fall2024/HW07\n",
      "plugins: anyio-4.2.0\n",
      "collected 1 item                                                               \u001b[0m\n",
      "\n",
      "test/test_hw07_02.py \u001b[32m.\u001b[0m\u001b[32m                                                   [100%]\u001b[0m\n",
      "\n",
      "\u001b[32m============================== \u001b[32m\u001b[1m1 passed\u001b[0m\u001b[32m in 0.45s\u001b[0m\u001b[32m ===============================\u001b[0m\n",
      "Testing completed.\n"
     ]
    }
   ],
   "source": [
    "! test/run_test.sh 2"
   ]
  },
  {
   "cell_type": "code",
   "execution_count": 11,
   "metadata": {
    "ExecuteTime": {
     "end_time": "2024-09-30T18:29:22.884998Z",
     "start_time": "2024-09-30T18:29:22.880725Z"
    }
   },
   "outputs": [
    {
     "name": "stdout",
     "output_type": "stream",
     "text": [
      "Overwriting test/test_hw07_02.py\n"
     ]
    }
   ],
   "source": [
    "%%writefile test/test_hw07_02.py\n",
    "\n",
    "from solution_7_2 import iterate_over_groups  # Assuming the function is in 'solution_7_2.py'\n",
    "import unittest\n",
    "import pandas as pd\n",
    "\n",
    "class TestHW0702(unittest.TestCase):\n",
    "    def test_iterate_over_groups(self):\n",
    "        # Load the CSV file into a DataFrame\n",
    "        df = pd.read_csv('/data/IFI8410/sess07/sample_sales_data_new.csv')\n",
    "\n",
    "        # Call the function to group by Region\n",
    "        result = iterate_over_groups(df)\n",
    "\n",
    "        # Expected group data for each region\n",
    "        expected_east = pd.DataFrame({\n",
    "            'Region': ['East', 'East', 'East'],\n",
    "            'Salesperson': ['Linda', 'Emma', 'Linda'],\n",
    "            'Product': ['B', 'A', 'A'],\n",
    "            'Quantity': [7, 4, 2],\n",
    "            'SalesAmount': [70, 40, 20]\n",
    "        })\n",
    "\n",
    "        expected_north = pd.DataFrame({\n",
    "            'Region': ['North', 'North', 'North', 'North'],\n",
    "            'Salesperson': ['John', 'Mike', 'Robert', 'John'],\n",
    "            'Product': ['A', 'A', 'C', 'B'],\n",
    "            'Quantity': [10, 8, 9, 3],\n",
    "            'SalesAmount': [100, 80, 90, 30]\n",
    "        })\n",
    "\n",
    "        expected_south = pd.DataFrame({\n",
    "            'Region': ['South', 'South', 'South'],\n",
    "            'Salesperson': ['Sara', 'Anna', 'Sophia'],\n",
    "            'Product': ['B', 'C', 'C'],\n",
    "            'Quantity': [5, 12, 11],\n",
    "            'SalesAmount': [50, 120, 110]\n",
    "        })\n",
    "\n",
    "        expected_west = pd.DataFrame({\n",
    "            'Region': ['West', 'West', 'West'],\n",
    "            'Salesperson': ['Tom', 'Chris', 'Tom'],\n",
    "            'Product': ['A', 'B', 'C'],\n",
    "            'Quantity': [10, 6, 8],\n",
    "            'SalesAmount': [100, 60, 80]\n",
    "        })\n",
    "\n",
    "        # Assertions to check each region's DataFrame, ignoring index\n",
    "        pd.testing.assert_frame_equal(result['East'].reset_index(drop=True), expected_east)\n",
    "        pd.testing.assert_frame_equal(result['North'].reset_index(drop=True), expected_north)\n",
    "        pd.testing.assert_frame_equal(result['South'].reset_index(drop=True), expected_south)\n",
    "        pd.testing.assert_frame_equal(result['West'].reset_index(drop=True), expected_west)\n"
   ]
  },
  {
   "cell_type": "markdown",
   "metadata": {},
   "source": [
    "### 7.3 Grouping with Dictionaries and Series\n",
    "\n",
    "You are provided with a region mapping dictionary that groups several regions into broader zones. \n",
    "Your task is to group the data by these zones and calculate the total **Quantity** sold and the total **SalesAmount** for each zone.\n",
    "\n",
    "- region_mapping = {\n",
    "    'North': 'Zone 1',\n",
    "    'South': 'Zone 2',\n",
    "    'East': 'Zone 1',\n",
    "    'West': 'Zone 2'\n",
    "}"
   ]
  },
  {
   "cell_type": "markdown",
   "metadata": {},
   "source": [
    "Question:\n",
    "\n",
    "Write a function that takes a DataFrame and a region mapping dictionary as inputs, replaces the Region column values with the corresponding zone, and returns the aggregated **Quantity** and **SalesAmount** for each zone.\n",
    "\n",
    "Let the solution function return a DataFrame with columns **Zone**, **Quantity**, **SalesAmount** with **Quantity**, **SalesAmount** containing the aggregated totals for each region.\n",
    "\n",
    "Hint:\n",
    "\n",
    "- Use `replace()` to map the regions to zones.\n",
    "- Use `groupby()` to group by the new zone column."
   ]
  },
  {
   "cell_type": "code",
   "execution_count": 12,
   "metadata": {},
   "outputs": [],
   "source": [
    "import pandas as pd\n",
    "\n",
    "def group_by_zone(df: pd.DataFrame, region_mapping: dict) -> pd.DataFrame:\n",
    "    \n",
    "    # Write your code here\n",
    "    \n",
    "    df['Zone'] = df['Region'].replace(region_mapping)\n",
    "    result = df.groupby('Zone').agg({\n",
    "        'Quantity': 'sum',\n",
    "        'SalesAmount': 'sum'\n",
    "    }).reset_index()\n",
    "    \n",
    "    return result\n"
   ]
  },
  {
   "cell_type": "code",
   "execution_count": 13,
   "metadata": {},
   "outputs": [
    {
     "name": "stdout",
     "output_type": "stream",
     "text": [
      "     Zone  Quantity  SalesAmount\n",
      "0  Zone 1        43          430\n",
      "1  Zone 2        52          520\n"
     ]
    }
   ],
   "source": [
    "# Example Usage\n",
    "\n",
    "df = pd.read_csv('/data/IFI8410/sess07/sample_sales_data_new.csv')\n",
    "\n",
    "region_mapping = {\n",
    "    'North': 'Zone 1',\n",
    "    'South': 'Zone 2',\n",
    "    'East': 'Zone 1',\n",
    "    'West': 'Zone 2'\n",
    "}\n",
    "\n",
    "# Call the function\n",
    "zone_sales = group_by_zone(df, region_mapping)\n",
    "\n",
    "print(zone_sales)\n"
   ]
  },
  {
   "cell_type": "markdown",
   "metadata": {},
   "source": [
    "#### Save your solution to a file ..."
   ]
  },
  {
   "cell_type": "code",
   "execution_count": 14,
   "metadata": {},
   "outputs": [
    {
     "name": "stdout",
     "output_type": "stream",
     "text": [
      "Overwriting solution_7_3.py\n"
     ]
    }
   ],
   "source": [
    "%%writefile solution_7_3.py\n",
    "\n",
    "import pandas as pd\n",
    "\n",
    "def group_by_zone(df: pd.DataFrame, region_mapping: dict) -> pd.DataFrame:\n",
    "    # Replace Region values with the corresponding Zone using the mapping\n",
    "    df['Zone'] = df['Region'].replace(region_mapping)\n",
    "    \n",
    "    # Group by the new 'Zone' column and calculate total Quantity and SalesAmount\n",
    "    result = df.groupby('Zone').agg({\n",
    "        'Quantity': 'sum',\n",
    "        'SalesAmount': 'sum'\n",
    "    }).reset_index()\n",
    "    \n",
    "    return result\n"
   ]
  },
  {
   "cell_type": "markdown",
   "metadata": {},
   "source": [
    "#### Test 7.3 Execute the cell below to test your solution..."
   ]
  },
  {
   "cell_type": "code",
   "execution_count": 15,
   "metadata": {},
   "outputs": [
    {
     "name": "stdout",
     "output_type": "stream",
     "text": [
      "\u001b[1m============================= test session starts ==============================\u001b[0m\n",
      "platform linux -- Python 3.8.6, pytest-6.2.2, py-1.10.0, pluggy-0.13.1\n",
      "rootdir: /home/mjack6/IFI8410_class/IFI8410F24/IFI8410-Development/Fall2024/HW07\n",
      "plugins: anyio-4.2.0\n",
      "collected 1 item                                                               \u001b[0m\n",
      "\n",
      "test/test_hw07_03.py \u001b[32m.\u001b[0m\u001b[32m                                                   [100%]\u001b[0m\n",
      "\n",
      "\u001b[32m============================== \u001b[32m\u001b[1m1 passed\u001b[0m\u001b[32m in 0.45s\u001b[0m\u001b[32m ===============================\u001b[0m\n",
      "Testing completed.\n"
     ]
    }
   ],
   "source": [
    "! test/run_test.sh 3"
   ]
  },
  {
   "cell_type": "code",
   "execution_count": 16,
   "metadata": {},
   "outputs": [
    {
     "name": "stdout",
     "output_type": "stream",
     "text": [
      "Overwriting test/test_hw07_03.py\n"
     ]
    }
   ],
   "source": [
    "%%writefile test/test_hw07_03.py\n",
    "\n",
    "from solution_7_3 import group_by_zone  # Assuming the function is in 'solution_7_3.py'\n",
    "import unittest\n",
    "import pandas as pd\n",
    "\n",
    "class TestHW0703(unittest.TestCase):\n",
    "    def test_group_by_zone(self):\n",
    "        # Load the CSV file into a DataFrame\n",
    "        df = pd.read_csv('/data/IFI8410/sess07/sample_sales_data_new.csv')\n",
    "\n",
    "        # Define the region mapping\n",
    "        region_mapping = {\n",
    "            'North': 'Zone 1',\n",
    "            'South': 'Zone 2',\n",
    "            'East': 'Zone 1',\n",
    "            'West': 'Zone 2'\n",
    "        }\n",
    "\n",
    "        # Call the function\n",
    "        result = group_by_zone(df, region_mapping)\n",
    "        \n",
    "        # Update expected output based on the actual data\n",
    "        expected_data = {\n",
    "            'Zone': ['Zone 1', 'Zone 2'],\n",
    "            'Quantity': [43, 52],   # Updated Quantity based on data\n",
    "            'SalesAmount': [430, 520]  # Updated SalesAmount based on actual output\n",
    "        }\n",
    "        expected_df = pd.DataFrame(expected_data)\n",
    "\n",
    "        # Ensure the result matches the expected DataFrame\n",
    "        pd.testing.assert_frame_equal(result, expected_df)\n"
   ]
  },
  {
   "cell_type": "markdown",
   "metadata": {},
   "source": [
    "### 7.4 Grouping with Functions\n",
    "\n",
    "Question:\n",
    "\n",
    "Write a function that groups the sales data based (see problems above) on a custom grouping function, which groups the rows by their Quantity:\n",
    "\n",
    "- If the Quantity is less than 10, it belongs to the group `Low`.\n",
    "\n",
    "- If the Quantity is between 10 and 20, it belongs to the group `Medium`.\n",
    "\n",
    "- If the Quantity is greater than 20, it belongs to the group `High`.\n",
    "\n",
    "- Your task is to group the data based on this custom logic and calculate the total SalesAmount for each of the custom quantity groups: \"Low\", \"Medium\", and \"High\".\n",
    "\n",
    "Return as result a DataFrame with columns **QuantityGroup** and **SalesAmount**.\n",
    "\n",
    "Hint:\n",
    "\n",
    "- Use the `groupby()` function in Pandas, and pass a custom function `categorize_quantity()` to group by conditions based on the Quantity column.\n",
    "\n",
    "- You can define a function `categorize_quantity` that categorizes the Quantity values and use it inside the `groupby()` function."
   ]
  },
  {
   "cell_type": "code",
   "execution_count": 17,
   "metadata": {},
   "outputs": [],
   "source": [
    "import pandas as pd\n",
    "\n",
    "def group_by_quantity_custom(df: pd.DataFrame) -> pd.DataFrame:\n",
    "    \n",
    "    # Write your code here\n",
    "    \n",
    "    # Define the custom function for grouping based on Quantity\n",
    "    def categorize_quantity(q):\n",
    "        if q >= 20:\n",
    "            return 'High'\n",
    "        elif q >= 10:\n",
    "            return 'Medium'\n",
    "        else:\n",
    "            return 'Low'\n",
    "\n",
    "    # Apply the custom grouping function to the 'Quantity' column\n",
    "    df['QuantityGroup'] = df['Quantity'].apply(categorize_quantity)\n",
    "\n",
    "    # Print the intermediate DataFrame to check the categorization\n",
    "    print(\"DataFrame after categorization:\")\n",
    "    print(df[['Quantity', 'QuantityGroup', 'SalesAmount']])\n",
    "\n",
    "    # Group by the new 'QuantityGroup' and aggregate the SalesAmount\n",
    "    grouped = df.groupby('QuantityGroup').agg({'SalesAmount': 'sum'}).reset_index()\n",
    "\n",
    "    return grouped\n"
   ]
  },
  {
   "cell_type": "code",
   "execution_count": 18,
   "metadata": {},
   "outputs": [
    {
     "name": "stdout",
     "output_type": "stream",
     "text": [
      "DataFrame after categorization:\n",
      "    Quantity QuantityGroup  SalesAmount\n",
      "0         10        Medium          100\n",
      "1          5           Low           50\n",
      "2          8           Low           80\n",
      "3          7           Low           70\n",
      "4         10        Medium          100\n",
      "5         12        Medium          120\n",
      "6          9           Low           90\n",
      "7          4           Low           40\n",
      "8          6           Low           60\n",
      "9         11        Medium          110\n",
      "10         3           Low           30\n",
      "11         2           Low           20\n",
      "12         8           Low           80\n",
      "  QuantityGroup  SalesAmount\n",
      "0           Low          520\n",
      "1        Medium          430\n"
     ]
    }
   ],
   "source": [
    "#EXAMPLE USAGE\n",
    "df = pd.read_csv('/data/IFI8410/sess07/sample_sales_data_new.csv')\n",
    "\n",
    "# Call the function\n",
    "grouped_sales = group_by_quantity_custom(df)\n",
    "\n",
    "print(grouped_sales)\n"
   ]
  },
  {
   "cell_type": "markdown",
   "metadata": {},
   "source": [
    "#### Save your solution to a file ..."
   ]
  },
  {
   "cell_type": "code",
   "execution_count": 19,
   "metadata": {},
   "outputs": [
    {
     "name": "stdout",
     "output_type": "stream",
     "text": [
      "Overwriting solution_7_4.py\n"
     ]
    }
   ],
   "source": [
    "%%writefile solution_7_4.py\n",
    "import pandas as pd\n",
    "\n",
    "def group_by_quantity_custom(df: pd.DataFrame) -> pd.DataFrame:\n",
    "    \n",
    "    # Write your code here\n",
    "    \n",
    "    # Define the custom function for grouping based on Quantity\n",
    "    def categorize_quantity(q):\n",
    "        if q >= 20:\n",
    "            return 'High'\n",
    "        elif q >= 10:\n",
    "            return 'Medium'\n",
    "        else:\n",
    "            return 'Low'\n",
    "\n",
    "    # Apply the custom grouping function to the 'Quantity' column\n",
    "    df['QuantityGroup'] = df['Quantity'].apply(categorize_quantity)\n",
    "\n",
    "    # Print the intermediate DataFrame to check the categorization\n",
    "    print(\"DataFrame after categorization:\")\n",
    "    print(df[['Quantity', 'QuantityGroup', 'SalesAmount']])\n",
    "\n",
    "    # Group by the new 'QuantityGroup' and aggregate the SalesAmount\n",
    "    grouped = df.groupby('QuantityGroup').agg({'SalesAmount': 'sum'}).reset_index()\n",
    "\n",
    "    return grouped\n"
   ]
  },
  {
   "cell_type": "markdown",
   "metadata": {},
   "source": [
    "#### Test 7.4 Execute the cell below to test your solution..."
   ]
  },
  {
   "cell_type": "code",
   "execution_count": 20,
   "metadata": {},
   "outputs": [
    {
     "name": "stdout",
     "output_type": "stream",
     "text": [
      "\u001b[1m============================= test session starts ==============================\u001b[0m\n",
      "platform linux -- Python 3.8.6, pytest-6.2.2, py-1.10.0, pluggy-0.13.1\n",
      "rootdir: /home/mjack6/IFI8410_class/IFI8410F24/IFI8410-Development/Fall2024/HW07\n",
      "plugins: anyio-4.2.0\n",
      "collected 1 item                                                               \u001b[0m\n",
      "\n",
      "test/test_hw07_04.py \u001b[32m.\u001b[0m\u001b[32m                                                   [100%]\u001b[0m\n",
      "\n",
      "\u001b[32m============================== \u001b[32m\u001b[1m1 passed\u001b[0m\u001b[32m in 0.46s\u001b[0m\u001b[32m ===============================\u001b[0m\n",
      "Testing completed.\n"
     ]
    }
   ],
   "source": [
    "! test/run_test.sh 4"
   ]
  },
  {
   "cell_type": "code",
   "execution_count": 21,
   "metadata": {},
   "outputs": [
    {
     "name": "stdout",
     "output_type": "stream",
     "text": [
      "Overwriting test/test_hw07_04.py\n"
     ]
    }
   ],
   "source": [
    "%%writefile test/test_hw07_04.py\n",
    "\n",
    "from solution_7_4 import group_by_quantity_custom  # Assuming the function is in 'solution_7_4.py'\n",
    "import unittest\n",
    "import pandas as pd\n",
    "\n",
    "class TestHW0704(unittest.TestCase):\n",
    "    def test_group_by_quantity_custom(self):\n",
    "        # Load the CSV file into a DataFrame\n",
    "        df = pd.read_csv('/data/IFI8410/sess07/sample_sales_data_new.csv')\n",
    "\n",
    "        # Call the function\n",
    "        result = group_by_quantity_custom(df)\n",
    "\n",
    "        # Rename 'QuantityGroup' to 'Quantity' in the result to match expected output\n",
    "        result = result.rename(columns={'QuantityGroup': 'Quantity'})\n",
    "\n",
    "        # Print the result for debugging\n",
    "        print(\"Result DataFrame (from function):\")\n",
    "        print(result)\n",
    "\n",
    "        # Updated expected output (removed 'High' since it doesn't exist in the data)\n",
    "        expected_data = {\n",
    "            'Quantity': ['Low', 'Medium'],\n",
    "            'SalesAmount': [520, 430]  # Updated based on actual data\n",
    "        }\n",
    "        expected_df = pd.DataFrame(expected_data)\n",
    "\n",
    "        # Print the expected DataFrame for debugging\n",
    "        print(\"\\nExpected DataFrame (manually defined):\")\n",
    "        print(expected_df)\n",
    "\n",
    "        # Sort both the result and expected DataFrame by the correct column\n",
    "        result_sorted = result.sort_values('Quantity').reset_index(drop=True)\n",
    "        expected_df_sorted = expected_df.sort_values('Quantity').reset_index(drop=True)\n",
    "\n",
    "        # Ensure the result matches the expected DataFrame\n",
    "        pd.testing.assert_frame_equal(result_sorted, expected_df_sorted)\n"
   ]
  },
  {
   "cell_type": "markdown",
   "metadata": {},
   "source": [
    "### 7.5 Grouping with Functions\n",
    "\n",
    "Question:\n",
    "\n",
    "Write a function that groups the sales data by Region, and for each region, apply a custom function to calculate the total revenue (SalesAmount) per Quantity. \n",
    "\n",
    "The custom function should calculate the **revenue per item sold** which is defined as **SalesAmount / Quantity** for each region.\n",
    "\n",
    "Hint:\n",
    "- Use the `groupby()` function to group the data by Region.\n",
    "- Use the `.apply()` function to apply a custom function to each group.\n",
    "- In the custom function, calculate the revenue per item for each region."
   ]
  },
  {
   "cell_type": "code",
   "execution_count": 22,
   "metadata": {},
   "outputs": [],
   "source": [
    "import pandas as pd\n",
    "\n",
    "def calculate_revenue_per_item(df: pd.DataFrame) -> pd.DataFrame:\n",
    "    # Custom function to calculate total revenue per item sold\n",
    "    def revenue_per_item(group):\n",
    "        total_quantity = group['Quantity'].sum()\n",
    "        total_sales = group['SalesAmount'].sum()\n",
    "        return pd.Series({\n",
    "            'TotalQuantity': total_quantity,\n",
    "            'TotalRevenue': total_sales,\n",
    "            'RevenuePerItem': total_sales / total_quantity\n",
    "        })\n",
    "\n",
    "    # Group by Region and apply the custom function\n",
    "    result = df.groupby('Region').apply(revenue_per_item).reset_index()\n",
    "    \n",
    "    return result\n"
   ]
  },
  {
   "cell_type": "code",
   "execution_count": 23,
   "metadata": {},
   "outputs": [
    {
     "name": "stdout",
     "output_type": "stream",
     "text": [
      "  Region  TotalQuantity  TotalRevenue  RevenuePerItem\n",
      "0   East           13.0         130.0            10.0\n",
      "1  North           30.0         300.0            10.0\n",
      "2  South           28.0         280.0            10.0\n",
      "3   West           24.0         240.0            10.0\n"
     ]
    }
   ],
   "source": [
    "# EXAMPLE USAGE\n",
    "df = pd.read_csv('/data/IFI8410/sess07/sample_sales_data_new.csv')\n",
    "\n",
    "grouped_sales = calculate_revenue_per_item(df)\n",
    "\n",
    "print(grouped_sales)\n"
   ]
  },
  {
   "cell_type": "markdown",
   "metadata": {},
   "source": [
    "#### Save your solution to a file ..."
   ]
  },
  {
   "cell_type": "code",
   "execution_count": 24,
   "metadata": {},
   "outputs": [
    {
     "name": "stdout",
     "output_type": "stream",
     "text": [
      "Overwriting solution_7_5.py\n"
     ]
    }
   ],
   "source": [
    "%%writefile solution_7_5.py\n",
    "\n",
    "import pandas as pd\n",
    "\n",
    "def calculate_revenue_per_item(df: pd.DataFrame) -> pd.DataFrame:\n",
    "    # Custom function to calculate total revenue per item sold\n",
    "    def revenue_per_item(group):\n",
    "        total_quantity = group['Quantity'].sum()\n",
    "        total_sales = group['SalesAmount'].sum()\n",
    "        return pd.Series({\n",
    "            'TotalQuantity': total_quantity,\n",
    "            'TotalRevenue': total_sales,\n",
    "            'RevenuePerItem': total_sales / total_quantity\n",
    "        })\n",
    "\n",
    "    # Group by Region and apply the custom function\n",
    "    result = df.groupby('Region').apply(revenue_per_item).reset_index()\n",
    "    \n",
    "    return result"
   ]
  },
  {
   "cell_type": "markdown",
   "metadata": {},
   "source": [
    "#### Test 7.5 Execute the cell below to test your solution..."
   ]
  },
  {
   "cell_type": "code",
   "execution_count": 25,
   "metadata": {},
   "outputs": [
    {
     "name": "stdout",
     "output_type": "stream",
     "text": [
      "\u001b[1m============================= test session starts ==============================\u001b[0m\n",
      "platform linux -- Python 3.8.6, pytest-6.2.2, py-1.10.0, pluggy-0.13.1\n",
      "rootdir: /home/mjack6/IFI8410_class/IFI8410F24/IFI8410-Development/Fall2024/HW07\n",
      "plugins: anyio-4.2.0\n",
      "collected 1 item                                                               \u001b[0m\n",
      "\n",
      "test/test_hw07_05.py \u001b[32m.\u001b[0m\u001b[32m                                                   [100%]\u001b[0m\n",
      "\n",
      "\u001b[32m============================== \u001b[32m\u001b[1m1 passed\u001b[0m\u001b[32m in 0.46s\u001b[0m\u001b[32m ===============================\u001b[0m\n",
      "Testing completed.\n"
     ]
    }
   ],
   "source": [
    "! test/run_test.sh 5"
   ]
  },
  {
   "cell_type": "code",
   "execution_count": 26,
   "metadata": {},
   "outputs": [
    {
     "name": "stdout",
     "output_type": "stream",
     "text": [
      "Overwriting test/test_hw07_05.py\n"
     ]
    }
   ],
   "source": [
    "%%writefile test/test_hw07_05.py\n",
    "\n",
    "from solution_7_5 import calculate_revenue_per_item  # Assuming the function is in 'solution_7_5.py'\n",
    "import unittest\n",
    "import pandas as pd\n",
    "\n",
    "class TestHW0705(unittest.TestCase):\n",
    "    def test_calculate_revenue_per_item(self):\n",
    "        # Load the CSV file into a DataFrame\n",
    "        df = pd.read_csv('/data/IFI8410/sess07/sample_sales_data_new.csv')\n",
    "\n",
    "        # Call the function\n",
    "        result = calculate_revenue_per_item(df)\n",
    "\n",
    "        # Expected output\n",
    "        expected_data = {\n",
    "            'Region': ['East', 'North', 'South', 'West'],\n",
    "            'TotalQuantity': [13, 30, 28, 24],\n",
    "            'TotalRevenue': [130, 300, 280, 240],\n",
    "            'RevenuePerItem': [10.0, 10.0, 10.0, 10.0]\n",
    "        }\n",
    "        expected_df = pd.DataFrame(expected_data)\n",
    "\n",
    "        # Convert the TotalQuantity and TotalRevenue columns to float for comparison\n",
    "        result['TotalQuantity'] = result['TotalQuantity'].astype(float)\n",
    "        result['TotalRevenue'] = result['TotalRevenue'].astype(float)\n",
    "        expected_df['TotalQuantity'] = expected_df['TotalQuantity'].astype(float)\n",
    "        expected_df['TotalRevenue'] = expected_df['TotalRevenue'].astype(float)\n",
    "\n",
    "        # Ensure the result matches the expected DataFrame\n",
    "        pd.testing.assert_frame_equal(result, expected_df)\n"
   ]
  },
  {
   "cell_type": "markdown",
   "metadata": {},
   "source": [
    "### 7.6 Calculating Range of Sales per Region Using apply()\n",
    "\n",
    "Problem: \n",
    "\n",
    "You are given the same CSV file **sample_sales_data_new.csv**. \n",
    "Write a function that groups the data by Region and calculates the range of SalesAmount for each region (i.e., the difference between the **maximum and minimum SalesAmount**).\n",
    "\n",
    "Return a DataFrame with columns **Region** and **SalesRange**.\n",
    "\n",
    "Hint:\n",
    "\n",
    "- Use the `groupby()` function to group the data by Region.\n",
    "- Use the `.apply()` function with a custom function to calculate the range (max - min) of SalesAmount for each region.\n"
   ]
  },
  {
   "cell_type": "code",
   "execution_count": 27,
   "metadata": {},
   "outputs": [],
   "source": [
    "import pandas as pd\n",
    "\n",
    "def calculate_sales_range(df: pd.DataFrame) -> pd.DataFrame:\n",
    "    \n",
    "    # Write your code here\n",
    "    \n",
    "    # Custom function to calculate the range of SalesAmount\n",
    "    def sales_range(group):\n",
    "        return group['SalesAmount'].max() - group['SalesAmount'].min()\n",
    "\n",
    "    # Group by Region and apply the custom function\n",
    "    result = df.groupby('Region').apply(sales_range).reset_index(name='SalesRange')\n",
    "    \n",
    "    return result\n"
   ]
  },
  {
   "cell_type": "code",
   "execution_count": 28,
   "metadata": {},
   "outputs": [
    {
     "name": "stdout",
     "output_type": "stream",
     "text": [
      "  Region  SalesRange\n",
      "0   East          50\n",
      "1  North          70\n",
      "2  South          70\n",
      "3   West          40\n"
     ]
    }
   ],
   "source": [
    "##EXAMPLE USAGE\n",
    "\n",
    "import pandas as pd\n",
    "\n",
    "# Load the CSV file into a DataFrame\n",
    "df = pd.read_csv('/data/IFI8410/sess07/sample_sales_data_new.csv')\n",
    "\n",
    "# Call the function to calculate the range of sales\n",
    "sales_range = calculate_sales_range(df)\n",
    "\n",
    "# Print the result\n",
    "print(sales_range)\n"
   ]
  },
  {
   "cell_type": "markdown",
   "metadata": {},
   "source": [
    "#### Save your solution to a file "
   ]
  },
  {
   "cell_type": "code",
   "execution_count": 29,
   "metadata": {},
   "outputs": [
    {
     "name": "stdout",
     "output_type": "stream",
     "text": [
      "Overwriting solution_7_6.py\n"
     ]
    }
   ],
   "source": [
    "%%writefile solution_7_6.py\n",
    "\n",
    "import pandas as pd\n",
    "\n",
    "def calculate_sales_range(df: pd.DataFrame) -> pd.DataFrame:\n",
    "    # Custom function to calculate the range of SalesAmount\n",
    "    def sales_range(group):\n",
    "        return group['SalesAmount'].max() - group['SalesAmount'].min()\n",
    "\n",
    "    # Group by Region and apply the custom function\n",
    "    result = df.groupby('Region').apply(sales_range).reset_index(name='SalesRange')\n",
    "    \n",
    "    return result\n"
   ]
  },
  {
   "cell_type": "markdown",
   "metadata": {},
   "source": [
    "#### Test 7.6 Execute the cell below to test your solution..."
   ]
  },
  {
   "cell_type": "code",
   "execution_count": 30,
   "metadata": {},
   "outputs": [
    {
     "name": "stdout",
     "output_type": "stream",
     "text": [
      "\u001b[1m============================= test session starts ==============================\u001b[0m\n",
      "platform linux -- Python 3.8.6, pytest-6.2.2, py-1.10.0, pluggy-0.13.1\n",
      "rootdir: /home/mjack6/IFI8410_class/IFI8410F24/IFI8410-Development/Fall2024/HW07\n",
      "plugins: anyio-4.2.0\n",
      "collected 1 item                                                               \u001b[0m\n",
      "\n",
      "test/test_hw07_06.py \u001b[32m.\u001b[0m\u001b[32m                                                   [100%]\u001b[0m\n",
      "\n",
      "\u001b[32m============================== \u001b[32m\u001b[1m1 passed\u001b[0m\u001b[32m in 0.45s\u001b[0m\u001b[32m ===============================\u001b[0m\n",
      "Testing completed.\n"
     ]
    }
   ],
   "source": [
    "! test/run_test.sh 6"
   ]
  },
  {
   "cell_type": "code",
   "execution_count": 31,
   "metadata": {},
   "outputs": [
    {
     "name": "stdout",
     "output_type": "stream",
     "text": [
      "Overwriting test/test_hw07_06.py\n"
     ]
    }
   ],
   "source": [
    "%%writefile test/test_hw07_06.py\n",
    "\n",
    "from solution_7_6 import calculate_sales_range  # Assuming the function is in 'solution_7_6.py'\n",
    "import unittest\n",
    "import pandas as pd\n",
    "\n",
    "class TestHW0706(unittest.TestCase):\n",
    "    def test_calculate_sales_range(self):\n",
    "        # Load the CSV file into a DataFrame\n",
    "        df = pd.read_csv('/data/IFI8410/sess07/sample_sales_data_new.csv')\n",
    "\n",
    "        # Call the function\n",
    "        result = calculate_sales_range(df)\n",
    "\n",
    "        # Expected output\n",
    "        expected_data = {\n",
    "            'Region': ['East', 'North', 'South', 'West'],\n",
    "            'SalesRange': [50, 70, 70, 40]  # Updated value for South region to 70\n",
    "        }\n",
    "        expected_df = pd.DataFrame(expected_data)\n",
    "\n",
    "        # Ensure the result matches the expected DataFrame\n",
    "        pd.testing.assert_frame_equal(result, expected_df)\n"
   ]
  },
  {
   "cell_type": "markdown",
   "metadata": {},
   "source": [
    "### 7.7 Column-Wise and Multiple Function Application on Multiple Columns\n",
    "\n",
    "Question:\n",
    "\n",
    "Write a function that groups the sales data by Region and applies multiple aggregation functions on the **Quantity** and **SalesAmount** columns. \n",
    "\n",
    "Return a DataFrame with columns **'Region'**, **'TotalQuantity'**, **'MeanQuantity'**, **'TotalSales'**, **'MaxSales'**.\n",
    "\n",
    "Specifically:\n",
    "\n",
    "- For the **Quantity** column, calculate the sum and mean.\n",
    "- For the **SalesAmount column**, calculate the sum and max.\n",
    "\n",
    "Hint:\n",
    "\n",
    "- Use the `groupby()` function to group the data by Region.\n",
    "- Use the `agg()` function to apply multiple aggregation functions to different columns.\n",
    "\n"
   ]
  },
  {
   "cell_type": "code",
   "execution_count": 32,
   "metadata": {},
   "outputs": [],
   "source": [
    "import pandas as pd\n",
    "\n",
    "def aggregate_region_data(df: pd.DataFrame) -> pd.DataFrame:\n",
    "\n",
    "    # Write your code here\n",
    "    \n",
    "    result = df.groupby('Region').agg({\n",
    "        'Quantity': ['sum', 'mean'],       \n",
    "        'SalesAmount': ['sum', 'max']      \n",
    "    }).reset_index()\n",
    "\n",
    "    result.columns = ['Region', 'TotalQuantity', 'MeanQuantity', 'TotalSales', 'MaxSales']\n",
    "    \n",
    "    return result\n"
   ]
  },
  {
   "cell_type": "code",
   "execution_count": 33,
   "metadata": {},
   "outputs": [
    {
     "name": "stdout",
     "output_type": "stream",
     "text": [
      "  Region  TotalQuantity  MeanQuantity  TotalSales  MaxSales\n",
      "0   East             13      4.333333         130        70\n",
      "1  North             30      7.500000         300       100\n",
      "2  South             28      9.333333         280       120\n",
      "3   West             24      8.000000         240       100\n"
     ]
    }
   ],
   "source": [
    "#EXAMPLE USAGE \n",
    "# Load the CSV file into a DataFrame\n",
    "df = pd.read_csv('/data/IFI8410/sess07/sample_sales_data_new.csv')\n",
    "\n",
    "aggregated_sales = aggregate_region_data(df)\n",
    "\n",
    "print(aggregated_sales)\n"
   ]
  },
  {
   "cell_type": "markdown",
   "metadata": {},
   "source": [
    "#### Save your solution to a file ..."
   ]
  },
  {
   "cell_type": "code",
   "execution_count": 34,
   "metadata": {},
   "outputs": [
    {
     "name": "stdout",
     "output_type": "stream",
     "text": [
      "Overwriting solution_7_7.py\n"
     ]
    }
   ],
   "source": [
    "%%writefile solution_7_7.py\n",
    "\n",
    "import pandas as pd\n",
    "\n",
    "def aggregate_region_data(df: pd.DataFrame) -> pd.DataFrame:\n",
    "    result = df.groupby('Region').agg({\n",
    "        'Quantity': ['sum', 'mean'],       \n",
    "        'SalesAmount': ['sum', 'max']      \n",
    "    }).reset_index()\n",
    "\n",
    "    result.columns = ['Region', 'TotalQuantity', 'MeanQuantity', 'TotalSales', 'MaxSales']\n",
    "    \n",
    "    return result\n"
   ]
  },
  {
   "cell_type": "markdown",
   "metadata": {},
   "source": [
    "#### Test 7.7 Execute the cell below to test your solution..."
   ]
  },
  {
   "cell_type": "code",
   "execution_count": 35,
   "metadata": {},
   "outputs": [
    {
     "name": "stdout",
     "output_type": "stream",
     "text": [
      "\u001b[1m============================= test session starts ==============================\u001b[0m\n",
      "platform linux -- Python 3.8.6, pytest-6.2.2, py-1.10.0, pluggy-0.13.1\n",
      "rootdir: /home/mjack6/IFI8410_class/IFI8410F24/IFI8410-Development/Fall2024/HW07\n",
      "plugins: anyio-4.2.0\n",
      "collected 1 item                                                               \u001b[0m\n",
      "\n",
      "test/test_hw07_07.py \u001b[32m.\u001b[0m\u001b[32m                                                   [100%]\u001b[0m\n",
      "\n",
      "\u001b[32m============================== \u001b[32m\u001b[1m1 passed\u001b[0m\u001b[32m in 0.44s\u001b[0m\u001b[32m ===============================\u001b[0m\n",
      "Testing completed.\n"
     ]
    }
   ],
   "source": [
    "! test/run_test.sh 7"
   ]
  },
  {
   "cell_type": "code",
   "execution_count": 36,
   "metadata": {},
   "outputs": [
    {
     "name": "stdout",
     "output_type": "stream",
     "text": [
      "Overwriting test/test_hw07_07.py\n"
     ]
    }
   ],
   "source": [
    "%%writefile test/test_hw07_07.py\n",
    "\n",
    "from solution_7_7 import aggregate_region_data  \n",
    "import unittest\n",
    "import pandas as pd\n",
    "\n",
    "class TestHW0707(unittest.TestCase):\n",
    "    def test_aggregate_region_data(self):\n",
    "        df = pd.read_csv('/data/IFI8410/sess07/sample_sales_data_new.csv')\n",
    "\n",
    "        result = aggregate_region_data(df)\n",
    "        \n",
    "        expected_data = {\n",
    "            'Region': ['East', 'North', 'South', 'West'],\n",
    "            'TotalQuantity': [13, 30, 28, 24],\n",
    "            'MeanQuantity': [4.33, 7.5, 9.33, 8.0],\n",
    "            'TotalSales': [130, 300, 280, 240],\n",
    "            'MaxSales': [70, 100, 120, 100]\n",
    "        }\n",
    "        expected_df = pd.DataFrame(expected_data)\n",
    "\n",
    "        pd.testing.assert_frame_equal(result.round(2), expected_df.round(2))\n",
    "\n"
   ]
  },
  {
   "cell_type": "markdown",
   "metadata": {},
   "source": [
    "### 7.8 Apply: General split-apply-combine\n",
    "\n",
    "Question:\n",
    "\n",
    "Write a function that groups the data by Region and applies a user-defined function to calculate a custom score for each region \n",
    "based on both Quantity and SalesAmount. The custom score is calculated as:\n",
    "\n",
    "`Score = (Total SalesAmount/Total Quantity)`\n",
    "\n",
    "Your task is to group the data by Region, apply this user-defined function, and return the score for each region\n",
    "\n",
    "Return as result a DataFrame with columns **Region** and **Score**.\n",
    "\n",
    "Hint:\n",
    "\n",
    "- Use the `groupby()` function to group the data by Region.\n",
    "- Define a custom function to calculate the score based on the aggregation of Quantity and SalesAmount.\n",
    "- Use `apply()` to apply the user-defined function on each group.\n",
    "- Avoid division by zero, i.e. if the value for **Total Quantity** is returned as zero, set the value for **Score** also to zero."
   ]
  },
  {
   "cell_type": "code",
   "execution_count": 37,
   "metadata": {},
   "outputs": [],
   "source": [
    "import pandas as pd\n",
    "\n",
    "def calculate_region_score(df: pd.DataFrame) -> pd.DataFrame:\n",
    "\n",
    "    # Write your code here\n",
    "    \n",
    "    # Group by Region\n",
    "    grouped = df.groupby('Region')\n",
    "    result = []\n",
    "\n",
    "    # Iterate through the groups and calculate total_sales and total_quantity\n",
    "    for name, group in grouped:\n",
    "        total_sales = group['SalesAmount'].sum()\n",
    "        total_quantity = group['Quantity'].sum()\n",
    "        \n",
    "        # Calculate score as total_sales / total_quantity\n",
    "        if total_quantity != 0:\n",
    "            score = total_sales / total_quantity\n",
    "        else:\n",
    "            score = 0  # Avoid division by zero\n",
    "        \n",
    "        # Debugging print to check values\n",
    "        print(f\"Region: {name}, Total Sales: {total_sales}, Total Quantity: {total_quantity}, Score: {score}\")\n",
    "\n",
    "        result.append({'Region': name, 'Score': score})\n",
    "\n",
    "    return pd.DataFrame(result)\n"
   ]
  },
  {
   "cell_type": "code",
   "execution_count": 38,
   "metadata": {},
   "outputs": [
    {
     "name": "stdout",
     "output_type": "stream",
     "text": [
      "Region: East, Total Sales: 130, Total Quantity: 13, Score: 10.0\n",
      "Region: North, Total Sales: 300, Total Quantity: 30, Score: 10.0\n",
      "Region: South, Total Sales: 280, Total Quantity: 28, Score: 10.0\n",
      "Region: West, Total Sales: 240, Total Quantity: 24, Score: 10.0\n",
      "  Region  Score\n",
      "0   East   10.0\n",
      "1  North   10.0\n",
      "2  South   10.0\n",
      "3   West   10.0\n"
     ]
    }
   ],
   "source": [
    "#EXAMPLE USAGE\n",
    "# Load the CSV file into a DataFrame\n",
    "df = pd.read_csv('/data/IFI8410/sess07/sample_sales_data_new.csv')\n",
    "\n",
    "region_scores = calculate_region_score(df)\n",
    "\n",
    "print(region_scores)\n"
   ]
  },
  {
   "cell_type": "markdown",
   "metadata": {},
   "source": [
    "#### Save your solution to a file ..."
   ]
  },
  {
   "cell_type": "code",
   "execution_count": 39,
   "metadata": {},
   "outputs": [
    {
     "name": "stdout",
     "output_type": "stream",
     "text": [
      "Overwriting solution_7_8.py\n"
     ]
    }
   ],
   "source": [
    "%%writefile solution_7_8.py\n",
    "import pandas as pd\n",
    "\n",
    "def calculate_region_score(df: pd.DataFrame) -> pd.DataFrame:\n",
    "    # Group by Region\n",
    "    grouped = df.groupby('Region')\n",
    "    result = []\n",
    "\n",
    "    # Iterate through the groups and calculate total_sales and total_quantity\n",
    "    for name, group in grouped:\n",
    "        total_sales = group['SalesAmount'].sum()\n",
    "        total_quantity = group['Quantity'].sum()\n",
    "        \n",
    "        # Calculate score as total_sales / total_quantity\n",
    "        if total_quantity != 0:\n",
    "            score = total_sales / total_quantity\n",
    "        else:\n",
    "            score = 0  # Avoid division by zero\n",
    "        \n",
    "        # Debugging print to check values\n",
    "        print(f\"Region: {name}, Total Sales: {total_sales}, Total Quantity: {total_quantity}, Score: {score}\")\n",
    "\n",
    "        result.append({'Region': name, 'Score': score})\n",
    "\n",
    "    return pd.DataFrame(result)\n"
   ]
  },
  {
   "cell_type": "markdown",
   "metadata": {},
   "source": [
    "#### Test 7.8 Execute the cell below to test your solution..."
   ]
  },
  {
   "cell_type": "code",
   "execution_count": 40,
   "metadata": {},
   "outputs": [
    {
     "name": "stdout",
     "output_type": "stream",
     "text": [
      "\u001b[1m============================= test session starts ==============================\u001b[0m\n",
      "platform linux -- Python 3.8.6, pytest-6.2.2, py-1.10.0, pluggy-0.13.1\n",
      "rootdir: /home/mjack6/IFI8410_class/IFI8410F24/IFI8410-Development/Fall2024/HW07\n",
      "plugins: anyio-4.2.0\n",
      "collected 1 item                                                               \u001b[0m\n",
      "\n",
      "test/test_hw07_08.py \u001b[32m.\u001b[0m\u001b[32m                                                   [100%]\u001b[0m\n",
      "\n",
      "\u001b[32m============================== \u001b[32m\u001b[1m1 passed\u001b[0m\u001b[32m in 0.42s\u001b[0m\u001b[32m ===============================\u001b[0m\n",
      "Testing completed.\n"
     ]
    }
   ],
   "source": [
    "! test/run_test.sh 8"
   ]
  },
  {
   "cell_type": "code",
   "execution_count": 41,
   "metadata": {},
   "outputs": [
    {
     "name": "stdout",
     "output_type": "stream",
     "text": [
      "Overwriting test/test_hw07_08.py\n"
     ]
    }
   ],
   "source": [
    "%%writefile test/test_hw07_08.py\n",
    "\n",
    "from solution_7_8 import calculate_region_score  # Assuming the function is in 'solution_7_8.py'\n",
    "import unittest\n",
    "import pandas as pd\n",
    "\n",
    "class TestHW0708(unittest.TestCase):\n",
    "    def test_calculate_region_score(self):\n",
    "        # Load the CSV file into a DataFrame\n",
    "        df = pd.read_csv('/data/IFI8410/sess07/sample_sales_data_new.csv')\n",
    "\n",
    "        # Call the function\n",
    "        result = calculate_region_score(df)\n",
    "\n",
    "        # Expected output based on the current calculation logic\n",
    "        expected_data = {\n",
    "            'Region': ['East', 'North', 'South', 'West'],\n",
    "            'Score': [10.0, 10.0, 10.0, 10.0]  # Adjusted to match the current output\n",
    "        }\n",
    "        expected_df = pd.DataFrame(expected_data)\n",
    "\n",
    "        # Ensure the result matches the expected DataFrame\n",
    "        pd.testing.assert_frame_equal(result, expected_df)\n"
   ]
  },
  {
   "cell_type": "markdown",
   "metadata": {},
   "source": [
    "### 7.9 Using the .transform() Method for Group-Wise Transformations\n",
    "\n",
    "Question:\n",
    "\n",
    "Write a function that groups the data by Region and uses the `.transform()` method to calculate the total sales for each region.\n",
    "\n",
    "But instead of returning the aggregated value, assign the total sales back to each row in the group (i.e. 'unwrap' the aggregation results)\n",
    "\n",
    "The final DataFrame should have the original columns with an additional column called **TotalSalesByRegion**, which will contain the total sales amount for the respective region.\n",
    "\n",
    " Hint:\n",
    " \n",
    "- Use the `groupby()` function to group the data by Region.\n",
    "- Use the `.transform()` method to calculate the total SalesAmount for each region.\n",
    "- The `.transform()` method will 'broadcast' the total sales back to each row in the group.\n",
    "                                                                                                            "
   ]
  },
  {
   "cell_type": "code",
   "execution_count": 42,
   "metadata": {},
   "outputs": [],
   "source": [
    "import pandas as pd\n",
    "\n",
    "def add_total_sales_by_region(df: pd.DataFrame) -> pd.DataFrame:\n",
    "    \n",
    "    # Write your code here\n",
    "    \n",
    "    df['TotalSalesByRegion'] = df.groupby('Region')['SalesAmount'].transform('sum')\n",
    "    \n",
    "    return df\n"
   ]
  },
  {
   "cell_type": "code",
   "execution_count": 43,
   "metadata": {},
   "outputs": [
    {
     "name": "stdout",
     "output_type": "stream",
     "text": [
      "   Region Salesperson Product  Quantity  SalesAmount  TotalSalesByRegion\n",
      "0   North        John       A        10          100                 300\n",
      "1   South        Sara       B         5           50                 280\n",
      "2   North        Mike       A         8           80                 300\n",
      "3    East       Linda       B         7           70                 130\n",
      "4    West         Tom       A        10          100                 240\n",
      "5   South        Anna       C        12          120                 280\n",
      "6   North      Robert       C         9           90                 300\n",
      "7    East        Emma       A         4           40                 130\n",
      "8    West       Chris       B         6           60                 240\n",
      "9   South      Sophia       C        11          110                 280\n",
      "10  North        John       B         3           30                 300\n",
      "11   East       Linda       A         2           20                 130\n",
      "12   West         Tom       C         8           80                 240\n"
     ]
    }
   ],
   "source": [
    "#EXAMPLE USAGE\n",
    "\n",
    "df = pd.read_csv('/data/IFI8410/sess07/sample_sales_data_new.csv')\n",
    "\n",
    "df_with_totals = add_total_sales_by_region(df)\n",
    "\n",
    "print(df_with_totals)\n"
   ]
  },
  {
   "cell_type": "markdown",
   "metadata": {},
   "source": [
    "#### Save your solution to a file ..."
   ]
  },
  {
   "cell_type": "code",
   "execution_count": 44,
   "metadata": {},
   "outputs": [
    {
     "name": "stdout",
     "output_type": "stream",
     "text": [
      "Overwriting solution_7_9.py\n"
     ]
    }
   ],
   "source": [
    "%%writefile solution_7_9.py\n",
    "\n",
    "import pandas as pd\n",
    "\n",
    "def add_total_sales_by_region(df: pd.DataFrame) -> pd.DataFrame:\n",
    "    # Group by Region and calculate the total sales for each region using .transform\n",
    "    df['TotalSalesByRegion'] = df.groupby('Region')['SalesAmount'].transform('sum')\n",
    "    \n",
    "    return df\n"
   ]
  },
  {
   "cell_type": "markdown",
   "metadata": {},
   "source": [
    "#### Test 7.9 Execute the cell below to test your solution..."
   ]
  },
  {
   "cell_type": "code",
   "execution_count": 45,
   "metadata": {},
   "outputs": [
    {
     "name": "stdout",
     "output_type": "stream",
     "text": [
      "\u001b[1m============================= test session starts ==============================\u001b[0m\n",
      "platform linux -- Python 3.8.6, pytest-6.2.2, py-1.10.0, pluggy-0.13.1\n",
      "rootdir: /home/mjack6/IFI8410_class/IFI8410F24/IFI8410-Development/Fall2024/HW07\n",
      "plugins: anyio-4.2.0\n",
      "collected 1 item                                                               \u001b[0m\n",
      "\n",
      "test/test_hw07_09.py \u001b[32m.\u001b[0m\u001b[32m                                                   [100%]\u001b[0m\n",
      "\n",
      "\u001b[32m============================== \u001b[32m\u001b[1m1 passed\u001b[0m\u001b[32m in 0.42s\u001b[0m\u001b[32m ===============================\u001b[0m\n",
      "Testing completed.\n"
     ]
    }
   ],
   "source": [
    "! test/run_test.sh 9"
   ]
  },
  {
   "cell_type": "code",
   "execution_count": 46,
   "metadata": {},
   "outputs": [
    {
     "name": "stdout",
     "output_type": "stream",
     "text": [
      "Overwriting test/test_hw07_09.py\n"
     ]
    }
   ],
   "source": [
    "%%writefile test/test_hw07_09.py\n",
    "\n",
    "from solution_7_9 import add_total_sales_by_region  \n",
    "import unittest\n",
    "import pandas as pd\n",
    "\n",
    "class TestHW0709(unittest.TestCase):\n",
    "    def test_add_total_sales_by_region(self):\n",
    "    \n",
    "        df = pd.read_csv('/data/IFI8410/sess07/sample_sales_data_new.csv')\n",
    "\n",
    "        result = add_total_sales_by_region(df)\n",
    "        \n",
    "        expected_data = {\n",
    "            'Region': ['North', 'South', 'North', 'East', 'West', 'South', 'North', 'East', 'West', 'South', 'North', 'East', 'West'],\n",
    "            'Salesperson': ['John', 'Sara', 'Mike', 'Linda', 'Tom', 'Anna', 'Robert', 'Emma', 'Chris', 'Sophia', 'John', 'Linda', 'Tom'],\n",
    "            'Product': ['A', 'B', 'A', 'B', 'A', 'C', 'C', 'A', 'B', 'C', 'B', 'A', 'C'],\n",
    "            'Quantity': [10, 5, 8, 7, 10, 12, 9, 4, 6, 11, 3, 2, 8],\n",
    "            'SalesAmount': [100, 50, 80, 70, 100, 120, 90, 40, 60, 110, 30, 20, 80],\n",
    "            'TotalSalesByRegion': [300, 280, 300, 130, 240, 280, 300, 130, 240, 280, 300, 130, 240]\n",
    "        }\n",
    "        expected_df = pd.DataFrame(expected_data)\n",
    "\n",
    "        pd.testing.assert_frame_equal(result, expected_df)"
   ]
  },
  {
   "cell_type": "code",
   "execution_count": null,
   "metadata": {},
   "outputs": [],
   "source": []
  },
  {
   "cell_type": "markdown",
   "metadata": {},
   "source": [
    "### 7.10 Creating Pivot Tables with the .pivot_table() Method\n",
    "\n",
    "Question\n",
    "\n",
    "Write a function that uses the `.pivot_table()` method to create a pivot table where:\n",
    "\n",
    "- The rows represent **Region**.\n",
    "- The columns represent **Product**.\n",
    "- The values represent the sum of **SalesAmount**.\n",
    "- Any missing values should be filled with 0.\n",
    "\n",
    "Hint:\n",
    "\n",
    "- Use the `.pivot_table()` method in Pandas.\n",
    "- Use the index parameter to specify the rows and columns parameter to specify the columns of the pivot table.\n",
    "- Use the argument **'aggfunc=sum'** to aggregate the SalesAmount and use fill_value=0 to handle missing values.\n"
   ]
  },
  {
   "cell_type": "code",
   "execution_count": 47,
   "metadata": {},
   "outputs": [],
   "source": [
    "import pandas as pd\n",
    "\n",
    "def create_sales_pivot_table(df: pd.DataFrame) -> pd.DataFrame:\n",
    "\n",
    "    # Write your code here\n",
    "    \n",
    "    pivot_table = pd.pivot_table(df, values='SalesAmount', index='Region', columns='Product', aggfunc='sum', fill_value=0)\n",
    "    \n",
    "    return pivot_table\n"
   ]
  },
  {
   "cell_type": "markdown",
   "metadata": {},
   "source": [
    "#### Example usage:"
   ]
  },
  {
   "cell_type": "code",
   "execution_count": 48,
   "metadata": {},
   "outputs": [
    {
     "name": "stdout",
     "output_type": "stream",
     "text": [
      "Product    A   B    C\n",
      "Region               \n",
      "East      60  70    0\n",
      "North    180  30   90\n",
      "South      0  50  230\n",
      "West     100  60   80\n"
     ]
    }
   ],
   "source": [
    "# Load the CSV file into a DataFrame\n",
    "df = pd.read_csv('/data/IFI8410/sess07/sample_sales_data_new.csv')\n",
    "\n",
    "sales_pivot_table = create_sales_pivot_table(df)\n",
    "\n",
    "print(sales_pivot_table)\n"
   ]
  },
  {
   "cell_type": "markdown",
   "metadata": {},
   "source": [
    "#### Save your solution to a file ..."
   ]
  },
  {
   "cell_type": "code",
   "execution_count": 49,
   "metadata": {},
   "outputs": [
    {
     "name": "stdout",
     "output_type": "stream",
     "text": [
      "Overwriting solution_7_10.py\n"
     ]
    }
   ],
   "source": [
    "%%writefile solution_7_10.py\n",
    "\n",
    "import pandas as pd\n",
    "\n",
    "def create_sales_pivot_table(df: pd.DataFrame) -> pd.DataFrame:\n",
    "    pivot_table = pd.pivot_table(df, values='SalesAmount', index='Region', columns='Product', aggfunc='sum', fill_value=0)\n",
    "    \n",
    "    return pivot_table\n"
   ]
  },
  {
   "cell_type": "markdown",
   "metadata": {},
   "source": [
    "#### Test 7.10 Execute the cell below to test your solution...\n"
   ]
  },
  {
   "cell_type": "code",
   "execution_count": 50,
   "metadata": {},
   "outputs": [
    {
     "name": "stdout",
     "output_type": "stream",
     "text": [
      "\u001b[1m============================= test session starts ==============================\u001b[0m\n",
      "platform linux -- Python 3.8.6, pytest-6.2.2, py-1.10.0, pluggy-0.13.1\n",
      "rootdir: /home/mjack6/IFI8410_class/IFI8410F24/IFI8410-Development/Fall2024/HW07\n",
      "plugins: anyio-4.2.0\n",
      "collected 1 item                                                               \u001b[0m\n",
      "\n",
      "test/test_hw07_10.py \u001b[32m.\u001b[0m\u001b[32m                                                   [100%]\u001b[0m\n",
      "\n",
      "\u001b[32m============================== \u001b[32m\u001b[1m1 passed\u001b[0m\u001b[32m in 0.45s\u001b[0m\u001b[32m ===============================\u001b[0m\n",
      "Testing completed.\n"
     ]
    }
   ],
   "source": [
    "! test/run_test.sh 10"
   ]
  },
  {
   "cell_type": "code",
   "execution_count": 51,
   "metadata": {},
   "outputs": [
    {
     "name": "stdout",
     "output_type": "stream",
     "text": [
      "Overwriting test/test_hw07_10.py\n"
     ]
    }
   ],
   "source": [
    "%%writefile test/test_hw07_10.py\n",
    "\n",
    "from solution_7_10 import create_sales_pivot_table  # Assuming the function is in 'solution_7_10.py'\n",
    "import unittest\n",
    "import pandas as pd\n",
    "\n",
    "class TestHW0710(unittest.TestCase):\n",
    "    def test_create_sales_pivot_table(self):\n",
    "        # Load the CSV file into a DataFrame\n",
    "        df = pd.read_csv('/data/IFI8410/sess07/sample_sales_data_new.csv')\n",
    "\n",
    "        # Call the function\n",
    "        result = create_sales_pivot_table(df)\n",
    "\n",
    "        # Expected output\n",
    "        expected_data = {\n",
    "            'Product': ['A', 'B', 'C'],\n",
    "            'East': [60, 70, 0],\n",
    "            'North': [180, 30, 90],\n",
    "            'South': [0, 50, 230],\n",
    "            'West': [100, 60, 80]\n",
    "        }\n",
    "        expected_df = pd.DataFrame(expected_data).set_index('Product').T\n",
    "\n",
    "        # Remove the index name from the actual result\n",
    "        result.index.name = None\n",
    "\n",
    "        # Ensure the result matches the expected DataFrame\n",
    "        pd.testing.assert_frame_equal(result, expected_df)\n"
   ]
  },
  {
   "cell_type": "code",
   "execution_count": null,
   "metadata": {},
   "outputs": [],
   "source": []
  },
  {
   "cell_type": "markdown",
   "metadata": {},
   "source": [
    "## Regular Expressions and Text Analysis\n",
    "\n",
    "### 7.11 Count word occurrences in a text\n",
    "\n",
    "Problem:\n",
    "\n",
    "You are given a paragraph and a target word. Implement the following function `count_word_occurrences_advanced`: \n",
    "\n",
    "This function takes a paragraph (string) and a target word (string) as input. \n",
    "\n",
    "It should:\n",
    "\n",
    "- Find the number of occurrences of the target word in the paragraph using `re.findall()` with case insensitivity.\n",
    "\n",
    "- Ensure that the target word matches as a whole word only (not part of other words).\n",
    "\n",
    "- Allow for punctuation and special characters (like commas, periods, or exclamation marks) immediately following or preceding the target word without affecting the count.\n",
    "\n",
    "Hint:\n",
    "\n",
    "- Use word boundaries (\\b) around the target word and use `re.IGNORECASE` for case insensitivity."
   ]
  },
  {
   "cell_type": "code",
   "execution_count": 52,
   "metadata": {},
   "outputs": [],
   "source": [
    "import re\n",
    "\n",
    "def count_word_occurrences_advanced(paragraph, word):\n",
    "    \n",
    "    # Write your code here\n",
    "\n",
    "    # Using re.escape to handle any special characters in the word\n",
    "    escaped_word = re.escape(word)\n",
    "    # Use re.findall() with word boundaries and ignore case\n",
    "    matches = re.findall(rf\"\\b{escaped_word}\\b\", paragraph, flags=re.IGNORECASE)\n",
    "    return len(matches)"
   ]
  },
  {
   "cell_type": "markdown",
   "metadata": {},
   "source": [
    "#### Example usage:"
   ]
  },
  {
   "cell_type": "code",
   "execution_count": 53,
   "metadata": {},
   "outputs": [
    {
     "name": "stdout",
     "output_type": "stream",
     "text": [
      "The word 'python' appears 3 times in the sentence.\n"
     ]
    }
   ],
   "source": [
    "# Example sentence and target word\n",
    "sentence = \"Python is great! python developers love Python programming.\"\n",
    "target_word = \"python\"\n",
    "\n",
    "# Apply the function\n",
    "count = count_word_occurrences_advanced(sentence, target_word)\n",
    "print(f\"The word '{target_word}' appears {count} times in the sentence.\")"
   ]
  },
  {
   "cell_type": "markdown",
   "metadata": {},
   "source": [
    "#### Save your solution to a file ..."
   ]
  },
  {
   "cell_type": "code",
   "execution_count": 54,
   "metadata": {},
   "outputs": [
    {
     "name": "stdout",
     "output_type": "stream",
     "text": [
      "Overwriting solution_7_11.py\n"
     ]
    }
   ],
   "source": [
    "%%writefile solution_7_11.py\n",
    "\n",
    "import re\n",
    "\n",
    "def count_word_occurrences_advanced(paragraph, word):\n",
    "    # Using re.escape to handle any special characters in the word\n",
    "    escaped_word = re.escape(word)\n",
    "    # Use re.findall() with word boundaries and ignore case\n",
    "    matches = re.findall(rf\"\\b{escaped_word}\\b\", paragraph, flags=re.IGNORECASE)\n",
    "    # Return the number of occurrences\n",
    "    return len(matches)"
   ]
  },
  {
   "cell_type": "code",
   "execution_count": null,
   "metadata": {},
   "outputs": [],
   "source": []
  },
  {
   "cell_type": "markdown",
   "metadata": {},
   "source": [
    "#### Test 7.11 Execute the cell below to test your solution..."
   ]
  },
  {
   "cell_type": "code",
   "execution_count": 55,
   "metadata": {},
   "outputs": [
    {
     "name": "stdout",
     "output_type": "stream",
     "text": [
      "\u001b[1m============================= test session starts ==============================\u001b[0m\n",
      "platform linux -- Python 3.8.6, pytest-6.2.2, py-1.10.0, pluggy-0.13.1\n",
      "rootdir: /home/mjack6/IFI8410_class/IFI8410F24/IFI8410-Development/Fall2024/HW07\n",
      "plugins: anyio-4.2.0\n",
      "collected 1 item                                                               \u001b[0m\n",
      "\n",
      "test/test_hw07_11.py \u001b[32m.\u001b[0m\u001b[32m                                                   [100%]\u001b[0m\n",
      "\n",
      "\u001b[32m============================== \u001b[32m\u001b[1m1 passed\u001b[0m\u001b[32m in 0.03s\u001b[0m\u001b[32m ===============================\u001b[0m\n",
      "Testing completed.\n"
     ]
    }
   ],
   "source": [
    "! test/run_test.sh 11"
   ]
  },
  {
   "cell_type": "code",
   "execution_count": 56,
   "metadata": {},
   "outputs": [
    {
     "name": "stdout",
     "output_type": "stream",
     "text": [
      "Overwriting test/test_hw07_11.py\n"
     ]
    }
   ],
   "source": [
    "%%writefile test/test_hw07_11.py\n",
    "\n",
    "from solution_7_11 import count_word_occurrences_advanced\n",
    "\n",
    "import unittest\n",
    "\n",
    "class TestCountWordOccurrencesAdvanced(unittest.TestCase):\n",
    "    def test_count_word_occurrences_advanced(self):\n",
    "        # Test case 1\n",
    "        paragraph = \"Python, the best language! python is versatile; many prefer Python, but not everyone loves python.\"\n",
    "        target_word = \"python\"\n",
    "        self.assertEqual(count_word_occurrences_advanced(paragraph, target_word), 4)\n",
    "\n",
    "        # Test case 2\n",
    "        paragraph = \"Regex is powerful. Regular expressions (regex) are a must-know!\"\n",
    "        target_word = \"regex\"\n",
    "        self.assertEqual(count_word_occurrences_advanced(paragraph, target_word), 2)\n",
    "\n",
    "        # Test case 3\n",
    "        paragraph = \"The quick brown fox jumps over the lazy dog.\"\n",
    "        target_word = \"cat\"\n",
    "        self.assertEqual(count_word_occurrences_advanced(paragraph, target_word), 0)\n",
    "\n",
    "        # Test case 4\n",
    "        paragraph = \"Hello, world! Hello world? Hello-world; Hello... world!\"\n",
    "        target_word = \"hello\"\n",
    "        self.assertEqual(count_word_occurrences_advanced(paragraph, target_word), 4)\n",
    "\n",
    "        # Test case 5\n",
    "        paragraph = \"Python is amazing. PYTHON is powerful. pythonic is something else.\"\n",
    "        target_word = \"python\"\n",
    "        self.assertEqual(count_word_occurrences_advanced(paragraph, target_word), 2)"
   ]
  },
  {
   "cell_type": "code",
   "execution_count": null,
   "metadata": {},
   "outputs": [],
   "source": []
  },
  {
   "cell_type": "markdown",
   "metadata": {},
   "source": [
    "### 7.12 Replace a substring in a sentence (longer string)\n",
    "\n",
    "Question:\n",
    "\n",
    "You are given a sentence and a target substring. Implement the following function `replace_substring`: \n",
    "\n",
    "This function takes three parameters as input arguments - a sentence (string), a target substring (string), and a replacement string. \n",
    "\n",
    "It should:\n",
    "\n",
    "- Replace all occurrences of the target substring in the sentence with the replacement string, using `re.sub()`.\n",
    "\n",
    "- Perform the replacement in a case-insensitive manner.\n",
    "\n",
    "- Return the modified sentence.\n",
    "\n",
    "Hint:\n",
    "\n",
    "- Use `re.sub()` with the `re.IGNORECASE` flag to replace the target substring regardless of case."
   ]
  },
  {
   "cell_type": "code",
   "execution_count": 57,
   "metadata": {},
   "outputs": [],
   "source": [
    "import re\n",
    "\n",
    "def replace_substring(sentence, target, replacement):\n",
    "\n",
    "    # Write your code here\n",
    "\n",
    "    # Using re.sub() with re.IGNORECASE for case-insensitive replacement\n",
    "    result = re.sub(re.escape(target), replacement, sentence, flags=re.IGNORECASE)\n",
    "    return result"
   ]
  },
  {
   "cell_type": "markdown",
   "metadata": {},
   "source": [
    "#### Example usage:"
   ]
  },
  {
   "cell_type": "code",
   "execution_count": 58,
   "metadata": {},
   "outputs": [
    {
     "name": "stdout",
     "output_type": "stream",
     "text": [
      "The dog sat on the dog's mat and scared another dog.\n"
     ]
    }
   ],
   "source": [
    "# Example sentence, target substring, and replacement string\n",
    "sentence = \"The cat sat on the Cat's mat and scared another cat.\"\n",
    "target_substring = \"cat\"\n",
    "replacement = \"dog\"\n",
    "\n",
    "# Apply the function\n",
    "modified_sentence = replace_substring(sentence, target_substring, replacement)\n",
    "print(modified_sentence)"
   ]
  },
  {
   "cell_type": "markdown",
   "metadata": {},
   "source": [
    "#### Save your solution to a file ..."
   ]
  },
  {
   "cell_type": "code",
   "execution_count": 59,
   "metadata": {},
   "outputs": [
    {
     "name": "stdout",
     "output_type": "stream",
     "text": [
      "Overwriting solution_7_12.py\n"
     ]
    }
   ],
   "source": [
    "%%writefile solution_7_12.py\n",
    "\n",
    "import re\n",
    "\n",
    "def replace_substring(sentence, target, replacement):\n",
    "    # Using re.sub() with re.IGNORECASE for case-insensitive replacement\n",
    "    result = re.sub(re.escape(target), replacement, sentence, flags=re.IGNORECASE)\n",
    "    return result"
   ]
  },
  {
   "cell_type": "code",
   "execution_count": null,
   "metadata": {},
   "outputs": [],
   "source": []
  },
  {
   "cell_type": "markdown",
   "metadata": {},
   "source": [
    "#### Test 7.12 Execute the cell below to test your solution..."
   ]
  },
  {
   "cell_type": "code",
   "execution_count": 60,
   "metadata": {},
   "outputs": [
    {
     "name": "stdout",
     "output_type": "stream",
     "text": [
      "\u001b[1m============================= test session starts ==============================\u001b[0m\n",
      "platform linux -- Python 3.8.6, pytest-6.2.2, py-1.10.0, pluggy-0.13.1\n",
      "rootdir: /home/mjack6/IFI8410_class/IFI8410F24/IFI8410-Development/Fall2024/HW07\n",
      "plugins: anyio-4.2.0\n",
      "collected 1 item                                                               \u001b[0m\n",
      "\n",
      "test/test_hw07_12.py \u001b[32m.\u001b[0m\u001b[32m                                                   [100%]\u001b[0m\n",
      "\n",
      "\u001b[32m============================== \u001b[32m\u001b[1m1 passed\u001b[0m\u001b[32m in 0.03s\u001b[0m\u001b[32m ===============================\u001b[0m\n",
      "Testing completed.\n"
     ]
    }
   ],
   "source": [
    "! test/run_test.sh 12"
   ]
  },
  {
   "cell_type": "code",
   "execution_count": 61,
   "metadata": {},
   "outputs": [
    {
     "name": "stdout",
     "output_type": "stream",
     "text": [
      "Overwriting test/test_hw07_12.py\n"
     ]
    }
   ],
   "source": [
    "%%writefile test/test_hw07_12.py\n",
    "\n",
    "from solution_7_12 import replace_substring\n",
    "import unittest\n",
    "\n",
    "class TestReplaceSubstring(unittest.TestCase):\n",
    "    def test_replace_substring(self):\n",
    "        # Test case 1\n",
    "        sentence = \"The cat sat on the Cat's mat and scared another cat.\"\n",
    "        target = \"cat\"\n",
    "        replacement = \"dog\"\n",
    "        expected_result = \"The dog sat on the dog's mat and scared another dog.\"\n",
    "        self.assertEqual(replace_substring(sentence, target, replacement), expected_result)\n",
    "\n",
    "        # Test case 2\n",
    "        sentence = \"Regex is powerful. Regular expressions (regex) make life easier.\"\n",
    "        target = \"regex\"\n",
    "        replacement = \"pattern\"\n",
    "        expected_result = \"pattern is powerful. Regular expressions (pattern) make life easier.\"\n",
    "        self.assertEqual(replace_substring(sentence, target, replacement), expected_result)\n",
    "\n",
    "        # Test case 3\n",
    "        sentence = \"Python is fun. PYTHON is popular.\"\n",
    "        target = \"python\"\n",
    "        replacement = \"coding\"\n",
    "        expected_result = \"coding is fun. coding is popular.\"\n",
    "        self.assertEqual(replace_substring(sentence, target, replacement), expected_result)\n",
    "\n",
    "        # Test case 4\n",
    "        sentence = \"The blue bird and BLUE sky.\"\n",
    "        target = \"blue\"\n",
    "        replacement = \"green\"\n",
    "        expected_result = \"The green bird and green sky.\"\n",
    "        self.assertEqual(replace_substring(sentence, target, replacement), expected_result)\n",
    "\n",
    "        # Test case 5\n",
    "        sentence = \"Cats and dogs make great pets. CATS love to sleep.\"\n",
    "        target = \"cats\"\n",
    "        replacement = \"birds\"\n",
    "        expected_result = \"birds and dogs make great pets. birds love to sleep.\"\n",
    "        self.assertEqual(replace_substring(sentence, target, replacement), expected_result)"
   ]
  },
  {
   "cell_type": "code",
   "execution_count": null,
   "metadata": {},
   "outputs": [],
   "source": []
  },
  {
   "cell_type": "markdown",
   "metadata": {},
   "source": [
    "### 7.13 Find words of a specific length in a text\n",
    "\n",
    "Problem:\n",
    "\n",
    "You are given a sentence and a target word length. Implement the following function `find_words_with_length`: \n",
    "\n",
    "This function takes two parameters - a sentence (string) and a target length (integer). \n",
    "\n",
    "It should:\n",
    "\n",
    "- Find all words in the sentence that have the exact number of characters specified by the target length.\n",
    "  \n",
    "- Return the list of these words.\n",
    "\n",
    "Hint:\n",
    "\n",
    "- Use `re.findall()` to match words of the given length, and ensure it excludes punctuation marks."
   ]
  },
  {
   "cell_type": "code",
   "execution_count": 62,
   "metadata": {},
   "outputs": [],
   "source": [
    "import re\n",
    "\n",
    "def find_words_with_length(sentence, length):\n",
    "    \n",
    "    # Write your code here\n",
    "\n",
    "    # \\b is used for word boundaries, \\w+ matches word characters\n",
    "    pattern = rf\"\\b\\w{{{length}}}\\b\"\n",
    "    return re.findall(pattern, sentence)"
   ]
  },
  {
   "cell_type": "markdown",
   "metadata": {},
   "source": [
    "#### Example usage:"
   ]
  },
  {
   "cell_type": "code",
   "execution_count": 63,
   "metadata": {},
   "outputs": [
    {
     "name": "stdout",
     "output_type": "stream",
     "text": [
      "['enjoy', 'every']\n"
     ]
    }
   ],
   "source": [
    "# Example sentence and target length\n",
    "sentence = \"Python is amazing and fun! I enjoy coding in Python every day.\"\n",
    "target_length = 5\n",
    "\n",
    "# Apply the function\n",
    "words_with_length = find_words_with_length(sentence, target_length)\n",
    "print(words_with_length)"
   ]
  },
  {
   "cell_type": "code",
   "execution_count": null,
   "metadata": {},
   "outputs": [],
   "source": []
  },
  {
   "cell_type": "markdown",
   "metadata": {},
   "source": [
    "#### Save your solution to a file ..."
   ]
  },
  {
   "cell_type": "code",
   "execution_count": 64,
   "metadata": {},
   "outputs": [
    {
     "name": "stdout",
     "output_type": "stream",
     "text": [
      "Overwriting solution_7_13.py\n"
     ]
    }
   ],
   "source": [
    "%%writefile solution_7_13.py\n",
    "\n",
    "import re\n",
    "\n",
    "def find_words_with_length(sentence, length):\n",
    "    # Use re.findall() to find words with the specified length\n",
    "    # \\b is used for word boundaries, \\w+ matches word characters\n",
    "    pattern = rf\"\\b\\w{{{length}}}\\b\"\n",
    "    return re.findall(pattern, sentence)"
   ]
  },
  {
   "cell_type": "code",
   "execution_count": null,
   "metadata": {},
   "outputs": [],
   "source": []
  },
  {
   "cell_type": "markdown",
   "metadata": {},
   "source": [
    "#### Test 7.13 Execute the cell below to test your solution..."
   ]
  },
  {
   "cell_type": "code",
   "execution_count": 65,
   "metadata": {},
   "outputs": [
    {
     "name": "stdout",
     "output_type": "stream",
     "text": [
      "\u001b[1m============================= test session starts ==============================\u001b[0m\n",
      "platform linux -- Python 3.8.6, pytest-6.2.2, py-1.10.0, pluggy-0.13.1\n",
      "rootdir: /home/mjack6/IFI8410_class/IFI8410F24/IFI8410-Development/Fall2024/HW07\n",
      "plugins: anyio-4.2.0\n",
      "collected 1 item                                                               \u001b[0m\n",
      "\n",
      "test/test_hw07_13.py \u001b[32m.\u001b[0m\u001b[32m                                                   [100%]\u001b[0m\n",
      "\n",
      "\u001b[32m============================== \u001b[32m\u001b[1m1 passed\u001b[0m\u001b[32m in 0.03s\u001b[0m\u001b[32m ===============================\u001b[0m\n",
      "Testing completed.\n"
     ]
    }
   ],
   "source": [
    "! test/run_test.sh 13"
   ]
  },
  {
   "cell_type": "code",
   "execution_count": 66,
   "metadata": {},
   "outputs": [
    {
     "name": "stdout",
     "output_type": "stream",
     "text": [
      "Overwriting test/test_hw07_13.py\n"
     ]
    }
   ],
   "source": [
    "%%writefile test/test_hw07_13.py\n",
    "\n",
    "from solution_7_13 import find_words_with_length\n",
    "import unittest\n",
    "\n",
    "class TestFindWordsWithLength(unittest.TestCase):\n",
    "    def test_find_words_with_length(self):\n",
    "        # Test case 1\n",
    "        sentence = \"Python is amazing and fun! I enjoy coding in Python every day.\"\n",
    "        target_length = 5\n",
    "        expected_result = ['enjoy', 'every']\n",
    "        self.assertEqual(find_words_with_length(sentence, target_length), expected_result)\n",
    "\n",
    "        # Test case 2\n",
    "        sentence = \"Find the words that have exactly four characters.\"\n",
    "        target_length = 4\n",
    "        expected_result = ['Find', 'that', 'have', 'four']\n",
    "        self.assertEqual(find_words_with_length(sentence, target_length), expected_result)\n",
    "\n",
    "        # Test case 3\n",
    "        sentence = \"The quick brown fox jumps over the lazy dog.\"\n",
    "        target_length = 3\n",
    "        expected_result = ['The', 'fox', 'the', 'dog']\n",
    "        self.assertEqual(find_words_with_length(sentence, target_length), expected_result)\n",
    "\n",
    "        # Test case 4\n",
    "        sentence = \"I love programming, it's a passion!\"\n",
    "        target_length = 7\n",
    "        expected_result = ['passion']\n",
    "        self.assertEqual(find_words_with_length(sentence, target_length), expected_result)\n",
    "\n",
    "        # Test case 5\n",
    "        sentence = \"Cats, dogs, and birds are common pets.\"\n",
    "        target_length = 4\n",
    "        expected_result = ['Cats', 'dogs', 'pets']\n",
    "        self.assertEqual(find_words_with_length(sentence, target_length), expected_result)"
   ]
  },
  {
   "cell_type": "code",
   "execution_count": null,
   "metadata": {},
   "outputs": [],
   "source": []
  },
  {
   "cell_type": "markdown",
   "metadata": {},
   "source": [
    "### 7.14 Find words in a text start and end with specific letters\n",
    "\n",
    "Problem:\n",
    "\n",
    "You are given a sentence and two letters - a starting letter and an ending letter. Implement the following function `find_words_start_end()`: \n",
    "\n",
    "This function takes three parameters - a sentence (string), a start letter (string), and an end letter (string). \n",
    "\n",
    "It should:\n",
    "\n",
    "- Find all words in the sentence that start with a specified start letter and end with a specified end letter.\n",
    "\n",
    "- Perform the search in a case-insensitive manner.\n",
    "\n",
    "- Return the list of words that match the criteria.\n",
    "\n",
    "Hint:\n",
    "\n",
    "- Use `re.findall()` with a regex pattern that includes the start and end letters as variables."
   ]
  },
  {
   "cell_type": "code",
   "execution_count": 67,
   "metadata": {},
   "outputs": [],
   "source": [
    "import re\n",
    "\n",
    "def find_words_start_end(sentence, start_letter, end_letter):\n",
    "    \n",
    "    # Write your code here\n",
    "\n",
    "    # Define the regex pattern to match words that start and end with the specified letters\n",
    "    pattern = rf\"\\b{start_letter}\\w*{end_letter}\\b\"\n",
    "    # Use re.findall() to find all matching words, case-insensitive\n",
    "    return re.findall(pattern, sentence, flags=re.IGNORECASE)\n"
   ]
  },
  {
   "cell_type": "markdown",
   "metadata": {},
   "source": [
    "#### Example usage:"
   ]
  },
  {
   "cell_type": "code",
   "execution_count": 68,
   "metadata": {},
   "outputs": [
    {
     "name": "stdout",
     "output_type": "stream",
     "text": [
      "['silently', 'swiftly']\n"
     ]
    }
   ],
   "source": [
    "# Example sentence, start letter, and end letter\n",
    "sentence = \"Snakes slither silently in the shadows and swiftly strike.\"\n",
    "start_letter = \"s\"\n",
    "end_letter = \"y\"\n",
    "\n",
    "# Apply the function\n",
    "matching_words = find_words_start_end(sentence, start_letter, end_letter)\n",
    "print(matching_words)"
   ]
  },
  {
   "cell_type": "markdown",
   "metadata": {},
   "source": [
    "#### Save your solution to a file ..."
   ]
  },
  {
   "cell_type": "code",
   "execution_count": 69,
   "metadata": {},
   "outputs": [
    {
     "name": "stdout",
     "output_type": "stream",
     "text": [
      "Overwriting solution_7_14.py\n"
     ]
    }
   ],
   "source": [
    "%%writefile solution_7_14.py\n",
    "\n",
    "import re\n",
    "\n",
    "def find_words_start_end(sentence, start_letter, end_letter):\n",
    "    # Define the regex pattern to match words that start and end with the specified letters\n",
    "    pattern = rf\"\\b{start_letter}\\w*{end_letter}\\b\"\n",
    "    # Use re.findall() to find all matching words, case-insensitive\n",
    "    return re.findall(pattern, sentence, flags=re.IGNORECASE)"
   ]
  },
  {
   "cell_type": "markdown",
   "metadata": {},
   "source": [
    "#### Test 7.14 Execute the cell below to test your solution..."
   ]
  },
  {
   "cell_type": "code",
   "execution_count": 70,
   "metadata": {},
   "outputs": [
    {
     "name": "stdout",
     "output_type": "stream",
     "text": [
      "\u001b[1m============================= test session starts ==============================\u001b[0m\n",
      "platform linux -- Python 3.8.6, pytest-6.2.2, py-1.10.0, pluggy-0.13.1\n",
      "rootdir: /home/mjack6/IFI8410_class/IFI8410F24/IFI8410-Development/Fall2024/HW07\n",
      "plugins: anyio-4.2.0\n",
      "collected 1 item                                                               \u001b[0m\n",
      "\n",
      "test/test_hw07_14.py \u001b[32m.\u001b[0m\u001b[32m                                                   [100%]\u001b[0m\n",
      "\n",
      "\u001b[32m============================== \u001b[32m\u001b[1m1 passed\u001b[0m\u001b[32m in 0.03s\u001b[0m\u001b[32m ===============================\u001b[0m\n",
      "Testing completed.\n"
     ]
    }
   ],
   "source": [
    "! test/run_test.sh 14"
   ]
  },
  {
   "cell_type": "code",
   "execution_count": 71,
   "metadata": {},
   "outputs": [
    {
     "name": "stdout",
     "output_type": "stream",
     "text": [
      "Overwriting test/test_hw07_14.py\n"
     ]
    }
   ],
   "source": [
    "%%writefile test/test_hw07_14.py\n",
    "\n",
    "from solution_7_14 import find_words_start_end\n",
    "import unittest\n",
    "\n",
    "class TestFindWordsStartEnd(unittest.TestCase):\n",
    "    def test_find_words_start_end(self):\n",
    "        # Test case 1\n",
    "        sentence = \"Snakes slither silently in the shadows and swiftly strike.\"\n",
    "        start_letter = \"s\"\n",
    "        end_letter = \"y\"\n",
    "        expected_result = ['silently', 'swiftly']\n",
    "        self.assertEqual(find_words_start_end(sentence, start_letter, end_letter), expected_result)\n",
    "\n",
    "        # Test case 2\n",
    "        sentence = \"Apples and apricots are amazing fruits that taste great.\"\n",
    "        start_letter = \"a\"\n",
    "        end_letter = \"s\"\n",
    "        expected_result = ['Apples', 'apricots']\n",
    "        self.assertEqual(find_words_start_end(sentence, start_letter, end_letter), expected_result)\n",
    "\n",
    "        # Test case 3\n",
    "        sentence = \"The yellow cat sat on the windowsill all day.\"\n",
    "        start_letter = \"c\"\n",
    "        end_letter = \"t\"\n",
    "        expected_result = ['cat']\n",
    "        self.assertEqual(find_words_start_end(sentence, start_letter, end_letter), expected_result)\n",
    "\n",
    "        # Test case 4\n",
    "        sentence = \"Dancing daisies dazzle in the daylight.\"\n",
    "        start_letter = \"d\"\n",
    "        end_letter = \"e\"\n",
    "        expected_result = ['dazzle']\n",
    "        self.assertEqual(find_words_start_end(sentence, start_letter, end_letter), expected_result)\n",
    "\n",
    "        # Test case 5\n",
    "        sentence = \"He hurried hastily home, holding his hat.\"\n",
    "        start_letter = \"h\"\n",
    "        end_letter = \"y\"\n",
    "        expected_result = ['hastily']\n",
    "        self.assertEqual(find_words_start_end(sentence, start_letter, end_letter), expected_result)"
   ]
  },
  {
   "cell_type": "code",
   "execution_count": null,
   "metadata": {},
   "outputs": [],
   "source": []
  },
  {
   "cell_type": "markdown",
   "metadata": {},
   "source": [
    "### 7.15 Transform a text file\n",
    "\n",
    "Problem:\n",
    "\n",
    "You are given a text file (**RE_Text.txt**) containing a paragraph about regular expressions. \n",
    "\n",
    "Implement the following function `transform_text()`:\n",
    "\n",
    "This function takes the file path (string) as input, reads the text from the file, and applies the following transformations:\n",
    "\n",
    "- Replace all occurrences of the substring \"regex\" with \"regular expressions\".\n",
    "\n",
    "- Find and return words of a specific length, storing them in a list.\n",
    "\n",
    "- Find and return words that start with one letter and end with another, storing them in another list.\n",
    "\n",
    "The function should return the modified text (as a string) and the two lists as a tuple.\n",
    "\n",
    "Additionally, the function should take extra parameters for:\n",
    "\n",
    "- The word length for finding specific-length words.\n",
    "\n",
    "- The start and end letters for the letter-based search."
   ]
  },
  {
   "cell_type": "code",
   "execution_count": 72,
   "metadata": {},
   "outputs": [],
   "source": [
    "import re\n",
    "\n",
    "def transform_text(file_path, word_length, start_letter, end_letter):\n",
    "  \n",
    "    # Write your code here\n",
    "\n",
    "    # Read the RTF file and extract plain text\n",
    "    with open(file_path, 'r') as file:\n",
    "        text = file.read()\n",
    "    # text = rtf_to_text(rtf_content)\n",
    "\n",
    "    # Replace all occurrences of \"regex\" with \"regular expressions\"\n",
    "    modified_text = re.sub(r\"\\bregex\\b\", \"regular expressions\", text, flags=re.IGNORECASE)\n",
    "\n",
    "    # Find all words of a specific length\n",
    "    length_pattern = rf\"\\b\\w{{{word_length}}}\\b\"\n",
    "    length_words = re.findall(length_pattern, modified_text)\n",
    "\n",
    "    # Find all words that start with the start_letter and end with the end_letter\n",
    "    start_end_pattern = rf\"\\b{start_letter}\\w*{end_letter}\\b\"\n",
    "    start_end_words = re.findall(start_end_pattern, modified_text, flags=re.IGNORECASE)\n",
    "\n",
    "    # Return the modified text, length_words list, and start_end_words list\n",
    "    return modified_text, length_words, start_end_words\n"
   ]
  },
  {
   "cell_type": "markdown",
   "metadata": {},
   "source": [
    "#### Example usage:"
   ]
  },
  {
   "cell_type": "code",
   "execution_count": 73,
   "metadata": {},
   "outputs": [
    {
     "name": "stdout",
     "output_type": "stream",
     "text": [
      "Modified Text: \"Regular expressions are a powerful tool used for pattern matching in strings. They are commonly used in text processing tasks such as searching, replacing, or splitting text based on specific patterns. With regular expressions, you can extract phone numbers, emails, or URLs from a body of text, or clean up messy data by removing unwanted characters. Mastering regular expressions can significantly improve your ability to manipulate and analyze textual data efficiently.\"\n",
      "Words of specific length: ['tasks', 'based', 'phone', 'clean', 'messy']\n",
      "Words that start with 'r' and end with 's': []\n"
     ]
    }
   ],
   "source": [
    "# Example usage after modifying the function\n",
    "file_path = \"/data/IFI8410/sess07/RE_Text.txt\"\n",
    "word_length = 5\n",
    "start_letter = \"r\"\n",
    "end_letter = \"s\"\n",
    "\n",
    "# Apply the function\n",
    "modified_text, length_words, start_end_words = transform_text(file_path, word_length, start_letter, end_letter)\n",
    "\n",
    "# Display results\n",
    "print(\"Modified Text:\", modified_text)\n",
    "print(\"Words of specific length:\", length_words)\n",
    "print(\"Words that start with 'r' and end with 's':\", start_end_words)"
   ]
  },
  {
   "cell_type": "markdown",
   "metadata": {},
   "source": [
    "#### Save your solution to a file ..."
   ]
  },
  {
   "cell_type": "code",
   "execution_count": 74,
   "metadata": {},
   "outputs": [
    {
     "name": "stdout",
     "output_type": "stream",
     "text": [
      "Overwriting solution_7_15.py\n"
     ]
    }
   ],
   "source": [
    "%%writefile solution_7_15.py\n",
    "\n",
    "import re\n",
    "\n",
    "def transform_text(file_path, word_length, start_letter, end_letter):\n",
    "\n",
    "    # Read the RTF file and extract plain text\n",
    "    with open(file_path, 'r') as file:\n",
    "        text = file.read()\n",
    "\n",
    "    # Replace all occurrences of \"regex\" with \"regular expressions\"\n",
    "    modified_text = re.sub(r\"\\bregex\\b\", \"regular expressions\", text, flags=re.IGNORECASE)\n",
    "\n",
    "    # Find all words of a specific length\n",
    "    length_pattern = rf\"\\b\\w{{{word_length}}}\\b\"\n",
    "    length_words = re.findall(length_pattern, modified_text)\n",
    "\n",
    "    # Find all words that start with the start_letter and end with the end_letter\n",
    "    start_end_pattern = rf\"\\b{start_letter}\\w*{end_letter}\\b\"\n",
    "    start_end_words = re.findall(start_end_pattern, modified_text, flags=re.IGNORECASE)\n",
    "\n",
    "    # Return the modified text, length_words list, and start_end_words list\n",
    "    return modified_text, length_words, start_end_words"
   ]
  },
  {
   "cell_type": "markdown",
   "metadata": {},
   "source": [
    "#### Test 7.15 Execute the cell below to test your solution..."
   ]
  },
  {
   "cell_type": "code",
   "execution_count": 75,
   "metadata": {},
   "outputs": [
    {
     "name": "stdout",
     "output_type": "stream",
     "text": [
      "\u001b[1m============================= test session starts ==============================\u001b[0m\n",
      "platform linux -- Python 3.8.6, pytest-6.2.2, py-1.10.0, pluggy-0.13.1\n",
      "rootdir: /home/mjack6/IFI8410_class/IFI8410F24/IFI8410-Development/Fall2024/HW07\n",
      "plugins: anyio-4.2.0\n",
      "collected 1 item                                                               \u001b[0m\n",
      "\n",
      "test/test_hw07_15.py \u001b[32m.\u001b[0m\u001b[32m                                                   [100%]\u001b[0m\n",
      "\n",
      "\u001b[32m============================== \u001b[32m\u001b[1m1 passed\u001b[0m\u001b[32m in 0.03s\u001b[0m\u001b[32m ===============================\u001b[0m\n",
      "Testing completed.\n"
     ]
    }
   ],
   "source": [
    "! test/run_test.sh 15"
   ]
  },
  {
   "cell_type": "code",
   "execution_count": 76,
   "metadata": {},
   "outputs": [
    {
     "name": "stdout",
     "output_type": "stream",
     "text": [
      "Overwriting test/test_hw07_15.py\n"
     ]
    }
   ],
   "source": [
    "%%writefile test/test_hw07_15.py\n",
    "\n",
    "from solution_7_15 import transform_text\n",
    "\n",
    "import unittest\n",
    "import re\n",
    "\n",
    "class TestTransformText(unittest.TestCase):\n",
    "\n",
    "    def setUp(self):\n",
    "        self.file_path = \"/data/IFI8410/sess07/RE_Text.txt\"\n",
    "\n",
    "    def test_transform_text(self):\n",
    "        word_length = 5\n",
    "        start_letter = \"r\"\n",
    "        end_letter = \"s\"\n",
    "\n",
    "        # Apply the function\n",
    "        modified_text, length_words, start_end_words = transform_text(self.file_path, word_length, start_letter, end_letter)\n",
    "\n",
    "        print(modified_text)\n",
    "        \n",
    "        # Expected modified text after extracting from the RTF file and performing transformations\n",
    "        expected_text = '\\\"Regular expressions are a powerful tool used for pattern matching in strings. They are commonly used in text processing tasks such as searching, replacing, or splitting text based on specific patterns. With regular expressions, you can extract phone numbers, emails, or URLs from a body of text, or clean up messy data by removing unwanted characters. Mastering regular expressions can significantly improve your ability to manipulate and analyze textual data efficiently.\\\"'\n",
    "\n",
    "        print(expected_text)\n",
    "        \n",
    "        # Check if the modification is correct\n",
    "        self.assertEqual(modified_text, expected_text)\n",
    "\n",
    "        # Expected words of specific length\n",
    "        expected_length_words = ['tasks', 'based', 'phone', 'clean', 'messy']\n",
    "        self.assertEqual(length_words, expected_length_words)\n",
    "\n",
    "        # Expected words that start with 'r' and end with 's'\n",
    "        expected_start_end_words = []  # Example doesn't contain any such words\n",
    "        self.assertEqual(start_end_words, expected_start_end_words)\n"
   ]
  },
  {
   "cell_type": "code",
   "execution_count": null,
   "metadata": {},
   "outputs": [],
   "source": []
  },
  {
   "cell_type": "markdown",
   "metadata": {},
   "source": [
    "### 7.16 Find the first word in a textr that follows a specific pattern\n",
    "\n",
    "Problem:\n",
    "\n",
    "Define a function `find_word_with_pattern()` that uses `re.search()` to find the first occurrence of a word in a sentence that starts with a specific letter and ends with another letter.\n",
    "\n",
    "This function takes the following parameters:\n",
    "\n",
    "- A sentence (string)\n",
    "\n",
    "- A start_letter (string)\n",
    "\n",
    "- An end_letter (string)\n",
    "\n",
    "It should return the first word that starts with the specified **start_letter** and ends with the specified **end_letter**. If no such word is found, it should return None.\n",
    "\n",
    "Hint:\n",
    "\n",
    "- Use `re.findall()` to find all matching words.\n",
    "- Dynamically generate the regex pattern using the start and end letters.\n",
    "- If multiple matches are found, return the longest match using the max() function."
   ]
  },
  {
   "cell_type": "code",
   "execution_count": 77,
   "metadata": {},
   "outputs": [],
   "source": [
    "import re\n",
    "\n",
    "def find_word_with_pattern(sentence, start_letter, end_letter):\n",
    "    \n",
    "    # Write your code here\n",
    "    \n",
    "    # Create the regex pattern dynamically based on input\n",
    "    pattern = rf\"\\b{start_letter}\\w*{end_letter}\\b\"\n",
    "\n",
    "    # Use re.findall to find all matching words\n",
    "    matches = re.findall(pattern, sentence, re.IGNORECASE)\n",
    "\n",
    "    # Return the longest match if multiple matches are found, or return None if no match\n",
    "    return max(matches, key=len) if matches else None"
   ]
  },
  {
   "cell_type": "markdown",
   "metadata": {},
   "source": [
    "#### Example usage:"
   ]
  },
  {
   "cell_type": "code",
   "execution_count": 78,
   "metadata": {},
   "outputs": [],
   "source": [
    "# Example usage:\n",
    "sentence = \"Rabbits are running fast and reach their goals.\"\n",
    "start_letter = \"r\"\n",
    "end_letter = \"s\"\n",
    "\n",
    "result = find_word_with_pattern(sentence, start_letter, end_letter)"
   ]
  },
  {
   "cell_type": "code",
   "execution_count": 79,
   "metadata": {},
   "outputs": [
    {
     "name": "stdout",
     "output_type": "stream",
     "text": [
      "Rabbits\n",
      "programming\n",
      "None\n",
      "roses\n"
     ]
    }
   ],
   "source": [
    "# Example usage block for students:\n",
    "\n",
    "# Example 1: Simple case where the word starts with 'r' and ends with 's'\n",
    "sentence = \"Rabbits are running fast and reach their goals.\"\n",
    "start_letter = \"r\"\n",
    "end_letter = \"s\"\n",
    "print(find_word_with_pattern(sentence, start_letter, end_letter))  # Expected output: \"Rabbits\"\n",
    "\n",
    "# Example 2: Case where multiple words match but only the longest should be returned\n",
    "sentence = \"I love programming in python.\"\n",
    "start_letter = \"p\"\n",
    "end_letter = \"g\"\n",
    "print(find_word_with_pattern(sentence, start_letter, end_letter))  # Expected output: \"programming\"\n",
    "\n",
    "# Example 3: Case where no match is found\n",
    "sentence = \"There are no such words here.\"\n",
    "start_letter = \"x\"\n",
    "end_letter = \"z\"\n",
    "print(find_word_with_pattern(sentence, start_letter, end_letter))  # Expected output: None\n",
    "\n",
    "# Example 4: Case insensitivity check\n",
    "sentence = \"Red roses bloom every spring.\"\n",
    "start_letter = \"r\"\n",
    "end_letter = \"s\"\n",
    "print(find_word_with_pattern(sentence, start_letter, end_letter))  # Expected output: \"roses\""
   ]
  },
  {
   "cell_type": "markdown",
   "metadata": {},
   "source": [
    "#### Save your solution to a file ..."
   ]
  },
  {
   "cell_type": "code",
   "execution_count": 80,
   "metadata": {},
   "outputs": [
    {
     "name": "stdout",
     "output_type": "stream",
     "text": [
      "Overwriting solution_7_16.py\n"
     ]
    }
   ],
   "source": [
    "%%writefile solution_7_16.py\n",
    "\n",
    "import re\n",
    "\n",
    "def find_word_with_pattern(sentence, start_letter, end_letter):\n",
    "    # Create the regex pattern dynamically based on input\n",
    "    pattern = rf\"\\b{start_letter}\\w*{end_letter}\\b\"\n",
    "\n",
    "    # Use re.findall to find all matching words\n",
    "    matches = re.findall(pattern, sentence, re.IGNORECASE)\n",
    "\n",
    "    # Return the longest match if multiple matches are found, or return None if no match\n",
    "    return max(matches, key=len) if matches else None"
   ]
  },
  {
   "cell_type": "markdown",
   "metadata": {},
   "source": [
    "#### Test 7.16 Execute the cell below to test your solution..."
   ]
  },
  {
   "cell_type": "code",
   "execution_count": 81,
   "metadata": {},
   "outputs": [
    {
     "name": "stdout",
     "output_type": "stream",
     "text": [
      "\u001b[1m============================= test session starts ==============================\u001b[0m\n",
      "platform linux -- Python 3.8.6, pytest-6.2.2, py-1.10.0, pluggy-0.13.1\n",
      "rootdir: /home/mjack6/IFI8410_class/IFI8410F24/IFI8410-Development/Fall2024/HW07\n",
      "plugins: anyio-4.2.0\n",
      "collected 1 item                                                               \u001b[0m\n",
      "\n",
      "test/test_hw07_16.py \u001b[32m.\u001b[0m\u001b[32m                                                   [100%]\u001b[0m\n",
      "\n",
      "\u001b[32m============================== \u001b[32m\u001b[1m1 passed\u001b[0m\u001b[32m in 0.03s\u001b[0m\u001b[32m ===============================\u001b[0m\n",
      "Testing completed.\n"
     ]
    }
   ],
   "source": [
    "! test/run_test.sh 16"
   ]
  },
  {
   "cell_type": "code",
   "execution_count": 82,
   "metadata": {},
   "outputs": [
    {
     "name": "stdout",
     "output_type": "stream",
     "text": [
      "Overwriting test/test_hw07_16.py\n"
     ]
    }
   ],
   "source": [
    "%%writefile test/test_hw07_16.py\n",
    "\n",
    "import unittest\n",
    "from solution_7_16 import find_word_with_pattern\n",
    "\n",
    "class TestFindWordWithPattern(unittest.TestCase):\n",
    "\n",
    "    def test_find_word_with_pattern(self):\n",
    "        # Test case 1: Word starts with 'r' and ends with 's'\n",
    "        sentence = \"Rabbits are running fast and reach their goals.\"\n",
    "        start_letter = \"r\"\n",
    "        end_letter = \"s\"\n",
    "        result = find_word_with_pattern(sentence, start_letter, end_letter)\n",
    "        self.assertEqual(result, \"Rabbits\")  # Expected word is 'Rabbits'\n",
    "\n",
    "        # Test case 2: Multiple matches, but the longest should be returned\n",
    "        sentence = \"I love programming in Python.\"\n",
    "        start_letter = \"p\"\n",
    "        end_letter = \"g\"\n",
    "        result = find_word_with_pattern(sentence, start_letter, end_letter)\n",
    "        self.assertEqual(result, \"programming\")  # Expected word is 'programming'\n",
    "\n",
    "        # Test case 3: No word starts with 'x' and ends with 'z'\n",
    "        sentence = \"There are no such words here.\"\n",
    "        start_letter = \"x\"\n",
    "        end_letter = \"z\"\n",
    "        result = find_word_with_pattern(sentence, start_letter, end_letter)\n",
    "        self.assertIsNone(result)  # Expected result is None (no match)\n",
    "\n",
    "        # Test case 4: Case insensitivity check\n",
    "        sentence = \"Red roses bloom every spring.\"\n",
    "        start_letter = \"r\"\n",
    "        end_letter = \"s\"\n",
    "        result = find_word_with_pattern(sentence, start_letter, end_letter)\n",
    "        self.assertEqual(result, \"roses\")  # Expected word is 'roses'"
   ]
  },
  {
   "cell_type": "code",
   "execution_count": null,
   "metadata": {},
   "outputs": [],
   "source": []
  },
  {
   "cell_type": "markdown",
   "metadata": {},
   "source": [
    "### 7.17 Check whether a sentence starts with a specific word\n",
    "\n",
    "Problem:\n",
    "\n",
    "Use `re.match()` to check if a sentence starts with a certain word.\n",
    "\n",
    "The user-defined function `check_start_word()` shall take the following input variables:\n",
    "\n",
    "- A sentence (string)\n",
    "\n",
    "- A word (string)\n",
    "\n",
    "It should return **True** if the sentence starts with the given word, otherwise return **False**.\n",
    "\n",
    "Hint:\n",
    "\n",
    "- Use `re.match()` to check if the word appears at the start of the sentence.\n",
    "\n",
    "- Create a regex pattern that matches the word at the beginning of the sentence using the ^ symbol.\n"
   ]
  },
  {
   "cell_type": "code",
   "execution_count": 83,
   "metadata": {},
   "outputs": [],
   "source": [
    "import re\n",
    "\n",
    "def check_start_word(sentence, word):\n",
    "    \n",
    "    # Write your code here\n",
    "\n",
    "    # Create a pattern that matches the word at the beginning of the string\n",
    "    pattern = rf\"^{word}\"\n",
    "\n",
    "    # Use re.match to check if the sentence starts with the word\n",
    "    match = re.match(pattern, sentence, re.IGNORECASE)\n",
    "\n",
    "    # Return True if a match is found, else False\n",
    "    return bool(match)"
   ]
  },
  {
   "cell_type": "markdown",
   "metadata": {},
   "source": [
    "#### Example usage:"
   ]
  },
  {
   "cell_type": "code",
   "execution_count": 84,
   "metadata": {},
   "outputs": [],
   "source": [
    "# Example usage:\n",
    "sentence = \"Python is a great language.\"\n",
    "word = \"Python\"\n",
    "\n",
    "result = check_start_word(sentence, word)"
   ]
  },
  {
   "cell_type": "code",
   "execution_count": 85,
   "metadata": {},
   "outputs": [
    {
     "name": "stdout",
     "output_type": "stream",
     "text": [
      "True\n",
      "False\n",
      "True\n"
     ]
    }
   ],
   "source": [
    "# Test case 1\n",
    "sentence = \"Python is a great language.\"\n",
    "word = \"Python\"\n",
    "result = check_start_word(sentence, word)\n",
    "print(result)  # Expected Output: True\n",
    "\n",
    "# Test case 2\n",
    "sentence = \"Java is widely used.\"\n",
    "word = \"Python\"\n",
    "result = check_start_word(sentence, word)\n",
    "print(result)  # Expected Output: False\n",
    "\n",
    "# Test case 3\n",
    "sentence = \"JavaScript frameworks are popular.\"\n",
    "word = \"javascript\"\n",
    "result = check_start_word(sentence, word)\n",
    "print(result)  # Expected Output: True (case-insensitive)"
   ]
  },
  {
   "cell_type": "markdown",
   "metadata": {},
   "source": [
    "#### Save your solution to a file ..."
   ]
  },
  {
   "cell_type": "code",
   "execution_count": 86,
   "metadata": {},
   "outputs": [
    {
     "name": "stdout",
     "output_type": "stream",
     "text": [
      "Overwriting solution_7_17.py\n"
     ]
    }
   ],
   "source": [
    "%%writefile solution_7_17.py\n",
    "\n",
    "import re\n",
    "\n",
    "def check_start_word(sentence, word):\n",
    "    # Create a pattern that matches the word at the beginning of the string\n",
    "    pattern = rf\"^{word}\"\n",
    "\n",
    "    # Use re.match to check if the sentence starts with the word\n",
    "    match = re.match(pattern, sentence, re.IGNORECASE)\n",
    "\n",
    "    # Return True if a match is found, else False\n",
    "    return bool(match)"
   ]
  },
  {
   "cell_type": "markdown",
   "metadata": {},
   "source": [
    "#### Test 7.17 Execute the cell below to test your solution..."
   ]
  },
  {
   "cell_type": "code",
   "execution_count": 87,
   "metadata": {},
   "outputs": [
    {
     "name": "stdout",
     "output_type": "stream",
     "text": [
      "\u001b[1m============================= test session starts ==============================\u001b[0m\n",
      "platform linux -- Python 3.8.6, pytest-6.2.2, py-1.10.0, pluggy-0.13.1\n",
      "rootdir: /home/mjack6/IFI8410_class/IFI8410F24/IFI8410-Development/Fall2024/HW07\n",
      "plugins: anyio-4.2.0\n",
      "collected 1 item                                                               \u001b[0m\n",
      "\n",
      "test/test_hw07_17.py \u001b[32m.\u001b[0m\u001b[32m                                                   [100%]\u001b[0m\n",
      "\n",
      "\u001b[32m============================== \u001b[32m\u001b[1m1 passed\u001b[0m\u001b[32m in 0.03s\u001b[0m\u001b[32m ===============================\u001b[0m\n",
      "Testing completed.\n"
     ]
    }
   ],
   "source": [
    "! test/run_test.sh 17"
   ]
  },
  {
   "cell_type": "code",
   "execution_count": 88,
   "metadata": {},
   "outputs": [
    {
     "name": "stdout",
     "output_type": "stream",
     "text": [
      "Overwriting test/test_hw07_17.py\n"
     ]
    }
   ],
   "source": [
    "%%writefile test/test_hw07_17.py\n",
    "\n",
    "import unittest\n",
    "from solution_7_17 import check_start_word\n",
    "\n",
    "class TestCheckStartWord(unittest.TestCase):\n",
    "\n",
    "    def test_check_start_word(self):\n",
    "        # Test case 1: Sentence starts with 'Python'\n",
    "        sentence = \"Python is a great language.\"\n",
    "        word = \"Python\"\n",
    "        result = check_start_word(sentence, word)\n",
    "        self.assertTrue(result)  # Expected output: True\n",
    "\n",
    "        # Test case 2: Sentence does not start with 'Python'\n",
    "        sentence = \"Java is widely used.\"\n",
    "        word = \"Python\"\n",
    "        result = check_start_word(sentence, word)\n",
    "        self.assertFalse(result)  # Expected output: False\n",
    "\n",
    "        # Test case 3: Case insensitivity check\n",
    "        sentence = \"JavaScript frameworks are popular.\"\n",
    "        word = \"javascript\"\n",
    "        result = check_start_word(sentence, word)\n",
    "        self.assertTrue(result)  # Expected output: True\n",
    "\n",
    "        # Test case 4: Empty string check\n",
    "        sentence = \"\"\n",
    "        word = \"Python\"\n",
    "        result = check_start_word(sentence, word)\n",
    "        self.assertFalse(result)  # Expected output: False"
   ]
  },
  {
   "cell_type": "code",
   "execution_count": null,
   "metadata": {},
   "outputs": [],
   "source": []
  },
  {
   "cell_type": "markdown",
   "metadata": {},
   "source": [
    "### 7.18 Extract emails from a text\n",
    "\n",
    "Problem:\n",
    "\n",
    "Use `re.compile()` to compile a regular expression pattern that matches email addresses.\n",
    "\n",
    "The function `extract_emails()` shall take the following parameter:\n",
    "\n",
    "- A list of strings (containing potential email addresses)\n",
    "\n",
    "- It should return a list of all valid email addresses using the compiled regular expression pattern.\n",
    "\n",
    "Hint:\n",
    "\n",
    "- Use `re.compile()` to compile a regex pattern for matching email addresses.\n",
    "\n",
    "- Iterate through the list of strings and apply `findall()` to extract all matches.\n",
    "\n",
    "- Ensure the pattern allows for common email formats, including letters, numbers, dots, and hyphens.\n",
    "\n",
    "- Consult the recent lecture notebooks in class to construct the regex pattern."
   ]
  },
  {
   "cell_type": "code",
   "execution_count": 89,
   "metadata": {},
   "outputs": [],
   "source": [
    "import re\n",
    "\n",
    "def extract_emails(strings):\n",
    "    \n",
    "    # Write your code here\n",
    "    \n",
    "    # Compile the regular expression pattern for matching email addresses\n",
    "    # Adjusted to be more robust with domain extensions\n",
    "    email_pattern = re.compile(r'[a-zA-Z0-9_.+-]+@[a-zA-Z0-9-]+\\.[a-zA-Z]+(?:\\.[a-zA-Z]+)*')\n",
    "\n",
    "    # List to hold valid email addresses\n",
    "    valid_emails = []\n",
    "\n",
    "    # Iterate over the list of strings\n",
    "    for string in strings:\n",
    "        # Use the compiled pattern to find all email addresses\n",
    "        matches = email_pattern.findall(string)\n",
    "        valid_emails.extend(matches)  # Add all found emails to the list\n",
    "\n",
    "    return valid_emails"
   ]
  },
  {
   "cell_type": "markdown",
   "metadata": {},
   "source": [
    "#### Example usage:"
   ]
  },
  {
   "cell_type": "code",
   "execution_count": 90,
   "metadata": {},
   "outputs": [
    {
     "name": "stdout",
     "output_type": "stream",
     "text": [
      "['support@example.com', 'info@mydomain.org', 'feedback@company.net']\n"
     ]
    }
   ],
   "source": [
    "# Example usage:\n",
    "strings = [\n",
    "    \"Contact us at support@example.com\",\n",
    "    \"This is not an email address\",\n",
    "    \"Send your queries to info@mydomain.org or feedback@company.net\",\n",
    "    \"random_text_with_no_email\"\n",
    "]\n",
    "\n",
    "result = extract_emails(strings)\n",
    "print(result)  # Output: ['support@example.com', 'info@mydomain.org', 'feedback@company.net']"
   ]
  },
  {
   "cell_type": "code",
   "execution_count": 91,
   "metadata": {},
   "outputs": [
    {
     "name": "stdout",
     "output_type": "stream",
     "text": [
      "['support@example.com', 'info@mydomain.org', 'feedback@company.net']\n",
      "['valid_email@domain.com']\n",
      "['test@domain.co.uk']\n"
     ]
    }
   ],
   "source": [
    "# Test case 1\n",
    "strings = [\n",
    "    \"Contact us at support@example.com\",\n",
    "    \"This is not an email address\",\n",
    "    \"Send your queries to info@mydomain.org or feedback@company.net\",\n",
    "    \"random_text_with_no_email\"\n",
    "]\n",
    "result = extract_emails(strings)\n",
    "print(result)  # Expected Output: ['support@example.com', 'info@mydomain.org', 'feedback@company.net']\n",
    "\n",
    "# Test case 2\n",
    "strings = [\"noemails@here\", \"randomstring\", \"valid_email@domain.com\"]\n",
    "result = extract_emails(strings)\n",
    "print(result)  # Expected Output: ['valid_email@domain.com']\n",
    "\n",
    "# Test case 3\n",
    "strings = [\"not_an_email@domain\", \"test@domain.co.uk\"]\n",
    "result = extract_emails(strings)\n",
    "print(result)  # Expected Output: ['test@domain.co.uk']"
   ]
  },
  {
   "cell_type": "markdown",
   "metadata": {},
   "source": [
    "#### Save your solution to a file ..."
   ]
  },
  {
   "cell_type": "code",
   "execution_count": 92,
   "metadata": {},
   "outputs": [
    {
     "name": "stdout",
     "output_type": "stream",
     "text": [
      "Overwriting solution_7_18.py\n"
     ]
    }
   ],
   "source": [
    "%%writefile solution_7_18.py\n",
    "\n",
    "import re\n",
    "\n",
    "def extract_emails(strings):\n",
    "    # Compile the regular expression pattern for matching email addresses\n",
    "    # Adjusted to be more robust with domain extensions\n",
    "    email_pattern = re.compile(r'[a-zA-Z0-9_.+-]+@[a-zA-Z0-9-]+\\.[a-zA-Z]+(?:\\.[a-zA-Z]+)*')\n",
    "\n",
    "    # List to hold valid email addresses\n",
    "    valid_emails = []\n",
    "\n",
    "    # Iterate over the list of strings\n",
    "    for string in strings:\n",
    "        # Use the compiled pattern to find all email addresses\n",
    "        matches = email_pattern.findall(string)\n",
    "        valid_emails.extend(matches)  # Add all found emails to the list\n",
    "\n",
    "    return valid_emails\n"
   ]
  },
  {
   "cell_type": "code",
   "execution_count": null,
   "metadata": {},
   "outputs": [],
   "source": []
  },
  {
   "cell_type": "markdown",
   "metadata": {},
   "source": [
    "#### Test 7.18 Execute the cell below to test your solution..."
   ]
  },
  {
   "cell_type": "code",
   "execution_count": 93,
   "metadata": {},
   "outputs": [
    {
     "name": "stdout",
     "output_type": "stream",
     "text": [
      "\u001b[1m============================= test session starts ==============================\u001b[0m\n",
      "platform linux -- Python 3.8.6, pytest-6.2.2, py-1.10.0, pluggy-0.13.1\n",
      "rootdir: /home/mjack6/IFI8410_class/IFI8410F24/IFI8410-Development/Fall2024/HW07\n",
      "plugins: anyio-4.2.0\n",
      "collected 1 item                                                               \u001b[0m\n",
      "\n",
      "test/test_hw07_18.py \u001b[32m.\u001b[0m\u001b[32m                                                   [100%]\u001b[0m\n",
      "\n",
      "\u001b[32m============================== \u001b[32m\u001b[1m1 passed\u001b[0m\u001b[32m in 0.03s\u001b[0m\u001b[32m ===============================\u001b[0m\n",
      "Testing completed.\n"
     ]
    }
   ],
   "source": [
    "! test/run_test.sh 18"
   ]
  },
  {
   "cell_type": "code",
   "execution_count": 94,
   "metadata": {},
   "outputs": [
    {
     "name": "stdout",
     "output_type": "stream",
     "text": [
      "Overwriting test/test_hw07_18.py\n"
     ]
    }
   ],
   "source": [
    "%%writefile test/test_hw07_18.py\n",
    "\n",
    "import unittest\n",
    "from solution_7_18 import extract_emails\n",
    "\n",
    "class TestExtractEmails(unittest.TestCase):\n",
    "\n",
    "    def test_extract_emails(self):\n",
    "        # Test case 1: Multiple valid email addresses\n",
    "        strings = [\n",
    "            \"Contact us at support@example.com\",\n",
    "            \"This is not an email address\",\n",
    "            \"Send your queries to info@mydomain.org or feedback@company.net\",\n",
    "            \"random_text_with_no_email\"\n",
    "        ]\n",
    "        result = extract_emails(strings)\n",
    "        expected = ['support@example.com', 'info@mydomain.org', 'feedback@company.net']\n",
    "        self.assertEqual(result, expected)\n",
    "\n",
    "        # Test case 2: Single valid email address\n",
    "        strings = [\"noemails@here\", \"randomstring\", \"valid_email@domain.com\"]\n",
    "        result = extract_emails(strings)\n",
    "        expected = ['valid_email@domain.com']\n",
    "        self.assertEqual(result, expected)\n",
    "\n",
    "        # Test case 3: Handling complex email formats\n",
    "        strings = [\"not_an_email@domain\", \"test@domain.co.uk\"]\n",
    "        result = extract_emails(strings)\n",
    "        expected = ['test@domain.co.uk']\n",
    "        self.assertEqual(result, expected)\n",
    "\n",
    "        # Test case 4: No valid emails\n",
    "        strings = [\"no valid emails here\", \"another invalid string\"]\n",
    "        result = extract_emails(strings)\n",
    "        expected = []\n",
    "        self.assertEqual(result, expected)"
   ]
  },
  {
   "cell_type": "code",
   "execution_count": null,
   "metadata": {},
   "outputs": [],
   "source": []
  },
  {
   "cell_type": "markdown",
   "metadata": {},
   "source": [
    "### 7.19 Match strings that begin with a specific sequence of characters followed by any two digits\n",
    "\n",
    "Problem:\n",
    "\n",
    "Write a function `match_sequence_at_start` that matches strings that begin with a specific sequence of characters followed by any two digits.\n",
    "\n",
    "This function takes the following parameters:\n",
    "\n",
    "- A list of strings (strings to be matched)\n",
    "\n",
    "- A start_sequence (specific sequence of characters)\n",
    "\n",
    "It should return a list of strings that match the pattern, where the pattern starts with the given sequence and is followed by exactly two digits (\\d\\d).\n",
    "\n",
    "Hint:\n",
    "\n",
    "- Use `re.compile()` to compile a regex pattern starting with the given sequence followed by two digits.\n",
    "\n",
    "- Use `^` to anchor the match to the start of the string.\n",
    "\n",
    "- Iterate through the list and use `match()` to check each string against the compiled pattern."
   ]
  },
  {
   "cell_type": "code",
   "execution_count": 95,
   "metadata": {},
   "outputs": [],
   "source": [
    "import re\n",
    "\n",
    "def match_sequence_at_start(strings, start_sequence):\n",
    "    \n",
    "    # Write yuor code here\n",
    "\n",
    "    # Compile the regex pattern to match exactly two digits after the start sequence\n",
    "    pattern = re.compile(rf\"^{start_sequence}\\d{{2}}$\")\n",
    "\n",
    "    # List to hold the matched strings\n",
    "    matched_strings = []\n",
    "\n",
    "    # Iterate over the list of strings and match the pattern\n",
    "    for string in strings:\n",
    "        if pattern.match(string):\n",
    "            matched_strings.append(string)\n",
    "\n",
    "    return matched_strings\n"
   ]
  },
  {
   "cell_type": "markdown",
   "metadata": {},
   "source": [
    "#### Example usage:"
   ]
  },
  {
   "cell_type": "code",
   "execution_count": 96,
   "metadata": {},
   "outputs": [],
   "source": [
    "# Example usage:\n",
    "strings = [\"AB12\", \"XY34\", \"AB56\", \"A123\", \"AB78\", \"XY90\"]\n",
    "start_sequence = \"AB\"\n",
    "\n",
    "result = match_sequence_at_start(strings, start_sequence)"
   ]
  },
  {
   "cell_type": "code",
   "execution_count": 97,
   "metadata": {},
   "outputs": [
    {
     "name": "stdout",
     "output_type": "stream",
     "text": [
      "['AB12', 'AB56', 'AB78']\n",
      "['XY12', 'XY34', 'XY56', 'XY90']\n",
      "['AB12']\n"
     ]
    }
   ],
   "source": [
    "# Test case 1\n",
    "strings = [\"AB12\", \"XY34\", \"AB56\", \"A123\", \"AB78\", \"XY90\"]\n",
    "start_sequence = \"AB\"\n",
    "result = match_sequence_at_start(strings, start_sequence)\n",
    "print(result)  # Expected Output: ['AB12', 'AB56', 'AB78']\n",
    "\n",
    "# Test case 2\n",
    "strings = [\"XY12\", \"XY34\", \"XY56\", \"AB78\", \"XY90\"]\n",
    "start_sequence = \"XY\"\n",
    "result = match_sequence_at_start(strings, start_sequence)\n",
    "print(result)  # Expected Output: ['XY12', 'XY34', 'XY56', 'XY90']\n",
    "\n",
    "# Test case 3\n",
    "strings = [\"AB12\", \"AB1234\", \"XYZ78\", \"XY45\"]\n",
    "start_sequence = \"AB\"\n",
    "result = match_sequence_at_start(strings, start_sequence)\n",
    "print(result)  # Expected Output: ['AB12']"
   ]
  },
  {
   "cell_type": "markdown",
   "metadata": {},
   "source": [
    "#### Save your solution to a file ..."
   ]
  },
  {
   "cell_type": "code",
   "execution_count": 98,
   "metadata": {},
   "outputs": [
    {
     "name": "stdout",
     "output_type": "stream",
     "text": [
      "Overwriting solution_7_19.py\n"
     ]
    }
   ],
   "source": [
    "%%writefile solution_7_19.py\n",
    "\n",
    "import re\n",
    "\n",
    "def match_sequence_at_start(strings, start_sequence):\n",
    "    # Compile the regex pattern to match exactly two digits after the start sequence\n",
    "    pattern = re.compile(rf\"^{start_sequence}\\d{{2}}$\")\n",
    "\n",
    "    # List to hold the matched strings\n",
    "    matched_strings = []\n",
    "\n",
    "    # Iterate over the list of strings and match the pattern\n",
    "    for string in strings:\n",
    "        if pattern.match(string):\n",
    "            matched_strings.append(string)\n",
    "\n",
    "    return matched_strings"
   ]
  },
  {
   "cell_type": "markdown",
   "metadata": {},
   "source": [
    "#### Test 7.19 Execute the cell below to test your solution..."
   ]
  },
  {
   "cell_type": "code",
   "execution_count": 99,
   "metadata": {},
   "outputs": [
    {
     "name": "stdout",
     "output_type": "stream",
     "text": [
      "\u001b[1m============================= test session starts ==============================\u001b[0m\n",
      "platform linux -- Python 3.8.6, pytest-6.2.2, py-1.10.0, pluggy-0.13.1\n",
      "rootdir: /home/mjack6/IFI8410_class/IFI8410F24/IFI8410-Development/Fall2024/HW07\n",
      "plugins: anyio-4.2.0\n",
      "collected 1 item                                                               \u001b[0m\n",
      "\n",
      "test/test_hw07_19.py \u001b[32m.\u001b[0m\u001b[32m                                                   [100%]\u001b[0m\n",
      "\n",
      "\u001b[32m============================== \u001b[32m\u001b[1m1 passed\u001b[0m\u001b[32m in 0.03s\u001b[0m\u001b[32m ===============================\u001b[0m\n",
      "Testing completed.\n"
     ]
    }
   ],
   "source": [
    "! test/run_test.sh 19"
   ]
  },
  {
   "cell_type": "code",
   "execution_count": 100,
   "metadata": {},
   "outputs": [
    {
     "name": "stdout",
     "output_type": "stream",
     "text": [
      "Overwriting test/test_hw07_19.py\n"
     ]
    }
   ],
   "source": [
    "%%writefile test/test_hw07_19.py\n",
    "\n",
    "import unittest\n",
    "from solution_7_19 import match_sequence_at_start\n",
    "\n",
    "class TestMatchSequenceAtStart(unittest.TestCase):\n",
    "\n",
    "    def test_match_sequence_at_start(self):\n",
    "        # Test case 1: Matches start with \"AB\" followed by two digits\n",
    "        strings = [\"AB12\", \"XY34\", \"AB56\", \"A123\", \"AB78\", \"XY90\"]\n",
    "        start_sequence = \"AB\"\n",
    "        result = match_sequence_at_start(strings, start_sequence)\n",
    "        expected = ['AB12', 'AB56', 'AB78']\n",
    "        self.assertEqual(result, expected)\n",
    "\n",
    "        # Test case 2: Matches start with \"XY\" followed by two digits\n",
    "        strings = [\"XY12\", \"XY34\", \"XY56\", \"AB78\", \"XY90\"]\n",
    "        start_sequence = \"XY\"\n",
    "        result = match_sequence_at_start(strings, start_sequence)\n",
    "        expected = ['XY12', 'XY34', 'XY56', 'XY90']\n",
    "        self.assertEqual(result, expected)\n",
    "\n",
    "        # Test case 3: No match for strings without two digits after the sequence\n",
    "        strings = [\"AB12\", \"AB1234\", \"XYZ78\", \"XY45\"]\n",
    "        start_sequence = \"AB\"\n",
    "        result = match_sequence_at_start(strings, start_sequence)\n",
    "        expected = ['AB12']\n",
    "        self.assertEqual(result, expected)\n",
    "\n",
    "        # Test case 4: Case insensitive check\n",
    "        strings = [\"ab12\", \"AB34\", \"Ab56\", \"A123\", \"AB78\", \"XY90\"]\n",
    "        start_sequence = \"AB\"\n",
    "        result = match_sequence_at_start(strings, start_sequence)\n",
    "        expected = ['AB34', 'AB78']\n",
    "        self.assertEqual(result, expected)"
   ]
  },
  {
   "cell_type": "code",
   "execution_count": null,
   "metadata": {},
   "outputs": [],
   "source": []
  },
  {
   "cell_type": "markdown",
   "metadata": {},
   "source": [
    "### 7.20 Match strings that end with a specific sequence of characters followed by any two digits\n",
    "\n",
    "\n",
    "Problem:\n",
    "\n",
    "Write a function `match_sequence_at_end` that matches strings that end with a specific sequence of characters followed by any two digits.\n",
    "\n",
    "This function takes the following parameters:\n",
    "\n",
    "- A list of strings (strings to be matched)\n",
    "\n",
    "- An end_sequence (specific sequence of characters)\n",
    "\n",
    "It should return a list of strings that match the pattern, where the pattern ends with the given sequence and is preceded by exactly two digits (\\d\\d).\n",
    "\n",
    "Hint:\n",
    "\n",
    "- Use `re.compile()` to create a regex pattern that ends with the given sequence, preceded by two digits.\n",
    "\n",
    "- Use `$` to anchor the match to the end of the string.\n",
    "\n",
    "- Iterate through the list and use search() to check each string against the compiled pattern."
   ]
  },
  {
   "cell_type": "code",
   "execution_count": 101,
   "metadata": {},
   "outputs": [],
   "source": [
    "import re\n",
    "\n",
    "def match_sequence_at_end(strings, end_sequence):\n",
    "    \n",
    "    # Write your code here\n",
    "\n",
    "    # Compile the regex pattern to match exactly two digits followed by the end sequence at the end of the string\n",
    "    pattern = re.compile(rf\"(?<!\\d)\\d{{2}}{end_sequence}$\")\n",
    "\n",
    "    # List to hold the matched strings\n",
    "    matched_strings = []\n",
    "\n",
    "    # Iterate over the list of strings and match the pattern\n",
    "    for string in strings:\n",
    "        if pattern.search(string):\n",
    "            matched_strings.append(string)\n",
    "\n",
    "    return matched_strings"
   ]
  },
  {
   "cell_type": "markdown",
   "metadata": {},
   "source": [
    "#### Example usage:"
   ]
  },
  {
   "cell_type": "code",
   "execution_count": 102,
   "metadata": {},
   "outputs": [],
   "source": [
    "# Example usage:\n",
    "strings = [\"12AB\", \"34XY\", \"56AB\", \"123A\", \"78AB\", \"90XY\"]\n",
    "end_sequence = \"AB\"\n",
    "\n",
    "result = match_sequence_at_end(strings, end_sequence)"
   ]
  },
  {
   "cell_type": "code",
   "execution_count": 103,
   "metadata": {},
   "outputs": [
    {
     "name": "stdout",
     "output_type": "stream",
     "text": [
      "['12AB', '56AB', '78AB']\n",
      "['12XY', '34XY', '56XY', '78XY', '90XY']\n",
      "[]\n"
     ]
    }
   ],
   "source": [
    "# Test case 1\n",
    "strings = [\"12AB\", \"34XY\", \"56AB\", \"123A\", \"78AB\", \"90XY\"]\n",
    "end_sequence = \"AB\"\n",
    "result = match_sequence_at_end(strings, end_sequence)\n",
    "print(result)  # Expected Output: ['12AB', '56AB', '78AB']\n",
    "\n",
    "# Test case 2\n",
    "strings = [\"12XY\", \"34XY\", \"56XY\", \"12AB\", \"78XY\", \"90XY\"]\n",
    "end_sequence = \"XY\"\n",
    "result = match_sequence_at_end(strings, end_sequence)\n",
    "print(result)  # Expected Output: ['12XY', '34XY', '56XY', '78XY', '90XY']\n",
    "\n",
    "# Test case 3\n",
    "strings = [\"AB12\", \"12XY34\", \"XY56AB\", \"AB78\"]\n",
    "end_sequence = \"XY56\"\n",
    "result = match_sequence_at_end(strings, end_sequence)\n",
    "print(result)  # Expected Output: ['56AB']"
   ]
  },
  {
   "cell_type": "markdown",
   "metadata": {},
   "source": [
    "#### Save your solution to a file ..."
   ]
  },
  {
   "cell_type": "code",
   "execution_count": 104,
   "metadata": {},
   "outputs": [
    {
     "name": "stdout",
     "output_type": "stream",
     "text": [
      "Overwriting solution_7_20.py\n"
     ]
    }
   ],
   "source": [
    "%%writefile solution_7_20.py\n",
    "\n",
    "import re\n",
    "\n",
    "def match_sequence_at_end(strings, end_sequence):\n",
    "    # Compile the regex pattern to match exactly two digits followed by the end sequence at the end of the string\n",
    "    pattern = re.compile(rf\"(?<!\\d)\\d{{2}}{end_sequence}$\")\n",
    "\n",
    "    # List to hold the matched strings\n",
    "    matched_strings = []\n",
    "\n",
    "    # Iterate over the list of strings and match the pattern\n",
    "    for string in strings:\n",
    "        if pattern.search(string):\n",
    "            matched_strings.append(string)\n",
    "\n",
    "    return matched_strings"
   ]
  },
  {
   "cell_type": "markdown",
   "metadata": {},
   "source": [
    "#### Test 7.20 Execute the cell below to test your solution..."
   ]
  },
  {
   "cell_type": "code",
   "execution_count": 105,
   "metadata": {},
   "outputs": [
    {
     "name": "stdout",
     "output_type": "stream",
     "text": [
      "\u001b[1m============================= test session starts ==============================\u001b[0m\n",
      "platform linux -- Python 3.8.6, pytest-6.2.2, py-1.10.0, pluggy-0.13.1\n",
      "rootdir: /home/mjack6/IFI8410_class/IFI8410F24/IFI8410-Development/Fall2024/HW07\n",
      "plugins: anyio-4.2.0\n",
      "collected 1 item                                                               \u001b[0m\n",
      "\n",
      "test/test_hw07_20.py \u001b[32m.\u001b[0m\u001b[32m                                                   [100%]\u001b[0m\n",
      "\n",
      "\u001b[32m============================== \u001b[32m\u001b[1m1 passed\u001b[0m\u001b[32m in 0.03s\u001b[0m\u001b[32m ===============================\u001b[0m\n",
      "Testing completed.\n"
     ]
    }
   ],
   "source": [
    "! test/run_test.sh 20"
   ]
  },
  {
   "cell_type": "code",
   "execution_count": 106,
   "metadata": {},
   "outputs": [
    {
     "name": "stdout",
     "output_type": "stream",
     "text": [
      "Overwriting test/test_hw07_20.py\n"
     ]
    }
   ],
   "source": [
    "%%writefile test/test_hw07_20.py\n",
    "\n",
    "import unittest\n",
    "from solution_7_20 import match_sequence_at_end\n",
    "\n",
    "class TestMatchSequenceAtEnd(unittest.TestCase):\n",
    "\n",
    "    def test_match_sequence_at_end(self):\n",
    "        # Test case 1: Matches end with \"AB\" preceded by two digits\n",
    "        strings = [\"12AB\", \"34XY\", \"56AB\", \"123A\", \"78AB\", \"90XY\"]\n",
    "        end_sequence = \"AB\"\n",
    "        result = match_sequence_at_end(strings, end_sequence)\n",
    "        expected = ['12AB', '56AB', '78AB']\n",
    "        self.assertEqual(result, expected)\n",
    "\n",
    "        # Test case 2: Matches end with \"XY\" preceded by two digits\n",
    "        strings = [\"12XY\", \"34XY\", \"56XY\", \"12AB\", \"78XY\", \"90XY\"]\n",
    "        end_sequence = \"XY\"\n",
    "        result = match_sequence_at_end(strings, end_sequence)\n",
    "        expected = ['12XY', '34XY', '56XY', '78XY', '90XY']\n",
    "        self.assertEqual(result, expected)\n",
    "\n",
    "        # Test case 3: No match for strings without two digits before the sequence\n",
    "        strings = [\"AB12\", \"12XY34\", \"XY56AB\", \"AB78\"]\n",
    "        end_sequence = \"AB\"\n",
    "        result = match_sequence_at_end(strings, end_sequence)\n",
    "        expected = ['XY56AB']\n",
    "        self.assertEqual(result, expected)\n",
    "\n",
    "        # Test case 4: No valid matches\n",
    "        strings = [\"randomString\", \"anotherTest\"]\n",
    "        end_sequence = \"AB\"\n",
    "        result = match_sequence_at_end(strings, end_sequence)\n",
    "        expected = []\n",
    "        self.assertEqual(result, expected)"
   ]
  },
  {
   "cell_type": "code",
   "execution_count": null,
   "metadata": {},
   "outputs": [],
   "source": []
  },
  {
   "cell_type": "markdown",
   "metadata": {},
   "source": [
    "# Run all the tests again ..."
   ]
  },
  {
   "cell_type": "code",
   "execution_count": 107,
   "metadata": {},
   "outputs": [
    {
     "name": "stdout",
     "output_type": "stream",
     "text": [
      "\u001b[1m============================= test session starts ==============================\u001b[0m\n",
      "platform linux -- Python 3.8.6, pytest-6.2.2, py-1.10.0, pluggy-0.13.1\n",
      "rootdir: /home/mjack6/IFI8410_class/IFI8410F24/IFI8410-Development/Fall2024/HW07\n",
      "plugins: anyio-4.2.0\n",
      "collected 1 item                                                               \u001b[0m\n",
      "\n",
      "test/test_hw07_01.py \u001b[32m.\u001b[0m\u001b[32m                                                   [100%]\u001b[0m\n",
      "\n",
      "\u001b[32m============================== \u001b[32m\u001b[1m1 passed\u001b[0m\u001b[32m in 0.45s\u001b[0m\u001b[32m ===============================\u001b[0m\n",
      "\u001b[1m============================= test session starts ==============================\u001b[0m\n",
      "platform linux -- Python 3.8.6, pytest-6.2.2, py-1.10.0, pluggy-0.13.1\n",
      "rootdir: /home/mjack6/IFI8410_class/IFI8410F24/IFI8410-Development/Fall2024/HW07\n",
      "plugins: anyio-4.2.0\n",
      "collected 1 item                                                               \u001b[0m\n",
      "\n",
      "test/test_hw07_02.py \u001b[32m.\u001b[0m\u001b[32m                                                   [100%]\u001b[0m\n",
      "\n",
      "\u001b[32m============================== \u001b[32m\u001b[1m1 passed\u001b[0m\u001b[32m in 0.44s\u001b[0m\u001b[32m ===============================\u001b[0m\n",
      "\u001b[1m============================= test session starts ==============================\u001b[0m\n",
      "platform linux -- Python 3.8.6, pytest-6.2.2, py-1.10.0, pluggy-0.13.1\n",
      "rootdir: /home/mjack6/IFI8410_class/IFI8410F24/IFI8410-Development/Fall2024/HW07\n",
      "plugins: anyio-4.2.0\n",
      "collected 1 item                                                               \u001b[0m\n",
      "\n",
      "test/test_hw07_03.py \u001b[32m.\u001b[0m\u001b[32m                                                   [100%]\u001b[0m\n",
      "\n",
      "\u001b[32m============================== \u001b[32m\u001b[1m1 passed\u001b[0m\u001b[32m in 0.43s\u001b[0m\u001b[32m ===============================\u001b[0m\n",
      "\u001b[1m============================= test session starts ==============================\u001b[0m\n",
      "platform linux -- Python 3.8.6, pytest-6.2.2, py-1.10.0, pluggy-0.13.1\n",
      "rootdir: /home/mjack6/IFI8410_class/IFI8410F24/IFI8410-Development/Fall2024/HW07\n",
      "plugins: anyio-4.2.0\n",
      "collected 1 item                                                               \u001b[0m\n",
      "\n",
      "test/test_hw07_04.py \u001b[32m.\u001b[0m\u001b[32m                                                   [100%]\u001b[0m\n",
      "\n",
      "\u001b[32m============================== \u001b[32m\u001b[1m1 passed\u001b[0m\u001b[32m in 0.45s\u001b[0m\u001b[32m ===============================\u001b[0m\n",
      "\u001b[1m============================= test session starts ==============================\u001b[0m\n",
      "platform linux -- Python 3.8.6, pytest-6.2.2, py-1.10.0, pluggy-0.13.1\n",
      "rootdir: /home/mjack6/IFI8410_class/IFI8410F24/IFI8410-Development/Fall2024/HW07\n",
      "plugins: anyio-4.2.0\n",
      "collected 1 item                                                               \u001b[0m\n",
      "\n",
      "test/test_hw07_05.py \u001b[32m.\u001b[0m\u001b[32m                                                   [100%]\u001b[0m\n",
      "\n",
      "\u001b[32m============================== \u001b[32m\u001b[1m1 passed\u001b[0m\u001b[32m in 0.41s\u001b[0m\u001b[32m ===============================\u001b[0m\n",
      "\u001b[1m============================= test session starts ==============================\u001b[0m\n",
      "platform linux -- Python 3.8.6, pytest-6.2.2, py-1.10.0, pluggy-0.13.1\n",
      "rootdir: /home/mjack6/IFI8410_class/IFI8410F24/IFI8410-Development/Fall2024/HW07\n",
      "plugins: anyio-4.2.0\n",
      "collected 1 item                                                               \u001b[0m\n",
      "\n",
      "test/test_hw07_06.py \u001b[32m.\u001b[0m\u001b[32m                                                   [100%]\u001b[0m\n",
      "\n",
      "\u001b[32m============================== \u001b[32m\u001b[1m1 passed\u001b[0m\u001b[32m in 0.41s\u001b[0m\u001b[32m ===============================\u001b[0m\n",
      "\u001b[1m============================= test session starts ==============================\u001b[0m\n",
      "platform linux -- Python 3.8.6, pytest-6.2.2, py-1.10.0, pluggy-0.13.1\n",
      "rootdir: /home/mjack6/IFI8410_class/IFI8410F24/IFI8410-Development/Fall2024/HW07\n",
      "plugins: anyio-4.2.0\n",
      "collected 1 item                                                               \u001b[0m\n",
      "\n",
      "test/test_hw07_07.py \u001b[32m.\u001b[0m\u001b[32m                                                   [100%]\u001b[0m\n",
      "\n",
      "\u001b[32m============================== \u001b[32m\u001b[1m1 passed\u001b[0m\u001b[32m in 0.42s\u001b[0m\u001b[32m ===============================\u001b[0m\n",
      "\u001b[1m============================= test session starts ==============================\u001b[0m\n",
      "platform linux -- Python 3.8.6, pytest-6.2.2, py-1.10.0, pluggy-0.13.1\n",
      "rootdir: /home/mjack6/IFI8410_class/IFI8410F24/IFI8410-Development/Fall2024/HW07\n",
      "plugins: anyio-4.2.0\n",
      "collected 1 item                                                               \u001b[0m\n",
      "\n",
      "test/test_hw07_08.py \u001b[32m.\u001b[0m\u001b[32m                                                   [100%]\u001b[0m\n",
      "\n",
      "\u001b[32m============================== \u001b[32m\u001b[1m1 passed\u001b[0m\u001b[32m in 0.40s\u001b[0m\u001b[32m ===============================\u001b[0m\n",
      "\u001b[1m============================= test session starts ==============================\u001b[0m\n",
      "platform linux -- Python 3.8.6, pytest-6.2.2, py-1.10.0, pluggy-0.13.1\n",
      "rootdir: /home/mjack6/IFI8410_class/IFI8410F24/IFI8410-Development/Fall2024/HW07\n",
      "plugins: anyio-4.2.0\n",
      "collected 1 item                                                               \u001b[0m\n",
      "\n",
      "test/test_hw07_09.py \u001b[32m.\u001b[0m\u001b[32m                                                   [100%]\u001b[0m\n",
      "\n",
      "\u001b[32m============================== \u001b[32m\u001b[1m1 passed\u001b[0m\u001b[32m in 0.44s\u001b[0m\u001b[32m ===============================\u001b[0m\n",
      "\u001b[1m============================= test session starts ==============================\u001b[0m\n",
      "platform linux -- Python 3.8.6, pytest-6.2.2, py-1.10.0, pluggy-0.13.1\n",
      "rootdir: /home/mjack6/IFI8410_class/IFI8410F24/IFI8410-Development/Fall2024/HW07\n",
      "plugins: anyio-4.2.0\n",
      "collected 1 item                                                               \u001b[0m\n",
      "\n",
      "test/test_hw07_10.py \u001b[32m.\u001b[0m\u001b[32m                                                   [100%]\u001b[0m\n",
      "\n",
      "\u001b[32m============================== \u001b[32m\u001b[1m1 passed\u001b[0m\u001b[32m in 0.43s\u001b[0m\u001b[32m ===============================\u001b[0m\n",
      "\u001b[1m============================= test session starts ==============================\u001b[0m\n",
      "platform linux -- Python 3.8.6, pytest-6.2.2, py-1.10.0, pluggy-0.13.1\n",
      "rootdir: /home/mjack6/IFI8410_class/IFI8410F24/IFI8410-Development/Fall2024/HW07\n",
      "plugins: anyio-4.2.0\n",
      "collected 1 item                                                               \u001b[0m\n",
      "\n",
      "test/test_hw07_11.py \u001b[32m.\u001b[0m\u001b[32m                                                   [100%]\u001b[0m\n",
      "\n",
      "\u001b[32m============================== \u001b[32m\u001b[1m1 passed\u001b[0m\u001b[32m in 0.03s\u001b[0m\u001b[32m ===============================\u001b[0m\n",
      "\u001b[1m============================= test session starts ==============================\u001b[0m\n",
      "platform linux -- Python 3.8.6, pytest-6.2.2, py-1.10.0, pluggy-0.13.1\n",
      "rootdir: /home/mjack6/IFI8410_class/IFI8410F24/IFI8410-Development/Fall2024/HW07\n",
      "plugins: anyio-4.2.0\n",
      "collected 1 item                                                               \u001b[0m\n",
      "\n",
      "test/test_hw07_12.py \u001b[32m.\u001b[0m\u001b[32m                                                   [100%]\u001b[0m\n",
      "\n",
      "\u001b[32m============================== \u001b[32m\u001b[1m1 passed\u001b[0m\u001b[32m in 0.03s\u001b[0m\u001b[32m ===============================\u001b[0m\n",
      "\u001b[1m============================= test session starts ==============================\u001b[0m\n",
      "platform linux -- Python 3.8.6, pytest-6.2.2, py-1.10.0, pluggy-0.13.1\n",
      "rootdir: /home/mjack6/IFI8410_class/IFI8410F24/IFI8410-Development/Fall2024/HW07\n",
      "plugins: anyio-4.2.0\n",
      "collected 1 item                                                               \u001b[0m\n",
      "\n",
      "test/test_hw07_13.py \u001b[32m.\u001b[0m\u001b[32m                                                   [100%]\u001b[0m\n",
      "\n",
      "\u001b[32m============================== \u001b[32m\u001b[1m1 passed\u001b[0m\u001b[32m in 0.03s\u001b[0m\u001b[32m ===============================\u001b[0m\n",
      "\u001b[1m============================= test session starts ==============================\u001b[0m\n",
      "platform linux -- Python 3.8.6, pytest-6.2.2, py-1.10.0, pluggy-0.13.1\n",
      "rootdir: /home/mjack6/IFI8410_class/IFI8410F24/IFI8410-Development/Fall2024/HW07\n",
      "plugins: anyio-4.2.0\n",
      "collected 1 item                                                               \u001b[0m\n",
      "\n",
      "test/test_hw07_14.py \u001b[32m.\u001b[0m\u001b[32m                                                   [100%]\u001b[0m\n",
      "\n",
      "\u001b[32m============================== \u001b[32m\u001b[1m1 passed\u001b[0m\u001b[32m in 0.03s\u001b[0m\u001b[32m ===============================\u001b[0m\n",
      "\u001b[1m============================= test session starts ==============================\u001b[0m\n",
      "platform linux -- Python 3.8.6, pytest-6.2.2, py-1.10.0, pluggy-0.13.1\n",
      "rootdir: /home/mjack6/IFI8410_class/IFI8410F24/IFI8410-Development/Fall2024/HW07\n",
      "plugins: anyio-4.2.0\n",
      "collected 1 item                                                               \u001b[0m\n",
      "\n",
      "test/test_hw07_15.py \u001b[32m.\u001b[0m\u001b[32m                                                   [100%]\u001b[0m\n",
      "\n",
      "\u001b[32m============================== \u001b[32m\u001b[1m1 passed\u001b[0m\u001b[32m in 0.03s\u001b[0m\u001b[32m ===============================\u001b[0m\n",
      "\u001b[1m============================= test session starts ==============================\u001b[0m\n",
      "platform linux -- Python 3.8.6, pytest-6.2.2, py-1.10.0, pluggy-0.13.1\n",
      "rootdir: /home/mjack6/IFI8410_class/IFI8410F24/IFI8410-Development/Fall2024/HW07\n",
      "plugins: anyio-4.2.0\n",
      "collected 1 item                                                               \u001b[0m\n",
      "\n",
      "test/test_hw07_16.py \u001b[32m.\u001b[0m\u001b[32m                                                   [100%]\u001b[0m\n",
      "\n",
      "\u001b[32m============================== \u001b[32m\u001b[1m1 passed\u001b[0m\u001b[32m in 0.03s\u001b[0m\u001b[32m ===============================\u001b[0m\n",
      "\u001b[1m============================= test session starts ==============================\u001b[0m\n",
      "platform linux -- Python 3.8.6, pytest-6.2.2, py-1.10.0, pluggy-0.13.1\n",
      "rootdir: /home/mjack6/IFI8410_class/IFI8410F24/IFI8410-Development/Fall2024/HW07\n",
      "plugins: anyio-4.2.0\n",
      "collected 1 item                                                               \u001b[0m\n",
      "\n",
      "test/test_hw07_17.py \u001b[32m.\u001b[0m\u001b[32m                                                   [100%]\u001b[0m\n",
      "\n",
      "\u001b[32m============================== \u001b[32m\u001b[1m1 passed\u001b[0m\u001b[32m in 0.03s\u001b[0m\u001b[32m ===============================\u001b[0m\n",
      "\u001b[1m============================= test session starts ==============================\u001b[0m\n",
      "platform linux -- Python 3.8.6, pytest-6.2.2, py-1.10.0, pluggy-0.13.1\n",
      "rootdir: /home/mjack6/IFI8410_class/IFI8410F24/IFI8410-Development/Fall2024/HW07\n",
      "plugins: anyio-4.2.0\n",
      "collected 1 item                                                               \u001b[0m\n",
      "\n",
      "test/test_hw07_18.py \u001b[32m.\u001b[0m\u001b[32m                                                   [100%]\u001b[0m\n",
      "\n",
      "\u001b[32m============================== \u001b[32m\u001b[1m1 passed\u001b[0m\u001b[32m in 0.03s\u001b[0m\u001b[32m ===============================\u001b[0m\n",
      "\u001b[1m============================= test session starts ==============================\u001b[0m\n",
      "platform linux -- Python 3.8.6, pytest-6.2.2, py-1.10.0, pluggy-0.13.1\n",
      "rootdir: /home/mjack6/IFI8410_class/IFI8410F24/IFI8410-Development/Fall2024/HW07\n",
      "plugins: anyio-4.2.0\n",
      "collected 1 item                                                               \u001b[0m\n",
      "\n",
      "test/test_hw07_19.py \u001b[32m.\u001b[0m\u001b[32m                                                   [100%]\u001b[0m\n",
      "\n",
      "\u001b[32m============================== \u001b[32m\u001b[1m1 passed\u001b[0m\u001b[32m in 0.03s\u001b[0m\u001b[32m ===============================\u001b[0m\n",
      "\u001b[1m============================= test session starts ==============================\u001b[0m\n",
      "platform linux -- Python 3.8.6, pytest-6.2.2, py-1.10.0, pluggy-0.13.1\n",
      "rootdir: /home/mjack6/IFI8410_class/IFI8410F24/IFI8410-Development/Fall2024/HW07\n",
      "plugins: anyio-4.2.0\n",
      "collected 1 item                                                               \u001b[0m\n",
      "\n",
      "test/test_hw07_20.py \u001b[32m.\u001b[0m\u001b[32m                                                   [100%]\u001b[0m\n",
      "\n",
      "\u001b[32m============================== \u001b[32m\u001b[1m1 passed\u001b[0m\u001b[32m in 0.03s\u001b[0m\u001b[32m ===============================\u001b[0m\n",
      "Testing completed.\n"
     ]
    }
   ],
   "source": [
    "! ./test/run_test.sh"
   ]
  },
  {
   "cell_type": "markdown",
   "metadata": {},
   "source": [
    "# Homework Submission\n",
    "- This homework is due by **2024-10-30, 6:00 PM (EDT)**.\n",
    "- Make sure that all your programs and output files are in the exact folder as specified in the instructions.\n",
    "- All file names on this system are case sensitive. Verify if you copy your work from a local computer to your home directory on ARC.\n",
    "- **Execute the cell below to submit your assignment**"
   ]
  },
  {
   "cell_type": "code",
   "execution_count": 108,
   "metadata": {},
   "outputs": [
    {
     "name": "stdout",
     "output_type": "stream",
     "text": [
      "*******************************************\n",
      "*  You are about to submit Homework HW07  *\n",
      "*******************************************\n",
      "\n",
      "Any files that you previously submitted will\n",
      "be overwritten by your current files.\n",
      "\n",
      ".....SUBMIT 'solution_7_1.py'\n",
      ".....SUBMIT 'solution_7_2.py'\n",
      ".....SUBMIT 'solution_7_3.py'\n",
      ".....SUBMIT 'solution_7_4.py'\n",
      ".....SUBMIT 'solution_7_5.py'\n",
      ".....SUBMIT 'solution_7_6.py'\n",
      ".....SUBMIT 'solution_7_7.py'\n",
      ".....SUBMIT 'solution_7_8.py'\n",
      ".....SUBMIT 'solution_7_9.py'\n",
      ".....SUBMIT 'solution_7_10.py'\n",
      ".....SUBMIT 'solution_7_11.py'\n",
      ".....SUBMIT 'solution_7_12.py'\n",
      ".....SUBMIT 'solution_7_13.py'\n",
      ".....SUBMIT 'solution_7_14.py'\n",
      ".....SUBMIT 'solution_7_15.py'\n",
      ".....SUBMIT 'solution_7_16.py'\n",
      ".....SUBMIT 'solution_7_17.py'\n",
      ".....SUBMIT 'solution_7_18.py'\n",
      ".....SUBMIT 'solution_7_19.py'\n",
      ".....SUBMIT 'solution_7_20.py'\n",
      "\n",
      "Submission completed. Check your assignments if you see any files marked as  !!! Missing !!!\n"
     ]
    }
   ],
   "source": [
    "! ./submit.sh -y"
   ]
  },
  {
   "cell_type": "code",
   "execution_count": null,
   "metadata": {},
   "outputs": [],
   "source": []
  },
  {
   "cell_type": "code",
   "execution_count": null,
   "metadata": {},
   "outputs": [],
   "source": []
  }
 ],
 "metadata": {
  "colab": {
   "provenance": []
  },
  "kernelspec": {
   "display_name": "Python 3 (ipykernel)",
   "language": "python",
   "name": "python3"
  },
  "language_info": {
   "codemirror_mode": {
    "name": "ipython",
    "version": 3
   },
   "file_extension": ".py",
   "mimetype": "text/x-python",
   "name": "python",
   "nbconvert_exporter": "python",
   "pygments_lexer": "ipython3",
   "version": "3.8.6"
  }
 },
 "nbformat": 4,
 "nbformat_minor": 4
}
