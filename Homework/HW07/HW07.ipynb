{
 "cells": [
  {
   "cell_type": "markdown",
   "metadata": {},
   "source": [
    "# Homework 7"
   ]
  },
  {
   "cell_type": "markdown",
   "metadata": {},
   "source": [
    "## Data Aggregation and Group Operations\n",
    "\n",
    "Review Chapter [10 Data Aggregation and Group Operations](https://wesmckinney.com/book/data-aggregation)\n",
    "of the [Python book](https://wesmckinney.com/book/).\n",
    "\n",
    "These exercises make use of the following Python packages:\n",
    "- [NumPy](https://numpy.org/doc/stable/)\n",
    "- [pandas](https://pandas.pydata.org/docs/index.html)\n",
    "\n",
    "The following data sources are used:\n",
    "1. `students_data.csv` [ https://www.kaggle.com/datasets/larsen0966/student-performance-data-set]( https://www.kaggle.com/datasets/larsen0966/student-performance-data-set) \n",
    "2. The other datasets used are the inbuilt datasets from scikit learn library"
   ]
  },
  {
   "cell_type": "code",
   "execution_count": null,
   "metadata": {},
   "outputs": [],
   "source": [
    "%reload_ext autoreload\n",
    "%autoreload 2"
   ]
  },
  {
   "cell_type": "code",
   "execution_count": null,
   "metadata": {},
   "outputs": [],
   "source": [
    "import pandas as pd\n",
    "import numpy as np\n",
    "import hashlib\n",
    "import seaborn as sns"
   ]
  },
  {
   "cell_type": "markdown",
   "metadata": {},
   "source": [
    "### 7.1 Groupby\n",
    "\n",
    "Instructions\n",
    "1. Please load the students dataset which is present in the main data folder.\n",
    "2. The directory for this csv file is `/data/IFI8410/homework7/student_data.csv`\n",
    "2. Write a function which loads this csv `student_data.csv` into a dataframe using `pandas.DataFrame` function from the above directory.\n",
    "3. Group the dataframe into groups based on column `sex` and save into new object.\n",
    "4. Return the type of the new object."
   ]
  },
  {
   "cell_type": "code",
   "execution_count": null,
   "metadata": {},
   "outputs": [],
   "source": []
  },
  {
   "cell_type": "markdown",
   "metadata": {},
   "source": [
    "Save your solution to `solution_7_1.py`"
   ]
  },
  {
   "cell_type": "code",
   "execution_count": null,
   "metadata": {},
   "outputs": [],
   "source": [
    "%%writefile solution_7_1.py\n",
    "\n",
    "import pandas as pd\n",
    "\n",
    "def groupby_object():\n",
    "    # Dont change anything above this comment\n",
    "    # Write your code here\n",
    "    \n",
    "    \n",
    "    \n",
    "    \n",
    "    "
   ]
  },
  {
   "cell_type": "code",
   "execution_count": null,
   "metadata": {},
   "outputs": [],
   "source": [
    "# Try your code\n",
    "from solution_7_1 import *\n",
    "groupby_object()"
   ]
  },
  {
   "cell_type": "markdown",
   "metadata": {},
   "source": [
    "### 7.2 Group by single aggregation\n",
    "Instructions\n",
    "1. Load the `student_data.csv` into a pandas dataframe.\n",
    "2. The directory for this csv file is `/data/IFI8410/homework7/student_data.csv`\n",
    "3. Perform groupby on column `Mjob` and method as `size()` (Make sure you have `as_index=False`).\n",
    "4. Sort the values of new dataset using `size` column and ascending.\n",
    "5. Save this new object as a csv file called `student_data_7_2.csv` (Make sure to set the index to `False`)\n",
    "\n",
    "Note: Your final data fram should have 2 columns, [Mjob, size]"
   ]
  },
  {
   "cell_type": "code",
   "execution_count": null,
   "metadata": {},
   "outputs": [],
   "source": [
    "### your code here\n",
    "\n",
    "\n",
    "\n"
   ]
  },
  {
   "cell_type": "code",
   "execution_count": null,
   "metadata": {},
   "outputs": [],
   "source": [
    "# Try your code\n",
    "df = pd.read_csv('student_data_7_2.csv')\n",
    "df"
   ]
  },
  {
   "cell_type": "markdown",
   "metadata": {},
   "source": [
    "### 7.3 Group by with aggregation\n",
    "Instructions\n",
    "1. Load the `student_data.csv` into a pandas dataframe.\n",
    "2. The directory for this csv file is `/data/IFI8410/homework7/student_data.csv`\n",
    "3. Perform groupby on `sex` and select `age` column and store it into a new object.\n",
    "4. Now perform `mean, min, max`aggregated functions together and store it into a new object.\n",
    "5. Save this new object as a csv file called `student_data_7_3.csv` (Make sure to set the index to `True`)\n",
    "\n",
    "Note: Your final data fram should have 4 columns, [sex, mean, min and max] (After loading the saved csv file)"
   ]
  },
  {
   "cell_type": "code",
   "execution_count": null,
   "metadata": {},
   "outputs": [],
   "source": []
  },
  {
   "cell_type": "code",
   "execution_count": null,
   "metadata": {},
   "outputs": [],
   "source": [
    "### your code here\n",
    "\n",
    "\n",
    "\n",
    "\n"
   ]
  },
  {
   "cell_type": "code",
   "execution_count": null,
   "metadata": {},
   "outputs": [],
   "source": [
    "# Try your code\n",
    "df = pd.read_csv('student_data_7_3.csv')\n",
    "df"
   ]
  },
  {
   "cell_type": "markdown",
   "metadata": {},
   "source": [
    "### 7.4 Group by multiple columns with aggregation\n",
    "Instructions\n",
    "1. Load the `student_data.csv` into a pandas dataframe.\n",
    "2. The directory for this csv file is `/data/IFI8410/homework7/student_data.csv`\n",
    "3. Perform groupby on two columns `school` and `sex` (Make sure you have `as_index=False`). Select `age` column and store it into a new object and perform aggreation function as `mean`.\n",
    "5. Save this as a csv file called `student_data_7_4.csv` (Make sure to set the index to `False`)\n",
    "\n",
    "Note: Your final data fram should have 3 columns ['school', 'sex', 'age'] and four rows."
   ]
  },
  {
   "cell_type": "code",
   "execution_count": null,
   "metadata": {},
   "outputs": [],
   "source": []
  },
  {
   "cell_type": "code",
   "execution_count": null,
   "metadata": {},
   "outputs": [],
   "source": [
    "### your code here\n",
    "\n",
    "\n",
    "\n",
    "\n",
    "\n"
   ]
  },
  {
   "cell_type": "code",
   "execution_count": null,
   "metadata": {},
   "outputs": [],
   "source": [
    "# Try your code\n",
    "df = pd.read_csv('student_data_7_4.csv')\n",
    "df"
   ]
  },
  {
   "cell_type": "markdown",
   "metadata": {},
   "source": [
    "### 7.5 Group by multiple aggregations on same column\n",
    "Instructions\n",
    "1. Load the `student_data.csv` into a pandas dataframe.\n",
    "2. The directory for this csv file is `/data/IFI8410/homework7/student_data.csv`\n",
    "3. Perform groupby on `Fjob` (Make sure you have `as_index=False` in  this). Select `absences` column and store it into a new object.\n",
    "4. You need to perform three aggregation on this column including min, max and defining a custom function called `peak_diff`.\n",
    " - The function should return difference betwen max and min value. Look for the example in the reading notes - chapter 10.\n",
    " - Make sure you perform the order of aggregations as follows: `min`, `max`, `peak_diff`\n",
    " - The column names should be `Fjob`, `mins`, `maxs`, `diff`\n",
    "5. Save this as a csv file called `student_data_7_5.csv` (Make sure to set the index to `False`)\n",
    "\n",
    "Note:\n",
    "- There are mutliple ways to perform multiple aggregation on same column.\n",
    "- One syntax for performing multiple aggregation on same column is a little differet. It is as follows\n",
    "- df.groupby('col1').agg(newcol_name = ('col2', function1), newcol_name2 = ('col2', function2))\n",
    "- The functions above can be `np.min`, `np.max`, custom functions, etc."
   ]
  },
  {
   "cell_type": "code",
   "execution_count": null,
   "metadata": {},
   "outputs": [],
   "source": []
  },
  {
   "cell_type": "code",
   "execution_count": null,
   "metadata": {},
   "outputs": [],
   "source": [
    "### your code here\n",
    "\n",
    "\n",
    "\n",
    "\n"
   ]
  },
  {
   "cell_type": "code",
   "execution_count": null,
   "metadata": {},
   "outputs": [],
   "source": [
    "# Try your code\n",
    "df = pd.read_csv('student_data_7_5.csv')\n",
    "df"
   ]
  },
  {
   "cell_type": "markdown",
   "metadata": {},
   "source": [
    "### 7.6 Function with groupby\n",
    "Instructions\n",
    "1. Create a function called `grouping`, which takes 3 arguments [df, n, column]\n",
    "2. The function should groupby the dataframe `df`, using column in the input argument (Make sure you have `as_index=False`). The aggregation function should return the count of unique values in that group. (`nunique`)\n",
    "3. The function should return the above with all the rows and first `n` columns."
   ]
  },
  {
   "cell_type": "code",
   "execution_count": null,
   "metadata": {},
   "outputs": [],
   "source": []
  },
  {
   "cell_type": "markdown",
   "metadata": {},
   "source": [
    "Save your solution to `solution_7_6.py`"
   ]
  },
  {
   "cell_type": "code",
   "execution_count": null,
   "metadata": {},
   "outputs": [],
   "source": [
    "%%writefile solution_7_6.py\n",
    "import pandas as pd\n",
    "\n",
    "def grouping(df, n, column):\n",
    "### your code here\n",
    "    \n",
    "    \n",
    "    \n",
    "    \n",
    "    "
   ]
  },
  {
   "cell_type": "code",
   "execution_count": null,
   "metadata": {},
   "outputs": [],
   "source": [
    "# Try your code\n",
    "from solution_7_6 import *\n",
    "\n",
    "df = pd.read_csv('/data/IFI8410/homework7/student_data.csv')\n",
    "grouping(df, 4, 'age')"
   ]
  },
  {
   "cell_type": "markdown",
   "metadata": {},
   "source": [
    "### 7.7 Weighted Average\n",
    "Instructions\n",
    "1. Load the `student_data.csv` into a pandas dataframe.\n",
    "2. The directory for this csv file is `/data/IFI8410/homework7/student_data.csv`3.\n",
    "3. Groupby column `sex` (Make sure you have as_index=False).\n",
    "4. Calculate the weighted average in the group for `absences` and weights as `health`.\n",
    "5. Save this as a csv file called `student_data_7_7.csv` (Make sure to set the index to `False`)\n",
    "\n",
    "Note: You can create a custom function and apply it on the group. `np.average` can be used to calculate weighted average."
   ]
  },
  {
   "cell_type": "code",
   "execution_count": null,
   "metadata": {},
   "outputs": [],
   "source": []
  },
  {
   "cell_type": "code",
   "execution_count": null,
   "metadata": {},
   "outputs": [],
   "source": [
    "### your code here\n",
    "\n",
    "\n",
    "\n",
    "\n"
   ]
  },
  {
   "cell_type": "code",
   "execution_count": null,
   "metadata": {},
   "outputs": [],
   "source": [
    "# Try your code\n",
    "df = pd.read_csv('student_data_7_7.csv')\n",
    "df"
   ]
  },
  {
   "cell_type": "markdown",
   "metadata": {},
   "source": [
    "### 7.8 Pivot table\n",
    "Instructions\n",
    "1. Load the `student_data.csv` into a pandas dataframe.\n",
    "2. The directory for this csv file is `/data/IFI8410/homework7/student_data.csv`\n",
    "3. Create a pivot table with two index as `[\"school\", \"sex\"]` and values `[\"age\", \"absences\", \"G1\"]`. Use `mean` for aggregation.\n",
    "4. Reset the index of the table.\n",
    "5. Save this as a csv file called `student_data_7_8.csv` (Make sure to set the index to False)"
   ]
  },
  {
   "cell_type": "code",
   "execution_count": null,
   "metadata": {},
   "outputs": [],
   "source": []
  },
  {
   "cell_type": "code",
   "execution_count": null,
   "metadata": {},
   "outputs": [],
   "source": [
    "### your code here\n",
    "\n",
    "\n",
    "\n"
   ]
  },
  {
   "cell_type": "code",
   "execution_count": null,
   "metadata": {},
   "outputs": [],
   "source": [
    "df = pd.read_csv('student_data_7_8.csv')\n",
    "df"
   ]
  },
  {
   "cell_type": "markdown",
   "metadata": {},
   "source": [
    "### 7.9 Crosstab\n",
    "Instructions\n",
    "1. Load the `student_data.csv` into a pandas dataframe.\n",
    "2. The directory for this csv file is `/data/IFI8410/homework7/student_data.csv`\n",
    "3. Compute group frequencies using cross tabulation for columns `school`, `sex`. Make sure you display the total value. (`marrgins`)\n",
    "4. Reset the index of the table.\n",
    "5. Save this as a csv file called `student_data_7_9.csv` (Make sure to set the index to False)"
   ]
  },
  {
   "cell_type": "code",
   "execution_count": null,
   "metadata": {},
   "outputs": [],
   "source": []
  },
  {
   "cell_type": "code",
   "execution_count": null,
   "metadata": {},
   "outputs": [],
   "source": [
    "### your code here\n",
    "\n",
    "\n",
    "\n"
   ]
  },
  {
   "cell_type": "code",
   "execution_count": null,
   "metadata": {},
   "outputs": [],
   "source": [
    "# Try your code\n",
    "df = pd.read_csv('student_data_7_9.csv')\n",
    "df"
   ]
  },
  {
   "cell_type": "markdown",
   "metadata": {},
   "source": [
    "### 7.10 Groupby and list\n",
    "Instructions\n",
    "1. Load the `student_data.csv` into a pandas dataframe.\n",
    "2. The directory for this csv file is `/data/IFI8410/homework7/student_data.csv`\n",
    "3. Groupby the dataframe using `Mjob` (Make sure you have as_index=False) and select the `age` column.\n",
    "4. The agg function should result in a list of unique ages in that particular group.\n",
    "5. Save this as a csv file called `student_data_7_10.csv` (Make sure to set the index to False)\n",
    "\n",
    "Note:\n",
    "- The final dataframe should have two columns. `Mjob` and `age`\n",
    "- You can use `lambda`, `unique`, `to_list`\n",
    "\n",
    "Example of a row in the final dataframe:\n",
    "\n",
    "|Mjob|age|\n",
    "|----|---|\n",
    "|at_home|[18, 17, 15, 16, 19, 20, 21]|\n"
   ]
  },
  {
   "cell_type": "code",
   "execution_count": null,
   "metadata": {},
   "outputs": [],
   "source": []
  },
  {
   "cell_type": "code",
   "execution_count": null,
   "metadata": {},
   "outputs": [],
   "source": [
    "### your code here\n",
    "\n",
    "\n",
    "\n"
   ]
  },
  {
   "cell_type": "code",
   "execution_count": null,
   "metadata": {},
   "outputs": [],
   "source": [
    "# Try your code\n",
    "df = pd.read_csv('student_data_7_10.csv')\n",
    "df"
   ]
  },
  {
   "cell_type": "markdown",
   "metadata": {},
   "source": [
    "### 7.11 Groupby and Median\n",
    "Instructions\n",
    "1. Import `seaborn` as sns\n",
    "2. Use this command `df = sns.load_dataset('penguins')` to load the penguins dataset.\n",
    "3. The goal is to know the median fipper length for every species: Groupby the dataframe using `species` and select the `flipper_length_mm` column. The aggregation function should be the median.\n",
    "4. Save the result as a csv file named `penguins_7_11.csv` (don't set the  index to False when saving)\n",
    "\n",
    "Note:\n",
    "- The final dataframe should have two columns. `species` and `flipper_length_mm`"
   ]
  },
  {
   "cell_type": "code",
   "execution_count": null,
   "metadata": {},
   "outputs": [],
   "source": []
  },
  {
   "cell_type": "code",
   "execution_count": null,
   "metadata": {},
   "outputs": [],
   "source": [
    "import seaborn as sns\n",
    "\n",
    "### your code here\n",
    "\n",
    "\n"
   ]
  },
  {
   "cell_type": "code",
   "execution_count": null,
   "metadata": {},
   "outputs": [],
   "source": [
    "# Try your code\n",
    "df = pd.read_csv('penguins_7_11.csv')\n",
    "df"
   ]
  },
  {
   "cell_type": "markdown",
   "metadata": {},
   "source": [
    "### 7.12 Groupby and Median\n",
    "Instructions\n",
    "1. Load the `penguins` dataset fromseaborn.\n",
    "2. The goal is to know the median fipper length & the maximum body mass for every species. First, Groupby the dataframe using `species`.\n",
    "3. Use the .aggregate() function and pass a dictionary mapping the column names to the operations. The column names are `flipper_length_mm` & `body_mass_g`. `flipper_length_mm` should be mapped to `median` & `body_mass_g` to `max`\n",
    "8. Save the result as a csv file named `penguins_7_12.csv` ( please `reset_index()` before saving & Make sure to set the index to False )\n",
    "\n",
    "Note:\n",
    "- The final dataframe should have three columns. `species`, `flipper_length_mm` & `body_mass_g`"
   ]
  },
  {
   "cell_type": "code",
   "execution_count": null,
   "metadata": {},
   "outputs": [],
   "source": []
  },
  {
   "cell_type": "code",
   "execution_count": null,
   "metadata": {},
   "outputs": [],
   "source": [
    "import seaborn as sns\n",
    "\n",
    "### your code here\n",
    "\n",
    "\n",
    "\n"
   ]
  },
  {
   "cell_type": "code",
   "execution_count": null,
   "metadata": {},
   "outputs": [],
   "source": [
    "# Try your code\n",
    "df = pd.read_csv('penguins_7_12.csv')\n",
    "df"
   ]
  },
  {
   "cell_type": "markdown",
   "metadata": {},
   "source": [
    "### 7.13 Groupby & Transformation using Functions\n",
    "Instructions\n",
    "1. Load the `penguins` dataset provided by seaborn.\n",
    "2. The goal is to center the data arround zero with what is called \"Zero-centering\" . Create a function named `center` that centers the data. It takes `x` as an input, and returns `x` minus its `mean`.\n",
    "3. Groupby the dataframe using `species`.\n",
    "4. use the .transform() function and pass the 'center' function that you created.\n",
    "5. Save the result as a csv file named `penguins_7_13.csv` ( please `reset_index()` before saving & Make sure to set the index to False )\n",
    "\n",
    "Note:\n",
    "- The final dataframe should have four columns. `bill_length_mm`, `bill_depth_mm` & `flipper_length_mm`& `body_mass_g`\n",
    "- The length of the dataframe will not change as the goal is centering the data arround zero"
   ]
  },
  {
   "cell_type": "code",
   "execution_count": null,
   "metadata": {},
   "outputs": [],
   "source": []
  },
  {
   "cell_type": "code",
   "execution_count": null,
   "metadata": {},
   "outputs": [],
   "source": [
    "### your code here\n",
    "\n",
    "\n",
    "\n",
    "\n"
   ]
  },
  {
   "cell_type": "code",
   "execution_count": null,
   "metadata": {},
   "outputs": [],
   "source": [
    "# Try your code\n",
    "import pandas as pd\n",
    "df = pd.read_csv('penguins_7_13.csv')\n",
    "df"
   ]
  },
  {
   "cell_type": "markdown",
   "metadata": {},
   "source": [
    "### 7.14 Groupby Passenger count\n",
    "Instructions\n",
    "1. Load the `flights` dataset provided by seaborn.\n",
    "2. The goal is to find the yearly passenger count. Use .groupby() to find the total number of passengers each year\n",
    "3.  Save this as a csv file called `flights_7_14.csv` ( please `reset_index()` before saving & Make sure to set the index to False )\n",
    "\n",
    "Note:\n",
    "- The final dataframe should have two columns. `year`, `passengers`"
   ]
  },
  {
   "cell_type": "code",
   "execution_count": null,
   "metadata": {},
   "outputs": [],
   "source": []
  },
  {
   "cell_type": "code",
   "execution_count": null,
   "metadata": {},
   "outputs": [],
   "source": [
    "import seaborn as sns\n",
    "\n",
    "### your code here\n",
    "\n",
    "\n",
    "\n",
    "\n"
   ]
  },
  {
   "cell_type": "code",
   "execution_count": null,
   "metadata": {},
   "outputs": [],
   "source": [
    "# Try your code\n",
    "df = pd.read_csv('flights_7_14.csv')\n",
    "df"
   ]
  },
  {
   "cell_type": "markdown",
   "metadata": {},
   "source": [
    "### 7.15 Groupby several functions\n",
    "Instructions\n",
    "1. Load the `flights` dataset provided by seaborn.\n",
    "2. The goal is to find the maximum, mean and minimum count of passengers each month. Use .groupby() to find the statistics of each month using .agg() by passing max ,mean and min.\n",
    "3.  Save this as a csv file called `flights_7_15.csv` ( please `reset_index()` before saving & Make sure to set the index to False )\n",
    "\n",
    "Note:\n",
    "- The final dataframe should have four columns. `month`, `max`, `mean`, `min`"
   ]
  },
  {
   "cell_type": "code",
   "execution_count": null,
   "metadata": {},
   "outputs": [],
   "source": []
  },
  {
   "cell_type": "code",
   "execution_count": null,
   "metadata": {},
   "outputs": [],
   "source": [
    "### your code here\n",
    "\n",
    "\n",
    "\n",
    "\n"
   ]
  },
  {
   "cell_type": "code",
   "execution_count": null,
   "metadata": {},
   "outputs": [],
   "source": [
    "# Try your code\n",
    "df = pd.read_csv('flights_7_15.csv')\n",
    "df"
   ]
  },
  {
   "cell_type": "markdown",
   "metadata": {},
   "source": [
    "### 7.16 Pivot Table\n",
    "Instructions\n",
    "1. Load the `titanic` dataset provided by seaborn.\n",
    "2. The goal is to find the survival rate by class and gender Use .pivot_table() where the index is class, columns is sex & values are survived. Aggregate them using the mean\n",
    "3.  Save this as a csv file called `titanic_7_16.csv` ( don't set the index to False )\n",
    "\n",
    "Note:\n",
    "- The final dataframe should have three columns. `class`, `female`, `male`"
   ]
  },
  {
   "cell_type": "code",
   "execution_count": null,
   "metadata": {},
   "outputs": [],
   "source": []
  },
  {
   "cell_type": "code",
   "execution_count": null,
   "metadata": {},
   "outputs": [],
   "source": [
    "### your code here\n",
    "\n",
    "\n",
    "\n"
   ]
  },
  {
   "cell_type": "code",
   "execution_count": null,
   "metadata": {},
   "outputs": [],
   "source": [
    "# Try your code\n",
    "df = pd.read_csv('titanic_7_16.csv')\n",
    "df"
   ]
  },
  {
   "cell_type": "markdown",
   "metadata": {},
   "source": [
    "### 7.17 Value Counts\n",
    "Instructions\n",
    "1. Load the `titanic` dataset provided by seaborn.\n",
    "2. The goal is to find the number of passenger who survived and did not survive. Use .value_counts() to find the number of passenger who survived and did not survive.\n",
    "3. Save this as a csv file called `titanic_7_17.csv` ( Please set the index to False )\n",
    "\n",
    "Note:\n",
    "- The final dataframe should have one column `survived`"
   ]
  },
  {
   "cell_type": "code",
   "execution_count": null,
   "metadata": {},
   "outputs": [],
   "source": []
  },
  {
   "cell_type": "code",
   "execution_count": null,
   "metadata": {},
   "outputs": [],
   "source": [
    "### your code here\n",
    "\n",
    "\n",
    "\n"
   ]
  },
  {
   "cell_type": "code",
   "execution_count": null,
   "metadata": {},
   "outputs": [],
   "source": [
    "# Try your code\n",
    "df = pd.read_csv('titanic_7_17.csv')\n",
    "df"
   ]
  },
  {
   "cell_type": "markdown",
   "metadata": {},
   "source": [
    "### 7.18 Groupby and Filtering\n",
    "Instructions\n",
    "1. Load the `tips` dataset provided by seaborn.\n",
    "2. The goal is to find the average `tip` amount for `male` and `female` customers during `dinner` service.  First you have to filter your data to include only dinner time.\n",
    "3. Second, use .groupby() to find the mean to amount for male and female.\n",
    "4. Save this as a csv file called `tips_7_18.csv` ( don't set the index to False )\n",
    "\n",
    "Note:\n",
    "- The final dataframe should have two columns `sex` & `tip`"
   ]
  },
  {
   "cell_type": "code",
   "execution_count": null,
   "metadata": {},
   "outputs": [],
   "source": []
  },
  {
   "cell_type": "markdown",
   "metadata": {},
   "source": [
    "Save your solution to `solution_7_18.py`"
   ]
  },
  {
   "cell_type": "code",
   "execution_count": null,
   "metadata": {},
   "outputs": [],
   "source": [
    "### your code here\n",
    "\n",
    "\n",
    "\n"
   ]
  },
  {
   "cell_type": "code",
   "execution_count": null,
   "metadata": {},
   "outputs": [],
   "source": [
    "# Try your code\n",
    "df = pd.read_csv('tips_7_18.csv')\n",
    "df"
   ]
  },
  {
   "cell_type": "markdown",
   "metadata": {},
   "source": [
    "### 7.19 Groupby 2 groups and 2 columns\n",
    "Instructions\n",
    "1. Load the `tips` dataset provided by seaborn.\n",
    "2. The goal is to find the average `tip` & `total_bill` for male each `day` & `time` combination. Use .groupby() to find the mean of tips & total_bill for each combination.\n",
    "4. Save this as a csv file called `tips_7_19.csv` ( don't set the index to False )\n",
    "\n",
    "Note:\n",
    "- The final dataframe should have 4 columns `day`, `time`, `tip`, `total_bill`"
   ]
  },
  {
   "cell_type": "code",
   "execution_count": null,
   "metadata": {},
   "outputs": [],
   "source": []
  },
  {
   "cell_type": "code",
   "execution_count": null,
   "metadata": {},
   "outputs": [],
   "source": [
    "### your code here\n",
    "\n",
    "\n",
    "\n"
   ]
  },
  {
   "cell_type": "code",
   "execution_count": null,
   "metadata": {},
   "outputs": [],
   "source": [
    "# Try your code\n",
    "df = pd.read_csv('tips_7_19.csv')\n",
    "df"
   ]
  },
  {
   "cell_type": "markdown",
   "metadata": {},
   "source": [
    "### 7.20 Groupby and Operations\n",
    "Instructions\n",
    "1. Load the `tips` dataset provided by seaborn.\n",
    "3. The goal is to find the percentage of customers who are smokers and dine on Saturday evenings. You need to filter the data by Saturday & Dinner and then group by smoker to get their counts\n",
    "4. Then Devide that by total number of attendees on a Saturday dinner times a 100 to get it as a percentage.\n",
    "5. Save this as a csv file called `tips_7_20.csv` ( Please set index to False )\n",
    "\n",
    "Note:\n",
    "- The final dataframe should have 1 columns `smoker`"
   ]
  },
  {
   "cell_type": "code",
   "execution_count": null,
   "metadata": {},
   "outputs": [],
   "source": []
  },
  {
   "cell_type": "code",
   "execution_count": null,
   "metadata": {},
   "outputs": [],
   "source": [
    "### your code here\n",
    "\n",
    "\n",
    "\n"
   ]
  },
  {
   "cell_type": "code",
   "execution_count": null,
   "metadata": {},
   "outputs": [],
   "source": [
    "# Try your code\n",
    "df = pd.read_csv('tips_7_20.csv')\n",
    "df"
   ]
  },
  {
   "cell_type": "markdown",
   "metadata": {},
   "source": [
    "### 7.21 Intro to Modeling: Null Values\n",
    "Instructions\n",
    "1. Load the `penguins` dataset provided by seaborn.\n",
    "2. The goal is to prepare our dataset to for modeling. Drop all null values in the dataset.\n",
    "3. Save the result as a csv file named `penguins_7_21.csv` (Please set the index to False )\n"
   ]
  },
  {
   "cell_type": "code",
   "execution_count": null,
   "metadata": {},
   "outputs": [],
   "source": []
  },
  {
   "cell_type": "code",
   "execution_count": null,
   "metadata": {},
   "outputs": [],
   "source": [
    "### your code here\n",
    "\n",
    "\n",
    "\n"
   ]
  },
  {
   "cell_type": "code",
   "execution_count": null,
   "metadata": {},
   "outputs": [],
   "source": [
    "# Try your code\n",
    "df = pd.read_csv('penguins_7_21.csv')\n",
    "df"
   ]
  },
  {
   "cell_type": "markdown",
   "metadata": {},
   "source": [
    "### 7.22 Intro to Modeling:Target Variable\n",
    "Instructions\n",
    "1. Load the the cleaned csv file that you saved in problem 7.21 `penguins_7_21.csv`.\n",
    "2. The goal is to predicit wether a penguin is `Female` or `Male` which makes `sex` our target variable. Encode the target variable as `0` for `Female` and `1` for `Male`. Which means replacing the `Female` by `0` and `Male` by `1` in the `sex` column\n",
    "3. Save this as a csv file called `penguins_7_22.csv` (Please set the index to False )\n"
   ]
  },
  {
   "cell_type": "code",
   "execution_count": null,
   "metadata": {},
   "outputs": [],
   "source": []
  },
  {
   "cell_type": "code",
   "execution_count": null,
   "metadata": {},
   "outputs": [],
   "source": [
    "### your code here\n",
    "\n",
    "\n",
    "\n",
    "\n"
   ]
  },
  {
   "cell_type": "code",
   "execution_count": null,
   "metadata": {},
   "outputs": [],
   "source": [
    "# Try your code\n",
    "df = pd.read_csv('penguins_7_22.csv')\n",
    "df"
   ]
  },
  {
   "cell_type": "markdown",
   "metadata": {},
   "source": [
    "### 7.23 Intro to Modeling: One-Hot Encoding\n",
    "Instructions\n",
    "1. Load the the file that you saved in problem 7.22 `penguins_7_22.csv`.\n",
    "2. Use One-Hot encoding to transform the categorical features/columns into numerical features.\n",
    "3. The Categorical features are `species` & `island`.\n",
    "4. Save this as a csv file called `penguins_7_23.csv` (Please set the index to False )\n",
    "\n",
    "Hint: Complete this line of code: `pd.get_dummies(?,columns = [ ?, ? ], drop_first = True)`\n"
   ]
  },
  {
   "cell_type": "code",
   "execution_count": null,
   "metadata": {},
   "outputs": [],
   "source": []
  },
  {
   "cell_type": "code",
   "execution_count": null,
   "metadata": {},
   "outputs": [],
   "source": [
    "### your code here\n",
    "\n",
    "\n",
    "\n"
   ]
  },
  {
   "cell_type": "code",
   "execution_count": null,
   "metadata": {},
   "outputs": [],
   "source": [
    "# Try your code\n",
    "df = pd.read_csv('penguins_7_23.csv')\n",
    "df.shape"
   ]
  },
  {
   "cell_type": "markdown",
   "metadata": {},
   "source": [
    "### 7.24 Intro to Modeling: Features / Target Variable\n",
    "Instructions\n",
    "1. Load the the file that you saved in problem 7.23 `penguins_7_23.csv`.\n",
    "2. Split the data set into two for `X` for features and `Y` for the target variable.\n",
    "3. `Y` should contain only the target variable which is `sex` & `X` should contain the rest of the columns/features.\n",
    "4. Save both files as csv files called `penguins_7_24_X.csv` & `penguins_7_24_Y.csv`(Please set the index to False )"
   ]
  },
  {
   "cell_type": "code",
   "execution_count": null,
   "metadata": {},
   "outputs": [],
   "source": []
  },
  {
   "cell_type": "code",
   "execution_count": null,
   "metadata": {},
   "outputs": [],
   "source": [
    "### your code here\n",
    "\n",
    "\n",
    "\n",
    "\n"
   ]
  },
  {
   "cell_type": "code",
   "execution_count": null,
   "metadata": {},
   "outputs": [],
   "source": [
    "# Try your code\n",
    "Y = pd.read_csv('penguins_7_24_Y.csv')\n",
    "X = pd.read_csv('penguins_7_24_X.csv')\n",
    "print(X.shape)\n",
    "print(Y.shape)"
   ]
  },
  {
   "cell_type": "markdown",
   "metadata": {},
   "source": [
    "### 7.25 Intro to Modeling: Train/Test Split\n",
    "Instructions\n",
    "1. Load both files that you saved in problem 7.24`penguins_7_24_X.csv` & `penguins_7_24_Y.csv`.\n",
    "2. Split X set into two parts, Training and Testing. X will split in the following ratio:  `0.7` as `X_train` and `0.3` as `X_test`\n",
    "3. Split Y set into two parts, Training and Testing. Y will split in the following ratio:  `0.7` as `Y_train` and `0.3` as `Y_test`\n",
    "4. Save the files as csv files called `penguins_7_25_X_train.csv`, `penguins_7_25_X_test.csv`, `penguins_7_25_Y_train.csv`, `penguins_7_25_Y_test.csv`(Please set the index to False )\n",
    "\n",
    "Note: You will end up with a total of 4 files, X_train & Y_train are the input to your model for training. X_test and Y_test are the testing datasets for your model.\n",
    "Hint: Complete this line of code: `X_train, X_test, Y_train, Y_test = train_test_split(?,?, test_size = ? , random_state = 42)`\n",
    "\n",
    "Hint: don't forget to import:  `from sklearn.model_selection import train_test_split`\n"
   ]
  },
  {
   "cell_type": "code",
   "execution_count": null,
   "metadata": {},
   "outputs": [],
   "source": []
  },
  {
   "cell_type": "code",
   "execution_count": null,
   "metadata": {},
   "outputs": [],
   "source": [
    "from sklearn.model_selection import train_test_split\n",
    "\n",
    "### your code here\n",
    "\n",
    "\n",
    "\n"
   ]
  },
  {
   "cell_type": "code",
   "execution_count": null,
   "metadata": {},
   "outputs": [],
   "source": [
    "# try your code\n",
    "import pandas as pd\n",
    "\n",
    "X_train= pd.read_csv('penguins_7_25_X_train.csv')\n",
    "X_test= pd.read_csv('penguins_7_25_X_test.csv')\n",
    "Y_train= pd.read_csv('penguins_7_25_Y_train.csv')\n",
    "Y_test= pd.read_csv('penguins_7_25_Y_test.csv')\n",
    "\n",
    "print(X_train.shape)\n",
    "print(X_test.shape)\n",
    "print(Y_test.shape)\n",
    "print(Y_train.shape)"
   ]
  },
  {
   "cell_type": "markdown",
   "metadata": {},
   "source": [
    "# Testing"
   ]
  },
  {
   "cell_type": "code",
   "execution_count": null,
   "metadata": {},
   "outputs": [],
   "source": [
    "! ./test/run_test.sh"
   ]
  },
  {
   "cell_type": "markdown",
   "metadata": {},
   "source": [
    "# Homework Submission\n",
    "- This homework is due by 2023-11-15, 5:30PM (EDT)\n",
    "- Make sure that all your programs and output files are in the exact folder as specified in the instructions.\n",
    "- All file names on this system are case sensitive. Verify if you copy your work from a local computer to your home directory on ARC.\n",
    "- No further action is need to submit your assignment."
   ]
  },
  {
   "cell_type": "code",
   "execution_count": null,
   "metadata": {},
   "outputs": [],
   "source": []
  }
 ],
 "metadata": {
  "kernelspec": {
   "display_name": "Python 3",
   "language": "python",
   "name": "python3"
  },
  "language_info": {
   "codemirror_mode": {
    "name": "ipython",
    "version": 3
   },
   "file_extension": ".py",
   "mimetype": "text/x-python",
   "name": "python",
   "nbconvert_exporter": "python",
   "pygments_lexer": "ipython3",
   "version": "3.8.6"
  }
 },
 "nbformat": 4,
 "nbformat_minor": 4
}
