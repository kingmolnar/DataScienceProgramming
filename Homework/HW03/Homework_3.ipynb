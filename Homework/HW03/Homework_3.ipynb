{
 "cells": [
  {
   "cell_type": "markdown",
   "metadata": {
    "id": "HDMaMM6M-ysA"
   },
   "source": [
    "# Homework 3"
   ]
  },
  {
   "cell_type": "markdown",
   "metadata": {},
   "source": [
    "**Rename this notebook before you start working on it!!!**"
   ]
  },
  {
   "cell_type": "markdown",
   "metadata": {
    "id": "upLeSga8US0S"
   },
   "source": [
    "**Add this cell at the beginning of every notebook!\n",
    "You need to run this cell at the beginning of working with your notebook, and everytime you restart the kernel!**\n",
    "\n",
    "The `autload` module is specific for Jupyter notebooks. The code below instructs the notebook to reload Python packages if their code base has changed. Python loads modules (aka. packages) only the first time it encounters the `import` statement. The changes you make to a Python file that you import to notebook will not be re-loaded unless you use the `%%autoreload 2` magic. (The first magic `%reload_ext autoload` installs the `autoload` magic.`)"
   ]
  },
  {
   "cell_type": "code",
   "execution_count": null,
   "metadata": {
    "id": "EkoZ67GPUS0T"
   },
   "outputs": [],
   "source": [
    "# Execute first, don't change\n",
    "%reload_ext autoreload\n",
    "%autoreload 2"
   ]
  },
  {
   "cell_type": "code",
   "execution_count": null,
   "metadata": {
    "id": "NgTKXnWZ-ysC"
   },
   "outputs": [],
   "source": [
    "%%sh\n",
    "mkdir -p test"
   ]
  },
  {
   "cell_type": "markdown",
   "metadata": {
    "id": "L1lF5uVW-ysD"
   },
   "source": [
    "#### Topic - 2 Python programming language"
   ]
  },
  {
   "cell_type": "markdown",
   "metadata": {
    "id": "umf7dalu-ysD"
   },
   "source": [
    "### 3.1 Calculate the tip  \n",
    "Instructions\n",
    "1. Create a function which takes 2 arguments (one for bill amount and other is tip percentage - in decimal like 0.5 for 50%, 0.23 for 23%) and returns the amount of tip."
   ]
  },
  {
   "cell_type": "markdown",
   "metadata": {
    "id": "ozX8jDvB-ysD"
   },
   "source": [
    "Save your solution to `solution_3_1.py`"
   ]
  },
  {
   "cell_type": "code",
   "execution_count": null,
   "metadata": {
    "colab": {
     "base_uri": "https://localhost:8080/"
    },
    "id": "WV_yRsMA-ysE",
    "outputId": "e556ed84-8921-4934-d197-3677a95a0e5a"
   },
   "outputs": [],
   "source": [
    "%%writefile solution_3_1.py\n",
    "\n",
    "def calculate_tip(bill_amount, tip_percentage):\n",
    "\n",
    "    # Write your code here. Take care of indentation\n"
   ]
  },
  {
   "cell_type": "markdown",
   "metadata": {
    "id": "x5wdQARY-ysG"
   },
   "source": [
    "### 3.2 Calculate the shipping cost\n",
    "Instructions\n",
    "1. Create a function that takes two arguments: the weight of the package and the distance it is being shipped to to calculate the shipping cost.\n",
    "2. The function should return the shipping cost for the given weight and distance.\n",
    "3. There is a base cost for every delivery of 10 irrespective of weight and distance.\n",
    "4. The cost for 1 pound package is 2 and for 1 mile is 0.01. (So for 10 pound package, the weight related cost is 2 times 10 and 10 miles would be 10 times 0.1)"
   ]
  },
  {
   "cell_type": "code",
   "execution_count": null,
   "metadata": {
    "colab": {
     "base_uri": "https://localhost:8080/"
    },
    "id": "QzULazOu-ysG",
    "outputId": "5c74eb32-1123-4b18-ebae-f76124942837"
   },
   "outputs": [],
   "source": [
    "%%writefile solution_3_2.py\n",
    "\n",
    "def calculate_shipping_cost(weight, distance):\n",
    "\n",
    "    base_cost = 10\n",
    "    per_pound_cost = 2\n",
    "    distance_factor = 0.01\n",
    "\n",
    "    # Write your code here. Take care of indentation\n",
    "    "
   ]
  },
  {
   "cell_type": "markdown",
   "metadata": {},
   "source": [
    "Try it out. (Make sure to run the `%autoreload` magic.)"
   ]
  },
  {
   "cell_type": "code",
   "execution_count": null,
   "metadata": {},
   "outputs": [],
   "source": [
    "from solution_3_2 import calculate_shipping_cost\n",
    "weight = 17\n",
    "distance = 3.5\n",
    "cost = calculate_shipping_cost(weight, distance)\n",
    "print(f\"The shipping cost for the pachage of {weight} lbs over the distance of {distance} miles is ${cost:.2f}\")"
   ]
  },
  {
   "cell_type": "markdown",
   "metadata": {
    "id": "UzmAfo0k-ysI"
   },
   "source": [
    "### 3.3 Problem 3\n",
    "Instructions\n",
    "1. Create a function which takes 1 argument (birth date) and returns the age of that person.\n",
    "2. Calculate the age as of September 1st, 2023.\n",
    "3. You need to return the output as decimal."
   ]
  },
  {
   "cell_type": "markdown",
   "metadata": {
    "id": "mj92gKSz-ysI"
   },
   "source": [
    "Save your solution to `solution_3_3.py`"
   ]
  },
  {
   "cell_type": "code",
   "execution_count": null,
   "metadata": {
    "colab": {
     "base_uri": "https://localhost:8080/"
    },
    "id": "jddS8boF-ysI",
    "outputId": "bd4832d2-00fe-4749-aad0-a1d5c0a23546"
   },
   "outputs": [],
   "source": [
    "%%writefile solution_3_3.py\n",
    "\n",
    "import datetime\n",
    "\n",
    "def calculate_age(birth_date):\n",
    "\n",
    "    # Write your code here. Take care of indentation\n",
    "    "
   ]
  },
  {
   "cell_type": "markdown",
   "metadata": {},
   "source": [
    "Try it out"
   ]
  },
  {
   "cell_type": "code",
   "execution_count": null,
   "metadata": {},
   "outputs": [],
   "source": [
    "import datetime\n",
    "from solution_3_3 import calculate_age\n",
    "bobs_bday = datetime.date(1970, 1, 1)\n",
    "bobs_age = calculate_age(bobs_bday)\n",
    "print(f\"Bob is {bobs_age} years old.\")"
   ]
  },
  {
   "cell_type": "markdown",
   "metadata": {
    "id": "2mNSvgmh-ysJ"
   },
   "source": [
    "### 3.4 Calculate the quotient and remainder of two numbers\n",
    "Instructions\n",
    "1. Write a function which takes two numbers as input and returns quotient and remainder of those two numbers.\n",
    "\n",
    "Example:\n",
    "- Input: a = 7, b = 2\n",
    "- Output: quotient = 3, remainder = 1"
   ]
  },
  {
   "cell_type": "code",
   "execution_count": null,
   "metadata": {
    "id": "xATX_srI-ysJ"
   },
   "outputs": [],
   "source": []
  },
  {
   "cell_type": "markdown",
   "metadata": {
    "id": "mV79novG-ysK"
   },
   "source": [
    "Save your solution to `solution_3_4.py`"
   ]
  },
  {
   "cell_type": "code",
   "execution_count": null,
   "metadata": {
    "colab": {
     "base_uri": "https://localhost:8080/"
    },
    "id": "Ry6198pd-ysK",
    "outputId": "dfb966d3-749d-4b5c-feae-415b09778ede"
   },
   "outputs": [],
   "source": [
    "%%writefile solution_3_4.py\n",
    "\n",
    "def calculate_quotient_and_remainder(a, b):\n",
    "\n",
    "    # Write your code here. Take care of indentation\n"
   ]
  },
  {
   "cell_type": "markdown",
   "metadata": {
    "id": "_DZV1IgN-ysL"
   },
   "source": [
    "### 3.5 Problem 5\n",
    "Instructions\n",
    "1. Write a function which takes a string as input and returns a new string where all the spaces are replaced with dashes."
   ]
  },
  {
   "cell_type": "markdown",
   "metadata": {
    "id": "lHhDakTH-ysL"
   },
   "source": [
    "Save your solution to `solution_3_5.py`"
   ]
  },
  {
   "cell_type": "code",
   "execution_count": null,
   "metadata": {
    "colab": {
     "base_uri": "https://localhost:8080/"
    },
    "id": "8f3xiXPV-ysL",
    "outputId": "42d1685a-360f-4d77-b4a1-33bca601bda6"
   },
   "outputs": [],
   "source": [
    "%%writefile solution_3_5.py\n",
    "\n",
    "def replace_spaces_with_dashes(string):\n",
    "\n",
    "    # Write your code here. Take care of indentation\n",
    "    "
   ]
  },
  {
   "cell_type": "markdown",
   "metadata": {
    "id": "MZ8X9v38-ysM"
   },
   "source": [
    "#### Topic - 3 Python data structures and Functions"
   ]
  },
  {
   "cell_type": "markdown",
   "metadata": {
    "id": "2834Ctr6-ysM"
   },
   "source": [
    "### 3.6 Tuple Manipulation\n",
    "Instructions\n",
    "1. Create a function `tuple_manipulation` that takes two tuples as input\n",
    "2. Concatenate tuple1 and tuple2 to create a single tuple.\n",
    "3. Remove any duplicate elements from the combined tuple.\n",
    "4. Sort the resulting tuple in ascending order."
   ]
  },
  {
   "cell_type": "code",
   "execution_count": null,
   "metadata": {
    "id": "elGJuL1A-ysM"
   },
   "outputs": [],
   "source": []
  },
  {
   "cell_type": "markdown",
   "metadata": {
    "id": "RrrBc5Vy-ysM"
   },
   "source": [
    "Save your solution to `solution_3_6.py`"
   ]
  },
  {
   "cell_type": "code",
   "execution_count": null,
   "metadata": {
    "colab": {
     "base_uri": "https://localhost:8080/"
    },
    "id": "lsYbhJgA-ysM",
    "outputId": "dd270469-0dc5-4394-88f7-3c0fb0a5f1a0"
   },
   "outputs": [],
   "source": [
    "%%writefile solution_3_6.py\n",
    "\n",
    "\n",
    "### your code here\n",
    "\n",
    "def tuple_manipulation(tuple1, tuple2):\n",
    "   "
   ]
  },
  {
   "cell_type": "markdown",
   "metadata": {
    "id": "FXbyVhM7-ysN"
   },
   "source": [
    "### 3.7 List Comprehension with Condition\n",
    "Instructions\n",
    "1. Write a function `filter_and_square` that takes a list of numbers\n",
    "2. Use list comprehension to filter even numbers, squares them, and returns the result in a dictionary where the keys are the original numbers, and the values are the squared results.\n"
   ]
  },
  {
   "cell_type": "markdown",
   "metadata": {
    "id": "OgT40e3n-ysN"
   },
   "source": [
    "Save your solution to `solution_3_7.py`"
   ]
  },
  {
   "cell_type": "code",
   "execution_count": null,
   "metadata": {
    "colab": {
     "base_uri": "https://localhost:8080/"
    },
    "id": "7t-Lm46I-ysN",
    "outputId": "0a547559-2f49-463c-bfc0-678aa6a266f6"
   },
   "outputs": [],
   "source": [
    "%%writefile solution_3_7.py\n",
    "\n",
    "### your code here\n",
    "\n"
   ]
  },
  {
   "cell_type": "markdown",
   "metadata": {
    "id": "jiQMzoKW-ysO"
   },
   "source": [
    "### 3.8 Merge Dictionaries\n",
    "Instructions\n",
    "1. Create a function `merge_dicts` that takes a list of dictionaries, merges them into a single dictionary, and returns the result. (If there are conflicting keys, prioritize the values from the dictionaries later in the list.)"
   ]
  },
  {
   "cell_type": "code",
   "execution_count": null,
   "metadata": {
    "id": "0MZrgMfj-ysO"
   },
   "outputs": [],
   "source": []
  },
  {
   "cell_type": "markdown",
   "metadata": {
    "id": "FEngZ7W7-ysO"
   },
   "source": [
    "Save your solution to `solution_3_8.py`"
   ]
  },
  {
   "cell_type": "code",
   "execution_count": null,
   "metadata": {
    "colab": {
     "base_uri": "https://localhost:8080/"
    },
    "id": "OA2BWAnV-ysO",
    "outputId": "3c427cc2-4f59-47eb-aa30-b26ac577fc65"
   },
   "outputs": [],
   "source": [
    "%%writefile solution_3_8.py\n",
    "\n",
    "### your code here\n"
   ]
  },
  {
   "cell_type": "markdown",
   "metadata": {
    "id": "YOjdCuQ7-ysO"
   },
   "source": [
    "### 3.9 List of tuple\n",
    "Instructions\n",
    "1. Write a function `list_of_tuples` that takes two lists, one containing names and the other containing ages.\n",
    "2. Create a list of tuples where each tuple contains a name and an age.\n",
    "3. Sort the list of tuples by age in descending order, using lambda."
   ]
  },
  {
   "cell_type": "code",
   "execution_count": null,
   "metadata": {
    "id": "FGlleEMe-ysP"
   },
   "outputs": [],
   "source": []
  },
  {
   "cell_type": "markdown",
   "metadata": {
    "id": "tG23gi_F-ysP"
   },
   "source": [
    "Save your solution to `solution_3_9.py`"
   ]
  },
  {
   "cell_type": "code",
   "execution_count": null,
   "metadata": {
    "colab": {
     "base_uri": "https://localhost:8080/"
    },
    "id": "Hm6NQURx-ysP",
    "outputId": "ac5d5f3c-db95-43d8-8a7a-b57e82562c12"
   },
   "outputs": [],
   "source": [
    "%%writefile solution_3_9.py\n",
    "\n",
    "### your code here\n",
    "\n"
   ]
  },
  {
   "cell_type": "markdown",
   "metadata": {
    "id": "wghEhX1D-ysP"
   },
   "source": [
    "### 3.10 Recursive function: factorial\n",
    "Instructions\n",
    "1. Implement a function `factorial` that calculates the factorial of a number n.\n",
    "2. The function needs to be defined for integers >=1 and return an integer (don't worry about vwery large numbers...)"
   ]
  },
  {
   "cell_type": "code",
   "execution_count": null,
   "metadata": {
    "id": "DYZE7kx8-ysP"
   },
   "outputs": [],
   "source": []
  },
  {
   "cell_type": "markdown",
   "metadata": {
    "id": "SO8jGQlL-ysQ"
   },
   "source": [
    "Save your solution to `solution_3_10.py`"
   ]
  },
  {
   "cell_type": "code",
   "execution_count": null,
   "metadata": {
    "colab": {
     "base_uri": "https://localhost:8080/"
    },
    "id": "6vJCyQ9U-ysQ",
    "outputId": "2745f289-8b0c-46ba-cc4f-32799fd33e99"
   },
   "outputs": [],
   "source": [
    "%%writefile solution_3_10.py\n",
    "\n",
    "### your code here\n",
    "def factorial(n):\n",
    "    if n < 1:\n",
    "        return 0\n",
    "    if n == 1:\n",
    "        return 1\n",
    "    \n",
    "    return n * factorial(n-1)\n"
   ]
  },
  {
   "cell_type": "markdown",
   "metadata": {
    "id": "sv0T8_xi-ysQ"
   },
   "source": [
    "#### Test 3.10"
   ]
  },
  {
   "cell_type": "code",
   "execution_count": 2,
   "metadata": {
    "colab": {
     "base_uri": "https://localhost:8080/"
    },
    "id": "0wlaYBOE-ysQ",
    "outputId": "5fc47e57-5b1c-45f7-99c8-63ab0f60da33"
   },
   "outputs": [
    {
     "name": "stdout",
     "output_type": "stream",
     "text": [
      "Overwriting test/test_3_10.py\n"
     ]
    }
   ],
   "source": [
    "%%writefile test/test_3_10.py\n",
    "from solution_3_10 import factorial\n",
    "\n",
    "def test_3_10():\n",
    "    assert factorial(9) == 362880, \"Factorial is not correct\""
   ]
  },
  {
   "cell_type": "markdown",
   "metadata": {
    "id": "0oQXgMp4-ysQ"
   },
   "source": [
    "### 3.11 Higher-Order Function\n",
    "1. Create a function `apply_operation` that takes an operation (a function), and a list of numbers.\n",
    "2. Apply the operation function to all numbers in the list, and return a dictionary where keys are the numbers, and values are the results of applying the operation.\n"
   ]
  },
  {
   "cell_type": "code",
   "execution_count": null,
   "metadata": {
    "id": "gO0qyeKo-ysQ"
   },
   "outputs": [],
   "source": []
  },
  {
   "cell_type": "markdown",
   "metadata": {
    "id": "CRKSx3Wz-ysQ"
   },
   "source": [
    "Save your solution to `solution_3_11.py`"
   ]
  },
  {
   "cell_type": "code",
   "execution_count": null,
   "metadata": {
    "colab": {
     "base_uri": "https://localhost:8080/"
    },
    "id": "3_id9n3a-ysR",
    "outputId": "9000fb6e-caf8-4eab-ba3d-06f1e0cb680d"
   },
   "outputs": [],
   "source": [
    "%%writefile solution_3_11.py\n",
    "\n",
    "### your code here\n"
   ]
  },
  {
   "cell_type": "markdown",
   "metadata": {
    "id": "uZ5l2gjX-ysR"
   },
   "source": [
    "### 3.12 Generate Even Number\n",
    "1. Write a function `generate_even_numbers` that generates even numbers up to a specified limit using a generator expression.\n",
    "2. Additionally, allow the generator to skip even numbers divisible by 4."
   ]
  },
  {
   "cell_type": "code",
   "execution_count": null,
   "metadata": {
    "id": "Rrk_5iCe-ysR"
   },
   "outputs": [],
   "source": []
  },
  {
   "cell_type": "markdown",
   "metadata": {
    "id": "kRRcYX9n-ysR"
   },
   "source": [
    "Save your solution to `solution_3_12.py`"
   ]
  },
  {
   "cell_type": "code",
   "execution_count": null,
   "metadata": {
    "colab": {
     "base_uri": "https://localhost:8080/"
    },
    "id": "A1ZzV2gE-ysR",
    "outputId": "03d89d28-00e8-4667-aaf3-3ab5af70daeb"
   },
   "outputs": [],
   "source": [
    "%%writefile solution_3_12.py\n",
    "\n",
    "### your code here\n"
   ]
  },
  {
   "cell_type": "markdown",
   "metadata": {
    "id": "vkmCrfDD-ysS"
   },
   "source": [
    "### 3.13 Safe Devide\n",
    "1. Define a function `safe_divide` that takes two numbers, a and b.\n",
    "2. Safely divide a by b and handle the ZeroDivisionError by returning the following message: \"Division by zero is not allowed.\"\n",
    "3. Return the result."
   ]
  },
  {
   "cell_type": "markdown",
   "metadata": {
    "id": "Cd0-NO5p-ysS"
   },
   "source": [
    "Save your solution to `solution_3_13.py`"
   ]
  },
  {
   "cell_type": "code",
   "execution_count": null,
   "metadata": {
    "colab": {
     "base_uri": "https://localhost:8080/"
    },
    "id": "2Zb4BgWo-ysS",
    "outputId": "4f572d3f-1908-4cc2-c372-abf5e798d108"
   },
   "outputs": [],
   "source": [
    "%%writefile solution_3_13.py\n",
    "\n",
    "### your code here\n",
    "\n",
    "\n"
   ]
  },
  {
   "cell_type": "markdown",
   "metadata": {
    "id": "97_UcA-E-ysS"
   },
   "source": [
    "### 3.14 Copy file\n",
    "1. Create a function `copy_file` that copies the contents of one text file to another using context managers.\n",
    "2. If the source file doesn't exist, create a new file with a specified default message.\n",
    "\n",
    "Don't forget to execute the next cell"
   ]
  },
  {
   "cell_type": "code",
   "execution_count": null,
   "metadata": {
    "id": "0GBJQOUt-ysT"
   },
   "outputs": [],
   "source": [
    "# Create a sample source file\n",
    "with open(\"source1.txt\", 'w') as src_file:\n",
    "    src_file.write(\"This is some sample content in the source file.\\nYou can use this file for testing.\")"
   ]
  },
  {
   "cell_type": "markdown",
   "metadata": {
    "id": "yAp3PT85-ysT"
   },
   "source": [
    "Save your solution to `solution_3_14.py`"
   ]
  },
  {
   "cell_type": "code",
   "execution_count": null,
   "metadata": {
    "colab": {
     "base_uri": "https://localhost:8080/"
    },
    "id": "lBoG4coV-ysT",
    "outputId": "599137c1-62c6-49a7-e89c-1dd9fde2b7a2"
   },
   "outputs": [],
   "source": [
    "%%writefile solution_3_14.py\n",
    "\n",
    "### your code here\n"
   ]
  },
  {
   "cell_type": "markdown",
   "metadata": {
    "id": "mo3QX9zE-ysT"
   },
   "source": [
    "### 3.15 Create amazon positive reviews file\n",
    "Instructions\n",
    "1. Open the `amazon_cells_labelled.txt` file in python in read mode and use encoding option to be 'utf-8'. Use the right option to read the lines. The location of the text file is: `/data/IFI8410/sess01/sentiment_labelled_sentences/amazon_cells_labelled.txt`\n",
    "2. Perform transformations to split each line and get only the positive reviews and load it into a new text file. (Only text should be present in the output text file)\n",
    "2. Create a new file called as `amazon_positive.txt` in your HW03 directory and open it in the correct mode.\n",
    "\n",
    "Hint:\n",
    "- This is similar to the first homework problem but you need to do it in python.\n",
    "- Functions like replace, split can be used to transform the text file."
   ]
  },
  {
   "cell_type": "code",
   "execution_count": null,
   "metadata": {
    "colab": {
     "base_uri": "https://localhost:8080/",
     "height": 242
    },
    "id": "T1aoV-rH-ysT",
    "outputId": "0f520579-3c16-477b-a08e-c195b94a81e1"
   },
   "outputs": [],
   "source": [
    "# Write your code here\n"
   ]
  },
  {
   "cell_type": "markdown",
   "metadata": {
    "id": "bG8YKoNI-ysU"
   },
   "source": [
    "### 3.16 Display the countries whose capital starts wiht 'P'\n",
    "Instructions\n",
    "1. Write a function which takes a dictionary of countries and capitals as input and returns the names of all the countries whose capitals start with the letter 'P' as a list.\n",
    "2. Name the function `get_countries_with_capital_starting_with_p`"
   ]
  },
  {
   "cell_type": "markdown",
   "metadata": {
    "id": "qmfcJ17i-ysU"
   },
   "source": [
    "Save your solution to `solution_3_16.py`"
   ]
  },
  {
   "cell_type": "code",
   "execution_count": null,
   "metadata": {
    "id": "cjPJ-NMF-ysU"
   },
   "outputs": [],
   "source": [
    "%%writefile solution_3_16.py\n",
    "\n",
    "def get_countries_with_capital_starting_with_p(dict1):\n",
    "\n",
    "    # Write your code here. Take care of indentation\n"
   ]
  },
  {
   "cell_type": "markdown",
   "metadata": {
    "id": "O9C2MvD9-ysU"
   },
   "source": [
    "### 3.17 Remove vowels from a list of alphabets and return a set of remaining unique letters\n",
    "Instructions\n",
    "1. Write a function which takes a list of letters as input and returns a set of all the letters that are not vowels.\n",
    "\n",
    "Example:\n",
    "- Input: [\"a\", \"e\", \"i\", \"o\", \"u\", \"b\", \"c\", \"d\", \"f\"]\n",
    "- Output: {b, c, d, f}"
   ]
  },
  {
   "cell_type": "markdown",
   "metadata": {
    "id": "gdyo_h2r-ysV"
   },
   "source": [
    "Save your solution to `solution_3_17.py`"
   ]
  },
  {
   "cell_type": "code",
   "execution_count": null,
   "metadata": {
    "id": "I3bC-MwN-ysV"
   },
   "outputs": [],
   "source": [
    "%%writefile solution_3_17.py\n",
    "\n",
    "def get_consonants(letters):\n",
    "\n",
    "    # Write your code here. Take care of indentation\n",
    "    "
   ]
  },
  {
   "cell_type": "markdown",
   "metadata": {
    "id": "bh88KpIJ-ysV"
   },
   "source": [
    "### 3.18 Get a list of books from an author\n",
    "Instructions\n",
    "1. A library has a list of books and their authors. Write a function that takes this list of dicts as input and returns a new list of books written by a given author.\n",
    "\n",
    "Example:\n",
    "- Input: books = [\n",
    "    {\"name\": \"The Lord of the Rings\", \"author\": \"J.R.R. Tolkien\"},\n",
    "    {\"name\": \"The Hitchhiker's Guide to the Galaxy\", \"author\": \"Douglas Adams\"}\n",
    "    ]\n",
    "- Output: [\"The Lord of the Rings\"] (if author chosen as \"J.R.R. Tolkien\")"
   ]
  },
  {
   "cell_type": "markdown",
   "metadata": {
    "id": "EVrOYw26-ysV"
   },
   "source": [
    "Save your solution to `solution_3_18.py`"
   ]
  },
  {
   "cell_type": "code",
   "execution_count": null,
   "metadata": {
    "id": "yOdRP0xo-ysV"
   },
   "outputs": [],
   "source": [
    "%%writefile solution_3_18.py\n",
    "\n",
    "def get_books_by_author(books, author):\n",
    "\n",
    "    # Write your code here. Take care of indentation\n",
    "    "
   ]
  },
  {
   "cell_type": "markdown",
   "metadata": {
    "id": "yLmUegcA-ysW"
   },
   "source": [
    "### 3.19 Calculate the grocery shop bill\n",
    "Instructions\n",
    "1. Create a function to calculate the grocery shop bill.\n",
    "2. A grocery store has a list (list of dicts. each dict for each product) of products and their prices.\n",
    "3. There is another list for the quantities of each product that is bought\n",
    "4. Write a function that takes these two list and returns the total cost of the bill..\n",
    "\n",
    "Example:\n",
    "- Input:\n",
    "price = products = [\n",
    "    {\"name\": \"Apple\", \"price\": 1.50},\n",
    "    {\"name\": \"Banana\", \"price\": 0.50}\n",
    "    ]\n",
    "quantity = quantities= [\n",
    "    {\"name\": \"Apple\", \"quantit\": 3},\n",
    "    {\"name\": \"Banana\", \"quantit\": 6}\n",
    "    ]\n",
    "- Output: Bill = 3 times 1.5 + 0.5 times 6 = 7.5"
   ]
  },
  {
   "cell_type": "markdown",
   "metadata": {
    "id": "qaT47SwF-ysW"
   },
   "source": [
    "*Save* your solution to `solution_3_19.py`"
   ]
  },
  {
   "cell_type": "code",
   "execution_count": null,
   "metadata": {
    "id": "5W8FLeeB-ysW"
   },
   "outputs": [],
   "source": [
    "%%writefile solution_3_19.py\n",
    "\n",
    "def get_total_grocery_bill(products, quantities):\n",
    "\n",
    "    # Write your code here. Take care of indentation\n",
    "    "
   ]
  },
  {
   "cell_type": "markdown",
   "metadata": {
    "id": "zBsCwuG8-ysW"
   },
   "source": [
    "### 3.20 Creating a new text file in python\n",
    "Instructions\n",
    "1. Open the yelp_labelled.txt file in python in read mode and use encoding option to be 'utf-8'. Use the right option to read the lines. The location of the text file is: '/data/IFI8410/sess01/sentiment_labelled_sentences/yelp_labelled.txt'\n",
    "2. Create a new file called as 'output_yelp.txt' in your HW03 directory and open it in the correct mode.\n",
    "3. Add in the first 50 lines of the 'yelp_labelled.txt' to 'output_yelp.txt'"
   ]
  },
  {
   "cell_type": "code",
   "execution_count": null,
   "metadata": {
    "id": "JrGGUzZm-ysX"
   },
   "outputs": [],
   "source": [
    "# Write your code here\n"
   ]
  },
  {
   "cell_type": "markdown",
   "metadata": {
    "id": "tW8FPxaE-ysX"
   },
   "source": [
    "#### Topic - 4 Arrays, Vectors, Matrices, Linear Algebra in Python"
   ]
  },
  {
   "cell_type": "markdown",
   "metadata": {
    "id": "cE4HV7BR-ysX"
   },
   "source": [
    "### 3.21 Creating NumPy Arrays\n",
    "Import the NumPy library and create a NumPy array called my_array containing the numbers from 1 to 10."
   ]
  },
  {
   "cell_type": "code",
   "execution_count": null,
   "metadata": {
    "id": "wxmcXJDy-ysY"
   },
   "outputs": [],
   "source": []
  },
  {
   "cell_type": "markdown",
   "metadata": {
    "id": "y6UWw6kO-ysY"
   },
   "source": [
    "Save your solution to `solution_3_21.py`"
   ]
  },
  {
   "cell_type": "code",
   "execution_count": null,
   "metadata": {
    "colab": {
     "base_uri": "https://localhost:8080/"
    },
    "id": "LiJM8eA5-ysY",
    "outputId": "cc26e4ab-8bdc-4129-a64f-090754cfc567"
   },
   "outputs": [],
   "source": [
    "%%writefile solution_3_21.py\n",
    "\n",
    "### your code here\n",
    "\n",
    "\n",
    "### don't change\n",
    "print(type(my_array))\n"
   ]
  },
  {
   "cell_type": "markdown",
   "metadata": {
    "id": "_Aib69Bd-ysY"
   },
   "source": [
    "### 3.22 Array Shape and Dimension\n",
    "Create a NumPy array named matrix with shape (3, 3) filled with any values. Print the shape, dimensions, and size of the array."
   ]
  },
  {
   "cell_type": "markdown",
   "metadata": {
    "id": "1S4HIJzM-ysZ"
   },
   "source": [
    "Save your solution to `solution_3_22.py`"
   ]
  },
  {
   "cell_type": "code",
   "execution_count": null,
   "metadata": {
    "colab": {
     "base_uri": "https://localhost:8080/"
    },
    "id": "j7VYuP0I-ysZ",
    "outputId": "0442f8d7-7d37-45c7-d11a-1384ab65f9e3"
   },
   "outputs": [],
   "source": [
    "%%writefile solution_3_22.py\n",
    "\n",
    "### your code here\n",
    "\n",
    "\n",
    "# Print shape, dimensions, and size\n",
    "print(f\"Type: type(matrix)\\nShape: {matrix.shape}\\nDimensions: {matrix.ndim}\\nSize: {matrix.size}\" )\n"
   ]
  },
  {
   "cell_type": "markdown",
   "metadata": {
    "id": "vCkEaZ7W-ysZ"
   },
   "source": [
    "### 3.23 Array Operations\n",
    "Create two NumPy arrays, array1 [10, 20, 30, 40, 50] and array2 [2, 4, 6, 8, 10]. Perform element-wise addition, subtraction, multiplication, and division between these arrays."
   ]
  },
  {
   "cell_type": "markdown",
   "metadata": {
    "id": "Ux9DmDvP-ysZ"
   },
   "source": [
    "Save your solution to `solution_3_23.py`"
   ]
  },
  {
   "cell_type": "code",
   "execution_count": null,
   "metadata": {
    "colab": {
     "base_uri": "https://localhost:8080/"
    },
    "id": "gKujXpLy-ysZ",
    "outputId": "23c1cc98-a8ee-4a5a-e7be-3701fc1765d1"
   },
   "outputs": [],
   "source": [
    "%%writefile solution_3_23.py\n",
    "\n",
    "### your code here\n",
    "\n",
    "\n",
    "### don't change\n",
    "print(f\"addition = {addition_result}, {type(addition_result)}\\nsubstraction = {subtraction_result}, {type(subtraction_result)}\\nmultiplication = {multiplication_result}, {type(multiplication_result)}\\ndivision = {division_result}, {type(division_result)}\")\n"
   ]
  },
  {
   "cell_type": "markdown",
   "metadata": {
    "id": "9gQjB7ww-ysa"
   },
   "source": [
    "### 3.24 Indexing and Slicing\n",
    "Create a NumPy array numbers containing numbers from 0 to 9. Use indexing and slicing to extract the elements from the 3rd to 7th position (inclusive) and store them in a new array called subset."
   ]
  },
  {
   "cell_type": "markdown",
   "metadata": {
    "id": "f5kJmRoK-ysa"
   },
   "source": [
    "Save your solution to `solution_3_24.py`"
   ]
  },
  {
   "cell_type": "code",
   "execution_count": null,
   "metadata": {
    "colab": {
     "base_uri": "https://localhost:8080/"
    },
    "id": "WDKnLP4c-ysa",
    "outputId": "79c8a60c-cf1c-4aa9-d372-ff5bd612b960"
   },
   "outputs": [],
   "source": [
    "%%writefile solution_3_24.py\n",
    "\n",
    "### your code here\n",
    "import numpy as np\n",
    "\n",
    "\n",
    "\n",
    "# Don't change this\n",
    "print(subset, type(subset))"
   ]
  },
  {
   "cell_type": "markdown",
   "metadata": {
    "id": "6SC4Yk9o-ysa"
   },
   "source": [
    "### 3.25 Random numpy array\n",
    "Create a random 5x5 NumPy array with values between 0 and 1 and another 5x5 NumPy array with values between 1 and 10 (Hint: use uniform)"
   ]
  },
  {
   "cell_type": "markdown",
   "metadata": {
    "id": "iZwsXkBW-ysa"
   },
   "source": [
    "Save your solution to `solution_3_25.py`"
   ]
  },
  {
   "cell_type": "code",
   "execution_count": null,
   "metadata": {
    "colab": {
     "base_uri": "https://localhost:8080/"
    },
    "id": "OdZfHxV--ysa",
    "outputId": "b324b05c-7393-47c5-d97f-6fe0dfe97456"
   },
   "outputs": [],
   "source": [
    "%%writefile solution_3_25.py\n",
    "\n",
    "### your code here\n",
    "\n",
    "\n",
    "### don't change\n",
    "print(f\"random_array1.shape = {random_array1.shape}, np.min(random_array1) >= 0 = {np.min(random_array1) >= 0}, np.max(random_array1) <= 1 = {np.max(random_array1) <= 1}\")\n",
    "print(f\"random_array2.shape = {random_array2.shape}, np.min(random_array2) >= 1 = {np.min(random_array2) >= 1}, np.max(random_array2) <= 10 = {np.max(random_array2) <= 10}\")\n"
   ]
  },
  {
   "cell_type": "markdown",
   "metadata": {
    "id": "ZyMLiEvC-ysb"
   },
   "source": [
    "# Testing\n",
    "\n",
    "Use `python3 -m pytest` to check your solutions. The way we tested HW1 with `pytest` may fail."
   ]
  },
  {
   "cell_type": "code",
   "execution_count": null,
   "metadata": {
    "colab": {
     "base_uri": "https://localhost:8080/"
    },
    "id": "sUenwCxS-ysb",
    "outputId": "cbb1633e-c960-4991-8c4c-4cfd9fdcdd9f"
   },
   "outputs": [],
   "source": [
    "%%sh\n",
    "python3 -m pytest"
   ]
  },
  {
   "cell_type": "markdown",
   "metadata": {
    "id": "D-Q874_--ysb"
   },
   "source": [
    "# Homework Submission\n",
    "- This homework is due by Sept 20, 2023, 5:30PM (EDT)\n",
    "- Make sure that all your programs and output files are in the exact folder as specified in the instructions.\n",
    "- All file names on this system are case sensitive. Verify if you copy your work from a local computer to your home directory on ARC.\n",
    "- No further action is need to submit your assignment."
   ]
  },
  {
   "cell_type": "code",
   "execution_count": null,
   "metadata": {
    "id": "he94EaBN-ysb"
   },
   "outputs": [],
   "source": []
  }
 ],
 "metadata": {
  "colab": {
   "provenance": []
  },
  "kernelspec": {
   "display_name": "Python 3",
   "language": "python",
   "name": "python3"
  },
  "language_info": {
   "codemirror_mode": {
    "name": "ipython",
    "version": 3
   },
   "file_extension": ".py",
   "mimetype": "text/x-python",
   "name": "python",
   "nbconvert_exporter": "python",
   "pygments_lexer": "ipython3",
   "version": "3.8.6"
  }
 },
 "nbformat": 4,
 "nbformat_minor": 4
}
