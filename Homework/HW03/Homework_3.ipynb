{
 "cells": [
  {
   "cell_type": "markdown",
   "metadata": {},
   "source": [
    "# Homework 3\n",
    "\n",
    "<p style=\"text-align:center;color:red;font-weight:bold;font-size:16pt;padding-bottom:20px\">Please, copy this notebook before editing!</p>"
   ]
  },
  {
   "cell_type": "code",
   "execution_count": null,
   "metadata": {},
   "outputs": [],
   "source": [
    "%reload_ext autoreload\n",
    "%autoreload 2"
   ]
  },
  {
   "cell_type": "markdown",
   "metadata": {},
   "source": [
    "### 3.1 Get a list of books from an author\n",
    "A library has a list of books and their authors. Write a function that takes this list of dicts as input and returns a new list of books written by a given author.\n",
    "\n",
    "Example:\n",
    "- Input: \n",
    "    ```\n",
    "        books = [\n",
    "            {\"name\": \"The Lord of the Rings\", \"author\": \"J.R.R. Tolkien\"},\n",
    "            {\"name\": \"The Hitchhiker's Guide to the Galaxy\", \"author\": \"Douglas Adams\"}\n",
    "        ]\n",
    "    ```\n",
    "- Output: [\"The Lord of the Rings\"] (if author chosen as \"J.R.R. Tolkien\")"
   ]
  },
  {
   "cell_type": "markdown",
   "metadata": {},
   "source": [
    "Save your solution to `solution_3_1.py`"
   ]
  },
  {
   "cell_type": "code",
   "execution_count": null,
   "metadata": {},
   "outputs": [],
   "source": [
    "%%writefile solution_3_1.py\n",
    "\n",
    "from typing import Dict, List\n",
    "\n",
    "def get_books_by_author(books: Dict, author: str) -> List:\n",
    "    ### your code here\n",
    "    \n",
    "    \n",
    "    \n",
    "    \n",
    "    \n",
    "    "
   ]
  },
  {
   "cell_type": "code",
   "execution_count": null,
   "metadata": {},
   "outputs": [],
   "source": [
    "# Try your code\n",
    "from solution_3_1 import get_books_by_author\n",
    "\n",
    "books = [\n",
    "    {\"name\": \"The Lord of the Rings\", \"author\": \"J.R.R. Tolkien\"}, \n",
    "    {\"name\": \"The Hitchhiker's Guide to the Galaxy\", \"author\": \"Douglas Adams\"} \n",
    "]\n",
    "\n",
    "display(\n",
    "    get_books_by_author(books, 'Douglas Adams')\n",
    ")"
   ]
  },
  {
   "cell_type": "markdown",
   "metadata": {},
   "source": [
    "#### Test 3.1 Execute the cell below to test your solution..."
   ]
  },
  {
   "cell_type": "code",
   "execution_count": null,
   "metadata": {},
   "outputs": [],
   "source": [
    "! test/run_test.sh 1"
   ]
  },
  {
   "cell_type": "markdown",
   "metadata": {},
   "source": [
    "### 3.2 Calculate the grocery shop bill\n",
    "\n",
    "1. Create a function to calculate the grocery shop bill.\n",
    "2. A grocery store has a list (list of dicts. each dict for each product) of products and their prices.\n",
    "3. There is another list for the quantities of each product that is bought\n",
    "4. Write a function that takes these two list and returns the total cost of the bill..\n",
    "\n",
    "Example:\n",
    "- Input:\n",
    "    price = products = [\n",
    "        {\"name\": \"Apple\", \"price\": 1.50},\n",
    "        {\"name\": \"Banana\", \"price\": 0.50}\n",
    "        ]\n",
    "    quantity = quantities= [\n",
    "        {\"name\": \"Apple\", \"quantit\": 3},\n",
    "        {\"name\": \"Banana\", \"quantit\": 6}\n",
    "        ]\n",
    "- Output: ```Bill = 3 times 1.5 + 0.5 times 6 = 7.5```"
   ]
  },
  {
   "cell_type": "code",
   "execution_count": null,
   "metadata": {},
   "outputs": [],
   "source": []
  },
  {
   "cell_type": "markdown",
   "metadata": {},
   "source": [
    "Save your solution to `solution_3_2.py`"
   ]
  },
  {
   "cell_type": "code",
   "execution_count": null,
   "metadata": {},
   "outputs": [],
   "source": [
    "%%writefile solution_3_2.py\n",
    "from typing import List, Dict\n",
    "\n",
    "def get_total_grocery_bill(products: Dict, quantities: Dict) -> float:\n",
    "    # Write your code here. Take care of indentation\n",
    "    \n",
    "    \n",
    "    \n",
    "    \n",
    "    \n",
    "    "
   ]
  },
  {
   "cell_type": "code",
   "execution_count": null,
   "metadata": {},
   "outputs": [],
   "source": [
    "# Try your code\n",
    "from solution_3_2 import get_total_grocery_bill\n",
    "\n",
    "products = [\n",
    "  {\"name\": \"Apple\", \"price\": 1.50},\n",
    "  {\"name\": \"Banana\", \"price\": 0.50}\n",
    "]\n",
    "\n",
    "quantity = quantities= [\n",
    "  {\"name\": \"Apple\", \"quantit\": 3},\n",
    "  {\"name\": \"Banana\", \"quantit\": 6}\n",
    "]\n",
    "\n",
    "amount = get_total_grocery_bill(products, quantities)\n",
    "print(f\"Your grocery bill is: ${amount:.2f}\")\n"
   ]
  },
  {
   "cell_type": "markdown",
   "metadata": {},
   "source": [
    "#### Test 3.2 Execute the cell below to test your solution..."
   ]
  },
  {
   "cell_type": "code",
   "execution_count": null,
   "metadata": {},
   "outputs": [],
   "source": [
    "! test/run_test.sh 2"
   ]
  },
  {
   "cell_type": "markdown",
   "metadata": {},
   "source": [
    "### 3.3  Array Operations\n",
    "Create two NumPy arrays, array1 [10, 20, 30, 40, 50] and array2 [2, 4, 6, 8, 10]. Perform element-wise addition, subtraction, multiplication, and division between these arrays."
   ]
  },
  {
   "cell_type": "code",
   "execution_count": null,
   "metadata": {},
   "outputs": [],
   "source": []
  },
  {
   "cell_type": "markdown",
   "metadata": {},
   "source": [
    "Save your solution to `solution_3_3.py`"
   ]
  },
  {
   "cell_type": "code",
   "execution_count": null,
   "metadata": {},
   "outputs": [],
   "source": [
    "%%writefile solution_3_3.py\n",
    "import numpy as np\n",
    "\n",
    "# Create two NumPy arrays\n",
    "array1 = np.array([10, 20, 30, 40, 50])\n",
    "array2 = np.array([2, 4, 6, 8, 10])\n",
    "\n",
    "# Perform element-wise operations\n",
    "# Complete the code where indicated by ?????????\n",
    "addition_result = ?????????\n",
    "subtraction_result = ?????????\n",
    "multiplication_result = ?????????\n",
    "division_result = ?????????\n",
    "\n",
    "### don't change\n",
    "print(f\"addition = {addition_result}, {type(addition_result)}\\nsubstraction = {subtraction_result}, {type(subtraction_result)}\\nmultiplication = {multiplication_result}, {type(multiplication_result)}\\ndivision = {division_result}, {type(division_result)}\")\n"
   ]
  },
  {
   "cell_type": "markdown",
   "metadata": {},
   "source": [
    "#### Test 3.3 Execute the cell below to test your solution..."
   ]
  },
  {
   "cell_type": "code",
   "execution_count": null,
   "metadata": {},
   "outputs": [],
   "source": [
    "! test/run_test.sh 3"
   ]
  },
  {
   "cell_type": "markdown",
   "metadata": {},
   "source": [
    "### 3.4 Find the most popular programming language among your friends\n",
    "\n",
    "1. Write a function that finds the most popular programming language among your friends.\n",
    "2. The input is a list of dictionaries representing a friend and their favorite programming language.\n",
    "3. The function should return a tuple with the most popular programming language and the number of friends who chose it.\n",
    "\n",
    "Example:\n",
    "- Input = \n",
    "    ```\n",
    "    [{'name': 'John', 'language': 'Python'}, {'name': 'Jane', 'language': 'Python'}, {'name': 'Mike', 'language': 'JavaScript'}]\n",
    "    ```\n",
    "- Output = ('Python', 2)"
   ]
  },
  {
   "cell_type": "code",
   "execution_count": null,
   "metadata": {},
   "outputs": [],
   "source": []
  },
  {
   "cell_type": "markdown",
   "metadata": {},
   "source": [
    "Save your solution to `solution_3_4.py`"
   ]
  },
  {
   "cell_type": "code",
   "execution_count": null,
   "metadata": {},
   "outputs": [],
   "source": [
    "%%writefile solution_3_4.py\n",
    "from typing import Dict, Tuple\n",
    "def most_popular_language(friends: Dict) -> Tuple[str, int]:\n",
    "\n",
    "    ### your code here\n",
    "    \n",
    "\n",
    "    \n",
    "    \n",
    "    "
   ]
  },
  {
   "cell_type": "code",
   "execution_count": null,
   "metadata": {},
   "outputs": [],
   "source": [
    "# Try your code\n",
    "from solution_3_4 import most_popular_language\n",
    "\n",
    "data = [\n",
    "    {'name': 'John', 'language': 'Python'}, \n",
    "    {'name': 'Jane', 'language': 'Python'},\n",
    "    {'name': 'Mike', 'language': 'JavaScript'}\n",
    "]\n",
    "\n",
    "lang, cnt = most_popular_language(data)\n",
    "print(f\"The most popular langauge is {lang}. It was voted for {cnt:,} times.\")"
   ]
  },
  {
   "cell_type": "markdown",
   "metadata": {},
   "source": [
    "#### Test 3.4 Execute the cell below to test your solution..."
   ]
  },
  {
   "cell_type": "code",
   "execution_count": null,
   "metadata": {},
   "outputs": [],
   "source": [
    "! test/run_test.sh 4"
   ]
  },
  {
   "cell_type": "markdown",
   "metadata": {},
   "source": [
    "### 3.5 Automating a Garden Watering System\n",
    "\n",
    "1. Create a function which determines whether a plant should be monitored or not depending on the moisture level of soil of the plant.\n",
    "2. The garden as a list of dictionaries, where each dictionary represents a plant with keys as \"name,\" \"moisture_level,\" and \"threshold_level.\"\n",
    "3. Each plant has a moisture level, which is a value between 0 (completely dry) and 100 (fully saturated).\n",
    "4. The program should check the plants moisture level to the threshold_level and water it (If moisture level is less than, threshold, then it should be watered)\n",
    "5. The output should be a dictionary with name of plant as keys and values are if the pant should be watered then the concerned value should be true else it should be false."
   ]
  },
  {
   "cell_type": "code",
   "execution_count": null,
   "metadata": {},
   "outputs": [],
   "source": []
  },
  {
   "cell_type": "markdown",
   "metadata": {},
   "source": [
    "Save your solution to `solution_3_5.py`"
   ]
  },
  {
   "cell_type": "code",
   "execution_count": null,
   "metadata": {},
   "outputs": [],
   "source": [
    "%%writefile solution_3_5.py\n",
    "from typing import List, Dict\n",
    "\n",
    "def garden_watering(garden: List[Dict]) -> Dict:\n",
    "    # your code here\n",
    "    \n",
    "    \n",
    "    \n",
    "    \n",
    "    "
   ]
  },
  {
   "cell_type": "code",
   "execution_count": null,
   "metadata": {},
   "outputs": [],
   "source": [
    "# Try your code\n",
    "from pprint import pprint\n",
    "from solution_3_5 import garden_watering\n",
    "\n",
    "garden = [\n",
    "    {'name': 'Rose', 'moisture_level': 55, 'threshold_level': 40},\n",
    "    {'name': 'Tomato', 'moisture_level': 25, 'threshold_level': 50},\n",
    "    {'name': 'Lavender', 'moisture_level': 29, 'threshold_level': 30},\n",
    "    {'name': 'Basil', 'moisture_level': 50, 'threshold_level': 45}\n",
    "]\n",
    "\n",
    "res = garden_watering(garden)\n",
    "pprint(res)"
   ]
  },
  {
   "cell_type": "markdown",
   "metadata": {},
   "source": [
    "#### Test 3.5 Execute the cell below to test your solution..."
   ]
  },
  {
   "cell_type": "code",
   "execution_count": null,
   "metadata": {},
   "outputs": [],
   "source": [
    "! test/run_test.sh 5"
   ]
  },
  {
   "cell_type": "markdown",
   "metadata": {},
   "source": [
    "### 3.6 Matrix Row and Column Operations\n",
    "1. Create a function **swap_rows_and_columns** that takes a matrix (NumPy array) and two integers i and j as input.\n",
    "2. The function should swap the i-th row and j-th row of the matrix and also swap the i-th column and j-th column.\n",
    "3. Return the modified matrix."
   ]
  },
  {
   "cell_type": "code",
   "execution_count": null,
   "metadata": {},
   "outputs": [],
   "source": []
  },
  {
   "cell_type": "markdown",
   "metadata": {},
   "source": [
    "Save your solution to `solution_3_6.py`"
   ]
  },
  {
   "cell_type": "code",
   "execution_count": null,
   "metadata": {},
   "outputs": [],
   "source": [
    "%%writefile solution_3_6.py\n",
    "import numpy as np\n",
    "\n",
    "def swap_rows_and_columns(matrix: np.ndarray, i: int, j: int) -> np.ndarray:\n",
    "    ### your code here\n",
    "    \n",
    "    \n",
    "    \n",
    "    \n",
    "    \n",
    "    "
   ]
  },
  {
   "cell_type": "code",
   "execution_count": null,
   "metadata": {},
   "outputs": [],
   "source": [
    "# Try your code\n",
    "import numpy as np\n",
    "from solution_3_6 import swap_rows_and_columns\n",
    "\n",
    "matrix = np.array([[1, 2, 3],\n",
    "                   [4, 5, 6],\n",
    "                   [7, 8, 9]])\n",
    "\n",
    "res = swap_rows_and_columns(matrix, 1, 2)\n",
    "pprint(res)"
   ]
  },
  {
   "cell_type": "markdown",
   "metadata": {},
   "source": [
    "#### Test 3.6 Execute the cell below to test your solution..."
   ]
  },
  {
   "cell_type": "code",
   "execution_count": null,
   "metadata": {},
   "outputs": [],
   "source": [
    "! test/run_test.sh 6"
   ]
  },
  {
   "cell_type": "markdown",
   "metadata": {},
   "source": [
    "### 3.7 Matrix Concatenation\n",
    "\n",
    "1. Create a  function `concatenate_matrices` that takes two matrices (NumPy arrays) as input\n",
    "2. The function should concatenate them horizontally if they have the same number of rows or vertically if they have the same number of columns.\n",
    "3. Return the modified matrix.\n",
    "4. If concatenation is not possible, return the following message: \"Concatenation not possible: Dimensions do not match.\""
   ]
  },
  {
   "cell_type": "code",
   "execution_count": null,
   "metadata": {},
   "outputs": [],
   "source": []
  },
  {
   "cell_type": "markdown",
   "metadata": {},
   "source": [
    "Save your solution to `solution_3_7.py`"
   ]
  },
  {
   "cell_type": "code",
   "execution_count": null,
   "metadata": {},
   "outputs": [],
   "source": [
    "%%writefile solution_3_7.py\n",
    "from typing import Union\n",
    "import numpy as np\n",
    "\n",
    "def concatenate_matrices(matrix1: np.ndarray, matrix2: np.ndarray) -> Union[np.ndarray, str]:\n",
    "    ### your code here\n",
    "\n",
    "    \n",
    "    \n",
    "    \n",
    "    \n",
    "    "
   ]
  },
  {
   "cell_type": "code",
   "execution_count": null,
   "metadata": {},
   "outputs": [],
   "source": [
    "# Try your code\n",
    "from pprint import pprint\n",
    "from solution_3_7 import concatenate_matrices\n",
    "\n",
    "matrix1 = np.array([[5, 6],\n",
    "                    [7, 8]])\n",
    "\n",
    "matrix2 = np.array([[9, 10, 11],\n",
    "                  [12, 13, 14]])\n",
    "\n",
    "matrix3 = concatenate_matrices(matrix1, matrix2)\n",
    "pprint(matrix3)"
   ]
  },
  {
   "cell_type": "markdown",
   "metadata": {},
   "source": [
    "#### Test 3.7 Execute the cell below to test your solution..."
   ]
  },
  {
   "cell_type": "code",
   "execution_count": null,
   "metadata": {},
   "outputs": [],
   "source": [
    "! test/run_test.sh 7"
   ]
  },
  {
   "cell_type": "markdown",
   "metadata": {},
   "source": [
    "### 3.8 Scale Matrix Row\n",
    "\n",
    "1. Write a function **scale_row** that takes a matrix (NumPy array) ,  an integer i and an integer scalar as input.\n",
    "2. The function should check if the specified row index (i) is within the valid range\n",
    "3. If i is valid, the function should scale the i-th row of the matrix by a given scalar value and return the modified matrix.\n",
    "4. If the row i is not valid, print \"Row not valid.\""
   ]
  },
  {
   "cell_type": "code",
   "execution_count": null,
   "metadata": {},
   "outputs": [],
   "source": []
  },
  {
   "cell_type": "markdown",
   "metadata": {},
   "source": [
    "Save your solution to `solution_3_8.py`"
   ]
  },
  {
   "cell_type": "code",
   "execution_count": null,
   "metadata": {},
   "outputs": [],
   "source": [
    "%%writefile solution_3_8.py\n",
    "import numpy as np\n",
    "\n",
    "def scale_row(matrix: np.ndarray, i: int, scalar: int):\n",
    "    ### your code here\n",
    "\n",
    "    \n",
    "    \n",
    "    \n",
    "    \n"
   ]
  },
  {
   "cell_type": "code",
   "execution_count": null,
   "metadata": {},
   "outputs": [],
   "source": [
    "# Try your code\n",
    "import numpy as np\n",
    "from pprint import pprint\n",
    "from solution_3_8 import scale_row\n",
    "\n",
    "matrix = np.array([[1, 2, 3],\n",
    "                   [4, 5, 6],\n",
    "                   [7, 8, 9]])\n",
    "\n",
    "scaled_matrix = scale_row(matrix, 1, 3)\n",
    "pprint(scaled_matrix)"
   ]
  },
  {
   "cell_type": "markdown",
   "metadata": {},
   "source": [
    "#### Test 3.8 Execute the cell below to test your solution..."
   ]
  },
  {
   "cell_type": "code",
   "execution_count": null,
   "metadata": {},
   "outputs": [],
   "source": [
    "! test/run_test.sh 8"
   ]
  },
  {
   "cell_type": "markdown",
   "metadata": {},
   "source": [
    "### 3.9  Solving a System of Linear Equations\n",
    "\n",
    "Given the following system of linear equations:\n",
    "\n",
    "        2x -y + 3z = 5\n",
    "        x + 2y + z = 4\n",
    "        3x + 3y + 5z = 12\n",
    "\n",
    "1. Write the coefficient matrix 'A' and the column vector 'B' in python using numpy\n",
    "2. Solve the system of equations Ax = B, and store it in a variable named 'x'\n",
    "\n",
    "3. Determine whether the system is solvable using **try:** ... **except np.linalg.LinAlgError:** . If it is unsolvable print \"The system is unsolvable.\""
   ]
  },
  {
   "cell_type": "code",
   "execution_count": null,
   "metadata": {},
   "outputs": [],
   "source": []
  },
  {
   "cell_type": "markdown",
   "metadata": {},
   "source": [
    "Save your solution to `solution_3_9.py`"
   ]
  },
  {
   "cell_type": "code",
   "execution_count": null,
   "metadata": {},
   "outputs": [],
   "source": [
    "%%writefile solution_3_9.py\n",
    "from typing import Tuple\n",
    "import numpy as np\n",
    "\n",
    "def solve_linear_equation(coefficient_matrix: np.ndarray, ordinate_values: np.ndarray) -> Tuple[bool, np.ndarray]: \n",
    "    ### your code here\n",
    "   \n",
    "\n",
    "\n",
    "\n",
    "\n",
    "\n",
    "\n"
   ]
  },
  {
   "cell_type": "code",
   "execution_count": null,
   "metadata": {},
   "outputs": [],
   "source": [
    "# Try your code\n",
    "from solution_3_9 import solve_linear_equation\n",
    "from pprint import pprint\n",
    "\n",
    "A = np.array([[2, -1, 3],\n",
    "              [1, 2, 1],\n",
    "              [3, 3, 5]])\n",
    "\n",
    "B = np.array([5, 4, 12])\n",
    "\n",
    "success, solution = solve_linear_equation(A, B)\n",
    "if success:\n",
    "    print(\"The solution is:\")\n",
    "    pprint(solution)\n",
    "else:\n",
    "    print(\"The system is unsolvable.\")\n",
    "\n"
   ]
  },
  {
   "cell_type": "markdown",
   "metadata": {},
   "source": [
    "#### Test 3.9 Execute the cell below to test your solution..."
   ]
  },
  {
   "cell_type": "code",
   "execution_count": null,
   "metadata": {},
   "outputs": [],
   "source": [
    "! test/run_test.sh 9"
   ]
  },
  {
   "cell_type": "markdown",
   "metadata": {},
   "source": [
    "### 3.10 Analyzing Student Exam Scores\n",
    "1. Create a function which takes 2D NumPy array where each row represents a student, and each column represents an exam score.\n",
    "2. Return two different lists, one list is for average scores of a student and the other list has the average scores of each exam of all student.\n",
    "\n",
    "Hint: Think about using the axis option which calculating mean"
   ]
  },
  {
   "cell_type": "code",
   "execution_count": null,
   "metadata": {},
   "outputs": [],
   "source": []
  },
  {
   "cell_type": "markdown",
   "metadata": {},
   "source": [
    "Save your solution to `solution_3_10.py`"
   ]
  },
  {
   "cell_type": "code",
   "execution_count": null,
   "metadata": {},
   "outputs": [],
   "source": [
    "%%writefile solution_3_10.py\n",
    "from typing import Tuple\n",
    "import numpy as np\n",
    "\n",
    "def exam_analyze(exam_scores: np.ndarray) -> Tuple[np.ndarray]:\n",
    "    # your code here\n",
    "    \n",
    "    \n",
    "    \n",
    "    \n",
    "    \n",
    "    "
   ]
  },
  {
   "cell_type": "code",
   "execution_count": null,
   "metadata": {},
   "outputs": [],
   "source": [
    "# Try your code\n",
    "from solution_3_10 import exam_analyze\n",
    "\n",
    "exam_scores = np.array([\n",
    "    [83, 90, 88],\n",
    "    [91, 92, 94],\n",
    "    [86, 84, 89],\n",
    "    [78, 92, 72],\n",
    "    [88, 75, 78]\n",
    "    ])\n",
    "average_scores_per_exam, average_scores_per_student = exam_analyze(exam_scores)\n",
    "\n",
    "print(\"Average Scores per Exam:     {}\".format(', '.join([\"%5.2f\" % score for score in average_scores_per_exam])))\n",
    "print(\"fAverage Scores per Student: {}\".format(', '.join([\"%5.2f\" % score for score in average_scores_per_student])))"
   ]
  },
  {
   "cell_type": "markdown",
   "metadata": {},
   "source": [
    "#### Test 3.10 Execute the cell below to test your solution..."
   ]
  },
  {
   "cell_type": "code",
   "execution_count": null,
   "metadata": {},
   "outputs": [],
   "source": [
    "! test/run_test.sh 10"
   ]
  },
  {
   "cell_type": "markdown",
   "metadata": {},
   "source": [
    "# TestingExecute the cell below to run all tests..."
   ]
  },
  {
   "cell_type": "code",
   "execution_count": null,
   "metadata": {},
   "outputs": [],
   "source": [
    "! test/run_test.sh"
   ]
  },
  {
   "cell_type": "markdown",
   "metadata": {},
   "source": [
    "# Homework Submission\n",
    "- This homework is due by February 14, 2024, 5:30PM (EDT)\n",
    "- Make sure that all your programs and output files are in the exact folder as specified in the instructions.\n",
    "- All file names on this system are case sensitive. Verify if you copy your work from a local computer to your home directory on ARC.\n",
    "\n",
    "**Run the cell below to submit your work.**\n",
    "\n",
    "- You may submit your work multipe times up to the deadline of the assignment.\n",
    "- Please note that any files that you previously submitted will\n",
    "be overwritten by your current files."
   ]
  },
  {
   "cell_type": "code",
   "execution_count": null,
   "metadata": {},
   "outputs": [],
   "source": [
    "! ./submit.sh -y"
   ]
  }
 ],
 "metadata": {
  "kernelspec": {
   "display_name": "Python 3",
   "language": "python",
   "name": "python3"
  },
  "language_info": {
   "codemirror_mode": {
    "name": "ipython",
    "version": 3
   },
   "file_extension": ".py",
   "mimetype": "text/x-python",
   "name": "python",
   "nbconvert_exporter": "python",
   "pygments_lexer": "ipython3",
   "version": "3.8.6"
  }
 },
 "nbformat": 4,
 "nbformat_minor": 4
}
