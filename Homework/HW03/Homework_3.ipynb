{
 "cells": [
  {
   "cell_type": "markdown",
   "metadata": {
    "id": "DvDJJwxUzUCU"
   },
   "source": [
    "\n",
    "\n",
    "# **IFI8410: Programming for Business**\n"
   ]
  },
  {
   "cell_type": "markdown",
   "metadata": {
    "id": "XKAsLR0C2DE8"
   },
   "source": [
    "## **Assignment 03**\n",
    "\n",
    "### **Data Structures and Sequences**"
   ]
  },
  {
   "cell_type": "code",
   "execution_count": null,
   "metadata": {
    "id": "ilcJOwFSvnX-"
   },
   "outputs": [],
   "source": [
    "# Do not change the content of this cell. Execute this cell first, and everytime after you restarted the kernel.\n",
    "%reload_ext autoreload\n",
    "%autoreload 2"
   ]
  },
  {
   "cell_type": "code",
   "execution_count": null,
   "metadata": {},
   "outputs": [],
   "source": [
    "!pwd"
   ]
  },
  {
   "cell_type": "markdown",
   "metadata": {
    "id": "GiXz48oz2NhW"
   },
   "source": [
    "### 3.1. Tuples with Slicing\n",
    "\n",
    "Question:\n",
    "Given a tuple **numbers = (10, 20, 30, 40, 50)**, slice the tuple to return the middle three elements.\n",
    "\n",
    "Hint:\n",
    "\n",
    "- Use slicing syntax with tuple indexing to extract the middle elements.\n",
    "\n",
    "- Slicing follows the format **tuple[start:end]**.\n"
   ]
  },
  {
   "cell_type": "code",
   "execution_count": null,
   "metadata": {
    "id": "nsGl_obEW1pJ"
   },
   "outputs": [],
   "source": [
    "def get_middle_elements(numbers):\n",
    "    # Add your code here\n"
   ]
  },
  {
   "cell_type": "code",
   "execution_count": null,
   "metadata": {
    "colab": {
     "base_uri": "https://localhost:8080/"
    },
    "id": "ypLwNTpI-3KM",
    "outputId": "5467c332-ffcf-4c58-cd64-0cb406cec585"
   },
   "outputs": [],
   "source": [
    "# Call the function and print the result\n",
    "numbers = (10, 20, 30, 40, 50)\n",
    "print(get_middle_elements(numbers))"
   ]
  },
  {
   "cell_type": "markdown",
   "metadata": {
    "id": "RZWOhn8Z-3KM"
   },
   "source": [
    "#### Save your solution to a file ..."
   ]
  },
  {
   "cell_type": "code",
   "execution_count": null,
   "metadata": {
    "colab": {
     "base_uri": "https://localhost:8080/"
    },
    "id": "jkdw0NPu-3KM",
    "outputId": "5aab1111-f9cc-4378-8f54-3c12eb60ebcf"
   },
   "outputs": [],
   "source": [
    "%%writefile solution_3_1.py\n",
    "\n",
    "def get_middle_elements(numbers):\n",
    "    # Add your code here\n"
   ]
  },
  {
   "cell_type": "markdown",
   "metadata": {
    "id": "B4_qWLWN-3KM"
   },
   "source": [
    "#### Test 3.1 Execute the cell below to test your solution..."
   ]
  },
  {
   "cell_type": "code",
   "execution_count": null,
   "metadata": {
    "colab": {
     "base_uri": "https://localhost:8080/"
    },
    "id": "85rX_RMV-3KN",
    "outputId": "416ed991-2f1c-4b33-aa61-26854c455981"
   },
   "outputs": [],
   "source": [
    "! test/run_test.sh 1"
   ]
  },
  {
   "cell_type": "code",
   "execution_count": null,
   "metadata": {
    "id": "AWmeeKPi-3KN"
   },
   "outputs": [],
   "source": []
  },
  {
   "cell_type": "markdown",
   "metadata": {
    "id": "4Qfed3KE2Wh9"
   },
   "source": [
    "### 3.2. Tuples with Unpacking\n",
    "\n",
    "Question:\n",
    "Given a tuple **person = (\"John\", 28, \"Engineer\")**, unpack the tuple into three separate variables: **name**, **age**, and **profession**.\n",
    "\n",
    "Hint:\n",
    "\n",
    "- Unpacking assigns each element in the tuple to a variable.\n",
    "\n",
    "- Ensure the number of variables matches the number of elements in the tuple.\n"
   ]
  },
  {
   "cell_type": "code",
   "execution_count": null,
   "metadata": {
    "id": "4cjZCE_Q2hN1"
   },
   "outputs": [],
   "source": [
    "def unpack_person(person):\n",
    "    # Add your code here\n",
    "\n"
   ]
  },
  {
   "cell_type": "code",
   "execution_count": null,
   "metadata": {
    "colab": {
     "base_uri": "https://localhost:8080/"
    },
    "id": "v0ddQdRs-3KN",
    "outputId": "6df0f97a-f89c-48d8-8277-945eb7c78aa2"
   },
   "outputs": [],
   "source": [
    "# Call the function and print the result\n",
    "person = (\"John\", 28, \"Engineer\")\n",
    "print(unpack_person(person))"
   ]
  },
  {
   "cell_type": "markdown",
   "metadata": {
    "id": "b5B4efhD-3KN"
   },
   "source": [
    "#### Save your solution to a file ..."
   ]
  },
  {
   "cell_type": "code",
   "execution_count": null,
   "metadata": {
    "colab": {
     "base_uri": "https://localhost:8080/"
    },
    "id": "zFeB9tsw-3KN",
    "outputId": "8fc644bf-3806-4c7d-abab-d520d662943e"
   },
   "outputs": [],
   "source": [
    "%%writefile solution_3_2.py\n",
    "\n",
    "def unpack_person(person):\n",
    "    # Add your code here\n",
    "\n",
    "\n"
   ]
  },
  {
   "cell_type": "markdown",
   "metadata": {
    "id": "UzP3TXvM-3KN"
   },
   "source": [
    "#### Test 3.2 Execute the cell below to test your solution..."
   ]
  },
  {
   "cell_type": "code",
   "execution_count": null,
   "metadata": {
    "colab": {
     "base_uri": "https://localhost:8080/"
    },
    "id": "kJyVZ1rS-3KN",
    "outputId": "3659f38f-ad5a-4b86-f107-4d453cff3770"
   },
   "outputs": [],
   "source": [
    "! test/run_test.sh 2"
   ]
  },
  {
   "cell_type": "code",
   "execution_count": null,
   "metadata": {
    "id": "IweYFeax-3KN"
   },
   "outputs": [],
   "source": []
  },
  {
   "cell_type": "markdown",
   "metadata": {
    "id": "6JjH4QS72Wku"
   },
   "source": [
    "### 3.3 Apply the .append() Method to a List\n",
    "\n",
    "Question:\n",
    "\n",
    "Given the list **fruits = [\"apple\", \"banana\", \"orange\"]**, append \"grape\" to the list using the **.append()** method.\n",
    "\n",
    "Hint:\n",
    "\n",
    "- The **.append()** method adds an element to the end of the list."
   ]
  },
  {
   "cell_type": "code",
   "execution_count": null,
   "metadata": {
    "id": "Tpe03U6n4NQU"
   },
   "outputs": [],
   "source": [
    "def append_to_list(fruits, item):\n",
    "    # Add your code here\n"
   ]
  },
  {
   "cell_type": "code",
   "execution_count": null,
   "metadata": {
    "colab": {
     "base_uri": "https://localhost:8080/"
    },
    "id": "rz9d7m5t-3KO",
    "outputId": "ea867160-adcf-4e39-da77-6400776cfb20"
   },
   "outputs": [],
   "source": [
    "# Call the function and print the result\n",
    "fruits = [\"apple\", \"banana\", \"orange\"]\n",
    "print(append_to_list(fruits, \"grape\"))"
   ]
  },
  {
   "cell_type": "markdown",
   "metadata": {
    "id": "tM7BCa1E-3KO"
   },
   "source": [
    "#### Save your solution to a file ..."
   ]
  },
  {
   "cell_type": "code",
   "execution_count": null,
   "metadata": {
    "colab": {
     "base_uri": "https://localhost:8080/"
    },
    "id": "lZXokQqK-3KO",
    "outputId": "ef67b277-446a-481f-a034-986497a7d6da"
   },
   "outputs": [],
   "source": [
    "%%writefile solution_3_3.py\n",
    "\n",
    "def append_to_list(fruits, item):\n",
    "    # Add your code here\n"
   ]
  },
  {
   "cell_type": "markdown",
   "metadata": {
    "id": "atV0i5k0-3KO"
   },
   "source": [
    "#### Test 3.3 Execute the cell below to test your solution..."
   ]
  },
  {
   "cell_type": "code",
   "execution_count": null,
   "metadata": {
    "colab": {
     "base_uri": "https://localhost:8080/"
    },
    "id": "-TcrOae3-3KO",
    "outputId": "41d2e0e4-20d6-4648-e96d-b61123fa881d"
   },
   "outputs": [],
   "source": [
    "! test/run_test.sh 3"
   ]
  },
  {
   "cell_type": "code",
   "execution_count": null,
   "metadata": {
    "id": "LIE8fRB4-3KO"
   },
   "outputs": [],
   "source": []
  },
  {
   "cell_type": "markdown",
   "metadata": {
    "id": "5_Y1Kwit2WnP"
   },
   "source": [
    "### 3.4. Sort a List in Place with the .sort() Method Based on the Length of Each Element\n",
    "\n",
    "Question:\n",
    "\n",
    "You are given a list of words **words = [\"apple\", \"banana\", \"kiwi\", \"blueberry\", \"fig\"]**.\n",
    "\n",
    "Sort the list in place based on the length of each element using the .sort() method.\n",
    "\n",
    "Hint:\n",
    "\n",
    "- The **.sort()** method can take a key parameter, which allows sorting by a custom function (in this case, the length of each word)."
   ]
  },
  {
   "cell_type": "code",
   "execution_count": null,
   "metadata": {
    "id": "SDd0D0CV4gGu"
   },
   "outputs": [],
   "source": [
    "def sort_by_length(words):\n",
    "    # Add your code here\n",
    "\n"
   ]
  },
  {
   "cell_type": "code",
   "execution_count": null,
   "metadata": {
    "colab": {
     "base_uri": "https://localhost:8080/"
    },
    "id": "dG6XrXvr-3KO",
    "outputId": "b691c49a-b3a2-4c7e-fa53-716bd51ac2d8"
   },
   "outputs": [],
   "source": [
    "# Call the function and print the result\n",
    "words = [\"apple\", \"banana\", \"kiwi\", \"blueberry\", \"fig\"]\n",
    "print(sort_by_length(words))"
   ]
  },
  {
   "cell_type": "markdown",
   "metadata": {
    "id": "rZli8_V8-3KO"
   },
   "source": [
    "#### Save your solution to a file ..."
   ]
  },
  {
   "cell_type": "code",
   "execution_count": null,
   "metadata": {
    "colab": {
     "base_uri": "https://localhost:8080/"
    },
    "id": "ECVMo7qD-3KO",
    "outputId": "0ba994e4-bd44-4dc8-a540-f6457115b110"
   },
   "outputs": [],
   "source": [
    "%%writefile solution_3_4.py\n",
    "\n",
    "def sort_by_length(words):\n",
    "    # Add your code here\n",
    "\n"
   ]
  },
  {
   "cell_type": "markdown",
   "metadata": {
    "id": "StB1RWEINNET"
   },
   "source": [
    "Test 3.4 Execute the cell below to test your solution..."
   ]
  },
  {
   "cell_type": "code",
   "execution_count": null,
   "metadata": {
    "colab": {
     "base_uri": "https://localhost:8080/"
    },
    "id": "0-uq-2eK-3KS",
    "outputId": "902c5ac6-a563-497f-9c5d-f7f135dbbd7a"
   },
   "outputs": [],
   "source": [
    "! test/run_test.sh 4"
   ]
  },
  {
   "cell_type": "code",
   "execution_count": null,
   "metadata": {
    "id": "mcLcfwI4-3KS"
   },
   "outputs": [],
   "source": []
  },
  {
   "cell_type": "markdown",
   "metadata": {
    "id": "eTVhhltY2Wpk"
   },
   "source": [
    "### 3.5. Create a Dictionary from Two Sequences\n",
    "\n",
    "Question:\n",
    "\n",
    "You are given two sequences: **keys = (\"name\", \"age\", \"job\")** (a tuple) and **values = [\"Alice\", 30, \"Doctor\"]** (a list). Convert the list to a tuple, then use the zip() method to create a dictionary where keys correspond to the values.\n",
    "\n",
    "Hint:\n",
    "\n",
    "- Convert the list values to a tuple before using **zip()**.\n",
    "\n",
    "- The **zip()** function combines two sequences element by element.\n"
   ]
  },
  {
   "cell_type": "code",
   "execution_count": null,
   "metadata": {
    "id": "xQpREqa84lOw"
   },
   "outputs": [],
   "source": [
    "def create_dict_from_sequences(keys, values):\n",
    "    # Add your code here\n",
    "\n"
   ]
  },
  {
   "cell_type": "code",
   "execution_count": null,
   "metadata": {
    "colab": {
     "base_uri": "https://localhost:8080/"
    },
    "id": "DZI0qrLr-3KS",
    "outputId": "beaba163-5fc2-4667-c0b1-961299bb11d9"
   },
   "outputs": [],
   "source": [
    "# Call the function and print the result\n",
    "keys = (\"name\", \"age\", \"job\")\n",
    "values = [\"Alice\", 30, \"Doctor\"]\n",
    "print(create_dict_from_sequences(keys, values))"
   ]
  },
  {
   "cell_type": "markdown",
   "metadata": {
    "id": "PH1huOAX-3KS"
   },
   "source": [
    "#### Save your solution to a file ..."
   ]
  },
  {
   "cell_type": "code",
   "execution_count": null,
   "metadata": {
    "colab": {
     "base_uri": "https://localhost:8080/"
    },
    "id": "eHdwU83l-3KS",
    "outputId": "0e41d212-4f16-4f76-9b05-481eb0665074"
   },
   "outputs": [],
   "source": [
    "%%writefile solution_3_5.py\n",
    "\n",
    "def create_dict_from_sequences(keys, values):\n",
    "    # Add your code here\n",
    "\n"
   ]
  },
  {
   "cell_type": "markdown",
   "metadata": {
    "id": "mx1SEuRw-3KS"
   },
   "source": [
    "#### Test 3.5 Execute the cell below to test your solution..."
   ]
  },
  {
   "cell_type": "code",
   "execution_count": null,
   "metadata": {
    "colab": {
     "base_uri": "https://localhost:8080/"
    },
    "id": "LIGHavxK-3KT",
    "outputId": "9531e85f-753c-4d4f-a0ba-871b10037340"
   },
   "outputs": [],
   "source": [
    "! test/run_test.sh 5"
   ]
  },
  {
   "cell_type": "code",
   "execution_count": null,
   "metadata": {},
   "outputs": [],
   "source": []
  },
  {
   "cell_type": "markdown",
   "metadata": {
    "id": "iCNcXQNw2WsW"
   },
   "source": [
    "### 3.6. Remove a (key, value) Pair in a Dictionary with the del() Method\n",
    "\n",
    "Question:\n",
    "\n",
    "Given the dictionary **person = {\"name\": \"John\", \"age\": 28, \"job\": \"Engineer\"}**, remove the age key-value pair from the dictionary using the del() method.\n",
    "\n",
    "Hint:\n",
    "\n",
    "- Use the syntax del dict[key] to remove a key-value pair from a dictionary.\n"
   ]
  },
  {
   "cell_type": "code",
   "execution_count": null,
   "metadata": {
    "id": "jkD_TLvEzqNQ"
   },
   "outputs": [],
   "source": [
    "def remove_key(person, key_to_remove):\n",
    "    # Add your code here\n",
    "\n"
   ]
  },
  {
   "cell_type": "code",
   "execution_count": null,
   "metadata": {
    "colab": {
     "base_uri": "https://localhost:8080/"
    },
    "id": "PiWeKoii-3KT",
    "outputId": "e3356e05-2bf2-469a-8d8a-e36107b923fb"
   },
   "outputs": [],
   "source": [
    "# Call the function and print the result\n",
    "person = {\"name\": \"John\", \"age\": 28, \"job\": \"Engineer\"}\n",
    "print(remove_key(person, \"age\"))"
   ]
  },
  {
   "cell_type": "markdown",
   "metadata": {
    "id": "PkN_MihM-3KT"
   },
   "source": [
    "#### Save your solution to a file ..."
   ]
  },
  {
   "cell_type": "code",
   "execution_count": null,
   "metadata": {
    "colab": {
     "base_uri": "https://localhost:8080/"
    },
    "id": "RPINHeY5-3KT",
    "outputId": "8987eaed-ef78-4b66-bc9f-c2105f51dbc7"
   },
   "outputs": [],
   "source": [
    "%%writefile solution_3_6.py\n",
    "\n",
    "def remove_key(person, key_to_remove):\n",
    "    # Add your code here\n",
    "\n"
   ]
  },
  {
   "cell_type": "markdown",
   "metadata": {
    "id": "AgrwAbXhPyP9"
   },
   "source": [
    "#### Test 3.6 Execute the cell below to test your solution..."
   ]
  },
  {
   "cell_type": "code",
   "execution_count": null,
   "metadata": {
    "colab": {
     "base_uri": "https://localhost:8080/"
    },
    "id": "XufXC7PJ-3KT",
    "outputId": "e9ccc120-678c-4a9f-fd71-23af937e9c17"
   },
   "outputs": [],
   "source": [
    "! test/run_test.sh 6"
   ]
  },
  {
   "cell_type": "code",
   "execution_count": null,
   "metadata": {},
   "outputs": [],
   "source": []
  },
  {
   "cell_type": "markdown",
   "metadata": {
    "id": "d2vDc3u12Wuj"
   },
   "source": [
    "### 3.7. Nested List Comprehension\n",
    "\n",
    "Question:\n",
    "\n",
    "You are given a list of lists **all_data = [[\"Sara\", \"Anna\"], [\"Bob\", \"Alexandra\"], [\"David\", \"Amanda\"]]**. \n",
    "\n",
    "Use a nested list comprehension to create a list of all names containing the letter **a** or **A**\n",
    "at least twice.\n",
    "\n",
    "Hint:\n",
    "\n",
    "- Use a nested list comprehension with a condition inside the loop to check for names containing two or more as.\n",
    "- You can use the **.lower()** method to remove capitalization (create all lower case letters)."
   ]
  },
  {
   "cell_type": "code",
   "execution_count": null,
   "metadata": {
    "id": "5Bi4EdFRzqPk"
   },
   "outputs": [],
   "source": [
    "def filter_names_with_a(all_data):\n",
    "    # Add your code here\n",
    "\n"
   ]
  },
  {
   "cell_type": "code",
   "execution_count": null,
   "metadata": {
    "colab": {
     "base_uri": "https://localhost:8080/"
    },
    "id": "Zb3xG76R-3KT",
    "outputId": "bf097529-5395-4adb-f268-6d56b2bc1c2c"
   },
   "outputs": [],
   "source": [
    "# Call the function and print the result\n",
    "all_data = [[\"Sara\", \"Anna\"], [\"Bob\", \"Alexandra\"], [\"David\", \"Amanda\"]]\n",
    "print(filter_names_with_a(all_data))"
   ]
  },
  {
   "cell_type": "markdown",
   "metadata": {
    "id": "hARDq2gy-3KT"
   },
   "source": [
    "#### Save your solution to a file ..."
   ]
  },
  {
   "cell_type": "code",
   "execution_count": null,
   "metadata": {
    "colab": {
     "base_uri": "https://localhost:8080/"
    },
    "id": "FnbssGfj-3KT",
    "outputId": "20c31f1f-bbd7-417c-94f0-2a1a68ee64e6"
   },
   "outputs": [],
   "source": [
    "%%writefile solution_3_7.py\n",
    "\n",
    "def filter_names_with_a(all_data):\n",
    "    # Add your code here\n",
    "\n"
   ]
  },
  {
   "cell_type": "markdown",
   "metadata": {
    "id": "s6mO-Skw-3KT"
   },
   "source": [
    "#### Test 3.7 Execute the cell below to test your solution..."
   ]
  },
  {
   "cell_type": "code",
   "execution_count": null,
   "metadata": {
    "colab": {
     "base_uri": "https://localhost:8080/"
    },
    "id": "VuTRRRA1-3KT",
    "outputId": "db90033b-adff-4051-8b90-f207f31e65ad"
   },
   "outputs": [],
   "source": [
    "! test/run_test.sh 7"
   ]
  },
  {
   "cell_type": "code",
   "execution_count": null,
   "metadata": {
    "id": "OcTKcePW-3KU"
   },
   "outputs": [],
   "source": []
  },
  {
   "cell_type": "markdown",
   "metadata": {
    "id": "LGSZ98Op44Lq"
   },
   "source": [
    "### 3.8. Dictionary Comprehension Using enumerate() Method\n",
    "\n",
    "Question:\n",
    "\n",
    "Given the list strings = [\"apple\", \"banana\", \"orange\"], use dictionary comprehension and the enumerate() method to create a dictionary that maps each string to its index.\n",
    "\n",
    "Hint:\n",
    "\n",
    "- The enumerate() method provides both the index and the value when looping over a sequence.\n",
    "\n",
    "- Use dictionary comprehension in the form {value: index for index, value in enumerate(sequence)}.\n"
   ]
  },
  {
   "cell_type": "code",
   "execution_count": null,
   "metadata": {
    "id": "r4AEGfbRzqSB"
   },
   "outputs": [],
   "source": [
    "def map_strings_to_indices(strings):\n",
    "    # Add your code here\n",
    "\n"
   ]
  },
  {
   "cell_type": "code",
   "execution_count": null,
   "metadata": {
    "colab": {
     "base_uri": "https://localhost:8080/"
    },
    "id": "t9YUxrmh-3KU",
    "outputId": "9bd707a1-9f05-42f8-b963-c135ed5e7304"
   },
   "outputs": [],
   "source": [
    "# Call the function and print the result\n",
    "strings = [\"apple\", \"banana\", \"orange\"]\n",
    "print(map_strings_to_indices(strings))"
   ]
  },
  {
   "cell_type": "markdown",
   "metadata": {
    "id": "Tboyeggj-3KU"
   },
   "source": [
    "#### Save your solution to a file ..."
   ]
  },
  {
   "cell_type": "code",
   "execution_count": null,
   "metadata": {
    "colab": {
     "base_uri": "https://localhost:8080/"
    },
    "id": "OZnr_sHq-3KU",
    "outputId": "61127eef-814a-4afb-e4c8-b8dc5aa6e9c8"
   },
   "outputs": [],
   "source": [
    "%%writefile solution_3_8.py\n",
    "\n",
    "def map_strings_to_indices(strings):\n",
    "    # Add your code here\n",
    "\n"
   ]
  },
  {
   "cell_type": "markdown",
   "metadata": {
    "id": "ZEVtu3Ir-3KU"
   },
   "source": [
    "#### Test 3.8 Execute the cell below to test your solution..."
   ]
  },
  {
   "cell_type": "code",
   "execution_count": null,
   "metadata": {
    "colab": {
     "base_uri": "https://localhost:8080/"
    },
    "id": "xNw-aUcT-3KU",
    "outputId": "8c74df71-b655-4195-bda3-cdc44ebaa0dc"
   },
   "outputs": [],
   "source": [
    "! test/run_test.sh 8"
   ]
  },
  {
   "cell_type": "code",
   "execution_count": null,
   "metadata": {
    "id": "9BUkJpeW-3KU"
   },
   "outputs": [],
   "source": []
  },
  {
   "cell_type": "markdown",
   "metadata": {
    "id": "xm6GH3vFVPwP"
   },
   "source": [
    "### 3.9 Simple Function\n",
    "\n",
    "Question:\n",
    "\n",
    "Create a function called **person_details** that takes two parameters, name and age, and returns three values: the name, the age, and the age squared. Demonstrate how to return multiple values from a function using a single return line.\n",
    "\n",
    "Hint:\n",
    "\n",
    "- You can return several values from a function at once by listing them with commas in the return statement, like return value1, value2, value3, which will return the values as a tuple."
   ]
  },
  {
   "cell_type": "code",
   "execution_count": null,
   "metadata": {
    "id": "TPL9n_5qVPwP"
   },
   "outputs": [],
   "source": [
    "def person_details(name, age):\n",
    "    # Add your code here\n",
    "\n"
   ]
  },
  {
   "cell_type": "code",
   "execution_count": null,
   "metadata": {
    "colab": {
     "base_uri": "https://localhost:8080/"
    },
    "id": "m9Bm1Dho-3KU",
    "outputId": "fd6ef405-c5c9-4940-c952-be6fca87a81d"
   },
   "outputs": [],
   "source": [
    "#Example usage\n",
    "name, age, age_squared = person_details(\"Alice\", 30)\n",
    "print(f\"Name: {name}, Age: {age}, Age Squared: {age_squared}\")"
   ]
  },
  {
   "cell_type": "markdown",
   "metadata": {
    "id": "fWZi7pWk-3KU"
   },
   "source": [
    "#### Save your solution to a file ..."
   ]
  },
  {
   "cell_type": "code",
   "execution_count": null,
   "metadata": {
    "colab": {
     "base_uri": "https://localhost:8080/"
    },
    "id": "GXsswFXl-3KU",
    "outputId": "827aa8d5-007f-4e5e-c637-c4102d6acad8"
   },
   "outputs": [],
   "source": [
    "%%writefile solution_3_9.py\n",
    "\n",
    "def person_details(name, age):\n",
    "    # Add your code here\n",
    "\n"
   ]
  },
  {
   "cell_type": "markdown",
   "metadata": {
    "id": "QZmybh6P-3KU"
   },
   "source": [
    "#### Test 3.9 Execute the cell below to test your solution..."
   ]
  },
  {
   "cell_type": "code",
   "execution_count": null,
   "metadata": {
    "colab": {
     "base_uri": "https://localhost:8080/"
    },
    "id": "D1QFPfra-3KU",
    "outputId": "c1929072-3010-4af9-857f-05d6bcf09ab3"
   },
   "outputs": [],
   "source": [
    "! test/run_test.sh 9"
   ]
  },
  {
   "cell_type": "code",
   "execution_count": null,
   "metadata": {
    "id": "GrCObHk9-3KV"
   },
   "outputs": [],
   "source": []
  },
  {
   "cell_type": "markdown",
   "metadata": {
    "id": "KGeZp89EVPwQ"
   },
   "source": [
    "### 3.10 Functions as objects\n",
    "\n",
    "Question:\n",
    "\n",
    "Create a function named **apply_operations** that takes a list of strings and a list of functions as parameters. \n",
    "\n",
    "The function **apply_operations** should apply each function to every string in the list sequentially and return a list of modified strings. \n",
    "\n",
    "Use built-in string functions like **str.lower** and **str.capitalize** along with one custom function to remove all numeric characters (you can call that custom function **remove_numeric**).\n",
    "\n",
    "Hint :\n",
    "\n",
    "- To apply multiple functions to each string, loop through each string and inside that loop, loop through the list of functions. Apply each function in sequence using **value = func(value)**.\n",
    "\n",
    "- Include both built-in string methods and custom functions in your operations list."
   ]
  },
  {
   "cell_type": "code",
   "execution_count": null,
   "metadata": {
    "id": "-NGwkHCeVPwQ"
   },
   "outputs": [],
   "source": [
    "import re\n",
    "\n",
    "def remove_numeric(value):\n",
    "    # Add your code here\n",
    "    \n",
    "\n",
    "\n",
    "# List of operations to be applied\n",
    "ops = [str.lower, remove_numeric, str.capitalize]\n",
    "\n",
    "# Function to apply operations to each string in the list\n",
    "def apply_operations(strings, ops):\n",
    "    #Add your code here\n",
    "    \n"
   ]
  },
  {
   "cell_type": "code",
   "execution_count": null,
   "metadata": {
    "colab": {
     "base_uri": "https://localhost:8080/"
    },
    "id": "5z8l8ElJ-3KV",
    "outputId": "ff302280-adc3-4fd8-8f38-e51f942fbc98"
   },
   "outputs": [],
   "source": [
    "# Example usage\n",
    "sample_strings = [\"Hello123\", \"World!456\"]\n",
    "modified_strings = apply_operations(sample_strings, ops)\n",
    "print(modified_strings)"
   ]
  },
  {
   "cell_type": "markdown",
   "metadata": {
    "id": "L70OpEoq-3KV"
   },
   "source": [
    "#### Save your solution to a file ..."
   ]
  },
  {
   "cell_type": "code",
   "execution_count": null,
   "metadata": {
    "colab": {
     "base_uri": "https://localhost:8080/"
    },
    "id": "l8Shz3L5-3KV",
    "outputId": "c90c92b0-60d5-43cb-e4a2-2119fee878c2"
   },
   "outputs": [],
   "source": [
    "%%writefile solution_3_10.py\n",
    "\n",
    "import re\n",
    "\n",
    "def remove_numeric(value):\n",
    "    # Add your code here\n",
    "    \n",
    "\n",
    "\n",
    "# List of operations to be applied\n",
    "ops = [str.lower, remove_numeric, str.capitalize]\n",
    "\n",
    "# Function to apply operations to each string in the list\n",
    "def apply_operations(strings, ops):\n",
    "    #Add your code here\n",
    "    \n"
   ]
  },
  {
   "cell_type": "markdown",
   "metadata": {
    "id": "cKYkg-Oc-3KV"
   },
   "source": [
    "\\#### Test 3.10 Execute the cell below to test your solution..."
   ]
  },
  {
   "cell_type": "code",
   "execution_count": null,
   "metadata": {
    "colab": {
     "base_uri": "https://localhost:8080/"
    },
    "id": "UIYcWeA0-3KV",
    "outputId": "708dbf66-7c85-4b78-9381-98d109fc8a6c"
   },
   "outputs": [],
   "source": [
    "! test/run_test.sh 10"
   ]
  },
  {
   "cell_type": "code",
   "execution_count": null,
   "metadata": {
    "id": "cjEOjlys-3KV"
   },
   "outputs": [],
   "source": []
  },
  {
   "cell_type": "markdown",
   "metadata": {
    "id": "riuUrO72VPwQ"
   },
   "source": [
    "### 3.11 lambda functions\n",
    "\n",
    "Question:\n",
    "\n",
    "Write a Python script using a lambda function to check if a given number is even. Assign this lambda function to a variable called is_even, and use it to evaluate a number.\n",
    "\n",
    "Hint:\n",
    "\n",
    "Lambda functions allow for quick definitions of small functions. You can use the modulo operator % to check if a number is even. Define the lambda function with the logic x % 2 == 0 to determine evenness."
   ]
  },
  {
   "cell_type": "code",
   "execution_count": null,
   "metadata": {
    "id": "wIVZH885VPwQ"
   },
   "outputs": [],
   "source": [
    "# Add your code below\n",
    "is_even = "
   ]
  },
  {
   "cell_type": "code",
   "execution_count": null,
   "metadata": {
    "id": "8v1GOAko-3KV",
    "outputId": "59c83ea9-2074-45ea-9cb0-9a4452ad33f8"
   },
   "outputs": [],
   "source": [
    "# Example usage\n",
    "print(is_even(10))  # Should return True"
   ]
  },
  {
   "cell_type": "markdown",
   "metadata": {
    "id": "qcRC2lJn-3KV"
   },
   "source": [
    "#### Save your solution to a file ..."
   ]
  },
  {
   "cell_type": "code",
   "execution_count": null,
   "metadata": {
    "id": "bgtENsXX-3KV",
    "outputId": "f8313141-ffee-4f46-cb02-9b971ca34f97"
   },
   "outputs": [],
   "source": [
    "%%writefile solution_3_11.py\n",
    "\n",
    "# Add your code below\n",
    "is_even = "
   ]
  },
  {
   "cell_type": "markdown",
   "metadata": {
    "id": "I-pd8h8B-3KV"
   },
   "source": [
    "#### Test 3.11 Execute the cell below to test your solution..."
   ]
  },
  {
   "cell_type": "code",
   "execution_count": null,
   "metadata": {
    "id": "bsfnslef-3KV",
    "outputId": "c3878b3e-78d9-4a4c-fad5-70e78726027d"
   },
   "outputs": [],
   "source": [
    "! test/run_test.sh 11"
   ]
  },
  {
   "cell_type": "code",
   "execution_count": null,
   "metadata": {
    "id": "D4ZWn3o--3KV"
   },
   "outputs": [],
   "source": []
  },
  {
   "cell_type": "markdown",
   "metadata": {
    "id": "dJIcFZEkVPwQ"
   },
   "source": [
    "### 3.12 Generators\n",
    "\n",
    "Question:\n",
    "Create a Python generator function called fibonacci that yields the sequence of Fibonacci numbers indefinitely.\n",
    "\n",
    "Hint:\n",
    "\n",
    "A generator function can produce a sequence over time rather than all at once. For the Fibonacci sequence, start with two numbers, 0 and 1. Use a loop inside the generator to continuously produce the next Fibonacci number by summing the two most recent numbers.\n"
   ]
  },
  {
   "cell_type": "code",
   "execution_count": null,
   "metadata": {
    "id": "GVaVxpvWVPwQ"
   },
   "outputs": [],
   "source": [
    "def fibonacci(n):\n",
    "    # Add your code here\n",
    "\n",
    "\n",
    "        yield a"
   ]
  },
  {
   "cell_type": "code",
   "execution_count": null,
   "metadata": {
    "id": "K27GXXMI-3KW",
    "outputId": "f87d8c63-6d67-4e6e-d757-8a434a724e9e"
   },
   "outputs": [],
   "source": [
    "# Example usage to get the first 10 Fibonacci numbers\n",
    "fibonacci(10)"
   ]
  },
  {
   "cell_type": "code",
   "execution_count": null,
   "metadata": {},
   "outputs": [],
   "source": [
    "list(fibonacci(10))"
   ]
  },
  {
   "cell_type": "markdown",
   "metadata": {
    "id": "BcsqSR2z-3KW"
   },
   "source": [
    "#### Save your solution to a file ..."
   ]
  },
  {
   "cell_type": "code",
   "execution_count": null,
   "metadata": {
    "id": "p-C_ZN8T-3KW",
    "outputId": "576bcf99-7ec7-4eee-9b6b-fa63fd430ee2"
   },
   "outputs": [],
   "source": [
    "%%writefile solution_3_12.py\n",
    "\n",
    "def fibonacci(n):\n",
    "    # Add your code here\n",
    "\n",
    "\n",
    "        yield a"
   ]
  },
  {
   "cell_type": "markdown",
   "metadata": {
    "id": "AzNKdEor-3KW"
   },
   "source": [
    "#### Test 3.12 Execute the cell below to test your solution..."
   ]
  },
  {
   "cell_type": "code",
   "execution_count": null,
   "metadata": {
    "id": "_Y9Ct6lh-3KW",
    "outputId": "209bef23-6207-4420-cdc0-ce5a6e035f51"
   },
   "outputs": [],
   "source": [
    "! test/run_test.sh 12"
   ]
  },
  {
   "cell_type": "code",
   "execution_count": null,
   "metadata": {
    "id": "vtdlWoZo-3KW"
   },
   "outputs": [],
   "source": []
  },
  {
   "cell_type": "markdown",
   "metadata": {
    "id": "J8jA8DytVPwQ"
   },
   "source": [
    "### 3.13 Files and the Operating System\n",
    "\n",
    "Question:\n",
    "\n",
    "Write a Python script to count the number of lines in a text file named simple_text.txt.\n",
    "\n",
    "Hint:\n",
    "\n",
    "Open the file in read mode and use a loop to count how many lines are in the file. Each iteration of the loop represents one line."
   ]
  },
  {
   "cell_type": "code",
   "execution_count": null,
   "metadata": {
    "id": "RJOTvGGDVPwQ",
    "outputId": "1935f1df-756e-4a7a-ec6e-f3d6daf9ac47"
   },
   "outputs": [],
   "source": [
    "def line_count(path):\n",
    "    # Add your code here\n",
    "\n",
    "\n"
   ]
  },
  {
   "cell_type": "code",
   "execution_count": null,
   "metadata": {
    "id": "a0aOeK8j-3KW"
   },
   "outputs": [],
   "source": [
    "# Example usage\n",
    "path = 'input_3.13.txt' #Simple_text.txt\n",
    "lines = line_count(path)\n",
    "print(f\"There are {lines} lines in the file.\")"
   ]
  },
  {
   "cell_type": "markdown",
   "metadata": {
    "id": "_UwsKw0j-3KW"
   },
   "source": [
    "#### Save your solution to a file ..."
   ]
  },
  {
   "cell_type": "code",
   "execution_count": null,
   "metadata": {
    "id": "kBi9kCer-3KW"
   },
   "outputs": [],
   "source": [
    "%%writefile solution_3_13.py\n",
    "\n",
    "def line_count(path):\n",
    "    # Add your code here\n",
    "\n",
    "\n"
   ]
  },
  {
   "cell_type": "markdown",
   "metadata": {
    "id": "op9AZksF-3KW"
   },
   "source": [
    "#### Test 3.13 Execute the cell below to test your solution..."
   ]
  },
  {
   "cell_type": "code",
   "execution_count": null,
   "metadata": {
    "id": "kNPIZiFb-3KW"
   },
   "outputs": [],
   "source": [
    "! test/run_test.sh 13"
   ]
  },
  {
   "cell_type": "code",
   "execution_count": null,
   "metadata": {
    "id": "iN817Mpd-3KW"
   },
   "outputs": [],
   "source": []
  },
  {
   "cell_type": "markdown",
   "metadata": {
    "id": "3h2gmX45VPwQ"
   },
   "source": [
    "### 3.14 Read From and Write To a File with Line Count\n",
    "\n",
    "Write a Python script that opens an existing text file called input.txt and writes all lines that contain more than one character to a new file called output.txt.\n",
    "\n",
    "Hint:\n",
    "Use a file context manager to open the source file and the destination file. Inside the context manager, employ a generator expression to filter and directly write lines that are longer than one character from input.txt to output.txt.\n"
   ]
  },
  {
   "cell_type": "code",
   "execution_count": null,
   "metadata": {
    "id": "fxoizm8dVPwQ"
   },
   "outputs": [],
   "source": [
    "def filter_lines(input_path, output_path):\n",
    "    # Add your code here\n",
    "\n",
    "\n"
   ]
  },
  {
   "cell_type": "code",
   "execution_count": null,
   "metadata": {
    "id": "kZVhw9Kr-3KW"
   },
   "outputs": [],
   "source": [
    "# Example usage\n",
    "# Confirm that the content has been written to the output file\n",
    "input_path = 'input_3.14.txt'\n",
    "output_path = 'output_3.14.txt'\n",
    "filter_lines(input_path, output_path)"
   ]
  },
  {
   "cell_type": "markdown",
   "metadata": {
    "id": "h_GfDcDm-3KW"
   },
   "source": [
    "#### Save your solution to a file ..."
   ]
  },
  {
   "cell_type": "code",
   "execution_count": null,
   "metadata": {
    "id": "27LR0ICH-3KW"
   },
   "outputs": [],
   "source": [
    "%%writefile solution_3_14.py\n",
    "\n",
    "def filter_lines(input_path, output_path):\n",
    "    # Add your code here\n",
    "\n",
    "\n"
   ]
  },
  {
   "cell_type": "markdown",
   "metadata": {
    "id": "ygSMY5I9-3KW"
   },
   "source": [
    "#### Test 3.14 Execute the cell below to test your solution..."
   ]
  },
  {
   "cell_type": "code",
   "execution_count": null,
   "metadata": {
    "id": "XMcnwcT8-3KX"
   },
   "outputs": [],
   "source": [
    "! test/run_test.sh 14"
   ]
  },
  {
   "cell_type": "code",
   "execution_count": null,
   "metadata": {
    "id": "am11U8b_-3KX"
   },
   "outputs": [],
   "source": []
  },
  {
   "cell_type": "markdown",
   "metadata": {
    "id": "cJr_2yzO-3KX"
   },
   "source": [
    "### 3.15 Get Minimum and Maximum from a List of Numbers"
   ]
  },
  {
   "cell_type": "markdown",
   "metadata": {
    "id": "81QHEzGG-3KX"
   },
   "source": [
    "Question:\n",
    "\n",
    "Create a function named get_min_max that accepts a list of numbers and returns both the minimum and maximum values from that list.\n",
    "\n",
    "Hint :\n",
    "You can return multiple values from a function by separating them with commas in the return statement. Use Python's built-in min() and max() functions to directly obtain these values."
   ]
  },
  {
   "cell_type": "code",
   "execution_count": null,
   "metadata": {
    "id": "w0gOvN2c-3KX"
   },
   "outputs": [],
   "source": [
    "def get_min_max(numbers_list):\n",
    "    # Add your code here\n",
    "\n",
    "\n"
   ]
  },
  {
   "cell_type": "code",
   "execution_count": null,
   "metadata": {
    "id": "fV5HQck4-3KX"
   },
   "outputs": [],
   "source": [
    "# Example usage\n",
    "numbers_list = [4, 11, 42, 3, 56, 28]\n",
    "min_value, max_value = get_min_max(numbers_list)\n",
    "print(f\"Minimum: {min_value}, Maximum: {max_value}\")"
   ]
  },
  {
   "cell_type": "markdown",
   "metadata": {},
   "source": [
    "#### Save your solution to a file ..."
   ]
  },
  {
   "cell_type": "code",
   "execution_count": null,
   "metadata": {
    "id": "SLpAz_fr-3KX"
   },
   "outputs": [],
   "source": [
    "%%writefile solution_3_15.py\n",
    "\n",
    "def get_min_max(numbers_list):\n",
    "    # Add your code here\n",
    "\n",
    "\n"
   ]
  },
  {
   "cell_type": "markdown",
   "metadata": {},
   "source": [
    "#### Test 3.15 Execute the cell below to test your solution..."
   ]
  },
  {
   "cell_type": "code",
   "execution_count": null,
   "metadata": {
    "id": "KXFfya0caz0k"
   },
   "outputs": [],
   "source": [
    "! test/run_test.sh 15"
   ]
  },
  {
   "cell_type": "code",
   "execution_count": null,
   "metadata": {},
   "outputs": [],
   "source": []
  },
  {
   "cell_type": "markdown",
   "metadata": {
    "id": "sdwWKAGi-3KX"
   },
   "source": [
    "### 3.16 Get a list of books from an author\n",
    "A library has a list of books and their authors. Write a function that takes this list of dicts as input and returns a new list of books written by a given author.\n",
    "\n",
    "Example:\n",
    "- Input:\n",
    "    ```\n",
    "        books = [\n",
    "            {\"name\": \"The Lord of the Rings\", \"author\": \"J.R.R. Tolkien\"},\n",
    "            {\"name\": \"The Hitchhiker's Guide to the Galaxy\", \"author\": \"Douglas Adams\"}\n",
    "        ]\n",
    "    ```\n",
    "- Output: [\"The Lord of the Rings\"] (if author chosen as \"J.R.R. Tolkien\")"
   ]
  },
  {
   "cell_type": "code",
   "execution_count": null,
   "metadata": {
    "id": "KTTyt-d1-3KX"
   },
   "outputs": [],
   "source": [
    "from typing import Dict, List\n",
    "\n",
    "def get_books_by_author(books: Dict, author: str) -> List:\n",
    "    ### your code here\n",
    "\n",
    "\n"
   ]
  },
  {
   "cell_type": "markdown",
   "metadata": {
    "id": "axGyUM5O-3KX"
   },
   "source": [
    "#### Save your solution to a file ..."
   ]
  },
  {
   "cell_type": "code",
   "execution_count": null,
   "metadata": {
    "id": "BdM2oWa4-3KX",
    "outputId": "3b1c9774-363f-4e06-da1f-db456bc3aa6e"
   },
   "outputs": [],
   "source": [
    "%%writefile solution_3_16.py\n",
    "\n",
    "from typing import Dict, List\n",
    "\n",
    "def get_books_by_author(books: Dict, author: str) -> List:\n",
    "    ### your code here\n",
    "\n",
    "\n"
   ]
  },
  {
   "cell_type": "code",
   "execution_count": null,
   "metadata": {
    "id": "QL225wnt-3KX",
    "outputId": "76489fd5-5804-461d-c275-eea13768cec4"
   },
   "outputs": [],
   "source": [
    "# Try your code\n",
    "from solution_3_16 import get_books_by_author\n",
    "\n",
    "books = [\n",
    "    {\"name\": \"The Lord of the Rings\", \"author\": \"J.R.R. Tolkien\"},\n",
    "    {\"name\": \"The Hitchhiker's Guide to the Galaxy\", \"author\": \"Douglas Adams\"}\n",
    "]\n",
    "\n",
    "display(\n",
    "    get_books_by_author(books, 'Douglas Adams')\n",
    ")"
   ]
  },
  {
   "cell_type": "markdown",
   "metadata": {
    "id": "ExsAIUkC-3KX"
   },
   "source": [
    "#### Test 3.16 Execute the cell below to test your solution..."
   ]
  },
  {
   "cell_type": "code",
   "execution_count": null,
   "metadata": {
    "id": "Az0nSZJX-3KX",
    "outputId": "ef9b7764-f939-43fe-c11a-dc2f3153545f"
   },
   "outputs": [],
   "source": [
    "! test/run_test.sh 16"
   ]
  },
  {
   "cell_type": "code",
   "execution_count": null,
   "metadata": {
    "id": "NGDz0_5Taz0k"
   },
   "outputs": [],
   "source": []
  },
  {
   "cell_type": "markdown",
   "metadata": {
    "id": "o1GCSVju-3KX"
   },
   "source": [
    "### 3.17 Calculate the grocery shop bill\n",
    "\n",
    "1. Create a function to calculate the grocery shop bill.\n",
    "2. A grocery store has a list (list of dicts. each dict for each product) of products and their prices.\n",
    "3. There is another list for the quantities of each product that is bought\n",
    "4. Write a function that takes these two list and returns the total cost of the bill..\n",
    "\n",
    "Example:\n",
    "- Input:\n",
    "    price = products = [\n",
    "        {\"name\": \"Apple\", \"price\": 1.50},\n",
    "        {\"name\": \"Banana\", \"price\": 0.50}\n",
    "        ]\n",
    "    quantity = quantities= [\n",
    "        {\"name\": \"Apple\", \"quantit\": 3},\n",
    "        {\"name\": \"Banana\", \"quantit\": 6}\n",
    "        ]\n",
    "- Output: ```Bill = 3 times 1.5 + 0.5 times 6 = 7.5```"
   ]
  },
  {
   "cell_type": "code",
   "execution_count": null,
   "metadata": {
    "id": "6EqiWIPV-3KX"
   },
   "outputs": [],
   "source": [
    "from typing import List, Dict\n",
    "\n",
    "def get_total_grocery_bill(products: Dict, quantities: Dict) -> float:\n",
    "    # Write your code here. Take care of indentation\n",
    "\n",
    "\n"
   ]
  },
  {
   "cell_type": "markdown",
   "metadata": {
    "id": "lMdK1zkF-3KX"
   },
   "source": [
    "#### Save your solution to a file .."
   ]
  },
  {
   "cell_type": "code",
   "execution_count": null,
   "metadata": {
    "id": "LT6s5EXb-3KX",
    "outputId": "d5676852-c838-43c2-c46d-f7bbadfee211"
   },
   "outputs": [],
   "source": [
    "%%writefile solution_3_17.py\n",
    "\n",
    "from typing import List, Dict\n",
    "\n",
    "def get_total_grocery_bill(products: Dict, quantities: Dict) -> float:\n",
    "    # Write your code here. Take care of indentation\n",
    "\n",
    "\n"
   ]
  },
  {
   "cell_type": "code",
   "execution_count": null,
   "metadata": {
    "id": "pY5HzXMM-3KX",
    "outputId": "9fb33594-b2a6-4d94-b315-f77d7c034f38"
   },
   "outputs": [],
   "source": [
    "# Try your code\n",
    "from solution_3_17 import get_total_grocery_bill\n",
    "\n",
    "products = [\n",
    "  {\"name\": \"Apple\", \"price\": 1.50},\n",
    "  {\"name\": \"Banana\", \"price\": 0.50}\n",
    "]\n",
    "\n",
    "quantity = quantities= [\n",
    "  {\"name\": \"Apple\", \"quantit\": 3},\n",
    "  {\"name\": \"Banana\", \"quantit\": 6}\n",
    "]\n",
    "\n",
    "amount = get_total_grocery_bill(products, quantities)\n",
    "print(f\"Your grocery bill is: ${amount:.2f}\")"
   ]
  },
  {
   "cell_type": "markdown",
   "metadata": {
    "id": "fbcsvUGH-3KX"
   },
   "source": [
    "#### Test 3.17 Execute the cell below to test your solution..."
   ]
  },
  {
   "cell_type": "code",
   "execution_count": null,
   "metadata": {
    "id": "2bKsejtd-3KX",
    "outputId": "f78e907d-f165-475a-9e85-69ac8b266984"
   },
   "outputs": [],
   "source": [
    "! test/run_test.sh 17"
   ]
  },
  {
   "cell_type": "code",
   "execution_count": null,
   "metadata": {
    "id": "YUC5uKI4-3KY"
   },
   "outputs": [],
   "source": []
  },
  {
   "cell_type": "markdown",
   "metadata": {
    "id": "z0IGzSLP-3KY"
   },
   "source": [
    "### 3.18 Matrix Row and Column Operations\n",
    "1. Create a function **swap_rows_and_columns** that takes a matrix (NumPy array) and two integers i and j as input.\n",
    "2. The function should swap the i-th row and j-th row of the matrix and also swap the i-th column and j-th column.\n",
    "3. Return the modified matrix."
   ]
  },
  {
   "cell_type": "code",
   "execution_count": null,
   "metadata": {
    "id": "QD7m4EUZ-3KY"
   },
   "outputs": [],
   "source": [
    "import numpy as np\n",
    "\n",
    "def swap_rows_and_columns(matrix: np.ndarray, i: int, j: int) -> np.ndarray:\n",
    "    ### your code here\n",
    "\n",
    "\n",
    "    return matrix"
   ]
  },
  {
   "cell_type": "markdown",
   "metadata": {
    "id": "o2qy9mug-3KY"
   },
   "source": [
    "#### Save your solution to a file .."
   ]
  },
  {
   "cell_type": "code",
   "execution_count": null,
   "metadata": {
    "id": "UFu1LdEq-3KY",
    "outputId": "fe79d66b-3820-4188-fd5f-bcf29eaadef9"
   },
   "outputs": [],
   "source": [
    "%%writefile solution_3_18.py\n",
    "\n",
    "import numpy as np\n",
    "\n",
    "def swap_rows_and_columns(matrix: np.ndarray, i: int, j: int) -> np.ndarray:\n",
    "    ### your code here\n",
    "\n",
    "\n",
    "    return matrix"
   ]
  },
  {
   "cell_type": "code",
   "execution_count": null,
   "metadata": {
    "id": "1pZsWhb0-3KY",
    "outputId": "8b784468-fa12-4129-c2d3-d5f4e30c09fb"
   },
   "outputs": [],
   "source": [
    "# Try your code\n",
    "import numpy as np\n",
    "\n",
    "from solution_3_18 import swap_rows_and_columns\n",
    "\n",
    "matrix = np.array([[1, 2, 3],\n",
    "                   [4, 5, 6],\n",
    "                   [7, 8, 9]])\n",
    "\n",
    "res = swap_rows_and_columns(matrix, 1, 2)\n",
    "print(res)"
   ]
  },
  {
   "cell_type": "markdown",
   "metadata": {
    "id": "uyUsmf4t-3KY"
   },
   "source": [
    "#### Test 3.18 Execute the cell below to test your solution..."
   ]
  },
  {
   "cell_type": "code",
   "execution_count": null,
   "metadata": {
    "id": "hrlHqIoq-3KY",
    "outputId": "4fb6adaf-943a-4f8a-9adb-0009d9c32aab"
   },
   "outputs": [],
   "source": [
    "! test/run_test.sh 18"
   ]
  },
  {
   "cell_type": "code",
   "execution_count": null,
   "metadata": {
    "id": "qusOp-PG-3KY"
   },
   "outputs": [],
   "source": []
  },
  {
   "cell_type": "markdown",
   "metadata": {
    "id": "FJ3dEJh8-3KY"
   },
   "source": [
    "### 3.19 Matrix Concatenation\n",
    "\n",
    "1. Create a  function `concatenate_matrices` that takes two matrices (NumPy arrays) as input\n",
    "2. The function should concatenate them horizontally if they have the same number of rows or vertically if they have the same number of columns.\n",
    "3. Return the modified matrix.\n",
    "4. If concatenation is not possible, return the following message: \"Concatenation not possible: Dimensions do not match.\""
   ]
  },
  {
   "cell_type": "code",
   "execution_count": null,
   "metadata": {
    "id": "RcOMDfAU-3KY"
   },
   "outputs": [],
   "source": [
    "import numpy as np\n",
    "\n",
    "def concatenate_matrices(matrix1: np.ndarray, matrix2: np.ndarray) -> np.ndarray:\n",
    "    ### your code here\n",
    "\n",
    "\n"
   ]
  },
  {
   "cell_type": "markdown",
   "metadata": {
    "id": "smWKhNZc-3KY"
   },
   "source": [
    "#### Save your solution to a file .."
   ]
  },
  {
   "cell_type": "code",
   "execution_count": null,
   "metadata": {
    "id": "MM_e0vLj-3KY",
    "outputId": "3cc89a84-a6a2-4cde-9a72-d35d8dabef95"
   },
   "outputs": [],
   "source": [
    "%%writefile solution_3_19.py\n",
    "\n",
    "import numpy as np\n",
    "\n",
    "def concatenate_matrices(matrix1: np.ndarray, matrix2: np.ndarray) -> np.ndarray:\n",
    "    ### your code here\n",
    "\n",
    "\n"
   ]
  },
  {
   "cell_type": "code",
   "execution_count": null,
   "metadata": {
    "id": "j-8XlIF9-3KY",
    "outputId": "5aeca929-b3f5-48c1-c88f-b01ac481252b"
   },
   "outputs": [],
   "source": [
    "# Try your code\n",
    "from pprint import pprint\n",
    "from solution_3_19 import concatenate_matrices\n",
    "\n",
    "matrix1 = np.array([[5, 6],\n",
    "                    [7, 8]])\n",
    "\n",
    "matrix2 = np.array([[9, 10, 11],\n",
    "                  [12, 13, 14]])\n",
    "\n",
    "matrix3 = concatenate_matrices(matrix1, matrix2)\n",
    "pprint(matrix3)"
   ]
  },
  {
   "cell_type": "markdown",
   "metadata": {
    "id": "TBYmHYwM-3KY"
   },
   "source": [
    "#### Test 3.19 Execute the cell below to test your solution..."
   ]
  },
  {
   "cell_type": "code",
   "execution_count": null,
   "metadata": {
    "id": "E2wq25s--3KY",
    "outputId": "8c1c510a-5a0f-40e1-c8b5-5d73dd4d5524"
   },
   "outputs": [],
   "source": [
    "! test/run_test.sh 19"
   ]
  },
  {
   "cell_type": "code",
   "execution_count": null,
   "metadata": {
    "id": "7amRz9UZ-3KY"
   },
   "outputs": [],
   "source": []
  },
  {
   "cell_type": "markdown",
   "metadata": {
    "id": "Pkjfi-Z_-3KY"
   },
   "source": [
    "### 3.20 Scale Matrix Row\n",
    "\n",
    "1. Write a function **scale_row** that takes a matrix (NumPy array) ,  an integer i and an integer scalar as input.\n",
    "2. The function should check if the specified row index (i) is within the valid range\n",
    "3. If i is valid, the function should scale the i-th row of the matrix by a given scalar value and return the modified matrix.\n",
    "4. If the row i is not valid, print \"Row not valid.\""
   ]
  },
  {
   "cell_type": "code",
   "execution_count": null,
   "metadata": {
    "id": "I2qPEWey-3KY"
   },
   "outputs": [],
   "source": [
    "import numpy as np\n",
    "\n",
    "def scale_row(matrix: np.ndarray, i: int, scalar: int):\n",
    "    ### your code here\n",
    "\n",
    "\n",
    "\n"
   ]
  },
  {
   "cell_type": "markdown",
   "metadata": {
    "id": "XrsANAvh-3KY"
   },
   "source": [
    "#### Save your solution to a file .."
   ]
  },
  {
   "cell_type": "code",
   "execution_count": null,
   "metadata": {
    "id": "Jtu6X1Oj-3KZ",
    "outputId": "e17aa963-9190-4a5a-9144-0b2ad8a5f7c7"
   },
   "outputs": [],
   "source": [
    "%%writefile solution_3_20.py\n",
    "\n",
    "import numpy as np\n",
    "\n",
    "def scale_row(matrix: np.ndarray, i: int, scalar: int):\n",
    "    ### your code here\n",
    "\n",
    "\n",
    "\n"
   ]
  },
  {
   "cell_type": "code",
   "execution_count": null,
   "metadata": {
    "id": "J9bjBLTc-3KZ",
    "outputId": "e96482cc-067b-4b7f-c8dd-14f063c1ab11"
   },
   "outputs": [],
   "source": [
    "# Try your code\n",
    "import numpy as np\n",
    "from pprint import pprint\n",
    "from solution_3_20 import scale_row\n",
    "\n",
    "matrix = np.array([[1, 2, 3],\n",
    "                   [4, 5, 6],\n",
    "                   [7, 8, 9]])\n",
    "\n",
    "scaled_matrix = scale_row(matrix, 1, 3)\n",
    "pprint(scaled_matrix)"
   ]
  },
  {
   "cell_type": "markdown",
   "metadata": {
    "id": "Fabqqidh-3KZ"
   },
   "source": [
    "#### Test 3.20 Execute the cell below to test your solution..."
   ]
  },
  {
   "cell_type": "code",
   "execution_count": null,
   "metadata": {
    "id": "udod4WdW-3KZ",
    "outputId": "55e673f3-a991-49b6-8814-e53518851e82"
   },
   "outputs": [],
   "source": [
    "! test/run_test.sh 20"
   ]
  },
  {
   "cell_type": "code",
   "execution_count": null,
   "metadata": {
    "id": "gdxJFZdL-3KZ"
   },
   "outputs": [],
   "source": []
  },
  {
   "cell_type": "markdown",
   "metadata": {
    "id": "NCnKfsyJ-3KZ"
   },
   "source": [
    "## Run All Tests One More Time ..."
   ]
  },
  {
   "cell_type": "code",
   "execution_count": null,
   "metadata": {
    "id": "hbpRwh-E-3KZ",
    "outputId": "6f4ec1a0-7818-4461-fc93-707a83e93bce"
   },
   "outputs": [],
   "source": [
    "! test/run_test.sh"
   ]
  },
  {
   "cell_type": "markdown",
   "metadata": {
    "id": "nlc_YM7x-3KZ"
   },
   "source": [
    "# Homework Submission\n",
    "\n",
    "- This homework is due by January 31, 2004, 5:30PM (EDT)\n",
    "- Make sure that all your programs and output files are in the exact folder as specified in the instructions.\n",
    "- All file names on this system are case sensitive. Verify if you copy your work from a local computer to your home directory on ARC.\n",
    "\n",
    "**Run the cell below to submit your work.**\n",
    "\n",
    "- You may submit your work multipe times up to the deadline of the assignment.\n",
    "- Please note that any files that you previously submitted will\n",
    "be overwritten by your current files.\n",
    "! ./submit.sh -y"
   ]
  },
  {
   "cell_type": "code",
   "execution_count": null,
   "metadata": {
    "id": "4VFeqxSh-3KZ",
    "outputId": "287adbbc-73ab-4838-cc7c-d28620fee807"
   },
   "outputs": [],
   "source": [
    "! ./submit.sh -y"
   ]
  },
  {
   "cell_type": "code",
   "execution_count": null,
   "metadata": {},
   "outputs": [],
   "source": []
  }
 ],
 "metadata": {
  "colab": {
   "provenance": [],
   "toc_visible": true
  },
  "kernelspec": {
   "display_name": "Python 3 (ipykernel)",
   "language": "python",
   "name": "python3"
  },
  "language_info": {
   "codemirror_mode": {
    "name": "ipython",
    "version": 3
   },
   "file_extension": ".py",
   "mimetype": "text/x-python",
   "name": "python",
   "nbconvert_exporter": "python",
   "pygments_lexer": "ipython3",
   "version": "3.8.6"
  }
 },
 "nbformat": 4,
 "nbformat_minor": 4
}
