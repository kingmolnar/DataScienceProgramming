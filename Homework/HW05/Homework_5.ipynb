{
 "cells": [
  {
   "cell_type": "markdown",
   "metadata": {},
   "source": [
    "# Homework 5\n",
    "\n",
    "<p style=\\\"text-align:center;color:red;font-weight:bold;font-size:16pt;padding-bottom:20px\\\">Please, copy this notebook before editing!</p>"
   ]
  },
  {
   "cell_type": "code",
   "execution_count": null,
   "metadata": {},
   "outputs": [],
   "source": []
  },
  {
   "cell_type": "markdown",
   "metadata": {},
   "source": [
    "## Data Aggregation and Group Operations\n",
    "\n",
    "Review Chapter [10 Data Aggregation and Group Operations](https://wesmckinney.com/book/data-aggregation)\n",
    "of the [Python book](https://wesmckinney.com/book/).\n",
    "\n",
    "These exercises make use of the following Python packages:\n",
    "- [NumPy](https://numpy.org/doc/stable/)\n",
    "- [pandas](https://pandas.pydata.org/docs/index.html)\n",
    "\n",
    "The following data sources are used:\n",
    "1. `students_data.csv` [ https://www.kaggle.com/datasets/larsen0966/student-performance-data-set]( https://www.kaggle.com/datasets/larsen0966/student-performance-data-set) \n",
    "2. The other datasets used are the inbuilt datasets from scikit learn library"
   ]
  },
  {
   "cell_type": "code",
   "execution_count": null,
   "metadata": {},
   "outputs": [],
   "source": [
    "%reload_ext autoreload\n",
    "%autoreload 2\n",
    "\n",
    "import pandas as pd\n",
    "import numpy as np\n",
    "import hashlib\n",
    "import seaborn as sns"
   ]
  },
  {
   "cell_type": "markdown",
   "metadata": {},
   "source": [
    "### 5.1 Groupby Passenger count\n",
    "Instructions\n",
    "1. Load the `flights` dataset provided by seaborn.\n",
    "2. The goal is to find the yearly passenger count. Use .groupby() to find the total number of passengers each year\n",
    "3.  Save this as a csv file called `flights_5_1.csv` ( please `reset_index()` before saving & Make sure to set the index to False )\n",
    "\n",
    "Note:\n",
    "- The final dataframe should have two columns. `year`, `passengers`"
   ]
  },
  {
   "cell_type": "code",
   "execution_count": null,
   "metadata": {},
   "outputs": [],
   "source": [
    "import seaborn as sns\n",
    "\n",
    "### your code here\n",
    "\n",
    "\n",
    "\n"
   ]
  },
  {
   "cell_type": "code",
   "execution_count": null,
   "metadata": {},
   "outputs": [],
   "source": [
    "# Try your code\n",
    "df = pd.read_csv('flights_5_1.csv')\n",
    "df"
   ]
  },
  {
   "cell_type": "markdown",
   "metadata": {},
   "source": [
    "#### Test 5.1 "
   ]
  },
  {
   "cell_type": "code",
   "execution_count": null,
   "metadata": {},
   "outputs": [],
   "source": [
    "! test/run_test.sh 1"
   ]
  },
  {
   "cell_type": "markdown",
   "metadata": {},
   "source": [
    "### 5.2 Groupby several functions\n",
    "Instructions\n",
    "1. Load the `flights` dataset provided by seaborn.\n",
    "2. The goal is to find the maximum, mean and minimum count of passengers each month. Use .groupby() to find the statistics of each month using .agg() by passing max ,mean and min.\n",
    "3.  Save this as a csv file called `flights_5_2.csv` ( please `reset_index()` before saving & Make sure to set the index to False )\n",
    "\n",
    "Note:\n",
    "- The final dataframe should have four columns. `month`, `max`, `mean`, `min`"
   ]
  },
  {
   "cell_type": "code",
   "execution_count": null,
   "metadata": {},
   "outputs": [],
   "source": []
  },
  {
   "cell_type": "code",
   "execution_count": null,
   "metadata": {},
   "outputs": [],
   "source": [
    "### your code here\n",
    "\n",
    "\n",
    "\n",
    "\n",
    "\n",
    "\n",
    "\n",
    "\n"
   ]
  },
  {
   "cell_type": "code",
   "execution_count": null,
   "metadata": {},
   "outputs": [],
   "source": [
    "# Try your code\n",
    "df = pd.read_csv('flights_5_2.csv')\n",
    "df"
   ]
  },
  {
   "cell_type": "markdown",
   "metadata": {},
   "source": [
    "#### Test 5.2 "
   ]
  },
  {
   "cell_type": "code",
   "execution_count": null,
   "metadata": {},
   "outputs": [],
   "source": [
    "! test/run_test.sh 2"
   ]
  },
  {
   "cell_type": "markdown",
   "metadata": {},
   "source": [
    "### 5.3 Pivot Table\n",
    "Instructions\n",
    "1. Load the `titanic` dataset provided by seaborn.\n",
    "2. The goal is to find the survival rate by class and gender Use .pivot_table() where the index is class, columns is sex & values are survived. Aggregate them using the mean\n",
    "3.  Save this as a csv file called `titanic_5_3.csv` ( don't set the index to False )\n",
    "\n",
    "Note:\n",
    "- The final dataframe should have three columns. `class`, `female`, `male`"
   ]
  },
  {
   "cell_type": "code",
   "execution_count": null,
   "metadata": {},
   "outputs": [],
   "source": []
  },
  {
   "cell_type": "code",
   "execution_count": null,
   "metadata": {},
   "outputs": [],
   "source": [
    "### your code here\n",
    "\n",
    "\n",
    "\n",
    "\n"
   ]
  },
  {
   "cell_type": "code",
   "execution_count": null,
   "metadata": {},
   "outputs": [],
   "source": [
    "# Try your code\n",
    "df = pd.read_csv('titanic_5_3.csv')\n",
    "df"
   ]
  },
  {
   "cell_type": "markdown",
   "metadata": {},
   "source": [
    "#### Test 5.3 "
   ]
  },
  {
   "cell_type": "code",
   "execution_count": null,
   "metadata": {},
   "outputs": [],
   "source": [
    "! test/run_test.sh 3"
   ]
  },
  {
   "cell_type": "markdown",
   "metadata": {},
   "source": [
    "### 5.4 Value Counts\n",
    "Instructions\n",
    "1. Load the `titanic` dataset provided by seaborn.\n",
    "2. The goal is to find the number of passenger who survived and did not survive. Use .value_counts() to find the number of passenger who survived and did not survive.\n",
    "3. Save this as a csv file called `titanic_5_4.csv` ( Please set the index to False )\n",
    "\n",
    "Note:\n",
    "- The final dataframe should have one column `survived`"
   ]
  },
  {
   "cell_type": "code",
   "execution_count": null,
   "metadata": {},
   "outputs": [],
   "source": []
  },
  {
   "cell_type": "code",
   "execution_count": null,
   "metadata": {},
   "outputs": [],
   "source": [
    "### your code here\n",
    "\n",
    "\n",
    "\n",
    "\n",
    "\n",
    "\n",
    "\n"
   ]
  },
  {
   "cell_type": "code",
   "execution_count": null,
   "metadata": {},
   "outputs": [],
   "source": [
    "# Try your code\n",
    "df = pd.read_csv('titanic_5_4.csv')\n",
    "df"
   ]
  },
  {
   "cell_type": "markdown",
   "metadata": {},
   "source": [
    "#### Test 5.4 "
   ]
  },
  {
   "cell_type": "code",
   "execution_count": null,
   "metadata": {},
   "outputs": [],
   "source": [
    "! test/run_test.sh 4"
   ]
  },
  {
   "cell_type": "markdown",
   "metadata": {},
   "source": [
    "### 5.5 Groupby and Filtering\n",
    "Instructions\n",
    "1. Load the `tips` dataset provided by seaborn.\n",
    "2. The goal is to find the average `tip` amount for `male` and `female` customers during `dinner` service.  First you have to filter your data to include only dinner time.\n",
    "3. Second, use .groupby() to find the mean to amount for male and female.\n",
    "4. Save this as a csv file called `tips_5_5.csv` ( don't set the index to False )\n",
    "\n",
    "Note:\n",
    "- The final dataframe should have two columns `sex` & `tip`"
   ]
  },
  {
   "cell_type": "code",
   "execution_count": null,
   "metadata": {},
   "outputs": [],
   "source": []
  },
  {
   "cell_type": "markdown",
   "metadata": {},
   "source": [
    "Save your solution to `solution_5_5.py`"
   ]
  },
  {
   "cell_type": "code",
   "execution_count": null,
   "metadata": {},
   "outputs": [],
   "source": [
    "### your code here\n",
    "\n",
    "\n",
    "\n",
    "\n",
    "\n",
    "\n",
    "\n",
    "\n"
   ]
  },
  {
   "cell_type": "code",
   "execution_count": null,
   "metadata": {},
   "outputs": [],
   "source": [
    "# Try your code\n",
    "df = pd.read_csv('tips_5_5.csv')\n",
    "df"
   ]
  },
  {
   "cell_type": "markdown",
   "metadata": {},
   "source": [
    "#### Test 5.5 "
   ]
  },
  {
   "cell_type": "code",
   "execution_count": null,
   "metadata": {},
   "outputs": [],
   "source": [
    "! test/run_test.sh 5"
   ]
  },
  {
   "cell_type": "markdown",
   "metadata": {},
   "source": [
    "### 5.6 Intro to Modeling: Null Values\n",
    "Instructions\n",
    "1. Load the `penguins` dataset provided by seaborn.\n",
    "2. The goal is to prepare our dataset to for modeling. Drop all null values in the dataset.\n",
    "3. Save the result as a csv file named `penguins_5_6.csv` (Please set the index to False )\n"
   ]
  },
  {
   "cell_type": "code",
   "execution_count": null,
   "metadata": {},
   "outputs": [],
   "source": []
  },
  {
   "cell_type": "code",
   "execution_count": null,
   "metadata": {},
   "outputs": [],
   "source": [
    "### your code here\n",
    "\n",
    "\n",
    "\n",
    "\n",
    "\n",
    "\n"
   ]
  },
  {
   "cell_type": "code",
   "execution_count": null,
   "metadata": {},
   "outputs": [],
   "source": [
    "# Try your code\n",
    "df = pd.read_csv('penguins_5_6.csv')\n",
    "df"
   ]
  },
  {
   "cell_type": "markdown",
   "metadata": {},
   "source": [
    "#### Test 5.6"
   ]
  },
  {
   "cell_type": "code",
   "execution_count": null,
   "metadata": {},
   "outputs": [],
   "source": [
    "! test/run_test.sh 6"
   ]
  },
  {
   "cell_type": "markdown",
   "metadata": {},
   "source": [
    "### 5.7 Intro to Modeling:Target Variable\n",
    "Instructions\n",
    "1. Load the the cleaned csv file that you saved in problem 5.6 `penguins_5_6.csv`.\n",
    "2. The goal is to predicit wether a penguin is `Female` or `Male` which makes `sex` our target variable. Encode the target variable as `0` for `Female` and `1` for `Male`. Which means replacing the `Female` by `0` and `Male` by `1` in the `sex` column\n",
    "3. Save this as a csv file called `penguins_5_7.csv` (Please set the index to False )\n"
   ]
  },
  {
   "cell_type": "code",
   "execution_count": null,
   "metadata": {},
   "outputs": [],
   "source": []
  },
  {
   "cell_type": "code",
   "execution_count": null,
   "metadata": {},
   "outputs": [],
   "source": [
    "### your code here\n",
    "\n",
    "\n",
    "\n",
    "\n",
    "\n",
    "\n",
    "\n",
    "\n",
    "\n"
   ]
  },
  {
   "cell_type": "code",
   "execution_count": null,
   "metadata": {},
   "outputs": [],
   "source": [
    "# Try your code\n",
    "df = pd.read_csv('penguins_5_7.csv')\n",
    "df"
   ]
  },
  {
   "cell_type": "markdown",
   "metadata": {},
   "source": [
    "#### Test 5.7"
   ]
  },
  {
   "cell_type": "code",
   "execution_count": null,
   "metadata": {},
   "outputs": [],
   "source": [
    "! test/run_test.sh 7"
   ]
  },
  {
   "cell_type": "markdown",
   "metadata": {},
   "source": [
    "### 5.8 Intro to Modeling: One-Hot Encoding\n",
    "Instructions\n",
    "1. Load the the file that you saved in problem 5.7 `penguins_5_7.csv`.\n",
    "2. Use One-Hot encoding to transform the categorical features/columns into numerical features.\n",
    "3. The Categorical features are `species` & `island`.\n",
    "4. Save this as a csv file called `penguins_5_8.csv` (Please set the index to False )\n",
    "\n",
    "Hint: Complete this line of code: `pd.get_dummies(?,columns = [ ?, ? ], drop_first = True)`\n"
   ]
  },
  {
   "cell_type": "code",
   "execution_count": null,
   "metadata": {},
   "outputs": [],
   "source": []
  },
  {
   "cell_type": "code",
   "execution_count": null,
   "metadata": {},
   "outputs": [],
   "source": [
    "### your code here\n",
    "\n",
    "\n",
    "\n",
    "\n",
    "\n",
    "\n",
    "\n",
    "\n"
   ]
  },
  {
   "cell_type": "code",
   "execution_count": null,
   "metadata": {},
   "outputs": [],
   "source": [
    "# Try your code\n",
    "df = pd.read_csv('penguins_5_8.csv')\n",
    "df.shape"
   ]
  },
  {
   "cell_type": "markdown",
   "metadata": {},
   "source": [
    "#### Test 5.8 "
   ]
  },
  {
   "cell_type": "code",
   "execution_count": null,
   "metadata": {},
   "outputs": [],
   "source": [
    "! test/run_test.sh 8"
   ]
  },
  {
   "cell_type": "markdown",
   "metadata": {},
   "source": [
    "### 5.9 Intro to Modeling: Features / Target Variable\n",
    "Instructions\n",
    "1. Load the the file that you saved in problem 5.8 `penguins_5_8.csv`.\n",
    "2. Split the data set into two for `X` for features and `Y` for the target variable.\n",
    "3. `Y` should contain only the target variable which is `sex` & `X` should contain the rest of the columns/features.\n",
    "4. Save both files as csv files called `penguins_5_9_X.csv` & `penguins_5_9_Y.csv`(Please set the index to False )"
   ]
  },
  {
   "cell_type": "code",
   "execution_count": null,
   "metadata": {},
   "outputs": [],
   "source": []
  },
  {
   "cell_type": "code",
   "execution_count": null,
   "metadata": {},
   "outputs": [],
   "source": [
    "### your code here\n",
    "\n",
    "\n",
    "\n",
    "\n",
    "\n",
    "\n",
    "\n"
   ]
  },
  {
   "cell_type": "code",
   "execution_count": null,
   "metadata": {},
   "outputs": [],
   "source": [
    "# Try your code\n",
    "Y = pd.read_csv('penguins_5_9_Y.csv')\n",
    "X = pd.read_csv('penguins_5_9_X.csv')\n",
    "print(X.shape)\n",
    "print(Y.shape)"
   ]
  },
  {
   "cell_type": "markdown",
   "metadata": {},
   "source": [
    "#### Test 5.9 "
   ]
  },
  {
   "cell_type": "code",
   "execution_count": null,
   "metadata": {},
   "outputs": [],
   "source": [
    "! test/run_test.sh 9"
   ]
  },
  {
   "cell_type": "markdown",
   "metadata": {},
   "source": [
    "### 5.10 Intro to Modeling: Train/Test Split\n",
    "Instructions\n",
    "1. Load both files that you saved in problem 5.9`penguins_5_9_X.csv` & `penguins_5_9_Y.csv`.\n",
    "2. Split X set into two parts, Training and Testing. X will split in the following ratio:  `0.7` as `X_train` and `0.3` as `X_test`\n",
    "3. Split Y set into two parts, Training and Testing. Y will split in the following ratio:  `0.7` as `Y_train` and `0.3` as `Y_test`\n",
    "4. Save the files as csv files called `penguins_5_10_X_train.csv`, `penguins_5_10_X_test.csv`, `penguins_5_10_Y_train.csv`, `penguins_5_10_Y_test.csv`(Please set the index to False )\n",
    "\n",
    "Note: You will end up with a total of 4 files, X_train & Y_train are the input to your model for training. X_test and Y_test are the testing datasets for your model.\n",
    "Hint: Complete this line of code: `X_train, X_test, Y_train, Y_test = train_test_split(?,?, test_size = ? , random_state = 42)`\n",
    "\n",
    "Hint: don't forget to import:  `from sklearn.model_selection import train_test_split`\n"
   ]
  },
  {
   "cell_type": "code",
   "execution_count": null,
   "metadata": {},
   "outputs": [],
   "source": []
  },
  {
   "cell_type": "code",
   "execution_count": null,
   "metadata": {},
   "outputs": [],
   "source": [
    "from sklearn.model_selection import train_test_split\n",
    "\n",
    "### your code here\n",
    "\n",
    "\n",
    "\n",
    "\n",
    "\n",
    "\n",
    "\n",
    "\n",
    "\n",
    "\n"
   ]
  },
  {
   "cell_type": "code",
   "execution_count": null,
   "metadata": {},
   "outputs": [],
   "source": [
    "# try your code\n",
    "import pandas as pd\n",
    "\n",
    "X_train= pd.read_csv('penguins_5_10_X_train.csv')\n",
    "X_test= pd.read_csv('penguins_5_10_X_test.csv')\n",
    "Y_train= pd.read_csv('penguins_5_10_Y_train.csv')\n",
    "Y_test= pd.read_csv('penguins_5_10_Y_test.csv')\n",
    "\n",
    "print(X_train.shape)\n",
    "print(X_test.shape)\n",
    "print(Y_test.shape)\n",
    "print(Y_train.shape)"
   ]
  },
  {
   "cell_type": "markdown",
   "metadata": {},
   "source": [
    "#### Test 5.10 "
   ]
  },
  {
   "cell_type": "code",
   "execution_count": null,
   "metadata": {},
   "outputs": [],
   "source": [
    "! test/run_test.sh 10"
   ]
  },
  {
   "cell_type": "markdown",
   "metadata": {},
   "source": [
    "# Testing"
   ]
  },
  {
   "cell_type": "code",
   "execution_count": null,
   "metadata": {},
   "outputs": [],
   "source": [
    "! ./test/run_test.sh"
   ]
  },
  {
   "cell_type": "markdown",
   "metadata": {},
   "source": [
    "# Homework Submission\n",
    "- This homework is due by 2024-02-28, 5:30PM (EDT)\n",
    "- Make sure that all your programs and output files are in the exact folder as specified in the instructions.\n",
    "- All file names on this system are case sensitive. Verify if you copy your work from a local computer to your home directory on ARC.\n",
    "- **Execute the cell below to submit your assignment**"
   ]
  },
  {
   "cell_type": "code",
   "execution_count": null,
   "metadata": {},
   "outputs": [],
   "source": [
    "! ./submit.sh -y"
   ]
  },
  {
   "cell_type": "code",
   "execution_count": null,
   "metadata": {},
   "outputs": [],
   "source": []
  }
 ],
 "metadata": {
  "kernelspec": {
   "display_name": "Python 3 (ipykernel)",
   "language": "python",
   "name": "python3"
  },
  "language_info": {
   "codemirror_mode": {
    "name": "ipython",
    "version": 3
   },
   "file_extension": ".py",
   "mimetype": "text/x-python",
   "name": "python",
   "nbconvert_exporter": "python",
   "pygments_lexer": "ipython3",
   "version": "3.8.6"
  }
 },
 "nbformat": 4,
 "nbformat_minor": 4
}
