{
 "cells": [
  {
   "cell_type": "markdown",
   "metadata": {
    "id": "DvDJJwxUzUCU"
   },
   "source": [
    "\n",
    "\n",
    "# **IFI8410: Programming for Business**\n",
    "\n"
   ]
  },
  {
   "cell_type": "markdown",
   "metadata": {
    "id": "XKAsLR0C2DE8"
   },
   "source": [
    "## **Assignment 05**\n",
    "\n",
    "## **PART -01 :Getting Started with pandas**"
   ]
  },
  {
   "cell_type": "code",
   "execution_count": null,
   "metadata": {
    "id": "ilcJOwFSvnX-"
   },
   "outputs": [],
   "source": [
    "# Do not change the content of this cell. Execute this cell first, and everytime after you restarted the kernel.\n",
    "%reload_ext autoreload\n",
    "%autoreload 2"
   ]
  },
  {
   "cell_type": "code",
   "execution_count": null,
   "metadata": {},
   "outputs": [],
   "source": [
    "!pwd"
   ]
  },
  {
   "cell_type": "code",
   "execution_count": null,
   "metadata": {},
   "outputs": [],
   "source": []
  },
  {
   "cell_type": "markdown",
   "metadata": {
    "id": "GiXz48oz2NhW"
   },
   "source": [
    "### 5.1. Series\n",
    "\n",
    "Question:\n",
    "\n",
    "Create a function `create_series_with_extra_index` that creates a pandas Series from a dictionary. The function should also add a new key that wasn't originally present in the dictionary to the Series' index, and return the resulting Series to observe how pandas handles this extra index.\n",
    "\n",
    "Hint:\n",
    "\n",
    "- To create a pandas Series from a dictionary, pass the dictionary to *pd.Series()*. \n",
    "\n",
    "- You can specify additional keys by including them in the index parameter. If the new key doesn't match any key in the dictionary, its corresponding value in the Series will be shown as `NaN`, representing missing data."
   ]
  },
  {
   "cell_type": "code",
   "execution_count": null,
   "metadata": {
    "id": "R7-4vnbIzp-o"
   },
   "outputs": [],
   "source": [
    "import pandas as pd\n",
    "\n",
    "def create_series_with_extra_index(data_dict, extra_key):\n",
    "    \n",
    "    # Write your code here\n"
   ]
  },
  {
   "cell_type": "code",
   "execution_count": null,
   "metadata": {},
   "outputs": [],
   "source": [
    "# Example usage - try your function here:\n",
    "data_dict = {'a': 100, 'b': 200, 'c': 300}\n",
    "extra_key = 'd'\n",
    "resulting_series = create_series_with_extra_index(data_dict, extra_key)\n",
    "print(resulting_series)\n"
   ]
  },
  {
   "cell_type": "markdown",
   "metadata": {},
   "source": [
    "#### Save your solution to a file ..."
   ]
  },
  {
   "cell_type": "code",
   "execution_count": null,
   "metadata": {},
   "outputs": [],
   "source": [
    "%%writefile solution_5_1.py\n",
    "\n",
    "import pandas as pd\n",
    "\n",
    "def create_series_with_extra_index(data_dict, extra_key):\n",
    "    \n",
    "    # Write your code here\n"
   ]
  },
  {
   "cell_type": "markdown",
   "metadata": {},
   "source": [
    "#### Test 5.1 Execute the cell below to test your solution..."
   ]
  },
  {
   "cell_type": "code",
   "execution_count": null,
   "metadata": {},
   "outputs": [],
   "source": [
    "! test/run_test.sh 1"
   ]
  },
  {
   "cell_type": "code",
   "execution_count": null,
   "metadata": {},
   "outputs": [],
   "source": []
  },
  {
   "cell_type": "markdown",
   "metadata": {
    "id": "4Qfed3KE2Wh9"
   },
   "source": [
    "### 5.2. Data Frame \n",
    "\n",
    "Question:\n",
    "\n",
    "Write a Python function called `create_and_slice_dataframe` that creates a pandas DataFrame from a dictionary, ensuring the DataFrame consists of 5 rows and 3 columns. Then, have the function return the top 3 rows of this DataFrame.\n",
    "\n",
    "Hint:\n",
    "\n",
    "Create a DataFrame by passing a dictionary where keys represent column names and values are lists containing data for each column. To return the top 3 rows of a DataFrame, use the slicing method df.head(n) where n specifies the number of rows to retrieve\n"
   ]
  },
  {
   "cell_type": "code",
   "execution_count": null,
   "metadata": {
    "id": "4cjZCE_Q2hN1"
   },
   "outputs": [],
   "source": [
    "import pandas as pd\n",
    "\n",
    "def create_and_slice_dataframe(data_dict):\n",
    "\n",
    "    # Write your code here\n"
   ]
  },
  {
   "cell_type": "code",
   "execution_count": null,
   "metadata": {},
   "outputs": [],
   "source": [
    "# Example usage - try your function here:\n",
    "data_dict = {\n",
    "    'Column1': [1, 2, 3, 4, 5],\n",
    "    'Column2': [6, 7, 8, 9, 10],\n",
    "    'Column3': [11, 12, 13, 14, 15]\n",
    "}  \n",
    "top_rows = create_and_slice_dataframe(data_dict)\n",
    "print(top_rows)\n"
   ]
  },
  {
   "cell_type": "markdown",
   "metadata": {},
   "source": [
    "#### Save your solution to a file ..."
   ]
  },
  {
   "cell_type": "code",
   "execution_count": null,
   "metadata": {},
   "outputs": [],
   "source": [
    "%%writefile solution_5_2.py\n",
    "\n",
    "import pandas as pd\n",
    "\n",
    "def create_and_slice_dataframe(data_dict):\n",
    "\n",
    "    # Write your code here\n"
   ]
  },
  {
   "cell_type": "markdown",
   "metadata": {},
   "source": [
    "#### Test 5.2 Execute the cell below to test your solution..."
   ]
  },
  {
   "cell_type": "code",
   "execution_count": null,
   "metadata": {},
   "outputs": [],
   "source": [
    "! test/run_test.sh 2"
   ]
  },
  {
   "cell_type": "code",
   "execution_count": null,
   "metadata": {},
   "outputs": [],
   "source": []
  },
  {
   "cell_type": "markdown",
   "metadata": {
    "id": "6JjH4QS72Wku"
   },
   "source": [
    "### 5.3 Data Frame\n",
    "\n",
    "\n",
    "Question:\n",
    "\n",
    "Create a function `create_dataframe_from_nested_dict` that constructs a pandas DataFrame from a nested dictionary, where the inner dictionaries may have partially different keys. Handle missing values by assigning a new specified value, and return the completed DataFrame\n",
    "\n",
    "Hint:\n",
    "\n",
    "Use *pd.DataFrame.from_dict()* to create a DataFrame from a nested dictionary. \n",
    "\n",
    "If the inner dictionaries have different keys, pandas will automatically fill missing entries with NaN. Use the *fillna()* method on the DataFrame to replace NaN with a specified value.\n"
   ]
  },
  {
   "cell_type": "code",
   "execution_count": null,
   "metadata": {
    "id": "Tpe03U6n4NQU"
   },
   "outputs": [],
   "source": [
    "import pandas as pd\n",
    "\n",
    "def create_dataframe_from_nested_dict(data, fill_value=0):\n",
    "\n",
    "    # Write your code here\n"
   ]
  },
  {
   "cell_type": "code",
   "execution_count": null,
   "metadata": {},
   "outputs": [],
   "source": [
    "# Example usage - try your function here:\n",
    "nested_dict = {\n",
    "    'A': {'col1': 1, 'col2': 2},\n",
    "    'B': {'col2': 3, 'col3': 4},\n",
    "    'C': {'col1': 5, 'col3': 6, 'col4': 7}\n",
    "}\n",
    "resulting_df = create_dataframe_from_nested_dict(nested_dict, fill_value=-1)\n",
    "print(resulting_df)\n",
    "\n"
   ]
  },
  {
   "cell_type": "markdown",
   "metadata": {},
   "source": [
    "#### Save your solution to a file ..."
   ]
  },
  {
   "cell_type": "code",
   "execution_count": null,
   "metadata": {},
   "outputs": [],
   "source": [
    "%%writefile solution_5_3.py\n",
    "\n",
    "import pandas as pd\n",
    "\n",
    "def create_dataframe_from_nested_dict(data, fill_value=0):\n",
    "    \n",
    "    # Write your code here\n"
   ]
  },
  {
   "cell_type": "markdown",
   "metadata": {},
   "source": [
    "#### Test 5.3 Execute the cell below to test your solution..."
   ]
  },
  {
   "cell_type": "code",
   "execution_count": null,
   "metadata": {},
   "outputs": [],
   "source": [
    "! test/run_test.sh 3"
   ]
  },
  {
   "cell_type": "code",
   "execution_count": null,
   "metadata": {},
   "outputs": [],
   "source": []
  },
  {
   "cell_type": "markdown",
   "metadata": {
    "id": "5_Y1Kwit2WnP"
   },
   "source": [
    "### 5.4 Data Frame\n",
    "\n",
    "Question:\n",
    "\n",
    "Create a Python function called `add_dataframes_as_arrays` that takes two pandas DataFrames with an equal number of rows and columns, converts them to numpy arrays, adds the arrays together, and returns the resulting sum as a numpy array.\n",
    "\n",
    "\n",
    "\n",
    "Hint:\n",
    "\n",
    "Convert each DataFrame to a numpy array using the *.values* attribute or *.to_numpy()* method. Then, add the two arrays element-wise. Numpy will handle the addition operation between arrays of the same shape directly."
   ]
  },
  {
   "cell_type": "code",
   "execution_count": null,
   "metadata": {
    "id": "SDd0D0CV4gGu"
   },
   "outputs": [],
   "source": [
    "import pandas as pd\n",
    "import numpy as np\n",
    "\n",
    "def add_dataframes_as_arrays(df1, df2):\n",
    "\n",
    "    # Write your code here\n"
   ]
  },
  {
   "cell_type": "code",
   "execution_count": null,
   "metadata": {},
   "outputs": [],
   "source": [
    "# Example usage - try your function here:\n",
    "data1 = {'col1': [1, 2, 3], 'col2': [4, 5, 6]}\n",
    "data2 = {'col1': [7, 8, 9], 'col2': [10, 11, 12]}\n",
    "df1 = pd.DataFrame(data1)\n",
    "df2 = pd.DataFrame(data2)\n",
    "\n",
    "result_array = add_dataframes_as_arrays(df1, df2)\n",
    "print(result_array)\n"
   ]
  },
  {
   "cell_type": "markdown",
   "metadata": {},
   "source": [
    "#### Save your solution to a file ..."
   ]
  },
  {
   "cell_type": "code",
   "execution_count": null,
   "metadata": {},
   "outputs": [],
   "source": [
    "%%writefile solution_5_4.py\n",
    "\n",
    "import pandas as pd\n",
    "import numpy as np\n",
    "\n",
    "def add_dataframes_as_arrays(df1, df2):\n",
    "\n",
    "    # Write your code here\n"
   ]
  },
  {
   "cell_type": "markdown",
   "metadata": {},
   "source": [
    "#### Test 5.4 Execute the cell below to test your solution..."
   ]
  },
  {
   "cell_type": "code",
   "execution_count": null,
   "metadata": {},
   "outputs": [],
   "source": [
    "! test/run_test.sh 4"
   ]
  },
  {
   "cell_type": "code",
   "execution_count": null,
   "metadata": {},
   "outputs": [],
   "source": []
  },
  {
   "cell_type": "markdown",
   "metadata": {
    "id": "eTVhhltY2Wpk"
   },
   "source": [
    "### 5.5 Re-indexing\n",
    "\n",
    "Question:\n",
    "\n",
    "Write a Python function called `reindex_dataframe_columns` that takes a pandas DataFrame, a new list of column names for re-indexing with additional new column names, and a specific value to fill in any new columns created during the re-indexing process that did not exist before. The function should return the re-indexed DataFrame with missing values filled.\n",
    "\n",
    "Hint:\n",
    "\n",
    "- Use the *DataFrame.reindex()* method to change the order of columns or introduce new columns in a DataFrame. \n",
    "\n",
    "- Fill any missing entries in the newly introduced columns using the *fillna()* method with a specified value.\n"
   ]
  },
  {
   "cell_type": "code",
   "execution_count": null,
   "metadata": {
    "id": "xQpREqa84lOw"
   },
   "outputs": [],
   "source": [
    "import pandas as pd\n",
    "\n",
    "def reindex_dataframe_columns(df, new_columns, fill_value):\n",
    "\n",
    "    # Write your code here\n"
   ]
  },
  {
   "cell_type": "code",
   "execution_count": null,
   "metadata": {},
   "outputs": [],
   "source": [
    "# Example usage - try your function here:\n",
    "data = {'col1': [1, 2, 3], 'col2': [4, 5, 6]}\n",
    "df = pd.DataFrame(data)\n",
    "new_columns = ['col1', 'col2', 'col3']  \n",
    "fill_value = 0  \n",
    "\n",
    "reindexed_and_filled_df = reindex_dataframe_columns(df, new_columns, fill_value)\n",
    "print(reindexed_and_filled_df)\n"
   ]
  },
  {
   "cell_type": "markdown",
   "metadata": {},
   "source": [
    "#### Save your solution to a file ..."
   ]
  },
  {
   "cell_type": "code",
   "execution_count": null,
   "metadata": {},
   "outputs": [],
   "source": [
    "%%writefile solution_5_5.py\n",
    "\n",
    "import pandas as pd\n",
    "\n",
    "def reindex_dataframe_columns(df, new_columns, fill_value):\n",
    "\n",
    "    # Write your code here\n"
   ]
  },
  {
   "cell_type": "markdown",
   "metadata": {},
   "source": [
    "#### Test 5.5 Execute the cell below to test your solution..."
   ]
  },
  {
   "cell_type": "code",
   "execution_count": null,
   "metadata": {},
   "outputs": [],
   "source": [
    "! test/run_test.sh 5"
   ]
  },
  {
   "cell_type": "code",
   "execution_count": null,
   "metadata": {},
   "outputs": [],
   "source": []
  },
  {
   "cell_type": "markdown",
   "metadata": {
    "id": "iCNcXQNw2WsW"
   },
   "source": [
    "### 5.6 Indexing, Slicing and Filtering\n",
    "\n",
    "Question:\n",
    "\n",
    "Write a Python function called `subset_series` that creates a pandas Series, selects a subset of rows based on a list of labels in the index, and then further narrows down this subset based on a condition applied to the values of the Series. \n",
    "\n",
    "The values should be greater than some value which we name **value_condition**.\n",
    "\n",
    "Return the final subset of the Series.\n",
    "\n",
    "Hint:\n",
    "\n",
    "First, use slicing or the *.loc[]* accessor to select rows from the Series based on the provided index labels. Next, use boolean indexing to further filter the Series based on a condition related to its values.\n"
   ]
  },
  {
   "cell_type": "code",
   "execution_count": null,
   "metadata": {
    "id": "jkD_TLvEzqNQ"
   },
   "outputs": [],
   "source": [
    "import pandas as pd\n",
    "\n",
    "def subset_series(data, index_labels, value_condition):\n",
    "\n",
    "    # Write your code here\n"
   ]
  },
  {
   "cell_type": "code",
   "execution_count": null,
   "metadata": {},
   "outputs": [],
   "source": [
    "# Example usage - try your function here:\n",
    "data = {'a': 1, 'b': 2, 'c': 3, 'd': 4, 'e': 5}\n",
    "index_labels = ['a', 'b', 'c', 'd']\n",
    "value_condition = 2\n",
    "\n",
    "resulting_series = subset_series(data, index_labels, value_condition)\n",
    "print(resulting_series)\n"
   ]
  },
  {
   "cell_type": "markdown",
   "metadata": {},
   "source": [
    "#### Save your solution to a file ..."
   ]
  },
  {
   "cell_type": "code",
   "execution_count": null,
   "metadata": {},
   "outputs": [],
   "source": [
    "%%writefile solution_5_6.py\n",
    "\n",
    "import pandas as pd\n",
    "\n",
    "def subset_series(data, index_labels, value_condition):\n",
    "\n",
    "    # Write your code here\n"
   ]
  },
  {
   "cell_type": "markdown",
   "metadata": {},
   "source": [
    "#### Test 5.6 Execute the cell below to test your solution..."
   ]
  },
  {
   "cell_type": "code",
   "execution_count": null,
   "metadata": {},
   "outputs": [],
   "source": [
    "! test/run_test.sh 6"
   ]
  },
  {
   "cell_type": "code",
   "execution_count": null,
   "metadata": {},
   "outputs": [],
   "source": []
  },
  {
   "cell_type": "markdown",
   "metadata": {
    "id": "d2vDc3u12Wuj"
   },
   "source": [
    "### 5.7 Indexing, Slicing and Filtering\n",
    "\n",
    "Question:\n",
    "\n",
    "Create a Python function called `select_rows_with_loc` that generates a pandas Series with a labeled index, and uses the *.loc* command along with slicing to select a specific range of rows. The function should return the selected rows from the Series.\n",
    "\n",
    "Hint:\n",
    "\n",
    "- Utilize the *.loc* command in pandas to select rows based on labeled indices. \n",
    "\n",
    "- Include slicing within the *.loc* command to specify a range of index labels for selection. \n",
    "\n",
    "- Ensure the index labels used for slicing are present in the Series."
   ]
  },
  {
   "cell_type": "code",
   "execution_count": null,
   "metadata": {
    "id": "5Bi4EdFRzqPk"
   },
   "outputs": [],
   "source": [
    "import pandas as pd\n",
    "\n",
    "def select_rows_with_loc(data, start_label, end_label):\n",
    "\n",
    "    # Write your code here\n",
    "\n",
    "    "
   ]
  },
  {
   "cell_type": "code",
   "execution_count": null,
   "metadata": {},
   "outputs": [],
   "source": [
    "# Example usage - try your function here:\n",
    "data = {'a': 100, 'b': 200, 'c': 300, 'd': 400, 'e': 500}\n",
    "start_label = 'b'\n",
    "end_label = 'd'\n",
    "\n",
    "selected_series = select_rows_with_loc(data, start_label, end_label)\n",
    "print(selected_series)\n"
   ]
  },
  {
   "cell_type": "markdown",
   "metadata": {},
   "source": [
    "#### Save your solution to a file ..."
   ]
  },
  {
   "cell_type": "code",
   "execution_count": null,
   "metadata": {},
   "outputs": [],
   "source": [
    "%%writefile solution_5_7.py\n",
    " \n",
    "import pandas as pd\n",
    "\n",
    "def select_rows_with_loc(data, start_label, end_label):\n",
    "\n",
    "    # Write your code here\n"
   ]
  },
  {
   "cell_type": "markdown",
   "metadata": {},
   "source": [
    "#### Test 5.7 Execute the cell below to test your solution..."
   ]
  },
  {
   "cell_type": "code",
   "execution_count": null,
   "metadata": {},
   "outputs": [],
   "source": [
    "! test/run_test.sh 7"
   ]
  },
  {
   "cell_type": "code",
   "execution_count": null,
   "metadata": {},
   "outputs": [],
   "source": []
  },
  {
   "cell_type": "markdown",
   "metadata": {
    "id": "LGSZ98Op44Lq"
   },
   "source": [
    "### 5.8 Indexing, Slicing and Filtering\n",
    "\n",
    "Question:\n",
    "\n",
    "Create a Python function called `select_rows_with_iloc` that generates a pandas Series with an integer index and uses the *.iloc* command along with slicing to select a specific range of rows. The function should return the selected rows from the Series.\n",
    "\n",
    "Hint:\n",
    "\n",
    "- Use the *.iloc* command in pandas to select rows based on integer position. \n",
    "\n",
    "- Utilize slicing within the *.iloc* command to specify a range of positions for selection. \n",
    "\n",
    "- This is particularly useful when you know the exact positions of the data points you want to access, rather than their labels.\n"
   ]
  },
  {
   "cell_type": "code",
   "execution_count": null,
   "metadata": {
    "id": "r4AEGfbRzqSB"
   },
   "outputs": [],
   "source": [
    "import pandas as pd\n",
    "\n",
    "def select_rows_with_iloc(data, start_pos, end_pos):\n",
    "\n",
    "    # Write your code here\n"
   ]
  },
  {
   "cell_type": "code",
   "execution_count": null,
   "metadata": {},
   "outputs": [],
   "source": [
    "# Example usage - try your function here:\n",
    "data = [100, 200, 300, 400, 500]\n",
    "start_pos = 1\n",
    "end_pos = 4  \n",
    "selected_series = select_rows_with_iloc(data, start_pos, end_pos)\n",
    "print(selected_series)\n"
   ]
  },
  {
   "cell_type": "markdown",
   "metadata": {},
   "source": [
    "#### Save your solution to a file ..."
   ]
  },
  {
   "cell_type": "code",
   "execution_count": null,
   "metadata": {},
   "outputs": [],
   "source": [
    "%%writefile solution_5_8.py\n",
    "\n",
    "import pandas as pd\n",
    "\n",
    "def select_rows_with_iloc(data, start_pos, end_pos):\n",
    "\n",
    "    # Write your code here\n"
   ]
  },
  {
   "cell_type": "markdown",
   "metadata": {},
   "source": [
    "#### Test 5.8 Execute the cell below to test your solution..."
   ]
  },
  {
   "cell_type": "code",
   "execution_count": null,
   "metadata": {},
   "outputs": [],
   "source": [
    "! test/run_test.sh 8"
   ]
  },
  {
   "cell_type": "code",
   "execution_count": null,
   "metadata": {},
   "outputs": [],
   "source": []
  },
  {
   "cell_type": "markdown",
   "metadata": {},
   "source": [
    "### 5.9 Simple Function\n",
    "\n",
    "Question:\n",
    "\n",
    "Write a Python function called `modify_dataframe_columns` that selects two specific columns from a pandas DataFrame using column indexing, then assigns a new value to all entries in these columns that meet a specific condition. The condition checks for all values greater than a given *condition_value* as input parameter. The function should return the modified DataFrame.\n",
    "\n",
    "Hint:\n",
    "\n",
    "- Use column names directly to select the desired columns from the DataFrame. \n",
    "\n",
    "- After selecting the columns, use a condition with boolean indexing on these columns to update values. \n",
    "\n",
    "- You can apply a condition across multiple columns by using the *.loc* method combined with the condition."
   ]
  },
  {
   "cell_type": "code",
   "execution_count": null,
   "metadata": {},
   "outputs": [],
   "source": [
    "import pandas as pd\n",
    "\n",
    "def modify_dataframe_columns(df, columns, condition_value, new_value):\n",
    "\n",
    "    # Write your code here\n"
   ]
  },
  {
   "cell_type": "code",
   "execution_count": null,
   "metadata": {},
   "outputs": [],
   "source": [
    "# Example usage - try your function here:\n",
    "data = {\n",
    "    'col1': [1, 20, 3, 40, 5],\n",
    "    'col2': [5, 60, 7, 80, 9],\n",
    "    'col3': [10, 11, 12, 13, 14]  # This column remains unchanged\n",
    "}\n",
    "df = pd.DataFrame(data)\n",
    "\n",
    "columns_to_modify = ['col1', 'col2']\n",
    "condition_value = 10  \n",
    "new_value = 100  \n",
    "\n",
    "modified_df = modify_dataframe_columns(df, columns_to_modify, condition_value, new_value)\n",
    "print(modified_df)\n"
   ]
  },
  {
   "cell_type": "markdown",
   "metadata": {},
   "source": [
    "#### Save your solution to a file ..."
   ]
  },
  {
   "cell_type": "code",
   "execution_count": null,
   "metadata": {},
   "outputs": [],
   "source": [
    "%%writefile solution_5_9.py\n",
    "\n",
    "import pandas as pd\n",
    "\n",
    "def modify_dataframe_columns(df, columns, condition_value, new_value):\n",
    "\n",
    "    # Write your code here\n",
    "    "
   ]
  },
  {
   "cell_type": "markdown",
   "metadata": {},
   "source": [
    "#### Test 5.9 Execute the cell below to test your solution..."
   ]
  },
  {
   "cell_type": "code",
   "execution_count": null,
   "metadata": {},
   "outputs": [],
   "source": [
    "! test/run_test.sh 9"
   ]
  },
  {
   "cell_type": "code",
   "execution_count": null,
   "metadata": {},
   "outputs": [],
   "source": []
  },
  {
   "cell_type": "markdown",
   "metadata": {},
   "source": [
    "### 5.10 DataFrame selecting specific rows and columns with .loc method\n",
    "\n",
    "Question:\n",
    "\n",
    "Create a Python function called `select_specific_data` that uses the *.loc* command to select specific rows and columns from a pandas DataFrame with a labeled index. The function should return the selected portion of the DataFrame.\n",
    "\n",
    "\n",
    "Hint :\n",
    "\n",
    "- To use the *.loc* accessor effectively, specify the row labels and column names in lists. \n",
    "\n",
    "- This method allows precise control over both the rows and columns you want to access."
   ]
  },
  {
   "cell_type": "code",
   "execution_count": null,
   "metadata": {},
   "outputs": [],
   "source": [
    "import pandas as pd\n",
    "\n",
    "def select_specific_data(df, row_labels, column_labels):\n",
    "\n",
    "    # Write your code here\n"
   ]
  },
  {
   "cell_type": "code",
   "execution_count": null,
   "metadata": {},
   "outputs": [],
   "source": [
    "# Example usage - try your function here:\n",
    "data = {\n",
    "    'one': [1, 2, 3, 4],\n",
    "    'two': [5, 6, 7, 8],\n",
    "    'three': [9, 10, 11, 12],\n",
    "    'four': [13, 14, 15, 16]\n",
    "}\n",
    "index = ['Alabama', 'Colorado', 'Florida', 'Georgia']\n",
    "df = pd.DataFrame(data, index=index)\n",
    "\n",
    "row_labels = [\"Colorado\", \"Florida\"]  # Rows to select\n",
    "column_labels = [\"two\", \"four\"]  # Columns to select\n",
    "\n",
    "resulting_data = select_specific_data(df, row_labels, column_labels)\n",
    "print(resulting_data)\n"
   ]
  },
  {
   "cell_type": "markdown",
   "metadata": {},
   "source": [
    "#### Save your solution to a file ..."
   ]
  },
  {
   "cell_type": "code",
   "execution_count": null,
   "metadata": {},
   "outputs": [],
   "source": [
    "%%writefile solution_5_10.py\n",
    "\n",
    "import pandas as pd\n",
    "\n",
    "def select_specific_data(df, row_labels, column_labels):\n",
    "\n",
    "    # Write your code here\n"
   ]
  },
  {
   "cell_type": "markdown",
   "metadata": {},
   "source": [
    "#### Test 5.10 Execute the cell below to test your solution..."
   ]
  },
  {
   "cell_type": "code",
   "execution_count": null,
   "metadata": {},
   "outputs": [],
   "source": [
    "! test/run_test.sh 10"
   ]
  },
  {
   "cell_type": "code",
   "execution_count": null,
   "metadata": {},
   "outputs": [],
   "source": []
  },
  {
   "cell_type": "markdown",
   "metadata": {},
   "source": [
    "### 5.11 DataFrame selecting specific rows and columns with .iloc method\n",
    "\n",
    "Question:\n",
    "\n",
    "Create a Python function called `select_data_with_iloc` that uses the *.iloc* command to select specific rows and columns from a pandas DataFrame using integer-based indexing. The function should return the selected portion of the DataFrame.\n",
    "\n",
    "Hint:\n",
    "\n",
    "- To use the *.iloc* command effectively, specify the indices of the rows and columns as lists of integers. \n",
    "\n",
    "- This command accesses data based on the position, independent of the DataFrame's row or column labels.\n",
    "\n"
   ]
  },
  {
   "cell_type": "code",
   "execution_count": null,
   "metadata": {},
   "outputs": [],
   "source": [
    "import pandas as pd\n",
    "\n",
    "def select_data_with_iloc(df, row_indices, column_indices):\n",
    "\n",
    "    # Write your code here\n",
    "\n"
   ]
  },
  {
   "cell_type": "code",
   "execution_count": null,
   "metadata": {},
   "outputs": [],
   "source": [
    "# Example usage - try your function here:\n",
    "data = {\n",
    "    'one': [1, 2, 3, 4, 5],\n",
    "    'two': [6, 7, 8, 9, 10],\n",
    "    'three': [11, 12, 13, 14, 15],\n",
    "    'four': [16, 17, 18, 19, 20]\n",
    "}\n",
    "df = pd.DataFrame(data)\n",
    "\n",
    "row_indices = [0, 4]  # Row indices to select\n",
    "column_indices = [1, 3]  # Column indices to select\n",
    "\n",
    "resulting_data = select_data_with_iloc(df, row_indices, column_indices)\n",
    "print(resulting_data)\n"
   ]
  },
  {
   "cell_type": "markdown",
   "metadata": {},
   "source": [
    "#### Save your solution to a file ..."
   ]
  },
  {
   "cell_type": "code",
   "execution_count": null,
   "metadata": {},
   "outputs": [],
   "source": [
    "%%writefile solution_5_11.py\n",
    "\n",
    "import pandas as pd\n",
    "\n",
    "def select_data_with_iloc(df, row_indices, column_indices):\n",
    "\n",
    "    # Write your code here\n"
   ]
  },
  {
   "cell_type": "markdown",
   "metadata": {},
   "source": [
    "#### Test 5.11 Execute the cell below to test your solution..."
   ]
  },
  {
   "cell_type": "code",
   "execution_count": null,
   "metadata": {},
   "outputs": [],
   "source": [
    "! test/run_test.sh 11"
   ]
  },
  {
   "cell_type": "code",
   "execution_count": null,
   "metadata": {},
   "outputs": [],
   "source": []
  },
  {
   "cell_type": "markdown",
   "metadata": {},
   "source": [
    "### 5.12 Arithmetic and Data Alignment\n",
    "\n",
    "Question:\n",
    "\n",
    "Write a Python function called `multiply_dataframes_with_fill` that multiplies two pandas DataFrames which do not completely align in their indices and columns. Handle the resulting missing values by filling them with a specified new value *fill_value=1* when performing the multiplication. The function should return the resulting DataFrame after the multiplication.\n",
    "\n",
    "Hint:\n",
    "\n",
    "- When two DataFrames with differing indices and columns are multiplied, the result contains missing values (NaN) for non-overlapping elements. \n",
    "\n",
    "- Set this fill_value to 1 so that it does not impact the multiplication result unduly.\n",
    "\n",
    "- Use the *.fillna()* method to replace any remaining NaN values with the fill_value in the resulting DataFrame.\n"
   ]
  },
  {
   "cell_type": "code",
   "execution_count": null,
   "metadata": {},
   "outputs": [],
   "source": [
    "import pandas as pd\n",
    "\n",
    "def multiply_dataframes_with_fill(df1, df2, fill_value=1):\n",
    "\n",
    "    # Write your code here\n"
   ]
  },
  {
   "cell_type": "code",
   "execution_count": null,
   "metadata": {},
   "outputs": [],
   "source": [
    "# Example usage - try your function here:\n",
    "data1 = {\n",
    "    'A': [1, 2, 3],\n",
    "    'B': [4, 5, 6]\n",
    "}\n",
    "index1 = ['x', 'y', 'z']\n",
    "df1 = pd.DataFrame(data1, index=index1)\n",
    "\n",
    "data2 = {\n",
    "    'A': [7, 8],\n",
    "    'C': [9, 10]\n",
    "}\n",
    "index2 = ['y', 'z']\n",
    "df2 = pd.DataFrame(data2, index=index2)\n",
    "\n",
    "resulting_df = multiply_dataframes_with_fill(df1, df2)\n",
    "print(resulting_df)\n"
   ]
  },
  {
   "cell_type": "markdown",
   "metadata": {},
   "source": [
    "#### Save your solution to a file ..."
   ]
  },
  {
   "cell_type": "code",
   "execution_count": null,
   "metadata": {},
   "outputs": [],
   "source": [
    "%%writefile solution_5_12.py\n",
    "\n",
    "import pandas as pd\n",
    "\n",
    "def multiply_dataframes_with_fill(df1, df2, fill_value=1):\n",
    "\n",
    "    # Write your code here\n"
   ]
  },
  {
   "cell_type": "markdown",
   "metadata": {},
   "source": [
    "#### Test 5.12 Execute the cell below to test your solution..."
   ]
  },
  {
   "cell_type": "code",
   "execution_count": null,
   "metadata": {},
   "outputs": [],
   "source": [
    "! test/run_test.sh 12"
   ]
  },
  {
   "cell_type": "code",
   "execution_count": null,
   "metadata": {},
   "outputs": [],
   "source": []
  },
  {
   "cell_type": "markdown",
   "metadata": {},
   "source": [
    "### 5.13 Operations between DataFrame and Series\n",
    "\n",
    "Question:\n",
    "\n",
    "Create a Python function called `subtract_series_from_df` that subtracts a pandas Series from each row of a pandas DataFrame. The function should return a new DataFrame with the results of the subtraction.\n",
    "\n",
    "Hint:\n",
    "\n",
    "- When subtracting a Series from a DataFrame along rows, ensure that the Series index aligns with the DataFrame column labels.\n",
    " \n",
    "- Use the subtraction operation directly, and pandas will automatically broadcast the Series across all rows of the DataFrame, performing the subtraction element-wise.\n",
    "\n"
   ]
  },
  {
   "cell_type": "code",
   "execution_count": null,
   "metadata": {},
   "outputs": [],
   "source": [
    "import pandas as pd\n",
    "\n",
    "def subtract_series_from_df(df, series):\n",
    "\n",
    "    # Write your code here\n"
   ]
  },
  {
   "cell_type": "code",
   "execution_count": null,
   "metadata": {},
   "outputs": [],
   "source": [
    "# Example usage - try your function here:\n",
    "data = {\n",
    "    'A': [10, 20, 30],\n",
    "    'B': [1, 2, 3],\n",
    "    'C': [4, 5, 6]\n",
    "}\n",
    "df = pd.DataFrame(data)\n",
    "\n",
    "series = pd.Series({'A': 1, 'B': 1, 'C': 1})  # Series to subtract\n",
    "\n",
    "resulting_df = subtract_series_from_df(df, series)\n",
    "print(resulting_df)\n"
   ]
  },
  {
   "cell_type": "markdown",
   "metadata": {},
   "source": [
    "#### Save your solution to a file ..."
   ]
  },
  {
   "cell_type": "code",
   "execution_count": null,
   "metadata": {},
   "outputs": [],
   "source": [
    "%%writefile solution_5_13.py\n",
    "\n",
    "import pandas as pd\n",
    "\n",
    "def subtract_series_from_df(df, series):\n",
    "\n",
    "    # Write your code here\n"
   ]
  },
  {
   "cell_type": "markdown",
   "metadata": {},
   "source": [
    "#### Test 5.13 Execute the cell below to test your solution..."
   ]
  },
  {
   "cell_type": "code",
   "execution_count": null,
   "metadata": {},
   "outputs": [],
   "source": [
    "! test/run_test.sh 13"
   ]
  },
  {
   "cell_type": "code",
   "execution_count": null,
   "metadata": {},
   "outputs": [],
   "source": []
  },
  {
   "cell_type": "markdown",
   "metadata": {},
   "source": [
    "### 5.14 Function Application and Mapping\n",
    "\n",
    "Question:\n",
    "    \n",
    "Create a Python function called `range_along_rows` that applies a custom function to calculate the range (i.e. maximum minus minimum) of each row in a pandas DataFrame. The function should return a Series with the range values for each row.\n",
    "\n",
    "Hint:\n",
    "\n",
    "- Use the *.apply()* method with the lambda function `lambda x: x.max() - x.min()` to apply the operation along the rows of the DataFrame. \n",
    "\n",
    "- Set *axis* argument appropriately to ensure the function operates along the rows."
   ]
  },
  {
   "cell_type": "code",
   "execution_count": null,
   "metadata": {},
   "outputs": [],
   "source": [
    "import pandas as pd\n",
    "\n",
    "def range_along_rows(df):\n",
    "\n",
    "    # Write your code here\n"
   ]
  },
  {
   "cell_type": "code",
   "execution_count": null,
   "metadata": {},
   "outputs": [],
   "source": [
    "# Example usage - try your function here:\n",
    "data = {\n",
    "    'A': [10, 20, 30],\n",
    "    'B': [40, 50, 60],\n",
    "    'C': [70, 80, 90]\n",
    "}\n",
    "df = pd.DataFrame(data)\n",
    "\n",
    "range_result = range_along_rows(df)\n",
    "print(range_result)\n"
   ]
  },
  {
   "cell_type": "markdown",
   "metadata": {},
   "source": [
    "#### Save your solution to a file ..."
   ]
  },
  {
   "cell_type": "code",
   "execution_count": null,
   "metadata": {},
   "outputs": [],
   "source": [
    "%%writefile solution_5_14.py\n",
    "\n",
    "import pandas as pd\n",
    "\n",
    "def range_along_rows(df):\n",
    "\n",
    "    # Write your code here\n"
   ]
  },
  {
   "cell_type": "markdown",
   "metadata": {},
   "source": [
    "#### Test 5.14 Execute the cell below to test your solution..."
   ]
  },
  {
   "cell_type": "code",
   "execution_count": null,
   "metadata": {},
   "outputs": [],
   "source": [
    "! test/run_test.sh 14"
   ]
  },
  {
   "cell_type": "code",
   "execution_count": null,
   "metadata": {},
   "outputs": [],
   "source": []
  },
  {
   "cell_type": "markdown",
   "metadata": {},
   "source": [
    "### 5.15 Summarizing and Computing Descriptive Statistics\n",
    "\n",
    "Question:\n",
    "    \n",
    "Create a Python function called `get_dataframe_statistics` that returns the descriptive statistics of a pandas DataFrame, but only for the numerical columns.\n",
    "\n",
    "The function should focus on providing measures such as *mean, median, min, max,* and *standard deviation*.\n",
    "\n",
    "Hint:\n",
    "    \n",
    "- Use the *.describe()* method on the DataFrame to quickly generate a summary of descriptive statistics. \n",
    "\n",
    "- This method automatically excludes non-numeric data types and provides a range of statistics including *count, mean, standard deviation, min, quartiles,* and *max*."
   ]
  },
  {
   "cell_type": "code",
   "execution_count": null,
   "metadata": {},
   "outputs": [],
   "source": [
    "import pandas as pd\n",
    "\n",
    "def get_dataframe_statistics(df):\n",
    "\n",
    "    # Write your code here\n",
    "\n"
   ]
  },
  {
   "cell_type": "code",
   "execution_count": null,
   "metadata": {},
   "outputs": [],
   "source": [
    "# Example usage - try your function here:\n",
    "data = {\n",
    "    'A': [1, 2, 3],\n",
    "    'B': [4.0, 5.5, 6.1],\n",
    "    'C': [\"apple\", \"banana\", \"cherry\"]  # This column will be ignored by .describe()\n",
    "}\n",
    "df = pd.DataFrame(data)\n",
    "\n",
    "statistics = get_dataframe_statistics(df)\n",
    "print(statistics)\n"
   ]
  },
  {
   "cell_type": "markdown",
   "metadata": {},
   "source": [
    "#### Save your solution to a file ..."
   ]
  },
  {
   "cell_type": "code",
   "execution_count": null,
   "metadata": {},
   "outputs": [],
   "source": [
    "%%writefile solution_5_15.py\n",
    "\n",
    "import pandas as pd\n",
    "\n",
    "def get_dataframe_statistics(df):\n",
    "\n",
    "    # Write your code here\n"
   ]
  },
  {
   "cell_type": "markdown",
   "metadata": {},
   "source": [
    "#### Test 5.15 Execute the cell below to test your solution..."
   ]
  },
  {
   "cell_type": "code",
   "execution_count": null,
   "metadata": {},
   "outputs": [],
   "source": [
    "! test/run_test.sh 15"
   ]
  },
  {
   "cell_type": "code",
   "execution_count": null,
   "metadata": {},
   "outputs": [],
   "source": []
  },
  {
   "cell_type": "markdown",
   "metadata": {},
   "source": [
    "### 5.16 Summarizing and Computing Descriptive Statistics\n",
    "\n",
    "Question:\n",
    "\n",
    "Create a Python function called `column_statistics` that calculates and returns a list of various statistics for a specific column in a pandas DataFrame. \n",
    "\n",
    "These statistics include *count, minimum, maximum, argmin, argmax, sum, mean, median, variance,* and *standard deviation*. Return these results in a list.\n",
    "\n",
    "Hint:\n",
    "- To compute these statistics for a DataFrame column, access the column using DataFrame column \n",
    "indexing (e.g., df[column_name]).\n",
    "\n",
    "- Then apply pandas methods like *.min(), .max(), .argmin(), .argmax(), .sum(), .mean(), .median(), .var(),* and *.std()* directly on the selected column."
   ]
  },
  {
   "cell_type": "code",
   "execution_count": null,
   "metadata": {},
   "outputs": [],
   "source": [
    "import pandas as pd\n",
    "\n",
    "def column_statistics(df, column_name):\n",
    "\n",
    "    # Write your code here\n"
   ]
  },
  {
   "cell_type": "code",
   "execution_count": null,
   "metadata": {},
   "outputs": [],
   "source": [
    "# Example usage - try your function here:\n",
    "data = {\n",
    "    'A': [10, 20, 30, 40, 50],\n",
    "    'B': [5, 10, 15, 20, 25]\n",
    "}\n",
    "df = pd.DataFrame(data)\n",
    "\n",
    "# Get statistics for column 'A':\n",
    "column_stats = column_statistics(df, 'A')\n",
    "print(\"Statistics for column A:\", column_stats)\n"
   ]
  },
  {
   "cell_type": "markdown",
   "metadata": {},
   "source": [
    "#### Save your solution to a file ..."
   ]
  },
  {
   "cell_type": "code",
   "execution_count": null,
   "metadata": {},
   "outputs": [],
   "source": [
    "%%writefile solution_5_16.py\n",
    "\n",
    "import pandas as pd\n",
    "\n",
    "def column_statistics(df, column_name):\n",
    "\n",
    "    # Write your code here\n"
   ]
  },
  {
   "cell_type": "markdown",
   "metadata": {},
   "source": [
    "#### Test 5.16 Execute the cell below to test your solution..."
   ]
  },
  {
   "cell_type": "code",
   "execution_count": null,
   "metadata": {},
   "outputs": [],
   "source": [
    "! test/run_test.sh 16"
   ]
  },
  {
   "cell_type": "code",
   "execution_count": null,
   "metadata": {},
   "outputs": [],
   "source": []
  },
  {
   "cell_type": "markdown",
   "metadata": {},
   "source": [
    "### 5.17 Correlation and Covariance\n",
    "\n",
    "Question:\n",
    "    \n",
    "Create a Python function called `correlation_with_series` that computes the correlation of each column in a pandas DataFrame with a provided pandas Series. \n",
    "\n",
    "Ensure that the Series and the DataFrame columns are of the same length. The function should return a Series containing the correlation coefficients for each column.\n",
    "\n",
    "Hint:\n",
    "- Use the *.corr()* method to compute the Pearson correlation coefficient between a DataFrame column and a Series. \n",
    "\n",
    "- Iterate through each column of the DataFrame, calculate the correlation with the Series, and store the results in a new pandas Series."
   ]
  },
  {
   "cell_type": "code",
   "execution_count": null,
   "metadata": {},
   "outputs": [],
   "source": [
    "import pandas as pd\n",
    "\n",
    "def correlation_with_series(df, series):\n",
    "\n",
    "    # Write your code here\n",
    "\n",
    "    "
   ]
  },
  {
   "cell_type": "code",
   "execution_count": null,
   "metadata": {},
   "outputs": [],
   "source": [
    "# Example usage - try your function here:\n",
    "data = {\n",
    "    'A': [1, 2, 3, 4, 5],\n",
    "    'B': [5, 4, 3, 2, 1],\n",
    "    'C': [2, 3, 2, 3, 2]\n",
    "}\n",
    "df = pd.DataFrame(data)\n",
    "series = pd.Series([1, 2, 3, 4, 5])\n",
    "correlations = correlation_with_series(df, series)\n",
    "print(correlations)\n"
   ]
  },
  {
   "cell_type": "markdown",
   "metadata": {},
   "source": [
    "#### Save your solution to a file ..."
   ]
  },
  {
   "cell_type": "code",
   "execution_count": null,
   "metadata": {},
   "outputs": [],
   "source": [
    "%%writefile solution_5_17.py\n",
    "\n",
    "import pandas as pd\n",
    "\n",
    "def correlation_with_series(df, series):\n",
    "\n",
    "    # Write your code here\n"
   ]
  },
  {
   "cell_type": "markdown",
   "metadata": {},
   "source": [
    "#### Test 5.17 Execute the cell below to test your solution..."
   ]
  },
  {
   "cell_type": "code",
   "execution_count": null,
   "metadata": {},
   "outputs": [],
   "source": [
    "! test/run_test.sh 17"
   ]
  },
  {
   "cell_type": "code",
   "execution_count": null,
   "metadata": {},
   "outputs": [],
   "source": []
  },
  {
   "cell_type": "markdown",
   "metadata": {},
   "source": [
    "### 5.18 Intro To Modeling: Remove Null Values from a DataFrame\n",
    "\n",
    "Load the `penguins` dataset provided by seaborn into a pandas DataFrame. Run cell below.\n",
    "\n",
    "\n",
    "Instructions:\n",
    "\n",
    "1. The goal is to prepare a dataset for modeling by dropping all null values in the dataset.\n",
    "\n",
    "2. Save the cleaned-up DataFrame as a csv file named `penguins_5_18.csv` (Please set the index to False )"
   ]
  },
  {
   "cell_type": "code",
   "execution_count": null,
   "metadata": {},
   "outputs": [],
   "source": [
    "import ssl\n",
    "import seaborn as sns \n",
    "ssl._create_default_https_context = ssl._create_unverified_context\n",
    "\n",
    "df = sns.load_dataset('penguins')"
   ]
  },
  {
   "cell_type": "code",
   "execution_count": null,
   "metadata": {},
   "outputs": [],
   "source": [
    "### Write your code here:\n",
    "\n",
    "\n",
    "\n"
   ]
  },
  {
   "cell_type": "code",
   "execution_count": null,
   "metadata": {},
   "outputs": [],
   "source": [
    "# Try your code here:\n",
    "df = pd.read_csv('penguins_5_18.csv')\n",
    "df"
   ]
  },
  {
   "cell_type": "markdown",
   "metadata": {},
   "source": [
    "#### Test 5.18 Execute the cell below to test your solution..."
   ]
  },
  {
   "cell_type": "code",
   "execution_count": null,
   "metadata": {},
   "outputs": [],
   "source": [
    "! test/run_test.sh 18"
   ]
  },
  {
   "cell_type": "code",
   "execution_count": null,
   "metadata": {},
   "outputs": [],
   "source": []
  },
  {
   "cell_type": "markdown",
   "metadata": {},
   "source": [
    "### 5.19 Intro to Modeling: Creating a Target Variable in a DataFrame\n",
    "\n",
    "Instructions:\n",
    "\n",
    "1. Load the cleaned csv file that you saved in the previous problem 5.18 `penguins_5_18.csv`.\n",
    "\n",
    "2. The goal is to predict whether a penguin is `Female` or `Male` which makes `sex` our target variable. \n",
    "\n",
    "3. Encode the target variable as `0` for `Female` and `1` for `Male` which means replacing the `Female` by `0` and `Male` by `1` in the `sex` column.\n",
    "\n",
    "3. Save this as a csv file called `penguins_5_22.csv`. (Please set the index to False.)"
   ]
  },
  {
   "cell_type": "code",
   "execution_count": null,
   "metadata": {},
   "outputs": [],
   "source": [
    "### Write your code here:\n",
    "\n",
    "\n",
    "\n"
   ]
  },
  {
   "cell_type": "code",
   "execution_count": null,
   "metadata": {},
   "outputs": [],
   "source": [
    "# Try your code here:\n",
    "df = pd.read_csv('penguins_5_19.csv')\n",
    "df"
   ]
  },
  {
   "cell_type": "markdown",
   "metadata": {},
   "source": [
    "#### Test 5.19 Execute the cell below to test your solution..."
   ]
  },
  {
   "cell_type": "code",
   "execution_count": null,
   "metadata": {},
   "outputs": [],
   "source": [
    "! test/run_test.sh 19"
   ]
  },
  {
   "cell_type": "code",
   "execution_count": null,
   "metadata": {},
   "outputs": [],
   "source": []
  },
  {
   "cell_type": "markdown",
   "metadata": {},
   "source": [
    "### 5.20 Intro to Modeling: One-Hot Encoding\n",
    "\n",
    "Instructions:\n",
    "\n",
    "1. Load the file that you saved in problem 5.19 `penguins_5_19.csv`.\n",
    "\n",
    "2. Use One-Hot encoding to transform the categorical features/columns into numerical features.\n",
    "\n",
    "3. The Categorical features are `species` & `island`. (Drop unnecessary columns. See hint below.)\n",
    "\n",
    "4. Save this as a csv file called `penguins_5_20.csv` (Please set the index to False )\n",
    "\n",
    "Hint: Complete this line of code: `pd.get_dummies(?,columns = [ ?, ? ], drop_first = True)`"
   ]
  },
  {
   "cell_type": "code",
   "execution_count": null,
   "metadata": {},
   "outputs": [],
   "source": [
    "### Write your code here:\n",
    "\n",
    "\n",
    "\n"
   ]
  },
  {
   "cell_type": "code",
   "execution_count": null,
   "metadata": {},
   "outputs": [],
   "source": [
    "# Try your code here:\n",
    "df = pd.read_csv('penguins_5_20.csv')\n",
    "print(df.shape)\n",
    "df"
   ]
  },
  {
   "cell_type": "markdown",
   "metadata": {},
   "source": [
    "#### Test 5.20 Execute the cell below to test your solution..."
   ]
  },
  {
   "cell_type": "code",
   "execution_count": null,
   "metadata": {},
   "outputs": [],
   "source": [
    "! test/run_test.sh 20"
   ]
  },
  {
   "cell_type": "code",
   "execution_count": null,
   "metadata": {},
   "outputs": [],
   "source": []
  },
  {
   "cell_type": "markdown",
   "metadata": {},
   "source": [
    "# Run all the tests again ..."
   ]
  },
  {
   "cell_type": "code",
   "execution_count": null,
   "metadata": {},
   "outputs": [],
   "source": [
    "! ./test/run_test.sh"
   ]
  },
  {
   "cell_type": "markdown",
   "metadata": {},
   "source": [
    "# Homework Submission\n",
    "- This homework is due by **2024-10-09, 6:00 PM (EDT)**.\n",
    "- Make sure that all your programs and output files are in the exact folder as specified in the instructions.\n",
    "- All file names on this system are case sensitive. Verify if you copy your work from a local computer to your home directory on ARC.\n",
    "- **Execute the cell below to submit your assignment**"
   ]
  },
  {
   "cell_type": "code",
   "execution_count": null,
   "metadata": {},
   "outputs": [],
   "source": [
    "! ./submit.sh -y"
   ]
  },
  {
   "cell_type": "code",
   "execution_count": null,
   "metadata": {},
   "outputs": [],
   "source": []
  }
 ],
 "metadata": {
  "colab": {
   "provenance": []
  },
  "kernelspec": {
   "display_name": "Python 3 (ipykernel)",
   "language": "python",
   "name": "python3"
  },
  "language_info": {
   "codemirror_mode": {
    "name": "ipython",
    "version": 3
   },
   "file_extension": ".py",
   "mimetype": "text/x-python",
   "name": "python",
   "nbconvert_exporter": "python",
   "pygments_lexer": "ipython3",
   "version": "3.8.6"
  }
 },
 "nbformat": 4,
 "nbformat_minor": 4
}
