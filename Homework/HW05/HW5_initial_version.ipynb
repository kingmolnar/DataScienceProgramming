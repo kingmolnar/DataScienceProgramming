{
 "cells": [
  {
   "cell_type": "markdown",
   "id": "2793add3",
   "metadata": {},
   "source": [
    "# Homework 5"
   ]
  },
  {
   "cell_type": "markdown",
   "id": "0b1477c7",
   "metadata": {},
   "source": [
    "#### Rename this notebook before you start working on it!!!"
   ]
  },
  {
   "cell_type": "markdown",
   "id": "10e34f8d",
   "metadata": {},
   "source": [
    "**Add this cell at the beginning of every notebook!\n",
    "You need to run this cell at the beginning of working with your notebook, and everytime you restart the kernel!**\n",
    "\n",
    "The `autload` module is specific for Jupyter notebooks. The code below instructs the notebook to reload Python packages if their code base has changed. Python loads modules (aka. packages) only the first time it encounters the `import` statement. The changes you make to a Python file that you import to notebook will not be re-loaded unless you use the `%%autoreload 2` magic. (The first magic `%reload_ext autoload` installs the `autoload` magic.`)"
   ]
  },
  {
   "cell_type": "code",
   "execution_count": null,
   "id": "b493a2e9",
   "metadata": {},
   "outputs": [],
   "source": [
    "# Execute first, don't change\n",
    "%reload_ext autoreload\n",
    "%autoreload 2"
   ]
  },
  {
   "cell_type": "code",
   "execution_count": null,
   "id": "61db1687",
   "metadata": {},
   "outputs": [],
   "source": [
    "%%sh\n",
    "mkdir -p test"
   ]
  },
  {
   "cell_type": "markdown",
   "id": "6af8100b",
   "metadata": {},
   "source": [
    "### 5.1  Matrix Operations\n",
    "Instructions\n",
    "1. Create a Python function that performs a series of matrix manipulations using the NumPy library.\n",
    "2. You will receive a NumPy matrix as input.\n",
    "3. The function should:\n",
    "    a. Transpose the matrix.\n",
    "    b. Calculate the matrix determinant.\n",
    "    c. Calculate the matrix trace.\n",
    "    d. Calculate the eigenvalues of the matrix.\n",
    "    e. Return a dictionary containing the results with keys 'transpose', 'determinant', 'trace', and 'eigenvalues'.\n",
    "4. Make sure to handle exceptions if the matrix is not square and return `\"Matrix must be square\" in such cases.\"`\n",
    "\n",
    "Example:\n",
    "- Input = np.array([[1, 2, 3],\n",
    "                   [4, 5, 6],\n",
    "                   [7, 8, 9]])\n",
    "- Output = {\n",
    "            'transpose': Transpose of the matrix\n",
    "            'determinant': Determinant of the matrix,\n",
    "            'trace': Trace of the matrix,\n",
    "            'eigenvalues': Eigen values of the matrix \n",
    "            }"
   ]
  },
  {
   "cell_type": "markdown",
   "id": "6b2a2422",
   "metadata": {},
   "source": [
    "Save your solution to `solution_5_1.py`"
   ]
  },
  {
   "cell_type": "code",
   "execution_count": null,
   "id": "9a8cb638",
   "metadata": {},
   "outputs": [],
   "source": [
    "%%writefile solution_5_1.py\n",
    "import numpy as np\n",
    "\n",
    "def matrix_manipulation(matrix):\n",
    "    \n",
    "    # Write your code here  \n",
    "    result = {}\n",
    "    if matrix.shape[0] != matrix.shape[1]:\n",
    "        return \"Matrix must be square\"\n",
    "    \n",
    "    result['transpose'] = np.transpose(matrix)\n",
    "    result['determinant'] = np.linalg.det(matrix)\n",
    "    result['trace'] = np.trace(matrix)\n",
    "    eigenvalues = np.linalg.eigvals(matrix)\n",
    "    result['eigenvalues'] = eigenvalues\n",
    "    \n",
    "    return result"
   ]
  },
  {
   "cell_type": "markdown",
   "id": "9df5c1fc",
   "metadata": {},
   "source": [
    "#### Test 5.1"
   ]
  },
  {
   "cell_type": "code",
   "execution_count": null,
   "id": "c65e9bd3",
   "metadata": {},
   "outputs": [],
   "source": [
    "%%writefile test/test_5_1.py\n",
    "import numpy as np\n",
    "from solution_5_1 import matrix_manipulation\n",
    "\n",
    "def test_5_1():\n",
    "    matrix = np.array([[1, 2, 3],\n",
    "                       [4, 5, 6],\n",
    "                       [7, 8, 9]])\n",
    "    \n",
    "    result = matrix_manipulation(matrix)\n",
    "    \n",
    "    assert np.array_equal(result['transpose'], np.array([[1, 4, 7], [2, 5, 8], [3, 6, 9]])), \"Transpose is incorrect\"\n",
    "    assert np.isclose(result['determinant'], 0.0), \"Determinant is incorrect\"\n",
    "    assert result['trace'] == 15, \"Trace is incorrect\"\n",
    "    assert np.allclose(result['eigenvalues'], np.array([16.116844, -1.116844, 0.0])), \"Eigenvalues are incorrect\"\n"
   ]
  },
  {
   "cell_type": "markdown",
   "id": "ff0f438d",
   "metadata": {},
   "source": [
    "### 5.2 Population Growth Modeling\n",
    "Instructions\n",
    "1. Write a Python function that calculates the population growth of a species over time using a simple exponential growth model.\n",
    "2. The function takes three arguments: the initial population, the growth rate (as a decimal), and a list of time periods (in years).\n",
    "3. The function should use NumPy to perform the population growth calculations and return a NumPy array representing the population at each time period.\n",
    "4. The exponential growth formula is: `P(t) = P0 * e^(rt)`, where `P(t) is the population at time t`, `P0 is the initial population`, `r is the growth rate`, and `t is the time period in years`.\n",
    "5. You need to calculate the population at each time period specified in the list of time periods.\n",
    "6. Return the population values as a NumPy array in the same order as the input time periods.\n",
    "\n",
    "Example:\n",
    "Suppose you have an initial population of 1,000 individuals, a growth rate of 0.05 (5% per year), and you want to calculate the population for the next 5 years."
   ]
  },
  {
   "cell_type": "markdown",
   "id": "d6ac663e",
   "metadata": {},
   "source": [
    "Save your solution to `solution_5_2.py`"
   ]
  },
  {
   "cell_type": "code",
   "execution_count": null,
   "id": "f99876a4",
   "metadata": {},
   "outputs": [],
   "source": [
    "%%writefile solution_5_2.py\n",
    "import numpy as np\n",
    "\n",
    "def population_growth(initial_population, growth_rate, time_periods):\n",
    "    \n",
    "    # Write your code here \n",
    "    population = initial_population * np.exp(growth_rate * np.array(time_periods))\n",
    "    return population"
   ]
  },
  {
   "cell_type": "markdown",
   "id": "6862d3b5",
   "metadata": {},
   "source": [
    "#### Test 5.2"
   ]
  },
  {
   "cell_type": "code",
   "execution_count": null,
   "id": "41f9f861",
   "metadata": {},
   "outputs": [],
   "source": [
    "%%writefile test/test_5_2.py\n",
    "import numpy as np\n",
    "from solution_5_2 import population_growth\n",
    "\n",
    "def test_5_2():\n",
    "    initial_population = 1000\n",
    "    growth_rate = 0.05\n",
    "    time_periods = [0, 1, 2, 3, 4, 5]\n",
    "    \n",
    "    result = population_growth(initial_population, growth_rate, time_periods)\n",
    "    expected_result = initial_population * np.exp(growth_rate * np.array(time_periods))  \n",
    "    \n",
    "    assert np.allclose(result, expected_result), \"The calculated populations are incorrect\""
   ]
  },
  {
   "cell_type": "markdown",
   "id": "29c09fa9",
   "metadata": {},
   "source": [
    "### 5.3 Currency Exchange Calculator\n",
    "Instructions\n",
    "1. Write a Python function that builds a simple currency exchange calculator using Python and NumPy.\n",
    "2. The Python function takes two arguments: an exchange rate matrix and an amount of money in a source currency.\n",
    "3. The `exchange rate matrix` is a NumPy array where each row represents the exchange rates for a specific currency against all other currencies.\n",
    "4. The function should return a NumPy array representing the equivalent amount of money in all the target currencies.\n",
    "5. Use the `exchange rate matrix` to perform the currency conversion.\n",
    "6. The formula for currency conversion is: `target_amount = exchange_rate_matrix * source_amount`, where `target_amount` and `source_amount` are NumPy arrays.\n",
    "7. Return the `target_amount` array.\n",
    "\n",
    "- Exchange Rate Matrix: [[1.0, 1/0.94, 1/147.83],                 USD To (USD, EUR, JPY)\n",
    "                         [0.94, 1.0, 1/157.62],                   EUR To (USD, EUR, JPY)\n",
    "                         [147.83, 157.62, 1.0]]                   JPY To (USD, EUR, JPY)\n",
    "Example:\n",
    "- Input: Source Amount = [100, 0, 0]             #[USD, EUR, JPY]\n",
    "- Output: Target Amount = [100, 94.0, 14783.0]"
   ]
  },
  {
   "cell_type": "markdown",
   "id": "de33fe6c",
   "metadata": {},
   "source": [
    "Save your solution to `solution_5_3.py`"
   ]
  },
  {
   "cell_type": "code",
   "execution_count": null,
   "id": "f0250d6a",
   "metadata": {},
   "outputs": [],
   "source": [
    "%%writefile solution_5_3.py\n",
    "import numpy as np\n",
    "\n",
    "def currency_exchange(exchange_rate_matrix, source_amount):\n",
    "    \n",
    "    # Write your code here\n",
    "    target_amount = np.dot(exchange_rate_matrix, source_amount)\n",
    "    return target_amount"
   ]
  },
  {
   "cell_type": "markdown",
   "id": "bd4f5e2f",
   "metadata": {},
   "source": [
    "#### Test 5.3"
   ]
  },
  {
   "cell_type": "code",
   "execution_count": null,
   "id": "3e28d9b7",
   "metadata": {},
   "outputs": [],
   "source": [
    "%%writefile test/test_5_3.py\n",
    "import numpy as np\n",
    "from solution_5_3 import currency_exchange\n",
    "\n",
    "def test_5_3():\n",
    "    exchange_rate_matrix = np.array([[1.0, 1/0.94, 1/147.83],      \n",
    "                                     [0.94, 1.0, 1/157.62], \n",
    "                                     [147.83, 157.62, 1.0]] )\n",
    "    \n",
    "    source_amount = np.array([100.0, 0.0, 0.0])\n",
    "    result = currency_exchange(exchange_rate_matrix, source_amount)\n",
    "    expected_result = np.array([100.0, 94.0, 14783.0])\n",
    "    assert np.allclose(result, expected_result), \"The conversion is incorrect\""
   ]
  },
  {
   "cell_type": "markdown",
   "id": "ae491945",
   "metadata": {},
   "source": [
    "### 5.4 Currency Exchange Calculator - Continuation\n",
    "Instructions\n",
    "1. Given a currency and the amount, calculate the amount in a new currency.\n",
    "2. Write a Python function takes two arguments: `exchange_rate_matrix`, `source_amount` and a `currency` to which the amount needs to be converted to.\n",
    "3. Use the function `currency_exchange` from `solution_5_3.py` to calculate the conversion directly. You can import the function instead of copy pasting. \n",
    "4. Given the currency, return the right value from the calculated list to be returned.\n",
    "5. There are only three currencies USD, EUR, JPY and the amounts in the list are of similar order.\n",
    "\n",
    "Example:\n",
    "- Input: Source Amount = [100, 0, 0]             #[USD, EUR, JPY]\n",
    "           Currency = 'EUR' \n",
    "- Output: Changed amount = 94 "
   ]
  },
  {
   "cell_type": "markdown",
   "id": "da85a333",
   "metadata": {},
   "source": [
    "Save your solution to `solution_5_4.py`"
   ]
  },
  {
   "cell_type": "code",
   "execution_count": null,
   "id": "a81e9211",
   "metadata": {},
   "outputs": [],
   "source": [
    "%%writefile solution_5_4.py\n",
    "import numpy as np\n",
    "from solution_5_3 import currency_exchange\n",
    "\n",
    "def currency_exchange_2(exchange_rate_matrix, source_amount, currency):\n",
    "    \n",
    "    # Write your code here\n",
    "    target_amount = currency_exchange(exchange_rate_matrix, source_amount)\n",
    "    if currency == 'USD':\n",
    "        return target_amount[0]\n",
    "    elif currency == 'EUR':\n",
    "        return target_amount[1]\n",
    "    else:\n",
    "        return target_amount[2]"
   ]
  },
  {
   "cell_type": "markdown",
   "id": "f7c34510",
   "metadata": {},
   "source": [
    "#### Test 5.4"
   ]
  },
  {
   "cell_type": "code",
   "execution_count": null,
   "id": "7fb6eb8a",
   "metadata": {},
   "outputs": [],
   "source": [
    "%%writefile test/test_5_4.py\n",
    "import numpy as np\n",
    "from solution_5_4 import currency_exchange_2\n",
    "\n",
    "def test_5_4():\n",
    "    exchange_rate_matrix = np.array([[1.0, 1/0.94, 1/147.83],      \n",
    "                                     [0.94, 1.0, 1/157.62], \n",
    "                                     [147.83, 157.62, 1.0]] )\n",
    "    \n",
    "    source_amount = np.array([100.0, 0.0, 0.0])\n",
    "    result = currency_exchange_2(exchange_rate_matrix, source_amount,'EUR')\n",
    "    \n",
    "    assert result == 94., \"The conversion is incorrect\""
   ]
  },
  {
   "cell_type": "markdown",
   "id": "904bd7cc",
   "metadata": {},
   "source": [
    "### 5.5 Advanced Recipe Scaling\n",
    "Instructions\n",
    "1. Write a Python function that scales a recipe based on the number of servings.\n",
    "2. The function that takes two arguments: a `recipe matrix`, `number of servings` and the `desired number of servings`.\n",
    "3. The recipe matrix is a NumPy array where each value represents the ingredients for one serving of the dish.\n",
    "4. The function should scale the recipe to the desired number of servings and return a new recipe matrix.\n",
    "5. To scale the recipe, multiply each ingredient's quantity by the ratio of the desired servings to the original servings.\n",
    "6. Return the scaled recipe matrix.\n",
    "\n",
    "Example:\n",
    "- Imagine you have a recipe for a cake, and you want to scale it to serve 10 people instead of 4.\n",
    "- Input: recipe_matrix = np.array([[200, 2, 300],  \n",
    "                          [50, 1, 50], \n",
    "                          [10, 0.5, 5]]) \n",
    "             number_servings = 4\n",
    "             desired_servings = 10"
   ]
  },
  {
   "cell_type": "markdown",
   "id": "3c89861b",
   "metadata": {},
   "source": [
    "Save your solution to `solution_5_5.py`"
   ]
  },
  {
   "cell_type": "code",
   "execution_count": null,
   "id": "bae0aca7",
   "metadata": {},
   "outputs": [],
   "source": [
    "%%writefile solution_5_5.py\n",
    "import numpy as np\n",
    "\n",
    "def scale_recipe_advanced(recipe_matrix, number_servings, desired_servings):\n",
    "    \n",
    "    # Write your code here\n",
    "    scaled_recipe = recipe_matrix * (desired_servings / number_servings)\n",
    "    return scaled_recipe"
   ]
  },
  {
   "cell_type": "markdown",
   "id": "d868abb9",
   "metadata": {},
   "source": [
    "#### Test 5.5"
   ]
  },
  {
   "cell_type": "code",
   "execution_count": null,
   "id": "4e72d92d",
   "metadata": {},
   "outputs": [],
   "source": [
    "%%writefile test/test_5_5.py\n",
    "import numpy as np\n",
    "from solution_5_5 import scale_recipe_advanced\n",
    "\n",
    "def test_5_5():\n",
    "    recipe_matrix = np.array([[200, 2, 300], \n",
    "                          [50, 1, 50],\n",
    "                          [10, 0.5, 5]])   \n",
    "    number_servings = 4\n",
    "    desired_servings = 10\n",
    "    scaled_recipe = scale_recipe_advanced(recipe_matrix, number_servings, desired_servings)\n",
    "    \n",
    "    expected_result = np.array([[500.0, 5.0, 750.0],\n",
    "                                [125.0, 2.5, 125.0],\n",
    "                                [25.0, 1.25, 12.5]])\n",
    "    \n",
    "    assert np.allclose(scaled_recipe, expected_result), \"The conversion is incorrect\""
   ]
  },
  {
   "cell_type": "markdown",
   "id": "068d0904",
   "metadata": {},
   "source": [
    "### 5.6 Creating and Saving a DataFrame\n",
    "Instructions\n",
    "1. Create a Pandas DataFrame with the following columns: 'MovieTitle', 'Genre', 'ReleaseYear', and 'Rating'.\n",
    "2. Add the following movie data to the DataFrame. You can type or copy paste \n",
    "\n",
    "- Data:\n",
    "            movie_titles = ['The Matrix', 'Inception', 'Pulp Fiction', 'The Shawshank Redemption', 'Fight Club',\n",
    "                'The Dark Knight', 'Forrest Gump', 'The Godfather', 'Titanic', 'Jurassic Park']\n",
    "\n",
    "            genres = ['Sci-Fi', 'Sci-Fi', 'Crime', 'Drama', 'Drama', 'Action', 'Drama', 'Crime', 'Romance', 'Sci-Fi']\n",
    "\n",
    "            release_years = [1999, 2010, 1994, 1994, 1999, 2008, 1994, 1972, 1997, 1993]\n",
    "\n",
    "            ratings = [8.7, 8.8, 8.9, 9.3, 8.8, 9.0, 8.8, 9.2, 7.8, 8.1]\n",
    "\n",
    "3. Once you've created the DataFrame, save it to a CSV file named 'movie_dataset.csv'. Make sure you provide `index=False` when saving the dataframe.\n",
    "4. There's no need to write a function for this task; you can write the code directly to create the DataFrame and save it to the CSV file."
   ]
  },
  {
   "cell_type": "markdown",
   "id": "ba0ee1e3",
   "metadata": {},
   "source": [
    "Save your solution to `solution_5_6.py`"
   ]
  },
  {
   "cell_type": "code",
   "execution_count": null,
   "id": "4a37a524",
   "metadata": {},
   "outputs": [],
   "source": [
    "import pandas as pd"
   ]
  },
  {
   "cell_type": "code",
   "execution_count": null,
   "id": "ac6f35fc",
   "metadata": {},
   "outputs": [],
   "source": [
    "## Write your code here\n",
    "\n",
    "data = { \n",
    "        'MovieTitle': ['The Matrix', 'Inception', 'Pulp Fiction', 'The Shawshank Redemption', 'Fight Club',\n",
    "                'The Dark Knight', 'Forrest Gump', 'The Godfather', 'Titanic', 'Jurassic Park'], \n",
    "        'Genre': ['Sci-Fi', 'Sci-Fi', 'Crime', 'Drama', 'Drama', 'Action', 'Drama', 'Crime', 'Romance', 'Sci-Fi'], \n",
    "        'ReleaseYear': [1999, 2010, 1994, 1994, 1999, 2008, 1994, 1972, 1997, 1993],\n",
    "        'Rating': [8.7, 8.8, 8.9, 9.3, 8.8, 9.0, 8.8, 9.2, 7.8, 8.1]    \n",
    "}\n",
    "\n",
    "df = pd.DataFrame(data)\n",
    "df.to_csv('movie_dataset.csv', index=False)"
   ]
  },
  {
   "cell_type": "markdown",
   "id": "195d9f31",
   "metadata": {},
   "source": [
    "#### Test 5.6"
   ]
  },
  {
   "cell_type": "code",
   "execution_count": null,
   "id": "5300e86d",
   "metadata": {},
   "outputs": [],
   "source": [
    "%%writefile test/test_5_6.py\n",
    "import os \n",
    "\n",
    "def test_5_6():\n",
    "     assert os.path.isfile('movie_dataset.csv'), \"Missing output file.\""
   ]
  },
  {
   "cell_type": "markdown",
   "id": "d6e5f29c",
   "metadata": {},
   "source": [
    "### 5.7 Loading and Analyzing a DataFrame\n",
    "Instructions\n",
    "1. You should now have a CSV file named 'movie_dataset.csv' in your directory if your previously question is solved.\n",
    "2. Write a Python function that does the following:\n",
    "    a. Loads the 'movie_dataset.csv' file into a Pandas DataFrame.\n",
    "    b. Returns the shape (number of rows and columns) of the DataFrame.\n",
    "3. The function should take no arguments."
   ]
  },
  {
   "cell_type": "markdown",
   "id": "4062c7c0",
   "metadata": {},
   "source": [
    "Save your solution to `solution_5_7.py`"
   ]
  },
  {
   "cell_type": "code",
   "execution_count": null,
   "id": "82895288",
   "metadata": {},
   "outputs": [],
   "source": [
    "%%writefile solution_5_7.py\n",
    "import pandas as pd\n",
    "\n",
    "def load_and_analyze_movie_data():\n",
    "    \n",
    "    #Write your code here\n",
    "    df = pd.read_csv('movie_dataset.csv')\n",
    "    return df.shape"
   ]
  },
  {
   "cell_type": "markdown",
   "id": "363bca18",
   "metadata": {},
   "source": [
    "#### Test 5.7"
   ]
  },
  {
   "cell_type": "code",
   "execution_count": null,
   "id": "8800c96d",
   "metadata": {},
   "outputs": [],
   "source": [
    "%%writefile test/test_5_7.py\n",
    "from solution_5_7 import load_and_analyze_movie_data\n",
    "\n",
    "def test_5_7():\n",
    "    result = load_and_analyze_movie_data()\n",
    "    assert result == (10, 4), \"The shape of the dataset is incorrect\""
   ]
  },
  {
   "cell_type": "markdown",
   "id": "3bbf7da8",
   "metadata": {},
   "source": [
    "### 5.8 Finding the Least Rated Movie\n",
    "Instructions\n",
    "1. Write a Python function that loads the movie dataset `movie_dataset.csv` using Pandas.\n",
    "2. Your task is to complete the function to find and return the following information as a tuple:\n",
    "    a. The title of the least rated movie.\n",
    "    b. The rating of the least rated movie.\n",
    "3. The function should take no arguments."
   ]
  },
  {
   "cell_type": "markdown",
   "id": "bbe3d44f",
   "metadata": {},
   "source": [
    "Save your solution to `solution_5_8.py`"
   ]
  },
  {
   "cell_type": "code",
   "execution_count": null,
   "id": "53deb4de",
   "metadata": {},
   "outputs": [],
   "source": [
    "%%writefile solution_5_8.py\n",
    "import pandas as pd\n",
    "\n",
    "def find_least_rated_movie():\n",
    "    # Dont change anything above this comment\n",
    "    # Write your code here\n",
    "    df = pd.read_csv('movie_dataset.csv')\n",
    "    least_rated_movie = df[df['Rating'] == df['Rating'].min()]\n",
    "    \n",
    "    least_rated_movie_info = (least_rated_movie['MovieTitle'].iloc[0], least_rated_movie['Rating'].iloc[0])\n",
    "    \n",
    "    return least_rated_movie_info"
   ]
  },
  {
   "cell_type": "markdown",
   "id": "34bdaa49",
   "metadata": {},
   "source": [
    "#### Test 5.8"
   ]
  },
  {
   "cell_type": "code",
   "execution_count": null,
   "id": "79b68efd",
   "metadata": {},
   "outputs": [],
   "source": [
    "%%writefile test/test_5_8.py\n",
    "from solution_5_8 import find_least_rated_movie\n",
    "\n",
    "def test_5_8():\n",
    "    result = find_least_rated_movie()    \n",
    "    assert result == ('Titanic', 7.8), 'The output provided is incorrect'"
   ]
  },
  {
   "cell_type": "markdown",
   "id": "b2741696",
   "metadata": {},
   "source": [
    "### 5.9 Counting Movie Genres\n",
    "Instructions\n",
    "1. Write a Python function that loads the movie dataset `movie_dataset.csv` using Pandas.\n",
    "2. Your task is to complete the function to count and return the number of movies in each genre as a dictionary.\n",
    "3. The function should take no arguments."
   ]
  },
  {
   "cell_type": "markdown",
   "id": "132448a3",
   "metadata": {},
   "source": [
    "Save your solution to `solution_5_9.py`"
   ]
  },
  {
   "cell_type": "code",
   "execution_count": null,
   "id": "a506e1c4",
   "metadata": {},
   "outputs": [],
   "source": [
    "%%writefile solution_5_9.py\n",
    "import pandas as pd\n",
    "\n",
    "def count_movie_genres():\n",
    "    # Dont change anything above this comment\n",
    "    # Write your code here\n",
    "    df = pd.read_csv('movie_dataset.csv')\n",
    "    genre_counts = df['Genre'].value_counts().to_dict()\n",
    "    \n",
    "    return genre_counts"
   ]
  },
  {
   "cell_type": "markdown",
   "id": "ea8265a8",
   "metadata": {},
   "source": [
    "#### Test 5.9"
   ]
  },
  {
   "cell_type": "code",
   "execution_count": null,
   "id": "085c14f2",
   "metadata": {},
   "outputs": [],
   "source": [
    "%%writefile test/test_5_9.py\n",
    "from solution_5_9 import count_movie_genres\n",
    "\n",
    "def test_5_8():\n",
    "    result = count_movie_genres()\n",
    "    expected_result = {\n",
    "        'Sci-Fi': 3,\n",
    "        'Crime': 2,\n",
    "        'Drama': 3,\n",
    "        'Action': 1,\n",
    "        'Romance': 1\n",
    "    }\n",
    "    \n",
    "    assert result == expected_result, 'The output provided is incorrect'"
   ]
  },
  {
   "cell_type": "markdown",
   "id": "b4d11349",
   "metadata": {},
   "source": [
    "### 5.10 Counting Movie Genres\n",
    "Instructions\n",
    "1. Write a Python function that loads the movie dataset `movie_dataset.csv` using Pandas.\n",
    "2. Your task is to complete the function to find and return the titles of movies that meet the following criteria:\n",
    "    a. The genre of the movie is 'Drama'.\n",
    "    b. The movie was released in the year 1994.\n",
    "    c. The movie has a rating below 9.\n",
    "3. The function should take no arguments.\n",
    "4. Return the movie titles as a list."
   ]
  },
  {
   "cell_type": "markdown",
   "id": "1b0df3ce",
   "metadata": {},
   "source": [
    "Save your solution to `solution_5_10.py`"
   ]
  },
  {
   "cell_type": "code",
   "execution_count": null,
   "id": "2c4aaeda",
   "metadata": {},
   "outputs": [],
   "source": [
    "%%writefile solution_5_10.py\n",
    "import pandas as pd\n",
    "\n",
    "def find_drama_movies_1994_below_9_rating():\n",
    "    # Dont change anything above this comment\n",
    "    # Write your code here\n",
    "    df = pd.read_csv('movie_dataset.csv')\n",
    "\n",
    "    filtered_movies = df[(df['Genre'] == 'Drama') & (df['ReleaseYear'] == 1994) & (df['Rating'] < 9)]\n",
    "    movie_titles = filtered_movies['MovieTitle'].tolist()\n",
    "    return movie_titles"
   ]
  },
  {
   "cell_type": "markdown",
   "id": "2ed5af5d",
   "metadata": {},
   "source": [
    "#### Test 5.10"
   ]
  },
  {
   "cell_type": "code",
   "execution_count": null,
   "id": "09d2ec63",
   "metadata": {},
   "outputs": [],
   "source": [
    "%%writefile test/test_5_10.py\n",
    "from solution_5_10 import find_drama_movies_1994_below_9_rating\n",
    "\n",
    "def test_5_10():\n",
    "    result = find_drama_movies_1994_below_9_rating()\n",
    "    expected_result = ['Forrest Gump']\n",
    "    assert result == expected_result, 'The output provided is incorrect'"
   ]
  },
  {
   "cell_type": "code",
   "execution_count": null,
   "id": "e5a3df44",
   "metadata": {},
   "outputs": [],
   "source": []
  },
  {
   "cell_type": "code",
   "execution_count": null,
   "id": "38a84280",
   "metadata": {},
   "outputs": [],
   "source": []
  },
  {
   "cell_type": "code",
   "execution_count": null,
   "id": "32998cca",
   "metadata": {},
   "outputs": [],
   "source": []
  },
  {
   "cell_type": "code",
   "execution_count": null,
   "id": "13479a48",
   "metadata": {},
   "outputs": [],
   "source": []
  },
  {
   "cell_type": "code",
   "execution_count": null,
   "id": "bf623215",
   "metadata": {},
   "outputs": [],
   "source": []
  },
  {
   "cell_type": "code",
   "execution_count": null,
   "id": "c3794e6b",
   "metadata": {},
   "outputs": [],
   "source": []
  },
  {
   "cell_type": "code",
   "execution_count": null,
   "id": "ef0a6bbf",
   "metadata": {},
   "outputs": [],
   "source": []
  },
  {
   "cell_type": "code",
   "execution_count": null,
   "id": "3871647a",
   "metadata": {},
   "outputs": [],
   "source": []
  },
  {
   "cell_type": "code",
   "execution_count": null,
   "id": "8665cf13",
   "metadata": {},
   "outputs": [],
   "source": []
  },
  {
   "cell_type": "code",
   "execution_count": null,
   "id": "a16444fe",
   "metadata": {},
   "outputs": [],
   "source": []
  },
  {
   "cell_type": "code",
   "execution_count": null,
   "id": "769bf7ec",
   "metadata": {},
   "outputs": [],
   "source": []
  },
  {
   "cell_type": "code",
   "execution_count": null,
   "id": "68840f5e",
   "metadata": {},
   "outputs": [],
   "source": []
  },
  {
   "cell_type": "code",
   "execution_count": null,
   "id": "526efbcf",
   "metadata": {},
   "outputs": [],
   "source": []
  },
  {
   "cell_type": "code",
   "execution_count": null,
   "id": "8753ba25",
   "metadata": {},
   "outputs": [],
   "source": []
  },
  {
   "cell_type": "code",
   "execution_count": null,
   "id": "ae9791b8",
   "metadata": {},
   "outputs": [],
   "source": []
  },
  {
   "cell_type": "code",
   "execution_count": null,
   "id": "41f45e23",
   "metadata": {},
   "outputs": [],
   "source": []
  },
  {
   "cell_type": "code",
   "execution_count": null,
   "id": "8e7acec2",
   "metadata": {},
   "outputs": [],
   "source": []
  },
  {
   "cell_type": "code",
   "execution_count": null,
   "id": "bedded39",
   "metadata": {},
   "outputs": [],
   "source": []
  },
  {
   "cell_type": "code",
   "execution_count": null,
   "id": "15c4b34b",
   "metadata": {},
   "outputs": [],
   "source": []
  },
  {
   "cell_type": "code",
   "execution_count": null,
   "id": "967c03a4",
   "metadata": {},
   "outputs": [],
   "source": []
  },
  {
   "cell_type": "code",
   "execution_count": null,
   "id": "3f429fe6",
   "metadata": {},
   "outputs": [],
   "source": []
  },
  {
   "cell_type": "code",
   "execution_count": null,
   "id": "228df956",
   "metadata": {},
   "outputs": [],
   "source": []
  },
  {
   "cell_type": "code",
   "execution_count": null,
   "id": "4d42310f",
   "metadata": {},
   "outputs": [],
   "source": []
  },
  {
   "cell_type": "code",
   "execution_count": null,
   "id": "dbb90e73",
   "metadata": {},
   "outputs": [],
   "source": []
  },
  {
   "cell_type": "code",
   "execution_count": null,
   "id": "22edb499",
   "metadata": {},
   "outputs": [],
   "source": []
  },
  {
   "cell_type": "markdown",
   "id": "b4574eef",
   "metadata": {},
   "source": [
    "#### PLEASE RUN THE BELOW CELL BEFORE YOU GO TO THE NEXT PROBLEM"
   ]
  },
  {
   "cell_type": "code",
   "execution_count": null,
   "id": "8cd7237c",
   "metadata": {},
   "outputs": [],
   "source": [
    "df = pd.read_csv('/home/data/APD/COBRA-YTD2017.csv.gz')\n",
    "df.to_csv('adp_2017.csv', index=False)"
   ]
  },
  {
   "cell_type": "markdown",
   "id": "461a0255",
   "metadata": {},
   "source": [
    "### 5.21 Finding null values\n",
    "Instructions\n",
    "1. In your current directory there is another csv (If you run the previous cell), named `adp_2017.csv`. It has 23 columns and 17425 rows.\n",
    "2. Write a function which loads this csv `adp_2017.csv` into a dataframe. \n",
    "3. Return the missing values in the data frame as a list. \n",
    "\n",
    "Note: The list your return should be of same length as the number of columns (23 in this case). \\\n",
    "       You can use `to_list()` function for this purpose"
   ]
  },
  {
   "cell_type": "markdown",
   "id": "a250228e",
   "metadata": {},
   "source": [
    "Save your solution to `solution_5_21.py`"
   ]
  },
  {
   "cell_type": "code",
   "execution_count": null,
   "id": "cf53eb6a",
   "metadata": {},
   "outputs": [],
   "source": [
    "%%writefile solution_5_21.py\n",
    "import pandas as pd\n",
    "\n",
    "def find_missingvalues():\n",
    "    # Dont change anything above this comment\n",
    "    # Write your code here\n",
    "    df = pd.read_csv('adp_2017.csv')\n",
    "    return df.isnull().sum().to_list()"
   ]
  },
  {
   "cell_type": "markdown",
   "id": "a91eeb41",
   "metadata": {},
   "source": [
    "#### Test 5.21"
   ]
  },
  {
   "cell_type": "code",
   "execution_count": null,
   "id": "f05c64d7",
   "metadata": {},
   "outputs": [],
   "source": [
    "%%writefile test/test_5_21.py\n",
    "from solution_5_21 import find_missingvalues\n",
    "\n",
    "def test_5_21():\n",
    "    result = find_missingvalues()\n",
    "    assert len(result) == 23, 'The lenght of list provided is incorrect'\n",
    "    expected_result = [0, 0, 0, 0, 4, 0, 4, 0, 17061, 14422, 0, 0, 1, 14953, 50, 0, 0, 2160,\n",
    "                         0, 779, 189, 0, 0]\n",
    "    assert result == expected_result, 'The output provided is incorrect'"
   ]
  },
  {
   "cell_type": "markdown",
   "id": "b70aa147",
   "metadata": {},
   "source": [
    "### 5.22 Filling null values\n",
    "One method to deal with missing data is to fill them with certain values like 0, mean or median depending on the column type, its importance etc. \n",
    "\n",
    "Instructions\n",
    "1. Load the csv `adp_2017.csv` into a dataframe. \n",
    "2. Fill the missing values of column `loc_type` with 0.\n",
    "3. Save the dataframe into a new csv file called `adp_5_22.csv` (Make sure to set the index to false). \n",
    "4. Make sure you do not change/overwrite `adp_2017.csv`. "
   ]
  },
  {
   "cell_type": "code",
   "execution_count": null,
   "id": "3acdd048",
   "metadata": {},
   "outputs": [],
   "source": [
    "# Write your code here\n",
    "df = pd.read_csv('adp_2017.csv')\n",
    "df.loc_type.fillna(0, inplace = True)\n",
    "\n",
    "df.to_csv('adp_5_22.csv', index = False)"
   ]
  },
  {
   "cell_type": "markdown",
   "id": "450cba78",
   "metadata": {},
   "source": [
    "#### Test 5.22"
   ]
  },
  {
   "cell_type": "code",
   "execution_count": null,
   "id": "8d830fb4",
   "metadata": {},
   "outputs": [],
   "source": [
    "%%writefile test/test_5_22.py\n",
    "import pandas as pd \n",
    "\n",
    "def test_5_22():\n",
    "    df = pd.read_csv('adp_5_22.csv')\n",
    "    assert df.loc_type.isnull().sum() == 0, 'There are still missing values in that column'"
   ]
  },
  {
   "cell_type": "markdown",
   "id": "0575f028",
   "metadata": {},
   "source": [
    "### 5.23 Filtering out null values\n",
    "Another method to deal with missing data is to fill them with certain values like 0, mean or median depending on the column type, its importance etc. \n",
    "\n",
    "Instructions\n",
    "1. Load the csv `adp_2017.csv` into a dataframe. \n",
    "2. Filter out (drop) the rows only when there are more than 2 columns with missing data. (In other words atleast 21 columns should have data)\n",
    "3. Save the dataframe into a new csv file called `adp_5_23.csv` (Make sure to set the index to false). \n",
    "4. Make sure you do not change/overwrite `adp_2017.csv`. "
   ]
  },
  {
   "cell_type": "code",
   "execution_count": null,
   "id": "c9ceea08",
   "metadata": {},
   "outputs": [],
   "source": [
    "# Write your code here\n",
    "df = pd.read_csv('adp_2017.csv')\n",
    "\n",
    "filtered_df = df.dropna(thresh=21)\n",
    "filtered_df.to_csv('adp_5_23.csv', index=False)"
   ]
  },
  {
   "cell_type": "markdown",
   "id": "0b218a31",
   "metadata": {},
   "source": [
    "#### Test 5.23"
   ]
  },
  {
   "cell_type": "code",
   "execution_count": null,
   "id": "305559a9",
   "metadata": {},
   "outputs": [],
   "source": [
    "%%writefile test/test_5_23.py\n",
    "import pandas as pd \n",
    "\n",
    "def test_5_23():\n",
    "    df = pd.read_csv('adp_5_23.csv')\n",
    "    assert df.shape[0] == 4467, 'Incorrect number of rows have been dropped'"
   ]
  },
  {
   "cell_type": "markdown",
   "id": "8c5ab711",
   "metadata": {},
   "source": [
    "### 5.24 Changing the data type of a column. \n",
    "\n",
    "Instructions\n",
    "1. Load the csv `adp_2017.csv` into a dataframe. \n",
    "2. There are two columns `rpt_date`, `occur_date`. The datatype of this columng would be `object`. So you cannot perform any datetime operations.\n",
    "3. Convert the datatype of these two columns to datetime. \n",
    "4. Create a new column `date_diff` which calculates the difference between the two dates. The new column should have the difference in days. \n",
    "3. Save the dataframe into a new csv file called `adp_5_24.csv` (Make sure to set the index to false). \n",
    "4. Make sure you do not change/overwrite `adp_2017.csv`. \n",
    "\n",
    "Note: `.dt.days` is helpful to convert timedelta object to days"
   ]
  },
  {
   "cell_type": "code",
   "execution_count": null,
   "id": "5dfc3c1a",
   "metadata": {},
   "outputs": [],
   "source": [
    "# Write your code here\n",
    "\n",
    "df = pd.read_csv('adp_2017.csv')\n",
    "df['rpt_date'] = pd.to_datetime(df['rpt_date'], format='%m/%d/%Y')\n",
    "df['occur_date'] = pd.to_datetime(df['occur_date'], format='%m/%d/%Y')\n",
    "df['date_diff'] = (df['rpt_date'] - df['occur_date']).dt.days\n",
    "\n",
    "df.to_csv('adp_5_24.csv', index=False)"
   ]
  },
  {
   "cell_type": "markdown",
   "id": "db1aad98",
   "metadata": {},
   "source": [
    "#### Test 5.24"
   ]
  },
  {
   "cell_type": "code",
   "execution_count": null,
   "id": "131cabc9",
   "metadata": {},
   "outputs": [],
   "source": [
    "%%writefile test/test_5_24.py\n",
    "import pandas as pd \n",
    "\n",
    "def test_5_24():\n",
    "    df = pd.read_csv('adp_5_24.csv')\n",
    "    assert df.date_diff.dtype == 'int64', 'Incorrect data type'"
   ]
  },
  {
   "cell_type": "markdown",
   "id": "9f21f62a",
   "metadata": {},
   "source": [
    "### 5.25 Getting statistics \n",
    "\n",
    "Instructions\n",
    "1. Write a function where you load the csv `adp_5_24.csv` into a dataframe. \n",
    "2. Return a dictionary where you calculate the mean, median, max, min values of the new column created `date_diff`\n",
    "\n",
    "Example:\n",
    "- Output: { 'mean' : , 'median': , 'max': , 'min':  } "
   ]
  },
  {
   "cell_type": "markdown",
   "id": "817ce6ac",
   "metadata": {},
   "source": [
    "Save your solution to `solution_5_25.py`"
   ]
  },
  {
   "cell_type": "code",
   "execution_count": null,
   "id": "8d0bf2e2",
   "metadata": {},
   "outputs": [],
   "source": [
    "%%writefile solution_5_25.py\n",
    "import pandas as pd\n",
    "\n",
    "def find_statistics():\n",
    "    # Dont change anything above this comment\n",
    "    # Write your code here\n",
    "    df = pd.read_csv('adp_5_24.csv')\n",
    "    return { 'mean' : df.date_diff.mean(), 'median': df.date_diff.median() , 'max': df.date_diff.max(), 'min': df.date_diff.min()}"
   ]
  },
  {
   "cell_type": "markdown",
   "id": "ca9bd941",
   "metadata": {},
   "source": [
    "#### Test 5.25"
   ]
  },
  {
   "cell_type": "code",
   "execution_count": null,
   "id": "764658b6",
   "metadata": {},
   "outputs": [],
   "source": [
    "%%writefile test/test_5_25.py\n",
    "import pandas as pd \n",
    "from solution_5_25 import find_statistics\n",
    "\n",
    "def test_5_25():\n",
    "    result = find_statistics()\n",
    "    assert round(result['mean'],3) == 5.755, \"Mean is incorrect\"\n",
    "    assert result['median'] == 0,  \"median is incorrect\"\n",
    "    assert result['max'] == 36542,  \"Max is incorrect\"\n",
    "    assert result['min'] == 0,  \"Min is incorrect\""
   ]
  },
  {
   "cell_type": "code",
   "execution_count": null,
   "id": "40301236",
   "metadata": {},
   "outputs": [],
   "source": []
  },
  {
   "cell_type": "code",
   "execution_count": null,
   "id": "3f45885a",
   "metadata": {},
   "outputs": [],
   "source": []
  },
  {
   "cell_type": "markdown",
   "id": "4d5235e5",
   "metadata": {},
   "source": [
    "# Testing\n",
    "\n",
    "Use `python3 -m pytest` to check your solutions. The way we tested HW1 with `pytest` may fail."
   ]
  },
  {
   "cell_type": "code",
   "execution_count": null,
   "id": "6a8a8f68",
   "metadata": {},
   "outputs": [],
   "source": [
    "%%sh\n",
    "python3 -m pytest"
   ]
  },
  {
   "cell_type": "markdown",
   "id": "0d0aea07",
   "metadata": {},
   "source": [
    "# Homework Submission\n",
    "- This homework is due by \n",
    "- Make sure that all your programs and output files are in the exact folder as specified in the instructions.\n",
    "- All file names on this system are case sensitive. Verify if you copy your work from a local computer to your home directory on ARC.\n",
    "- No further action is need to submit your assignment."
   ]
  },
  {
   "cell_type": "code",
   "execution_count": null,
   "id": "948c59fb",
   "metadata": {},
   "outputs": [],
   "source": []
  }
 ],
 "metadata": {
  "kernelspec": {
   "display_name": "Python 3 (ipykernel)",
   "language": "python",
   "name": "python3"
  },
  "language_info": {
   "codemirror_mode": {
    "name": "ipython",
    "version": 3
   },
   "file_extension": ".py",
   "mimetype": "text/x-python",
   "name": "python",
   "nbconvert_exporter": "python",
   "pygments_lexer": "ipython3",
   "version": "3.9.13"
  }
 },
 "nbformat": 4,
 "nbformat_minor": 5
}
