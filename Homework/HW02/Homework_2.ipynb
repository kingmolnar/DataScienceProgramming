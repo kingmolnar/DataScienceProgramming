{
 "cells": [
  {
   "cell_type": "markdown",
   "id": "5d36ca18bd213b69",
   "metadata": {},
   "source": [
    "# IFI8410: Programming for Business\n",
    "\n",
    "## Assignment 02: Data Manipulation and Aggregation using Python \n",
    "\n",
    "### Introduction\n",
    "\n",
    "In this assignment, you will practice working with Python's core data structures (lists, tuples, dictionaries), functions (including lambda, map), and generators. These concepts are essential for efficient data analysis, and you'll work on manipulating datasets, performing aggregations, and generating data dynamically."
   ]
  },
  {
   "cell_type": "code",
   "id": "e78725a3",
   "metadata": {},
   "source": [
    "# # Do not change the content of this cell. Execute this cell first, and everytime after you restarted the kernel.\n",
    "%reload_ext autoreload\n",
    "%autoreload 2"
   ],
   "outputs": [],
   "execution_count": null
  },
  {
   "cell_type": "markdown",
   "id": "c04df54d",
   "metadata": {},
   "source": [
    "## Part I: Data Structures and Aggregation\n",
    "Data Preparation:\n",
    "\n",
    "Create a dictionary **student_scores** where keys are student names (strings) and values are their test scores (lists of integers). Here's the data you should use:"
   ]
  },
  {
   "cell_type": "code",
   "id": "84877a73",
   "metadata": {},
   "source": [
    "student_scores = {\n",
    "    \"Alice\": [85, 90, 78],\n",
    "    \"Bob\": [70, 88, 92],\n",
    "    \"Charlie\": [80, 85, 85],\n",
    "    \"David\": [95, 100, 98]\n",
    "}"
   ],
   "outputs": [],
   "execution_count": null
  },
  {
   "cell_type": "markdown",
   "id": "dacd83367d6ed715",
   "metadata": {},
   "source": [
    "## 2.1 Calculate Averages\n",
    "\n",
    "Write a function **calculate_averages** that takes in the **student_scores** dictionary and returns a new dictionary where each student’s name is mapped to their average score.\n",
    "\n",
    "example output:\n",
    "{\n",
    "    \"Alice\": 84.33,\n",
    "    \n",
    "    \"Bob\": 83.33,\n",
    "    \n",
    "    \"Charlie\": 83.33,\n",
    "    \n",
    "    \"David\": 97.67\n",
    "}"
   ]
  },
  {
   "cell_type": "code",
   "id": "04331a49",
   "metadata": {},
   "source": [
    "def calculate_averages(student_scores):\n",
    "    # Add your code here\n",
    "\n",
    "\n",
    "    return averages"
   ],
   "outputs": [],
   "execution_count": null
  },
  {
   "cell_type": "code",
   "id": "3889c0fc0e3a8878",
   "metadata": {},
   "source": [
    "# Call the function and print the result\n",
    "print(calculate_averages(student_scores))"
   ],
   "outputs": [],
   "execution_count": null
  },
  {
   "cell_type": "markdown",
   "id": "9633a2081ecdd6d1",
   "metadata": {},
   "source": [
    "#### Save your solution to a file ..."
   ]
  },
  {
   "cell_type": "code",
   "id": "26377d2453e69804",
   "metadata": {},
   "source": [
    "%%writefile solution_2_1.py\n",
    "\n",
    "def calculate_averages(student_scores):\n",
    "    # Add your code here\n",
    "\n",
    "\n",
    "    return averages"
   ],
   "outputs": [],
   "execution_count": null
  },
  {
   "cell_type": "markdown",
   "id": "b64f355d3841d027",
   "metadata": {},
   "source": [
    "#### Test 2.1 Execute the cell below to test your solution..."
   ]
  },
  {
   "cell_type": "code",
   "id": "238c170bb2a55374",
   "metadata": {},
   "source": [
    "! test/run_test.sh 1"
   ],
   "outputs": [],
   "execution_count": null
  },
  {
   "cell_type": "code",
   "id": "2bdfb5ffec6a663",
   "metadata": {},
   "source": [],
   "outputs": [],
   "execution_count": null
  },
  {
   "cell_type": "markdown",
   "id": "91455745953e61d7",
   "metadata": {},
   "source": [
    "## 2.2 Aggregate Function for Overall Class Average\n",
    "\n",
    "After calculating individual averages, create an aggregate function that calculates the overall class average."
   ]
  },
  {
   "cell_type": "code",
   "id": "f08cc163b2cb10a1",
   "metadata": {},
   "source": [
    "averages = {\n",
    "    \"Alice\": 84.33,\n",
    "    \"Bob\": 83.33,\n",
    "    \"Charlie\": 83.33,\n",
    "    \"David\": 97.67\n",
    "}"
   ],
   "outputs": [],
   "execution_count": null
  },
  {
   "cell_type": "code",
   "id": "cbb99981",
   "metadata": {},
   "source": [
    "def aggregate(averages):\n",
    "    # Add your code here\n",
    "    \n",
    "\n"
   ],
   "outputs": [],
   "execution_count": null
  },
  {
   "cell_type": "code",
   "id": "3a95efa61082a97b",
   "metadata": {},
   "source": [
    "#Now calculate the overall class average and print it\n",
    "overall_average = aggregate(averages)\n",
    "print(\"Overall class average:\", overall_average)"
   ],
   "outputs": [],
   "execution_count": null
  },
  {
   "cell_type": "markdown",
   "id": "5c722616e845ad0f",
   "metadata": {},
   "source": [
    "#### Save your solution to a file ..."
   ]
  },
  {
   "cell_type": "code",
   "id": "3754462c324c384f",
   "metadata": {},
   "source": [
    "%%writefile solution_2_2.py\n",
    "\n",
    "def aggregate(averages):\n",
    "    # Add your code here\n",
    "    \n",
    "\n"
   ],
   "outputs": [],
   "execution_count": null
  },
  {
   "cell_type": "markdown",
   "id": "2aeeaed4c30e5d10",
   "metadata": {},
   "source": [
    "#### Test 2.2 Execute the cell below to test your solution..."
   ]
  },
  {
   "cell_type": "code",
   "id": "4934ae085786d67a",
   "metadata": {},
   "source": [
    "! test/run_test.sh 2"
   ],
   "outputs": [],
   "execution_count": null
  },
  {
   "cell_type": "code",
   "id": "4514c6fa986b813d",
   "metadata": {},
   "source": [],
   "outputs": [],
   "execution_count": null
  },
  {
   "cell_type": "markdown",
   "id": "b3493127",
   "metadata": {},
   "source": [
    "## Part II: Functional Programming and Data Transformation\n",
    "\n",
    "\n",
    "For all the problems in this section please use the dictionary **averages** listed below:\n",
    "\n",
    "averages = {\n",
    "    \"Alice\": 84.33,\n",
    "    \"Bob\": 83.33,\n",
    "    \"Charlie\": 83.33,\n",
    "    \"David\": 97.67\n",
    "}"
   ]
  },
  {
   "cell_type": "markdown",
   "id": "1b34b5c1417c8787",
   "metadata": {},
   "source": [
    "## 2.3 Top Students\n",
    "\n",
    "Use a lambda function and the **filter()** function to extract a list of students whose average score is above the overall class average.\n",
    "\n",
    "Hint: \n",
    "\n",
    "\n",
    "Use the filter() function, which takes two arguments: a lambda function and the list or dictionary you want to filter.\n",
    "\n",
    "The lambda function should check if the student's average is greater than the overall class average.\n",
    "\n",
    "Use list() to convert the result from filter() into a list.\n",
    "\n",
    "\n"
   ]
  },
  {
   "cell_type": "code",
   "id": "1081dbb90780f2e0",
   "metadata": {},
   "source": [
    "averages = {\n",
    "    \"Alice\": 84.33,\n",
    "    \"Bob\": 83.33,\n",
    "    \"Charlie\": 83.33,\n",
    "    \"David\": 97.67,\n",
    "}\n",
    "\n",
    "overall_average = 87.165"
   ],
   "outputs": [],
   "execution_count": null
  },
  {
   "cell_type": "code",
   "id": "a6b18a5431c3d175",
   "metadata": {},
   "source": [
    "from typing import Dict\n",
    "\n",
    "def top_students(averages: Dict, overall_average: float):\n",
    "    # Add your code here\n",
    "\n",
    "\n"
   ],
   "outputs": [],
   "execution_count": null
  },
  {
   "cell_type": "code",
   "id": "9f788e7b",
   "metadata": {},
   "source": [
    "top = top_students(averages, overall_average)\n",
    "# Print the list of top students\n",
    "print(\"Top students:\", top)"
   ],
   "outputs": [],
   "execution_count": null
  },
  {
   "cell_type": "markdown",
   "id": "32a13088fd7be493",
   "metadata": {},
   "source": [
    "#### Save your solution to a file ..."
   ]
  },
  {
   "cell_type": "code",
   "id": "7c17b50208568822",
   "metadata": {},
   "source": [
    "%%writefile solution_2_3.py\n",
    "\n",
    "from typing import Dict\n",
    "\n",
    "def top_students(averages: Dict, overall_average: float):\n",
    "    # Add your code here\n",
    "\n",
    "\n"
   ],
   "outputs": [],
   "execution_count": null
  },
  {
   "cell_type": "markdown",
   "id": "148920a7877b47ac",
   "metadata": {},
   "source": [
    "#### Test 2.3 Execute the cell below to test your solution..."
   ]
  },
  {
   "cell_type": "code",
   "id": "46def43e953bf0aa",
   "metadata": {},
   "source": [
    "! test/run_test.sh 3"
   ],
   "outputs": [],
   "execution_count": null
  },
  {
   "cell_type": "code",
   "id": "ea2af1af22d25a8b",
   "metadata": {},
   "source": [],
   "outputs": [],
   "execution_count": null
  },
  {
   "cell_type": "markdown",
   "id": "acb9cd9b",
   "metadata": {},
   "source": [
    "## 2.4 Map Scores to Grades\n",
    "\n",
    "For all further problems please use the dictionary **averages** listed below:\n",
    "\n",
    "averages = {\n",
    "    \"Alice\": 84.33,\n",
    "    \"Bob\": 83.33,\n",
    "    \"Charlie\": 83.33,\n",
    "    \"David\": 97.67\n",
    "}\n",
    "\n",
    "Write a function **map_scores_to_grades** that maps each student’s average score to a letter grade (A, B, C, D, or F). Use the **map()** function with a **lambda function**.\n",
    "\n",
    "Grading system:\n",
    "\n",
    "90 and above: A\n",
    "\n",
    "80 to 89: B\n",
    "\n",
    "70 to 79: C\n",
    "\n",
    "60 to 69: D\n",
    "\n",
    "Below 60: F"
   ]
  },
  {
   "cell_type": "markdown",
   "id": "9fcffdfb",
   "metadata": {},
   "source": [
    "Hint:\n",
    "The map() function applies a given function to all items in the list or dictionary.\n",
    "\n",
    "Use a lambda function inside map() to convert each student’s average into a letter grade.\n",
    "\n",
    "To apply the map() function to a dictionary, you can use averages.items() to get key-value pairs (student, average)."
   ]
  },
  {
   "cell_type": "code",
   "id": "df6b69e0",
   "metadata": {},
   "source": [
    "def map_scores_to_grades(averages): \n",
    "    # Add your code here\n",
    "\n",
    "\n"
   ],
   "outputs": [],
   "execution_count": null
  },
  {
   "cell_type": "code",
   "id": "fc35299a666ef1ca",
   "metadata": {},
   "source": [
    "# Call the function and print the result\n",
    "grades = map_scores_to_grades(averages)\n",
    "print(grades)"
   ],
   "outputs": [],
   "execution_count": null
  },
  {
   "cell_type": "markdown",
   "id": "4ae6ecaf3c7a7f5b",
   "metadata": {},
   "source": [
    "#### Save your solution to a file ..."
   ]
  },
  {
   "cell_type": "code",
   "id": "226a08e96e92fc3d",
   "metadata": {},
   "source": [
    "%%writefile solution_2_4.py\n",
    "\n",
    "def map_scores_to_grades(averages):\n",
    "    # Add your code here\n",
    "\n",
    "\n"
   ],
   "outputs": [],
   "execution_count": null
  },
  {
   "cell_type": "markdown",
   "id": "a1bbf3f0b74e4cab",
   "metadata": {},
   "source": [
    "#### Test 2.4 Execute the cell below to test your solution..."
   ]
  },
  {
   "cell_type": "code",
   "id": "af57f06be7e35704",
   "metadata": {},
   "source": [
    "!test/run_test.sh 4"
   ],
   "outputs": [],
   "execution_count": null
  },
  {
   "cell_type": "code",
   "id": "28f5448b5257fd47",
   "metadata": {},
   "source": [],
   "outputs": [],
   "execution_count": null
  },
  {
   "cell_type": "markdown",
   "id": "569b30b3",
   "metadata": {},
   "source": [
    "## 2.5 Aggregate Function for Grade Distribution\n",
    "\n",
    "Create an aggregate function that computes the distribution of grades (how many students received each grade). Use a dictionary to store the count of each grade."
   ]
  },
  {
   "cell_type": "markdown",
   "id": "7de8b76c",
   "metadata": {},
   "source": [
    "Hint:\n",
    "You can loop through the dictionary values using grades.values().\n",
    "\n",
    "For each grade, check if it already exists in your result dictionary. If it does, increment the count; if not, initialize the count.\n",
    "\n",
    "This is a common pattern in counting occurrences of items.\n"
   ]
  },
  {
   "cell_type": "code",
   "id": "fe2adea69b1a0a03",
   "metadata": {},
   "source": [
    "grades = {'Alice': 'B', 'Bob': 'B', 'Charlie': 'B', 'David': 'A'}"
   ],
   "outputs": [],
   "execution_count": null
  },
  {
   "cell_type": "code",
   "id": "4c4b8d79",
   "metadata": {},
   "source": [
    "def aggregate_grade_distribution(grades):\n",
    "    # Add your code here\n",
    "\n",
    "\n",
    "    \n",
    "    return grade_distribution"
   ],
   "outputs": [],
   "execution_count": null
  },
  {
   "cell_type": "code",
   "id": "52ece6c6ab39831e",
   "metadata": {},
   "source": [
    "# Call the function and print the result\n",
    "grade_distribution = aggregate_grade_distribution(grades)\n",
    "print(grade_distribution)"
   ],
   "outputs": [],
   "execution_count": null
  },
  {
   "cell_type": "markdown",
   "id": "3f2839abf564be91",
   "metadata": {},
   "source": [
    "#### Save your solution to a file ..."
   ]
  },
  {
   "cell_type": "code",
   "id": "786c07e33e68f5ad",
   "metadata": {},
   "source": [
    "%%writefile solution_2_5.py\n",
    "\n",
    "def aggregate_grade_distribution(grades):\n",
    "    # Add your code here\n",
    "\n",
    "\n",
    "    \n",
    "    return grade_distribution"
   ],
   "outputs": [],
   "execution_count": null
  },
  {
   "cell_type": "markdown",
   "id": "30659d07e1e8bdcb",
   "metadata": {},
   "source": [
    "#### Test 2.5 Execute the cell below to test your solution..."
   ]
  },
  {
   "cell_type": "code",
   "id": "1fa766c5e0228ef8",
   "metadata": {},
   "source": [
    "! test/run_test.sh 5"
   ],
   "outputs": [],
   "execution_count": null
  },
  {
   "cell_type": "code",
   "id": "8f7c91e0cf382690",
   "metadata": {},
   "source": [],
   "outputs": [],
   "execution_count": null
  },
  {
   "cell_type": "markdown",
   "id": "0f4761f7",
   "metadata": {},
   "source": [
    "### Part III: Generators"
   ]
  },
  {
   "cell_type": "markdown",
   "id": "ea7132eb",
   "metadata": {},
   "source": [
    "## 2.6 Student ID Generator\n",
    "\n",
    "Write a generator function **generate_student_ids** that yields a unique student ID for each student in the dictionary. IDs should start at 1001 and increase by 1 for each student.\n",
    "\n",
    "\n",
    "Hint:\n",
    "\n",
    "- You’ll be using a generator function that yields values one by one instead of returning them all at once.\n",
    "\n",
    "- Use Python's yield statement inside a loop to return the next student ID.\n",
    "\n",
    "- You can use Python’s built-in enumerate() to get an index while looping through the students."
   ]
  },
  {
   "cell_type": "code",
   "id": "67932ae5",
   "metadata": {},
   "source": [
    "def generate_student_ids(students):\n",
    "    # Add your code here\n",
    "\n",
    "\n"
   ],
   "outputs": [],
   "execution_count": null
  },
  {
   "cell_type": "code",
   "id": "59e24b5b84f02e76",
   "metadata": {},
   "source": [
    "# Example usage:\n",
    "students = [\"Alice\", \"Bob\", \"Charlie\", \"David\"]\n",
    "\n",
    "# Create the generator object\n",
    "student_id_generator = generate_student_ids(students)\n",
    "\n",
    "# Use the generator to get student IDs\n",
    "for student, student_id in zip(students, student_id_generator):\n",
    "    print(f\"ID for {student}: {student_id}\")"
   ],
   "outputs": [],
   "execution_count": null
  },
  {
   "cell_type": "markdown",
   "id": "e4e3655be6576740",
   "metadata": {},
   "source": [
    "#### Save your solution to a file ..."
   ]
  },
  {
   "cell_type": "code",
   "id": "ce69c9ed364093fb",
   "metadata": {},
   "source": [
    "%%writefile solution_2_6.py\n",
    "\n",
    "def generate_student_ids(students):\n",
    "    # Add your code here\n",
    "\n",
    "\n"
   ],
   "outputs": [],
   "execution_count": null
  },
  {
   "cell_type": "markdown",
   "id": "79fb785cbf929fd3",
   "metadata": {},
   "source": [
    "#### Test 2.6 Execute the cell below to test your solution..."
   ]
  },
  {
   "cell_type": "code",
   "id": "59083b7e8ffabb52",
   "metadata": {},
   "source": [
    "! test/run_test.sh 6"
   ],
   "outputs": [],
   "execution_count": null
  },
  {
   "cell_type": "code",
   "id": "f41cefcfe221a9fd",
   "metadata": {},
   "source": [],
   "outputs": [],
   "execution_count": null
  },
  {
   "cell_type": "markdown",
   "id": "544693c8",
   "metadata": {},
   "source": [
    "### Part IV: Advanced Loop Operations\n",
    "\n",
    "For all the problems in this section please use the dictionary **averages** listed below:\n",
    "\n",
    "averages = {\n",
    "    \"Alice\": 84.33,\n",
    "    \"Bob\": 83.33,\n",
    "    \"Charlie\": 83.33,\n",
    "    \"David\": 97.67\n",
    "}"
   ]
  },
  {
   "cell_type": "markdown",
   "id": "c186c3c8",
   "metadata": {},
   "source": [
    "## 2.7 Loop to Print Students with Highest and Lowest Scores\n",
    "\n",
    "Write a function that loops through the student averages, returns the student names with highest and lowest average scores, and prints the student names with the highest and lowest average scores.\n",
    "\n",
    "Hint:\n",
    "\n",
    "- Keep track of both the highest and lowest scores as you loop through the dictionary.\n",
    "\n",
    "- Update the student names as you encounter higher or lower averages.\n"
   ]
  },
  {
   "cell_type": "markdown",
   "id": "79270fa0faf76abb",
   "metadata": {},
   "source": [
    "Example Output :\n",
    "    \n",
    "The highest-scoring student is David with a score of 97.67.\n",
    "\n",
    "The lowest-scoring student is Bob with a score of 83.33."
   ]
  },
  {
   "cell_type": "code",
   "id": "3d91b1eed256d633",
   "metadata": {},
   "source": [
    "def find_highest_lowest_student(averages):\n",
    "    # Add your code here\n",
    "    \n",
    "\n",
    "    \n",
    "    return highest_student, highest_score, lowest_student, lowest_score"
   ],
   "outputs": [],
   "execution_count": null
  },
  {
   "cell_type": "code",
   "id": "a6fc678b71286b49",
   "metadata": {},
   "source": [
    "# Call the function to find and print the highest and lowest scoring students\n",
    "find_highest_lowest_student(averages)  "
   ],
   "outputs": [],
   "execution_count": null
  },
  {
   "cell_type": "markdown",
   "id": "9a97c62eb9886cf3",
   "metadata": {},
   "source": [
    "#### Save your solution to a file ..."
   ]
  },
  {
   "cell_type": "code",
   "id": "7e27812b92ab79da",
   "metadata": {},
   "source": [
    "%%writefile solution_2_7.py\n",
    "\n",
    "def find_highest_lowest_student(averages):\n",
    "    # Add your code here\n",
    "    \n",
    "\n",
    "    \n",
    "    return highest_student, highest_score, lowest_student, lowest_score"
   ],
   "outputs": [],
   "execution_count": null
  },
  {
   "cell_type": "markdown",
   "id": "a572dbff824fdc7d",
   "metadata": {},
   "source": [
    "#### Test 2.7 Execute the cell below to test your solution..."
   ]
  },
  {
   "cell_type": "code",
   "id": "57bb40a11a94abd7",
   "metadata": {},
   "source": [
    "! test/run_test.sh 7"
   ],
   "outputs": [],
   "execution_count": null
  },
  {
   "cell_type": "code",
   "id": "afc654524e688e0d",
   "metadata": {},
   "source": [],
   "outputs": [],
   "execution_count": null
  },
  {
   "cell_type": "markdown",
   "id": "d1d89dbc",
   "metadata": {},
   "source": [
    "## 2.8 Loop to Create a List of Students Sorted by Scores\n",
    "\n",
    "Write a function that loops through the student averages and sorts them in descending order based on their scores. Print each student and their score."
   ]
  },
  {
   "cell_type": "markdown",
   "id": "c64315b6",
   "metadata": {},
   "source": [
    "Hint:\n",
    "\n",
    "Use a loop to extract the student names and their averages into a list of tuples.\n",
    "Sort the list by the average scores and return the sorted list.\n",
    "Print the result in descending order.\n",
    "\n",
    "Example Output:\n",
    "\n",
    "David: 97.67\n",
    "Alice: 84.33\n",
    "Bob: 83.33\n",
    "Charlie: 83.33\n"
   ]
  },
  {
   "cell_type": "code",
   "id": "7437a5e84e3aeaf",
   "metadata": {},
   "source": [
    "def sort_students_by_score(averages):\n",
    "    # Add your code here\n",
    "    \n",
    "\n",
    "    return sorted_students"
   ],
   "outputs": [],
   "execution_count": null
  },
  {
   "cell_type": "code",
   "id": "75245c6ad795de3b",
   "metadata": {},
   "source": [
    "# Call the function to sort and print the students by their scores\n",
    "sort_students_by_score(averages)"
   ],
   "outputs": [],
   "execution_count": null
  },
  {
   "cell_type": "markdown",
   "id": "e21d139233181eb7",
   "metadata": {},
   "source": [
    "#### Save your solution to a file ..."
   ]
  },
  {
   "cell_type": "code",
   "id": "dc6bd11ec2ecdc49",
   "metadata": {},
   "source": [
    "%%writefile solution_2_8.py\n",
    "\n",
    "def sort_students_by_score(averages):\n",
    "    # Add your code here\n",
    "    \n",
    "\n",
    "    return sorted_students"
   ],
   "outputs": [],
   "execution_count": null
  },
  {
   "cell_type": "markdown",
   "id": "9517b1595b4118ca",
   "metadata": {},
   "source": [
    "#### Test 2.8 Execute the cell below to test your solution..."
   ]
  },
  {
   "cell_type": "code",
   "id": "9c836b80c3bcc9c9",
   "metadata": {},
   "source": [
    "! test/run_test.sh 8"
   ],
   "outputs": [],
   "execution_count": null
  },
  {
   "cell_type": "code",
   "id": "6116157dc9207f91",
   "metadata": {},
   "source": [],
   "outputs": [],
   "execution_count": null
  },
  {
   "cell_type": "markdown",
   "id": "1c4ae1f0",
   "metadata": {},
   "source": [
    "## 2.9 Loop to Calculate Total Number of Scores Above a Certain Threshold\n",
    "\n",
    "Write a function that uses a loop to count how many students have an average score above a user-defined threshold. Have the function return the final count.\n",
    "\n"
   ]
  },
  {
   "cell_type": "markdown",
   "id": "c0eb529a",
   "metadata": {},
   "source": [
    "Hint:\n",
    "- Loop through the dictionary and increment a count whenever a score exceeds the threshold.\n",
    "- Make the threshold value an input value to the function.\n"
   ]
  },
  {
   "cell_type": "code",
   "id": "5bc5927a0231925e",
   "metadata": {},
   "source": [
    "def count_students_above_threshold(averages, threshold):\n",
    "    # Add your code here\n",
    "    \n",
    "\n",
    "\n",
    "    return count"
   ],
   "outputs": [],
   "execution_count": null
  },
  {
   "cell_type": "code",
   "id": "7d4fc581d50704cd",
   "metadata": {},
   "source": [
    "# Define a threshold (user input)\n",
    "threshold = 85\n",
    "\n",
    "# Call the function to count students above the threshold\n",
    "count_students_above_threshold(averages, threshold)"
   ],
   "outputs": [],
   "execution_count": null
  },
  {
   "cell_type": "markdown",
   "id": "fc0dfb88ea6320f7",
   "metadata": {},
   "source": [
    "#### Save your solution to a file ..."
   ]
  },
  {
   "cell_type": "code",
   "id": "20c2907dec38a94d",
   "metadata": {},
   "source": [
    "%%writefile solution_2_9.py\n",
    "\n",
    "def count_students_above_threshold(averages, threshold):\n",
    "    # Add your code here\n",
    "    \n",
    "\n",
    "\n",
    "    return count"
   ],
   "outputs": [],
   "execution_count": null
  },
  {
   "cell_type": "markdown",
   "id": "82133a005ebf8d8b",
   "metadata": {},
   "source": [
    "#### Test 2.9 Execute the cell below to test your solution..."
   ]
  },
  {
   "cell_type": "code",
   "id": "7c61266ff0090fcc",
   "metadata": {},
   "source": [
    "! test/run_test.sh 9"
   ],
   "outputs": [],
   "execution_count": null
  },
  {
   "cell_type": "code",
   "id": "bac3ff543fe9048b",
   "metadata": {},
   "source": [],
   "outputs": [],
   "execution_count": null
  },
  {
   "cell_type": "markdown",
   "id": "e2630efdd29fbb12",
   "metadata": {},
   "source": [
    "## Part V: Additional Problems"
   ]
  },
  {
   "cell_type": "markdown",
   "id": "3ff3b2bd",
   "metadata": {},
   "source": [
    "## 2.10 String Manipulations\n",
    "\n",
    "Split this string:\n",
    "**s = \"Hi there Sam!\"**\n",
    "into a list of strings."
   ]
  },
  {
   "cell_type": "markdown",
   "id": "c3e9340b6024a14",
   "metadata": {},
   "source": [
    "output :\n",
    "\n",
    "['Hi', 'there', 'Sam!']"
   ]
  },
  {
   "cell_type": "code",
   "id": "c7900dbc9b498554",
   "metadata": {},
   "source": [
    "s = \"Hi there Sam!\""
   ],
   "outputs": [],
   "execution_count": null
  },
  {
   "cell_type": "code",
   "id": "b2cbebbe",
   "metadata": {},
   "source": [
    "def split_string(s):\n",
    "    # Add your code here\n",
    "    \n"
   ],
   "outputs": [],
   "execution_count": null
  },
  {
   "cell_type": "code",
   "id": "18cc74a88eb9213f",
   "metadata": {},
   "source": [
    "split_string(s)"
   ],
   "outputs": [],
   "execution_count": null
  },
  {
   "cell_type": "markdown",
   "id": "e2e37f5087185e60",
   "metadata": {},
   "source": [
    "#### Save your solution to a file ..."
   ]
  },
  {
   "cell_type": "code",
   "id": "1e2cd0499674816f",
   "metadata": {},
   "source": [
    "%%writefile solution_2_10.py\n",
    "\n",
    "def split_string(s):\n",
    "    # Add your code here\n",
    "    \n"
   ],
   "outputs": [],
   "execution_count": null
  },
  {
   "cell_type": "markdown",
   "id": "dde3bbd0bc7c96b8",
   "metadata": {},
   "source": [
    "#### Test 2.10 Execute the cell below to test your solution..."
   ]
  },
  {
   "cell_type": "code",
   "id": "3cbbeb8f2aa3d6fd",
   "metadata": {},
   "source": [
    "! test/run_test.sh 10"
   ],
   "outputs": [],
   "execution_count": null
  },
  {
   "cell_type": "code",
   "id": "fcea895b9c16e503",
   "metadata": {},
   "source": [],
   "outputs": [],
   "execution_count": null
  },
  {
   "cell_type": "markdown",
   "id": "bad7798a",
   "metadata": {},
   "source": [
    "## 2.11 Slicing of a Nested List \n",
    "\n",
    "Given this nested list below, use indexing to grab the word \"target:"
   ]
  },
  {
   "cell_type": "code",
   "id": "d8876bd0",
   "metadata": {},
   "source": [
    "nest = [1,2,3,[4,5,['target']]]"
   ],
   "outputs": [],
   "execution_count": null
  },
  {
   "cell_type": "code",
   "id": "bbb56c3da6b2c612",
   "metadata": {},
   "source": [
    "def slice_nest(nest):\n",
    "    # Add your code here\n",
    "    \n"
   ],
   "outputs": [],
   "execution_count": null
  },
  {
   "cell_type": "code",
   "id": "ff3ce299bc24984c",
   "metadata": {},
   "source": [
    "slice_nest(nest)"
   ],
   "outputs": [],
   "execution_count": null
  },
  {
   "cell_type": "markdown",
   "id": "a98093d450c20bd4",
   "metadata": {},
   "source": [
    "#### Save your solution to a file ..."
   ]
  },
  {
   "cell_type": "code",
   "id": "14c2b23fd3caa874",
   "metadata": {},
   "source": [
    "%%writefile solution_2_11.py\n",
    "\n",
    "def slice_nest(nest):\n",
    "    # Add your code here\n",
    "    \n"
   ],
   "outputs": [],
   "execution_count": null
  },
  {
   "cell_type": "markdown",
   "id": "50301be27390ea6f",
   "metadata": {},
   "source": [
    "#### Test 2.11 Execute the cell below to test your solution..."
   ]
  },
  {
   "cell_type": "code",
   "id": "f4ca6c17ab6db314",
   "metadata": {},
   "source": [
    "! test/run_test.sh 11"
   ],
   "outputs": [],
   "execution_count": null
  },
  {
   "cell_type": "code",
   "id": "b8ff499f3d446fe5",
   "metadata": {},
   "source": [],
   "outputs": [],
   "execution_count": null
  },
  {
   "cell_type": "markdown",
   "id": "d9f76f51",
   "metadata": {},
   "source": [
    "## 2.12 Lambda Functions\n",
    "\n",
    "Use lambda expressions and the **filter()** function to filter out words from a list that don't start with the letter 's'. For example:\n",
    "        \n",
    "seq = ['soup','dog','salad','cat','great']\n",
    "\n",
    "should be filtered down to:\n",
    "\n",
    "['soup','salad']"
   ]
  },
  {
   "cell_type": "code",
   "id": "0c593e97",
   "metadata": {},
   "source": [
    "seq = ['soup','dog','salad','cat','great']"
   ],
   "outputs": [],
   "execution_count": null
  },
  {
   "cell_type": "code",
   "id": "abfb937efaaca8bc",
   "metadata": {},
   "source": [
    "def filter_sequence(seq):\n",
    "    # Add your code here\n",
    "\n"
   ],
   "outputs": [],
   "execution_count": null
  },
  {
   "cell_type": "code",
   "id": "f45c1be055ba68a3",
   "metadata": {},
   "source": [
    "filter_sequence(seq)"
   ],
   "outputs": [],
   "execution_count": null
  },
  {
   "cell_type": "markdown",
   "id": "d5ab7b7c26e0ce88",
   "metadata": {},
   "source": [
    "#### Save your solution to a file ..."
   ]
  },
  {
   "cell_type": "code",
   "id": "ea8a3b875f8e015c",
   "metadata": {},
   "source": [
    "%%writefile solution_2_12.py\n",
    "\n",
    "def filter_sequence(seq):\n",
    "    # Add your code here\n",
    "\n"
   ],
   "outputs": [],
   "execution_count": null
  },
  {
   "cell_type": "markdown",
   "id": "4dd7c13dc02b2e82",
   "metadata": {},
   "source": [
    "#### Test 2.12 Execute the cell below to test your solution..."
   ]
  },
  {
   "cell_type": "code",
   "id": "b2ff07d173a6c312",
   "metadata": {},
   "source": [
    "! test/run_test.sh 12"
   ],
   "outputs": [],
   "execution_count": null
  },
  {
   "cell_type": "code",
   "id": "ba218bea7c81f5bd",
   "metadata": {},
   "source": [],
   "outputs": [],
   "execution_count": null
  },
  {
   "cell_type": "markdown",
   "id": "a736fe8a",
   "metadata": {},
   "source": [
    "## 2.13 If-Else Control Flow \n",
    "\n",
    "You are driving a little too fast, and a police officer stops you. \n",
    "\n",
    "Write a function to return one of 3 possible results: \"No ticket\", \"Small ticket\", or \"Big Ticket\". \n",
    "\n",
    "Create following control flow in your function:\n",
    "\n",
    "- If your speed is 60 or less, the result is \"No Ticket\". \n",
    "\n",
    "- If speed is between 61 and 80 inclusive, the result is \"Small Ticket\". \n",
    "\n",
    "- If speed is 81 or more, the result is \"Big Ticket\". \n",
    "\n",
    "- Unless it is your birthday (encoded as a boolean value in the parameters of the function) -- on your birthday, your speed can be 5 higher in all cases."
   ]
  },
  {
   "cell_type": "code",
   "id": "6a3283096105c8fb",
   "metadata": {},
   "source": [
    "def caught_speeding(speed, is_birthday):\n",
    "    # Add your code here\n",
    "    \n",
    "\n"
   ],
   "outputs": [],
   "execution_count": null
  },
  {
   "cell_type": "code",
   "id": "08fdd6d6",
   "metadata": {},
   "source": [
    "caught_speeding(81,True)"
   ],
   "outputs": [],
   "execution_count": null
  },
  {
   "cell_type": "code",
   "id": "32b048e0",
   "metadata": {},
   "source": [
    "caught_speeding(81,False)"
   ],
   "outputs": [],
   "execution_count": null
  },
  {
   "cell_type": "markdown",
   "id": "61aa7a78e4fb5a20",
   "metadata": {},
   "source": [
    "#### Save your solution to a file ..."
   ]
  },
  {
   "cell_type": "code",
   "id": "4af25a19d950eaf7",
   "metadata": {},
   "source": [
    "%%writefile solution_2_13.py\n",
    "\n",
    "def caught_speeding(speed, is_birthday):\n",
    "    # Add your code here\n",
    "    \n",
    "\n"
   ],
   "outputs": [],
   "execution_count": null
  },
  {
   "cell_type": "markdown",
   "id": "4ad3c2bd8a04f6f",
   "metadata": {},
   "source": [
    "#### Test 2.13 Execute the cell below to test your solution..."
   ]
  },
  {
   "cell_type": "code",
   "id": "f56a5646f2997837",
   "metadata": {},
   "source": [
    "! test/run_test.sh 13"
   ],
   "outputs": [],
   "execution_count": null
  },
  {
   "cell_type": "code",
   "id": "9ff3da81f15261e2",
   "metadata": {},
   "source": [],
   "outputs": [],
   "execution_count": null
  },
  {
   "cell_type": "markdown",
   "id": "f81a470c6860e1a",
   "metadata": {},
   "source": [
    "## 2.14 Counting Lines of Text File\n",
    "\n",
    "Write a function that counts the lines of a given file. The function takes a file name as the input argument and returns the number of lines."
   ]
  },
  {
   "cell_type": "code",
   "id": "a00f8ea31da603c1",
   "metadata": {},
   "source": [
    "def linecount(file: str) -> int:\n",
    "    # Add your code here\n",
    "    \n",
    "\n",
    "    return len(lines)"
   ],
   "outputs": [],
   "execution_count": null
  },
  {
   "cell_type": "code",
   "id": "5cee77ce98733ab3",
   "metadata": {},
   "source": [
    "file_name = '/data/pg100.txt'\n",
    "n_lines = linecount(file_name)\n",
    "print(f\"The file '{file_name}' as {n_lines:,} lines\")"
   ],
   "outputs": [],
   "execution_count": null
  },
  {
   "cell_type": "markdown",
   "id": "6ebe733b3368eb7b",
   "metadata": {},
   "source": [
    "#### Save your solution to a file ..."
   ]
  },
  {
   "cell_type": "code",
   "id": "4ef3cee862344a0f",
   "metadata": {},
   "source": [
    "%%writefile solution_2_14.py\n",
    "\n",
    "def linecount(file: str) -> int:\n",
    "    # Add your code here\n",
    "    \n",
    "\n",
    "    return len(lines)"
   ],
   "outputs": [],
   "execution_count": null
  },
  {
   "cell_type": "markdown",
   "id": "5213cc829fd842e7",
   "metadata": {},
   "source": [
    "#### Test 2.14 Execute the cell below to test your solution..."
   ]
  },
  {
   "cell_type": "code",
   "id": "a46932712c8bbf0c",
   "metadata": {},
   "source": [
    "! test/run_test.sh 14"
   ],
   "outputs": [],
   "execution_count": null
  },
  {
   "cell_type": "code",
   "id": "52e51f138088162",
   "metadata": {},
   "source": [],
   "outputs": [],
   "execution_count": null
  },
  {
   "cell_type": "markdown",
   "id": "1eee22be82f40299",
   "metadata": {},
   "source": [
    "## 2.15 Convert to Lower-case\n",
    "\n",
    "Write a function `convert_to_lower_caseconvert_to_lower_case` that reads a given text file, converts the text to lower case, and writes it back into a new file.\n",
    "The functions takes two arguments: the input file name and the output filename. The function returns nothing"
   ]
  },
  {
   "cell_type": "code",
   "id": "3f929bbd36762bd0",
   "metadata": {},
   "source": [
    "! head /data/pg100.txt"
   ],
   "outputs": [],
   "execution_count": null
  },
  {
   "cell_type": "code",
   "id": "6ca1b15472b3d3e1",
   "metadata": {},
   "source": [
    "def convert_to_lower_case(input_file: str, output_file: str):\n",
    "    # Add your code here\n",
    "        \n",
    "\n"
   ],
   "outputs": [],
   "execution_count": null
  },
  {
   "cell_type": "markdown",
   "id": "b99d95937409847c",
   "metadata": {},
   "source": [
    "Try it out. Execute the cell below..."
   ]
  },
  {
   "cell_type": "code",
   "id": "73716685e90407d1",
   "metadata": {},
   "source": [
    "infile = '/data/pg100.txt'\n",
    "outfile = 'lower_case_text.txt'\n",
    "convert_to_lower_case(infile, outfile)"
   ],
   "outputs": [],
   "execution_count": null
  },
  {
   "cell_type": "markdown",
   "id": "c0b497ff2d2df648",
   "metadata": {},
   "source": [
    "Then check the output file. You can also use the file navigation pad on the left to open the file..."
   ]
  },
  {
   "cell_type": "code",
   "id": "7e68be0b760b6a67",
   "metadata": {},
   "source": [
    "! head -20 lower_case_text.txt"
   ],
   "outputs": [],
   "execution_count": null
  },
  {
   "cell_type": "code",
   "id": "5c9058c5a275072f",
   "metadata": {},
   "source": [
    "file = '/data/pg100.txt'\n",
    "txt_lines = open(file, 'r', encoding='utf-8').readlines()\n",
    "print(f\"Total number of lines: {len(txt_lines):,}\")\n",
    "stripped_lines = list(filter(lambda s: len(s.strip())>0, txt_lines))\n",
    "print(f\"Number of lines after removing blank lines: {len(stripped_lines):,}\")"
   ],
   "outputs": [],
   "execution_count": null
  },
  {
   "cell_type": "markdown",
   "id": "2844e18c2b3a9e21",
   "metadata": {},
   "source": [
    "#### Save your solution to a file ..."
   ]
  },
  {
   "cell_type": "code",
   "id": "b86c3cd51e889c9",
   "metadata": {},
   "source": [
    "%%writefile solution_2_15.py\n",
    "\n",
    "def convert_to_lower_case(input_file: str, output_file: str):\n",
    "    # Add your code here\n",
    "        \n",
    "\n"
   ],
   "outputs": [],
   "execution_count": null
  },
  {
   "cell_type": "markdown",
   "id": "e145e23147218171",
   "metadata": {},
   "source": [
    "#### Test 2.15 Execute the cell below to test your solution..."
   ]
  },
  {
   "cell_type": "code",
   "id": "ddabdfa2be576d07",
   "metadata": {},
   "source": [
    "! test/run_test.sh 15"
   ],
   "outputs": [],
   "execution_count": null
  },
  {
   "cell_type": "code",
   "id": "71d113f8e2b5a6d0",
   "metadata": {},
   "source": [],
   "outputs": [],
   "execution_count": null
  },
  {
   "cell_type": "markdown",
   "id": "5cc59ac372ebf616",
   "metadata": {},
   "source": [
    "## 2.16 Problem Statement\n",
    "\n",
    "Define a functions that loads a data file of a categorical variable and returns a dictionary with the number of instances of each level.\n",
    "\n",
    "-rw-------. 1 pmolnar 1999  2325 Jan 25 08:02 /data/kelleher/MotorInsuranceFraudClaim_MaritalStatus.csv"
   ]
  },
  {
   "cell_type": "code",
   "id": "4b5ea7e0dd3fc62c",
   "metadata": {},
   "source": [
    "from typing import Dict\n",
    "\n",
    "def count_levels(data_file: str) -> Dict[str, int]:\n",
    "    # Add your code here\n",
    "    \n",
    "\n",
    "        \n",
    "    return result"
   ],
   "outputs": [],
   "execution_count": null
  },
  {
   "cell_type": "code",
   "id": "6926fa186a2b23bd",
   "metadata": {},
   "source": [
    "result = count_levels('/data/kelleher/MotorInsuranceFraudClaim_MaritalStatus.csv')\n",
    "display(result)"
   ],
   "outputs": [],
   "execution_count": null
  },
  {
   "cell_type": "markdown",
   "id": "3fd05a2ec4a07445",
   "metadata": {},
   "source": [
    "#### Save your solution to a file ..."
   ]
  },
  {
   "cell_type": "code",
   "id": "8fbd26093bc591a9",
   "metadata": {},
   "source": [
    "%%writefile solution_2_16.py\n",
    "\n",
    "from typing import Dict\n",
    "\n",
    "def count_levels(data_file: str) -> Dict[str, int]:\n",
    "    # Add your code here\n",
    "    \n",
    "\n",
    "        \n",
    "    return result"
   ],
   "outputs": [],
   "execution_count": null
  },
  {
   "cell_type": "markdown",
   "id": "429ef63c3b988828",
   "metadata": {},
   "source": [
    "#### Test 2.16 Execute the cell below to test your solution..."
   ]
  },
  {
   "cell_type": "code",
   "id": "c1c144c0e70aadcb",
   "metadata": {},
   "source": [
    "! test/run_test.sh 16"
   ],
   "outputs": [],
   "execution_count": null
  },
  {
   "cell_type": "markdown",
   "id": "35f6377abfc8a521",
   "metadata": {},
   "source": [
    "## Run All Tests One More Time ..."
   ]
  },
  {
   "cell_type": "code",
   "id": "5b73bb13cdcdf304",
   "metadata": {},
   "source": [
    "! test/run_test.sh"
   ],
   "outputs": [],
   "execution_count": null
  },
  {
   "cell_type": "code",
   "id": "a89d91023bdc8f6",
   "metadata": {},
   "source": [],
   "outputs": [],
   "execution_count": null
  },
  {
   "cell_type": "markdown",
   "id": "7a0f84088f402dc6",
   "metadata": {},
   "source": [
    "# Homework Submission\n",
    "\n",
    "- This homework is due by September 18, 2024, 6:00PM (EDT)\n",
    "- Make sure that all your programs and output files are in the exact folder as specified in the instructions.\n",
    "- All file names on this system are case sensitive. Verify if you copy your work from a local computer to your home directory on ARC.\n",
    "\n",
    "**Run the cell below to submit your work.**\n",
    "\n",
    "- You may submit your work multiple times up to the deadline of the assignment.\n",
    "- Please note that any files that you previously submitted will\n",
    "be overwritten by your current files."
   ]
  },
  {
   "cell_type": "code",
   "id": "a2cdf4e6c659cdc0",
   "metadata": {},
   "source": [
    "! ./submit.sh -y"
   ],
   "outputs": [],
   "execution_count": null
  },
  {
   "cell_type": "code",
   "id": "c2160e70320a7916",
   "metadata": {},
   "source": [],
   "outputs": [],
   "execution_count": null
  },
  {
   "cell_type": "code",
   "id": "39815c1a9d20187d",
   "metadata": {},
   "source": [],
   "outputs": [],
   "execution_count": null
  }
 ],
 "metadata": {
  "kernelspec": {
   "display_name": "Python 3 (ipykernel)",
   "language": "python",
   "name": "python3"
  },
  "language_info": {
   "codemirror_mode": {
    "name": "ipython",
    "version": 3
   },
   "file_extension": ".py",
   "mimetype": "text/x-python",
   "name": "python",
   "nbconvert_exporter": "python",
   "pygments_lexer": "ipython3",
   "version": "3.8.6"
  }
 },
 "nbformat": 4,
 "nbformat_minor": 5
}
