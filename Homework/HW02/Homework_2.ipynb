{
 "cells": [
  {
   "cell_type": "markdown",
   "metadata": {
    "id": "IhK0rJr97GHx"
   },
   "source": [
    "# Homework 2"
   ]
  },
  {
   "cell_type": "code",
   "execution_count": null,
   "metadata": {},
   "outputs": [],
   "source": [
    "# Execute first, don't change\n",
    "%reload_ext autoreload\n",
    "%autoreload 2"
   ]
  },
  {
   "cell_type": "markdown",
   "metadata": {
    "id": "uJGvQAM07GH0"
   },
   "source": [
    "## Extracting meta data\n",
    "\n",
    "The directory `/data/textanalysis/20_newsgroups/` is a snapshot of newgroup posts to a couple of differnt topics.\n",
    "\n",
    "Let's use some of the UNIX commands to explore the data\n",
    "- [grep](https://man7.org/linux/man-pages/man1/grep.1.html) to search for patterns in files\n",
    "- [cut](https://man7.org/linux/man-pages/man1/cut.1.html) to split lines by delimiting characters\n",
    "- [sort](https://man7.org/linux/man-pages/man1/sort.1.html) for sorting\n",
    "- [uniq](https://man7.org/linux/man-pages/man1/uniq.1.html) to remove duplicates, but also count lines with same content\n"
   ]
  },
  {
   "cell_type": "markdown",
   "metadata": {
    "id": "cQdn8-vn7GH0"
   },
   "source": [
    "### 2.1 Problem Statement\n",
    "Instructions\n",
    "1. The newsgroups data folder has posts of multiple topic. Use the `ls` command to list the name of each of the topic directories.\n",
    "2. Direct the output to a file named output_2_1.txt in your assignment directory"
   ]
  },
  {
   "cell_type": "code",
   "execution_count": null,
   "metadata": {
    "id": "FAcn6x0Y7GH1"
   },
   "outputs": [],
   "source": [
    "%%sh\n",
    "## your code here"
   ]
  },
  {
   "cell_type": "markdown",
   "metadata": {
    "id": "ssQZSds-7GH3"
   },
   "source": [
    "### 2.2 Extract \n",
    "You can see from the example below that each of the files has some metadata about the post. We're going to extract some of the data to create a table."
   ]
  },
  {
   "cell_type": "code",
   "execution_count": null,
   "metadata": {},
   "outputs": [],
   "source": [
    "%%sh\n",
    "### Execute this command to see the content of a file. Feel free to modify\n",
    "cat  /data/textanalysis/20_newsgroups/sci.space/59849 | head -30"
   ]
  },
  {
   "cell_type": "markdown",
   "metadata": {
    "id": "ssQZSds-7GH3"
   },
   "source": [
    "### Revisit grep\n",
    "Review the [grep](https://man7.org/linux/man-pages/man1/grep.1.html)  to search for patterns in files. You can add one or more filenames after the search pattern. If you add multiple files the `grep` command will put the individual files names in front of the search results. See example below: "
   ]
  },
  {
   "cell_type": "code",
   "execution_count": null,
   "metadata": {},
   "outputs": [],
   "source": [
    "%%sh\n",
    "grep \"^From:\" /data/textanalysis/20_newsgroups/sci.space/59849 /data/textanalysis/20_newsgroups/sci.space/59850"
   ]
  },
  {
   "cell_type": "markdown",
   "metadata": {
    "id": "ssQZSds-7GH3"
   },
   "source": [
    "### Instructions\n",
    "1. Use the `grep` example above, but with wildcards for subdirectory and filenames to apply the command to all posts in the `20_20_newsgroups` folder.\n",
    "2. Redirect the output to a file names `newsgroup_senders.txt`\n",
    "\n",
    "<p style=\"color: red\">Note: this command my take up to a minute to execute!</p>"
   ]
  },
  {
   "cell_type": "code",
   "execution_count": null,
   "metadata": {
    "id": "DZ1sMXh27GH3"
   },
   "outputs": [],
   "source": [
    "%%sh\n",
    "## your code here\n"
   ]
  },
  {
   "cell_type": "markdown",
   "metadata": {
    "id": "Gx81bXV17GH3"
   },
   "source": [
    "Save your solution to `solution_2_2.py`"
   ]
  },
  {
   "cell_type": "markdown",
   "metadata": {
    "id": "VYW3QVSB7GH5"
   },
   "source": [
    "### 2.3 Common Seperation Character\n",
    "Your file `newsgroup_senders.txt` should something like this:"
   ]
  },
  {
   "cell_type": "code",
   "execution_count": null,
   "metadata": {},
   "outputs": [],
   "source": [
    "%%sh\n",
    "cat newsgroup_senders.txt | tail -10000 | head -5 "
   ]
  },
  {
   "cell_type": "markdown",
   "metadata": {
    "id": "VYW3QVSB7GH5"
   },
   "source": [
    "As you can see, you almost have a table. You can replace the characters `/` and `:` with a common seperator like  a commma `,` to define columns. Then extract the information that is needed. \n",
    "### Instructions\n",
    "1. Use the `tr` command to replace all `/` and `:` characters with `,`\n",
    "2. Redirect the output to the file `newsgroup_raw_full_table.csv`"
   ]
  },
  {
   "cell_type": "code",
   "execution_count": null,
   "metadata": {
    "id": "jV-j2NEV7GH5"
   },
   "outputs": [],
   "source": [
    "%%sh\n",
    "# your code here\n"
   ]
  },
  {
   "cell_type": "markdown",
   "metadata": {
    "id": "R2kQ6c6C7GH7"
   },
   "source": [
    "### 2.4 Problem Statement\n",
    "Now you can select relevant information from this raw CSV file. The sample below show three columns with useful information:\n",
    "1. the *topic* of the newsgroup, which is the name of the supdirectory\n",
    "2. the *id* of the post, which is the all-digits filename, and\n",
    "3. the *sender* of the post, the last column"
   ]
  },
  {
   "cell_type": "code",
   "execution_count": null,
   "metadata": {},
   "outputs": [],
   "source": [
    "%%sh\n",
    "cat newsgroup_raw_full_table.csv | tail -10000 | head -5 "
   ]
  },
  {
   "cell_type": "markdown",
   "metadata": {
    "id": "R2kQ6c6C7GH7"
   },
   "source": [
    "Instructions\n",
    "1. Use the [cut](https://man7.org/linux/man-pages/man1/cut.1.html) command to extract the three columns of interest.\n",
    "2. Redirect the output to the file `newsgroup_raw_table.csv`"
   ]
  },
  {
   "cell_type": "code",
   "execution_count": null,
   "metadata": {
    "id": "ckOOOman7GH7"
   },
   "outputs": [],
   "source": [
    "%%sh\n",
    "## your code here\n"
   ]
  },
  {
   "cell_type": "markdown",
   "metadata": {
    "id": "VCbFUbv27GH7"
   },
   "source": [
    "Save your solution to `solution_2_4.py`"
   ]
  },
  {
   "cell_type": "markdown",
   "metadata": {
    "id": "98qMpq6E7GH8"
   },
   "source": [
    "### 2.5 Convert into CSV file\n",
    "\n",
    "The data file now contains the information. The missing part is a header: the first row that includes the name of each column.\n",
    "\n",
    "```\n",
    "rec.sport.hockey,52652, Raj Ramnarace <ACPS6992@RyeVm.Ryerson.Ca>\n",
    "rec.sport.hockey,52653, J056600@LMSC5.IS.LMSC.LOCKHEED.COM\n",
    "rec.sport.hockey,52654, khettry@r1w2.pub.utk.edu (23064RFL)\n",
    "rec.sport.hockey,52655, pavalin@bnr.ca (Paul Valin)\n",
    "rec.sport.hockey,52656, umturne4@ccu.umanitoba.ca (Daryl Turner)\n",
    "```\n",
    "\n",
    "This is how the final table should look like:\n",
    "\n",
    "|Topic|Post_ID|Sender|\n",
    "|-----|-------|------|\n",
    "|rec.sport.hockey|52652| Raj Ramnarace <ACPS6992@RyeVm.Ryerson.Ca>\n",
    "|rec.sport.hockey|52653| J056600@LMSC5.IS.LMSC.LOCKHEED.COM\n",
    "|rec.sport.hockey|52654| khettry@r1w2.pub.utk.edu (23064RFL)\n",
    "|rec.sport.hockey|52655| pavalin@bnr.ca (Paul Valin)\n",
    "|rec.sport.hockey|52656| umturne4@ccu.umanitoba.ca (Daryl Turner)\n",
    "\n",
    "\n",
    "**Note:** The textfiles may contain special characters from different encodings. Combining different data files can create issues. Here, you will run a final character filter over the datafile (`tr` command).\n",
    "\n",
    "The following cell displays the desired output with header and 20 data rows:"
   ]
  },
  {
   "cell_type": "code",
   "execution_count": null,
   "metadata": {},
   "outputs": [],
   "source": [
    "%%sh\n",
    "printf 'Topic,Post_ID,Sender\\n'\n",
    "cat newsgroup_raw_table.csv | tr -dc 'a-zA-Z0-9\\n,@. ' | head -20"
   ]
  },
  {
   "cell_type": "markdown",
   "metadata": {
    "id": "98qMpq6E7GH8"
   },
   "source": [
    "#### Instructions\n",
    "1. Modify the above statement to redirect all outputs to a file name `newsgroup.csv`\n",
    "2. Make sure that all rows of the datafiles are included "
   ]
  },
  {
   "cell_type": "code",
   "execution_count": null,
   "metadata": {
    "id": "uWdQKQEN7GH8"
   },
   "outputs": [],
   "source": [
    "%%sh\n",
    "## your code here\n"
   ]
  },
  {
   "cell_type": "markdown",
   "metadata": {
    "id": "PnCB6mZl7GH9"
   },
   "source": [
    "### 2.6 Define Variables\n",
    "\n",
    "Review how to define variables and assign values to them. Follow the instructions and choose the name of the variables as directed. Everything in Python is case sensitive. By convention, names for variables in Python usually only contain lower case letters, digits, and the `_` symbol. They must always start with a letter or `_`.\n",
    "\n",
    "#### Instructions\n",
    "1. Write a program that defines variables for the name, age, and favorite color of the person in the following sentence \"John is 35. His favorite color is yellow\".\n",
    "2. Print the result as follows:\n",
    "- name: John\n",
    "- age: 35\n",
    "- favorite color: yellow\n",
    "3. Print the type of each variable in 1 line"
   ]
  },
  {
   "cell_type": "markdown",
   "metadata": {
    "id": "X5ZoLQHw7GH-"
   },
   "source": [
    "Save your solution to `solution_2_6.py`"
   ]
  },
  {
   "cell_type": "code",
   "execution_count": null,
   "metadata": {
    "id": "KX5Wl4ny7GH-"
   },
   "outputs": [],
   "source": [
    "%%writefile solution_2_6.py\n",
    "\n",
    "### your code here\n",
    "\n",
    "\n",
    "### don't change this\n",
    "print(f\"{name} is {age}. His favorite color is {favorite_color}.\")"
   ]
  },
  {
   "cell_type": "markdown",
   "metadata": {},
   "source": [
    "Run your program like this"
   ]
  },
  {
   "cell_type": "code",
   "execution_count": null,
   "metadata": {},
   "outputs": [],
   "source": [
    "%%sh\n",
    "python3 solution_2_6.py"
   ]
  },
  {
   "cell_type": "markdown",
   "metadata": {
    "id": "HG-KeIvw7GH_"
   },
   "source": [
    "### 2.7 Define a list, compute the sum\n",
    "\n",
    "Review lists in Python. This example just uses a list of integers, but other datatypes can also be included in lists.\n",
    "\n",
    "#### Instructions\n",
    "1. Create a list containing the following numbers: 1,2,4,3,2\n",
    "2. Assign the list of number to the variable `number`\n",
    "2. Calculate the sum of the list\n",
    "3. Assign the sum to the variable `total`\n",
    "3. Print the result"
   ]
  },
  {
   "cell_type": "markdown",
   "metadata": {
    "id": "GW2Sj_lf7GH_"
   },
   "source": [
    "Save your solution to `solution_2_7.py`"
   ]
  },
  {
   "cell_type": "code",
   "execution_count": null,
   "metadata": {
    "id": "-mmTaJ-g7GH_"
   },
   "outputs": [],
   "source": [
    "%%writefile solution_2_7.py\n",
    "\n",
    "### your code here\n",
    "\n",
    "\n"
   ]
  },
  {
   "cell_type": "markdown",
   "metadata": {
    "id": "mRtQ2u3f7GH_"
   },
   "source": [
    "### 2.8 Calculate the average\n",
    "#### Instructions\n",
    "1. Calculate the average of the following list [2,4.5,6,8,10,23]\n",
    "2. Assign the list to the variable `numbers`\n",
    "3. Assign the average of to the variable `avg`\n",
    "2. Print the result"
   ]
  },
  {
   "cell_type": "code",
   "execution_count": null,
   "metadata": {},
   "outputs": [],
   "source": []
  },
  {
   "cell_type": "markdown",
   "metadata": {
    "id": "d1KjjRk-7GIA"
   },
   "source": [
    "Save your solution to `solution_2_8.py`"
   ]
  },
  {
   "cell_type": "code",
   "execution_count": null,
   "metadata": {
    "id": "eNg_n0Z17GIA"
   },
   "outputs": [],
   "source": [
    "%%writefile solution_2_8.py\n",
    "\n",
    "### your code here\n"
   ]
  },
  {
   "cell_type": "markdown",
   "metadata": {
    "id": "izrF1web7GIA"
   },
   "source": [
    "### 2.9 Problem Statement\n",
    "\n",
    "- Review defining functions in Python with the `def` statement. \n",
    "- Review the conditional statement `if`\n",
    "- Review the operators for `int` values\n",
    "\n",
    "For positive integers (aka. *natural numbers*), *even* numbers are those that are divisible by 2. All others are *odd* numbers. \n",
    "\n",
    "#### Instructions\n",
    "1. Create a function that takes as input an integer and checks if it is an odd number or even.\n",
    "2. Name the function `even_or_odd`. \n",
    "2. Print the result (the result displayed must be \"odd\" or \"even\")"
   ]
  },
  {
   "cell_type": "markdown",
   "metadata": {
    "id": "UjLLrRk37GIB"
   },
   "source": [
    "Save your solution to `solution_2_9.py`"
   ]
  },
  {
   "cell_type": "code",
   "execution_count": null,
   "metadata": {
    "id": "Gt3EkarC7GIB"
   },
   "outputs": [],
   "source": [
    "%%writefile solution_2_9.py\n",
    "\n",
    "### your code here\n",
    "\n"
   ]
  },
  {
   "cell_type": "markdown",
   "metadata": {},
   "source": [
    "Try it out:"
   ]
  },
  {
   "cell_type": "code",
   "execution_count": null,
   "metadata": {},
   "outputs": [],
   "source": [
    "from solution_2_9 import even_or_odd\n",
    "print(even_or_odd(17))\n",
    "print(even_or_odd(32))\n"
   ]
  },
  {
   "cell_type": "code",
   "execution_count": null,
   "metadata": {},
   "outputs": [],
   "source": []
  },
  {
   "cell_type": "markdown",
   "metadata": {
    "id": "BXh720UX7GIB"
   },
   "source": [
    "### 2.10 Positive Numbers\n",
    "\n",
    "Positive numbers are real numbers that are greater than zero. For mathematician zero is neither positive nor negaitve, though, some computer functions extend \"positive\" numbers to non-negatives.\n",
    "\n",
    "Review the Python data type `bool` and operators for comparison and logic.\n",
    "\n",
    "#### Instructions\n",
    "1. Create a function that takes as input a number and returns true if it is positive and false if it is negative\n",
    "3. Name the function `is_positive`\n",
    "2. Using the function created, print \"positive\" if the result is true and \"negative\" if the result is false."
   ]
  },
  {
   "cell_type": "code",
   "execution_count": null,
   "metadata": {
    "id": "m6DHReLb7GIB"
   },
   "outputs": [],
   "source": []
  },
  {
   "cell_type": "markdown",
   "metadata": {
    "id": "gryv9ICB7GIB"
   },
   "source": [
    "Save your solution to `solution_2_10.py`"
   ]
  },
  {
   "cell_type": "code",
   "execution_count": null,
   "metadata": {
    "id": "Cdd2J5tR7GIC"
   },
   "outputs": [],
   "source": [
    "%%writefile solution_2_10.py\n",
    "\n",
    "### your code here\n",
    "\n",
    "\n",
    "### Don't change this\n",
    "for x in [7, -3.9, 1.2, -9.9, -8.7, 0.4]:\n",
    "    res = \"positive\" if is_positive(x) else \"negative\"\n",
    "    print(f\"The value {x} is {res}.\")"
   ]
  },
  {
   "cell_type": "markdown",
   "metadata": {
    "id": "P2_x-g287GIC"
   },
   "source": [
    "Try it out"
   ]
  },
  {
   "cell_type": "code",
   "execution_count": null,
   "metadata": {
    "id": "KwxxQs7D7GIC"
   },
   "outputs": [],
   "source": [
    "from solution_2_10 import is_positive\n",
    "\n",
    "for x in [7, -3.9, 1.2, -9.9, -8.7, 0.4]:\n",
    "    res = \"positive\" if is_positive(x) else \"negative\"\n",
    "    print(f\"The value {x} is {res}.\")"
   ]
  },
  {
   "cell_type": "markdown",
   "metadata": {
    "id": "Ltkyxo-17GIC"
   },
   "source": [
    "### 2.11 Datetime object\n",
    "\n",
    "Review the [datetime](https://docs.python.org/3/library/datetime.html) package. It includes several classes (i.e. data types):\n",
    "\n",
    "`class datetime.date`\n",
    "An idealized naive date, assuming the current Gregorian calendar always was, and always will be, in effect. Attributes: year, month, and day.\n",
    "\n",
    "`class datetime.timedelta`\n",
    "A duration expressing the difference between two date, time, or datetime instances to microsecond resolution.\n",
    "\n",
    "The `datetime` package is part of the standard Python distribution, but components of this package need to be imported before using them. E.g.\n",
    "```\n",
    "from datetime import datetime\n",
    "```\n",
    "\n",
    "**Note:** The package is called \"datetime\" and it also has a class \"datetime\"\n",
    "\n",
    "### Instructions\n",
    "1. Create two `datetime` objects and assign them to the variables `t1` and `t2`. Make sure `t2` represents a date and time **after** `t1`.\n",
    "2. Compute the time difference (timedelta) between t2 and t1. Assign the value to the variable `tdelta`.\n",
    "3. Print the type of `tdelta`.\n",
    "4. Compute the days between t2 and t1 and assign the value to the variable `tdelta_days`.\n",
    "5. Compute the number of seconds between t2 and t1 and assign the value to the variable `tdelta_seconds`.\n",
    "6. Print the values and the datatypes of `tdelta_days` and `tdelta_seconds`.\n",
    "\n"
   ]
  },
  {
   "cell_type": "code",
   "execution_count": null,
   "metadata": {
    "id": "U2lWjJ-Q7GIC"
   },
   "outputs": [],
   "source": [
    "from datetime import datetime\n",
    "\n"
   ]
  },
  {
   "cell_type": "markdown",
   "metadata": {
    "id": "bU6Frulv7GIC"
   },
   "source": [
    "Save your solution to `solution_2_11.py`"
   ]
  },
  {
   "cell_type": "code",
   "execution_count": null,
   "metadata": {
    "id": "2Farhn8v7GID"
   },
   "outputs": [],
   "source": [
    "%%writefile solution_2_11.py\n",
    "\n",
    "from datetime import datetime\n",
    "### your code here\n"
   ]
  },
  {
   "cell_type": "markdown",
   "metadata": {
    "id": "CVqd5Fes7GID"
   },
   "source": [
    "### 2.12 Get the difference between two datetime objects in minutes\n",
    "\n",
    "#### Instructions\n",
    "\n",
    "1. Create a function which takes 2 datetime objects and returns the difference of the dates in the number of minutes.\n",
    "2. The minute value can be fractional.\n",
    "3. Name the function `delta_minutes`\n",
    "4. The function should return a positive value if the first argument refers to a point in time after the second argument."
   ]
  },
  {
   "cell_type": "code",
   "execution_count": null,
   "metadata": {
    "id": "_9nPC5-l7GID"
   },
   "outputs": [],
   "source": []
  },
  {
   "cell_type": "markdown",
   "metadata": {
    "id": "mAu-4hiQ7GID"
   },
   "source": [
    "Save your solution to `solution_2_12.py`"
   ]
  },
  {
   "cell_type": "code",
   "execution_count": null,
   "metadata": {
    "id": "u1SFcCdw7GID"
   },
   "outputs": [],
   "source": [
    "%%writefile solution_2_12.py\n",
    "from datetime import datetime\n",
    "### your code here\n",
    "\n"
   ]
  },
  {
   "cell_type": "markdown",
   "metadata": {},
   "source": [
    "Try it out:"
   ]
  },
  {
   "cell_type": "code",
   "execution_count": null,
   "metadata": {},
   "outputs": [],
   "source": [
    "from solution_2_12 import delta_minutes\n",
    "t1 = datetime(1998, 9, 21, 13, 5, 1)\n",
    "t2 = datetime(2014, 3, 14, 8, 55, 59)\n",
    "print(f\"Difference {delta_minutes(t2, t1):,.3f}\")"
   ]
  },
  {
   "cell_type": "markdown",
   "metadata": {
    "id": "9f0H6Jhu7GIE"
   },
   "source": [
    "### 2.13 Check if a number is a prime number\n",
    "\n",
    "*Prime numbers* are natural numbers (greater than 1) that are only divisible by themselves and 1.\n",
    "Finding prime numbers in an intelligent way is a complex effort that is still actively researched. However, we can use a brute force method of testing whether a given number is a prime number. We limit the effort for numbers between 2 and 100.\n",
    "\n",
    "### Instructions\n",
    "1. Create a function, names `is_prime`, which takes in a number and checks if the number is a prime number or not.\n",
    "2. The function should return `True` for a prime number or `False` if it is not a prime number."
   ]
  },
  {
   "cell_type": "code",
   "execution_count": null,
   "metadata": {
    "id": "uXEyv11b7GIE"
   },
   "outputs": [],
   "source": [
    "from math import sqrt\n"
   ]
  },
  {
   "cell_type": "markdown",
   "metadata": {
    "id": "O3ToPoxX7GIE"
   },
   "source": [
    "Save your solution to `solution_2_13.py`"
   ]
  },
  {
   "cell_type": "code",
   "execution_count": null,
   "metadata": {
    "id": "km97fmm47GIE"
   },
   "outputs": [],
   "source": [
    "%%writefile solution_2_13.py\n",
    "from math import sqrt\n",
    "\n",
    "### your code here\n"
   ]
  },
  {
   "cell_type": "markdown",
   "metadata": {},
   "source": [
    "Try it out:"
   ]
  },
  {
   "cell_type": "code",
   "execution_count": null,
   "metadata": {},
   "outputs": [],
   "source": [
    "from solution_2_13 import is_prime\n",
    "\n",
    "for n in [3, 7, 12, 19, 25, 71, 89, 99]:\n",
    "    if is_prime(n):\n",
    "        print(f\"{n} is a prime number,\")\n",
    "    else:\n",
    "        print(f\"{n} is not.\")"
   ]
  },
  {
   "cell_type": "markdown",
   "metadata": {
    "id": "Wo2PO8oC7GIF"
   },
   "source": [
    "### 2.14 Calculate the area of a circle\n",
    "\n",
    "#### Instructions\n",
    "1. Create a function which calculates the area of a circle for a given radius.\n",
    "2. Name the function `circle_area`."
   ]
  },
  {
   "cell_type": "code",
   "execution_count": null,
   "metadata": {
    "id": "9qilBCHt7GIF"
   },
   "outputs": [],
   "source": []
  },
  {
   "cell_type": "markdown",
   "metadata": {
    "id": "Hh2u1PEz7GIF"
   },
   "source": [
    "Save your solution to `solution_2_14.py`"
   ]
  },
  {
   "cell_type": "code",
   "execution_count": null,
   "metadata": {
    "id": "5ohXxpTM7GIF"
   },
   "outputs": [],
   "source": [
    "%%writefile solution_2_14.py\n",
    "\n",
    "### your code here\n"
   ]
  },
  {
   "cell_type": "markdown",
   "metadata": {
    "id": "TDunjsM67GIF"
   },
   "source": [
    "Try it out:"
   ]
  },
  {
   "cell_type": "code",
   "execution_count": null,
   "metadata": {
    "id": "mqVaiKz_7GIF",
    "outputId": "c5261d5c-df34-4d62-dd10-314e1ef4142d"
   },
   "outputs": [],
   "source": [
    "from solution_2_14 import circle_area\n",
    "\n",
    "for r in [5, 9.9, 12]:\n",
    "    a = circle_area(r)\n",
    "    print(f\"The area of a circle with radius {r:.2f} is {a:.2f}\")"
   ]
  },
  {
   "cell_type": "markdown",
   "metadata": {
    "id": "vTTpWgi17GIF"
   },
   "source": [
    "### 2.15 Concatenate Strings\n",
    "\n",
    "Review operations on the datatype `str`.\n",
    "\n",
    "#### Instructions\n",
    "1. Create a function that takes as input two strings and return a concatination of both strings\n",
    "2. Include a space character (aka \"blank\") `' '` between the input strings (without the quotes!).\n",
    "2. Name the function `concatenate_strings`\n",
    "2. Print the output\n",
    "\n",
    "Example: the inputs are \"hello\" and \"world\". The output is \"hello world\""
   ]
  },
  {
   "cell_type": "code",
   "execution_count": null,
   "metadata": {
    "id": "A76t7OJ_7GIF"
   },
   "outputs": [],
   "source": []
  },
  {
   "cell_type": "markdown",
   "metadata": {
    "id": "zf5tENdp7GIF"
   },
   "source": [
    "Save your solution to `solution_2_15.py`"
   ]
  },
  {
   "cell_type": "code",
   "execution_count": null,
   "metadata": {
    "id": "8i6QTZ0M7GIG"
   },
   "outputs": [],
   "source": [
    "%%writefile solution_2_15.py\n",
    "\n",
    "### your code here\n"
   ]
  },
  {
   "cell_type": "markdown",
   "metadata": {},
   "source": [
    "Test it out:"
   ]
  },
  {
   "cell_type": "code",
   "execution_count": null,
   "metadata": {},
   "outputs": [],
   "source": [
    "from solution_2_15 import concatenate_strings\n",
    "result = concatenate_strings(\"Hello\", \"Universe\")\n",
    "print(result)"
   ]
  },
  {
   "cell_type": "markdown",
   "metadata": {
    "id": "zeu0-8fM7GIG"
   },
   "source": [
    "### 2.16 Split String into Words\n",
    "\n",
    "Review methods of the `str` data type.\n",
    "\n",
    "#### Instructions\n",
    "1. Create a function that takes a string as an input and return a list of words from that string\n",
    "2. Name the function `split_string_into_words`\n",
    "2. Print the output\n",
    "\n",
    "Example: The input is \"Hello World\", the output is \"Hello\", \"World\""
   ]
  },
  {
   "cell_type": "markdown",
   "metadata": {
    "id": "Xi0oPl7L7GIG"
   },
   "source": [
    "Save your solution to `solution_2_16.py`"
   ]
  },
  {
   "cell_type": "code",
   "execution_count": null,
   "metadata": {
    "id": "sHp6CCK97GIG"
   },
   "outputs": [],
   "source": [
    "%%writefile solution_2_16.py\n",
    "\n",
    "### your code here\n",
    "\n",
    "\n",
    "\n",
    "### don't change this\n",
    "result = split_string_into_words(\"Hello World\")\n",
    "print(result)"
   ]
  },
  {
   "cell_type": "markdown",
   "metadata": {
    "id": "zWV9LfwD7GIH"
   },
   "source": [
    "### 2.17 Problem Statement\n",
    "#### Instructions\n",
    "1. Create a  function that takes a string as an input and return the integer in that string (you can use the previous function `split_string_into_words` (2.16)).\n",
    "2. Name your function `extract_integer_from_string`\n",
    "2. Print the output\n",
    "\n",
    "Example: The input is \"Hello World 2020\", the output is 2020"
   ]
  },
  {
   "cell_type": "code",
   "execution_count": null,
   "metadata": {
    "id": "5FTMK1Fq7GIH"
   },
   "outputs": [],
   "source": []
  },
  {
   "cell_type": "markdown",
   "metadata": {
    "id": "pXuIJ08j7GIH"
   },
   "source": [
    "Save your solution to `solution_2_17.py`"
   ]
  },
  {
   "cell_type": "code",
   "execution_count": null,
   "metadata": {
    "id": "Qe_qN_TC7GIH"
   },
   "outputs": [],
   "source": [
    "%%writefile solution_2_17.py\n",
    "\n",
    "###paste the previous function\n",
    "from solution_2_16 import split_string_into_words\n",
    "\n",
    "### write the new function\n",
    "\n",
    "\n",
    "### don't change this\n",
    "result = extract_integer_from_string(\"Hello World 2023\")\n",
    "print(result)"
   ]
  },
  {
   "cell_type": "code",
   "execution_count": null,
   "metadata": {
    "id": "Sb7NmFa07GIH"
   },
   "outputs": [],
   "source": []
  },
  {
   "cell_type": "markdown",
   "metadata": {
    "id": "p_iYzciM7GIH"
   },
   "source": [
    "### 2.18 Problem Statement\n",
    "\n",
    "#### Instructions\n",
    "1. Create a function that transforms the following array of integers [1,2,4,5] to an array of strings [\"1\",\"2\",\"4\",\"5\"]\n",
    "2. Name your function `transform_integers_to_strings`\n",
    "2. Print the arrays with their corresponding types"
   ]
  },
  {
   "cell_type": "code",
   "execution_count": null,
   "metadata": {
    "id": "aaqPJQjT7GIH"
   },
   "outputs": [],
   "source": []
  },
  {
   "cell_type": "markdown",
   "metadata": {
    "id": "W97856DG7GII"
   },
   "source": [
    "Save your solution to `solution_2_18.py`"
   ]
  },
  {
   "cell_type": "code",
   "execution_count": null,
   "metadata": {
    "id": "VVX4fUpQ7GII"
   },
   "outputs": [],
   "source": [
    "%%writefile solution_2_18.py\n",
    "\n",
    "### your code here\n",
    "\n",
    "\n",
    "\n",
    "### don't change this\n",
    "int_array = [1, 2, 4, 5]\n",
    "string_array = transform_integers_to_strings(int_array)\n",
    "\n",
    "print(f\"Before {int_array, type(int_array)}. After {string_array, type(string_array)}.\")"
   ]
  },
  {
   "cell_type": "markdown",
   "metadata": {
    "id": "7Tj3hXv17GII"
   },
   "source": [
    "### 2.19 Check Valid Colors\n",
    "#### Instructions\n",
    "1. Create a function that takes as input a list of words. The words must be \"red\", \"blue\" and \"green\". If a word is not one of the three colors, the function must return `False`\n",
    "2. Name the function `check_colors`\n",
    "2. Print the output\n",
    "\n",
    "Example:\n",
    "- if the list is {\"red\",\"red\",\"green\",\"blue\"}, the output is `True`\n",
    "- if the list is {\"red\",\"green\",\"blue\", \"yellow\"}, the output is `False`"
   ]
  },
  {
   "cell_type": "code",
   "execution_count": null,
   "metadata": {
    "id": "_5caufqP7GII"
   },
   "outputs": [],
   "source": []
  },
  {
   "cell_type": "markdown",
   "metadata": {
    "id": "dfv43OTP7GII"
   },
   "source": [
    "Save your solution to `solution_2_19.py`"
   ]
  },
  {
   "cell_type": "code",
   "execution_count": null,
   "metadata": {
    "id": "iaBkBbUz7GII"
   },
   "outputs": [],
   "source": [
    "%%writefile solution_2_19.py\n",
    "\n",
    "### your code here\n",
    "\n",
    "\n",
    "### don't change this\n",
    "result1 = check_colors([\"red\", \"red\", \"green\", \"blue\"])\n",
    "result2 = check_colors([\"red\", \"green\", \"blue\", \"yellow\"])\n",
    "print(f\"[\\\"red\\\", \\\"red\\\", \\\"green\\\", \\\"blue\\\"] {result1}, [\\\"red\\\", \\\"green\\\", \\\"blue\\\", \\\"yellow\\\"] {result2}\")"
   ]
  },
  {
   "cell_type": "markdown",
   "metadata": {},
   "source": [
    "Run your program like this"
   ]
  },
  {
   "cell_type": "code",
   "execution_count": null,
   "metadata": {},
   "outputs": [],
   "source": [
    "%%sh\n",
    "python3 solution_2_19.py"
   ]
  },
  {
   "cell_type": "markdown",
   "metadata": {
    "id": "iR8qGMn87GIJ"
   },
   "source": [
    "### 2.20 Problem Statement\n",
    "#### Instructions\n",
    "1. Create a function that takes as input a list composed of three colors \"red\", \"blue\", \"green\" and transforms each color to an integer as follows: red = 1 , blue = 2, green = 3. Use the previous function (2.20) to check if there are no other words in the list.\n",
    "2. Name your function `colors_to_integers`\n",
    "2. Print the result for the list [\"red\", \"blue\", \"green\", \"red\", \"red\", \"green\", \"blue\", \"green\"] and [\"blue\", \"blue\", \"green\", \"red\", \"blue\"]\n",
    "\n",
    "The result should be: 1,2,3,1,1,3,2,3 and 2,2,3,1,2"
   ]
  },
  {
   "cell_type": "code",
   "execution_count": null,
   "metadata": {
    "id": "FY8HYPJv7GIJ"
   },
   "outputs": [],
   "source": []
  },
  {
   "cell_type": "markdown",
   "metadata": {
    "id": "b2kNtPg-7GIJ"
   },
   "source": [
    "Save your solution to `solution_2_20.py`"
   ]
  },
  {
   "cell_type": "code",
   "execution_count": null,
   "metadata": {
    "id": "SvXd-zS87GIJ"
   },
   "outputs": [],
   "source": [
    "%%writefile solution_2_20.py\n",
    "\n",
    "### your code here\n",
    "\n",
    "\n",
    "\n",
    "\n",
    "### don't change this\n",
    "color_list1 = [\"red\", \"blue\", \"green\", \"red\", \"red\", \"green\", \"blue\", \"green\"]\n",
    "color_list2 = [\"blue\", \"blue\", \"green\", \"red\", \"blue\"]\n",
    "integer_result1 = colors_to_integers(color_list1)\n",
    "integer_result2 = colors_to_integers(color_list2)\n",
    "\n",
    "print(f\"{color_list1} = {integer_result1}\\n{color_list2} = {integer_result2}\")"
   ]
  },
  {
   "cell_type": "markdown",
   "metadata": {},
   "source": [
    "Run your program like this"
   ]
  },
  {
   "cell_type": "code",
   "execution_count": null,
   "metadata": {},
   "outputs": [],
   "source": [
    "%%sh\n",
    "python3 solution_2_20.py"
   ]
  },
  {
   "cell_type": "markdown",
   "metadata": {
    "id": "DJtNPKC67GIJ"
   },
   "source": [
    "### 2.21 Create a dictionary from two lists\n",
    "\n",
    "Review the dictionary data structure in Python, `dict`.\n",
    " \n",
    "#### Instructions\n",
    "1. There are two list, one for student names and the other one for their marks\n",
    "2. Create a function which takes in two lists and creates/returns a dictionary from them.\n",
    "2. Name the function `create_marks_dict`\n",
    "3. Keys for the dictionary should be names and values should be the marks"
   ]
  },
  {
   "cell_type": "code",
   "execution_count": null,
   "metadata": {
    "id": "Y6ER1vZw7GIK"
   },
   "outputs": [],
   "source": []
  },
  {
   "cell_type": "markdown",
   "metadata": {
    "id": "AVVSancw7GIK"
   },
   "source": [
    "Save your solution to `solution_2_21.py`"
   ]
  },
  {
   "cell_type": "code",
   "execution_count": null,
   "metadata": {
    "id": "Qw2hMcdO7GIK"
   },
   "outputs": [],
   "source": [
    "%%writefile solution_2_21.py\n",
    "\n",
    "### your code here\n",
    "\n",
    "\n",
    "\n",
    "\n",
    "### dont change this\n",
    "names = [\"John\", \"Doe\", \"Jane\"]\n",
    "marks = [100, 90, 80]\n",
    "new_dict = create_marks_dict(names, marks)\n",
    "\n",
    "print(new_dict)"
   ]
  },
  {
   "cell_type": "markdown",
   "metadata": {
    "id": "-DeEeAmL7GIK"
   },
   "source": [
    "### 2.22 Get a list of students whose marks are above the average marks\n",
    "\n",
    "#### Instructions\n",
    "1. There are two list, one for student names and the other one for their marks\n",
    "2. Use the function `create_marks_dict` which takes in two lists and create a dictionary from them. Keys for the dictionary should be names and values should be the marks\n",
    "4. The function should return the list of student names whose marks the above the average marks of all students.\n",
    "5. Name the function `get_students_with_above_average_marks`"
   ]
  },
  {
   "cell_type": "markdown",
   "metadata": {
    "id": "VHxAk74U7GIK"
   },
   "source": [
    "Save your solution to `solution_2_22.py`"
   ]
  },
  {
   "cell_type": "code",
   "execution_count": null,
   "metadata": {
    "id": "UTWo9t9A7GIK"
   },
   "outputs": [],
   "source": [
    "%%writefile solution_2_22.py\n",
    "\n",
    "from solution_2_21 import create_marks_dict\n",
    "\n",
    "### your code here\n",
    "\n",
    "\n",
    "\n",
    "\n"
   ]
  },
  {
   "cell_type": "markdown",
   "metadata": {},
   "source": [
    "Try it out:"
   ]
  },
  {
   "cell_type": "code",
   "execution_count": null,
   "metadata": {},
   "outputs": [],
   "source": [
    "from solution_2_21 import create_marks_dict\n",
    "from solution_2_22 import get_students_with_above_average_marks\n",
    "\n",
    "names = [\"John\", \"Doe\", \"Jane\"]\n",
    "marks = [100, 90, 80]\n",
    "\n",
    "students = create_marks_dict(names, marks)\n",
    "top_students = get_students_with_above_average_marks(students)\n",
    "print(top_students)"
   ]
  },
  {
   "cell_type": "code",
   "execution_count": null,
   "metadata": {},
   "outputs": [],
   "source": []
  },
  {
   "cell_type": "markdown",
   "metadata": {
    "id": "9N3LYGCT7GIL"
   },
   "source": [
    "### 2.23 Flatten nested lists\n",
    "\n",
    "Review how to flatten nested lists\n",
    "\n",
    "#### Instructions\n",
    "1. Create a function which takes in a nested list as an argument. (ex: Nested List = [[\"John\", \"Emily\"], [\"Maria\", \"Juan\", \"Javier\"]])\n",
    "2. Use list comprehension to flatten the nest list and return it\n",
    "3. Name the function `flat_list`\n",
    "\n"
   ]
  },
  {
   "cell_type": "code",
   "execution_count": null,
   "metadata": {
    "id": "yg3Jrw-c7GIL"
   },
   "outputs": [],
   "source": []
  },
  {
   "cell_type": "markdown",
   "metadata": {
    "id": "xPpxnFbU7GIL"
   },
   "source": [
    "Save your solution to `solution_2_23.py`"
   ]
  },
  {
   "cell_type": "code",
   "execution_count": null,
   "metadata": {
    "id": "BrpPtAcr7GIL"
   },
   "outputs": [],
   "source": [
    "%%writefile solution_2_23.py\n",
    "\n",
    "### your code here\n",
    "\n",
    "\n"
   ]
  },
  {
   "cell_type": "markdown",
   "metadata": {},
   "source": [
    "Try it out:"
   ]
  },
  {
   "cell_type": "code",
   "execution_count": null,
   "metadata": {},
   "outputs": [],
   "source": [
    "from solution_2_23 import flat_list\n",
    "nested_list = [[\"John\", \"Emily\"], [\"Maria\", \"Juan\", \"Javier\"]]\n",
    "nested_list = [[\"John\"], [\"Emily\", \"Maria\", \"Juan\", \"Javier\"]]\n",
    "flat_list(nested_list)"
   ]
  },
  {
   "cell_type": "markdown",
   "metadata": {
    "id": "6sGbW80b7GIL"
   },
   "source": [
    "### 2.24 Sort list of words by lenght of work\n",
    "\n",
    "#### Instructions\n",
    "1. Create a function that takes a list of words.\n",
    "2. Sort the list by the length of each word ascendingly, the shortest words first.\n",
    "3. Return a new list.\n",
    "3. Name the function `sort_by_word_length`.\n",
    "\n",
    "\n",
    "Example:\n",
    "- Input - [\"saw\", \"small\", \"He\", \"stocks\"]\n",
    "- Output - [\"He\", \"saw\", \"small\", \"stock\"]"
   ]
  },
  {
   "cell_type": "code",
   "execution_count": null,
   "metadata": {
    "id": "lRnJxFmv7GIL"
   },
   "outputs": [],
   "source": []
  },
  {
   "cell_type": "markdown",
   "metadata": {
    "id": "wbF0aTKE7GIL"
   },
   "source": [
    "Save your solution to `solution_2_24.py`"
   ]
  },
  {
   "cell_type": "code",
   "execution_count": null,
   "metadata": {
    "id": "JcIGK42D7GIL"
   },
   "outputs": [],
   "source": [
    "%%writefile solution_2_24.py\n",
    "\n",
    "### your code here\n"
   ]
  },
  {
   "cell_type": "markdown",
   "metadata": {},
   "source": [
    "Try it out:"
   ]
  },
  {
   "cell_type": "code",
   "execution_count": null,
   "metadata": {},
   "outputs": [],
   "source": [
    "from solution_2_24 import sort_by_word_length\n",
    "\n",
    "words = [\"saw\", \"small\", \"He\", \"stocks\"]\n",
    "print(sort_by_word_length(words))"
   ]
  },
  {
   "cell_type": "markdown",
   "metadata": {
    "id": "DtqCLUBu7GIM"
   },
   "source": [
    "### 2.25 Finding the values that are not common to two lists\n",
    "\n",
    "\n",
    "Review sets (`set`) and lists (`list`) in Python.\n",
    "\n",
    "\n",
    "#### Instructions\n",
    "1. Create a function which takes two lists as inputs\n",
    "2. Return a <ins>**set**</ins> of values which are not present in both the lists. (If a value is present in only one list, then it should be included)\n",
    "3. Name the function `get_values_not_in_both_lists`"
   ]
  },
  {
   "cell_type": "code",
   "execution_count": null,
   "metadata": {
    "id": "vOrOBmR67GIM"
   },
   "outputs": [],
   "source": []
  },
  {
   "cell_type": "markdown",
   "metadata": {
    "id": "7O_lywF97GIM"
   },
   "source": [
    "Save your solution to `solution_2_25.py`"
   ]
  },
  {
   "cell_type": "code",
   "execution_count": null,
   "metadata": {
    "id": "xwHw8mRg7GIM"
   },
   "outputs": [],
   "source": [
    "%%writefile solution_2_25.py\n",
    "\n",
    "### your code here\n"
   ]
  },
  {
   "cell_type": "markdown",
   "metadata": {},
   "source": [
    "Try it out:"
   ]
  },
  {
   "cell_type": "code",
   "execution_count": null,
   "metadata": {},
   "outputs": [],
   "source": [
    "from solution_2_25 import get_values_not_in_both_lists\n",
    "list1 = [\"a\", \"b\", \"c\", \"d\"]\n",
    "list2 = [\"c\", \"d\", \"e\", \"f\"]\n",
    "words_set = get_values_not_in_both_lists(list1, list2)\n",
    "print(words_set)"
   ]
  },
  {
   "cell_type": "markdown",
   "metadata": {
    "id": "u3q_E_9R7GIM"
   },
   "source": [
    "# Testing"
   ]
  },
  {
   "cell_type": "code",
   "execution_count": null,
   "metadata": {
    "id": "kL1ql02G7GIM"
   },
   "outputs": [],
   "source": [
    "%%sh\n",
    "python3 -m pytest"
   ]
  },
  {
   "cell_type": "markdown",
   "metadata": {},
   "source": [
    "If everything works out you should see:\n",
    "```\n",
    "============================= test session starts ==============================\n",
    "platform linux -- Python 3.8.6, pytest-6.2.2, py-1.10.0, pluggy-0.13.1\n",
    "rootdir: /home/pmolnar/IFI8410F23/IFI8410F23_private/HW2\n",
    "plugins: anyio-2.0.2\n",
    "collected 25 items\n",
    "\n",
    "test/test_2_1.py .                                                       [  4%]\n",
    "test/test_2_10.py .                                                      [  8%]\n",
    "test/test_2_11.py .                                                      [ 12%]\n",
    "test/test_2_12.py .                                                      [ 16%]\n",
    "test/test_2_13.py .                                                      [ 20%]\n",
    "test/test_2_14.py .                                                      [ 24%]\n",
    "test/test_2_15.py .                                                      [ 28%]\n",
    "test/test_2_16.py .                                                      [ 32%]\n",
    "test/test_2_17.py .                                                      [ 36%]\n",
    "test/test_2_18.py .                                                      [ 40%]\n",
    "test/test_2_19.py .                                                      [ 44%]\n",
    "test/test_2_2.py .                                                       [ 48%]\n",
    "test/test_2_20.py .                                                      [ 52%]\n",
    "test/test_2_21.py .                                                      [ 56%]\n",
    "test/test_2_22.py .                                                      [ 60%]\n",
    "test/test_2_23.py .                                                      [ 64%]\n",
    "test/test_2_24.py .                                                      [ 68%]\n",
    "test/test_2_25.py .                                                      [ 72%]\n",
    "test/test_2_3.py .                                                       [ 76%]\n",
    "test/test_2_4.py .                                                       [ 80%]\n",
    "test/test_2_5.py .                                                       [ 84%]\n",
    "test/test_2_6.py .                                                       [ 88%]\n",
    "test/test_2_7.py .                                                       [ 92%]\n",
    "test/test_2_8.py .                                                       [ 96%]\n",
    "test/test_2_9.py .                                                       [100%]\n",
    "\n",
    "============================== 25 passed in 0.56s ==============================\n",
    "```"
   ]
  },
  {
   "cell_type": "markdown",
   "metadata": {
    "id": "O79RZJZD7GIM"
   },
   "source": [
    "# Homework Submission\n",
    "- This homework is due by **Sept 13, 2023**, 5:30PM (EDT)\n",
    "- Make sure that all your programs and output files are in the exact folder as specified in the instructions.\n",
    "- All file names on this system are case sensitive. Verify if you copy your work from a local computer to your home directory on ARC.\n",
    "- No further action is need to submit your assignment."
   ]
  },
  {
   "cell_type": "code",
   "execution_count": null,
   "metadata": {
    "id": "CSfHxlwp7GIN"
   },
   "outputs": [],
   "source": []
  }
 ],
 "metadata": {
  "colab": {
   "provenance": []
  },
  "kernelspec": {
   "display_name": "Python 3",
   "language": "python",
   "name": "python3"
  },
  "language_info": {
   "codemirror_mode": {
    "name": "ipython",
    "version": 3
   },
   "file_extension": ".py",
   "mimetype": "text/x-python",
   "name": "python",
   "nbconvert_exporter": "python",
   "pygments_lexer": "ipython3",
   "version": "3.8.6"
  }
 },
 "nbformat": 4,
 "nbformat_minor": 4
}
