{
 "cells": [
  {
   "cell_type": "markdown",
   "metadata": {},
   "source": [
    "<script>\n",
    "var css = '.container { width: 100% !important; padding-left: 1em; padding-right: 2em; } div.output_stderr { background: #FFA; }',\n",
    "    head = document.head || document.getElementsByTagName('head')[0],\n",
    "    style = document.createElement('style');\n",
    "\n",
    "style.type = 'text/css';\n",
    "if (style.styleSheet){\n",
    "  style.styleSheet.cssText = css;\n",
    "} else {\n",
    "  style.appendChild(document.createTextNode(css));\n",
    "}\n",
    "\n",
    "head.appendChild(style);\n",
    "</script>"
   ]
  },
  {
   "cell_type": "code",
   "execution_count": 1,
   "metadata": {
    "collapsed": false,
    "jupyter": {
     "outputs_hidden": false
    }
   },
   "outputs": [],
   "source": [
    "# %load nbheader.py\n",
    "%reload_ext autoreload\n",
    "%autoreload 2\n",
    "from typing import List, Tuple, Dict, Any, Union\n",
    "import sys\n",
    "import os\n",
    "import re\n",
    "import json\n",
    "import datetime\n",
    "import numpy as np\n",
    "import pandas as pd\n",
    "settings = {\n",
    "    'max_columns': 50,\n",
    "    'max_colwidth': 100,\n",
    "    # 'min_rows':40,\n",
    "    'max_rows': 200,\n",
    "    'precision': 3,\n",
    "    # 'float_format': lambda x: f'${x:,.2f}',\n",
    "    }\n",
    "for option, value in settings.items():\n",
    "    pd.set_option(\"display.{}\".format(option), value)\n",
    "import matplotlib.pyplot as plt\n",
    "\n"
   ]
  },
  {
   "cell_type": "markdown",
   "metadata": {},
   "source": [
    "# Decision Tree\n",
    "Let's see how well a decision tree can classify the data. Hereby we need to consider\n",
    "1. the parameters to the classifier, and\n",
    "2. the features of the data set that will be used.\n",
    "We may just explore the impact of the maximum depth of the decision tree. Two of the 16 features ('day' and 'month') may not be useful because they reflect a date, and we're not looking for seasonal effects. So, it's fairly safe to take them out.\n",
    "\n",
    "Once the dataset is loaded we will convert the categorical data into numeric values.\n",
    "\n",
    "Finding the right parameters and features for the best performing classifier can be a challenge. The number of possible configurations grows quickly, and knowing how they perform requires training and testing with each of them.\n",
    "\n",
    "We may also run the training and testing on a configuration multiple times with different random splits of the data set. The performance metrics will be avaraged over the iterations.\n",
    "\n",
    "We use percision, recall, and the F1 score to evaluate each configuration.\n"
   ]
  },
  {
   "cell_type": "code",
   "execution_count": 2,
   "metadata": {},
   "outputs": [],
   "source": [
    "### Load Packages\n",
    "import numpy as np\n",
    "import pandas as pd\n",
    "import matplotlib.pyplot as plt\n",
    "from sklearn.model_selection import train_test_split\n",
    "from sklearn.tree import DecisionTreeClassifier\n",
    "import sklearn.tree\n",
    "# import pydot_ng as pdot\n",
    "from sklearn.metrics import confusion_matrix\n",
    "from sklearn.metrics import classification_report\n",
    "from sklearn.metrics import precision_recall_fscore_support\n",
    "import itertools"
   ]
  },
  {
   "cell_type": "markdown",
   "metadata": {},
   "source": [
    "## Reading Data"
   ]
  },
  {
   "cell_type": "code",
   "execution_count": 3,
   "metadata": {},
   "outputs": [
    {
     "name": "stdout",
     "output_type": "stream",
     "text": [
      "total 11244\n",
      "-rw-rw-r--. 1 pmolnar    1999     271 Oct 20  2016 README.txt\n",
      "-rw-r--r--. 1 pmolnar pmolnar 5834924 Mar 26  2014 bank-additional-full.csv\n",
      "-rw-r--r--. 1 pmolnar pmolnar    5458 Mar 26  2014 bank-additional-names.txt\n",
      "-rw-r--r--. 1 pmolnar pmolnar  583898 Mar 26  2014 bank-additional.csv\n",
      "-rw-r--r--. 1 pmolnar    1999 4610348 Feb 14  2012 bank-full.csv\n",
      "-rw-r--r--. 1 pmolnar    1999    3864 Feb 14  2012 bank-names.txt\n",
      "-rw-r--r--. 1 pmolnar    1999  461474 Feb 14  2012 bank.csv\n"
     ]
    }
   ],
   "source": [
    "! ls -l /data/archive.ics.uci.edu/BankMarketing"
   ]
  },
  {
   "cell_type": "code",
   "execution_count": 4,
   "metadata": {},
   "outputs": [],
   "source": [
    "### Read data\n",
    "DATAFILE = '/data/archive.ics.uci.edu/BankMarketing/bank.csv'\n",
    "df = pd.read_csv(DATAFILE, sep=';')"
   ]
  },
  {
   "cell_type": "code",
   "execution_count": 38,
   "metadata": {},
   "outputs": [
    {
     "data": {
      "text/html": [
       "<div>\n",
       "<style scoped>\n",
       "    .dataframe tbody tr th:only-of-type {\n",
       "        vertical-align: middle;\n",
       "    }\n",
       "\n",
       "    .dataframe tbody tr th {\n",
       "        vertical-align: top;\n",
       "    }\n",
       "\n",
       "    .dataframe thead th {\n",
       "        text-align: right;\n",
       "    }\n",
       "</style>\n",
       "<table border=\"1\" class=\"dataframe\">\n",
       "  <thead>\n",
       "    <tr style=\"text-align: right;\">\n",
       "      <th></th>\n",
       "      <th>count</th>\n",
       "      <th>unique</th>\n",
       "      <th>top</th>\n",
       "      <th>freq</th>\n",
       "      <th>mean</th>\n",
       "      <th>std</th>\n",
       "      <th>min</th>\n",
       "      <th>25%</th>\n",
       "      <th>50%</th>\n",
       "      <th>75%</th>\n",
       "      <th>max</th>\n",
       "    </tr>\n",
       "  </thead>\n",
       "  <tbody>\n",
       "    <tr>\n",
       "      <th>age</th>\n",
       "      <td>4521.0</td>\n",
       "      <td>NaN</td>\n",
       "      <td>NaN</td>\n",
       "      <td>NaN</td>\n",
       "      <td>41.17</td>\n",
       "      <td>10.576</td>\n",
       "      <td>19.0</td>\n",
       "      <td>33.0</td>\n",
       "      <td>39.0</td>\n",
       "      <td>49.0</td>\n",
       "      <td>87.0</td>\n",
       "    </tr>\n",
       "    <tr>\n",
       "      <th>job</th>\n",
       "      <td>4521</td>\n",
       "      <td>12</td>\n",
       "      <td>management</td>\n",
       "      <td>969</td>\n",
       "      <td>NaN</td>\n",
       "      <td>NaN</td>\n",
       "      <td>NaN</td>\n",
       "      <td>NaN</td>\n",
       "      <td>NaN</td>\n",
       "      <td>NaN</td>\n",
       "      <td>NaN</td>\n",
       "    </tr>\n",
       "    <tr>\n",
       "      <th>marital</th>\n",
       "      <td>4521</td>\n",
       "      <td>3</td>\n",
       "      <td>married</td>\n",
       "      <td>2797</td>\n",
       "      <td>NaN</td>\n",
       "      <td>NaN</td>\n",
       "      <td>NaN</td>\n",
       "      <td>NaN</td>\n",
       "      <td>NaN</td>\n",
       "      <td>NaN</td>\n",
       "      <td>NaN</td>\n",
       "    </tr>\n",
       "    <tr>\n",
       "      <th>education</th>\n",
       "      <td>4521</td>\n",
       "      <td>4</td>\n",
       "      <td>secondary</td>\n",
       "      <td>2306</td>\n",
       "      <td>NaN</td>\n",
       "      <td>NaN</td>\n",
       "      <td>NaN</td>\n",
       "      <td>NaN</td>\n",
       "      <td>NaN</td>\n",
       "      <td>NaN</td>\n",
       "      <td>NaN</td>\n",
       "    </tr>\n",
       "    <tr>\n",
       "      <th>default</th>\n",
       "      <td>4521</td>\n",
       "      <td>2</td>\n",
       "      <td>no</td>\n",
       "      <td>4445</td>\n",
       "      <td>NaN</td>\n",
       "      <td>NaN</td>\n",
       "      <td>NaN</td>\n",
       "      <td>NaN</td>\n",
       "      <td>NaN</td>\n",
       "      <td>NaN</td>\n",
       "      <td>NaN</td>\n",
       "    </tr>\n",
       "    <tr>\n",
       "      <th>balance</th>\n",
       "      <td>4521.0</td>\n",
       "      <td>NaN</td>\n",
       "      <td>NaN</td>\n",
       "      <td>NaN</td>\n",
       "      <td>1422.658</td>\n",
       "      <td>3009.638</td>\n",
       "      <td>-3313.0</td>\n",
       "      <td>69.0</td>\n",
       "      <td>444.0</td>\n",
       "      <td>1480.0</td>\n",
       "      <td>71188.0</td>\n",
       "    </tr>\n",
       "    <tr>\n",
       "      <th>housing</th>\n",
       "      <td>4521</td>\n",
       "      <td>2</td>\n",
       "      <td>yes</td>\n",
       "      <td>2559</td>\n",
       "      <td>NaN</td>\n",
       "      <td>NaN</td>\n",
       "      <td>NaN</td>\n",
       "      <td>NaN</td>\n",
       "      <td>NaN</td>\n",
       "      <td>NaN</td>\n",
       "      <td>NaN</td>\n",
       "    </tr>\n",
       "    <tr>\n",
       "      <th>loan</th>\n",
       "      <td>4521</td>\n",
       "      <td>2</td>\n",
       "      <td>no</td>\n",
       "      <td>3830</td>\n",
       "      <td>NaN</td>\n",
       "      <td>NaN</td>\n",
       "      <td>NaN</td>\n",
       "      <td>NaN</td>\n",
       "      <td>NaN</td>\n",
       "      <td>NaN</td>\n",
       "      <td>NaN</td>\n",
       "    </tr>\n",
       "    <tr>\n",
       "      <th>contact</th>\n",
       "      <td>4521</td>\n",
       "      <td>3</td>\n",
       "      <td>cellular</td>\n",
       "      <td>2896</td>\n",
       "      <td>NaN</td>\n",
       "      <td>NaN</td>\n",
       "      <td>NaN</td>\n",
       "      <td>NaN</td>\n",
       "      <td>NaN</td>\n",
       "      <td>NaN</td>\n",
       "      <td>NaN</td>\n",
       "    </tr>\n",
       "    <tr>\n",
       "      <th>day</th>\n",
       "      <td>4521.0</td>\n",
       "      <td>NaN</td>\n",
       "      <td>NaN</td>\n",
       "      <td>NaN</td>\n",
       "      <td>15.915</td>\n",
       "      <td>8.248</td>\n",
       "      <td>1.0</td>\n",
       "      <td>9.0</td>\n",
       "      <td>16.0</td>\n",
       "      <td>21.0</td>\n",
       "      <td>31.0</td>\n",
       "    </tr>\n",
       "    <tr>\n",
       "      <th>month</th>\n",
       "      <td>4521</td>\n",
       "      <td>12</td>\n",
       "      <td>may</td>\n",
       "      <td>1398</td>\n",
       "      <td>NaN</td>\n",
       "      <td>NaN</td>\n",
       "      <td>NaN</td>\n",
       "      <td>NaN</td>\n",
       "      <td>NaN</td>\n",
       "      <td>NaN</td>\n",
       "      <td>NaN</td>\n",
       "    </tr>\n",
       "    <tr>\n",
       "      <th>duration</th>\n",
       "      <td>4521.0</td>\n",
       "      <td>NaN</td>\n",
       "      <td>NaN</td>\n",
       "      <td>NaN</td>\n",
       "      <td>263.961</td>\n",
       "      <td>259.857</td>\n",
       "      <td>4.0</td>\n",
       "      <td>104.0</td>\n",
       "      <td>185.0</td>\n",
       "      <td>329.0</td>\n",
       "      <td>3025.0</td>\n",
       "    </tr>\n",
       "    <tr>\n",
       "      <th>campaign</th>\n",
       "      <td>4521.0</td>\n",
       "      <td>NaN</td>\n",
       "      <td>NaN</td>\n",
       "      <td>NaN</td>\n",
       "      <td>2.794</td>\n",
       "      <td>3.11</td>\n",
       "      <td>1.0</td>\n",
       "      <td>1.0</td>\n",
       "      <td>2.0</td>\n",
       "      <td>3.0</td>\n",
       "      <td>50.0</td>\n",
       "    </tr>\n",
       "    <tr>\n",
       "      <th>pdays</th>\n",
       "      <td>4521.0</td>\n",
       "      <td>NaN</td>\n",
       "      <td>NaN</td>\n",
       "      <td>NaN</td>\n",
       "      <td>39.767</td>\n",
       "      <td>100.121</td>\n",
       "      <td>-1.0</td>\n",
       "      <td>-1.0</td>\n",
       "      <td>-1.0</td>\n",
       "      <td>-1.0</td>\n",
       "      <td>871.0</td>\n",
       "    </tr>\n",
       "    <tr>\n",
       "      <th>previous</th>\n",
       "      <td>4521.0</td>\n",
       "      <td>NaN</td>\n",
       "      <td>NaN</td>\n",
       "      <td>NaN</td>\n",
       "      <td>0.543</td>\n",
       "      <td>1.694</td>\n",
       "      <td>0.0</td>\n",
       "      <td>0.0</td>\n",
       "      <td>0.0</td>\n",
       "      <td>0.0</td>\n",
       "      <td>25.0</td>\n",
       "    </tr>\n",
       "    <tr>\n",
       "      <th>poutcome</th>\n",
       "      <td>4521</td>\n",
       "      <td>4</td>\n",
       "      <td>unknown</td>\n",
       "      <td>3705</td>\n",
       "      <td>NaN</td>\n",
       "      <td>NaN</td>\n",
       "      <td>NaN</td>\n",
       "      <td>NaN</td>\n",
       "      <td>NaN</td>\n",
       "      <td>NaN</td>\n",
       "      <td>NaN</td>\n",
       "    </tr>\n",
       "    <tr>\n",
       "      <th>y</th>\n",
       "      <td>4521</td>\n",
       "      <td>2</td>\n",
       "      <td>no</td>\n",
       "      <td>4000</td>\n",
       "      <td>NaN</td>\n",
       "      <td>NaN</td>\n",
       "      <td>NaN</td>\n",
       "      <td>NaN</td>\n",
       "      <td>NaN</td>\n",
       "      <td>NaN</td>\n",
       "      <td>NaN</td>\n",
       "    </tr>\n",
       "  </tbody>\n",
       "</table>\n",
       "</div>"
      ],
      "text/plain": [
       "            count unique         top  freq      mean       std     min    25%  \\\n",
       "age        4521.0    NaN         NaN   NaN     41.17    10.576    19.0   33.0   \n",
       "job          4521     12  management   969       NaN       NaN     NaN    NaN   \n",
       "marital      4521      3     married  2797       NaN       NaN     NaN    NaN   \n",
       "education    4521      4   secondary  2306       NaN       NaN     NaN    NaN   \n",
       "default      4521      2          no  4445       NaN       NaN     NaN    NaN   \n",
       "balance    4521.0    NaN         NaN   NaN  1422.658  3009.638 -3313.0   69.0   \n",
       "housing      4521      2         yes  2559       NaN       NaN     NaN    NaN   \n",
       "loan         4521      2          no  3830       NaN       NaN     NaN    NaN   \n",
       "contact      4521      3    cellular  2896       NaN       NaN     NaN    NaN   \n",
       "day        4521.0    NaN         NaN   NaN    15.915     8.248     1.0    9.0   \n",
       "month        4521     12         may  1398       NaN       NaN     NaN    NaN   \n",
       "duration   4521.0    NaN         NaN   NaN   263.961   259.857     4.0  104.0   \n",
       "campaign   4521.0    NaN         NaN   NaN     2.794      3.11     1.0    1.0   \n",
       "pdays      4521.0    NaN         NaN   NaN    39.767   100.121    -1.0   -1.0   \n",
       "previous   4521.0    NaN         NaN   NaN     0.543     1.694     0.0    0.0   \n",
       "poutcome     4521      4     unknown  3705       NaN       NaN     NaN    NaN   \n",
       "y            4521      2          no  4000       NaN       NaN     NaN    NaN   \n",
       "\n",
       "             50%     75%      max  \n",
       "age         39.0    49.0     87.0  \n",
       "job          NaN     NaN      NaN  \n",
       "marital      NaN     NaN      NaN  \n",
       "education    NaN     NaN      NaN  \n",
       "default      NaN     NaN      NaN  \n",
       "balance    444.0  1480.0  71188.0  \n",
       "housing      NaN     NaN      NaN  \n",
       "loan         NaN     NaN      NaN  \n",
       "contact      NaN     NaN      NaN  \n",
       "day         16.0    21.0     31.0  \n",
       "month        NaN     NaN      NaN  \n",
       "duration   185.0   329.0   3025.0  \n",
       "campaign     2.0     3.0     50.0  \n",
       "pdays       -1.0    -1.0    871.0  \n",
       "previous     0.0     0.0     25.0  \n",
       "poutcome     NaN     NaN      NaN  \n",
       "y            NaN     NaN      NaN  "
      ]
     },
     "execution_count": 38,
     "metadata": {},
     "output_type": "execute_result"
    }
   ],
   "source": [
    "df.describe(include='all').T"
   ]
  },
  {
   "cell_type": "code",
   "execution_count": 5,
   "metadata": {
    "collapsed": false,
    "jupyter": {
     "outputs_hidden": false
    }
   },
   "outputs": [
    {
     "name": "stdout",
     "output_type": "stream",
     "text": [
      "All features:          duration, previous, month, marital, day, housing, job, age, balance, loan, campaign, contact, education, pdays, poutcome, default \n",
      "Numerical features:    duration, previous, campaign, day, pdays, age, balance \n",
      "Categorical features:  loan, month, marital, contact, education, poutcome, housing, job, default\n"
     ]
    }
   ],
   "source": [
    "### use sets and '-' difference operation 'A-B'. Also there is a symmetric different '^'\n",
    "all_features = set(df.columns)-set(['y'])\n",
    "num_features = set(df.describe().columns)\n",
    "cat_features = all_features-num_features\n",
    "print(\"All features:         \", \", \".join(all_features), \"\\nNumerical features:   \", \", \".join(num_features), \"\\nCategorical features: \", \", \".join(cat_features))"
   ]
  },
  {
   "cell_type": "code",
   "execution_count": 6,
   "metadata": {
    "scrolled": true
   },
   "outputs": [
    {
     "data": {
      "text/html": [
       "<div>\n",
       "<style scoped>\n",
       "    .dataframe tbody tr th:only-of-type {\n",
       "        vertical-align: middle;\n",
       "    }\n",
       "\n",
       "    .dataframe tbody tr th {\n",
       "        vertical-align: top;\n",
       "    }\n",
       "\n",
       "    .dataframe thead th {\n",
       "        text-align: right;\n",
       "    }\n",
       "</style>\n",
       "<table border=\"1\" class=\"dataframe\">\n",
       "  <thead>\n",
       "    <tr style=\"text-align: right;\">\n",
       "      <th></th>\n",
       "      <th>age</th>\n",
       "      <th>job</th>\n",
       "      <th>marital</th>\n",
       "      <th>education</th>\n",
       "      <th>default</th>\n",
       "      <th>balance</th>\n",
       "      <th>housing</th>\n",
       "      <th>loan</th>\n",
       "      <th>contact</th>\n",
       "      <th>day</th>\n",
       "      <th>month</th>\n",
       "      <th>duration</th>\n",
       "      <th>campaign</th>\n",
       "      <th>pdays</th>\n",
       "      <th>previous</th>\n",
       "      <th>poutcome</th>\n",
       "      <th>y</th>\n",
       "    </tr>\n",
       "  </thead>\n",
       "  <tbody>\n",
       "    <tr>\n",
       "      <th>0</th>\n",
       "      <td>30</td>\n",
       "      <td>0</td>\n",
       "      <td>0</td>\n",
       "      <td>0</td>\n",
       "      <td>0</td>\n",
       "      <td>1787</td>\n",
       "      <td>0</td>\n",
       "      <td>0</td>\n",
       "      <td>0</td>\n",
       "      <td>19</td>\n",
       "      <td>0</td>\n",
       "      <td>79</td>\n",
       "      <td>1</td>\n",
       "      <td>-1</td>\n",
       "      <td>0</td>\n",
       "      <td>0</td>\n",
       "      <td>0</td>\n",
       "    </tr>\n",
       "    <tr>\n",
       "      <th>1</th>\n",
       "      <td>33</td>\n",
       "      <td>1</td>\n",
       "      <td>0</td>\n",
       "      <td>1</td>\n",
       "      <td>0</td>\n",
       "      <td>4789</td>\n",
       "      <td>1</td>\n",
       "      <td>1</td>\n",
       "      <td>0</td>\n",
       "      <td>11</td>\n",
       "      <td>1</td>\n",
       "      <td>220</td>\n",
       "      <td>1</td>\n",
       "      <td>339</td>\n",
       "      <td>4</td>\n",
       "      <td>1</td>\n",
       "      <td>0</td>\n",
       "    </tr>\n",
       "    <tr>\n",
       "      <th>2</th>\n",
       "      <td>35</td>\n",
       "      <td>2</td>\n",
       "      <td>1</td>\n",
       "      <td>2</td>\n",
       "      <td>0</td>\n",
       "      <td>1350</td>\n",
       "      <td>1</td>\n",
       "      <td>0</td>\n",
       "      <td>0</td>\n",
       "      <td>16</td>\n",
       "      <td>2</td>\n",
       "      <td>185</td>\n",
       "      <td>1</td>\n",
       "      <td>330</td>\n",
       "      <td>1</td>\n",
       "      <td>1</td>\n",
       "      <td>0</td>\n",
       "    </tr>\n",
       "    <tr>\n",
       "      <th>3</th>\n",
       "      <td>30</td>\n",
       "      <td>2</td>\n",
       "      <td>0</td>\n",
       "      <td>2</td>\n",
       "      <td>0</td>\n",
       "      <td>1476</td>\n",
       "      <td>1</td>\n",
       "      <td>1</td>\n",
       "      <td>1</td>\n",
       "      <td>3</td>\n",
       "      <td>3</td>\n",
       "      <td>199</td>\n",
       "      <td>4</td>\n",
       "      <td>-1</td>\n",
       "      <td>0</td>\n",
       "      <td>0</td>\n",
       "      <td>0</td>\n",
       "    </tr>\n",
       "    <tr>\n",
       "      <th>4</th>\n",
       "      <td>59</td>\n",
       "      <td>3</td>\n",
       "      <td>0</td>\n",
       "      <td>1</td>\n",
       "      <td>0</td>\n",
       "      <td>0</td>\n",
       "      <td>1</td>\n",
       "      <td>0</td>\n",
       "      <td>1</td>\n",
       "      <td>5</td>\n",
       "      <td>1</td>\n",
       "      <td>226</td>\n",
       "      <td>1</td>\n",
       "      <td>-1</td>\n",
       "      <td>0</td>\n",
       "      <td>0</td>\n",
       "      <td>0</td>\n",
       "    </tr>\n",
       "  </tbody>\n",
       "</table>\n",
       "</div>"
      ],
      "text/plain": [
       "   age  job  marital  education  default  balance  housing  loan  contact  \\\n",
       "0   30    0        0          0        0     1787        0     0        0   \n",
       "1   33    1        0          1        0     4789        1     1        0   \n",
       "2   35    2        1          2        0     1350        1     0        0   \n",
       "3   30    2        0          2        0     1476        1     1        1   \n",
       "4   59    3        0          1        0        0        1     0        1   \n",
       "\n",
       "   day  month  duration  campaign  pdays  previous  poutcome  y  \n",
       "0   19      0        79         1     -1         0         0  0  \n",
       "1   11      1       220         1    339         4         1  0  \n",
       "2   16      2       185         1    330         1         1  0  \n",
       "3    3      3       199         4     -1         0         0  0  \n",
       "4    5      1       226         1     -1         0         0  0  "
      ]
     },
     "metadata": {},
     "output_type": "display_data"
    }
   ],
   "source": [
    "### convert to categorical variables to numeric ones\n",
    "level_substitution = {}\n",
    "\n",
    "def levels2index(levels):\n",
    "    dct = {}\n",
    "    for i in range(len(levels)):\n",
    "        dct[levels[i]] = i\n",
    "    return dct\n",
    "\n",
    "df_num = df.copy()\n",
    "\n",
    "for c in cat_features:\n",
    "    level_substitution[c] = levels2index(df[c].unique())\n",
    "    df_num[c].replace(level_substitution[c], inplace=True)\n",
    "\n",
    "## same for target\n",
    "df_num.y.replace({'no':0, 'yes':1}, inplace=True)\n",
    "display(df_num.head())"
   ]
  },
  {
   "cell_type": "code",
   "execution_count": null,
   "metadata": {},
   "outputs": [],
   "source": []
  },
  {
   "cell_type": "code",
   "execution_count": 7,
   "metadata": {
    "collapsed": false,
    "jupyter": {
     "outputs_hidden": false
    }
   },
   "outputs": [
    {
     "data": {
      "text/plain": [
       "(array([[ 79,   0,   0, ...,  -1,   0,   0],\n",
       "        [220,   4,   0, ..., 339,   1,   0],\n",
       "        [185,   1,   1, ..., 330,   1,   0],\n",
       "        ...,\n",
       "        [151,   0,   0, ...,  -1,   0,   0],\n",
       "        [129,   3,   0, ..., 211,   2,   0],\n",
       "        [345,   7,   1, ..., 249,   2,   0]]),\n",
       " array([0, 0, 0, ..., 0, 0, 0]))"
      ]
     },
     "execution_count": 7,
     "metadata": {},
     "output_type": "execute_result"
    }
   ],
   "source": [
    "### create feature matrix and target vector\n",
    "# X = df_num[list(all_features-set(['day', 'month']))].as_matrix()\n",
    "X = df_num[list(all_features-set(['day', 'month']))].values\n",
    "# y = df_num.y.as_matrix()\n",
    "y = df_num.y.values\n",
    "X, y"
   ]
  },
  {
   "cell_type": "markdown",
   "metadata": {},
   "source": [
    "## Evaluation\n",
    "Test how Maximum Depth of tree impacts performance"
   ]
  },
  {
   "cell_type": "code",
   "execution_count": 8,
   "metadata": {
    "collapsed": false,
    "jupyter": {
     "outputs_hidden": false
    }
   },
   "outputs": [
    {
     "name": "stdout",
     "output_type": "stream",
     "text": [
      "Depth 3\n",
      "              precision    recall  f1-score   support\n",
      "\n",
      "           0       0.93      0.97      0.95      1620\n",
      "           1       0.55      0.35      0.43       189\n",
      "\n",
      "    accuracy                           0.90      1809\n",
      "   macro avg       0.74      0.66      0.69      1809\n",
      "weighted avg       0.89      0.90      0.89      1809\n",
      "\n",
      "Depth 5\n",
      "              precision    recall  f1-score   support\n",
      "\n",
      "           0       0.93      0.96      0.94      1620\n",
      "           1       0.52      0.34      0.41       189\n",
      "\n",
      "    accuracy                           0.90      1809\n",
      "   macro avg       0.72      0.65      0.68      1809\n",
      "weighted avg       0.88      0.90      0.89      1809\n",
      "\n",
      "Depth 7\n",
      "              precision    recall  f1-score   support\n",
      "\n",
      "           0       0.92      0.96      0.94      1620\n",
      "           1       0.51      0.33      0.40       189\n",
      "\n",
      "    accuracy                           0.90      1809\n",
      "   macro avg       0.72      0.65      0.67      1809\n",
      "weighted avg       0.88      0.90      0.89      1809\n",
      "\n",
      "Depth 11\n",
      "              precision    recall  f1-score   support\n",
      "\n",
      "           0       0.93      0.94      0.93      1620\n",
      "           1       0.41      0.38      0.39       189\n",
      "\n",
      "    accuracy                           0.88      1809\n",
      "   macro avg       0.67      0.66      0.66      1809\n",
      "weighted avg       0.87      0.88      0.88      1809\n",
      "\n",
      "Depth 13\n",
      "              precision    recall  f1-score   support\n",
      "\n",
      "           0       0.93      0.92      0.92      1620\n",
      "           1       0.38      0.43      0.40       189\n",
      "\n",
      "    accuracy                           0.87      1809\n",
      "   macro avg       0.65      0.67      0.66      1809\n",
      "weighted avg       0.87      0.87      0.87      1809\n",
      "\n"
     ]
    }
   ],
   "source": [
    "for d in [3, 5, 7, 11, 13]:\n",
    "    clf = DecisionTreeClassifier(max_depth=d)\n",
    "    X_train, X_test, y_train, y_test = train_test_split(X, y, test_size=.4, random_state=42)\n",
    "    clf.fit(X_train, y_train)\n",
    "    ŷ = clf.predict(X_test)\n",
    "    print('Depth %d' % d)\n",
    "    print(classification_report(y_test, ŷ))"
   ]
  },
  {
   "cell_type": "markdown",
   "metadata": {},
   "source": [
    "Two methods from `sklearn.metrics` can be helpful:\n",
    "1. `confusion_matrix` produces a confusion matrix\n",
    "2. `precision_recall_fscore_support` returns a matrix with values for each of them across all target levels."
   ]
  },
  {
   "cell_type": "code",
   "execution_count": 9,
   "metadata": {
    "collapsed": false,
    "jupyter": {
     "outputs_hidden": false
    }
   },
   "outputs": [
    {
     "data": {
      "text/plain": [
       "array([[1486,  134],\n",
       "       [ 108,   81]])"
      ]
     },
     "execution_count": 9,
     "metadata": {},
     "output_type": "execute_result"
    }
   ],
   "source": [
    "cm = confusion_matrix(y_test, ŷ)\n",
    "cm"
   ]
  },
  {
   "cell_type": "code",
   "execution_count": 10,
   "metadata": {
    "collapsed": false,
    "jupyter": {
     "outputs_hidden": false
    }
   },
   "outputs": [
    {
     "data": {
      "text/plain": [
       "(array([0.93224592, 0.37674419]),\n",
       " array([0.91728395, 0.42857143]),\n",
       " array([0.92470442, 0.4009901 ]),\n",
       " array([1620,  189]))"
      ]
     },
     "execution_count": 10,
     "metadata": {},
     "output_type": "execute_result"
    }
   ],
   "source": [
    "prf1s = precision_recall_fscore_support(y_test, ŷ)\n",
    "prf1s"
   ]
  },
  {
   "cell_type": "code",
   "execution_count": 11,
   "metadata": {
    "collapsed": false,
    "jupyter": {
     "outputs_hidden": false
    },
    "scrolled": true
   },
   "outputs": [
    {
     "data": {
      "text/html": [
       "<div>\n",
       "<style scoped>\n",
       "    .dataframe tbody tr th:only-of-type {\n",
       "        vertical-align: middle;\n",
       "    }\n",
       "\n",
       "    .dataframe tbody tr th {\n",
       "        vertical-align: top;\n",
       "    }\n",
       "\n",
       "    .dataframe thead tr th {\n",
       "        text-align: left;\n",
       "    }\n",
       "</style>\n",
       "<table border=\"1\" class=\"dataframe\">\n",
       "  <thead>\n",
       "    <tr>\n",
       "      <th></th>\n",
       "      <th colspan=\"2\" halign=\"left\">Precision</th>\n",
       "      <th colspan=\"2\" halign=\"left\">Recall</th>\n",
       "      <th colspan=\"2\" halign=\"left\">F1_score</th>\n",
       "      <th colspan=\"2\" halign=\"left\">Support</th>\n",
       "    </tr>\n",
       "    <tr>\n",
       "      <th></th>\n",
       "      <th>no</th>\n",
       "      <th>yes</th>\n",
       "      <th>no</th>\n",
       "      <th>yes</th>\n",
       "      <th>no</th>\n",
       "      <th>yes</th>\n",
       "      <th>no</th>\n",
       "      <th>yes</th>\n",
       "    </tr>\n",
       "  </thead>\n",
       "  <tbody>\n",
       "    <tr>\n",
       "      <th>0</th>\n",
       "      <td>0.932</td>\n",
       "      <td>0.377</td>\n",
       "      <td>0.917</td>\n",
       "      <td>0.429</td>\n",
       "      <td>0.925</td>\n",
       "      <td>0.401</td>\n",
       "      <td>1620.0</td>\n",
       "      <td>189.0</td>\n",
       "    </tr>\n",
       "  </tbody>\n",
       "</table>\n",
       "</div>"
      ],
      "text/plain": [
       "  Precision        Recall        F1_score        Support       \n",
       "         no    yes     no    yes       no    yes      no    yes\n",
       "0     0.932  0.377  0.917  0.429    0.925  0.401  1620.0  189.0"
      ]
     },
     "execution_count": 11,
     "metadata": {},
     "output_type": "execute_result"
    }
   ],
   "source": [
    "perf = None\n",
    "for i in range(100):\n",
    "    if type(perf)!=type(None):\n",
    "        perf = np.vstack((perf, np.array(prf1s).reshape(1,8)))\n",
    "    else:\n",
    "        perf = np.array(prf1s).reshape(1,8)\n",
    "perf_agg = perf.mean(axis=0)\n",
    "pd.DataFrame(perf_agg.reshape(1,8), columns=[[b for a in ['Precision', 'Recall', 'F1_score', 'Support'] for b in [a, a]], ['no', 'yes']*4])\n",
    "##pd.DataFrame([5,5, 'a|b|c'] + list(perf.mean(axis=0)), columns=perf_df.columns)"
   ]
  },
  {
   "cell_type": "code",
   "execution_count": 12,
   "metadata": {
    "collapsed": false,
    "jupyter": {
     "outputs_hidden": false
    },
    "scrolled": true
   },
   "outputs": [
    {
     "data": {
      "text/html": [
       "<div>\n",
       "<style scoped>\n",
       "    .dataframe tbody tr th:only-of-type {\n",
       "        vertical-align: middle;\n",
       "    }\n",
       "\n",
       "    .dataframe tbody tr th {\n",
       "        vertical-align: top;\n",
       "    }\n",
       "\n",
       "    .dataframe thead tr th {\n",
       "        text-align: left;\n",
       "    }\n",
       "</style>\n",
       "<table border=\"1\" class=\"dataframe\">\n",
       "  <thead>\n",
       "    <tr>\n",
       "      <th></th>\n",
       "      <th colspan=\"3\" halign=\"left\">Params</th>\n",
       "      <th colspan=\"2\" halign=\"left\">Precision</th>\n",
       "      <th colspan=\"2\" halign=\"left\">Recall</th>\n",
       "      <th colspan=\"2\" halign=\"left\">F1_score</th>\n",
       "      <th colspan=\"2\" halign=\"left\">Support</th>\n",
       "    </tr>\n",
       "    <tr>\n",
       "      <th></th>\n",
       "      <th>MaxDepth</th>\n",
       "      <th>Nfeature</th>\n",
       "      <th>Features</th>\n",
       "      <th>no</th>\n",
       "      <th>yes</th>\n",
       "      <th>no</th>\n",
       "      <th>yes</th>\n",
       "      <th>no</th>\n",
       "      <th>yes</th>\n",
       "      <th>no</th>\n",
       "      <th>yes</th>\n",
       "    </tr>\n",
       "  </thead>\n",
       "  <tbody>\n",
       "    <tr>\n",
       "      <th>0</th>\n",
       "      <td>1</td>\n",
       "      <td>2</td>\n",
       "      <td>Hello</td>\n",
       "      <td>0.0</td>\n",
       "      <td>0.0</td>\n",
       "      <td>0.0</td>\n",
       "      <td>0.0</td>\n",
       "      <td>0.0</td>\n",
       "      <td>0.0</td>\n",
       "      <td>0.0</td>\n",
       "      <td>0.0</td>\n",
       "    </tr>\n",
       "  </tbody>\n",
       "</table>\n",
       "</div>"
      ],
      "text/plain": [
       "    Params                   Precision      Recall      F1_score      Support  \\\n",
       "  MaxDepth Nfeature Features        no  yes     no  yes       no  yes      no   \n",
       "0        1        2    Hello       0.0  0.0    0.0  0.0      0.0  0.0     0.0   \n",
       "\n",
       "        \n",
       "   yes  \n",
       "0  0.0  "
      ]
     },
     "execution_count": 12,
     "metadata": {},
     "output_type": "execute_result"
    }
   ],
   "source": [
    "performance_df = pd.DataFrame(columns=[\n",
    "        ['Params']*3 + [b for a in ['Precision', 'Recall', 'F1_score', 'Support'] for b in [a, a]],\n",
    "        ['MaxDepth', 'Nfeature', 'Features'] + ['no', 'yes']*4\n",
    "    ])\n",
    "tempdf = pd.concat([\n",
    "        pd.DataFrame({'a': [1], 'b': [2], 'c': ['Hello']}),\n",
    "        pd.DataFrame(np.zeros((1,8)))\n",
    "    ], axis=1, ignore_index=True)\n",
    "\n",
    "tempdf.columns=performance_df.columns\n",
    "#performance_df\n",
    "tempdf"
   ]
  },
  {
   "cell_type": "code",
   "execution_count": null,
   "metadata": {
    "collapsed": false,
    "jupyter": {
     "outputs_hidden": false
    }
   },
   "outputs": [],
   "source": [
    "pd.DataFrame(np.zeros(8).reshape(1,8))"
   ]
  },
  {
   "cell_type": "markdown",
   "metadata": {},
   "source": [
    "## The Heavy Lifting\n",
    "Now, let's run the performance evaluation across a number of configurations. We'll collect the results for each configuration into a dataframe."
   ]
  },
  {
   "cell_type": "code",
   "execution_count": 13,
   "metadata": {
    "collapsed": false,
    "jupyter": {
     "outputs_hidden": false
    }
   },
   "outputs": [
    {
     "data": {
      "text/html": [
       "<div>\n",
       "<style scoped>\n",
       "    .dataframe tbody tr th:only-of-type {\n",
       "        vertical-align: middle;\n",
       "    }\n",
       "\n",
       "    .dataframe tbody tr th {\n",
       "        vertical-align: top;\n",
       "    }\n",
       "\n",
       "    .dataframe thead tr th {\n",
       "        text-align: left;\n",
       "    }\n",
       "</style>\n",
       "<table border=\"1\" class=\"dataframe\">\n",
       "  <thead>\n",
       "    <tr>\n",
       "      <th></th>\n",
       "      <th colspan=\"3\" halign=\"left\">Params</th>\n",
       "      <th colspan=\"2\" halign=\"left\">Precision</th>\n",
       "      <th colspan=\"2\" halign=\"left\">Recall</th>\n",
       "      <th colspan=\"2\" halign=\"left\">F1_score</th>\n",
       "      <th colspan=\"2\" halign=\"left\">Support</th>\n",
       "    </tr>\n",
       "    <tr>\n",
       "      <th></th>\n",
       "      <th>MaxDepth</th>\n",
       "      <th>Nfeature</th>\n",
       "      <th>Features</th>\n",
       "      <th>no</th>\n",
       "      <th>yes</th>\n",
       "      <th>no</th>\n",
       "      <th>yes</th>\n",
       "      <th>no</th>\n",
       "      <th>yes</th>\n",
       "      <th>no</th>\n",
       "      <th>yes</th>\n",
       "    </tr>\n",
       "  </thead>\n",
       "  <tbody>\n",
       "  </tbody>\n",
       "</table>\n",
       "</div>"
      ],
      "text/plain": [
       "Empty DataFrame\n",
       "Columns: [(Params, MaxDepth), (Params, Nfeature), (Params, Features), (Precision, no), (Precision, yes), (Recall, no), (Recall, yes), (F1_score, no), (F1_score, yes), (Support, no), (Support, yes)]\n",
       "Index: []"
      ]
     },
     "execution_count": 13,
     "metadata": {},
     "output_type": "execute_result"
    }
   ],
   "source": [
    "# creating a template (i.e. empty table)\n",
    "performance_template_df = pd.DataFrame(columns= [\n",
    "        ['Params']*3 + [b for a in ['Precision', 'Recall', 'F1_score', 'Support'] for b in [a, a]],\n",
    "        ['MaxDepth', 'Nfeature', 'Features'] + ['no', 'yes']*4\n",
    "    ])\n",
    "performance_template_df"
   ]
  },
  {
   "cell_type": "markdown",
   "metadata": {},
   "source": [
    "The following code implements nested loops for MaxDepth, number and permutation of features. In addition, we have an internal loop to\n",
    "aggregate the performance metrics over a number of different random splits.\n",
    "\n",
    "The outer two loops, however, only iterate over one value each. The commmented code shows how they should run..."
   ]
  },
  {
   "cell_type": "code",
   "execution_count": 28,
   "metadata": {
    "collapsed": false,
    "jupyter": {
     "outputs_hidden": false
    },
    "scrolled": true
   },
   "outputs": [
    {
     "name": "stdout",
     "output_type": "stream",
     "text": [
      "Number of experiments: 3,003\n"
     ]
    }
   ],
   "source": [
    "## %%time\n",
    "best_clf = None\n",
    "best_perf_df = None\n",
    "performance_df = performance_template_df.copy() #-- always start fresh\n",
    "j = 0\n",
    "for MaxDepth in [5]: ###range(5,9):\n",
    "    for Nftr in [8]: ###[len(all_features) - k for k in range(len(all_features)-2))]:\n",
    "        for ftrs in itertools.combinations(all_features-set(['day', 'month']), Nftr):\n",
    "            # X = df_num[list(ftrs)].as_matrix()\n",
    "            X = df_num[list(ftrs)].values\n",
    "            clf = DecisionTreeClassifier(max_depth=MaxDepth)\n",
    "\n",
    "            perf_arr = None    #-- this array will hold results for different random samples\n",
    "            for i in range(3): ### running train and test on different random samples\n",
    "                j += 1 \n",
    "                # print(f\"Experiment #{j:2d}: MaxDepth={MaxDepth}, NumFeatures={Nftr}\")\n",
    "                X_train, X_test, y_train, y_test = train_test_split(X, y, test_size=.2, random_state=i)\n",
    "                clf.fit(X_train, y_train)\n",
    "                ŷ = clf.predict(X_test)\n",
    "                #Prec, Recall, F1, Supp \n",
    "                prf1s = precision_recall_fscore_support(y_test, ŷ, zero_division=np.nan)\n",
    "\n",
    "                ## \n",
    "                if type(perf_arr)!=type(None):\n",
    "                    perf_arr = np.vstack((perf, np.array(prf1s).reshape(1,8)))\n",
    "                else:\n",
    "                    perf_arr = np.array(prf1s).reshape(1,8)\n",
    "            perf_agg = perf_arr.mean(axis=0)  #-- mean over rows, for each column\n",
    "            perf_df = pd.concat([    #-- creating a 1 row dataframe is a bit tricky because of the different data types\n",
    "                        pd.DataFrame({'a': [MaxDepth], 'b': [Nftr], 'c': ['|'.join(list(ftrs))]}),\n",
    "                        pd.DataFrame(perf_agg.reshape(1, 8))\n",
    "                    ], axis=1, ignore_index=True)\n",
    "            perf_df.columns=performance_df.columns\n",
    "            if best_clf is None:\n",
    "                best_clf = clf\n",
    "                best_perf_df = perf_df\n",
    "            elif perf_df.F1_score.yes.values[0] > best_perf_df.F1_score.yes.values[0]:\n",
    "                best_clf = clf\n",
    "                best_perf_df = perf_df\n",
    "                \n",
    "            performance_df = pd.concat([performance_df, perf_df], ignore_index=True)\n",
    "            \n",
    "print(f\"Number of experiments: {performance_df.shape[0]:,}\")"
   ]
  },
  {
   "cell_type": "code",
   "execution_count": 27,
   "metadata": {},
   "outputs": [
    {
     "data": {
      "text/plain": [
       "0.4005842564454475"
      ]
     },
     "execution_count": 27,
     "metadata": {},
     "output_type": "execute_result"
    }
   ],
   "source": [
    "perf_df.F1_score.yes.values[0]"
   ]
  },
  {
   "cell_type": "code",
   "execution_count": 21,
   "metadata": {
    "collapsed": false,
    "jupyter": {
     "outputs_hidden": false
    },
    "scrolled": true
   },
   "outputs": [
    {
     "data": {
      "text/plain": [
       "(3003, 11)"
      ]
     },
     "execution_count": 21,
     "metadata": {},
     "output_type": "execute_result"
    }
   ],
   "source": [
    "performance_df.shape"
   ]
  },
  {
   "cell_type": "markdown",
   "metadata": {},
   "source": [
    "That took a while (about 2 minutes). Once computations take that long we should look at a different way to implement them ... ** outside the notebook **."
   ]
  },
  {
   "cell_type": "markdown",
   "metadata": {},
   "source": [
    "Let's see what the best performing configuration with respect to the F1-score of 'yes' is:"
   ]
  },
  {
   "cell_type": "code",
   "execution_count": 22,
   "metadata": {
    "collapsed": false,
    "jupyter": {
     "outputs_hidden": false
    }
   },
   "outputs": [
    {
     "name": "stdout",
     "output_type": "stream",
     "text": [
      "Params     MaxDepth                                                            5\n",
      "           Nfeature                                                            8\n",
      "           Features    duration|previous|marital|housing|job|loan|campaign|pdays\n",
      "Precision  no                                                              0.932\n",
      "           yes                                                             0.379\n",
      "Recall     no                                                              0.918\n",
      "           yes                                                             0.428\n",
      "F1_score   no                                                              0.925\n",
      "           yes                                                             0.402\n",
      "Support    no                                                            1612.02\n",
      "           yes                                                            188.03\n",
      "Name: 51, dtype: object\n",
      "\n",
      "Features:  \"duration\", \"previous\", \"marital\", \"housing\", \"job\", \"loan\", \"campaign\", \"pdays\"\n"
     ]
    }
   ],
   "source": [
    "best = performance_df.F1_score.yes.argmax()\n",
    "print(performance_df.iloc[best])\n",
    "print(\"\\nFeatures: \", ', '.join([ '\"%s\"'%f for f in performance_df.iloc[best].Params.Features.split('|') ], ))"
   ]
  },
  {
   "cell_type": "markdown",
   "metadata": {},
   "source": []
  },
  {
   "cell_type": "code",
   "execution_count": 32,
   "metadata": {},
   "outputs": [],
   "source": [
    "import pydot_ng\n",
    "from sklearn import tree"
   ]
  },
  {
   "cell_type": "code",
   "execution_count": 36,
   "metadata": {},
   "outputs": [
    {
     "data": {
      "image/png": "[encoded data removed]",
      "text/plain": [
       "<Figure size 1440x1440 with 1 Axes>"
      ]
     },
     "metadata": {
      "needs_background": "light"
     },
     "output_type": "display_data"
    }
   ],
   "source": [
    "plt.figure(figsize=(20, 20))\n",
    "tree.plot_tree(best_clf);"
   ]
  },
  {
   "cell_type": "code",
   "execution_count": null,
   "metadata": {},
   "outputs": [],
   "source": []
  },
  {
   "cell_type": "code",
   "execution_count": null,
   "metadata": {},
   "outputs": [],
   "source": []
  }
 ],
 "metadata": {
  "kernelspec": {
   "display_name": "Python 3",
   "language": "python",
   "name": "python3"
  },
  "language_info": {
   "codemirror_mode": {
    "name": "ipython",
    "version": 3
   },
   "file_extension": ".py",
   "mimetype": "text/x-python",
   "name": "python",
   "nbconvert_exporter": "python",
   "pygments_lexer": "ipython3",
   "version": "3.8.6"
  }
 },
 "nbformat": 4,
 "nbformat_minor": 4
}
