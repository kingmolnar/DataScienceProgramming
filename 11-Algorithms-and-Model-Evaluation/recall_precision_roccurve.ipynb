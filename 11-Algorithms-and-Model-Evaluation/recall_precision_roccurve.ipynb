{
 "cells": [
  {
   "cell_type": "code",
   "execution_count": null,
   "id": "3b7044d4-2801-4134-aecb-712f59ef0b88",
   "metadata": {},
   "outputs": [],
   "source": []
  },
  {
   "cell_type": "markdown",
   "id": "56e438e4-f189-4adc-90c5-ffff1772fb54",
   "metadata": {
    "jp-MarkdownHeadingCollapsed": true
   },
   "source": [
    "# Recall, Precision, PR Curve and ROC Curve Explained\n",
    "\n",
    "Sources:\n",
    "\n",
    "- Doug Steen, Precision-Recall Curves, https://medium.com/@douglaspsteen/precision-recall-curves-d32e5b290248\n",
    "\n",
    "- Juan C Olamendy, Choosing the Right Metrics: Recall, Precision, PR Curve and ROC Curve Explained, https://medium.com/@douglaspsteen/precision-recall-curves-d32e5b290248\n",
    "\n",
    "- Chris Kuo/Dr. Dataman, Revisiting the ROC and the Precision-Recall Curves, https://medium.com/dataman-in-ai/revisiting-the-roc-and-the-precision-recall-curves-f9c4975b1dd\n",
    "\n",
    "- Maria Gusarova, Understanding AUC — ROC and Precision-Recall Curves, https://medium.com/@data.science.enthusiast/auc-roc-curve-ae9180eaf4f7\n",
    "\n",
    "- Juan Esteban de la Calle, How and Why I Switched from the ROC Curve to the Precision-Recall Curve to Analyze My Imbalanced Models: A Deep Dive, https://juandelacalle.medium.com/how-and-why-i-switched-from-the-roc-curve-to-the-precision-recall-curve-to-analyze-my-imbalanced-6171da91c6b8\n"
   ]
  },
  {
   "cell_type": "code",
   "execution_count": null,
   "id": "4c9a6b86-d4b9-46a0-a421-dec322634aa5",
   "metadata": {},
   "outputs": [],
   "source": []
  },
  {
   "cell_type": "code",
   "execution_count": null,
   "id": "e7a9bd94-73a3-43e8-954a-50b77d40473f",
   "metadata": {},
   "outputs": [],
   "source": []
  },
  {
   "cell_type": "code",
   "execution_count": null,
   "id": "49cd63de-5283-4d02-b78f-1c7e0b5ada81",
   "metadata": {},
   "outputs": [],
   "source": []
  },
  {
   "cell_type": "code",
   "execution_count": null,
   "id": "2871f7b3-6270-4025-8e5a-7b8af78b171a",
   "metadata": {},
   "outputs": [],
   "source": []
  },
  {
   "cell_type": "code",
   "execution_count": null,
   "id": "f4bf976a-59fa-4c42-acd3-ed84f2ee886d",
   "metadata": {},
   "outputs": [],
   "source": []
  },
  {
   "cell_type": "code",
   "execution_count": null,
   "id": "26d86a4d-5cf6-471b-a259-ef19c2b4dfa3",
   "metadata": {},
   "outputs": [],
   "source": []
  },
  {
   "cell_type": "code",
   "execution_count": null,
   "id": "bc1a4af6-6a74-4a4c-8188-4b1318233ea8",
   "metadata": {},
   "outputs": [],
   "source": []
  },
  {
   "cell_type": "code",
   "execution_count": null,
   "id": "dea0c35c-3c1d-415b-9862-1d21933da80f",
   "metadata": {},
   "outputs": [],
   "source": []
  },
  {
   "cell_type": "code",
   "execution_count": null,
   "id": "ad171210-dd9f-4dde-a572-3f9a92d0f537",
   "metadata": {},
   "outputs": [],
   "source": []
  },
  {
   "cell_type": "code",
   "execution_count": null,
   "id": "acdeb9ab-9d12-491c-9492-a45040da71ce",
   "metadata": {},
   "outputs": [],
   "source": []
  }
 ],
 "metadata": {
  "kernelspec": {
   "display_name": "Python 3 (ipykernel)",
   "language": "python",
   "name": "python3"
  },
  "language_info": {
   "codemirror_mode": {
    "name": "ipython",
    "version": 3
   },
   "file_extension": ".py",
   "mimetype": "text/x-python",
   "name": "python",
   "nbconvert_exporter": "python",
   "pygments_lexer": "ipython3",
   "version": "3.8.6"
  }
 },
 "nbformat": 4,
 "nbformat_minor": 5
}
