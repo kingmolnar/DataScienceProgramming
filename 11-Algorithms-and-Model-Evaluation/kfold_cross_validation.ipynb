{
 "cells": [
  {
   "cell_type": "markdown",
   "id": "527a8a86a64818df",
   "metadata": {},
   "source": []
  },
  {
   "cell_type": "markdown",
   "id": "94796008dc35cb8b",
   "metadata": {},
   "source": [
    "# Comparing K-Fold Cross-Validation Methods: Strategies for Effective Model Evaluation in Diverse Data Scenarios\n",
    "\n",
    "Sources: \n",
    "- Sahel Eskandar, Comparing K-Fold Cross-Validation Methods: Strategies for Effective Model Evaluation in Diverse Data Scenarios, https://medium.com/@eskandar.sahel/comparing-k-fold-cross-validation-methods-strategies-for-effective-model-evaluation-in-diverse-2300b850df3e\n",
    "\n",
    "- Sahel Eskandar, Evaluating Machine Learning Models: A Guide to Selecting the Right Performance Assessment Method for Your Dataset and Task, https://medium.com/@eskandar.sahel/evaluating-machine-learning-models-a-guide-to-selecting-the-right-performance-assessment-method-a8f61ace557a\n",
    "\n",
    "- Debarshi Raj Basumatary, Implementing Linear Regression on California Housing Dataset, https://medium.com/@basumatary18/implementing-linear-regression-on-california-housing-dataset-378e14e421b7"
   ]
  },
  {
   "cell_type": "markdown",
   "id": "78b74a1ecd92529c",
   "metadata": {},
   "source": [
    "## Different types of k-fold cross validation depending on the dataset\n",
    "\n",
    "- **Regular K-Fold:** General-purpose, works well with balanced datasets\n",
    "- **Stratified K-Fold:** Preferred for classification problems with imbalanced datasets\n",
    "- **Time Series K-Fold:** Suitable for time series data\n",
    "- **Group K-Fold:** Useful when data has logical groupings that need to be considered"
   ]
  },
  {
   "cell_type": "code",
   "execution_count": 11,
   "id": "59019c1e236be5f5",
   "metadata": {},
   "outputs": [
    {
     "name": "stdout",
     "output_type": "stream",
     "text": [
      "/bin/bash: -c: line 0: syntax error near unexpected token `('\n",
      "/bin/bash: -c: line 0: `[alt text](kfold1.png 'k-fold cross validation')'\n"
     ]
    }
   ],
   "source": [
    "![alt text](kfold1.png 'k-fold cross validation')"
   ]
  },
  {
   "cell_type": "markdown",
   "id": "db83f347873f8233",
   "metadata": {},
   "source": [
    "**Regular K-Fold Cross-Validation:**\n",
    "   * Dataset is randomly partitioned into k equal-sized subsets or “folds.” \n",
    "   * The model is trained k times, with each fold being used as the testing set once; the remaining k-1 folds being used as the training set. \n",
    "   * The performance metrics from each fold are averaged to obtain a final performance estimate for the model. \n",
    "   * This method is simple and effective but may not work well when the data distribution is imbalanced or has a skewed class distribution.\n",
    "\n",
    "\n",
    "**Stratified K-Fold Cross-Validation:**\n",
    "  * This variation is designed to handle imbalanced datasets or those with a skewed class distribution. \n",
    "  * Each fold is made by preserving the same percentage of samples for each class as in the complete dataset\n",
    "    (each fold has a similar class distribution, leading to more accurate performance estimates). \n",
    "  * Stratified k-fold cross-validation is generally preferred when working with imbalanced datasets.\n",
    "\n",
    "\n",
    "**Time Series K-Fold Cross-Validation:**\n",
    "  * Time series data has a temporal ordering, and this should be preserved when performing cross-validation.\n",
    "  * The dataset is split into k folds, maintaining the temporal order of the data. \n",
    "  * In each iteration, the model is trained on the first n-1 folds and tested on the nth fold. \n",
    "  * Time series k-fold cross-validation prevents data leakage and provides more realistic performance estimates.\n",
    "\n",
    "\n",
    "**Group K-Fold Cross-Validation:**\n",
    "  * This method is suitable for datasets where there are logical groupings within the data. \n",
    "  * Data points are grouped based on these logical groupings. \n",
    "  * The folds are made such that each fold contains data from different groups. \n",
    "  * The model is evaluated on data from different groups. This prevents overfitting to any specific group."
   ]
  },
  {
   "cell_type": "markdown",
   "id": "e22fe39bfbae53f4",
   "metadata": {},
   "source": [
    "#### Necessary libraries:"
   ]
  },
  {
   "cell_type": "code",
   "execution_count": 2,
   "id": "edb7347b439d1676",
   "metadata": {
    "ExecuteTime": {
     "end_time": "2024-10-25T00:52:13.984461Z",
     "start_time": "2024-10-25T00:51:52.363035Z"
    }
   },
   "outputs": [],
   "source": [
    "import numpy as np\n",
    "import pandas as pd\n",
    "from sklearn import datasets\n",
    "from sklearn.model_selection import KFold, StratifiedKFold, TimeSeriesSplit, GroupKFold\n",
    "from sklearn.linear_model import LogisticRegression, LinearRegression\n",
    "from sklearn.metrics import accuracy_score, mean_squared_error"
   ]
  },
  {
   "cell_type": "markdown",
   "id": "ae7c729ca338ee3a",
   "metadata": {},
   "source": [
    "#### Regular K-Fold Cross-Validation:"
   ]
  },
  {
   "cell_type": "code",
   "execution_count": 8,
   "id": "436ab6fab3f54b68",
   "metadata": {
    "ExecuteTime": {
     "end_time": "2024-10-25T00:52:14.370588Z",
     "start_time": "2024-10-25T00:52:14.020095Z"
    }
   },
   "outputs": [
    {
     "name": "stdout",
     "output_type": "stream",
     "text": [
      "Regular K-Fold accuracies: ['1.000', '0.933', '0.433', '0.967', '0.433']\n"
     ]
    }
   ],
   "source": [
    "# Load the Iris dataset\n",
    "iris = datasets.load_iris()\n",
    "X, y = iris.data, iris.target\n",
    "\n",
    "# Create a logistic regression model\n",
    "model = LogisticRegression(solver='liblinear')\n",
    "\n",
    "# Apply regular K-Fold cross-validation\n",
    "kf = KFold(n_splits=5)\n",
    "accuracies = []\n",
    "\n",
    "for train_index, test_index in kf.split(X):\n",
    "    X_train, X_test = X[train_index], X[test_index]\n",
    "    y_train, y_test = y[train_index], y[test_index]\n",
    "\n",
    "    model.fit(X_train, y_train)\n",
    "    y_pred = model.predict(X_test)\n",
    "    accuracies.append(accuracy_score(y_test, y_pred))\n",
    "\n",
    "print(\"Regular K-Fold accuracies:\",  [f\"{accuracy:.3f}\" for accuracy in accuracies])"
   ]
  },
  {
   "cell_type": "code",
   "execution_count": null,
   "id": "e07debf31d8a8d93",
   "metadata": {
    "ExecuteTime": {
     "end_time": "2024-10-25T00:52:15.644263Z",
     "start_time": "2024-10-25T00:52:15.641551Z"
    }
   },
   "outputs": [],
   "source": []
  },
  {
   "cell_type": "markdown",
   "id": "fa40bc94b4abb011",
   "metadata": {},
   "source": [
    "#### Stratified K-Fold Cross-Validation: "
   ]
  },
  {
   "cell_type": "code",
   "execution_count": 9,
   "id": "3983aa55b4c01b4f",
   "metadata": {
    "ExecuteTime": {
     "end_time": "2024-10-25T00:52:15.704002Z",
     "start_time": "2024-10-25T00:52:15.677589Z"
    }
   },
   "outputs": [
    {
     "name": "stdout",
     "output_type": "stream",
     "text": [
      "Stratified K-Fold accuracies: ['1.000', '0.967', '0.933', '0.900', '1.000']\n"
     ]
    }
   ],
   "source": [
    "# Apply stratified K-Fold cross-validation\n",
    "skf = StratifiedKFold(n_splits=5)\n",
    "accuracies = []\n",
    "\n",
    "for train_index, test_index in skf.split(X, y):\n",
    "    X_train, X_test = X[train_index], X[test_index]\n",
    "    y_train, y_test = y[train_index], y[test_index]\n",
    "\n",
    "    model.fit(X_train, y_train)\n",
    "    y_pred = model.predict(X_test)\n",
    "    accuracies.append(accuracy_score(y_test, y_pred))\n",
    "\n",
    "print(\"Stratified K-Fold accuracies:\", [f\"{accuracy:.3f}\" for accuracy in accuracies])"
   ]
  },
  {
   "cell_type": "code",
   "execution_count": null,
   "id": "d963cb8c25635bfd",
   "metadata": {
    "ExecuteTime": {
     "end_time": "2024-10-25T00:52:15.986005Z",
     "start_time": "2024-10-25T00:52:15.982526Z"
    }
   },
   "outputs": [],
   "source": []
  },
  {
   "cell_type": "markdown",
   "id": "528671525798bb17",
   "metadata": {},
   "source": [
    "#### Time Series K-Fold Cross-Validation: "
   ]
  },
  {
   "cell_type": "code",
   "execution_count": 5,
   "id": "dd23cce37970a992",
   "metadata": {
    "ExecuteTime": {
     "end_time": "2024-10-25T00:52:16.163319Z",
     "start_time": "2024-10-25T00:52:16.159799Z"
    }
   },
   "outputs": [
    {
     "ename": "FileNotFoundError",
     "evalue": "[Errno 2] No such file or directory: '/data/IFI8410/sess11/cal_housing.csv'",
     "output_type": "error",
     "traceback": [
      "\u001B[0;31m---------------------------------------------------------------------------\u001B[0m",
      "\u001B[0;31mFileNotFoundError\u001B[0m                         Traceback (most recent call last)",
      "Cell \u001B[0;32mIn[5], line 6\u001B[0m\n\u001B[1;32m      1\u001B[0m \u001B[38;5;66;03m# Load a time series dataset (Boston housing)\u001B[39;00m\n\u001B[1;32m      2\u001B[0m \u001B[38;5;66;03m# from sklearn.datasets import fetch_california_housing\u001B[39;00m\n\u001B[1;32m      3\u001B[0m \u001B[38;5;66;03m# housing = fetch_california_housing(as_frame=True)\u001B[39;00m\n\u001B[1;32m      4\u001B[0m \u001B[38;5;66;03m# X, y = housing.data, housing.target\u001B[39;00m\n\u001B[0;32m----> 6\u001B[0m housing \u001B[38;5;241m=\u001B[39m \u001B[43mpd\u001B[49m\u001B[38;5;241;43m.\u001B[39;49m\u001B[43mread_csv\u001B[49m\u001B[43m(\u001B[49m\u001B[38;5;124;43m'\u001B[39;49m\u001B[38;5;124;43m/data/IFI8410/sess11/cal_housing.csv\u001B[39;49m\u001B[38;5;124;43m'\u001B[39;49m\u001B[43m)\u001B[49m\n\u001B[1;32m      7\u001B[0m X \u001B[38;5;241m=\u001B[39m housing\u001B[38;5;241m.\u001B[39miloc[:,:\u001B[38;5;241m-\u001B[39m\u001B[38;5;241m1\u001B[39m]\n\u001B[1;32m      8\u001B[0m y \u001B[38;5;241m=\u001B[39m housing\u001B[38;5;241m.\u001B[39miloc[:,\u001B[38;5;241m-\u001B[39m\u001B[38;5;241m1\u001B[39m]\n",
      "File \u001B[0;32m~/GSU_Fall2024/IFI8410/.venv_ifi8410/lib/python3.11/site-packages/pandas/io/parsers/readers.py:1026\u001B[0m, in \u001B[0;36mread_csv\u001B[0;34m(filepath_or_buffer, sep, delimiter, header, names, index_col, usecols, dtype, engine, converters, true_values, false_values, skipinitialspace, skiprows, skipfooter, nrows, na_values, keep_default_na, na_filter, verbose, skip_blank_lines, parse_dates, infer_datetime_format, keep_date_col, date_parser, date_format, dayfirst, cache_dates, iterator, chunksize, compression, thousands, decimal, lineterminator, quotechar, quoting, doublequote, escapechar, comment, encoding, encoding_errors, dialect, on_bad_lines, delim_whitespace, low_memory, memory_map, float_precision, storage_options, dtype_backend)\u001B[0m\n\u001B[1;32m   1013\u001B[0m kwds_defaults \u001B[38;5;241m=\u001B[39m _refine_defaults_read(\n\u001B[1;32m   1014\u001B[0m     dialect,\n\u001B[1;32m   1015\u001B[0m     delimiter,\n\u001B[0;32m   (...)\u001B[0m\n\u001B[1;32m   1022\u001B[0m     dtype_backend\u001B[38;5;241m=\u001B[39mdtype_backend,\n\u001B[1;32m   1023\u001B[0m )\n\u001B[1;32m   1024\u001B[0m kwds\u001B[38;5;241m.\u001B[39mupdate(kwds_defaults)\n\u001B[0;32m-> 1026\u001B[0m \u001B[38;5;28;01mreturn\u001B[39;00m \u001B[43m_read\u001B[49m\u001B[43m(\u001B[49m\u001B[43mfilepath_or_buffer\u001B[49m\u001B[43m,\u001B[49m\u001B[43m \u001B[49m\u001B[43mkwds\u001B[49m\u001B[43m)\u001B[49m\n",
      "File \u001B[0;32m~/GSU_Fall2024/IFI8410/.venv_ifi8410/lib/python3.11/site-packages/pandas/io/parsers/readers.py:620\u001B[0m, in \u001B[0;36m_read\u001B[0;34m(filepath_or_buffer, kwds)\u001B[0m\n\u001B[1;32m    617\u001B[0m _validate_names(kwds\u001B[38;5;241m.\u001B[39mget(\u001B[38;5;124m\"\u001B[39m\u001B[38;5;124mnames\u001B[39m\u001B[38;5;124m\"\u001B[39m, \u001B[38;5;28;01mNone\u001B[39;00m))\n\u001B[1;32m    619\u001B[0m \u001B[38;5;66;03m# Create the parser.\u001B[39;00m\n\u001B[0;32m--> 620\u001B[0m parser \u001B[38;5;241m=\u001B[39m \u001B[43mTextFileReader\u001B[49m\u001B[43m(\u001B[49m\u001B[43mfilepath_or_buffer\u001B[49m\u001B[43m,\u001B[49m\u001B[43m \u001B[49m\u001B[38;5;241;43m*\u001B[39;49m\u001B[38;5;241;43m*\u001B[39;49m\u001B[43mkwds\u001B[49m\u001B[43m)\u001B[49m\n\u001B[1;32m    622\u001B[0m \u001B[38;5;28;01mif\u001B[39;00m chunksize \u001B[38;5;129;01mor\u001B[39;00m iterator:\n\u001B[1;32m    623\u001B[0m     \u001B[38;5;28;01mreturn\u001B[39;00m parser\n",
      "File \u001B[0;32m~/GSU_Fall2024/IFI8410/.venv_ifi8410/lib/python3.11/site-packages/pandas/io/parsers/readers.py:1620\u001B[0m, in \u001B[0;36mTextFileReader.__init__\u001B[0;34m(self, f, engine, **kwds)\u001B[0m\n\u001B[1;32m   1617\u001B[0m     \u001B[38;5;28mself\u001B[39m\u001B[38;5;241m.\u001B[39moptions[\u001B[38;5;124m\"\u001B[39m\u001B[38;5;124mhas_index_names\u001B[39m\u001B[38;5;124m\"\u001B[39m] \u001B[38;5;241m=\u001B[39m kwds[\u001B[38;5;124m\"\u001B[39m\u001B[38;5;124mhas_index_names\u001B[39m\u001B[38;5;124m\"\u001B[39m]\n\u001B[1;32m   1619\u001B[0m \u001B[38;5;28mself\u001B[39m\u001B[38;5;241m.\u001B[39mhandles: IOHandles \u001B[38;5;241m|\u001B[39m \u001B[38;5;28;01mNone\u001B[39;00m \u001B[38;5;241m=\u001B[39m \u001B[38;5;28;01mNone\u001B[39;00m\n\u001B[0;32m-> 1620\u001B[0m \u001B[38;5;28mself\u001B[39m\u001B[38;5;241m.\u001B[39m_engine \u001B[38;5;241m=\u001B[39m \u001B[38;5;28;43mself\u001B[39;49m\u001B[38;5;241;43m.\u001B[39;49m\u001B[43m_make_engine\u001B[49m\u001B[43m(\u001B[49m\u001B[43mf\u001B[49m\u001B[43m,\u001B[49m\u001B[43m \u001B[49m\u001B[38;5;28;43mself\u001B[39;49m\u001B[38;5;241;43m.\u001B[39;49m\u001B[43mengine\u001B[49m\u001B[43m)\u001B[49m\n",
      "File \u001B[0;32m~/GSU_Fall2024/IFI8410/.venv_ifi8410/lib/python3.11/site-packages/pandas/io/parsers/readers.py:1880\u001B[0m, in \u001B[0;36mTextFileReader._make_engine\u001B[0;34m(self, f, engine)\u001B[0m\n\u001B[1;32m   1878\u001B[0m     \u001B[38;5;28;01mif\u001B[39;00m \u001B[38;5;124m\"\u001B[39m\u001B[38;5;124mb\u001B[39m\u001B[38;5;124m\"\u001B[39m \u001B[38;5;129;01mnot\u001B[39;00m \u001B[38;5;129;01min\u001B[39;00m mode:\n\u001B[1;32m   1879\u001B[0m         mode \u001B[38;5;241m+\u001B[39m\u001B[38;5;241m=\u001B[39m \u001B[38;5;124m\"\u001B[39m\u001B[38;5;124mb\u001B[39m\u001B[38;5;124m\"\u001B[39m\n\u001B[0;32m-> 1880\u001B[0m \u001B[38;5;28mself\u001B[39m\u001B[38;5;241m.\u001B[39mhandles \u001B[38;5;241m=\u001B[39m \u001B[43mget_handle\u001B[49m\u001B[43m(\u001B[49m\n\u001B[1;32m   1881\u001B[0m \u001B[43m    \u001B[49m\u001B[43mf\u001B[49m\u001B[43m,\u001B[49m\n\u001B[1;32m   1882\u001B[0m \u001B[43m    \u001B[49m\u001B[43mmode\u001B[49m\u001B[43m,\u001B[49m\n\u001B[1;32m   1883\u001B[0m \u001B[43m    \u001B[49m\u001B[43mencoding\u001B[49m\u001B[38;5;241;43m=\u001B[39;49m\u001B[38;5;28;43mself\u001B[39;49m\u001B[38;5;241;43m.\u001B[39;49m\u001B[43moptions\u001B[49m\u001B[38;5;241;43m.\u001B[39;49m\u001B[43mget\u001B[49m\u001B[43m(\u001B[49m\u001B[38;5;124;43m\"\u001B[39;49m\u001B[38;5;124;43mencoding\u001B[39;49m\u001B[38;5;124;43m\"\u001B[39;49m\u001B[43m,\u001B[49m\u001B[43m \u001B[49m\u001B[38;5;28;43;01mNone\u001B[39;49;00m\u001B[43m)\u001B[49m\u001B[43m,\u001B[49m\n\u001B[1;32m   1884\u001B[0m \u001B[43m    \u001B[49m\u001B[43mcompression\u001B[49m\u001B[38;5;241;43m=\u001B[39;49m\u001B[38;5;28;43mself\u001B[39;49m\u001B[38;5;241;43m.\u001B[39;49m\u001B[43moptions\u001B[49m\u001B[38;5;241;43m.\u001B[39;49m\u001B[43mget\u001B[49m\u001B[43m(\u001B[49m\u001B[38;5;124;43m\"\u001B[39;49m\u001B[38;5;124;43mcompression\u001B[39;49m\u001B[38;5;124;43m\"\u001B[39;49m\u001B[43m,\u001B[49m\u001B[43m \u001B[49m\u001B[38;5;28;43;01mNone\u001B[39;49;00m\u001B[43m)\u001B[49m\u001B[43m,\u001B[49m\n\u001B[1;32m   1885\u001B[0m \u001B[43m    \u001B[49m\u001B[43mmemory_map\u001B[49m\u001B[38;5;241;43m=\u001B[39;49m\u001B[38;5;28;43mself\u001B[39;49m\u001B[38;5;241;43m.\u001B[39;49m\u001B[43moptions\u001B[49m\u001B[38;5;241;43m.\u001B[39;49m\u001B[43mget\u001B[49m\u001B[43m(\u001B[49m\u001B[38;5;124;43m\"\u001B[39;49m\u001B[38;5;124;43mmemory_map\u001B[39;49m\u001B[38;5;124;43m\"\u001B[39;49m\u001B[43m,\u001B[49m\u001B[43m \u001B[49m\u001B[38;5;28;43;01mFalse\u001B[39;49;00m\u001B[43m)\u001B[49m\u001B[43m,\u001B[49m\n\u001B[1;32m   1886\u001B[0m \u001B[43m    \u001B[49m\u001B[43mis_text\u001B[49m\u001B[38;5;241;43m=\u001B[39;49m\u001B[43mis_text\u001B[49m\u001B[43m,\u001B[49m\n\u001B[1;32m   1887\u001B[0m \u001B[43m    \u001B[49m\u001B[43merrors\u001B[49m\u001B[38;5;241;43m=\u001B[39;49m\u001B[38;5;28;43mself\u001B[39;49m\u001B[38;5;241;43m.\u001B[39;49m\u001B[43moptions\u001B[49m\u001B[38;5;241;43m.\u001B[39;49m\u001B[43mget\u001B[49m\u001B[43m(\u001B[49m\u001B[38;5;124;43m\"\u001B[39;49m\u001B[38;5;124;43mencoding_errors\u001B[39;49m\u001B[38;5;124;43m\"\u001B[39;49m\u001B[43m,\u001B[49m\u001B[43m \u001B[49m\u001B[38;5;124;43m\"\u001B[39;49m\u001B[38;5;124;43mstrict\u001B[39;49m\u001B[38;5;124;43m\"\u001B[39;49m\u001B[43m)\u001B[49m\u001B[43m,\u001B[49m\n\u001B[1;32m   1888\u001B[0m \u001B[43m    \u001B[49m\u001B[43mstorage_options\u001B[49m\u001B[38;5;241;43m=\u001B[39;49m\u001B[38;5;28;43mself\u001B[39;49m\u001B[38;5;241;43m.\u001B[39;49m\u001B[43moptions\u001B[49m\u001B[38;5;241;43m.\u001B[39;49m\u001B[43mget\u001B[49m\u001B[43m(\u001B[49m\u001B[38;5;124;43m\"\u001B[39;49m\u001B[38;5;124;43mstorage_options\u001B[39;49m\u001B[38;5;124;43m\"\u001B[39;49m\u001B[43m,\u001B[49m\u001B[43m \u001B[49m\u001B[38;5;28;43;01mNone\u001B[39;49;00m\u001B[43m)\u001B[49m\u001B[43m,\u001B[49m\n\u001B[1;32m   1889\u001B[0m \u001B[43m\u001B[49m\u001B[43m)\u001B[49m\n\u001B[1;32m   1890\u001B[0m \u001B[38;5;28;01massert\u001B[39;00m \u001B[38;5;28mself\u001B[39m\u001B[38;5;241m.\u001B[39mhandles \u001B[38;5;129;01mis\u001B[39;00m \u001B[38;5;129;01mnot\u001B[39;00m \u001B[38;5;28;01mNone\u001B[39;00m\n\u001B[1;32m   1891\u001B[0m f \u001B[38;5;241m=\u001B[39m \u001B[38;5;28mself\u001B[39m\u001B[38;5;241m.\u001B[39mhandles\u001B[38;5;241m.\u001B[39mhandle\n",
      "File \u001B[0;32m~/GSU_Fall2024/IFI8410/.venv_ifi8410/lib/python3.11/site-packages/pandas/io/common.py:873\u001B[0m, in \u001B[0;36mget_handle\u001B[0;34m(path_or_buf, mode, encoding, compression, memory_map, is_text, errors, storage_options)\u001B[0m\n\u001B[1;32m    868\u001B[0m \u001B[38;5;28;01melif\u001B[39;00m \u001B[38;5;28misinstance\u001B[39m(handle, \u001B[38;5;28mstr\u001B[39m):\n\u001B[1;32m    869\u001B[0m     \u001B[38;5;66;03m# Check whether the filename is to be opened in binary mode.\u001B[39;00m\n\u001B[1;32m    870\u001B[0m     \u001B[38;5;66;03m# Binary mode does not support 'encoding' and 'newline'.\u001B[39;00m\n\u001B[1;32m    871\u001B[0m     \u001B[38;5;28;01mif\u001B[39;00m ioargs\u001B[38;5;241m.\u001B[39mencoding \u001B[38;5;129;01mand\u001B[39;00m \u001B[38;5;124m\"\u001B[39m\u001B[38;5;124mb\u001B[39m\u001B[38;5;124m\"\u001B[39m \u001B[38;5;129;01mnot\u001B[39;00m \u001B[38;5;129;01min\u001B[39;00m ioargs\u001B[38;5;241m.\u001B[39mmode:\n\u001B[1;32m    872\u001B[0m         \u001B[38;5;66;03m# Encoding\u001B[39;00m\n\u001B[0;32m--> 873\u001B[0m         handle \u001B[38;5;241m=\u001B[39m \u001B[38;5;28;43mopen\u001B[39;49m\u001B[43m(\u001B[49m\n\u001B[1;32m    874\u001B[0m \u001B[43m            \u001B[49m\u001B[43mhandle\u001B[49m\u001B[43m,\u001B[49m\n\u001B[1;32m    875\u001B[0m \u001B[43m            \u001B[49m\u001B[43mioargs\u001B[49m\u001B[38;5;241;43m.\u001B[39;49m\u001B[43mmode\u001B[49m\u001B[43m,\u001B[49m\n\u001B[1;32m    876\u001B[0m \u001B[43m            \u001B[49m\u001B[43mencoding\u001B[49m\u001B[38;5;241;43m=\u001B[39;49m\u001B[43mioargs\u001B[49m\u001B[38;5;241;43m.\u001B[39;49m\u001B[43mencoding\u001B[49m\u001B[43m,\u001B[49m\n\u001B[1;32m    877\u001B[0m \u001B[43m            \u001B[49m\u001B[43merrors\u001B[49m\u001B[38;5;241;43m=\u001B[39;49m\u001B[43merrors\u001B[49m\u001B[43m,\u001B[49m\n\u001B[1;32m    878\u001B[0m \u001B[43m            \u001B[49m\u001B[43mnewline\u001B[49m\u001B[38;5;241;43m=\u001B[39;49m\u001B[38;5;124;43m\"\u001B[39;49m\u001B[38;5;124;43m\"\u001B[39;49m\u001B[43m,\u001B[49m\n\u001B[1;32m    879\u001B[0m \u001B[43m        \u001B[49m\u001B[43m)\u001B[49m\n\u001B[1;32m    880\u001B[0m     \u001B[38;5;28;01melse\u001B[39;00m:\n\u001B[1;32m    881\u001B[0m         \u001B[38;5;66;03m# Binary mode\u001B[39;00m\n\u001B[1;32m    882\u001B[0m         handle \u001B[38;5;241m=\u001B[39m \u001B[38;5;28mopen\u001B[39m(handle, ioargs\u001B[38;5;241m.\u001B[39mmode)\n",
      "\u001B[0;31mFileNotFoundError\u001B[0m: [Errno 2] No such file or directory: '/data/IFI8410/sess11/cal_housing.csv'"
     ]
    }
   ],
   "source": [
    "# Load a time series dataset (Boston housing)\n",
    "# from sklearn.datasets import fetch_california_housing\n",
    "# housing = fetch_california_housing(as_frame=True)\n",
    "# X, y = housing.data, housing.target\n",
    "\n",
    "housing = pd.read_csv('/data/IFI8410/sess11/cal_housing.csv')\n",
    "X = housing.iloc[:,:-1]\n",
    "y = housing.iloc[:,-1]\n",
    "\n",
    "# Create a linear regression model\n",
    "model = LinearRegression()\n",
    "\n",
    "# Apply time series K-Fold cross-validation\n",
    "tscv = TimeSeriesSplit(n_splits=5)\n",
    "mse_values = []\n",
    "\n",
    "for train_index, test_index in tscv.split(X):\n",
    "    X_train, X_test = X[train_index], X[test_index]\n",
    "    y_train, y_test = y[train_index], y[test_index]\n",
    "\n",
    "    model.fit(X_train, y_train)\n",
    "    y_pred = model.predict(X_test)\n",
    "    mse_values.append(mean_squared_error(y_test, y_pred))\n",
    "\n",
    "mse_v = [f\"{mse_val:.3f}\" for mse_val in mse_values]\n",
    "print(\"Time Series K-Fold mean squared errors:\", mse_v)"
   ]
  },
  {
   "cell_type": "code",
   "execution_count": null,
   "id": "fa494d804a94838b",
   "metadata": {
    "ExecuteTime": {
     "end_time": "2024-10-25T00:52:16.449517Z",
     "start_time": "2024-10-25T00:52:16.446034Z"
    }
   },
   "outputs": [],
   "source": []
  },
  {
   "cell_type": "markdown",
   "id": "663d8054bc8d143c",
   "metadata": {},
   "source": [
    "#### Group K-Fold Cross-Validation: "
   ]
  },
  {
   "cell_type": "code",
   "execution_count": 7,
   "id": "7d41c8e1304626b1",
   "metadata": {
    "ExecuteTime": {
     "end_time": "2024-10-25T00:52:16.483353Z",
     "start_time": "2024-10-25T00:52:16.477969Z"
    }
   },
   "outputs": [
    {
     "name": "stdout",
     "output_type": "stream",
     "text": [
      "Group K-Fold accuracies: ['0.974', '0.971', '0.771', '0.971', '0.914']\n"
     ]
    }
   ],
   "source": [
    "# Load the Wine dataset\n",
    "wine = datasets.load_wine()\n",
    "X, y = wine.data, wine.target\n",
    "\n",
    "# Create a logistic regression model\n",
    "model = LogisticRegression(solver='liblinear')\n",
    "\n",
    "# Define groups based on the assumption that wines are sorted by producers\n",
    "groups = np.array([i // (len(X) // 5) for i in range(len(X))])\n",
    "\n",
    "# Apply group K-Fold cross-validation\n",
    "gkf = GroupKFold(n_splits=5)\n",
    "accuracies = []\n",
    "\n",
    "for train_index, test_index in gkf.split(X, y, groups):\n",
    "    X_train, X_test = X[train_index], X[test_index]\n",
    "    y_train, y_test = y[train_index], y[test_index]\n",
    "\n",
    "    model.fit(X_train, y_train)\n",
    "    y_pred = model.predict(X_test)\n",
    "    accuracies.append(accuracy_score(y_test, y_pred))\n",
    "\n",
    "print(\"Group K-Fold accuracies:\", [f\"{accuracy:.3f}\" for accuracy in accuracies])"
   ]
  },
  {
   "cell_type": "code",
   "execution_count": null,
   "id": "cb8a2b38478fb5f9",
   "metadata": {
    "ExecuteTime": {
     "end_time": "2024-10-25T00:52:16.514818Z",
     "start_time": "2024-10-25T00:52:16.511772Z"
    }
   },
   "outputs": [],
   "source": []
  },
  {
   "cell_type": "markdown",
   "id": "51e879e79e488967",
   "metadata": {},
   "source": [
    "## Evaluating Machine Learning Models: A Guide to Selecting the Right Performance Assessment Method for Your Dataset and Task"
   ]
  },
  {
   "cell_type": "markdown",
   "id": "a20f014908697f19",
   "metadata": {},
   "source": [
    "In addition to k-fold cross-validation, there are several other methods for assessing the performance of machine learning models:\n",
    "\n",
    "\n",
    "**Holdout Method:** \n",
    "* The dataset is split into two distinct subsets, one for training and one for testing (usually with a ratio like 70:30 or 80:20). \n",
    "* The model is trained on the training set and evaluated on the testing set. \n",
    "* This method is simple and fast but may lead to high variance in the performance estimates, especially when the dataset is small. \n",
    "* Use the holdout method when you have a large dataset and the evaluation speed is a concern.\n",
    "\n",
    "\n",
    "**Leave-One-Out Cross-Validation (LOOCV):** \n",
    "* This is a special case of k-fold cross-validation where k is equal to the number of data points. \n",
    "* In each iteration, one data point is used as the test set, and the remaining data points are used as the training set. \n",
    "* This method can provide low-bias performance estimates but is computationally expensive. \n",
    "* Use `LOOCV` when you have a small dataset, and the computational cost is not a concern.\n",
    "\n",
    "\n",
    "**Leave-P-Out Cross-Validation (LPOCV):** \n",
    "* A specific number of data points (p) are left out as the test set in each iteration, while the remaining data points are used for training. \n",
    "* This method is more computationally expensive than `LOOCV` but provides more reliable performance estimates. \n",
    "* Use `LPOCV` when you have a small dataset and you want to balance computational cost with performance estimation accuracy.\n",
    "\n",
    "\n",
    "**Repeated Random Subsampling (Monte Carlo Cross-Validation):** \n",
    "* This method involves randomly splitting the dataset into training, and testing sets multiple times, training the model on the training set, and evaluating it on the testing set. \n",
    "* The performance estimates from each split are averaged to provide a final performance estimate. \n",
    "* This method can provide more accurate performance estimates for small datasets.\n",
    "* It can lead to overlapping test sets. \n",
    "* Use repeated random subsampling when you have a small dataset and want to balance evaluation speed with performance estimation accuracy.\n",
    "\n",
    "\n",
    "**Bootstrapping:** \n",
    "* This method involves sampling with replacement from the original dataset to create multiple new datasets, each of the same size as the original dataset. \n",
    "* The model is trained and evaluated on each new dataset. \n",
    "* Bootstrapping can provide more accurate performance estimates for small datasets. \n",
    "* It may lead to overfitting due to resampling. \n",
    "* Use bootstrapping when you have a small dataset and want to estimate the performance with higher confidence."
   ]
  },
  {
   "cell_type": "code",
   "execution_count": 10,
   "id": "2a587430c1175f39",
   "metadata": {},
   "outputs": [
    {
     "name": "stdout",
     "output_type": "stream",
     "text": [
      "/bin/bash: -c: line 0: syntax error near unexpected token `('\n",
      "/bin/bash: -c: line 0: `[alt text](kfold2.png \"Splitting into train and test datasets\")'\n"
     ]
    }
   ],
   "source": [
    "![alt text](kfold2.png \"Splitting into train and test datasets\")"
   ]
  },
  {
   "cell_type": "code",
   "execution_count": null,
   "id": "32ec2ac2ae4b8a6f",
   "metadata": {},
   "outputs": [],
   "source": []
  },
  {
   "cell_type": "code",
   "execution_count": null,
   "id": "e25c0c3691ea8483",
   "metadata": {},
   "outputs": [],
   "source": [
    "import numpy as np\n",
    "from sklearn.datasets import load_iris\n",
    "from sklearn.linear_model import LogisticRegression\n",
    "from sklearn.model_selection import train_test_split, KFold, LeaveOneOut, LeavePOut, ShuffleSplit, cross_val_score\n",
    "from sklearn.metrics import accuracy_score\n",
    "from sklearn.utils import resample\n",
    "\n",
    "# Load the iris dataset\n",
    "data = load_iris()\n",
    "X, y = data.data, data.target\n",
    "\n",
    "# Create a logistic regression classifier\n",
    "clf = LogisticRegression(max_iter=1000)\n",
    "\n",
    "# Holdout Method\n",
    "X_train, X_test, y_train, y_test = train_test_split(X, y, test_size=0.3, random_state=42)\n",
    "clf.fit(X_train, y_train)\n",
    "y_pred = clf.predict(X_test)\n",
    "print(\"Holdout Method Accuracy: \", accuracy_score(y_test, y_pred))\n",
    "\n",
    "# K-Fold Cross-Validation\n",
    "k_fold = KFold(n_splits=5)\n",
    "cv_scores = cross_val_score(clf, X, y, cv=k_fold)\n",
    "print(\"K-Fold Cross-Validation Mean Accuracy: \", np.mean(cv_scores))\n",
    "\n",
    "# Leave-One-Out Cross-Validation\n",
    "loocv = LeaveOneOut()\n",
    "cv_scores = cross_val_score(clf, X, y, cv=loocv)\n",
    "print(\"Leave-One-Out Cross-Validation Mean Accuracy: \", np.mean(cv_scores))\n",
    "\n",
    "# Leave-P-Out Cross-Validation\n",
    "lpocv = LeavePOut(p=2)\n",
    "cv_scores = cross_val_score(clf, X, y, cv=lpocv)\n",
    "print(\"Leave-P-Out Cross-Validation Mean Accuracy: \", np.mean(cv_scores))\n",
    "\n",
    "# Repeated Random Subsampling (Monte Carlo Cross-Validation)\n",
    "ss = ShuffleSplit(n_splits=10, test_size=0.3, random_state=42)\n",
    "cv_scores = cross_val_score(clf, X, y, cv=ss)\n",
    "print(\"Repeated Random Subsampling Mean Accuracy: \", np.mean(cv_scores))\n",
    "\n",
    "# Bootstrapping\n",
    "n_iterations = 100\n",
    "n_size = int(len(X) * 0.7)\n",
    "bootstrap_scores = []\n",
    "\n",
    "for i in range(n_iterations):\n",
    "    X_resample, y_resample = resample(X, y, n_samples=n_size)\n",
    "    \n",
    "    # Convert the numpy arrays to lists\n",
    "    xy = [tuple(row) for row in np.column_stack((X, y))]\n",
    "    xy_resampled = [tuple(row) for row in np.column_stack((X_resample, y_resample))]\n",
    "    \n",
    "    # Find the test set by excluding resampled data points\n",
    "    test_indices = [i for i, pair in enumerate(xy) if pair not in xy_resampled]\n",
    "    X_test, y_test = X[test_indices], y[test_indices]\n",
    "    \n",
    "    clf.fit(X_resample, y_resample)\n",
    "    y_pred = clf.predict(X_test)\n",
    "    bootstrap_scores.append(accuracy_score(y_test, y_pred))\n",
    "print(\"Bootstrapping Mean Accuracy: \", np.mean(bootstrap_scores))"
   ]
  },
  {
   "cell_type": "code",
   "execution_count": null,
   "id": "a21dc098901396c5",
   "metadata": {},
   "outputs": [],
   "source": []
  },
  {
   "cell_type": "code",
   "execution_count": null,
   "id": "cfaee0c4907a44e4",
   "metadata": {},
   "outputs": [],
   "source": []
  },
  {
   "cell_type": "code",
   "execution_count": null,
   "id": "736b9beaee3a16b7",
   "metadata": {},
   "outputs": [],
   "source": []
  },
  {
   "cell_type": "code",
   "execution_count": null,
   "id": "2700b0c62f3fc866",
   "metadata": {},
   "outputs": [],
   "source": []
  },
  {
   "cell_type": "code",
   "execution_count": null,
   "id": "9cca455f31c148a",
   "metadata": {},
   "outputs": [],
   "source": []
  },
  {
   "cell_type": "code",
   "execution_count": null,
   "id": "c6d193724a867dba",
   "metadata": {
    "ExecuteTime": {
     "end_time": "2024-10-25T00:52:16.551454Z",
     "start_time": "2024-10-25T00:52:16.546769Z"
    }
   },
   "outputs": [],
   "source": []
  },
  {
   "cell_type": "code",
   "execution_count": null,
   "id": "c20a6ded7a104f66",
   "metadata": {
    "ExecuteTime": {
     "end_time": "2024-10-25T00:52:16.588832Z",
     "start_time": "2024-10-25T00:52:16.585630Z"
    }
   },
   "outputs": [],
   "source": []
  },
  {
   "cell_type": "code",
   "execution_count": null,
   "id": "74bbf4a32c10f20b",
   "metadata": {
    "ExecuteTime": {
     "end_time": "2024-10-25T00:52:16.645457Z",
     "start_time": "2024-10-25T00:52:16.642554Z"
    }
   },
   "outputs": [],
   "source": []
  },
  {
   "cell_type": "code",
   "execution_count": null,
   "id": "3601ae5407ee5176",
   "metadata": {
    "ExecuteTime": {
     "end_time": "2024-10-25T00:52:16.681924Z",
     "start_time": "2024-10-25T00:52:16.679025Z"
    }
   },
   "outputs": [],
   "source": []
  }
 ],
 "metadata": {
  "kernelspec": {
   "display_name": "Python 3 (ipykernel)",
   "language": "python",
   "name": "python3"
  },
  "language_info": {
   "codemirror_mode": {
    "name": "ipython",
    "version": 3
   },
   "file_extension": ".py",
   "mimetype": "text/x-python",
   "name": "python",
   "nbconvert_exporter": "python",
   "pygments_lexer": "ipython3",
   "version": "3.11.9"
  }
 },
 "nbformat": 4,
 "nbformat_minor": 5
}
