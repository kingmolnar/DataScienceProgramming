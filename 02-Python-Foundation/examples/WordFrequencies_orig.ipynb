{
 "cells": [
  {
   "cell_type": "markdown",
   "metadata": {},
   "source": [
    "# Word Frequencies\n",
    "Can we identify different types of text documents based on the frequency of their words? Can we identify different authors, styles, or disciplines like medical versus information technology?\n",
    "\n",
    "We can start with counting the occurance of words in a document. Hereby, words should be converted to one case (e.g. lower case), and all punctuation characters should be eliminated.\n",
    "\n",
    "Our program reads a (plain) text file, isolates individual words, and computes their frequencies in the document.\n",
    "\n",
    "The following steps outline the process:\n",
    "1. load text data\n",
    "2. clean up text, convert characters, and transform to a list of words\n",
    "3. count the occurance of words"
   ]
  },
  {
   "cell_type": "markdown",
   "metadata": {},
   "source": [
    "## Load Text Data\n",
    "The following shows how to load data from a web-site, local file system, and the Hadoop File System."
   ]
  },
  {
   "cell_type": "markdown",
   "metadata": {},
   "source": [
    "### Pull text documents from the web\n",
    "Instead of saving documents on the local file system, we can also load them directly from the Web. The mechanism of loading from an URL is different from opening a local file is quite different. Fortumately, libraries like `urllib` make this operating fairly easy. "
   ]
  },
  {
   "cell_type": "code",
   "execution_count": 43,
   "metadata": {
    "collapsed": true
   },
   "outputs": [],
   "source": [
    "from urllib.request import urlopen\n",
    "# from urllib.request import *\n"
   ]
  },
  {
   "cell_type": "code",
   "execution_count": 45,
   "metadata": {
    "collapsed": true
   },
   "outputs": [
    {
     "name": "stdout",
     "output_type": "stream",
     "text": [
      "Help on module urllib.request in urllib:\n",
      "\n",
      "NAME\n",
      "    urllib.request - An extensible library for opening URLs using a variety of protocols\n",
      "\n",
      "DESCRIPTION\n",
      "    The simplest way to use this module is to call the urlopen function,\n",
      "    which accepts a string containing a URL or a Request object (described\n",
      "    below).  It opens the URL and returns the results as file-like\n",
      "    object; the returned object has some extra methods described below.\n",
      "    \n",
      "    The OpenerDirector manages a collection of Handler objects that do\n",
      "    all the actual work.  Each Handler implements a particular protocol or\n",
      "    option.  The OpenerDirector is a composite object that invokes the\n",
      "    Handlers needed to open the requested URL.  For example, the\n",
      "    HTTPHandler performs HTTP GET and POST requests and deals with\n",
      "    non-error returns.  The HTTPRedirectHandler automatically deals with\n",
      "    HTTP 301, 302, 303 and 307 redirect errors, and the HTTPDigestAuthHandler\n",
      "    deals with digest authentication.\n",
      "    \n",
      "    urlopen(url, data=None) -- Basic usage is the same as original\n",
      "    urllib.  pass the url and optionally data to post to an HTTP URL, and\n",
      "    get a file-like object back.  One difference is that you can also pass\n",
      "    a Request instance instead of URL.  Raises a URLError (subclass of\n",
      "    OSError); for HTTP errors, raises an HTTPError, which can also be\n",
      "    treated as a valid response.\n",
      "    \n",
      "    build_opener -- Function that creates a new OpenerDirector instance.\n",
      "    Will install the default handlers.  Accepts one or more Handlers as\n",
      "    arguments, either instances or Handler classes that it will\n",
      "    instantiate.  If one of the argument is a subclass of the default\n",
      "    handler, the argument will be installed instead of the default.\n",
      "    \n",
      "    install_opener -- Installs a new opener as the default opener.\n",
      "    \n",
      "    objects of interest:\n",
      "    \n",
      "    OpenerDirector -- Sets up the User Agent as the Python-urllib client and manages\n",
      "    the Handler classes, while dealing with requests and responses.\n",
      "    \n",
      "    Request -- An object that encapsulates the state of a request.  The\n",
      "    state can be as simple as the URL.  It can also include extra HTTP\n",
      "    headers, e.g. a User-Agent.\n",
      "    \n",
      "    BaseHandler --\n",
      "    \n",
      "    internals:\n",
      "    BaseHandler and parent\n",
      "    _call_chain conventions\n",
      "    \n",
      "    Example usage:\n",
      "    \n",
      "    import urllib.request\n",
      "    \n",
      "    # set up authentication info\n",
      "    authinfo = urllib.request.HTTPBasicAuthHandler()\n",
      "    authinfo.add_password(realm='PDQ Application',\n",
      "                          uri='https://mahler:8092/site-updates.py',\n",
      "                          user='klem',\n",
      "                          passwd='geheim$parole')\n",
      "    \n",
      "    proxy_support = urllib.request.ProxyHandler({\"http\" : \"http://ahad-haam:3128\"})\n",
      "    \n",
      "    # build a new opener that adds authentication and caching FTP handlers\n",
      "    opener = urllib.request.build_opener(proxy_support, authinfo,\n",
      "                                         urllib.request.CacheFTPHandler)\n",
      "    \n",
      "    # install it\n",
      "    urllib.request.install_opener(opener)\n",
      "    \n",
      "    f = urllib.request.urlopen('http://www.python.org/')\n",
      "\n",
      "CLASSES\n",
      "    builtins.object\n",
      "        AbstractBasicAuthHandler\n",
      "            HTTPBasicAuthHandler(AbstractBasicAuthHandler, BaseHandler)\n",
      "            ProxyBasicAuthHandler(AbstractBasicAuthHandler, BaseHandler)\n",
      "        AbstractDigestAuthHandler\n",
      "        BaseHandler\n",
      "            DataHandler\n",
      "            FTPHandler\n",
      "                CacheFTPHandler\n",
      "            FileHandler\n",
      "            HTTPCookieProcessor\n",
      "            HTTPDefaultErrorHandler\n",
      "            HTTPDigestAuthHandler(BaseHandler, AbstractDigestAuthHandler)\n",
      "            HTTPErrorProcessor\n",
      "            HTTPRedirectHandler\n",
      "            ProxyDigestAuthHandler(BaseHandler, AbstractDigestAuthHandler)\n",
      "            ProxyHandler\n",
      "            UnknownHandler\n",
      "        HTTPPasswordMgr\n",
      "            HTTPPasswordMgrWithDefaultRealm\n",
      "        OpenerDirector\n",
      "        Request\n",
      "        URLopener\n",
      "            FancyURLopener\n",
      "    AbstractHTTPHandler(BaseHandler)\n",
      "        HTTPHandler\n",
      "        HTTPSHandler\n",
      "    \n",
      "    class AbstractBasicAuthHandler(builtins.object)\n",
      "     |  Methods defined here:\n",
      "     |  \n",
      "     |  __init__(self, password_mgr=None)\n",
      "     |  \n",
      "     |  http_error_auth_reqed(self, authreq, host, req, headers)\n",
      "     |  \n",
      "     |  retry_http_basic_auth(self, host, req, realm)\n",
      "     |  \n",
      "     |  ----------------------------------------------------------------------\n",
      "     |  Data descriptors defined here:\n",
      "     |  \n",
      "     |  __dict__\n",
      "     |      dictionary for instance variables (if defined)\n",
      "     |  \n",
      "     |  __weakref__\n",
      "     |      list of weak references to the object (if defined)\n",
      "     |  \n",
      "     |  ----------------------------------------------------------------------\n",
      "     |  Data and other attributes defined here:\n",
      "     |  \n",
      "     |  rx = re.compile('(?:.*,)*[ \\t]*([^ \\t]+)[ \\t]+realm=([\"\\']?)([^\"\\']*)\\...\n",
      "    \n",
      "    class AbstractDigestAuthHandler(builtins.object)\n",
      "     |  Methods defined here:\n",
      "     |  \n",
      "     |  __init__(self, passwd=None)\n",
      "     |  \n",
      "     |  get_algorithm_impls(self, algorithm)\n",
      "     |  \n",
      "     |  get_authorization(self, req, chal)\n",
      "     |  \n",
      "     |  get_cnonce(self, nonce)\n",
      "     |  \n",
      "     |  get_entity_digest(self, data, chal)\n",
      "     |  \n",
      "     |  http_error_auth_reqed(self, auth_header, host, req, headers)\n",
      "     |  \n",
      "     |  reset_retry_count(self)\n",
      "     |  \n",
      "     |  retry_http_digest_auth(self, req, auth)\n",
      "     |  \n",
      "     |  ----------------------------------------------------------------------\n",
      "     |  Data descriptors defined here:\n",
      "     |  \n",
      "     |  __dict__\n",
      "     |      dictionary for instance variables (if defined)\n",
      "     |  \n",
      "     |  __weakref__\n",
      "     |      list of weak references to the object (if defined)\n",
      "    \n",
      "    class BaseHandler(builtins.object)\n",
      "     |  Methods defined here:\n",
      "     |  \n",
      "     |  __lt__(self, other)\n",
      "     |  \n",
      "     |  add_parent(self, parent)\n",
      "     |  \n",
      "     |  close(self)\n",
      "     |  \n",
      "     |  ----------------------------------------------------------------------\n",
      "     |  Data descriptors defined here:\n",
      "     |  \n",
      "     |  __dict__\n",
      "     |      dictionary for instance variables (if defined)\n",
      "     |  \n",
      "     |  __weakref__\n",
      "     |      list of weak references to the object (if defined)\n",
      "     |  \n",
      "     |  ----------------------------------------------------------------------\n",
      "     |  Data and other attributes defined here:\n",
      "     |  \n",
      "     |  handler_order = 500\n",
      "    \n",
      "    class CacheFTPHandler(FTPHandler)\n",
      "     |  Method resolution order:\n",
      "     |      CacheFTPHandler\n",
      "     |      FTPHandler\n",
      "     |      BaseHandler\n",
      "     |      builtins.object\n",
      "     |  \n",
      "     |  Methods defined here:\n",
      "     |  \n",
      "     |  __init__(self)\n",
      "     |      # XXX would be nice to have pluggable cache strategies\n",
      "     |      # XXX this stuff is definitely not thread safe\n",
      "     |  \n",
      "     |  check_cache(self)\n",
      "     |  \n",
      "     |  clear_cache(self)\n",
      "     |  \n",
      "     |  connect_ftp(self, user, passwd, host, port, dirs, timeout)\n",
      "     |  \n",
      "     |  setMaxConns(self, m)\n",
      "     |  \n",
      "     |  setTimeout(self, t)\n",
      "     |  \n",
      "     |  ----------------------------------------------------------------------\n",
      "     |  Methods inherited from FTPHandler:\n",
      "     |  \n",
      "     |  ftp_open(self, req)\n",
      "     |  \n",
      "     |  ----------------------------------------------------------------------\n",
      "     |  Methods inherited from BaseHandler:\n",
      "     |  \n",
      "     |  __lt__(self, other)\n",
      "     |  \n",
      "     |  add_parent(self, parent)\n",
      "     |  \n",
      "     |  close(self)\n",
      "     |  \n",
      "     |  ----------------------------------------------------------------------\n",
      "     |  Data descriptors inherited from BaseHandler:\n",
      "     |  \n",
      "     |  __dict__\n",
      "     |      dictionary for instance variables (if defined)\n",
      "     |  \n",
      "     |  __weakref__\n",
      "     |      list of weak references to the object (if defined)\n",
      "     |  \n",
      "     |  ----------------------------------------------------------------------\n",
      "     |  Data and other attributes inherited from BaseHandler:\n",
      "     |  \n",
      "     |  handler_order = 500\n",
      "    \n",
      "    class DataHandler(BaseHandler)\n",
      "     |  Method resolution order:\n",
      "     |      DataHandler\n",
      "     |      BaseHandler\n",
      "     |      builtins.object\n",
      "     |  \n",
      "     |  Methods defined here:\n",
      "     |  \n",
      "     |  data_open(self, req)\n",
      "     |  \n",
      "     |  ----------------------------------------------------------------------\n",
      "     |  Methods inherited from BaseHandler:\n",
      "     |  \n",
      "     |  __lt__(self, other)\n",
      "     |  \n",
      "     |  add_parent(self, parent)\n",
      "     |  \n",
      "     |  close(self)\n",
      "     |  \n",
      "     |  ----------------------------------------------------------------------\n",
      "     |  Data descriptors inherited from BaseHandler:\n",
      "     |  \n",
      "     |  __dict__\n",
      "     |      dictionary for instance variables (if defined)\n",
      "     |  \n",
      "     |  __weakref__\n",
      "     |      list of weak references to the object (if defined)\n",
      "     |  \n",
      "     |  ----------------------------------------------------------------------\n",
      "     |  Data and other attributes inherited from BaseHandler:\n",
      "     |  \n",
      "     |  handler_order = 500\n",
      "    \n",
      "    class FTPHandler(BaseHandler)\n",
      "     |  Method resolution order:\n",
      "     |      FTPHandler\n",
      "     |      BaseHandler\n",
      "     |      builtins.object\n",
      "     |  \n",
      "     |  Methods defined here:\n",
      "     |  \n",
      "     |  connect_ftp(self, user, passwd, host, port, dirs, timeout)\n",
      "     |  \n",
      "     |  ftp_open(self, req)\n",
      "     |  \n",
      "     |  ----------------------------------------------------------------------\n",
      "     |  Methods inherited from BaseHandler:\n",
      "     |  \n",
      "     |  __lt__(self, other)\n",
      "     |  \n",
      "     |  add_parent(self, parent)\n",
      "     |  \n",
      "     |  close(self)\n",
      "     |  \n",
      "     |  ----------------------------------------------------------------------\n",
      "     |  Data descriptors inherited from BaseHandler:\n",
      "     |  \n",
      "     |  __dict__\n",
      "     |      dictionary for instance variables (if defined)\n",
      "     |  \n",
      "     |  __weakref__\n",
      "     |      list of weak references to the object (if defined)\n",
      "     |  \n",
      "     |  ----------------------------------------------------------------------\n",
      "     |  Data and other attributes inherited from BaseHandler:\n",
      "     |  \n",
      "     |  handler_order = 500\n",
      "    \n",
      "    class FancyURLopener(URLopener)\n",
      "     |  Derived class with handlers for errors we can handle (perhaps).\n",
      "     |  \n",
      "     |  Method resolution order:\n",
      "     |      FancyURLopener\n",
      "     |      URLopener\n",
      "     |      builtins.object\n",
      "     |  \n",
      "     |  Methods defined here:\n",
      "     |  \n",
      "     |  __init__(self, *args, **kwargs)\n",
      "     |  \n",
      "     |  get_user_passwd(self, host, realm, clear_cache=0)\n",
      "     |  \n",
      "     |  http_error_301(self, url, fp, errcode, errmsg, headers, data=None)\n",
      "     |      Error 301 -- also relocated (permanently).\n",
      "     |  \n",
      "     |  http_error_302(self, url, fp, errcode, errmsg, headers, data=None)\n",
      "     |      Error 302 -- relocated (temporarily).\n",
      "     |  \n",
      "     |  http_error_303(self, url, fp, errcode, errmsg, headers, data=None)\n",
      "     |      Error 303 -- also relocated (essentially identical to 302).\n",
      "     |  \n",
      "     |  http_error_307(self, url, fp, errcode, errmsg, headers, data=None)\n",
      "     |      Error 307 -- relocated, but turn POST into error.\n",
      "     |  \n",
      "     |  http_error_401(self, url, fp, errcode, errmsg, headers, data=None, retry=False)\n",
      "     |      Error 401 -- authentication required.\n",
      "     |      This function supports Basic authentication only.\n",
      "     |  \n",
      "     |  http_error_407(self, url, fp, errcode, errmsg, headers, data=None, retry=False)\n",
      "     |      Error 407 -- proxy authentication required.\n",
      "     |      This function supports Basic authentication only.\n",
      "     |  \n",
      "     |  http_error_default(self, url, fp, errcode, errmsg, headers)\n",
      "     |      Default error handling -- don't raise an exception.\n",
      "     |  \n",
      "     |  prompt_user_passwd(self, host, realm)\n",
      "     |      Override this in a GUI environment!\n",
      "     |  \n",
      "     |  redirect_internal(self, url, fp, errcode, errmsg, headers, data)\n",
      "     |  \n",
      "     |  retry_http_basic_auth(self, url, realm, data=None)\n",
      "     |  \n",
      "     |  retry_https_basic_auth(self, url, realm, data=None)\n",
      "     |  \n",
      "     |  retry_proxy_http_basic_auth(self, url, realm, data=None)\n",
      "     |  \n",
      "     |  retry_proxy_https_basic_auth(self, url, realm, data=None)\n",
      "     |  \n",
      "     |  ----------------------------------------------------------------------\n",
      "     |  Methods inherited from URLopener:\n",
      "     |  \n",
      "     |  __del__(self)\n",
      "     |  \n",
      "     |  addheader(self, *args)\n",
      "     |      Add a header to be used by the HTTP interface only\n",
      "     |      e.g. u.addheader('Accept', 'sound/basic')\n",
      "     |  \n",
      "     |  cleanup(self)\n",
      "     |  \n",
      "     |  close(self)\n",
      "     |  \n",
      "     |  http_error(self, url, fp, errcode, errmsg, headers, data=None)\n",
      "     |      Handle http errors.\n",
      "     |      \n",
      "     |      Derived class can override this, or provide specific handlers\n",
      "     |      named http_error_DDD where DDD is the 3-digit error code.\n",
      "     |  \n",
      "     |  open(self, fullurl, data=None)\n",
      "     |      Use URLopener().open(file) instead of open(file, 'r').\n",
      "     |  \n",
      "     |  open_data(self, url, data=None)\n",
      "     |      Use \"data\" URL.\n",
      "     |  \n",
      "     |  open_file(self, url)\n",
      "     |      Use local file or FTP depending on form of URL.\n",
      "     |  \n",
      "     |  open_ftp(self, url)\n",
      "     |      Use FTP protocol.\n",
      "     |  \n",
      "     |  open_http(self, url, data=None)\n",
      "     |      Use HTTP protocol.\n",
      "     |  \n",
      "     |  open_https(self, url, data=None)\n",
      "     |      Use HTTPS protocol.\n",
      "     |  \n",
      "     |  open_local_file(self, url)\n",
      "     |      Use local file.\n",
      "     |  \n",
      "     |  open_unknown(self, fullurl, data=None)\n",
      "     |      Overridable interface to open unknown URL type.\n",
      "     |  \n",
      "     |  open_unknown_proxy(self, proxy, fullurl, data=None)\n",
      "     |      Overridable interface to open unknown URL type.\n",
      "     |  \n",
      "     |  retrieve(self, url, filename=None, reporthook=None, data=None)\n",
      "     |      retrieve(url) returns (filename, headers) for a local object\n",
      "     |      or (tempfilename, headers) for a remote object.\n",
      "     |  \n",
      "     |  ----------------------------------------------------------------------\n",
      "     |  Data descriptors inherited from URLopener:\n",
      "     |  \n",
      "     |  __dict__\n",
      "     |      dictionary for instance variables (if defined)\n",
      "     |  \n",
      "     |  __weakref__\n",
      "     |      list of weak references to the object (if defined)\n",
      "     |  \n",
      "     |  ----------------------------------------------------------------------\n",
      "     |  Data and other attributes inherited from URLopener:\n",
      "     |  \n",
      "     |  version = 'Python-urllib/3.4'\n",
      "    \n",
      "    class FileHandler(BaseHandler)\n",
      "     |  Method resolution order:\n",
      "     |      FileHandler\n",
      "     |      BaseHandler\n",
      "     |      builtins.object\n",
      "     |  \n",
      "     |  Methods defined here:\n",
      "     |  \n",
      "     |  file_open(self, req)\n",
      "     |      # Use local file or FTP depending on form of URL\n",
      "     |  \n",
      "     |  get_names(self)\n",
      "     |  \n",
      "     |  open_local_file(self, req)\n",
      "     |      # not entirely sure what the rules are here\n",
      "     |  \n",
      "     |  ----------------------------------------------------------------------\n",
      "     |  Data and other attributes defined here:\n",
      "     |  \n",
      "     |  names = None\n",
      "     |  \n",
      "     |  ----------------------------------------------------------------------\n",
      "     |  Methods inherited from BaseHandler:\n",
      "     |  \n",
      "     |  __lt__(self, other)\n",
      "     |  \n",
      "     |  add_parent(self, parent)\n",
      "     |  \n",
      "     |  close(self)\n",
      "     |  \n",
      "     |  ----------------------------------------------------------------------\n",
      "     |  Data descriptors inherited from BaseHandler:\n",
      "     |  \n",
      "     |  __dict__\n",
      "     |      dictionary for instance variables (if defined)\n",
      "     |  \n",
      "     |  __weakref__\n",
      "     |      list of weak references to the object (if defined)\n",
      "     |  \n",
      "     |  ----------------------------------------------------------------------\n",
      "     |  Data and other attributes inherited from BaseHandler:\n",
      "     |  \n",
      "     |  handler_order = 500\n",
      "    \n",
      "    class HTTPBasicAuthHandler(AbstractBasicAuthHandler, BaseHandler)\n",
      "     |  Method resolution order:\n",
      "     |      HTTPBasicAuthHandler\n",
      "     |      AbstractBasicAuthHandler\n",
      "     |      BaseHandler\n",
      "     |      builtins.object\n",
      "     |  \n",
      "     |  Methods defined here:\n",
      "     |  \n",
      "     |  http_error_401(self, req, fp, code, msg, headers)\n",
      "     |  \n",
      "     |  ----------------------------------------------------------------------\n",
      "     |  Data and other attributes defined here:\n",
      "     |  \n",
      "     |  auth_header = 'Authorization'\n",
      "     |  \n",
      "     |  ----------------------------------------------------------------------\n",
      "     |  Methods inherited from AbstractBasicAuthHandler:\n",
      "     |  \n",
      "     |  __init__(self, password_mgr=None)\n",
      "     |  \n",
      "     |  http_error_auth_reqed(self, authreq, host, req, headers)\n",
      "     |  \n",
      "     |  retry_http_basic_auth(self, host, req, realm)\n",
      "     |  \n",
      "     |  ----------------------------------------------------------------------\n",
      "     |  Data descriptors inherited from AbstractBasicAuthHandler:\n",
      "     |  \n",
      "     |  __dict__\n",
      "     |      dictionary for instance variables (if defined)\n",
      "     |  \n",
      "     |  __weakref__\n",
      "     |      list of weak references to the object (if defined)\n",
      "     |  \n",
      "     |  ----------------------------------------------------------------------\n",
      "     |  Data and other attributes inherited from AbstractBasicAuthHandler:\n",
      "     |  \n",
      "     |  rx = re.compile('(?:.*,)*[ \\t]*([^ \\t]+)[ \\t]+realm=([\"\\']?)([^\"\\']*)\\...\n",
      "     |  \n",
      "     |  ----------------------------------------------------------------------\n",
      "     |  Methods inherited from BaseHandler:\n",
      "     |  \n",
      "     |  __lt__(self, other)\n",
      "     |  \n",
      "     |  add_parent(self, parent)\n",
      "     |  \n",
      "     |  close(self)\n",
      "     |  \n",
      "     |  ----------------------------------------------------------------------\n",
      "     |  Data and other attributes inherited from BaseHandler:\n",
      "     |  \n",
      "     |  handler_order = 500\n",
      "    \n",
      "    class HTTPCookieProcessor(BaseHandler)\n",
      "     |  Method resolution order:\n",
      "     |      HTTPCookieProcessor\n",
      "     |      BaseHandler\n",
      "     |      builtins.object\n",
      "     |  \n",
      "     |  Methods defined here:\n",
      "     |  \n",
      "     |  __init__(self, cookiejar=None)\n",
      "     |  \n",
      "     |  http_request(self, request)\n",
      "     |  \n",
      "     |  http_response(self, request, response)\n",
      "     |  \n",
      "     |  https_request = http_request(self, request)\n",
      "     |  \n",
      "     |  https_response = http_response(self, request, response)\n",
      "     |  \n",
      "     |  ----------------------------------------------------------------------\n",
      "     |  Methods inherited from BaseHandler:\n",
      "     |  \n",
      "     |  __lt__(self, other)\n",
      "     |  \n",
      "     |  add_parent(self, parent)\n",
      "     |  \n",
      "     |  close(self)\n",
      "     |  \n",
      "     |  ----------------------------------------------------------------------\n",
      "     |  Data descriptors inherited from BaseHandler:\n",
      "     |  \n",
      "     |  __dict__\n",
      "     |      dictionary for instance variables (if defined)\n",
      "     |  \n",
      "     |  __weakref__\n",
      "     |      list of weak references to the object (if defined)\n",
      "     |  \n",
      "     |  ----------------------------------------------------------------------\n",
      "     |  Data and other attributes inherited from BaseHandler:\n",
      "     |  \n",
      "     |  handler_order = 500\n",
      "    \n",
      "    class HTTPDefaultErrorHandler(BaseHandler)\n",
      "     |  Method resolution order:\n",
      "     |      HTTPDefaultErrorHandler\n",
      "     |      BaseHandler\n",
      "     |      builtins.object\n",
      "     |  \n",
      "     |  Methods defined here:\n",
      "     |  \n",
      "     |  http_error_default(self, req, fp, code, msg, hdrs)\n",
      "     |  \n",
      "     |  ----------------------------------------------------------------------\n",
      "     |  Methods inherited from BaseHandler:\n",
      "     |  \n",
      "     |  __lt__(self, other)\n",
      "     |  \n",
      "     |  add_parent(self, parent)\n",
      "     |  \n",
      "     |  close(self)\n",
      "     |  \n",
      "     |  ----------------------------------------------------------------------\n",
      "     |  Data descriptors inherited from BaseHandler:\n",
      "     |  \n",
      "     |  __dict__\n",
      "     |      dictionary for instance variables (if defined)\n",
      "     |  \n",
      "     |  __weakref__\n",
      "     |      list of weak references to the object (if defined)\n",
      "     |  \n",
      "     |  ----------------------------------------------------------------------\n",
      "     |  Data and other attributes inherited from BaseHandler:\n",
      "     |  \n",
      "     |  handler_order = 500\n",
      "    \n",
      "    class HTTPDigestAuthHandler(BaseHandler, AbstractDigestAuthHandler)\n",
      "     |  An authentication protocol defined by RFC 2069\n",
      "     |  \n",
      "     |  Digest authentication improves on basic authentication because it\n",
      "     |  does not transmit passwords in the clear.\n",
      "     |  \n",
      "     |  Method resolution order:\n",
      "     |      HTTPDigestAuthHandler\n",
      "     |      BaseHandler\n",
      "     |      AbstractDigestAuthHandler\n",
      "     |      builtins.object\n",
      "     |  \n",
      "     |  Methods defined here:\n",
      "     |  \n",
      "     |  http_error_401(self, req, fp, code, msg, headers)\n",
      "     |  \n",
      "     |  ----------------------------------------------------------------------\n",
      "     |  Data and other attributes defined here:\n",
      "     |  \n",
      "     |  auth_header = 'Authorization'\n",
      "     |  \n",
      "     |  handler_order = 490\n",
      "     |  \n",
      "     |  ----------------------------------------------------------------------\n",
      "     |  Methods inherited from BaseHandler:\n",
      "     |  \n",
      "     |  __lt__(self, other)\n",
      "     |  \n",
      "     |  add_parent(self, parent)\n",
      "     |  \n",
      "     |  close(self)\n",
      "     |  \n",
      "     |  ----------------------------------------------------------------------\n",
      "     |  Data descriptors inherited from BaseHandler:\n",
      "     |  \n",
      "     |  __dict__\n",
      "     |      dictionary for instance variables (if defined)\n",
      "     |  \n",
      "     |  __weakref__\n",
      "     |      list of weak references to the object (if defined)\n",
      "     |  \n",
      "     |  ----------------------------------------------------------------------\n",
      "     |  Methods inherited from AbstractDigestAuthHandler:\n",
      "     |  \n",
      "     |  __init__(self, passwd=None)\n",
      "     |  \n",
      "     |  get_algorithm_impls(self, algorithm)\n",
      "     |  \n",
      "     |  get_authorization(self, req, chal)\n",
      "     |  \n",
      "     |  get_cnonce(self, nonce)\n",
      "     |  \n",
      "     |  get_entity_digest(self, data, chal)\n",
      "     |  \n",
      "     |  http_error_auth_reqed(self, auth_header, host, req, headers)\n",
      "     |  \n",
      "     |  reset_retry_count(self)\n",
      "     |  \n",
      "     |  retry_http_digest_auth(self, req, auth)\n",
      "    \n",
      "    class HTTPErrorProcessor(BaseHandler)\n",
      "     |  Process HTTP error responses.\n",
      "     |  \n",
      "     |  Method resolution order:\n",
      "     |      HTTPErrorProcessor\n",
      "     |      BaseHandler\n",
      "     |      builtins.object\n",
      "     |  \n",
      "     |  Methods defined here:\n",
      "     |  \n",
      "     |  http_response(self, request, response)\n",
      "     |  \n",
      "     |  https_response = http_response(self, request, response)\n",
      "     |  \n",
      "     |  ----------------------------------------------------------------------\n",
      "     |  Data and other attributes defined here:\n",
      "     |  \n",
      "     |  handler_order = 1000\n",
      "     |  \n",
      "     |  ----------------------------------------------------------------------\n",
      "     |  Methods inherited from BaseHandler:\n",
      "     |  \n",
      "     |  __lt__(self, other)\n",
      "     |  \n",
      "     |  add_parent(self, parent)\n",
      "     |  \n",
      "     |  close(self)\n",
      "     |  \n",
      "     |  ----------------------------------------------------------------------\n",
      "     |  Data descriptors inherited from BaseHandler:\n",
      "     |  \n",
      "     |  __dict__\n",
      "     |      dictionary for instance variables (if defined)\n",
      "     |  \n",
      "     |  __weakref__\n",
      "     |      list of weak references to the object (if defined)\n",
      "    \n",
      "    class HTTPHandler(AbstractHTTPHandler)\n",
      "     |  Method resolution order:\n",
      "     |      HTTPHandler\n",
      "     |      AbstractHTTPHandler\n",
      "     |      BaseHandler\n",
      "     |      builtins.object\n",
      "     |  \n",
      "     |  Methods defined here:\n",
      "     |  \n",
      "     |  http_open(self, req)\n",
      "     |  \n",
      "     |  http_request = do_request_(self, request)\n",
      "     |  \n",
      "     |  ----------------------------------------------------------------------\n",
      "     |  Methods inherited from AbstractHTTPHandler:\n",
      "     |  \n",
      "     |  __init__(self, debuglevel=0)\n",
      "     |  \n",
      "     |  do_open(self, http_class, req, **http_conn_args)\n",
      "     |      Return an HTTPResponse object for the request, using http_class.\n",
      "     |      \n",
      "     |      http_class must implement the HTTPConnection API from http.client.\n",
      "     |  \n",
      "     |  do_request_(self, request)\n",
      "     |  \n",
      "     |  set_http_debuglevel(self, level)\n",
      "     |  \n",
      "     |  ----------------------------------------------------------------------\n",
      "     |  Methods inherited from BaseHandler:\n",
      "     |  \n",
      "     |  __lt__(self, other)\n",
      "     |  \n",
      "     |  add_parent(self, parent)\n",
      "     |  \n",
      "     |  close(self)\n",
      "     |  \n",
      "     |  ----------------------------------------------------------------------\n",
      "     |  Data descriptors inherited from BaseHandler:\n",
      "     |  \n",
      "     |  __dict__\n",
      "     |      dictionary for instance variables (if defined)\n",
      "     |  \n",
      "     |  __weakref__\n",
      "     |      list of weak references to the object (if defined)\n",
      "     |  \n",
      "     |  ----------------------------------------------------------------------\n",
      "     |  Data and other attributes inherited from BaseHandler:\n",
      "     |  \n",
      "     |  handler_order = 500\n",
      "    \n",
      "    class HTTPPasswordMgr(builtins.object)\n",
      "     |  Methods defined here:\n",
      "     |  \n",
      "     |  __init__(self)\n",
      "     |  \n",
      "     |  add_password(self, realm, uri, user, passwd)\n",
      "     |  \n",
      "     |  find_user_password(self, realm, authuri)\n",
      "     |  \n",
      "     |  is_suburi(self, base, test)\n",
      "     |      Check if test is below base in a URI tree\n",
      "     |      \n",
      "     |      Both args must be URIs in reduced form.\n",
      "     |  \n",
      "     |  reduce_uri(self, uri, default_port=True)\n",
      "     |      Accept authority or URI and extract only the authority and path.\n",
      "     |  \n",
      "     |  ----------------------------------------------------------------------\n",
      "     |  Data descriptors defined here:\n",
      "     |  \n",
      "     |  __dict__\n",
      "     |      dictionary for instance variables (if defined)\n",
      "     |  \n",
      "     |  __weakref__\n",
      "     |      list of weak references to the object (if defined)\n",
      "    \n",
      "    class HTTPPasswordMgrWithDefaultRealm(HTTPPasswordMgr)\n",
      "     |  Method resolution order:\n",
      "     |      HTTPPasswordMgrWithDefaultRealm\n",
      "     |      HTTPPasswordMgr\n",
      "     |      builtins.object\n",
      "     |  \n",
      "     |  Methods defined here:\n",
      "     |  \n",
      "     |  find_user_password(self, realm, authuri)\n",
      "     |  \n",
      "     |  ----------------------------------------------------------------------\n",
      "     |  Methods inherited from HTTPPasswordMgr:\n",
      "     |  \n",
      "     |  __init__(self)\n",
      "     |  \n",
      "     |  add_password(self, realm, uri, user, passwd)\n",
      "     |  \n",
      "     |  is_suburi(self, base, test)\n",
      "     |      Check if test is below base in a URI tree\n",
      "     |      \n",
      "     |      Both args must be URIs in reduced form.\n",
      "     |  \n",
      "     |  reduce_uri(self, uri, default_port=True)\n",
      "     |      Accept authority or URI and extract only the authority and path.\n",
      "     |  \n",
      "     |  ----------------------------------------------------------------------\n",
      "     |  Data descriptors inherited from HTTPPasswordMgr:\n",
      "     |  \n",
      "     |  __dict__\n",
      "     |      dictionary for instance variables (if defined)\n",
      "     |  \n",
      "     |  __weakref__\n",
      "     |      list of weak references to the object (if defined)\n",
      "    \n",
      "    class HTTPRedirectHandler(BaseHandler)\n",
      "     |  Method resolution order:\n",
      "     |      HTTPRedirectHandler\n",
      "     |      BaseHandler\n",
      "     |      builtins.object\n",
      "     |  \n",
      "     |  Methods defined here:\n",
      "     |  \n",
      "     |  http_error_301 = http_error_302(self, req, fp, code, msg, headers)\n",
      "     |  \n",
      "     |  http_error_302(self, req, fp, code, msg, headers)\n",
      "     |      # Implementation note: To avoid the server sending us into an\n",
      "     |      # infinite loop, the request object needs to track what URLs we\n",
      "     |      # have already seen.  Do this by adding a handler-specific\n",
      "     |      # attribute to the Request object.\n",
      "     |  \n",
      "     |  http_error_303 = http_error_302(self, req, fp, code, msg, headers)\n",
      "     |  \n",
      "     |  http_error_307 = http_error_302(self, req, fp, code, msg, headers)\n",
      "     |  \n",
      "     |  redirect_request(self, req, fp, code, msg, headers, newurl)\n",
      "     |      Return a Request or None in response to a redirect.\n",
      "     |      \n",
      "     |      This is called by the http_error_30x methods when a\n",
      "     |      redirection response is received.  If a redirection should\n",
      "     |      take place, return a new Request to allow http_error_30x to\n",
      "     |      perform the redirect.  Otherwise, raise HTTPError if no-one\n",
      "     |      else should try to handle this url.  Return None if you can't\n",
      "     |      but another Handler might.\n",
      "     |  \n",
      "     |  ----------------------------------------------------------------------\n",
      "     |  Data and other attributes defined here:\n",
      "     |  \n",
      "     |  inf_msg = 'The HTTP server returned a redirect error that w...n infini...\n",
      "     |  \n",
      "     |  max_redirections = 10\n",
      "     |  \n",
      "     |  max_repeats = 4\n",
      "     |  \n",
      "     |  ----------------------------------------------------------------------\n",
      "     |  Methods inherited from BaseHandler:\n",
      "     |  \n",
      "     |  __lt__(self, other)\n",
      "     |  \n",
      "     |  add_parent(self, parent)\n",
      "     |  \n",
      "     |  close(self)\n",
      "     |  \n",
      "     |  ----------------------------------------------------------------------\n",
      "     |  Data descriptors inherited from BaseHandler:\n",
      "     |  \n",
      "     |  __dict__\n",
      "     |      dictionary for instance variables (if defined)\n",
      "     |  \n",
      "     |  __weakref__\n",
      "     |      list of weak references to the object (if defined)\n",
      "     |  \n",
      "     |  ----------------------------------------------------------------------\n",
      "     |  Data and other attributes inherited from BaseHandler:\n",
      "     |  \n",
      "     |  handler_order = 500\n",
      "    \n",
      "    class HTTPSHandler(AbstractHTTPHandler)\n",
      "     |  Method resolution order:\n",
      "     |      HTTPSHandler\n",
      "     |      AbstractHTTPHandler\n",
      "     |      BaseHandler\n",
      "     |      builtins.object\n",
      "     |  \n",
      "     |  Methods defined here:\n",
      "     |  \n",
      "     |  __init__(self, debuglevel=0, context=None, check_hostname=None)\n",
      "     |  \n",
      "     |  https_open(self, req)\n",
      "     |  \n",
      "     |  https_request = do_request_(self, request)\n",
      "     |  \n",
      "     |  ----------------------------------------------------------------------\n",
      "     |  Methods inherited from AbstractHTTPHandler:\n",
      "     |  \n",
      "     |  do_open(self, http_class, req, **http_conn_args)\n",
      "     |      Return an HTTPResponse object for the request, using http_class.\n",
      "     |      \n",
      "     |      http_class must implement the HTTPConnection API from http.client.\n",
      "     |  \n",
      "     |  do_request_(self, request)\n",
      "     |  \n",
      "     |  set_http_debuglevel(self, level)\n",
      "     |  \n",
      "     |  ----------------------------------------------------------------------\n",
      "     |  Methods inherited from BaseHandler:\n",
      "     |  \n",
      "     |  __lt__(self, other)\n",
      "     |  \n",
      "     |  add_parent(self, parent)\n",
      "     |  \n",
      "     |  close(self)\n",
      "     |  \n",
      "     |  ----------------------------------------------------------------------\n",
      "     |  Data descriptors inherited from BaseHandler:\n",
      "     |  \n",
      "     |  __dict__\n",
      "     |      dictionary for instance variables (if defined)\n",
      "     |  \n",
      "     |  __weakref__\n",
      "     |      list of weak references to the object (if defined)\n",
      "     |  \n",
      "     |  ----------------------------------------------------------------------\n",
      "     |  Data and other attributes inherited from BaseHandler:\n",
      "     |  \n",
      "     |  handler_order = 500\n",
      "    \n",
      "    class OpenerDirector(builtins.object)\n",
      "     |  Methods defined here:\n",
      "     |  \n",
      "     |  __init__(self)\n",
      "     |  \n",
      "     |  add_handler(self, handler)\n",
      "     |  \n",
      "     |  close(self)\n",
      "     |  \n",
      "     |  error(self, proto, *args)\n",
      "     |  \n",
      "     |  open(self, fullurl, data=None, timeout=<object object at 0x7f4cd4cc8130>)\n",
      "     |  \n",
      "     |  ----------------------------------------------------------------------\n",
      "     |  Data descriptors defined here:\n",
      "     |  \n",
      "     |  __dict__\n",
      "     |      dictionary for instance variables (if defined)\n",
      "     |  \n",
      "     |  __weakref__\n",
      "     |      list of weak references to the object (if defined)\n",
      "    \n",
      "    class ProxyBasicAuthHandler(AbstractBasicAuthHandler, BaseHandler)\n",
      "     |  Method resolution order:\n",
      "     |      ProxyBasicAuthHandler\n",
      "     |      AbstractBasicAuthHandler\n",
      "     |      BaseHandler\n",
      "     |      builtins.object\n",
      "     |  \n",
      "     |  Methods defined here:\n",
      "     |  \n",
      "     |  http_error_407(self, req, fp, code, msg, headers)\n",
      "     |  \n",
      "     |  ----------------------------------------------------------------------\n",
      "     |  Data and other attributes defined here:\n",
      "     |  \n",
      "     |  auth_header = 'Proxy-authorization'\n",
      "     |  \n",
      "     |  ----------------------------------------------------------------------\n",
      "     |  Methods inherited from AbstractBasicAuthHandler:\n",
      "     |  \n",
      "     |  __init__(self, password_mgr=None)\n",
      "     |  \n",
      "     |  http_error_auth_reqed(self, authreq, host, req, headers)\n",
      "     |  \n",
      "     |  retry_http_basic_auth(self, host, req, realm)\n",
      "     |  \n",
      "     |  ----------------------------------------------------------------------\n",
      "     |  Data descriptors inherited from AbstractBasicAuthHandler:\n",
      "     |  \n",
      "     |  __dict__\n",
      "     |      dictionary for instance variables (if defined)\n",
      "     |  \n",
      "     |  __weakref__\n",
      "     |      list of weak references to the object (if defined)\n",
      "     |  \n",
      "     |  ----------------------------------------------------------------------\n",
      "     |  Data and other attributes inherited from AbstractBasicAuthHandler:\n",
      "     |  \n",
      "     |  rx = re.compile('(?:.*,)*[ \\t]*([^ \\t]+)[ \\t]+realm=([\"\\']?)([^\"\\']*)\\...\n",
      "     |  \n",
      "     |  ----------------------------------------------------------------------\n",
      "     |  Methods inherited from BaseHandler:\n",
      "     |  \n",
      "     |  __lt__(self, other)\n",
      "     |  \n",
      "     |  add_parent(self, parent)\n",
      "     |  \n",
      "     |  close(self)\n",
      "     |  \n",
      "     |  ----------------------------------------------------------------------\n",
      "     |  Data and other attributes inherited from BaseHandler:\n",
      "     |  \n",
      "     |  handler_order = 500\n",
      "    \n",
      "    class ProxyDigestAuthHandler(BaseHandler, AbstractDigestAuthHandler)\n",
      "     |  Method resolution order:\n",
      "     |      ProxyDigestAuthHandler\n",
      "     |      BaseHandler\n",
      "     |      AbstractDigestAuthHandler\n",
      "     |      builtins.object\n",
      "     |  \n",
      "     |  Methods defined here:\n",
      "     |  \n",
      "     |  http_error_407(self, req, fp, code, msg, headers)\n",
      "     |  \n",
      "     |  ----------------------------------------------------------------------\n",
      "     |  Data and other attributes defined here:\n",
      "     |  \n",
      "     |  auth_header = 'Proxy-Authorization'\n",
      "     |  \n",
      "     |  handler_order = 490\n",
      "     |  \n",
      "     |  ----------------------------------------------------------------------\n",
      "     |  Methods inherited from BaseHandler:\n",
      "     |  \n",
      "     |  __lt__(self, other)\n",
      "     |  \n",
      "     |  add_parent(self, parent)\n",
      "     |  \n",
      "     |  close(self)\n",
      "     |  \n",
      "     |  ----------------------------------------------------------------------\n",
      "     |  Data descriptors inherited from BaseHandler:\n",
      "     |  \n",
      "     |  __dict__\n",
      "     |      dictionary for instance variables (if defined)\n",
      "     |  \n",
      "     |  __weakref__\n",
      "     |      list of weak references to the object (if defined)\n",
      "     |  \n",
      "     |  ----------------------------------------------------------------------\n",
      "     |  Methods inherited from AbstractDigestAuthHandler:\n",
      "     |  \n",
      "     |  __init__(self, passwd=None)\n",
      "     |  \n",
      "     |  get_algorithm_impls(self, algorithm)\n",
      "     |  \n",
      "     |  get_authorization(self, req, chal)\n",
      "     |  \n",
      "     |  get_cnonce(self, nonce)\n",
      "     |  \n",
      "     |  get_entity_digest(self, data, chal)\n",
      "     |  \n",
      "     |  http_error_auth_reqed(self, auth_header, host, req, headers)\n",
      "     |  \n",
      "     |  reset_retry_count(self)\n",
      "     |  \n",
      "     |  retry_http_digest_auth(self, req, auth)\n",
      "    \n",
      "    class ProxyHandler(BaseHandler)\n",
      "     |  Method resolution order:\n",
      "     |      ProxyHandler\n",
      "     |      BaseHandler\n",
      "     |      builtins.object\n",
      "     |  \n",
      "     |  Methods defined here:\n",
      "     |  \n",
      "     |  __init__(self, proxies=None)\n",
      "     |  \n",
      "     |  proxy_open(self, req, proxy, type)\n",
      "     |  \n",
      "     |  ----------------------------------------------------------------------\n",
      "     |  Data and other attributes defined here:\n",
      "     |  \n",
      "     |  handler_order = 100\n",
      "     |  \n",
      "     |  ----------------------------------------------------------------------\n",
      "     |  Methods inherited from BaseHandler:\n",
      "     |  \n",
      "     |  __lt__(self, other)\n",
      "     |  \n",
      "     |  add_parent(self, parent)\n",
      "     |  \n",
      "     |  close(self)\n",
      "     |  \n",
      "     |  ----------------------------------------------------------------------\n",
      "     |  Data descriptors inherited from BaseHandler:\n",
      "     |  \n",
      "     |  __dict__\n",
      "     |      dictionary for instance variables (if defined)\n",
      "     |  \n",
      "     |  __weakref__\n",
      "     |      list of weak references to the object (if defined)\n",
      "    \n",
      "    class Request(builtins.object)\n",
      "     |  Methods defined here:\n",
      "     |  \n",
      "     |  __init__(self, url, data=None, headers={}, origin_req_host=None, unverifiable=False, method=None)\n",
      "     |  \n",
      "     |  add_header(self, key, val)\n",
      "     |  \n",
      "     |  add_unredirected_header(self, key, val)\n",
      "     |  \n",
      "     |  get_full_url(self)\n",
      "     |  \n",
      "     |  get_header(self, header_name, default=None)\n",
      "     |  \n",
      "     |  get_method(self)\n",
      "     |      Return a string indicating the HTTP request method.\n",
      "     |  \n",
      "     |  has_header(self, header_name)\n",
      "     |  \n",
      "     |  has_proxy(self)\n",
      "     |  \n",
      "     |  header_items(self)\n",
      "     |  \n",
      "     |  remove_header(self, header_name)\n",
      "     |  \n",
      "     |  set_proxy(self, host, type)\n",
      "     |  \n",
      "     |  ----------------------------------------------------------------------\n",
      "     |  Data descriptors defined here:\n",
      "     |  \n",
      "     |  __dict__\n",
      "     |      dictionary for instance variables (if defined)\n",
      "     |  \n",
      "     |  __weakref__\n",
      "     |      list of weak references to the object (if defined)\n",
      "     |  \n",
      "     |  data\n",
      "     |  \n",
      "     |  full_url\n",
      "    \n",
      "    class URLopener(builtins.object)\n",
      "     |  Class to open URLs.\n",
      "     |  This is a class rather than just a subroutine because we may need\n",
      "     |  more than one set of global protocol-specific options.\n",
      "     |  Note -- this is a base class for those who don't want the\n",
      "     |  automatic handling of errors type 302 (relocated) and 401\n",
      "     |  (authorization needed).\n",
      "     |  \n",
      "     |  Methods defined here:\n",
      "     |  \n",
      "     |  __del__(self)\n",
      "     |  \n",
      "     |  __init__(self, proxies=None, **x509)\n",
      "     |      # Constructor\n",
      "     |  \n",
      "     |  addheader(self, *args)\n",
      "     |      Add a header to be used by the HTTP interface only\n",
      "     |      e.g. u.addheader('Accept', 'sound/basic')\n",
      "     |  \n",
      "     |  cleanup(self)\n",
      "     |  \n",
      "     |  close(self)\n",
      "     |  \n",
      "     |  http_error(self, url, fp, errcode, errmsg, headers, data=None)\n",
      "     |      Handle http errors.\n",
      "     |      \n",
      "     |      Derived class can override this, or provide specific handlers\n",
      "     |      named http_error_DDD where DDD is the 3-digit error code.\n",
      "     |  \n",
      "     |  http_error_default(self, url, fp, errcode, errmsg, headers)\n",
      "     |      Default error handler: close the connection and raise OSError.\n",
      "     |  \n",
      "     |  open(self, fullurl, data=None)\n",
      "     |      Use URLopener().open(file) instead of open(file, 'r').\n",
      "     |  \n",
      "     |  open_data(self, url, data=None)\n",
      "     |      Use \"data\" URL.\n",
      "     |  \n",
      "     |  open_file(self, url)\n",
      "     |      Use local file or FTP depending on form of URL.\n",
      "     |  \n",
      "     |  open_ftp(self, url)\n",
      "     |      Use FTP protocol.\n",
      "     |  \n",
      "     |  open_http(self, url, data=None)\n",
      "     |      Use HTTP protocol.\n",
      "     |  \n",
      "     |  open_https(self, url, data=None)\n",
      "     |      Use HTTPS protocol.\n",
      "     |  \n",
      "     |  open_local_file(self, url)\n",
      "     |      Use local file.\n",
      "     |  \n",
      "     |  open_unknown(self, fullurl, data=None)\n",
      "     |      Overridable interface to open unknown URL type.\n",
      "     |  \n",
      "     |  open_unknown_proxy(self, proxy, fullurl, data=None)\n",
      "     |      Overridable interface to open unknown URL type.\n",
      "     |  \n",
      "     |  retrieve(self, url, filename=None, reporthook=None, data=None)\n",
      "     |      retrieve(url) returns (filename, headers) for a local object\n",
      "     |      or (tempfilename, headers) for a remote object.\n",
      "     |  \n",
      "     |  ----------------------------------------------------------------------\n",
      "     |  Data descriptors defined here:\n",
      "     |  \n",
      "     |  __dict__\n",
      "     |      dictionary for instance variables (if defined)\n",
      "     |  \n",
      "     |  __weakref__\n",
      "     |      list of weak references to the object (if defined)\n",
      "     |  \n",
      "     |  ----------------------------------------------------------------------\n",
      "     |  Data and other attributes defined here:\n",
      "     |  \n",
      "     |  version = 'Python-urllib/3.4'\n",
      "    \n",
      "    class UnknownHandler(BaseHandler)\n",
      "     |  Method resolution order:\n",
      "     |      UnknownHandler\n",
      "     |      BaseHandler\n",
      "     |      builtins.object\n",
      "     |  \n",
      "     |  Methods defined here:\n",
      "     |  \n",
      "     |  unknown_open(self, req)\n",
      "     |  \n",
      "     |  ----------------------------------------------------------------------\n",
      "     |  Methods inherited from BaseHandler:\n",
      "     |  \n",
      "     |  __lt__(self, other)\n",
      "     |  \n",
      "     |  add_parent(self, parent)\n",
      "     |  \n",
      "     |  close(self)\n",
      "     |  \n",
      "     |  ----------------------------------------------------------------------\n",
      "     |  Data descriptors inherited from BaseHandler:\n",
      "     |  \n",
      "     |  __dict__\n",
      "     |      dictionary for instance variables (if defined)\n",
      "     |  \n",
      "     |  __weakref__\n",
      "     |      list of weak references to the object (if defined)\n",
      "     |  \n",
      "     |  ----------------------------------------------------------------------\n",
      "     |  Data and other attributes inherited from BaseHandler:\n",
      "     |  \n",
      "     |  handler_order = 500\n",
      "\n",
      "FUNCTIONS\n",
      "    build_opener(*handlers)\n",
      "        Create an opener object from a list of handlers.\n",
      "        \n",
      "        The opener will use several default handlers, including support\n",
      "        for HTTP, FTP and when applicable HTTPS.\n",
      "        \n",
      "        If any of the handlers passed as arguments are subclasses of the\n",
      "        default handlers, the default handlers will not be used.\n",
      "    \n",
      "    getproxies = getproxies_environment()\n",
      "        Return a dictionary of scheme -> proxy server URL mappings.\n",
      "        \n",
      "        Scan the environment for variables named <scheme>_proxy;\n",
      "        this seems to be the standard convention.  If you need a\n",
      "        different way, you can pass a proxies dictionary to the\n",
      "        [Fancy]URLopener constructor.\n",
      "    \n",
      "    install_opener(opener)\n",
      "    \n",
      "    pathname2url(pathname)\n",
      "        OS-specific conversion from a file system path to a relative URL\n",
      "        of the 'file' scheme; not recommended for general use.\n",
      "    \n",
      "    url2pathname(pathname)\n",
      "        OS-specific conversion from a relative URL of the 'file' scheme\n",
      "        to a file system path; not recommended for general use.\n",
      "    \n",
      "    urlcleanup()\n",
      "    \n",
      "    urlopen(url, data=None, timeout=<object object at 0x7f4cd4cc8130>, *, cafile=None, capath=None, cadefault=False, context=None)\n",
      "    \n",
      "    urlretrieve(url, filename=None, reporthook=None, data=None)\n",
      "        Retrieve a URL into a temporary location on disk.\n",
      "        \n",
      "        Requires a URL argument. If a filename is passed, it is used as\n",
      "        the temporary file location. The reporthook argument should be\n",
      "        a callable that accepts a block number, a read size, and the\n",
      "        total file size of the URL target. The data argument should be\n",
      "        valid URL encoded data.\n",
      "        \n",
      "        If a filename is passed and the URL points to a local resource,\n",
      "        the result is a copy from local file to new file.\n",
      "        \n",
      "        Returns a tuple containing the path to the newly created\n",
      "        data file as well as the resulting HTTPMessage object.\n",
      "\n",
      "DATA\n",
      "    __all__ = ['Request', 'OpenerDirector', 'BaseHandler', 'HTTPDefaultErr...\n",
      "\n",
      "VERSION\n",
      "    3.4\n",
      "\n",
      "FILE\n",
      "    /usr/lib64/python3.4/urllib/request.py\n",
      "\n",
      "\n"
     ]
    }
   ],
   "source": [
    "# in order to get the help text, we should import the whole subpackage.\n",
    "import urllib.request\n",
    "help(urllib.request)"
   ]
  },
  {
   "cell_type": "code",
   "execution_count": 46,
   "metadata": {
    "collapsed": false,
    "scrolled": true
   },
   "outputs": [
    {
     "name": "stdout",
     "output_type": "stream",
     "text": [
      "Help on function urlopen in module urllib.request:\n",
      "\n",
      "urlopen(url, data=None, timeout=<object object at 0x7f4cd4cc8130>, *, cafile=None, capath=None, cadefault=False, context=None)\n",
      "\n"
     ]
    }
   ],
   "source": [
    "help(urlopen)"
   ]
  },
  {
   "cell_type": "markdown",
   "metadata": {},
   "source": [
    "For example: load the collection of Shakespear's work and print a couple of rows. (The first 244 lines of this particular document are copyright information, and should be skipped.)"
   ]
  },
  {
   "cell_type": "code",
   "execution_count": 12,
   "metadata": {
    "collapsed": false
   },
   "outputs": [
    {
     "name": "stdout",
     "output_type": "stream",
     "text": [
      "1609\n",
      "\n",
      "\n",
      "\n",
      "THE SONNETS\n",
      "\n",
      "\n",
      "\n",
      "by William Shakespeare\n",
      "\n",
      "\n",
      "\n"
     ]
    }
   ],
   "source": [
    "with urlopen('http://ocw.mit.edu/ans7870/6/6.006/s08/lecturenotes/files/t8.shakespeare.txt') as src:\n",
    "    txt = src.readlines()\n",
    "    for t in txt[244:250]:\n",
    "        print(t.decode())"
   ]
  },
  {
   "cell_type": "markdown",
   "metadata": {},
   "source": [
    "Load everything at once:"
   ]
  },
  {
   "cell_type": "code",
   "execution_count": 73,
   "metadata": {
    "collapsed": false,
    "scrolled": true
   },
   "outputs": [
    {
     "data": {
      "text/plain": [
       "'This is the 100th Etext file presented by Project Gutenberg, and\\nis presented in cooperation with Wo'"
      ]
     },
     "execution_count": 73,
     "metadata": {},
     "output_type": "execute_result"
    }
   ],
   "source": [
    "data = urlopen('http://ocw.mit.edu/ans7870/6/6.006/s08/lecturenotes/files/t8.shakespeare.txt').read().decode()\n",
    "data[0:100]"
   ]
  },
  {
   "cell_type": "markdown",
   "metadata": {},
   "source": [
    "*Note*: there is a difference between `read` and `readlines`. While `read` loads the entire content into string of bytes, `readline` allow to iterate over sections of the input stream that are separated by the new-line character(s)."
   ]
  },
  {
   "cell_type": "markdown",
   "metadata": {},
   "source": [
    "### Pull text from local files\n",
    "Alternatively, we may just read from a local file. "
   ]
  },
  {
   "cell_type": "code",
   "execution_count": 73,
   "metadata": {
    "collapsed": false
   },
   "outputs": [
    {
     "name": "stdout",
     "output_type": "stream",
     "text": [
      "1609\n",
      "\n",
      "\n",
      "\n",
      "THE SONNETS\n",
      "\n",
      "\n",
      "\n",
      "by William Shakespeare\n",
      "\n",
      "\n",
      "\n",
      "\n",
      "\n",
      "\n",
      "\n",
      "                     1\n",
      "\n",
      "  From fairest creatures we desire increase,\n",
      "\n"
     ]
    }
   ],
   "source": [
    "with open('textfiles/shakespeare.txt', 'r') as src:\n",
    "    txt = src.readlines()\n",
    "    for t in txt[0:10]:\n",
    "        print(t)       ## Note: we don't need to decode the string"
   ]
  },
  {
   "cell_type": "markdown",
   "metadata": {},
   "source": [
    "Read everything at once..."
   ]
  },
  {
   "cell_type": "code",
   "execution_count": 76,
   "metadata": {
    "collapsed": false,
    "scrolled": true
   },
   "outputs": [
    {
     "data": {
      "text/plain": [
       "'1609\\n\\nTHE SONNETS\\n\\nby William Shakespeare\\n\\n\\n\\n                     1\\n  From fairest creatures we desi'"
      ]
     },
     "execution_count": 76,
     "metadata": {},
     "output_type": "execute_result"
    }
   ],
   "source": [
    "txt = open('textfiles/shakespeare.txt', 'r').read()\n",
    "txt[0:100]"
   ]
  },
  {
   "cell_type": "markdown",
   "metadata": {},
   "source": [
    "### Pull text from Hadoop File System (HDFS)\n",
    "We're usually interested in fairly big data sets which we keep on the Hadoop File System. All Hadoop and Spark functions can uncompress text files on the fly. Therefore they are stored in a compressed format (`.gz`)."
   ]
  },
  {
   "cell_type": "code",
   "execution_count": 79,
   "metadata": {
    "collapsed": true
   },
   "outputs": [],
   "source": [
    "import zlib\n",
    "from hdfs import InsecureClient\n",
    "client = InsecureClient('http://backend-0-0:50070')"
   ]
  },
  {
   "cell_type": "code",
   "execution_count": 80,
   "metadata": {
    "collapsed": false
   },
   "outputs": [
    {
     "data": {
      "text/plain": [
       "'From: oaf@zurich.ai.mit.edu (Oded Feingold)\\nSubject: Re: To All My Friends on T.P.M., I send Greetin'"
      ]
     },
     "execution_count": 80,
     "metadata": {},
     "output_type": "execute_result"
    }
   ],
   "source": [
    "with client.read('/user/pmolnar/data/20news/20news-bydate-test/talk.politics.mideast/77239.gz') as reader:\n",
    "  txt = zlib.decompress(reader.read(), 16+zlib.MAX_WBITS).decode()\n",
    "txt[0:100]"
   ]
  },
  {
   "cell_type": "code",
   "execution_count": 81,
   "metadata": {
    "collapsed": false
   },
   "outputs": [
    {
     "data": {
      "text/plain": [
       "['From: oaf@zurich.ai.mit.edu (Oded Feingold)',\n",
       " 'Subject: Re: To All My Friends on T.P.M., I send Greetings',\n",
       " 'Organization: M.I.T. Artificial Intelligence Lab.',\n",
       " 'Lines: 1',\n",
       " 'Reply-To: oaf@zurich.ai.mit.edu',\n",
       " 'NNTP-Posting-Host: klosters.ai.mit.edu',\n",
       " \"In-reply-to: szljubi@chip.ucdavis.edu's message of Thu, 6 May 1993 22:47:00 GMT\",\n",
       " '',\n",
       " \"This is an outrage!  I don't even own a dog.\",\n",
       " '']"
      ]
     },
     "execution_count": 81,
     "metadata": {},
     "output_type": "execute_result"
    }
   ],
   "source": [
    "txt.split('\\n')"
   ]
  },
  {
   "cell_type": "markdown",
   "metadata": {
    "collapsed": true
   },
   "source": [
    "In order to read the text files within an entire directory we have to first get thg list, and then iterate through it."
   ]
  },
  {
   "cell_type": "code",
   "execution_count": 83,
   "metadata": {
    "collapsed": false,
    "scrolled": true
   },
   "outputs": [
    {
     "data": {
      "text/plain": [
       "['76355.gz',\n",
       " '76366.gz',\n",
       " '76367.gz',\n",
       " '76368.gz',\n",
       " '76369.gz',\n",
       " '76370.gz',\n",
       " '76372.gz',\n",
       " '76373.gz',\n",
       " '76374.gz',\n",
       " '76375.gz']"
      ]
     },
     "execution_count": 83,
     "metadata": {},
     "output_type": "execute_result"
    }
   ],
   "source": [
    "dir_list = client.list('/user/pmolnar/data/20news/20news-bydate-test/talk.politics.mideast/')\n",
    "dir_list[0:10]"
   ]
  },
  {
   "cell_type": "code",
   "execution_count": 87,
   "metadata": {
    "collapsed": false
   },
   "outputs": [
    {
     "name": "stdout",
     "output_type": "stream",
     "text": [
      "Read 376 text files.\n"
     ]
    }
   ],
   "source": [
    "text_docs = []\n",
    "for f in dir_list:\n",
    "    with client.read('/user/pmolnar/data/20news/20news-bydate-test/talk.politics.mideast/%s' % f) as reader:\n",
    "        txt = zlib.decompress(reader.read(), 16+zlib.MAX_WBITS).decode()\n",
    "        text_docs.append(txt)\n",
    "print(\"Read %d text files.\" % len(text_docs))"
   ]
  },
  {
   "cell_type": "code",
   "execution_count": 86,
   "metadata": {
    "collapsed": false
   },
   "outputs": [
    {
     "data": {
      "text/plain": [
       "['From: rj3s@Virginia.EDU (\"Get thee to a nunnery.....\")\\nSubject: Re: Deir Yassin\\nOrganization: University of Virginia\\nLines: 65\\n\\nhm@cs.brown.edu  writes:\\n> In article <martinb.735590895@brise.ERE.UMontreal.CA> aurag@ERE.UMontreal.CA (Aurag Hassan) writes:\\n> \\n>    Are you trying to say that there were no massacres in Deir Yassin\\n>    or in Sabra and Shatila? If so then let me tell you some good jokes:\\n> \\n>    There is not and was not any such thing like jewish killing in WWII\\n> \\n>    Palestinians just did what Davidians did for fourty years and more.\\n> \\n>    In fact no one was killed in any war at any time or any place.\\n> \\n>    People die that is all. No one gets killed.\\n> \\n>    Maybe also vietamiese didn\\'t die in Vietnam war killed by american\\n>    napalm they were just pyromaniacs and that\\'s all.\\n> \\n>    Maybe jews just liked gas chambers and no one forced them to get in there.they \\n>    may be thought it was like snifing cocaine. No?\\n> \\n>    What do you think of this ? Isn\\'t it stupid to say so?\\n>    Well it is as stupid as what you said .Next time you want to lie do it\\n>    intelligently.\\n> \\n>    Sincerely yours.\\n> \\n>    Hassan\\n> \\n> Arab civilians did die at Dir yassin. But there was no massacre. First\\n> of all, the village housed many *armed* troops. Secondly, the Irgun\\n> and Stern fighters had absolutely no intentions of killing civilians.\\n> The village was attacked only for its military significance. In fact,\\n> a warning was given to the occupants of the village to leave before\\n> the attack was to begin.\\n> \\n> By all rational standards, Dir Yassin was not a massacre. The killing\\n> was unintentional. The village housed Arab snipers and Arab troops.\\n> Thus it was attacked for its military significance. It was not\\n> attacked with intentions of killing any civilians.\\n> \\n> To even compare Dir Yassin, in which some 120 or so Arabs died, to the\\n> Holocaust is absurd. The Irgun did not want to kill any civilians. The\\n> village had almost 1000 inhabitants, most of whom survived.\\n> \\n> Harry.\\nThis is such Bullshit.  Deir Yassin was an unprovoked attack on\\nthe part of the Jews, and a massacre defines it best in my\\nopinion.  The village of Deir Yassin had had a pact with the\\nJews, a peace pact, but the Irgun purposely broke this\\nagreement in order to scare off the Palestinians.  I might\\ngrant that this village housed armed Arabs [I doubt it] but\\nnothing in the archives and available literature indicates that\\nthis was a motivating force amongst the Irgun.  The Deir Yassin\\nMASSACRE was part of an over all strategy to intimidate the\\nPalestinians to flee the Jewish Homeland.,...and contrary to\\nyour belief, many civilians were killed.  Deir Yassin was later\\nadvertized by the very Jews who perpetrated it because it was\\nuseful in getting many Palestinians to leave.  The Palestinians\\nwere rightfully scared off, because they did not want another\\nDeir Yassin.  \\n\\tI\\'m not necessarily condemning the Israelites here;\\natrocities were aslo committed on the part of the Arabs.\\nIsraelophiles should just be careful in thinking that they are\\nand were the good guys in the middle east.  Both Arab and Jew\\nsuck equally.\\n',\n",
       " 'From: ohayon@jcpltyo.JCPL.CO.JP (Tsiel Ohayon)\\nSubject: Re: rejoinder. Questions to Israelis\\nOrganization: James Capel Pacific Limited, Tokyo Japan\\nLines: 31\\n\\nIn article <1993Apr26.211905.28317@freenet.carleton.ca> aa229@Freenet.carleton.ca (Steve Birnbaum) writes:\\n\\n[SB] Oh yeah, Israel was really ready to \"expand its borders\" on the holiest day\\n[SB] of the year (Yom Kippur) when the Arabs attacked in 1973.  Oh wait, you\\n[SB] chose to omit that war...perhaps because it 100% supports the exact \\n[SB] OPPOSITE to the point you are trying to make?  I don\\'t think that it\\'s\\n[SB] because it was the war that hit Israel the hardest.  Also, in 1967 it was\\n[SB] Egypt, not Israel who kicked out the UN force.  In 1948 it was the Arabs\\n[SB] who refused to accept the existance of Israel BASED ON THE BORDERS SET\\n[SB] BY THE UNITED NATIONS.  In 1956, Egypt closed off the Red Sea to Israeli\\n[SB] shipping, a clear antagonistic act.  And in 1982 the attack was a response\\n[SB] to years of constant shelling by terrorist organizations from the Golan\\n\\t\\t\\t\\t\\t\\t\\t     ^^^^^^^^^^^^^^^^\\n[SB] Heights. Children were being murdered all the time by terrorists and Israel\\n^^^^^^^^^^^^\\n[SB] finally retaliated.  Nowhere do I see a war that Israel started so that \\n[SB] the borders could be expanded.\\n\\nI agree with all you write except that Terrorist orgs. were not shelling\\nIsrael from the Golan Heights in 1982, but rather from Lebanon. The Golan\\nHeights have been held by Israel since 1967, and therefore the PLO could\\nnot have been shelling Israel from there, unless there is something I am\\nnot aware of.\\n\\n\\nTsiel\\n-- \\n----8<--------------------------------------------------------------->8------\\nTsiel:ohayon@jcpl.co.jp\\t   | If you do not receive this E-mail, please let me\\nEmployer may not have same | know as soon as possible, if possible.\\nopinions, if any !         | Two percent of zero is almost nothing.\\n']"
      ]
     },
     "execution_count": 86,
     "metadata": {},
     "output_type": "execute_result"
    }
   ],
   "source": [
    "text_docs[1:3]"
   ]
  },
  {
   "cell_type": "code",
   "execution_count": null,
   "metadata": {
    "collapsed": true
   },
   "outputs": [],
   "source": []
  },
  {
   "cell_type": "code",
   "execution_count": null,
   "metadata": {
    "collapsed": true
   },
   "outputs": [],
   "source": []
  },
  {
   "cell_type": "code",
   "execution_count": null,
   "metadata": {
    "collapsed": true
   },
   "outputs": [],
   "source": []
  },
  {
   "cell_type": "code",
   "execution_count": null,
   "metadata": {
    "collapsed": true
   },
   "outputs": [],
   "source": []
  },
  {
   "cell_type": "markdown",
   "metadata": {
    "collapsed": true
   },
   "source": [
    "## Clean up text"
   ]
  },
  {
   "cell_type": "markdown",
   "metadata": {},
   "source": [
    "### We need to know about some `string` operations\n",
    "In particular how to change to lower case and replace special characters."
   ]
  },
  {
   "cell_type": "code",
   "execution_count": 93,
   "metadata": {
    "collapsed": true
   },
   "outputs": [
    {
     "name": "stdout",
     "output_type": "stream",
     "text": [
      "Help on module string:\n",
      "\n",
      "NAME\n",
      "    string - A collection of string constants.\n",
      "\n",
      "DESCRIPTION\n",
      "    Public module variables:\n",
      "    \n",
      "    whitespace -- a string containing all ASCII whitespace\n",
      "    ascii_lowercase -- a string containing all ASCII lowercase letters\n",
      "    ascii_uppercase -- a string containing all ASCII uppercase letters\n",
      "    ascii_letters -- a string containing all ASCII letters\n",
      "    digits -- a string containing all ASCII decimal digits\n",
      "    hexdigits -- a string containing all ASCII hexadecimal digits\n",
      "    octdigits -- a string containing all ASCII octal digits\n",
      "    punctuation -- a string containing all ASCII punctuation characters\n",
      "    printable -- a string containing all ASCII characters considered printable\n",
      "\n",
      "CLASSES\n",
      "    builtins.object\n",
      "        Formatter\n",
      "        Template\n",
      "    \n",
      "    class Formatter(builtins.object)\n",
      "     |  Methods defined here:\n",
      "     |  \n",
      "     |  check_unused_args(self, used_args, args, kwargs)\n",
      "     |  \n",
      "     |  convert_field(self, value, conversion)\n",
      "     |  \n",
      "     |  format(self, format_string, *args, **kwargs)\n",
      "     |  \n",
      "     |  format_field(self, value, format_spec)\n",
      "     |  \n",
      "     |  get_field(self, field_name, args, kwargs)\n",
      "     |      # given a field_name, find the object it references.\n",
      "     |      #  field_name:   the field being looked up, e.g. \"0.name\"\n",
      "     |      #                 or \"lookup[3]\"\n",
      "     |      #  used_args:    a set of which args have been used\n",
      "     |      #  args, kwargs: as passed in to vformat\n",
      "     |  \n",
      "     |  get_value(self, key, args, kwargs)\n",
      "     |  \n",
      "     |  parse(self, format_string)\n",
      "     |      # returns an iterable that contains tuples of the form:\n",
      "     |      # (literal_text, field_name, format_spec, conversion)\n",
      "     |      # literal_text can be zero length\n",
      "     |      # field_name can be None, in which case there's no\n",
      "     |      #  object to format and output\n",
      "     |      # if field_name is not None, it is looked up, formatted\n",
      "     |      #  with format_spec and conversion and then used\n",
      "     |  \n",
      "     |  vformat(self, format_string, args, kwargs)\n",
      "     |  \n",
      "     |  ----------------------------------------------------------------------\n",
      "     |  Data descriptors defined here:\n",
      "     |  \n",
      "     |  __dict__\n",
      "     |      dictionary for instance variables (if defined)\n",
      "     |  \n",
      "     |  __weakref__\n",
      "     |      list of weak references to the object (if defined)\n",
      "    \n",
      "    class Template(builtins.object)\n",
      "     |  A string class for supporting $-substitutions.\n",
      "     |  \n",
      "     |  Methods defined here:\n",
      "     |  \n",
      "     |  __init__(self, template)\n",
      "     |  \n",
      "     |  safe_substitute(self, *args, **kws)\n",
      "     |  \n",
      "     |  substitute(self, *args, **kws)\n",
      "     |  \n",
      "     |  ----------------------------------------------------------------------\n",
      "     |  Data descriptors defined here:\n",
      "     |  \n",
      "     |  __dict__\n",
      "     |      dictionary for instance variables (if defined)\n",
      "     |  \n",
      "     |  __weakref__\n",
      "     |      list of weak references to the object (if defined)\n",
      "     |  \n",
      "     |  ----------------------------------------------------------------------\n",
      "     |  Data and other attributes defined here:\n",
      "     |  \n",
      "     |  delimiter = '$'\n",
      "     |  \n",
      "     |  flags = 2\n",
      "     |  \n",
      "     |  idpattern = '[_a-z][_a-z0-9]*'\n",
      "     |  \n",
      "     |  pattern = re.compile('\\n    \\\\$(?:\\n      (?P<escaped>\\\\$)..._a-z][_a-...\n",
      "\n",
      "FUNCTIONS\n",
      "    capwords(s, sep=None)\n",
      "        capwords(s [,sep]) -> string\n",
      "        \n",
      "        Split the argument into words using split, capitalize each\n",
      "        word using capitalize, and join the capitalized words using\n",
      "        join.  If the optional second argument sep is absent or None,\n",
      "        runs of whitespace characters are replaced by a single space\n",
      "        and leading and trailing whitespace are removed, otherwise\n",
      "        sep is used to split and join the words.\n",
      "\n",
      "DATA\n",
      "    ascii_letters = 'abcdefghijklmnopqrstuvwxyzABCDEFGHIJKLMNOPQRSTUVWXYZ'\n",
      "    ascii_lowercase = 'abcdefghijklmnopqrstuvwxyz'\n",
      "    ascii_uppercase = 'ABCDEFGHIJKLMNOPQRSTUVWXYZ'\n",
      "    digits = '0123456789'\n",
      "    hexdigits = '0123456789abcdefABCDEF'\n",
      "    octdigits = '01234567'\n",
      "    printable = '0123456789abcdefghijklmnopqrstuvwxyzABCDEFGHIJKLMNOPQRSTU...\n",
      "    punctuation = '!\"#$%&\\'()*+,-./:;<=>?@[\\\\]^_`{|}~'\n",
      "    whitespace = ' \\t\\n\\r\\x0b\\x0c'\n",
      "\n",
      "FILE\n",
      "    /usr/lib64/python3.4/string.py\n",
      "\n",
      "\n"
     ]
    }
   ],
   "source": [
    "import string\n",
    "help(string)"
   ]
  },
  {
   "cell_type": "code",
   "execution_count": 96,
   "metadata": {
    "collapsed": false
   },
   "outputs": [
    {
     "data": {
      "text/plain": [
       "'1609\\n\\nTHE SONNETS\\n\\nby William Shakespeare\\n\\n\\n\\n                     1\\n  From fairest creatures we desi'"
      ]
     },
     "execution_count": 96,
     "metadata": {},
     "output_type": "execute_result"
    }
   ],
   "source": [
    "txt = open(\"textfiles/shakespeare.txt\").read()\n",
    "txt[0:100]"
   ]
  },
  {
   "cell_type": "code",
   "execution_count": 97,
   "metadata": {
    "collapsed": true
   },
   "outputs": [],
   "source": [
    "txt = txt.lower()"
   ]
  },
  {
   "cell_type": "code",
   "execution_count": 98,
   "metadata": {
    "collapsed": false
   },
   "outputs": [
    {
     "data": {
      "text/plain": [
       "'1609\\n\\nthe\\nsonnets\\n\\nby\\nwilliam\\nshakespeare\\n\\n\\n\\n\\n\\n\\n\\n\\n\\n\\n\\n\\n\\n\\n\\n\\n\\n\\n\\n\\n\\n\\n\\n\\n1\\n\\n\\nfrom\\nfairest\\ncreatures\\nwe\\ndesi'"
      ]
     },
     "execution_count": 98,
     "metadata": {},
     "output_type": "execute_result"
    }
   ],
   "source": [
    "for c in '.;!\\'\" ':\n",
    "    txt = txt.replace(c, '\\n')\n",
    "txt[0:100]"
   ]
  },
  {
   "cell_type": "code",
   "execution_count": 100,
   "metadata": {
    "collapsed": false
   },
   "outputs": [
    {
     "data": {
      "text/plain": [
       "['1609', '', 'the', 'sonnets', '', 'by', 'william', 'shakespeare', '', '']"
      ]
     },
     "execution_count": 100,
     "metadata": {},
     "output_type": "execute_result"
    }
   ],
   "source": [
    "word_list = txt.split('\\n')\n",
    "word_list[0:10]"
   ]
  },
  {
   "cell_type": "markdown",
   "metadata": {},
   "source": [
    "## Lists and Tuples\n",
    "Review list operations, such appending elements, concatenating lists, etc. Python also provides a structure for *tuples* which are quite useful."
   ]
  },
  {
   "cell_type": "code",
   "execution_count": null,
   "metadata": {
    "collapsed": true
   },
   "outputs": [],
   "source": [
    "help(list)"
   ]
  },
  {
   "cell_type": "code",
   "execution_count": null,
   "metadata": {
    "collapsed": false
   },
   "outputs": [],
   "source": [
    "help(tuple)"
   ]
  },
  {
   "cell_type": "code",
   "execution_count": null,
   "metadata": {
    "collapsed": true
   },
   "outputs": [],
   "source": []
  },
  {
   "cell_type": "code",
   "execution_count": 98,
   "metadata": {
    "collapsed": false
   },
   "outputs": [
    {
     "data": {
      "text/plain": [
       "['a', 'b']"
      ]
     },
     "execution_count": 98,
     "metadata": {},
     "output_type": "execute_result"
    }
   ],
   "source": [
    "# Example\n",
    "a = []\n",
    "a.append('a')\n",
    "a.append('z')\n",
    "a += ['b', 'x', 'c']\n",
    "a.sort()\n",
    "a[0:2]"
   ]
  },
  {
   "cell_type": "markdown",
   "metadata": {},
   "source": [
    "## Dictonaries\n",
    "Dictionaries serve as associative arrays that binds keys to values. These can be used to keep track of the individual words. However, retrieving values from their keys can be time consuming."
   ]
  },
  {
   "cell_type": "code",
   "execution_count": null,
   "metadata": {
    "collapsed": false,
    "scrolled": false
   },
   "outputs": [],
   "source": [
    "help(dict)"
   ]
  },
  {
   "cell_type": "code",
   "execution_count": 19,
   "metadata": {
    "collapsed": true
   },
   "outputs": [],
   "source": [
    "f = { 'one': 1, 'two': 2}\n",
    "f['a'] = 0"
   ]
  },
  {
   "cell_type": "code",
   "execution_count": 20,
   "metadata": {
    "collapsed": false
   },
   "outputs": [
    {
     "data": {
      "text/plain": [
       "{'a': 0, 'one': 1, 'two': 2}"
      ]
     },
     "execution_count": 20,
     "metadata": {},
     "output_type": "execute_result"
    }
   ],
   "source": [
    "f"
   ]
  },
  {
   "cell_type": "code",
   "execution_count": 22,
   "metadata": {
    "collapsed": false
   },
   "outputs": [
    {
     "data": {
      "text/plain": [
       "1"
      ]
     },
     "execution_count": 22,
     "metadata": {},
     "output_type": "execute_result"
    }
   ],
   "source": [
    "f['one']"
   ]
  },
  {
   "cell_type": "code",
   "execution_count": 23,
   "metadata": {
    "collapsed": false
   },
   "outputs": [
    {
     "data": {
      "text/plain": [
       "dict_keys(['one', 'two', 'a'])"
      ]
     },
     "execution_count": 23,
     "metadata": {},
     "output_type": "execute_result"
    }
   ],
   "source": [
    "f.keys()"
   ]
  },
  {
   "cell_type": "code",
   "execution_count": 24,
   "metadata": {
    "collapsed": false
   },
   "outputs": [
    {
     "data": {
      "text/plain": [
       "dict_values([1, 2, 0])"
      ]
     },
     "execution_count": 24,
     "metadata": {},
     "output_type": "execute_result"
    }
   ],
   "source": [
    "f.values()"
   ]
  },
  {
   "cell_type": "code",
   "execution_count": 25,
   "metadata": {
    "collapsed": true
   },
   "outputs": [],
   "source": [
    "Ω = 17"
   ]
  },
  {
   "cell_type": "code",
   "execution_count": 26,
   "metadata": {
    "collapsed": false
   },
   "outputs": [
    {
     "data": {
      "text/plain": [
       "17"
      ]
     },
     "execution_count": 26,
     "metadata": {},
     "output_type": "execute_result"
    }
   ],
   "source": [
    "Δ"
   ]
  },
  {
   "cell_type": "code",
   "execution_count": 55,
   "metadata": {
    "collapsed": false
   },
   "outputs": [
    {
     "data": {
      "text/plain": [
       "True"
      ]
     },
     "execution_count": 55,
     "metadata": {},
     "output_type": "execute_result"
    }
   ],
   "source": [
    "'a' in f.keys()"
   ]
  },
  {
   "cell_type": "code",
   "execution_count": 56,
   "metadata": {
    "collapsed": false
   },
   "outputs": [
    {
     "ename": "KeyError",
     "evalue": "'b'",
     "output_type": "error",
     "traceback": [
      "\u001b[0;31m---------------------------------------------------------------------------\u001b[0m",
      "\u001b[0;31mKeyError\u001b[0m                                  Traceback (most recent call last)",
      "\u001b[0;32m<ipython-input-56-6202e5beb3a1>\u001b[0m in \u001b[0;36m<module>\u001b[0;34m()\u001b[0m\n\u001b[0;32m----> 1\u001b[0;31m \u001b[0mf\u001b[0m\u001b[0;34m[\u001b[0m\u001b[0;34m'b'\u001b[0m\u001b[0;34m]\u001b[0m\u001b[0;34m\u001b[0m\u001b[0m\n\u001b[0m",
      "\u001b[0;31mKeyError\u001b[0m: 'b'"
     ]
    }
   ],
   "source": [
    "f['b']"
   ]
  },
  {
   "cell_type": "markdown",
   "metadata": {},
   "source": [
    "## Sorting\n",
    "Here's an example for sorting a list of tuples. "
   ]
  },
  {
   "cell_type": "code",
   "execution_count": 30,
   "metadata": {
    "collapsed": false
   },
   "outputs": [
    {
     "data": {
      "text/plain": [
       "[1, 3, 4, 7, 45, 123, 234]"
      ]
     },
     "execution_count": 30,
     "metadata": {},
     "output_type": "execute_result"
    }
   ],
   "source": [
    "l2 = [3,4,1,45,7,234,123]\n",
    "l2.sort()\n",
    "l2"
   ]
  },
  {
   "cell_type": "code",
   "execution_count": 35,
   "metadata": {
    "collapsed": false
   },
   "outputs": [
    {
     "data": {
      "text/plain": [
       "[(3, 'a'), (9, 'z'), (1, 'y'), (1, 'b'), (5, 'd'), (7, 'x')]"
      ]
     },
     "execution_count": 35,
     "metadata": {},
     "output_type": "execute_result"
    }
   ],
   "source": [
    "l = [(3,'a'), (9, 'z'), (1, 'y'), (1, 'b'), (5, 'd'), (7, 'x')]\n",
    "l"
   ]
  },
  {
   "cell_type": "code",
   "execution_count": 37,
   "metadata": {
    "collapsed": false
   },
   "outputs": [
    {
     "data": {
      "text/plain": [
       "[(1, 'b'), (1, 'y'), (3, 'a'), (5, 'd'), (7, 'x'), (9, 'z')]"
      ]
     },
     "execution_count": 37,
     "metadata": {},
     "output_type": "execute_result"
    }
   ],
   "source": [
    "def take_first(x):\n",
    "    return x[0]\n",
    "\n",
    "l.sort(key=take_first)\n",
    "l"
   ]
  },
  {
   "cell_type": "code",
   "execution_count": 92,
   "metadata": {
    "collapsed": false
   },
   "outputs": [
    {
     "data": {
      "text/plain": [
       "[(7, 'x'), (5, 'd'), (3, 'a'), (1, 'b')]"
      ]
     },
     "execution_count": 92,
     "metadata": {},
     "output_type": "execute_result"
    }
   ],
   "source": [
    "l.sort(key=lambda x: x[0], reverse=True)\n",
    "l"
   ]
  },
  {
   "cell_type": "code",
   "execution_count": 87,
   "metadata": {
    "collapsed": false
   },
   "outputs": [
    {
     "data": {
      "text/plain": [
       "[(5, 'd'), (3, 'a'), (1, 'b')]"
      ]
     },
     "execution_count": 87,
     "metadata": {},
     "output_type": "execute_result"
    }
   ],
   "source": [
    "sorted(l, key=lambda x: x[0], reverse=True)"
   ]
  },
  {
   "cell_type": "code",
   "execution_count": 77,
   "metadata": {
    "collapsed": false,
    "scrolled": true
   },
   "outputs": [
    {
     "data": {
      "text/plain": [
       "[(3, 'a'), (1, 'b'), (5, 'd')]"
      ]
     },
     "execution_count": 77,
     "metadata": {},
     "output_type": "execute_result"
    }
   ],
   "source": [
    "l"
   ]
  },
  {
   "cell_type": "code",
   "execution_count": 41,
   "metadata": {
    "collapsed": false
   },
   "outputs": [
    {
     "data": {
      "text/plain": [
       "[10, 110, 12, 1203]"
      ]
     },
     "execution_count": 41,
     "metadata": {},
     "output_type": "execute_result"
    }
   ],
   "source": [
    "l3 = [10, 110, 12, 1203]\n",
    "l3.sort(key=lambda x: str(x))\n",
    "l3"
   ]
  },
  {
   "cell_type": "code",
   "execution_count": null,
   "metadata": {
    "collapsed": true
   },
   "outputs": [],
   "source": []
  },
  {
   "cell_type": "code",
   "execution_count": null,
   "metadata": {
    "collapsed": true
   },
   "outputs": [],
   "source": []
  },
  {
   "cell_type": "code",
   "execution_count": null,
   "metadata": {
    "collapsed": true
   },
   "outputs": [],
   "source": []
  },
  {
   "cell_type": "code",
   "execution_count": 82,
   "metadata": {
    "collapsed": false
   },
   "outputs": [
    {
     "name": "stdout",
     "output_type": "stream",
     "text": [
      "Help on built-in function sorted in module builtins:\n",
      "\n",
      "sorted(iterable, key=None, reverse=False)\n",
      "    Return a new list containing all items from the iterable in ascending order.\n",
      "    \n",
      "    A custom key function can be supplied to customise the sort order, and the\n",
      "    reverse flag can be set to request the result in descending order.\n",
      "\n"
     ]
    }
   ],
   "source": [
    "help(sorted)"
   ]
  },
  {
   "cell_type": "code",
   "execution_count": null,
   "metadata": {
    "collapsed": true
   },
   "outputs": [],
   "source": [
    "# curl http://ocw.mit.edu/ans7870/6/6.006/s08/lecturenotes/files/t8.shakespeare.txt | tail -n +245 | tr 'A-Z' 'a-z'| tr ' .?:,;' '\\n' | sort | uniq -c | sort -rn | more"
   ]
  },
  {
   "cell_type": "code",
   "execution_count": null,
   "metadata": {
    "collapsed": true
   },
   "outputs": [],
   "source": []
  },
  {
   "cell_type": "code",
   "execution_count": 1,
   "metadata": {
    "collapsed": false
   },
   "outputs": [
    {
     "data": {
      "text/plain": [
       "'1609\\n\\nTHE SONNETS\\n\\nby William Shakespeare\\n\\n\\n\\n                     1\\n  From fairest creatures we desi'"
      ]
     },
     "execution_count": 1,
     "metadata": {},
     "output_type": "execute_result"
    }
   ],
   "source": [
    "txt = open('textfiles/shakespeare.txt', 'r').read()\n",
    "txt[0:100]"
   ]
  },
  {
   "cell_type": "code",
   "execution_count": 22,
   "metadata": {
    "collapsed": false
   },
   "outputs": [
    {
     "data": {
      "text/plain": [
       "'1609\\n\\nthe sonnets\\n\\nby william shakespeare\\n\\n\\n\\n                     1\\n  from fairest creatures we desi'"
      ]
     },
     "execution_count": 22,
     "metadata": {},
     "output_type": "execute_result"
    }
   ],
   "source": [
    "txt2 = txt.replace(',', '\\n').replace('.', '\\n').replace('?', '\\n').replace('!', '\\n').replace('\\'', '\\n').replace('\"', '\\n').lower()\n",
    "txt2[0:100]"
   ]
  },
  {
   "cell_type": "code",
   "execution_count": 23,
   "metadata": {
    "collapsed": true
   },
   "outputs": [],
   "source": [
    "wordlist = txt2.split()\n",
    "\n",
    "wordlist.sort()\n",
    "results = []\n",
    "current_word = wordlist[0]\n",
    "current_counter = 1\n",
    "for w in wordlist[1:]:\n",
    "    if w!=current_word:\n",
    "        results.append((current_word, current_counter))\n",
    "        current_word = w\n",
    "        current_counter = 1\n",
    "    else:\n",
    "        current_counter += 1\n",
    "results.append((current_word, current_counter))\n",
    "results.sort(key=lambda x: x[1], reverse=True)\n",
    "results[0:10]"
   ]
  },
  {
   "cell_type": "code",
   "execution_count": 25,
   "metadata": {
    "collapsed": false
   },
   "outputs": [
    {
     "data": {
      "text/plain": [
       "[('&', 3),\n",
       " ('&c', 18),\n",
       " ('(1)', 218),\n",
       " ('(2)', 218),\n",
       " ('(a', 3),\n",
       " ('(alack', 1),\n",
       " ('(all', 4),\n",
       " ('(although', 2),\n",
       " ('(always', 1),\n",
       " ('(as', 17)]"
      ]
     },
     "execution_count": 25,
     "metadata": {},
     "output_type": "execute_result"
    }
   ],
   "source": [
    "results[0:10]"
   ]
  },
  {
   "cell_type": "code",
   "execution_count": 27,
   "metadata": {
    "collapsed": true
   },
   "outputs": [],
   "source": [
    "results.sort(key=lambda x: x[1], reverse=True)"
   ]
  },
  {
   "cell_type": "code",
   "execution_count": 28,
   "metadata": {
    "collapsed": false
   },
   "outputs": [
    {
     "data": {
      "text/plain": [
       "[('the', 27531),\n",
       " ('and', 26658),\n",
       " ('i', 22430),\n",
       " ('to', 18937),\n",
       " ('of', 18103),\n",
       " ('a', 14554),\n",
       " ('you', 13475),\n",
       " ('my', 12474),\n",
       " ('that', 11457),\n",
       " ('in', 11010)]"
      ]
     },
     "execution_count": 28,
     "metadata": {},
     "output_type": "execute_result"
    }
   ],
   "source": [
    "results[0:10]"
   ]
  },
  {
   "cell_type": "code",
   "execution_count": null,
   "metadata": {
    "collapsed": true
   },
   "outputs": [],
   "source": []
  },
  {
   "cell_type": "code",
   "execution_count": 33,
   "metadata": {
    "collapsed": false
   },
   "outputs": [
    {
     "data": {
      "text/plain": [
       "[('the', 27531),\n",
       " ('and', 26658),\n",
       " ('i', 22430),\n",
       " ('to', 18937),\n",
       " ('of', 18103),\n",
       " ('a', 14554),\n",
       " ('you', 13475),\n",
       " ('my', 12474),\n",
       " ('that', 11457),\n",
       " ('in', 11010)]"
      ]
     },
     "execution_count": 33,
     "metadata": {},
     "output_type": "execute_result"
    }
   ],
   "source": [
    "wordlist = txt2.split()\n",
    "\n",
    "reshash = {}\n",
    "for w in wordlist:\n",
    "    if w in reshash.keys():\n",
    "        reshash[w] += 1\n",
    "    else:\n",
    "        reshash[w] = 1\n",
    "\n",
    "results = [(k, reshash[k]) for k in reshash.keys()]\n",
    "results.sort(key=lambda x: x[1], reverse=True)\n",
    "results[0:10]"
   ]
  },
  {
   "cell_type": "code",
   "execution_count": 31,
   "metadata": {
    "collapsed": false
   },
   "outputs": [
    {
     "data": {
      "text/plain": [
       "[('misuse', 8),\n",
       " ('julia', 153),\n",
       " ('legacy', 5),\n",
       " ('unhand', 1),\n",
       " ('nine-', 1),\n",
       " ('long-ingraffed', 1),\n",
       " ('substances', 2),\n",
       " ('profound;', 1),\n",
       " ('austerely', 2),\n",
       " ('executed', 18)]"
      ]
     },
     "execution_count": 31,
     "metadata": {},
     "output_type": "execute_result"
    }
   ],
   "source": []
  },
  {
   "cell_type": "code",
   "execution_count": null,
   "metadata": {
    "collapsed": true
   },
   "outputs": [],
   "source": []
  },
  {
   "cell_type": "code",
   "execution_count": null,
   "metadata": {
    "collapsed": true
   },
   "outputs": [],
   "source": []
  },
  {
   "cell_type": "code",
   "execution_count": null,
   "metadata": {
    "collapsed": true
   },
   "outputs": [],
   "source": []
  },
  {
   "cell_type": "code",
   "execution_count": null,
   "metadata": {
    "collapsed": true
   },
   "outputs": [],
   "source": []
  },
  {
   "cell_type": "code",
   "execution_count": null,
   "metadata": {
    "collapsed": true
   },
   "outputs": [],
   "source": []
  }
 ],
 "metadata": {
  "kernelspec": {
   "display_name": "Python 3",
   "language": "python",
   "name": "python3"
  },
  "language_info": {
   "codemirror_mode": {
    "name": "ipython",
    "version": 3
   },
   "file_extension": ".py",
   "mimetype": "text/x-python",
   "name": "python",
   "nbconvert_exporter": "python",
   "pygments_lexer": "ipython3",
   "version": "3.4.3"
  }
 },
 "nbformat": 4,
 "nbformat_minor": 0
}
