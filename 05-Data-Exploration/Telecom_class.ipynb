{
 "cells": [
  {
   "cell_type": "markdown",
   "metadata": {},
   "source": [
    "<p style=\"color: red; font-size: 16pt; font-weight: bold; text-align:center;\">Change the name of this notebook before you edit!</p>"
   ]
  },
  {
   "cell_type": "markdown",
   "metadata": {},
   "source": [
    "# Telecom Data\n",
    "\n",
    "Source: https://www.kaggle.com/code/manishpuraswani/telecom-data-lr/input"
   ]
  },
  {
   "cell_type": "code",
   "metadata": {},
   "source": [
    "! ls -lh /data/IFI8410/telecom/"
   ],
   "outputs": [],
   "execution_count": null
  },
  {
   "cell_type": "markdown",
   "metadata": {},
   "source": [
    "# Setup"
   ]
  },
  {
   "cell_type": "code",
   "metadata": {},
   "source": [
    "%reload_ext autoreload\n",
    "%autoreload 2\n",
    "\n",
    "import sys\n",
    "import os\n",
    "import math\n",
    "import numpy as np\n",
    "import pandas as pd\n",
    "import matplotlib.pyplot as plt"
   ],
   "outputs": [],
   "execution_count": null
  },
  {
   "cell_type": "markdown",
   "metadata": {},
   "source": [
    "# Load data"
   ]
  },
  {
   "cell_type": "code",
   "metadata": {},
   "source": [
    "customer_df = pd.read_csv('/data/IFI8410/telecom/customer_data.csv')\n",
    "print(f\"Number of customer records: {customer_df.shape[0]:,}\")"
   ],
   "outputs": [],
   "execution_count": null
  },
  {
   "cell_type": "code",
   "metadata": {},
   "source": [
    "internet_df = pd.read_csv('/data/IFI8410/telecom/internet_data.csv')\n",
    "print(f\"Number of internet records: {internet_df.shape[0]:,}\")"
   ],
   "outputs": [],
   "execution_count": null
  },
  {
   "cell_type": "code",
   "metadata": {},
   "source": [
    "churn_df = pd.read_csv('/data/IFI8410/telecom/churn_data.csv')\n",
    "print(f\"Number of internet records: {churn_df.shape[0]:,}\")"
   ],
   "outputs": [],
   "execution_count": null
  },
  {
   "cell_type": "markdown",
   "metadata": {},
   "source": [
    "## What does the data look like?"
   ]
  },
  {
   "cell_type": "code",
   "metadata": {},
   "source": [
    "customer_df.head()"
   ],
   "outputs": [],
   "execution_count": null
  },
  {
   "cell_type": "code",
   "metadata": {},
   "source": [
    "internet_df.head()"
   ],
   "outputs": [],
   "execution_count": null
  },
  {
   "cell_type": "code",
   "metadata": {},
   "source": [
    "churn_df.head()"
   ],
   "outputs": [],
   "execution_count": null
  },
  {
   "cell_type": "markdown",
   "metadata": {},
   "source": [
    "## More Details"
   ]
  },
  {
   "cell_type": "code",
   "metadata": {},
   "source": [
    "customer_df.dtypes"
   ],
   "outputs": [],
   "execution_count": null
  },
  {
   "cell_type": "code",
   "metadata": {},
   "source": [
    "internet_df.dtypes"
   ],
   "outputs": [],
   "execution_count": null
  },
  {
   "cell_type": "code",
   "metadata": {},
   "source": [
    "churn_df.dtypes"
   ],
   "outputs": [],
   "execution_count": null
  },
  {
   "cell_type": "markdown",
   "metadata": {},
   "source": [
    "Data might need some cleaning:\n",
    "\n",
    "`TotalCharges` is a string (object), should be a numerical value"
   ]
  },
  {
   "cell_type": "code",
   "metadata": {},
   "source": [],
   "outputs": [],
   "execution_count": null
  },
  {
   "cell_type": "code",
   "metadata": {},
   "source": [
    "jdf = pd.merge(internet_df, churn_df, on='customerID', how='inner') \\\n",
    "    .reset_index()\n",
    "print(jdf.shape)"
   ],
   "outputs": [],
   "execution_count": null
  },
  {
   "cell_type": "markdown",
   "metadata": {},
   "source": [
    "Let's compare features from two tables:"
   ]
  },
  {
   "metadata": {},
   "cell_type": "code",
   "source": "jdf.groupby(['InternetService']).apply('count')",
   "outputs": [],
   "execution_count": null
  },
  {
   "cell_type": "code",
   "metadata": {},
   "source": [
    "pd.pivot_table(jdf, \n",
    "               index='PaymentMethod', \n",
    "               columns='InternetService', \n",
    "               values='customerID',\n",
    "               aggfunc='count')"
   ],
   "outputs": [],
   "execution_count": null
  },
  {
   "cell_type": "markdown",
   "metadata": {},
   "source": [
    "## Deep Dive:\n",
    "- Selecting rows and columns\n",
    "- Joining tables vs extending/concatenating\n",
    "    - inner, outer\n",
    "    - merge() vs join()\n",
    "- Adding new columns, copy sub-table\n",
    "- Loading and saving data (why `index=None` ?)\n"
   ]
  },
  {
   "cell_type": "code",
   "metadata": {},
   "source": [],
   "outputs": [],
   "execution_count": null
  },
  {
   "cell_type": "code",
   "metadata": {},
   "source": [],
   "outputs": [],
   "execution_count": null
  }
 ],
 "metadata": {
  "kernelspec": {
   "display_name": "Python 3 (ipykernel)",
   "language": "python",
   "name": "python3"
  },
  "language_info": {
   "codemirror_mode": {
    "name": "ipython",
    "version": 3
   },
   "file_extension": ".py",
   "mimetype": "text/x-python",
   "name": "python",
   "nbconvert_exporter": "python",
   "pygments_lexer": "ipython3",
   "version": "3.11.9"
  }
 },
 "nbformat": 4,
 "nbformat_minor": 4
}
