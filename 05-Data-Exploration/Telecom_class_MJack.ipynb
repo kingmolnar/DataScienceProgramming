{
 "cells": [
  {
   "cell_type": "markdown",
   "metadata": {},
   "source": [
    "<p style=\"color: red; font-size: 16pt; font-weight: bold; text-align:center;\">Change the name of this notebook before you edit!</p>"
   ]
  },
  {
   "cell_type": "markdown",
   "metadata": {},
   "source": [
    "# Telecom Data\n",
    "\n",
    "Source: https://www.kaggle.com/code/manishpuraswani/telecom-data-lr/input"
   ]
  },
  {
   "cell_type": "code",
   "execution_count": 1,
   "metadata": {
    "ExecuteTime": {
     "end_time": "2024-09-27T21:25:04.037424Z",
     "start_time": "2024-09-27T21:25:03.351593Z"
    }
   },
   "outputs": [
    {
     "name": "stdout",
     "output_type": "stream",
     "text": [
      "total 1.2M\n",
      "-rw-rw-r--. 1 pmolnar ifi8410_instructor 480K Oct 23  2023 churn_data.csv\n",
      "-rw-rw-r--. 1 pmolnar ifi8410_instructor 185K Oct 23  2023 customer_data.csv\n",
      "-rw-rw-r--. 1 pmolnar ifi8410_instructor 456K Oct 23  2023 internet_data.csv\n",
      "-rw-rw-r--. 1 pmolnar ifi8410_instructor  162 Jan 30  2024 README.md\n"
     ]
    }
   ],
   "source": [
    "! ls -lh /data/IFI8410/telecom/"
   ]
  },
  {
   "cell_type": "markdown",
   "metadata": {},
   "source": [
    "# Setup"
   ]
  },
  {
   "cell_type": "code",
   "execution_count": 2,
   "metadata": {
    "ExecuteTime": {
     "end_time": "2024-09-27T21:25:13.384565Z",
     "start_time": "2024-09-27T21:25:04.048024Z"
    }
   },
   "outputs": [],
   "source": [
    "%reload_ext autoreload\n",
    "%autoreload 2\n",
    "\n",
    "import sys\n",
    "import os\n",
    "import math\n",
    "import numpy as np\n",
    "import pandas as pd\n",
    "import matplotlib.pyplot as plt"
   ]
  },
  {
   "cell_type": "markdown",
   "metadata": {},
   "source": [
    "# Load data"
   ]
  },
  {
   "cell_type": "code",
   "execution_count": 3,
   "metadata": {
    "ExecuteTime": {
     "end_time": "2024-09-27T21:25:14.290141Z",
     "start_time": "2024-09-27T21:25:13.818401Z"
    }
   },
   "outputs": [
    {
     "name": "stdout",
     "output_type": "stream",
     "text": [
      "Number of customer records: 7,042\n"
     ]
    }
   ],
   "source": [
    "customer_df = pd.read_csv('/data/IFI8410/telecom/customer_data.csv')\n",
    "print(f\"Number of customer records: {customer_df.shape[0]:,}\")"
   ]
  },
  {
   "cell_type": "code",
   "execution_count": 4,
   "metadata": {},
   "outputs": [
    {
     "name": "stdout",
     "output_type": "stream",
     "text": [
      "Number of internet records: 7,042\n"
     ]
    }
   ],
   "source": [
    "internet_df = pd.read_csv('/data/IFI8410/telecom/internet_data.csv')\n",
    "print(f\"Number of internet records: {internet_df.shape[0]:,}\")"
   ]
  },
  {
   "cell_type": "code",
   "execution_count": 5,
   "metadata": {},
   "outputs": [
    {
     "name": "stdout",
     "output_type": "stream",
     "text": [
      "Number of internet records: 7,042\n"
     ]
    }
   ],
   "source": [
    "churn_df = pd.read_csv('/data/IFI8410/telecom/churn_data.csv')\n",
    "print(f\"Number of internet records: {churn_df.shape[0]:,}\")"
   ]
  },
  {
   "cell_type": "markdown",
   "metadata": {},
   "source": [
    "## What does the data look like?"
   ]
  },
  {
   "cell_type": "code",
   "execution_count": 6,
   "metadata": {},
   "outputs": [
    {
     "data": {
      "text/html": [
       "<div>\n",
       "<style scoped>\n",
       "    .dataframe tbody tr th:only-of-type {\n",
       "        vertical-align: middle;\n",
       "    }\n",
       "\n",
       "    .dataframe tbody tr th {\n",
       "        vertical-align: top;\n",
       "    }\n",
       "\n",
       "    .dataframe thead th {\n",
       "        text-align: right;\n",
       "    }\n",
       "</style>\n",
       "<table border=\"1\" class=\"dataframe\">\n",
       "  <thead>\n",
       "    <tr style=\"text-align: right;\">\n",
       "      <th></th>\n",
       "      <th>customerID</th>\n",
       "      <th>gender</th>\n",
       "      <th>SeniorCitizen</th>\n",
       "      <th>Partner</th>\n",
       "      <th>Dependents</th>\n",
       "    </tr>\n",
       "  </thead>\n",
       "  <tbody>\n",
       "    <tr>\n",
       "      <th>0</th>\n",
       "      <td>7590-VHVEG</td>\n",
       "      <td>Female</td>\n",
       "      <td>0</td>\n",
       "      <td>Yes</td>\n",
       "      <td>No</td>\n",
       "    </tr>\n",
       "    <tr>\n",
       "      <th>1</th>\n",
       "      <td>5575-GNVDE</td>\n",
       "      <td>Male</td>\n",
       "      <td>0</td>\n",
       "      <td>No</td>\n",
       "      <td>No</td>\n",
       "    </tr>\n",
       "    <tr>\n",
       "      <th>2</th>\n",
       "      <td>3668-QPYBK</td>\n",
       "      <td>Male</td>\n",
       "      <td>0</td>\n",
       "      <td>No</td>\n",
       "      <td>No</td>\n",
       "    </tr>\n",
       "    <tr>\n",
       "      <th>3</th>\n",
       "      <td>7795-CFOCW</td>\n",
       "      <td>Male</td>\n",
       "      <td>0</td>\n",
       "      <td>No</td>\n",
       "      <td>No</td>\n",
       "    </tr>\n",
       "    <tr>\n",
       "      <th>4</th>\n",
       "      <td>9237-HQITU</td>\n",
       "      <td>Female</td>\n",
       "      <td>0</td>\n",
       "      <td>No</td>\n",
       "      <td>No</td>\n",
       "    </tr>\n",
       "  </tbody>\n",
       "</table>\n",
       "</div>"
      ],
      "text/plain": [
       "   customerID  gender  SeniorCitizen Partner Dependents\n",
       "0  7590-VHVEG  Female              0     Yes         No\n",
       "1  5575-GNVDE    Male              0      No         No\n",
       "2  3668-QPYBK    Male              0      No         No\n",
       "3  7795-CFOCW    Male              0      No         No\n",
       "4  9237-HQITU  Female              0      No         No"
      ]
     },
     "execution_count": 6,
     "metadata": {},
     "output_type": "execute_result"
    }
   ],
   "source": [
    "customer_df.head()"
   ]
  },
  {
   "cell_type": "code",
   "execution_count": 7,
   "metadata": {},
   "outputs": [
    {
     "data": {
      "text/html": [
       "<div>\n",
       "<style scoped>\n",
       "    .dataframe tbody tr th:only-of-type {\n",
       "        vertical-align: middle;\n",
       "    }\n",
       "\n",
       "    .dataframe tbody tr th {\n",
       "        vertical-align: top;\n",
       "    }\n",
       "\n",
       "    .dataframe thead th {\n",
       "        text-align: right;\n",
       "    }\n",
       "</style>\n",
       "<table border=\"1\" class=\"dataframe\">\n",
       "  <thead>\n",
       "    <tr style=\"text-align: right;\">\n",
       "      <th></th>\n",
       "      <th>customerID</th>\n",
       "      <th>MultipleLines</th>\n",
       "      <th>InternetService</th>\n",
       "      <th>OnlineSecurity</th>\n",
       "      <th>OnlineBackup</th>\n",
       "      <th>DeviceProtection</th>\n",
       "      <th>TechSupport</th>\n",
       "      <th>StreamingTV</th>\n",
       "      <th>StreamingMovies</th>\n",
       "    </tr>\n",
       "  </thead>\n",
       "  <tbody>\n",
       "    <tr>\n",
       "      <th>0</th>\n",
       "      <td>7590-VHVEG</td>\n",
       "      <td>No phone service</td>\n",
       "      <td>DSL</td>\n",
       "      <td>No</td>\n",
       "      <td>Yes</td>\n",
       "      <td>No</td>\n",
       "      <td>No</td>\n",
       "      <td>No</td>\n",
       "      <td>No</td>\n",
       "    </tr>\n",
       "    <tr>\n",
       "      <th>1</th>\n",
       "      <td>5575-GNVDE</td>\n",
       "      <td>No</td>\n",
       "      <td>DSL</td>\n",
       "      <td>Yes</td>\n",
       "      <td>No</td>\n",
       "      <td>Yes</td>\n",
       "      <td>No</td>\n",
       "      <td>No</td>\n",
       "      <td>No</td>\n",
       "    </tr>\n",
       "    <tr>\n",
       "      <th>2</th>\n",
       "      <td>3668-QPYBK</td>\n",
       "      <td>No</td>\n",
       "      <td>DSL</td>\n",
       "      <td>Yes</td>\n",
       "      <td>Yes</td>\n",
       "      <td>No</td>\n",
       "      <td>No</td>\n",
       "      <td>No</td>\n",
       "      <td>No</td>\n",
       "    </tr>\n",
       "    <tr>\n",
       "      <th>3</th>\n",
       "      <td>7795-CFOCW</td>\n",
       "      <td>No phone service</td>\n",
       "      <td>DSL</td>\n",
       "      <td>Yes</td>\n",
       "      <td>No</td>\n",
       "      <td>Yes</td>\n",
       "      <td>Yes</td>\n",
       "      <td>No</td>\n",
       "      <td>No</td>\n",
       "    </tr>\n",
       "    <tr>\n",
       "      <th>4</th>\n",
       "      <td>9237-HQITU</td>\n",
       "      <td>No</td>\n",
       "      <td>Fiber optic</td>\n",
       "      <td>No</td>\n",
       "      <td>No</td>\n",
       "      <td>No</td>\n",
       "      <td>No</td>\n",
       "      <td>No</td>\n",
       "      <td>No</td>\n",
       "    </tr>\n",
       "  </tbody>\n",
       "</table>\n",
       "</div>"
      ],
      "text/plain": [
       "   customerID     MultipleLines InternetService OnlineSecurity OnlineBackup  \\\n",
       "0  7590-VHVEG  No phone service             DSL             No          Yes   \n",
       "1  5575-GNVDE                No             DSL            Yes           No   \n",
       "2  3668-QPYBK                No             DSL            Yes          Yes   \n",
       "3  7795-CFOCW  No phone service             DSL            Yes           No   \n",
       "4  9237-HQITU                No     Fiber optic             No           No   \n",
       "\n",
       "  DeviceProtection TechSupport StreamingTV StreamingMovies  \n",
       "0               No          No          No              No  \n",
       "1              Yes          No          No              No  \n",
       "2               No          No          No              No  \n",
       "3              Yes         Yes          No              No  \n",
       "4               No          No          No              No  "
      ]
     },
     "execution_count": 7,
     "metadata": {},
     "output_type": "execute_result"
    }
   ],
   "source": [
    "internet_df.head()"
   ]
  },
  {
   "cell_type": "code",
   "execution_count": 8,
   "metadata": {},
   "outputs": [
    {
     "data": {
      "text/html": [
       "<div>\n",
       "<style scoped>\n",
       "    .dataframe tbody tr th:only-of-type {\n",
       "        vertical-align: middle;\n",
       "    }\n",
       "\n",
       "    .dataframe tbody tr th {\n",
       "        vertical-align: top;\n",
       "    }\n",
       "\n",
       "    .dataframe thead th {\n",
       "        text-align: right;\n",
       "    }\n",
       "</style>\n",
       "<table border=\"1\" class=\"dataframe\">\n",
       "  <thead>\n",
       "    <tr style=\"text-align: right;\">\n",
       "      <th></th>\n",
       "      <th>customerID</th>\n",
       "      <th>tenure</th>\n",
       "      <th>PhoneService</th>\n",
       "      <th>Contract</th>\n",
       "      <th>PaperlessBilling</th>\n",
       "      <th>PaymentMethod</th>\n",
       "      <th>MonthlyCharges</th>\n",
       "      <th>TotalCharges</th>\n",
       "      <th>Churn</th>\n",
       "    </tr>\n",
       "  </thead>\n",
       "  <tbody>\n",
       "    <tr>\n",
       "      <th>0</th>\n",
       "      <td>7590-VHVEG</td>\n",
       "      <td>1</td>\n",
       "      <td>No</td>\n",
       "      <td>Month-to-month</td>\n",
       "      <td>Yes</td>\n",
       "      <td>Electronic check</td>\n",
       "      <td>29.85</td>\n",
       "      <td>29.85</td>\n",
       "      <td>No</td>\n",
       "    </tr>\n",
       "    <tr>\n",
       "      <th>1</th>\n",
       "      <td>5575-GNVDE</td>\n",
       "      <td>34</td>\n",
       "      <td>Yes</td>\n",
       "      <td>One year</td>\n",
       "      <td>No</td>\n",
       "      <td>Mailed check</td>\n",
       "      <td>56.95</td>\n",
       "      <td>1889.5</td>\n",
       "      <td>No</td>\n",
       "    </tr>\n",
       "    <tr>\n",
       "      <th>2</th>\n",
       "      <td>3668-QPYBK</td>\n",
       "      <td>2</td>\n",
       "      <td>Yes</td>\n",
       "      <td>Month-to-month</td>\n",
       "      <td>Yes</td>\n",
       "      <td>Mailed check</td>\n",
       "      <td>53.85</td>\n",
       "      <td>108.15</td>\n",
       "      <td>Yes</td>\n",
       "    </tr>\n",
       "    <tr>\n",
       "      <th>3</th>\n",
       "      <td>7795-CFOCW</td>\n",
       "      <td>45</td>\n",
       "      <td>No</td>\n",
       "      <td>One year</td>\n",
       "      <td>No</td>\n",
       "      <td>Bank transfer (automatic)</td>\n",
       "      <td>42.30</td>\n",
       "      <td>1840.75</td>\n",
       "      <td>No</td>\n",
       "    </tr>\n",
       "    <tr>\n",
       "      <th>4</th>\n",
       "      <td>9237-HQITU</td>\n",
       "      <td>2</td>\n",
       "      <td>Yes</td>\n",
       "      <td>Month-to-month</td>\n",
       "      <td>Yes</td>\n",
       "      <td>Electronic check</td>\n",
       "      <td>70.70</td>\n",
       "      <td>151.65</td>\n",
       "      <td>Yes</td>\n",
       "    </tr>\n",
       "  </tbody>\n",
       "</table>\n",
       "</div>"
      ],
      "text/plain": [
       "   customerID  tenure PhoneService        Contract PaperlessBilling  \\\n",
       "0  7590-VHVEG       1           No  Month-to-month              Yes   \n",
       "1  5575-GNVDE      34          Yes        One year               No   \n",
       "2  3668-QPYBK       2          Yes  Month-to-month              Yes   \n",
       "3  7795-CFOCW      45           No        One year               No   \n",
       "4  9237-HQITU       2          Yes  Month-to-month              Yes   \n",
       "\n",
       "               PaymentMethod  MonthlyCharges TotalCharges Churn  \n",
       "0           Electronic check           29.85        29.85    No  \n",
       "1               Mailed check           56.95       1889.5    No  \n",
       "2               Mailed check           53.85       108.15   Yes  \n",
       "3  Bank transfer (automatic)           42.30      1840.75    No  \n",
       "4           Electronic check           70.70       151.65   Yes  "
      ]
     },
     "execution_count": 8,
     "metadata": {},
     "output_type": "execute_result"
    }
   ],
   "source": [
    "churn_df.head()"
   ]
  },
  {
   "cell_type": "code",
   "execution_count": 9,
   "metadata": {},
   "outputs": [
    {
     "data": {
      "text/plain": [
       "array(['Female', 'Male'], dtype=object)"
      ]
     },
     "execution_count": 9,
     "metadata": {},
     "output_type": "execute_result"
    }
   ],
   "source": [
    "customer_df['gender'].unique()"
   ]
  },
  {
   "cell_type": "code",
   "execution_count": null,
   "metadata": {},
   "outputs": [],
   "source": [
    "\n"
   ]
  },
  {
   "cell_type": "markdown",
   "metadata": {},
   "source": [
    "## More Details"
   ]
  },
  {
   "cell_type": "code",
   "execution_count": 10,
   "metadata": {},
   "outputs": [
    {
     "data": {
      "text/plain": [
       "customerID       object\n",
       "gender           object\n",
       "SeniorCitizen     int64\n",
       "Partner          object\n",
       "Dependents       object\n",
       "dtype: object"
      ]
     },
     "execution_count": 10,
     "metadata": {},
     "output_type": "execute_result"
    }
   ],
   "source": [
    "customer_df.dtypes"
   ]
  },
  {
   "cell_type": "code",
   "execution_count": 11,
   "metadata": {},
   "outputs": [
    {
     "data": {
      "text/plain": [
       "customerID          object\n",
       "MultipleLines       object\n",
       "InternetService     object\n",
       "OnlineSecurity      object\n",
       "OnlineBackup        object\n",
       "DeviceProtection    object\n",
       "TechSupport         object\n",
       "StreamingTV         object\n",
       "StreamingMovies     object\n",
       "dtype: object"
      ]
     },
     "execution_count": 11,
     "metadata": {},
     "output_type": "execute_result"
    }
   ],
   "source": [
    "internet_df.dtypes"
   ]
  },
  {
   "cell_type": "code",
   "execution_count": 12,
   "metadata": {},
   "outputs": [
    {
     "data": {
      "text/plain": [
       "customerID           object\n",
       "tenure                int64\n",
       "PhoneService         object\n",
       "Contract             object\n",
       "PaperlessBilling     object\n",
       "PaymentMethod        object\n",
       "MonthlyCharges      float64\n",
       "TotalCharges         object\n",
       "Churn                object\n",
       "dtype: object"
      ]
     },
     "execution_count": 12,
     "metadata": {},
     "output_type": "execute_result"
    }
   ],
   "source": [
    "churn_df.dtypes"
   ]
  },
  {
   "cell_type": "markdown",
   "metadata": {},
   "source": [
    "Data might need some cleaning:\n",
    "\n",
    "`TotalCharges` is a string (object), should be a numerical value"
   ]
  },
  {
   "cell_type": "code",
   "execution_count": null,
   "metadata": {},
   "outputs": [],
   "source": []
  },
  {
   "cell_type": "code",
   "execution_count": 13,
   "metadata": {},
   "outputs": [
    {
     "name": "stdout",
     "output_type": "stream",
     "text": [
      "(7042, 18)\n"
     ]
    }
   ],
   "source": [
    "jdf = pd.merge(internet_df, churn_df, on='customerID', how='inner') \\\n",
    "    .reset_index()\n",
    "print(jdf.shape)"
   ]
  },
  {
   "cell_type": "markdown",
   "metadata": {},
   "source": [
    "Let's compare features from two tables:"
   ]
  },
  {
   "cell_type": "code",
   "execution_count": 14,
   "metadata": {},
   "outputs": [
    {
     "data": {
      "text/plain": [
       "InternetService  PaymentMethod            \n",
       "DSL              Bank transfer (automatic)     566\n",
       "                 Credit card (automatic)       594\n",
       "                 Electronic check              648\n",
       "                 Mailed check                  613\n",
       "Fiber optic      Bank transfer (automatic)     645\n",
       "                 Credit card (automatic)       597\n",
       "                 Electronic check             1595\n",
       "                 Mailed check                  258\n",
       "No               Bank transfer (automatic)     332\n",
       "                 Credit card (automatic)       331\n",
       "                 Electronic check              122\n",
       "                 Mailed check                  741\n",
       "Name: customerID, dtype: int64"
      ]
     },
     "execution_count": 14,
     "metadata": {},
     "output_type": "execute_result"
    }
   ],
   "source": [
    "jdf.groupby(['InternetService', 'PaymentMethod'])['customerID'].apply('count')"
   ]
  },
  {
   "cell_type": "code",
   "execution_count": 15,
   "metadata": {},
   "outputs": [
    {
     "data": {
      "text/html": [
       "<div>\n",
       "<style scoped>\n",
       "    .dataframe tbody tr th:only-of-type {\n",
       "        vertical-align: middle;\n",
       "    }\n",
       "\n",
       "    .dataframe tbody tr th {\n",
       "        vertical-align: top;\n",
       "    }\n",
       "\n",
       "    .dataframe thead th {\n",
       "        text-align: right;\n",
       "    }\n",
       "</style>\n",
       "<table border=\"1\" class=\"dataframe\">\n",
       "  <thead>\n",
       "    <tr style=\"text-align: right;\">\n",
       "      <th>InternetService</th>\n",
       "      <th>DSL</th>\n",
       "      <th>Fiber optic</th>\n",
       "      <th>No</th>\n",
       "    </tr>\n",
       "    <tr>\n",
       "      <th>PaymentMethod</th>\n",
       "      <th></th>\n",
       "      <th></th>\n",
       "      <th></th>\n",
       "    </tr>\n",
       "  </thead>\n",
       "  <tbody>\n",
       "    <tr>\n",
       "      <th>Bank transfer (automatic)</th>\n",
       "      <td>566</td>\n",
       "      <td>645</td>\n",
       "      <td>332</td>\n",
       "    </tr>\n",
       "    <tr>\n",
       "      <th>Credit card (automatic)</th>\n",
       "      <td>594</td>\n",
       "      <td>597</td>\n",
       "      <td>331</td>\n",
       "    </tr>\n",
       "    <tr>\n",
       "      <th>Electronic check</th>\n",
       "      <td>648</td>\n",
       "      <td>1595</td>\n",
       "      <td>122</td>\n",
       "    </tr>\n",
       "    <tr>\n",
       "      <th>Mailed check</th>\n",
       "      <td>613</td>\n",
       "      <td>258</td>\n",
       "      <td>741</td>\n",
       "    </tr>\n",
       "  </tbody>\n",
       "</table>\n",
       "</div>"
      ],
      "text/plain": [
       "InternetService            DSL  Fiber optic   No\n",
       "PaymentMethod                                   \n",
       "Bank transfer (automatic)  566          645  332\n",
       "Credit card (automatic)    594          597  331\n",
       "Electronic check           648         1595  122\n",
       "Mailed check               613          258  741"
      ]
     },
     "execution_count": 15,
     "metadata": {},
     "output_type": "execute_result"
    }
   ],
   "source": [
    "pd.pivot_table(jdf, \n",
    "               index='PaymentMethod', \n",
    "               columns='InternetService', \n",
    "               values='customerID',\n",
    "               aggfunc='count')"
   ]
  },
  {
   "cell_type": "markdown",
   "metadata": {},
   "source": [
    "## Deep Dive:\n",
    "- Selecting rows and columns\n",
    "- Joining tables vs extending/concatenating\n",
    "    - inner, outer\n",
    "    - merge() vs join()\n",
    "- Adding new columns, copy sub-table\n",
    "- Loading and saving data (why `index=None` ?)\n"
   ]
  },
  {
   "cell_type": "markdown",
   "metadata": {},
   "source": [
    "## Arithmatic with pandas DataFrames"
   ]
  },
  {
   "cell_type": "code",
   "execution_count": 16,
   "metadata": {},
   "outputs": [],
   "source": [
    "df1 = pd.DataFrame(np.arange(12.).reshape((3, 4)), columns=list(\"abcd\"))\n",
    "df2 = pd.DataFrame(np.arange(20.).reshape((4, 5)), columns=list(\"abcde\"))"
   ]
  },
  {
   "cell_type": "code",
   "execution_count": 17,
   "metadata": {},
   "outputs": [
    {
     "data": {
      "text/html": [
       "<div>\n",
       "<style scoped>\n",
       "    .dataframe tbody tr th:only-of-type {\n",
       "        vertical-align: middle;\n",
       "    }\n",
       "\n",
       "    .dataframe tbody tr th {\n",
       "        vertical-align: top;\n",
       "    }\n",
       "\n",
       "    .dataframe thead th {\n",
       "        text-align: right;\n",
       "    }\n",
       "</style>\n",
       "<table border=\"1\" class=\"dataframe\">\n",
       "  <thead>\n",
       "    <tr style=\"text-align: right;\">\n",
       "      <th></th>\n",
       "      <th>a</th>\n",
       "      <th>b</th>\n",
       "      <th>c</th>\n",
       "      <th>d</th>\n",
       "      <th>e</th>\n",
       "    </tr>\n",
       "  </thead>\n",
       "  <tbody>\n",
       "    <tr>\n",
       "      <th>0</th>\n",
       "      <td>0.0</td>\n",
       "      <td>2.0</td>\n",
       "      <td>4.0</td>\n",
       "      <td>6.0</td>\n",
       "      <td>4.0</td>\n",
       "    </tr>\n",
       "    <tr>\n",
       "      <th>1</th>\n",
       "      <td>9.0</td>\n",
       "      <td>11.0</td>\n",
       "      <td>13.0</td>\n",
       "      <td>15.0</td>\n",
       "      <td>9.0</td>\n",
       "    </tr>\n",
       "    <tr>\n",
       "      <th>2</th>\n",
       "      <td>18.0</td>\n",
       "      <td>20.0</td>\n",
       "      <td>22.0</td>\n",
       "      <td>24.0</td>\n",
       "      <td>14.0</td>\n",
       "    </tr>\n",
       "    <tr>\n",
       "      <th>3</th>\n",
       "      <td>15.0</td>\n",
       "      <td>16.0</td>\n",
       "      <td>17.0</td>\n",
       "      <td>18.0</td>\n",
       "      <td>19.0</td>\n",
       "    </tr>\n",
       "  </tbody>\n",
       "</table>\n",
       "</div>"
      ],
      "text/plain": [
       "      a     b     c     d     e\n",
       "0   0.0   2.0   4.0   6.0   4.0\n",
       "1   9.0  11.0  13.0  15.0   9.0\n",
       "2  18.0  20.0  22.0  24.0  14.0\n",
       "3  15.0  16.0  17.0  18.0  19.0"
      ]
     },
     "execution_count": 17,
     "metadata": {},
     "output_type": "execute_result"
    }
   ],
   "source": [
    "df1.add(df2, fill_value=0)"
   ]
  },
  {
   "cell_type": "code",
   "execution_count": 18,
   "metadata": {},
   "outputs": [
    {
     "data": {
      "text/html": [
       "<div>\n",
       "<style scoped>\n",
       "    .dataframe tbody tr th:only-of-type {\n",
       "        vertical-align: middle;\n",
       "    }\n",
       "\n",
       "    .dataframe tbody tr th {\n",
       "        vertical-align: top;\n",
       "    }\n",
       "\n",
       "    .dataframe thead th {\n",
       "        text-align: right;\n",
       "    }\n",
       "</style>\n",
       "<table border=\"1\" class=\"dataframe\">\n",
       "  <thead>\n",
       "    <tr style=\"text-align: right;\">\n",
       "      <th></th>\n",
       "      <th>a</th>\n",
       "      <th>b</th>\n",
       "      <th>c</th>\n",
       "      <th>d</th>\n",
       "      <th>e</th>\n",
       "    </tr>\n",
       "  </thead>\n",
       "  <tbody>\n",
       "    <tr>\n",
       "      <th>0</th>\n",
       "      <td>0.0</td>\n",
       "      <td>2.0</td>\n",
       "      <td>4.0</td>\n",
       "      <td>6.0</td>\n",
       "      <td>4.0</td>\n",
       "    </tr>\n",
       "    <tr>\n",
       "      <th>1</th>\n",
       "      <td>9.0</td>\n",
       "      <td>11.0</td>\n",
       "      <td>13.0</td>\n",
       "      <td>15.0</td>\n",
       "      <td>9.0</td>\n",
       "    </tr>\n",
       "    <tr>\n",
       "      <th>2</th>\n",
       "      <td>18.0</td>\n",
       "      <td>20.0</td>\n",
       "      <td>22.0</td>\n",
       "      <td>24.0</td>\n",
       "      <td>14.0</td>\n",
       "    </tr>\n",
       "    <tr>\n",
       "      <th>3</th>\n",
       "      <td>15.0</td>\n",
       "      <td>16.0</td>\n",
       "      <td>17.0</td>\n",
       "      <td>18.0</td>\n",
       "      <td>19.0</td>\n",
       "    </tr>\n",
       "  </tbody>\n",
       "</table>\n",
       "</div>"
      ],
      "text/plain": [
       "      a     b     c     d     e\n",
       "0   0.0   2.0   4.0   6.0   4.0\n",
       "1   9.0  11.0  13.0  15.0   9.0\n",
       "2  18.0  20.0  22.0  24.0  14.0\n",
       "3  15.0  16.0  17.0  18.0  19.0"
      ]
     },
     "execution_count": 18,
     "metadata": {},
     "output_type": "execute_result"
    }
   ],
   "source": [
    "df2.add(df1, fill_value=0)"
   ]
  },
  {
   "cell_type": "code",
   "execution_count": 19,
   "metadata": {},
   "outputs": [],
   "source": [
    "frame = pd.DataFrame(np.random.standard_normal((4, 3)), columns=list(\"bde\"),\n",
    "index=[\"Utah\", \"Ohio\", \"Texas\", \"Oregon\"])"
   ]
  },
  {
   "cell_type": "code",
   "execution_count": 20,
   "metadata": {},
   "outputs": [
    {
     "data": {
      "text/html": [
       "<div>\n",
       "<style scoped>\n",
       "    .dataframe tbody tr th:only-of-type {\n",
       "        vertical-align: middle;\n",
       "    }\n",
       "\n",
       "    .dataframe tbody tr th {\n",
       "        vertical-align: top;\n",
       "    }\n",
       "\n",
       "    .dataframe thead th {\n",
       "        text-align: right;\n",
       "    }\n",
       "</style>\n",
       "<table border=\"1\" class=\"dataframe\">\n",
       "  <thead>\n",
       "    <tr style=\"text-align: right;\">\n",
       "      <th></th>\n",
       "      <th>b</th>\n",
       "      <th>d</th>\n",
       "      <th>e</th>\n",
       "    </tr>\n",
       "  </thead>\n",
       "  <tbody>\n",
       "    <tr>\n",
       "      <th>Utah</th>\n",
       "      <td>-0.055889</td>\n",
       "      <td>-0.284460</td>\n",
       "      <td>0.117213</td>\n",
       "    </tr>\n",
       "    <tr>\n",
       "      <th>Ohio</th>\n",
       "      <td>-0.621866</td>\n",
       "      <td>2.615302</td>\n",
       "      <td>-1.933263</td>\n",
       "    </tr>\n",
       "    <tr>\n",
       "      <th>Texas</th>\n",
       "      <td>0.488745</td>\n",
       "      <td>0.470201</td>\n",
       "      <td>-0.134121</td>\n",
       "    </tr>\n",
       "    <tr>\n",
       "      <th>Oregon</th>\n",
       "      <td>0.267694</td>\n",
       "      <td>-0.265068</td>\n",
       "      <td>-0.299252</td>\n",
       "    </tr>\n",
       "  </tbody>\n",
       "</table>\n",
       "</div>"
      ],
      "text/plain": [
       "               b         d         e\n",
       "Utah   -0.055889 -0.284460  0.117213\n",
       "Ohio   -0.621866  2.615302 -1.933263\n",
       "Texas   0.488745  0.470201 -0.134121\n",
       "Oregon  0.267694 -0.265068 -0.299252"
      ]
     },
     "execution_count": 20,
     "metadata": {},
     "output_type": "execute_result"
    }
   ],
   "source": [
    "frame"
   ]
  },
  {
   "cell_type": "markdown",
   "metadata": {},
   "source": [
    "## Descriptive Statistics with pandas DataFrames\n",
    "\n",
    "https://sparkbyexamples.com/pandas/calculate-summary-statistics-in-pandas/\n",
    "\n",
    "https://pandas.pydata.org/pandas-docs/stable/getting_started/intro_tutorials/06_calculate_statistics.html"
   ]
  },
  {
   "cell_type": "markdown",
   "metadata": {},
   "source": [
    "### Applying the .describe() method on DataFrame with numerical data\n",
    "\n",
    "https://pandas.pydata.org/pandas-docs/stable/reference/api/pandas.DataFrame.describe.html"
   ]
  },
  {
   "cell_type": "code",
   "execution_count": 21,
   "metadata": {},
   "outputs": [
    {
     "data": {
      "text/html": [
       "<div>\n",
       "<style scoped>\n",
       "    .dataframe tbody tr th:only-of-type {\n",
       "        vertical-align: middle;\n",
       "    }\n",
       "\n",
       "    .dataframe tbody tr th {\n",
       "        vertical-align: top;\n",
       "    }\n",
       "\n",
       "    .dataframe thead th {\n",
       "        text-align: right;\n",
       "    }\n",
       "</style>\n",
       "<table border=\"1\" class=\"dataframe\">\n",
       "  <thead>\n",
       "    <tr style=\"text-align: right;\">\n",
       "      <th></th>\n",
       "      <th>b</th>\n",
       "      <th>d</th>\n",
       "      <th>e</th>\n",
       "    </tr>\n",
       "  </thead>\n",
       "  <tbody>\n",
       "    <tr>\n",
       "      <th>count</th>\n",
       "      <td>4.000000</td>\n",
       "      <td>4.000000</td>\n",
       "      <td>4.000000</td>\n",
       "    </tr>\n",
       "    <tr>\n",
       "      <th>mean</th>\n",
       "      <td>0.019671</td>\n",
       "      <td>0.633994</td>\n",
       "      <td>-0.562356</td>\n",
       "    </tr>\n",
       "    <tr>\n",
       "      <th>std</th>\n",
       "      <td>0.482640</td>\n",
       "      <td>1.366782</td>\n",
       "      <td>0.929840</td>\n",
       "    </tr>\n",
       "    <tr>\n",
       "      <th>min</th>\n",
       "      <td>-0.621866</td>\n",
       "      <td>-0.284460</td>\n",
       "      <td>-1.933263</td>\n",
       "    </tr>\n",
       "    <tr>\n",
       "      <th>25%</th>\n",
       "      <td>-0.197383</td>\n",
       "      <td>-0.269916</td>\n",
       "      <td>-0.707754</td>\n",
       "    </tr>\n",
       "    <tr>\n",
       "      <th>50%</th>\n",
       "      <td>0.105902</td>\n",
       "      <td>0.102566</td>\n",
       "      <td>-0.216686</td>\n",
       "    </tr>\n",
       "    <tr>\n",
       "      <th>75%</th>\n",
       "      <td>0.322957</td>\n",
       "      <td>1.006476</td>\n",
       "      <td>-0.071287</td>\n",
       "    </tr>\n",
       "    <tr>\n",
       "      <th>max</th>\n",
       "      <td>0.488745</td>\n",
       "      <td>2.615302</td>\n",
       "      <td>0.117213</td>\n",
       "    </tr>\n",
       "  </tbody>\n",
       "</table>\n",
       "</div>"
      ],
      "text/plain": [
       "              b         d         e\n",
       "count  4.000000  4.000000  4.000000\n",
       "mean   0.019671  0.633994 -0.562356\n",
       "std    0.482640  1.366782  0.929840\n",
       "min   -0.621866 -0.284460 -1.933263\n",
       "25%   -0.197383 -0.269916 -0.707754\n",
       "50%    0.105902  0.102566 -0.216686\n",
       "75%    0.322957  1.006476 -0.071287\n",
       "max    0.488745  2.615302  0.117213"
      ]
     },
     "execution_count": 21,
     "metadata": {},
     "output_type": "execute_result"
    }
   ],
   "source": [
    "frame.describe()"
   ]
  },
  {
   "cell_type": "markdown",
   "metadata": {},
   "source": [
    "### Calculating other statistical measures"
   ]
  },
  {
   "cell_type": "code",
   "execution_count": 22,
   "metadata": {},
   "outputs": [
    {
     "data": {
      "text/html": [
       "<div>\n",
       "<style scoped>\n",
       "    .dataframe tbody tr th:only-of-type {\n",
       "        vertical-align: middle;\n",
       "    }\n",
       "\n",
       "    .dataframe tbody tr th {\n",
       "        vertical-align: top;\n",
       "    }\n",
       "\n",
       "    .dataframe thead th {\n",
       "        text-align: right;\n",
       "    }\n",
       "</style>\n",
       "<table border=\"1\" class=\"dataframe\">\n",
       "  <thead>\n",
       "    <tr style=\"text-align: right;\">\n",
       "      <th></th>\n",
       "      <th>b</th>\n",
       "      <th>d</th>\n",
       "      <th>e</th>\n",
       "      <th>mean</th>\n",
       "    </tr>\n",
       "  </thead>\n",
       "  <tbody>\n",
       "    <tr>\n",
       "      <th>Utah</th>\n",
       "      <td>-0.055889</td>\n",
       "      <td>-0.284460</td>\n",
       "      <td>0.117213</td>\n",
       "      <td>-0.074379</td>\n",
       "    </tr>\n",
       "    <tr>\n",
       "      <th>Ohio</th>\n",
       "      <td>-0.621866</td>\n",
       "      <td>2.615302</td>\n",
       "      <td>-1.933263</td>\n",
       "      <td>0.020058</td>\n",
       "    </tr>\n",
       "    <tr>\n",
       "      <th>Texas</th>\n",
       "      <td>0.488745</td>\n",
       "      <td>0.470201</td>\n",
       "      <td>-0.134121</td>\n",
       "      <td>0.274942</td>\n",
       "    </tr>\n",
       "    <tr>\n",
       "      <th>Oregon</th>\n",
       "      <td>0.267694</td>\n",
       "      <td>-0.265068</td>\n",
       "      <td>-0.299252</td>\n",
       "      <td>-0.098875</td>\n",
       "    </tr>\n",
       "  </tbody>\n",
       "</table>\n",
       "</div>"
      ],
      "text/plain": [
       "               b         d         e      mean\n",
       "Utah   -0.055889 -0.284460  0.117213 -0.074379\n",
       "Ohio   -0.621866  2.615302 -1.933263  0.020058\n",
       "Texas   0.488745  0.470201 -0.134121  0.274942\n",
       "Oregon  0.267694 -0.265068 -0.299252 -0.098875"
      ]
     },
     "execution_count": 22,
     "metadata": {},
     "output_type": "execute_result"
    }
   ],
   "source": [
    "frame['mean'] = frame.apply('mean', axis='columns')\n",
    "frame"
   ]
  },
  {
   "cell_type": "code",
   "execution_count": 23,
   "metadata": {},
   "outputs": [
    {
     "data": {
      "text/plain": [
       "0.01967094498311696"
      ]
     },
     "execution_count": 23,
     "metadata": {},
     "output_type": "execute_result"
    }
   ],
   "source": [
    "frame['b'].mean()"
   ]
  },
  {
   "cell_type": "code",
   "execution_count": 24,
   "metadata": {},
   "outputs": [
    {
     "data": {
      "text/plain": [
       "-0.7587208919372784"
      ]
     },
     "execution_count": 24,
     "metadata": {},
     "output_type": "execute_result"
    }
   ],
   "source": [
    "frame['b'].corr(frame['d'])"
   ]
  },
  {
   "cell_type": "code",
   "execution_count": 25,
   "metadata": {},
   "outputs": [
    {
     "data": {
      "text/plain": [
       "0.8127760137088692"
      ]
     },
     "execution_count": 25,
     "metadata": {},
     "output_type": "execute_result"
    }
   ],
   "source": [
    "frame['b'].corr(frame['e'])"
   ]
  },
  {
   "cell_type": "code",
   "execution_count": 26,
   "metadata": {},
   "outputs": [
    {
     "data": {
      "text/plain": [
       "-0.5005006724140456"
      ]
     },
     "execution_count": 26,
     "metadata": {},
     "output_type": "execute_result"
    }
   ],
   "source": [
    "frame['b'].cov(frame['d'])"
   ]
  },
  {
   "cell_type": "code",
   "execution_count": 27,
   "metadata": {},
   "outputs": [],
   "source": [
    "def f1(x):\n",
    "    return x.max() - x.min()"
   ]
  },
  {
   "cell_type": "code",
   "execution_count": 28,
   "metadata": {},
   "outputs": [
    {
     "data": {
      "text/plain": [
       "b       1.110610\n",
       "d       2.899762\n",
       "e       2.050475\n",
       "mean    0.373817\n",
       "dtype: float64"
      ]
     },
     "execution_count": 28,
     "metadata": {},
     "output_type": "execute_result"
    }
   ],
   "source": [
    "frame.apply(f1)"
   ]
  },
  {
   "cell_type": "code",
   "execution_count": 29,
   "metadata": {},
   "outputs": [],
   "source": [
    "frame2 = frame.copy()"
   ]
  },
  {
   "cell_type": "code",
   "execution_count": 30,
   "metadata": {},
   "outputs": [],
   "source": [
    "frame2['max_min'] = frame2.apply(f1, axis=\"columns\")"
   ]
  },
  {
   "cell_type": "code",
   "execution_count": 31,
   "metadata": {},
   "outputs": [
    {
     "data": {
      "text/html": [
       "<div>\n",
       "<style scoped>\n",
       "    .dataframe tbody tr th:only-of-type {\n",
       "        vertical-align: middle;\n",
       "    }\n",
       "\n",
       "    .dataframe tbody tr th {\n",
       "        vertical-align: top;\n",
       "    }\n",
       "\n",
       "    .dataframe thead th {\n",
       "        text-align: right;\n",
       "    }\n",
       "</style>\n",
       "<table border=\"1\" class=\"dataframe\">\n",
       "  <thead>\n",
       "    <tr style=\"text-align: right;\">\n",
       "      <th></th>\n",
       "      <th>b</th>\n",
       "      <th>d</th>\n",
       "      <th>e</th>\n",
       "      <th>mean</th>\n",
       "      <th>max_min</th>\n",
       "    </tr>\n",
       "  </thead>\n",
       "  <tbody>\n",
       "    <tr>\n",
       "      <th>Utah</th>\n",
       "      <td>-0.055889</td>\n",
       "      <td>-0.284460</td>\n",
       "      <td>0.117213</td>\n",
       "      <td>-0.074379</td>\n",
       "      <td>0.401673</td>\n",
       "    </tr>\n",
       "    <tr>\n",
       "      <th>Ohio</th>\n",
       "      <td>-0.621866</td>\n",
       "      <td>2.615302</td>\n",
       "      <td>-1.933263</td>\n",
       "      <td>0.020058</td>\n",
       "      <td>4.548565</td>\n",
       "    </tr>\n",
       "    <tr>\n",
       "      <th>Texas</th>\n",
       "      <td>0.488745</td>\n",
       "      <td>0.470201</td>\n",
       "      <td>-0.134121</td>\n",
       "      <td>0.274942</td>\n",
       "      <td>0.622865</td>\n",
       "    </tr>\n",
       "    <tr>\n",
       "      <th>Oregon</th>\n",
       "      <td>0.267694</td>\n",
       "      <td>-0.265068</td>\n",
       "      <td>-0.299252</td>\n",
       "      <td>-0.098875</td>\n",
       "      <td>0.566946</td>\n",
       "    </tr>\n",
       "  </tbody>\n",
       "</table>\n",
       "</div>"
      ],
      "text/plain": [
       "               b         d         e      mean   max_min\n",
       "Utah   -0.055889 -0.284460  0.117213 -0.074379  0.401673\n",
       "Ohio   -0.621866  2.615302 -1.933263  0.020058  4.548565\n",
       "Texas   0.488745  0.470201 -0.134121  0.274942  0.622865\n",
       "Oregon  0.267694 -0.265068 -0.299252 -0.098875  0.566946"
      ]
     },
     "execution_count": 31,
     "metadata": {},
     "output_type": "execute_result"
    }
   ],
   "source": [
    "frame2"
   ]
  },
  {
   "cell_type": "code",
   "execution_count": 32,
   "metadata": {},
   "outputs": [],
   "source": [
    "frame['max_min'] = frame.apply(f1, axis=\"columns\")"
   ]
  },
  {
   "cell_type": "code",
   "execution_count": 33,
   "metadata": {},
   "outputs": [
    {
     "data": {
      "text/html": [
       "<div>\n",
       "<style scoped>\n",
       "    .dataframe tbody tr th:only-of-type {\n",
       "        vertical-align: middle;\n",
       "    }\n",
       "\n",
       "    .dataframe tbody tr th {\n",
       "        vertical-align: top;\n",
       "    }\n",
       "\n",
       "    .dataframe thead th {\n",
       "        text-align: right;\n",
       "    }\n",
       "</style>\n",
       "<table border=\"1\" class=\"dataframe\">\n",
       "  <thead>\n",
       "    <tr style=\"text-align: right;\">\n",
       "      <th></th>\n",
       "      <th>b</th>\n",
       "      <th>d</th>\n",
       "      <th>e</th>\n",
       "      <th>mean</th>\n",
       "      <th>max_min</th>\n",
       "    </tr>\n",
       "  </thead>\n",
       "  <tbody>\n",
       "    <tr>\n",
       "      <th>Utah</th>\n",
       "      <td>-0.055889</td>\n",
       "      <td>-0.284460</td>\n",
       "      <td>0.117213</td>\n",
       "      <td>-0.074379</td>\n",
       "      <td>0.401673</td>\n",
       "    </tr>\n",
       "    <tr>\n",
       "      <th>Ohio</th>\n",
       "      <td>-0.621866</td>\n",
       "      <td>2.615302</td>\n",
       "      <td>-1.933263</td>\n",
       "      <td>0.020058</td>\n",
       "      <td>4.548565</td>\n",
       "    </tr>\n",
       "    <tr>\n",
       "      <th>Texas</th>\n",
       "      <td>0.488745</td>\n",
       "      <td>0.470201</td>\n",
       "      <td>-0.134121</td>\n",
       "      <td>0.274942</td>\n",
       "      <td>0.622865</td>\n",
       "    </tr>\n",
       "    <tr>\n",
       "      <th>Oregon</th>\n",
       "      <td>0.267694</td>\n",
       "      <td>-0.265068</td>\n",
       "      <td>-0.299252</td>\n",
       "      <td>-0.098875</td>\n",
       "      <td>0.566946</td>\n",
       "    </tr>\n",
       "  </tbody>\n",
       "</table>\n",
       "</div>"
      ],
      "text/plain": [
       "               b         d         e      mean   max_min\n",
       "Utah   -0.055889 -0.284460  0.117213 -0.074379  0.401673\n",
       "Ohio   -0.621866  2.615302 -1.933263  0.020058  4.548565\n",
       "Texas   0.488745  0.470201 -0.134121  0.274942  0.622865\n",
       "Oregon  0.267694 -0.265068 -0.299252 -0.098875  0.566946"
      ]
     },
     "execution_count": 33,
     "metadata": {},
     "output_type": "execute_result"
    }
   ],
   "source": [
    "frame"
   ]
  },
  {
   "cell_type": "markdown",
   "metadata": {},
   "source": [
    "### Applying .describe() method on DataFrame with categorical features\n",
    "\n",
    "https://pandas.pydata.org/pandas-docs/stable/user_guide/categorical.html"
   ]
  },
  {
   "cell_type": "code",
   "execution_count": 55,
   "metadata": {},
   "outputs": [
    {
     "data": {
      "text/html": [
       "<div>\n",
       "<style scoped>\n",
       "    .dataframe tbody tr th:only-of-type {\n",
       "        vertical-align: middle;\n",
       "    }\n",
       "\n",
       "    .dataframe tbody tr th {\n",
       "        vertical-align: top;\n",
       "    }\n",
       "\n",
       "    .dataframe thead th {\n",
       "        text-align: right;\n",
       "    }\n",
       "</style>\n",
       "<table border=\"1\" class=\"dataframe\">\n",
       "  <thead>\n",
       "    <tr style=\"text-align: right;\">\n",
       "      <th></th>\n",
       "      <th>a</th>\n",
       "      <th>b</th>\n",
       "      <th>c</th>\n",
       "    </tr>\n",
       "  </thead>\n",
       "  <tbody>\n",
       "    <tr>\n",
       "      <th>count</th>\n",
       "      <td>6</td>\n",
       "      <td>6</td>\n",
       "      <td>6</td>\n",
       "    </tr>\n",
       "    <tr>\n",
       "      <th>unique</th>\n",
       "      <td>2</td>\n",
       "      <td>4</td>\n",
       "      <td>5</td>\n",
       "    </tr>\n",
       "    <tr>\n",
       "      <th>top</th>\n",
       "      <td>Yes</td>\n",
       "      <td>Good</td>\n",
       "      <td>Maria</td>\n",
       "    </tr>\n",
       "    <tr>\n",
       "      <th>freq</th>\n",
       "      <td>4</td>\n",
       "      <td>2</td>\n",
       "      <td>2</td>\n",
       "    </tr>\n",
       "  </tbody>\n",
       "</table>\n",
       "</div>"
      ],
      "text/plain": [
       "          a     b      c\n",
       "count     6     6      6\n",
       "unique    2     4      5\n",
       "top     Yes  Good  Maria\n",
       "freq      4     2      2"
      ]
     },
     "execution_count": 55,
     "metadata": {},
     "output_type": "execute_result"
    }
   ],
   "source": [
    "catframe = pd.DataFrame({\"a\": [\"Yes\", \"Yes\", \"No\", \"No\", \"Yes\", \"Yes\"], \n",
    "                         \"b\": [\"Good\", \"Better\", \"Bad\", \"Bad\", \"Worse\", \"Good\"], \n",
    "                         \"c\": [\"Claude\", \"Maria\", \"Maria\", \"George\", \"Luisa\", \"Kurt\"], \n",
    "                         })\n",
    "catframe.describe()"
   ]
  },
  {
   "cell_type": "code",
   "execution_count": 40,
   "metadata": {},
   "outputs": [
    {
     "data": {
      "text/html": [
       "<div>\n",
       "<style scoped>\n",
       "    .dataframe tbody tr th:only-of-type {\n",
       "        vertical-align: middle;\n",
       "    }\n",
       "\n",
       "    .dataframe tbody tr th {\n",
       "        vertical-align: top;\n",
       "    }\n",
       "\n",
       "    .dataframe thead th {\n",
       "        text-align: right;\n",
       "    }\n",
       "</style>\n",
       "<table border=\"1\" class=\"dataframe\">\n",
       "  <thead>\n",
       "    <tr style=\"text-align: right;\">\n",
       "      <th></th>\n",
       "      <th>a</th>\n",
       "      <th>b</th>\n",
       "      <th>c</th>\n",
       "    </tr>\n",
       "  </thead>\n",
       "  <tbody>\n",
       "    <tr>\n",
       "      <th>0</th>\n",
       "      <td>Yes</td>\n",
       "      <td>Bad</td>\n",
       "      <td>Maria</td>\n",
       "    </tr>\n",
       "    <tr>\n",
       "      <th>1</th>\n",
       "      <td>NaN</td>\n",
       "      <td>Good</td>\n",
       "      <td>NaN</td>\n",
       "    </tr>\n",
       "  </tbody>\n",
       "</table>\n",
       "</div>"
      ],
      "text/plain": [
       "     a     b      c\n",
       "0  Yes   Bad  Maria\n",
       "1  NaN  Good    NaN"
      ]
     },
     "execution_count": 40,
     "metadata": {},
     "output_type": "execute_result"
    }
   ],
   "source": [
    "catframe.mode()"
   ]
  },
  {
   "cell_type": "code",
   "execution_count": 41,
   "metadata": {},
   "outputs": [
    {
     "data": {
      "text/plain": [
       "a    b       c     \n",
       "No   Bad     George    1\n",
       "             Maria     1\n",
       "Yes  Better  Maria     1\n",
       "     Good    Claude    1\n",
       "             Kurt      1\n",
       "     Worse   Luisa     1\n",
       "Name: count, dtype: int64"
      ]
     },
     "execution_count": 41,
     "metadata": {},
     "output_type": "execute_result"
    }
   ],
   "source": [
    "catframe.value_counts()"
   ]
  },
  {
   "cell_type": "markdown",
   "metadata": {},
   "source": [
    "### Creating a custom .describe() method with the .agg() (aggregate) method\n",
    "\n",
    "https://pandas.pydata.org/pandas-docs/stable/user_guide/basics.html"
   ]
  },
  {
   "cell_type": "code",
   "execution_count": 42,
   "metadata": {},
   "outputs": [],
   "source": [
    "from functools import partial"
   ]
  },
  {
   "cell_type": "code",
   "execution_count": 43,
   "metadata": {},
   "outputs": [],
   "source": [
    "tsdf = pd.DataFrame(\n",
    "    np.random.randn(1000, 3),\n",
    "    columns=[\"A\", \"B\", \"C\"],\n",
    "    index=pd.date_range(\"1/1/2000\", periods=1000),\n",
    ")"
   ]
  },
  {
   "cell_type": "code",
   "execution_count": 44,
   "metadata": {},
   "outputs": [
    {
     "data": {
      "text/html": [
       "<div>\n",
       "<style scoped>\n",
       "    .dataframe tbody tr th:only-of-type {\n",
       "        vertical-align: middle;\n",
       "    }\n",
       "\n",
       "    .dataframe tbody tr th {\n",
       "        vertical-align: top;\n",
       "    }\n",
       "\n",
       "    .dataframe thead th {\n",
       "        text-align: right;\n",
       "    }\n",
       "</style>\n",
       "<table border=\"1\" class=\"dataframe\">\n",
       "  <thead>\n",
       "    <tr style=\"text-align: right;\">\n",
       "      <th></th>\n",
       "      <th>A</th>\n",
       "      <th>B</th>\n",
       "      <th>C</th>\n",
       "    </tr>\n",
       "  </thead>\n",
       "  <tbody>\n",
       "    <tr>\n",
       "      <th>count</th>\n",
       "      <td>1000.000000</td>\n",
       "      <td>1000.000000</td>\n",
       "      <td>1000.000000</td>\n",
       "    </tr>\n",
       "    <tr>\n",
       "      <th>mean</th>\n",
       "      <td>-0.030197</td>\n",
       "      <td>-0.021609</td>\n",
       "      <td>0.004424</td>\n",
       "    </tr>\n",
       "    <tr>\n",
       "      <th>std</th>\n",
       "      <td>1.048531</td>\n",
       "      <td>0.988639</td>\n",
       "      <td>1.005783</td>\n",
       "    </tr>\n",
       "    <tr>\n",
       "      <th>min</th>\n",
       "      <td>-3.645911</td>\n",
       "      <td>-2.430320</td>\n",
       "      <td>-3.843037</td>\n",
       "    </tr>\n",
       "    <tr>\n",
       "      <th>5%</th>\n",
       "      <td>-1.742221</td>\n",
       "      <td>-1.667552</td>\n",
       "      <td>-1.611298</td>\n",
       "    </tr>\n",
       "    <tr>\n",
       "      <th>25%</th>\n",
       "      <td>-0.744874</td>\n",
       "      <td>-0.704218</td>\n",
       "      <td>-0.699555</td>\n",
       "    </tr>\n",
       "    <tr>\n",
       "      <th>50%</th>\n",
       "      <td>-0.016654</td>\n",
       "      <td>-0.037644</td>\n",
       "      <td>0.030053</td>\n",
       "    </tr>\n",
       "    <tr>\n",
       "      <th>75%</th>\n",
       "      <td>0.649187</td>\n",
       "      <td>0.644884</td>\n",
       "      <td>0.719921</td>\n",
       "    </tr>\n",
       "    <tr>\n",
       "      <th>95%</th>\n",
       "      <td>1.662401</td>\n",
       "      <td>1.659650</td>\n",
       "      <td>1.612643</td>\n",
       "    </tr>\n",
       "    <tr>\n",
       "      <th>max</th>\n",
       "      <td>3.957197</td>\n",
       "      <td>3.374284</td>\n",
       "      <td>3.414863</td>\n",
       "    </tr>\n",
       "  </tbody>\n",
       "</table>\n",
       "</div>"
      ],
      "text/plain": [
       "                 A            B            C\n",
       "count  1000.000000  1000.000000  1000.000000\n",
       "mean     -0.030197    -0.021609     0.004424\n",
       "std       1.048531     0.988639     1.005783\n",
       "min      -3.645911    -2.430320    -3.843037\n",
       "5%       -1.742221    -1.667552    -1.611298\n",
       "25%      -0.744874    -0.704218    -0.699555\n",
       "50%      -0.016654    -0.037644     0.030053\n",
       "75%       0.649187     0.644884     0.719921\n",
       "95%       1.662401     1.659650     1.612643\n",
       "max       3.957197     3.374284     3.414863"
      ]
     },
     "execution_count": 44,
     "metadata": {},
     "output_type": "execute_result"
    }
   ],
   "source": [
    "tsdf.describe(percentiles=[0.05, 0.25, 0.75, 0.95])"
   ]
  },
  {
   "cell_type": "code",
   "execution_count": 46,
   "metadata": {},
   "outputs": [],
   "source": [
    "q_25 = partial(pd.Series.quantile, q=0.25)\n",
    "q_25.__name__ = \"25%\"\n",
    "\n",
    "q_75 = partial(pd.Series.quantile, q=0.75)\n",
    "q_75.__name__ = \"75%\"\n",
    "\n",
    "def na_func(series):\n",
    "    return series.isna().sum()\n",
    "\n",
    "def na_percent(series):\n",
    "    return na_func(series) / series.count()\n",
    "\n",
    "def cardinality(series):\n",
    "    return series.nunique()     "
   ]
  },
  {
   "cell_type": "code",
   "execution_count": 47,
   "metadata": {},
   "outputs": [
    {
     "data": {
      "text/html": [
       "<div>\n",
       "<style scoped>\n",
       "    .dataframe tbody tr th:only-of-type {\n",
       "        vertical-align: middle;\n",
       "    }\n",
       "\n",
       "    .dataframe tbody tr th {\n",
       "        vertical-align: top;\n",
       "    }\n",
       "\n",
       "    .dataframe thead th {\n",
       "        text-align: right;\n",
       "    }\n",
       "</style>\n",
       "<table border=\"1\" class=\"dataframe\">\n",
       "  <thead>\n",
       "    <tr style=\"text-align: right;\">\n",
       "      <th></th>\n",
       "      <th>A</th>\n",
       "      <th>B</th>\n",
       "      <th>C</th>\n",
       "    </tr>\n",
       "  </thead>\n",
       "  <tbody>\n",
       "    <tr>\n",
       "      <th>count</th>\n",
       "      <td>1000.000000</td>\n",
       "      <td>1000.000000</td>\n",
       "      <td>1000.000000</td>\n",
       "    </tr>\n",
       "    <tr>\n",
       "      <th>na_percent</th>\n",
       "      <td>0.000000</td>\n",
       "      <td>0.000000</td>\n",
       "      <td>0.000000</td>\n",
       "    </tr>\n",
       "    <tr>\n",
       "      <th>cardinality</th>\n",
       "      <td>1000.000000</td>\n",
       "      <td>1000.000000</td>\n",
       "      <td>1000.000000</td>\n",
       "    </tr>\n",
       "    <tr>\n",
       "      <th>min</th>\n",
       "      <td>-3.645911</td>\n",
       "      <td>-2.430320</td>\n",
       "      <td>-3.843037</td>\n",
       "    </tr>\n",
       "    <tr>\n",
       "      <th>25%</th>\n",
       "      <td>-0.744874</td>\n",
       "      <td>-0.704218</td>\n",
       "      <td>-0.699555</td>\n",
       "    </tr>\n",
       "    <tr>\n",
       "      <th>mean</th>\n",
       "      <td>-0.030197</td>\n",
       "      <td>-0.021609</td>\n",
       "      <td>0.004424</td>\n",
       "    </tr>\n",
       "    <tr>\n",
       "      <th>median</th>\n",
       "      <td>-0.016654</td>\n",
       "      <td>-0.037644</td>\n",
       "      <td>0.030053</td>\n",
       "    </tr>\n",
       "    <tr>\n",
       "      <th>75%</th>\n",
       "      <td>0.649187</td>\n",
       "      <td>0.644884</td>\n",
       "      <td>0.719921</td>\n",
       "    </tr>\n",
       "    <tr>\n",
       "      <th>max</th>\n",
       "      <td>3.957197</td>\n",
       "      <td>3.374284</td>\n",
       "      <td>3.414863</td>\n",
       "    </tr>\n",
       "    <tr>\n",
       "      <th>std</th>\n",
       "      <td>1.048531</td>\n",
       "      <td>0.988639</td>\n",
       "      <td>1.005783</td>\n",
       "    </tr>\n",
       "  </tbody>\n",
       "</table>\n",
       "</div>"
      ],
      "text/plain": [
       "                       A            B            C\n",
       "count        1000.000000  1000.000000  1000.000000\n",
       "na_percent      0.000000     0.000000     0.000000\n",
       "cardinality  1000.000000  1000.000000  1000.000000\n",
       "min            -3.645911    -2.430320    -3.843037\n",
       "25%            -0.744874    -0.704218    -0.699555\n",
       "mean           -0.030197    -0.021609     0.004424\n",
       "median         -0.016654    -0.037644     0.030053\n",
       "75%             0.649187     0.644884     0.719921\n",
       "max             3.957197     3.374284     3.414863\n",
       "std             1.048531     0.988639     1.005783"
      ]
     },
     "execution_count": 47,
     "metadata": {},
     "output_type": "execute_result"
    }
   ],
   "source": [
    "# Numerical data:\n",
    "tsdf.agg([\"count\", na_percent, cardinality, \"min\", q_25, \"mean\", \"median\", q_75, \"max\", \"std\"])"
   ]
  },
  {
   "cell_type": "code",
   "execution_count": 48,
   "metadata": {},
   "outputs": [],
   "source": [
    "def mode_1st(series):\n",
    "    return series.value_counts().sort_values(ascending=False).index[0]\n",
    " \n",
    "def mode_1st_freq(series):\n",
    "    mode = mode_1st(series)\n",
    "    return series[series == mode].count()\n",
    "    \n",
    "def mode_1st_percent(series):\n",
    "    return mode_1st_freq(series) / series.count()\n",
    "    \n",
    "def mode_2nd(series):\n",
    "    return series.value_counts().sort_values(ascending=False).index[1]\n",
    " \n",
    "def mode_2nd_freq(series):\n",
    "    mode = mode_2nd(series)\n",
    "    return series[series == mode].count()   \n",
    " \n",
    "def mode_2nd_percent(series):\n",
    "    return mode_2nd_freq(series) / series.count()    "
   ]
  },
  {
   "cell_type": "code",
   "execution_count": 49,
   "metadata": {},
   "outputs": [
    {
     "data": {
      "text/html": [
       "<div>\n",
       "<style scoped>\n",
       "    .dataframe tbody tr th:only-of-type {\n",
       "        vertical-align: middle;\n",
       "    }\n",
       "\n",
       "    .dataframe tbody tr th {\n",
       "        vertical-align: top;\n",
       "    }\n",
       "\n",
       "    .dataframe thead th {\n",
       "        text-align: right;\n",
       "    }\n",
       "</style>\n",
       "<table border=\"1\" class=\"dataframe\">\n",
       "  <thead>\n",
       "    <tr style=\"text-align: right;\">\n",
       "      <th></th>\n",
       "      <th>a</th>\n",
       "      <th>b</th>\n",
       "      <th>c</th>\n",
       "    </tr>\n",
       "  </thead>\n",
       "  <tbody>\n",
       "    <tr>\n",
       "      <th>count</th>\n",
       "      <td>6</td>\n",
       "      <td>6</td>\n",
       "      <td>6</td>\n",
       "    </tr>\n",
       "    <tr>\n",
       "      <th>na_percent</th>\n",
       "      <td>0.0</td>\n",
       "      <td>0.0</td>\n",
       "      <td>0.0</td>\n",
       "    </tr>\n",
       "    <tr>\n",
       "      <th>cardinality</th>\n",
       "      <td>2</td>\n",
       "      <td>4</td>\n",
       "      <td>5</td>\n",
       "    </tr>\n",
       "    <tr>\n",
       "      <th>mode_1st</th>\n",
       "      <td>Yes</td>\n",
       "      <td>Good</td>\n",
       "      <td>Maria</td>\n",
       "    </tr>\n",
       "    <tr>\n",
       "      <th>mode_1st_freq</th>\n",
       "      <td>4</td>\n",
       "      <td>2</td>\n",
       "      <td>2</td>\n",
       "    </tr>\n",
       "    <tr>\n",
       "      <th>mode_1st_percent</th>\n",
       "      <td>0.666667</td>\n",
       "      <td>0.333333</td>\n",
       "      <td>0.333333</td>\n",
       "    </tr>\n",
       "    <tr>\n",
       "      <th>mode_2nd</th>\n",
       "      <td>No</td>\n",
       "      <td>Bad</td>\n",
       "      <td>Claude</td>\n",
       "    </tr>\n",
       "    <tr>\n",
       "      <th>mode_2nd_freq</th>\n",
       "      <td>2</td>\n",
       "      <td>2</td>\n",
       "      <td>1</td>\n",
       "    </tr>\n",
       "    <tr>\n",
       "      <th>mode_2nd_percent</th>\n",
       "      <td>0.333333</td>\n",
       "      <td>0.333333</td>\n",
       "      <td>0.166667</td>\n",
       "    </tr>\n",
       "  </tbody>\n",
       "</table>\n",
       "</div>"
      ],
      "text/plain": [
       "                         a         b         c\n",
       "count                    6         6         6\n",
       "na_percent             0.0       0.0       0.0\n",
       "cardinality              2         4         5\n",
       "mode_1st               Yes      Good     Maria\n",
       "mode_1st_freq            4         2         2\n",
       "mode_1st_percent  0.666667  0.333333  0.333333\n",
       "mode_2nd                No       Bad    Claude\n",
       "mode_2nd_freq            2         2         1\n",
       "mode_2nd_percent  0.333333  0.333333  0.166667"
      ]
     },
     "execution_count": 49,
     "metadata": {},
     "output_type": "execute_result"
    }
   ],
   "source": [
    "# Categorical data:\n",
    "catframe.agg([\"count\", na_percent, cardinality, \n",
    "              mode_1st, mode_1st_freq, mode_1st_percent, \n",
    "              mode_2nd, mode_2nd_freq, mode_2nd_percent])"
   ]
  },
  {
   "cell_type": "markdown",
   "metadata": {},
   "source": [
    "### Other available stats packages\n",
    "\n",
    "https://docs.scipy.org/doc/scipy/reference/generated/scipy.stats.describe.html#scipy.stats.describe\n",
    "\n",
    "https://www.statsmodels.org/stable/generated/statsmodels.stats.descriptivestats.Description.html#statsmodels.stats.descriptivestats.Description"
   ]
  },
  {
   "cell_type": "code",
   "execution_count": 50,
   "metadata": {},
   "outputs": [
    {
     "data": {
      "text/plain": [
       "DescribeResult(nobs=1000, minmax=(array([-3.64591131, -2.43032006, -3.84303678]), array([3.9571969 , 3.37428437, 3.41486307])), mean=array([-0.0301975 , -0.02160931,  0.00442364]), variance=array([1.09941722, 0.97740767, 1.01159897]), skewness=array([ 0.02583128,  0.16174955, -0.08232011]), kurtosis=array([ 0.0593336 , -0.00525772,  0.00547354]))"
      ]
     },
     "execution_count": 50,
     "metadata": {},
     "output_type": "execute_result"
    }
   ],
   "source": [
    "from scipy import stats\n",
    "\n",
    "stats.describe(tsdf)"
   ]
  },
  {
   "cell_type": "code",
   "execution_count": null,
   "metadata": {},
   "outputs": [],
   "source": []
  },
  {
   "cell_type": "code",
   "execution_count": 57,
   "metadata": {},
   "outputs": [
    {
     "data": {
      "text/plain": [
       "('nobs',\n",
       " 'missing',\n",
       " 'mean',\n",
       " 'std_err',\n",
       " 'ci',\n",
       " 'std',\n",
       " 'iqr',\n",
       " 'iqr_normal',\n",
       " 'mad',\n",
       " 'mad_normal',\n",
       " 'coef_var',\n",
       " 'range',\n",
       " 'max',\n",
       " 'min',\n",
       " 'skew',\n",
       " 'kurtosis',\n",
       " 'jarque_bera',\n",
       " 'mode',\n",
       " 'median',\n",
       " 'percentiles')"
      ]
     },
     "execution_count": 57,
     "metadata": {},
     "output_type": "execute_result"
    }
   ],
   "source": [
    "from statsmodels.stats.descriptivestats import Description\n",
    "\n",
    "Description(tsdf).numeric_statistics"
   ]
  },
  {
   "cell_type": "code",
   "execution_count": 58,
   "metadata": {},
   "outputs": [
    {
     "data": {
      "text/html": [
       "<table class=\"simpletable\">\n",
       "<caption>Descriptive Statistics</caption>\n",
       "<tr>\n",
       "  <th>nobs</th>             <td>1000.0</td>                <td>1000.0</td>               <td>1000.0</td>       \n",
       "</tr>\n",
       "<tr>\n",
       "  <th>missing</th>            <td>0.0</td>                   <td>0.0</td>                  <td>0.0</td>        \n",
       "</tr>\n",
       "<tr>\n",
       "  <th>min</th>        <td>-3.645911309275139</td>    <td>-2.4303200634015405</td>  <td>-3.8430367757874224</td>\n",
       "</tr>\n",
       "<tr>\n",
       "  <th>mean</th>      <td>-0.03019749575525394</td>  <td>-0.02160931395700724</td> <td>0.004423637045314635</td>\n",
       "</tr>\n",
       "<tr>\n",
       "  <th>median</th>    <td>-0.016653547221971345</td> <td>-0.03764433940845291</td> <td>0.030053316097577505</td>\n",
       "</tr>\n",
       "<tr>\n",
       "  <th>max</th>         <td>3.957196904643556</td>    <td>3.3742843741031177</td>    <td>3.414863074079527</td> \n",
       "</tr>\n",
       "<tr>\n",
       "  <th>std</th>        <td>1.0485309798749074</td>    <td>0.9886393028315296</td>   <td>1.0057827624141857</td> \n",
       "</tr>\n",
       "<tr>\n",
       "  <th>skew</th>       <td>0.02583127860780569</td>   <td>0.16174954902236807</td> <td>-0.08232011461283707</td>\n",
       "</tr>\n",
       "<tr>\n",
       "  <th>kurtosis</th>   <td>3.0593336032129432</td>     <td>2.994742282297342</td>    <td>3.005473537542445</td> \n",
       "</tr>\n",
       "<tr>\n",
       "  <th>iqr</th>        <td>1.3940610514694636</td>    <td>1.3491019953107453</td>   <td>1.4194759270879969</td> \n",
       "</tr>\n",
       "<tr>\n",
       "  <th>mode</th>       <td>-3.645911309275139</td>    <td>-2.4303200634015405</td>  <td>-3.8430367757874224</td>\n",
       "</tr>\n",
       "<tr>\n",
       "  <th>mode_freq</th>         <td>0.001</td>                 <td>0.001</td>                <td>0.001</td>       \n",
       "</tr>\n",
       "<tr>\n",
       "  <th>1%</th>         <td>-2.3747781212412153</td>   <td>-2.232921173844704</td>   <td>-2.339367851525551</td> \n",
       "</tr>\n",
       "<tr>\n",
       "  <th>5%</th>         <td>-1.7422214040710027</td>   <td>-1.6675521170923113</td>  <td>-1.611297740885243</td> \n",
       "</tr>\n",
       "<tr>\n",
       "  <th>10%</th>        <td>-1.3641030259248001</td>   <td>-1.261161924933352</td>   <td>-1.2748044289648461</td>\n",
       "</tr>\n",
       "<tr>\n",
       "  <th>25%</th>        <td>-0.7448737247138308</td>   <td>-0.7042178183542013</td>  <td>-0.6995547803515381</td>\n",
       "</tr>\n",
       "<tr>\n",
       "  <th>50%</th>       <td>-0.016653547221971345</td> <td>-0.03764433940845291</td> <td>0.030053316097577505</td>\n",
       "</tr>\n",
       "<tr>\n",
       "  <th>75%</th>        <td>0.6491873267556327</td>     <td>0.644884176956544</td>   <td>0.7199211467364589</td> \n",
       "</tr>\n",
       "<tr>\n",
       "  <th>90%</th>        <td>1.3432136930524652</td>    <td>1.2581803275412415</td>    <td>1.306796865544101</td> \n",
       "</tr>\n",
       "<tr>\n",
       "  <th>95%</th>        <td>1.6624014493776207</td>    <td>1.6596500461731685</td>    <td>1.612643115379505</td> \n",
       "</tr>\n",
       "<tr>\n",
       "  <th>99%</th>         <td>2.296942962164206</td>     <td>2.371870855793461</td>    <td>2.181146099241873</td> \n",
       "</tr>\n",
       "</table>"
      ],
      "text/latex": [
       "\\begin{center}\n",
       "\\begin{tabular}{lccc}\n",
       "\\toprule\n",
       "\\textbf{nobs}       &         1000.0        &        1000.0        &        1000.0         \\\\\n",
       "\\textbf{missing}    &          0.0          &         0.0          &         0.0           \\\\\n",
       "\\textbf{min}        &   -3.645911309275139  & -2.4303200634015405  & -3.8430367757874224   \\\\\n",
       "\\textbf{mean}       &  -0.03019749575525394 & -0.02160931395700724 & 0.004423637045314635  \\\\\n",
       "\\textbf{median}     & -0.016653547221971345 & -0.03764433940845291 & 0.030053316097577505  \\\\\n",
       "\\textbf{max}        &   3.957196904643556   &  3.3742843741031177  &  3.414863074079527    \\\\\n",
       "\\textbf{std}        &   1.0485309798749074  &  0.9886393028315296  &  1.0057827624141857   \\\\\n",
       "\\textbf{skew}       &  0.02583127860780569  & 0.16174954902236807  & -0.08232011461283707  \\\\\n",
       "\\textbf{kurtosis}   &   3.0593336032129432  &  2.994742282297342   &  3.005473537542445    \\\\\n",
       "\\textbf{iqr}        &   1.3940610514694636  &  1.3491019953107453  &  1.4194759270879969   \\\\\n",
       "\\textbf{mode}       &   -3.645911309275139  & -2.4303200634015405  & -3.8430367757874224   \\\\\n",
       "\\textbf{mode\\_freq} &         0.001         &        0.001         &        0.001          \\\\\n",
       "\\textbf{1\\%}        &  -2.3747781212412153  &  -2.232921173844704  &  -2.339367851525551   \\\\\n",
       "\\textbf{5\\%}        &  -1.7422214040710027  & -1.6675521170923113  &  -1.611297740885243   \\\\\n",
       "\\textbf{10\\%}       &  -1.3641030259248001  &  -1.261161924933352  & -1.2748044289648461   \\\\\n",
       "\\textbf{25\\%}       &  -0.7448737247138308  & -0.7042178183542013  & -0.6995547803515381   \\\\\n",
       "\\textbf{50\\%}       & -0.016653547221971345 & -0.03764433940845291 & 0.030053316097577505  \\\\\n",
       "\\textbf{75\\%}       &   0.6491873267556327  &  0.644884176956544   &  0.7199211467364589   \\\\\n",
       "\\textbf{90\\%}       &   1.3432136930524652  &  1.2581803275412415  &  1.306796865544101    \\\\\n",
       "\\textbf{95\\%}       &   1.6624014493776207  &  1.6596500461731685  &  1.612643115379505    \\\\\n",
       "\\textbf{99\\%}       &   2.296942962164206   &  2.371870855793461   &  2.181146099241873    \\\\\n",
       "\\bottomrule\n",
       "\\end{tabular}\n",
       "%\\caption{Descriptive Statistics}\n",
       "\\end{center}"
      ],
      "text/plain": [
       "<class 'statsmodels.iolib.table.SimpleTable'>"
      ]
     },
     "execution_count": 58,
     "metadata": {},
     "output_type": "execute_result"
    }
   ],
   "source": [
    "Description(\n",
    "    tsdf, \n",
    "    stats=[\n",
    "        'nobs', 'missing', 'distinct', 'min', 'mean', 'median', 'max', 'std',  \n",
    "        'skew', 'kurtosis', 'iqr', 'percentiles', 'mode', \n",
    "    ], \n",
    "    numeric=True, \n",
    "    categorical=False, \n",
    "    alpha=0.05, \n",
    "    use_t=False, \n",
    "    percentiles=(1, 5, 10, 25, 50, 75, 90, 95, 99),\n",
    ").summary()"
   ]
  },
  {
   "cell_type": "code",
   "execution_count": 67,
   "metadata": {},
   "outputs": [
    {
     "data": {
      "text/plain": [
       "('nobs', 'missing', 'distinct', 'top', 'freq')"
      ]
     },
     "execution_count": 67,
     "metadata": {},
     "output_type": "execute_result"
    }
   ],
   "source": [
    "catnumframe = pd.DataFrame({\"a\": [\"Yes\", \"Yes\", \"No\", \"No\", \"Yes\", \"Yes\"], \n",
    "                            \"b\": [\"Good\", \"Better\", \"Bad\", \"Bad\", \"Worse\", \"Good\"], \n",
    "                            \"c\": [\"Claude\", \"Maria\", \"Maria\", \"George\", \"Luisa\", \"Kurt\"], \n",
    "                            \"d\": [0.1, 0.343, 0.56, -0.74, 0.89, -0.12]\n",
    "                            })\n",
    "\n",
    "Description(\n",
    "    catnumframe, \n",
    "    numeric=True, \n",
    "    categorical=True,\n",
    ").categorical_statistics"
   ]
  },
  {
   "cell_type": "code",
   "execution_count": 70,
   "metadata": {},
   "outputs": [
    {
     "data": {
      "text/html": [
       "<table class=\"simpletable\">\n",
       "<caption>Descriptive Statistics</caption>\n",
       "<tr>\n",
       "  <th>nobs</th>              <td>6.0</td>        \n",
       "</tr>\n",
       "<tr>\n",
       "  <th>missing</th>           <td>0.0</td>        \n",
       "</tr>\n",
       "<tr>\n",
       "  <th>mode</th>             <td>-0.74</td>       \n",
       "</tr>\n",
       "<tr>\n",
       "  <th>mode_freq</th> <td>0.16666666666666666</td>\n",
       "</tr>\n",
       "</table>"
      ],
      "text/latex": [
       "\\begin{center}\n",
       "\\begin{tabular}{lc}\n",
       "\\toprule\n",
       "\\textbf{nobs}       &         6.0          \\\\\n",
       "\\textbf{missing}    &         0.0          \\\\\n",
       "\\textbf{mode}       &        -0.74         \\\\\n",
       "\\textbf{mode\\_freq} & 0.16666666666666666  \\\\\n",
       "\\bottomrule\n",
       "\\end{tabular}\n",
       "%\\caption{Descriptive Statistics}\n",
       "\\end{center}"
      ],
      "text/plain": [
       "<class 'statsmodels.iolib.table.SimpleTable'>"
      ]
     },
     "execution_count": 70,
     "metadata": {},
     "output_type": "execute_result"
    }
   ],
   "source": [
    "Description(\n",
    "    catnumframe, \n",
    "    stats=[\n",
    "        'nobs', 'missing', 'distinct', 'mode', 'top', 'freq',\n",
    "    ], \n",
    "    numeric=True, \n",
    "    categorical=True,\n",
    "    ntop=5\n",
    ").summary()"
   ]
  },
  {
   "cell_type": "code",
   "execution_count": null,
   "metadata": {},
   "outputs": [],
   "source": []
  }
 ],
 "metadata": {
  "kernelspec": {
   "display_name": "Python 3 (ipykernel)",
   "language": "python",
   "name": "python3"
  },
  "language_info": {
   "codemirror_mode": {
    "name": "ipython",
    "version": 3
   },
   "file_extension": ".py",
   "mimetype": "text/x-python",
   "name": "python",
   "nbconvert_exporter": "python",
   "pygments_lexer": "ipython3",
   "version": "3.8.6"
  }
 },
 "nbformat": 4,
 "nbformat_minor": 4
}
