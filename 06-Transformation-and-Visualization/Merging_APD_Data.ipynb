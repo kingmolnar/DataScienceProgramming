{
 "cells": [
  {
   "cell_type": "markdown",
   "metadata": {},
   "source": [
    "# Atlanta Police Department\n",
    "![APD Logo](https://atlantapd.galls.com/photos/partners/atlantapd/logo.jpg)\n",
    "\n",
    "\n",
    "The Atlanta Police Department provided Part 1 crime data at http://www.atlantapd.org/i-want-to/crime-data-downloads\n",
    "\n",
    "A copy of the data file is stored in the cluster. <span style=\"color: red; font-weight: bold;\">Please, do not copy this data file into your home directory!</span>"
   ]
  },
  {
   "cell_type": "markdown",
   "metadata": {},
   "source": [
    "# Introduction\n",
    "\n",
    "\n",
    "- This notebooks leads into an exploration of public crime data provided by the Atlanta Police Department.\n",
    "- The original data set and supplemental information can be found at http://www.atlantapd.org/i-want-to/crime-data-downloads\n",
    "- **The data set is available on ARC, please, don't download into your home directory on ARC!**"
   ]
  },
  {
   "cell_type": "code",
   "execution_count": 3,
   "metadata": {},
   "outputs": [],
   "source": [
    "%reload_ext autoreload\n",
    "%autoreload 2"
   ]
  },
  {
   "cell_type": "code",
   "execution_count": 11,
   "metadata": {
    "ExecuteTime": {
     "end_time": "2017-10-04T18:11:45.575540",
     "start_time": "2017-10-04T18:11:44.488168"
    }
   },
   "outputs": [],
   "source": [
    "import numpy as np\n",
    "import pandas as pd\n",
    "import matplotlib.pyplot as plt"
   ]
  },
  {
   "cell_type": "code",
   "execution_count": 7,
   "metadata": {
    "ExecuteTime": {
     "end_time": "2017-10-04T18:16:03.901469",
     "start_time": "2017-10-04T18:16:03.746426"
    },
    "collapsed": false,
    "jupyter": {
     "outputs_hidden": false
    }
   },
   "outputs": [
    {
     "name": "stdout",
     "output_type": "stream",
     "text": [
      "-rw-r--r--. 1 pmolnar 1999 6113160 Oct  4  2017 /home/data/APD/COBRA-YTD2009.xlsx\n",
      "-rw-r--r--. 1 pmolnar 1999 5528521 Oct  4  2017 /home/data/APD/COBRA-YTD2010.xlsx\n",
      "-rw-r--r--. 1 pmolnar 1999 5432924 Oct  4  2017 /home/data/APD/COBRA-YTD2011.xlsx\n",
      "-rw-r--r--. 1 pmolnar 1999 5128046 Oct  4  2017 /home/data/APD/COBRA-YTD2012.xlsx\n",
      "-rw-r--r--. 1 pmolnar 1999 4972005 Oct  4  2017 /home/data/APD/COBRA-YTD2013.xlsx\n",
      "-rw-r--r--. 1 pmolnar 1999 4804222 Oct  4  2017 /home/data/APD/COBRA-YTD2014.xlsx\n",
      "-rw-r--r--. 1 pmolnar 1999 4640184 Oct  4  2017 /home/data/APD/COBRA-YTD2015.xlsx\n",
      "-rw-r--r--. 1 pmolnar 1999 3931468 Oct  4  2017 /home/data/APD/COBRA-YTD2016.xlsx\n",
      "-rw-r--r--. 1 pmolnar 1999 2962620 Oct  4  2017 /home/data/APD/COBRA-YTD2017.xlsx\n"
     ]
    }
   ],
   "source": [
    "ls -l /home/data/APD/COBRA-YTD*.xlsx"
   ]
  },
  {
   "cell_type": "code",
   "execution_count": 12,
   "metadata": {
    "ExecuteTime": {
     "end_time": "2017-10-04T18:29:00.377821",
     "start_time": "2017-10-04T18:23:51.343098"
    },
    "collapsed": false,
    "jupyter": {
     "outputs_hidden": false
    }
   },
   "outputs": [
    {
     "name": "stdout",
     "output_type": "stream",
     "text": [
      "Year: 9\n",
      "Shape of table: 39,626x23\n",
      "Year: 10\n",
      "Shape of table: 35,770x23\n",
      "Year: 11\n",
      "Shape of table: 35,174x23\n",
      "Year: 12\n",
      "Shape of table: 33,394x23\n",
      "Year: 13\n",
      "Shape of table: 32,303x23\n",
      "Year: 14\n",
      "Shape of table: 31,166x23\n",
      "Year: 15\n",
      "Shape of table: 30,115x23\n",
      "Year: 16\n",
      "Shape of table: 29,112x23\n",
      "Year: 17\n",
      "Shape of table: 19,073x23\n"
     ]
    }
   ],
   "source": [
    "dfd = dict()\n",
    "for YY in [9, 10, 11, 12, 13, 14, 15, 16, 17]:\n",
    "    dfd[YY] = pd.read_excel('/home/data/APD/COBRA-YTD20%02d.xlsx'%YY, sheet_name='Query')\n",
    "    print(f\"Year: {YY}\\nShape of table: {dfd[YY].shape[0]:,} x {dfd[YY].shape[1]}\")\n",
    "#     print dfd[YY].offense_id.min(), dfd[YY].offense_id.max()\n"
   ]
  },
  {
   "cell_type": "markdown",
   "metadata": {},
   "source": [
    "Let's look at the structure of this table. We're actually creating some text output that can be used to create a data dictionary."
   ]
  },
  {
   "cell_type": "code",
   "execution_count": 14,
   "metadata": {
    "ExecuteTime": {
     "end_time": "2017-10-04T18:40:55.463511",
     "start_time": "2017-10-04T18:40:55.088665"
    },
    "collapsed": false,
    "jupyter": {
     "outputs_hidden": false
    }
   },
   "outputs": [],
   "source": [
    "df = pd.concat([dfd[k] for k in dfd.keys()])\n",
    "df.to_csv('/home/data/APD/COBRA-YTD-multiyear.csv.gz', index=None, compression='gzip')"
   ]
  },
  {
   "cell_type": "code",
   "execution_count": 15,
   "metadata": {},
   "outputs": [
    {
     "name": "stdout",
     "output_type": "stream",
     "text": [
      "-rw-r--r--. 1 pmolnar 1999 11360693 Sep 25 20:51 /home/data/APD/COBRA-YTD-multiyear.csv.gz\n"
     ]
    }
   ],
   "source": [
    "ls -l /home/data/APD/COBRA-YTD-multiyear.csv.gz"
   ]
  },
  {
   "cell_type": "code",
   "execution_count": 18,
   "metadata": {},
   "outputs": [
    {
     "name": "stdout",
     "output_type": "stream",
     "text": [
      "Number of records: 285,733\n"
     ]
    }
   ],
   "source": [
    "print(f\"Number of records: {df.shape[0]:,}\")"
   ]
  },
  {
   "cell_type": "code",
   "execution_count": null,
   "metadata": {},
   "outputs": [],
   "source": []
  }
 ],
 "metadata": {
  "hide_input": false,
  "kernelspec": {
   "display_name": "Python 3",
   "language": "python",
   "name": "python3"
  },
  "language_info": {
   "codemirror_mode": {
    "name": "ipython",
    "version": 3
   },
   "file_extension": ".py",
   "mimetype": "text/x-python",
   "name": "python",
   "nbconvert_exporter": "python",
   "pygments_lexer": "ipython3",
   "version": "3.8.6"
  },
  "toc": {
   "nav_menu": {
    "height": "212px",
    "width": "252px"
   },
   "navigate_menu": true,
   "number_sections": true,
   "sideBar": true,
   "threshold": 4,
   "toc_cell": false,
   "toc_section_display": "block",
   "toc_window_display": true
  }
 },
 "nbformat": 4,
 "nbformat_minor": 4
}
