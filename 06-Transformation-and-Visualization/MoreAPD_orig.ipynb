{
 "cells": [
  {
   "cell_type": "markdown",
   "metadata": {},
   "source": [
    "# Atlanta Police Department\n",
    "![APD Logo](https://atlantapd.galls.com/photos/partners/atlantapd/logo.jpg)\n",
    "\n",
    "\n",
    "The Atlanta Police Department provides Part 1 crime data at http://www.atlantapd.org/i-want-to/crime-data-downloads\n",
    "\n",
    "A recent copy of the data file is stored in the cluster. <span style=\"color: red; font-weight: bold;\">Please, do not copy this data file into your home directory!</span>"
   ]
  },
  {
   "cell_type": "markdown",
   "metadata": {},
   "source": [
    "# Introduction\n",
    "\n",
    "\n",
    "- This notebooks leads into an exploration of public crime data provided by the Atlanta Police Department.\n",
    "- The original data set and supplemental information can be found at http://www.atlantapd.org/i-want-to/crime-data-downloads\n",
    "- **The data set is available on ARC, please, don't download into your home directory on ARC!**"
   ]
  },
  {
   "cell_type": "code",
   "execution_count": 1,
   "metadata": {
    "ExecuteTime": {
     "end_time": "2017-10-04T19:13:16.065265",
     "start_time": "2017-10-04T19:13:14.667122"
    },
    "collapsed": true,
    "jupyter": {
     "outputs_hidden": true
    }
   },
   "outputs": [],
   "source": [
    "import numpy as np\n",
    "import pandas as pd\n",
    "%matplotlib inline\n",
    "import matplotlib.pyplot as plt"
   ]
  },
  {
   "cell_type": "code",
   "execution_count": 3,
   "metadata": {
    "ExecuteTime": {
     "end_time": "2017-10-04T19:13:29.760710",
     "start_time": "2017-10-04T19:13:29.610076"
    },
    "collapsed": false,
    "jupyter": {
     "outputs_hidden": false
    }
   },
   "outputs": [
    {
     "name": "stdout",
     "output_type": "stream",
     "text": [
      "-rw-r--r-- 1 pmolnar data   763171 Sep 26 13:13 /home/data/APD/COBRA-YTD2017.csv.gz\n",
      "-rw-r--r-- 1 pmolnar data 11253630 Oct  4 18:41 /home/data/APD/COBRA-YTD-multiyear.csv.gz\n"
     ]
    }
   ],
   "source": [
    "ls -l /home/data/APD/COBRA-YTD*.csv.gz"
   ]
  },
  {
   "cell_type": "code",
   "execution_count": 4,
   "metadata": {
    "ExecuteTime": {
     "end_time": "2017-10-04T19:14:29.313412",
     "start_time": "2017-10-04T19:14:25.632369"
    },
    "collapsed": false,
    "jupyter": {
     "outputs_hidden": false
    }
   },
   "outputs": [
    {
     "name": "stderr",
     "output_type": "stream",
     "text": [
      "/usr/lib/python2.7/site-packages/IPython/core/interactiveshell.py:2717: DtypeWarning: Columns (13) have mixed types. Specify dtype option on import or set low_memory=False.\n",
      "  interactivity=interactivity, compiler=compiler, result=result)\n"
     ]
    },
    {
     "data": {
      "text/plain": [
       "(285733, 23)"
      ]
     },
     "execution_count": 4,
     "metadata": {},
     "output_type": "execute_result"
    }
   ],
   "source": [
    "df = pd.read_csv('/home/data/APD/COBRA-YTD-multiyear.csv.gz')\n",
    "df.shape"
   ]
  },
  {
   "cell_type": "code",
   "execution_count": 6,
   "metadata": {
    "ExecuteTime": {
     "end_time": "2017-10-04T19:14:56.481562",
     "start_time": "2017-10-04T19:14:56.464931"
    },
    "collapsed": false,
    "jupyter": {
     "outputs_hidden": false
    }
   },
   "outputs": [
    {
     "data": {
      "text/plain": [
       "MI_PRINX               int64\n",
       "offense_id             int64\n",
       "rpt_date              object\n",
       "occur_date            object\n",
       "occur_time            object\n",
       "poss_date             object\n",
       "poss_time             object\n",
       "beat                 float64\n",
       "apt_office_prefix     object\n",
       "apt_office_num        object\n",
       "location              object\n",
       "MinOfucr               int64\n",
       "MinOfibr_code         object\n",
       "dispo_code            object\n",
       "MaxOfnum_victims     float64\n",
       "Shift                 object\n",
       "Avg Day               object\n",
       "loc_type             float64\n",
       "UC2 Literal           object\n",
       "neighborhood          object\n",
       "npu                   object\n",
       "x                    float64\n",
       "y                    float64\n",
       "dtype: object"
      ]
     },
     "execution_count": 6,
     "metadata": {},
     "output_type": "execute_result"
    }
   ],
   "source": [
    "df.dtypes"
   ]
  },
  {
   "cell_type": "code",
   "execution_count": null,
   "metadata": {
    "collapsed": true,
    "jupyter": {
     "outputs_hidden": true
    }
   },
   "outputs": [],
   "source": []
  },
  {
   "cell_type": "code",
   "execution_count": null,
   "metadata": {
    "collapsed": true,
    "jupyter": {
     "outputs_hidden": true
    }
   },
   "outputs": [],
   "source": []
  },
  {
   "cell_type": "code",
   "execution_count": 7,
   "metadata": {
    "ExecuteTime": {
     "end_time": "2017-09-27T19:31:56.109330",
     "start_time": "2017-09-27T19:31:56.096815"
    },
    "collapsed": false,
    "jupyter": {
     "outputs_hidden": false
    }
   },
   "outputs": [],
   "source": [
    "dataDict = pd.DataFrame({'DataType': df.dtypes.values, 'Description': '', }, index=df.columns.values)"
   ]
  },
  {
   "cell_type": "markdown",
   "metadata": {},
   "source": [
    "We need to enter the descriptions for each entry in our dictionary manually. However, why not just create a the Python code automatically...\n",
    "\n",
    "Run the code below only if you haven't edited the `datadict.py` file in a different way, since it will overwrite what you have so far. (That's why the code is commented-out.)"
   ]
  },
  {
   "cell_type": "code",
   "execution_count": 8,
   "metadata": {
    "ExecuteTime": {
     "end_time": "2017-09-27T19:32:54.435736",
     "start_time": "2017-09-27T19:32:54.397500"
    },
    "collapsed": false,
    "jupyter": {
     "outputs_hidden": false
    },
    "scrolled": true
   },
   "outputs": [
    {
     "data": {
      "text/html": [
       "<div>\n",
       "<table border=\"1\" class=\"dataframe\">\n",
       "  <thead>\n",
       "    <tr style=\"text-align: right;\">\n",
       "      <th></th>\n",
       "      <th>DataType</th>\n",
       "      <th>Description</th>\n",
       "    </tr>\n",
       "  </thead>\n",
       "  <tbody>\n",
       "    <tr>\n",
       "      <th>MI_PRINX</th>\n",
       "      <td>int64</td>\n",
       "      <td></td>\n",
       "    </tr>\n",
       "    <tr>\n",
       "      <th>offense_id</th>\n",
       "      <td>int64</td>\n",
       "      <td></td>\n",
       "    </tr>\n",
       "    <tr>\n",
       "      <th>rpt_date</th>\n",
       "      <td>object</td>\n",
       "      <td></td>\n",
       "    </tr>\n",
       "    <tr>\n",
       "      <th>occur_date</th>\n",
       "      <td>object</td>\n",
       "      <td></td>\n",
       "    </tr>\n",
       "    <tr>\n",
       "      <th>occur_time</th>\n",
       "      <td>object</td>\n",
       "      <td></td>\n",
       "    </tr>\n",
       "    <tr>\n",
       "      <th>poss_date</th>\n",
       "      <td>object</td>\n",
       "      <td></td>\n",
       "    </tr>\n",
       "    <tr>\n",
       "      <th>poss_time</th>\n",
       "      <td>object</td>\n",
       "      <td></td>\n",
       "    </tr>\n",
       "    <tr>\n",
       "      <th>beat</th>\n",
       "      <td>int64</td>\n",
       "      <td></td>\n",
       "    </tr>\n",
       "    <tr>\n",
       "      <th>apt_office_prefix</th>\n",
       "      <td>object</td>\n",
       "      <td></td>\n",
       "    </tr>\n",
       "    <tr>\n",
       "      <th>apt_office_num</th>\n",
       "      <td>object</td>\n",
       "      <td></td>\n",
       "    </tr>\n",
       "    <tr>\n",
       "      <th>location</th>\n",
       "      <td>object</td>\n",
       "      <td></td>\n",
       "    </tr>\n",
       "    <tr>\n",
       "      <th>MinOfucr</th>\n",
       "      <td>int64</td>\n",
       "      <td></td>\n",
       "    </tr>\n",
       "    <tr>\n",
       "      <th>MinOfibr_code</th>\n",
       "      <td>object</td>\n",
       "      <td></td>\n",
       "    </tr>\n",
       "    <tr>\n",
       "      <th>dispo_code</th>\n",
       "      <td>object</td>\n",
       "      <td></td>\n",
       "    </tr>\n",
       "    <tr>\n",
       "      <th>MaxOfnum_victims</th>\n",
       "      <td>float64</td>\n",
       "      <td></td>\n",
       "    </tr>\n",
       "    <tr>\n",
       "      <th>Shift</th>\n",
       "      <td>object</td>\n",
       "      <td></td>\n",
       "    </tr>\n",
       "    <tr>\n",
       "      <th>Avg Day</th>\n",
       "      <td>object</td>\n",
       "      <td></td>\n",
       "    </tr>\n",
       "    <tr>\n",
       "      <th>loc_type</th>\n",
       "      <td>float64</td>\n",
       "      <td></td>\n",
       "    </tr>\n",
       "    <tr>\n",
       "      <th>UC2 Literal</th>\n",
       "      <td>object</td>\n",
       "      <td></td>\n",
       "    </tr>\n",
       "    <tr>\n",
       "      <th>neighborhood</th>\n",
       "      <td>object</td>\n",
       "      <td></td>\n",
       "    </tr>\n",
       "    <tr>\n",
       "      <th>npu</th>\n",
       "      <td>object</td>\n",
       "      <td></td>\n",
       "    </tr>\n",
       "    <tr>\n",
       "      <th>x</th>\n",
       "      <td>float64</td>\n",
       "      <td></td>\n",
       "    </tr>\n",
       "    <tr>\n",
       "      <th>y</th>\n",
       "      <td>float64</td>\n",
       "      <td></td>\n",
       "    </tr>\n",
       "  </tbody>\n",
       "</table>\n",
       "</div>"
      ],
      "text/plain": [
       "                  DataType Description\n",
       "MI_PRINX             int64            \n",
       "offense_id           int64            \n",
       "rpt_date            object            \n",
       "occur_date          object            \n",
       "occur_time          object            \n",
       "poss_date           object            \n",
       "poss_time           object            \n",
       "beat                 int64            \n",
       "apt_office_prefix   object            \n",
       "apt_office_num      object            \n",
       "location            object            \n",
       "MinOfucr             int64            \n",
       "MinOfibr_code       object            \n",
       "dispo_code          object            \n",
       "MaxOfnum_victims   float64            \n",
       "Shift               object            \n",
       "Avg Day             object            \n",
       "loc_type           float64            \n",
       "UC2 Literal         object            \n",
       "neighborhood        object            \n",
       "npu                 object            \n",
       "x                  float64            \n",
       "y                  float64            "
      ]
     },
     "execution_count": 8,
     "metadata": {},
     "output_type": "execute_result"
    }
   ],
   "source": [
    "dataDict"
   ]
  },
  {
   "cell_type": "code",
   "execution_count": 10,
   "metadata": {
    "ExecuteTime": {
     "end_time": "2017-09-27T19:33:20.253656",
     "start_time": "2017-09-27T19:33:20.241674"
    },
    "collapsed": false,
    "jupyter": {
     "outputs_hidden": false
    }
   },
   "outputs": [],
   "source": [
    "with open(\"datadict2.py\", \"w\") as io:\n",
    "     for i in dataDict.index:\n",
    "         io.write(\"dataDict.loc['%s'].Description = '' # type: %s\\n\" % (i, str(dataDict.loc[i].DataType)))"
   ]
  },
  {
   "cell_type": "code",
   "execution_count": 11,
   "metadata": {
    "ExecuteTime": {
     "end_time": "2017-09-27T19:33:36.014018",
     "start_time": "2017-09-27T19:33:35.872343"
    },
    "collapsed": false,
    "jupyter": {
     "outputs_hidden": false
    }
   },
   "outputs": [
    {
     "name": "stdout",
     "output_type": "stream",
     "text": [
      "-rw-r--r-- 1 pmolnar pmolnar 1329 Sep 27 19:33 datadict2.py\n"
     ]
    }
   ],
   "source": [
    "ls -l datadict2.py"
   ]
  },
  {
   "cell_type": "code",
   "execution_count": 14,
   "metadata": {
    "ExecuteTime": {
     "end_time": "2017-09-27T19:34:46.974117",
     "start_time": "2017-09-27T19:34:46.897334"
    },
    "collapsed": true,
    "jupyter": {
     "outputs_hidden": true
    }
   },
   "outputs": [],
   "source": [
    "# %load datadict2.py\n",
    "dataDict.loc['MI_PRINX'].Description = '' # type: int64\n",
    "dataDict.loc['offense_id'].Description = '' # type: int64\n",
    "dataDict.loc['rpt_date'].Description = '' # type: object\n",
    "dataDict.loc['occur_date'].Description = '' # type: object\n",
    "dataDict.loc['occur_time'].Description = '' # type: object\n",
    "dataDict.loc['poss_date'].Description = '' # type: object\n",
    "dataDict.loc['poss_time'].Description = '' # type: object\n",
    "dataDict.loc['beat'].Description = '' # type: int64\n",
    "dataDict.loc['apt_office_prefix'].Description = '' # type: object\n",
    "dataDict.loc['apt_office_num'].Description = '' # type: object\n",
    "dataDict.loc['location'].Description = '' # type: object\n",
    "dataDict.loc['MinOfucr'].Description = '' # type: int64\n",
    "dataDict.loc['MinOfibr_code'].Description = '' # type: object\n",
    "dataDict.loc['dispo_code'].Description = '' # type: object\n",
    "dataDict.loc['MaxOfnum_victims'].Description = '' # type: float64\n",
    "dataDict.loc['Shift'].Description = '' # type: object\n",
    "dataDict.loc['Avg Day'].Description = '' # type: object\n",
    "dataDict.loc['loc_type'].Description = '' # type: float64\n",
    "dataDict.loc['UC2 Literal'].Description = '' # type: object\n",
    "dataDict.loc['neighborhood'].Description = '' # type: object\n",
    "dataDict.loc['npu'].Description = '' # type: object\n",
    "dataDict.loc['x'].Description = '' # type: float64\n",
    "dataDict.loc['y'].Description = '' # type: float64\n"
   ]
  },
  {
   "cell_type": "code",
   "execution_count": null,
   "metadata": {
    "ExecuteTime": {
     "end_time": "2017-09-26T13:38:16.307484",
     "start_time": "2017-09-26T13:38:16.252211"
    },
    "collapsed": true,
    "jupyter": {
     "outputs_hidden": true
    }
   },
   "outputs": [],
   "source": [
    "# %load datadict.py\n",
    "dataDict.loc['MI_PRINX'].Description = '' # type: int64\n",
    "dataDict.loc['offense_id'].Description = 'Unique ID in the format YYDDDNNNN with the year YY, the day of the year DDD and a counter NNNN' # type: int64\n",
    "dataDict.loc['rpt_date'].Description = 'Date the crime was reported' # type: object\n",
    "dataDict.loc['occur_date'].Description = 'Estimated date when the crime occured' # type: object\n",
    "dataDict.loc['occur_time'].Description = 'Estimated time when the crime occured' # type: object\n",
    "dataDict.loc['poss_date'].Description = '' # type: object\n",
    "dataDict.loc['poss_time'].Description = '' # type: object\n",
    "dataDict.loc['beat'].Description = '' # type: int64\n",
    "dataDict.loc['apt_office_prefix'].Description = '' # type: object\n",
    "dataDict.loc['apt_office_num'].Description = '' # type: object\n",
    "dataDict.loc['location'].Description = '' # type: object\n",
    "dataDict.loc['MinOfucr'].Description = '' # type: int64\n",
    "dataDict.loc['MinOfibr_code'].Description = '' # type: object\n",
    "dataDict.loc['dispo_code'].Description = '' # type: object\n",
    "dataDict.loc['MaxOfnum_victims'].Description = '' # type: float64\n",
    "dataDict.loc['Shift'].Description = 'Zones have 8 or 10 hour shifts' # type: object\n",
    "dataDict.loc['Avg Day'].Description = '' # type: object\n",
    "dataDict.loc['loc_type'].Description = '' # type: float64\n",
    "dataDict.loc['UC2 Literal'].Description = '' # type: object\n",
    "dataDict.loc['neighborhood'].Description = '' # type: object\n",
    "dataDict.loc['npu'].Description = '' # type: object\n",
    "dataDict.loc['x'].Description = '' # type: float64\n",
    "dataDict.loc['y'].Description = '' # type: float64\n",
    "dataDict.to_csv(\"COBRA_Data_Dictionary.csv\")"
   ]
  },
  {
   "cell_type": "code",
   "execution_count": 27,
   "metadata": {
    "ExecuteTime": {
     "end_time": "2017-09-27T20:01:27.120379",
     "start_time": "2017-09-27T20:01:27.113147"
    },
    "collapsed": false,
    "jupyter": {
     "outputs_hidden": false
    },
    "scrolled": true
   },
   "outputs": [
    {
     "data": {
      "text/plain": [
       "[nan,\n",
       " 'A',\n",
       " 'B',\n",
       " 'C',\n",
       " 'D',\n",
       " 'E',\n",
       " 'F',\n",
       " 'G',\n",
       " 'H',\n",
       " 'I',\n",
       " 'J',\n",
       " 'K',\n",
       " 'L',\n",
       " 'M',\n",
       " 'N',\n",
       " 'O',\n",
       " 'P',\n",
       " 'Q',\n",
       " 'R',\n",
       " 'S',\n",
       " 'T',\n",
       " 'V',\n",
       " 'W',\n",
       " 'X',\n",
       " 'Y',\n",
       " 'Z']"
      ]
     },
     "execution_count": 27,
     "metadata": {},
     "output_type": "execute_result"
    }
   ],
   "source": [
    "sorted(df.npu.unique())"
   ]
  },
  {
   "cell_type": "code",
   "execution_count": 31,
   "metadata": {
    "ExecuteTime": {
     "end_time": "2017-09-27T20:03:13.544775",
     "start_time": "2017-09-27T20:03:13.536282"
    },
    "collapsed": false,
    "jupyter": {
     "outputs_hidden": false
    }
   },
   "outputs": [
    {
     "data": {
      "text/plain": [
       "235"
      ]
     },
     "execution_count": 31,
     "metadata": {},
     "output_type": "execute_result"
    }
   ],
   "source": [
    "len(df.neighborhood.unique())"
   ]
  },
  {
   "cell_type": "markdown",
   "metadata": {},
   "source": [
    "## Fixing Data Types"
   ]
  },
  {
   "cell_type": "code",
   "execution_count": null,
   "metadata": {
    "ExecuteTime": {
     "end_time": "2017-09-26T14:35:49.348525",
     "start_time": "2017-09-26T14:35:49.295624"
    },
    "collapsed": false,
    "jupyter": {
     "outputs_hidden": false
    }
   },
   "outputs": [],
   "source": [
    "print df.groupby(\"Shift\").count().index"
   ]
  },
  {
   "cell_type": "markdown",
   "metadata": {},
   "source": [
    "## Date and Time\n",
    "- Working with dates can be tricky. Often dates and times are coded as strings and need to be converted to a date and time data format.\n",
    "- Python provides a module `datetime` to deal with converting parsing and formatting dates and times. See https://docs.python.org/2/library/datetime.html\n",
    "- The `pandas` package provides functionality to convert text fields into date/time fields...given the values adhere to a given format. See http://pandas.pydata.org/pandas-docs/version/0.20/generated/pandas.to_datetime.html"
   ]
  },
  {
   "cell_type": "markdown",
   "metadata": {},
   "source": [
    "### Create a proper text field\n",
    "In order to use the text to date/time converter our text columns need to have the appropriate format."
   ]
  },
  {
   "cell_type": "code",
   "execution_count": 15,
   "metadata": {
    "ExecuteTime": {
     "end_time": "2017-09-27T19:45:33.173252",
     "start_time": "2017-09-27T19:45:33.056888"
    },
    "collapsed": false,
    "jupyter": {
     "outputs_hidden": false
    }
   },
   "outputs": [
    {
     "data": {
      "text/html": [
       "<div>\n",
       "<table border=\"1\" class=\"dataframe\">\n",
       "  <thead>\n",
       "    <tr style=\"text-align: right;\">\n",
       "      <th></th>\n",
       "      <th>occur_date</th>\n",
       "      <th>occur_time</th>\n",
       "    </tr>\n",
       "  </thead>\n",
       "  <tbody>\n",
       "    <tr>\n",
       "      <th>0</th>\n",
       "      <td>09/06/2017</td>\n",
       "      <td>00:30:00</td>\n",
       "    </tr>\n",
       "    <tr>\n",
       "      <th>1</th>\n",
       "      <td>09/05/2017</td>\n",
       "      <td>11:15:00</td>\n",
       "    </tr>\n",
       "    <tr>\n",
       "      <th>2</th>\n",
       "      <td>09/06/2017</td>\n",
       "      <td>03:15:00</td>\n",
       "    </tr>\n",
       "    <tr>\n",
       "      <th>3</th>\n",
       "      <td>09/05/2017</td>\n",
       "      <td>17:45:00</td>\n",
       "    </tr>\n",
       "    <tr>\n",
       "      <th>4</th>\n",
       "      <td>09/05/2017</td>\n",
       "      <td>17:00:00</td>\n",
       "    </tr>\n",
       "    <tr>\n",
       "      <th>5</th>\n",
       "      <td>09/06/2017</td>\n",
       "      <td>05:30:00</td>\n",
       "    </tr>\n",
       "    <tr>\n",
       "      <th>6</th>\n",
       "      <td>09/06/2017</td>\n",
       "      <td>06:50:00</td>\n",
       "    </tr>\n",
       "    <tr>\n",
       "      <th>7</th>\n",
       "      <td>09/06/2017</td>\n",
       "      <td>06:50:00</td>\n",
       "    </tr>\n",
       "    <tr>\n",
       "      <th>8</th>\n",
       "      <td>09/06/2017</td>\n",
       "      <td>04:00:00</td>\n",
       "    </tr>\n",
       "    <tr>\n",
       "      <th>9</th>\n",
       "      <td>09/06/2017</td>\n",
       "      <td>04:00:00</td>\n",
       "    </tr>\n",
       "    <tr>\n",
       "      <th>10</th>\n",
       "      <td>09/03/2017</td>\n",
       "      <td>11:00:00</td>\n",
       "    </tr>\n",
       "    <tr>\n",
       "      <th>11</th>\n",
       "      <td>09/05/2017</td>\n",
       "      <td>21:00:00</td>\n",
       "    </tr>\n",
       "    <tr>\n",
       "      <th>12</th>\n",
       "      <td>09/06/2017</td>\n",
       "      <td>07:30:00</td>\n",
       "    </tr>\n",
       "    <tr>\n",
       "      <th>13</th>\n",
       "      <td>09/05/2017</td>\n",
       "      <td>22:00:00</td>\n",
       "    </tr>\n",
       "    <tr>\n",
       "      <th>14</th>\n",
       "      <td>09/06/2017</td>\n",
       "      <td>08:30:00</td>\n",
       "    </tr>\n",
       "    <tr>\n",
       "      <th>15</th>\n",
       "      <td>09/06/2017</td>\n",
       "      <td>09:20:00</td>\n",
       "    </tr>\n",
       "    <tr>\n",
       "      <th>16</th>\n",
       "      <td>09/06/2017</td>\n",
       "      <td>07:00:00</td>\n",
       "    </tr>\n",
       "    <tr>\n",
       "      <th>17</th>\n",
       "      <td>09/05/2017</td>\n",
       "      <td>19:30:00</td>\n",
       "    </tr>\n",
       "    <tr>\n",
       "      <th>18</th>\n",
       "      <td>09/06/2017</td>\n",
       "      <td>10:19:00</td>\n",
       "    </tr>\n",
       "    <tr>\n",
       "      <th>19</th>\n",
       "      <td>09/06/2017</td>\n",
       "      <td>10:15:00</td>\n",
       "    </tr>\n",
       "    <tr>\n",
       "      <th>20</th>\n",
       "      <td>09/06/2017</td>\n",
       "      <td>07:00:00</td>\n",
       "    </tr>\n",
       "    <tr>\n",
       "      <th>21</th>\n",
       "      <td>09/06/2017</td>\n",
       "      <td>10:30:00</td>\n",
       "    </tr>\n",
       "    <tr>\n",
       "      <th>22</th>\n",
       "      <td>09/06/2017</td>\n",
       "      <td>11:00:00</td>\n",
       "    </tr>\n",
       "    <tr>\n",
       "      <th>23</th>\n",
       "      <td>09/06/2017</td>\n",
       "      <td>11:25:00</td>\n",
       "    </tr>\n",
       "    <tr>\n",
       "      <th>24</th>\n",
       "      <td>08/28/2017</td>\n",
       "      <td>21:07:00</td>\n",
       "    </tr>\n",
       "    <tr>\n",
       "      <th>25</th>\n",
       "      <td>08/31/2017</td>\n",
       "      <td>00:00:00</td>\n",
       "    </tr>\n",
       "    <tr>\n",
       "      <th>26</th>\n",
       "      <td>09/06/2017</td>\n",
       "      <td>13:00:00</td>\n",
       "    </tr>\n",
       "    <tr>\n",
       "      <th>27</th>\n",
       "      <td>09/06/2017</td>\n",
       "      <td>13:15:00</td>\n",
       "    </tr>\n",
       "    <tr>\n",
       "      <th>28</th>\n",
       "      <td>09/06/2017</td>\n",
       "      <td>00:44:00</td>\n",
       "    </tr>\n",
       "    <tr>\n",
       "      <th>29</th>\n",
       "      <td>09/06/2017</td>\n",
       "      <td>08:00:00</td>\n",
       "    </tr>\n",
       "    <tr>\n",
       "      <th>...</th>\n",
       "      <td>...</td>\n",
       "      <td>...</td>\n",
       "    </tr>\n",
       "    <tr>\n",
       "      <th>17395</th>\n",
       "      <td>12/31/2016</td>\n",
       "      <td>10:30:00</td>\n",
       "    </tr>\n",
       "    <tr>\n",
       "      <th>17396</th>\n",
       "      <td>01/01/2017</td>\n",
       "      <td>10:35:00</td>\n",
       "    </tr>\n",
       "    <tr>\n",
       "      <th>17397</th>\n",
       "      <td>12/05/2016</td>\n",
       "      <td>00:00:00</td>\n",
       "    </tr>\n",
       "    <tr>\n",
       "      <th>17398</th>\n",
       "      <td>01/01/2017</td>\n",
       "      <td>19:25:00</td>\n",
       "    </tr>\n",
       "    <tr>\n",
       "      <th>17399</th>\n",
       "      <td>01/01/2017</td>\n",
       "      <td>14:30:00</td>\n",
       "    </tr>\n",
       "    <tr>\n",
       "      <th>17400</th>\n",
       "      <td>01/01/2017</td>\n",
       "      <td>18:50:00</td>\n",
       "    </tr>\n",
       "    <tr>\n",
       "      <th>17401</th>\n",
       "      <td>01/01/2017</td>\n",
       "      <td>20:15:00</td>\n",
       "    </tr>\n",
       "    <tr>\n",
       "      <th>17402</th>\n",
       "      <td>01/01/2017</td>\n",
       "      <td>20:30:00</td>\n",
       "    </tr>\n",
       "    <tr>\n",
       "      <th>17403</th>\n",
       "      <td>01/01/2017</td>\n",
       "      <td>21:05:00</td>\n",
       "    </tr>\n",
       "    <tr>\n",
       "      <th>17404</th>\n",
       "      <td>01/01/2017</td>\n",
       "      <td>21:15:00</td>\n",
       "    </tr>\n",
       "    <tr>\n",
       "      <th>17405</th>\n",
       "      <td>12/30/2016</td>\n",
       "      <td>23:00:00</td>\n",
       "    </tr>\n",
       "    <tr>\n",
       "      <th>17406</th>\n",
       "      <td>01/01/2017</td>\n",
       "      <td>21:00:00</td>\n",
       "    </tr>\n",
       "    <tr>\n",
       "      <th>17407</th>\n",
       "      <td>01/01/2017</td>\n",
       "      <td>22:00:00</td>\n",
       "    </tr>\n",
       "    <tr>\n",
       "      <th>17408</th>\n",
       "      <td>01/01/2017</td>\n",
       "      <td>20:15:00</td>\n",
       "    </tr>\n",
       "    <tr>\n",
       "      <th>17409</th>\n",
       "      <td>01/01/2017</td>\n",
       "      <td>23:02:00</td>\n",
       "    </tr>\n",
       "    <tr>\n",
       "      <th>17410</th>\n",
       "      <td>01/01/2017</td>\n",
       "      <td>23:14:00</td>\n",
       "    </tr>\n",
       "    <tr>\n",
       "      <th>17411</th>\n",
       "      <td>01/01/2017</td>\n",
       "      <td>23:32:00</td>\n",
       "    </tr>\n",
       "    <tr>\n",
       "      <th>17412</th>\n",
       "      <td>01/01/2017</td>\n",
       "      <td>13:30:00</td>\n",
       "    </tr>\n",
       "    <tr>\n",
       "      <th>17413</th>\n",
       "      <td>12/31/2016</td>\n",
       "      <td>22:30:00</td>\n",
       "    </tr>\n",
       "    <tr>\n",
       "      <th>17414</th>\n",
       "      <td>12/31/2016</td>\n",
       "      <td>19:00:00</td>\n",
       "    </tr>\n",
       "    <tr>\n",
       "      <th>17415</th>\n",
       "      <td>12/31/2016</td>\n",
       "      <td>19:05:00</td>\n",
       "    </tr>\n",
       "    <tr>\n",
       "      <th>17416</th>\n",
       "      <td>01/01/2017</td>\n",
       "      <td>15:00:00</td>\n",
       "    </tr>\n",
       "    <tr>\n",
       "      <th>17417</th>\n",
       "      <td>01/01/2017</td>\n",
       "      <td>14:50:00</td>\n",
       "    </tr>\n",
       "    <tr>\n",
       "      <th>17418</th>\n",
       "      <td>01/01/2017</td>\n",
       "      <td>15:37:00</td>\n",
       "    </tr>\n",
       "    <tr>\n",
       "      <th>17419</th>\n",
       "      <td>01/01/2017</td>\n",
       "      <td>14:15:00</td>\n",
       "    </tr>\n",
       "    <tr>\n",
       "      <th>17420</th>\n",
       "      <td>12/03/2016</td>\n",
       "      <td>08:00:00</td>\n",
       "    </tr>\n",
       "    <tr>\n",
       "      <th>17421</th>\n",
       "      <td>01/01/2017</td>\n",
       "      <td>17:00:00</td>\n",
       "    </tr>\n",
       "    <tr>\n",
       "      <th>17422</th>\n",
       "      <td>12/31/2016</td>\n",
       "      <td>20:00:00</td>\n",
       "    </tr>\n",
       "    <tr>\n",
       "      <th>17423</th>\n",
       "      <td>01/01/2017</td>\n",
       "      <td>16:10:00</td>\n",
       "    </tr>\n",
       "    <tr>\n",
       "      <th>17424</th>\n",
       "      <td>12/30/2016</td>\n",
       "      <td>22:00:00</td>\n",
       "    </tr>\n",
       "  </tbody>\n",
       "</table>\n",
       "<p>17425 rows × 2 columns</p>\n",
       "</div>"
      ],
      "text/plain": [
       "       occur_date occur_time\n",
       "0      09/06/2017   00:30:00\n",
       "1      09/05/2017   11:15:00\n",
       "2      09/06/2017   03:15:00\n",
       "3      09/05/2017   17:45:00\n",
       "4      09/05/2017   17:00:00\n",
       "5      09/06/2017   05:30:00\n",
       "6      09/06/2017   06:50:00\n",
       "7      09/06/2017   06:50:00\n",
       "8      09/06/2017   04:00:00\n",
       "9      09/06/2017   04:00:00\n",
       "10     09/03/2017   11:00:00\n",
       "11     09/05/2017   21:00:00\n",
       "12     09/06/2017   07:30:00\n",
       "13     09/05/2017   22:00:00\n",
       "14     09/06/2017   08:30:00\n",
       "15     09/06/2017   09:20:00\n",
       "16     09/06/2017   07:00:00\n",
       "17     09/05/2017   19:30:00\n",
       "18     09/06/2017   10:19:00\n",
       "19     09/06/2017   10:15:00\n",
       "20     09/06/2017   07:00:00\n",
       "21     09/06/2017   10:30:00\n",
       "22     09/06/2017   11:00:00\n",
       "23     09/06/2017   11:25:00\n",
       "24     08/28/2017   21:07:00\n",
       "25     08/31/2017   00:00:00\n",
       "26     09/06/2017   13:00:00\n",
       "27     09/06/2017   13:15:00\n",
       "28     09/06/2017   00:44:00\n",
       "29     09/06/2017   08:00:00\n",
       "...           ...        ...\n",
       "17395  12/31/2016   10:30:00\n",
       "17396  01/01/2017   10:35:00\n",
       "17397  12/05/2016   00:00:00\n",
       "17398  01/01/2017   19:25:00\n",
       "17399  01/01/2017   14:30:00\n",
       "17400  01/01/2017   18:50:00\n",
       "17401  01/01/2017   20:15:00\n",
       "17402  01/01/2017   20:30:00\n",
       "17403  01/01/2017   21:05:00\n",
       "17404  01/01/2017   21:15:00\n",
       "17405  12/30/2016   23:00:00\n",
       "17406  01/01/2017   21:00:00\n",
       "17407  01/01/2017   22:00:00\n",
       "17408  01/01/2017   20:15:00\n",
       "17409  01/01/2017   23:02:00\n",
       "17410  01/01/2017   23:14:00\n",
       "17411  01/01/2017   23:32:00\n",
       "17412  01/01/2017   13:30:00\n",
       "17413  12/31/2016   22:30:00\n",
       "17414  12/31/2016   19:00:00\n",
       "17415  12/31/2016   19:05:00\n",
       "17416  01/01/2017   15:00:00\n",
       "17417  01/01/2017   14:50:00\n",
       "17418  01/01/2017   15:37:00\n",
       "17419  01/01/2017   14:15:00\n",
       "17420  12/03/2016   08:00:00\n",
       "17421  01/01/2017   17:00:00\n",
       "17422  12/31/2016   20:00:00\n",
       "17423  01/01/2017   16:10:00\n",
       "17424  12/30/2016   22:00:00\n",
       "\n",
       "[17425 rows x 2 columns]"
      ]
     },
     "execution_count": 15,
     "metadata": {},
     "output_type": "execute_result"
    }
   ],
   "source": [
    "df[['occur_date', 'occur_time']]"
   ]
  },
  {
   "cell_type": "code",
   "execution_count": 17,
   "metadata": {
    "ExecuteTime": {
     "end_time": "2017-09-27T19:50:15.044041",
     "start_time": "2017-09-27T19:50:12.475130"
    },
    "collapsed": false,
    "jupyter": {
     "outputs_hidden": false
    }
   },
   "outputs": [
    {
     "data": {
      "text/plain": [
       "0    09/06/2017 00:30:00\n",
       "1    09/05/2017 11:15:00\n",
       "2    09/06/2017 03:15:00\n",
       "3    09/05/2017 17:45:00\n",
       "4    09/05/2017 17:00:00\n",
       "5    09/06/2017 05:30:00\n",
       "6    09/06/2017 06:50:00\n",
       "7    09/06/2017 06:50:00\n",
       "8    09/06/2017 04:00:00\n",
       "9    09/06/2017 04:00:00\n",
       "dtype: object"
      ]
     },
     "execution_count": 17,
     "metadata": {},
     "output_type": "execute_result"
    }
   ],
   "source": [
    "# function currying\n",
    "def fixdatetime(fld):\n",
    "    def _fix(s):\n",
    "        date_col = '%s_date' % fld\n",
    "        time_col = '%s_time' % fld\n",
    "        if time_col in s.index:\n",
    "            return str(s[date_col])+' '+str(s[time_col])\n",
    "        else:\n",
    "            return str(s[date_col])+' 00:00:00'\n",
    "    return _fix\n",
    "\n",
    "df.apply(fixdatetime('occur'), axis=1)[:10]"
   ]
  },
  {
   "cell_type": "markdown",
   "metadata": {},
   "source": [
    "### Convert Columns"
   ]
  },
  {
   "cell_type": "code",
   "execution_count": 18,
   "metadata": {
    "ExecuteTime": {
     "end_time": "2017-09-27T19:52:18.140112",
     "start_time": "2017-09-27T19:52:02.541200"
    },
    "collapsed": false,
    "jupyter": {
     "outputs_hidden": false
    }
   },
   "outputs": [],
   "source": [
    "for col in ['rpt', 'occur', 'poss']:\n",
    "    datser = df.apply(fixdatetime(col), axis=1)\n",
    "    df['%s_dt'%col] = pd.to_datetime(datser, format=\"%m/%d/%Y %H:%M:%S\", errors='coerce')"
   ]
  },
  {
   "cell_type": "code",
   "execution_count": 19,
   "metadata": {
    "ExecuteTime": {
     "end_time": "2017-09-27T19:52:21.925710",
     "start_time": "2017-09-27T19:52:21.818740"
    },
    "collapsed": false,
    "jupyter": {
     "outputs_hidden": false
    },
    "scrolled": true
   },
   "outputs": [
    {
     "data": {
      "text/html": [
       "<div>\n",
       "<table border=\"1\" class=\"dataframe\">\n",
       "  <thead>\n",
       "    <tr style=\"text-align: right;\">\n",
       "      <th></th>\n",
       "      <th>MI_PRINX</th>\n",
       "      <th>offense_id</th>\n",
       "      <th>rpt_date</th>\n",
       "      <th>occur_date</th>\n",
       "      <th>occur_time</th>\n",
       "      <th>poss_date</th>\n",
       "      <th>poss_time</th>\n",
       "      <th>beat</th>\n",
       "      <th>apt_office_prefix</th>\n",
       "      <th>apt_office_num</th>\n",
       "      <th>...</th>\n",
       "      <th>Avg Day</th>\n",
       "      <th>loc_type</th>\n",
       "      <th>UC2 Literal</th>\n",
       "      <th>neighborhood</th>\n",
       "      <th>npu</th>\n",
       "      <th>x</th>\n",
       "      <th>y</th>\n",
       "      <th>rpt_dt</th>\n",
       "      <th>occur_dt</th>\n",
       "      <th>poss_dt</th>\n",
       "    </tr>\n",
       "  </thead>\n",
       "  <tbody>\n",
       "    <tr>\n",
       "      <th>0</th>\n",
       "      <td>7693210</td>\n",
       "      <td>172490115</td>\n",
       "      <td>09/06/2017</td>\n",
       "      <td>09/06/2017</td>\n",
       "      <td>00:30:00</td>\n",
       "      <td>09/06/2017</td>\n",
       "      <td>00:35:00</td>\n",
       "      <td>607</td>\n",
       "      <td>NaN</td>\n",
       "      <td>NaN</td>\n",
       "      <td>...</td>\n",
       "      <td>Wed</td>\n",
       "      <td>NaN</td>\n",
       "      <td>AGG ASSAULT</td>\n",
       "      <td>Custer/McDonough/Guice</td>\n",
       "      <td>W</td>\n",
       "      <td>-84.35850</td>\n",
       "      <td>33.70839</td>\n",
       "      <td>2017-09-06</td>\n",
       "      <td>2017-09-06 00:30:00</td>\n",
       "      <td>2017-09-06 00:35:00</td>\n",
       "    </tr>\n",
       "    <tr>\n",
       "      <th>1</th>\n",
       "      <td>7693211</td>\n",
       "      <td>172490265</td>\n",
       "      <td>09/06/2017</td>\n",
       "      <td>09/05/2017</td>\n",
       "      <td>11:15:00</td>\n",
       "      <td>09/06/2017</td>\n",
       "      <td>02:30:00</td>\n",
       "      <td>512</td>\n",
       "      <td>NaN</td>\n",
       "      <td>NaN</td>\n",
       "      <td>...</td>\n",
       "      <td>Tue</td>\n",
       "      <td>99.0</td>\n",
       "      <td>LARCENY-FROM VEHICLE</td>\n",
       "      <td>Downtown</td>\n",
       "      <td>M</td>\n",
       "      <td>-84.39736</td>\n",
       "      <td>33.74958</td>\n",
       "      <td>2017-09-06</td>\n",
       "      <td>2017-09-05 11:15:00</td>\n",
       "      <td>2017-09-06 02:30:00</td>\n",
       "    </tr>\n",
       "    <tr>\n",
       "      <th>2</th>\n",
       "      <td>7693212</td>\n",
       "      <td>172490322</td>\n",
       "      <td>09/06/2017</td>\n",
       "      <td>09/06/2017</td>\n",
       "      <td>03:15:00</td>\n",
       "      <td>09/06/2017</td>\n",
       "      <td>03:45:00</td>\n",
       "      <td>501</td>\n",
       "      <td>NaN</td>\n",
       "      <td>NaN</td>\n",
       "      <td>...</td>\n",
       "      <td>Wed</td>\n",
       "      <td>18.0</td>\n",
       "      <td>LARCENY-FROM VEHICLE</td>\n",
       "      <td>Atlantic Station</td>\n",
       "      <td>E</td>\n",
       "      <td>-84.39776</td>\n",
       "      <td>33.79072</td>\n",
       "      <td>2017-09-06</td>\n",
       "      <td>2017-09-06 03:15:00</td>\n",
       "      <td>2017-09-06 03:45:00</td>\n",
       "    </tr>\n",
       "    <tr>\n",
       "      <th>3</th>\n",
       "      <td>7693213</td>\n",
       "      <td>172490390</td>\n",
       "      <td>09/06/2017</td>\n",
       "      <td>09/05/2017</td>\n",
       "      <td>17:45:00</td>\n",
       "      <td>09/06/2017</td>\n",
       "      <td>04:57:00</td>\n",
       "      <td>207</td>\n",
       "      <td>NaN</td>\n",
       "      <td>NaN</td>\n",
       "      <td>...</td>\n",
       "      <td>Tue</td>\n",
       "      <td>18.0</td>\n",
       "      <td>LARCENY-FROM VEHICLE</td>\n",
       "      <td>Brookwood Hills</td>\n",
       "      <td>E</td>\n",
       "      <td>-84.39361</td>\n",
       "      <td>33.80774</td>\n",
       "      <td>2017-09-06</td>\n",
       "      <td>2017-09-05 17:45:00</td>\n",
       "      <td>2017-09-06 04:57:00</td>\n",
       "    </tr>\n",
       "    <tr>\n",
       "      <th>4</th>\n",
       "      <td>7693214</td>\n",
       "      <td>172490401</td>\n",
       "      <td>09/06/2017</td>\n",
       "      <td>09/05/2017</td>\n",
       "      <td>17:00:00</td>\n",
       "      <td>09/06/2017</td>\n",
       "      <td>05:00:00</td>\n",
       "      <td>203</td>\n",
       "      <td>NaN</td>\n",
       "      <td>NaN</td>\n",
       "      <td>...</td>\n",
       "      <td>Tue</td>\n",
       "      <td>18.0</td>\n",
       "      <td>LARCENY-FROM VEHICLE</td>\n",
       "      <td>Hills Park</td>\n",
       "      <td>D</td>\n",
       "      <td>-84.43337</td>\n",
       "      <td>33.79848</td>\n",
       "      <td>2017-09-06</td>\n",
       "      <td>2017-09-05 17:00:00</td>\n",
       "      <td>2017-09-06 05:00:00</td>\n",
       "    </tr>\n",
       "  </tbody>\n",
       "</table>\n",
       "<p>5 rows × 26 columns</p>\n",
       "</div>"
      ],
      "text/plain": [
       "   MI_PRINX  offense_id    rpt_date  occur_date occur_time   poss_date  \\\n",
       "0   7693210   172490115  09/06/2017  09/06/2017   00:30:00  09/06/2017   \n",
       "1   7693211   172490265  09/06/2017  09/05/2017   11:15:00  09/06/2017   \n",
       "2   7693212   172490322  09/06/2017  09/06/2017   03:15:00  09/06/2017   \n",
       "3   7693213   172490390  09/06/2017  09/05/2017   17:45:00  09/06/2017   \n",
       "4   7693214   172490401  09/06/2017  09/05/2017   17:00:00  09/06/2017   \n",
       "\n",
       "  poss_time  beat apt_office_prefix apt_office_num         ...          \\\n",
       "0  00:35:00   607               NaN            NaN         ...           \n",
       "1  02:30:00   512               NaN            NaN         ...           \n",
       "2  03:45:00   501               NaN            NaN         ...           \n",
       "3  04:57:00   207               NaN            NaN         ...           \n",
       "4  05:00:00   203               NaN            NaN         ...           \n",
       "\n",
       "  Avg Day  loc_type           UC2 Literal            neighborhood  npu  \\\n",
       "0     Wed       NaN           AGG ASSAULT  Custer/McDonough/Guice    W   \n",
       "1     Tue      99.0  LARCENY-FROM VEHICLE                Downtown    M   \n",
       "2     Wed      18.0  LARCENY-FROM VEHICLE        Atlantic Station    E   \n",
       "3     Tue      18.0  LARCENY-FROM VEHICLE         Brookwood Hills    E   \n",
       "4     Tue      18.0  LARCENY-FROM VEHICLE              Hills Park    D   \n",
       "\n",
       "          x         y     rpt_dt            occur_dt             poss_dt  \n",
       "0 -84.35850  33.70839 2017-09-06 2017-09-06 00:30:00 2017-09-06 00:35:00  \n",
       "1 -84.39736  33.74958 2017-09-06 2017-09-05 11:15:00 2017-09-06 02:30:00  \n",
       "2 -84.39776  33.79072 2017-09-06 2017-09-06 03:15:00 2017-09-06 03:45:00  \n",
       "3 -84.39361  33.80774 2017-09-06 2017-09-05 17:45:00 2017-09-06 04:57:00  \n",
       "4 -84.43337  33.79848 2017-09-06 2017-09-05 17:00:00 2017-09-06 05:00:00  \n",
       "\n",
       "[5 rows x 26 columns]"
      ]
     },
     "execution_count": 19,
     "metadata": {},
     "output_type": "execute_result"
    }
   ],
   "source": [
    "df.head()"
   ]
  },
  {
   "cell_type": "code",
   "execution_count": 20,
   "metadata": {
    "ExecuteTime": {
     "end_time": "2017-09-27T19:53:00.373920",
     "start_time": "2017-09-27T19:53:00.365305"
    },
    "collapsed": false,
    "jupyter": {
     "outputs_hidden": false
    }
   },
   "outputs": [
    {
     "data": {
      "text/plain": [
       "MI_PRINX                      int64\n",
       "offense_id                    int64\n",
       "rpt_date                     object\n",
       "occur_date                   object\n",
       "occur_time                   object\n",
       "poss_date                    object\n",
       "poss_time                    object\n",
       "beat                          int64\n",
       "apt_office_prefix            object\n",
       "apt_office_num               object\n",
       "location                     object\n",
       "MinOfucr                      int64\n",
       "MinOfibr_code                object\n",
       "dispo_code                   object\n",
       "MaxOfnum_victims            float64\n",
       "Shift                        object\n",
       "Avg Day                      object\n",
       "loc_type                    float64\n",
       "UC2 Literal                  object\n",
       "neighborhood                 object\n",
       "npu                          object\n",
       "x                           float64\n",
       "y                           float64\n",
       "rpt_dt               datetime64[ns]\n",
       "occur_dt             datetime64[ns]\n",
       "poss_dt              datetime64[ns]\n",
       "dtype: object"
      ]
     },
     "execution_count": 20,
     "metadata": {},
     "output_type": "execute_result"
    }
   ],
   "source": [
    "df.dtypes"
   ]
  },
  {
   "cell_type": "markdown",
   "metadata": {},
   "source": [
    "## Beats and Zones\n",
    "The City of Atlanta is divided into 6 zones. Each with 12 to 14 beats. \n",
    "\n",
    "![](https://upload.wikimedia.org/wikipedia/commons/thumb/c/cb/Atlanta_Police_Zones_-_Feb_2013.jpg/588px-Atlanta_Police_Zones_-_Feb_2013.jpg)\n",
    "\n",
    "Let's create a separate column for the zones:"
   ]
  },
  {
   "cell_type": "code",
   "execution_count": 21,
   "metadata": {
    "ExecuteTime": {
     "end_time": "2017-09-27T19:54:57.768081",
     "start_time": "2017-09-27T19:54:57.759345"
    },
    "collapsed": false,
    "jupyter": {
     "outputs_hidden": false
    }
   },
   "outputs": [
    {
     "data": {
      "text/plain": [
       "0    607\n",
       "1    512\n",
       "2    501\n",
       "3    207\n",
       "4    203\n",
       "5    605\n",
       "6    511\n",
       "7    508\n",
       "8    408\n",
       "9    401\n",
       "Name: beat, dtype: int64"
      ]
     },
     "execution_count": 21,
     "metadata": {},
     "output_type": "execute_result"
    }
   ],
   "source": [
    "df.beat[:10]"
   ]
  },
  {
   "cell_type": "code",
   "execution_count": 22,
   "metadata": {
    "ExecuteTime": {
     "end_time": "2017-09-27T19:55:31.462347",
     "start_time": "2017-09-27T19:55:31.456328"
    },
    "collapsed": false,
    "jupyter": {
     "outputs_hidden": false
    }
   },
   "outputs": [],
   "source": [
    "df['Zone'] = df['beat']//100"
   ]
  },
  {
   "cell_type": "code",
   "execution_count": 23,
   "metadata": {
    "ExecuteTime": {
     "end_time": "2017-09-27T19:55:47.992192",
     "start_time": "2017-09-27T19:55:47.985483"
    },
    "collapsed": false,
    "jupyter": {
     "outputs_hidden": false
    }
   },
   "outputs": [
    {
     "data": {
      "text/plain": [
       "0    6\n",
       "1    5\n",
       "2    5\n",
       "3    2\n",
       "Name: Zone, dtype: int64"
      ]
     },
     "execution_count": 23,
     "metadata": {},
     "output_type": "execute_result"
    }
   ],
   "source": [
    "df.Zone[:4]"
   ]
  },
  {
   "cell_type": "code",
   "execution_count": 32,
   "metadata": {
    "ExecuteTime": {
     "end_time": "2017-09-27T20:07:51.381459",
     "start_time": "2017-09-27T20:07:51.366531"
    },
    "collapsed": false,
    "jupyter": {
     "outputs_hidden": false
    }
   },
   "outputs": [
    {
     "data": {
      "text/plain": [
       "array(['AGG ASSAULT', 'LARCENY-FROM VEHICLE', 'AUTO THEFT',\n",
       "       'LARCENY-NON VEHICLE', 'ROBBERY-PEDESTRIAN', 'BURGLARY-NONRES',\n",
       "       'BURGLARY-RESIDENCE', 'ROBBERY-COMMERCIAL', 'RAPE',\n",
       "       'ROBBERY-RESIDENCE', 'HOMICIDE'], dtype=object)"
      ]
     },
     "execution_count": 32,
     "metadata": {},
     "output_type": "execute_result"
    }
   ],
   "source": [
    "df['UC2 Literal'].unique()"
   ]
  },
  {
   "cell_type": "code",
   "execution_count": null,
   "metadata": {
    "ExecuteTime": {
     "end_time": "2017-09-27T12:14:56.033503",
     "start_time": "2017-09-27T12:14:55.387001"
    },
    "collapsed": false,
    "jupyter": {
     "outputs_hidden": false
    }
   },
   "outputs": [],
   "source": [
    "##df[df['UC2 Literal']=='LARCENY-FROM VEHICLE']"
   ]
  },
  {
   "cell_type": "code",
   "execution_count": 37,
   "metadata": {
    "ExecuteTime": {
     "end_time": "2017-09-27T20:11:58.916398",
     "start_time": "2017-09-27T20:11:58.906489"
    },
    "collapsed": false,
    "jupyter": {
     "outputs_hidden": false
    }
   },
   "outputs": [
    {
     "data": {
      "text/plain": [
       "('01/01/2008', '12/31/2016')"
      ]
     },
     "execution_count": 37,
     "metadata": {},
     "output_type": "execute_result"
    }
   ],
   "source": [
    "df.occur_date.min(), df.occur_date.max()"
   ]
  },
  {
   "cell_type": "code",
   "execution_count": 43,
   "metadata": {
    "ExecuteTime": {
     "end_time": "2017-09-27T20:17:17.287565",
     "start_time": "2017-09-27T20:17:17.121010"
    },
    "collapsed": false,
    "jupyter": {
     "outputs_hidden": false
    }
   },
   "outputs": [],
   "source": [
    "df['Year'] = df.rpt_dt.map(lambda d: d.year)"
   ]
  },
  {
   "cell_type": "code",
   "execution_count": 44,
   "metadata": {
    "ExecuteTime": {
     "end_time": "2017-09-27T20:17:20.627501",
     "start_time": "2017-09-27T20:17:20.612516"
    },
    "collapsed": false,
    "jupyter": {
     "outputs_hidden": false
    }
   },
   "outputs": [
    {
     "data": {
      "text/plain": [
       "Year\n",
       "2017    17425\n",
       "Name: offense_id, dtype: int64"
      ]
     },
     "execution_count": 44,
     "metadata": {},
     "output_type": "execute_result"
    }
   ],
   "source": [
    "df.groupby('Year').offense_id.count()"
   ]
  },
  {
   "cell_type": "code",
   "execution_count": 63,
   "metadata": {
    "ExecuteTime": {
     "end_time": "2017-09-27T20:43:24.147005",
     "start_time": "2017-09-27T20:43:24.125212"
    },
    "collapsed": false,
    "jupyter": {
     "outputs_hidden": false
    }
   },
   "outputs": [],
   "source": [
    "brdf = df[df['UC2 Literal']=='BURGLARY-RESIDENCE'].copy()"
   ]
  },
  {
   "cell_type": "code",
   "execution_count": 50,
   "metadata": {
    "ExecuteTime": {
     "end_time": "2017-09-27T20:21:41.357335",
     "start_time": "2017-09-27T20:21:41.352403"
    },
    "collapsed": false,
    "jupyter": {
     "outputs_hidden": false
    }
   },
   "outputs": [
    {
     "data": {
      "text/plain": [
       "((1711, 28), (17425, 28))"
      ]
     },
     "execution_count": 50,
     "metadata": {},
     "output_type": "execute_result"
    }
   ],
   "source": [
    "brdf.shape, df.shape"
   ]
  },
  {
   "cell_type": "code",
   "execution_count": 53,
   "metadata": {
    "ExecuteTime": {
     "end_time": "2017-09-27T20:26:10.284331",
     "start_time": "2017-09-27T20:26:10.239358"
    },
    "collapsed": true,
    "jupyter": {
     "outputs_hidden": true
    }
   },
   "outputs": [
    {
     "data": {
      "text/plain": [
       "16        7\n",
       "25        0\n",
       "26       13\n",
       "41       23\n",
       "77        9\n",
       "87       12\n",
       "92        0\n",
       "99       14\n",
       "118      21\n",
       "121       8\n",
       "132       3\n",
       "135       4\n",
       "141      21\n",
       "149      14\n",
       "177      13\n",
       "198      18\n",
       "202      21\n",
       "232      10\n",
       "236      10\n",
       "251      20\n",
       "260      23\n",
       "277       0\n",
       "289       5\n",
       "361      10\n",
       "377       2\n",
       "388       0\n",
       "390      10\n",
       "401      14\n",
       "402      12\n",
       "403      14\n",
       "         ..\n",
       "17202    12\n",
       "17208    19\n",
       "17214    12\n",
       "17221    13\n",
       "17227    14\n",
       "17245     7\n",
       "17255    10\n",
       "17268     5\n",
       "17275    14\n",
       "17284    23\n",
       "17286     7\n",
       "17289     2\n",
       "17291     3\n",
       "17304    23\n",
       "17306     9\n",
       "17310    13\n",
       "17311    14\n",
       "17329     8\n",
       "17338    14\n",
       "17349     0\n",
       "17352     6\n",
       "17353     1\n",
       "17356    22\n",
       "17363     4\n",
       "17364    23\n",
       "17378    15\n",
       "17383    22\n",
       "17401    20\n",
       "17408    20\n",
       "17424    22\n",
       "Name: occur_dt, dtype: int64"
      ]
     },
     "execution_count": 53,
     "metadata": {},
     "output_type": "execute_result"
    }
   ],
   "source": [
    "def gethour(d):\n",
    "    return d.hour\n",
    "\n",
    "brdf.occur_dt.map(gethour)\n",
    "##brdf['occur_dt'].map(gethour)\n",
    "\n",
    "\n",
    "##brdf.occur_dt.map(lambda d: d.hour)"
   ]
  },
  {
   "cell_type": "code",
   "execution_count": 64,
   "metadata": {
    "ExecuteTime": {
     "end_time": "2017-09-27T20:43:47.852117",
     "start_time": "2017-09-27T20:43:47.833011"
    },
    "collapsed": false,
    "jupyter": {
     "outputs_hidden": false
    }
   },
   "outputs": [
    {
     "name": "stdout",
     "output_type": "stream",
     "text": [
      "<class 'pandas.core.series.Series'>\n"
     ]
    }
   ],
   "source": [
    "print type(brdf.occur_dt)\n",
    "brdf['Hour'] = brdf.occur_dt.apply(gethour)"
   ]
  },
  {
   "cell_type": "code",
   "execution_count": 65,
   "metadata": {
    "ExecuteTime": {
     "end_time": "2017-09-27T20:44:03.359154",
     "start_time": "2017-09-27T20:44:03.242581"
    },
    "collapsed": true,
    "jupyter": {
     "outputs_hidden": true
    }
   },
   "outputs": [
    {
     "data": {
      "text/html": [
       "<div>\n",
       "<table border=\"1\" class=\"dataframe\">\n",
       "  <thead>\n",
       "    <tr style=\"text-align: right;\">\n",
       "      <th></th>\n",
       "      <th>MI_PRINX</th>\n",
       "      <th>offense_id</th>\n",
       "      <th>rpt_date</th>\n",
       "      <th>occur_date</th>\n",
       "      <th>occur_time</th>\n",
       "      <th>poss_date</th>\n",
       "      <th>poss_time</th>\n",
       "      <th>beat</th>\n",
       "      <th>apt_office_prefix</th>\n",
       "      <th>apt_office_num</th>\n",
       "      <th>...</th>\n",
       "      <th>neighborhood</th>\n",
       "      <th>npu</th>\n",
       "      <th>x</th>\n",
       "      <th>y</th>\n",
       "      <th>rpt_dt</th>\n",
       "      <th>occur_dt</th>\n",
       "      <th>poss_dt</th>\n",
       "      <th>Zone</th>\n",
       "      <th>Year</th>\n",
       "      <th>Hour</th>\n",
       "    </tr>\n",
       "  </thead>\n",
       "  <tbody>\n",
       "    <tr>\n",
       "      <th>16</th>\n",
       "      <td>7693226</td>\n",
       "      <td>172490896</td>\n",
       "      <td>09/06/2017</td>\n",
       "      <td>09/06/2017</td>\n",
       "      <td>07:00:00</td>\n",
       "      <td>09/06/2017</td>\n",
       "      <td>10:00:00</td>\n",
       "      <td>203</td>\n",
       "      <td>NaN</td>\n",
       "      <td>302</td>\n",
       "      <td>...</td>\n",
       "      <td>Bolton</td>\n",
       "      <td>D</td>\n",
       "      <td>-84.44920</td>\n",
       "      <td>33.81667</td>\n",
       "      <td>2017-09-06</td>\n",
       "      <td>2017-09-06 07:00:00</td>\n",
       "      <td>2017-09-06 10:00:00</td>\n",
       "      <td>2</td>\n",
       "      <td>2017</td>\n",
       "      <td>7</td>\n",
       "    </tr>\n",
       "    <tr>\n",
       "      <th>25</th>\n",
       "      <td>7693235</td>\n",
       "      <td>172491176</td>\n",
       "      <td>09/06/2017</td>\n",
       "      <td>08/31/2017</td>\n",
       "      <td>00:00:00</td>\n",
       "      <td>09/06/2017</td>\n",
       "      <td>12:54:00</td>\n",
       "      <td>312</td>\n",
       "      <td>NaN</td>\n",
       "      <td>NaN</td>\n",
       "      <td>...</td>\n",
       "      <td>Orchard Knob</td>\n",
       "      <td>Z</td>\n",
       "      <td>-84.37872</td>\n",
       "      <td>33.66754</td>\n",
       "      <td>2017-09-06</td>\n",
       "      <td>2017-08-31 00:00:00</td>\n",
       "      <td>2017-09-06 12:54:00</td>\n",
       "      <td>3</td>\n",
       "      <td>2017</td>\n",
       "      <td>0</td>\n",
       "    </tr>\n",
       "    <tr>\n",
       "      <th>26</th>\n",
       "      <td>7693236</td>\n",
       "      <td>172491268</td>\n",
       "      <td>09/06/2017</td>\n",
       "      <td>09/06/2017</td>\n",
       "      <td>13:00:00</td>\n",
       "      <td>09/06/2017</td>\n",
       "      <td>13:20:00</td>\n",
       "      <td>412</td>\n",
       "      <td>NaN</td>\n",
       "      <td>211</td>\n",
       "      <td>...</td>\n",
       "      <td>Ben Hill Terrace</td>\n",
       "      <td>P</td>\n",
       "      <td>-84.51830</td>\n",
       "      <td>33.69598</td>\n",
       "      <td>2017-09-06</td>\n",
       "      <td>2017-09-06 13:00:00</td>\n",
       "      <td>2017-09-06 13:20:00</td>\n",
       "      <td>4</td>\n",
       "      <td>2017</td>\n",
       "      <td>13</td>\n",
       "    </tr>\n",
       "    <tr>\n",
       "      <th>41</th>\n",
       "      <td>7693251</td>\n",
       "      <td>172491966</td>\n",
       "      <td>09/06/2017</td>\n",
       "      <td>09/05/2017</td>\n",
       "      <td>23:00:00</td>\n",
       "      <td>09/06/2017</td>\n",
       "      <td>16:00:00</td>\n",
       "      <td>412</td>\n",
       "      <td>NaN</td>\n",
       "      <td>N-5</td>\n",
       "      <td>...</td>\n",
       "      <td>Kings Forest</td>\n",
       "      <td>P</td>\n",
       "      <td>-84.51621</td>\n",
       "      <td>33.69231</td>\n",
       "      <td>2017-09-06</td>\n",
       "      <td>2017-09-05 23:00:00</td>\n",
       "      <td>2017-09-06 16:00:00</td>\n",
       "      <td>4</td>\n",
       "      <td>2017</td>\n",
       "      <td>23</td>\n",
       "    </tr>\n",
       "    <tr>\n",
       "      <th>77</th>\n",
       "      <td>7693160</td>\n",
       "      <td>172480966</td>\n",
       "      <td>09/05/2017</td>\n",
       "      <td>09/05/2017</td>\n",
       "      <td>09:40:00</td>\n",
       "      <td>09/05/2017</td>\n",
       "      <td>09:50:00</td>\n",
       "      <td>301</td>\n",
       "      <td>NaN</td>\n",
       "      <td>NaN</td>\n",
       "      <td>...</td>\n",
       "      <td>Adair Park</td>\n",
       "      <td>V</td>\n",
       "      <td>-84.41022</td>\n",
       "      <td>33.73028</td>\n",
       "      <td>2017-09-05</td>\n",
       "      <td>2017-09-05 09:40:00</td>\n",
       "      <td>2017-09-05 09:50:00</td>\n",
       "      <td>3</td>\n",
       "      <td>2017</td>\n",
       "      <td>9</td>\n",
       "    </tr>\n",
       "  </tbody>\n",
       "</table>\n",
       "<p>5 rows × 29 columns</p>\n",
       "</div>"
      ],
      "text/plain": [
       "    MI_PRINX  offense_id    rpt_date  occur_date occur_time   poss_date  \\\n",
       "16   7693226   172490896  09/06/2017  09/06/2017   07:00:00  09/06/2017   \n",
       "25   7693235   172491176  09/06/2017  08/31/2017   00:00:00  09/06/2017   \n",
       "26   7693236   172491268  09/06/2017  09/06/2017   13:00:00  09/06/2017   \n",
       "41   7693251   172491966  09/06/2017  09/05/2017   23:00:00  09/06/2017   \n",
       "77   7693160   172480966  09/05/2017  09/05/2017   09:40:00  09/05/2017   \n",
       "\n",
       "   poss_time  beat apt_office_prefix apt_office_num ...       neighborhood  \\\n",
       "16  10:00:00   203               NaN            302 ...             Bolton   \n",
       "25  12:54:00   312               NaN            NaN ...       Orchard Knob   \n",
       "26  13:20:00   412               NaN            211 ...   Ben Hill Terrace   \n",
       "41  16:00:00   412               NaN            N-5 ...       Kings Forest   \n",
       "77  09:50:00   301               NaN            NaN ...         Adair Park   \n",
       "\n",
       "    npu         x         y     rpt_dt            occur_dt  \\\n",
       "16    D -84.44920  33.81667 2017-09-06 2017-09-06 07:00:00   \n",
       "25    Z -84.37872  33.66754 2017-09-06 2017-08-31 00:00:00   \n",
       "26    P -84.51830  33.69598 2017-09-06 2017-09-06 13:00:00   \n",
       "41    P -84.51621  33.69231 2017-09-06 2017-09-05 23:00:00   \n",
       "77    V -84.41022  33.73028 2017-09-05 2017-09-05 09:40:00   \n",
       "\n",
       "               poss_dt  Zone  Year Hour  \n",
       "16 2017-09-06 10:00:00     2  2017    7  \n",
       "25 2017-09-06 12:54:00     3  2017    0  \n",
       "26 2017-09-06 13:20:00     4  2017   13  \n",
       "41 2017-09-06 16:00:00     4  2017   23  \n",
       "77 2017-09-05 09:50:00     3  2017    9  \n",
       "\n",
       "[5 rows x 29 columns]"
      ]
     },
     "execution_count": 65,
     "metadata": {},
     "output_type": "execute_result"
    }
   ],
   "source": [
    "brdf.head()"
   ]
  },
  {
   "cell_type": "code",
   "execution_count": 71,
   "metadata": {
    "ExecuteTime": {
     "end_time": "2017-09-27T20:51:09.519768",
     "start_time": "2017-09-27T20:51:09.513199"
    },
    "collapsed": false,
    "jupyter": {
     "outputs_hidden": false
    }
   },
   "outputs": [],
   "source": [
    "br_hr = brdf.groupby(['Hour']).offense_id.count()"
   ]
  },
  {
   "cell_type": "code",
   "execution_count": 74,
   "metadata": {
    "ExecuteTime": {
     "end_time": "2017-09-27T20:52:08.409540",
     "start_time": "2017-09-27T20:52:07.990607"
    },
    "collapsed": false,
    "jupyter": {
     "outputs_hidden": false
    }
   },
   "outputs": [
    {
     "data": {
      "text/plain": [
       "[<matplotlib.lines.Line2D at 0x6031490>]"
      ]
     },
     "execution_count": 74,
     "metadata": {},
     "output_type": "execute_result"
    },
    {
     "data": {
      "image/png": "[encoded data removed]",
      "text/plain": [
       "<matplotlib.figure.Figure at 0x678a850>"
      ]
     },
     "metadata": {},
     "output_type": "display_data"
    }
   ],
   "source": [
    "plt.step(br_hr.index, br_hr.values)"
   ]
  },
  {
   "cell_type": "code",
   "execution_count": 83,
   "metadata": {
    "ExecuteTime": {
     "end_time": "2017-09-27T21:00:22.743543",
     "start_time": "2017-09-27T21:00:19.937529"
    },
    "collapsed": false,
    "jupyter": {
     "outputs_hidden": false
    },
    "scrolled": true
   },
   "outputs": [
    {
     "data": {
      "image/png": "[encoded data removed]",
      "text/plain": [
       "<matplotlib.figure.Figure at 0x9143610>"
      ]
     },
     "metadata": {},
     "output_type": "display_data"
    }
   ],
   "source": [
    "plt.figure(figsize=(20,8))\n",
    "for z in range(1,7):\n",
    "    plt.subplot(3,2,z)\n",
    "    plt.title(\"Zone %d\" % z)\n",
    "    #brdf[brdf.Zone==z].hist(column='Hour', bins=24)\n",
    "    plt.hist(brdf[brdf.Zone==z].Hour, bins=24)\n",
    "plt.show()"
   ]
  },
  {
   "cell_type": "code",
   "execution_count": 88,
   "metadata": {
    "ExecuteTime": {
     "end_time": "2017-09-27T21:11:27.774057",
     "start_time": "2017-09-27T21:11:18.711856"
    },
    "collapsed": false,
    "jupyter": {
     "outputs_hidden": false
    }
   },
   "outputs": [
    {
     "data": {
      "image/png": "[encoded data removed]",
      "text/plain": [
       "<matplotlib.figure.Figure at 0x8946e50>"
      ]
     },
     "metadata": {},
     "output_type": "display_data"
    }
   ],
   "source": [
    "plt.figure(figsize=(30,15))\n",
    "for h in range(24):\n",
    "    plt.subplot(4,6,h+1)\n",
    "    plt.title(\"Hour %d\" % h)\n",
    "    #brdf[brdf.Zone==z].hist(column='Hour', bins=24)\n",
    "    plt.hist(brdf[brdf.Hour==h].Zone, bins=6)\n",
    "    plt.ylim(0,40) ## sets limit on Y-axis\n",
    "plt.show()"
   ]
  },
  {
   "cell_type": "code",
   "execution_count": null,
   "metadata": {
    "collapsed": true,
    "jupyter": {
     "outputs_hidden": true
    }
   },
   "outputs": [],
   "source": []
  },
  {
   "cell_type": "code",
   "execution_count": 90,
   "metadata": {
    "ExecuteTime": {
     "end_time": "2017-09-27T21:12:17.144669",
     "start_time": "2017-09-27T21:12:17.138548"
    },
    "collapsed": false,
    "jupyter": {
     "outputs_hidden": false
    }
   },
   "outputs": [
    {
     "data": {
      "text/plain": [
       "array(['AGG ASSAULT', 'LARCENY-FROM VEHICLE', 'AUTO THEFT',\n",
       "       'LARCENY-NON VEHICLE', 'ROBBERY-PEDESTRIAN', 'BURGLARY-NONRES',\n",
       "       'BURGLARY-RESIDENCE', 'ROBBERY-COMMERCIAL', 'RAPE',\n",
       "       'ROBBERY-RESIDENCE', 'HOMICIDE'], dtype=object)"
      ]
     },
     "execution_count": 90,
     "metadata": {},
     "output_type": "execute_result"
    }
   ],
   "source": [
    "df['UC2 Literal'].unique()"
   ]
  },
  {
   "cell_type": "code",
   "execution_count": 92,
   "metadata": {
    "ExecuteTime": {
     "end_time": "2017-09-27T21:13:55.615113",
     "start_time": "2017-09-27T21:13:55.589046"
    },
    "collapsed": false,
    "jupyter": {
     "outputs_hidden": false
    }
   },
   "outputs": [
    {
     "data": {
      "text/plain": [
       "UC2 Literal          Zone\n",
       "AGG ASSAULT          1       397\n",
       "                     2        96\n",
       "                     3       338\n",
       "                     4       309\n",
       "                     5       140\n",
       "                     6       114\n",
       "                     7         2\n",
       "AUTO THEFT           1       336\n",
       "                     2       382\n",
       "                     3       455\n",
       "                     4       421\n",
       "                     5       255\n",
       "                     6       231\n",
       "                     7         5\n",
       "BURGLARY-NONRES      1        67\n",
       "                     2       122\n",
       "                     3        88\n",
       "                     4        99\n",
       "                     5        54\n",
       "                     6        88\n",
       "BURGLARY-RESIDENCE   1       414\n",
       "                     2       225\n",
       "                     3       324\n",
       "                     4       429\n",
       "                     5        60\n",
       "                     6       259\n",
       "HOMICIDE             1        15\n",
       "                     2         6\n",
       "                     3        14\n",
       "                     4         6\n",
       "                            ... \n",
       "LARCENY-NON VEHICLE  4       596\n",
       "                     5       785\n",
       "                     6       738\n",
       "                     7       142\n",
       "RAPE                 1        36\n",
       "                     2        19\n",
       "                     3        29\n",
       "                     4        25\n",
       "                     5        24\n",
       "                     6        14\n",
       "                     7         1\n",
       "ROBBERY-COMMERCIAL   1         9\n",
       "                     2        23\n",
       "                     3        16\n",
       "                     4        24\n",
       "                     5         7\n",
       "                     6        13\n",
       "ROBBERY-PEDESTRIAN   1       143\n",
       "                     2        89\n",
       "                     3       148\n",
       "                     4       142\n",
       "                     5       114\n",
       "                     6       121\n",
       "                     7         1\n",
       "ROBBERY-RESIDENCE    1        23\n",
       "                     2         6\n",
       "                     3        21\n",
       "                     4        22\n",
       "                     5         5\n",
       "                     6         9\n",
       "Name: offense_id, dtype: int64"
      ]
     },
     "execution_count": 92,
     "metadata": {},
     "output_type": "execute_result"
    }
   ],
   "source": [
    "df.groupby(['UC2 Literal', 'Zone']).offense_id.count()"
   ]
  },
  {
   "cell_type": "code",
   "execution_count": 93,
   "metadata": {
    "ExecuteTime": {
     "end_time": "2017-09-27T21:20:13.991331",
     "start_time": "2017-09-27T21:20:13.822634"
    },
    "collapsed": true,
    "jupyter": {
     "outputs_hidden": true
    }
   },
   "outputs": [],
   "source": [
    "df['dayofweek'] = df.occur_dt.map(lambda d: d.dayofweek)"
   ]
  },
  {
   "cell_type": "code",
   "execution_count": 97,
   "metadata": {
    "ExecuteTime": {
     "end_time": "2017-09-27T21:22:10.894488",
     "start_time": "2017-09-27T21:22:10.852281"
    },
    "collapsed": false,
    "jupyter": {
     "outputs_hidden": false
    }
   },
   "outputs": [
    {
     "data": {
      "text/plain": [
       "UC2 Literal          dayofweek\n",
       "AGG ASSAULT          0.0          189\n",
       "                     1.0          188\n",
       "                     2.0          181\n",
       "                     3.0          178\n",
       "                     4.0          216\n",
       "                     5.0          205\n",
       "                     6.0          239\n",
       "AUTO THEFT           0.0          276\n",
       "                     1.0          269\n",
       "                     2.0          294\n",
       "                     3.0          268\n",
       "                     4.0          275\n",
       "                     5.0          374\n",
       "                     6.0          329\n",
       "BURGLARY-NONRES      0.0           80\n",
       "                     1.0           66\n",
       "                     2.0           76\n",
       "                     3.0           74\n",
       "                     4.0           62\n",
       "                     5.0           82\n",
       "                     6.0           78\n",
       "BURGLARY-RESIDENCE   0.0          250\n",
       "                     1.0          260\n",
       "                     2.0          227\n",
       "                     3.0          252\n",
       "                     4.0          282\n",
       "                     5.0          249\n",
       "                     6.0          191\n",
       "HOMICIDE             0.0            6\n",
       "                     1.0           10\n",
       "                                 ... \n",
       "LARCENY-NON VEHICLE  5.0          614\n",
       "                     6.0          513\n",
       "RAPE                 0.0           16\n",
       "                     1.0           19\n",
       "                     2.0           18\n",
       "                     3.0           18\n",
       "                     4.0           19\n",
       "                     5.0           26\n",
       "                     6.0           32\n",
       "ROBBERY-COMMERCIAL   0.0           20\n",
       "                     1.0           19\n",
       "                     2.0           14\n",
       "                     3.0           10\n",
       "                     4.0           11\n",
       "                     5.0            7\n",
       "                     6.0           11\n",
       "ROBBERY-PEDESTRIAN   0.0           97\n",
       "                     1.0          124\n",
       "                     2.0          108\n",
       "                     3.0           93\n",
       "                     4.0           81\n",
       "                     5.0          132\n",
       "                     6.0          123\n",
       "ROBBERY-RESIDENCE    0.0           16\n",
       "                     1.0           17\n",
       "                     2.0           10\n",
       "                     3.0           11\n",
       "                     4.0            8\n",
       "                     5.0            8\n",
       "                     6.0           16\n",
       "Name: offense_id, dtype: int64"
      ]
     },
     "execution_count": 97,
     "metadata": {},
     "output_type": "execute_result"
    }
   ],
   "source": [
    "df.groupby(['UC2 Literal','dayofweek']).offense_id.count()"
   ]
  },
  {
   "cell_type": "code",
   "execution_count": 58,
   "metadata": {
    "ExecuteTime": {
     "end_time": "2017-09-27T20:38:04.586263",
     "start_time": "2017-09-27T20:38:03.842611"
    },
    "collapsed": true,
    "jupyter": {
     "outputs_hidden": true
    }
   },
   "outputs": [
    {
     "data": {
      "text/plain": [
       "16               2232 DUNSEATH AVE NW, D\n",
       "25                   454 OAK DRIVE SE, Z\n",
       "26               2130 SOUTHWOOD CV SW, P\n",
       "41             3901 CAMPBELLTON RD SW, P\n",
       "77                    904 TIFT AVE SW, V\n",
       "87             5110 ARBOR GATES DR NE, B\n",
       "92                     708 JETT ST NW, L\n",
       "99                   87 E LAKE TER SE, O\n",
       "118               266 JOSEPHINE ST NE, N\n",
       "121           870 MAYSON TURNER RD NW, L\n",
       "132                775 ARGONNE AVE NE, E\n",
       "135                3247 ROSWELL RD NE, B\n",
       "141           445 CLEVELAND AVENUE SE, Z\n",
       "149            2512 CAMPBELLTON RD SW, R\n",
       "177             985 BUCKINGHAM CIR NW, A\n",
       "198                  1041 STATE ST NW, E\n",
       "202                    899 PARK ST SW, T\n",
       "232            1870 CAMPBELLTON RD SW, R\n",
       "236                 1935 ALISON CT SW, R\n",
       "251                 58 SHERIDAN DR NE, B\n",
       "260              1660 PEACHTREE ST NW, E\n",
       "277      262 ARTHUR LANGFORD JR PL SW, Y\n",
       "289               370 NORTHSIDE DR NW, L\n",
       "361                  600 GARSON DR NE, B\n",
       "377              1539 LAKEWOOD AVE SE, Y\n",
       "388                     1051 FERN AVE, V\n",
       "390                 641 HANSELL ST SE, W\n",
       "401                     271 OAK DR SE, Z\n",
       "402                  226 CORLEY ST NE, M\n",
       "403                 321 LAQUITA DR SE, Y\n",
       "                      ...               \n",
       "17202               877 CUSTER AVE SE, W\n",
       "17208               445 MARKHAM ST SW, M\n",
       "17214             144 MORELAND AVE NE, N\n",
       "17221                520 FULTON ST SW, V\n",
       "17227               1881 MYRTLE DR SW, R\n",
       "17245             863 KIRKWOOD AVE SE, N\n",
       "17255            2232 DUNSEATH AVE NW, D\n",
       "17268       740 SIDNEY MARCUS BLVD NE, B\n",
       "17275                352 ELVIRA ST SE, Y\n",
       "17284    3725 PRINCETON LAKES PKWY SW, P\n",
       "17286                  610 AMAL DR SW, Y\n",
       "17289               741 MOROSGO DR NE, B\n",
       "17291                507 BISHOP ST NW, E\n",
       "17304                 453 UTOY CIR SW, H\n",
       "17306             597 TARRAGON WAY SW, H\n",
       "17310                   978 BRUCE CIR, W\n",
       "17311                385 LEGACY DR SW, T\n",
       "17329               2000 MONROE PL NE, F\n",
       "17338               2000 MONROE PL NE, F\n",
       "17349           2778 DALE CREEK DR NW, I\n",
       "17352             3432 PIEDMONT RD NE, B\n",
       "17353               200 CLIFTON ST SE, O\n",
       "17356          565 GREENSFERRY AVE SW, T\n",
       "17363             308 WOODWARD AVE SE, W\n",
       "17364                  880 ROCK ST NW, L\n",
       "17378            1070 ORMEWOOD AVE SE, W\n",
       "17383          1829 CAMPBELLTON RD SW, S\n",
       "17401               2500 CENTER ST NW, G\n",
       "17408             1094 DECKNER AVE SW, X\n",
       "17424            2591 ETHERIDGE DR NW, G\n",
       "dtype: object"
      ]
     },
     "execution_count": 58,
     "metadata": {},
     "output_type": "execute_result"
    }
   ],
   "source": [
    "brdf.apply(lambda r: str(r.location)+', '+str(r.npu), axis=1)"
   ]
  },
  {
   "cell_type": "code",
   "execution_count": 60,
   "metadata": {
    "ExecuteTime": {
     "end_time": "2017-09-27T20:39:33.453354",
     "start_time": "2017-09-27T20:39:33.368209"
    },
    "collapsed": false,
    "jupyter": {
     "outputs_hidden": false
    }
   },
   "outputs": [
    {
     "data": {
      "text/plain": [
       "MI_PRINX                              7652723\n",
       "offense_id                          160821939\n",
       "rpt_date                           01/01/2017\n",
       "occur_date                         01/01/2016\n",
       "occur_time                           00:00:00\n",
       "poss_date                          01/01/2017\n",
       "poss_time                            00:00:00\n",
       "beat                                      101\n",
       "apt_office_prefix                         inf\n",
       "apt_office_num                            inf\n",
       "location             1 PEACHTREE HILLS AVE NE\n",
       "MinOfucr                                  511\n",
       "MinOfibr_code                            2202\n",
       "dispo_code                                inf\n",
       "MaxOfnum_victims                            0\n",
       "Shift                                     Day\n",
       "Avg Day                                   Fri\n",
       "loc_type                                    2\n",
       "UC2 Literal                BURGLARY-RESIDENCE\n",
       "neighborhood                              inf\n",
       "npu                                       inf\n",
       "x                                    -84.5465\n",
       "y                                     33.6541\n",
       "rpt_dt                    2017-01-01 00:00:00\n",
       "occur_dt                  2016-01-01 00:00:00\n",
       "poss_dt                   2016-11-01 22:00:00\n",
       "Zone                                        1\n",
       "Year                                     2017\n",
       "dtype: object"
      ]
     },
     "execution_count": 60,
     "metadata": {},
     "output_type": "execute_result"
    }
   ],
   "source": [
    "brdf.apply(np.min, axis=0)"
   ]
  },
  {
   "cell_type": "code",
   "execution_count": null,
   "metadata": {
    "collapsed": true,
    "jupyter": {
     "outputs_hidden": true
    }
   },
   "outputs": [],
   "source": []
  },
  {
   "cell_type": "code",
   "execution_count": null,
   "metadata": {
    "collapsed": true,
    "jupyter": {
     "outputs_hidden": true
    }
   },
   "outputs": [],
   "source": []
  },
  {
   "cell_type": "code",
   "execution_count": null,
   "metadata": {
    "collapsed": true,
    "jupyter": {
     "outputs_hidden": true
    }
   },
   "outputs": [],
   "source": []
  },
  {
   "cell_type": "code",
   "execution_count": null,
   "metadata": {
    "collapsed": true,
    "jupyter": {
     "outputs_hidden": true
    }
   },
   "outputs": [],
   "source": []
  },
  {
   "cell_type": "code",
   "execution_count": null,
   "metadata": {
    "ExecuteTime": {
     "end_time": "2017-09-27T04:19:40.830088",
     "start_time": "2017-09-27T04:19:40.602060"
    },
    "collapsed": false,
    "jupyter": {
     "outputs_hidden": false
    }
   },
   "outputs": [],
   "source": [
    "df.occur_dt.map(lambda d: d.year).unique()"
   ]
  },
  {
   "cell_type": "code",
   "execution_count": null,
   "metadata": {
    "ExecuteTime": {
     "end_time": "2017-09-27T12:15:03.938386",
     "start_time": "2017-09-27T12:15:03.758494"
    },
    "collapsed": false,
    "jupyter": {
     "outputs_hidden": false
    }
   },
   "outputs": [],
   "source": [
    "df['Year'] = df.occur_dt.map(lambda d: d.year)\n",
    "df2 = df[(df.Year>=2010) & (df.Year<=2017)]\n",
    "df2.shape, df.shape"
   ]
  },
  {
   "cell_type": "markdown",
   "metadata": {},
   "source": [
    "# Descriptive Statistics\n",
    "https://pandas.pydata.org/pandas-docs/stable/basics.html#descriptive-statistics"
   ]
  },
  {
   "cell_type": "code",
   "execution_count": null,
   "metadata": {
    "collapsed": true,
    "jupyter": {
     "outputs_hidden": true
    }
   },
   "outputs": [],
   "source": []
  },
  {
   "cell_type": "code",
   "execution_count": null,
   "metadata": {
    "collapsed": true,
    "jupyter": {
     "outputs_hidden": true
    }
   },
   "outputs": [],
   "source": []
  },
  {
   "cell_type": "markdown",
   "metadata": {},
   "source": [
    "# Time Series\n",
    "- https://pandas.pydata.org/pandas-docs/stable/timeseries.html\n",
    "- https://pandas.pydata.org/pandas-docs/stable/api.html#id10"
   ]
  },
  {
   "cell_type": "code",
   "execution_count": null,
   "metadata": {
    "ExecuteTime": {
     "end_time": "2017-09-27T12:15:07.929423",
     "start_time": "2017-09-27T12:15:07.830931"
    },
    "collapsed": false,
    "jupyter": {
     "outputs_hidden": false
    }
   },
   "outputs": [],
   "source": [
    "df_LarcenyFromVehicle = df2[(df2['UC2 Literal']=='LARCENY-FROM VEHICLE')&(df2.Year==2017)].copy()\n",
    "agr_LarcenyFromVehicle = df_LarcenyFromVehicle.set_index('occur_dt').resample('W').offense_id.count()\n",
    "agr_LarcenyFromVehicle"
   ]
  },
  {
   "cell_type": "code",
   "execution_count": null,
   "metadata": {
    "ExecuteTime": {
     "end_time": "2017-09-27T12:01:24.378436",
     "start_time": "2017-09-27T12:01:24.302632"
    },
    "collapsed": false,
    "jupyter": {
     "outputs_hidden": false
    }
   },
   "outputs": [],
   "source": [
    "df_LarcenyFromVehicle[\"Hour\"] = df_LarcenyFromVehicle.occur_dt.map(lambda d: d.hour)"
   ]
  },
  {
   "cell_type": "code",
   "execution_count": null,
   "metadata": {
    "ExecuteTime": {
     "end_time": "2017-09-27T12:02:01.268340",
     "start_time": "2017-09-27T12:02:01.259890"
    },
    "collapsed": false,
    "jupyter": {
     "outputs_hidden": false
    }
   },
   "outputs": [],
   "source": [
    "df_LarcenyFromVehicle.groupby(\"Hour\").offense_id.count()"
   ]
  },
  {
   "cell_type": "code",
   "execution_count": null,
   "metadata": {
    "ExecuteTime": {
     "end_time": "2017-09-27T12:20:37.596368",
     "start_time": "2017-09-27T12:20:37.571104"
    },
    "collapsed": false,
    "jupyter": {
     "outputs_hidden": false
    }
   },
   "outputs": [],
   "source": [
    "hourly = df_LarcenyFromVehicle.resample('H', on='occur_dt').offense_id.count()"
   ]
  },
  {
   "cell_type": "code",
   "execution_count": null,
   "metadata": {
    "ExecuteTime": {
     "end_time": "2017-09-27T12:39:41.900307",
     "start_time": "2017-09-27T12:39:41.661722"
    },
    "collapsed": false,
    "jupyter": {
     "outputs_hidden": false
    }
   },
   "outputs": [],
   "source": [
    "hourly.reset_index().occur_dt.map(lambda d: d.week)"
   ]
  },
  {
   "cell_type": "code",
   "execution_count": null,
   "metadata": {
    "ExecuteTime": {
     "end_time": "2017-09-27T12:37:45.300721",
     "start_time": "2017-09-27T12:37:45.256620"
    },
    "collapsed": false,
    "jupyter": {
     "outputs_hidden": false
    }
   },
   "outputs": [],
   "source": [
    "df3 = pd.DataFrame({\"N\": hourly})\n",
    "##df3['Day'] = df3.reset_index().occur_dt ##.map(lambda d: d.day)\n",
    "df3"
   ]
  },
  {
   "cell_type": "code",
   "execution_count": null,
   "metadata": {
    "ExecuteTime": {
     "end_time": "2017-09-27T13:31:55.670065",
     "start_time": "2017-09-27T13:31:55.530416"
    },
    "collapsed": false,
    "jupyter": {
     "outputs_hidden": false
    }
   },
   "outputs": [],
   "source": [
    "ls"
   ]
  },
  {
   "cell_type": "markdown",
   "metadata": {},
   "source": [
    "# Plotting\n",
    "The Pandas package provides a number of plotting features. Let's try them out.\n",
    "- https://pandas.pydata.org/pandas-docs/stable/api.html#api-dataframe-plotting\n",
    "- https://pandas.pydata.org/pandas-docs/stable/generated/pandas.DataFrame.boxplot.html\n"
   ]
  },
  {
   "cell_type": "code",
   "execution_count": null,
   "metadata": {
    "collapsed": true,
    "jupyter": {
     "outputs_hidden": true
    }
   },
   "outputs": [],
   "source": [
    "fig = plt.figure(figsize=(10,6)) # 10inx10in\n",
    "#plt.plot(resdf['BURGLARY-RESIDENCE'].index, resdf['BURGLARY-RESIDENCE'])\n",
    "plt.scatter(resdf['BURGLARY-RESIDENCE'].index, resdf['BURGLARY-RESIDENCE'], marker='x')\n",
    "plt.scatter(resdf['BURGLARY-NONRES'].index, resdf['BURGLARY-NONRES'], marker='o')\n",
    "\n",
    "plt.ylim(0, 500)\n",
    "plt.title('BURGLARY-RESIDENCE')\n",
    "plt.xticks(range(13), ['', 'Jan', 'Feb', 'Mar', 'Apr', 'May', 'Jun', 'Jul', 'Aug', 'Sep', 'Oct', 'Nov', 'Dec'])\n",
    "fig.savefig('BurglaryResidence_over_month.svg')\n",
    "x = 1"
   ]
  },
  {
   "cell_type": "code",
   "execution_count": null,
   "metadata": {
    "collapsed": true,
    "jupyter": {
     "outputs_hidden": true
    }
   },
   "outputs": [],
   "source": [
    "def getTheMonth(x):\n",
    "    return x.month\n",
    "\n",
    "df['occur_month'] = df['occur_ts'].map(getTheMonth)"
   ]
  },
  {
   "cell_type": "code",
   "execution_count": null,
   "metadata": {
    "collapsed": true,
    "jupyter": {
     "outputs_hidden": true
    }
   },
   "outputs": [],
   "source": [
    "resdf = df.groupby(['UC2 Literal', 'occur_month']).offense_id.count()\n",
    "fig = plt.figure(figsize=(10,6))\n",
    "plt.scatter(resdf['BURGLARY-RESIDENCE'].index, resdf['BURGLARY-RESIDENCE'], marker='x')\n",
    "plt.ylim(0, 500)\n",
    "plt.title('BURGLARY-RESIDENCE')\n",
    "plt.xticks(range(13), ['', 'Jan', 'Feb', 'Mar', 'Apr', 'May', 'Jun', 'Jul', 'Aug', 'Sep', 'Oct', 'Nov', 'Dec'])\n",
    "plt.savefig('quiz3-burglary-residence.png')\n"
   ]
  },
  {
   "cell_type": "markdown",
   "metadata": {},
   "source": [
    "# Seasonal Model"
   ]
  },
  {
   "cell_type": "code",
   "execution_count": null,
   "metadata": {
    "collapsed": true,
    "jupyter": {
     "outputs_hidden": true
    }
   },
   "outputs": [],
   "source": [
    "fig = plt.figure(figsize=(40,30))\n",
    "crime_types = crime_year.index.levels[0]\n",
    "years = crime_year.index.levels[1]\n",
    "for c in range(len(crime_types)):\n",
    "    y_max = max(crime_year.loc[crime_types[c]])\n",
    "    \n",
    "    plt.subplot(4,3,c+1)\n",
    "    plt.hlines(crime_year.loc[crime_types[c]].iloc[-1]*100/y_max, years[0], years[-1], linestyles=\"dashed\", color=\"r\")\n",
    "    plt.bar(crime_year.loc[crime_types[c]].index, crime_year.loc[crime_types[c]]*100/y_max, label=crime_types[c], alpha=0.5)\n",
    "    ##plt.legend()\n",
    "    plt.ylim(0, 100)\n",
    "    plt.xticks(years+0.4, [str(int(y)) for y in years], rotation=0, fontsize=24)\n",
    "    plt.yticks([0,20,40,60,80,100], ['0%','20%','40%','60%','80%','100%'], fontsize=24)\n",
    "    plt.title(crime_types[c], fontsize=30)\n",
    "    None"
   ]
  },
  {
   "cell_type": "code",
   "execution_count": null,
   "metadata": {
    "collapsed": true,
    "jupyter": {
     "outputs_hidden": true
    }
   },
   "outputs": [],
   "source": [
    "c = 3 ## 'BURGLARY-RESIDENCE'\n",
    "resburglaries = crime_year_month.loc[crime_types[c]]\n",
    "fig = plt.figure(figsize=(20,10))\n",
    "for y in years:\n",
    "    plt.plot(resburglaries.loc[y].index, resburglaries.loc[y], label=(\"%4.0f\"%y))\n",
    "plt.legend()\n",
    "plt.title(\"Seasonal Trends - %s\"%crime_types[c], fontsize=20)\n",
    "plt.xticks(range(13), ['', 'Jan', 'Feb', 'Mar', 'Apr', 'May', 'Jun', 'Jul', 'Aug', 'Sep', 'Oct', 'Nov', 'Dec'])\n",
    "plt.xlim(0,13)\n",
    "None"
   ]
  },
  {
   "cell_type": "code",
   "execution_count": null,
   "metadata": {
    "collapsed": true,
    "jupyter": {
     "outputs_hidden": true
    }
   },
   "outputs": [],
   "source": [
    "c = 3 ## 'BURGLARY-RESIDENCE'\n",
    "fig = plt.figure(figsize=(20,10))\n",
    "for y in years:\n",
    "    avg = resburglaries.loc[y].mean()\n",
    "    std = resburglaries.loc[y].std()\n",
    "    ##plt.hlines(avg, 1, 13, linestyle='dashed')\n",
    "    plt.plot(resburglaries.loc[y].index, (resburglaries.loc[y]-avg)/std, label=(\"%4.0f\"%y))\n",
    "plt.legend()\n",
    "plt.title(\"Seasonal Trends - %s (normalized)\"%crime_types[c], fontsize=20)\n",
    "plt.xticks(list(range(1,13)), ['Jan', 'Feb', 'Mar', 'Apr', 'May', 'Jun', 'Jul', 'Aug', 'Sep', 'Oct', 'Nov', 'Dec'])\n",
    "plt.xlim(0,13)\n",
    "plt.ylabel(\"Standard deviations $\\sigma_y$\")\n",
    "None"
   ]
  },
  {
   "cell_type": "code",
   "execution_count": null,
   "metadata": {
    "collapsed": true,
    "jupyter": {
     "outputs_hidden": true
    }
   },
   "outputs": [],
   "source": []
  },
  {
   "cell_type": "code",
   "execution_count": null,
   "metadata": {
    "collapsed": true,
    "jupyter": {
     "outputs_hidden": true
    }
   },
   "outputs": [],
   "source": []
  },
  {
   "cell_type": "code",
   "execution_count": null,
   "metadata": {
    "collapsed": true,
    "jupyter": {
     "outputs_hidden": true
    }
   },
   "outputs": [],
   "source": []
  }
 ],
 "metadata": {
  "hide_input": false,
  "kernelspec": {
   "display_name": "Python 3",
   "language": "python",
   "name": "python3"
  },
  "language_info": {
   "codemirror_mode": {
    "name": "ipython",
    "version": 3
   },
   "file_extension": ".py",
   "mimetype": "text/x-python",
   "name": "python",
   "nbconvert_exporter": "python",
   "pygments_lexer": "ipython3",
   "version": "3.8.6"
  },
  "toc": {
   "nav_menu": {
    "height": "212px",
    "width": "252px"
   },
   "navigate_menu": true,
   "number_sections": true,
   "sideBar": true,
   "threshold": 4,
   "toc_cell": false,
   "toc_section_display": "block",
   "toc_window_display": true
  }
 },
 "nbformat": 4,
 "nbformat_minor": 4
}
