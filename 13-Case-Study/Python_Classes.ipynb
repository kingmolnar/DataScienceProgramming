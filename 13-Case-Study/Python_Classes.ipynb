{
 "cells": [
  {
   "cell_type": "code",
   "execution_count": null,
   "id": "initial_id",
   "metadata": {
    "collapsed": true,
    "jupyter": {
     "outputs_hidden": true
    }
   },
   "outputs": [],
   "source": []
  },
  {
   "cell_type": "code",
   "execution_count": 1,
   "id": "fb6c4e3516cd7de8",
   "metadata": {
    "ExecuteTime": {
     "end_time": "2024-11-16T23:05:28.343552Z",
     "start_time": "2024-11-16T23:05:28.339297Z"
    }
   },
   "outputs": [],
   "source": [
    "from IPython.display import Image"
   ]
  },
  {
   "cell_type": "markdown",
   "id": "adc7f7afa3520833",
   "metadata": {},
   "source": [
    "# Python’s object-oriented programming (OOP) capabilities: Python Classes\n",
    "\n",
    "Sources:\n",
    "\n",
    "- Len_dde, Python Classes, https://medium.com/@lennart.dde/python-classes-structure-best-practices-and-beyond-c1432eb8760e\n",
    "- C. C. Python Programming, Understanding Python Classes and Metaclasses, https://medium.com/@ccpythonprogramming/understanding-python-classes-and-metaclasses-1017c7111e2d\n",
    "- Daily Dose of Python, Understanding Classes in Python, https://medium.com/@ramjoshi.blogs/understanding-classes-in-python-56c33740fbb5\n",
    "- Ashiqur Rahman, Understanding Python Classes: A Comprehensive Guide, https://medium.com/@Md.AshiqurRahman/understanding-python-classes-a-comprehensive-guide-d2d729cfa01f\n",
    "- Ishan | Virginia Tech & IIT Delhi, Exploring Python Classes and Object-Oriented Programming, https://ishanjainoffical.medium.com/exploring-python-classes-and-object-oriented-programming-1140dd966e2a\n",
    "- Sohit Mishra, Understanding Python Classes and Objects: A Beginner’s Guide, https://sohitmishra.medium.com/understanding-python-classes-and-objects-a-beginners-guide-377035d8e41b\n",
    "- Ezinne Anne Emilia, What are classes in python? https://medium.com/@ezinneanne/what-are-classes-in-python-43d8d0993356\n",
    "\n",
    "\n",
    "#### Create objects with methods and attributes \n",
    " \n",
    "Advantages:\n",
    "\n",
    "- Organize and manage code efficiently\n",
    "- Build scalable and maintainable applications"
   ]
  },
  {
   "cell_type": "markdown",
   "id": "d4fcc4b827129441",
   "metadata": {},
   "source": [
    "## Basic Structure of a Python Class\n",
    "\n"
   ]
  },
  {
   "cell_type": "markdown",
   "id": "65624550202d2d26",
   "metadata": {},
   "source": [
    "#### Instance variables and class variables:"
   ]
  },
  {
   "cell_type": "code",
   "execution_count": 2,
   "id": "b2716458c33f5416",
   "metadata": {
    "ExecuteTime": {
     "end_time": "2024-11-16T23:05:31.377906Z",
     "start_time": "2024-11-16T23:05:31.287860Z"
    }
   },
   "outputs": [
    {
     "data": {
      "image/png": "[encoded data removed]",
      "text/plain": [
       "<IPython.core.display.Image object>"
      ]
     },
     "execution_count": 2,
     "metadata": {
      "image/png": {
       "width": 500
      }
     },
     "output_type": "execute_result"
    }
   ],
   "source": [
    "Image(filename=\"figures/python_classes_1.png\", width=500)"
   ]
  },
  {
   "cell_type": "code",
   "execution_count": 3,
   "id": "59a3f326ea3cc561",
   "metadata": {},
   "outputs": [],
   "source": [
    "class Person:\n",
    "    species = \"Homo sapiens\"  # class variable\n",
    "\n",
    "    def __init__(self, name, age):\n",
    "        self.name = name  # instance variable\n",
    "        self.age = age  # instance variable"
   ]
  },
  {
   "cell_type": "markdown",
   "id": "bde61d849b5f3fa0",
   "metadata": {},
   "source": [
    "#### Two parts to a class definition in Python:\n",
    "\n",
    " - initialization method **__init__** (constructor to create a new instance of class)\n",
    " - a sample method **method1**"
   ]
  },
  {
   "cell_type": "code",
   "execution_count": 4,
   "id": "c967a3fd8687310e",
   "metadata": {},
   "outputs": [],
   "source": [
    "class MyClass:\n",
    "    def __init__(self, attribute1, attribute2):\n",
    "        self.attribute1 = attribute1\n",
    "        self.attribute2 = attribute2\n",
    "\n",
    "    def method1(self):\n",
    "        # Method functionality here\n",
    "        pass"
   ]
  },
  {
   "cell_type": "markdown",
   "id": "89324aa4afe6895d",
   "metadata": {},
   "source": [
    "#### Defining Methods Inside a Class:\n",
    "\n",
    "Functions that perform actions or operations related to the class."
   ]
  },
  {
   "cell_type": "code",
   "execution_count": 5,
   "id": "b020b1b762de9fd2",
   "metadata": {},
   "outputs": [
    {
     "name": "stdout",
     "output_type": "stream",
     "text": [
      "This is an example method\n"
     ]
    }
   ],
   "source": [
    "class MyClass:\n",
    "    def example_method(self):\n",
    "        # Code for the method\n",
    "        print(\"This is an example method\")\n",
    "\n",
    "# Creating an instance and calling the method\n",
    "obj = MyClass()\n",
    "obj.example_method()"
   ]
  },
  {
   "cell_type": "markdown",
   "id": "8f77d76293ae911f",
   "metadata": {},
   "source": [
    "#### The self Parameter and Its Significance:\n",
    "\n",
    "- In Python, the first parameter of a method is always **self.**\n",
    "- **self** refers to the instance of the class and allows access to its attributes and other methods.\n",
    "- **self** is a convention but you can name it differently."
   ]
  },
  {
   "cell_type": "code",
   "execution_count": 6,
   "id": "2756c72af5656b47",
   "metadata": {},
   "outputs": [
    {
     "name": "stdout",
     "output_type": "stream",
     "text": [
      "This method accesses the attribute: Example Attribute\n"
     ]
    }
   ],
   "source": [
    "class MyClass:\n",
    "    def __init__(self, attribute):\n",
    "        self.attribute = attribute\n",
    "\n",
    "    def example_method(self):\n",
    "        print(f\"This method accesses the attribute: {self.attribute}\")\n",
    "\n",
    "# Creating an instance and using the self parameter\n",
    "obj = MyClass(\"Example Attribute\")\n",
    "obj.example_method()"
   ]
  },
  {
   "cell_type": "markdown",
   "id": "3b416b6c05004abc",
   "metadata": {},
   "source": [
    "#### Polymorphism:\n",
    "\n",
    "**Polymorphism** allows objects of different classes to be treated as objects of a common base class. \n",
    "\n",
    "This provides a way for different **classes to implement their own versions of methods**.\n",
    "\n",
    "**Method Overriding:**\n",
    "\n",
    "- In the derived class, a method with the same name as the one in the base class is defined.\n",
    "\n",
    "- The method in the derived class overrides the method in the base class."
   ]
  },
  {
   "cell_type": "code",
   "execution_count": 7,
   "id": "5243170e181058d",
   "metadata": {},
   "outputs": [],
   "source": [
    "class BaseClass:\n",
    "    def some_method(self):\n",
    "        print(\"BaseClass method\")\n",
    "\n",
    "class DerivedClass(BaseClass):\n",
    "    def some_method(self):\n",
    "        print(\"DerivedClass method\")"
   ]
  },
  {
   "cell_type": "markdown",
   "id": "7929d3d4db84eb1a",
   "metadata": {},
   "source": [
    "## Best Practices in Class Structure\n",
    "\n",
    "- **Naming Conventions:** Use CapWords convention for class names to enhance readability and distinguish them from variables or functions.\n",
    "\n",
    "- **Explicit is Better Than Implicit:** Clearly define methods and attributes with descriptive names to improve code clarity and maintainability.\n",
    "\n",
    "- **Encapsulation:** Hide internal object representations using private or protected attributes to prevent direct access, ensuring data integrity and security.\n",
    "\n",
    "- **Inheritance:** Use inheritance judiciously to avoid complex hierarchies and maintain code navigability.\n",
    "\n",
    "- **Composition Over Inheritance:** Prefer composition over inheritance to create flexible and modular class structures.\n",
    "\n",
    "- **DRY Principle:** Reuse code by centralizing common functionality into methods or base classes, enhancing maintainability and reducing the risk of errors.\n",
    "\n",
    "- **Magic Methods:** Leverage Python’s magic methods to imbue classes with Python-like behaviors and operations, enhancing their functionality.\n",
    "\n",
    "- **Documentation:** Document classes, methods, and functions using docstrings following common style guides to improve readability, maintainability, and automated documentation generation."
   ]
  },
  {
   "cell_type": "markdown",
   "id": "5b66e9e12caee04a",
   "metadata": {},
   "source": [
    "### 1. Naming Conventions:\n",
    "\n",
    "Use **CapWords** (also known as **CamelCase**) for class names. "
   ]
  },
  {
   "cell_type": "markdown",
   "id": "bc570cd3dd4b4adf",
   "metadata": {},
   "source": [
    "### 2. Be explicit in your class definitions:\n",
    "\n",
    "- Clear, descriptive names for methods and attributes. \n",
    "- Enhances readability and maintainability."
   ]
  },
  {
   "cell_type": "code",
   "execution_count": 8,
   "id": "ba96d94976b183b4",
   "metadata": {},
   "outputs": [],
   "source": [
    "class Car:\n",
    "    def __init__(self, make, model, year):\n",
    "        self.make = make\n",
    "        self.model = model\n",
    "        self.year = year\n",
    "\n",
    "    def get_full_name(self):\n",
    "        return f\"{self.year} {self.make} {self.model}\""
   ]
  },
  {
   "cell_type": "markdown",
   "id": "49749407133a3959",
   "metadata": {},
   "source": [
    "### 3. Encapsulation\n",
    "\n",
    "- Keep the internal representation of an object hidden from the outside.\n",
    "- Use private (__attribute) or protected (_attribute) attributes to prevent direct access to them.\n",
    "- Ensures data integrity, security, and maintainability."
   ]
  },
  {
   "cell_type": "code",
   "execution_count": 9,
   "id": "68a684d95577c542",
   "metadata": {},
   "outputs": [],
   "source": [
    "class BankAccount:\n",
    "    def __init__(self, account_number, balance):\n",
    "        self.__account_number = account_number\n",
    "        self._balance = balance\n",
    "\n",
    "    def get_balance(self):\n",
    "        return self._balance\n",
    "\n",
    "    def deposit(self, amount):\n",
    "        self._balance += amount\n",
    "\n",
    "    def withdraw(self, amount):\n",
    "        if amount <= self._balance:\n",
    "            self._balance -= amount\n",
    "        else:\n",
    "            print(\"Insufficient funds\")"
   ]
  },
  {
   "cell_type": "markdown",
   "id": "209620b9477c250b",
   "metadata": {},
   "source": [
    "#### Data Integrity:\n",
    "\n",
    "- Restrict direct access to the attributes of a class.\n",
    "- Example: **BankAccount** class - **__account_number** attribute is designated as private using double underscores (__)."
   ]
  },
  {
   "cell_type": "markdown",
   "id": "2ebcd98dd7954719",
   "metadata": {},
   "source": [
    "#### Security:\n",
    "\n",
    "- Encapsulation enhances security by controlling access to sensitive data.\n",
    "- Example **BankAccoun** class - The **account_number** attribute is encapsulated, preventing unauthorized code from accessing or modifying it directly. \n"
   ]
  },
  {
   "cell_type": "markdown",
   "id": "fbe727484b41fbfd",
   "metadata": {},
   "source": [
    "#### Maintainability:\n",
    "\n",
    "- Decouple the internal implementation details of a class from its external interface.\n",
    "- Internal implementation can change without affecting the external interface.\n",
    "- Example: **BankAccount** class - Clients interact with the object through well-defined methods (`get_balance`, `deposit`, `withdraw`), not with directly with the attributes."
   ]
  },
  {
   "cell_type": "markdown",
   "id": "462f3885999707a1",
   "metadata": {},
   "source": [
    "#### Flexibility and Extensibility:\n",
    "\n",
    "- Clear separation between the implementation and the interface of a class.\n",
    "- Developers can enhance or modify the class's behavior without affecting the code that uses it.\n",
    "- Example: **BankAccount** class - internal implementations e.g. **balance** are encapsulated"
   ]
  },
  {
   "cell_type": "markdown",
   "id": "180a66a1a5945e27",
   "metadata": {},
   "source": [
    "### 4. Inheritance\n",
    "\n",
    "**Define a class that inherits all the methods and properties from another class.**"
   ]
  },
  {
   "cell_type": "code",
   "execution_count": 10,
   "id": "6e18e4c9766ea4e7",
   "metadata": {},
   "outputs": [],
   "source": [
    "class Animal:\n",
    "    def speak(self):\n",
    "        raise NotImplementedError(\"Subclass must implement abstract method\")\n",
    "\n",
    "\n",
    "class Dog(Animal):\n",
    "    def speak(self):\n",
    "        return \"Woof!\"\n",
    "\n",
    "\n",
    "class Cat(Animal):\n",
    "    def speak(self):\n",
    "        return \"Meow!\""
   ]
  },
  {
   "cell_type": "markdown",
   "id": "d2eb7e5625c18be9",
   "metadata": {},
   "source": [
    "### 5. Composition Over Inheritance\n",
    "\n",
    "Instead of creating highly interconnected class hierarchies, use composition to **encapsulate simple classes into more complex ones.*"
   ]
  },
  {
   "cell_type": "code",
   "execution_count": 11,
   "id": "a349852cf64b2ef",
   "metadata": {},
   "outputs": [],
   "source": [
    "class Engine:\n",
    "    def start(self):\n",
    "        print(\"Engine started\")\n",
    "\n",
    "\n",
    "class Car:\n",
    "    def __init__(self):\n",
    "        self.engine = Engine()\n",
    "\n",
    "    def start(self):\n",
    "        self.engine.start()"
   ]
  },
  {
   "cell_type": "markdown",
   "id": "47bb0f942af6612b",
   "metadata": {},
   "source": [
    "### 6. Don’t Repeat Yourself (DRY) Principle\n",
    "\n",
    "Why?\n",
    "\n",
    "- Maintainability\n",
    "- Readability\n",
    "- Reduced Risk of Bugs\n",
    "- Scalability\n",
    "\n",
    "How?\n",
    "\n",
    "- **Extract Common Functionality** (repetitive patterns in your code)\n",
    "- **Create Utility Functions or Modules** (functionality used across multiple modules or classes)\n",
    "- **Use Inheritance** (base class containing common functionality that subclasses can inherit)\n",
    "- **Leverage Higher-Order Functions** (abstract common patterns into reusable functions)"
   ]
  },
  {
   "cell_type": "code",
   "execution_count": 12,
   "id": "f5669e93fb886218",
   "metadata": {},
   "outputs": [],
   "source": [
    "# Without DRY Principle\n",
    "def calculate_area_of_rectangle(length, width):\n",
    "    return length * width\n",
    "\n",
    "def calculate_area_of_triangle(base, height):\n",
    "    return 0.5 * base * height\n",
    "\n",
    "def calculate_area_of_circle(radius):\n",
    "    return 3.14159 * radius ** 2\n",
    "\n",
    "\n",
    "# With DRY Principle\n",
    "def calculate_area(shape, *args):\n",
    "    if shape == \"rectangle\":\n",
    "        return args[0] * args[1]\n",
    "    elif shape == \"triangle\":\n",
    "        return 0.5 * args[0] * args[1]\n",
    "    elif shape == \"circle\":\n",
    "        return 3.14159 * args[0] ** 2"
   ]
  },
  {
   "cell_type": "markdown",
   "id": "55904d781c07bc2a",
   "metadata": {},
   "source": [
    "### 7. Magic Methods\n",
    "\n",
    "Utilize Python’s magic methods (like **__str__, __repr__,** and **__eq__**) for Python-like behaviors and operations. "
   ]
  },
  {
   "cell_type": "code",
   "execution_count": 13,
   "id": "8816232c7b315a62",
   "metadata": {},
   "outputs": [],
   "source": [
    "class Point:\n",
    "    def __init__(self, x, y):\n",
    "        self.x = x\n",
    "        self.y = y\n",
    "\n",
    "    def __str__(self):\n",
    "        return f\"({self.x}, {self.y})\"\n",
    "\n",
    "    def __eq__(self, other):\n",
    "        return self.x == other.x and self.y == other.y"
   ]
  },
  {
   "cell_type": "markdown",
   "id": "61593ed81ac3e41a",
   "metadata": {},
   "source": [
    "### 8. Documentation\n",
    "\n",
    "Document your classes, methods, and functions using **Python docstrings.**\n",
    "\n",
    "Why?\n",
    "\n",
    "- Consistency\n",
    "- Automated Generation\n",
    "- Readability\n",
    "- Ease of Maintenance\n",
    "\n",
    "Style Guides:\n",
    "\n",
    "- **Google Style Guide** (Uses triple double quotes (\"\"\") for docstrings. Sections include a brief description, Args, Returns, Raises, Examples, and Notes.)\n",
    "\n",
    "- **Numpy/Scipy Style Guide** (Similar to Google style)\n",
    "\n",
    "- **reStructuredText (reST)** (in Python’s standard library, Sphinx)\n",
    "\n",
    "- **PEP 257** (docstring conventions)\n"
   ]
  },
  {
   "cell_type": "markdown",
   "id": "ce4573190bc5bf86",
   "metadata": {},
   "source": [
    "#### Example: Google Style Guide"
   ]
  },
  {
   "cell_type": "code",
   "execution_count": 14,
   "id": "21db680cbc209da0",
   "metadata": {},
   "outputs": [],
   "source": [
    "class Calculator:\n",
    "    \"\"\"A simple calculator class.\n",
    "\n",
    "    This class provides basic arithmetic operations such as addition, subtraction,\n",
    "    multiplication, and division.\n",
    "\n",
    "    Attributes:\n",
    "        precision (int): The precision level for calculations.\n",
    "    \"\"\"\n",
    "\n",
    "    def __init__(self, precision=2):\n",
    "        \"\"\"Initializes the Calculator object.\n",
    "\n",
    "        Args:\n",
    "            precision (int, optional): The precision level for calculations. Defaults to 2.\n",
    "        \"\"\"\n",
    "        self.precision = precision\n",
    "\n",
    "    def add(self, num1, num2):\n",
    "        \"\"\"Adds two numbers.\n",
    "\n",
    "        Args:\n",
    "            num1 (int): The first number.\n",
    "            num2 (int): The second number.\n",
    "\n",
    "        Returns:\n",
    "            int: The result of adding num1 and num2.\n",
    "        \"\"\"\n",
    "        return round(num1 + num2, self.precision)\n",
    "\n",
    "    def subtract(self, num1, num2):\n",
    "        \"\"\"Subtracts two numbers.\n",
    "\n",
    "        Args:\n",
    "            num1 (int): The first number.\n",
    "            num2 (int): The second number.\n",
    "\n",
    "        Returns:\n",
    "            int: The result of subtracting num2 from num1.\n",
    "        \"\"\"\n",
    "        return round(num1 - num2, self.precision)"
   ]
  },
  {
   "cell_type": "markdown",
   "id": "a82fd0d35c7ad9bd",
   "metadata": {},
   "source": [
    "## Data Classes\n",
    "\n",
    "- Classes that primarily store data and have little functionality.\n",
    "- Compact representation: minimal methods, __init__, __eq__, __repr__ etc. automatically implemented"
   ]
  },
  {
   "cell_type": "code",
   "execution_count": 15,
   "id": "97249cc697962ad0",
   "metadata": {},
   "outputs": [],
   "source": [
    "from dataclasses import dataclass\n",
    "\n",
    "@dataclass\n",
    "class Product:\n",
    "    name: str\n",
    "    quantity: int\n",
    "    price_per_unit: float"
   ]
  },
  {
   "cell_type": "markdown",
   "id": "16cd8d9e89723047",
   "metadata": {},
   "source": [
    "## Advanced Structures: Type Hints and Abstract Base Classes\n",
    "\n",
    "**Type Hints**:\n",
    "\n",
    "- Explicit typing of variables, attributes, and method return types.\n",
    "- Improves code readability and can be used by static type checkers.\n",
    "\n"
   ]
  },
  {
   "cell_type": "code",
   "execution_count": 16,
   "id": "ee0744f35ef45845",
   "metadata": {},
   "outputs": [],
   "source": [
    "class MyClass:\n",
    "    def __init__(self, attribute1: int, attribute2: str) -> None:\n",
    "        self.attribute1 = attribute1\n",
    "        self.attribute2 = attribute2"
   ]
  },
  {
   "cell_type": "markdown",
   "id": "1a78d0594ab1053b",
   "metadata": {},
   "source": [
    "**Abstract Base Classes (ABCs)**:\n",
    "\n",
    "- **Defining a Common Interface:** In a system where multiple classes share a common set of behaviors but implement them differently, ABCs can be used to define a common interface that all these classes must adhere to.\n",
    "\n",
    "- **Plugin Systems:** For systems that support plugins, ABCs can define the necessary interface for all plugins, ensuring compatibility and interoperability across different plugin implementations.\n",
    "\n",
    "- **Frameworks and Libraries:** When developing a framework or library that will be extended by other developers, ABCs help specify the core set of methods that extensions or subclasses must implement.\n",
    "\n",
    "- **API Design:** In designing APIs, especially those expected to have multiple interchangeable implementations, ABCs provide a way to ensure that all implementations offer the same fundamental methods."
   ]
  },
  {
   "cell_type": "code",
   "execution_count": 17,
   "id": "5b49d1c3eb9bb255",
   "metadata": {},
   "outputs": [
    {
     "name": "stdout",
     "output_type": "stream",
     "text": [
      "The area of the circle is: 78.53975\n",
      "The area of the rectangle is: 50\n"
     ]
    }
   ],
   "source": [
    "from abc import ABC, abstractmethod\n",
    "\n",
    "class Shape(ABC):\n",
    "    \"\"\"\n",
    "    An abstract base class that defines the structure for shapes.\n",
    "    \"\"\"\n",
    "    \n",
    "    @abstractmethod\n",
    "    def area(self):\n",
    "        \"\"\"\n",
    "        Calculate the area of the shape.\n",
    "        \"\"\"\n",
    "        pass\n",
    "\n",
    "class Circle(Shape):\n",
    "    \"\"\"\n",
    "    A concrete implementation of the Shape class for circles.\n",
    "    \"\"\"\n",
    "    \n",
    "    def __init__(self, radius):\n",
    "        self.radius = radius\n",
    "\n",
    "    def area(self):\n",
    "        return 3.14159 * self.radius ** 2\n",
    "\n",
    "class Rectangle(Shape):\n",
    "    \"\"\"\n",
    "    A concrete implementation of the Shape class for rectangles.\n",
    "    \"\"\"\n",
    "    \n",
    "    def __init__(self, width, height):\n",
    "        self.width = width\n",
    "        self.height = height\n",
    "\n",
    "    def area(self):\n",
    "        return self.width * self.height\n",
    "\n",
    "# Usage of the classes\n",
    "circle = Circle(5)\n",
    "print(f\"The area of the circle is: {circle.area()}\")\n",
    "\n",
    "rectangle = Rectangle(10, 5)\n",
    "print(f\"The area of the rectangle is: {rectangle.area()}\")"
   ]
  },
  {
   "cell_type": "code",
   "execution_count": null,
   "id": "57fb6e5cb2b0cd8e",
   "metadata": {},
   "outputs": [],
   "source": []
  }
 ],
 "metadata": {
  "kernelspec": {
   "display_name": "Python 3 (ipykernel)",
   "language": "python",
   "name": "python3"
  },
  "language_info": {
   "codemirror_mode": {
    "name": "ipython",
    "version": 3
   },
   "file_extension": ".py",
   "mimetype": "text/x-python",
   "name": "python",
   "nbconvert_exporter": "python",
   "pygments_lexer": "ipython3",
   "version": "3.8.6"
  }
 },
 "nbformat": 4,
 "nbformat_minor": 5
}
