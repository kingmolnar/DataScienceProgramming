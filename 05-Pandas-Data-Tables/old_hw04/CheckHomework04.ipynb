{
 "cells": [
  {
   "cell_type": "markdown",
   "metadata": {},
   "source": [
    "# Check Homework HW04\n",
    "Use this notebook to check your solutions. This notebook will **not** be graded."
   ]
  },
  {
   "cell_type": "code",
   "execution_count": null,
   "metadata": {
    "ExecuteTime": {
     "end_time": "2017-09-18T10:40:30.229427",
     "start_time": "2017-09-18T10:40:29.852924"
    },
    "collapsed": true
   },
   "outputs": [],
   "source": [
    "import pandas as pd\n",
    "import numpy as np"
   ]
  },
  {
   "cell_type": "markdown",
   "metadata": {},
   "source": [
    "Now, import your solutions from `hw4_answers.py`. The following code looks a bit redundant. However, we do this to allow reloading the `hw4_answers.py` in case you made some changes. Normally, Python assumes that modules don't change and therefore does not try to import them again."
   ]
  },
  {
   "cell_type": "code",
   "execution_count": null,
   "metadata": {
    "ExecuteTime": {
     "end_time": "2017-09-18T11:43:08.503644",
     "start_time": "2017-09-18T11:43:08.498810"
    },
    "collapsed": false
   },
   "outputs": [],
   "source": [
    "import hw4_answers\n",
    "reload(hw4_answers)\n",
    "from hw4_answers import *"
   ]
  },
  {
   "cell_type": "markdown",
   "metadata": {},
   "source": [
    "## Problem 1\n",
    "Create a function `load_employees` that loads the employees table from\n",
    "the file  `/home/data/AdventureWorks/Employees.xls` and sets the index of the DataFrame to the `EmployeeID`. The function should return a table with the `EmployeeID` as the index and the remaining 25 columns."
   ]
  },
  {
   "cell_type": "code",
   "execution_count": null,
   "metadata": {
    "ExecuteTime": {
     "end_time": "2017-09-18T10:55:29.739245",
     "start_time": "2017-09-18T10:55:29.599413"
    },
    "collapsed": false,
    "scrolled": false
   },
   "outputs": [],
   "source": [
    "employees_df = load_employees()\n",
    "print \"Number of rows: %d\\nNumber of cols: %d\\n\" % (employees_df.shape[0], employees_df.shape[1])\n",
    "print \"Head of index: %s\\n\" % (employees_df.index[:10])\n",
    "print \"Record of employee with ID=999\\n\"\n",
    "print employees_df.loc[999]"
   ]
  },
  {
   "cell_type": "markdown",
   "metadata": {},
   "source": [
    "The output should be \n",
    "<pre>\n",
    "Number of rows: 291\n",
    "Number of cols: 25\n",
    "\n",
    "Head of index: Int64Index([259, 278, 204, 78, 255, 66, 270, 22, 161, 124], dtype='int64', name=u'EmployeeID')\n",
    "\n",
    "Record of employee with ID=999\n",
    "\n",
    "ManagerID                                      1\n",
    "TerritoryID                                  NaN\n",
    "Title                                        NaN\n",
    "FirstName                               Chadwick\n",
    "MiddleName                                   NaN\n",
    "LastName                                   Smith\n",
    "Suffix                                       NaN\n",
    "JobTitle                            BI Professor\n",
    "NationalIDNumber                       123456789\n",
    "BirthDate                             1967-07-05\n",
    "MaritalStatus                                  M\n",
    "Gender                                         M\n",
    "HireDate              2003-12-31 23:59:59.997000\n",
    "SalariedFlag                                   0\n",
    "VacationHours                                 55\n",
    "SickLeaveHours                                47\n",
    "PhoneNumber                         555-887-9788\n",
    "PhoneNumberType                             Work\n",
    "EmailAddress         chadwick.smith@rentpath.com\n",
    "AddressLine1                   565 Peachtree Rd.\n",
    "AddressLine2                                 NaN\n",
    "City                                     Atlanta\n",
    "StateProvinceName                        Georgia\n",
    "PostalCode                                 30084\n",
    "CountryName                        United States\n",
    "Name: 999, dtype: object\n",
    "</pre>"
   ]
  },
  {
   "cell_type": "markdown",
   "metadata": {},
   "source": [
    "## Problem 2\n",
    "Define a function `getFullName` which takes the employees table and a single employee ID as arguments, and returns a string with the full name of the employee in the format \"LAST, FIRST MIDDLE\".\n",
    "If the given ID does not belong to any employee return the string \"UNKNOWN\" (in all caps)\n",
    "If no middle name is given only return \"LAST, FIRST\". Make sure there are not trailing spaces!\n",
    "If only the middle initial is given the return the full name in the format \"LAST, FIRST M.\" with the middle initial followed by a '.'.\n",
    "\n",
    "Arguments:\n",
    "- df (DataFrame): Employee Table\n",
    "- empid (int):  Employee ID\n",
    "\n",
    "Returns:\n",
    "- String with full name"
   ]
  },
  {
   "cell_type": "code",
   "execution_count": null,
   "metadata": {
    "ExecuteTime": {
     "end_time": "2017-09-18T11:04:14.143639",
     "start_time": "2017-09-18T11:04:14.133015"
    },
    "collapsed": false
   },
   "outputs": [],
   "source": [
    "for eid in [274, 999, 102]:\n",
    "    print '%d, \"%s\"' %(eid, getFullName(employees_df, eid))"
   ]
  },
  {
   "cell_type": "markdown",
   "metadata": {},
   "source": [
    "The output should be\n",
    "<pre>\n",
    "274, \"Jiang, Stephen Y.\"\n",
    "999, \"Smith, Chadwick\"\n",
    "102, \"Mu, Zheng W.\"\n",
    "</pre>"
   ]
  },
  {
   "cell_type": "markdown",
   "metadata": {},
   "source": [
    "## Problem 3\n",
    "Define a function `isSales` that takes the job title of an employee as string as an argument and return either `True` if the job title indicates this person works in sales, and `False` otherwise.\n",
    "\n",
    "Argument:\n",
    "- jobtitle (str)\n",
    "\n",
    "Returns:\n",
    "- True or False"
   ]
  },
  {
   "cell_type": "code",
   "execution_count": null,
   "metadata": {
    "ExecuteTime": {
     "end_time": "2017-09-18T11:09:52.659531",
     "start_time": "2017-09-18T11:09:52.653879"
    },
    "collapsed": false
   },
   "outputs": [],
   "source": [
    "for jt in ['Chief Data Scientist', 'Sales Manager', 'Vice President of Sales']:\n",
    "    if isSales(jt):\n",
    "        print \"The job title '%s' is part of the Sales Department.\" % jt\n",
    "    else:\n",
    "        print \"The job title '%s' belongs to a different department.\" % jt"
   ]
  },
  {
   "cell_type": "markdown",
   "metadata": {},
   "source": [
    "The output should be\n",
    "<pre>\n",
    "The job title 'Chief Data Scientist' belongs to a different department.\n",
    "The job title 'Sales Manager' is part of the Sales Department.\n",
    "The job title 'Vice President of Sales' is part of the Sales Department.\n",
    "</pre>"
   ]
  },
  {
   "cell_type": "markdown",
   "metadata": {
    "ExecuteTime": {
     "end_time": "2017-09-18T11:10:52.841897",
     "start_time": "2017-09-18T11:10:52.838016"
    }
   },
   "source": [
    "## Problem 4\n",
    "Define a function `filterSales` with the employee tables as an argument, that returns a new table of the same schema (i.e. columns and index) containing only row of sales people. You should use the `isSales` function from the previous problem.\n",
    "\n",
    "Arguments:\n",
    "- employees (DataFrame)\n",
    "\n",
    "Returns:\n",
    "- DataFrame with only people form the Sales Department"
   ]
  },
  {
   "cell_type": "code",
   "execution_count": null,
   "metadata": {
    "ExecuteTime": {
     "end_time": "2017-09-18T11:14:04.586899",
     "start_time": "2017-09-18T11:14:04.578483"
    },
    "collapsed": false
   },
   "outputs": [],
   "source": [
    "sales_df = filterSales(employees_df)\n",
    "print \"Number of rows: %d\\nNumber of cols: %d\\n\" % (sales_df.shape[0], sales_df.shape[1])\n",
    "print \"Head of index: %s\\n\" % (sales_df.index[:10])\n",
    "print \"Record of sales employee with ID=280\\n\"\n",
    "print sales_df.loc[280]"
   ]
  },
  {
   "cell_type": "markdown",
   "metadata": {},
   "source": [
    "The output should be\n",
    "<pre>\n",
    "Number of rows: 18\n",
    "Number of cols: 25\n",
    "\n",
    "Head of index: Int64Index([278, 283, 274, 276, 286, 284, 287, 281, 280, 285], dtype='int64', name=u'EmployeeID')\n",
    "\n",
    "Record of sales employee with ID=280\n",
    "\n",
    "ManagerID                             274\n",
    "TerritoryID                             1\n",
    "Title                                 NaN\n",
    "FirstName                          Pamela\n",
    "MiddleName                              O\n",
    "LastName                     Ansman-Wolfe\n",
    "Suffix                                NaN\n",
    "JobTitle             Sales Representative\n",
    "NationalIDNumber                 61161660\n",
    "BirthDate                      1969-01-06\n",
    "MaritalStatus                           S\n",
    "Gender                                  F\n",
    "HireDate              2005-10-01 00:00:00\n",
    "SalariedFlag                            1\n",
    "VacationHours                          22\n",
    "SickLeaveHours                         31\n",
    "PhoneNumber                  340-555-0193\n",
    "PhoneNumberType                      Cell\n",
    "EmailAddress            pamela0@yahoo.com\n",
    "AddressLine1            636 Vine Hill Way\n",
    "AddressLine2                          NaN\n",
    "City                             Portland\n",
    "StateProvinceName                  Oregon\n",
    "PostalCode                          97205\n",
    "CountryName                 United States\n",
    "Name: 280, dtype: object\n",
    "</pre>\n"
   ]
  },
  {
   "cell_type": "markdown",
   "metadata": {},
   "source": [
    "## Problem 5\n",
    "Define a function `getEmailList` with that returns a Series of strings of all email addresses of employees in this state or province. The email addresses should be separated by a given character, usually a comma ',' or semicolon ';'.\n",
    "\n",
    "Arguments:\n",
    "- employees (DataFrame)\n",
    "- delimiter (str)\n",
    "\n",
    "Returns:\n",
    "- Series of email addresses, concatenated by the given delimiter. The Series is indexed by the state or province."
   ]
  },
  {
   "cell_type": "code",
   "execution_count": null,
   "metadata": {
    "ExecuteTime": {
     "end_time": "2017-09-18T11:34:12.434614",
     "start_time": "2017-09-18T11:34:12.425732"
    },
    "collapsed": false
   },
   "outputs": [],
   "source": [
    "emails = getEmailListByState(sales_df, \", \")\n",
    "for state in sorted(emails.index):\n",
    "    print \"%15s: %s\" % (state, emails[state])"
   ]
  },
  {
   "cell_type": "markdown",
   "metadata": {},
   "source": [
    "The output should be\n",
    "<pre>\n",
    "        Alberta: garrett1@mapleleafmail.ca\n",
    "     California: shu0@adventure-works.com\n",
    "        England: jae0@aol.co.uk\n",
    "        Gironde: ranjit0@adventure-works.com\n",
    "        Hamburg: rachel0@adventure-works.com\n",
    "  Massachusetts: tete0@adventure-works.com\n",
    "       Michigan: michael9@adventure-works.com\n",
    "      Minnesota: jillian0@adventure-works.com\n",
    "        Ontario: josé1@safe-mail.net\n",
    "         Oregon: pamela0@yahoo.com\n",
    "      Tennessee: tsvi0@adventure-works.com\n",
    "           Utah: linda3@adventure-works.com\n",
    "       Victoria: lynn0@adventure-works.com\n",
    "     Washington: david8@adventure-works.com, stephen0@adventure-works.com, amy0@yahoo.com, syed0@yahoo.com, brian3@aol.com\n",
    "<pre>"
   ]
  },
  {
   "cell_type": "markdown",
   "metadata": {},
   "source": [
    "## Problem 6 (Bonus)\n",
    "Define a function `managementCounts` which produces a Series of how many employees report to a manager. The Series is indexed by the `ManagerID`, the count should be performed on the `EmployeeID` because this is the only field that is guaranteed to be unique. The resulting Series should be order by the number of employees in **descending order**.\n",
    "\n",
    "Arguments:\n",
    "- employees (DataFrame)\n",
    "\n",
    "Returns:\n",
    "- Series of counts (int), indexed by `ManagerID`"
   ]
  },
  {
   "cell_type": "code",
   "execution_count": null,
   "metadata": {
    "ExecuteTime": {
     "end_time": "2017-09-18T11:44:14.219676",
     "start_time": "2017-09-18T11:44:14.210506"
    },
    "collapsed": false,
    "scrolled": true
   },
   "outputs": [],
   "source": [
    "print managementCounts(employees_df)"
   ]
  },
  {
   "cell_type": "markdown",
   "metadata": {},
   "source": [
    "The output should be\n",
    "<pre>\n",
    "ManagerID\n",
    "26.0     178\n",
    "25.0      30\n",
    "250.0     17\n",
    "274.0     10\n",
    "263.0      9\n",
    "249.0      9\n",
    "16.0       8\n",
    "1.0        8\n",
    "227.0      6\n",
    "235.0      5\n",
    "287.0      3\n",
    "273.0      3\n",
    "234.0      3\n",
    "285.0      1\n",
    "Name: EmployeeID, dtype: int64\n",
    "</pre>"
   ]
  }
 ],
 "metadata": {
  "hide_input": false,
  "kernelspec": {
   "display_name": "Python 2",
   "language": "python",
   "name": "python2"
  },
  "language_info": {
   "codemirror_mode": {
    "name": "ipython",
    "version": 2
   },
   "file_extension": ".py",
   "mimetype": "text/x-python",
   "name": "python",
   "nbconvert_exporter": "python",
   "pygments_lexer": "ipython2",
   "version": "2.7.5"
  },
  "toc": {
   "nav_menu": {
    "height": "139px",
    "width": "252px"
   },
   "navigate_menu": true,
   "number_sections": true,
   "sideBar": true,
   "threshold": 4,
   "toc_cell": false,
   "toc_section_display": "block",
   "toc_window_display": false
  }
 },
 "nbformat": 4,
 "nbformat_minor": 0
}
