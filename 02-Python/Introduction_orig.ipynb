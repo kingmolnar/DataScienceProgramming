{
 "cells": [
  {
   "cell_type": "markdown",
   "metadata": {},
   "source": [
    "<p style=\"text-align:right;color:red;font-weight:bold;font-size:16pt;padding-bottom:20px\">Please, copy this notebook before editing!</p>\n"
   ]
  },
  {
   "cell_type": "markdown",
   "metadata": {},
   "source": [
    "The cell below configures your notebook to reload any external Python modules automatically. Execute once, don't change."
   ]
  },
  {
   "cell_type": "code",
   "execution_count": null,
   "metadata": {},
   "outputs": [],
   "source": [
    "%load_ext autoreload\n",
    "%autoreload 2"
   ]
  },
  {
   "cell_type": "markdown",
   "metadata": {},
   "source": [
    "# [2  Python Language Basics, IPython, and Jupyter Notebooks](https://wesmckinney.com/book/python-basics)\n",
    "\n",
    "<ul>\n",
    "  <li><a href=\"https://wesmckinney.com/book/python-basics#python_interpreter\" id=\"toc-python_interpreter\" class=\"nav-link active\" data-scroll-target=\"#python_interpreter\"><span class=\"header-section-number\">2.1</span> The Python Interpreter</a></li>\n",
    "  <li><a href=\"https://wesmckinney.com/book/python-basics#ipython_basics\" id=\"toc-ipython_basics\" class=\"nav-link\" data-scroll-target=\"#ipython_basics\"><span class=\"header-section-number\">2.2</span> IPython Basics</a>\n",
    "  <ul class=\"collapse\">\n",
    "  <li><a href=\"https://wesmckinney.com/book/python-basics#ipython_basics_shell\" id=\"toc-ipython_basics_shell\" class=\"nav-link\" data-scroll-target=\"#ipython_basics_shell\">Running the IPython Shell</a></li>\n",
    "  <li><a href=\"https://wesmckinney.com/book/python-basics#ipython_basics_notebook\" id=\"toc-ipython_basics_notebook\" class=\"nav-link\" data-scroll-target=\"#ipython_basics_notebook\">Running the Jupyter Notebook</a></li>\n",
    "  <li><a href=\"https://wesmckinney.com/book/python-basics#ipython_completion\" id=\"toc-ipython_completion\" class=\"nav-link\" data-scroll-target=\"#ipython_completion\">Tab Completion</a></li>\n",
    "  <li><a href=\"https://wesmckinney.com/book/python-basics#ipython_introspection\" id=\"toc-ipython_introspection\" class=\"nav-link\" data-scroll-target=\"#ipython_introspection\">Introspection</a></li>\n",
    "  </ul></li>\n",
    "  <li><a href=\"https://wesmckinney.com/book/python-basics#tut_basics\" id=\"toc-tut_basics\" class=\"nav-link\" data-scroll-target=\"#tut_basics\"><span class=\"header-section-number\">2.3</span> Python Language Basics</a>\n",
    "  <ul class=\"collapse\">\n",
    "  <li><a href=\"https://wesmckinney.com/book/python-basics#language_semantics\" id=\"toc-language_semantics\" class=\"nav-link\" data-scroll-target=\"#language_semantics\">Language Semantics</a></li>\n",
    "  <li><a href=\"https://wesmckinney.com/book/python-basics#scalar_types\" id=\"toc-scalar_types\" class=\"nav-link\" data-scroll-target=\"#scalar_types\">Scalar Types</a></li>\n",
    "  <li><a href=\"https://wesmckinney.com/book/python-basics#control_flow\" id=\"toc-control_flow\" class=\"nav-link\" data-scroll-target=\"#control_flow\">Control Flow</a></li>\n",
    "  </ul></li>\n",
    "  <li><a href=\"https://wesmckinney.com/book/python-basics#python_tutorial_summary\" id=\"toc-python_tutorial_summary\" class=\"nav-link\" data-scroll-target=\"#python_tutorial_summary\"><span class=\"header-section-number\">2.4</span> Conclusion</a></li>\n",
    "  </ul>"
   ]
  },
  {
   "cell_type": "markdown",
   "metadata": {},
   "source": [
    "The following has been adopted from https://www.learnpython.org/"
   ]
  },
  {
   "cell_type": "code",
   "execution_count": null,
   "metadata": {},
   "outputs": [],
   "source": []
  },
  {
   "cell_type": "code",
   "execution_count": null,
   "metadata": {},
   "outputs": [],
   "source": []
  },
  {
   "cell_type": "markdown",
   "metadata": {},
   "source": [
    "# Variables and Types\n",
    "\n",
    "One of the conveniences and pit-falls is that Python does not require to explicitly declare variables before using them. This is common in many other programming languages. Python is **not statically typed**, but rather follows the **object oriented** paradigm. Every variable in Python is an object.\n",
    "\n",
    "However, the **values** that variables hold have a designated **data type**.\n",
    "\n",
    "This tutorial will go over a few basic types of variables.\n"
   ]
  },
  {
   "cell_type": "markdown",
   "metadata": {},
   "source": [
    "## Numbers\n",
    "Python supports two types of numbers - **integers** and **floating point numbers**. Basic arithmetic operations yield different results for integers and floats. Special attention needs to be given when mixing values of different types within expressions the results might be unexpected.\n",
    "\n",
    "To define an integer, use the following syntax:"
   ]
  },
  {
   "cell_type": "code",
   "execution_count": null,
   "metadata": {},
   "outputs": [],
   "source": [
    "myint = 7\n",
    "print(myint)\n",
    "print(type(myint))"
   ]
  },
  {
   "cell_type": "markdown",
   "metadata": {},
   "source": [
    "To define a floating point number, you may use one of the following notations:"
   ]
  },
  {
   "cell_type": "code",
   "execution_count": null,
   "metadata": {
    "ExecuteTime": {
     "end_time": "2017-08-27T09:30:59.173896",
     "start_time": "2017-08-27T09:30:59.166626"
    },
    "collapsed": false,
    "jupyter": {
     "outputs_hidden": false
    }
   },
   "outputs": [],
   "source": [
    "myfloat = 7.0\n",
    "print(myfloat, type(myfloat))\n",
    "myfloat = float(42)\n",
    "print(myfloat, type(myfloat))"
   ]
  },
  {
   "cell_type": "markdown",
   "metadata": {},
   "source": [
    "### Arithmetic operations\n",
    "We can arithmetic operations that are common in many programing languages.\n",
    "- `+`, `-`, `*`, `/`\n",
    "- `//` is a special integer division even if the operands aren't\n",
    "- `x**y` is used for *x* to the power of *y*\n",
    "- `n % k` calculates the remainder (modulo) of the integer division of *n* by *k*\n",
    "\n",
    "**Try it out!**"
   ]
  },
  {
   "cell_type": "code",
   "execution_count": null,
   "metadata": {
    "ExecuteTime": {
     "end_time": "2017-08-27T09:36:26.792630",
     "start_time": "2017-08-27T09:36:26.785733"
    },
    "collapsed": false,
    "jupyter": {
     "outputs_hidden": false
    }
   },
   "outputs": [],
   "source": []
  },
  {
   "cell_type": "code",
   "execution_count": null,
   "metadata": {},
   "outputs": [],
   "source": []
  },
  {
   "cell_type": "code",
   "execution_count": null,
   "metadata": {
    "ExecuteTime": {
     "end_time": "2017-08-27T09:42:59.301423",
     "start_time": "2017-08-27T09:42:59.293975"
    },
    "collapsed": false,
    "jupyter": {
     "outputs_hidden": false
    }
   },
   "outputs": [],
   "source": [
    "(numerator, denominator) = 3.5.as_integer_ratio()\n",
    "print(numerator, denominator, numerator/denominator, 1.0*numerator/denominator)"
   ]
  },
  {
   "cell_type": "code",
   "execution_count": null,
   "metadata": {},
   "outputs": [],
   "source": []
  },
  {
   "cell_type": "markdown",
   "metadata": {},
   "source": [
    "## Strings\n",
    "Strings are defined either with a **single quote** or a **double quotes**. Many other languages interpret them differently.  "
   ]
  },
  {
   "cell_type": "code",
   "execution_count": null,
   "metadata": {
    "ExecuteTime": {
     "end_time": "2017-08-26T20:58:01.963820",
     "start_time": "2017-08-26T20:58:01.956685"
    },
    "collapsed": false,
    "jupyter": {
     "outputs_hidden": false
    }
   },
   "outputs": [],
   "source": [
    "mystring = 'hello'\n",
    "print(mystring)\n",
    "mystring = \"hello\"\n",
    "print(mystring)"
   ]
  },
  {
   "cell_type": "markdown",
   "metadata": {},
   "source": [
    "The difference between the two is that using double quotes makes it easy to include apostrophes (whereas these would terminate the string if using single quotes)"
   ]
  },
  {
   "cell_type": "code",
   "execution_count": null,
   "metadata": {
    "ExecuteTime": {
     "end_time": "2017-08-27T09:11:39.487873",
     "start_time": "2017-08-27T09:11:39.482931"
    },
    "collapsed": false,
    "jupyter": {
     "outputs_hidden": false
    },
    "scrolled": true
   },
   "outputs": [],
   "source": [
    "mystring = \"Don't worry about apostrophes\"\n",
    "print(mystring)"
   ]
  },
  {
   "cell_type": "markdown",
   "metadata": {},
   "source": [
    "### Operators\n",
    "Some the arithmetic operators can be applied to strings, though they have a different interpretation\n",
    "- `+` will concatenate two strings\n",
    "- `*` multiplies a string with an integer, i.e. the result is that many copies of the original string.\n",
    "- `%` has a very special purpose to fill in values into strings\n",
    "\n",
    "Python provides a large number of operations to manipulate text strings. Examples are given at https://www.tutorialspoint.com/python/python_strings.htm\n",
    "\n",
    "For the complete documentation refer to https://docs.python.org/3/library/string.html\n"
   ]
  },
  {
   "cell_type": "markdown",
   "metadata": {},
   "source": [
    "### String Formatting\n",
    "Python uses C-style string formatting to create new, formatted strings. The \"%\" operator is used to format a set of variables enclosed in a \"tuple\" (a fixed size list), together with a format string, which contains normal text together with \"argument specifiers\", special symbols like \"%s\" and \"%d\".\n",
    "\n",
    "Some basic argument specifiers you should know:\n",
    "`%s` - String (or any object with a string representation, like numbers)\n",
    "\n",
    "`%d` - Integers\n",
    "\n",
    "`%f` - Floating point numbers\n",
    "\n",
    "`%.<number of digits>f` - Floating point numbers with a fixed amount of digits to the right of the dot.\n",
    "\n",
    "`%x`/`%X` - Integers in hex representation (lowercase/uppercase)"
   ]
  },
  {
   "cell_type": "code",
   "execution_count": null,
   "metadata": {},
   "outputs": [],
   "source": []
  },
  {
   "cell_type": "code",
   "execution_count": null,
   "metadata": {
    "ExecuteTime": {
     "end_time": "2017-08-27T09:55:07.732607",
     "start_time": "2017-08-27T09:55:07.726294"
    },
    "collapsed": false,
    "jupyter": {
     "outputs_hidden": false
    }
   },
   "outputs": [],
   "source": [
    "print(\"The magic number is %.2f!\" % (7.0/13.0))"
   ]
  },
  {
   "cell_type": "markdown",
   "metadata": {},
   "source": [
    "### Format String\n",
    "This is the preferred way of representing (see https://realpython.com/python-f-strings/)\n",
    "\n"
   ]
  },
  {
   "cell_type": "code",
   "execution_count": null,
   "metadata": {},
   "outputs": [],
   "source": [
    "\n",
    "print(f\"The magic number is {7.0/13.0:.2f}!\")"
   ]
  },
  {
   "cell_type": "markdown",
   "metadata": {},
   "source": [
    "# Lists\n",
    "Lists are construct for holding multiple objects or values of different types (if this makes sense). We can dynamically add, replace, or remove elements from a list.\n",
    "\n",
    "Usually we iterate through list in order to perform some operations, though, we can also address a specific element by its position (*index*) in the list.\n",
    "\n",
    "The `+` and `*` operators work on lists in a similar way as they do on strings. \n",
    "\n",
    "Complete documentation at https://docs.python.org/3/tutorial/datastructures.html"
   ]
  },
  {
   "cell_type": "code",
   "execution_count": null,
   "metadata": {
    "ExecuteTime": {
     "end_time": "2017-08-27T10:01:26.018169",
     "start_time": "2017-08-27T10:01:26.011026"
    },
    "collapsed": false,
    "jupyter": {
     "outputs_hidden": false
    }
   },
   "outputs": [],
   "source": [
    "mylist = [1, 2, \"three\", (\"a\", 7)]\n",
    "print(len(mylist))\n",
    "print(mylist)"
   ]
  },
  {
   "cell_type": "code",
   "execution_count": null,
   "metadata": {
    "ExecuteTime": {
     "end_time": "2017-08-26T14:49:40.430339",
     "start_time": "2017-08-26T14:49:40.424081"
    },
    "collapsed": false,
    "jupyter": {
     "outputs_hidden": false
    }
   },
   "outputs": [],
   "source": [
    "mylist[3]"
   ]
  },
  {
   "cell_type": "code",
   "execution_count": null,
   "metadata": {
    "ExecuteTime": {
     "end_time": "2017-08-26T14:50:04.805342",
     "start_time": "2017-08-26T14:50:04.798582"
    },
    "collapsed": false,
    "jupyter": {
     "outputs_hidden": false
    }
   },
   "outputs": [],
   "source": [
    "mylist + [7]"
   ]
  },
  {
   "cell_type": "code",
   "execution_count": null,
   "metadata": {
    "ExecuteTime": {
     "end_time": "2017-08-26T14:51:30.547901",
     "start_time": "2017-08-26T14:51:30.541180"
    },
    "collapsed": false,
    "jupyter": {
     "outputs_hidden": false
    }
   },
   "outputs": [],
   "source": [
    "mylist * 2"
   ]
  },
  {
   "cell_type": "markdown",
   "metadata": {},
   "source": [
    "## List Comprehension\n",
    "This technique comes in handy and is often used."
   ]
  },
  {
   "cell_type": "code",
   "execution_count": null,
   "metadata": {
    "ExecuteTime": {
     "end_time": "2017-08-27T10:12:51.489605",
     "start_time": "2017-08-27T10:12:51.484062"
    },
    "collapsed": false,
    "jupyter": {
     "outputs_hidden": false
    }
   },
   "outputs": [],
   "source": [
    "power_of_twos = [2**k for k in range(0,10)]\n",
    "print(power_of_twos)"
   ]
  },
  {
   "cell_type": "code",
   "execution_count": null,
   "metadata": {
    "ExecuteTime": {
     "end_time": "2017-08-27T10:20:50.167712",
     "start_time": "2017-08-27T10:20:50.157276"
    },
    "collapsed": false,
    "jupyter": {
     "outputs_hidden": false
    }
   },
   "outputs": [],
   "source": [
    "[i*j for i in range(1,11) for j in range(1,11)][:20]"
   ]
  },
  {
   "cell_type": "code",
   "execution_count": null,
   "metadata": {
    "ExecuteTime": {
     "end_time": "2017-08-27T10:21:52.632284",
     "start_time": "2017-08-27T10:21:52.620220"
    },
    "collapsed": false,
    "jupyter": {
     "outputs_hidden": false
    },
    "scrolled": true
   },
   "outputs": [],
   "source": [
    "[ [i*j for i in range(1,11) ] for j in range(1,11)][:20]"
   ]
  },
  {
   "cell_type": "code",
   "execution_count": null,
   "metadata": {
    "ExecuteTime": {
     "end_time": "2017-08-26T14:53:38.397687",
     "start_time": "2017-08-26T14:53:38.389860"
    },
    "collapsed": false,
    "jupyter": {
     "outputs_hidden": false
    }
   },
   "outputs": [],
   "source": []
  },
  {
   "cell_type": "code",
   "execution_count": null,
   "metadata": {},
   "outputs": [],
   "source": []
  },
  {
   "cell_type": "code",
   "execution_count": null,
   "metadata": {},
   "outputs": [],
   "source": []
  },
  {
   "cell_type": "code",
   "execution_count": null,
   "metadata": {},
   "outputs": [],
   "source": []
  },
  {
   "cell_type": "markdown",
   "metadata": {},
   "source": [
    "# Conditions\n",
    "Python uses boolean variables to evaluate conditions. The boolean values **True** and **False** are returned when an expression is compared or evaluated. \n",
    "\n",
    "Notice that variable assignment is done using a single equals operator \"=\", whereas comparison between two variables is done using the double equals operator \"==\". The \"not equals\" operator is marked as \"!=\"."
   ]
  },
  {
   "cell_type": "code",
   "execution_count": null,
   "metadata": {
    "ExecuteTime": {
     "end_time": "2017-08-27T11:02:18.462349",
     "start_time": "2017-08-27T11:02:18.454921"
    }
   },
   "outputs": [],
   "source": [
    "x = 2\n",
    "print(x == 2) # prints out True\n",
    "print(x == 3) # prints out False\n",
    "print(x < 3) # prints out True"
   ]
  },
  {
   "cell_type": "markdown",
   "metadata": {},
   "source": [
    "The \"and\", \"or\" and \"not\" boolean operators allow building complex boolean expressions, for example:"
   ]
  },
  {
   "cell_type": "code",
   "execution_count": null,
   "metadata": {},
   "outputs": [],
   "source": [
    "name = \"John\"\n",
    "age = 23\n",
    "if name == \"John\" and age == 23:\n",
    "    print(\"Your name is John, and you are also 23 years old.\")\n",
    "\n",
    "if name == \"John\" or name == \"Rick\":\n",
    "    print(\"Your name is either John or Rick.\")"
   ]
  },
  {
   "cell_type": "markdown",
   "metadata": {},
   "source": [
    "The \"in\" operator could be used to check if a specified object exists within an iterable object container, such as a list:"
   ]
  },
  {
   "cell_type": "code",
   "execution_count": null,
   "metadata": {
    "ExecuteTime": {
     "end_time": "2017-08-27T11:04:03.863605",
     "start_time": "2017-08-27T11:04:03.857673"
    },
    "collapsed": false,
    "jupyter": {
     "outputs_hidden": false
    }
   },
   "outputs": [],
   "source": [
    "name = \"John\"\n",
    "if name in [\"John\", \"Rick\"]:\n",
    "    print(\"Your name is either John or Rick.\")"
   ]
  },
  {
   "cell_type": "markdown",
   "metadata": {},
   "source": [
    "Python uses indentation to define code blocks, instead of brackets. The standard Python indentation is 4 spaces, although tabs and any other space size will work, as long as it is consistent. Notice that code blocks do not need any termination.\n",
    "\n",
    "Here is an example for using Python's \"if\" statement using code blocks:\n",
    "\n",
    "    if <statement is true>:\n",
    "        <do something>\n",
    "        ....\n",
    "        ....\n",
    "    elif <another statement is true>: # else if\n",
    "        <do something else>\n",
    "        ....\n",
    "        ....\n",
    "    else:\n",
    "        <do another thing>\n",
    "        ....\n",
    "        ....\n",
    "        "
   ]
  },
  {
   "cell_type": "code",
   "execution_count": null,
   "metadata": {},
   "outputs": [],
   "source": [
    "x = 2\n",
    "if x == 2:\n",
    "    print(\"x equals two!\")\n",
    "else:\n",
    "    print(\"x does not equal to two.\")"
   ]
  },
  {
   "cell_type": "markdown",
   "metadata": {},
   "source": [
    "A statement is evaulated as true if one of the following is correct: 1. The \"True\" boolean variable is given, or calculated using an expression, such as an arithmetic comparison. 2. An object which is not considered \"empty\" is passed.\n",
    "\n",
    "Here are some examples for objects which are considered as empty: 1. An empty string: \"\" 2. An empty list: [] 3. The number zero: 0 4. The false boolean variable: False"
   ]
  },
  {
   "cell_type": "code",
   "execution_count": null,
   "metadata": {},
   "outputs": [],
   "source": []
  },
  {
   "cell_type": "code",
   "execution_count": null,
   "metadata": {},
   "outputs": [],
   "source": []
  },
  {
   "cell_type": "code",
   "execution_count": null,
   "metadata": {},
   "outputs": [],
   "source": []
  },
  {
   "cell_type": "markdown",
   "metadata": {},
   "source": [
    "# Loops\n",
    "There are two types of loops in Python, for and while."
   ]
  },
  {
   "cell_type": "markdown",
   "metadata": {},
   "source": [
    "## The \"for\" loop\n",
    "For loops iterate over a given sequence. Here is an example:\n",
    "    primes = [2, 3, 5, 7]\n",
    "    for prime in primes:\n",
    "        print(prime)\n",
    "        \n",
    "For loops can iterate over a sequence of numbers using the **`range`** and **`xrange`** functions. The difference between `range` and `xrange` is that the `range` function returns a new list with numbers of that specified range, whereas `xrange` returns an iterator, which is more efficient. (Python 3 uses the range function, which acts like `xrange`). Note that the range function is **zero based**."
   ]
  },
  {
   "cell_type": "code",
   "execution_count": null,
   "metadata": {},
   "outputs": [],
   "source": [
    "# Prints out the numbers 0,1,2,3,4\n",
    "for x in range(5):\n",
    "    print(x)\n",
    "\n",
    "# Prints out 3,4,5\n",
    "for x in range(3, 6):\n",
    "    print(x)\n",
    "\n",
    "# Prints out 3,5,7\n",
    "for x in range(3, 8, 2):\n",
    "    print(x)"
   ]
  },
  {
   "cell_type": "markdown",
   "metadata": {},
   "source": [
    "## \"while\" loops\n",
    "While loops repeat as long as a certain boolean condition is met. For example:"
   ]
  },
  {
   "cell_type": "code",
   "execution_count": null,
   "metadata": {
    "ExecuteTime": {
     "end_time": "2017-08-26T18:55:10.411959",
     "start_time": "2017-08-26T18:55:10.404232"
    },
    "collapsed": false,
    "jupyter": {
     "outputs_hidden": false
    }
   },
   "outputs": [],
   "source": [
    "count = 0\n",
    "while count < 5:\n",
    "    print(count)\n",
    "    count += 1  # This is the same as count = count + 1"
   ]
  },
  {
   "cell_type": "code",
   "execution_count": null,
   "metadata": {
    "ExecuteTime": {
     "end_time": "2017-08-26T18:59:39.257977",
     "start_time": "2017-08-26T18:59:39.247954"
    },
    "collapsed": false,
    "jupyter": {
     "outputs_hidden": false
    }
   },
   "outputs": [],
   "source": [
    "## compute the Greatest Common Denominator (GCD)\n",
    "a = 15\n",
    "b = 12\n",
    "\n",
    "while a!=b:\n",
    "    # put smaller number in a\n",
    "    (a, b) = (a, b) if a<b else (b, a)\n",
    "    b = b - a\n",
    "\n",
    "print(f\"The GCD is {a}\")"
   ]
  },
  {
   "cell_type": "markdown",
   "metadata": {},
   "source": [
    "## \"break\" and \"continue\" statements\n",
    "break is used to exit a for loop or a while loop, whereas continue is used to skip the current block, and return to the \"for\" or \"while\" statement. A few examples:"
   ]
  },
  {
   "cell_type": "code",
   "execution_count": null,
   "metadata": {},
   "outputs": [],
   "source": [
    "# Prints out 0,1,2,3,4\n",
    "\n",
    "count = 0\n",
    "while True:\n",
    "    print(count)\n",
    "    count += 1\n",
    "    if count >= 5:\n",
    "        break\n",
    "\n",
    "# Prints out only odd numbers - 1,3,5,7,9\n",
    "for x in range(10):\n",
    "    # Check if x is even\n",
    "    if x % 2 == 0:\n",
    "        continue\n",
    "    print(x)"
   ]
  },
  {
   "cell_type": "markdown",
   "metadata": {},
   "source": [
    "## can we use \"else\" clause for loops?"
   ]
  },
  {
   "cell_type": "code",
   "execution_count": null,
   "metadata": {
    "ExecuteTime": {
     "end_time": "2017-08-26T19:01:50.433845",
     "start_time": "2017-08-26T19:01:50.420247"
    },
    "collapsed": false,
    "jupyter": {
     "outputs_hidden": false
    }
   },
   "outputs": [],
   "source": [
    "# Prints out 0,1,2,3,4 and then it prints \"count value reached 5\"\n",
    "\n",
    "count=0\n",
    "while(count<5):\n",
    "    print(count)\n",
    "    count +=1\n",
    "else:\n",
    "    print(f\"count value reached {count}\")\n",
    "\n",
    "# Prints out 1,2,3,4\n",
    "for i in range(1, 10):\n",
    "    if(i % 5 == 0):\n",
    "        break\n",
    "    print(i)\n",
    "else:\n",
    "    print(\"this is not printed because for loop is terminated because of break but not due to fail in condition\")"
   ]
  },
  {
   "cell_type": "code",
   "execution_count": null,
   "metadata": {},
   "outputs": [],
   "source": []
  },
  {
   "cell_type": "code",
   "execution_count": null,
   "metadata": {},
   "outputs": [],
   "source": []
  },
  {
   "cell_type": "markdown",
   "metadata": {},
   "source": [
    "# Functions and methods\n",
    "Functions are a convenient way to divide your code into useful blocks, allowing us to order our code, make it more readable, reuse it and save some time. Also functions are a key way to define interfaces so programmers can share their code."
   ]
  },
  {
   "cell_type": "markdown",
   "metadata": {},
   "source": [
    "As we have seen on previous tutorials, Python makes use of blocks.\n",
    "\n",
    "A block is a area of code of written in the format of:\n",
    "    block_head:\n",
    "        1st block line\n",
    "        2nd block line\n",
    "        \n",
    "Where a block line is more Python code (even another block), and the block head is of the following format: block_keyword block_name(argument1,argument2, ...) Block keywords you already know are \"if\", \"for\", and \"while\".\n",
    "\n",
    "Functions in python are defined using the block keyword \"def\", followed with the function's name as the block's name. For example:"
   ]
  },
  {
   "cell_type": "code",
   "execution_count": null,
   "metadata": {
    "ExecuteTime": {
     "end_time": "2017-08-26T18:28:04.975896",
     "start_time": "2017-08-26T18:28:04.970924"
    }
   },
   "outputs": [],
   "source": [
    "def my_function():\n",
    "    print(\"Hello From My Function!\")"
   ]
  },
  {
   "cell_type": "code",
   "execution_count": null,
   "metadata": {
    "ExecuteTime": {
     "end_time": "2017-08-26T18:28:13.859943",
     "start_time": "2017-08-26T18:28:13.855067"
    },
    "collapsed": false,
    "jupyter": {
     "outputs_hidden": false
    }
   },
   "outputs": [],
   "source": [
    "my_function()"
   ]
  },
  {
   "cell_type": "markdown",
   "metadata": {},
   "source": [
    "Functions may also receive arguments (variables passed from the caller to the function). For example:"
   ]
  },
  {
   "cell_type": "code",
   "execution_count": null,
   "metadata": {
    "ExecuteTime": {
     "end_time": "2017-08-26T18:28:42.691581",
     "start_time": "2017-08-26T18:28:42.685838"
    }
   },
   "outputs": [],
   "source": [
    "def my_function_with_args(username, greeting):\n",
    "    print(\"Hello, %s , From My Function!, I wish you %s\"%(username, greeting))"
   ]
  },
  {
   "cell_type": "code",
   "execution_count": null,
   "metadata": {
    "ExecuteTime": {
     "end_time": "2017-08-26T18:29:44.056602",
     "start_time": "2017-08-26T18:29:44.050090"
    },
    "collapsed": false,
    "jupyter": {
     "outputs_hidden": false
    }
   },
   "outputs": [],
   "source": [
    "my_function_with_args(\"Peter\", \"a wonderful day\")"
   ]
  },
  {
   "cell_type": "markdown",
   "metadata": {},
   "source": [
    "Functions may return a value to the caller, using the keyword- 'return' . For example:"
   ]
  },
  {
   "cell_type": "code",
   "execution_count": null,
   "metadata": {
    "ExecuteTime": {
     "end_time": "2017-08-26T18:30:10.512601",
     "start_time": "2017-08-26T18:30:10.506714"
    }
   },
   "outputs": [],
   "source": [
    "def sum_two_numbers(a, b):\n",
    "    return a + b"
   ]
  },
  {
   "cell_type": "code",
   "execution_count": null,
   "metadata": {
    "ExecuteTime": {
     "end_time": "2017-08-26T18:30:20.508194",
     "start_time": "2017-08-26T18:30:20.500440"
    },
    "collapsed": false,
    "jupyter": {
     "outputs_hidden": false
    },
    "scrolled": true
   },
   "outputs": [],
   "source": [
    "sum_two_numbers(5,19)"
   ]
  },
  {
   "cell_type": "markdown",
   "metadata": {
    "ExecuteTime": {
     "end_time": "2017-08-26T18:30:52.289753",
     "start_time": "2017-08-26T18:30:52.284527"
    }
   },
   "source": [
    "### How to call functions"
   ]
  },
  {
   "cell_type": "code",
   "execution_count": null,
   "metadata": {},
   "outputs": [],
   "source": []
  },
  {
   "cell_type": "code",
   "execution_count": null,
   "metadata": {},
   "outputs": [],
   "source": [
    "def my_function():\n",
    "    print(\"Hello From My Function!\")\n",
    "\n",
    "def my_function_with_args(username, greeting):\n",
    "    print(\"Hello, %s , From My Function!, I wish you %s\"%(username, greeting))\n",
    "\n",
    "def sum_two_numbers(a, b):\n",
    "    return a + b\n",
    "\n",
    "# print(a simple greeting)\n",
    "my_function()\n",
    "\n",
    "#prints - \"Hello, John Doe, From My Function!, I wish you a great year!\"\n",
    "my_function_with_args(\"John Doe\", \"a great year!\")\n",
    "\n",
    "# after this line x will hold the value 3!\n",
    "x = sum_two_numbers(1,2)"
   ]
  },
  {
   "cell_type": "markdown",
   "metadata": {},
   "source": [
    "In this exercise you'll use an existing function, \n",
    "and while adding your own to create a fully functional program.\n",
    "\n",
    "1. Add a function named `list_benefits()` that returns the following list of strings: *\"More organized code\"*, *\"More readable code\"*, *\"Easier code reuse\"*, *\"Allowing programmers to share and connect code together\"*\n",
    "\n",
    "2. Add a function named `build_sentence(info)` which receives a single argument containing a string and returns a sentence starting with the given string and ending with the string \" is a benefit of functions!\"\n",
    "\n",
    "3. Run and see all the functions work together!"
   ]
  },
  {
   "cell_type": "code",
   "execution_count": null,
   "metadata": {
    "ExecuteTime": {
     "end_time": "2017-08-26T18:32:41.698231",
     "start_time": "2017-08-26T18:32:41.665645"
    },
    "collapsed": false,
    "jupyter": {
     "outputs_hidden": false
    }
   },
   "outputs": [],
   "source": [
    "# Modify this function to return a list of strings as defined above\n",
    "def list_benefits():\n",
    "    pass\n",
    "\n",
    "# Modify this function to concatenate to each benefit - \" is a benefit of functions!\"\n",
    "def build_sentence(benefit):\n",
    "    pass\n",
    "\n",
    "def name_the_benefits_of_functions():\n",
    "    list_of_benefits = list_benefits()\n",
    "    for benefit in list_of_benefits:\n",
    "        print(build_sentence(benefit))\n",
    "\n",
    "name_the_benefits_of_functions()"
   ]
  },
  {
   "cell_type": "code",
   "execution_count": null,
   "metadata": {},
   "outputs": [],
   "source": []
  },
  {
   "cell_type": "code",
   "execution_count": null,
   "metadata": {},
   "outputs": [],
   "source": [
    "%%writefile example_1.py\n",
    "# https://en.wikipedia.org/wiki/Euclidean_algorithm \n",
    "def gcd(a, b):\n",
    "    if a == b:\n",
    "        return a\n",
    "    if a > b:\n",
    "        return gcd(a-b, b)\n",
    "    return gcd(a, b-a)"
   ]
  },
  {
   "cell_type": "code",
   "execution_count": null,
   "metadata": {},
   "outputs": [],
   "source": [
    "from example_1 import gcd\n",
    "print(gcd(144, 80))"
   ]
  },
  {
   "cell_type": "code",
   "execution_count": null,
   "metadata": {},
   "outputs": [],
   "source": []
  },
  {
   "cell_type": "code",
   "execution_count": null,
   "metadata": {},
   "outputs": [],
   "source": []
  },
  {
   "cell_type": "markdown",
   "metadata": {},
   "source": [
    "## Methods\n",
    "Methods are very similar to functions with the difference that, typically, a method associated with an objects.\n"
   ]
  },
  {
   "cell_type": "code",
   "execution_count": null,
   "metadata": {
    "ExecuteTime": {
     "end_time": "2017-08-26T18:36:07.801983",
     "start_time": "2017-08-26T18:36:07.795887"
    },
    "collapsed": false,
    "jupyter": {
     "outputs_hidden": false
    }
   },
   "outputs": [],
   "source": [
    "s = \"Hello WORLD\"\n",
    "s.lower()"
   ]
  },
  {
   "cell_type": "code",
   "execution_count": null,
   "metadata": {
    "ExecuteTime": {
     "end_time": "2017-08-26T18:36:43.926870",
     "start_time": "2017-08-26T18:36:43.920461"
    },
    "collapsed": false,
    "jupyter": {
     "outputs_hidden": false
    }
   },
   "outputs": [],
   "source": [
    "3.75.as_integer_ratio()"
   ]
  },
  {
   "cell_type": "markdown",
   "metadata": {},
   "source": [
    "**Hint:** while typing in the notebook or at the `ipython` prompt use the [TAB]-key after adding a \".\" (period) behind an object to see available methods:\n",
    "\n",
    "1. Type the name of an already defined object: `s`\n",
    "2. Add a period \".\" and hit the [TAB]-key: `s.`  $\\leftarrow$ This should show a list of available methods to a string.\n",
    "\n",
    "![](figs/tab-key-methods.png)"
   ]
  },
  {
   "cell_type": "code",
   "execution_count": null,
   "metadata": {},
   "outputs": [],
   "source": []
  },
  {
   "cell_type": "code",
   "execution_count": null,
   "metadata": {},
   "outputs": [],
   "source": []
  },
  {
   "cell_type": "markdown",
   "metadata": {},
   "source": [
    "# Plotting something\n",
    "- Let's put some of our knowledge about lists and functions to use.\n",
    "- The following examples will create list of values, and then graph them.\n",
    "- We use a module of the Matplotlib library https://matplotlib.org/ The web-site provides detailed documentation and a wealth of examples. \n",
    "<img src=\"https://matplotlib.org/_static/logo2.svg\" style=\"top:5px;width:200px;right:5px;position:absolute\" />"
   ]
  },
  {
   "cell_type": "code",
   "execution_count": null,
   "metadata": {
    "ExecuteTime": {
     "end_time": "2017-08-26T14:56:26.682438",
     "start_time": "2017-08-26T14:56:26.390777"
    }
   },
   "outputs": [],
   "source": [
    "# These two lines are critical to using matplotlib within the noteboook\n",
    "%matplotlib inline\n",
    "import matplotlib.pyplot as plt"
   ]
  },
  {
   "cell_type": "code",
   "execution_count": null,
   "metadata": {
    "ExecuteTime": {
     "end_time": "2017-08-26T14:57:15.324487",
     "start_time": "2017-08-26T14:57:15.317285"
    },
    "collapsed": false,
    "jupyter": {
     "outputs_hidden": false
    }
   },
   "outputs": [],
   "source": [
    "x = range(10)\n",
    "x"
   ]
  },
  {
   "cell_type": "code",
   "execution_count": null,
   "metadata": {
    "ExecuteTime": {
     "end_time": "2017-08-26T15:17:14.169368",
     "start_time": "2017-08-26T15:17:14.164926"
    },
    "collapsed": false,
    "jupyter": {
     "outputs_hidden": false
    }
   },
   "outputs": [],
   "source": [
    "x = [float(i-50)/50.0 for i in range(100)]"
   ]
  },
  {
   "cell_type": "code",
   "execution_count": null,
   "metadata": {
    "ExecuteTime": {
     "end_time": "2017-08-27T10:48:02.543227",
     "start_time": "2017-08-27T10:48:02.538032"
    }
   },
   "outputs": [],
   "source": [
    "from math import *"
   ]
  },
  {
   "cell_type": "code",
   "execution_count": null,
   "metadata": {
    "ExecuteTime": {
     "end_time": "2017-08-26T15:20:00.166407",
     "start_time": "2017-08-26T15:20:00.160083"
    },
    "collapsed": false,
    "jupyter": {
     "outputs_hidden": false
    }
   },
   "outputs": [],
   "source": [
    "y = [ xx**2 for xx in x]\n",
    "y2 = [xx**3 for xx in x]"
   ]
  },
  {
   "cell_type": "code",
   "execution_count": null,
   "metadata": {
    "ExecuteTime": {
     "end_time": "2017-08-26T15:22:29.612777",
     "start_time": "2017-08-26T15:22:29.433026"
    },
    "collapsed": false,
    "jupyter": {
     "outputs_hidden": false
    }
   },
   "outputs": [],
   "source": [
    "plt.plot(x, y, label=\"x^2\")\n",
    "plt.plot(x, y2, label=\"x^3\")\n",
    "plt.legend(loc=\"best\")\n",
    "plt.title(\"Exponential Functions\")"
   ]
  },
  {
   "cell_type": "code",
   "execution_count": null,
   "metadata": {
    "ExecuteTime": {
     "end_time": "2017-08-26T15:25:20.370577",
     "start_time": "2017-08-26T15:25:20.365675"
    },
    "collapsed": false,
    "jupyter": {
     "outputs_hidden": false
    }
   },
   "outputs": [],
   "source": [
    "theta = [ pi*0.02*float(t-50) for t in range (100)]\n",
    "theta[:10]"
   ]
  },
  {
   "cell_type": "code",
   "execution_count": null,
   "metadata": {
    "ExecuteTime": {
     "end_time": "2017-08-26T15:25:25.819999",
     "start_time": "2017-08-26T15:25:25.814734"
    }
   },
   "outputs": [],
   "source": [
    "x = [sin(t) for t in theta]\n",
    "y = [cos(t) for t in theta]"
   ]
  },
  {
   "cell_type": "code",
   "execution_count": null,
   "metadata": {
    "ExecuteTime": {
     "end_time": "2017-08-26T15:25:56.663179",
     "start_time": "2017-08-26T15:25:56.492964"
    },
    "collapsed": false,
    "jupyter": {
     "outputs_hidden": false
    }
   },
   "outputs": [],
   "source": [
    "plt.figure(figsize=(6,6))\n",
    "plt.plot(x,y)"
   ]
  }
 ],
 "metadata": {
  "hide_input": false,
  "kernelspec": {
   "display_name": "Python 3",
   "language": "python",
   "name": "python3"
  },
  "language_info": {
   "codemirror_mode": {
    "name": "ipython",
    "version": 3
   },
   "file_extension": ".py",
   "mimetype": "text/x-python",
   "name": "python",
   "nbconvert_exporter": "python",
   "pygments_lexer": "ipython3",
   "version": "3.8.6"
  },
  "toc": {
   "nav_menu": {
    "height": "12px",
    "width": "252px"
   },
   "navigate_menu": true,
   "number_sections": true,
   "sideBar": true,
   "threshold": 4,
   "toc_cell": false,
   "toc_section_display": "block",
   "toc_window_display": true
  }
 },
 "nbformat": 4,
 "nbformat_minor": 4
}
