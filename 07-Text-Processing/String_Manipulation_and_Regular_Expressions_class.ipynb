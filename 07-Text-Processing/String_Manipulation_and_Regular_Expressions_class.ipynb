{
 "cells": [
  {
   "cell_type": "markdown",
   "id": "3b85553cec1db57a",
   "metadata": {},
   "source": [
    "# String Manipulation and Regular Expressions\n",
    "\n",
    "**Whirlwind Tour of Python** by Jake VanderPlas\n",
    "\n",
    "https://jakevdp.github.io/WhirlwindTourOfPython/14-strings-and-regular-expressions.html\n",
    "\n",
    "Github resources:\n",
    "\n",
    "https://github.com/jakevdp/WhirlwindTourOfPython\n",
    "\n",
    "Other resources:\n",
    "- **Regular Expressions: Regexes in Python (Part 1)** https://realpython.com/regex-python/\n",
    "\n",
    "- **Python Book - Regular expressions** https://book.onpy.dev/ch02-numbers-strings/s09-regular-expressions\n",
    "\n"
   ]
  },
  {
   "cell_type": "markdown",
   "id": "ca45ddbc3ba1a28a",
   "metadata": {},
   "source": [
    "## Simple String Manipulation in Python"
   ]
  },
  {
   "cell_type": "markdown",
   "id": "6cddb1bda82c2154",
   "metadata": {},
   "source": [
    "### Formatting strings: Adjusting case\n",
    "\n",
    "Python makes it quite easy to adjust the case of a string. Here we'll look at the `upper()`, `lower()`, `capitalize()`, `title()`, and `swapcase()` methods, using the following messy string as an example:"
   ]
  },
  {
   "cell_type": "code",
   "execution_count": 1,
   "id": "8089f932c2249c86",
   "metadata": {
    "ExecuteTime": {
     "end_time": "2024-09-28T01:02:32.306924Z",
     "start_time": "2024-09-28T01:02:32.298799Z"
    }
   },
   "outputs": [],
   "source": [
    "fox = \"tHe qUICk bROWn fOx.\""
   ]
  },
  {
   "cell_type": "code",
   "execution_count": 2,
   "id": "aea6c314c1152975",
   "metadata": {
    "ExecuteTime": {
     "end_time": "2024-09-28T01:02:32.352996Z",
     "start_time": "2024-09-28T01:02:32.339751Z"
    }
   },
   "outputs": [
    {
     "data": {
      "text/plain": [
       "'THE QUICK BROWN FOX.'"
      ]
     },
     "execution_count": 2,
     "metadata": {},
     "output_type": "execute_result"
    }
   ],
   "source": [
    "fox.upper()"
   ]
  },
  {
   "cell_type": "code",
   "execution_count": 3,
   "id": "dcbd13a495873625",
   "metadata": {
    "ExecuteTime": {
     "end_time": "2024-09-28T01:02:32.709714Z",
     "start_time": "2024-09-28T01:02:32.704929Z"
    }
   },
   "outputs": [
    {
     "data": {
      "text/plain": [
       "'the quick brown fox.'"
      ]
     },
     "execution_count": 3,
     "metadata": {},
     "output_type": "execute_result"
    }
   ],
   "source": [
    "fox.lower()"
   ]
  },
  {
   "cell_type": "code",
   "execution_count": 4,
   "id": "752439280365c9e5",
   "metadata": {
    "ExecuteTime": {
     "end_time": "2024-09-28T01:02:32.734707Z",
     "start_time": "2024-09-28T01:02:32.729882Z"
    }
   },
   "outputs": [
    {
     "data": {
      "text/plain": [
       "'The Quick Brown Fox.'"
      ]
     },
     "execution_count": 4,
     "metadata": {},
     "output_type": "execute_result"
    }
   ],
   "source": [
    "fox.title()"
   ]
  },
  {
   "cell_type": "code",
   "execution_count": 5,
   "id": "faecfe8e6209f173",
   "metadata": {
    "ExecuteTime": {
     "end_time": "2024-09-28T01:02:32.778188Z",
     "start_time": "2024-09-28T01:02:32.773274Z"
    }
   },
   "outputs": [
    {
     "data": {
      "text/plain": [
       "'The quick brown fox.'"
      ]
     },
     "execution_count": 5,
     "metadata": {},
     "output_type": "execute_result"
    }
   ],
   "source": [
    "fox.capitalize()"
   ]
  },
  {
   "cell_type": "code",
   "execution_count": 6,
   "id": "50a1ae025adf018",
   "metadata": {
    "ExecuteTime": {
     "end_time": "2024-09-28T01:02:32.829649Z",
     "start_time": "2024-09-28T01:02:32.824782Z"
    }
   },
   "outputs": [
    {
     "data": {
      "text/plain": [
       "'ThE QuicK BrowN FoX.'"
      ]
     },
     "execution_count": 6,
     "metadata": {},
     "output_type": "execute_result"
    }
   ],
   "source": [
    "fox.swapcase()"
   ]
  },
  {
   "cell_type": "markdown",
   "id": "a039f6ac67d49562",
   "metadata": {},
   "source": [
    "### Formatting strings: Adding and removing spaces\n",
    "\n",
    "Another common need is to remove spaces (or other characters) from the beginning or end of the string. The basic method of removing characters is the `strip()` method, which strips whitespace from the beginning and end of the line:"
   ]
  },
  {
   "cell_type": "code",
   "execution_count": 7,
   "id": "d66889e95192c660",
   "metadata": {
    "ExecuteTime": {
     "end_time": "2024-09-28T01:02:32.871859Z",
     "start_time": "2024-09-28T01:02:32.866555Z"
    }
   },
   "outputs": [
    {
     "data": {
      "text/plain": [
       "'this is the content'"
      ]
     },
     "execution_count": 7,
     "metadata": {},
     "output_type": "execute_result"
    }
   ],
   "source": [
    "line = '         this is the content         '\n",
    "line.strip()"
   ]
  },
  {
   "cell_type": "code",
   "execution_count": 8,
   "id": "a33a790f4cf0558c",
   "metadata": {
    "ExecuteTime": {
     "end_time": "2024-09-28T01:02:32.920745Z",
     "start_time": "2024-09-28T01:02:32.916654Z"
    }
   },
   "outputs": [
    {
     "data": {
      "text/plain": [
       "'         this is the content'"
      ]
     },
     "execution_count": 8,
     "metadata": {},
     "output_type": "execute_result"
    }
   ],
   "source": [
    "line.rstrip()"
   ]
  },
  {
   "cell_type": "code",
   "execution_count": 9,
   "id": "4b32be72dc52ca97",
   "metadata": {
    "ExecuteTime": {
     "end_time": "2024-09-28T01:02:32.995630Z",
     "start_time": "2024-09-28T01:02:32.990587Z"
    }
   },
   "outputs": [
    {
     "data": {
      "text/plain": [
       "'this is the content         '"
      ]
     },
     "execution_count": 9,
     "metadata": {},
     "output_type": "execute_result"
    }
   ],
   "source": [
    "line.lstrip()"
   ]
  },
  {
   "cell_type": "code",
   "execution_count": 10,
   "id": "39d80297fb5af3b",
   "metadata": {
    "ExecuteTime": {
     "end_time": "2024-09-28T01:02:33.053179Z",
     "start_time": "2024-09-28T01:02:33.048532Z"
    }
   },
   "outputs": [
    {
     "data": {
      "text/plain": [
       "'435'"
      ]
     },
     "execution_count": 10,
     "metadata": {},
     "output_type": "execute_result"
    }
   ],
   "source": [
    "num = \"000000000000435\"\n",
    "num.strip('0')"
   ]
  },
  {
   "cell_type": "markdown",
   "id": "56d54eb6d946c4af",
   "metadata": {},
   "source": [
    "The opposite of this operation, adding spaces or other characters, can be accomplished using the `center()`, `ljust()`, and `rjust()` methods.\n",
    "\n",
    "For example, we can use the `center()` method to center a given string within a given number of spaces:"
   ]
  },
  {
   "cell_type": "code",
   "execution_count": 11,
   "id": "199c0ecbb60f9434",
   "metadata": {
    "ExecuteTime": {
     "end_time": "2024-09-28T01:02:33.091361Z",
     "start_time": "2024-09-28T01:02:33.085852Z"
    }
   },
   "outputs": [
    {
     "data": {
      "text/plain": [
       "'     this is the content      '"
      ]
     },
     "execution_count": 11,
     "metadata": {},
     "output_type": "execute_result"
    }
   ],
   "source": [
    "line = \"this is the content\"\n",
    "line.center(30)"
   ]
  },
  {
   "cell_type": "code",
   "execution_count": 12,
   "id": "72110eb887e02488",
   "metadata": {
    "ExecuteTime": {
     "end_time": "2024-09-28T01:02:33.134987Z",
     "start_time": "2024-09-28T01:02:33.130088Z"
    }
   },
   "outputs": [
    {
     "data": {
      "text/plain": [
       "'this is the content           '"
      ]
     },
     "execution_count": 12,
     "metadata": {},
     "output_type": "execute_result"
    }
   ],
   "source": [
    "line.ljust(30)"
   ]
  },
  {
   "cell_type": "code",
   "execution_count": 13,
   "id": "2473d99e4ead38d0",
   "metadata": {
    "ExecuteTime": {
     "end_time": "2024-09-28T01:02:33.166370Z",
     "start_time": "2024-09-28T01:02:33.160992Z"
    }
   },
   "outputs": [
    {
     "data": {
      "text/plain": [
       "'0000000435'"
      ]
     },
     "execution_count": 13,
     "metadata": {},
     "output_type": "execute_result"
    }
   ],
   "source": [
    "'435'.rjust(10, '0')"
   ]
  },
  {
   "cell_type": "code",
   "execution_count": 14,
   "id": "6ccd8a7426316c40",
   "metadata": {
    "ExecuteTime": {
     "end_time": "2024-09-28T01:02:33.214849Z",
     "start_time": "2024-09-28T01:02:33.209982Z"
    }
   },
   "outputs": [
    {
     "data": {
      "text/plain": [
       "'0000000435'"
      ]
     },
     "execution_count": 14,
     "metadata": {},
     "output_type": "execute_result"
    }
   ],
   "source": [
    "'435'.zfill(10)"
   ]
  },
  {
   "cell_type": "markdown",
   "id": "d368ee9e58ea3a53",
   "metadata": {},
   "source": [
    "### Finding and replacing substrings\n",
    "\n",
    "If you want to find occurrences of a certain character in a string, the `find()/rfind()`, `index()/rindex()`, and `replace()` methods are the best built-in methods.\n",
    "\n",
    "`find()` and `index()` are very similar, in that they search for the first occurrence of a character or substring within a string, and return the index of the substring:\n",
    "\n"
   ]
  },
  {
   "cell_type": "code",
   "execution_count": 15,
   "id": "61d04f98bc82abef",
   "metadata": {
    "ExecuteTime": {
     "end_time": "2024-09-28T01:02:33.249671Z",
     "start_time": "2024-09-28T01:02:33.244639Z"
    }
   },
   "outputs": [
    {
     "data": {
      "text/plain": [
       "16"
      ]
     },
     "execution_count": 15,
     "metadata": {},
     "output_type": "execute_result"
    }
   ],
   "source": [
    "line = 'the quick brown fox jumped over a lazy dog'\n",
    "line.find('fox')"
   ]
  },
  {
   "cell_type": "code",
   "execution_count": 16,
   "id": "393ab15111324e09",
   "metadata": {
    "ExecuteTime": {
     "end_time": "2024-09-28T01:02:33.300153Z",
     "start_time": "2024-09-28T01:02:33.295031Z"
    }
   },
   "outputs": [
    {
     "data": {
      "text/plain": [
       "16"
      ]
     },
     "execution_count": 16,
     "metadata": {},
     "output_type": "execute_result"
    }
   ],
   "source": [
    "line.index('fox')"
   ]
  },
  {
   "cell_type": "markdown",
   "id": "1326a7260ab6bdbb",
   "metadata": {},
   "source": [
    "The only difference between `find()` and `index()` is their behavior when the search string is not found; `find()` returns -1, while `index()` raises a ValueError:"
   ]
  },
  {
   "cell_type": "code",
   "execution_count": 17,
   "id": "681457e2d3e24381",
   "metadata": {
    "ExecuteTime": {
     "end_time": "2024-09-28T01:02:33.339088Z",
     "start_time": "2024-09-28T01:02:33.333904Z"
    }
   },
   "outputs": [
    {
     "data": {
      "text/plain": [
       "-1"
      ]
     },
     "execution_count": 17,
     "metadata": {},
     "output_type": "execute_result"
    }
   ],
   "source": [
    "line.find('bear')"
   ]
  },
  {
   "cell_type": "code",
   "execution_count": 18,
   "id": "1f6b3f649d74713d",
   "metadata": {
    "ExecuteTime": {
     "end_time": "2024-09-28T01:02:33.691960Z",
     "start_time": "2024-09-28T01:02:33.387180Z"
    }
   },
   "outputs": [
    {
     "ename": "ValueError",
     "evalue": "substring not found",
     "output_type": "error",
     "traceback": [
      "\u001b[0;31m---------------------------------------------------------------------------\u001b[0m",
      "\u001b[0;31mValueError\u001b[0m                                Traceback (most recent call last)",
      "Cell \u001b[0;32mIn[18], line 1\u001b[0m\n\u001b[0;32m----> 1\u001b[0m \u001b[43mline\u001b[49m\u001b[38;5;241;43m.\u001b[39;49m\u001b[43mindex\u001b[49m\u001b[43m(\u001b[49m\u001b[38;5;124;43m'\u001b[39;49m\u001b[38;5;124;43mbear\u001b[39;49m\u001b[38;5;124;43m'\u001b[39;49m\u001b[43m)\u001b[49m\n",
      "\u001b[0;31mValueError\u001b[0m: substring not found"
     ]
    }
   ],
   "source": [
    "line.index('bear')"
   ]
  },
  {
   "cell_type": "markdown",
   "id": "428e75648faa58e2",
   "metadata": {},
   "source": [
    "The related 'rfind()' and 'rindex()' work similarly, except they search for the first occurrence from the end rather than the beginning of the string:"
   ]
  },
  {
   "cell_type": "code",
   "execution_count": 19,
   "id": "d7db58b9cf50aa2e",
   "metadata": {
    "ExecuteTime": {
     "end_time": "2024-09-28T01:30:18.076828Z",
     "start_time": "2024-09-28T01:30:18.060635Z"
    }
   },
   "outputs": [
    {
     "data": {
      "text/plain": [
       "35"
      ]
     },
     "execution_count": 19,
     "metadata": {},
     "output_type": "execute_result"
    }
   ],
   "source": [
    "line.rfind('a')"
   ]
  },
  {
   "cell_type": "markdown",
   "id": "ec7d5b8fd611f36e",
   "metadata": {},
   "source": [
    "For the special case of checking for a substring at the beginning or end of a string, Python provides the `startswith()` and `endswith()` methods:"
   ]
  },
  {
   "cell_type": "code",
   "execution_count": 21,
   "id": "e109dc00fd893a65",
   "metadata": {
    "ExecuteTime": {
     "end_time": "2024-09-28T01:30:22.759267Z",
     "start_time": "2024-09-28T01:30:22.751463Z"
    }
   },
   "outputs": [
    {
     "data": {
      "text/plain": [
       "True"
      ]
     },
     "execution_count": 21,
     "metadata": {},
     "output_type": "execute_result"
    }
   ],
   "source": [
    "line.endswith('dog')"
   ]
  },
  {
   "cell_type": "code",
   "execution_count": 22,
   "id": "96b2d6db6555ceb3",
   "metadata": {
    "ExecuteTime": {
     "end_time": "2024-09-28T01:30:23.146400Z",
     "start_time": "2024-09-28T01:30:23.140540Z"
    }
   },
   "outputs": [
    {
     "data": {
      "text/plain": [
       "False"
      ]
     },
     "execution_count": 22,
     "metadata": {},
     "output_type": "execute_result"
    }
   ],
   "source": [
    "line.startswith('fox')"
   ]
  },
  {
   "cell_type": "markdown",
   "id": "564374c9aa2fc7f8",
   "metadata": {},
   "source": [
    "To go one step further and replace a given substring with a new string, you can use the `replace()` method. Here, let's replace 'brown' with 'red':"
   ]
  },
  {
   "cell_type": "code",
   "execution_count": 23,
   "id": "a041dc6cc2e805d2",
   "metadata": {
    "ExecuteTime": {
     "end_time": "2024-09-28T01:30:23.776493Z",
     "start_time": "2024-09-28T01:30:23.771447Z"
    }
   },
   "outputs": [
    {
     "data": {
      "text/plain": [
       "'the quick red fox jumped over a lazy dog'"
      ]
     },
     "execution_count": 23,
     "metadata": {},
     "output_type": "execute_result"
    }
   ],
   "source": [
    "line.replace('brown', 'red')"
   ]
  },
  {
   "cell_type": "code",
   "execution_count": 24,
   "id": "da335e33a2e8004b",
   "metadata": {
    "ExecuteTime": {
     "end_time": "2024-09-28T01:30:24.393194Z",
     "start_time": "2024-09-28T01:30:24.388123Z"
    }
   },
   "outputs": [
    {
     "data": {
      "text/plain": [
       "'the quick br--wn f--x jumped --ver a lazy d--g'"
      ]
     },
     "execution_count": 24,
     "metadata": {},
     "output_type": "execute_result"
    }
   ],
   "source": [
    "line.replace('o', '--')"
   ]
  },
  {
   "cell_type": "markdown",
   "id": "84c6296949bd9c47",
   "metadata": {},
   "source": [
    "### Splitting and partitioning strings\n",
    "\n",
    "If you would like to find a substring and then split the string based on its location, the `partition()` and/or `split()` methods are what you're looking for. Both will return a sequence of substrings.\n",
    "\n",
    "The `partition()` method returns a tuple with three elements: the substring before the first instance of the split-point, the split-point itself, and the substring after:"
   ]
  },
  {
   "cell_type": "code",
   "execution_count": 25,
   "id": "864fd29fb86a5008",
   "metadata": {
    "ExecuteTime": {
     "end_time": "2024-09-28T01:30:25.009322Z",
     "start_time": "2024-09-28T01:30:25.002805Z"
    }
   },
   "outputs": [
    {
     "data": {
      "text/plain": [
       "('the quick brown ', 'fox', ' jumped over a lazy dog')"
      ]
     },
     "execution_count": 25,
     "metadata": {},
     "output_type": "execute_result"
    }
   ],
   "source": [
    "line.partition('fox')"
   ]
  },
  {
   "cell_type": "markdown",
   "id": "3d26c01618911539",
   "metadata": {},
   "source": [
    "The `rpartition()` method is similar, but searches from the right of the string.\n",
    "\n",
    "The `split()` method is perhaps more useful; it finds all instances of the split-point and returns the substrings in between. The default is to split on any whitespace, returning a list of the individual words in a string:"
   ]
  },
  {
   "cell_type": "code",
   "execution_count": 26,
   "id": "788aaf5ed66c9eab",
   "metadata": {
    "ExecuteTime": {
     "end_time": "2024-09-28T01:30:25.573058Z",
     "start_time": "2024-09-28T01:30:25.566716Z"
    }
   },
   "outputs": [
    {
     "data": {
      "text/plain": [
       "['the', 'quick', 'brown', 'fox', 'jumped', 'over', 'a', 'lazy', 'dog']"
      ]
     },
     "execution_count": 26,
     "metadata": {},
     "output_type": "execute_result"
    }
   ],
   "source": [
    "line.split()"
   ]
  },
  {
   "cell_type": "code",
   "execution_count": 27,
   "id": "ae59e98df952fd7c",
   "metadata": {
    "ExecuteTime": {
     "end_time": "2024-09-28T01:30:25.963204Z",
     "start_time": "2024-09-28T01:30:25.957686Z"
    }
   },
   "outputs": [
    {
     "data": {
      "text/plain": [
       "['matsushima-ya', 'aah matsushima-ya', 'matsushima-ya']"
      ]
     },
     "execution_count": 27,
     "metadata": {},
     "output_type": "execute_result"
    }
   ],
   "source": [
    "haiku = \"\"\"matsushima-ya\n",
    "aah matsushima-ya\n",
    "matsushima-ya\"\"\"\n",
    "\n",
    "haiku.splitlines()"
   ]
  },
  {
   "cell_type": "markdown",
   "id": "26af96cd724aa235",
   "metadata": {},
   "source": [
    "Note that if you would like to undo a `split()`, you can use the `join()` method, which returns a string built from a split-point and an iterable:"
   ]
  },
  {
   "cell_type": "code",
   "execution_count": 28,
   "id": "999e2f5a9620e4b1",
   "metadata": {
    "ExecuteTime": {
     "end_time": "2024-09-28T01:30:26.858122Z",
     "start_time": "2024-09-28T01:30:26.852294Z"
    }
   },
   "outputs": [
    {
     "data": {
      "text/plain": [
       "'1--2--3'"
      ]
     },
     "execution_count": 28,
     "metadata": {},
     "output_type": "execute_result"
    }
   ],
   "source": [
    "'--'.join(['1', '2', '3'])"
   ]
  },
  {
   "cell_type": "markdown",
   "id": "d732da2cf450c6f7",
   "metadata": {},
   "source": [
    "A common pattern is to use the special character \"\\n\" (newline) to join together lines that have been previously split, and recover the input:"
   ]
  },
  {
   "cell_type": "code",
   "execution_count": 29,
   "id": "83f874b899644b5b",
   "metadata": {
    "ExecuteTime": {
     "end_time": "2024-09-28T01:30:27.389084Z",
     "start_time": "2024-09-28T01:30:27.384530Z"
    }
   },
   "outputs": [
    {
     "name": "stdout",
     "output_type": "stream",
     "text": [
      "matsushima-ya\n",
      "aah matsushima-ya\n",
      "matsushima-ya\n"
     ]
    }
   ],
   "source": [
    "print(\"\\n\".join(['matsushima-ya', 'aah matsushima-ya', 'matsushima-ya']))"
   ]
  },
  {
   "cell_type": "markdown",
   "id": "154575db210ef86c",
   "metadata": {},
   "source": [
    "## Format Strings\n",
    "\n",
    "In the preceding methods, we have learned how to extract values from strings, and to manipulate strings themselves into desired formats. Another use of string methods is to manipulate string representations of values of other types. Of course, string representations can always be found using the `str()` function; for example:"
   ]
  },
  {
   "cell_type": "code",
   "execution_count": 30,
   "id": "950377d1241ff853",
   "metadata": {
    "ExecuteTime": {
     "end_time": "2024-09-28T01:30:28.025562Z",
     "start_time": "2024-09-28T01:30:28.019906Z"
    }
   },
   "outputs": [
    {
     "data": {
      "text/plain": [
       "'3.14159'"
      ]
     },
     "execution_count": 30,
     "metadata": {},
     "output_type": "execute_result"
    }
   ],
   "source": [
    "pi = 3.14159\n",
    "str(pi)"
   ]
  },
  {
   "cell_type": "code",
   "execution_count": 31,
   "id": "7918826380de41fa",
   "metadata": {
    "ExecuteTime": {
     "end_time": "2024-09-28T01:30:28.301213Z",
     "start_time": "2024-09-28T01:30:28.296032Z"
    }
   },
   "outputs": [
    {
     "data": {
      "text/plain": [
       "'The value of pi is 3.14159'"
      ]
     },
     "execution_count": 31,
     "metadata": {},
     "output_type": "execute_result"
    }
   ],
   "source": [
    "\"The value of pi is \" + str(pi)"
   ]
  },
  {
   "cell_type": "code",
   "execution_count": 32,
   "id": "904e9af9b4c0b897",
   "metadata": {
    "ExecuteTime": {
     "end_time": "2024-09-28T01:30:28.539140Z",
     "start_time": "2024-09-28T01:30:28.533410Z"
    }
   },
   "outputs": [
    {
     "data": {
      "text/plain": [
       "'The value of pi is 3.14159'"
      ]
     },
     "execution_count": 32,
     "metadata": {},
     "output_type": "execute_result"
    }
   ],
   "source": [
    "\"The value of pi is {}\".format(pi)"
   ]
  },
  {
   "cell_type": "code",
   "execution_count": 33,
   "id": "2676bc28e5562da0",
   "metadata": {
    "ExecuteTime": {
     "end_time": "2024-09-28T01:30:28.823427Z",
     "start_time": "2024-09-28T01:30:28.818214Z"
    }
   },
   "outputs": [
    {
     "data": {
      "text/plain": [
       "'First letter: A. Last letter: Z.'"
      ]
     },
     "execution_count": 33,
     "metadata": {},
     "output_type": "execute_result"
    }
   ],
   "source": [
    "\"\"\"First letter: {0}. Last letter: {1}.\"\"\".format('A', 'Z')"
   ]
  },
  {
   "cell_type": "code",
   "execution_count": 34,
   "id": "ad19a21861a3a3da",
   "metadata": {
    "ExecuteTime": {
     "end_time": "2024-09-28T01:30:29.047739Z",
     "start_time": "2024-09-28T01:30:29.042213Z"
    }
   },
   "outputs": [
    {
     "data": {
      "text/plain": [
       "'pi = 3.142'"
      ]
     },
     "execution_count": 34,
     "metadata": {},
     "output_type": "execute_result"
    }
   ],
   "source": [
    "\"pi = {0:.3f}\".format(pi)"
   ]
  },
  {
   "cell_type": "markdown",
   "id": "13c562b713a9add3",
   "metadata": {},
   "source": [
    "As before, here the \"0\" refers to the index of the value to be inserted. The \":\" marks that format codes will follow. The \".3f\" encodes the desired precision: three digits beyond the decimal point, floating-point format."
   ]
  },
  {
   "cell_type": "markdown",
   "id": "d0e468030cfe7e6f",
   "metadata": {},
   "source": [
    "## Flexible Pattern Matching with Regular Expressions\n",
    "\n",
    "Fundamentally, regular expressions are a means of flexible pattern matching in strings. If you frequently use the command-line, you are probably familiar with this type of flexible matching with the \"*\" character, which acts as a wildcard.\n",
    "\n",
    "Regular expressions generalize this \"wildcard\" idea to a wide range of flexible string-matching syntaxes. The Python interface to regular expressions is contained in the built-in re module; as a simple example, let's use it to duplicate the functionality of the string `split()` method:"
   ]
  },
  {
   "cell_type": "code",
   "execution_count": 35,
   "id": "1ff1f75d0e974dc2",
   "metadata": {
    "ExecuteTime": {
     "end_time": "2024-09-28T01:30:29.723134Z",
     "start_time": "2024-09-28T01:30:29.715759Z"
    }
   },
   "outputs": [
    {
     "data": {
      "text/plain": [
       "['the', 'quick', 'brown', 'fox', 'jumped', 'over', 'a', 'lazy', 'dog']"
      ]
     },
     "execution_count": 35,
     "metadata": {},
     "output_type": "execute_result"
    }
   ],
   "source": [
    "import re\n",
    "regex = re.compile('\\s+')\n",
    "regex.split(line)"
   ]
  },
  {
   "cell_type": "markdown",
   "id": "b6ec3ca26ec31e64",
   "metadata": {},
   "source": [
    "Here we've first compiled a regular expression, then used it to split a string. Just as Python's `split()` method returns a list of all substrings between whitespace, the regular expression split() method returns a list of all substrings between matches to the input pattern.\n",
    "\n",
    "In this case, the input is \"\\s+\": \"\\s\" is a special character that matches any whitespace (space, tab, newline, etc.), and the \"+\" is a character that indicates one or more of the entity preceding it. Thus, the regular expression matches any substring consisting of one or more spaces.\n",
    "\n",
    "The `split()` method here is basically a convenience routine built upon this pattern matching behavior; more fundamental is the `match()` method, which will tell you whether the beginning of a string matches the pattern:"
   ]
  },
  {
   "cell_type": "code",
   "execution_count": 36,
   "id": "9fead4f67d91acfe",
   "metadata": {
    "ExecuteTime": {
     "end_time": "2024-09-28T01:30:30.175854Z",
     "start_time": "2024-09-28T01:30:30.170501Z"
    }
   },
   "outputs": [
    {
     "name": "stdout",
     "output_type": "stream",
     "text": [
      "'     ' matches\n",
      "'abc  ' does not match\n",
      "'  abc' matches\n"
     ]
    }
   ],
   "source": [
    "for s in [\"     \", \"abc  \", \"  abc\"]:\n",
    "    if regex.match(s):\n",
    "        print(repr(s), \"matches\")\n",
    "    else:\n",
    "        print(repr(s), \"does not match\")"
   ]
  },
  {
   "cell_type": "markdown",
   "id": "39418b55068a57cf",
   "metadata": {},
   "source": [
    "Like `split()`, there are similar convenience routines to find the first match (like `str.index()` or `str.find()`) or to find and replace (like `str.replace()`). We'll again use the line from before:"
   ]
  },
  {
   "cell_type": "code",
   "execution_count": 37,
   "id": "b5601233557af36",
   "metadata": {
    "ExecuteTime": {
     "end_time": "2024-09-28T01:30:30.596481Z",
     "start_time": "2024-09-28T01:30:30.592735Z"
    }
   },
   "outputs": [],
   "source": [
    "line = 'the quick brown fox jumped over a lazy dog'"
   ]
  },
  {
   "cell_type": "code",
   "execution_count": 38,
   "id": "3a19548cfdc4ad91",
   "metadata": {
    "ExecuteTime": {
     "end_time": "2024-09-28T01:30:30.879085Z",
     "start_time": "2024-09-28T01:30:30.873265Z"
    }
   },
   "outputs": [
    {
     "data": {
      "text/plain": [
       "16"
      ]
     },
     "execution_count": 38,
     "metadata": {},
     "output_type": "execute_result"
    }
   ],
   "source": [
    "line.index('fox')"
   ]
  },
  {
   "cell_type": "code",
   "execution_count": 39,
   "id": "d2c13f2c024538de",
   "metadata": {
    "ExecuteTime": {
     "end_time": "2024-09-28T01:30:31.111019Z",
     "start_time": "2024-09-28T01:30:31.105151Z"
    }
   },
   "outputs": [
    {
     "data": {
      "text/plain": [
       "16"
      ]
     },
     "execution_count": 39,
     "metadata": {},
     "output_type": "execute_result"
    }
   ],
   "source": [
    "regex = re.compile('fox')\n",
    "match = regex.search(line)\n",
    "match.start()"
   ]
  },
  {
   "cell_type": "markdown",
   "id": "e1470c1b468f2c1d",
   "metadata": {},
   "source": [
    "Similarly, the `regex.sub()` method operates much like `str.replace()`:"
   ]
  },
  {
   "cell_type": "code",
   "execution_count": 40,
   "id": "31eccc4b95880143",
   "metadata": {
    "ExecuteTime": {
     "end_time": "2024-09-28T01:30:31.586684Z",
     "start_time": "2024-09-28T01:30:31.579382Z"
    }
   },
   "outputs": [
    {
     "data": {
      "text/plain": [
       "'the quick brown BEAR jumped over a lazy dog'"
      ]
     },
     "execution_count": 40,
     "metadata": {},
     "output_type": "execute_result"
    }
   ],
   "source": [
    "line.replace('fox', 'BEAR')"
   ]
  },
  {
   "cell_type": "code",
   "execution_count": 41,
   "id": "9f8a1cd2fad9144f",
   "metadata": {
    "ExecuteTime": {
     "end_time": "2024-09-28T01:30:31.858350Z",
     "start_time": "2024-09-28T01:30:31.853533Z"
    }
   },
   "outputs": [
    {
     "data": {
      "text/plain": [
       "'the quick brown BEAR jumped over a lazy dog'"
      ]
     },
     "execution_count": 41,
     "metadata": {},
     "output_type": "execute_result"
    }
   ],
   "source": [
    "regex.sub('BEAR', line)"
   ]
  },
  {
   "cell_type": "markdown",
   "id": "db9047a95eaf3a44",
   "metadata": {},
   "source": [
    "### Regular expressions offer far more flexibility"
   ]
  },
  {
   "cell_type": "code",
   "execution_count": 42,
   "id": "67bcbb6cea18a107",
   "metadata": {
    "ExecuteTime": {
     "end_time": "2024-09-28T01:30:32.316531Z",
     "start_time": "2024-09-28T01:30:32.312491Z"
    }
   },
   "outputs": [],
   "source": [
    "email = re.compile('\\w+@\\w+\\.[a-z]{3}')"
   ]
  },
  {
   "cell_type": "code",
   "execution_count": 43,
   "id": "6d67dc883a8a51fa",
   "metadata": {
    "ExecuteTime": {
     "end_time": "2024-09-28T01:30:32.541860Z",
     "start_time": "2024-09-28T01:30:32.536272Z"
    }
   },
   "outputs": [
    {
     "data": {
      "text/plain": [
       "['guido@python.org', 'guido@google.com']"
      ]
     },
     "execution_count": 43,
     "metadata": {},
     "output_type": "execute_result"
    }
   ],
   "source": [
    "text = \"To email Guido, try guido@python.org or the older address guido@google.com.\"\n",
    "email.findall(text)"
   ]
  },
  {
   "cell_type": "markdown",
   "id": "b04bfdb31f91c9f0",
   "metadata": {},
   "source": [
    "### Basics of regular expression syntax"
   ]
  },
  {
   "cell_type": "markdown",
   "id": "a1e7fd4b4d6c3c23",
   "metadata": {},
   "source": [
    "#### Simple strings are matched directly\n"
   ]
  },
  {
   "cell_type": "code",
   "execution_count": 44,
   "id": "d1fed09dca0d3f6b",
   "metadata": {
    "ExecuteTime": {
     "end_time": "2024-09-28T01:30:33.240271Z",
     "start_time": "2024-09-28T01:30:33.233863Z"
    }
   },
   "outputs": [
    {
     "data": {
      "text/plain": [
       "['ion']"
      ]
     },
     "execution_count": 44,
     "metadata": {},
     "output_type": "execute_result"
    }
   ],
   "source": [
    "regex = re.compile('ion')\n",
    "regex.findall('Great Expectations')"
   ]
  },
  {
   "cell_type": "markdown",
   "id": "8069bf8e645ea9c9",
   "metadata": {},
   "source": [
    "\n",
    "#### Some characters have special meanings\n",
    "\n",
    "There are a handful of characters that have special meanings within regular expressions: **. ^ $ * + ? { } [ ] \\ | ( )**\n",
    "\n",
    "You can escape them with a back-slash:"
   ]
  },
  {
   "cell_type": "code",
   "execution_count": 45,
   "id": "9c62123b09bf24c1",
   "metadata": {
    "ExecuteTime": {
     "end_time": "2024-09-28T01:30:33.850284Z",
     "start_time": "2024-09-28T01:30:33.845829Z"
    }
   },
   "outputs": [
    {
     "data": {
      "text/plain": [
       "['$']"
      ]
     },
     "execution_count": 45,
     "metadata": {},
     "output_type": "execute_result"
    }
   ],
   "source": [
    "regex = re.compile(r'\\$')\n",
    "regex.findall(\"the cost is $20\")"
   ]
  },
  {
   "cell_type": "markdown",
   "id": "86cc88129216e5d0",
   "metadata": {},
   "source": [
    "The r preface in r'\\$' indicates a raw string; in standard Python strings, the backslash is used to indicate special characters. For example, a tab is indicated by \"\\t\":"
   ]
  },
  {
   "cell_type": "code",
   "execution_count": 46,
   "id": "bd28bff4474cc16e",
   "metadata": {
    "ExecuteTime": {
     "end_time": "2024-09-28T01:30:34.318308Z",
     "start_time": "2024-09-28T01:30:34.313780Z"
    }
   },
   "outputs": [
    {
     "name": "stdout",
     "output_type": "stream",
     "text": [
      "a\tb\tc\n"
     ]
    }
   ],
   "source": [
    "print('a\\tb\\tc')"
   ]
  },
  {
   "cell_type": "code",
   "execution_count": 47,
   "id": "a86f91df2829d6bf",
   "metadata": {
    "ExecuteTime": {
     "end_time": "2024-09-28T01:30:34.572474Z",
     "start_time": "2024-09-28T01:30:34.568408Z"
    }
   },
   "outputs": [
    {
     "name": "stdout",
     "output_type": "stream",
     "text": [
      "a\\tb\\tc\n"
     ]
    }
   ],
   "source": [
    "print(r'a\\tb\\tc')"
   ]
  },
  {
   "cell_type": "markdown",
   "id": "a125c74d184098ae",
   "metadata": {},
   "source": [
    "#### Special characters can match character groups\n",
    "\n",
    "Special characters match specified groups of characters, and we've seen them before. In the email address regexp from before, we used the character \"\\w\", which is a special marker matching any alphanumeric character. Similarly, in the simple split() example, we also saw \"\\s\", a special marker indicating any whitespace character."
   ]
  },
  {
   "cell_type": "code",
   "execution_count": 48,
   "id": "346c2b538944d65d",
   "metadata": {
    "ExecuteTime": {
     "end_time": "2024-09-28T01:30:35.036420Z",
     "start_time": "2024-09-28T01:30:35.030621Z"
    }
   },
   "outputs": [
    {
     "data": {
      "text/plain": [
       "['e f', 'x i', 's 9', 's o']"
      ]
     },
     "execution_count": 48,
     "metadata": {},
     "output_type": "execute_result"
    }
   ],
   "source": [
    "regex = re.compile(r'\\w\\s\\w')\n",
    "regex.findall('the fox is 9 years old')"
   ]
  },
  {
   "cell_type": "markdown",
   "id": "7153cbb7f8b918c4",
   "metadata": {},
   "source": [
    "The following table lists a few of these characters that are commonly useful:\n",
    "\n",
    "|Character\t|Description\t\t|Character\t|Description\n",
    "|:----------|:------------------|:----------|:------------------------------------\n",
    "|\"\\d\"\t|Match any digit\t\t|\"\\D\"\t|Match any non-digit\n",
    "|\"\\s\"\t|Match any whitespace\t\t|\"\\S\"\t|Match any non-whitespace\n",
    "|\"\\w\"\t|Match any alphanumeric char\t\t|\"\\W\"\t|Match any non-alphanumeric char\n",
    "\n",
    "This is not a comprehensive list or description; for more details, see Python's regular expression syntax documentation. \n",
    "\n",
    "https://docs.python.org/3/library/re.html#re-syntax"
   ]
  },
  {
   "cell_type": "markdown",
   "id": "61cafac8c603ebda",
   "metadata": {},
   "source": [
    "#### Square brackets match custom character groups\n",
    "\n",
    "The following will match any lower-case vowel:"
   ]
  },
  {
   "cell_type": "code",
   "execution_count": 49,
   "id": "da43bad0894ede24",
   "metadata": {
    "ExecuteTime": {
     "end_time": "2024-09-28T01:30:35.751627Z",
     "start_time": "2024-09-28T01:30:35.742462Z"
    }
   },
   "outputs": [
    {
     "data": {
      "text/plain": [
       "['c', 'ns', 'q', '', 'nt', '', 'l']"
      ]
     },
     "execution_count": 49,
     "metadata": {},
     "output_type": "execute_result"
    }
   ],
   "source": [
    "regex = re.compile('[aeiou]')\n",
    "regex.split('consequential')"
   ]
  },
  {
   "cell_type": "markdown",
   "id": "9205d25864f31f1d",
   "metadata": {},
   "source": [
    "Similarly, you can use a dash to specify a range: for example, \"[a-z]\" will match any lower-case letter, and \"[1-3]\" will match any of \"1\", \"2\", or \"3\":"
   ]
  },
  {
   "cell_type": "code",
   "execution_count": 50,
   "id": "4daad6c986c4da7c",
   "metadata": {
    "ExecuteTime": {
     "end_time": "2024-09-28T01:30:36.202565Z",
     "start_time": "2024-09-28T01:30:36.196549Z"
    }
   },
   "outputs": [
    {
     "data": {
      "text/plain": [
       "['G2', 'H6']"
      ]
     },
     "execution_count": 50,
     "metadata": {},
     "output_type": "execute_result"
    }
   ],
   "source": [
    "regex = re.compile('[A-Z][0-9]')\n",
    "regex.findall('1043879, G2, H6')"
   ]
  },
  {
   "cell_type": "markdown",
   "id": "270aa54f1deed04a",
   "metadata": {},
   "source": [
    "#### Wildcards match repeated characters\n",
    "\n",
    "If you would like to match a string with, say, three alphanumeric characters in a row, it is possible to write, for example, \"\\w\\w\\w\". Because this is such a common need, there is a specific syntax to match repetitions – curly braces with a number:\n"
   ]
  },
  {
   "cell_type": "code",
   "execution_count": 51,
   "id": "4be7f205a1f02628",
   "metadata": {
    "ExecuteTime": {
     "end_time": "2024-09-28T01:30:36.636058Z",
     "start_time": "2024-09-28T01:30:36.630800Z"
    }
   },
   "outputs": [
    {
     "data": {
      "text/plain": [
       "['The', 'qui', 'bro', 'fox']"
      ]
     },
     "execution_count": 51,
     "metadata": {},
     "output_type": "execute_result"
    }
   ],
   "source": [
    "regex = re.compile(r'\\w{3}')\n",
    "regex.findall('The quick brown fox')"
   ]
  },
  {
   "cell_type": "markdown",
   "id": "a991be4f91c9d6b6",
   "metadata": {},
   "source": [
    "There are also markers available to match any number of repetitions – for example, the \"+\" character will match one or more repetitions of what precedes it:"
   ]
  },
  {
   "cell_type": "code",
   "execution_count": 52,
   "id": "b662d00496a4e211",
   "metadata": {
    "ExecuteTime": {
     "end_time": "2024-09-28T01:30:37.083576Z",
     "start_time": "2024-09-28T01:30:37.077943Z"
    }
   },
   "outputs": [
    {
     "data": {
      "text/plain": [
       "['The', 'quick', 'brown', 'fox']"
      ]
     },
     "execution_count": 52,
     "metadata": {},
     "output_type": "execute_result"
    }
   ],
   "source": [
    "regex = re.compile(r'\\w+')\n",
    "regex.findall('The quick brown fox')"
   ]
  },
  {
   "cell_type": "markdown",
   "id": "eb58311384fb3b68",
   "metadata": {},
   "source": [
    "The following is a table of the repetition markers available for use in regular expressions:\n",
    "\n",
    "|**Character** |  **Description** | **Example**\n",
    "|:-------------|:-----------------|:-----------------------------------------------------------------------------\n",
    "|?           | Match zero or one repetitions of preceding\t    | \"ab?\" matches \"a\" or \"ab\"\n",
    "|*\t        | Match zero or more repetitions of preceding\t    | \"ab*\" matches \"a\", \"ab\", \"abb\", \"abbb\"...\n",
    "|+\t        | Match one or more repetitions of preceding\t    | \"ab+\" matches \"ab\", \"abb\", \"abbb\"... but not \"a\"\n",
    "|{n}\t        | Match n repetitions of preceding\t            | \"ab{2}\" matches \"abb\"\n",
    "|{m,n}       | Match between m and n repetitions of preceding\t| \"ab{2,3}\" matches \"abb\" or \"abbb\"\n"
   ]
  },
  {
   "cell_type": "markdown",
   "id": "af3037b84ef23093",
   "metadata": {},
   "source": [
    "#### Parentheses indicate groups to extract\n",
    "\n",
    "For compound regular expressions like our email matcher, we often want to extract their components rather than the full match. This can be done using parentheses to group the results:"
   ]
  },
  {
   "cell_type": "code",
   "execution_count": 53,
   "id": "2bf2bf10b7b16e27",
   "metadata": {
    "ExecuteTime": {
     "end_time": "2024-09-28T01:30:37.785970Z",
     "start_time": "2024-09-28T01:30:37.782059Z"
    }
   },
   "outputs": [],
   "source": [
    "email3 = re.compile(r'([\\w.]+)@(\\w+)\\.([a-z]{3})')"
   ]
  },
  {
   "cell_type": "code",
   "execution_count": 54,
   "id": "776f18e5add698e3",
   "metadata": {
    "ExecuteTime": {
     "end_time": "2024-09-28T01:30:38.046025Z",
     "start_time": "2024-09-28T01:30:38.039711Z"
    }
   },
   "outputs": [
    {
     "data": {
      "text/plain": [
       "[('guido', 'python', 'org'), ('guido', 'google', 'com')]"
      ]
     },
     "execution_count": 54,
     "metadata": {},
     "output_type": "execute_result"
    }
   ],
   "source": [
    "text = \"To email Guido, try guido@python.org or the older address guido@google.com.\"\n",
    "email3.findall(text)"
   ]
  },
  {
   "cell_type": "markdown",
   "id": "3e4d2bf5c72eab8d",
   "metadata": {},
   "source": [
    "We can go a bit further and name the extracted components using the \"(?P<name> )\" syntax, in which case the groups can be extracted as a Python dictionary:"
   ]
  },
  {
   "cell_type": "code",
   "execution_count": 55,
   "id": "4037c786e174628f",
   "metadata": {
    "ExecuteTime": {
     "end_time": "2024-09-28T01:30:38.484232Z",
     "start_time": "2024-09-28T01:30:38.477106Z"
    }
   },
   "outputs": [
    {
     "data": {
      "text/plain": [
       "{'user': 'guido', 'domain': 'python', 'suffix': 'org'}"
      ]
     },
     "execution_count": 55,
     "metadata": {},
     "output_type": "execute_result"
    }
   ],
   "source": [
    "email4 = re.compile(r'(?P<user>[\\w.]+)@(?P<domain>\\w+)\\.(?P<suffix>[a-z]{3})')\n",
    "match = email4.match('guido@python.org')\n",
    "match.groupdict()"
   ]
  },
  {
   "cell_type": "code",
   "execution_count": null,
   "id": "b8edb69fffab1037",
   "metadata": {
    "ExecuteTime": {
     "end_time": "2024-09-28T01:30:38.766339Z",
     "start_time": "2024-09-28T01:30:38.762694Z"
    }
   },
   "outputs": [],
   "source": []
  },
  {
   "cell_type": "code",
   "execution_count": null,
   "id": "1eb7de53b4b263f6",
   "metadata": {},
   "outputs": [],
   "source": []
  }
 ],
 "metadata": {
  "kernelspec": {
   "display_name": "Python 3 (ipykernel)",
   "language": "python",
   "name": "python3"
  },
  "language_info": {
   "codemirror_mode": {
    "name": "ipython",
    "version": 3
   },
   "file_extension": ".py",
   "mimetype": "text/x-python",
   "name": "python",
   "nbconvert_exporter": "python",
   "pygments_lexer": "ipython3",
   "version": "3.8.6"
  }
 },
 "nbformat": 4,
 "nbformat_minor": 5
}
