{
 "cells": [
  {
   "cell_type": "code",
   "execution_count": null,
   "id": "initial_id",
   "metadata": {
    "collapsed": true
   },
   "outputs": [],
   "source": [
    "%reload_ext autoreload\n",
    "%autoreload 2"
   ]
  },
  {
   "metadata": {},
   "cell_type": "code",
   "outputs": [],
   "execution_count": null,
   "source": "from IPython.display import Image",
   "id": "58549a18589a5c94"
  },
  {
   "metadata": {},
   "cell_type": "markdown",
   "source": [
    "# Logistic Regression and Overfitting / Underfitting\n",
    "\n",
    "Source: \n",
    "\n",
    "- Maha K, **Overfitting and Underfitting: Simple Explanations and Python Examples,** https://medium.com/@maheshhkanagavell/overfitting-and-underfitting-simple-explanations-and-python-examples-74424b1076c3\n",
    "- Ivan Zakharchuk, **Generalization, Overfitting, and Under-fitting in Supervised Learning,** https://ivanzakharchuk.medium.com/generalization-overfitting-and-underfitting-in-supervised-learning-a21f02ebf3df"
   ],
   "id": "cc70135fdbbffc41"
  },
  {
   "metadata": {
    "ExecuteTime": {
     "end_time": "2024-11-24T22:33:30.394942Z",
     "start_time": "2024-11-24T22:33:29.961688Z"
    }
   },
   "cell_type": "code",
   "source": "Image(filename=\"figures/regularization_5.png\", width=800)",
   "id": "3d0a3031a4a01c8b",
   "outputs": [
    {
     "ename": "NameError",
     "evalue": "name 'Image' is not defined",
     "output_type": "error",
     "traceback": [
      "\u001B[0;31m---------------------------------------------------------------------------\u001B[0m",
      "\u001B[0;31mNameError\u001B[0m                                 Traceback (most recent call last)",
      "Cell \u001B[0;32mIn[1], line 1\u001B[0m\n\u001B[0;32m----> 1\u001B[0m \u001B[43mImage\u001B[49m(filename\u001B[38;5;241m=\u001B[39m\u001B[38;5;124m\"\u001B[39m\u001B[38;5;124mfigures/regularization_5.png\u001B[39m\u001B[38;5;124m\"\u001B[39m, width\u001B[38;5;241m=\u001B[39m\u001B[38;5;241m800\u001B[39m)\n",
      "\u001B[0;31mNameError\u001B[0m: name 'Image' is not defined"
     ]
    }
   ],
   "execution_count": 1
  },
  {
   "metadata": {},
   "cell_type": "markdown",
   "source": [
    "- **Underfitting** occurs when the model is too simple and cannot capture the underlying patterns in the data, even with sufficient training data. \n",
    "\n",
    "- This leads to poor performance on both the training and testing datasets.\n",
    "\n",
    "- **Overfitting** occurs when the model is too complex and starts to fit to noise or random fluctuations in the training data. \n",
    "\n",
    "- This can result in very high accuracy on the training data but poor performance on the testing data, indicating that the model has failed to generalize well to new, unseen data."
   ],
   "id": "a1a1e6a60f7c1508"
  },
  {
   "metadata": {},
   "cell_type": "markdown",
   "source": [
    "#### Example:\n",
    "\n",
    "**Overfitting:** \n",
    "- If the training set MSE is much lower than the test set MSE, it indicates that the model has overfit the training data, i.e., it has learned the noise in the training data instead of the underlying pattern. \n",
    "- This leads to high variance and low bias.\n",
    "\n",
    "**Underfitting**: \n",
    "- On the other hand, if the training set MSE and test set MSE are both high, it indicates that the model has underfit the data. \n",
    "- The model is too simple to capture the underlying pattern. \n",
    "- This leads to high bias and low variance."
   ],
   "id": "dc764eeaec1ad3b5"
  },
  {
   "metadata": {},
   "cell_type": "code",
   "outputs": [],
   "execution_count": null,
   "source": [
    "import numpy as np\n",
    "from sklearn.linear_model import LinearRegression\n",
    "from sklearn.metrics import mean_squared_error\n",
    "from sklearn.model_selection import train_test_split\n",
    "\n",
    "# Generate some random data\n",
    "np.random.seed(42)\n",
    "X = np.random.rand(100, 1)\n",
    "y = 2 + 3 * X + np.random.randn(100, 1)\n",
    "\n",
    "# Split the data into training and test sets\n",
    "X_train, X_test, y_train, y_test = train_test_split(X, y, test_size=0.2, random_state=42)\n",
    "\n",
    "# Train a linear regression model on the training set\n",
    "model = LinearRegression()\n",
    "model.fit(X_train, y_train)\n",
    "\n",
    "# Predict on the training set and calculate the mean squared error\n",
    "y_train_pred = model.predict(X_train)\n",
    "mse_train = mean_squared_error(y_train, y_train_pred)\n",
    "\n",
    "# Predict on the test set and calculate the mean squared error\n",
    "y_test_pred = model.predict(X_test)\n",
    "mse_test = mean_squared_error(y_test, y_test_pred)\n",
    "\n",
    "print(f\"Training set MSE: {mse_train:.2f}\")\n",
    "print(f\"Test set MSE: {mse_test:.2f}\")"
   ],
   "id": "44e51e9c638aa98d"
  },
  {
   "metadata": {},
   "cell_type": "code",
   "outputs": [],
   "execution_count": null,
   "source": "",
   "id": "6213d6f16517241f"
  },
  {
   "metadata": {},
   "cell_type": "code",
   "outputs": [],
   "execution_count": null,
   "source": "",
   "id": "bd83c60c2c01da92"
  },
  {
   "metadata": {},
   "cell_type": "code",
   "outputs": [],
   "execution_count": null,
   "source": "",
   "id": "f3cde92d57959427"
  },
  {
   "metadata": {},
   "cell_type": "code",
   "outputs": [],
   "execution_count": null,
   "source": "",
   "id": "7050712ee5f7876b"
  },
  {
   "metadata": {},
   "cell_type": "code",
   "outputs": [],
   "execution_count": null,
   "source": "",
   "id": "401d1dda64701e26"
  },
  {
   "metadata": {},
   "cell_type": "code",
   "outputs": [],
   "execution_count": null,
   "source": "",
   "id": "fdaae965fad94714"
  },
  {
   "metadata": {},
   "cell_type": "code",
   "outputs": [],
   "execution_count": null,
   "source": "",
   "id": "5774abdbc22b3cff"
  }
 ],
 "metadata": {
  "kernelspec": {
   "display_name": "Python 3",
   "language": "python",
   "name": "python3"
  },
  "language_info": {
   "codemirror_mode": {
    "name": "ipython",
    "version": 2
   },
   "file_extension": ".py",
   "mimetype": "text/x-python",
   "name": "python",
   "nbconvert_exporter": "python",
   "pygments_lexer": "ipython2",
   "version": "2.7.6"
  }
 },
 "nbformat": 4,
 "nbformat_minor": 5
}
