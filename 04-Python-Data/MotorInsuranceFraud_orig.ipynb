{
 "cells": [
  {
   "cell_type": "markdown",
   "metadata": {},
   "source": [
    "<p style=\"color: red; font-size: 16pt; font-weight: bold; text-align:center;\">Change the name of this notebook before you edit!</p>"
   ]
  },
  {
   "cell_type": "markdown",
   "metadata": {},
   "source": [
    "# Motor Insurance Fraud data from textbook"
   ]
  },
  {
   "cell_type": "markdown",
   "metadata": {},
   "source": [
    "# Setup"
   ]
  },
  {
   "cell_type": "code",
   "execution_count": 3,
   "metadata": {},
   "outputs": [],
   "source": [
    "%reload_ext autoreload\n",
    "%autoreload 2\n",
    "\n",
    "import sys\n",
    "import os\n",
    "import math\n",
    "import numpy as np\n",
    "import pandas as pd\n",
    "import matplotlib.pyplot as plt"
   ]
  },
  {
   "cell_type": "markdown",
   "metadata": {},
   "source": [
    "# Load Data"
   ]
  },
  {
   "cell_type": "code",
   "execution_count": 4,
   "metadata": {},
   "outputs": [
    {
     "name": "stdout",
     "output_type": "stream",
     "text": [
      "/data/kelleher/MotorInsuranceFraudClaimABTFull.csv\n",
      "/data/kelleher/MotorInsuranceFraudClaimABT_clean.csv\n",
      "/data/kelleher/MotorInsuranceFraudClaim_ClaimAmount.csv\n",
      "/data/kelleher/MotorInsuranceFraudClaim_ClaimAmountReceived.csv\n",
      "/data/kelleher/MotorInsuranceFraudClaim_Claimed_vs_Received.csv\n",
      "/data/kelleher/MotorInsuranceFraudClaim_IncomeofPolicyHolder.csv\n",
      "/data/kelleher/MotorInsuranceFraudClaim_InsuranceType.csv\n",
      "/data/kelleher/MotorInsuranceFraudClaim_MaritalStatus.csv\n",
      "/data/kelleher/MotorInsuranceFraudClaim_NumClaims.csv\n",
      "/data/kelleher/MotorInsuranceFraudClaim_NumSoftTissue.csv\n",
      "/data/kelleher/MotorInsuranceFraudClaim_PercentSoftTissue.csv\n",
      "/data/kelleher/MotorInsuranceFraudClaim_TotalClaimed.csv\n",
      "/data/kelleher/MotorInsuranceFraudClaim_clean.csv\n"
     ]
    }
   ],
   "source": [
    "! ls /data/kelleher/*"
   ]
  },
  {
   "cell_type": "code",
   "execution_count": 12,
   "metadata": {},
   "outputs": [
    {
     "name": "stdout",
     "output_type": "stream",
     "text": [
      "`ID`: int64\n",
      "`Insurance Type `: object\n",
      "`Income of Policy Holder`: int64\n",
      "`Marital Status`: object\n",
      "`Num Claimants`: int64\n",
      "`Injury Type`: object\n",
      "`Overnight Hospital Stay`: object\n",
      "`Claim Amount`: int64\n",
      "`Total Claimed`: int64\n",
      "`Num Claims`: int64\n",
      "`Num Soft Tissue`: float64\n",
      "`% Soft Tissue`: float64\n",
      "`Claim Amount Received`: int64\n",
      "`Fraud Flag`: int64\n"
     ]
    }
   ],
   "source": [
    "_messy_df = pd.read_csv('/data/kelleher/MotorInsuranceFraudClaimABTFull.csv')\n",
    "for f,t in _messy_df.dtypes.items():\n",
    "    print(f\"`{f}`: {t}\")"
   ]
  },
  {
   "cell_type": "markdown",
   "metadata": {},
   "source": [
    "We don't like spaces and special characters in column names. One column has a space character at the end...that's easy to overlook."
   ]
  },
  {
   "cell_type": "code",
   "execution_count": 14,
   "metadata": {},
   "outputs": [
    {
     "name": "stdout",
     "output_type": "stream",
     "text": [
      "Number of records: 500\n"
     ]
    },
    {
     "data": {
      "text/plain": [
       "ID                         int64\n",
       "InsuranceType             object\n",
       "IncomeofPolicyHolder       int64\n",
       "MaritalStatus             object\n",
       "NumClaimants               int64\n",
       "InjuryType                object\n",
       "OvernightHospitalStay     object\n",
       "ClaimAmount                int64\n",
       "TotalClaimed               int64\n",
       "NumClaims                  int64\n",
       "NumSoftTissue            float64\n",
       "PercentSoftTissue        float64\n",
       "ClaimAmountReceived        int64\n",
       "FraudFlag                  int64\n",
       "dtype: object"
      ]
     },
     "metadata": {},
     "output_type": "display_data"
    }
   ],
   "source": [
    "claim_df = pd.read_csv('/data/kelleher/MotorInsuranceFraudClaimABT_clean.csv')\n",
    "print(f\"Number of records: {claim_df.shape[0]:,}\")\n",
    "display(claim_df.dtypes)"
   ]
  },
  {
   "cell_type": "code",
   "execution_count": 16,
   "metadata": {},
   "outputs": [
    {
     "data": {
      "text/html": [
       "<div>\n",
       "<style scoped>\n",
       "    .dataframe tbody tr th:only-of-type {\n",
       "        vertical-align: middle;\n",
       "    }\n",
       "\n",
       "    .dataframe tbody tr th {\n",
       "        vertical-align: top;\n",
       "    }\n",
       "\n",
       "    .dataframe thead th {\n",
       "        text-align: right;\n",
       "    }\n",
       "</style>\n",
       "<table border=\"1\" class=\"dataframe\">\n",
       "  <thead>\n",
       "    <tr style=\"text-align: right;\">\n",
       "      <th></th>\n",
       "      <th>count</th>\n",
       "      <th>mean</th>\n",
       "      <th>std</th>\n",
       "      <th>min</th>\n",
       "      <th>25%</th>\n",
       "      <th>50%</th>\n",
       "      <th>75%</th>\n",
       "      <th>max</th>\n",
       "    </tr>\n",
       "  </thead>\n",
       "  <tbody>\n",
       "    <tr>\n",
       "      <th>ID</th>\n",
       "      <td>500.0</td>\n",
       "      <td>250.500000</td>\n",
       "      <td>144.481833</td>\n",
       "      <td>1.0</td>\n",
       "      <td>125.75</td>\n",
       "      <td>250.5</td>\n",
       "      <td>375.25</td>\n",
       "      <td>500.0</td>\n",
       "    </tr>\n",
       "    <tr>\n",
       "      <th>IncomeofPolicyHolder</th>\n",
       "      <td>500.0</td>\n",
       "      <td>13739.994000</td>\n",
       "      <td>20081.535489</td>\n",
       "      <td>0.0</td>\n",
       "      <td>0.00</td>\n",
       "      <td>0.0</td>\n",
       "      <td>33918.50</td>\n",
       "      <td>71284.0</td>\n",
       "    </tr>\n",
       "    <tr>\n",
       "      <th>NumClaimants</th>\n",
       "      <td>500.0</td>\n",
       "      <td>1.908000</td>\n",
       "      <td>1.012713</td>\n",
       "      <td>1.0</td>\n",
       "      <td>1.00</td>\n",
       "      <td>2.0</td>\n",
       "      <td>3.00</td>\n",
       "      <td>4.0</td>\n",
       "    </tr>\n",
       "    <tr>\n",
       "      <th>ClaimAmount</th>\n",
       "      <td>500.0</td>\n",
       "      <td>16373.204000</td>\n",
       "      <td>29426.276960</td>\n",
       "      <td>-99999.0</td>\n",
       "      <td>3322.25</td>\n",
       "      <td>5663.0</td>\n",
       "      <td>12245.50</td>\n",
       "      <td>270200.0</td>\n",
       "    </tr>\n",
       "    <tr>\n",
       "      <th>TotalClaimed</th>\n",
       "      <td>500.0</td>\n",
       "      <td>9597.186000</td>\n",
       "      <td>35655.686220</td>\n",
       "      <td>0.0</td>\n",
       "      <td>0.00</td>\n",
       "      <td>0.0</td>\n",
       "      <td>11282.75</td>\n",
       "      <td>729792.0</td>\n",
       "    </tr>\n",
       "    <tr>\n",
       "      <th>NumClaims</th>\n",
       "      <td>500.0</td>\n",
       "      <td>0.798000</td>\n",
       "      <td>2.666724</td>\n",
       "      <td>0.0</td>\n",
       "      <td>0.00</td>\n",
       "      <td>0.0</td>\n",
       "      <td>1.00</td>\n",
       "      <td>56.0</td>\n",
       "    </tr>\n",
       "    <tr>\n",
       "      <th>NumSoftTissue</th>\n",
       "      <td>490.0</td>\n",
       "      <td>0.234694</td>\n",
       "      <td>0.589635</td>\n",
       "      <td>0.0</td>\n",
       "      <td>0.00</td>\n",
       "      <td>0.0</td>\n",
       "      <td>0.00</td>\n",
       "      <td>5.0</td>\n",
       "    </tr>\n",
       "    <tr>\n",
       "      <th>PercentSoftTissue</th>\n",
       "      <td>500.0</td>\n",
       "      <td>0.172012</td>\n",
       "      <td>0.428015</td>\n",
       "      <td>0.0</td>\n",
       "      <td>0.00</td>\n",
       "      <td>0.0</td>\n",
       "      <td>0.00</td>\n",
       "      <td>2.0</td>\n",
       "    </tr>\n",
       "    <tr>\n",
       "      <th>ClaimAmountReceived</th>\n",
       "      <td>500.0</td>\n",
       "      <td>13051.942000</td>\n",
       "      <td>30547.194864</td>\n",
       "      <td>0.0</td>\n",
       "      <td>0.00</td>\n",
       "      <td>3253.5</td>\n",
       "      <td>8191.75</td>\n",
       "      <td>295303.0</td>\n",
       "    </tr>\n",
       "    <tr>\n",
       "      <th>FraudFlag</th>\n",
       "      <td>500.0</td>\n",
       "      <td>0.336000</td>\n",
       "      <td>0.472812</td>\n",
       "      <td>0.0</td>\n",
       "      <td>0.00</td>\n",
       "      <td>0.0</td>\n",
       "      <td>1.00</td>\n",
       "      <td>1.0</td>\n",
       "    </tr>\n",
       "  </tbody>\n",
       "</table>\n",
       "</div>"
      ],
      "text/plain": [
       "                      count          mean           std      min      25%  \\\n",
       "ID                    500.0    250.500000    144.481833      1.0   125.75   \n",
       "IncomeofPolicyHolder  500.0  13739.994000  20081.535489      0.0     0.00   \n",
       "NumClaimants          500.0      1.908000      1.012713      1.0     1.00   \n",
       "ClaimAmount           500.0  16373.204000  29426.276960 -99999.0  3322.25   \n",
       "TotalClaimed          500.0   9597.186000  35655.686220      0.0     0.00   \n",
       "NumClaims             500.0      0.798000      2.666724      0.0     0.00   \n",
       "NumSoftTissue         490.0      0.234694      0.589635      0.0     0.00   \n",
       "PercentSoftTissue     500.0      0.172012      0.428015      0.0     0.00   \n",
       "ClaimAmountReceived   500.0  13051.942000  30547.194864      0.0     0.00   \n",
       "FraudFlag             500.0      0.336000      0.472812      0.0     0.00   \n",
       "\n",
       "                         50%       75%       max  \n",
       "ID                     250.5    375.25     500.0  \n",
       "IncomeofPolicyHolder     0.0  33918.50   71284.0  \n",
       "NumClaimants             2.0      3.00       4.0  \n",
       "ClaimAmount           5663.0  12245.50  270200.0  \n",
       "TotalClaimed             0.0  11282.75  729792.0  \n",
       "NumClaims                0.0      1.00      56.0  \n",
       "NumSoftTissue            0.0      0.00       5.0  \n",
       "PercentSoftTissue        0.0      0.00       2.0  \n",
       "ClaimAmountReceived   3253.5   8191.75  295303.0  \n",
       "FraudFlag                0.0      1.00       1.0  "
      ]
     },
     "execution_count": 16,
     "metadata": {},
     "output_type": "execute_result"
    }
   ],
   "source": [
    "claim_df.describe().T"
   ]
  },
  {
   "cell_type": "code",
   "execution_count": 19,
   "metadata": {},
   "outputs": [
    {
     "data": {
      "text/plain": [
       "array([[  1625,   3250,      2,      0],\n",
       "       [ 15028,  60112,      1,  15028],\n",
       "       [-99999,      0,      0,    572],\n",
       "       ...,\n",
       "       [ 32469,      0,      0,  16763],\n",
       "       [179448,      0,      0, 179448],\n",
       "       [  8259,      0,      0,      0]])"
      ]
     },
     "execution_count": 19,
     "metadata": {},
     "output_type": "execute_result"
    }
   ],
   "source": [
    "claim_df[['ClaimAmount', 'TotalClaimed', 'NumClaims', 'ClaimAmountReceived']].to_numpy()"
   ]
  }
 ],
 "metadata": {
  "kernelspec": {
   "display_name": "Python 3",
   "language": "python",
   "name": "python3"
  },
  "language_info": {
   "codemirror_mode": {
    "name": "ipython",
    "version": 3
   },
   "file_extension": ".py",
   "mimetype": "text/x-python",
   "name": "python",
   "nbconvert_exporter": "python",
   "pygments_lexer": "ipython3",
   "version": "3.8.6"
  }
 },
 "nbformat": 4,
 "nbformat_minor": 4
}
